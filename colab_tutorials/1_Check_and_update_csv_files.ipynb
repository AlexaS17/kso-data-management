{
 "cells": [
  {
   "cell_type": "markdown",
   "id": "95aea466",
   "metadata": {
    "id": "95aea466"
   },
   "source": [
    "<img align=\"left\" src=\"https://panoptes-uploads.zooniverse.org/project_avatar/86c23ca7-bbaa-4e84-8d8a-876819551431.png\" type=\"image/png\" height=100 width=100>\n",
    "</img>\n",
    "\n",
    "\n",
    "<h1 align=\"right\">Colab KSO Tutorials #1: Check and update csv files</h1>\n",
    "<h3 align=\"right\">Written by @jannesgg and @vykanton</h3>\n",
    "<h5 align=\"right\">Last updated: May 23rd, 2022</h5>"
   ]
  },
  {
   "cell_type": "markdown",
   "id": "6f0fc779",
   "metadata": {
    "id": "6f0fc779"
   },
   "source": [
    "# Set up and requirements"
   ]
  },
  {
   "cell_type": "markdown",
   "id": "3c49080c",
   "metadata": {},
   "source": [
    "## Install kso_data_management and its requirements"
   ]
  },
  {
   "cell_type": "code",
   "execution_count": null,
   "id": "e6a1555e",
   "metadata": {},
   "outputs": [],
   "source": [
    "# Clone koster_data_management repo\n",
    "!git clone --recurse-submodules -b dev https://github.com/ocean-data-factory-sweden/koster_data_management.git\n",
    "!pip install -r koster_data_management/requirements.txt\n",
    "\n",
    "# Restart the session to load the latest packages\n",
    "exit()"
   ]
  },
  {
   "cell_type": "markdown",
   "id": "6b9b11d5",
   "metadata": {
    "id": "6b9b11d5"
   },
   "source": [
    "### Import Python packages"
   ]
  },
  {
   "cell_type": "code",
   "execution_count": null,
   "id": "46ca201f",
   "metadata": {
    "id": "46ca201f"
   },
   "outputs": [],
   "source": [
    "%load_ext autoreload\n",
    "%autoreload 2\n",
    "\n",
    "# Set the directory of the libraries\n",
    "import sys\n",
    "sys.path.append('..')\n",
    "\n",
    "# Set to display dataframes as interactive tables\n",
    "from itables import init_notebook_mode\n",
    "init_notebook_mode(all_interactive=True)\n",
    "\n",
    "# Import required modules\n",
    "import kso_utils.tutorials_utils as t_utils\n",
    "import kso_utils.project_utils as p_utils\n",
    "import kso_utils.server_utils as serv_utils\n",
    "import kso_utils.t1_utils as t1\n",
    "import kso_utils.t2_utils as t2\n",
    "\n",
    "print(\"Packages loaded successfully\")"
   ]
  },
  {
   "cell_type": "markdown",
   "id": "fdc7152a",
   "metadata": {
    "id": "fdc7152a"
   },
   "source": [
    "### Choose your project"
   ]
  },
  {
   "cell_type": "code",
   "execution_count": null,
   "id": "1c1aabda",
   "metadata": {
    "colab": {
     "base_uri": "https://localhost:8080/",
     "height": 49,
     "referenced_widgets": [
      "9b94f9de211c4d39b2af6d312e509273",
      "4d0831017ad340018eb13acbfc095226",
      "ff21f356af8546cf908f719af08e5b1c"
     ]
    },
    "id": "1c1aabda",
    "outputId": "6090b6fb-933e-4d2f-d326-6b5b92343359"
   },
   "outputs": [],
   "source": [
    "project_name = t_utils.choose_project()"
   ]
  },
  {
   "cell_type": "code",
   "execution_count": null,
   "id": "41994eb6",
   "metadata": {
    "colab": {
     "base_uri": "https://localhost:8080/"
    },
    "id": "41994eb6",
    "outputId": "47fbaa9d-834c-47be-a26c-911de91f89b6"
   },
   "outputs": [],
   "source": [
    "project = p_utils.find_project(project_name=project_name.value)\n",
    "db_info_dict = t_utils.initiate_db(project)"
   ]
  },
  {
   "cell_type": "code",
   "execution_count": null,
   "id": "9u5dZw8sc4sa",
   "metadata": {
    "id": "9u5dZw8sc4sa"
   },
   "outputs": [],
   "source": [
    "!pip install ipysheet==0.4.4"
   ]
  },
  {
   "cell_type": "markdown",
   "id": "52f976b8",
   "metadata": {
    "id": "52f976b8"
   },
   "source": [
    "### Check the sites_csv"
   ]
  },
  {
   "cell_type": "code",
   "execution_count": null,
   "id": "9b01ccf5",
   "metadata": {
    "colab": {
     "base_uri": "https://localhost:8080/",
     "height": 295,
     "referenced_widgets": [
      "220274640af941e8a680fec11afa1477",
      "decf55ce1c974c7caacfcd5d390a8d40",
      "603657e4963b44f7a1f24cf66051ca5c",
      "369035e189cf46cdbef3154498d3922b",
      "f7e40cc0c2434df5b504326e9df0331d",
      "62d207000984496e8cc0448f2907a501",
      "ff1700b7ad99424b96d9a519282dbd3b",
      "0084f55e52824865b446586600a91afc"
     ]
    },
    "id": "9b01ccf5",
    "outputId": "201dca70-fabb-4b18-b659-c5a8990a9307"
   },
   "outputs": [],
   "source": [
    "sites_df_sheet = t1.open_sites_csv(db_initial_info)\n",
    "sites_df_sheet"
   ]
  },
  {
   "cell_type": "code",
   "execution_count": null,
   "id": "cf47c110",
   "metadata": {
    "colab": {
     "base_uri": "https://localhost:8080/"
    },
    "id": "cf47c110",
    "outputId": "fdb27fe6-d9c0-4fab-bcd2-5d8f76f6652a"
   },
   "outputs": [],
   "source": [
    "sites_df = t1.check_sites_database(db_initial_info, sites_df_sheet, project)"
   ]
  },
  {
   "cell_type": "markdown",
   "id": "4b134a5c",
   "metadata": {
    "id": "4b134a5c"
   },
   "source": [
    "### Check the movies_csv"
   ]
  },
  {
   "cell_type": "code",
   "execution_count": null,
   "id": "es2UIJ_LlMXv",
   "metadata": {
    "colab": {
     "base_uri": "https://localhost:8080/",
     "height": 180,
     "referenced_widgets": [
      "a3c58f7809484ec6b7e620df6a0872e3",
      "6ba5c970075640f9b1f100c82fd3e1d8",
      "64199e2b3312490eb887cdf8eac89265",
      "b5654bb922fa4f55a16c73ee63482634",
      "4ddf07f1a06541f4acfa772afee048ce",
      "a982709e6c72481f8ca351936b7825a5",
      "d24223f3ec974ff7ab302effffbdd58f",
      "01add854884b415dba005b11532f050d",
      "5908480d1411494698eb99019aaccad9",
      "641d285f1a92479a81f131b2e2789494",
      "b0e4473b69e340c6a2fd6fd49a2d516c"
     ]
    },
    "id": "es2UIJ_LlMXv",
    "outputId": "c56de9ed-9081-4a14-b61a-6fb395ca75fd"
   },
   "outputs": [],
   "source": [
    "movies_df_sheet = t1.open_movies_csv(db_initial_info)\n",
    "movies_df_sheet"
   ]
  },
  {
   "cell_type": "code",
   "execution_count": null,
   "id": "b78b2738",
   "metadata": {
    "colab": {
     "base_uri": "https://localhost:8080/",
     "height": 165
    },
    "id": "b78b2738",
    "outputId": "da0ff763-e882-4272-ebcd-d4c3524df4c0"
   },
   "outputs": [],
   "source": [
    "movies_df = t1.check_movies_csv(db_info_dict, movies_df_sheet, project)"
   ]
  },
  {
   "cell_type": "code",
   "execution_count": null,
   "id": "5fc74ec0",
   "metadata": {},
   "outputs": [],
   "source": [
    "#END"
   ]
  }
 ],
 "metadata": {
  "colab": {
   "name": "1. Check and update csv filescolab.ipynb",
   "provenance": []
  },
  "kernelspec": {
   "display_name": "Python 3 (ipykernel)",
   "language": "python",
   "name": "python3"
  },
  "language_info": {
   "codemirror_mode": {
    "name": "ipython",
    "version": 3
   },
   "file_extension": ".py",
   "mimetype": "text/x-python",
   "name": "python",
   "nbconvert_exporter": "python",
   "pygments_lexer": "ipython3",
   "version": "3.7.13"
  },
  "widgets": {
   "application/vnd.jupyter.widget-state+json": {
    "0084f55e52824865b446586600a91afc": {
     "model_module": "@jupyter-widgets/base",
     "model_module_version": "1.2.0",
     "model_name": "LayoutModel",
     "state": {
      "_model_module": "@jupyter-widgets/base",
      "_model_module_version": "1.2.0",
      "_model_name": "LayoutModel",
      "_view_count": null,
      "_view_module": "@jupyter-widgets/base",
      "_view_module_version": "1.2.0",
      "_view_name": "LayoutView",
      "align_content": null,
      "align_items": null,
      "align_self": null,
      "border": null,
      "bottom": null,
      "display": null,
      "flex": null,
      "flex_flow": null,
      "grid_area": null,
      "grid_auto_columns": null,
      "grid_auto_flow": null,
      "grid_auto_rows": null,
      "grid_column": null,
      "grid_gap": null,
      "grid_row": null,
      "grid_template_areas": null,
      "grid_template_columns": null,
      "grid_template_rows": null,
      "height": "auto",
      "justify_content": null,
      "justify_items": null,
      "left": null,
      "margin": null,
      "max_height": null,
      "max_width": null,
      "min_height": null,
      "min_width": null,
      "object_fit": null,
      "object_position": null,
      "order": null,
      "overflow": null,
      "overflow_x": null,
      "overflow_y": null,
      "padding": null,
      "right": null,
      "top": null,
      "visibility": null,
      "width": "auto"
     }
    },
    "01add854884b415dba005b11532f050d": {
     "model_module": "ipysheet",
     "model_module_version": "~0.4.4",
     "model_name": "CellRangeModel",
     "state": {
      "_model_module": "ipysheet",
      "_model_module_version": "~0.4.4",
      "_model_name": "CellRangeModel",
      "_view_count": null,
      "_view_module": null,
      "_view_module_version": "",
      "_view_name": null,
      "choice": null,
      "column_end": 6,
      "column_start": 6,
      "date_format": "YYYY/MM/DD",
      "name": null,
      "numeric_format": "0.000",
      "read_only": false,
      "renderer": null,
      "row_end": 4,
      "row_start": 0,
      "squeeze_column": true,
      "squeeze_row": false,
      "style": {},
      "time_format": "h:mm:ss a",
      "transpose": false,
      "type": "numeric",
      "value": [
       "nan",
       "nan",
       "nan",
       "nan",
       "nan"
      ]
     }
    },
    "220274640af941e8a680fec11afa1477": {
     "model_module": "ipysheet",
     "model_module_version": "~0.4.4",
     "model_name": "SheetModel",
     "state": {
      "_dom_classes": [],
      "_model_module": "ipysheet",
      "_model_module_version": "~0.4.4",
      "_model_name": "SheetModel",
      "_view_count": null,
      "_view_module": "ipysheet",
      "_view_module_version": "~0.4.4",
      "_view_name": "SheetView",
      "cells": [
       "IPY_MODEL_decf55ce1c974c7caacfcd5d390a8d40",
       "IPY_MODEL_603657e4963b44f7a1f24cf66051ca5c",
       "IPY_MODEL_369035e189cf46cdbef3154498d3922b",
       "IPY_MODEL_f7e40cc0c2434df5b504326e9df0331d",
       "IPY_MODEL_62d207000984496e8cc0448f2907a501",
       "IPY_MODEL_ff1700b7ad99424b96d9a519282dbd3b"
      ],
      "column_headers": [
       "site_id",
       "siteName",
       "decimalLatitude",
       "decimalLongitude",
       "geodeticDatum",
       "countryCode"
      ],
      "column_resizing": true,
      "column_width": null,
      "columns": 6,
      "layout": "IPY_MODEL_0084f55e52824865b446586600a91afc",
      "named_cells": {},
      "row_headers": [
       "0",
       "1",
       "2",
       "3",
       "4",
       "5",
       "6",
       "7",
       "8",
       "9"
      ],
      "row_resizing": true,
      "rows": 10,
      "search_token": "",
      "stretch_headers": "all"
     }
    },
    "369035e189cf46cdbef3154498d3922b": {
     "model_module": "ipysheet",
     "model_module_version": "~0.4.4",
     "model_name": "CellRangeModel",
     "state": {
      "_model_module": "ipysheet",
      "_model_module_version": "~0.4.4",
      "_model_name": "CellRangeModel",
      "_view_count": null,
      "_view_module": null,
      "_view_module_version": "",
      "_view_name": null,
      "choice": null,
      "column_end": 2,
      "column_start": 2,
      "date_format": "YYYY/MM/DD",
      "name": null,
      "numeric_format": "0.000",
      "read_only": false,
      "renderer": null,
      "row_end": 9,
      "row_start": 0,
      "squeeze_column": true,
      "squeeze_row": false,
      "style": {},
      "time_format": "h:mm:ss a",
      "transpose": false,
      "type": "numeric",
      "value": [
       56.636893,
       56.382284,
       57.555922,
       57.069408,
       58.463825,
       58.87661092,
       58.272533,
       59.330948,
       60.595599,
       60.900526
      ]
     }
    },
    "4d0831017ad340018eb13acbfc095226": {
     "model_module": "@jupyter-widgets/base",
     "model_module_version": "1.2.0",
     "model_name": "LayoutModel",
     "state": {
      "_model_module": "@jupyter-widgets/base",
      "_model_module_version": "1.2.0",
      "_model_name": "LayoutModel",
      "_view_count": null,
      "_view_module": "@jupyter-widgets/base",
      "_view_module_version": "1.2.0",
      "_view_name": "LayoutView",
      "align_content": null,
      "align_items": null,
      "align_self": null,
      "border": null,
      "bottom": null,
      "display": null,
      "flex": null,
      "flex_flow": null,
      "grid_area": null,
      "grid_auto_columns": null,
      "grid_auto_flow": null,
      "grid_auto_rows": null,
      "grid_column": null,
      "grid_gap": null,
      "grid_row": null,
      "grid_template_areas": null,
      "grid_template_columns": null,
      "grid_template_rows": null,
      "height": null,
      "justify_content": null,
      "justify_items": null,
      "left": null,
      "margin": null,
      "max_height": null,
      "max_width": null,
      "min_height": null,
      "min_width": null,
      "object_fit": null,
      "object_position": null,
      "order": null,
      "overflow": null,
      "overflow_x": null,
      "overflow_y": null,
      "padding": null,
      "right": null,
      "top": null,
      "visibility": null,
      "width": null
     }
    },
    "4ddf07f1a06541f4acfa772afee048ce": {
     "model_module": "ipysheet",
     "model_module_version": "~0.4.4",
     "model_name": "CellRangeModel",
     "state": {
      "_model_module": "ipysheet",
      "_model_module_version": "~0.4.4",
      "_model_name": "CellRangeModel",
      "_view_count": null,
      "_view_module": null,
      "_view_module_version": "",
      "_view_name": null,
      "choice": null,
      "column_end": 3,
      "column_start": 3,
      "date_format": "YYYY/MM/DD",
      "name": null,
      "numeric_format": null,
      "read_only": false,
      "renderer": null,
      "row_end": 4,
      "row_start": 0,
      "squeeze_column": true,
      "squeeze_row": false,
      "style": {},
      "time_format": "h:mm:ss a",
      "transpose": false,
      "type": "text",
      "value": [
       "13/08/2021",
       "13/08/2021",
       "13/08/2021",
       "18/08/2021",
       "18/08/2021"
      ]
     }
    },
    "5908480d1411494698eb99019aaccad9": {
     "model_module": "ipysheet",
     "model_module_version": "~0.4.4",
     "model_name": "CellRangeModel",
     "state": {
      "_model_module": "ipysheet",
      "_model_module_version": "~0.4.4",
      "_model_name": "CellRangeModel",
      "_view_count": null,
      "_view_module": null,
      "_view_module_version": "",
      "_view_name": null,
      "choice": null,
      "column_end": 7,
      "column_start": 7,
      "date_format": "YYYY/MM/DD",
      "name": null,
      "numeric_format": "0.000",
      "read_only": false,
      "renderer": null,
      "row_end": 4,
      "row_start": 0,
      "squeeze_column": true,
      "squeeze_row": false,
      "style": {},
      "time_format": "h:mm:ss a",
      "transpose": false,
      "type": "numeric",
      "value": [
       "nan",
       "nan",
       "nan",
       "nan",
       "nan"
      ]
     }
    },
    "603657e4963b44f7a1f24cf66051ca5c": {
     "model_module": "ipysheet",
     "model_module_version": "~0.4.4",
     "model_name": "CellRangeModel",
     "state": {
      "_model_module": "ipysheet",
      "_model_module_version": "~0.4.4",
      "_model_name": "CellRangeModel",
      "_view_count": null,
      "_view_module": null,
      "_view_module_version": "",
      "_view_name": null,
      "choice": null,
      "column_end": 1,
      "column_start": 1,
      "date_format": "YYYY/MM/DD",
      "name": null,
      "numeric_format": null,
      "read_only": false,
      "renderer": null,
      "row_end": 9,
      "row_start": 0,
      "squeeze_column": true,
      "squeeze_row": false,
      "style": {},
      "time_format": "h:mm:ss a",
      "transpose": false,
      "type": "text",
      "value": [
       "Site_1",
       "Site_2",
       "Site_3",
       "Site_4",
       "Site_5",
       "Site_6",
       "Site_7",
       "Site_8",
       "Site_9",
       "Site_10"
      ]
     }
    },
    "62d207000984496e8cc0448f2907a501": {
     "model_module": "ipysheet",
     "model_module_version": "~0.4.4",
     "model_name": "CellRangeModel",
     "state": {
      "_model_module": "ipysheet",
      "_model_module_version": "~0.4.4",
      "_model_name": "CellRangeModel",
      "_view_count": null,
      "_view_module": null,
      "_view_module_version": "",
      "_view_name": null,
      "choice": null,
      "column_end": 4,
      "column_start": 4,
      "date_format": "YYYY/MM/DD",
      "name": null,
      "numeric_format": null,
      "read_only": false,
      "renderer": null,
      "row_end": 9,
      "row_start": 0,
      "squeeze_column": true,
      "squeeze_row": false,
      "style": {},
      "time_format": "h:mm:ss a",
      "transpose": false,
      "type": "text",
      "value": [
       "EPSG:4326",
       "EPSG:4326",
       "EPSG:4326",
       "EPSG:4326",
       "EPSG:4326",
       "EPSG:4326",
       "EPSG:4326",
       "EPSG:4326",
       "EPSG:4326",
       "EPSG:4326"
      ]
     }
    },
    "64199e2b3312490eb887cdf8eac89265": {
     "model_module": "ipysheet",
     "model_module_version": "~0.4.4",
     "model_name": "CellRangeModel",
     "state": {
      "_model_module": "ipysheet",
      "_model_module_version": "~0.4.4",
      "_model_name": "CellRangeModel",
      "_view_count": null,
      "_view_module": null,
      "_view_module_version": "",
      "_view_name": null,
      "choice": null,
      "column_end": 1,
      "column_start": 1,
      "date_format": "YYYY/MM/DD",
      "name": null,
      "numeric_format": null,
      "read_only": false,
      "renderer": null,
      "row_end": 4,
      "row_start": 0,
      "squeeze_column": true,
      "squeeze_row": false,
      "style": {},
      "time_format": "h:mm:ss a",
      "transpose": false,
      "type": "text",
      "value": [
       "movie_1.mp4",
       "movie_2.mp4",
       "movie_3.mp4",
       "movie_4.mp4",
       "movie_5.mp4"
      ]
     }
    },
    "641d285f1a92479a81f131b2e2789494": {
     "model_module": "ipysheet",
     "model_module_version": "~0.4.4",
     "model_name": "CellRangeModel",
     "state": {
      "_model_module": "ipysheet",
      "_model_module_version": "~0.4.4",
      "_model_name": "CellRangeModel",
      "_view_count": null,
      "_view_module": null,
      "_view_module_version": "",
      "_view_name": null,
      "choice": null,
      "column_end": 8,
      "column_start": 8,
      "date_format": "YYYY/MM/DD",
      "name": null,
      "numeric_format": "0.000",
      "read_only": false,
      "renderer": null,
      "row_end": 4,
      "row_start": 0,
      "squeeze_column": true,
      "squeeze_row": false,
      "style": {},
      "time_format": "h:mm:ss a",
      "transpose": false,
      "type": "numeric",
      "value": [
       "nan",
       "nan",
       "nan",
       "nan",
       "nan"
      ]
     }
    },
    "6ba5c970075640f9b1f100c82fd3e1d8": {
     "model_module": "ipysheet",
     "model_module_version": "~0.4.4",
     "model_name": "CellRangeModel",
     "state": {
      "_model_module": "ipysheet",
      "_model_module_version": "~0.4.4",
      "_model_name": "CellRangeModel",
      "_view_count": null,
      "_view_module": null,
      "_view_module_version": "",
      "_view_name": null,
      "choice": null,
      "column_end": 0,
      "column_start": 0,
      "date_format": "YYYY/MM/DD",
      "name": null,
      "numeric_format": "0[.]0",
      "read_only": false,
      "renderer": null,
      "row_end": 4,
      "row_start": 0,
      "squeeze_column": true,
      "squeeze_row": false,
      "style": {},
      "time_format": "h:mm:ss a",
      "transpose": false,
      "type": "numeric",
      "value": [
       1,
       2,
       3,
       4,
       5
      ]
     }
    },
    "9b94f9de211c4d39b2af6d312e509273": {
     "model_module": "@jupyter-widgets/controls",
     "model_module_version": "1.5.0",
     "model_name": "DropdownModel",
     "state": {
      "_dom_classes": [],
      "_model_module": "@jupyter-widgets/controls",
      "_model_module_version": "1.5.0",
      "_model_name": "DropdownModel",
      "_options_labels": [
       "Template project",
       "Koster_Seafloor_Obs",
       "Spyfish_Aotearoa",
       "SGU",
       "Medins"
      ],
      "_view_count": null,
      "_view_module": "@jupyter-widgets/controls",
      "_view_module_version": "1.5.0",
      "_view_name": "DropdownView",
      "description": "Project:",
      "description_tooltip": null,
      "disabled": false,
      "index": 0,
      "layout": "IPY_MODEL_4d0831017ad340018eb13acbfc095226",
      "style": "IPY_MODEL_ff21f356af8546cf908f719af08e5b1c"
     }
    },
    "a3c58f7809484ec6b7e620df6a0872e3": {
     "model_module": "ipysheet",
     "model_module_version": "~0.4.4",
     "model_name": "SheetModel",
     "state": {
      "_dom_classes": [],
      "_model_module": "ipysheet",
      "_model_module_version": "~0.4.4",
      "_model_name": "SheetModel",
      "_view_count": null,
      "_view_module": "ipysheet",
      "_view_module_version": "~0.4.4",
      "_view_name": "SheetView",
      "cells": [
       "IPY_MODEL_6ba5c970075640f9b1f100c82fd3e1d8",
       "IPY_MODEL_64199e2b3312490eb887cdf8eac89265",
       "IPY_MODEL_b5654bb922fa4f55a16c73ee63482634",
       "IPY_MODEL_4ddf07f1a06541f4acfa772afee048ce",
       "IPY_MODEL_a982709e6c72481f8ca351936b7825a5",
       "IPY_MODEL_d24223f3ec974ff7ab302effffbdd58f",
       "IPY_MODEL_01add854884b415dba005b11532f050d",
       "IPY_MODEL_5908480d1411494698eb99019aaccad9",
       "IPY_MODEL_641d285f1a92479a81f131b2e2789494"
      ],
      "column_headers": [
       "movie_id",
       "filename",
       "siteName",
       "created_on",
       "Author",
       "fps",
       "duration",
       "survey_start",
       "survey_end"
      ],
      "column_resizing": true,
      "column_width": null,
      "columns": 9,
      "layout": "IPY_MODEL_b0e4473b69e340c6a2fd6fd49a2d516c",
      "named_cells": {},
      "row_headers": [
       "0",
       "1",
       "2",
       "3",
       "4"
      ],
      "row_resizing": true,
      "rows": 5,
      "search_token": "",
      "stretch_headers": "all"
     }
    },
    "a982709e6c72481f8ca351936b7825a5": {
     "model_module": "ipysheet",
     "model_module_version": "~0.4.4",
     "model_name": "CellRangeModel",
     "state": {
      "_model_module": "ipysheet",
      "_model_module_version": "~0.4.4",
      "_model_name": "CellRangeModel",
      "_view_count": null,
      "_view_module": null,
      "_view_module_version": "",
      "_view_name": null,
      "choice": null,
      "column_end": 4,
      "column_start": 4,
      "date_format": "YYYY/MM/DD",
      "name": null,
      "numeric_format": null,
      "read_only": false,
      "renderer": null,
      "row_end": 4,
      "row_start": 0,
      "squeeze_column": true,
      "squeeze_row": false,
      "style": {},
      "time_format": "h:mm:ss a",
      "transpose": false,
      "type": "text",
      "value": [
       "Author_name_1",
       "Author_name_2",
       "Author_name_3",
       "Author_name_4",
       "Author_name_1"
      ]
     }
    },
    "b0e4473b69e340c6a2fd6fd49a2d516c": {
     "model_module": "@jupyter-widgets/base",
     "model_module_version": "1.2.0",
     "model_name": "LayoutModel",
     "state": {
      "_model_module": "@jupyter-widgets/base",
      "_model_module_version": "1.2.0",
      "_model_name": "LayoutModel",
      "_view_count": null,
      "_view_module": "@jupyter-widgets/base",
      "_view_module_version": "1.2.0",
      "_view_name": "LayoutView",
      "align_content": null,
      "align_items": null,
      "align_self": null,
      "border": null,
      "bottom": null,
      "display": null,
      "flex": null,
      "flex_flow": null,
      "grid_area": null,
      "grid_auto_columns": null,
      "grid_auto_flow": null,
      "grid_auto_rows": null,
      "grid_column": null,
      "grid_gap": null,
      "grid_row": null,
      "grid_template_areas": null,
      "grid_template_columns": null,
      "grid_template_rows": null,
      "height": "auto",
      "justify_content": null,
      "justify_items": null,
      "left": null,
      "margin": null,
      "max_height": null,
      "max_width": null,
      "min_height": null,
      "min_width": null,
      "object_fit": null,
      "object_position": null,
      "order": null,
      "overflow": null,
      "overflow_x": null,
      "overflow_y": null,
      "padding": null,
      "right": null,
      "top": null,
      "visibility": null,
      "width": "auto"
     }
    },
    "b5654bb922fa4f55a16c73ee63482634": {
     "model_module": "ipysheet",
     "model_module_version": "~0.4.4",
     "model_name": "CellRangeModel",
     "state": {
      "_model_module": "ipysheet",
      "_model_module_version": "~0.4.4",
      "_model_name": "CellRangeModel",
      "_view_count": null,
      "_view_module": null,
      "_view_module_version": "",
      "_view_name": null,
      "choice": null,
      "column_end": 2,
      "column_start": 2,
      "date_format": "YYYY/MM/DD",
      "name": null,
      "numeric_format": null,
      "read_only": false,
      "renderer": null,
      "row_end": 4,
      "row_start": 0,
      "squeeze_column": true,
      "squeeze_row": false,
      "style": {},
      "time_format": "h:mm:ss a",
      "transpose": false,
      "type": "text",
      "value": [
       "Site_1",
       "Site_1",
       "Site_1",
       "Site_1",
       "Site_2"
      ]
     }
    },
    "d24223f3ec974ff7ab302effffbdd58f": {
     "model_module": "ipysheet",
     "model_module_version": "~0.4.4",
     "model_name": "CellRangeModel",
     "state": {
      "_model_module": "ipysheet",
      "_model_module_version": "~0.4.4",
      "_model_name": "CellRangeModel",
      "_view_count": null,
      "_view_module": null,
      "_view_module_version": "",
      "_view_name": null,
      "choice": null,
      "column_end": 5,
      "column_start": 5,
      "date_format": "YYYY/MM/DD",
      "name": null,
      "numeric_format": "0.000",
      "read_only": false,
      "renderer": null,
      "row_end": 4,
      "row_start": 0,
      "squeeze_column": true,
      "squeeze_row": false,
      "style": {},
      "time_format": "h:mm:ss a",
      "transpose": false,
      "type": "numeric",
      "value": [
       "nan",
       "nan",
       "nan",
       "nan",
       "nan"
      ]
     }
    },
    "decf55ce1c974c7caacfcd5d390a8d40": {
     "model_module": "ipysheet",
     "model_module_version": "~0.4.4",
     "model_name": "CellRangeModel",
     "state": {
      "_model_module": "ipysheet",
      "_model_module_version": "~0.4.4",
      "_model_name": "CellRangeModel",
      "_view_count": null,
      "_view_module": null,
      "_view_module_version": "",
      "_view_name": null,
      "choice": null,
      "column_end": 0,
      "column_start": 0,
      "date_format": "YYYY/MM/DD",
      "name": null,
      "numeric_format": "0[.]0",
      "read_only": false,
      "renderer": null,
      "row_end": 9,
      "row_start": 0,
      "squeeze_column": true,
      "squeeze_row": false,
      "style": {},
      "time_format": "h:mm:ss a",
      "transpose": false,
      "type": "numeric",
      "value": [
       1,
       2,
       3,
       4,
       5,
       6,
       7,
       8,
       9,
       10
      ]
     }
    },
    "f7e40cc0c2434df5b504326e9df0331d": {
     "model_module": "ipysheet",
     "model_module_version": "~0.4.4",
     "model_name": "CellRangeModel",
     "state": {
      "_model_module": "ipysheet",
      "_model_module_version": "~0.4.4",
      "_model_name": "CellRangeModel",
      "_view_count": null,
      "_view_module": null,
      "_view_module_version": "",
      "_view_name": null,
      "choice": null,
      "column_end": 3,
      "column_start": 3,
      "date_format": "YYYY/MM/DD",
      "name": null,
      "numeric_format": "0.000",
      "read_only": false,
      "renderer": null,
      "row_end": 9,
      "row_start": 0,
      "squeeze_column": true,
      "squeeze_row": false,
      "style": {},
      "time_format": "h:mm:ss a",
      "transpose": false,
      "type": "numeric",
      "value": [
       11.67526,
       12.477538,
       17.930395,
       17.996357,
       19.073736,
       11.10425483,
       17.205944,
       19.184803,
       18.261336,
       17.459911
      ]
     }
    },
    "ff1700b7ad99424b96d9a519282dbd3b": {
     "model_module": "ipysheet",
     "model_module_version": "~0.4.4",
     "model_name": "CellRangeModel",
     "state": {
      "_model_module": "ipysheet",
      "_model_module_version": "~0.4.4",
      "_model_name": "CellRangeModel",
      "_view_count": null,
      "_view_module": null,
      "_view_module_version": "",
      "_view_name": null,
      "choice": null,
      "column_end": 5,
      "column_start": 5,
      "date_format": "YYYY/MM/DD",
      "name": null,
      "numeric_format": null,
      "read_only": false,
      "renderer": null,
      "row_end": 9,
      "row_start": 0,
      "squeeze_column": true,
      "squeeze_row": false,
      "style": {},
      "time_format": "h:mm:ss a",
      "transpose": false,
      "type": "text",
      "value": [
       "SE",
       "SE",
       "SE",
       "SE",
       "SE",
       "SE",
       "SE",
       "SE",
       "SE",
       "SE"
      ]
     }
    },
    "ff21f356af8546cf908f719af08e5b1c": {
     "model_module": "@jupyter-widgets/controls",
     "model_module_version": "1.5.0",
     "model_name": "DescriptionStyleModel",
     "state": {
      "_model_module": "@jupyter-widgets/controls",
      "_model_module_version": "1.5.0",
      "_model_name": "DescriptionStyleModel",
      "_view_count": null,
      "_view_module": "@jupyter-widgets/base",
      "_view_module_version": "1.2.0",
      "_view_name": "StyleView",
      "description_width": ""
     }
    }
   }
  }
 },
 "nbformat": 4,
 "nbformat_minor": 5
}
