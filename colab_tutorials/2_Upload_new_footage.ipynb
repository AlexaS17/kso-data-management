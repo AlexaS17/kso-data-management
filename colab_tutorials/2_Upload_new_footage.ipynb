{
  "cells": [
    {
      "cell_type": "markdown",
      "id": "95aea466",
      "metadata": {
        "id": "95aea466"
      },
      "source": [
        "<img align=\"left\" src=\"https://panoptes-uploads.zooniverse.org/project_avatar/86c23ca7-bbaa-4e84-8d8a-876819551431.png\" type=\"image/png\" height=100 width=100>\n",
        "</img>\n",
        "\n",
        "\n",
        "<h1 align=\"right\">Colab KSO Tutorials #2: Upload new footage</h1>\n",
        "<h3 align=\"right\">Written by @jannesgg and @vykanton</h3>\n",
        "<h5 align=\"right\">Last updated: Apr 26th, 2022</h5>"
      ]
    },
    {
      "cell_type": "markdown",
      "id": "6f0fc779",
      "metadata": {
        "id": "6f0fc779"
      },
      "source": [
        "# Set up and requirements"
      ]
    },
    {
      "cell_type": "markdown",
      "source": [
        "## Install kso_data_management and its requirements"
      ],
      "metadata": {
        "id": "r54trOEB7NbS"
      },
      "id": "r54trOEB7NbS"
    },
    {
      "cell_type": "code",
      "source": [
        "# Fix issue with panoptes and libmagic\n",
        "!apt-get update && apt-get install -y libmagic-dev\n",
        "\n",
        "# Clone koster_data_management repo\n",
        "!git clone --recurse-submodules -b dev https://github.com/ocean-data-factory-sweden/koster_data_management.git\n",
        "!pip install -r koster_data_management/requirements.txt\n",
        "\n",
        "# Restart the session to load the latest packages\n",
        "exit()"
      ],
      "metadata": {
        "id": "HhjhiS28s3yx"
      },
      "id": "HhjhiS28s3yx",
      "execution_count": null,
      "outputs": []
    },
    {
      "cell_type": "code",
      "source": [
        "#Try to deal with the timepicker widget issue\n",
        "# !pip uninstall ipywidgets\n",
        "# !pip install ipywidgets --pre \n",
        "# from google.colab import output\n",
        "# output.enable_custom_widget_manager()\n",
        "# import ipywidgets as widgets\n",
        "# widgets.TimePicker(\n",
        "#     description='Pick a Time',\n",
        "#     disabled=False\n",
        "# )"
      ],
      "metadata": {
        "id": "WmGViLoEM18_"
      },
      "id": "WmGViLoEM18_",
      "execution_count": null,
      "outputs": []
    },
    {
      "cell_type": "markdown",
      "source": [
        "### Import Python packages"
      ],
      "metadata": {
        "id": "crpDygSI7898"
      },
      "id": "crpDygSI7898"
    },
    {
      "cell_type": "code",
      "source": [
        "# Set the directory of the libraries\n",
        "import sys, os\n",
        "from pathlib import Path\n",
        "\n",
        "# Enables testing changes in utils\n",
        "%load_ext autoreload\n",
        "%autoreload 2\n",
        "\n",
        "# Specify the path of the tutorials\n",
        "os.chdir(\"koster_data_management/tutorials\")\n",
        "sys.path.append('..')\n",
        "\n",
        "\n",
        "# Import required modules\n",
        "import kso_utils.tutorials_utils as t_utils\n",
        "import kso_utils.t2_utils as t2\n",
        "import kso_utils.project_utils as p_utils\n",
        "#import utils.server_utils as serv_utils\n",
        "\n",
        "print(\"Packages loaded successfully\")"
      ],
      "metadata": {
        "id": "ZdzSznf_sOkr"
      },
      "id": "ZdzSznf_sOkr",
      "execution_count": null,
      "outputs": []
    },
    {
      "cell_type": "markdown",
      "id": "77996901",
      "metadata": {
        "id": "77996901"
      },
      "source": [
        "## Choose your project"
      ]
    },
    {
      "cell_type": "code",
      "execution_count": null,
      "id": "eafe82e7",
      "metadata": {
        "id": "eafe82e7"
      },
      "outputs": [],
      "source": [
        "project_name = t_utils.choose_project()"
      ]
    },
    {
      "cell_type": "code",
      "execution_count": 3,
      "id": "28ed650d",
      "metadata": {
        "id": "28ed650d"
      },
      "outputs": [],
      "source": [
        "project = p_utils.find_project(project_name=project_name.value)"
      ]
    },
    {
      "cell_type": "markdown",
      "id": "46c3d19e",
      "metadata": {
        "id": "46c3d19e"
      },
      "source": [
        "## Initiate sql and get server or local storage details"
      ]
    },
    {
      "cell_type": "code",
      "execution_count": null,
      "id": "33d744a9",
      "metadata": {
        "id": "33d744a9"
      },
      "outputs": [],
      "source": [
        "# Initiate db\n",
        "db_info_dict = t_utils.initiate_db(project)"
      ]
    },
    {
      "cell_type": "markdown",
      "id": "1a9ffb27",
      "metadata": {
        "id": "1a9ffb27"
      },
      "source": [
        "# Select the survey linked to the videos"
      ]
    },
    {
      "cell_type": "code",
      "execution_count": null,
      "id": "a2d26b4f",
      "metadata": {
        "id": "a2d26b4f"
      },
      "outputs": [],
      "source": [
        "survey_i = t2.select_survey(db_info_dict)"
      ]
    },
    {
      "cell_type": "code",
      "execution_count": null,
      "id": "eeaf83b5",
      "metadata": {
        "id": "eeaf83b5"
      },
      "outputs": [],
      "source": [
        "survey_name = t2.confirm_survey(survey_i, \n",
        "                                db_info_dict)"
      ]
    },
    {
      "cell_type": "markdown",
      "id": "f401dba3",
      "metadata": {
        "id": "f401dba3"
      },
      "source": [
        "## Select new deployments"
      ]
    },
    {
      "cell_type": "markdown",
      "source": [
        "To save time you can select multiple deployments **recorded on the same day**"
      ],
      "metadata": {
        "id": "18hzxd8bFxZy"
      },
      "id": "18hzxd8bFxZy"
    },
    {
      "cell_type": "code",
      "source": [
        "deployment_selected, survey_row, survey_server_name = t2.select_deployment(\n",
        "    project = project,\n",
        "    db_info_dict = db_info_dict,\n",
        "    survey_i = survey_i\n",
        ")"
      ],
      "metadata": {
        "id": "RMikSz_oEdJQ"
      },
      "id": "RMikSz_oEdJQ",
      "execution_count": null,
      "outputs": []
    },
    {
      "cell_type": "markdown",
      "source": [
        "## Specify the date of the deployments"
      ],
      "metadata": {
        "id": "siCS6I-5RnT2"
      },
      "id": "siCS6I-5RnT2"
    },
    {
      "cell_type": "code",
      "source": [
        "deployment_date = t2.select_eventdate()"
      ],
      "metadata": {
        "id": "fFZ9vSOiHKlr"
      },
      "id": "fFZ9vSOiHKlr",
      "execution_count": null,
      "outputs": []
    },
    {
      "cell_type": "markdown",
      "source": [
        "## Check the database to avoid deployment duplicates"
      ],
      "metadata": {
        "id": "ZPKJ7ZovR86O"
      },
      "id": "ZPKJ7ZovR86O"
    },
    {
      "cell_type": "code",
      "source": [
        "deployment_names = t2.check_deployment(\n",
        "    deployment_selected, \n",
        "    deployment_date, \n",
        "    survey_server_name, \n",
        "    db_info_dict, \n",
        "    survey_i\n",
        ")"
      ],
      "metadata": {
        "id": "hyBpGROxIaRM"
      },
      "id": "hyBpGROxIaRM",
      "execution_count": null,
      "outputs": []
    },
    {
      "cell_type": "markdown",
      "source": [
        "## Update new deployment files"
      ],
      "metadata": {
        "id": "pK_CZFhmj0bn"
      },
      "id": "pK_CZFhmj0bn"
    },
    {
      "cell_type": "code",
      "source": [
        "t2.update_new_deployments(\n",
        "    deployment_names, \n",
        "    db_info_dict, \n",
        "    survey_server_name\n",
        ")"
      ],
      "metadata": {
        "id": "RLkTUdzesK1-"
      },
      "id": "RLkTUdzesK1-",
      "execution_count": null,
      "outputs": []
    },
    {
      "cell_type": "markdown",
      "id": "5a9faf7c",
      "metadata": {
        "id": "5a9faf7c"
      },
      "source": [
        "## Specify deployment details"
      ]
    },
    {
      "cell_type": "code",
      "execution_count": null,
      "id": "14ca7029",
      "metadata": {
        "scrolled": true,
        "id": "14ca7029"
      },
      "outputs": [],
      "source": [
        "deployment_info = t2.record_deployment_info(db_info_dict, video_info_dict)"
      ]
    },
    {
      "cell_type": "markdown",
      "id": "08a5b78d",
      "metadata": {
        "id": "08a5b78d"
      },
      "source": [
        "## Review deployment  details"
      ]
    },
    {
      "cell_type": "code",
      "execution_count": null,
      "id": "463e7131",
      "metadata": {
        "id": "463e7131"
      },
      "outputs": [],
      "source": [
        "new_deployment_row = t2.confirm_deployment_details(\n",
        "    video_info_dict,\n",
        "    db_info_dict,\n",
        "    survey_i,\n",
        "    deployment_info\n",
        ")"
      ]
    },
    {
      "cell_type": "markdown",
      "id": "098afca0",
      "metadata": {
        "id": "098afca0"
      },
      "source": [
        "# !!!Only pass this point if deployment details are correct!!!"
      ]
    },
    {
      "cell_type": "markdown",
      "id": "21e2d0b9",
      "metadata": {
        "id": "21e2d0b9"
      },
      "source": [
        "### Update movies csv and upload video to s3"
      ]
    },
    {
      "cell_type": "code",
      "execution_count": null,
      "id": "549375bf",
      "metadata": {
        "id": "549375bf"
      },
      "outputs": [],
      "source": [
        "t2.upload_concat_movie(db_info_dict, video_info_dict, new_deployment_row)"
      ]
    },
    {
      "cell_type": "code",
      "execution_count": null,
      "id": "a004889d",
      "metadata": {
        "id": "a004889d"
      },
      "outputs": [],
      "source": [
        "#END"
      ]
    }
  ],
  "metadata": {
    "kernelspec": {
      "display_name": "Python 3 (ipykernel)",
      "language": "python",
      "name": "python3"
    },
    "language_info": {
      "codemirror_mode": {
        "name": "ipython",
        "version": 3
      },
      "file_extension": ".py",
      "mimetype": "text/x-python",
      "name": "python",
      "nbconvert_exporter": "python",
      "pygments_lexer": "ipython3",
      "version": "3.9.7"
    },
    "colab": {
      "name": "2. Upload new footage.ipynb",
      "provenance": [],
      "collapsed_sections": []
    }
  },
  "nbformat": 4,
  "nbformat_minor": 5
}