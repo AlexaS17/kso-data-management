{
  "cells": [
    {
      "cell_type": "markdown",
      "metadata": {
        "id": "view-in-github",
        "colab_type": "text"
      },
      "source": [
        "<a href=\"https://colab.research.google.com/github/wildlifeai/koster_data_management/blob/main/3_Upload_clips_to_Zooniverse.ipynb\" target=\"_parent\"><img src=\"https://colab.research.google.com/assets/colab-badge.svg\" alt=\"Open In Colab\"/></a>"
      ]
    },
    {
      "cell_type": "markdown",
      "id": "b169b8d0",
      "metadata": {
        "id": "b169b8d0"
      },
      "source": [
        "<img align=\"left\" src=\"https://panoptes-uploads.zooniverse.org/project_avatar/86c23ca7-bbaa-4e84-8d8a-876819551431.png\" type=\"image/png\" height=100 width=100>\n",
        "</img>\n",
        "<h1 align=\"right\">Colab KSO Tutorials #3: Upload clips to Zooniverse</h1>\n",
        "<h3 align=\"right\">Written by @jannesgg and @vykanton</h3>\n",
        "<h5 align=\"right\">Last updated: Mar 30, 2022</h5>"
      ]
    },
    {
      "cell_type": "markdown",
      "id": "3ee20d67",
      "metadata": {
        "id": "3ee20d67"
      },
      "source": [
        "# Set up and requirements"
      ]
    },
    {
      "cell_type": "code",
      "source": [
        "# Code to try fix the upload video panoptes libmagic\n",
        "# !pip install panoptes-client\n",
        "# !pip uninstall python-magic\n",
        "# !pip install python-magic==0.4.25\n",
        "# !pip install python-magic-bin\n",
        "# !pip install libmagic==1.0\n",
        "# !pip uninstall python-magic\n",
        "# !pip install python-libmagic\n",
        "# !pip install git+https://github.com/julian-r/python-magic.git"
      ],
      "metadata": {
        "id": "5SIPLvIVfWGJ"
      },
      "id": "5SIPLvIVfWGJ",
      "execution_count": null,
      "outputs": []
    },
    {
      "cell_type": "code",
      "source": [
        "!git clone --recurse-submodules -b dev https://github.com/ocean-data-factory-sweden/koster_data_management.git\n",
        "!pip install -r koster_data_management/requirements.txt"
      ],
      "metadata": {
        "id": "euLU610Jo8xh"
      },
      "id": "euLU610Jo8xh",
      "execution_count": null,
      "outputs": []
    },
    {
      "cell_type": "code",
      "source": [
        "# Test if panoptes can be loaded\n",
        "try:\n",
        "  !pip install git+https://github.com/zooniverse/panoptes-python-client.git\n",
        "  import panoptes_client\n",
        "except:\n",
        "  print('Restarting runtime...')\n",
        "  exit()"
      ],
      "metadata": {
        "id": "HI8TZBjaLAMB"
      },
      "id": "HI8TZBjaLAMB",
      "execution_count": null,
      "outputs": []
    },
    {
      "cell_type": "markdown",
      "id": "896f0873",
      "metadata": {
        "id": "896f0873"
      },
      "source": [
        "### Import Python packages"
      ]
    },
    {
      "cell_type": "code",
      "source": [
        "# Set the directory of the libraries\n",
        "import sys, os\n",
        "from pathlib import Path\n",
        "\n",
        "os.chdir(\"koster_data_management/tutorials\")\n",
        "sys.path.append('..')\n",
        "\n",
        "\n",
        "# Import required modules\n",
        "import kso_utils.tutorials_utils as t_utils\n",
        "import kso_utils.movie_utils as m_utils\n",
        "import kso_utils.t3_utils as t3\n",
        "import kso_utils.project_utils as p_utils\n",
        "\n",
        "print(\"Packages loaded successfully\")"
      ],
      "metadata": {
        "id": "hTkxlN2MJxdb"
      },
      "id": "hTkxlN2MJxdb",
      "execution_count": null,
      "outputs": []
    },
    {
      "cell_type": "markdown",
      "id": "8c51ffb6",
      "metadata": {
        "id": "8c51ffb6"
      },
      "source": [
        "### Choose your project"
      ]
    },
    {
      "cell_type": "code",
      "execution_count": null,
      "id": "bfef12df",
      "metadata": {
        "id": "bfef12df"
      },
      "outputs": [],
      "source": [
        "project_name = t_utils.choose_project()"
      ]
    },
    {
      "cell_type": "code",
      "execution_count": null,
      "id": "17729cf6",
      "metadata": {
        "id": "17729cf6"
      },
      "outputs": [],
      "source": [
        "project = p_utils.find_project(project_name=project_name.value)"
      ]
    },
    {
      "cell_type": "markdown",
      "id": "39f5065c",
      "metadata": {
        "id": "39f5065c"
      },
      "source": [
        "### Initiate sql and zoo project"
      ]
    },
    {
      "cell_type": "code",
      "execution_count": null,
      "id": "8a7abc2f",
      "metadata": {
        "scrolled": true,
        "id": "8a7abc2f"
      },
      "outputs": [],
      "source": [
        "# Initiate db\n",
        "db_info_dict = t_utils.initiate_db(project)"
      ]
    },
    {
      "cell_type": "code",
      "execution_count": null,
      "id": "10b4aa16",
      "metadata": {
        "id": "10b4aa16"
      },
      "outputs": [],
      "source": [
        "# Connect to Zooniverse project\n",
        "zoo_project = t_utils.connect_zoo_project(project)"
      ]
    },
    {
      "cell_type": "markdown",
      "id": "50bac6cf",
      "metadata": {
        "id": "50bac6cf"
      },
      "source": [
        "## Retrieve info about zooniverse clips"
      ]
    },
    {
      "cell_type": "code",
      "execution_count": null,
      "id": "0c2d059b",
      "metadata": {
        "id": "0c2d059b"
      },
      "outputs": [],
      "source": [
        "zoo_info_dict = t_utils.retrieve__populate_zoo_info(project = project, \n",
        "                                                    db_info_dict = db_info_dict,\n",
        "                                                    zoo_project = zoo_project,\n",
        "                                                    zoo_info = [\"subjects\"])"
      ]
    },
    {
      "cell_type": "markdown",
      "id": "3bdb9ff9",
      "metadata": {
        "id": "3bdb9ff9"
      },
      "source": [
        "## Retrieve info about movies hosted in the server"
      ]
    },
    {
      "cell_type": "code",
      "execution_count": null,
      "id": "0fc41573",
      "metadata": {
        "id": "0fc41573"
      },
      "outputs": [],
      "source": [
        "# Store info about the movies available in the server\n",
        "available_movies_df = t3.retrieve_movie_info_from_server(project = project,\n",
        "                                                         db_info_dict = db_info_dict)"
      ]
    },
    {
      "cell_type": "markdown",
      "source": [
        "# Create some example clips"
      ],
      "metadata": {
        "id": "QQKQ25Rd7zid"
      },
      "id": "QQKQ25Rd7zid"
    },
    {
      "cell_type": "markdown",
      "id": "2dfc55a9",
      "metadata": {
        "id": "2dfc55a9"
      },
      "source": [
        "### Select the movie you want to upload to Zooniverse"
      ]
    },
    {
      "cell_type": "code",
      "execution_count": null,
      "id": "6667d092",
      "metadata": {
        "id": "6667d092"
      },
      "outputs": [],
      "source": [
        "movie_i = t3.movie_to_upload(available_movies_df = available_movies_df)"
      ]
    },
    {
      "cell_type": "markdown",
      "id": "8175cc89",
      "metadata": {
        "id": "8175cc89"
      },
      "source": [
        "### Check if movie is already in Zooniverse"
      ]
    },
    {
      "cell_type": "markdown",
      "id": "c84c92bf",
      "metadata": {
        "id": "c84c92bf"
      },
      "source": [
        "Remember to query the newest zooniverse data to get the most up to date list of clips uploaded"
      ]
    },
    {
      "cell_type": "code",
      "execution_count": null,
      "id": "dbe6b212",
      "metadata": {
        "id": "dbe6b212"
      },
      "outputs": [],
      "source": [
        "# Check movie hasn't been uploaded to Zooniverse\n",
        "t3.check_movie_uploaded(movie_i = movie_i.value,\n",
        "                        db_info_dict = db_info_dict)"
      ]
    },
    {
      "cell_type": "markdown",
      "source": [
        "## Have a quick look at the movie selected"
      ],
      "metadata": {
        "id": "xtAVdGvb0UIq"
      },
      "id": "xtAVdGvb0UIq"
    },
    {
      "cell_type": "code",
      "source": [
        "t3.preview_movie(project,db_info_dict,available_movies_df,movie_i)"
      ],
      "metadata": {
        "id": "04b2Jn-t6Qqz"
      },
      "id": "04b2Jn-t6Qqz",
      "execution_count": null,
      "outputs": []
    },
    {
      "cell_type": "markdown",
      "source": [
        "## Create a few clip examples"
      ],
      "metadata": {
        "id": "bq0v__COMpDK"
      },
      "id": "bq0v__COMpDK"
    },
    {
      "cell_type": "markdown",
      "source": [
        "Test different parameters (e.g. compression rate, color modifications) in randomly selected clip examples"
      ],
      "metadata": {
        "id": "klrtgtZ0M2hs"
      },
      "id": "klrtgtZ0M2hs"
    },
    {
      "cell_type": "code",
      "source": [
        "random_clips_info = t3.select_random_clips(movie_i = movie_i.value,\n",
        "                                           db_info_dict = db_info_dict)"
      ],
      "metadata": {
        "id": "dmTJM7hvMvpU"
      },
      "id": "dmTJM7hvMvpU",
      "execution_count": null,
      "outputs": []
    },
    {
      "cell_type": "code",
      "source": [
        "temp_clips = t3.create_clips(available_movies_df = available_movies_df,\n",
        "                             movie_i = movie_i.value,\n",
        "                             db_info_dict = db_info_dict,\n",
        "                             clip_selection = random_clips_info,  \n",
        "                             project = project,\n",
        "                             example_clips = True)"
      ],
      "metadata": {
        "id": "EcueiHWXMz7p"
      },
      "id": "EcueiHWXMz7p",
      "execution_count": null,
      "outputs": []
    },
    {
      "cell_type": "markdown",
      "source": [
        "## Review the size of the temporary clips"
      ],
      "metadata": {
        "id": "Q3PbyBR5M4fg"
      },
      "id": "Q3PbyBR5M4fg"
    },
    {
      "cell_type": "code",
      "source": [
        "t3.check_clip_size(clips_df = temp_clips)"
      ],
      "metadata": {
        "id": "0iJ_DMsWM9Wm"
      },
      "id": "0iJ_DMsWM9Wm",
      "execution_count": null,
      "outputs": []
    },
    {
      "cell_type": "markdown",
      "source": [
        "## Select the clip modification"
      ],
      "metadata": {
        "id": "5BTfSpAsM-dn"
      },
      "id": "5BTfSpAsM-dn"
    },
    {
      "cell_type": "code",
      "source": [
        "clip_modification = t3.clip_modification_widget()\n",
        "clip_modification"
      ],
      "metadata": {
        "id": "zSr9_9T2NCs_"
      },
      "id": "zSr9_9T2NCs_",
      "execution_count": null,
      "outputs": []
    },
    {
      "cell_type": "markdown",
      "source": [
        "## Modify the temporary clips"
      ],
      "metadata": {
        "id": "GqP9LM7-NFg7"
      },
      "id": "GqP9LM7-NFg7"
    },
    {
      "cell_type": "markdown",
      "source": [
        "### Modify the clips WITH GPU"
      ],
      "metadata": {
        "id": "02qabk7zTJAp"
      },
      "id": "02qabk7zTJAp"
    },
    {
      "cell_type": "markdown",
      "source": [
        "#### Install the requirements for GPU video modification"
      ],
      "metadata": {
        "id": "fxLr40L8TewC"
      },
      "id": "fxLr40L8TewC"
    },
    {
      "cell_type": "code",
      "source": [
        "# Install ffmpeg with GPU version\n",
        "!git clone https://github.com/rokibulislaam/colab-ffmpeg-cuda.git\n",
        "!cp -r ./colab-ffmpeg-cuda/bin/. /usr/bin/"
      ],
      "metadata": {
        "id": "3VIgJw4vl0XP",
        "outputId": "a557f95d-b8b8-4c57-878a-cf56fb90e17f",
        "colab": {
          "base_uri": "https://localhost:8080/"
        }
      },
      "id": "3VIgJw4vl0XP",
      "execution_count": null,
      "outputs": [
        {
          "output_type": "stream",
          "name": "stdout",
          "text": [
            "Cloning into 'colab-ffmpeg-cuda'...\n",
            "remote: Enumerating objects: 62, done.\u001b[K\n",
            "remote: Counting objects: 100% (25/25), done.\u001b[K\n",
            "remote: Compressing objects: 100% (19/19), done.\u001b[K\n",
            "remote: Total 62 (delta 17), reused 6 (delta 6), pack-reused 37\u001b[K\n",
            "Unpacking objects: 100% (62/62), done.\n",
            "Checking out files: 100% (32/32), done.\n"
          ]
        }
      ]
    },
    {
      "cell_type": "markdown",
      "source": [
        "#### Modify the clips with GPU"
      ],
      "metadata": {
        "id": "bojXzu5uTmYS"
      },
      "id": "bojXzu5uTmYS"
    },
    {
      "cell_type": "code",
      "source": [
        "clips_ready_df = t3.modify_clips(clips_to_upload_df = clips_to_upload_df.reset_index(drop=True),\n",
        "                              movie_i = movie_i.value,\n",
        "                              modification_details = clip_modification.checks,\n",
        "                              gpu_available = True,\n",
        "                              project = project\n",
        "                              )"
      ],
      "metadata": {
        "id": "CsTxVddPTmtW"
      },
      "id": "CsTxVddPTmtW",
      "execution_count": null,
      "outputs": []
    },
    {
      "cell_type": "markdown",
      "source": [
        "### Modify the clips WITHOUT GPU"
      ],
      "metadata": {
        "id": "CWrfftVpTWNA"
      },
      "id": "CWrfftVpTWNA"
    },
    {
      "cell_type": "code",
      "source": [
        "clip_examples_df = t3.modify_clips(clips_to_upload_df = temp_clips.reset_index(drop=True),\n",
        "                              movie_i = movie_i.value,\n",
        "                              modification_details = clip_modification.checks,\n",
        "                              gpu_available = True,\n",
        "                              project = project\n",
        "                              )"
      ],
      "metadata": {
        "id": "o5oPaJyyNE79"
      },
      "id": "o5oPaJyyNE79",
      "execution_count": null,
      "outputs": []
    },
    {
      "cell_type": "markdown",
      "source": [
        "## Review the size of the modified clips"
      ],
      "metadata": {
        "id": "qEWyOitgNLSf"
      },
      "id": "qEWyOitgNLSf"
    },
    {
      "cell_type": "code",
      "source": [
        "t3.check_clip_size(clips_df = clip_examples_df)"
      ],
      "metadata": {
        "id": "2vNIENCTNNUW"
      },
      "id": "2vNIENCTNNUW",
      "execution_count": null,
      "outputs": []
    },
    {
      "cell_type": "markdown",
      "source": [
        "## Compare the clips"
      ],
      "metadata": {
        "id": "W2NnI0A-NPpn"
      },
      "id": "W2NnI0A-NPpn"
    },
    {
      "cell_type": "code",
      "source": [
        "t3.compare_clips(df = clip_examples_df)"
      ],
      "metadata": {
        "id": "zXQOMNRsNRMf"
      },
      "id": "zXQOMNRsNRMf",
      "execution_count": null,
      "outputs": []
    },
    {
      "cell_type": "markdown",
      "source": [
        "# Create the clips to upload to Zooniverse"
      ],
      "metadata": {
        "id": "a9NhZKK-NS_s"
      },
      "id": "a9NhZKK-NS_s"
    },
    {
      "cell_type": "markdown",
      "source": [
        "## Specify the number of clips and clip length"
      ],
      "metadata": {
        "id": "mK7UpTFwNX6S"
      },
      "id": "mK7UpTFwNX6S"
    },
    {
      "cell_type": "code",
      "source": [
        "clip_selection = t3.select_clip_n_len(movie_i = movie_i.value,\n",
        "                                      db_info_dict = db_info_dict)"
      ],
      "metadata": {
        "id": "tspAVRDGNW5X"
      },
      "id": "tspAVRDGNW5X",
      "execution_count": null,
      "outputs": []
    },
    {
      "cell_type": "markdown",
      "source": [
        "## Review the clips that will be created"
      ],
      "metadata": {
        "id": "PlhD28PvNeEF"
      },
      "id": "PlhD28PvNeEF"
    },
    {
      "cell_type": "code",
      "source": [
        "t3.review_clip_selection(clip_selection = clip_selection, \n",
        "                         movie_i = movie_i.value)"
      ],
      "metadata": {
        "id": "IXkwpjXhNXUl"
      },
      "id": "IXkwpjXhNXUl",
      "execution_count": null,
      "outputs": []
    },
    {
      "cell_type": "markdown",
      "source": [
        "## Create the clips"
      ],
      "metadata": {
        "id": "wBCemoZiNic5"
      },
      "id": "wBCemoZiNic5"
    },
    {
      "cell_type": "code",
      "source": [
        "clips_to_upload_df = t3.create_clips(available_movies_df = available_movies_df, \n",
        "                                     movie_i = movie_i.value,\n",
        "                                     db_info_dict = db_info_dict,\n",
        "                                     clip_selection = clip_selection,  \n",
        "                                     project = project)"
      ],
      "metadata": {
        "id": "idoKSzjpNof6"
      },
      "id": "idoKSzjpNof6",
      "execution_count": null,
      "outputs": []
    },
    {
      "cell_type": "markdown",
      "source": [
        "## Review the size of the clips"
      ],
      "metadata": {
        "id": "vuhoSd_nNsZJ"
      },
      "id": "vuhoSd_nNsZJ"
    },
    {
      "cell_type": "code",
      "source": [
        "t3.check_clip_size(clips_df = clips_to_upload_df)"
      ],
      "metadata": {
        "id": "ACnwMvssNrxX"
      },
      "id": "ACnwMvssNrxX",
      "execution_count": null,
      "outputs": []
    },
    {
      "cell_type": "markdown",
      "source": [
        "## Video modifications"
      ],
      "metadata": {
        "id": "plvZ018YOqll"
      },
      "id": "plvZ018YOqll"
    },
    {
      "cell_type": "markdown",
      "source": [
        "### Select the video modification"
      ],
      "metadata": {
        "id": "Hro0l-z-OxAA"
      },
      "id": "Hro0l-z-OxAA"
    },
    {
      "cell_type": "code",
      "source": [
        "clip_modification = clip_modification_widget()\n",
        "clip_modification"
      ],
      "metadata": {
        "id": "D7dX7rUjOsp2"
      },
      "id": "D7dX7rUjOsp2",
      "execution_count": null,
      "outputs": []
    },
    {
      "cell_type": "markdown",
      "source": [
        "### Modify the clips WITH GPU"
      ],
      "metadata": {
        "id": "cEy0Uz9ZO17V"
      },
      "id": "cEy0Uz9ZO17V"
    },
    {
      "cell_type": "code",
      "source": [
        "clips_ready_df = t3.modify_clips(clips_to_upload_df = clips_to_upload_df.reset_index(drop=True),\n",
        "                              movie_i = movie_i.value,\n",
        "                              modification_details = clip_modification.checks,\n",
        "                              gpu_available = True,\n",
        "                              project = project\n",
        "                              )"
      ],
      "metadata": {
        "id": "mrcFC8diPaYf"
      },
      "id": "mrcFC8diPaYf",
      "execution_count": null,
      "outputs": []
    },
    {
      "cell_type": "markdown",
      "source": [
        "### Modify the clips WITHOUT GPU"
      ],
      "metadata": {
        "id": "cuCiI4KqPZSw"
      },
      "id": "cuCiI4KqPZSw"
    },
    {
      "cell_type": "code",
      "source": [
        "clips_ready_df = t3.modify_clips(clips_to_upload_df = clips_to_upload_df.reset_index(drop=True), \n",
        "                                 movie_i = movie_i.value,\n",
        "                                 modification_details = clip_modification.checks,\n",
        "                                 project = project)"
      ],
      "metadata": {
        "id": "1ZDIQlzXO2Ny"
      },
      "id": "1ZDIQlzXO2Ny",
      "execution_count": null,
      "outputs": []
    },
    {
      "cell_type": "markdown",
      "source": [
        "## Review the size of the modified clips"
      ],
      "metadata": {
        "id": "LZeTdnf-PoJz"
      },
      "id": "LZeTdnf-PoJz"
    },
    {
      "cell_type": "code",
      "source": [
        "t3.check_clip_size(clips_df = clips_ready_df)"
      ],
      "metadata": {
        "id": "voviNeSwO709"
      },
      "id": "voviNeSwO709",
      "execution_count": null,
      "outputs": []
    },
    {
      "cell_type": "markdown",
      "source": [
        "## Compare the clips"
      ],
      "metadata": {
        "id": "33klCdldRClc"
      },
      "id": "33klCdldRClc"
    },
    {
      "cell_type": "code",
      "source": [
        "t3.compare_clips(df = clips_ready_df)"
      ],
      "metadata": {
        "id": "jei5IvBrPnZ7"
      },
      "id": "jei5IvBrPnZ7",
      "execution_count": null,
      "outputs": []
    },
    {
      "cell_type": "markdown",
      "source": [
        "# Upload clips to Zooniverse"
      ],
      "metadata": {
        "id": "dp4F7oNfRIbA"
      },
      "id": "dp4F7oNfRIbA"
    },
    {
      "cell_type": "markdown",
      "source": [
        "## Set Zooniverse metadata"
      ],
      "metadata": {
        "id": "i1HBq524RI_K"
      },
      "id": "i1HBq524RI_K"
    },
    {
      "cell_type": "markdown",
      "source": [
        "Make sure your workflows in Zooniverse have different names to avoid issues while selecting the workflow id"
      ],
      "metadata": {
        "id": "3-SdYz25RMNP"
      },
      "id": "3-SdYz25RMNP"
    },
    {
      "cell_type": "code",
      "source": [
        "upload_to_zoo, sitename, created_on = t3.set_zoo_metadata(db_info_dict = db_info_dict, \n",
        "                                                          df = clips_ready_df,\n",
        "                                                          project = project)"
      ],
      "metadata": {
        "id": "brSCedDbPncC"
      },
      "id": "brSCedDbPncC",
      "execution_count": null,
      "outputs": []
    },
    {
      "cell_type": "markdown",
      "source": [
        "## Upload clips to Zooniverse"
      ],
      "metadata": {
        "id": "4XYIpG6fRROo"
      },
      "id": "4XYIpG6fRROo"
    },
    {
      "cell_type": "markdown",
      "source": [
        "You may receive an error message related to file size if clips exceed the recommended limit for Zooniverse uploads. In this case, we recommend shortening the clip length to achieve a suitable filesize."
      ],
      "metadata": {
        "id": "yXlUNQhYRWcQ"
      },
      "id": "yXlUNQhYRWcQ"
    },
    {
      "cell_type": "code",
      "source": [
        "t3.upload_clips_to_zooniverse(upload_to_zoo = upload_to_zoo, \n",
        "                              sitename = sitename,\n",
        "                              created_on = created_on,\n",
        "                              project = project.Zooniverse_number)"
      ],
      "metadata": {
        "id": "vALY0dFDPnfb"
      },
      "id": "vALY0dFDPnfb",
      "execution_count": null,
      "outputs": []
    },
    {
      "cell_type": "code",
      "source": [
        "#END"
      ],
      "metadata": {
        "id": "Ewbv8G7fRagf"
      },
      "id": "Ewbv8G7fRagf",
      "execution_count": null,
      "outputs": []
    }
  ],
  "metadata": {
    "kernelspec": {
      "display_name": "Python 3 (ipykernel)",
      "language": "python",
      "name": "python3"
    },
    "language_info": {
      "codemirror_mode": {
        "name": "ipython",
        "version": 3
      },
      "file_extension": ".py",
      "mimetype": "text/x-python",
      "name": "python",
      "nbconvert_exporter": "python",
      "pygments_lexer": "ipython3",
      "version": "3.8.13"
    },
    "colab": {
      "name": "Dev 3. Upload clips to Zooniverse.ipynb",
      "provenance": [],
      "include_colab_link": true
    }
  },
  "nbformat": 4,
  "nbformat_minor": 5
}
