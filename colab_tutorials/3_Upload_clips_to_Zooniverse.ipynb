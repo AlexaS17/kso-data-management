{
  "cells": [
    {
      "cell_type": "markdown",
      "id": "b169b8d0",
      "metadata": {
        "id": "b169b8d0"
      },
      "source": [
        "<img align=\"left\" src=\"https://panoptes-uploads.zooniverse.org/project_avatar/86c23ca7-bbaa-4e84-8d8a-876819551431.png\" type=\"image/png\" height=100 width=100>\n",
        "</img>\n",
        "<h1 align=\"right\">Colab KSO Tutorials #3: Upload clips to Zooniverse</h1>\n",
        "<h3 align=\"right\">Written by @jannesgg and @vykanton</h3>\n",
        "<h5 align=\"right\">Last updated: Mar 30, 2022</h5>"
      ]
    },
    {
      "cell_type": "markdown",
      "id": "3ee20d67",
      "metadata": {
        "id": "3ee20d67"
      },
      "source": [
        "# Set up and requirements"
      ]
    },
    {
      "cell_type": "code",
      "source": [
        "# Code to try fix the upload video panoptes libmagic\n",
        "# !pip install panoptes-client\n",
        "# !pip uninstall python-magic\n",
        "# !pip install python-magic==0.4.25\n",
        "# !pip install python-magic-bin\n",
        "# !pip install libmagic==1.0\n",
        "# !pip uninstall python-magic\n",
        "# !pip install python-libmagic\n",
        "# !pip install git+https://github.com/julian-r/python-magic.git"
      ],
      "metadata": {
        "id": "5SIPLvIVfWGJ"
      },
      "id": "5SIPLvIVfWGJ",
      "execution_count": null,
      "outputs": []
    },
    {
      "cell_type": "code",
      "source": [
        "!git clone --recurse-submodules -b dev https://github.com/ocean-data-factory-sweden/koster_data_management.git\n",
        "!pip install -r koster_data_management/requirements.txt"
      ],
      "metadata": {
        "id": "euLU610Jo8xh"
      },
      "id": "euLU610Jo8xh",
      "execution_count": null,
      "outputs": []
    },
    {
      "cell_type": "code",
      "source": [
        "# Test if panoptes can be loaded\n",
        "try:\n",
        "  !pip install git+https://github.com/zooniverse/panoptes-python-client.git\n",
        "  import panoptes_client\n",
        "except:\n",
        "  print('Restarting runtime...')\n",
        "  exit()"
      ],
      "metadata": {
        "id": "HI8TZBjaLAMB"
      },
      "id": "HI8TZBjaLAMB",
      "execution_count": null,
      "outputs": []
    },
    {
      "cell_type": "markdown",
      "id": "896f0873",
      "metadata": {
        "id": "896f0873"
      },
      "source": [
        "### Import Python packages"
      ]
    },
    {
      "cell_type": "code",
      "source": [
        "# Set the directory of the libraries\n",
        "import sys, os\n",
        "from pathlib import Path\n",
        "\n",
        "os.chdir(\"koster_data_management/tutorials\")\n",
        "sys.path.append('..')\n",
        "\n",
        "\n",
        "# Import required modules\n",
        "import kso_utils.tutorials_utils as t_utils\n",
        "import kso_utils.movie_utils as m_utils\n",
        "import kso_utils.t3_utils as t3\n",
        "import kso_utils.project_utils as p_utils\n",
        "\n",
        "print(\"Packages loaded successfully\")"
      ],
      "metadata": {
        "id": "hTkxlN2MJxdb",
        "outputId": "f41ae828-771e-4dea-9e5e-ed1a4196308b",
        "colab": {
          "base_uri": "https://localhost:8080/"
        }
      },
      "id": "hTkxlN2MJxdb",
      "execution_count": 1,
      "outputs": [
        {
          "output_type": "stream",
          "name": "stderr",
          "text": [
            "WARNING:panoptes_client:Broken libmagic installation detected. The python-magic module is installed but can't be imported. Please check that both python-magic and the libmagic shared library are installed correctly. Uploading media other than images may not work.\n"
          ]
        },
        {
          "output_type": "stream",
          "name": "stdout",
          "text": [
            "Imageio: 'ffmpeg-linux64-v3.3.1' was not found on your computer; downloading it now.\n",
            "Try 1. Download from https://github.com/imageio/imageio-binaries/raw/master/ffmpeg/ffmpeg-linux64-v3.3.1 (43.8 MB)\n",
            "Downloading: 8192/45929032 bytes (0.0%)\b\b\b\b\b\b\b\b\b\b\b\b\b\b\b\b\b\b\b\b\b\b\b\b\b\b2416640/45929032 bytes (5.3%)\b\b\b\b\b\b\b\b\b\b\b\b\b\b\b\b\b\b\b\b\b\b\b\b\b\b\b\b\b5955584/45929032 bytes (13.0%)\b\b\b\b\b\b\b\b\b\b\b\b\b\b\b\b\b\b\b\b\b\b\b\b\b\b\b\b\b\b9166848/45929032 bytes (20.0%)\b\b\b\b\b\b\b\b\b\b\b\b\b\b\b\b\b\b\b\b\b\b\b\b\b\b\b\b\b\b12206080/45929032 bytes (26.6%)\b\b\b\b\b\b\b\b\b\b\b\b\b\b\b\b\b\b\b\b\b\b\b\b\b\b\b\b\b\b\b15736832/45929032 bytes (34.3%)\b\b\b\b\b\b\b\b\b\b\b\b\b\b\b\b\b\b\b\b\b\b\b\b\b\b\b\b\b\b\b19128320/45929032 bytes (41.6%)\b\b\b\b\b\b\b\b\b\b\b\b\b\b\b\b\b\b\b\b\b\b\b\b\b\b\b\b\b\b\b22667264/45929032 bytes (49.4%)\b\b\b\b\b\b\b\b\b\b\b\b\b\b\b\b\b\b\b\b\b\b\b\b\b\b\b\b\b\b\b26132480/45929032 bytes (56.9%)\b\b\b\b\b\b\b\b\b\b\b\b\b\b\b\b\b\b\b\b\b\b\b\b\b\b\b\b\b\b\b29024256/45929032 bytes (63.2%)\b\b\b\b\b\b\b\b\b\b\b\b\b\b\b\b\b\b\b\b\b\b\b\b\b\b\b\b\b\b\b31866880/45929032 bytes (69.4%)\b\b\b\b\b\b\b\b\b\b\b\b\b\b\b\b\b\b\b\b\b\b\b\b\b\b\b\b\b\b\b33923072/45929032 bytes (73.9%)\b\b\b\b\b\b\b\b\b\b\b\b\b\b\b\b\b\b\b\b\b\b\b\b\b\b\b\b\b\b\b36814848/45929032 bytes (80.2%)\b\b\b\b\b\b\b\b\b\b\b\b\b\b\b\b\b\b\b\b\b\b\b\b\b\b\b\b\b\b\b39739392/45929032 bytes (86.5%)\b\b\b\b\b\b\b\b\b\b\b\b\b\b\b\b\b\b\b\b\b\b\b\b\b\b\b\b\b\b\b43302912/45929032 bytes (94.3%)\b\b\b\b\b\b\b\b\b\b\b\b\b\b\b\b\b\b\b\b\b\b\b\b\b\b\b\b\b\b\b45929032/45929032 bytes (100.0%)\n",
            "  Done\n",
            "File saved as /root/.imageio/ffmpeg/ffmpeg-linux64-v3.3.1.\n",
            "Packages loaded successfully\n"
          ]
        }
      ]
    },
    {
      "cell_type": "markdown",
      "id": "8c51ffb6",
      "metadata": {
        "id": "8c51ffb6"
      },
      "source": [
        "### Choose your project"
      ]
    },
    {
      "cell_type": "code",
      "execution_count": 2,
      "id": "bfef12df",
      "metadata": {
        "id": "bfef12df",
        "outputId": "fa3dc274-77b2-430a-ff30-5fdc76383993",
        "colab": {
          "base_uri": "https://localhost:8080/",
          "height": 49,
          "referenced_widgets": [
            "7babe1d37e5f45c9aae3af1c9ef56444",
            "e55537f145f24a84ac4685dcd8c5493f",
            "a8669e990230496da12ca4f6cead3d28"
          ]
        }
      },
      "outputs": [
        {
          "output_type": "display_data",
          "data": {
            "text/plain": [
              "Dropdown(description='Project:', options=('Koster_Seafloor_Obs', 'Spyfish_Aotearoa', 'SGU', 'Medins'), value='…"
            ],
            "application/vnd.jupyter.widget-view+json": {
              "version_major": 2,
              "version_minor": 0,
              "model_id": "7babe1d37e5f45c9aae3af1c9ef56444"
            }
          },
          "metadata": {}
        }
      ],
      "source": [
        "project_name = t_utils.choose_project()"
      ]
    },
    {
      "cell_type": "code",
      "execution_count": 3,
      "id": "17729cf6",
      "metadata": {
        "id": "17729cf6"
      },
      "outputs": [],
      "source": [
        "project = p_utils.find_project(project_name=project_name.value)"
      ]
    },
    {
      "cell_type": "markdown",
      "id": "39f5065c",
      "metadata": {
        "id": "39f5065c"
      },
      "source": [
        "### Initiate sql and zoo project"
      ]
    },
    {
      "cell_type": "code",
      "execution_count": 4,
      "id": "8a7abc2f",
      "metadata": {
        "scrolled": true,
        "id": "8a7abc2f",
        "outputId": "ebd277a7-1438-4b03-f0ad-c6687be514be",
        "colab": {
          "base_uri": "https://localhost:8080/"
        }
      },
      "outputs": [
        {
          "name": "stdout",
          "output_type": "stream",
          "text": [
            "Enter the key id for the aws server··········\n",
            "Enter the secret access key for the aws server··········\n"
          ]
        },
        {
          "output_type": "stream",
          "name": "stderr",
          "text": [
            "None/sites_buv_doc.csv: 100%|██████████| 145k/145k [00:00<00:00, 146kB/s]\n",
            "None/movies_buv_doc.csv: 100%|██████████| 14.2k/14.2k [00:00<00:00, 32.9kB/s]\n",
            "None/species_buv_doc.csv: 100%|██████████| 7.53k/7.53k [00:00<00:00, 17.4kB/s]\n",
            "None/surveys_buv_doc.csv: 100%|██████████| 2.25k/2.25k [00:00<00:00, 5.38kB/s]\n",
            "None/choices_buv.csv: 100%|██████████| 3.54k/3.54k [00:00<00:00, 8.03kB/s]\n"
          ]
        },
        {
          "output_type": "stream",
          "name": "stdout",
          "text": [
            "Updated sites\n",
            "Updated movies\n",
            "Updated species\n"
          ]
        }
      ],
      "source": [
        "# Initiate db\n",
        "db_info_dict = t_utils.initiate_db(project)"
      ]
    },
    {
      "cell_type": "code",
      "execution_count": 5,
      "id": "10b4aa16",
      "metadata": {
        "id": "10b4aa16",
        "outputId": "09217f42-23d9-4123-b20f-8b9b064d7db9",
        "colab": {
          "base_uri": "https://localhost:8080/"
        }
      },
      "outputs": [
        {
          "name": "stdout",
          "output_type": "stream",
          "text": [
            "Enter your Zooniverse user··········\n",
            "Enter your Zooniverse password··········\n"
          ]
        }
      ],
      "source": [
        "# Connect to Zooniverse project\n",
        "zoo_project = t_utils.connect_zoo_project(project)"
      ]
    },
    {
      "cell_type": "markdown",
      "id": "50bac6cf",
      "metadata": {
        "id": "50bac6cf"
      },
      "source": [
        "## Retrieve info about zooniverse clips"
      ]
    },
    {
      "cell_type": "code",
      "execution_count": 6,
      "id": "0c2d059b",
      "metadata": {
        "id": "0c2d059b",
        "outputId": "c41bf618-2d6b-4e5f-c52f-87367bcb0652",
        "colab": {
          "base_uri": "https://localhost:8080/"
        }
      },
      "outputs": [
        {
          "output_type": "stream",
          "name": "stdout",
          "text": [
            "Retrieving subjects from Zooniverse\n",
            "subjects were retrieved successfully\n",
            "Updated subjects\n",
            "The database has a total of 978 frame subjects and 4993 clip subjects have been updated\n"
          ]
        }
      ],
      "source": [
        "zoo_info_dict = t_utils.retrieve__populate_zoo_info(project = project, \n",
        "                                                    db_info_dict = db_info_dict,\n",
        "                                                    zoo_project = zoo_project,\n",
        "                                                    zoo_info = [\"subjects\"])"
      ]
    },
    {
      "cell_type": "markdown",
      "id": "3bdb9ff9",
      "metadata": {
        "id": "3bdb9ff9"
      },
      "source": [
        "## Retrieve info about movies hosted in the server"
      ]
    },
    {
      "cell_type": "code",
      "execution_count": 7,
      "id": "0fc41573",
      "metadata": {
        "id": "0fc41573"
      },
      "outputs": [],
      "source": [
        "# Store info about the movies available in the server\n",
        "available_movies_df = t3.retrieve_movie_info_from_server(project = project,\n",
        "                                                         db_info_dict = db_info_dict)"
      ]
    },
    {
      "cell_type": "markdown",
      "source": [
        "# Create some clip examples"
      ],
      "metadata": {
        "id": "QQKQ25Rd7zid"
      },
      "id": "QQKQ25Rd7zid"
    },
    {
      "cell_type": "markdown",
      "id": "2dfc55a9",
      "metadata": {
        "id": "2dfc55a9"
      },
      "source": [
        "### Select the movie you want to upload to Zooniverse"
      ]
    },
    {
      "cell_type": "code",
      "execution_count": null,
      "id": "6667d092",
      "metadata": {
        "id": "6667d092"
      },
      "outputs": [],
      "source": [
        "movie_i = t3.movie_to_upload(available_movies_df = available_movies_df)"
      ]
    },
    {
      "cell_type": "markdown",
      "id": "8175cc89",
      "metadata": {
        "id": "8175cc89"
      },
      "source": [
        "### Check if movie is already in Zooniverse"
      ]
    },
    {
      "cell_type": "markdown",
      "id": "c84c92bf",
      "metadata": {
        "id": "c84c92bf"
      },
      "source": [
        "Remember to query the newest zooniverse data to get the most up to date list of clips uploaded"
      ]
    },
    {
      "cell_type": "code",
      "execution_count": null,
      "id": "dbe6b212",
      "metadata": {
        "id": "dbe6b212"
      },
      "outputs": [],
      "source": [
        "# Check movie hasn't been uploaded to Zooniverse\n",
        "t3.check_movie_uploaded(movie_i = movie_i.value,\n",
        "                        db_info_dict = db_info_dict)"
      ]
    },
    {
      "cell_type": "markdown",
      "source": [
        "## Have a quick look at the movie selected"
      ],
      "metadata": {
        "id": "xtAVdGvb0UIq"
      },
      "id": "xtAVdGvb0UIq"
    },
    {
      "cell_type": "code",
      "source": [
        "t3.preview_movie(project,db_info_dict,available_movies_df,movie_i)"
      ],
      "metadata": {
        "id": "04b2Jn-t6Qqz"
      },
      "id": "04b2Jn-t6Qqz",
      "execution_count": null,
      "outputs": []
    },
    {
      "cell_type": "markdown",
      "source": [
        "## Create a few clip examples"
      ],
      "metadata": {
        "id": "bq0v__COMpDK"
      },
      "id": "bq0v__COMpDK"
    },
    {
      "cell_type": "markdown",
      "source": [
        "Test different parameters (e.g. compression rate, color modifications) in randomly selected clip examples"
      ],
      "metadata": {
        "id": "klrtgtZ0M2hs"
      },
      "id": "klrtgtZ0M2hs"
    },
    {
      "cell_type": "code",
      "source": [
        "random_clips_info = t3.select_random_clips(movie_i = movie_i.value,\n",
        "                                           db_info_dict = db_info_dict)"
      ],
      "metadata": {
        "id": "dmTJM7hvMvpU"
      },
      "id": "dmTJM7hvMvpU",
      "execution_count": null,
      "outputs": []
    },
    {
      "cell_type": "code",
      "source": [
        "temp_clips = t3.create_clips(available_movies_df = available_movies_df,\n",
        "                             movie_i = movie_i.value,\n",
        "                             db_info_dict = db_info_dict,\n",
        "                             clip_selection = random_clips_info,  \n",
        "                             project = project,\n",
        "                             example_clips = True)"
      ],
      "metadata": {
        "id": "EcueiHWXMz7p"
      },
      "id": "EcueiHWXMz7p",
      "execution_count": null,
      "outputs": []
    },
    {
      "cell_type": "markdown",
      "source": [
        "## Review the size of the clip examples"
      ],
      "metadata": {
        "id": "Q3PbyBR5M4fg"
      },
      "id": "Q3PbyBR5M4fg"
    },
    {
      "cell_type": "code",
      "source": [
        "t3.check_clip_size(clips_df = temp_clips)"
      ],
      "metadata": {
        "id": "0iJ_DMsWM9Wm"
      },
      "id": "0iJ_DMsWM9Wm",
      "execution_count": null,
      "outputs": []
    },
    {
      "cell_type": "markdown",
      "source": [
        "## Select the clip modification"
      ],
      "metadata": {
        "id": "5BTfSpAsM-dn"
      },
      "id": "5BTfSpAsM-dn"
    },
    {
      "cell_type": "code",
      "source": [
        "clip_modification = t3.clip_modification_widget()\n",
        "clip_modification"
      ],
      "metadata": {
        "id": "zSr9_9T2NCs_"
      },
      "id": "zSr9_9T2NCs_",
      "execution_count": null,
      "outputs": []
    },
    {
      "cell_type": "markdown",
      "source": [
        "## Modify the clip examples"
      ],
      "metadata": {
        "id": "GqP9LM7-NFg7"
      },
      "id": "GqP9LM7-NFg7"
    },
    {
      "cell_type": "markdown",
      "source": [
        "### Modify the clips WITH GPU"
      ],
      "metadata": {
        "id": "02qabk7zTJAp"
      },
      "id": "02qabk7zTJAp"
    },
    {
      "cell_type": "markdown",
      "source": [
        "#### Install the requirements for GPU video modification"
      ],
      "metadata": {
        "id": "fxLr40L8TewC"
      },
      "id": "fxLr40L8TewC"
    },
    {
      "cell_type": "code",
      "source": [
        "# Install ffmpeg with GPU version\n",
        "!git clone https://github.com/rokibulislaam/colab-ffmpeg-cuda.git\n",
        "!cp -r ./colab-ffmpeg-cuda/bin/. /usr/bin/"
      ],
      "metadata": {
        "id": "3VIgJw4vl0XP"
      },
      "id": "3VIgJw4vl0XP",
      "execution_count": null,
      "outputs": []
    },
    {
      "cell_type": "markdown",
      "source": [
        "#### Modify the clips with GPU"
      ],
      "metadata": {
        "id": "bojXzu5uTmYS"
      },
      "id": "bojXzu5uTmYS"
    },
    {
      "cell_type": "code",
      "source": [
        "clips_ready_df = t3.modify_clips(clips_to_upload_df = temp_clips.reset_index(drop=True),\n",
        "                              movie_i = movie_i.value,\n",
        "                              modification_details = clip_modification.checks,\n",
        "                              gpu_available = True,\n",
        "                              project = project\n",
        "                              )"
      ],
      "metadata": {
        "id": "CsTxVddPTmtW"
      },
      "id": "CsTxVddPTmtW",
      "execution_count": null,
      "outputs": []
    },
    {
      "cell_type": "markdown",
      "source": [
        "### Modify the clips WITHOUT GPU"
      ],
      "metadata": {
        "id": "CWrfftVpTWNA"
      },
      "id": "CWrfftVpTWNA"
    },
    {
      "cell_type": "code",
      "source": [
        "clip_examples_df = t3.modify_clips(clips_to_upload_df = temp_clips.reset_index(drop=True),\n",
        "                              movie_i = movie_i.value,\n",
        "                              modification_details = clip_modification.checks,\n",
        "                              gpu_available = True,\n",
        "                              project = project\n",
        "                              )"
      ],
      "metadata": {
        "id": "o5oPaJyyNE79"
      },
      "id": "o5oPaJyyNE79",
      "execution_count": null,
      "outputs": []
    },
    {
      "cell_type": "markdown",
      "source": [
        "## Review the size of the modified clips"
      ],
      "metadata": {
        "id": "qEWyOitgNLSf"
      },
      "id": "qEWyOitgNLSf"
    },
    {
      "cell_type": "code",
      "source": [
        "t3.check_clip_size(clips_df = clips_ready_df)"
      ],
      "metadata": {
        "id": "2vNIENCTNNUW"
      },
      "id": "2vNIENCTNNUW",
      "execution_count": null,
      "outputs": []
    },
    {
      "cell_type": "markdown",
      "source": [
        "## Compare the clips"
      ],
      "metadata": {
        "id": "W2NnI0A-NPpn"
      },
      "id": "W2NnI0A-NPpn"
    },
    {
      "cell_type": "code",
      "source": [
        "t3.compare_clips(df = clips_ready_df)"
      ],
      "metadata": {
        "id": "zXQOMNRsNRMf"
      },
      "id": "zXQOMNRsNRMf",
      "execution_count": null,
      "outputs": []
    },
    {
      "cell_type": "markdown",
      "source": [
        "# Create the clips to upload to Zooniverse"
      ],
      "metadata": {
        "id": "a9NhZKK-NS_s"
      },
      "id": "a9NhZKK-NS_s"
    },
    {
      "cell_type": "markdown",
      "source": [
        "## Have a quick look at the movie selected"
      ],
      "metadata": {
        "id": "-qBmAq8zmPCW"
      },
      "id": "-qBmAq8zmPCW"
    },
    {
      "cell_type": "code",
      "source": [
        "t3.preview_movie(project,db_info_dict,available_movies_df,movie_i)"
      ],
      "metadata": {
        "id": "NNKpg3uxmPCg"
      },
      "execution_count": null,
      "outputs": [],
      "id": "NNKpg3uxmPCg"
    },
    {
      "cell_type": "markdown",
      "source": [
        "## Specify the number of clips and clip length"
      ],
      "metadata": {
        "id": "mK7UpTFwNX6S"
      },
      "id": "mK7UpTFwNX6S"
    },
    {
      "cell_type": "code",
      "source": [
        "clip_selection = t3.select_clip_n_len(movie_i = movie_i.value,\n",
        "                                      db_info_dict = db_info_dict)"
      ],
      "metadata": {
        "id": "tspAVRDGNW5X"
      },
      "id": "tspAVRDGNW5X",
      "execution_count": null,
      "outputs": []
    },
    {
      "cell_type": "markdown",
      "source": [
        "## Review the clips that will be created"
      ],
      "metadata": {
        "id": "PlhD28PvNeEF"
      },
      "id": "PlhD28PvNeEF"
    },
    {
      "cell_type": "code",
      "source": [
        "t3.review_clip_selection(clip_selection = clip_selection, \n",
        "                         movie_i = movie_i.value)"
      ],
      "metadata": {
        "id": "IXkwpjXhNXUl"
      },
      "id": "IXkwpjXhNXUl",
      "execution_count": null,
      "outputs": []
    },
    {
      "cell_type": "markdown",
      "source": [
        "## Create the clips"
      ],
      "metadata": {
        "id": "wBCemoZiNic5"
      },
      "id": "wBCemoZiNic5"
    },
    {
      "cell_type": "code",
      "source": [
        "clips_to_upload_df = t3.create_clips(available_movies_df = available_movies_df, \n",
        "                                     movie_i = movie_i.value,\n",
        "                                     db_info_dict = db_info_dict,\n",
        "                                     clip_selection = clip_selection,  \n",
        "                                     project = project)"
      ],
      "metadata": {
        "id": "idoKSzjpNof6"
      },
      "id": "idoKSzjpNof6",
      "execution_count": null,
      "outputs": []
    },
    {
      "cell_type": "markdown",
      "source": [
        "## Review the size of the clips"
      ],
      "metadata": {
        "id": "vuhoSd_nNsZJ"
      },
      "id": "vuhoSd_nNsZJ"
    },
    {
      "cell_type": "code",
      "source": [
        "t3.check_clip_size(clips_df = clips_to_upload_df)"
      ],
      "metadata": {
        "id": "ACnwMvssNrxX"
      },
      "id": "ACnwMvssNrxX",
      "execution_count": null,
      "outputs": []
    },
    {
      "cell_type": "markdown",
      "source": [
        "## Video modifications"
      ],
      "metadata": {
        "id": "plvZ018YOqll"
      },
      "id": "plvZ018YOqll"
    },
    {
      "cell_type": "markdown",
      "source": [
        "### Modify the clips WITH GPU"
      ],
      "metadata": {
        "id": "cEy0Uz9ZO17V"
      },
      "id": "cEy0Uz9ZO17V"
    },
    {
      "cell_type": "code",
      "source": [
        "clips_ready_df = t3.modify_clips(clips_to_upload_df = clips_to_upload_df.reset_index(drop=True),\n",
        "                              movie_i = movie_i.value,\n",
        "                              modification_details = clip_modification.checks,\n",
        "                              gpu_available = True,\n",
        "                              project = project\n",
        "                              )"
      ],
      "metadata": {
        "id": "mrcFC8diPaYf"
      },
      "id": "mrcFC8diPaYf",
      "execution_count": null,
      "outputs": []
    },
    {
      "cell_type": "markdown",
      "source": [
        "### Modify the clips WITHOUT GPU"
      ],
      "metadata": {
        "id": "cuCiI4KqPZSw"
      },
      "id": "cuCiI4KqPZSw"
    },
    {
      "cell_type": "code",
      "source": [
        "clips_ready_df = t3.modify_clips(clips_to_upload_df = clips_to_upload_df.reset_index(drop=True), \n",
        "                                 movie_i = movie_i.value,\n",
        "                                 modification_details = clip_modification.checks,\n",
        "                                 project = project)"
      ],
      "metadata": {
        "id": "1ZDIQlzXO2Ny"
      },
      "id": "1ZDIQlzXO2Ny",
      "execution_count": null,
      "outputs": []
    },
    {
      "cell_type": "markdown",
      "source": [
        "## Review the size of the modified clips"
      ],
      "metadata": {
        "id": "LZeTdnf-PoJz"
      },
      "id": "LZeTdnf-PoJz"
    },
    {
      "cell_type": "code",
      "source": [
        "t3.check_clip_size(clips_df = clips_ready_df)"
      ],
      "metadata": {
        "id": "voviNeSwO709"
      },
      "id": "voviNeSwO709",
      "execution_count": null,
      "outputs": []
    },
    {
      "cell_type": "markdown",
      "source": [
        "## Compare the clips"
      ],
      "metadata": {
        "id": "33klCdldRClc"
      },
      "id": "33klCdldRClc"
    },
    {
      "cell_type": "code",
      "source": [
        "t3.compare_clips(df = clips_ready_df)"
      ],
      "metadata": {
        "id": "jei5IvBrPnZ7"
      },
      "id": "jei5IvBrPnZ7",
      "execution_count": null,
      "outputs": []
    },
    {
      "cell_type": "markdown",
      "source": [
        "# Upload clips to Zooniverse"
      ],
      "metadata": {
        "id": "dp4F7oNfRIbA"
      },
      "id": "dp4F7oNfRIbA"
    },
    {
      "cell_type": "markdown",
      "source": [
        "## Set Zooniverse metadata"
      ],
      "metadata": {
        "id": "i1HBq524RI_K"
      },
      "id": "i1HBq524RI_K"
    },
    {
      "cell_type": "markdown",
      "source": [
        "Make sure your workflows in Zooniverse have different names to avoid issues while selecting the workflow id"
      ],
      "metadata": {
        "id": "3-SdYz25RMNP"
      },
      "id": "3-SdYz25RMNP"
    },
    {
      "cell_type": "code",
      "source": [
        "upload_to_zoo, sitename, created_on = t3.set_zoo_metadata(db_info_dict = db_info_dict, \n",
        "                                                          df = clips_ready_df,\n",
        "                                                          project = project)"
      ],
      "metadata": {
        "id": "brSCedDbPncC"
      },
      "id": "brSCedDbPncC",
      "execution_count": null,
      "outputs": []
    },
    {
      "cell_type": "markdown",
      "source": [
        "## Upload clips to Zooniverse"
      ],
      "metadata": {
        "id": "4XYIpG6fRROo"
      },
      "id": "4XYIpG6fRROo"
    },
    {
      "cell_type": "markdown",
      "source": [
        "You may receive an error message related to file size if clips exceed the recommended limit for Zooniverse uploads. In this case, we recommend shortening the clip length to achieve a suitable filesize."
      ],
      "metadata": {
        "id": "yXlUNQhYRWcQ"
      },
      "id": "yXlUNQhYRWcQ"
    },
    {
      "cell_type": "code",
      "source": [
        "t3.upload_clips_to_zooniverse(upload_to_zoo = upload_to_zoo, \n",
        "                              sitename = sitename,\n",
        "                              created_on = created_on,\n",
        "                              project = project.Zooniverse_number)"
      ],
      "metadata": {
        "id": "vALY0dFDPnfb"
      },
      "id": "vALY0dFDPnfb",
      "execution_count": null,
      "outputs": []
    },
    {
      "cell_type": "code",
      "source": [
        "#END"
      ],
      "metadata": {
        "id": "Ewbv8G7fRagf"
      },
      "id": "Ewbv8G7fRagf",
      "execution_count": null,
      "outputs": []
    }
  ],
  "metadata": {
    "kernelspec": {
      "display_name": "Python 3 (ipykernel)",
      "language": "python",
      "name": "python3"
    },
    "language_info": {
      "codemirror_mode": {
        "name": "ipython",
        "version": 3
      },
      "file_extension": ".py",
      "mimetype": "text/x-python",
      "name": "python",
      "nbconvert_exporter": "python",
      "pygments_lexer": "ipython3",
      "version": "3.8.13"
    },
    "colab": {
      "name": "Dev 3. Upload clips to Zooniverse.ipynb",
      "provenance": []
    },
    "accelerator": "GPU",
    "widgets": {
      "application/vnd.jupyter.widget-state+json": {
        "7babe1d37e5f45c9aae3af1c9ef56444": {
          "model_module": "@jupyter-widgets/controls",
          "model_name": "DropdownModel",
          "model_module_version": "2.0.0",
          "state": {
            "_dom_classes": [],
            "_model_module": "@jupyter-widgets/controls",
            "_model_module_version": "2.0.0",
            "_model_name": "DropdownModel",
            "_options_labels": [
              "Koster_Seafloor_Obs",
              "Spyfish_Aotearoa",
              "SGU",
              "Medins"
            ],
            "_view_count": null,
            "_view_module": "@jupyter-widgets/controls",
            "_view_module_version": "2.0.0",
            "_view_name": "DropdownView",
            "description": "Project:",
            "description_allow_html": false,
            "disabled": false,
            "index": 1,
            "layout": "IPY_MODEL_e55537f145f24a84ac4685dcd8c5493f",
            "style": "IPY_MODEL_a8669e990230496da12ca4f6cead3d28",
            "tabbable": null,
            "tooltip": null
          }
        },
        "e55537f145f24a84ac4685dcd8c5493f": {
          "model_module": "@jupyter-widgets/base",
          "model_name": "LayoutModel",
          "model_module_version": "2.0.0",
          "state": {
            "_model_module": "@jupyter-widgets/base",
            "_model_module_version": "2.0.0",
            "_model_name": "LayoutModel",
            "_view_count": null,
            "_view_module": "@jupyter-widgets/base",
            "_view_module_version": "2.0.0",
            "_view_name": "LayoutView",
            "align_content": null,
            "align_items": null,
            "align_self": null,
            "border_bottom": null,
            "border_left": null,
            "border_right": null,
            "border_top": null,
            "bottom": null,
            "display": null,
            "flex": null,
            "flex_flow": null,
            "grid_area": null,
            "grid_auto_columns": null,
            "grid_auto_flow": null,
            "grid_auto_rows": null,
            "grid_column": null,
            "grid_gap": null,
            "grid_row": null,
            "grid_template_areas": null,
            "grid_template_columns": null,
            "grid_template_rows": null,
            "height": null,
            "justify_content": null,
            "justify_items": null,
            "left": null,
            "margin": null,
            "max_height": null,
            "max_width": null,
            "min_height": null,
            "min_width": null,
            "object_fit": null,
            "object_position": null,
            "order": null,
            "overflow": null,
            "padding": null,
            "right": null,
            "top": null,
            "visibility": null,
            "width": null
          }
        },
        "a8669e990230496da12ca4f6cead3d28": {
          "model_module": "@jupyter-widgets/controls",
          "model_name": "DescriptionStyleModel",
          "model_module_version": "2.0.0",
          "state": {
            "_model_module": "@jupyter-widgets/controls",
            "_model_module_version": "2.0.0",
            "_model_name": "DescriptionStyleModel",
            "_view_count": null,
            "_view_module": "@jupyter-widgets/base",
            "_view_module_version": "2.0.0",
            "_view_name": "StyleView",
            "description_width": ""
          }
        }
      }
    }
  },
  "nbformat": 4,
  "nbformat_minor": 5
}