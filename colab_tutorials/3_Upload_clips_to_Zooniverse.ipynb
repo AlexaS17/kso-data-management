{
  "cells": [
    {
      "cell_type": "markdown",
      "id": "b169b8d0",
      "metadata": {
        "id": "b169b8d0"
      },
      "source": [
        "<img align=\"left\" src=\"https://panoptes-uploads.zooniverse.org/project_avatar/86c23ca7-bbaa-4e84-8d8a-876819551431.png\" type=\"image/png\" height=100 width=100>\n",
        "</img>\n",
        "<h1 align=\"right\">Colab KSO Tutorials #3: Upload clips to Zooniverse</h1>\n",
        "<h3 align=\"right\">Written by @jannesgg and @vykanton</h3>\n",
        "<h5 align=\"right\">Last updated: Apr 25, 2022</h5>"
      ]
    },
    {
      "cell_type": "markdown",
      "id": "3ee20d67",
      "metadata": {
        "id": "3ee20d67"
      },
      "source": [
        "# Set up and requirements"
      ]
    },
    {
      "cell_type": "markdown",
      "source": [
        "## Install kso_data_management and its requirements"
      ],
      "metadata": {
        "id": "NnXXPVCynVXv"
      },
      "id": "NnXXPVCynVXv"
    },
    {
      "cell_type": "code",
      "source": [
        "# Fix issue with panoptes and libmagic\n",
        "!apt-get update && apt-get install -y libmagic-dev\n",
        "\n",
        "# Clone koster_data_management repo\n",
        "!git clone --recurse-submodules -b dev https://github.com/ocean-data-factory-sweden/koster_data_management.git\n",
        "!pip install -r koster_data_management/requirements.txt\n",
        "\n",
        "# Restart the session to load the latest packages\n",
        "exit()"
      ],
      "metadata": {
        "id": "euLU610Jo8xh"
      },
      "id": "euLU610Jo8xh",
      "execution_count": null,
      "outputs": []
    },
    {
      "cell_type": "markdown",
      "id": "896f0873",
      "metadata": {
        "id": "896f0873"
      },
      "source": [
        "### Import Python packages"
      ]
    },
    {
      "cell_type": "code",
      "source": [
        "# Set the directory of the libraries\n",
        "import sys, os\n",
        "from pathlib import Path\n",
        "\n",
        "%load_ext autoreload\n",
        "%autoreload 2\n",
        "\n",
        "os.chdir(\"koster_data_management/tutorials\")\n",
        "sys.path.append('..')\n",
        "\n",
        "\n",
        "# Import required modules\n",
        "import kso_utils.tutorials_utils as t_utils\n",
        "import kso_utils.movie_utils as m_utils\n",
        "import kso_utils.t3_utils as t3\n",
        "import kso_utils.project_utils as p_utils\n",
        "import kso_utils.server_utils as s_utils\n",
        "\n",
        "print(\"Packages loaded successfully\")"
      ],
      "metadata": {
        "id": "hTkxlN2MJxdb"
      },
      "id": "hTkxlN2MJxdb",
      "execution_count": null,
      "outputs": []
    },
    {
      "cell_type": "markdown",
      "id": "8c51ffb6",
      "metadata": {
        "id": "8c51ffb6"
      },
      "source": [
        "### Choose your project"
      ]
    },
    {
      "cell_type": "code",
      "execution_count": 2,
      "id": "bfef12df",
      "metadata": {
        "id": "bfef12df",
        "outputId": "a71ac93f-1ad4-4d26-b366-ee0156b1b876",
        "colab": {
          "base_uri": "https://localhost:8080/",
          "height": 49,
          "referenced_widgets": [
            "e24a518ab9ed4efe98659a06fc29f6d5",
            "21e81a9786ec4d73b30c516c3d94e04f",
            "1277a63779e0434c889ed5204e12f794"
          ]
        }
      },
      "outputs": [
        {
          "output_type": "display_data",
          "data": {
            "text/plain": [
              "Dropdown(description='Project:', options=('Koster_Seafloor_Obs', 'Spyfish_Aotearoa', 'SGU', 'Medins'), value='…"
            ],
            "application/vnd.jupyter.widget-view+json": {
              "version_major": 2,
              "version_minor": 0,
              "model_id": "e24a518ab9ed4efe98659a06fc29f6d5"
            }
          },
          "metadata": {}
        }
      ],
      "source": [
        "project_name = t_utils.choose_project()"
      ]
    },
    {
      "cell_type": "code",
      "execution_count": 3,
      "id": "17729cf6",
      "metadata": {
        "id": "17729cf6"
      },
      "outputs": [],
      "source": [
        "project = p_utils.find_project(project_name=project_name.value)"
      ]
    },
    {
      "cell_type": "markdown",
      "id": "39f5065c",
      "metadata": {
        "id": "39f5065c"
      },
      "source": [
        "### Initiate sql and zoo project"
      ]
    },
    {
      "cell_type": "code",
      "execution_count": null,
      "id": "8a7abc2f",
      "metadata": {
        "scrolled": true,
        "id": "8a7abc2f"
      },
      "outputs": [],
      "source": [
        "# Initiate db\n",
        "db_info_dict = t_utils.initiate_db(project)"
      ]
    },
    {
      "cell_type": "code",
      "execution_count": null,
      "id": "10b4aa16",
      "metadata": {
        "id": "10b4aa16"
      },
      "outputs": [],
      "source": [
        "# Connect to Zooniverse project\n",
        "zoo_project = t_utils.connect_zoo_project(project)"
      ]
    },
    {
      "cell_type": "markdown",
      "id": "50bac6cf",
      "metadata": {
        "id": "50bac6cf"
      },
      "source": [
        "## Retrieve info about zooniverse clips"
      ]
    },
    {
      "cell_type": "code",
      "execution_count": null,
      "id": "0c2d059b",
      "metadata": {
        "id": "0c2d059b"
      },
      "outputs": [],
      "source": [
        "zoo_info_dict = t_utils.retrieve__populate_zoo_info(project = project, \n",
        "                                                    db_info_dict = db_info_dict,\n",
        "                                                    zoo_project = zoo_project,\n",
        "                                                    zoo_info = [\"subjects\"])"
      ]
    },
    {
      "cell_type": "markdown",
      "id": "3bdb9ff9",
      "metadata": {
        "id": "3bdb9ff9"
      },
      "source": [
        "## Retrieve info about movies hosted in the server"
      ]
    },
    {
      "cell_type": "code",
      "execution_count": 7,
      "id": "0fc41573",
      "metadata": {
        "id": "0fc41573"
      },
      "outputs": [],
      "source": [
        "# Store info about the movies available in the server\n",
        "available_movies_df = s_utils.retrieve_movie_info_from_server(\n",
        "    project = project,\n",
        "    db_info_dict = db_info_dict\n",
        ")"
      ]
    },
    {
      "cell_type": "markdown",
      "source": [
        "# Select the movie of interest"
      ],
      "metadata": {
        "id": "lq8kiRqqnxe8"
      },
      "id": "lq8kiRqqnxe8"
    },
    {
      "cell_type": "markdown",
      "id": "2dfc55a9",
      "metadata": {
        "id": "2dfc55a9"
      },
      "source": [
        "### Select the movie you want to upload to Zooniverse"
      ]
    },
    {
      "cell_type": "code",
      "execution_count": null,
      "id": "6667d092",
      "metadata": {
        "id": "6667d092"
      },
      "outputs": [],
      "source": [
        "movie_selected = t3.select_movie(available_movies_df)"
      ]
    },
    {
      "cell_type": "markdown",
      "source": [
        "## Have a quick look at the movie selected"
      ],
      "metadata": {
        "id": "xtAVdGvb0UIq"
      },
      "id": "xtAVdGvb0UIq"
    },
    {
      "cell_type": "code",
      "source": [
        "movie_display, movie_path = t_utils.preview_movie(\n",
        "    project = project,\n",
        "    db_info_dict = db_info_dict, \n",
        "    available_movies_df = available_movies_df, \n",
        "    movie_i = movie_selected.value\n",
        ")\n",
        "movie_display"
      ],
      "metadata": {
        "id": "04b2Jn-t6Qqz"
      },
      "id": "04b2Jn-t6Qqz",
      "execution_count": null,
      "outputs": []
    },
    {
      "cell_type": "markdown",
      "id": "8175cc89",
      "metadata": {
        "id": "8175cc89"
      },
      "source": [
        "### Check if movie is already in Zooniverse"
      ]
    },
    {
      "cell_type": "markdown",
      "id": "c84c92bf",
      "metadata": {
        "id": "c84c92bf"
      },
      "source": [
        "Remember to query the newest zooniverse data to get the most up to date list of clips uploaded"
      ]
    },
    {
      "cell_type": "code",
      "execution_count": null,
      "id": "dbe6b212",
      "metadata": {
        "id": "dbe6b212"
      },
      "outputs": [],
      "source": [
        "t3.check_movie_uploaded(\n",
        "    movie_i = movie_selected.value,\n",
        "    db_info_dict = db_info_dict\n",
        ")"
      ]
    },
    {
      "cell_type": "markdown",
      "source": [
        "# Create some example clips"
      ],
      "metadata": {
        "id": "QQKQ25Rd7zid"
      },
      "id": "QQKQ25Rd7zid"
    },
    {
      "cell_type": "markdown",
      "source": [
        "## Create a few clip examples"
      ],
      "metadata": {
        "id": "bq0v__COMpDK"
      },
      "id": "bq0v__COMpDK"
    },
    {
      "cell_type": "markdown",
      "source": [
        "Test different parameters (e.g. compression rate, color modifications) in randomly selected clip examples"
      ],
      "metadata": {
        "id": "klrtgtZ0M2hs"
      },
      "id": "klrtgtZ0M2hs"
    },
    {
      "cell_type": "code",
      "source": [
        "random_clip_selection = t3.select_random_clips(\n",
        "    movie_i = movie_selected.value,\n",
        "    db_info_dict = db_info_dict\n",
        ")"
      ],
      "metadata": {
        "id": "dmTJM7hvMvpU"
      },
      "id": "dmTJM7hvMvpU",
      "execution_count": null,
      "outputs": []
    },
    {
      "cell_type": "code",
      "source": [
        "example_clips = t3.create_example_clips(\n",
        "    movie_i = movie_selected.value,\n",
        "    movie_path = movie_path,\n",
        "    db_info_dict = db_info_dict,\n",
        "    project = project,\n",
        "    clip_selection = random_clip_selection\n",
        ")"
      ],
      "metadata": {
        "id": "EcueiHWXMz7p"
      },
      "id": "EcueiHWXMz7p",
      "execution_count": null,
      "outputs": []
    },
    {
      "cell_type": "markdown",
      "source": [
        "## Review the size of the temporary clips"
      ],
      "metadata": {
        "id": "Q3PbyBR5M4fg"
      },
      "id": "Q3PbyBR5M4fg"
    },
    {
      "cell_type": "code",
      "source": [
        "t3.check_clip_size(clips_list = example_clips)"
      ],
      "metadata": {
        "id": "0iJ_DMsWM9Wm"
      },
      "id": "0iJ_DMsWM9Wm",
      "execution_count": null,
      "outputs": []
    },
    {
      "cell_type": "markdown",
      "source": [
        "## Select the clip modification"
      ],
      "metadata": {
        "id": "5BTfSpAsM-dn"
      },
      "id": "5BTfSpAsM-dn"
    },
    {
      "cell_type": "code",
      "source": [
        "clip_modification = t3.clip_modification_widget()\n",
        "clip_modification"
      ],
      "metadata": {
        "id": "zSr9_9T2NCs_"
      },
      "id": "zSr9_9T2NCs_",
      "execution_count": null,
      "outputs": []
    },
    {
      "cell_type": "markdown",
      "source": [
        "### Specify the GPU availability"
      ],
      "metadata": {
        "id": "VY-YVASyofVU"
      },
      "id": "VY-YVASyofVU"
    },
    {
      "cell_type": "code",
      "source": [
        "gpu_available = t3.gpu_select()"
      ],
      "metadata": {
        "id": "ulpoaaNHoiUz"
      },
      "id": "ulpoaaNHoiUz",
      "execution_count": null,
      "outputs": []
    },
    {
      "cell_type": "code",
      "source": [
        "# To uncomment in t3\n",
        "!git clone https://github.com/rokibulislaam/colab-ffmpeg-cuda.git\n",
        "!cp -r ./colab-ffmpeg-cuda/bin/. /usr/bin/"
      ],
      "metadata": {
        "id": "JPoEbgiQo-Nr"
      },
      "id": "JPoEbgiQo-Nr",
      "execution_count": null,
      "outputs": []
    },
    {
      "cell_type": "markdown",
      "source": [
        "### Modify the clip examples\n"
      ],
      "metadata": {
        "id": "GqP9LM7-NFg7"
      },
      "id": "GqP9LM7-NFg7"
    },
    {
      "cell_type": "code",
      "source": [
        "modified_clips = t3.create_modified_clips(\n",
        "    clips_list = example_clips,\n",
        "    movie_i = movie_selected.value,\n",
        "    modification_details = clip_modification.checks,\n",
        "    project = project,\n",
        "    gpu_available = gpu_available.result\n",
        ")"
      ],
      "metadata": {
        "id": "sZtj9shKo71j"
      },
      "id": "sZtj9shKo71j",
      "execution_count": null,
      "outputs": []
    },
    {
      "cell_type": "markdown",
      "source": [
        "## Review the size of the modified clips"
      ],
      "metadata": {
        "id": "qEWyOitgNLSf"
      },
      "id": "qEWyOitgNLSf"
    },
    {
      "cell_type": "code",
      "source": [
        "t3.check_clip_size(clips_list = modified_clips)"
      ],
      "metadata": {
        "id": "2vNIENCTNNUW"
      },
      "id": "2vNIENCTNNUW",
      "execution_count": null,
      "outputs": []
    },
    {
      "cell_type": "markdown",
      "source": [
        "## Compare the clips"
      ],
      "metadata": {
        "id": "W2NnI0A-NPpn"
      },
      "id": "W2NnI0A-NPpn"
    },
    {
      "cell_type": "code",
      "source": [
        "t3.compare_clips(\n",
        "    example_clips = example_clips,\n",
        "    modified_clips = modified_clips\n",
        ")"
      ],
      "metadata": {
        "id": "zXQOMNRsNRMf"
      },
      "id": "zXQOMNRsNRMf",
      "execution_count": null,
      "outputs": []
    },
    {
      "cell_type": "markdown",
      "source": [
        "# Create the clips to upload to Zooniverse"
      ],
      "metadata": {
        "id": "a9NhZKK-NS_s"
      },
      "id": "a9NhZKK-NS_s"
    },
    {
      "cell_type": "markdown",
      "source": [
        "## Preview again the movie selected"
      ],
      "metadata": {
        "id": "QrcJE5ywZhzD"
      },
      "id": "QrcJE5ywZhzD"
    },
    {
      "cell_type": "code",
      "source": [
        "movie_display"
      ],
      "metadata": {
        "id": "-NdRYwh7ZfEv"
      },
      "id": "-NdRYwh7ZfEv",
      "execution_count": null,
      "outputs": []
    },
    {
      "cell_type": "markdown",
      "source": [
        "## Specify the number of clips and clip length"
      ],
      "metadata": {
        "id": "mK7UpTFwNX6S"
      },
      "id": "mK7UpTFwNX6S"
    },
    {
      "cell_type": "code",
      "source": [
        "clip_selection = t3.select_clip_n_len(\n",
        "    movie_i = movie_selected.value,\n",
        "     db_info_dict = db_info_dict\n",
        "     )"
      ],
      "metadata": {
        "id": "tspAVRDGNW5X"
      },
      "id": "tspAVRDGNW5X",
      "execution_count": null,
      "outputs": []
    },
    {
      "cell_type": "markdown",
      "source": [
        "## Review the clips that will be created"
      ],
      "metadata": {
        "id": "PlhD28PvNeEF"
      },
      "id": "PlhD28PvNeEF"
    },
    {
      "cell_type": "code",
      "source": [
        "t3.review_clip_selection(\n",
        "    clip_selection = clip_selection, \n",
        "    movie_i = movie_selected.value,\n",
        "    clip_modification = clip_modification\n",
        ")"
      ],
      "metadata": {
        "id": "IXkwpjXhNXUl"
      },
      "id": "IXkwpjXhNXUl",
      "execution_count": null,
      "outputs": []
    },
    {
      "cell_type": "markdown",
      "source": [
        "## Create the clips"
      ],
      "metadata": {
        "id": "wBCemoZiNic5"
      },
      "id": "wBCemoZiNic5"
    },
    {
      "cell_type": "code",
      "source": [
        "clips_to_upload_df = t3.create_clips(\n",
        "    available_movies_df = available_movies_df, \n",
        "    movie_i = movie_selected.value,\n",
        "    movie_path = movie_path,\n",
        "    db_info_dict = db_info_dict,\n",
        "    clip_selection = clip_selection, \n",
        "    project = project, \n",
        "    modification_details = clip_modification.checks,\n",
        "    gpu_available = gpu_available.result\n",
        ")"
      ],
      "metadata": {
        "id": "idoKSzjpNof6"
      },
      "id": "idoKSzjpNof6",
      "execution_count": null,
      "outputs": []
    },
    {
      "cell_type": "markdown",
      "source": [
        "## Review the size of the clips"
      ],
      "metadata": {
        "id": "vuhoSd_nNsZJ"
      },
      "id": "vuhoSd_nNsZJ"
    },
    {
      "cell_type": "code",
      "source": [
        "t3.check_clip_size(clips_list = clips_to_upload_df.clip_path.to_list())"
      ],
      "metadata": {
        "id": "ACnwMvssNrxX"
      },
      "id": "ACnwMvssNrxX",
      "execution_count": null,
      "outputs": []
    },
    {
      "cell_type": "markdown",
      "source": [
        "# Upload clips to Zooniverse"
      ],
      "metadata": {
        "id": "dp4F7oNfRIbA"
      },
      "id": "dp4F7oNfRIbA"
    },
    {
      "cell_type": "markdown",
      "source": [
        "## Set Zooniverse metadata"
      ],
      "metadata": {
        "id": "i1HBq524RI_K"
      },
      "id": "i1HBq524RI_K"
    },
    {
      "cell_type": "markdown",
      "source": [
        "Make sure your workflows in Zooniverse have different names to avoid issues while selecting the workflow id"
      ],
      "metadata": {
        "id": "3-SdYz25RMNP"
      },
      "id": "3-SdYz25RMNP"
    },
    {
      "cell_type": "code",
      "source": [
        "upload_to_zoo, sitename, created_on = t3.set_zoo_metadata(\n",
        "    db_info_dict = db_info_dict, \n",
        "    df = clips_to_upload_df,\n",
        "    project = project\n",
        "    )"
      ],
      "metadata": {
        "id": "brSCedDbPncC"
      },
      "id": "brSCedDbPncC",
      "execution_count": 29,
      "outputs": []
    },
    {
      "cell_type": "markdown",
      "source": [
        "## Upload clips to Zooniverse"
      ],
      "metadata": {
        "id": "4XYIpG6fRROo"
      },
      "id": "4XYIpG6fRROo"
    },
    {
      "cell_type": "markdown",
      "source": [
        "You may receive an error message related to file size if clips exceed the recommended limit for Zooniverse uploads. In this case, we recommend shortening the clip length to achieve a suitable filesize."
      ],
      "metadata": {
        "id": "yXlUNQhYRWcQ"
      },
      "id": "yXlUNQhYRWcQ"
    },
    {
      "cell_type": "code",
      "source": [
        "t3.upload_clips_to_zooniverse(\n",
        "    upload_to_zoo = upload_to_zoo, \n",
        "    sitename = sitename,\n",
        "    created_on = created_on,\n",
        "    project = project.Zooniverse_number\n",
        ")"
      ],
      "metadata": {
        "id": "vALY0dFDPnfb"
      },
      "id": "vALY0dFDPnfb",
      "execution_count": null,
      "outputs": []
    },
    {
      "cell_type": "code",
      "source": [
        "#END"
      ],
      "metadata": {
        "id": "Ewbv8G7fRagf"
      },
      "id": "Ewbv8G7fRagf",
      "execution_count": null,
      "outputs": []
    }
  ],
  "metadata": {
    "kernelspec": {
      "display_name": "Python 3 (ipykernel)",
      "language": "python",
      "name": "python3"
    },
    "language_info": {
      "codemirror_mode": {
        "name": "ipython",
        "version": 3
      },
      "file_extension": ".py",
      "mimetype": "text/x-python",
      "name": "python",
      "nbconvert_exporter": "python",
      "pygments_lexer": "ipython3",
      "version": "3.8.13"
    },
    "colab": {
      "name": "Dev 3. Upload clips to Zooniverse.ipynb",
      "provenance": [],
      "collapsed_sections": [
        "Hro0l-z-OxAA",
        "cEy0Uz9ZO17V",
        "cuCiI4KqPZSw"
      ]
    },
    "accelerator": "GPU",
    "widgets": {
      "application/vnd.jupyter.widget-state+json": {
        "e24a518ab9ed4efe98659a06fc29f6d5": {
          "model_module": "@jupyter-widgets/controls",
          "model_name": "DropdownModel",
          "model_module_version": "2.0.0",
          "state": {
            "_dom_classes": [],
            "_model_module": "@jupyter-widgets/controls",
            "_model_module_version": "2.0.0",
            "_model_name": "DropdownModel",
            "_options_labels": [
              "Koster_Seafloor_Obs",
              "Spyfish_Aotearoa",
              "SGU",
              "Medins"
            ],
            "_view_count": null,
            "_view_module": "@jupyter-widgets/controls",
            "_view_module_version": "2.0.0",
            "_view_name": "DropdownView",
            "description": "Project:",
            "description_allow_html": false,
            "disabled": false,
            "index": 1,
            "layout": "IPY_MODEL_21e81a9786ec4d73b30c516c3d94e04f",
            "style": "IPY_MODEL_1277a63779e0434c889ed5204e12f794",
            "tabbable": null,
            "tooltip": null
          }
        },
        "21e81a9786ec4d73b30c516c3d94e04f": {
          "model_module": "@jupyter-widgets/base",
          "model_name": "LayoutModel",
          "model_module_version": "2.0.0",
          "state": {
            "_model_module": "@jupyter-widgets/base",
            "_model_module_version": "2.0.0",
            "_model_name": "LayoutModel",
            "_view_count": null,
            "_view_module": "@jupyter-widgets/base",
            "_view_module_version": "2.0.0",
            "_view_name": "LayoutView",
            "align_content": null,
            "align_items": null,
            "align_self": null,
            "border_bottom": null,
            "border_left": null,
            "border_right": null,
            "border_top": null,
            "bottom": null,
            "display": null,
            "flex": null,
            "flex_flow": null,
            "grid_area": null,
            "grid_auto_columns": null,
            "grid_auto_flow": null,
            "grid_auto_rows": null,
            "grid_column": null,
            "grid_gap": null,
            "grid_row": null,
            "grid_template_areas": null,
            "grid_template_columns": null,
            "grid_template_rows": null,
            "height": null,
            "justify_content": null,
            "justify_items": null,
            "left": null,
            "margin": null,
            "max_height": null,
            "max_width": null,
            "min_height": null,
            "min_width": null,
            "object_fit": null,
            "object_position": null,
            "order": null,
            "overflow": null,
            "padding": null,
            "right": null,
            "top": null,
            "visibility": null,
            "width": null
          }
        },
        "1277a63779e0434c889ed5204e12f794": {
          "model_module": "@jupyter-widgets/controls",
          "model_name": "DescriptionStyleModel",
          "model_module_version": "2.0.0",
          "state": {
            "_model_module": "@jupyter-widgets/controls",
            "_model_module_version": "2.0.0",
            "_model_name": "DescriptionStyleModel",
            "_view_count": null,
            "_view_module": "@jupyter-widgets/base",
            "_view_module_version": "2.0.0",
            "_view_name": "StyleView",
            "description_width": ""
          }
        }
      }
    }
  },
  "nbformat": 4,
  "nbformat_minor": 5
}