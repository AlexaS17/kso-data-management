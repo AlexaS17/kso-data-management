{
 "cells": [
  {
   "cell_type": "markdown",
   "id": "95aea466",
   "metadata": {},
   "source": [
    "<img align=\"left\" src=\"https://panoptes-uploads.zooniverse.org/project_avatar/86c23ca7-bbaa-4e84-8d8a-876819551431.png\" type=\"image/png\" height=100 width=100>\n",
    "</img>\n",
    "\n",
    "\n",
    "<h1 align=\"right\">Colab KSO Tutorials #11: Concatenate files from AWS</h1>\n",
    "<h3 align=\"right\">Written by @jannesgg and @vykanton</h3>\n",
    "<h5 align=\"right\">Last updated: May 23rd, 2022</h5>"
   ]
  },
  {
   "cell_type": "markdown",
   "id": "6f0fc779",
   "metadata": {},
   "source": [
    "# Set up and requirements"
   ]
  },
  {
   "cell_type": "markdown",
   "id": "ed3d9d14",
   "metadata": {},
   "source": [
    "## Install kso_data_management and its requirements"
   ]
  },
  {
   "cell_type": "code",
   "execution_count": null,
   "id": "bde47fd9",
   "metadata": {},
   "outputs": [],
   "source": [
    "try:\n",
    "  import google.colab\n",
    "  import os\n",
    "  IN_COLAB = True\n",
    "  print(\"Running in Colab...\")\n",
    "\n",
    "  # Clone koster_data_management repo\n",
    "  !git clone --quiet --recurse-submodules -b dev https://github.com/ocean-data-factory-sweden/koster_data_management.git\n",
    "  !pip install -q --upgrade pip\n",
    "  !pip install -q -r koster_data_management/requirements.txt\n",
    "  \n",
    "  # Fix libmagic issue\n",
    "  !apt-get -qq update && apt-get -qq install -y libmagic-dev > /dev/null\n",
    "  \n",
    "  # Enable external widgets\n",
    "  from google.colab import output\n",
    "  output.enable_custom_widget_manager()\n",
    "\n",
    "  os.chdir(\"koster_data_management/tutorials\")\n",
    "  print(\"All packages are installed and ready to go!\")\n",
    "except:\n",
    "  IN_COLAB = False\n",
    "  print(\"Running locally... you're good to go!\")"
   ]
  },
  {
   "cell_type": "markdown",
   "id": "e58fdbaf",
   "metadata": {},
   "source": [
    "### Import Python packages"
   ]
  },
  {
   "cell_type": "code",
   "execution_count": null,
   "id": "46ca201f",
   "metadata": {},
   "outputs": [],
   "source": [
    "# Set the directory of the libraries\n",
    "import sys, os\n",
    "from pathlib import Path\n",
    "\n",
    "# Enables testing changes in utils\n",
    "%load_ext autoreload\n",
    "%autoreload 2\n",
    "\n",
    "# Specify the path of the tutorials\n",
    "sys.path.append('..')\n",
    "\n",
    "# Enable third party widgets\n",
    "from google.colab import output\n",
    "output.enable_custom_widget_manager()\n",
    "\n",
    "# Import required modules\n",
    "import kso_utils.tutorials_utils as t_utils\n",
    "import kso_utils.project_utils as p_utils\n",
    "import kso_utils.t11_utils as t11\n",
    "\n",
    "print(\"Packages loaded successfully\")"
   ]
  },
  {
   "cell_type": "markdown",
   "id": "fdc7152a",
   "metadata": {},
   "source": [
    "## Choose your project"
   ]
  },
  {
   "cell_type": "code",
   "execution_count": null,
   "id": "1c1aabda",
   "metadata": {},
   "outputs": [],
   "source": [
    "project_name = t_utils.choose_project()"
   ]
  },
  {
   "cell_type": "markdown",
   "id": "4f2f1338",
   "metadata": {},
   "source": [
    "## Initiate sql and get server or local storage details"
   ]
  },
  {
   "cell_type": "code",
   "execution_count": null,
   "id": "642848db",
   "metadata": {},
   "outputs": [],
   "source": [
    "# Save project name\n",
    "project = p_utils.find_project(project_name=project_name.value)\n",
    "# Initiate db\n",
    "db_info_dict = t_utils.initiate_db(project)"
   ]
  },
  {
   "cell_type": "markdown",
   "id": "7fdead85",
   "metadata": {},
   "source": [
    "## Get info from go pro movies"
   ]
  },
  {
   "cell_type": "code",
   "execution_count": null,
   "id": "21808e36",
   "metadata": {},
   "outputs": [],
   "source": [
    "missing_from_server, missing_from_csv = t11.check_movies_from_server(db_info_dict, project)"
   ]
  },
  {
   "cell_type": "markdown",
   "id": "0e492084",
   "metadata": {},
   "source": [
    "## Select deployment recorded on the same date"
   ]
  },
  {
   "cell_type": "code",
   "execution_count": null,
   "id": "93c07a90-5004-444b-b5b3-9e983d86c82b",
   "metadata": {},
   "outputs": [],
   "source": [
    "deployment_selected = t11.select_deployment(missing_from_csv)"
   ]
  },
  {
   "cell_type": "markdown",
   "id": "17e4270b",
   "metadata": {},
   "source": [
    "## Select date of recording"
   ]
  },
  {
   "cell_type": "code",
   "execution_count": null,
   "id": "e26645a2",
   "metadata": {
    "scrolled": true
   },
   "outputs": [],
   "source": [
    "event_date = t11.select_eventdate()"
   ]
  },
  {
   "cell_type": "markdown",
   "id": "167122dd",
   "metadata": {},
   "source": [
    "## Concatenate the movies"
   ]
  },
  {
   "cell_type": "code",
   "execution_count": null,
   "id": "bb0982c6",
   "metadata": {},
   "outputs": [],
   "source": [
    "t11.update_new_deployments(deployment_selected, db_info_dict, event_date)"
   ]
  },
  {
   "cell_type": "code",
   "execution_count": null,
   "id": "c0a0fd24",
   "metadata": {},
   "outputs": [],
   "source": [
    "#END"
   ]
  }
 ],
 "metadata": {
  "kernelspec": {
   "display_name": "Python 3.8.8 ('odf')",
   "language": "python",
   "name": "python3"
  },
  "language_info": {
   "codemirror_mode": {
    "name": "ipython",
    "version": 3
   },
   "file_extension": ".py",
   "mimetype": "text/x-python",
   "name": "python",
   "nbconvert_exporter": "python",
   "pygments_lexer": "ipython3",
   "version": "3.8.8"
  },
  "vscode": {
   "interpreter": {
    "hash": "9f0064b85a3bc365415745ead9abb78ac240c43fe3a2a9861333bea64f4ce941"
   }
  }
 },
 "nbformat": 4,
 "nbformat_minor": 5
}
