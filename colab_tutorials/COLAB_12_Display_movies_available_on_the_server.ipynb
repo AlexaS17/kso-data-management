{
  "cells": [
    {
      "cell_type": "markdown",
      "id": "b169b8d0",
      "metadata": {
        "id": "b169b8d0"
      },
      "source": [
        "<img align=\"left\" src=\"https://panoptes-uploads.zooniverse.org/project_avatar/86c23ca7-bbaa-4e84-8d8a-876819551431.png\" type=\"image/png\" height=100 width=100>\n",
        "</img>\n",
        "<h1 align=\"right\">Colab KSO Tutorial #12: Display movies available on the server</h1>\n",
        "<h3 align=\"right\">Written by @jannesgg and @vykanton</h3>\n",
        "<h5 align=\"right\">Last updated: Jun 19, 2022</h5>"
      ]
    },
    {
      "cell_type": "markdown",
      "id": "3ee20d67",
      "metadata": {
        "id": "3ee20d67"
      },
      "source": [
        "# Set up and requirements"
      ]
    },
    {
      "cell_type": "markdown",
      "id": "NnXXPVCynVXv",
      "metadata": {
        "id": "NnXXPVCynVXv"
      },
      "source": [
        "## Install kso_data_management and its requirements"
      ]
    },
    {
      "cell_type": "code",
      "execution_count": null,
      "id": "euLU610Jo8xh",
      "metadata": {
        "id": "euLU610Jo8xh"
      },
      "outputs": [],
      "source": [
        "# Clone koster_data_management repo\n",
        "!git clone --recurse-submodules https://github.com/ocean-data-factory-sweden/koster_data_management.git\n",
        "!pip install -r koster_data_management/requirements.txt\n",
        "\n",
        "# Restart the session to load the latest packages\n",
        "exit()"
      ]
    },
    {
      "cell_type": "markdown",
      "id": "896f0873",
      "metadata": {
        "id": "896f0873"
      },
      "source": [
        "### Import Python packages"
      ]
    },
    {
      "cell_type": "code",
      "execution_count": null,
      "id": "hTkxlN2MJxdb",
      "metadata": {
        "id": "hTkxlN2MJxdb"
      },
      "outputs": [],
      "source": [
        "# Set the directory of the libraries\n",
        "import sys, os\n",
        "from pathlib import Path\n",
        "\n",
        "# Enables testing changes in utils\n",
        "%load_ext autoreload\n",
        "%autoreload 2\n",
        "\n",
        "# Specify the path of the tutorials\n",
        "os.chdir(\"koster_data_management/tutorials\")\n",
        "sys.path.append('..')\n",
        "\n",
        "# Import required modules\n",
        "import kso_utils.tutorials_utils as t_utils\n",
        "import kso_utils.project_utils as p_utils\n",
        "import kso_utils.server_utils as s_utils\n",
        "\n",
        "print(\"Packages loaded successfully\")"
      ]
    },
    {
      "cell_type": "markdown",
      "id": "8c51ffb6",
      "metadata": {
        "id": "8c51ffb6"
      },
      "source": [
        "### Choose your project"
      ]
    },
    {
      "cell_type": "code",
      "execution_count": null,
      "id": "bfef12df",
      "metadata": {
        "id": "bfef12df"
      },
      "outputs": [],
      "source": [
        "project_name = t_utils.choose_project()"
      ]
    },
    {
      "cell_type": "markdown",
      "id": "39f5065c",
      "metadata": {
        "id": "39f5065c"
      },
      "source": [
        "## Initiate database"
      ]
    },
    {
      "cell_type": "code",
      "execution_count": null,
      "id": "8a7abc2f",
      "metadata": {
        "id": "8a7abc2f",
        "scrolled": true
      },
      "outputs": [],
      "source": [
        "# Initiate db\n",
        "project = p_utils.find_project(project_name = project_name.value)\n",
        "db_info_dict = t_utils.initiate_db(project)"
      ]
    },
    {
      "cell_type": "markdown",
      "id": "3bdb9ff9",
      "metadata": {
        "id": "3bdb9ff9"
      },
      "source": [
        "## Retrieve info of movies available on the server"
      ]
    },
    {
      "cell_type": "code",
      "execution_count": 5,
      "id": "0c2d059b",
      "metadata": {
        "id": "0c2d059b"
      },
      "outputs": [],
      "source": [
        "available_movies_df = s_utils.retrieve_movie_info_from_server(\n",
        "    project = project,\n",
        "    db_info_dict = db_info_dict\n",
        ")"
      ]
    },
    {
      "cell_type": "markdown",
      "id": "lq8kiRqqnxe8",
      "metadata": {
        "id": "lq8kiRqqnxe8"
      },
      "source": [
        "# Select the movie of interest"
      ]
    },
    {
      "cell_type": "code",
      "execution_count": null,
      "id": "6667d092",
      "metadata": {
        "id": "6667d092"
      },
      "outputs": [],
      "source": [
        "movie_selected = t_utils.select_movie(available_movies_df)"
      ]
    },
    {
      "cell_type": "markdown",
      "source": [
        "# Display the movie"
      ],
      "metadata": {
        "id": "eVVhvJ_2tzAA"
      },
      "id": "eVVhvJ_2tzAA"
    },
    {
      "cell_type": "code",
      "execution_count": null,
      "id": "04b2Jn-t6Qqz",
      "metadata": {
        "id": "04b2Jn-t6Qqz"
      },
      "outputs": [],
      "source": [
        "movie_display, movie_path = t_utils.preview_movie(\n",
        "    project = project,\n",
        "    db_info_dict = db_info_dict, \n",
        "    available_movies_df = available_movies_df, \n",
        "    movie_i = movie_selected.value\n",
        ")\n",
        "movie_display"
      ]
    },
    {
      "cell_type": "code",
      "execution_count": null,
      "id": "Ewbv8G7fRagf",
      "metadata": {
        "id": "Ewbv8G7fRagf"
      },
      "outputs": [],
      "source": [
        "#END"
      ]
    }
  ],
  "metadata": {
    "colab": {
      "collapsed_sections": [
        "Hro0l-z-OxAA",
        "cEy0Uz9ZO17V",
        "cuCiI4KqPZSw"
      ],
      "name": "COLAB_12. Display movies available on the server.ipynb",
      "provenance": []
    },
    "kernelspec": {
      "display_name": "Python 3 (ipykernel)",
      "language": "python",
      "name": "python3"
    },
    "language_info": {
      "codemirror_mode": {
        "name": "ipython",
        "version": 3
      },
      "file_extension": ".py",
      "mimetype": "text/x-python",
      "name": "python",
      "nbconvert_exporter": "python",
      "pygments_lexer": "ipython3",
      "version": "3.7.13"
    },
    "gpuClass": "standard"
  },
  "nbformat": 4,
  "nbformat_minor": 5
}