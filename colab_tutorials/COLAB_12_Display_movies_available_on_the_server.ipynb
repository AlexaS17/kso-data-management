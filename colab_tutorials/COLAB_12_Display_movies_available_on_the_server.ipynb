{
  "cells": [
    {
      "cell_type": "markdown",
      "id": "b169b8d0",
      "metadata": {
        "id": "b169b8d0"
      },
      "source": [
        "<img align=\"left\" src=\"https://panoptes-uploads.zooniverse.org/project_avatar/86c23ca7-bbaa-4e84-8d8a-876819551431.png\" type=\"image/png\" height=100 width=100>\n",
        "</img>\n",
        "<h1 align=\"right\">Colab KSO Tutorial #12: Display movies available on the server</h1>\n",
        "<h3 align=\"right\">Written by @jannesgg and @vykanton</h3>\n",
        "<h5 align=\"right\">Last updated: Jun 19, 2022</h5>"
      ]
    },
    {
      "cell_type": "markdown",
      "id": "3ee20d67",
      "metadata": {
        "id": "3ee20d67"
      },
      "source": [
        "# Set up and requirements"
      ]
    },
    {
      "cell_type": "markdown",
      "id": "NnXXPVCynVXv",
      "metadata": {
        "id": "NnXXPVCynVXv"
      },
      "source": [
        "## Install kso_data_management and its requirements"
      ]
    },
    {
      "cell_type": "code",
      "execution_count": null,
      "id": "euLU610Jo8xh",
      "metadata": {
        "id": "euLU610Jo8xh"
      },
      "outputs": [],
      "source": [
        "try:\n",
        "  import google.colab\n",
        "  import os\n",
        "  IN_COLAB = True\n",
        "  print(\"Running in Colab...\")\n",
        "\n",
        "  # Clone koster_data_management repo\n",
        "  !git clone --quiet --recurse-submodules -b dev https://github.com/ocean-data-factory-sweden/koster_data_management.git\n",
        "  !pip install -q --upgrade pip\n",
        "  !pip install -q -r koster_data_management/requirements.txt\n",
        "  \n",
        "  # Fix libmagic issue\n",
        "  !apt-get -qq update && apt-get -qq install -y libmagic-dev\n",
        "\n",
        "  # Enable external widgets\n",
        "  from google.colab import output\n",
        "  output.enable_custom_widget_manager()\n",
        "\n",
        "  os.chdir(\"koster_data_management/tutorials\")\n",
        "  print(\"All packages are installed and ready to go!\")\n",
        "except:\n",
        "  IN_COLAB = False\n",
        "  print(\"Running locally... you're good to go!\")"
      ]
    },
    {
      "cell_type": "markdown",
      "id": "896f0873",
      "metadata": {
        "id": "896f0873"
      },
      "source": [
        "### Import Python packages"
      ]
    },
    {
      "cell_type": "code",
      "execution_count": null,
      "id": "hTkxlN2MJxdb",
      "metadata": {
        "id": "hTkxlN2MJxdb"
      },
      "outputs": [],
      "source": [
        "# Set the directory of the libraries\n",
        "import sys, os\n",
        "from pathlib import Path\n",
        "\n",
        "# Enables testing changes in utils\n",
        "%load_ext autoreload\n",
        "%autoreload 2\n",
        "\n",
        "# Specify the path of the tutorials\n",
        "sys.path.append('..')\n",
        "\n",
        "# Import required modules\n",
        "import kso_utils.tutorials_utils as t_utils\n",
        "import kso_utils.project_utils as p_utils\n",
        "import kso_utils.server_utils as s_utils\n",
        "\n",
        "print(\"Packages loaded successfully\")"
      ]
    },
    {
      "cell_type": "markdown",
      "id": "8c51ffb6",
      "metadata": {
        "id": "8c51ffb6"
      },
      "source": [
        "### Choose your project"
      ]
    },
    {
      "cell_type": "code",
      "execution_count": 2,
      "id": "bfef12df",
      "metadata": {
        "colab": {
          "base_uri": "https://localhost:8080/",
          "height": 49,
          "referenced_widgets": [
            "2a4f457ba1684d52bf8584fbc689e0c1",
            "b21d8a5ab11649dc8fc1756a04b09203",
            "fd7b8653a44b4fbbb76117d3ec057d52"
          ]
        },
        "id": "bfef12df",
        "outputId": "d152a6e3-5af9-41a7-d0a0-a217021227fb"
      },
      "outputs": [
        {
          "data": {
            "application/vnd.jupyter.widget-view+json": {
              "model_id": "2a4f457ba1684d52bf8584fbc689e0c1",
              "version_major": 2,
              "version_minor": 0
            },
            "text/plain": [
              "Dropdown(description='Project:', options=('Template project', 'Koster_Seafloor_Obs', 'Spyfish_Aotearoa', 'SGU'…"
            ]
          },
          "metadata": {},
          "output_type": "display_data"
        }
      ],
      "source": [
        "project_name = t_utils.choose_project()"
      ]
    },
    {
      "cell_type": "markdown",
      "id": "39f5065c",
      "metadata": {
        "id": "39f5065c"
      },
      "source": [
        "## Initiate database"
      ]
    },
    {
      "cell_type": "code",
      "execution_count": null,
      "id": "8a7abc2f",
      "metadata": {
        "id": "8a7abc2f",
        "scrolled": true
      },
      "outputs": [],
      "source": [
        "# Initiate db\n",
        "project = p_utils.find_project(project_name = project_name.value)\n",
        "db_info_dict = t_utils.initiate_db(project)"
      ]
    },
    {
      "cell_type": "markdown",
      "id": "3bdb9ff9",
      "metadata": {
        "id": "3bdb9ff9"
      },
      "source": [
        "## Retrieve info of movies available on the server"
      ]
    },
    {
      "cell_type": "code",
      "execution_count": null,
      "id": "0c2d059b",
      "metadata": {
        "id": "0c2d059b"
      },
      "outputs": [],
      "source": [
        "available_movies_df = s_utils.retrieve_movie_info_from_server(\n",
        "    project = project,\n",
        "    db_info_dict = db_info_dict\n",
        ")"
      ]
    },
    {
      "cell_type": "markdown",
      "id": "lq8kiRqqnxe8",
      "metadata": {
        "id": "lq8kiRqqnxe8"
      },
      "source": [
        "# Select the movie of interest"
      ]
    },
    {
      "cell_type": "code",
      "execution_count": null,
      "id": "6667d092",
      "metadata": {
        "id": "6667d092"
      },
      "outputs": [],
      "source": [
        "movie_selected = t_utils.select_movie(available_movies_df)"
      ]
    },
    {
      "cell_type": "markdown",
      "id": "eVVhvJ_2tzAA",
      "metadata": {
        "id": "eVVhvJ_2tzAA"
      },
      "source": [
        "# Display the movie"
      ]
    },
    {
      "cell_type": "code",
      "execution_count": null,
      "id": "04b2Jn-t6Qqz",
      "metadata": {
        "id": "04b2Jn-t6Qqz"
      },
      "outputs": [],
      "source": [
        "movie_display, movie_path = t_utils.preview_movie(\n",
        "    project = project,\n",
        "    db_info_dict = db_info_dict, \n",
        "    available_movies_df = available_movies_df, \n",
        "    movie_i = movie_selected.value\n",
        ")\n",
        "movie_display"
      ]
    },
    {
      "cell_type": "code",
      "execution_count": null,
      "id": "Ewbv8G7fRagf",
      "metadata": {
        "id": "Ewbv8G7fRagf"
      },
      "outputs": [],
      "source": [
        "#END"
      ]
    }
  ],
  "metadata": {
    "colab": {
      "collapsed_sections": [
        "Hro0l-z-OxAA",
        "cEy0Uz9ZO17V",
        "cuCiI4KqPZSw"
      ],
      "name": "COLAB_12. Display movies available on the server.ipynb",
      "provenance": []
    },
    "gpuClass": "standard",
    "kernelspec": {
      "display_name": "Python 3.8.8 ('odf')",
      "language": "python",
      "name": "python3"
    },
    "language_info": {
      "codemirror_mode": {
        "name": "ipython",
        "version": 3
      },
      "file_extension": ".py",
      "mimetype": "text/x-python",
      "name": "python",
      "nbconvert_exporter": "python",
      "pygments_lexer": "ipython3",
      "version": "3.8.8"
    },
    "vscode": {
      "interpreter": {
        "hash": "9f0064b85a3bc365415745ead9abb78ac240c43fe3a2a9861333bea64f4ce941"
      }
    },
    "widgets": {
      "application/vnd.jupyter.widget-state+json": {
        "2a4f457ba1684d52bf8584fbc689e0c1": {
          "model_module": "@jupyter-widgets/controls",
          "model_module_version": "2.0.0",
          "model_name": "DropdownModel",
          "state": {
            "_dom_classes": [],
            "_model_module": "@jupyter-widgets/controls",
            "_model_module_version": "2.0.0",
            "_model_name": "DropdownModel",
            "_options_labels": [
              "Template project",
              "Koster_Seafloor_Obs",
              "Spyfish_Aotearoa",
              "SGU",
              "Medins"
            ],
            "_view_count": null,
            "_view_module": "@jupyter-widgets/controls",
            "_view_module_version": "2.0.0",
            "_view_name": "DropdownView",
            "description": "Project:",
            "description_allow_html": false,
            "disabled": false,
            "index": 0,
            "layout": "IPY_MODEL_b21d8a5ab11649dc8fc1756a04b09203",
            "style": "IPY_MODEL_fd7b8653a44b4fbbb76117d3ec057d52",
            "tabbable": null,
            "tooltip": null
          }
        },
        "b21d8a5ab11649dc8fc1756a04b09203": {
          "model_module": "@jupyter-widgets/base",
          "model_module_version": "2.0.0",
          "model_name": "LayoutModel",
          "state": {
            "_model_module": "@jupyter-widgets/base",
            "_model_module_version": "2.0.0",
            "_model_name": "LayoutModel",
            "_view_count": null,
            "_view_module": "@jupyter-widgets/base",
            "_view_module_version": "2.0.0",
            "_view_name": "LayoutView",
            "align_content": null,
            "align_items": null,
            "align_self": null,
            "border_bottom": null,
            "border_left": null,
            "border_right": null,
            "border_top": null,
            "bottom": null,
            "display": null,
            "flex": null,
            "flex_flow": null,
            "grid_area": null,
            "grid_auto_columns": null,
            "grid_auto_flow": null,
            "grid_auto_rows": null,
            "grid_column": null,
            "grid_gap": null,
            "grid_row": null,
            "grid_template_areas": null,
            "grid_template_columns": null,
            "grid_template_rows": null,
            "height": null,
            "justify_content": null,
            "justify_items": null,
            "left": null,
            "margin": null,
            "max_height": null,
            "max_width": null,
            "min_height": null,
            "min_width": null,
            "object_fit": null,
            "object_position": null,
            "order": null,
            "overflow": null,
            "padding": null,
            "right": null,
            "top": null,
            "visibility": null,
            "width": null
          }
        },
        "fd7b8653a44b4fbbb76117d3ec057d52": {
          "model_module": "@jupyter-widgets/controls",
          "model_module_version": "2.0.0",
          "model_name": "DescriptionStyleModel",
          "state": {
            "_model_module": "@jupyter-widgets/controls",
            "_model_module_version": "2.0.0",
            "_model_name": "DescriptionStyleModel",
            "_view_count": null,
            "_view_module": "@jupyter-widgets/base",
            "_view_module_version": "2.0.0",
            "_view_name": "StyleView",
            "description_width": ""
          }
        }
      }
    }
  },
  "nbformat": 4,
  "nbformat_minor": 5
}
