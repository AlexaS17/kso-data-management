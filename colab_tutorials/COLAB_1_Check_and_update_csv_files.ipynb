{
  "cells": [
    {
      "cell_type": "markdown",
      "id": "95aea466",
      "metadata": {
        "id": "95aea466"
      },
      "source": [
        "<img align=\"left\" src=\"https://panoptes-uploads.zooniverse.org/project_avatar/86c23ca7-bbaa-4e84-8d8a-876819551431.png\" type=\"image/png\" height=100 width=100>\n",
        "</img>\n",
        "\n",
        "\n",
        "<h1 align=\"right\">Colab KSO Tutorial #1: Check and update csv files</h1>\n",
        "<h3 align=\"right\">Written by @jannesgg and @vykanton</h3>\n",
        "<h5 align=\"right\">Last updated: Jun 27th, 2022</h5>"
      ]
    },
    {
      "cell_type": "markdown",
      "id": "6f0fc779",
      "metadata": {
        "id": "6f0fc779"
      },
      "source": [
        "# Set up and requirements"
      ]
    },
    {
      "cell_type": "markdown",
      "id": "3c49080c",
      "metadata": {
        "id": "3c49080c"
      },
      "source": [
        "## Install kso_data_management and its requirements"
      ]
    },
    {
      "cell_type": "code",
      "execution_count": null,
      "id": "e6a1555e",
      "metadata": {
        "id": "e6a1555e"
      },
      "outputs": [],
      "source": [
        "# Clone koster_data_management repo\n",
        "!git clone --recurse-submodules -b dev https://github.com/ocean-data-factory-sweden/koster_data_management.git\n",
        "!pip install -r koster_data_management/requirements.txt\n",
        "\n",
        "# Install ipysheet version compatible in colab\n",
        "!pip install ipysheet==0.4.4\n",
        "\n",
        "# Restart the session to load the latest packages\n",
        "exit()"
      ]
    },
    {
      "cell_type": "markdown",
      "id": "6b9b11d5",
      "metadata": {
        "id": "6b9b11d5"
      },
      "source": [
        "### Import Python packages"
      ]
    },
    {
      "cell_type": "code",
      "execution_count": null,
      "id": "46ca201f",
      "metadata": {
        "id": "46ca201f"
      },
      "outputs": [],
      "source": [
        "# Set the directory of the libraries\n",
        "import sys, os\n",
        "from pathlib import Path\n",
        "\n",
        "# Enables testing changes in utils\n",
        "%load_ext autoreload\n",
        "%autoreload 2\n",
        "\n",
        "# Specify the path of the tutorials\n",
        "os.chdir(\"koster_data_management/tutorials\")\n",
        "sys.path.append('..')\n",
        "\n",
        "# Enable third-party widgets(ipysheet)\n",
        "from google.colab import output\n",
        "output.enable_custom_widget_manager()\n",
        "\n",
        "# Import required modules\n",
        "import kso_utils.tutorials_utils as t_utils\n",
        "import kso_utils.project_utils as p_utils\n",
        "import kso_utils.server_utils as serv_utils\n",
        "import kso_utils.t1_utils as t1\n",
        "\n",
        "print(\"Packages loaded successfully\")"
      ]
    },
    {
      "cell_type": "markdown",
      "id": "fdc7152a",
      "metadata": {
        "id": "fdc7152a"
      },
      "source": [
        "### Choose your project"
      ]
    },
    {
      "cell_type": "code",
      "execution_count": null,
      "id": "1c1aabda",
      "metadata": {
        "colab": {
          "base_uri": "https://localhost:8080/",
          "height": 49,
          "referenced_widgets": [
            "5e6c4ea642914a2bbc279cc54709c1b1",
            "7eab23445ed24e0fb4468fa04730bbe4",
            "0fa0ef13eca947848f1c9ec98353d11e"
          ]
        },
        "id": "1c1aabda",
        "outputId": "6b59fe21-6bba-49e0-c25e-f60bbb7b247b"
      },
      "outputs": [
        {
          "output_type": "display_data",
          "data": {
            "text/plain": [
              "Dropdown(description='Project:', options=('Template project', 'Koster_Seafloor_Obs', 'Spyfish_Aotearoa', 'SGU'…"
            ],
            "application/vnd.jupyter.widget-view+json": {
              "version_major": 2,
              "version_minor": 0,
              "model_id": "5e6c4ea642914a2bbc279cc54709c1b1"
            }
          },
          "metadata": {
            "application/vnd.jupyter.widget-view+json": {
              "colab": {
                "custom_widget_manager": {
                  "url": "https://ssl.gstatic.com/colaboratory-static/widgets/colab-cdn-widget-manager/a8874ba6619b6106/manager.min.js"
                }
              }
            }
          }
        }
      ],
      "source": [
        "project_name = t_utils.choose_project()"
      ]
    },
    {
      "cell_type": "markdown",
      "source": [
        "## Initiate database"
      ],
      "metadata": {
        "id": "2URxgu8PQDZh"
      },
      "id": "2URxgu8PQDZh"
    },
    {
      "cell_type": "code",
      "execution_count": null,
      "id": "41994eb6",
      "metadata": {
        "id": "41994eb6"
      },
      "outputs": [],
      "source": [
        "project = p_utils.find_project(project_name=project_name.value)\n",
        "db_info_dict = t_utils.initiate_db(project)"
      ]
    },
    {
      "cell_type": "markdown",
      "id": "52f976b8",
      "metadata": {
        "id": "52f976b8"
      },
      "source": [
        "# Review Sites information"
      ]
    },
    {
      "cell_type": "markdown",
      "source": [
        "## Map sites and metadata"
      ],
      "metadata": {
        "id": "5__P6hq1QRjF"
      },
      "id": "5__P6hq1QRjF"
    },
    {
      "cell_type": "code",
      "source": [
        "kso_map = t1.map_site(db_info_dict, project)\n",
        "kso_map"
      ],
      "metadata": {
        "id": "J9Dm5_ghmJ3_"
      },
      "id": "J9Dm5_ghmJ3_",
      "execution_count": null,
      "outputs": []
    },
    {
      "cell_type": "markdown",
      "source": [
        "## Update sites metadata"
      ],
      "metadata": {
        "id": "RzqjZinGQVux"
      },
      "id": "RzqjZinGQVux"
    },
    {
      "cell_type": "markdown",
      "source": [
        "You can update the contents of the cells in the spreadsheet below"
      ],
      "metadata": {
        "id": "TTEK-ACcp41U"
      },
      "id": "TTEK-ACcp41U"
    },
    {
      "cell_type": "code",
      "execution_count": null,
      "id": "9b01ccf5",
      "metadata": {
        "id": "9b01ccf5"
      },
      "outputs": [],
      "source": [
        "sites_sheet = t1.open_sites_csv(db_info_dict)\n",
        "sites_sheet"
      ]
    },
    {
      "cell_type": "code",
      "source": [
        "# Read the csv file with site information\n",
        "sites_df = pd.read_csv(db_info_dict[\"local_sites_csv\"])\n",
        "\n",
        "# Convert ipysheet to pandas\n",
        "sites_sheet_pd = ipysheet.to_dataframe(sites_sheet)\n",
        "\n",
        "\n",
        "df_all = pd.concat([sites_df.set_index('site_id'), sites_sheet_pd.set_index('site_id')], \n",
        "                   axis='columns', keys=['Origin', 'Update'])\n",
        "df_final = df_all.swaplevel(axis='columns')[sites_df.columns[1:]]\n",
        "df_final\n",
        "\n",
        "def highlight_diff(data, color='yellow'):\n",
        "    attr = 'background-color: {}'.format(color)\n",
        "    other = data.xs('Origin', axis='columns', level=-1)\n",
        "    return pd.DataFrame(np.where(data.ne(other, level=0), attr, ''),\n",
        "                        index=data.index, columns=data.columns)\n",
        "\n",
        "df_final.style.apply(highlight_diff, axis=None)"
      ],
      "metadata": {
        "id": "_hA3_9YoyuhN"
      },
      "id": "_hA3_9YoyuhN",
      "execution_count": null,
      "outputs": []
    },
    {
      "cell_type": "markdown",
      "source": [
        "### Confirm the changes"
      ],
      "metadata": {
        "id": "nUITsuBLqIx4"
      },
      "id": "nUITsuBLqIx4"
    },
    {
      "cell_type": "code",
      "source": [
        "t1.update_sites_csv(sites_df_sheet)"
      ],
      "metadata": {
        "id": "n5g_Fiq2qHdt"
      },
      "id": "n5g_Fiq2qHdt",
      "execution_count": null,
      "outputs": []
    },
    {
      "cell_type": "code",
      "execution_count": null,
      "id": "cf47c110",
      "metadata": {
        "id": "cf47c110"
      },
      "outputs": [],
      "source": [
        "sites_df = t1.check_sites_database(db_initial_info, sites_df_sheet, project)"
      ]
    },
    {
      "cell_type": "markdown",
      "id": "4b134a5c",
      "metadata": {
        "id": "4b134a5c"
      },
      "source": [
        "### Check the movies_csv"
      ]
    },
    {
      "cell_type": "code",
      "execution_count": null,
      "id": "es2UIJ_LlMXv",
      "metadata": {
        "id": "es2UIJ_LlMXv"
      },
      "outputs": [],
      "source": [
        "movies_df_sheet = t1.open_movies_csv(db_initial_info)\n",
        "movies_df_sheet"
      ]
    },
    {
      "cell_type": "code",
      "execution_count": null,
      "id": "b78b2738",
      "metadata": {
        "id": "b78b2738"
      },
      "outputs": [],
      "source": [
        "movies_df = t1.check_movies_csv(db_info_dict, movies_df_sheet, project)"
      ]
    },
    {
      "cell_type": "code",
      "execution_count": null,
      "id": "5fc74ec0",
      "metadata": {
        "id": "5fc74ec0"
      },
      "outputs": [],
      "source": [
        "#END"
      ]
    }
  ],
  "metadata": {
    "colab": {
      "name": "COLAB_1_Check_and_update_csv_files.ipynb",
      "provenance": [],
      "collapsed_sections": []
    },
    "kernelspec": {
      "display_name": "Python 3 (ipykernel)",
      "language": "python",
      "name": "python3"
    },
    "language_info": {
      "codemirror_mode": {
        "name": "ipython",
        "version": 3
      },
      "file_extension": ".py",
      "mimetype": "text/x-python",
      "name": "python",
      "nbconvert_exporter": "python",
      "pygments_lexer": "ipython3",
      "version": "3.7.13"
    },
    "widgets": {
      "application/vnd.jupyter.widget-state+json": {
        "5e6c4ea642914a2bbc279cc54709c1b1": {
          "model_module": "@jupyter-widgets/controls",
          "model_name": "DropdownModel",
          "model_module_version": "1.5.0",
          "state": {
            "_dom_classes": [],
            "_model_module": "@jupyter-widgets/controls",
            "_model_module_version": "1.5.0",
            "_model_name": "DropdownModel",
            "_options_labels": [
              "Template project",
              "Koster_Seafloor_Obs",
              "Spyfish_Aotearoa",
              "SGU",
              "Medins"
            ],
            "_view_count": null,
            "_view_module": "@jupyter-widgets/controls",
            "_view_module_version": "1.5.0",
            "_view_name": "DropdownView",
            "description": "Project:",
            "description_tooltip": null,
            "disabled": false,
            "index": 0,
            "layout": "IPY_MODEL_7eab23445ed24e0fb4468fa04730bbe4",
            "style": "IPY_MODEL_0fa0ef13eca947848f1c9ec98353d11e"
          }
        },
        "7eab23445ed24e0fb4468fa04730bbe4": {
          "model_module": "@jupyter-widgets/base",
          "model_name": "LayoutModel",
          "model_module_version": "1.2.0",
          "state": {
            "_model_module": "@jupyter-widgets/base",
            "_model_module_version": "1.2.0",
            "_model_name": "LayoutModel",
            "_view_count": null,
            "_view_module": "@jupyter-widgets/base",
            "_view_module_version": "1.2.0",
            "_view_name": "LayoutView",
            "align_content": null,
            "align_items": null,
            "align_self": null,
            "border": null,
            "bottom": null,
            "display": null,
            "flex": null,
            "flex_flow": null,
            "grid_area": null,
            "grid_auto_columns": null,
            "grid_auto_flow": null,
            "grid_auto_rows": null,
            "grid_column": null,
            "grid_gap": null,
            "grid_row": null,
            "grid_template_areas": null,
            "grid_template_columns": null,
            "grid_template_rows": null,
            "height": null,
            "justify_content": null,
            "justify_items": null,
            "left": null,
            "margin": null,
            "max_height": null,
            "max_width": null,
            "min_height": null,
            "min_width": null,
            "object_fit": null,
            "object_position": null,
            "order": null,
            "overflow": null,
            "overflow_x": null,
            "overflow_y": null,
            "padding": null,
            "right": null,
            "top": null,
            "visibility": null,
            "width": null
          }
        },
        "0fa0ef13eca947848f1c9ec98353d11e": {
          "model_module": "@jupyter-widgets/controls",
          "model_name": "DescriptionStyleModel",
          "model_module_version": "1.5.0",
          "state": {
            "_model_module": "@jupyter-widgets/controls",
            "_model_module_version": "1.5.0",
            "_model_name": "DescriptionStyleModel",
            "_view_count": null,
            "_view_module": "@jupyter-widgets/base",
            "_view_module_version": "1.2.0",
            "_view_name": "StyleView",
            "description_width": ""
          }
        }
      }
    }
  },
  "nbformat": 4,
  "nbformat_minor": 5
}