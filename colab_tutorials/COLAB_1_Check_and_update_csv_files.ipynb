{
  "cells": [
    {
      "cell_type": "markdown",
      "id": "95aea466",
      "metadata": {
        "id": "95aea466"
      },
      "source": [
        "<img align=\"left\" src=\"https://panoptes-uploads.zooniverse.org/project_avatar/86c23ca7-bbaa-4e84-8d8a-876819551431.png\" type=\"image/png\" height=100 width=100>\n",
        "</img>\n",
        "\n",
        "\n",
        "<h1 align=\"right\">Colab KSO Tutorial #1: Check and update csv files</h1>\n",
        "<h3 align=\"right\">Written by @jannesgg and @vykanton</h3>\n",
        "<h5 align=\"right\">Last updated: Jun 27th, 2022</h5>"
      ]
    },
    {
      "cell_type": "markdown",
      "id": "6f0fc779",
      "metadata": {
        "id": "6f0fc779"
      },
      "source": [
        "# Set up and requirements"
      ]
    },
    {
      "cell_type": "markdown",
      "id": "3c49080c",
      "metadata": {
        "id": "3c49080c"
      },
      "source": [
        "## Install kso_data_management and its requirements"
      ]
    },
    {
      "cell_type": "code",
      "execution_count": null,
      "id": "e6a1555e",
      "metadata": {
        "id": "e6a1555e"
      },
      "outputs": [],
      "source": [
        "# Clone koster_data_management repo\n",
        "!git clone --recurse-submodules -b dev https://github.com/ocean-data-factory-sweden/koster_data_management.git\n",
        "!pip install -r koster_data_management/requirements.txt\n",
        "\n",
        "# Install ipysheet version compatible in colab\n",
        "!pip install ipysheet==0.4.4\n",
        "\n",
        "# Restart the session to load the latest packages\n",
        "exit()"
      ]
    },
    {
      "cell_type": "markdown",
      "id": "6b9b11d5",
      "metadata": {
        "id": "6b9b11d5"
      },
      "source": [
        "### Import Python packages"
      ]
    },
    {
      "cell_type": "code",
      "execution_count": null,
      "id": "46ca201f",
      "metadata": {
        "id": "46ca201f"
      },
      "outputs": [],
      "source": [
        "# Set the directory of the libraries\n",
        "import sys, os\n",
        "from pathlib import Path\n",
        "\n",
        "# Enables testing changes in utils\n",
        "%load_ext autoreload\n",
        "%autoreload 2\n",
        "\n",
        "# Specify the path of the tutorials\n",
        "os.chdir(\"koster_data_management/tutorials\")\n",
        "sys.path.append('..')\n",
        "\n",
        "# Enable third-party widgets(ipysheet)\n",
        "from google.colab import output\n",
        "output.enable_custom_widget_manager()\n",
        "\n",
        "# Import required modules\n",
        "import kso_utils.tutorials_utils as t_utils\n",
        "import kso_utils.project_utils as p_utils\n",
        "import kso_utils.t1_utils as t1\n",
        "\n",
        "print(\"Packages loaded successfully\")"
      ]
    },
    {
      "cell_type": "markdown",
      "id": "fdc7152a",
      "metadata": {
        "id": "fdc7152a"
      },
      "source": [
        "### Choose your project"
      ]
    },
    {
      "cell_type": "code",
      "execution_count": null,
      "id": "1c1aabda",
      "metadata": {
        "id": "1c1aabda"
      },
      "outputs": [],
      "source": [
        "project_name = t_utils.choose_project()"
      ]
    },
    {
      "cell_type": "markdown",
      "source": [
        "## Initiate database"
      ],
      "metadata": {
        "id": "2URxgu8PQDZh"
      },
      "id": "2URxgu8PQDZh"
    },
    {
      "cell_type": "code",
      "execution_count": null,
      "id": "41994eb6",
      "metadata": {
        "id": "41994eb6"
      },
      "outputs": [],
      "source": [
        "project = p_utils.find_project(project_name=project_name.value)\n",
        "db_info_dict = t_utils.initiate_db(project)"
      ]
    },
    {
      "cell_type": "markdown",
      "id": "52f976b8",
      "metadata": {
        "id": "52f976b8"
      },
      "source": [
        "# Review Sites"
      ]
    },
    {
      "cell_type": "markdown",
      "source": [
        "## Map sites and metadata"
      ],
      "metadata": {
        "id": "5__P6hq1QRjF"
      },
      "id": "5__P6hq1QRjF"
    },
    {
      "cell_type": "code",
      "source": [
        "kso_map = t1.map_site(db_info_dict, project)\n",
        "kso_map"
      ],
      "metadata": {
        "id": "J9Dm5_ghmJ3_"
      },
      "id": "J9Dm5_ghmJ3_",
      "execution_count": null,
      "outputs": []
    },
    {
      "cell_type": "markdown",
      "source": [
        "## Update sites metadata"
      ],
      "metadata": {
        "id": "RzqjZinGQVux"
      },
      "id": "RzqjZinGQVux"
    },
    {
      "cell_type": "markdown",
      "source": [
        "You can update the contents of the cells in the spreadsheet below"
      ],
      "metadata": {
        "id": "TTEK-ACcp41U"
      },
      "id": "TTEK-ACcp41U"
    },
    {
      "cell_type": "code",
      "execution_count": null,
      "id": "9b01ccf5",
      "metadata": {
        "id": "9b01ccf5"
      },
      "outputs": [],
      "source": [
        "sites_sheet = t1.open_sites_csv(db_info_dict)\n",
        "sites_sheet"
      ]
    },
    {
      "cell_type": "markdown",
      "source": [
        "### Confirm the changes"
      ],
      "metadata": {
        "id": "nUITsuBLqIx4"
      },
      "id": "nUITsuBLqIx4"
    },
    {
      "cell_type": "code",
      "source": [
        "# Display the changes\n",
        "highlight_changes, sites_sheet_df = t1.display_changes(db_info_dict,\n",
        "                   isheet = sites_sheet, \n",
        "                   local_csv = \"local_sites_csv\"\n",
        "                   )\n",
        "highlight_changes"
      ],
      "metadata": {
        "id": "n5g_Fiq2qHdt"
      },
      "id": "n5g_Fiq2qHdt",
      "execution_count": null,
      "outputs": []
    },
    {
      "cell_type": "code",
      "source": [
        "# Confirm or deny the changes\n",
        "t1.update_csv(db_info_dict, \n",
        "              project,\n",
        "              sheet_df = sites_sheet_df,\n",
        "              local_csv = \"local_sites_csv\",\n",
        "              serv_csv = \"server_sites_csv\"\n",
        "              )"
      ],
      "metadata": {
        "id": "H9EQfoINVwFV"
      },
      "id": "H9EQfoINVwFV",
      "execution_count": null,
      "outputs": []
    },
    {
      "cell_type": "markdown",
      "id": "4b134a5c",
      "metadata": {
        "id": "4b134a5c"
      },
      "source": [
        "# Review Movies"
      ]
    },
    {
      "cell_type": "code",
      "source": [
        "WORK IN PROGRESS AFTER THIS"
      ],
      "metadata": {
        "id": "25LSF7crZKbc"
      },
      "id": "25LSF7crZKbc",
      "execution_count": null,
      "outputs": []
    },
    {
      "cell_type": "code",
      "execution_count": null,
      "id": "es2UIJ_LlMXv",
      "metadata": {
        "id": "es2UIJ_LlMXv"
      },
      "outputs": [],
      "source": [
        "movies_df_sheet = t1.open_movies_csv(db_initial_info)\n",
        "movies_df_sheet"
      ]
    },
    {
      "cell_type": "code",
      "execution_count": null,
      "id": "b78b2738",
      "metadata": {
        "id": "b78b2738"
      },
      "outputs": [],
      "source": [
        "movies_df = t1.check_movies_csv(db_info_dict, movies_df_sheet, project)"
      ]
    },
    {
      "cell_type": "code",
      "execution_count": null,
      "id": "5fc74ec0",
      "metadata": {
        "id": "5fc74ec0"
      },
      "outputs": [],
      "source": [
        "#END"
      ]
    }
  ],
  "metadata": {
    "colab": {
      "name": "COLAB_1_Check_and_update_csv_files.ipynb",
      "provenance": [],
      "collapsed_sections": []
    },
    "kernelspec": {
      "display_name": "Python 3 (ipykernel)",
      "language": "python",
      "name": "python3"
    },
    "language_info": {
      "codemirror_mode": {
        "name": "ipython",
        "version": 3
      },
      "file_extension": ".py",
      "mimetype": "text/x-python",
      "name": "python",
      "nbconvert_exporter": "python",
      "pygments_lexer": "ipython3",
      "version": "3.7.13"
    }
  },
  "nbformat": 4,
  "nbformat_minor": 5
}