{
 "cells": [
  {
   "cell_type": "markdown",
   "id": "95aea466",
   "metadata": {
    "id": "95aea466"
   },
   "source": [
    "<img align=\"left\" src=\"https://panoptes-uploads.zooniverse.org/project_avatar/86c23ca7-bbaa-4e84-8d8a-876819551431.png\" type=\"image/png\" height=100 width=100>\n",
    "</img>\n",
    "\n",
    "\n",
    "<h1 align=\"right\">Colab KSO Tutorial #1: Check and update csv files</h1>\n",
    "<h3 align=\"right\">Written by @jannesgg and @vykanton</h3>\n",
    "<h5 align=\"right\">Last updated: Aug 28th, 2022</h5>"
   ]
  },
  {
   "cell_type": "markdown",
   "id": "6f0fc779",
   "metadata": {
    "id": "6f0fc779"
   },
   "source": [
    "# Set up and requirements"
   ]
  },
  {
   "cell_type": "markdown",
   "id": "3c49080c",
   "metadata": {
    "id": "3c49080c"
   },
   "source": [
    "## Install kso_data_management and its requirements"
   ]
  },
  {
   "cell_type": "code",
   "execution_count": null,
   "id": "e6a1555e",
   "metadata": {
    "id": "e6a1555e"
   },
   "outputs": [],
   "source": [
    "# Clone koster_data_management repo\n",
    "!git clone --recurse-submodules -b dev https://github.com/ocean-data-factory-sweden/koster_data_management.git\n",
    "!pip install -r koster_data_management/requirements.txt\n",
    "\n",
    "# Install ipysheet version compatible in colab\n",
    "!pip install ipysheet==0.4.4\n",
    "\n",
    "# Restart the session to load the latest packages\n",
    "exit()"
   ]
  },
  {
   "cell_type": "markdown",
   "id": "6b9b11d5",
   "metadata": {
    "id": "6b9b11d5"
   },
   "source": [
    "### Import Python packages"
   ]
  },
  {
   "cell_type": "code",
   "execution_count": null,
   "id": "46ca201f",
   "metadata": {
    "id": "46ca201f"
   },
   "outputs": [],
   "source": [
    "# Set the directory of the libraries\n",
    "import sys, os\n",
    "from pathlib import Path\n",
    "\n",
    "# Enables testing changes in utils\n",
    "%load_ext autoreload\n",
    "%autoreload 2\n",
    "\n",
    "# Specify the path of the tutorials\n",
    "os.chdir(\"koster_data_management/tutorials\")\n",
    "sys.path.append('..')\n",
    "\n",
    "# Enable third-party widgets(ipysheet)\n",
    "from google.colab import output\n",
    "output.enable_custom_widget_manager()\n",
    "\n",
    "# Import required modules\n",
    "import kso_utils.tutorials_utils as t_utils\n",
    "import kso_utils.project_utils as p_utils\n",
    "import kso_utils.t1_utils as t1\n",
    "\n",
    "print(\"Packages loaded successfully\")"
   ]
  },
  {
   "cell_type": "markdown",
   "id": "fdc7152a",
   "metadata": {
    "id": "fdc7152a"
   },
   "source": [
    "### Choose your project"
   ]
  },
  {
   "cell_type": "code",
   "execution_count": 2,
   "id": "1c1aabda",
   "metadata": {
    "colab": {
     "base_uri": "https://localhost:8080/",
     "height": 49,
     "referenced_widgets": [
      "9dc36e1a53e845fc93a69ae326ad5c02",
      "42d4527dd31b4ba49a763c39b0b19d73",
      "6daeb57cd038451dba2afc4883028ff6"
     ]
    },
    "id": "1c1aabda",
    "outputId": "2cec4369-021b-4f53-8bdc-364c48c08109"
   },
   "outputs": [
    {
     "data": {
      "application/vnd.jupyter.widget-view+json": {
       "model_id": "9dc36e1a53e845fc93a69ae326ad5c02",
       "version_major": 2,
       "version_minor": 0
      },
      "text/plain": [
       "Dropdown(description='Project:', options=('Template project', 'Koster_Seafloor_Obs', 'Spyfish_Aotearoa', 'SGU'…"
      ]
     },
     "metadata": {
      "application/vnd.jupyter.widget-view+json": {
       "colab": {
        "custom_widget_manager": {
         "url": "https://ssl.gstatic.com/colaboratory-static/widgets/colab-cdn-widget-manager/d2e234f7cc04bf79/manager.min.js"
        }
       }
      }
     },
     "output_type": "display_data"
    }
   ],
   "source": [
    "project_name = t_utils.choose_project()"
   ]
  },
  {
   "cell_type": "markdown",
   "id": "2URxgu8PQDZh",
   "metadata": {
    "id": "2URxgu8PQDZh"
   },
   "source": [
    "## Initiate database"
   ]
  },
  {
   "cell_type": "code",
   "execution_count": 3,
   "id": "41994eb6",
   "metadata": {
    "colab": {
     "base_uri": "https://localhost:8080/"
    },
    "id": "41994eb6",
    "outputId": "2b6e27a1-41c5-43f4-bf3b-56703d21f5c2"
   },
   "outputs": [
    {
     "name": "stderr",
     "output_type": "stream",
     "text": [
      "Downloading...\n",
      "From: https://drive.google.com/uc?id=1PZGRoSY_UpyLfMhRphMUMwDXw4yx1_Fn\n",
      "To: /content/koster_data_management/tutorials/db_csv_info.zip\n",
      "100%|██████████| 2.25k/2.25k [00:00<00:00, 3.39MB/s]\n",
      "ERROR:root:The table movies has invalid entries, please ensure that all columns are non-zero\n",
      "ERROR:root:The invalid entries are    movie_id     filename  created_on  fps  duration  sampling_start  \\\n",
      "0         1  movie_1.mp4  13/08/2021  NaN       NaN             NaN   \n",
      "1         2  movie_2.mp4  13/08/2021  NaN       NaN             NaN   \n",
      "2         3  movie_3.mp4  13/08/2021  NaN       NaN             NaN   \n",
      "3         4  movie_4.mp4  18/08/2021  NaN       NaN             NaN   \n",
      "4         5  movie_5.mp4  18/08/2021  NaN       NaN             NaN   \n",
      "\n",
      "   sampling_end         Author  Site_id  \\\n",
      "0           NaN  Author_name_1        1   \n",
      "1           NaN  Author_name_2        1   \n",
      "2           NaN  Author_name_3        1   \n",
      "3           NaN  Author_name_4        1   \n",
      "4           NaN  Author_name_1        2   \n",
      "\n",
      "                                               Fpath  \n",
      "0  https://www.wildlife.ai/wp-content/uploads/202...  \n",
      "1  https://www.wildlife.ai/wp-content/uploads/202...  \n",
      "2  https://www.wildlife.ai/wp-content/uploads/202...  \n",
      "3  https://www.wildlife.ai/wp-content/uploads/202...  \n",
      "4  https://www.wildlife.ai/wp-content/uploads/202...  \n"
     ]
    }
   ],
   "source": [
    "project = p_utils.find_project(project_name=project_name.value)\n",
    "db_info_dict = t_utils.initiate_db(project)"
   ]
  },
  {
   "cell_type": "markdown",
   "id": "52f976b8",
   "metadata": {
    "id": "52f976b8"
   },
   "source": [
    "# Review Sites"
   ]
  },
  {
   "cell_type": "markdown",
   "id": "5__P6hq1QRjF",
   "metadata": {
    "id": "5__P6hq1QRjF"
   },
   "source": [
    "## Map sites and metadata"
   ]
  },
  {
   "cell_type": "code",
   "execution_count": null,
   "id": "J9Dm5_ghmJ3_",
   "metadata": {
    "id": "J9Dm5_ghmJ3_"
   },
   "outputs": [],
   "source": [
    "kso_map = t1.map_site(db_info_dict, project)\n",
    "kso_map"
   ]
  },
  {
   "cell_type": "markdown",
   "id": "RzqjZinGQVux",
   "metadata": {
    "id": "RzqjZinGQVux"
   },
   "source": [
    "## Update sites metadata"
   ]
  },
  {
   "cell_type": "markdown",
   "id": "L8-z6pV8LKxY",
   "metadata": {
    "id": "L8-z6pV8LKxY"
   },
   "source": [
    "Select the range of sites to display"
   ]
  },
  {
   "cell_type": "code",
   "execution_count": 9,
   "id": "IQmvKQPyLR5d",
   "metadata": {
    "colab": {
     "base_uri": "https://localhost:8080/",
     "height": 87,
     "referenced_widgets": [
      "7acf15ecc940473b9190fc4de487790d",
      "84a66f38e12e428f9ec5d03f8229efaa",
      "261b652187df4a418d71c6dcf8ac8320"
     ]
    },
    "id": "IQmvKQPyLR5d",
    "outputId": "184c00f5-dbc3-4409-cc2b-cfec5b739edf"
   },
   "outputs": [
    {
     "data": {
      "application/vnd.jupyter.widget-view+json": {
       "model_id": "7acf15ecc940473b9190fc4de487790d",
       "version_major": 2,
       "version_minor": 0
      },
      "text/plain": [
       "SelectionRangeSlider(description='Rows to display', index=(0, 5), layout=Layout(padding='35px', width='90%'), …"
      ]
     },
     "metadata": {
      "application/vnd.jupyter.widget-view+json": {
       "colab": {
        "custom_widget_manager": {
         "url": "https://ssl.gstatic.com/colaboratory-static/widgets/colab-cdn-widget-manager/d2e234f7cc04bf79/manager.min.js"
        }
       }
      }
     },
     "output_type": "display_data"
    }
   ],
   "source": [
    "sites_df, sites_range = t1.select_sheet_range(db_initial_info = db_info_dict,\n",
    "                                              orig_csv = \"local_sites_csv\"\n",
    "                                              )"
   ]
  },
  {
   "cell_type": "markdown",
   "id": "TTEK-ACcp41U",
   "metadata": {
    "id": "TTEK-ACcp41U"
   },
   "source": [
    "You can update the contents of the cells in the spreadsheet below"
   ]
  },
  {
   "cell_type": "code",
   "execution_count": 10,
   "id": "9b01ccf5",
   "metadata": {
    "colab": {
     "base_uri": "https://localhost:8080/",
     "height": 180,
     "referenced_widgets": [
      "a5eb3bc8282a44a7bc08300e739d0c71",
      "172303d0cf9d42608eccbb9779a15ebd",
      "46f19dbc7a2b402db1f827984bd46118",
      "5e2f492af2744af2ac61078db5bbb099",
      "e65923a639df4d25bcff24e3459ec4ad",
      "245a95fee4ae46189d2dd78a0b653ede",
      "8bd1ad9f726e4657971f84bd1b9ebe1a",
      "4df4a4824822467cb29b505ceae8f77e"
     ]
    },
    "id": "9b01ccf5",
    "outputId": "4eac84d1-c966-447f-eb73-198d4166435f"
   },
   "outputs": [
    {
     "data": {
      "application/vnd.jupyter.widget-view+json": {
       "model_id": "a5eb3bc8282a44a7bc08300e739d0c71",
       "version_major": 2,
       "version_minor": 0
      },
      "text/plain": [
       "Sheet(cells=(Cell(column_end=0, column_start=0, numeric_format='0[.]0', row_end=4, row_start=0, squeeze_row=Fa…"
      ]
     },
     "metadata": {
      "application/vnd.jupyter.widget-view+json": {
       "colab": {
        "custom_widget_manager": {
         "url": "https://ssl.gstatic.com/colaboratory-static/widgets/colab-cdn-widget-manager/d2e234f7cc04bf79/manager.min.js"
        }
       }
      }
     },
     "output_type": "display_data"
    }
   ],
   "source": [
    "sites_df_filtered, sites_sheet = t1.open_csv(df = sites_df, df_range = sites_range)\n",
    "sites_sheet"
   ]
  },
  {
   "cell_type": "markdown",
   "id": "nUITsuBLqIx4",
   "metadata": {
    "id": "nUITsuBLqIx4"
   },
   "source": [
    "### Review and confirm the changes"
   ]
  },
  {
   "cell_type": "code",
   "execution_count": 11,
   "id": "n5g_Fiq2qHdt",
   "metadata": {
    "colab": {
     "base_uri": "https://localhost:8080/",
     "height": 289
    },
    "id": "n5g_Fiq2qHdt",
    "outputId": "43cee73f-ba4e-4405-f6b2-24d77f5f6f3a"
   },
   "outputs": [
    {
     "data": {
      "text/html": [
       "<style type=\"text/css\">\n",
       "#T_14458_row4_col5 {\n",
       "  background-color: yellow;\n",
       "}\n",
       "</style>\n",
       "<table id=\"T_14458_\" class=\"dataframe\">\n",
       "  <thead>\n",
       "    <tr>\n",
       "      <th class=\"blank level0\" >&nbsp;</th>\n",
       "      <th class=\"col_heading level0 col0\" colspan=\"2\">siteName</th>\n",
       "      <th class=\"col_heading level0 col2\" colspan=\"2\">decimalLatitude</th>\n",
       "      <th class=\"col_heading level0 col4\" colspan=\"2\">decimalLongitude</th>\n",
       "      <th class=\"col_heading level0 col6\" colspan=\"2\">geodeticDatum</th>\n",
       "      <th class=\"col_heading level0 col8\" colspan=\"2\">countryCode</th>\n",
       "    </tr>\n",
       "    <tr>\n",
       "      <th class=\"blank level1\" >&nbsp;</th>\n",
       "      <th class=\"col_heading level1 col0\" >Origin</th>\n",
       "      <th class=\"col_heading level1 col1\" >Update</th>\n",
       "      <th class=\"col_heading level1 col2\" >Origin</th>\n",
       "      <th class=\"col_heading level1 col3\" >Update</th>\n",
       "      <th class=\"col_heading level1 col4\" >Origin</th>\n",
       "      <th class=\"col_heading level1 col5\" >Update</th>\n",
       "      <th class=\"col_heading level1 col6\" >Origin</th>\n",
       "      <th class=\"col_heading level1 col7\" >Update</th>\n",
       "      <th class=\"col_heading level1 col8\" >Origin</th>\n",
       "      <th class=\"col_heading level1 col9\" >Update</th>\n",
       "    </tr>\n",
       "    <tr>\n",
       "      <th class=\"index_name level0\" >site_id</th>\n",
       "      <th class=\"blank col0\" >&nbsp;</th>\n",
       "      <th class=\"blank col1\" >&nbsp;</th>\n",
       "      <th class=\"blank col2\" >&nbsp;</th>\n",
       "      <th class=\"blank col3\" >&nbsp;</th>\n",
       "      <th class=\"blank col4\" >&nbsp;</th>\n",
       "      <th class=\"blank col5\" >&nbsp;</th>\n",
       "      <th class=\"blank col6\" >&nbsp;</th>\n",
       "      <th class=\"blank col7\" >&nbsp;</th>\n",
       "      <th class=\"blank col8\" >&nbsp;</th>\n",
       "      <th class=\"blank col9\" >&nbsp;</th>\n",
       "    </tr>\n",
       "  </thead>\n",
       "  <tbody>\n",
       "    <tr>\n",
       "      <th id=\"T_14458_level0_row0\" class=\"row_heading level0 row0\" >1</th>\n",
       "      <td id=\"T_14458_row0_col0\" class=\"data row0 col0\" >Site_1</td>\n",
       "      <td id=\"T_14458_row0_col1\" class=\"data row0 col1\" >Site_1</td>\n",
       "      <td id=\"T_14458_row0_col2\" class=\"data row0 col2\" >-39.052281</td>\n",
       "      <td id=\"T_14458_row0_col3\" class=\"data row0 col3\" >-39.052281</td>\n",
       "      <td id=\"T_14458_row0_col4\" class=\"data row0 col4\" >174.023941</td>\n",
       "      <td id=\"T_14458_row0_col5\" class=\"data row0 col5\" >174.023941</td>\n",
       "      <td id=\"T_14458_row0_col6\" class=\"data row0 col6\" >WGS84</td>\n",
       "      <td id=\"T_14458_row0_col7\" class=\"data row0 col7\" >WGS84</td>\n",
       "      <td id=\"T_14458_row0_col8\" class=\"data row0 col8\" >NZ</td>\n",
       "      <td id=\"T_14458_row0_col9\" class=\"data row0 col9\" >NZ</td>\n",
       "    </tr>\n",
       "    <tr>\n",
       "      <th id=\"T_14458_level0_row1\" class=\"row_heading level0 row1\" >2</th>\n",
       "      <td id=\"T_14458_row1_col0\" class=\"data row1 col0\" >Site_2</td>\n",
       "      <td id=\"T_14458_row1_col1\" class=\"data row1 col1\" >Site_2</td>\n",
       "      <td id=\"T_14458_row1_col2\" class=\"data row1 col2\" >-39.057633</td>\n",
       "      <td id=\"T_14458_row1_col3\" class=\"data row1 col3\" >-39.057633</td>\n",
       "      <td id=\"T_14458_row1_col4\" class=\"data row1 col4\" >174.018739</td>\n",
       "      <td id=\"T_14458_row1_col5\" class=\"data row1 col5\" >174.018739</td>\n",
       "      <td id=\"T_14458_row1_col6\" class=\"data row1 col6\" >WGS84</td>\n",
       "      <td id=\"T_14458_row1_col7\" class=\"data row1 col7\" >WGS84</td>\n",
       "      <td id=\"T_14458_row1_col8\" class=\"data row1 col8\" >NZ</td>\n",
       "      <td id=\"T_14458_row1_col9\" class=\"data row1 col9\" >NZ</td>\n",
       "    </tr>\n",
       "    <tr>\n",
       "      <th id=\"T_14458_level0_row2\" class=\"row_heading level0 row2\" >3</th>\n",
       "      <td id=\"T_14458_row2_col0\" class=\"data row2 col0\" >Site_3</td>\n",
       "      <td id=\"T_14458_row2_col1\" class=\"data row2 col1\" >Site_3</td>\n",
       "      <td id=\"T_14458_row2_col2\" class=\"data row2 col2\" >-39.048920</td>\n",
       "      <td id=\"T_14458_row2_col3\" class=\"data row2 col3\" >-39.048920</td>\n",
       "      <td id=\"T_14458_row2_col4\" class=\"data row2 col4\" >174.029600</td>\n",
       "      <td id=\"T_14458_row2_col5\" class=\"data row2 col5\" >174.029600</td>\n",
       "      <td id=\"T_14458_row2_col6\" class=\"data row2 col6\" >WGS84</td>\n",
       "      <td id=\"T_14458_row2_col7\" class=\"data row2 col7\" >WGS84</td>\n",
       "      <td id=\"T_14458_row2_col8\" class=\"data row2 col8\" >NZ</td>\n",
       "      <td id=\"T_14458_row2_col9\" class=\"data row2 col9\" >NZ</td>\n",
       "    </tr>\n",
       "    <tr>\n",
       "      <th id=\"T_14458_level0_row3\" class=\"row_heading level0 row3\" >4</th>\n",
       "      <td id=\"T_14458_row3_col0\" class=\"data row3 col0\" >Site_4</td>\n",
       "      <td id=\"T_14458_row3_col1\" class=\"data row3 col1\" >Site_4</td>\n",
       "      <td id=\"T_14458_row3_col2\" class=\"data row3 col2\" >-39.046859</td>\n",
       "      <td id=\"T_14458_row3_col3\" class=\"data row3 col3\" >-39.046859</td>\n",
       "      <td id=\"T_14458_row3_col4\" class=\"data row3 col4\" >174.014944</td>\n",
       "      <td id=\"T_14458_row3_col5\" class=\"data row3 col5\" >174.014944</td>\n",
       "      <td id=\"T_14458_row3_col6\" class=\"data row3 col6\" >WGS84</td>\n",
       "      <td id=\"T_14458_row3_col7\" class=\"data row3 col7\" >WGS84</td>\n",
       "      <td id=\"T_14458_row3_col8\" class=\"data row3 col8\" >NZ</td>\n",
       "      <td id=\"T_14458_row3_col9\" class=\"data row3 col9\" >NZ</td>\n",
       "    </tr>\n",
       "    <tr>\n",
       "      <th id=\"T_14458_level0_row4\" class=\"row_heading level0 row4\" >5</th>\n",
       "      <td id=\"T_14458_row4_col0\" class=\"data row4 col0\" >Site_5</td>\n",
       "      <td id=\"T_14458_row4_col1\" class=\"data row4 col1\" >Site_5</td>\n",
       "      <td id=\"T_14458_row4_col2\" class=\"data row4 col2\" >-39.053019</td>\n",
       "      <td id=\"T_14458_row4_col3\" class=\"data row4 col3\" >-39.053019</td>\n",
       "      <td id=\"T_14458_row4_col4\" class=\"data row4 col4\" >174.015039</td>\n",
       "      <td id=\"T_14458_row4_col5\" class=\"data row4 col5\" >175.015039</td>\n",
       "      <td id=\"T_14458_row4_col6\" class=\"data row4 col6\" >WGS84</td>\n",
       "      <td id=\"T_14458_row4_col7\" class=\"data row4 col7\" >WGS84</td>\n",
       "      <td id=\"T_14458_row4_col8\" class=\"data row4 col8\" >NZ</td>\n",
       "      <td id=\"T_14458_row4_col9\" class=\"data row4 col9\" >NZ</td>\n",
       "    </tr>\n",
       "  </tbody>\n",
       "</table>\n"
      ],
      "text/plain": [
       "<pandas.io.formats.style.Styler at 0x7f5a05af0e50>"
      ]
     },
     "execution_count": 11,
     "metadata": {},
     "output_type": "execute_result"
    }
   ],
   "source": [
    "# Display the changes\n",
    "highlight_changes, sites_sheet_df = t1.display_changes(db_info_dict,\n",
    "                   isheet = sites_sheet, \n",
    "                   df_filtered = sites_df_filtered\n",
    "                   )\n",
    "highlight_changes"
   ]
  },
  {
   "cell_type": "code",
   "execution_count": 12,
   "id": "H9EQfoINVwFV",
   "metadata": {
    "colab": {
     "base_uri": "https://localhost:8080/",
     "height": 84,
     "referenced_widgets": [
      "892172af9888451f827a680a16131e1b",
      "6724f9946b504dcdb12968da9b295af4",
      "e82d84e6d4124c6dbf877ed68bc1d6a4",
      "228ee1c9f12e43d49b8b1be5af56d462",
      "ba75d30eb41a41209d03784ce7b635a7",
      "19526795fde746619486247e0191020b",
      "472a4c27434e4239848275630d7a252f",
      "5a0d46a90d804062909580d44e6ce52a"
     ]
    },
    "id": "H9EQfoINVwFV",
    "outputId": "d6ab2805-0abb-4f3a-836d-bcdd96a7e79c"
   },
   "outputs": [
    {
     "name": "stdout",
     "output_type": "stream",
     "text": [
      "\n",
      "Are the changes above correct?\n"
     ]
    },
    {
     "data": {
      "application/vnd.jupyter.widget-view+json": {
       "model_id": "892172af9888451f827a680a16131e1b",
       "version_major": 2,
       "version_minor": 0
      },
      "text/plain": [
       "HBox(children=(Button(button_style='danger', description='Yes, details are correct', layout=Layout(width='25%'…"
      ]
     },
     "metadata": {
      "application/vnd.jupyter.widget-view+json": {
       "colab": {
        "custom_widget_manager": {
         "url": "https://ssl.gstatic.com/colaboratory-static/widgets/colab-cdn-widget-manager/d2e234f7cc04bf79/manager.min.js"
        }
       }
      }
     },
     "output_type": "display_data"
    }
   ],
   "source": [
    "# Confirm or deny the changes\n",
    "t1.update_csv(db_info_dict, \n",
    "              project,\n",
    "              sheet_df = sites_sheet_df,\n",
    "              df = sites_df,\n",
    "              local_csv = \"local_sites_csv\",\n",
    "              serv_csv = \"server_sites_csv\"\n",
    "              )"
   ]
  },
  {
   "cell_type": "markdown",
   "id": "4b134a5c",
   "metadata": {
    "id": "4b134a5c"
   },
   "source": [
    "# Review Movies (WIP)"
   ]
  },
  {
   "cell_type": "markdown",
   "id": "LZYh0kJk8gop",
   "metadata": {
    "id": "LZYh0kJk8gop"
   },
   "source": [
    "## Choose the review method"
   ]
  },
  {
   "cell_type": "code",
   "execution_count": null,
   "id": "tgKWLhdx8SmI",
   "metadata": {
    "colab": {
     "base_uri": "https://localhost:8080/",
     "height": 95,
     "referenced_widgets": [
      "9f8655fc97554e1fbd52ead851f7b124",
      "6276e1b951c1421da718b88762d14ebd",
      "207a83072bcd4af7934047213ee79bdf"
     ]
    },
    "id": "tgKWLhdx8SmI",
    "outputId": "b0e539bb-308d-4c35-fee7-c4b095e5a054"
   },
   "outputs": [
    {
     "data": {
      "application/vnd.jupyter.widget-view+json": {
       "model_id": "9f8655fc97554e1fbd52ead851f7b124",
       "version_major": 2,
       "version_minor": 0
      },
      "text/plain": [
       "RadioButtons(description='What method you want to use to review the movies:', layout=Layout(width='95%'), opti…"
      ]
     },
     "metadata": {
      "application/vnd.jupyter.widget-view+json": {
       "colab": {
        "custom_widget_manager": {
         "url": "https://ssl.gstatic.com/colaboratory-static/widgets/colab-cdn-widget-manager/d2e234f7cc04bf79/manager.min.js"
        }
       }
      }
     },
     "output_type": "display_data"
    }
   ],
   "source": [
    "review_method = t1.choose_movie_review()"
   ]
  },
  {
   "cell_type": "markdown",
   "id": "56Q-vAXc30di",
   "metadata": {
    "id": "56Q-vAXc30di"
   },
   "source": [
    "## Check the movies information"
   ]
  },
  {
   "cell_type": "code",
   "execution_count": null,
   "id": "yODAkAPk3zDT",
   "metadata": {
    "id": "yODAkAPk3zDT"
   },
   "outputs": [],
   "source": [
    "movies_sheet_df = t1.check_movies_csv(db_info_dict, project, review_method)"
   ]
  },
  {
   "cell_type": "code",
   "execution_count": null,
   "id": "Kd7Od4VfBln5",
   "metadata": {
    "id": "Kd7Od4VfBln5"
   },
   "outputs": [],
   "source": [
    "# Confirm or deny the changes\n",
    "t1.update_csv(db_info_dict, \n",
    "              project,\n",
    "              sheet_df = movies_sheet_df,\n",
    "              local_csv = \"local_movies_csv\",\n",
    "              serv_csv = \"server_movies_csv\"\n",
    "              )"
   ]
  },
  {
   "cell_type": "markdown",
   "id": "CtTfD4tF6ouw",
   "metadata": {
    "id": "CtTfD4tF6ouw"
   },
   "source": [
    "## Preview movies"
   ]
  },
  {
   "cell_type": "markdown",
   "id": "keLx8PPJ6_1c",
   "metadata": {
    "id": "keLx8PPJ6_1c"
   },
   "source": [
    "### Retrieve info of movies available on the server"
   ]
  },
  {
   "cell_type": "code",
   "execution_count": null,
   "id": "EDA7nDfn7EyF",
   "metadata": {
    "id": "EDA7nDfn7EyF"
   },
   "outputs": [],
   "source": [
    "available_movies_df = s_utils.retrieve_movie_info_from_server(\n",
    "    project = project,\n",
    "    db_info_dict = db_info_dict\n",
    ")"
   ]
  },
  {
   "cell_type": "markdown",
   "id": "oSm50evA6r6E",
   "metadata": {
    "id": "oSm50evA6r6E"
   },
   "source": [
    "### Select movies to preview"
   ]
  },
  {
   "cell_type": "code",
   "execution_count": null,
   "id": "3Kbc7eYZ7JVx",
   "metadata": {
    "id": "3Kbc7eYZ7JVx"
   },
   "outputs": [],
   "source": [
    "movie_selected = t_utils.select_movie(available_movies_df)"
   ]
  },
  {
   "cell_type": "markdown",
   "id": "QfkDCyz67Mp-",
   "metadata": {
    "id": "QfkDCyz67Mp-"
   },
   "source": [
    "### Display the movie"
   ]
  },
  {
   "cell_type": "code",
   "execution_count": null,
   "id": "SbN566ha7R6n",
   "metadata": {
    "id": "SbN566ha7R6n"
   },
   "outputs": [],
   "source": [
    "movie_display, movie_path = t_utils.preview_movie(\n",
    "    project = project,\n",
    "    db_info_dict = db_info_dict, \n",
    "    available_movies_df = available_movies_df, \n",
    "    movie_i = movie_selected.value\n",
    ")\n",
    "movie_display"
   ]
  },
  {
   "cell_type": "markdown",
   "id": "tyKSJHRq3kog",
   "metadata": {
    "id": "tyKSJHRq3kog"
   },
   "source": [
    "# Review species"
   ]
  },
  {
   "cell_type": "markdown",
   "id": "I0le1Ammu3mG",
   "metadata": {
    "id": "I0le1Ammu3mG"
   },
   "source": [
    "## Check the species dataframe"
   ]
  },
  {
   "cell_type": "code",
   "execution_count": 14,
   "id": "OTGLqqdjusy5",
   "metadata": {
    "id": "OTGLqqdjusy5"
   },
   "outputs": [],
   "source": [
    "species_sheet_df = t1.check_species_csv(db_initial_info= db_info_dict, project = project)"
   ]
  },
  {
   "cell_type": "markdown",
   "id": "yKpoX8DUvHDs",
   "metadata": {
    "id": "yKpoX8DUvHDs"
   },
   "source": [
    "## Update species dataframe"
   ]
  },
  {
   "cell_type": "markdown",
   "id": "OPItluO5utuy",
   "metadata": {
    "id": "OPItluO5utuy"
   },
   "source": [
    "Select the range of species to display"
   ]
  },
  {
   "cell_type": "code",
   "execution_count": 15,
   "id": "b78b2738",
   "metadata": {
    "colab": {
     "base_uri": "https://localhost:8080/",
     "height": 87,
     "referenced_widgets": [
      "4c34ee6f9d7046f59cbaae566f561887",
      "fde4f49d19c3467b9a5cdaeb748b054e",
      "63ca2576e9e74ab68a91fe6c52617135"
     ]
    },
    "id": "b78b2738",
    "outputId": "ead56a68-c76f-48ca-b525-a077a2c19fd2"
   },
   "outputs": [
    {
     "data": {
      "application/vnd.jupyter.widget-view+json": {
       "model_id": "4c34ee6f9d7046f59cbaae566f561887",
       "version_major": 2,
       "version_minor": 0
      },
      "text/plain": [
       "SelectionRangeSlider(description='Rows to display', index=(0, 66), layout=Layout(padding='35px', width='90%'),…"
      ]
     },
     "metadata": {
      "application/vnd.jupyter.widget-view+json": {
       "colab": {
        "custom_widget_manager": {
         "url": "https://ssl.gstatic.com/colaboratory-static/widgets/colab-cdn-widget-manager/d2e234f7cc04bf79/manager.min.js"
        }
       }
      }
     },
     "output_type": "display_data"
    }
   ],
   "source": [
    "species_df, species_range = t1.select_sheet_range(db_initial_info = db_info_dict,\n",
    "                                              orig_csv = \"local_species_csv\"\n",
    "                                              )"
   ]
  },
  {
   "cell_type": "markdown",
   "id": "8jkoFyRDvWwH",
   "metadata": {
    "id": "8jkoFyRDvWwH"
   },
   "source": [
    "You can update the contents of the cells in the spreadsheet below"
   ]
  },
  {
   "cell_type": "code",
   "execution_count": 16,
   "id": "zvl2ZNO5vXYi",
   "metadata": {
    "colab": {
     "base_uri": "https://localhost:8080/",
     "height": 209,
     "referenced_widgets": [
      "d27dd78c068241149a845c7359486f9b",
      "460ea62d323f4bad907fa6cb1c7b674d",
      "91941740f177482f84c158a9978fdc2d",
      "e79efc1e011d47578704dadeb511807e",
      "be4500d5507c4dffacc52790594d58ff",
      "b87d3bc228814761a48defda2a346078",
      "145d72546ec840b99ec6911bf77bbe84"
     ]
    },
    "id": "zvl2ZNO5vXYi",
    "outputId": "bb83861d-595a-4f85-c269-69974d7125b5"
   },
   "outputs": [
    {
     "data": {
      "application/vnd.jupyter.widget-view+json": {
       "model_id": "d27dd78c068241149a845c7359486f9b",
       "version_major": 2,
       "version_minor": 0
      },
      "text/plain": [
       "Sheet(cells=(Cell(column_end=0, column_start=0, numeric_format='0[.]0', row_end=6, row_start=0, squeeze_row=Fa…"
      ]
     },
     "metadata": {
      "application/vnd.jupyter.widget-view+json": {
       "colab": {
        "custom_widget_manager": {
         "url": "https://ssl.gstatic.com/colaboratory-static/widgets/colab-cdn-widget-manager/d2e234f7cc04bf79/manager.min.js"
        }
       }
      }
     },
     "output_type": "display_data"
    }
   ],
   "source": [
    "species_df_filtered, species_sheet = t1.open_csv(df = species_df, df_range = species_range)\n",
    "species_sheet"
   ]
  },
  {
   "cell_type": "markdown",
   "id": "PZyfVEMRvekz",
   "metadata": {
    "id": "PZyfVEMRvekz"
   },
   "source": [
    "### Review and confirm the changes"
   ]
  },
  {
   "cell_type": "code",
   "execution_count": 17,
   "id": "Niq_2WZlvlE9",
   "metadata": {
    "colab": {
     "base_uri": "https://localhost:8080/",
     "height": 542
    },
    "id": "Niq_2WZlvlE9",
    "outputId": "107e49f3-690c-4860-c978-f57b7db77b48"
   },
   "outputs": [
    {
     "data": {
      "text/html": [
       "<style type=\"text/css\">\n",
       "#T_8037f_row2_col3 {\n",
       "  background-color: yellow;\n",
       "}\n",
       "</style>\n",
       "<table id=\"T_8037f_\" class=\"dataframe\">\n",
       "  <thead>\n",
       "    <tr>\n",
       "      <th class=\"blank level0\" >&nbsp;</th>\n",
       "      <th class=\"col_heading level0 col0\" colspan=\"2\">commonName</th>\n",
       "      <th class=\"col_heading level0 col2\" colspan=\"2\">scientificName</th>\n",
       "      <th class=\"col_heading level0 col4\" colspan=\"2\">taxonRank</th>\n",
       "      <th class=\"col_heading level0 col6\" colspan=\"2\">kingdom</th>\n",
       "    </tr>\n",
       "    <tr>\n",
       "      <th class=\"blank level1\" >&nbsp;</th>\n",
       "      <th class=\"col_heading level1 col0\" >Origin</th>\n",
       "      <th class=\"col_heading level1 col1\" >Update</th>\n",
       "      <th class=\"col_heading level1 col2\" >Origin</th>\n",
       "      <th class=\"col_heading level1 col3\" >Update</th>\n",
       "      <th class=\"col_heading level1 col4\" >Origin</th>\n",
       "      <th class=\"col_heading level1 col5\" >Update</th>\n",
       "      <th class=\"col_heading level1 col6\" >Origin</th>\n",
       "      <th class=\"col_heading level1 col7\" >Update</th>\n",
       "    </tr>\n",
       "    <tr>\n",
       "      <th class=\"index_name level0\" >species_id</th>\n",
       "      <th class=\"blank col0\" >&nbsp;</th>\n",
       "      <th class=\"blank col1\" >&nbsp;</th>\n",
       "      <th class=\"blank col2\" >&nbsp;</th>\n",
       "      <th class=\"blank col3\" >&nbsp;</th>\n",
       "      <th class=\"blank col4\" >&nbsp;</th>\n",
       "      <th class=\"blank col5\" >&nbsp;</th>\n",
       "      <th class=\"blank col6\" >&nbsp;</th>\n",
       "      <th class=\"blank col7\" >&nbsp;</th>\n",
       "    </tr>\n",
       "  </thead>\n",
       "  <tbody>\n",
       "    <tr>\n",
       "      <th id=\"T_8037f_level0_row0\" class=\"row_heading level0 row0\" >1</th>\n",
       "      <td id=\"T_8037f_row0_col0\" class=\"data row0 col0\" >Fan-shaped sponge</td>\n",
       "      <td id=\"T_8037f_row0_col1\" class=\"data row0 col1\" >Fan-shaped sponge</td>\n",
       "      <td id=\"T_8037f_row0_col2\" class=\"data row0 col2\" >Phakellia ventilabrum</td>\n",
       "      <td id=\"T_8037f_row0_col3\" class=\"data row0 col3\" >Phakellia ventilabrum</td>\n",
       "      <td id=\"T_8037f_row0_col4\" class=\"data row0 col4\" >species</td>\n",
       "      <td id=\"T_8037f_row0_col5\" class=\"data row0 col5\" >species</td>\n",
       "      <td id=\"T_8037f_row0_col6\" class=\"data row0 col6\" >Animalia</td>\n",
       "      <td id=\"T_8037f_row0_col7\" class=\"data row0 col7\" >Animalia</td>\n",
       "    </tr>\n",
       "    <tr>\n",
       "      <th id=\"T_8037f_level0_row1\" class=\"row_heading level0 row1\" >2</th>\n",
       "      <td id=\"T_8037f_row1_col0\" class=\"data row1 col0\" >Football sponge</td>\n",
       "      <td id=\"T_8037f_row1_col1\" class=\"data row1 col1\" >Football sponge</td>\n",
       "      <td id=\"T_8037f_row1_col2\" class=\"data row1 col2\" >Geodia barretti</td>\n",
       "      <td id=\"T_8037f_row1_col3\" class=\"data row1 col3\" >Geodia barretti</td>\n",
       "      <td id=\"T_8037f_row1_col4\" class=\"data row1 col4\" >species</td>\n",
       "      <td id=\"T_8037f_row1_col5\" class=\"data row1 col5\" >species</td>\n",
       "      <td id=\"T_8037f_row1_col6\" class=\"data row1 col6\" >Animalia</td>\n",
       "      <td id=\"T_8037f_row1_col7\" class=\"data row1 col7\" >Animalia</td>\n",
       "    </tr>\n",
       "    <tr>\n",
       "      <th id=\"T_8037f_level0_row2\" class=\"row_heading level0 row2\" >3</th>\n",
       "      <td id=\"T_8037f_row2_col0\" class=\"data row2 col0\" >Sponge (any species)</td>\n",
       "      <td id=\"T_8037f_row2_col1\" class=\"data row2 col1\" >Sponge (any species)</td>\n",
       "      <td id=\"T_8037f_row2_col2\" class=\"data row2 col2\" >Porifera</td>\n",
       "      <td id=\"T_8037f_row2_col3\" class=\"data row2 col3\" >Porifera std</td>\n",
       "      <td id=\"T_8037f_row2_col4\" class=\"data row2 col4\" >phylum</td>\n",
       "      <td id=\"T_8037f_row2_col5\" class=\"data row2 col5\" >phylum</td>\n",
       "      <td id=\"T_8037f_row2_col6\" class=\"data row2 col6\" >Animalia</td>\n",
       "      <td id=\"T_8037f_row2_col7\" class=\"data row2 col7\" >Animalia</td>\n",
       "    </tr>\n",
       "    <tr>\n",
       "      <th id=\"T_8037f_level0_row3\" class=\"row_heading level0 row3\" >4</th>\n",
       "      <td id=\"T_8037f_row3_col0\" class=\"data row3 col0\" >Dead man's fingers</td>\n",
       "      <td id=\"T_8037f_row3_col1\" class=\"data row3 col1\" >Dead man's fingers</td>\n",
       "      <td id=\"T_8037f_row3_col2\" class=\"data row3 col2\" >Alcyonium digitatum</td>\n",
       "      <td id=\"T_8037f_row3_col3\" class=\"data row3 col3\" >Alcyonium digitatum</td>\n",
       "      <td id=\"T_8037f_row3_col4\" class=\"data row3 col4\" >species</td>\n",
       "      <td id=\"T_8037f_row3_col5\" class=\"data row3 col5\" >species</td>\n",
       "      <td id=\"T_8037f_row3_col6\" class=\"data row3 col6\" >Animalia</td>\n",
       "      <td id=\"T_8037f_row3_col7\" class=\"data row3 col7\" >Animalia</td>\n",
       "    </tr>\n",
       "    <tr>\n",
       "      <th id=\"T_8037f_level0_row4\" class=\"row_heading level0 row4\" >5</th>\n",
       "      <td id=\"T_8037f_row4_col0\" class=\"data row4 col0\" >Deeplet sea anemone</td>\n",
       "      <td id=\"T_8037f_row4_col1\" class=\"data row4 col1\" >Deeplet sea anemone</td>\n",
       "      <td id=\"T_8037f_row4_col2\" class=\"data row4 col2\" >Bolocera tuediae</td>\n",
       "      <td id=\"T_8037f_row4_col3\" class=\"data row4 col3\" >Bolocera tuediae</td>\n",
       "      <td id=\"T_8037f_row4_col4\" class=\"data row4 col4\" >species</td>\n",
       "      <td id=\"T_8037f_row4_col5\" class=\"data row4 col5\" >species</td>\n",
       "      <td id=\"T_8037f_row4_col6\" class=\"data row4 col6\" >Animalia</td>\n",
       "      <td id=\"T_8037f_row4_col7\" class=\"data row4 col7\" >Animalia</td>\n",
       "    </tr>\n",
       "    <tr>\n",
       "      <th id=\"T_8037f_level0_row5\" class=\"row_heading level0 row5\" >6</th>\n",
       "      <td id=\"T_8037f_row5_col0\" class=\"data row5 col0\" >Common sea pen</td>\n",
       "      <td id=\"T_8037f_row5_col1\" class=\"data row5 col1\" >Common sea pen</td>\n",
       "      <td id=\"T_8037f_row5_col2\" class=\"data row5 col2\" >Pennatula phosphorea</td>\n",
       "      <td id=\"T_8037f_row5_col3\" class=\"data row5 col3\" >Pennatula phosphorea</td>\n",
       "      <td id=\"T_8037f_row5_col4\" class=\"data row5 col4\" >species</td>\n",
       "      <td id=\"T_8037f_row5_col5\" class=\"data row5 col5\" >species</td>\n",
       "      <td id=\"T_8037f_row5_col6\" class=\"data row5 col6\" >Animalia</td>\n",
       "      <td id=\"T_8037f_row5_col7\" class=\"data row5 col7\" >Animalia</td>\n",
       "    </tr>\n",
       "    <tr>\n",
       "      <th id=\"T_8037f_level0_row6\" class=\"row_heading level0 row6\" >7</th>\n",
       "      <td id=\"T_8037f_row6_col0\" class=\"data row6 col0\" >Tall sea pen</td>\n",
       "      <td id=\"T_8037f_row6_col1\" class=\"data row6 col1\" >Tall sea pen</td>\n",
       "      <td id=\"T_8037f_row6_col2\" class=\"data row6 col2\" >Funiculina quadrangularis</td>\n",
       "      <td id=\"T_8037f_row6_col3\" class=\"data row6 col3\" >Funiculina quadrangularis</td>\n",
       "      <td id=\"T_8037f_row6_col4\" class=\"data row6 col4\" >species</td>\n",
       "      <td id=\"T_8037f_row6_col5\" class=\"data row6 col5\" >species</td>\n",
       "      <td id=\"T_8037f_row6_col6\" class=\"data row6 col6\" >Animalia</td>\n",
       "      <td id=\"T_8037f_row6_col7\" class=\"data row6 col7\" >Animalia</td>\n",
       "    </tr>\n",
       "  </tbody>\n",
       "</table>\n"
      ],
      "text/plain": [
       "<pandas.io.formats.style.Styler at 0x7f5a07413550>"
      ]
     },
     "execution_count": 17,
     "metadata": {},
     "output_type": "execute_result"
    }
   ],
   "source": [
    "# Display the changes\n",
    "highlight_changes, species_sheet_df = t1.display_changes(db_info_dict,\n",
    "                   isheet = species_sheet, \n",
    "                   df_filtered = species_df_filtered\n",
    "                   )\n",
    "highlight_changes"
   ]
  },
  {
   "cell_type": "code",
   "execution_count": 18,
   "id": "cGHj7CkKuhcC",
   "metadata": {
    "colab": {
     "base_uri": "https://localhost:8080/",
     "height": 84,
     "referenced_widgets": [
      "f36506af1dde44138c071a94f36a8705",
      "1a249a6054aa4c0faa18499fbb73d0ce",
      "e4477a88139b41c18c5965f3eea07db1",
      "72cafe85aa2947e18e314ef360fddf25",
      "3bd008de4c0f4b41af152d17a97aa1b0",
      "06470fb327404d3780cacc0b64ce76dc",
      "24be9c361a3f443d89bf0c2d84671555",
      "04ce3302736845a69cdb3740733d0e7a"
     ]
    },
    "id": "cGHj7CkKuhcC",
    "outputId": "d1b61bc9-9a36-4eae-d672-066ae1224c5f"
   },
   "outputs": [
    {
     "name": "stdout",
     "output_type": "stream",
     "text": [
      "\n",
      "Are the changes above correct?\n"
     ]
    },
    {
     "data": {
      "application/vnd.jupyter.widget-view+json": {
       "model_id": "f36506af1dde44138c071a94f36a8705",
       "version_major": 2,
       "version_minor": 0
      },
      "text/plain": [
       "HBox(children=(Button(button_style='danger', description='Yes, details are correct', layout=Layout(width='25%'…"
      ]
     },
     "metadata": {
      "application/vnd.jupyter.widget-view+json": {
       "colab": {
        "custom_widget_manager": {
         "url": "https://ssl.gstatic.com/colaboratory-static/widgets/colab-cdn-widget-manager/d2e234f7cc04bf79/manager.min.js"
        }
       }
      }
     },
     "output_type": "display_data"
    }
   ],
   "source": [
    "# Confirm or deny the changes\n",
    "t1.update_csv(db_info_dict, \n",
    "              project,\n",
    "              sheet_df = species_sheet_df,\n",
    "              df = species_df,\n",
    "              local_csv = \"local_species_csv\",\n",
    "              serv_csv = \"server_species_csv\"\n",
    "              )"
   ]
  },
  {
   "cell_type": "code",
   "execution_count": null,
   "id": "5fc74ec0",
   "metadata": {
    "id": "5fc74ec0"
   },
   "outputs": [],
   "source": [
    "#END"
   ]
  }
 ],
 "metadata": {
  "colab": {
   "collapsed_sections": [],
   "name": "COLAB_1_Check_and_update_csv_files.ipynb",
   "provenance": []
  },
  "kernelspec": {
   "display_name": "Python 3 (ipykernel)",
   "language": "python",
   "name": "python3"
  },
  "language_info": {
   "codemirror_mode": {
    "name": "ipython",
    "version": 3
   },
   "file_extension": ".py",
   "mimetype": "text/x-python",
   "name": "python",
   "nbconvert_exporter": "python",
   "pygments_lexer": "ipython3",
   "version": "3.7.13"
  },
  "widgets": {
   "application/vnd.jupyter.widget-state+json": {
    "04ce3302736845a69cdb3740733d0e7a": {
     "model_module": "@jupyter-widgets/controls",
     "model_module_version": "1.5.0",
     "model_name": "ButtonStyleModel",
     "state": {
      "_model_module": "@jupyter-widgets/controls",
      "_model_module_version": "1.5.0",
      "_model_name": "ButtonStyleModel",
      "_view_count": null,
      "_view_module": "@jupyter-widgets/base",
      "_view_module_version": "1.2.0",
      "_view_name": "StyleView",
      "button_color": null,
      "font_weight": ""
     }
    },
    "06470fb327404d3780cacc0b64ce76dc": {
     "model_module": "@jupyter-widgets/controls",
     "model_module_version": "1.5.0",
     "model_name": "ButtonStyleModel",
     "state": {
      "_model_module": "@jupyter-widgets/controls",
      "_model_module_version": "1.5.0",
      "_model_name": "ButtonStyleModel",
      "_view_count": null,
      "_view_module": "@jupyter-widgets/base",
      "_view_module_version": "1.2.0",
      "_view_name": "StyleView",
      "button_color": null,
      "font_weight": ""
     }
    },
    "145d72546ec840b99ec6911bf77bbe84": {
     "model_module": "@jupyter-widgets/base",
     "model_module_version": "1.2.0",
     "model_name": "LayoutModel",
     "state": {
      "_model_module": "@jupyter-widgets/base",
      "_model_module_version": "1.2.0",
      "_model_name": "LayoutModel",
      "_view_count": null,
      "_view_module": "@jupyter-widgets/base",
      "_view_module_version": "1.2.0",
      "_view_name": "LayoutView",
      "align_content": null,
      "align_items": null,
      "align_self": null,
      "border": null,
      "bottom": null,
      "display": null,
      "flex": null,
      "flex_flow": null,
      "grid_area": null,
      "grid_auto_columns": null,
      "grid_auto_flow": null,
      "grid_auto_rows": null,
      "grid_column": null,
      "grid_gap": null,
      "grid_row": null,
      "grid_template_areas": null,
      "grid_template_columns": null,
      "grid_template_rows": null,
      "height": "auto",
      "justify_content": null,
      "justify_items": null,
      "left": null,
      "margin": null,
      "max_height": null,
      "max_width": null,
      "min_height": null,
      "min_width": null,
      "object_fit": null,
      "object_position": null,
      "order": null,
      "overflow": null,
      "overflow_x": null,
      "overflow_y": null,
      "padding": null,
      "right": null,
      "top": null,
      "visibility": null,
      "width": "auto"
     }
    },
    "172303d0cf9d42608eccbb9779a15ebd": {
     "model_module": "ipysheet",
     "model_module_version": "~0.4.4",
     "model_name": "CellRangeModel",
     "state": {
      "_model_module": "ipysheet",
      "_model_module_version": "~0.4.4",
      "_model_name": "CellRangeModel",
      "_view_count": null,
      "_view_module": null,
      "_view_module_version": "",
      "_view_name": null,
      "choice": null,
      "column_end": 0,
      "column_start": 0,
      "date_format": "YYYY/MM/DD",
      "name": null,
      "numeric_format": "0[.]0",
      "read_only": false,
      "renderer": null,
      "row_end": 4,
      "row_start": 0,
      "squeeze_column": true,
      "squeeze_row": false,
      "style": {},
      "time_format": "h:mm:ss a",
      "transpose": false,
      "type": "numeric",
      "value": [
       1,
       2,
       3,
       4,
       5
      ]
     }
    },
    "19526795fde746619486247e0191020b": {
     "model_module": "@jupyter-widgets/controls",
     "model_module_version": "1.5.0",
     "model_name": "ButtonStyleModel",
     "state": {
      "_model_module": "@jupyter-widgets/controls",
      "_model_module_version": "1.5.0",
      "_model_name": "ButtonStyleModel",
      "_view_count": null,
      "_view_module": "@jupyter-widgets/base",
      "_view_module_version": "1.2.0",
      "_view_name": "StyleView",
      "button_color": null,
      "font_weight": ""
     }
    },
    "1a249a6054aa4c0faa18499fbb73d0ce": {
     "model_module": "@jupyter-widgets/controls",
     "model_module_version": "1.5.0",
     "model_name": "ButtonModel",
     "state": {
      "_dom_classes": [],
      "_model_module": "@jupyter-widgets/controls",
      "_model_module_version": "1.5.0",
      "_model_name": "ButtonModel",
      "_view_count": null,
      "_view_module": "@jupyter-widgets/controls",
      "_view_module_version": "1.5.0",
      "_view_name": "ButtonView",
      "button_style": "danger",
      "description": "Yes, details are correct",
      "disabled": false,
      "icon": "",
      "layout": "IPY_MODEL_3bd008de4c0f4b41af152d17a97aa1b0",
      "style": "IPY_MODEL_06470fb327404d3780cacc0b64ce76dc",
      "tooltip": ""
     }
    },
    "207a83072bcd4af7934047213ee79bdf": {
     "model_module": "@jupyter-widgets/controls",
     "model_module_version": "1.5.0",
     "model_name": "DescriptionStyleModel",
     "state": {
      "_model_module": "@jupyter-widgets/controls",
      "_model_module_version": "1.5.0",
      "_model_name": "DescriptionStyleModel",
      "_view_count": null,
      "_view_module": "@jupyter-widgets/base",
      "_view_module_version": "1.2.0",
      "_view_name": "StyleView",
      "description_width": "initial"
     }
    },
    "228ee1c9f12e43d49b8b1be5af56d462": {
     "model_module": "@jupyter-widgets/base",
     "model_module_version": "1.2.0",
     "model_name": "LayoutModel",
     "state": {
      "_model_module": "@jupyter-widgets/base",
      "_model_module_version": "1.2.0",
      "_model_name": "LayoutModel",
      "_view_count": null,
      "_view_module": "@jupyter-widgets/base",
      "_view_module_version": "1.2.0",
      "_view_name": "LayoutView",
      "align_content": null,
      "align_items": null,
      "align_self": null,
      "border": null,
      "bottom": null,
      "display": null,
      "flex": null,
      "flex_flow": null,
      "grid_area": null,
      "grid_auto_columns": null,
      "grid_auto_flow": null,
      "grid_auto_rows": null,
      "grid_column": null,
      "grid_gap": null,
      "grid_row": null,
      "grid_template_areas": null,
      "grid_template_columns": null,
      "grid_template_rows": null,
      "height": null,
      "justify_content": null,
      "justify_items": null,
      "left": null,
      "margin": null,
      "max_height": null,
      "max_width": null,
      "min_height": null,
      "min_width": null,
      "object_fit": null,
      "object_position": null,
      "order": null,
      "overflow": null,
      "overflow_x": null,
      "overflow_y": null,
      "padding": null,
      "right": null,
      "top": null,
      "visibility": null,
      "width": null
     }
    },
    "245a95fee4ae46189d2dd78a0b653ede": {
     "model_module": "ipysheet",
     "model_module_version": "~0.4.4",
     "model_name": "CellRangeModel",
     "state": {
      "_model_module": "ipysheet",
      "_model_module_version": "~0.4.4",
      "_model_name": "CellRangeModel",
      "_view_count": null,
      "_view_module": null,
      "_view_module_version": "",
      "_view_name": null,
      "choice": null,
      "column_end": 4,
      "column_start": 4,
      "date_format": "YYYY/MM/DD",
      "name": null,
      "numeric_format": null,
      "read_only": false,
      "renderer": null,
      "row_end": 4,
      "row_start": 0,
      "squeeze_column": true,
      "squeeze_row": false,
      "style": {},
      "time_format": "h:mm:ss a",
      "transpose": false,
      "type": "text",
      "value": [
       "WGS84",
       "WGS84",
       "WGS84",
       "WGS84",
       "WGS84"
      ]
     }
    },
    "24be9c361a3f443d89bf0c2d84671555": {
     "model_module": "@jupyter-widgets/base",
     "model_module_version": "1.2.0",
     "model_name": "LayoutModel",
     "state": {
      "_model_module": "@jupyter-widgets/base",
      "_model_module_version": "1.2.0",
      "_model_name": "LayoutModel",
      "_view_count": null,
      "_view_module": "@jupyter-widgets/base",
      "_view_module_version": "1.2.0",
      "_view_name": "LayoutView",
      "align_content": null,
      "align_items": null,
      "align_self": null,
      "border": null,
      "bottom": null,
      "display": null,
      "flex": null,
      "flex_flow": null,
      "grid_area": null,
      "grid_auto_columns": null,
      "grid_auto_flow": null,
      "grid_auto_rows": null,
      "grid_column": null,
      "grid_gap": null,
      "grid_row": null,
      "grid_template_areas": null,
      "grid_template_columns": null,
      "grid_template_rows": null,
      "height": null,
      "justify_content": null,
      "justify_items": null,
      "left": null,
      "margin": null,
      "max_height": null,
      "max_width": null,
      "min_height": null,
      "min_width": null,
      "object_fit": null,
      "object_position": null,
      "order": null,
      "overflow": null,
      "overflow_x": null,
      "overflow_y": null,
      "padding": null,
      "right": null,
      "top": null,
      "visibility": null,
      "width": "45%"
     }
    },
    "261b652187df4a418d71c6dcf8ac8320": {
     "model_module": "@jupyter-widgets/controls",
     "model_module_version": "1.5.0",
     "model_name": "DescriptionStyleModel",
     "state": {
      "_model_module": "@jupyter-widgets/controls",
      "_model_module_version": "1.5.0",
      "_model_name": "DescriptionStyleModel",
      "_view_count": null,
      "_view_module": "@jupyter-widgets/base",
      "_view_module_version": "1.2.0",
      "_view_name": "StyleView",
      "description_width": "initial"
     }
    },
    "3bd008de4c0f4b41af152d17a97aa1b0": {
     "model_module": "@jupyter-widgets/base",
     "model_module_version": "1.2.0",
     "model_name": "LayoutModel",
     "state": {
      "_model_module": "@jupyter-widgets/base",
      "_model_module_version": "1.2.0",
      "_model_name": "LayoutModel",
      "_view_count": null,
      "_view_module": "@jupyter-widgets/base",
      "_view_module_version": "1.2.0",
      "_view_name": "LayoutView",
      "align_content": null,
      "align_items": null,
      "align_self": null,
      "border": null,
      "bottom": null,
      "display": null,
      "flex": null,
      "flex_flow": null,
      "grid_area": null,
      "grid_auto_columns": null,
      "grid_auto_flow": null,
      "grid_auto_rows": null,
      "grid_column": null,
      "grid_gap": null,
      "grid_row": null,
      "grid_template_areas": null,
      "grid_template_columns": null,
      "grid_template_rows": null,
      "height": null,
      "justify_content": null,
      "justify_items": null,
      "left": null,
      "margin": null,
      "max_height": null,
      "max_width": null,
      "min_height": null,
      "min_width": null,
      "object_fit": null,
      "object_position": null,
      "order": null,
      "overflow": null,
      "overflow_x": null,
      "overflow_y": null,
      "padding": null,
      "right": null,
      "top": null,
      "visibility": null,
      "width": "25%"
     }
    },
    "42d4527dd31b4ba49a763c39b0b19d73": {
     "model_module": "@jupyter-widgets/base",
     "model_module_version": "1.2.0",
     "model_name": "LayoutModel",
     "state": {
      "_model_module": "@jupyter-widgets/base",
      "_model_module_version": "1.2.0",
      "_model_name": "LayoutModel",
      "_view_count": null,
      "_view_module": "@jupyter-widgets/base",
      "_view_module_version": "1.2.0",
      "_view_name": "LayoutView",
      "align_content": null,
      "align_items": null,
      "align_self": null,
      "border": null,
      "bottom": null,
      "display": null,
      "flex": null,
      "flex_flow": null,
      "grid_area": null,
      "grid_auto_columns": null,
      "grid_auto_flow": null,
      "grid_auto_rows": null,
      "grid_column": null,
      "grid_gap": null,
      "grid_row": null,
      "grid_template_areas": null,
      "grid_template_columns": null,
      "grid_template_rows": null,
      "height": null,
      "justify_content": null,
      "justify_items": null,
      "left": null,
      "margin": null,
      "max_height": null,
      "max_width": null,
      "min_height": null,
      "min_width": null,
      "object_fit": null,
      "object_position": null,
      "order": null,
      "overflow": null,
      "overflow_x": null,
      "overflow_y": null,
      "padding": null,
      "right": null,
      "top": null,
      "visibility": null,
      "width": null
     }
    },
    "460ea62d323f4bad907fa6cb1c7b674d": {
     "model_module": "ipysheet",
     "model_module_version": "~0.4.4",
     "model_name": "CellRangeModel",
     "state": {
      "_model_module": "ipysheet",
      "_model_module_version": "~0.4.4",
      "_model_name": "CellRangeModel",
      "_view_count": null,
      "_view_module": null,
      "_view_module_version": "",
      "_view_name": null,
      "choice": null,
      "column_end": 0,
      "column_start": 0,
      "date_format": "YYYY/MM/DD",
      "name": null,
      "numeric_format": "0[.]0",
      "read_only": false,
      "renderer": null,
      "row_end": 6,
      "row_start": 0,
      "squeeze_column": true,
      "squeeze_row": false,
      "style": {},
      "time_format": "h:mm:ss a",
      "transpose": false,
      "type": "numeric",
      "value": [
       1,
       2,
       3,
       4,
       5,
       6,
       7
      ]
     }
    },
    "46f19dbc7a2b402db1f827984bd46118": {
     "model_module": "ipysheet",
     "model_module_version": "~0.4.4",
     "model_name": "CellRangeModel",
     "state": {
      "_model_module": "ipysheet",
      "_model_module_version": "~0.4.4",
      "_model_name": "CellRangeModel",
      "_view_count": null,
      "_view_module": null,
      "_view_module_version": "",
      "_view_name": null,
      "choice": null,
      "column_end": 1,
      "column_start": 1,
      "date_format": "YYYY/MM/DD",
      "name": null,
      "numeric_format": null,
      "read_only": false,
      "renderer": null,
      "row_end": 4,
      "row_start": 0,
      "squeeze_column": true,
      "squeeze_row": false,
      "style": {},
      "time_format": "h:mm:ss a",
      "transpose": false,
      "type": "text",
      "value": [
       "Site_1",
       "Site_2",
       "Site_3",
       "Site_4",
       "Site_5"
      ]
     }
    },
    "472a4c27434e4239848275630d7a252f": {
     "model_module": "@jupyter-widgets/base",
     "model_module_version": "1.2.0",
     "model_name": "LayoutModel",
     "state": {
      "_model_module": "@jupyter-widgets/base",
      "_model_module_version": "1.2.0",
      "_model_name": "LayoutModel",
      "_view_count": null,
      "_view_module": "@jupyter-widgets/base",
      "_view_module_version": "1.2.0",
      "_view_name": "LayoutView",
      "align_content": null,
      "align_items": null,
      "align_self": null,
      "border": null,
      "bottom": null,
      "display": null,
      "flex": null,
      "flex_flow": null,
      "grid_area": null,
      "grid_auto_columns": null,
      "grid_auto_flow": null,
      "grid_auto_rows": null,
      "grid_column": null,
      "grid_gap": null,
      "grid_row": null,
      "grid_template_areas": null,
      "grid_template_columns": null,
      "grid_template_rows": null,
      "height": null,
      "justify_content": null,
      "justify_items": null,
      "left": null,
      "margin": null,
      "max_height": null,
      "max_width": null,
      "min_height": null,
      "min_width": null,
      "object_fit": null,
      "object_position": null,
      "order": null,
      "overflow": null,
      "overflow_x": null,
      "overflow_y": null,
      "padding": null,
      "right": null,
      "top": null,
      "visibility": null,
      "width": "45%"
     }
    },
    "4c34ee6f9d7046f59cbaae566f561887": {
     "model_module": "@jupyter-widgets/controls",
     "model_module_version": "1.5.0",
     "model_name": "SelectionRangeSliderModel",
     "state": {
      "_dom_classes": [],
      "_model_module": "@jupyter-widgets/controls",
      "_model_module_version": "1.5.0",
      "_model_name": "SelectionRangeSliderModel",
      "_options_labels": [
       "0",
       "1",
       "2",
       "3",
       "4",
       "5",
       "6",
       "7",
       "8",
       "9",
       "10",
       "11",
       "12",
       "13",
       "14",
       "15",
       "16",
       "17",
       "18",
       "19",
       "20",
       "21",
       "22",
       "23",
       "24",
       "25",
       "26",
       "27",
       "28",
       "29",
       "30",
       "31",
       "32",
       "33",
       "34",
       "35",
       "36",
       "37",
       "38",
       "39",
       "40",
       "41",
       "42",
       "43",
       "44",
       "45",
       "46",
       "47",
       "48",
       "49",
       "50",
       "51",
       "52",
       "53",
       "54",
       "55",
       "56",
       "57",
       "58",
       "59",
       "60",
       "61",
       "62",
       "63",
       "64",
       "65",
       "66"
      ],
      "_view_count": null,
      "_view_module": "@jupyter-widgets/controls",
      "_view_module_version": "1.5.0",
      "_view_name": "SelectionRangeSliderView",
      "continuous_update": true,
      "description": "Rows to display",
      "description_tooltip": null,
      "disabled": false,
      "index": [
       0,
       7
      ],
      "layout": "IPY_MODEL_fde4f49d19c3467b9a5cdaeb748b054e",
      "orientation": "horizontal",
      "readout": true,
      "style": "IPY_MODEL_63ca2576e9e74ab68a91fe6c52617135"
     }
    },
    "4df4a4824822467cb29b505ceae8f77e": {
     "model_module": "@jupyter-widgets/base",
     "model_module_version": "1.2.0",
     "model_name": "LayoutModel",
     "state": {
      "_model_module": "@jupyter-widgets/base",
      "_model_module_version": "1.2.0",
      "_model_name": "LayoutModel",
      "_view_count": null,
      "_view_module": "@jupyter-widgets/base",
      "_view_module_version": "1.2.0",
      "_view_name": "LayoutView",
      "align_content": null,
      "align_items": null,
      "align_self": null,
      "border": null,
      "bottom": null,
      "display": null,
      "flex": null,
      "flex_flow": null,
      "grid_area": null,
      "grid_auto_columns": null,
      "grid_auto_flow": null,
      "grid_auto_rows": null,
      "grid_column": null,
      "grid_gap": null,
      "grid_row": null,
      "grid_template_areas": null,
      "grid_template_columns": null,
      "grid_template_rows": null,
      "height": "auto",
      "justify_content": null,
      "justify_items": null,
      "left": null,
      "margin": null,
      "max_height": null,
      "max_width": null,
      "min_height": null,
      "min_width": null,
      "object_fit": null,
      "object_position": null,
      "order": null,
      "overflow": null,
      "overflow_x": null,
      "overflow_y": null,
      "padding": null,
      "right": null,
      "top": null,
      "visibility": null,
      "width": "auto"
     }
    },
    "5a0d46a90d804062909580d44e6ce52a": {
     "model_module": "@jupyter-widgets/controls",
     "model_module_version": "1.5.0",
     "model_name": "ButtonStyleModel",
     "state": {
      "_model_module": "@jupyter-widgets/controls",
      "_model_module_version": "1.5.0",
      "_model_name": "ButtonStyleModel",
      "_view_count": null,
      "_view_module": "@jupyter-widgets/base",
      "_view_module_version": "1.2.0",
      "_view_name": "StyleView",
      "button_color": null,
      "font_weight": ""
     }
    },
    "5e2f492af2744af2ac61078db5bbb099": {
     "model_module": "ipysheet",
     "model_module_version": "~0.4.4",
     "model_name": "CellRangeModel",
     "state": {
      "_model_module": "ipysheet",
      "_model_module_version": "~0.4.4",
      "_model_name": "CellRangeModel",
      "_view_count": null,
      "_view_module": null,
      "_view_module_version": "",
      "_view_name": null,
      "choice": null,
      "column_end": 2,
      "column_start": 2,
      "date_format": "YYYY/MM/DD",
      "name": null,
      "numeric_format": "0.000",
      "read_only": false,
      "renderer": null,
      "row_end": 4,
      "row_start": 0,
      "squeeze_column": true,
      "squeeze_row": false,
      "style": {},
      "time_format": "h:mm:ss a",
      "transpose": false,
      "type": "numeric",
      "value": [
       -39.052281,
       -39.057633,
       -39.04892,
       -39.046859,
       -39.053019
      ]
     }
    },
    "6276e1b951c1421da718b88762d14ebd": {
     "model_module": "@jupyter-widgets/base",
     "model_module_version": "1.2.0",
     "model_name": "LayoutModel",
     "state": {
      "_model_module": "@jupyter-widgets/base",
      "_model_module_version": "1.2.0",
      "_model_name": "LayoutModel",
      "_view_count": null,
      "_view_module": "@jupyter-widgets/base",
      "_view_module_version": "1.2.0",
      "_view_name": "LayoutView",
      "align_content": null,
      "align_items": null,
      "align_self": null,
      "border": null,
      "bottom": null,
      "display": null,
      "flex": null,
      "flex_flow": null,
      "grid_area": null,
      "grid_auto_columns": null,
      "grid_auto_flow": null,
      "grid_auto_rows": null,
      "grid_column": null,
      "grid_gap": null,
      "grid_row": null,
      "grid_template_areas": null,
      "grid_template_columns": null,
      "grid_template_rows": null,
      "height": null,
      "justify_content": null,
      "justify_items": null,
      "left": null,
      "margin": null,
      "max_height": null,
      "max_width": null,
      "min_height": null,
      "min_width": null,
      "object_fit": null,
      "object_position": null,
      "order": null,
      "overflow": null,
      "overflow_x": null,
      "overflow_y": null,
      "padding": null,
      "right": null,
      "top": null,
      "visibility": null,
      "width": "95%"
     }
    },
    "63ca2576e9e74ab68a91fe6c52617135": {
     "model_module": "@jupyter-widgets/controls",
     "model_module_version": "1.5.0",
     "model_name": "DescriptionStyleModel",
     "state": {
      "_model_module": "@jupyter-widgets/controls",
      "_model_module_version": "1.5.0",
      "_model_name": "DescriptionStyleModel",
      "_view_count": null,
      "_view_module": "@jupyter-widgets/base",
      "_view_module_version": "1.2.0",
      "_view_name": "StyleView",
      "description_width": "initial"
     }
    },
    "6724f9946b504dcdb12968da9b295af4": {
     "model_module": "@jupyter-widgets/controls",
     "model_module_version": "1.5.0",
     "model_name": "ButtonModel",
     "state": {
      "_dom_classes": [],
      "_model_module": "@jupyter-widgets/controls",
      "_model_module_version": "1.5.0",
      "_model_name": "ButtonModel",
      "_view_count": null,
      "_view_module": "@jupyter-widgets/controls",
      "_view_module_version": "1.5.0",
      "_view_name": "ButtonView",
      "button_style": "danger",
      "description": "Yes, details are correct",
      "disabled": false,
      "icon": "",
      "layout": "IPY_MODEL_ba75d30eb41a41209d03784ce7b635a7",
      "style": "IPY_MODEL_19526795fde746619486247e0191020b",
      "tooltip": ""
     }
    },
    "6daeb57cd038451dba2afc4883028ff6": {
     "model_module": "@jupyter-widgets/controls",
     "model_module_version": "1.5.0",
     "model_name": "DescriptionStyleModel",
     "state": {
      "_model_module": "@jupyter-widgets/controls",
      "_model_module_version": "1.5.0",
      "_model_name": "DescriptionStyleModel",
      "_view_count": null,
      "_view_module": "@jupyter-widgets/base",
      "_view_module_version": "1.2.0",
      "_view_name": "StyleView",
      "description_width": ""
     }
    },
    "72cafe85aa2947e18e314ef360fddf25": {
     "model_module": "@jupyter-widgets/base",
     "model_module_version": "1.2.0",
     "model_name": "LayoutModel",
     "state": {
      "_model_module": "@jupyter-widgets/base",
      "_model_module_version": "1.2.0",
      "_model_name": "LayoutModel",
      "_view_count": null,
      "_view_module": "@jupyter-widgets/base",
      "_view_module_version": "1.2.0",
      "_view_name": "LayoutView",
      "align_content": null,
      "align_items": null,
      "align_self": null,
      "border": null,
      "bottom": null,
      "display": null,
      "flex": null,
      "flex_flow": null,
      "grid_area": null,
      "grid_auto_columns": null,
      "grid_auto_flow": null,
      "grid_auto_rows": null,
      "grid_column": null,
      "grid_gap": null,
      "grid_row": null,
      "grid_template_areas": null,
      "grid_template_columns": null,
      "grid_template_rows": null,
      "height": null,
      "justify_content": null,
      "justify_items": null,
      "left": null,
      "margin": null,
      "max_height": null,
      "max_width": null,
      "min_height": null,
      "min_width": null,
      "object_fit": null,
      "object_position": null,
      "order": null,
      "overflow": null,
      "overflow_x": null,
      "overflow_y": null,
      "padding": null,
      "right": null,
      "top": null,
      "visibility": null,
      "width": null
     }
    },
    "7acf15ecc940473b9190fc4de487790d": {
     "model_module": "@jupyter-widgets/controls",
     "model_module_version": "1.5.0",
     "model_name": "SelectionRangeSliderModel",
     "state": {
      "_dom_classes": [],
      "_model_module": "@jupyter-widgets/controls",
      "_model_module_version": "1.5.0",
      "_model_name": "SelectionRangeSliderModel",
      "_options_labels": [
       "0",
       "1",
       "2",
       "3",
       "4",
       "5"
      ],
      "_view_count": null,
      "_view_module": "@jupyter-widgets/controls",
      "_view_module_version": "1.5.0",
      "_view_name": "SelectionRangeSliderView",
      "continuous_update": true,
      "description": "Rows to display",
      "description_tooltip": null,
      "disabled": false,
      "index": [
       0,
       5
      ],
      "layout": "IPY_MODEL_84a66f38e12e428f9ec5d03f8229efaa",
      "orientation": "horizontal",
      "readout": true,
      "style": "IPY_MODEL_261b652187df4a418d71c6dcf8ac8320"
     }
    },
    "84a66f38e12e428f9ec5d03f8229efaa": {
     "model_module": "@jupyter-widgets/base",
     "model_module_version": "1.2.0",
     "model_name": "LayoutModel",
     "state": {
      "_model_module": "@jupyter-widgets/base",
      "_model_module_version": "1.2.0",
      "_model_name": "LayoutModel",
      "_view_count": null,
      "_view_module": "@jupyter-widgets/base",
      "_view_module_version": "1.2.0",
      "_view_name": "LayoutView",
      "align_content": null,
      "align_items": null,
      "align_self": null,
      "border": null,
      "bottom": null,
      "display": null,
      "flex": null,
      "flex_flow": null,
      "grid_area": null,
      "grid_auto_columns": null,
      "grid_auto_flow": null,
      "grid_auto_rows": null,
      "grid_column": null,
      "grid_gap": null,
      "grid_row": null,
      "grid_template_areas": null,
      "grid_template_columns": null,
      "grid_template_rows": null,
      "height": null,
      "justify_content": null,
      "justify_items": null,
      "left": null,
      "margin": null,
      "max_height": null,
      "max_width": null,
      "min_height": null,
      "min_width": null,
      "object_fit": null,
      "object_position": null,
      "order": null,
      "overflow": null,
      "overflow_x": null,
      "overflow_y": null,
      "padding": "35px",
      "right": null,
      "top": null,
      "visibility": null,
      "width": "90%"
     }
    },
    "892172af9888451f827a680a16131e1b": {
     "model_module": "@jupyter-widgets/controls",
     "model_module_version": "1.5.0",
     "model_name": "HBoxModel",
     "state": {
      "_dom_classes": [],
      "_model_module": "@jupyter-widgets/controls",
      "_model_module_version": "1.5.0",
      "_model_name": "HBoxModel",
      "_view_count": null,
      "_view_module": "@jupyter-widgets/controls",
      "_view_module_version": "1.5.0",
      "_view_name": "HBoxView",
      "box_style": "",
      "children": [
       "IPY_MODEL_6724f9946b504dcdb12968da9b295af4",
       "IPY_MODEL_e82d84e6d4124c6dbf877ed68bc1d6a4"
      ],
      "layout": "IPY_MODEL_228ee1c9f12e43d49b8b1be5af56d462"
     }
    },
    "8bd1ad9f726e4657971f84bd1b9ebe1a": {
     "model_module": "ipysheet",
     "model_module_version": "~0.4.4",
     "model_name": "CellRangeModel",
     "state": {
      "_model_module": "ipysheet",
      "_model_module_version": "~0.4.4",
      "_model_name": "CellRangeModel",
      "_view_count": null,
      "_view_module": null,
      "_view_module_version": "",
      "_view_name": null,
      "choice": null,
      "column_end": 5,
      "column_start": 5,
      "date_format": "YYYY/MM/DD",
      "name": null,
      "numeric_format": null,
      "read_only": false,
      "renderer": null,
      "row_end": 4,
      "row_start": 0,
      "squeeze_column": true,
      "squeeze_row": false,
      "style": {},
      "time_format": "h:mm:ss a",
      "transpose": false,
      "type": "text",
      "value": [
       "NZ",
       "NZ",
       "NZ",
       "NZ",
       "NZ"
      ]
     }
    },
    "91941740f177482f84c158a9978fdc2d": {
     "model_module": "ipysheet",
     "model_module_version": "~0.4.4",
     "model_name": "CellRangeModel",
     "state": {
      "_model_module": "ipysheet",
      "_model_module_version": "~0.4.4",
      "_model_name": "CellRangeModel",
      "_view_count": null,
      "_view_module": null,
      "_view_module_version": "",
      "_view_name": null,
      "choice": null,
      "column_end": 1,
      "column_start": 1,
      "date_format": "YYYY/MM/DD",
      "name": null,
      "numeric_format": null,
      "read_only": false,
      "renderer": null,
      "row_end": 6,
      "row_start": 0,
      "squeeze_column": true,
      "squeeze_row": false,
      "style": {},
      "time_format": "h:mm:ss a",
      "transpose": false,
      "type": "text",
      "value": [
       "Fan-shaped sponge",
       "Football sponge",
       "Sponge (any species)",
       "Dead man's fingers",
       "Deeplet sea anemone",
       "Common sea pen",
       "Tall sea pen"
      ]
     }
    },
    "9dc36e1a53e845fc93a69ae326ad5c02": {
     "model_module": "@jupyter-widgets/controls",
     "model_module_version": "1.5.0",
     "model_name": "DropdownModel",
     "state": {
      "_dom_classes": [],
      "_model_module": "@jupyter-widgets/controls",
      "_model_module_version": "1.5.0",
      "_model_name": "DropdownModel",
      "_options_labels": [
       "Template project",
       "Koster_Seafloor_Obs",
       "Spyfish_Aotearoa",
       "SGU",
       "Medins"
      ],
      "_view_count": null,
      "_view_module": "@jupyter-widgets/controls",
      "_view_module_version": "1.5.0",
      "_view_name": "DropdownView",
      "description": "Project:",
      "description_tooltip": null,
      "disabled": false,
      "index": 0,
      "layout": "IPY_MODEL_42d4527dd31b4ba49a763c39b0b19d73",
      "style": "IPY_MODEL_6daeb57cd038451dba2afc4883028ff6"
     }
    },
    "9f8655fc97554e1fbd52ead851f7b124": {
     "model_module": "@jupyter-widgets/controls",
     "model_module_version": "1.5.0",
     "model_name": "RadioButtonsModel",
     "state": {
      "_dom_classes": [],
      "_model_module": "@jupyter-widgets/controls",
      "_model_module_version": "1.5.0",
      "_model_name": "RadioButtonsModel",
      "_options_labels": [
       "Basic: Check for empty cells in the movies.csv",
       "Advanced: Basic + Check format and metadata of each movie"
      ],
      "_view_count": null,
      "_view_module": "@jupyter-widgets/controls",
      "_view_module_version": "1.5.0",
      "_view_name": "RadioButtonsView",
      "description": "What method you want to use to review the movies:",
      "description_tooltip": null,
      "disabled": false,
      "index": 0,
      "layout": "IPY_MODEL_6276e1b951c1421da718b88762d14ebd",
      "style": "IPY_MODEL_207a83072bcd4af7934047213ee79bdf"
     }
    },
    "a5eb3bc8282a44a7bc08300e739d0c71": {
     "model_module": "ipysheet",
     "model_module_version": "~0.4.4",
     "model_name": "SheetModel",
     "state": {
      "_dom_classes": [],
      "_model_module": "ipysheet",
      "_model_module_version": "~0.4.4",
      "_model_name": "SheetModel",
      "_view_count": null,
      "_view_module": "ipysheet",
      "_view_module_version": "~0.4.4",
      "_view_name": "SheetView",
      "cells": [
       "IPY_MODEL_172303d0cf9d42608eccbb9779a15ebd",
       "IPY_MODEL_46f19dbc7a2b402db1f827984bd46118",
       "IPY_MODEL_5e2f492af2744af2ac61078db5bbb099",
       "IPY_MODEL_e65923a639df4d25bcff24e3459ec4ad",
       "IPY_MODEL_245a95fee4ae46189d2dd78a0b653ede",
       "IPY_MODEL_8bd1ad9f726e4657971f84bd1b9ebe1a"
      ],
      "column_headers": [
       "site_id",
       "siteName",
       "decimalLatitude",
       "decimalLongitude",
       "geodeticDatum",
       "countryCode"
      ],
      "column_resizing": true,
      "column_width": null,
      "columns": 6,
      "layout": "IPY_MODEL_4df4a4824822467cb29b505ceae8f77e",
      "named_cells": {},
      "row_headers": [
       "0",
       "1",
       "2",
       "3",
       "4"
      ],
      "row_resizing": true,
      "rows": 5,
      "search_token": "",
      "stretch_headers": "all"
     }
    },
    "b87d3bc228814761a48defda2a346078": {
     "model_module": "ipysheet",
     "model_module_version": "~0.4.4",
     "model_name": "CellRangeModel",
     "state": {
      "_model_module": "ipysheet",
      "_model_module_version": "~0.4.4",
      "_model_name": "CellRangeModel",
      "_view_count": null,
      "_view_module": null,
      "_view_module_version": "",
      "_view_name": null,
      "choice": null,
      "column_end": 4,
      "column_start": 4,
      "date_format": "YYYY/MM/DD",
      "name": null,
      "numeric_format": null,
      "read_only": false,
      "renderer": null,
      "row_end": 6,
      "row_start": 0,
      "squeeze_column": true,
      "squeeze_row": false,
      "style": {},
      "time_format": "h:mm:ss a",
      "transpose": false,
      "type": "text",
      "value": [
       "Animalia",
       "Animalia",
       "Animalia",
       "Animalia",
       "Animalia",
       "Animalia",
       "Animalia"
      ]
     }
    },
    "ba75d30eb41a41209d03784ce7b635a7": {
     "model_module": "@jupyter-widgets/base",
     "model_module_version": "1.2.0",
     "model_name": "LayoutModel",
     "state": {
      "_model_module": "@jupyter-widgets/base",
      "_model_module_version": "1.2.0",
      "_model_name": "LayoutModel",
      "_view_count": null,
      "_view_module": "@jupyter-widgets/base",
      "_view_module_version": "1.2.0",
      "_view_name": "LayoutView",
      "align_content": null,
      "align_items": null,
      "align_self": null,
      "border": null,
      "bottom": null,
      "display": null,
      "flex": null,
      "flex_flow": null,
      "grid_area": null,
      "grid_auto_columns": null,
      "grid_auto_flow": null,
      "grid_auto_rows": null,
      "grid_column": null,
      "grid_gap": null,
      "grid_row": null,
      "grid_template_areas": null,
      "grid_template_columns": null,
      "grid_template_rows": null,
      "height": null,
      "justify_content": null,
      "justify_items": null,
      "left": null,
      "margin": null,
      "max_height": null,
      "max_width": null,
      "min_height": null,
      "min_width": null,
      "object_fit": null,
      "object_position": null,
      "order": null,
      "overflow": null,
      "overflow_x": null,
      "overflow_y": null,
      "padding": null,
      "right": null,
      "top": null,
      "visibility": null,
      "width": "25%"
     }
    },
    "be4500d5507c4dffacc52790594d58ff": {
     "model_module": "ipysheet",
     "model_module_version": "~0.4.4",
     "model_name": "CellRangeModel",
     "state": {
      "_model_module": "ipysheet",
      "_model_module_version": "~0.4.4",
      "_model_name": "CellRangeModel",
      "_view_count": null,
      "_view_module": null,
      "_view_module_version": "",
      "_view_name": null,
      "choice": null,
      "column_end": 3,
      "column_start": 3,
      "date_format": "YYYY/MM/DD",
      "name": null,
      "numeric_format": null,
      "read_only": false,
      "renderer": null,
      "row_end": 6,
      "row_start": 0,
      "squeeze_column": true,
      "squeeze_row": false,
      "style": {},
      "time_format": "h:mm:ss a",
      "transpose": false,
      "type": "text",
      "value": [
       "species",
       "species",
       "phylum",
       "species",
       "species",
       "species",
       "species"
      ]
     }
    },
    "d27dd78c068241149a845c7359486f9b": {
     "model_module": "ipysheet",
     "model_module_version": "~0.4.4",
     "model_name": "SheetModel",
     "state": {
      "_dom_classes": [],
      "_model_module": "ipysheet",
      "_model_module_version": "~0.4.4",
      "_model_name": "SheetModel",
      "_view_count": null,
      "_view_module": "ipysheet",
      "_view_module_version": "~0.4.4",
      "_view_name": "SheetView",
      "cells": [
       "IPY_MODEL_460ea62d323f4bad907fa6cb1c7b674d",
       "IPY_MODEL_91941740f177482f84c158a9978fdc2d",
       "IPY_MODEL_e79efc1e011d47578704dadeb511807e",
       "IPY_MODEL_be4500d5507c4dffacc52790594d58ff",
       "IPY_MODEL_b87d3bc228814761a48defda2a346078"
      ],
      "column_headers": [
       "species_id",
       "commonName",
       "scientificName",
       "taxonRank",
       "kingdom"
      ],
      "column_resizing": true,
      "column_width": null,
      "columns": 5,
      "layout": "IPY_MODEL_145d72546ec840b99ec6911bf77bbe84",
      "named_cells": {},
      "row_headers": [
       "0",
       "1",
       "2",
       "3",
       "4",
       "5",
       "6"
      ],
      "row_resizing": true,
      "rows": 7,
      "search_token": "",
      "stretch_headers": "all"
     }
    },
    "e4477a88139b41c18c5965f3eea07db1": {
     "model_module": "@jupyter-widgets/controls",
     "model_module_version": "1.5.0",
     "model_name": "ButtonModel",
     "state": {
      "_dom_classes": [],
      "_model_module": "@jupyter-widgets/controls",
      "_model_module_version": "1.5.0",
      "_model_name": "ButtonModel",
      "_view_count": null,
      "_view_module": "@jupyter-widgets/controls",
      "_view_module_version": "1.5.0",
      "_view_name": "ButtonView",
      "button_style": "danger",
      "description": "No, I will go back and fix them",
      "disabled": false,
      "icon": "",
      "layout": "IPY_MODEL_24be9c361a3f443d89bf0c2d84671555",
      "style": "IPY_MODEL_04ce3302736845a69cdb3740733d0e7a",
      "tooltip": ""
     }
    },
    "e65923a639df4d25bcff24e3459ec4ad": {
     "model_module": "ipysheet",
     "model_module_version": "~0.4.4",
     "model_name": "CellRangeModel",
     "state": {
      "_model_module": "ipysheet",
      "_model_module_version": "~0.4.4",
      "_model_name": "CellRangeModel",
      "_view_count": null,
      "_view_module": null,
      "_view_module_version": "",
      "_view_name": null,
      "choice": null,
      "column_end": 3,
      "column_start": 3,
      "date_format": "YYYY/MM/DD",
      "name": null,
      "numeric_format": "0.000",
      "read_only": false,
      "renderer": null,
      "row_end": 4,
      "row_start": 0,
      "squeeze_column": true,
      "squeeze_row": false,
      "style": {},
      "time_format": "h:mm:ss a",
      "transpose": false,
      "type": "numeric",
      "value": [
       174.023941,
       174.018739,
       174.0296,
       174.014944,
       175.015039
      ]
     }
    },
    "e79efc1e011d47578704dadeb511807e": {
     "model_module": "ipysheet",
     "model_module_version": "~0.4.4",
     "model_name": "CellRangeModel",
     "state": {
      "_model_module": "ipysheet",
      "_model_module_version": "~0.4.4",
      "_model_name": "CellRangeModel",
      "_view_count": null,
      "_view_module": null,
      "_view_module_version": "",
      "_view_name": null,
      "choice": null,
      "column_end": 2,
      "column_start": 2,
      "date_format": "YYYY/MM/DD",
      "name": null,
      "numeric_format": null,
      "read_only": false,
      "renderer": null,
      "row_end": 6,
      "row_start": 0,
      "squeeze_column": true,
      "squeeze_row": false,
      "style": {},
      "time_format": "h:mm:ss a",
      "transpose": false,
      "type": "text",
      "value": [
       "Phakellia ventilabrum",
       "Geodia barretti",
       "Porifera std",
       "Alcyonium digitatum",
       "Bolocera tuediae",
       "Pennatula phosphorea",
       "Funiculina quadrangularis"
      ]
     }
    },
    "e82d84e6d4124c6dbf877ed68bc1d6a4": {
     "model_module": "@jupyter-widgets/controls",
     "model_module_version": "1.5.0",
     "model_name": "ButtonModel",
     "state": {
      "_dom_classes": [],
      "_model_module": "@jupyter-widgets/controls",
      "_model_module_version": "1.5.0",
      "_model_name": "ButtonModel",
      "_view_count": null,
      "_view_module": "@jupyter-widgets/controls",
      "_view_module_version": "1.5.0",
      "_view_name": "ButtonView",
      "button_style": "danger",
      "description": "No, I will go back and fix them",
      "disabled": false,
      "icon": "",
      "layout": "IPY_MODEL_472a4c27434e4239848275630d7a252f",
      "style": "IPY_MODEL_5a0d46a90d804062909580d44e6ce52a",
      "tooltip": ""
     }
    },
    "f36506af1dde44138c071a94f36a8705": {
     "model_module": "@jupyter-widgets/controls",
     "model_module_version": "1.5.0",
     "model_name": "HBoxModel",
     "state": {
      "_dom_classes": [],
      "_model_module": "@jupyter-widgets/controls",
      "_model_module_version": "1.5.0",
      "_model_name": "HBoxModel",
      "_view_count": null,
      "_view_module": "@jupyter-widgets/controls",
      "_view_module_version": "1.5.0",
      "_view_name": "HBoxView",
      "box_style": "",
      "children": [
       "IPY_MODEL_1a249a6054aa4c0faa18499fbb73d0ce",
       "IPY_MODEL_e4477a88139b41c18c5965f3eea07db1"
      ],
      "layout": "IPY_MODEL_72cafe85aa2947e18e314ef360fddf25"
     }
    },
    "fde4f49d19c3467b9a5cdaeb748b054e": {
     "model_module": "@jupyter-widgets/base",
     "model_module_version": "1.2.0",
     "model_name": "LayoutModel",
     "state": {
      "_model_module": "@jupyter-widgets/base",
      "_model_module_version": "1.2.0",
      "_model_name": "LayoutModel",
      "_view_count": null,
      "_view_module": "@jupyter-widgets/base",
      "_view_module_version": "1.2.0",
      "_view_name": "LayoutView",
      "align_content": null,
      "align_items": null,
      "align_self": null,
      "border": null,
      "bottom": null,
      "display": null,
      "flex": null,
      "flex_flow": null,
      "grid_area": null,
      "grid_auto_columns": null,
      "grid_auto_flow": null,
      "grid_auto_rows": null,
      "grid_column": null,
      "grid_gap": null,
      "grid_row": null,
      "grid_template_areas": null,
      "grid_template_columns": null,
      "grid_template_rows": null,
      "height": null,
      "justify_content": null,
      "justify_items": null,
      "left": null,
      "margin": null,
      "max_height": null,
      "max_width": null,
      "min_height": null,
      "min_width": null,
      "object_fit": null,
      "object_position": null,
      "order": null,
      "overflow": null,
      "overflow_x": null,
      "overflow_y": null,
      "padding": "35px",
      "right": null,
      "top": null,
      "visibility": null,
      "width": "90%"
     }
    }
   }
  }
 },
 "nbformat": 4,
 "nbformat_minor": 5
}
