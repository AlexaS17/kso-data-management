{
  "cells": [
    {
      "cell_type": "markdown",
      "id": "95aea466",
      "metadata": {
        "id": "95aea466"
      },
      "source": [
        "<img align=\"left\" src=\"https://panoptes-uploads.zooniverse.org/project_avatar/86c23ca7-bbaa-4e84-8d8a-876819551431.png\" type=\"image/png\" height=100 width=100>\n",
        "</img>\n",
        "\n",
        "\n",
        "<h1 align=\"right\">Colab KSO Tutorial #1: Check and update csv files</h1>\n",
        "<h3 align=\"right\">Written by @jannesgg and @vykanton</h3>\n",
        "<h5 align=\"right\">Last updated: Aug 16th, 2022</h5>"
      ]
    },
    {
      "cell_type": "markdown",
      "id": "6f0fc779",
      "metadata": {
        "id": "6f0fc779"
      },
      "source": [
        "# Set up and requirements"
      ]
    },
    {
      "cell_type": "markdown",
      "id": "3c49080c",
      "metadata": {
        "id": "3c49080c"
      },
      "source": [
        "## Install kso_data_management and its requirements"
      ]
    },
    {
      "cell_type": "code",
      "execution_count": null,
      "id": "e6a1555e",
      "metadata": {
        "id": "e6a1555e"
      },
      "outputs": [],
      "source": [
        "# Clone koster_data_management repo\n",
        "!git clone --recurse-submodules -b dev https://github.com/ocean-data-factory-sweden/koster_data_management.git\n",
        "!pip install -r koster_data_management/requirements.txt\n",
        "\n",
        "# Install ipysheet version compatible in colab\n",
        "!pip install ipysheet==0.4.4\n",
        "\n",
        "# Restart the session to load the latest packages\n",
        "exit()"
      ]
    },
    {
      "cell_type": "markdown",
      "id": "6b9b11d5",
      "metadata": {
        "id": "6b9b11d5"
      },
      "source": [
        "### Import Python packages"
      ]
    },
    {
      "cell_type": "code",
      "execution_count": null,
      "id": "46ca201f",
      "metadata": {
        "id": "46ca201f"
      },
      "outputs": [],
      "source": [
        "# Set the directory of the libraries\n",
        "import sys, os\n",
        "from pathlib import Path\n",
        "\n",
        "# Enables testing changes in utils\n",
        "%load_ext autoreload\n",
        "%autoreload 2\n",
        "\n",
        "# Specify the path of the tutorials\n",
        "os.chdir(\"koster_data_management/tutorials\")\n",
        "sys.path.append('..')\n",
        "\n",
        "# Enable third-party widgets(ipysheet)\n",
        "from google.colab import output\n",
        "output.enable_custom_widget_manager()\n",
        "\n",
        "# Import required modules\n",
        "import kso_utils.tutorials_utils as t_utils\n",
        "import kso_utils.project_utils as p_utils\n",
        "import kso_utils.t1_utils as t1\n",
        "\n",
        "print(\"Packages loaded successfully\")"
      ]
    },
    {
      "cell_type": "markdown",
      "id": "fdc7152a",
      "metadata": {
        "id": "fdc7152a"
      },
      "source": [
        "### Choose your project"
      ]
    },
    {
      "cell_type": "code",
      "execution_count": 2,
      "id": "1c1aabda",
      "metadata": {
        "id": "1c1aabda",
        "colab": {
          "base_uri": "https://localhost:8080/",
          "height": 49,
          "referenced_widgets": [
            "508dfdb11d2f4355a18e996aded39e31",
            "a2e83f20726a4b64af8eb32b585bebe5",
            "01fa0e0025c4467db2e37e10b318d007"
          ]
        },
        "outputId": "587daa20-26dc-4105-f9a0-c2f15ed59438"
      },
      "outputs": [
        {
          "output_type": "display_data",
          "data": {
            "text/plain": [
              "Dropdown(description='Project:', options=('Template project', 'Koster_Seafloor_Obs', 'Spyfish_Aotearoa', 'SGU'…"
            ],
            "application/vnd.jupyter.widget-view+json": {
              "version_major": 2,
              "version_minor": 0,
              "model_id": "508dfdb11d2f4355a18e996aded39e31"
            }
          },
          "metadata": {
            "application/vnd.jupyter.widget-view+json": {
              "colab": {
                "custom_widget_manager": {
                  "url": "https://ssl.gstatic.com/colaboratory-static/widgets/colab-cdn-widget-manager/d2e234f7cc04bf79/manager.min.js"
                }
              }
            }
          }
        }
      ],
      "source": [
        "project_name = t_utils.choose_project()"
      ]
    },
    {
      "cell_type": "markdown",
      "source": [
        "## Initiate database"
      ],
      "metadata": {
        "id": "2URxgu8PQDZh"
      },
      "id": "2URxgu8PQDZh"
    },
    {
      "cell_type": "code",
      "execution_count": 3,
      "id": "41994eb6",
      "metadata": {
        "id": "41994eb6",
        "colab": {
          "base_uri": "https://localhost:8080/"
        },
        "outputId": "ef380f37-9f16-4d77-ff38-7311e784ba97"
      },
      "outputs": [
        {
          "name": "stdout",
          "output_type": "stream",
          "text": [
            "Enter the key id for the aws server··········\n",
            "Enter the secret access key for the aws server··········\n"
          ]
        },
        {
          "output_type": "stream",
          "name": "stderr",
          "text": [
            "db_spyfish_csv/sites_buv_doc.csv: 100%|██████████| 150k/150k [00:01<00:00, 130kB/s]\n",
            "db_spyfish_csv/movies_buv_doc.csv: 100%|██████████| 35.6k/35.6k [00:00<00:00, 73.2kB/s]\n",
            "db_spyfish_csv/species_buv_doc.csv: 100%|██████████| 7.53k/7.53k [00:00<00:00, 16.0kB/s]\n",
            "db_spyfish_csv/surveys_buv_doc.csv: 100%|██████████| 3.37k/3.37k [00:00<00:00, 6.84kB/s]\n",
            "db_spyfish_csv/choices_buv.csv: 100%|██████████| 3.58k/3.58k [00:00<00:00, 7.42kB/s]\n",
            "ERROR:root:The table movies has invalid entries, please ensure that all columns are non-zero\n",
            "ERROR:root:The invalid entries are      movie_id            filename created_on  fps  duration  sampling_start  \\\n",
            "112       126  CRP_001_07_04_2022  7/04/2022  NaN       NaN             100   \n",
            "\n",
            "     sampling_end        Author  Site_id  \\\n",
            "112          1900  Emma Kearney      NaN   \n",
            "\n",
            "                                                 Fpath  \n",
            "112  http://marine-buv.s3.ap-southeast-2.amazonaws....  \n"
          ]
        }
      ],
      "source": [
        "project = p_utils.find_project(project_name=project_name.value)\n",
        "db_info_dict = t_utils.initiate_db(project)"
      ]
    },
    {
      "cell_type": "markdown",
      "id": "52f976b8",
      "metadata": {
        "id": "52f976b8"
      },
      "source": [
        "# Review Sites"
      ]
    },
    {
      "cell_type": "markdown",
      "source": [
        "## Map sites and metadata"
      ],
      "metadata": {
        "id": "5__P6hq1QRjF"
      },
      "id": "5__P6hq1QRjF"
    },
    {
      "cell_type": "code",
      "source": [
        "kso_map = t1.map_site(db_info_dict, project)\n",
        "kso_map"
      ],
      "metadata": {
        "id": "J9Dm5_ghmJ3_"
      },
      "id": "J9Dm5_ghmJ3_",
      "execution_count": null,
      "outputs": []
    },
    {
      "cell_type": "markdown",
      "source": [
        "## Update sites metadata"
      ],
      "metadata": {
        "id": "RzqjZinGQVux"
      },
      "id": "RzqjZinGQVux"
    },
    {
      "cell_type": "markdown",
      "source": [
        "Select the range of sites to display"
      ],
      "metadata": {
        "id": "L8-z6pV8LKxY"
      },
      "id": "L8-z6pV8LKxY"
    },
    {
      "cell_type": "code",
      "source": [
        "sites_df, sites_range = t1.select_sheet_range(db_initial_info = db_info_dict,\n",
        "                                              orig_csv = \"local_sites_csv\"\n",
        "                                              )"
      ],
      "metadata": {
        "colab": {
          "base_uri": "https://localhost:8080/",
          "height": 87,
          "referenced_widgets": [
            "9913275e7fde4fe192b7932d9ddfad21",
            "b3379d5788ad43beb2d64d530084d7cd",
            "8e0e1934a9d842e7805b3d7305a3fdce"
          ]
        },
        "id": "IQmvKQPyLR5d",
        "outputId": "c6b5a75b-7b52-4de5-fe2a-8d20ad6baa32"
      },
      "id": "IQmvKQPyLR5d",
      "execution_count": null,
      "outputs": [
        {
          "output_type": "display_data",
          "data": {
            "text/plain": [
              "SelectionRangeSlider(description='Sites to display', index=(0, 5), layout=Layout(padding='35px', width='90%'),…"
            ],
            "application/vnd.jupyter.widget-view+json": {
              "version_major": 2,
              "version_minor": 0,
              "model_id": "9913275e7fde4fe192b7932d9ddfad21"
            }
          },
          "metadata": {
            "application/vnd.jupyter.widget-view+json": {
              "colab": {
                "custom_widget_manager": {
                  "url": "https://ssl.gstatic.com/colaboratory-static/widgets/colab-cdn-widget-manager/d2e234f7cc04bf79/manager.min.js"
                }
              }
            }
          }
        }
      ]
    },
    {
      "cell_type": "markdown",
      "source": [
        "You can update the contents of the cells in the spreadsheet below"
      ],
      "metadata": {
        "id": "TTEK-ACcp41U"
      },
      "id": "TTEK-ACcp41U"
    },
    {
      "cell_type": "code",
      "execution_count": null,
      "id": "9b01ccf5",
      "metadata": {
        "id": "9b01ccf5",
        "colab": {
          "base_uri": "https://localhost:8080/",
          "height": 117,
          "referenced_widgets": [
            "64f5e06a151345ae9ad9a1fd90dc6338",
            "c5e000c9d51d4d38af6ba9c2466e3064",
            "a89c1549b0f94c3ba1cf920790261b6e",
            "cd5ca4302c794549b3e8aaa744fd9263",
            "63420964399647a7b2a70157fdb0c728",
            "a43b1d67b44a466a8243818dd1cfa35d",
            "5a9a9e4a585e42cfb639b1d98ee62241",
            "ad009a2670af4baea636d95ee3bc1ddd"
          ]
        },
        "outputId": "661e0449-377d-4d1b-a5cf-3f5292a37a95"
      },
      "outputs": [
        {
          "output_type": "display_data",
          "data": {
            "text/plain": [
              "Sheet(cells=(Cell(column_end=0, column_start=0, numeric_format='0[.]0', row_end=2, row_start=0, squeeze_row=Fa…"
            ],
            "application/vnd.jupyter.widget-view+json": {
              "version_major": 2,
              "version_minor": 0,
              "model_id": "64f5e06a151345ae9ad9a1fd90dc6338"
            }
          },
          "metadata": {
            "application/vnd.jupyter.widget-view+json": {
              "colab": {
                "custom_widget_manager": {
                  "url": "https://ssl.gstatic.com/colaboratory-static/widgets/colab-cdn-widget-manager/d2e234f7cc04bf79/manager.min.js"
                }
              }
            }
          }
        }
      ],
      "source": [
        "sites_df_filtered, sites_sheet = t1.open_sites_csv(df = sites_df, df_range = sites_range)\n",
        "sites_sheet"
      ]
    },
    {
      "cell_type": "markdown",
      "source": [
        "### Confirm the changes"
      ],
      "metadata": {
        "id": "nUITsuBLqIx4"
      },
      "id": "nUITsuBLqIx4"
    },
    {
      "cell_type": "code",
      "source": [
        "# Display the changes\n",
        "highlight_changes, sites_sheet_df = t1.display_changes(db_info_dict,\n",
        "                   isheet = sites_sheet, \n",
        "                   sites_df_filtered = sites_df_filtered\n",
        "                   )\n",
        "highlight_changes"
      ],
      "metadata": {
        "id": "n5g_Fiq2qHdt",
        "colab": {
          "base_uri": "https://localhost:8080/",
          "height": 206
        },
        "outputId": "4e15d909-6f94-4c29-ef21-7f0d7e621a76"
      },
      "id": "n5g_Fiq2qHdt",
      "execution_count": null,
      "outputs": [
        {
          "output_type": "execute_result",
          "data": {
            "text/plain": [
              "<pandas.io.formats.style.Styler at 0x7f2b6b3f5f10>"
            ],
            "text/html": [
              "<style type=\"text/css\">\n",
              "#T_45275_row1_col1, #T_45275_row2_col1 {\n",
              "  background-color: yellow;\n",
              "}\n",
              "</style>\n",
              "<table id=\"T_45275_\" class=\"dataframe\">\n",
              "  <thead>\n",
              "    <tr>\n",
              "      <th class=\"blank level0\" >&nbsp;</th>\n",
              "      <th class=\"col_heading level0 col0\" colspan=\"2\">siteName</th>\n",
              "      <th class=\"col_heading level0 col2\" colspan=\"2\">decimalLatitude</th>\n",
              "      <th class=\"col_heading level0 col4\" colspan=\"2\">decimalLongitude</th>\n",
              "      <th class=\"col_heading level0 col6\" colspan=\"2\">geodeticDatum</th>\n",
              "      <th class=\"col_heading level0 col8\" colspan=\"2\">countryCode</th>\n",
              "    </tr>\n",
              "    <tr>\n",
              "      <th class=\"blank level1\" >&nbsp;</th>\n",
              "      <th class=\"col_heading level1 col0\" >Origin</th>\n",
              "      <th class=\"col_heading level1 col1\" >Update</th>\n",
              "      <th class=\"col_heading level1 col2\" >Origin</th>\n",
              "      <th class=\"col_heading level1 col3\" >Update</th>\n",
              "      <th class=\"col_heading level1 col4\" >Origin</th>\n",
              "      <th class=\"col_heading level1 col5\" >Update</th>\n",
              "      <th class=\"col_heading level1 col6\" >Origin</th>\n",
              "      <th class=\"col_heading level1 col7\" >Update</th>\n",
              "      <th class=\"col_heading level1 col8\" >Origin</th>\n",
              "      <th class=\"col_heading level1 col9\" >Update</th>\n",
              "    </tr>\n",
              "    <tr>\n",
              "      <th class=\"index_name level0\" >site_id</th>\n",
              "      <th class=\"blank col0\" >&nbsp;</th>\n",
              "      <th class=\"blank col1\" >&nbsp;</th>\n",
              "      <th class=\"blank col2\" >&nbsp;</th>\n",
              "      <th class=\"blank col3\" >&nbsp;</th>\n",
              "      <th class=\"blank col4\" >&nbsp;</th>\n",
              "      <th class=\"blank col5\" >&nbsp;</th>\n",
              "      <th class=\"blank col6\" >&nbsp;</th>\n",
              "      <th class=\"blank col7\" >&nbsp;</th>\n",
              "      <th class=\"blank col8\" >&nbsp;</th>\n",
              "      <th class=\"blank col9\" >&nbsp;</th>\n",
              "    </tr>\n",
              "  </thead>\n",
              "  <tbody>\n",
              "    <tr>\n",
              "      <th id=\"T_45275_level0_row0\" class=\"row_heading level0 row0\" >3</th>\n",
              "      <td id=\"T_45275_row0_col0\" class=\"data row0 col0\" >Site_3</td>\n",
              "      <td id=\"T_45275_row0_col1\" class=\"data row0 col1\" >Site_3</td>\n",
              "      <td id=\"T_45275_row0_col2\" class=\"data row0 col2\" >-39.048920</td>\n",
              "      <td id=\"T_45275_row0_col3\" class=\"data row0 col3\" >-39.048920</td>\n",
              "      <td id=\"T_45275_row0_col4\" class=\"data row0 col4\" >174.029600</td>\n",
              "      <td id=\"T_45275_row0_col5\" class=\"data row0 col5\" >174.029600</td>\n",
              "      <td id=\"T_45275_row0_col6\" class=\"data row0 col6\" >WGS84</td>\n",
              "      <td id=\"T_45275_row0_col7\" class=\"data row0 col7\" >WGS84</td>\n",
              "      <td id=\"T_45275_row0_col8\" class=\"data row0 col8\" >NZ</td>\n",
              "      <td id=\"T_45275_row0_col9\" class=\"data row0 col9\" >NZ</td>\n",
              "    </tr>\n",
              "    <tr>\n",
              "      <th id=\"T_45275_level0_row1\" class=\"row_heading level0 row1\" >4</th>\n",
              "      <td id=\"T_45275_row1_col0\" class=\"data row1 col0\" >Site_3</td>\n",
              "      <td id=\"T_45275_row1_col1\" class=\"data row1 col1\" >Site_4</td>\n",
              "      <td id=\"T_45275_row1_col2\" class=\"data row1 col2\" >-39.048920</td>\n",
              "      <td id=\"T_45275_row1_col3\" class=\"data row1 col3\" >-39.048920</td>\n",
              "      <td id=\"T_45275_row1_col4\" class=\"data row1 col4\" >174.029600</td>\n",
              "      <td id=\"T_45275_row1_col5\" class=\"data row1 col5\" >174.029600</td>\n",
              "      <td id=\"T_45275_row1_col6\" class=\"data row1 col6\" >WGS84</td>\n",
              "      <td id=\"T_45275_row1_col7\" class=\"data row1 col7\" >WGS84</td>\n",
              "      <td id=\"T_45275_row1_col8\" class=\"data row1 col8\" >NZ</td>\n",
              "      <td id=\"T_45275_row1_col9\" class=\"data row1 col9\" >NZ</td>\n",
              "    </tr>\n",
              "    <tr>\n",
              "      <th id=\"T_45275_level0_row2\" class=\"row_heading level0 row2\" >5</th>\n",
              "      <td id=\"T_45275_row2_col0\" class=\"data row2 col0\" >Site_42</td>\n",
              "      <td id=\"T_45275_row2_col1\" class=\"data row2 col1\" >Site_52</td>\n",
              "      <td id=\"T_45275_row2_col2\" class=\"data row2 col2\" >-39.046859</td>\n",
              "      <td id=\"T_45275_row2_col3\" class=\"data row2 col3\" >-39.046859</td>\n",
              "      <td id=\"T_45275_row2_col4\" class=\"data row2 col4\" >174.014944</td>\n",
              "      <td id=\"T_45275_row2_col5\" class=\"data row2 col5\" >174.014944</td>\n",
              "      <td id=\"T_45275_row2_col6\" class=\"data row2 col6\" >WGS84</td>\n",
              "      <td id=\"T_45275_row2_col7\" class=\"data row2 col7\" >WGS84</td>\n",
              "      <td id=\"T_45275_row2_col8\" class=\"data row2 col8\" >NZ</td>\n",
              "      <td id=\"T_45275_row2_col9\" class=\"data row2 col9\" >NZ</td>\n",
              "    </tr>\n",
              "  </tbody>\n",
              "</table>\n"
            ]
          },
          "metadata": {},
          "execution_count": 208
        }
      ]
    },
    {
      "cell_type": "code",
      "source": [
        "# Confirm or deny the changes\n",
        "t1.update_csv(db_info_dict, \n",
        "              project,\n",
        "              sheet_df = sites_sheet_df,\n",
        "              sites_df = sites_df\n",
        "              )"
      ],
      "metadata": {
        "id": "H9EQfoINVwFV",
        "colab": {
          "base_uri": "https://localhost:8080/",
          "height": 84,
          "referenced_widgets": [
            "b81d53ff2e5544cf9911cdf7499bf833",
            "cd6c2a07ee4a484eb551c5c2d39cdd0d",
            "4e192bf0480f43fd8256515872b48924",
            "a20c09705a604159b40b7f5e6d709ab9",
            "0e2ed95778d64156b0c79de7877f57f4",
            "12123033778e4b628d4a39c60e9047a7",
            "e0bd598a182740d39df10e388230e345",
            "67c4618245dd430ba6d7f5f6c3454866"
          ]
        },
        "outputId": "1a9cd696-fb00-4c5b-9c8b-d0c0fd5309e9"
      },
      "id": "H9EQfoINVwFV",
      "execution_count": null,
      "outputs": [
        {
          "output_type": "stream",
          "name": "stdout",
          "text": [
            "\n",
            "Are the site changes above correct?\n"
          ]
        },
        {
          "output_type": "display_data",
          "data": {
            "text/plain": [
              "HBox(children=(Button(button_style='danger', description='Yes, details are correct', layout=Layout(width='25%'…"
            ],
            "application/vnd.jupyter.widget-view+json": {
              "version_major": 2,
              "version_minor": 0,
              "model_id": "b81d53ff2e5544cf9911cdf7499bf833"
            }
          },
          "metadata": {
            "application/vnd.jupyter.widget-view+json": {
              "colab": {
                "custom_widget_manager": {
                  "url": "https://ssl.gstatic.com/colaboratory-static/widgets/colab-cdn-widget-manager/d2e234f7cc04bf79/manager.min.js"
                }
              }
            }
          }
        }
      ]
    },
    {
      "cell_type": "markdown",
      "id": "4b134a5c",
      "metadata": {
        "id": "4b134a5c"
      },
      "source": [
        "# Review Movies (WIP)"
      ]
    },
    {
      "cell_type": "markdown",
      "source": [
        "## Choose the review method"
      ],
      "metadata": {
        "id": "LZYh0kJk8gop"
      },
      "id": "LZYh0kJk8gop"
    },
    {
      "cell_type": "code",
      "source": [
        "review_method = t1.choose_movie_review()"
      ],
      "metadata": {
        "id": "tgKWLhdx8SmI",
        "outputId": "b0e539bb-308d-4c35-fee7-c4b095e5a054",
        "colab": {
          "base_uri": "https://localhost:8080/",
          "height": 95,
          "referenced_widgets": [
            "9f8655fc97554e1fbd52ead851f7b124",
            "6276e1b951c1421da718b88762d14ebd",
            "207a83072bcd4af7934047213ee79bdf"
          ]
        }
      },
      "id": "tgKWLhdx8SmI",
      "execution_count": 5,
      "outputs": [
        {
          "output_type": "display_data",
          "data": {
            "text/plain": [
              "RadioButtons(description='What method you want to use to review the movies:', layout=Layout(width='95%'), opti…"
            ],
            "application/vnd.jupyter.widget-view+json": {
              "version_major": 2,
              "version_minor": 0,
              "model_id": "9f8655fc97554e1fbd52ead851f7b124"
            }
          },
          "metadata": {
            "application/vnd.jupyter.widget-view+json": {
              "colab": {
                "custom_widget_manager": {
                  "url": "https://ssl.gstatic.com/colaboratory-static/widgets/colab-cdn-widget-manager/d2e234f7cc04bf79/manager.min.js"
                }
              }
            }
          }
        }
      ]
    },
    {
      "cell_type": "markdown",
      "source": [
        "## Check the movies information"
      ],
      "metadata": {
        "id": "56Q-vAXc30di"
      },
      "id": "56Q-vAXc30di"
    },
    {
      "cell_type": "code",
      "source": [
        "movies_sheet_df = t1.check_movies_csv(db_info_dict, project, review_method)"
      ],
      "metadata": {
        "id": "yODAkAPk3zDT"
      },
      "id": "yODAkAPk3zDT",
      "execution_count": null,
      "outputs": []
    },
    {
      "cell_type": "code",
      "source": [
        "# Confirm or deny the changes\n",
        "t1.update_csv(db_info_dict, \n",
        "              project,\n",
        "              sheet_df = movies_sheet_df,\n",
        "              local_csv = \"local_movies_csv\",\n",
        "              serv_csv = \"server_movies_csv\"\n",
        "              )"
      ],
      "metadata": {
        "id": "Kd7Od4VfBln5"
      },
      "id": "Kd7Od4VfBln5",
      "execution_count": null,
      "outputs": []
    },
    {
      "cell_type": "markdown",
      "source": [
        "## Preview movies"
      ],
      "metadata": {
        "id": "CtTfD4tF6ouw"
      },
      "id": "CtTfD4tF6ouw"
    },
    {
      "cell_type": "markdown",
      "source": [
        "### Retrieve info of movies available on the server"
      ],
      "metadata": {
        "id": "keLx8PPJ6_1c"
      },
      "id": "keLx8PPJ6_1c"
    },
    {
      "cell_type": "code",
      "source": [
        "available_movies_df = s_utils.retrieve_movie_info_from_server(\n",
        "    project = project,\n",
        "    db_info_dict = db_info_dict\n",
        ")"
      ],
      "metadata": {
        "id": "EDA7nDfn7EyF"
      },
      "id": "EDA7nDfn7EyF",
      "execution_count": null,
      "outputs": []
    },
    {
      "cell_type": "markdown",
      "source": [
        "### Select movies to preview"
      ],
      "metadata": {
        "id": "oSm50evA6r6E"
      },
      "id": "oSm50evA6r6E"
    },
    {
      "cell_type": "code",
      "source": [
        "movie_selected = t_utils.select_movie(available_movies_df)"
      ],
      "metadata": {
        "id": "3Kbc7eYZ7JVx"
      },
      "id": "3Kbc7eYZ7JVx",
      "execution_count": null,
      "outputs": []
    },
    {
      "cell_type": "markdown",
      "source": [
        "### Display the movie"
      ],
      "metadata": {
        "id": "QfkDCyz67Mp-"
      },
      "id": "QfkDCyz67Mp-"
    },
    {
      "cell_type": "code",
      "source": [
        "movie_display, movie_path = t_utils.preview_movie(\n",
        "    project = project,\n",
        "    db_info_dict = db_info_dict, \n",
        "    available_movies_df = available_movies_df, \n",
        "    movie_i = movie_selected.value\n",
        ")\n",
        "movie_display"
      ],
      "metadata": {
        "id": "SbN566ha7R6n"
      },
      "id": "SbN566ha7R6n",
      "execution_count": null,
      "outputs": []
    },
    {
      "cell_type": "markdown",
      "source": [
        "# Review species"
      ],
      "metadata": {
        "id": "tyKSJHRq3kog"
      },
      "id": "tyKSJHRq3kog"
    },
    {
      "cell_type": "code",
      "execution_count": null,
      "id": "b78b2738",
      "metadata": {
        "id": "b78b2738"
      },
      "outputs": [],
      "source": [
        "movies_df = t1.check_movies_csv(db_info_dict, movies_df_sheet, project)"
      ]
    },
    {
      "cell_type": "code",
      "execution_count": null,
      "id": "5fc74ec0",
      "metadata": {
        "id": "5fc74ec0"
      },
      "outputs": [],
      "source": [
        "#END"
      ]
    }
  ],
  "metadata": {
    "colab": {
      "name": "COLAB_1_Check_and_update_csv_files.ipynb",
      "provenance": [],
      "collapsed_sections": []
    },
    "kernelspec": {
      "display_name": "Python 3 (ipykernel)",
      "language": "python",
      "name": "python3"
    },
    "language_info": {
      "codemirror_mode": {
        "name": "ipython",
        "version": 3
      },
      "file_extension": ".py",
      "mimetype": "text/x-python",
      "name": "python",
      "nbconvert_exporter": "python",
      "pygments_lexer": "ipython3",
      "version": "3.7.13"
    },
    "widgets": {
      "application/vnd.jupyter.widget-state+json": {
        "9913275e7fde4fe192b7932d9ddfad21": {
          "model_module": "@jupyter-widgets/controls",
          "model_name": "SelectionRangeSliderModel",
          "model_module_version": "1.5.0",
          "state": {
            "_dom_classes": [],
            "_model_module": "@jupyter-widgets/controls",
            "_model_module_version": "1.5.0",
            "_model_name": "SelectionRangeSliderModel",
            "_options_labels": [
              "0",
              "1",
              "2",
              "3",
              "4",
              "5"
            ],
            "_view_count": null,
            "_view_module": "@jupyter-widgets/controls",
            "_view_module_version": "1.5.0",
            "_view_name": "SelectionRangeSliderView",
            "continuous_update": true,
            "description": "Sites to display",
            "description_tooltip": null,
            "disabled": false,
            "index": [
              0,
              5
            ],
            "layout": "IPY_MODEL_b3379d5788ad43beb2d64d530084d7cd",
            "orientation": "horizontal",
            "readout": true,
            "style": "IPY_MODEL_8e0e1934a9d842e7805b3d7305a3fdce"
          }
        },
        "b3379d5788ad43beb2d64d530084d7cd": {
          "model_module": "@jupyter-widgets/base",
          "model_name": "LayoutModel",
          "model_module_version": "1.2.0",
          "state": {
            "_model_module": "@jupyter-widgets/base",
            "_model_module_version": "1.2.0",
            "_model_name": "LayoutModel",
            "_view_count": null,
            "_view_module": "@jupyter-widgets/base",
            "_view_module_version": "1.2.0",
            "_view_name": "LayoutView",
            "align_content": null,
            "align_items": null,
            "align_self": null,
            "border": null,
            "bottom": null,
            "display": null,
            "flex": null,
            "flex_flow": null,
            "grid_area": null,
            "grid_auto_columns": null,
            "grid_auto_flow": null,
            "grid_auto_rows": null,
            "grid_column": null,
            "grid_gap": null,
            "grid_row": null,
            "grid_template_areas": null,
            "grid_template_columns": null,
            "grid_template_rows": null,
            "height": null,
            "justify_content": null,
            "justify_items": null,
            "left": null,
            "margin": null,
            "max_height": null,
            "max_width": null,
            "min_height": null,
            "min_width": null,
            "object_fit": null,
            "object_position": null,
            "order": null,
            "overflow": null,
            "overflow_x": null,
            "overflow_y": null,
            "padding": "35px",
            "right": null,
            "top": null,
            "visibility": null,
            "width": "90%"
          }
        },
        "8e0e1934a9d842e7805b3d7305a3fdce": {
          "model_module": "@jupyter-widgets/controls",
          "model_name": "DescriptionStyleModel",
          "model_module_version": "1.5.0",
          "state": {
            "_model_module": "@jupyter-widgets/controls",
            "_model_module_version": "1.5.0",
            "_model_name": "DescriptionStyleModel",
            "_view_count": null,
            "_view_module": "@jupyter-widgets/base",
            "_view_module_version": "1.2.0",
            "_view_name": "StyleView",
            "description_width": "initial"
          }
        },
        "64f5e06a151345ae9ad9a1fd90dc6338": {
          "model_module": "ipysheet",
          "model_name": "SheetModel",
          "model_module_version": "~0.4.4",
          "state": {
            "_dom_classes": [],
            "_model_module": "ipysheet",
            "_model_module_version": "~0.4.4",
            "_model_name": "SheetModel",
            "_view_count": null,
            "_view_module": "ipysheet",
            "_view_module_version": "~0.4.4",
            "_view_name": "SheetView",
            "cells": [
              "IPY_MODEL_c5e000c9d51d4d38af6ba9c2466e3064",
              "IPY_MODEL_a89c1549b0f94c3ba1cf920790261b6e",
              "IPY_MODEL_cd5ca4302c794549b3e8aaa744fd9263",
              "IPY_MODEL_63420964399647a7b2a70157fdb0c728",
              "IPY_MODEL_a43b1d67b44a466a8243818dd1cfa35d",
              "IPY_MODEL_5a9a9e4a585e42cfb639b1d98ee62241"
            ],
            "column_headers": [
              "site_id",
              "siteName",
              "decimalLatitude",
              "decimalLongitude",
              "geodeticDatum",
              "countryCode"
            ],
            "column_resizing": true,
            "column_width": null,
            "columns": 6,
            "layout": "IPY_MODEL_ad009a2670af4baea636d95ee3bc1ddd",
            "named_cells": {},
            "row_headers": [
              "2",
              "3",
              "4"
            ],
            "row_resizing": true,
            "rows": 3,
            "search_token": "",
            "stretch_headers": "all"
          }
        },
        "c5e000c9d51d4d38af6ba9c2466e3064": {
          "model_module": "ipysheet",
          "model_name": "CellRangeModel",
          "model_module_version": "~0.4.4",
          "state": {
            "_model_module": "ipysheet",
            "_model_module_version": "~0.4.4",
            "_model_name": "CellRangeModel",
            "_view_count": null,
            "_view_module": null,
            "_view_module_version": "",
            "_view_name": null,
            "choice": null,
            "column_end": 0,
            "column_start": 0,
            "date_format": "YYYY/MM/DD",
            "name": null,
            "numeric_format": "0[.]0",
            "read_only": false,
            "renderer": null,
            "row_end": 2,
            "row_start": 0,
            "squeeze_column": true,
            "squeeze_row": false,
            "style": {},
            "time_format": "h:mm:ss a",
            "transpose": false,
            "type": "numeric",
            "value": [
              3,
              4,
              5
            ]
          }
        },
        "a89c1549b0f94c3ba1cf920790261b6e": {
          "model_module": "ipysheet",
          "model_name": "CellRangeModel",
          "model_module_version": "~0.4.4",
          "state": {
            "_model_module": "ipysheet",
            "_model_module_version": "~0.4.4",
            "_model_name": "CellRangeModel",
            "_view_count": null,
            "_view_module": null,
            "_view_module_version": "",
            "_view_name": null,
            "choice": null,
            "column_end": 1,
            "column_start": 1,
            "date_format": "YYYY/MM/DD",
            "name": null,
            "numeric_format": null,
            "read_only": false,
            "renderer": null,
            "row_end": 2,
            "row_start": 0,
            "squeeze_column": true,
            "squeeze_row": false,
            "style": {},
            "time_format": "h:mm:ss a",
            "transpose": false,
            "type": "text",
            "value": [
              "Site_3",
              "Site_4",
              "Site_52"
            ]
          }
        },
        "cd5ca4302c794549b3e8aaa744fd9263": {
          "model_module": "ipysheet",
          "model_name": "CellRangeModel",
          "model_module_version": "~0.4.4",
          "state": {
            "_model_module": "ipysheet",
            "_model_module_version": "~0.4.4",
            "_model_name": "CellRangeModel",
            "_view_count": null,
            "_view_module": null,
            "_view_module_version": "",
            "_view_name": null,
            "choice": null,
            "column_end": 2,
            "column_start": 2,
            "date_format": "YYYY/MM/DD",
            "name": null,
            "numeric_format": "0.000",
            "read_only": false,
            "renderer": null,
            "row_end": 2,
            "row_start": 0,
            "squeeze_column": true,
            "squeeze_row": false,
            "style": {},
            "time_format": "h:mm:ss a",
            "transpose": false,
            "type": "numeric",
            "value": [
              -39.04892,
              -39.04892,
              -39.046859
            ]
          }
        },
        "63420964399647a7b2a70157fdb0c728": {
          "model_module": "ipysheet",
          "model_name": "CellRangeModel",
          "model_module_version": "~0.4.4",
          "state": {
            "_model_module": "ipysheet",
            "_model_module_version": "~0.4.4",
            "_model_name": "CellRangeModel",
            "_view_count": null,
            "_view_module": null,
            "_view_module_version": "",
            "_view_name": null,
            "choice": null,
            "column_end": 3,
            "column_start": 3,
            "date_format": "YYYY/MM/DD",
            "name": null,
            "numeric_format": "0.000",
            "read_only": false,
            "renderer": null,
            "row_end": 2,
            "row_start": 0,
            "squeeze_column": true,
            "squeeze_row": false,
            "style": {},
            "time_format": "h:mm:ss a",
            "transpose": false,
            "type": "numeric",
            "value": [
              174.0296,
              174.0296,
              174.014944
            ]
          }
        },
        "a43b1d67b44a466a8243818dd1cfa35d": {
          "model_module": "ipysheet",
          "model_name": "CellRangeModel",
          "model_module_version": "~0.4.4",
          "state": {
            "_model_module": "ipysheet",
            "_model_module_version": "~0.4.4",
            "_model_name": "CellRangeModel",
            "_view_count": null,
            "_view_module": null,
            "_view_module_version": "",
            "_view_name": null,
            "choice": null,
            "column_end": 4,
            "column_start": 4,
            "date_format": "YYYY/MM/DD",
            "name": null,
            "numeric_format": null,
            "read_only": false,
            "renderer": null,
            "row_end": 2,
            "row_start": 0,
            "squeeze_column": true,
            "squeeze_row": false,
            "style": {},
            "time_format": "h:mm:ss a",
            "transpose": false,
            "type": "text",
            "value": [
              "WGS84",
              "WGS84",
              "WGS84"
            ]
          }
        },
        "5a9a9e4a585e42cfb639b1d98ee62241": {
          "model_module": "ipysheet",
          "model_name": "CellRangeModel",
          "model_module_version": "~0.4.4",
          "state": {
            "_model_module": "ipysheet",
            "_model_module_version": "~0.4.4",
            "_model_name": "CellRangeModel",
            "_view_count": null,
            "_view_module": null,
            "_view_module_version": "",
            "_view_name": null,
            "choice": null,
            "column_end": 5,
            "column_start": 5,
            "date_format": "YYYY/MM/DD",
            "name": null,
            "numeric_format": null,
            "read_only": false,
            "renderer": null,
            "row_end": 2,
            "row_start": 0,
            "squeeze_column": true,
            "squeeze_row": false,
            "style": {},
            "time_format": "h:mm:ss a",
            "transpose": false,
            "type": "text",
            "value": [
              "NZ",
              "NZ",
              "NZ"
            ]
          }
        },
        "ad009a2670af4baea636d95ee3bc1ddd": {
          "model_module": "@jupyter-widgets/base",
          "model_name": "LayoutModel",
          "model_module_version": "1.2.0",
          "state": {
            "_model_module": "@jupyter-widgets/base",
            "_model_module_version": "1.2.0",
            "_model_name": "LayoutModel",
            "_view_count": null,
            "_view_module": "@jupyter-widgets/base",
            "_view_module_version": "1.2.0",
            "_view_name": "LayoutView",
            "align_content": null,
            "align_items": null,
            "align_self": null,
            "border": null,
            "bottom": null,
            "display": null,
            "flex": null,
            "flex_flow": null,
            "grid_area": null,
            "grid_auto_columns": null,
            "grid_auto_flow": null,
            "grid_auto_rows": null,
            "grid_column": null,
            "grid_gap": null,
            "grid_row": null,
            "grid_template_areas": null,
            "grid_template_columns": null,
            "grid_template_rows": null,
            "height": "auto",
            "justify_content": null,
            "justify_items": null,
            "left": null,
            "margin": null,
            "max_height": null,
            "max_width": null,
            "min_height": null,
            "min_width": null,
            "object_fit": null,
            "object_position": null,
            "order": null,
            "overflow": null,
            "overflow_x": null,
            "overflow_y": null,
            "padding": null,
            "right": null,
            "top": null,
            "visibility": null,
            "width": "auto"
          }
        },
        "b81d53ff2e5544cf9911cdf7499bf833": {
          "model_module": "@jupyter-widgets/controls",
          "model_name": "HBoxModel",
          "model_module_version": "1.5.0",
          "state": {
            "_dom_classes": [],
            "_model_module": "@jupyter-widgets/controls",
            "_model_module_version": "1.5.0",
            "_model_name": "HBoxModel",
            "_view_count": null,
            "_view_module": "@jupyter-widgets/controls",
            "_view_module_version": "1.5.0",
            "_view_name": "HBoxView",
            "box_style": "",
            "children": [
              "IPY_MODEL_cd6c2a07ee4a484eb551c5c2d39cdd0d",
              "IPY_MODEL_4e192bf0480f43fd8256515872b48924"
            ],
            "layout": "IPY_MODEL_a20c09705a604159b40b7f5e6d709ab9"
          }
        },
        "cd6c2a07ee4a484eb551c5c2d39cdd0d": {
          "model_module": "@jupyter-widgets/controls",
          "model_name": "ButtonModel",
          "model_module_version": "1.5.0",
          "state": {
            "_dom_classes": [],
            "_model_module": "@jupyter-widgets/controls",
            "_model_module_version": "1.5.0",
            "_model_name": "ButtonModel",
            "_view_count": null,
            "_view_module": "@jupyter-widgets/controls",
            "_view_module_version": "1.5.0",
            "_view_name": "ButtonView",
            "button_style": "danger",
            "description": "Yes, details are correct",
            "disabled": false,
            "icon": "",
            "layout": "IPY_MODEL_0e2ed95778d64156b0c79de7877f57f4",
            "style": "IPY_MODEL_12123033778e4b628d4a39c60e9047a7",
            "tooltip": ""
          }
        },
        "4e192bf0480f43fd8256515872b48924": {
          "model_module": "@jupyter-widgets/controls",
          "model_name": "ButtonModel",
          "model_module_version": "1.5.0",
          "state": {
            "_dom_classes": [],
            "_model_module": "@jupyter-widgets/controls",
            "_model_module_version": "1.5.0",
            "_model_name": "ButtonModel",
            "_view_count": null,
            "_view_module": "@jupyter-widgets/controls",
            "_view_module_version": "1.5.0",
            "_view_name": "ButtonView",
            "button_style": "danger",
            "description": "No, I will go back and fix them",
            "disabled": false,
            "icon": "",
            "layout": "IPY_MODEL_e0bd598a182740d39df10e388230e345",
            "style": "IPY_MODEL_67c4618245dd430ba6d7f5f6c3454866",
            "tooltip": ""
          }
        },
        "a20c09705a604159b40b7f5e6d709ab9": {
          "model_module": "@jupyter-widgets/base",
          "model_name": "LayoutModel",
          "model_module_version": "1.2.0",
          "state": {
            "_model_module": "@jupyter-widgets/base",
            "_model_module_version": "1.2.0",
            "_model_name": "LayoutModel",
            "_view_count": null,
            "_view_module": "@jupyter-widgets/base",
            "_view_module_version": "1.2.0",
            "_view_name": "LayoutView",
            "align_content": null,
            "align_items": null,
            "align_self": null,
            "border": null,
            "bottom": null,
            "display": null,
            "flex": null,
            "flex_flow": null,
            "grid_area": null,
            "grid_auto_columns": null,
            "grid_auto_flow": null,
            "grid_auto_rows": null,
            "grid_column": null,
            "grid_gap": null,
            "grid_row": null,
            "grid_template_areas": null,
            "grid_template_columns": null,
            "grid_template_rows": null,
            "height": null,
            "justify_content": null,
            "justify_items": null,
            "left": null,
            "margin": null,
            "max_height": null,
            "max_width": null,
            "min_height": null,
            "min_width": null,
            "object_fit": null,
            "object_position": null,
            "order": null,
            "overflow": null,
            "overflow_x": null,
            "overflow_y": null,
            "padding": null,
            "right": null,
            "top": null,
            "visibility": null,
            "width": null
          }
        },
        "0e2ed95778d64156b0c79de7877f57f4": {
          "model_module": "@jupyter-widgets/base",
          "model_name": "LayoutModel",
          "model_module_version": "1.2.0",
          "state": {
            "_model_module": "@jupyter-widgets/base",
            "_model_module_version": "1.2.0",
            "_model_name": "LayoutModel",
            "_view_count": null,
            "_view_module": "@jupyter-widgets/base",
            "_view_module_version": "1.2.0",
            "_view_name": "LayoutView",
            "align_content": null,
            "align_items": null,
            "align_self": null,
            "border": null,
            "bottom": null,
            "display": null,
            "flex": null,
            "flex_flow": null,
            "grid_area": null,
            "grid_auto_columns": null,
            "grid_auto_flow": null,
            "grid_auto_rows": null,
            "grid_column": null,
            "grid_gap": null,
            "grid_row": null,
            "grid_template_areas": null,
            "grid_template_columns": null,
            "grid_template_rows": null,
            "height": null,
            "justify_content": null,
            "justify_items": null,
            "left": null,
            "margin": null,
            "max_height": null,
            "max_width": null,
            "min_height": null,
            "min_width": null,
            "object_fit": null,
            "object_position": null,
            "order": null,
            "overflow": null,
            "overflow_x": null,
            "overflow_y": null,
            "padding": null,
            "right": null,
            "top": null,
            "visibility": null,
            "width": "25%"
          }
        },
        "12123033778e4b628d4a39c60e9047a7": {
          "model_module": "@jupyter-widgets/controls",
          "model_name": "ButtonStyleModel",
          "model_module_version": "1.5.0",
          "state": {
            "_model_module": "@jupyter-widgets/controls",
            "_model_module_version": "1.5.0",
            "_model_name": "ButtonStyleModel",
            "_view_count": null,
            "_view_module": "@jupyter-widgets/base",
            "_view_module_version": "1.2.0",
            "_view_name": "StyleView",
            "button_color": null,
            "font_weight": ""
          }
        },
        "e0bd598a182740d39df10e388230e345": {
          "model_module": "@jupyter-widgets/base",
          "model_name": "LayoutModel",
          "model_module_version": "1.2.0",
          "state": {
            "_model_module": "@jupyter-widgets/base",
            "_model_module_version": "1.2.0",
            "_model_name": "LayoutModel",
            "_view_count": null,
            "_view_module": "@jupyter-widgets/base",
            "_view_module_version": "1.2.0",
            "_view_name": "LayoutView",
            "align_content": null,
            "align_items": null,
            "align_self": null,
            "border": null,
            "bottom": null,
            "display": null,
            "flex": null,
            "flex_flow": null,
            "grid_area": null,
            "grid_auto_columns": null,
            "grid_auto_flow": null,
            "grid_auto_rows": null,
            "grid_column": null,
            "grid_gap": null,
            "grid_row": null,
            "grid_template_areas": null,
            "grid_template_columns": null,
            "grid_template_rows": null,
            "height": null,
            "justify_content": null,
            "justify_items": null,
            "left": null,
            "margin": null,
            "max_height": null,
            "max_width": null,
            "min_height": null,
            "min_width": null,
            "object_fit": null,
            "object_position": null,
            "order": null,
            "overflow": null,
            "overflow_x": null,
            "overflow_y": null,
            "padding": null,
            "right": null,
            "top": null,
            "visibility": null,
            "width": "45%"
          }
        },
        "67c4618245dd430ba6d7f5f6c3454866": {
          "model_module": "@jupyter-widgets/controls",
          "model_name": "ButtonStyleModel",
          "model_module_version": "1.5.0",
          "state": {
            "_model_module": "@jupyter-widgets/controls",
            "_model_module_version": "1.5.0",
            "_model_name": "ButtonStyleModel",
            "_view_count": null,
            "_view_module": "@jupyter-widgets/base",
            "_view_module_version": "1.2.0",
            "_view_name": "StyleView",
            "button_color": null,
            "font_weight": ""
          }
        },
        "508dfdb11d2f4355a18e996aded39e31": {
          "model_module": "@jupyter-widgets/controls",
          "model_name": "DropdownModel",
          "model_module_version": "1.5.0",
          "state": {
            "_dom_classes": [],
            "_model_module": "@jupyter-widgets/controls",
            "_model_module_version": "1.5.0",
            "_model_name": "DropdownModel",
            "_options_labels": [
              "Template project",
              "Koster_Seafloor_Obs",
              "Spyfish_Aotearoa",
              "SGU",
              "Medins"
            ],
            "_view_count": null,
            "_view_module": "@jupyter-widgets/controls",
            "_view_module_version": "1.5.0",
            "_view_name": "DropdownView",
            "description": "Project:",
            "description_tooltip": null,
            "disabled": false,
            "index": 2,
            "layout": "IPY_MODEL_a2e83f20726a4b64af8eb32b585bebe5",
            "style": "IPY_MODEL_01fa0e0025c4467db2e37e10b318d007"
          }
        },
        "a2e83f20726a4b64af8eb32b585bebe5": {
          "model_module": "@jupyter-widgets/base",
          "model_name": "LayoutModel",
          "model_module_version": "1.2.0",
          "state": {
            "_model_module": "@jupyter-widgets/base",
            "_model_module_version": "1.2.0",
            "_model_name": "LayoutModel",
            "_view_count": null,
            "_view_module": "@jupyter-widgets/base",
            "_view_module_version": "1.2.0",
            "_view_name": "LayoutView",
            "align_content": null,
            "align_items": null,
            "align_self": null,
            "border": null,
            "bottom": null,
            "display": null,
            "flex": null,
            "flex_flow": null,
            "grid_area": null,
            "grid_auto_columns": null,
            "grid_auto_flow": null,
            "grid_auto_rows": null,
            "grid_column": null,
            "grid_gap": null,
            "grid_row": null,
            "grid_template_areas": null,
            "grid_template_columns": null,
            "grid_template_rows": null,
            "height": null,
            "justify_content": null,
            "justify_items": null,
            "left": null,
            "margin": null,
            "max_height": null,
            "max_width": null,
            "min_height": null,
            "min_width": null,
            "object_fit": null,
            "object_position": null,
            "order": null,
            "overflow": null,
            "overflow_x": null,
            "overflow_y": null,
            "padding": null,
            "right": null,
            "top": null,
            "visibility": null,
            "width": null
          }
        },
        "01fa0e0025c4467db2e37e10b318d007": {
          "model_module": "@jupyter-widgets/controls",
          "model_name": "DescriptionStyleModel",
          "model_module_version": "1.5.0",
          "state": {
            "_model_module": "@jupyter-widgets/controls",
            "_model_module_version": "1.5.0",
            "_model_name": "DescriptionStyleModel",
            "_view_count": null,
            "_view_module": "@jupyter-widgets/base",
            "_view_module_version": "1.2.0",
            "_view_name": "StyleView",
            "description_width": ""
          }
        },
        "9f8655fc97554e1fbd52ead851f7b124": {
          "model_module": "@jupyter-widgets/controls",
          "model_name": "RadioButtonsModel",
          "model_module_version": "1.5.0",
          "state": {
            "_dom_classes": [],
            "_model_module": "@jupyter-widgets/controls",
            "_model_module_version": "1.5.0",
            "_model_name": "RadioButtonsModel",
            "_options_labels": [
              "Basic: Check for empty cells in the movies.csv",
              "Advanced: Basic + Check format and metadata of each movie"
            ],
            "_view_count": null,
            "_view_module": "@jupyter-widgets/controls",
            "_view_module_version": "1.5.0",
            "_view_name": "RadioButtonsView",
            "description": "What method you want to use to review the movies:",
            "description_tooltip": null,
            "disabled": false,
            "index": 0,
            "layout": "IPY_MODEL_6276e1b951c1421da718b88762d14ebd",
            "style": "IPY_MODEL_207a83072bcd4af7934047213ee79bdf"
          }
        },
        "6276e1b951c1421da718b88762d14ebd": {
          "model_module": "@jupyter-widgets/base",
          "model_name": "LayoutModel",
          "model_module_version": "1.2.0",
          "state": {
            "_model_module": "@jupyter-widgets/base",
            "_model_module_version": "1.2.0",
            "_model_name": "LayoutModel",
            "_view_count": null,
            "_view_module": "@jupyter-widgets/base",
            "_view_module_version": "1.2.0",
            "_view_name": "LayoutView",
            "align_content": null,
            "align_items": null,
            "align_self": null,
            "border": null,
            "bottom": null,
            "display": null,
            "flex": null,
            "flex_flow": null,
            "grid_area": null,
            "grid_auto_columns": null,
            "grid_auto_flow": null,
            "grid_auto_rows": null,
            "grid_column": null,
            "grid_gap": null,
            "grid_row": null,
            "grid_template_areas": null,
            "grid_template_columns": null,
            "grid_template_rows": null,
            "height": null,
            "justify_content": null,
            "justify_items": null,
            "left": null,
            "margin": null,
            "max_height": null,
            "max_width": null,
            "min_height": null,
            "min_width": null,
            "object_fit": null,
            "object_position": null,
            "order": null,
            "overflow": null,
            "overflow_x": null,
            "overflow_y": null,
            "padding": null,
            "right": null,
            "top": null,
            "visibility": null,
            "width": "95%"
          }
        },
        "207a83072bcd4af7934047213ee79bdf": {
          "model_module": "@jupyter-widgets/controls",
          "model_name": "DescriptionStyleModel",
          "model_module_version": "1.5.0",
          "state": {
            "_model_module": "@jupyter-widgets/controls",
            "_model_module_version": "1.5.0",
            "_model_name": "DescriptionStyleModel",
            "_view_count": null,
            "_view_module": "@jupyter-widgets/base",
            "_view_module_version": "1.2.0",
            "_view_name": "StyleView",
            "description_width": "initial"
          }
        }
      }
    }
  },
  "nbformat": 4,
  "nbformat_minor": 5
}