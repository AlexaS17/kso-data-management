{
  "cells": [
    {
      "cell_type": "markdown",
      "id": "95aea466",
      "metadata": {
        "id": "95aea466"
      },
      "source": [
        "<img align=\"left\" src=\"https://panoptes-uploads.zooniverse.org/project_avatar/86c23ca7-bbaa-4e84-8d8a-876819551431.png\" type=\"image/png\" height=100 width=100>\n",
        "</img>\n",
        "\n",
        "\n",
        "<h1 align=\"right\">Colab KSO Tutorial #1: Check and update csv files</h1>\n",
        "<h3 align=\"right\">Written by @jannesgg and @vykanton</h3>\n",
        "<h5 align=\"right\">Last updated: Jun 27th, 2022</h5>"
      ]
    },
    {
      "cell_type": "markdown",
      "id": "6f0fc779",
      "metadata": {
        "id": "6f0fc779"
      },
      "source": [
        "# Set up and requirements"
      ]
    },
    {
      "cell_type": "markdown",
      "id": "3c49080c",
      "metadata": {
        "id": "3c49080c"
      },
      "source": [
        "## Install kso_data_management and its requirements"
      ]
    },
    {
      "cell_type": "code",
      "execution_count": null,
      "id": "e6a1555e",
      "metadata": {
        "id": "e6a1555e"
      },
      "outputs": [],
      "source": [
        "# Clone koster_data_management repo\n",
        "!git clone --recurse-submodules -b dev https://github.com/ocean-data-factory-sweden/koster_data_management.git\n",
        "!pip install -r koster_data_management/requirements.txt\n",
        "\n",
        "# Install ipysheet version compatible in colab\n",
        "!pip install ipysheet==0.4.4\n",
        "\n",
        "# Restart the session to load the latest packages\n",
        "exit()"
      ]
    },
    {
      "cell_type": "markdown",
      "id": "6b9b11d5",
      "metadata": {
        "id": "6b9b11d5"
      },
      "source": [
        "### Import Python packages"
      ]
    },
    {
      "cell_type": "code",
      "execution_count": null,
      "id": "46ca201f",
      "metadata": {
        "id": "46ca201f"
      },
      "outputs": [],
      "source": [
        "# Set the directory of the libraries\n",
        "import sys, os\n",
        "from pathlib import Path\n",
        "\n",
        "# Enables testing changes in utils\n",
        "%load_ext autoreload\n",
        "%autoreload 2\n",
        "\n",
        "# Specify the path of the tutorials\n",
        "os.chdir(\"koster_data_management/tutorials\")\n",
        "sys.path.append('..')\n",
        "\n",
        "# Enable third-party widgets(ipysheet)\n",
        "from google.colab import output\n",
        "output.enable_custom_widget_manager()\n",
        "\n",
        "# Import required modules\n",
        "import kso_utils.tutorials_utils as t_utils\n",
        "import kso_utils.project_utils as p_utils\n",
        "import kso_utils.t1_utils as t1\n",
        "\n",
        "print(\"Packages loaded successfully\")"
      ]
    },
    {
      "cell_type": "markdown",
      "id": "fdc7152a",
      "metadata": {
        "id": "fdc7152a"
      },
      "source": [
        "### Choose your project"
      ]
    },
    {
      "cell_type": "code",
      "execution_count": null,
      "id": "1c1aabda",
      "metadata": {
        "id": "1c1aabda"
      },
      "outputs": [],
      "source": [
        "project_name = t_utils.choose_project()"
      ]
    },
    {
      "cell_type": "markdown",
      "source": [
        "## Initiate database"
      ],
      "metadata": {
        "id": "2URxgu8PQDZh"
      },
      "id": "2URxgu8PQDZh"
    },
    {
      "cell_type": "code",
      "execution_count": null,
      "id": "41994eb6",
      "metadata": {
        "id": "41994eb6"
      },
      "outputs": [],
      "source": [
        "project = p_utils.find_project(project_name=project_name.value)\n",
        "db_info_dict = t_utils.initiate_db(project)"
      ]
    },
    {
      "cell_type": "markdown",
      "id": "52f976b8",
      "metadata": {
        "id": "52f976b8"
      },
      "source": [
        "# Review Sites"
      ]
    },
    {
      "cell_type": "markdown",
      "source": [
        "## Map sites and metadata"
      ],
      "metadata": {
        "id": "5__P6hq1QRjF"
      },
      "id": "5__P6hq1QRjF"
    },
    {
      "cell_type": "code",
      "source": [
        "kso_map = t1.map_site(db_info_dict, project)\n",
        "kso_map"
      ],
      "metadata": {
        "id": "J9Dm5_ghmJ3_"
      },
      "id": "J9Dm5_ghmJ3_",
      "execution_count": null,
      "outputs": []
    },
    {
      "cell_type": "markdown",
      "source": [
        "## Update sites metadata"
      ],
      "metadata": {
        "id": "RzqjZinGQVux"
      },
      "id": "RzqjZinGQVux"
    },
    {
      "cell_type": "markdown",
      "source": [
        "You can update the contents of the cells in the spreadsheet below"
      ],
      "metadata": {
        "id": "TTEK-ACcp41U"
      },
      "id": "TTEK-ACcp41U"
    },
    {
      "cell_type": "code",
      "execution_count": null,
      "id": "9b01ccf5",
      "metadata": {
        "id": "9b01ccf5"
      },
      "outputs": [],
      "source": [
        "sites_sheet = t1.open_sites_csv(db_info_dict)\n",
        "sites_sheet"
      ]
    },
    {
      "cell_type": "markdown",
      "source": [
        "### Confirm the changes"
      ],
      "metadata": {
        "id": "nUITsuBLqIx4"
      },
      "id": "nUITsuBLqIx4"
    },
    {
      "cell_type": "code",
      "source": [
        "# Display the changes\n",
        "highlight_changes, sites_sheet_df = t1.display_changes(db_info_dict,\n",
        "                   isheet = sites_sheet, \n",
        "                   local_csv = \"local_sites_csv\"\n",
        "                   )\n",
        "highlight_changes"
      ],
      "metadata": {
        "id": "n5g_Fiq2qHdt"
      },
      "id": "n5g_Fiq2qHdt",
      "execution_count": null,
      "outputs": []
    },
    {
      "cell_type": "code",
      "source": [
        "# Confirm or deny the changes\n",
        "t1.update_csv(db_info_dict, \n",
        "              project,\n",
        "              sheet_df = sites_sheet_df,\n",
        "              local_csv = \"local_sites_csv\",\n",
        "              serv_csv = \"server_sites_csv\"\n",
        "              )"
      ],
      "metadata": {
        "id": "H9EQfoINVwFV"
      },
      "id": "H9EQfoINVwFV",
      "execution_count": null,
      "outputs": []
    },
    {
      "cell_type": "markdown",
      "id": "4b134a5c",
      "metadata": {
        "id": "4b134a5c"
      },
      "source": [
        "# Review Movies (WIP)"
      ]
    },
    {
      "cell_type": "markdown",
      "source": [
        "## Choose the review method"
      ],
      "metadata": {
        "id": "LZYh0kJk8gop"
      },
      "id": "LZYh0kJk8gop"
    },
    {
      "cell_type": "code",
      "source": [
        "review_method = t1.choose_movie_review()"
      ],
      "metadata": {
        "id": "tgKWLhdx8SmI"
      },
      "id": "tgKWLhdx8SmI",
      "execution_count": null,
      "outputs": []
    },
    {
      "cell_type": "markdown",
      "source": [
        "## Check the movies information"
      ],
      "metadata": {
        "id": "56Q-vAXc30di"
      },
      "id": "56Q-vAXc30di"
    },
    {
      "cell_type": "code",
      "source": [
        "movies_sheet_df = t1.check_movies_csv(db_info_dict, project, review_method)"
      ],
      "metadata": {
        "id": "yODAkAPk3zDT"
      },
      "id": "yODAkAPk3zDT",
      "execution_count": null,
      "outputs": []
    },
    {
      "cell_type": "code",
      "source": [
        "# Confirm or deny the changes\n",
        "t1.update_csv(db_info_dict, \n",
        "              project,\n",
        "              sheet_df = movies_sheet_df,\n",
        "              local_csv = \"local_movies_csv\",\n",
        "              serv_csv = \"server_movies_csv\"\n",
        "              )"
      ],
      "metadata": {
        "id": "Kd7Od4VfBln5"
      },
      "id": "Kd7Od4VfBln5",
      "execution_count": null,
      "outputs": []
    },
    {
      "cell_type": "markdown",
      "source": [
        "## Preview movies"
      ],
      "metadata": {
        "id": "CtTfD4tF6ouw"
      },
      "id": "CtTfD4tF6ouw"
    },
    {
      "cell_type": "markdown",
      "source": [
        "### Retrieve info of movies available on the server"
      ],
      "metadata": {
        "id": "keLx8PPJ6_1c"
      },
      "id": "keLx8PPJ6_1c"
    },
    {
      "cell_type": "code",
      "source": [
        "available_movies_df = s_utils.retrieve_movie_info_from_server(\n",
        "    project = project,\n",
        "    db_info_dict = db_info_dict\n",
        ")"
      ],
      "metadata": {
        "id": "EDA7nDfn7EyF"
      },
      "id": "EDA7nDfn7EyF",
      "execution_count": null,
      "outputs": []
    },
    {
      "cell_type": "markdown",
      "source": [
        "### Select movies to preview"
      ],
      "metadata": {
        "id": "oSm50evA6r6E"
      },
      "id": "oSm50evA6r6E"
    },
    {
      "cell_type": "code",
      "source": [
        "movie_selected = t_utils.select_movie(available_movies_df)"
      ],
      "metadata": {
        "id": "3Kbc7eYZ7JVx"
      },
      "id": "3Kbc7eYZ7JVx",
      "execution_count": null,
      "outputs": []
    },
    {
      "cell_type": "markdown",
      "source": [
        "### Display the movie"
      ],
      "metadata": {
        "id": "QfkDCyz67Mp-"
      },
      "id": "QfkDCyz67Mp-"
    },
    {
      "cell_type": "code",
      "source": [
        "movie_display, movie_path = t_utils.preview_movie(\n",
        "    project = project,\n",
        "    db_info_dict = db_info_dict, \n",
        "    available_movies_df = available_movies_df, \n",
        "    movie_i = movie_selected.value\n",
        ")\n",
        "movie_display"
      ],
      "metadata": {
        "id": "SbN566ha7R6n"
      },
      "id": "SbN566ha7R6n",
      "execution_count": null,
      "outputs": []
    },
    {
      "cell_type": "markdown",
      "source": [
        "# Review species"
      ],
      "metadata": {
        "id": "tyKSJHRq3kog"
      },
      "id": "tyKSJHRq3kog"
    },
    {
      "cell_type": "code",
      "execution_count": null,
      "id": "b78b2738",
      "metadata": {
        "id": "b78b2738"
      },
      "outputs": [],
      "source": [
        "movies_df = t1.check_movies_csv(db_info_dict, movies_df_sheet, project)"
      ]
    },
    {
      "cell_type": "code",
      "execution_count": null,
      "id": "5fc74ec0",
      "metadata": {
        "id": "5fc74ec0"
      },
      "outputs": [],
      "source": [
        "#END"
      ]
    }
  ],
  "metadata": {
    "colab": {
      "name": "COLAB_1_Check_and_update_csv_files.ipynb",
      "provenance": [],
      "collapsed_sections": []
    },
    "kernelspec": {
      "display_name": "Python 3 (ipykernel)",
      "language": "python",
      "name": "python3"
    },
    "language_info": {
      "codemirror_mode": {
        "name": "ipython",
        "version": 3
      },
      "file_extension": ".py",
      "mimetype": "text/x-python",
      "name": "python",
      "nbconvert_exporter": "python",
      "pygments_lexer": "ipython3",
      "version": "3.7.13"
    }
  },
  "nbformat": 4,
  "nbformat_minor": 5
}