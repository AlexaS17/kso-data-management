{
 "cells": [
  {
   "cell_type": "markdown",
   "id": "95aea466",
   "metadata": {
    "id": "95aea466"
   },
   "source": [
    "<img align=\"left\" src=\"https://panoptes-uploads.zooniverse.org/project_avatar/86c23ca7-bbaa-4e84-8d8a-876819551431.png\" type=\"image/png\" height=100 width=100>\n",
    "</img>\n",
    "\n",
    "\n",
    "<h1 align=\"right\">Colab KSO Tutorial #1: Check and update csv files</h1>\n",
    "<h3 align=\"right\">Written by @jannesgg and @vykanton</h3>\n",
    "<h5 align=\"right\">Last updated: Aug 28th, 2022</h5>"
   ]
  },
  {
   "cell_type": "markdown",
   "id": "6f0fc779",
   "metadata": {
    "id": "6f0fc779"
   },
   "source": [
    "# Set up and requirements"
   ]
  },
  {
   "cell_type": "markdown",
   "id": "3c49080c",
   "metadata": {
    "id": "3c49080c"
   },
   "source": [
    "## Install kso_data_management and its requirements"
   ]
  },
  {
   "cell_type": "code",
   "execution_count": null,
   "id": "e6a1555e",
   "metadata": {
    "id": "e6a1555e"
   },
   "outputs": [],
   "source": [
    "# Clone koster_data_management repo\n",
    "!git clone --recurse-submodules -b dev https://github.com/ocean-data-factory-sweden/koster_data_management.git\n",
    "!pip install -r koster_data_management/requirements.txt\n",
    "\n",
    "# Install ipysheet version compatible in colab\n",
    "!pip install ipysheet==0.4.4\n",
    "\n",
    "# Restart the session to load the latest packages\n",
    "exit()"
   ]
  },
  {
   "cell_type": "markdown",
   "id": "6b9b11d5",
   "metadata": {
    "id": "6b9b11d5"
   },
   "source": [
    "### Import Python packages"
   ]
  },
  {
   "cell_type": "code",
   "execution_count": 1,
   "id": "46ca201f",
   "metadata": {
    "colab": {
     "base_uri": "https://localhost:8080/"
    },
    "id": "46ca201f",
    "outputId": "1ad7c37c-7ac8-4caf-c776-08c0a731fea2"
   },
   "outputs": [
    {
     "name": "stderr",
     "output_type": "stream",
     "text": [
      "WARNING:panoptes_client:Broken libmagic installation detected. The python-magic module is installed but can't be imported. Please check that both python-magic and the libmagic shared library are installed correctly. Uploading media other than images may not work.\n"
     ]
    },
    {
     "name": "stdout",
     "output_type": "stream",
     "text": [
      "Packages loaded successfully\n"
     ]
    }
   ],
   "source": [
    "# Set the directory of the libraries\n",
    "import sys, os\n",
    "from pathlib import Path\n",
    "\n",
    "# Enables testing changes in utils\n",
    "%load_ext autoreload\n",
    "%autoreload 2\n",
    "\n",
    "# Specify the path of the tutorials\n",
    "os.chdir(\"koster_data_management/tutorials\")\n",
    "sys.path.append('..')\n",
    "\n",
    "# Enable third-party widgets(ipysheet)\n",
    "from google.colab import output\n",
    "output.enable_custom_widget_manager()\n",
    "\n",
    "# Import required modules\n",
    "import kso_utils.tutorials_utils as t_utils\n",
    "import kso_utils.project_utils as p_utils\n",
    "import kso_utils.server_utils as s_utils\n",
    "import kso_utils.t1_utils as t1\n",
    "\n",
    "print(\"Packages loaded successfully\")"
   ]
  },
  {
   "cell_type": "markdown",
   "id": "fdc7152a",
   "metadata": {
    "id": "fdc7152a"
   },
   "source": [
    "### Choose your project"
   ]
  },
  {
   "cell_type": "code",
   "execution_count": 2,
   "id": "1c1aabda",
   "metadata": {
    "colab": {
     "base_uri": "https://localhost:8080/",
     "height": 49,
     "referenced_widgets": [
      "699fe41237734ad49c4c512da16245e2",
      "f180b7de12d047518b6f76b355efa933",
      "fc414e81cd3344b59c3686bfe9279f3a"
     ]
    },
    "id": "1c1aabda",
    "outputId": "19059946-36a2-4d1d-c08a-0e8b20927c47"
   },
   "outputs": [
    {
     "data": {
      "application/vnd.jupyter.widget-view+json": {
       "model_id": "699fe41237734ad49c4c512da16245e2",
       "version_major": 2,
       "version_minor": 0
      },
      "text/plain": [
       "Dropdown(description='Project:', options=('Template project', 'Koster_Seafloor_Obs', 'Spyfish_Aotearoa', 'SGU'…"
      ]
     },
     "metadata": {
      "application/vnd.jupyter.widget-view+json": {
       "colab": {
        "custom_widget_manager": {
         "url": "https://ssl.gstatic.com/colaboratory-static/widgets/colab-cdn-widget-manager/d2e234f7cc04bf79/manager.min.js"
        }
       }
      }
     },
     "output_type": "display_data"
    }
   ],
   "source": [
    "project_name = t_utils.choose_project()"
   ]
  },
  {
   "cell_type": "markdown",
   "id": "2URxgu8PQDZh",
   "metadata": {
    "id": "2URxgu8PQDZh"
   },
   "source": [
    "## Initiate database"
   ]
  },
  {
   "cell_type": "code",
   "execution_count": 3,
   "id": "41994eb6",
   "metadata": {
    "colab": {
     "base_uri": "https://localhost:8080/"
    },
    "id": "41994eb6",
    "outputId": "1a442230-48ad-4dd2-b1fa-11b6b3272a84"
   },
   "outputs": [
    {
     "name": "stderr",
     "output_type": "stream",
     "text": [
      "Downloading...\n",
      "From: https://drive.google.com/uc?id=1PZGRoSY_UpyLfMhRphMUMwDXw4yx1_Fn\n",
      "To: /content/koster_data_management/tutorials/db_csv_info.zip\n",
      "100%|██████████| 2.25k/2.25k [00:00<00:00, 2.30MB/s]\n",
      "ERROR:root:The table movies has invalid entries, please ensure that all columns are non-zero\n",
      "ERROR:root:The invalid entries are    movie_id     filename  created_on  fps  duration  sampling_start  \\\n",
      "0         1  movie_1.mp4  13/08/2021  NaN       NaN             NaN   \n",
      "1         2  movie_2.mp4  13/08/2021  NaN       NaN             NaN   \n",
      "2         3  movie_3.mp4  13/08/2021  NaN       NaN             NaN   \n",
      "3         4  movie_4.mp4  18/08/2021  NaN       NaN             NaN   \n",
      "4         5  movie_5.mp4  18/08/2021  NaN       NaN             NaN   \n",
      "\n",
      "   sampling_end         author  site_id  \\\n",
      "0           NaN  Author_name_1        1   \n",
      "1           NaN  Author_name_2        1   \n",
      "2           NaN  Author_name_3        1   \n",
      "3           NaN  Author_name_4        1   \n",
      "4           NaN  Author_name_1        2   \n",
      "\n",
      "                                               fpath  \n",
      "0  https://www.wildlife.ai/wp-content/uploads/202...  \n",
      "1  https://www.wildlife.ai/wp-content/uploads/202...  \n",
      "2  https://www.wildlife.ai/wp-content/uploads/202...  \n",
      "3  https://www.wildlife.ai/wp-content/uploads/202...  \n",
      "4  https://www.wildlife.ai/wp-content/uploads/202...  \n"
     ]
    }
   ],
   "source": [
    "project = p_utils.find_project(project_name=project_name.value)\n",
    "db_info_dict = t_utils.initiate_db(project)"
   ]
  },
  {
   "cell_type": "markdown",
   "id": "52f976b8",
   "metadata": {
    "id": "52f976b8"
   },
   "source": [
    "# Review Sites"
   ]
  },
  {
   "cell_type": "markdown",
   "id": "5__P6hq1QRjF",
   "metadata": {
    "id": "5__P6hq1QRjF"
   },
   "source": [
    "## Map sites and metadata"
   ]
  },
  {
   "cell_type": "code",
   "execution_count": null,
   "id": "J9Dm5_ghmJ3_",
   "metadata": {
    "id": "J9Dm5_ghmJ3_"
   },
   "outputs": [],
   "source": [
    "kso_map = t1.map_site(db_info_dict, project)\n",
    "kso_map"
   ]
  },
  {
   "cell_type": "markdown",
   "id": "RzqjZinGQVux",
   "metadata": {
    "id": "RzqjZinGQVux"
   },
   "source": [
    "## Manually update sites metadata"
   ]
  },
  {
   "cell_type": "markdown",
   "id": "L8-z6pV8LKxY",
   "metadata": {
    "id": "L8-z6pV8LKxY"
   },
   "source": [
    "Select the range of sites to display"
   ]
  },
  {
   "cell_type": "code",
   "execution_count": null,
   "id": "IQmvKQPyLR5d",
   "metadata": {
    "colab": {
     "base_uri": "https://localhost:8080/",
     "height": 87,
     "referenced_widgets": [
      "7acf15ecc940473b9190fc4de487790d",
      "84a66f38e12e428f9ec5d03f8229efaa",
      "261b652187df4a418d71c6dcf8ac8320"
     ]
    },
    "id": "IQmvKQPyLR5d",
    "outputId": "184c00f5-dbc3-4409-cc2b-cfec5b739edf"
   },
   "outputs": [
    {
     "data": {
      "application/vnd.jupyter.widget-view+json": {
       "model_id": "7acf15ecc940473b9190fc4de487790d",
       "version_major": 2,
       "version_minor": 0
      },
      "text/plain": [
       "SelectionRangeSlider(description='Rows to display', index=(0, 5), layout=Layout(padding='35px', width='90%'), …"
      ]
     },
     "metadata": {
      "application/vnd.jupyter.widget-view+json": {
       "colab": {
        "custom_widget_manager": {
         "url": "https://ssl.gstatic.com/colaboratory-static/widgets/colab-cdn-widget-manager/d2e234f7cc04bf79/manager.min.js"
        }
       }
      }
     },
     "output_type": "display_data"
    }
   ],
   "source": [
    "sites_df, sites_range = t1.select_sheet_range(db_info_dict = db_info_dict,\n",
    "                                              orig_csv = \"local_sites_csv\"\n",
    "                                              )"
   ]
  },
  {
   "cell_type": "markdown",
   "id": "TTEK-ACcp41U",
   "metadata": {
    "id": "TTEK-ACcp41U"
   },
   "source": [
    "Update the contents of the cells in the spreadsheet below as needed"
   ]
  },
  {
   "cell_type": "code",
   "execution_count": null,
   "id": "9b01ccf5",
   "metadata": {
    "colab": {
     "base_uri": "https://localhost:8080/",
     "height": 180,
     "referenced_widgets": [
      "a5eb3bc8282a44a7bc08300e739d0c71",
      "172303d0cf9d42608eccbb9779a15ebd",
      "46f19dbc7a2b402db1f827984bd46118",
      "5e2f492af2744af2ac61078db5bbb099",
      "e65923a639df4d25bcff24e3459ec4ad",
      "245a95fee4ae46189d2dd78a0b653ede",
      "8bd1ad9f726e4657971f84bd1b9ebe1a",
      "4df4a4824822467cb29b505ceae8f77e"
     ]
    },
    "id": "9b01ccf5",
    "outputId": "4eac84d1-c966-447f-eb73-198d4166435f"
   },
   "outputs": [
    {
     "data": {
      "application/vnd.jupyter.widget-view+json": {
       "model_id": "a5eb3bc8282a44a7bc08300e739d0c71",
       "version_major": 2,
       "version_minor": 0
      },
      "text/plain": [
       "Sheet(cells=(Cell(column_end=0, column_start=0, numeric_format='0[.]0', row_end=4, row_start=0, squeeze_row=Fa…"
      ]
     },
     "metadata": {
      "application/vnd.jupyter.widget-view+json": {
       "colab": {
        "custom_widget_manager": {
         "url": "https://ssl.gstatic.com/colaboratory-static/widgets/colab-cdn-widget-manager/d2e234f7cc04bf79/manager.min.js"
        }
       }
      }
     },
     "output_type": "display_data"
    }
   ],
   "source": [
    "sites_df_filtered, sites_sheet = t1.open_csv(df = sites_df, df_range = sites_range)\n",
    "sites_sheet"
   ]
  },
  {
   "cell_type": "markdown",
   "id": "nUITsuBLqIx4",
   "metadata": {
    "id": "nUITsuBLqIx4"
   },
   "source": [
    "### Review and confirm the changes"
   ]
  },
  {
   "cell_type": "code",
   "execution_count": null,
   "id": "n5g_Fiq2qHdt",
   "metadata": {
    "colab": {
     "base_uri": "https://localhost:8080/",
     "height": 289
    },
    "id": "n5g_Fiq2qHdt",
    "outputId": "43cee73f-ba4e-4405-f6b2-24d77f5f6f3a"
   },
   "outputs": [
    {
     "data": {
      "text/html": [
       "<style type=\"text/css\">\n",
       "#T_14458_row4_col5 {\n",
       "  background-color: yellow;\n",
       "}\n",
       "</style>\n",
       "<table id=\"T_14458_\" class=\"dataframe\">\n",
       "  <thead>\n",
       "    <tr>\n",
       "      <th class=\"blank level0\" >&nbsp;</th>\n",
       "      <th class=\"col_heading level0 col0\" colspan=\"2\">siteName</th>\n",
       "      <th class=\"col_heading level0 col2\" colspan=\"2\">decimalLatitude</th>\n",
       "      <th class=\"col_heading level0 col4\" colspan=\"2\">decimalLongitude</th>\n",
       "      <th class=\"col_heading level0 col6\" colspan=\"2\">geodeticDatum</th>\n",
       "      <th class=\"col_heading level0 col8\" colspan=\"2\">countryCode</th>\n",
       "    </tr>\n",
       "    <tr>\n",
       "      <th class=\"blank level1\" >&nbsp;</th>\n",
       "      <th class=\"col_heading level1 col0\" >Origin</th>\n",
       "      <th class=\"col_heading level1 col1\" >Update</th>\n",
       "      <th class=\"col_heading level1 col2\" >Origin</th>\n",
       "      <th class=\"col_heading level1 col3\" >Update</th>\n",
       "      <th class=\"col_heading level1 col4\" >Origin</th>\n",
       "      <th class=\"col_heading level1 col5\" >Update</th>\n",
       "      <th class=\"col_heading level1 col6\" >Origin</th>\n",
       "      <th class=\"col_heading level1 col7\" >Update</th>\n",
       "      <th class=\"col_heading level1 col8\" >Origin</th>\n",
       "      <th class=\"col_heading level1 col9\" >Update</th>\n",
       "    </tr>\n",
       "    <tr>\n",
       "      <th class=\"index_name level0\" >site_id</th>\n",
       "      <th class=\"blank col0\" >&nbsp;</th>\n",
       "      <th class=\"blank col1\" >&nbsp;</th>\n",
       "      <th class=\"blank col2\" >&nbsp;</th>\n",
       "      <th class=\"blank col3\" >&nbsp;</th>\n",
       "      <th class=\"blank col4\" >&nbsp;</th>\n",
       "      <th class=\"blank col5\" >&nbsp;</th>\n",
       "      <th class=\"blank col6\" >&nbsp;</th>\n",
       "      <th class=\"blank col7\" >&nbsp;</th>\n",
       "      <th class=\"blank col8\" >&nbsp;</th>\n",
       "      <th class=\"blank col9\" >&nbsp;</th>\n",
       "    </tr>\n",
       "  </thead>\n",
       "  <tbody>\n",
       "    <tr>\n",
       "      <th id=\"T_14458_level0_row0\" class=\"row_heading level0 row0\" >1</th>\n",
       "      <td id=\"T_14458_row0_col0\" class=\"data row0 col0\" >Site_1</td>\n",
       "      <td id=\"T_14458_row0_col1\" class=\"data row0 col1\" >Site_1</td>\n",
       "      <td id=\"T_14458_row0_col2\" class=\"data row0 col2\" >-39.052281</td>\n",
       "      <td id=\"T_14458_row0_col3\" class=\"data row0 col3\" >-39.052281</td>\n",
       "      <td id=\"T_14458_row0_col4\" class=\"data row0 col4\" >174.023941</td>\n",
       "      <td id=\"T_14458_row0_col5\" class=\"data row0 col5\" >174.023941</td>\n",
       "      <td id=\"T_14458_row0_col6\" class=\"data row0 col6\" >WGS84</td>\n",
       "      <td id=\"T_14458_row0_col7\" class=\"data row0 col7\" >WGS84</td>\n",
       "      <td id=\"T_14458_row0_col8\" class=\"data row0 col8\" >NZ</td>\n",
       "      <td id=\"T_14458_row0_col9\" class=\"data row0 col9\" >NZ</td>\n",
       "    </tr>\n",
       "    <tr>\n",
       "      <th id=\"T_14458_level0_row1\" class=\"row_heading level0 row1\" >2</th>\n",
       "      <td id=\"T_14458_row1_col0\" class=\"data row1 col0\" >Site_2</td>\n",
       "      <td id=\"T_14458_row1_col1\" class=\"data row1 col1\" >Site_2</td>\n",
       "      <td id=\"T_14458_row1_col2\" class=\"data row1 col2\" >-39.057633</td>\n",
       "      <td id=\"T_14458_row1_col3\" class=\"data row1 col3\" >-39.057633</td>\n",
       "      <td id=\"T_14458_row1_col4\" class=\"data row1 col4\" >174.018739</td>\n",
       "      <td id=\"T_14458_row1_col5\" class=\"data row1 col5\" >174.018739</td>\n",
       "      <td id=\"T_14458_row1_col6\" class=\"data row1 col6\" >WGS84</td>\n",
       "      <td id=\"T_14458_row1_col7\" class=\"data row1 col7\" >WGS84</td>\n",
       "      <td id=\"T_14458_row1_col8\" class=\"data row1 col8\" >NZ</td>\n",
       "      <td id=\"T_14458_row1_col9\" class=\"data row1 col9\" >NZ</td>\n",
       "    </tr>\n",
       "    <tr>\n",
       "      <th id=\"T_14458_level0_row2\" class=\"row_heading level0 row2\" >3</th>\n",
       "      <td id=\"T_14458_row2_col0\" class=\"data row2 col0\" >Site_3</td>\n",
       "      <td id=\"T_14458_row2_col1\" class=\"data row2 col1\" >Site_3</td>\n",
       "      <td id=\"T_14458_row2_col2\" class=\"data row2 col2\" >-39.048920</td>\n",
       "      <td id=\"T_14458_row2_col3\" class=\"data row2 col3\" >-39.048920</td>\n",
       "      <td id=\"T_14458_row2_col4\" class=\"data row2 col4\" >174.029600</td>\n",
       "      <td id=\"T_14458_row2_col5\" class=\"data row2 col5\" >174.029600</td>\n",
       "      <td id=\"T_14458_row2_col6\" class=\"data row2 col6\" >WGS84</td>\n",
       "      <td id=\"T_14458_row2_col7\" class=\"data row2 col7\" >WGS84</td>\n",
       "      <td id=\"T_14458_row2_col8\" class=\"data row2 col8\" >NZ</td>\n",
       "      <td id=\"T_14458_row2_col9\" class=\"data row2 col9\" >NZ</td>\n",
       "    </tr>\n",
       "    <tr>\n",
       "      <th id=\"T_14458_level0_row3\" class=\"row_heading level0 row3\" >4</th>\n",
       "      <td id=\"T_14458_row3_col0\" class=\"data row3 col0\" >Site_4</td>\n",
       "      <td id=\"T_14458_row3_col1\" class=\"data row3 col1\" >Site_4</td>\n",
       "      <td id=\"T_14458_row3_col2\" class=\"data row3 col2\" >-39.046859</td>\n",
       "      <td id=\"T_14458_row3_col3\" class=\"data row3 col3\" >-39.046859</td>\n",
       "      <td id=\"T_14458_row3_col4\" class=\"data row3 col4\" >174.014944</td>\n",
       "      <td id=\"T_14458_row3_col5\" class=\"data row3 col5\" >174.014944</td>\n",
       "      <td id=\"T_14458_row3_col6\" class=\"data row3 col6\" >WGS84</td>\n",
       "      <td id=\"T_14458_row3_col7\" class=\"data row3 col7\" >WGS84</td>\n",
       "      <td id=\"T_14458_row3_col8\" class=\"data row3 col8\" >NZ</td>\n",
       "      <td id=\"T_14458_row3_col9\" class=\"data row3 col9\" >NZ</td>\n",
       "    </tr>\n",
       "    <tr>\n",
       "      <th id=\"T_14458_level0_row4\" class=\"row_heading level0 row4\" >5</th>\n",
       "      <td id=\"T_14458_row4_col0\" class=\"data row4 col0\" >Site_5</td>\n",
       "      <td id=\"T_14458_row4_col1\" class=\"data row4 col1\" >Site_5</td>\n",
       "      <td id=\"T_14458_row4_col2\" class=\"data row4 col2\" >-39.053019</td>\n",
       "      <td id=\"T_14458_row4_col3\" class=\"data row4 col3\" >-39.053019</td>\n",
       "      <td id=\"T_14458_row4_col4\" class=\"data row4 col4\" >174.015039</td>\n",
       "      <td id=\"T_14458_row4_col5\" class=\"data row4 col5\" >175.015039</td>\n",
       "      <td id=\"T_14458_row4_col6\" class=\"data row4 col6\" >WGS84</td>\n",
       "      <td id=\"T_14458_row4_col7\" class=\"data row4 col7\" >WGS84</td>\n",
       "      <td id=\"T_14458_row4_col8\" class=\"data row4 col8\" >NZ</td>\n",
       "      <td id=\"T_14458_row4_col9\" class=\"data row4 col9\" >NZ</td>\n",
       "    </tr>\n",
       "  </tbody>\n",
       "</table>\n"
      ],
      "text/plain": [
       "<pandas.io.formats.style.Styler at 0x7f5a05af0e50>"
      ]
     },
     "execution_count": 11,
     "metadata": {},
     "output_type": "execute_result"
    }
   ],
   "source": [
    "# Display the changes\n",
    "highlight_changes, sites_sheet_df = t1.display_changes(db_info_dict,\n",
    "                   isheet = sites_sheet, \n",
    "                   df_filtered = sites_df_filtered\n",
    "                   )\n",
    "highlight_changes"
   ]
  },
  {
   "cell_type": "code",
   "execution_count": null,
   "id": "H9EQfoINVwFV",
   "metadata": {
    "colab": {
     "base_uri": "https://localhost:8080/",
     "height": 84,
     "referenced_widgets": [
      "892172af9888451f827a680a16131e1b",
      "6724f9946b504dcdb12968da9b295af4",
      "e82d84e6d4124c6dbf877ed68bc1d6a4",
      "228ee1c9f12e43d49b8b1be5af56d462",
      "ba75d30eb41a41209d03784ce7b635a7",
      "19526795fde746619486247e0191020b",
      "472a4c27434e4239848275630d7a252f",
      "5a0d46a90d804062909580d44e6ce52a"
     ]
    },
    "id": "H9EQfoINVwFV",
    "outputId": "d6ab2805-0abb-4f3a-836d-bcdd96a7e79c"
   },
   "outputs": [
    {
     "name": "stdout",
     "output_type": "stream",
     "text": [
      "\n",
      "Are the changes above correct?\n"
     ]
    },
    {
     "data": {
      "application/vnd.jupyter.widget-view+json": {
       "model_id": "892172af9888451f827a680a16131e1b",
       "version_major": 2,
       "version_minor": 0
      },
      "text/plain": [
       "HBox(children=(Button(button_style='danger', description='Yes, details are correct', layout=Layout(width='25%'…"
      ]
     },
     "metadata": {
      "application/vnd.jupyter.widget-view+json": {
       "colab": {
        "custom_widget_manager": {
         "url": "https://ssl.gstatic.com/colaboratory-static/widgets/colab-cdn-widget-manager/d2e234f7cc04bf79/manager.min.js"
        }
       }
      }
     },
     "output_type": "display_data"
    }
   ],
   "source": [
    "# Confirm or deny the changes\n",
    "t1.update_csv(db_info_dict, \n",
    "              project,\n",
    "              sheet_df = sites_sheet_df,\n",
    "              df = sites_df,\n",
    "              local_csv = \"local_sites_csv\",\n",
    "              serv_csv = \"server_sites_csv\"\n",
    "              )"
   ]
  },
  {
   "cell_type": "markdown",
   "id": "4b134a5c",
   "metadata": {
    "id": "4b134a5c"
   },
   "source": [
    "# Review Movies"
   ]
  },
  {
   "cell_type": "markdown",
   "id": "zOyenRrL5oFK",
   "metadata": {
    "id": "zOyenRrL5oFK"
   },
   "source": [
    "## Automatic check movies metadata"
   ]
  },
  {
   "cell_type": "markdown",
   "id": "LZYh0kJk8gop",
   "metadata": {
    "id": "LZYh0kJk8gop"
   },
   "source": [
    " Choose the review method"
   ]
  },
  {
   "cell_type": "code",
   "execution_count": null,
   "id": "tgKWLhdx8SmI",
   "metadata": {
    "colab": {
     "base_uri": "https://localhost:8080/",
     "height": 99,
     "referenced_widgets": [
      "4a25edf06c754e2588e19114fa7e928c",
      "742f2371b32a462085587998910c0a0f",
      "563eee309abd4e598285d76f390b9120"
     ]
    },
    "id": "tgKWLhdx8SmI",
    "outputId": "09a31f16-d95a-4063-a465-694971e808b9"
   },
   "outputs": [
    {
     "data": {
      "application/vnd.jupyter.widget-view+json": {
       "model_id": "4a25edf06c754e2588e19114fa7e928c",
       "version_major": 2,
       "version_minor": 0
      },
      "text/plain": [
       "RadioButtons(description='What method you want to use to review the movies:', layout=Layout(width='95%'), opti…"
      ]
     },
     "metadata": {
      "application/vnd.jupyter.widget-view+json": {
       "colab": {
        "custom_widget_manager": {
         "url": "https://ssl.gstatic.com/colaboratory-static/widgets/colab-cdn-widget-manager/d2e234f7cc04bf79/manager.min.js"
        }
       }
      }
     },
     "output_type": "display_data"
    }
   ],
   "source": [
    "review_method = t1.choose_movie_review()"
   ]
  },
  {
   "cell_type": "markdown",
   "id": "w84Aav-HnaN8",
   "metadata": {
    "id": "w84Aav-HnaN8"
   },
   "source": [
    "Specify the GPU availability"
   ]
  },
  {
   "cell_type": "code",
   "execution_count": null,
   "id": "VwD4ZZ1Hnd1x",
   "metadata": {
    "id": "VwD4ZZ1Hnd1x"
   },
   "outputs": [],
   "source": [
    "gpu_available = t_utils.gpu_select()"
   ]
  },
  {
   "cell_type": "markdown",
   "id": "56Q-vAXc30di",
   "metadata": {
    "id": "56Q-vAXc30di"
   },
   "source": [
    "Check and update the movies information"
   ]
  },
  {
   "cell_type": "code",
   "execution_count": null,
   "id": "yODAkAPk3zDT",
   "metadata": {
    "colab": {
     "base_uri": "https://localhost:8080/"
    },
    "id": "yODAkAPk3zDT",
    "outputId": "5ba4cd0e-c07e-40b3-8cc4-318205f7a81c"
   },
   "outputs": [
    {
     "name": "stderr",
     "output_type": "stream",
     "text": [
      "100%|██████████| 5/5 [00:08<00:00,  1.79s/it]\n"
     ]
    }
   ],
   "source": [
    "t1.check_movies_csv(db_info_dict, project, review_method, gpu_available.result)"
   ]
  },
  {
   "cell_type": "markdown",
   "id": "eTe97bOn4790",
   "metadata": {
    "id": "eTe97bOn4790"
   },
   "source": [
    "## Manually update movies metadata"
   ]
  },
  {
   "cell_type": "markdown",
   "id": "OnQcVSID7C3r",
   "metadata": {
    "id": "OnQcVSID7C3r"
   },
   "source": [
    "Select the range of movies to display"
   ]
  },
  {
   "cell_type": "code",
   "execution_count": null,
   "id": "-iWD0Jf547BN",
   "metadata": {
    "colab": {
     "base_uri": "https://localhost:8080/",
     "height": 87,
     "referenced_widgets": [
      "c9abecf8c5e34b92805aa5f5904e115d",
      "cb7de36d0f274742b8eabd2d88823ae1",
      "c66af36debff49049a36621a79bbcc1c"
     ]
    },
    "id": "-iWD0Jf547BN",
    "outputId": "1355dd36-e319-4622-daa8-6eb9f43fde8b"
   },
   "outputs": [
    {
     "data": {
      "application/vnd.jupyter.widget-view+json": {
       "model_id": "c9abecf8c5e34b92805aa5f5904e115d",
       "version_major": 2,
       "version_minor": 0
      },
      "text/plain": [
       "SelectionRangeSlider(description='Rows to display', index=(0, 5), layout=Layout(padding='35px', width='90%'), …"
      ]
     },
     "metadata": {
      "application/vnd.jupyter.widget-view+json": {
       "colab": {
        "custom_widget_manager": {
         "url": "https://ssl.gstatic.com/colaboratory-static/widgets/colab-cdn-widget-manager/d2e234f7cc04bf79/manager.min.js"
        }
       }
      }
     },
     "output_type": "display_data"
    }
   ],
   "source": [
    "movies_df, movies_range = t1.select_sheet_range(db_info_dict = db_info_dict,\n",
    "                                              orig_csv = \"local_movies_csv\"\n",
    "                                              )"
   ]
  },
  {
   "cell_type": "markdown",
   "id": "bHfHY5gN7Qlq",
   "metadata": {
    "id": "bHfHY5gN7Qlq"
   },
   "source": [
    "Update the contents of the cells in the spreadsheet below as needed"
   ]
  },
  {
   "cell_type": "code",
   "execution_count": null,
   "id": "oOaC2-LE6UHv",
   "metadata": {
    "colab": {
     "base_uri": "https://localhost:8080/",
     "height": 180,
     "referenced_widgets": [
      "73205b363a194539a3de6c67b1ea29bf",
      "bfd320b4f6c04186bf56422ee8eb4fd7",
      "f6ce1f1f502b4174b7276b38fe3089b7",
      "424b34e7729a4714b8d6a369873578b0",
      "8d8593f5858c4e5b98cd41c7208cc3e2",
      "29a95efcac764cb2b2ee25f1fac50517",
      "d71b5415cfa74b0aa7a36e691b746f9d",
      "23edbd83d87746aab344c9c28960d865",
      "88933e2a415d4bff958197111903478d",
      "c347fe79f742468785cbf85d2db483c5",
      "f72762d8897042c2ab80e9629bfaaea6",
      "5df6320bad73494bb50aca3b380cce71"
     ]
    },
    "id": "oOaC2-LE6UHv",
    "outputId": "72129df4-eb79-4e99-b2bd-65239363097f"
   },
   "outputs": [
    {
     "data": {
      "application/vnd.jupyter.widget-view+json": {
       "model_id": "73205b363a194539a3de6c67b1ea29bf",
       "version_major": 2,
       "version_minor": 0
      },
      "text/plain": [
       "Sheet(cells=(Cell(column_end=0, column_start=0, numeric_format='0[.]0', row_end=4, row_start=0, squeeze_row=Fa…"
      ]
     },
     "metadata": {
      "application/vnd.jupyter.widget-view+json": {
       "colab": {
        "custom_widget_manager": {
         "url": "https://ssl.gstatic.com/colaboratory-static/widgets/colab-cdn-widget-manager/d2e234f7cc04bf79/manager.min.js"
        }
       }
      }
     },
     "output_type": "display_data"
    }
   ],
   "source": [
    "movies_df_filtered, movies_sheet = t1.open_csv(df = movies_df, df_range = movies_range)\n",
    "movies_sheet"
   ]
  },
  {
   "cell_type": "markdown",
   "id": "7icgtX8d7ZUC",
   "metadata": {
    "id": "7icgtX8d7ZUC"
   },
   "source": [
    "### Review and confirm the changes"
   ]
  },
  {
   "cell_type": "code",
   "execution_count": null,
   "id": "izEvb7la6K7D",
   "metadata": {
    "colab": {
     "base_uri": "https://localhost:8080/",
     "height": 376
    },
    "id": "izEvb7la6K7D",
    "outputId": "14f8639c-f34d-41ac-8a88-2d626c87642c"
   },
   "outputs": [
    {
     "data": {
      "text/html": [
       "<style type=\"text/css\">\n",
       "#T_d0fed_row0_col8, #T_d0fed_row0_col9, #T_d0fed_row0_col10, #T_d0fed_row0_col11, #T_d0fed_row0_col12, #T_d0fed_row0_col13, #T_d0fed_row0_col14, #T_d0fed_row0_col15, #T_d0fed_row1_col8, #T_d0fed_row1_col9, #T_d0fed_row1_col10, #T_d0fed_row1_col11, #T_d0fed_row1_col12, #T_d0fed_row1_col13, #T_d0fed_row1_col14, #T_d0fed_row1_col15, #T_d0fed_row2_col8, #T_d0fed_row2_col9, #T_d0fed_row2_col10, #T_d0fed_row2_col11, #T_d0fed_row2_col12, #T_d0fed_row2_col13, #T_d0fed_row2_col14, #T_d0fed_row2_col15, #T_d0fed_row3_col3, #T_d0fed_row3_col8, #T_d0fed_row3_col9, #T_d0fed_row3_col10, #T_d0fed_row3_col11, #T_d0fed_row3_col12, #T_d0fed_row3_col13, #T_d0fed_row3_col14, #T_d0fed_row3_col15, #T_d0fed_row4_col8, #T_d0fed_row4_col9, #T_d0fed_row4_col10, #T_d0fed_row4_col11, #T_d0fed_row4_col12, #T_d0fed_row4_col13, #T_d0fed_row4_col14, #T_d0fed_row4_col15 {\n",
       "  background-color: yellow;\n",
       "}\n",
       "</style>\n",
       "<table id=\"T_d0fed_\" class=\"dataframe\">\n",
       "  <thead>\n",
       "    <tr>\n",
       "      <th class=\"blank level0\" >&nbsp;</th>\n",
       "      <th class=\"col_heading level0 col0\" colspan=\"2\">filename</th>\n",
       "      <th class=\"col_heading level0 col2\" colspan=\"2\">siteName</th>\n",
       "      <th class=\"col_heading level0 col4\" colspan=\"2\">created_on</th>\n",
       "      <th class=\"col_heading level0 col6\" colspan=\"2\">author</th>\n",
       "      <th class=\"col_heading level0 col8\" colspan=\"2\">fps</th>\n",
       "      <th class=\"col_heading level0 col10\" colspan=\"2\">duration</th>\n",
       "      <th class=\"col_heading level0 col12\" colspan=\"2\">sampling_start</th>\n",
       "      <th class=\"col_heading level0 col14\" colspan=\"2\">sampling_end</th>\n",
       "      <th class=\"col_heading level0 col16\" colspan=\"2\">fpath</th>\n",
       "    </tr>\n",
       "    <tr>\n",
       "      <th class=\"blank level1\" >&nbsp;</th>\n",
       "      <th class=\"col_heading level1 col0\" >Origin</th>\n",
       "      <th class=\"col_heading level1 col1\" >Update</th>\n",
       "      <th class=\"col_heading level1 col2\" >Origin</th>\n",
       "      <th class=\"col_heading level1 col3\" >Update</th>\n",
       "      <th class=\"col_heading level1 col4\" >Origin</th>\n",
       "      <th class=\"col_heading level1 col5\" >Update</th>\n",
       "      <th class=\"col_heading level1 col6\" >Origin</th>\n",
       "      <th class=\"col_heading level1 col7\" >Update</th>\n",
       "      <th class=\"col_heading level1 col8\" >Origin</th>\n",
       "      <th class=\"col_heading level1 col9\" >Update</th>\n",
       "      <th class=\"col_heading level1 col10\" >Origin</th>\n",
       "      <th class=\"col_heading level1 col11\" >Update</th>\n",
       "      <th class=\"col_heading level1 col12\" >Origin</th>\n",
       "      <th class=\"col_heading level1 col13\" >Update</th>\n",
       "      <th class=\"col_heading level1 col14\" >Origin</th>\n",
       "      <th class=\"col_heading level1 col15\" >Update</th>\n",
       "      <th class=\"col_heading level1 col16\" >Origin</th>\n",
       "      <th class=\"col_heading level1 col17\" >Update</th>\n",
       "    </tr>\n",
       "    <tr>\n",
       "      <th class=\"index_name level0\" >movie_id</th>\n",
       "      <th class=\"blank col0\" >&nbsp;</th>\n",
       "      <th class=\"blank col1\" >&nbsp;</th>\n",
       "      <th class=\"blank col2\" >&nbsp;</th>\n",
       "      <th class=\"blank col3\" >&nbsp;</th>\n",
       "      <th class=\"blank col4\" >&nbsp;</th>\n",
       "      <th class=\"blank col5\" >&nbsp;</th>\n",
       "      <th class=\"blank col6\" >&nbsp;</th>\n",
       "      <th class=\"blank col7\" >&nbsp;</th>\n",
       "      <th class=\"blank col8\" >&nbsp;</th>\n",
       "      <th class=\"blank col9\" >&nbsp;</th>\n",
       "      <th class=\"blank col10\" >&nbsp;</th>\n",
       "      <th class=\"blank col11\" >&nbsp;</th>\n",
       "      <th class=\"blank col12\" >&nbsp;</th>\n",
       "      <th class=\"blank col13\" >&nbsp;</th>\n",
       "      <th class=\"blank col14\" >&nbsp;</th>\n",
       "      <th class=\"blank col15\" >&nbsp;</th>\n",
       "      <th class=\"blank col16\" >&nbsp;</th>\n",
       "      <th class=\"blank col17\" >&nbsp;</th>\n",
       "    </tr>\n",
       "  </thead>\n",
       "  <tbody>\n",
       "    <tr>\n",
       "      <th id=\"T_d0fed_level0_row0\" class=\"row_heading level0 row0\" >1</th>\n",
       "      <td id=\"T_d0fed_row0_col0\" class=\"data row0 col0\" >movie_1.mp4</td>\n",
       "      <td id=\"T_d0fed_row0_col1\" class=\"data row0 col1\" >movie_1.mp4</td>\n",
       "      <td id=\"T_d0fed_row0_col2\" class=\"data row0 col2\" >Site_1</td>\n",
       "      <td id=\"T_d0fed_row0_col3\" class=\"data row0 col3\" >Site_1</td>\n",
       "      <td id=\"T_d0fed_row0_col4\" class=\"data row0 col4\" >13/08/2021</td>\n",
       "      <td id=\"T_d0fed_row0_col5\" class=\"data row0 col5\" >13/08/2021</td>\n",
       "      <td id=\"T_d0fed_row0_col6\" class=\"data row0 col6\" >Author_name_1</td>\n",
       "      <td id=\"T_d0fed_row0_col7\" class=\"data row0 col7\" >Author_name_1</td>\n",
       "      <td id=\"T_d0fed_row0_col8\" class=\"data row0 col8\" >nan</td>\n",
       "      <td id=\"T_d0fed_row0_col9\" class=\"data row0 col9\" >nan</td>\n",
       "      <td id=\"T_d0fed_row0_col10\" class=\"data row0 col10\" >nan</td>\n",
       "      <td id=\"T_d0fed_row0_col11\" class=\"data row0 col11\" >nan</td>\n",
       "      <td id=\"T_d0fed_row0_col12\" class=\"data row0 col12\" >nan</td>\n",
       "      <td id=\"T_d0fed_row0_col13\" class=\"data row0 col13\" >nan</td>\n",
       "      <td id=\"T_d0fed_row0_col14\" class=\"data row0 col14\" >nan</td>\n",
       "      <td id=\"T_d0fed_row0_col15\" class=\"data row0 col15\" >nan</td>\n",
       "      <td id=\"T_d0fed_row0_col16\" class=\"data row0 col16\" >https://www.wildlife.ai/wp-content/uploads/2022/06/movie_1.mp4</td>\n",
       "      <td id=\"T_d0fed_row0_col17\" class=\"data row0 col17\" >https://www.wildlife.ai/wp-content/uploads/2022/06/movie_1.mp4</td>\n",
       "    </tr>\n",
       "    <tr>\n",
       "      <th id=\"T_d0fed_level0_row1\" class=\"row_heading level0 row1\" >2</th>\n",
       "      <td id=\"T_d0fed_row1_col0\" class=\"data row1 col0\" >movie_2.mp4</td>\n",
       "      <td id=\"T_d0fed_row1_col1\" class=\"data row1 col1\" >movie_2.mp4</td>\n",
       "      <td id=\"T_d0fed_row1_col2\" class=\"data row1 col2\" >Site_1</td>\n",
       "      <td id=\"T_d0fed_row1_col3\" class=\"data row1 col3\" >Site_1</td>\n",
       "      <td id=\"T_d0fed_row1_col4\" class=\"data row1 col4\" >13/08/2021</td>\n",
       "      <td id=\"T_d0fed_row1_col5\" class=\"data row1 col5\" >13/08/2021</td>\n",
       "      <td id=\"T_d0fed_row1_col6\" class=\"data row1 col6\" >Author_name_2</td>\n",
       "      <td id=\"T_d0fed_row1_col7\" class=\"data row1 col7\" >Author_name_2</td>\n",
       "      <td id=\"T_d0fed_row1_col8\" class=\"data row1 col8\" >nan</td>\n",
       "      <td id=\"T_d0fed_row1_col9\" class=\"data row1 col9\" >nan</td>\n",
       "      <td id=\"T_d0fed_row1_col10\" class=\"data row1 col10\" >nan</td>\n",
       "      <td id=\"T_d0fed_row1_col11\" class=\"data row1 col11\" >nan</td>\n",
       "      <td id=\"T_d0fed_row1_col12\" class=\"data row1 col12\" >nan</td>\n",
       "      <td id=\"T_d0fed_row1_col13\" class=\"data row1 col13\" >nan</td>\n",
       "      <td id=\"T_d0fed_row1_col14\" class=\"data row1 col14\" >nan</td>\n",
       "      <td id=\"T_d0fed_row1_col15\" class=\"data row1 col15\" >nan</td>\n",
       "      <td id=\"T_d0fed_row1_col16\" class=\"data row1 col16\" >https://www.wildlife.ai/wp-content/uploads/2022/06/movie_2.mp4</td>\n",
       "      <td id=\"T_d0fed_row1_col17\" class=\"data row1 col17\" >https://www.wildlife.ai/wp-content/uploads/2022/06/movie_2.mp4</td>\n",
       "    </tr>\n",
       "    <tr>\n",
       "      <th id=\"T_d0fed_level0_row2\" class=\"row_heading level0 row2\" >3</th>\n",
       "      <td id=\"T_d0fed_row2_col0\" class=\"data row2 col0\" >movie_3.mp4</td>\n",
       "      <td id=\"T_d0fed_row2_col1\" class=\"data row2 col1\" >movie_3.mp4</td>\n",
       "      <td id=\"T_d0fed_row2_col2\" class=\"data row2 col2\" >Site_1</td>\n",
       "      <td id=\"T_d0fed_row2_col3\" class=\"data row2 col3\" >Site_1</td>\n",
       "      <td id=\"T_d0fed_row2_col4\" class=\"data row2 col4\" >13/08/2021</td>\n",
       "      <td id=\"T_d0fed_row2_col5\" class=\"data row2 col5\" >13/08/2021</td>\n",
       "      <td id=\"T_d0fed_row2_col6\" class=\"data row2 col6\" >Author_name_3</td>\n",
       "      <td id=\"T_d0fed_row2_col7\" class=\"data row2 col7\" >Author_name_3</td>\n",
       "      <td id=\"T_d0fed_row2_col8\" class=\"data row2 col8\" >nan</td>\n",
       "      <td id=\"T_d0fed_row2_col9\" class=\"data row2 col9\" >nan</td>\n",
       "      <td id=\"T_d0fed_row2_col10\" class=\"data row2 col10\" >nan</td>\n",
       "      <td id=\"T_d0fed_row2_col11\" class=\"data row2 col11\" >nan</td>\n",
       "      <td id=\"T_d0fed_row2_col12\" class=\"data row2 col12\" >nan</td>\n",
       "      <td id=\"T_d0fed_row2_col13\" class=\"data row2 col13\" >nan</td>\n",
       "      <td id=\"T_d0fed_row2_col14\" class=\"data row2 col14\" >nan</td>\n",
       "      <td id=\"T_d0fed_row2_col15\" class=\"data row2 col15\" >nan</td>\n",
       "      <td id=\"T_d0fed_row2_col16\" class=\"data row2 col16\" >https://www.wildlife.ai/wp-content/uploads/2022/06/movie_3.mp4</td>\n",
       "      <td id=\"T_d0fed_row2_col17\" class=\"data row2 col17\" >https://www.wildlife.ai/wp-content/uploads/2022/06/movie_3.mp4</td>\n",
       "    </tr>\n",
       "    <tr>\n",
       "      <th id=\"T_d0fed_level0_row3\" class=\"row_heading level0 row3\" >4</th>\n",
       "      <td id=\"T_d0fed_row3_col0\" class=\"data row3 col0\" >movie_4.mp4</td>\n",
       "      <td id=\"T_d0fed_row3_col1\" class=\"data row3 col1\" >movie_4.mp4</td>\n",
       "      <td id=\"T_d0fed_row3_col2\" class=\"data row3 col2\" >Site_1</td>\n",
       "      <td id=\"T_d0fed_row3_col3\" class=\"data row3 col3\" >Site_2</td>\n",
       "      <td id=\"T_d0fed_row3_col4\" class=\"data row3 col4\" >18/08/2021</td>\n",
       "      <td id=\"T_d0fed_row3_col5\" class=\"data row3 col5\" >18/08/2021</td>\n",
       "      <td id=\"T_d0fed_row3_col6\" class=\"data row3 col6\" >Author_name_4</td>\n",
       "      <td id=\"T_d0fed_row3_col7\" class=\"data row3 col7\" >Author_name_4</td>\n",
       "      <td id=\"T_d0fed_row3_col8\" class=\"data row3 col8\" >nan</td>\n",
       "      <td id=\"T_d0fed_row3_col9\" class=\"data row3 col9\" >nan</td>\n",
       "      <td id=\"T_d0fed_row3_col10\" class=\"data row3 col10\" >nan</td>\n",
       "      <td id=\"T_d0fed_row3_col11\" class=\"data row3 col11\" >nan</td>\n",
       "      <td id=\"T_d0fed_row3_col12\" class=\"data row3 col12\" >nan</td>\n",
       "      <td id=\"T_d0fed_row3_col13\" class=\"data row3 col13\" >nan</td>\n",
       "      <td id=\"T_d0fed_row3_col14\" class=\"data row3 col14\" >nan</td>\n",
       "      <td id=\"T_d0fed_row3_col15\" class=\"data row3 col15\" >nan</td>\n",
       "      <td id=\"T_d0fed_row3_col16\" class=\"data row3 col16\" >https://www.wildlife.ai/wp-content/uploads/2022/06/movie_4.mp4</td>\n",
       "      <td id=\"T_d0fed_row3_col17\" class=\"data row3 col17\" >https://www.wildlife.ai/wp-content/uploads/2022/06/movie_4.mp4</td>\n",
       "    </tr>\n",
       "    <tr>\n",
       "      <th id=\"T_d0fed_level0_row4\" class=\"row_heading level0 row4\" >5</th>\n",
       "      <td id=\"T_d0fed_row4_col0\" class=\"data row4 col0\" >movie_5.mp4</td>\n",
       "      <td id=\"T_d0fed_row4_col1\" class=\"data row4 col1\" >movie_5.mp4</td>\n",
       "      <td id=\"T_d0fed_row4_col2\" class=\"data row4 col2\" >Site_2</td>\n",
       "      <td id=\"T_d0fed_row4_col3\" class=\"data row4 col3\" >Site_2</td>\n",
       "      <td id=\"T_d0fed_row4_col4\" class=\"data row4 col4\" >18/08/2021</td>\n",
       "      <td id=\"T_d0fed_row4_col5\" class=\"data row4 col5\" >18/08/2021</td>\n",
       "      <td id=\"T_d0fed_row4_col6\" class=\"data row4 col6\" >Author_name_1</td>\n",
       "      <td id=\"T_d0fed_row4_col7\" class=\"data row4 col7\" >Author_name_1</td>\n",
       "      <td id=\"T_d0fed_row4_col8\" class=\"data row4 col8\" >nan</td>\n",
       "      <td id=\"T_d0fed_row4_col9\" class=\"data row4 col9\" >nan</td>\n",
       "      <td id=\"T_d0fed_row4_col10\" class=\"data row4 col10\" >nan</td>\n",
       "      <td id=\"T_d0fed_row4_col11\" class=\"data row4 col11\" >nan</td>\n",
       "      <td id=\"T_d0fed_row4_col12\" class=\"data row4 col12\" >nan</td>\n",
       "      <td id=\"T_d0fed_row4_col13\" class=\"data row4 col13\" >nan</td>\n",
       "      <td id=\"T_d0fed_row4_col14\" class=\"data row4 col14\" >nan</td>\n",
       "      <td id=\"T_d0fed_row4_col15\" class=\"data row4 col15\" >nan</td>\n",
       "      <td id=\"T_d0fed_row4_col16\" class=\"data row4 col16\" >https://www.wildlife.ai/wp-content/uploads/2022/06/movie_5.mp4</td>\n",
       "      <td id=\"T_d0fed_row4_col17\" class=\"data row4 col17\" >https://www.wildlife.ai/wp-content/uploads/2022/06/movie_5.mp4</td>\n",
       "    </tr>\n",
       "  </tbody>\n",
       "</table>\n"
      ],
      "text/plain": [
       "<pandas.io.formats.style.Styler at 0x7f12b4626a90>"
      ]
     },
     "execution_count": 11,
     "metadata": {},
     "output_type": "execute_result"
    }
   ],
   "source": [
    "# Display the changes\n",
    "highlight_changes, movies_sheet_df = t1.display_changes(db_info_dict,\n",
    "                   isheet = movies_sheet, \n",
    "                   df_filtered = movies_df_filtered\n",
    "                   )\n",
    "highlight_changes"
   ]
  },
  {
   "cell_type": "code",
   "execution_count": null,
   "id": "Kd7Od4VfBln5",
   "metadata": {
    "colab": {
     "base_uri": "https://localhost:8080/",
     "height": 448,
     "referenced_widgets": [
      "59e933f5d926462884ee7ff7cc47339a",
      "b561b0caa6ac43a79b3a9021b3462450",
      "340be5c29e21429fbc98aa93a8a350bb",
      "5372de93af684fd3a41ea7734a58d17a",
      "0bda1d04075149af8e383171257b6d90",
      "c73d7620e9234948a0ce4d093cb09a5b",
      "f7fe60e96990421a960c4a19ab10acee",
      "d7e7650a5476475da39c4ebfe7a60974"
     ]
    },
    "id": "Kd7Od4VfBln5",
    "outputId": "00a2ec5d-f7e6-419c-c57b-9c90d0d0e7e6"
   },
   "outputs": [
    {
     "name": "stdout",
     "output_type": "stream",
     "text": [
      "\n",
      "Are the changes above correct?\n"
     ]
    },
    {
     "data": {
      "application/vnd.jupyter.widget-view+json": {
       "model_id": "59e933f5d926462884ee7ff7cc47339a",
       "version_major": 2,
       "version_minor": 0
      },
      "text/plain": [
       "HBox(children=(Button(button_style='danger', description='Yes, details are correct', layout=Layout(width='25%'…"
      ]
     },
     "metadata": {
      "application/vnd.jupyter.widget-view+json": {
       "colab": {
        "custom_widget_manager": {
         "url": "https://ssl.gstatic.com/colaboratory-static/widgets/colab-cdn-widget-manager/d2e234f7cc04bf79/manager.min.js"
        }
       }
      }
     },
     "output_type": "display_data"
    },
    {
     "name": "stderr",
     "output_type": "stream",
     "text": [
      "ERROR:root:The table movies has invalid entries, please ensure that all columns are non-zero\n",
      "ERROR:root:The invalid entries are    movie_id     filename  created_on  fps  duration  sampling_start  \\\n",
      "0         1  movie_1.mp4  13/08/2021  NaN       NaN             NaN   \n",
      "1         2  movie_2.mp4  13/08/2021  NaN       NaN             NaN   \n",
      "2         3  movie_3.mp4  13/08/2021  NaN       NaN             NaN   \n",
      "3         4  movie_4.mp4  18/08/2021  NaN       NaN             NaN   \n",
      "4         5  movie_5.mp4  18/08/2021  NaN       NaN             NaN   \n",
      "\n",
      "   sampling_end         author  site_id  \\\n",
      "0           NaN  Author_name_1        1   \n",
      "1           NaN  Author_name_2        1   \n",
      "2           NaN  Author_name_3        1   \n",
      "3           NaN  Author_name_4        1   \n",
      "4           NaN  Author_name_1        2   \n",
      "\n",
      "                                               fpath  \n",
      "0  https://www.wildlife.ai/wp-content/uploads/202...  \n",
      "1  https://www.wildlife.ai/wp-content/uploads/202...  \n",
      "2  https://www.wildlife.ai/wp-content/uploads/202...  \n",
      "3  https://www.wildlife.ai/wp-content/uploads/202...  \n",
      "4  https://www.wildlife.ai/wp-content/uploads/202...  \n"
     ]
    }
   ],
   "source": [
    "# Confirm or deny the changes\n",
    "t1.update_csv(db_info_dict, \n",
    "              project,\n",
    "              sheet_df = movies_sheet_df,\n",
    "              df = movies_df,\n",
    "              local_csv = \"local_movies_csv\",\n",
    "              serv_csv = \"server_movies_csv\"\n",
    "              )"
   ]
  },
  {
   "cell_type": "markdown",
   "id": "CtTfD4tF6ouw",
   "metadata": {
    "id": "CtTfD4tF6ouw"
   },
   "source": [
    "## Preview movies"
   ]
  },
  {
   "cell_type": "markdown",
   "id": "keLx8PPJ6_1c",
   "metadata": {
    "id": "keLx8PPJ6_1c"
   },
   "source": [
    "### Retrieve info of movies available on the server"
   ]
  },
  {
   "cell_type": "code",
   "execution_count": null,
   "id": "EDA7nDfn7EyF",
   "metadata": {
    "id": "EDA7nDfn7EyF"
   },
   "outputs": [],
   "source": [
    "available_movies_df = s_utils.retrieve_movie_info_from_server(\n",
    "    project = project,\n",
    "    db_info_dict = db_info_dict\n",
    ")"
   ]
  },
  {
   "cell_type": "markdown",
   "id": "oSm50evA6r6E",
   "metadata": {
    "id": "oSm50evA6r6E"
   },
   "source": [
    "### Select movies to preview"
   ]
  },
  {
   "cell_type": "code",
   "execution_count": null,
   "id": "3Kbc7eYZ7JVx",
   "metadata": {
    "colab": {
     "base_uri": "https://localhost:8080/",
     "height": 49,
     "referenced_widgets": [
      "852caaa46fc4461181dadae3b5f58a60",
      "c6aab28f5934420d9d997d7d5eb0670c",
      "d00fff85d59a489bb03cc5b4e9469dac"
     ]
    },
    "id": "3Kbc7eYZ7JVx",
    "outputId": "454a6371-219e-43ea-fd96-45c29c5a8659"
   },
   "outputs": [
    {
     "data": {
      "application/vnd.jupyter.widget-view+json": {
       "model_id": "852caaa46fc4461181dadae3b5f58a60",
       "version_major": 2,
       "version_minor": 0
      },
      "text/plain": [
       "Dropdown(description='Movie of interest:', layout=Layout(width='50%'), options=('movie_1.mp4', 'movie_2.mp4', …"
      ]
     },
     "metadata": {
      "application/vnd.jupyter.widget-view+json": {
       "colab": {
        "custom_widget_manager": {
         "url": "https://ssl.gstatic.com/colaboratory-static/widgets/colab-cdn-widget-manager/d2e234f7cc04bf79/manager.min.js"
        }
       }
      }
     },
     "output_type": "display_data"
    }
   ],
   "source": [
    "movie_selected = t_utils.select_movie(available_movies_df)"
   ]
  },
  {
   "cell_type": "markdown",
   "id": "QfkDCyz67Mp-",
   "metadata": {
    "id": "QfkDCyz67Mp-"
   },
   "source": [
    "### Display the movie"
   ]
  },
  {
   "cell_type": "code",
   "execution_count": null,
   "id": "SbN566ha7R6n",
   "metadata": {
    "colab": {
     "base_uri": "https://localhost:8080/",
     "height": 488
    },
    "id": "SbN566ha7R6n",
    "outputId": "1e939a63-7407-4798-f1b3-ba58bf85a617"
   },
   "outputs": [
    {
     "data": {
      "text/html": [
       "<html>\n",
       "                <div style=\"display: flex; justify-content: space-around; align-items: center\">\n",
       "                <div>\n",
       "                  <video width=500 controls>\n",
       "                  <source src=https://www.wildlife.ai/wp-content/uploads/2022/06/movie_1.mp4>\n",
       "                  </video>\n",
       "                </div>\n",
       "                <div><table border=\"1\" class=\"dataframe\">\n",
       "  <thead>\n",
       "    <tr style=\"text-align: right;\">\n",
       "      <th></th>\n",
       "      <th>Movie summary</th>\n",
       "    </tr>\n",
       "  </thead>\n",
       "  <tbody>\n",
       "    <tr>\n",
       "      <th>index</th>\n",
       "      <td>0</td>\n",
       "    </tr>\n",
       "    <tr>\n",
       "      <th>id</th>\n",
       "      <td>1</td>\n",
       "    </tr>\n",
       "    <tr>\n",
       "      <th>filename</th>\n",
       "      <td>movie_1.mp4</td>\n",
       "    </tr>\n",
       "    <tr>\n",
       "      <th>created_on</th>\n",
       "      <td>13/08/2021</td>\n",
       "    </tr>\n",
       "    <tr>\n",
       "      <th>fps</th>\n",
       "      <td>None</td>\n",
       "    </tr>\n",
       "    <tr>\n",
       "      <th>duration</th>\n",
       "      <td>None</td>\n",
       "    </tr>\n",
       "    <tr>\n",
       "      <th>sampling_start</th>\n",
       "      <td>None</td>\n",
       "    </tr>\n",
       "    <tr>\n",
       "      <th>sampling_end</th>\n",
       "      <td>None</td>\n",
       "    </tr>\n",
       "    <tr>\n",
       "      <th>author</th>\n",
       "      <td>Author_name_1</td>\n",
       "    </tr>\n",
       "    <tr>\n",
       "      <th>site_id</th>\n",
       "      <td>1</td>\n",
       "    </tr>\n",
       "    <tr>\n",
       "      <th>fpath</th>\n",
       "      <td>https://www.wildlife.ai/wp-content/uploads/2022/06/movie_1.mp4</td>\n",
       "    </tr>\n",
       "    <tr>\n",
       "      <th>spath</th>\n",
       "      <td>https://www.wildlife.ai/wp-content/uploads/2022/06/movie_1.mp4</td>\n",
       "    </tr>\n",
       "    <tr>\n",
       "      <th>exists</th>\n",
       "      <td>True</td>\n",
       "    </tr>\n",
       "    <tr>\n",
       "      <th>filename_ext</th>\n",
       "      <td>movie_1.mp4</td>\n",
       "    </tr>\n",
       "  </tbody>\n",
       "</table></div>\n",
       "                </div>\n",
       "                </html>"
      ],
      "text/plain": [
       "<IPython.core.display.HTML object>"
      ]
     },
     "execution_count": 31,
     "metadata": {},
     "output_type": "execute_result"
    }
   ],
   "source": [
    "movie_display, movie_path = t_utils.preview_movie(\n",
    "    project = project,\n",
    "    db_info_dict = db_info_dict, \n",
    "    available_movies_df = available_movies_df, \n",
    "    movie_i = movie_selected.value\n",
    ")\n",
    "movie_display"
   ]
  },
  {
   "cell_type": "markdown",
   "id": "tyKSJHRq3kog",
   "metadata": {
    "id": "tyKSJHRq3kog"
   },
   "source": [
    "# Review species"
   ]
  },
  {
   "cell_type": "markdown",
   "id": "I0le1Ammu3mG",
   "metadata": {
    "id": "I0le1Ammu3mG"
   },
   "source": [
    "## Check the species dataframe"
   ]
  },
  {
   "cell_type": "code",
   "execution_count": null,
   "id": "OTGLqqdjusy5",
   "metadata": {
    "id": "OTGLqqdjusy5"
   },
   "outputs": [],
   "source": [
    "species_sheet_df = t1.check_species_csv(db_info_dict= db_info_dict, project = project)"
   ]
  },
  {
   "cell_type": "markdown",
   "id": "yKpoX8DUvHDs",
   "metadata": {
    "id": "yKpoX8DUvHDs"
   },
   "source": [
    "## Manually update species dataframe"
   ]
  },
  {
   "cell_type": "markdown",
   "id": "OPItluO5utuy",
   "metadata": {
    "id": "OPItluO5utuy"
   },
   "source": [
    "Select the range of species to display"
   ]
  },
  {
   "cell_type": "code",
   "execution_count": null,
   "id": "b78b2738",
   "metadata": {
    "colab": {
     "base_uri": "https://localhost:8080/",
     "height": 87,
     "referenced_widgets": [
      "4c34ee6f9d7046f59cbaae566f561887",
      "fde4f49d19c3467b9a5cdaeb748b054e",
      "63ca2576e9e74ab68a91fe6c52617135"
     ]
    },
    "id": "b78b2738",
    "outputId": "ead56a68-c76f-48ca-b525-a077a2c19fd2"
   },
   "outputs": [
    {
     "data": {
      "application/vnd.jupyter.widget-view+json": {
       "model_id": "4c34ee6f9d7046f59cbaae566f561887",
       "version_major": 2,
       "version_minor": 0
      },
      "text/plain": [
       "SelectionRangeSlider(description='Rows to display', index=(0, 66), layout=Layout(padding='35px', width='90%'),…"
      ]
     },
     "metadata": {
      "application/vnd.jupyter.widget-view+json": {
       "colab": {
        "custom_widget_manager": {
         "url": "https://ssl.gstatic.com/colaboratory-static/widgets/colab-cdn-widget-manager/d2e234f7cc04bf79/manager.min.js"
        }
       }
      }
     },
     "output_type": "display_data"
    }
   ],
   "source": [
    "species_df, species_range = t1.select_sheet_range(db_info_dict = db_info_dict,\n",
    "                                              orig_csv = \"local_species_csv\"\n",
    "                                              )"
   ]
  },
  {
   "cell_type": "markdown",
   "id": "8jkoFyRDvWwH",
   "metadata": {
    "id": "8jkoFyRDvWwH"
   },
   "source": [
    "Update the contents of the cells in the spreadsheet below as needed"
   ]
  },
  {
   "cell_type": "code",
   "execution_count": null,
   "id": "zvl2ZNO5vXYi",
   "metadata": {
    "colab": {
     "base_uri": "https://localhost:8080/",
     "height": 209,
     "referenced_widgets": [
      "d27dd78c068241149a845c7359486f9b",
      "460ea62d323f4bad907fa6cb1c7b674d",
      "91941740f177482f84c158a9978fdc2d",
      "e79efc1e011d47578704dadeb511807e",
      "be4500d5507c4dffacc52790594d58ff",
      "b87d3bc228814761a48defda2a346078",
      "145d72546ec840b99ec6911bf77bbe84"
     ]
    },
    "id": "zvl2ZNO5vXYi",
    "outputId": "bb83861d-595a-4f85-c269-69974d7125b5"
   },
   "outputs": [
    {
     "data": {
      "application/vnd.jupyter.widget-view+json": {
       "model_id": "d27dd78c068241149a845c7359486f9b",
       "version_major": 2,
       "version_minor": 0
      },
      "text/plain": [
       "Sheet(cells=(Cell(column_end=0, column_start=0, numeric_format='0[.]0', row_end=6, row_start=0, squeeze_row=Fa…"
      ]
     },
     "metadata": {
      "application/vnd.jupyter.widget-view+json": {
       "colab": {
        "custom_widget_manager": {
         "url": "https://ssl.gstatic.com/colaboratory-static/widgets/colab-cdn-widget-manager/d2e234f7cc04bf79/manager.min.js"
        }
       }
      }
     },
     "output_type": "display_data"
    }
   ],
   "source": [
    "species_df_filtered, species_sheet = t1.open_csv(df = species_df, df_range = species_range)\n",
    "species_sheet"
   ]
  },
  {
   "cell_type": "markdown",
   "id": "PZyfVEMRvekz",
   "metadata": {
    "id": "PZyfVEMRvekz"
   },
   "source": [
    "### Review and confirm the changes"
   ]
  },
  {
   "cell_type": "code",
   "execution_count": null,
   "id": "Niq_2WZlvlE9",
   "metadata": {
    "colab": {
     "base_uri": "https://localhost:8080/",
     "height": 542
    },
    "id": "Niq_2WZlvlE9",
    "outputId": "107e49f3-690c-4860-c978-f57b7db77b48"
   },
   "outputs": [
    {
     "data": {
      "text/html": [
       "<style type=\"text/css\">\n",
       "#T_8037f_row2_col3 {\n",
       "  background-color: yellow;\n",
       "}\n",
       "</style>\n",
       "<table id=\"T_8037f_\" class=\"dataframe\">\n",
       "  <thead>\n",
       "    <tr>\n",
       "      <th class=\"blank level0\" >&nbsp;</th>\n",
       "      <th class=\"col_heading level0 col0\" colspan=\"2\">commonName</th>\n",
       "      <th class=\"col_heading level0 col2\" colspan=\"2\">scientificName</th>\n",
       "      <th class=\"col_heading level0 col4\" colspan=\"2\">taxonRank</th>\n",
       "      <th class=\"col_heading level0 col6\" colspan=\"2\">kingdom</th>\n",
       "    </tr>\n",
       "    <tr>\n",
       "      <th class=\"blank level1\" >&nbsp;</th>\n",
       "      <th class=\"col_heading level1 col0\" >Origin</th>\n",
       "      <th class=\"col_heading level1 col1\" >Update</th>\n",
       "      <th class=\"col_heading level1 col2\" >Origin</th>\n",
       "      <th class=\"col_heading level1 col3\" >Update</th>\n",
       "      <th class=\"col_heading level1 col4\" >Origin</th>\n",
       "      <th class=\"col_heading level1 col5\" >Update</th>\n",
       "      <th class=\"col_heading level1 col6\" >Origin</th>\n",
       "      <th class=\"col_heading level1 col7\" >Update</th>\n",
       "    </tr>\n",
       "    <tr>\n",
       "      <th class=\"index_name level0\" >species_id</th>\n",
       "      <th class=\"blank col0\" >&nbsp;</th>\n",
       "      <th class=\"blank col1\" >&nbsp;</th>\n",
       "      <th class=\"blank col2\" >&nbsp;</th>\n",
       "      <th class=\"blank col3\" >&nbsp;</th>\n",
       "      <th class=\"blank col4\" >&nbsp;</th>\n",
       "      <th class=\"blank col5\" >&nbsp;</th>\n",
       "      <th class=\"blank col6\" >&nbsp;</th>\n",
       "      <th class=\"blank col7\" >&nbsp;</th>\n",
       "    </tr>\n",
       "  </thead>\n",
       "  <tbody>\n",
       "    <tr>\n",
       "      <th id=\"T_8037f_level0_row0\" class=\"row_heading level0 row0\" >1</th>\n",
       "      <td id=\"T_8037f_row0_col0\" class=\"data row0 col0\" >Fan-shaped sponge</td>\n",
       "      <td id=\"T_8037f_row0_col1\" class=\"data row0 col1\" >Fan-shaped sponge</td>\n",
       "      <td id=\"T_8037f_row0_col2\" class=\"data row0 col2\" >Phakellia ventilabrum</td>\n",
       "      <td id=\"T_8037f_row0_col3\" class=\"data row0 col3\" >Phakellia ventilabrum</td>\n",
       "      <td id=\"T_8037f_row0_col4\" class=\"data row0 col4\" >species</td>\n",
       "      <td id=\"T_8037f_row0_col5\" class=\"data row0 col5\" >species</td>\n",
       "      <td id=\"T_8037f_row0_col6\" class=\"data row0 col6\" >Animalia</td>\n",
       "      <td id=\"T_8037f_row0_col7\" class=\"data row0 col7\" >Animalia</td>\n",
       "    </tr>\n",
       "    <tr>\n",
       "      <th id=\"T_8037f_level0_row1\" class=\"row_heading level0 row1\" >2</th>\n",
       "      <td id=\"T_8037f_row1_col0\" class=\"data row1 col0\" >Football sponge</td>\n",
       "      <td id=\"T_8037f_row1_col1\" class=\"data row1 col1\" >Football sponge</td>\n",
       "      <td id=\"T_8037f_row1_col2\" class=\"data row1 col2\" >Geodia barretti</td>\n",
       "      <td id=\"T_8037f_row1_col3\" class=\"data row1 col3\" >Geodia barretti</td>\n",
       "      <td id=\"T_8037f_row1_col4\" class=\"data row1 col4\" >species</td>\n",
       "      <td id=\"T_8037f_row1_col5\" class=\"data row1 col5\" >species</td>\n",
       "      <td id=\"T_8037f_row1_col6\" class=\"data row1 col6\" >Animalia</td>\n",
       "      <td id=\"T_8037f_row1_col7\" class=\"data row1 col7\" >Animalia</td>\n",
       "    </tr>\n",
       "    <tr>\n",
       "      <th id=\"T_8037f_level0_row2\" class=\"row_heading level0 row2\" >3</th>\n",
       "      <td id=\"T_8037f_row2_col0\" class=\"data row2 col0\" >Sponge (any species)</td>\n",
       "      <td id=\"T_8037f_row2_col1\" class=\"data row2 col1\" >Sponge (any species)</td>\n",
       "      <td id=\"T_8037f_row2_col2\" class=\"data row2 col2\" >Porifera</td>\n",
       "      <td id=\"T_8037f_row2_col3\" class=\"data row2 col3\" >Porifera std</td>\n",
       "      <td id=\"T_8037f_row2_col4\" class=\"data row2 col4\" >phylum</td>\n",
       "      <td id=\"T_8037f_row2_col5\" class=\"data row2 col5\" >phylum</td>\n",
       "      <td id=\"T_8037f_row2_col6\" class=\"data row2 col6\" >Animalia</td>\n",
       "      <td id=\"T_8037f_row2_col7\" class=\"data row2 col7\" >Animalia</td>\n",
       "    </tr>\n",
       "    <tr>\n",
       "      <th id=\"T_8037f_level0_row3\" class=\"row_heading level0 row3\" >4</th>\n",
       "      <td id=\"T_8037f_row3_col0\" class=\"data row3 col0\" >Dead man's fingers</td>\n",
       "      <td id=\"T_8037f_row3_col1\" class=\"data row3 col1\" >Dead man's fingers</td>\n",
       "      <td id=\"T_8037f_row3_col2\" class=\"data row3 col2\" >Alcyonium digitatum</td>\n",
       "      <td id=\"T_8037f_row3_col3\" class=\"data row3 col3\" >Alcyonium digitatum</td>\n",
       "      <td id=\"T_8037f_row3_col4\" class=\"data row3 col4\" >species</td>\n",
       "      <td id=\"T_8037f_row3_col5\" class=\"data row3 col5\" >species</td>\n",
       "      <td id=\"T_8037f_row3_col6\" class=\"data row3 col6\" >Animalia</td>\n",
       "      <td id=\"T_8037f_row3_col7\" class=\"data row3 col7\" >Animalia</td>\n",
       "    </tr>\n",
       "    <tr>\n",
       "      <th id=\"T_8037f_level0_row4\" class=\"row_heading level0 row4\" >5</th>\n",
       "      <td id=\"T_8037f_row4_col0\" class=\"data row4 col0\" >Deeplet sea anemone</td>\n",
       "      <td id=\"T_8037f_row4_col1\" class=\"data row4 col1\" >Deeplet sea anemone</td>\n",
       "      <td id=\"T_8037f_row4_col2\" class=\"data row4 col2\" >Bolocera tuediae</td>\n",
       "      <td id=\"T_8037f_row4_col3\" class=\"data row4 col3\" >Bolocera tuediae</td>\n",
       "      <td id=\"T_8037f_row4_col4\" class=\"data row4 col4\" >species</td>\n",
       "      <td id=\"T_8037f_row4_col5\" class=\"data row4 col5\" >species</td>\n",
       "      <td id=\"T_8037f_row4_col6\" class=\"data row4 col6\" >Animalia</td>\n",
       "      <td id=\"T_8037f_row4_col7\" class=\"data row4 col7\" >Animalia</td>\n",
       "    </tr>\n",
       "    <tr>\n",
       "      <th id=\"T_8037f_level0_row5\" class=\"row_heading level0 row5\" >6</th>\n",
       "      <td id=\"T_8037f_row5_col0\" class=\"data row5 col0\" >Common sea pen</td>\n",
       "      <td id=\"T_8037f_row5_col1\" class=\"data row5 col1\" >Common sea pen</td>\n",
       "      <td id=\"T_8037f_row5_col2\" class=\"data row5 col2\" >Pennatula phosphorea</td>\n",
       "      <td id=\"T_8037f_row5_col3\" class=\"data row5 col3\" >Pennatula phosphorea</td>\n",
       "      <td id=\"T_8037f_row5_col4\" class=\"data row5 col4\" >species</td>\n",
       "      <td id=\"T_8037f_row5_col5\" class=\"data row5 col5\" >species</td>\n",
       "      <td id=\"T_8037f_row5_col6\" class=\"data row5 col6\" >Animalia</td>\n",
       "      <td id=\"T_8037f_row5_col7\" class=\"data row5 col7\" >Animalia</td>\n",
       "    </tr>\n",
       "    <tr>\n",
       "      <th id=\"T_8037f_level0_row6\" class=\"row_heading level0 row6\" >7</th>\n",
       "      <td id=\"T_8037f_row6_col0\" class=\"data row6 col0\" >Tall sea pen</td>\n",
       "      <td id=\"T_8037f_row6_col1\" class=\"data row6 col1\" >Tall sea pen</td>\n",
       "      <td id=\"T_8037f_row6_col2\" class=\"data row6 col2\" >Funiculina quadrangularis</td>\n",
       "      <td id=\"T_8037f_row6_col3\" class=\"data row6 col3\" >Funiculina quadrangularis</td>\n",
       "      <td id=\"T_8037f_row6_col4\" class=\"data row6 col4\" >species</td>\n",
       "      <td id=\"T_8037f_row6_col5\" class=\"data row6 col5\" >species</td>\n",
       "      <td id=\"T_8037f_row6_col6\" class=\"data row6 col6\" >Animalia</td>\n",
       "      <td id=\"T_8037f_row6_col7\" class=\"data row6 col7\" >Animalia</td>\n",
       "    </tr>\n",
       "  </tbody>\n",
       "</table>\n"
      ],
      "text/plain": [
       "<pandas.io.formats.style.Styler at 0x7f5a07413550>"
      ]
     },
     "execution_count": 17,
     "metadata": {},
     "output_type": "execute_result"
    }
   ],
   "source": [
    "# Display the changes\n",
    "highlight_changes, species_sheet_df = t1.display_changes(db_info_dict,\n",
    "                   isheet = species_sheet, \n",
    "                   df_filtered = species_df_filtered\n",
    "                   )\n",
    "highlight_changes"
   ]
  },
  {
   "cell_type": "code",
   "execution_count": null,
   "id": "cGHj7CkKuhcC",
   "metadata": {
    "id": "cGHj7CkKuhcC"
   },
   "outputs": [],
   "source": [
    "# Confirm or deny the changes\n",
    "t1.update_csv(db_info_dict, \n",
    "              project,\n",
    "              sheet_df = species_sheet_df,\n",
    "              df = species_df,\n",
    "              local_csv = \"local_species_csv\",\n",
    "              serv_csv = \"server_species_csv\"\n",
    "              )"
   ]
  },
  {
   "cell_type": "code",
   "execution_count": null,
   "id": "5fc74ec0",
   "metadata": {
    "id": "5fc74ec0"
   },
   "outputs": [],
   "source": [
    "#END"
   ]
  }
 ],
 "metadata": {
  "colab": {
   "collapsed_sections": [],
   "name": "COLAB_1_Check_and_update_csv_files.ipynb",
   "provenance": []
  },
  "kernelspec": {
   "display_name": "Python 3 (ipykernel)",
   "language": "python",
   "name": "python3"
  },
  "language_info": {
   "codemirror_mode": {
    "name": "ipython",
    "version": 3
   },
   "file_extension": ".py",
   "mimetype": "text/x-python",
   "name": "python",
   "nbconvert_exporter": "python",
   "pygments_lexer": "ipython3",
   "version": "3.7.13"
  },
  "widgets": {
   "application/vnd.jupyter.widget-state+json": {
    "0bda1d04075149af8e383171257b6d90": {
     "model_module": "@jupyter-widgets/base",
     "model_module_version": "1.2.0",
     "model_name": "LayoutModel",
     "state": {
      "_model_module": "@jupyter-widgets/base",
      "_model_module_version": "1.2.0",
      "_model_name": "LayoutModel",
      "_view_count": null,
      "_view_module": "@jupyter-widgets/base",
      "_view_module_version": "1.2.0",
      "_view_name": "LayoutView",
      "align_content": null,
      "align_items": null,
      "align_self": null,
      "border": null,
      "bottom": null,
      "display": null,
      "flex": null,
      "flex_flow": null,
      "grid_area": null,
      "grid_auto_columns": null,
      "grid_auto_flow": null,
      "grid_auto_rows": null,
      "grid_column": null,
      "grid_gap": null,
      "grid_row": null,
      "grid_template_areas": null,
      "grid_template_columns": null,
      "grid_template_rows": null,
      "height": null,
      "justify_content": null,
      "justify_items": null,
      "left": null,
      "margin": null,
      "max_height": null,
      "max_width": null,
      "min_height": null,
      "min_width": null,
      "object_fit": null,
      "object_position": null,
      "order": null,
      "overflow": null,
      "overflow_x": null,
      "overflow_y": null,
      "padding": null,
      "right": null,
      "top": null,
      "visibility": null,
      "width": "25%"
     }
    },
    "145d72546ec840b99ec6911bf77bbe84": {
     "model_module": "@jupyter-widgets/base",
     "model_module_version": "1.2.0",
     "model_name": "LayoutModel",
     "state": {
      "_model_module": "@jupyter-widgets/base",
      "_model_module_version": "1.2.0",
      "_model_name": "LayoutModel",
      "_view_count": null,
      "_view_module": "@jupyter-widgets/base",
      "_view_module_version": "1.2.0",
      "_view_name": "LayoutView",
      "align_content": null,
      "align_items": null,
      "align_self": null,
      "border": null,
      "bottom": null,
      "display": null,
      "flex": null,
      "flex_flow": null,
      "grid_area": null,
      "grid_auto_columns": null,
      "grid_auto_flow": null,
      "grid_auto_rows": null,
      "grid_column": null,
      "grid_gap": null,
      "grid_row": null,
      "grid_template_areas": null,
      "grid_template_columns": null,
      "grid_template_rows": null,
      "height": "auto",
      "justify_content": null,
      "justify_items": null,
      "left": null,
      "margin": null,
      "max_height": null,
      "max_width": null,
      "min_height": null,
      "min_width": null,
      "object_fit": null,
      "object_position": null,
      "order": null,
      "overflow": null,
      "overflow_x": null,
      "overflow_y": null,
      "padding": null,
      "right": null,
      "top": null,
      "visibility": null,
      "width": "auto"
     }
    },
    "172303d0cf9d42608eccbb9779a15ebd": {
     "model_module": "ipysheet",
     "model_module_version": "~0.4.4",
     "model_name": "CellRangeModel",
     "state": {
      "_model_module": "ipysheet",
      "_model_module_version": "~0.4.4",
      "_model_name": "CellRangeModel",
      "_view_count": null,
      "_view_module": null,
      "_view_module_version": "",
      "_view_name": null,
      "choice": null,
      "column_end": 0,
      "column_start": 0,
      "date_format": "YYYY/MM/DD",
      "name": null,
      "numeric_format": "0[.]0",
      "read_only": false,
      "renderer": null,
      "row_end": 4,
      "row_start": 0,
      "squeeze_column": true,
      "squeeze_row": false,
      "style": {},
      "time_format": "h:mm:ss a",
      "transpose": false,
      "type": "numeric",
      "value": [
       1,
       2,
       3,
       4,
       5
      ]
     }
    },
    "19526795fde746619486247e0191020b": {
     "model_module": "@jupyter-widgets/controls",
     "model_module_version": "1.5.0",
     "model_name": "ButtonStyleModel",
     "state": {
      "_model_module": "@jupyter-widgets/controls",
      "_model_module_version": "1.5.0",
      "_model_name": "ButtonStyleModel",
      "_view_count": null,
      "_view_module": "@jupyter-widgets/base",
      "_view_module_version": "1.2.0",
      "_view_name": "StyleView",
      "button_color": null,
      "font_weight": ""
     }
    },
    "228ee1c9f12e43d49b8b1be5af56d462": {
     "model_module": "@jupyter-widgets/base",
     "model_module_version": "1.2.0",
     "model_name": "LayoutModel",
     "state": {
      "_model_module": "@jupyter-widgets/base",
      "_model_module_version": "1.2.0",
      "_model_name": "LayoutModel",
      "_view_count": null,
      "_view_module": "@jupyter-widgets/base",
      "_view_module_version": "1.2.0",
      "_view_name": "LayoutView",
      "align_content": null,
      "align_items": null,
      "align_self": null,
      "border": null,
      "bottom": null,
      "display": null,
      "flex": null,
      "flex_flow": null,
      "grid_area": null,
      "grid_auto_columns": null,
      "grid_auto_flow": null,
      "grid_auto_rows": null,
      "grid_column": null,
      "grid_gap": null,
      "grid_row": null,
      "grid_template_areas": null,
      "grid_template_columns": null,
      "grid_template_rows": null,
      "height": null,
      "justify_content": null,
      "justify_items": null,
      "left": null,
      "margin": null,
      "max_height": null,
      "max_width": null,
      "min_height": null,
      "min_width": null,
      "object_fit": null,
      "object_position": null,
      "order": null,
      "overflow": null,
      "overflow_x": null,
      "overflow_y": null,
      "padding": null,
      "right": null,
      "top": null,
      "visibility": null,
      "width": null
     }
    },
    "23edbd83d87746aab344c9c28960d865": {
     "model_module": "ipysheet",
     "model_module_version": "~0.4.4",
     "model_name": "CellRangeModel",
     "state": {
      "_model_module": "ipysheet",
      "_model_module_version": "~0.4.4",
      "_model_name": "CellRangeModel",
      "_view_count": null,
      "_view_module": null,
      "_view_module_version": "",
      "_view_name": null,
      "choice": null,
      "column_end": 6,
      "column_start": 6,
      "date_format": "YYYY/MM/DD",
      "name": null,
      "numeric_format": "0.000",
      "read_only": false,
      "renderer": null,
      "row_end": 4,
      "row_start": 0,
      "squeeze_column": true,
      "squeeze_row": false,
      "style": {},
      "time_format": "h:mm:ss a",
      "transpose": false,
      "type": "numeric",
      "value": [
       10.12,
       10.043366666666667,
       10.01,
       10.08,
       10.01
      ]
     }
    },
    "245a95fee4ae46189d2dd78a0b653ede": {
     "model_module": "ipysheet",
     "model_module_version": "~0.4.4",
     "model_name": "CellRangeModel",
     "state": {
      "_model_module": "ipysheet",
      "_model_module_version": "~0.4.4",
      "_model_name": "CellRangeModel",
      "_view_count": null,
      "_view_module": null,
      "_view_module_version": "",
      "_view_name": null,
      "choice": null,
      "column_end": 4,
      "column_start": 4,
      "date_format": "YYYY/MM/DD",
      "name": null,
      "numeric_format": null,
      "read_only": false,
      "renderer": null,
      "row_end": 4,
      "row_start": 0,
      "squeeze_column": true,
      "squeeze_row": false,
      "style": {},
      "time_format": "h:mm:ss a",
      "transpose": false,
      "type": "text",
      "value": [
       "WGS84",
       "WGS84",
       "WGS84",
       "WGS84",
       "WGS84"
      ]
     }
    },
    "261b652187df4a418d71c6dcf8ac8320": {
     "model_module": "@jupyter-widgets/controls",
     "model_module_version": "1.5.0",
     "model_name": "DescriptionStyleModel",
     "state": {
      "_model_module": "@jupyter-widgets/controls",
      "_model_module_version": "1.5.0",
      "_model_name": "DescriptionStyleModel",
      "_view_count": null,
      "_view_module": "@jupyter-widgets/base",
      "_view_module_version": "1.2.0",
      "_view_name": "StyleView",
      "description_width": "initial"
     }
    },
    "29a95efcac764cb2b2ee25f1fac50517": {
     "model_module": "ipysheet",
     "model_module_version": "~0.4.4",
     "model_name": "CellRangeModel",
     "state": {
      "_model_module": "ipysheet",
      "_model_module_version": "~0.4.4",
      "_model_name": "CellRangeModel",
      "_view_count": null,
      "_view_module": null,
      "_view_module_version": "",
      "_view_name": null,
      "choice": null,
      "column_end": 4,
      "column_start": 4,
      "date_format": "YYYY/MM/DD",
      "name": null,
      "numeric_format": null,
      "read_only": false,
      "renderer": null,
      "row_end": 4,
      "row_start": 0,
      "squeeze_column": true,
      "squeeze_row": false,
      "style": {},
      "time_format": "h:mm:ss a",
      "transpose": false,
      "type": "text",
      "value": [
       "Author_name_1",
       "Author_name_2",
       "Author_name_3",
       "Author_name_4",
       "Author_name_1"
      ]
     }
    },
    "340be5c29e21429fbc98aa93a8a350bb": {
     "model_module": "@jupyter-widgets/controls",
     "model_module_version": "1.5.0",
     "model_name": "ButtonModel",
     "state": {
      "_dom_classes": [],
      "_model_module": "@jupyter-widgets/controls",
      "_model_module_version": "1.5.0",
      "_model_name": "ButtonModel",
      "_view_count": null,
      "_view_module": "@jupyter-widgets/controls",
      "_view_module_version": "1.5.0",
      "_view_name": "ButtonView",
      "button_style": "danger",
      "description": "No, I will go back and fix them",
      "disabled": false,
      "icon": "",
      "layout": "IPY_MODEL_f7fe60e96990421a960c4a19ab10acee",
      "style": "IPY_MODEL_d7e7650a5476475da39c4ebfe7a60974",
      "tooltip": ""
     }
    },
    "424b34e7729a4714b8d6a369873578b0": {
     "model_module": "ipysheet",
     "model_module_version": "~0.4.4",
     "model_name": "CellRangeModel",
     "state": {
      "_model_module": "ipysheet",
      "_model_module_version": "~0.4.4",
      "_model_name": "CellRangeModel",
      "_view_count": null,
      "_view_module": null,
      "_view_module_version": "",
      "_view_name": null,
      "choice": null,
      "column_end": 2,
      "column_start": 2,
      "date_format": "YYYY/MM/DD",
      "name": null,
      "numeric_format": null,
      "read_only": false,
      "renderer": null,
      "row_end": 4,
      "row_start": 0,
      "squeeze_column": true,
      "squeeze_row": false,
      "style": {},
      "time_format": "h:mm:ss a",
      "transpose": false,
      "type": "text",
      "value": [
       "Site_1",
       "Site_1",
       "Site_1",
       "Site_2",
       "Site_2"
      ]
     }
    },
    "460ea62d323f4bad907fa6cb1c7b674d": {
     "model_module": "ipysheet",
     "model_module_version": "~0.4.4",
     "model_name": "CellRangeModel",
     "state": {
      "_model_module": "ipysheet",
      "_model_module_version": "~0.4.4",
      "_model_name": "CellRangeModel",
      "_view_count": null,
      "_view_module": null,
      "_view_module_version": "",
      "_view_name": null,
      "choice": null,
      "column_end": 0,
      "column_start": 0,
      "date_format": "YYYY/MM/DD",
      "name": null,
      "numeric_format": "0[.]0",
      "read_only": false,
      "renderer": null,
      "row_end": 6,
      "row_start": 0,
      "squeeze_column": true,
      "squeeze_row": false,
      "style": {},
      "time_format": "h:mm:ss a",
      "transpose": false,
      "type": "numeric",
      "value": [
       1,
       2,
       3,
       4,
       5,
       6,
       7
      ]
     }
    },
    "46f19dbc7a2b402db1f827984bd46118": {
     "model_module": "ipysheet",
     "model_module_version": "~0.4.4",
     "model_name": "CellRangeModel",
     "state": {
      "_model_module": "ipysheet",
      "_model_module_version": "~0.4.4",
      "_model_name": "CellRangeModel",
      "_view_count": null,
      "_view_module": null,
      "_view_module_version": "",
      "_view_name": null,
      "choice": null,
      "column_end": 1,
      "column_start": 1,
      "date_format": "YYYY/MM/DD",
      "name": null,
      "numeric_format": null,
      "read_only": false,
      "renderer": null,
      "row_end": 4,
      "row_start": 0,
      "squeeze_column": true,
      "squeeze_row": false,
      "style": {},
      "time_format": "h:mm:ss a",
      "transpose": false,
      "type": "text",
      "value": [
       "Site_1",
       "Site_2",
       "Site_3",
       "Site_4",
       "Site_5"
      ]
     }
    },
    "472a4c27434e4239848275630d7a252f": {
     "model_module": "@jupyter-widgets/base",
     "model_module_version": "1.2.0",
     "model_name": "LayoutModel",
     "state": {
      "_model_module": "@jupyter-widgets/base",
      "_model_module_version": "1.2.0",
      "_model_name": "LayoutModel",
      "_view_count": null,
      "_view_module": "@jupyter-widgets/base",
      "_view_module_version": "1.2.0",
      "_view_name": "LayoutView",
      "align_content": null,
      "align_items": null,
      "align_self": null,
      "border": null,
      "bottom": null,
      "display": null,
      "flex": null,
      "flex_flow": null,
      "grid_area": null,
      "grid_auto_columns": null,
      "grid_auto_flow": null,
      "grid_auto_rows": null,
      "grid_column": null,
      "grid_gap": null,
      "grid_row": null,
      "grid_template_areas": null,
      "grid_template_columns": null,
      "grid_template_rows": null,
      "height": null,
      "justify_content": null,
      "justify_items": null,
      "left": null,
      "margin": null,
      "max_height": null,
      "max_width": null,
      "min_height": null,
      "min_width": null,
      "object_fit": null,
      "object_position": null,
      "order": null,
      "overflow": null,
      "overflow_x": null,
      "overflow_y": null,
      "padding": null,
      "right": null,
      "top": null,
      "visibility": null,
      "width": "45%"
     }
    },
    "4a25edf06c754e2588e19114fa7e928c": {
     "model_module": "@jupyter-widgets/controls",
     "model_module_version": "1.5.0",
     "model_name": "RadioButtonsModel",
     "state": {
      "_dom_classes": [],
      "_model_module": "@jupyter-widgets/controls",
      "_model_module_version": "1.5.0",
      "_model_name": "RadioButtonsModel",
      "_options_labels": [
       "Basic: Automatic check of empty cells and manual check of incorrect cells in the movies.csv",
       "Advanced: Basic + Check format and metadata of each movie"
      ],
      "_view_count": null,
      "_view_module": "@jupyter-widgets/controls",
      "_view_module_version": "1.5.0",
      "_view_name": "RadioButtonsView",
      "description": "What method you want to use to review the movies:",
      "description_tooltip": null,
      "disabled": false,
      "index": 0,
      "layout": "IPY_MODEL_742f2371b32a462085587998910c0a0f",
      "style": "IPY_MODEL_563eee309abd4e598285d76f390b9120"
     }
    },
    "4c34ee6f9d7046f59cbaae566f561887": {
     "model_module": "@jupyter-widgets/controls",
     "model_module_version": "1.5.0",
     "model_name": "SelectionRangeSliderModel",
     "state": {
      "_dom_classes": [],
      "_model_module": "@jupyter-widgets/controls",
      "_model_module_version": "1.5.0",
      "_model_name": "SelectionRangeSliderModel",
      "_options_labels": [
       "0",
       "1",
       "2",
       "3",
       "4",
       "5",
       "6",
       "7",
       "8",
       "9",
       "10",
       "11",
       "12",
       "13",
       "14",
       "15",
       "16",
       "17",
       "18",
       "19",
       "20",
       "21",
       "22",
       "23",
       "24",
       "25",
       "26",
       "27",
       "28",
       "29",
       "30",
       "31",
       "32",
       "33",
       "34",
       "35",
       "36",
       "37",
       "38",
       "39",
       "40",
       "41",
       "42",
       "43",
       "44",
       "45",
       "46",
       "47",
       "48",
       "49",
       "50",
       "51",
       "52",
       "53",
       "54",
       "55",
       "56",
       "57",
       "58",
       "59",
       "60",
       "61",
       "62",
       "63",
       "64",
       "65",
       "66"
      ],
      "_view_count": null,
      "_view_module": "@jupyter-widgets/controls",
      "_view_module_version": "1.5.0",
      "_view_name": "SelectionRangeSliderView",
      "continuous_update": true,
      "description": "Rows to display",
      "description_tooltip": null,
      "disabled": false,
      "index": [
       0,
       7
      ],
      "layout": "IPY_MODEL_fde4f49d19c3467b9a5cdaeb748b054e",
      "orientation": "horizontal",
      "readout": true,
      "style": "IPY_MODEL_63ca2576e9e74ab68a91fe6c52617135"
     }
    },
    "4df4a4824822467cb29b505ceae8f77e": {
     "model_module": "@jupyter-widgets/base",
     "model_module_version": "1.2.0",
     "model_name": "LayoutModel",
     "state": {
      "_model_module": "@jupyter-widgets/base",
      "_model_module_version": "1.2.0",
      "_model_name": "LayoutModel",
      "_view_count": null,
      "_view_module": "@jupyter-widgets/base",
      "_view_module_version": "1.2.0",
      "_view_name": "LayoutView",
      "align_content": null,
      "align_items": null,
      "align_self": null,
      "border": null,
      "bottom": null,
      "display": null,
      "flex": null,
      "flex_flow": null,
      "grid_area": null,
      "grid_auto_columns": null,
      "grid_auto_flow": null,
      "grid_auto_rows": null,
      "grid_column": null,
      "grid_gap": null,
      "grid_row": null,
      "grid_template_areas": null,
      "grid_template_columns": null,
      "grid_template_rows": null,
      "height": "auto",
      "justify_content": null,
      "justify_items": null,
      "left": null,
      "margin": null,
      "max_height": null,
      "max_width": null,
      "min_height": null,
      "min_width": null,
      "object_fit": null,
      "object_position": null,
      "order": null,
      "overflow": null,
      "overflow_x": null,
      "overflow_y": null,
      "padding": null,
      "right": null,
      "top": null,
      "visibility": null,
      "width": "auto"
     }
    },
    "5372de93af684fd3a41ea7734a58d17a": {
     "model_module": "@jupyter-widgets/base",
     "model_module_version": "1.2.0",
     "model_name": "LayoutModel",
     "state": {
      "_model_module": "@jupyter-widgets/base",
      "_model_module_version": "1.2.0",
      "_model_name": "LayoutModel",
      "_view_count": null,
      "_view_module": "@jupyter-widgets/base",
      "_view_module_version": "1.2.0",
      "_view_name": "LayoutView",
      "align_content": null,
      "align_items": null,
      "align_self": null,
      "border": null,
      "bottom": null,
      "display": null,
      "flex": null,
      "flex_flow": null,
      "grid_area": null,
      "grid_auto_columns": null,
      "grid_auto_flow": null,
      "grid_auto_rows": null,
      "grid_column": null,
      "grid_gap": null,
      "grid_row": null,
      "grid_template_areas": null,
      "grid_template_columns": null,
      "grid_template_rows": null,
      "height": null,
      "justify_content": null,
      "justify_items": null,
      "left": null,
      "margin": null,
      "max_height": null,
      "max_width": null,
      "min_height": null,
      "min_width": null,
      "object_fit": null,
      "object_position": null,
      "order": null,
      "overflow": null,
      "overflow_x": null,
      "overflow_y": null,
      "padding": null,
      "right": null,
      "top": null,
      "visibility": null,
      "width": null
     }
    },
    "563eee309abd4e598285d76f390b9120": {
     "model_module": "@jupyter-widgets/controls",
     "model_module_version": "1.5.0",
     "model_name": "DescriptionStyleModel",
     "state": {
      "_model_module": "@jupyter-widgets/controls",
      "_model_module_version": "1.5.0",
      "_model_name": "DescriptionStyleModel",
      "_view_count": null,
      "_view_module": "@jupyter-widgets/base",
      "_view_module_version": "1.2.0",
      "_view_name": "StyleView",
      "description_width": "initial"
     }
    },
    "59e933f5d926462884ee7ff7cc47339a": {
     "model_module": "@jupyter-widgets/controls",
     "model_module_version": "1.5.0",
     "model_name": "HBoxModel",
     "state": {
      "_dom_classes": [],
      "_model_module": "@jupyter-widgets/controls",
      "_model_module_version": "1.5.0",
      "_model_name": "HBoxModel",
      "_view_count": null,
      "_view_module": "@jupyter-widgets/controls",
      "_view_module_version": "1.5.0",
      "_view_name": "HBoxView",
      "box_style": "",
      "children": [
       "IPY_MODEL_b561b0caa6ac43a79b3a9021b3462450",
       "IPY_MODEL_340be5c29e21429fbc98aa93a8a350bb"
      ],
      "layout": "IPY_MODEL_5372de93af684fd3a41ea7734a58d17a"
     }
    },
    "5a0d46a90d804062909580d44e6ce52a": {
     "model_module": "@jupyter-widgets/controls",
     "model_module_version": "1.5.0",
     "model_name": "ButtonStyleModel",
     "state": {
      "_model_module": "@jupyter-widgets/controls",
      "_model_module_version": "1.5.0",
      "_model_name": "ButtonStyleModel",
      "_view_count": null,
      "_view_module": "@jupyter-widgets/base",
      "_view_module_version": "1.2.0",
      "_view_name": "StyleView",
      "button_color": null,
      "font_weight": ""
     }
    },
    "5df6320bad73494bb50aca3b380cce71": {
     "model_module": "@jupyter-widgets/base",
     "model_module_version": "1.2.0",
     "model_name": "LayoutModel",
     "state": {
      "_model_module": "@jupyter-widgets/base",
      "_model_module_version": "1.2.0",
      "_model_name": "LayoutModel",
      "_view_count": null,
      "_view_module": "@jupyter-widgets/base",
      "_view_module_version": "1.2.0",
      "_view_name": "LayoutView",
      "align_content": null,
      "align_items": null,
      "align_self": null,
      "border": null,
      "bottom": null,
      "display": null,
      "flex": null,
      "flex_flow": null,
      "grid_area": null,
      "grid_auto_columns": null,
      "grid_auto_flow": null,
      "grid_auto_rows": null,
      "grid_column": null,
      "grid_gap": null,
      "grid_row": null,
      "grid_template_areas": null,
      "grid_template_columns": null,
      "grid_template_rows": null,
      "height": "auto",
      "justify_content": null,
      "justify_items": null,
      "left": null,
      "margin": null,
      "max_height": null,
      "max_width": null,
      "min_height": null,
      "min_width": null,
      "object_fit": null,
      "object_position": null,
      "order": null,
      "overflow": null,
      "overflow_x": null,
      "overflow_y": null,
      "padding": null,
      "right": null,
      "top": null,
      "visibility": null,
      "width": "auto"
     }
    },
    "5e2f492af2744af2ac61078db5bbb099": {
     "model_module": "ipysheet",
     "model_module_version": "~0.4.4",
     "model_name": "CellRangeModel",
     "state": {
      "_model_module": "ipysheet",
      "_model_module_version": "~0.4.4",
      "_model_name": "CellRangeModel",
      "_view_count": null,
      "_view_module": null,
      "_view_module_version": "",
      "_view_name": null,
      "choice": null,
      "column_end": 2,
      "column_start": 2,
      "date_format": "YYYY/MM/DD",
      "name": null,
      "numeric_format": "0.000",
      "read_only": false,
      "renderer": null,
      "row_end": 4,
      "row_start": 0,
      "squeeze_column": true,
      "squeeze_row": false,
      "style": {},
      "time_format": "h:mm:ss a",
      "transpose": false,
      "type": "numeric",
      "value": [
       -39.052281,
       -39.057633,
       -39.04892,
       -39.046859,
       -39.053019
      ]
     }
    },
    "63ca2576e9e74ab68a91fe6c52617135": {
     "model_module": "@jupyter-widgets/controls",
     "model_module_version": "1.5.0",
     "model_name": "DescriptionStyleModel",
     "state": {
      "_model_module": "@jupyter-widgets/controls",
      "_model_module_version": "1.5.0",
      "_model_name": "DescriptionStyleModel",
      "_view_count": null,
      "_view_module": "@jupyter-widgets/base",
      "_view_module_version": "1.2.0",
      "_view_name": "StyleView",
      "description_width": "initial"
     }
    },
    "6724f9946b504dcdb12968da9b295af4": {
     "model_module": "@jupyter-widgets/controls",
     "model_module_version": "1.5.0",
     "model_name": "ButtonModel",
     "state": {
      "_dom_classes": [],
      "_model_module": "@jupyter-widgets/controls",
      "_model_module_version": "1.5.0",
      "_model_name": "ButtonModel",
      "_view_count": null,
      "_view_module": "@jupyter-widgets/controls",
      "_view_module_version": "1.5.0",
      "_view_name": "ButtonView",
      "button_style": "danger",
      "description": "Yes, details are correct",
      "disabled": false,
      "icon": "",
      "layout": "IPY_MODEL_ba75d30eb41a41209d03784ce7b635a7",
      "style": "IPY_MODEL_19526795fde746619486247e0191020b",
      "tooltip": ""
     }
    },
    "699fe41237734ad49c4c512da16245e2": {
     "model_module": "@jupyter-widgets/controls",
     "model_module_version": "1.5.0",
     "model_name": "DropdownModel",
     "state": {
      "_dom_classes": [],
      "_model_module": "@jupyter-widgets/controls",
      "_model_module_version": "1.5.0",
      "_model_name": "DropdownModel",
      "_options_labels": [
       "Template project",
       "Koster_Seafloor_Obs",
       "Spyfish_Aotearoa",
       "SGU",
       "Medins"
      ],
      "_view_count": null,
      "_view_module": "@jupyter-widgets/controls",
      "_view_module_version": "1.5.0",
      "_view_name": "DropdownView",
      "description": "Project:",
      "description_tooltip": null,
      "disabled": false,
      "index": 0,
      "layout": "IPY_MODEL_f180b7de12d047518b6f76b355efa933",
      "style": "IPY_MODEL_fc414e81cd3344b59c3686bfe9279f3a"
     }
    },
    "73205b363a194539a3de6c67b1ea29bf": {
     "model_module": "ipysheet",
     "model_module_version": "~0.4.4",
     "model_name": "SheetModel",
     "state": {
      "_dom_classes": [],
      "_model_module": "ipysheet",
      "_model_module_version": "~0.4.4",
      "_model_name": "SheetModel",
      "_view_count": null,
      "_view_module": "ipysheet",
      "_view_module_version": "~0.4.4",
      "_view_name": "SheetView",
      "cells": [
       "IPY_MODEL_bfd320b4f6c04186bf56422ee8eb4fd7",
       "IPY_MODEL_f6ce1f1f502b4174b7276b38fe3089b7",
       "IPY_MODEL_424b34e7729a4714b8d6a369873578b0",
       "IPY_MODEL_8d8593f5858c4e5b98cd41c7208cc3e2",
       "IPY_MODEL_29a95efcac764cb2b2ee25f1fac50517",
       "IPY_MODEL_d71b5415cfa74b0aa7a36e691b746f9d",
       "IPY_MODEL_23edbd83d87746aab344c9c28960d865",
       "IPY_MODEL_88933e2a415d4bff958197111903478d",
       "IPY_MODEL_c347fe79f742468785cbf85d2db483c5",
       "IPY_MODEL_f72762d8897042c2ab80e9629bfaaea6"
      ],
      "column_headers": [
       "movie_id",
       "filename",
       "siteName",
       "created_on",
       "author",
       "fps",
       "duration",
       "sampling_start",
       "sampling_end",
       "fpath"
      ],
      "column_resizing": true,
      "column_width": null,
      "columns": 10,
      "layout": "IPY_MODEL_5df6320bad73494bb50aca3b380cce71",
      "named_cells": {},
      "row_headers": [
       "0",
       "1",
       "2",
       "3",
       "4"
      ],
      "row_resizing": true,
      "rows": 5,
      "search_token": "",
      "stretch_headers": "all"
     }
    },
    "742f2371b32a462085587998910c0a0f": {
     "model_module": "@jupyter-widgets/base",
     "model_module_version": "1.2.0",
     "model_name": "LayoutModel",
     "state": {
      "_model_module": "@jupyter-widgets/base",
      "_model_module_version": "1.2.0",
      "_model_name": "LayoutModel",
      "_view_count": null,
      "_view_module": "@jupyter-widgets/base",
      "_view_module_version": "1.2.0",
      "_view_name": "LayoutView",
      "align_content": null,
      "align_items": null,
      "align_self": null,
      "border": null,
      "bottom": null,
      "display": null,
      "flex": null,
      "flex_flow": null,
      "grid_area": null,
      "grid_auto_columns": null,
      "grid_auto_flow": null,
      "grid_auto_rows": null,
      "grid_column": null,
      "grid_gap": null,
      "grid_row": null,
      "grid_template_areas": null,
      "grid_template_columns": null,
      "grid_template_rows": null,
      "height": null,
      "justify_content": null,
      "justify_items": null,
      "left": null,
      "margin": null,
      "max_height": null,
      "max_width": null,
      "min_height": null,
      "min_width": null,
      "object_fit": null,
      "object_position": null,
      "order": null,
      "overflow": null,
      "overflow_x": null,
      "overflow_y": null,
      "padding": null,
      "right": null,
      "top": null,
      "visibility": null,
      "width": "95%"
     }
    },
    "7acf15ecc940473b9190fc4de487790d": {
     "model_module": "@jupyter-widgets/controls",
     "model_module_version": "1.5.0",
     "model_name": "SelectionRangeSliderModel",
     "state": {
      "_dom_classes": [],
      "_model_module": "@jupyter-widgets/controls",
      "_model_module_version": "1.5.0",
      "_model_name": "SelectionRangeSliderModel",
      "_options_labels": [
       "0",
       "1",
       "2",
       "3",
       "4",
       "5"
      ],
      "_view_count": null,
      "_view_module": "@jupyter-widgets/controls",
      "_view_module_version": "1.5.0",
      "_view_name": "SelectionRangeSliderView",
      "continuous_update": true,
      "description": "Rows to display",
      "description_tooltip": null,
      "disabled": false,
      "index": [
       0,
       5
      ],
      "layout": "IPY_MODEL_84a66f38e12e428f9ec5d03f8229efaa",
      "orientation": "horizontal",
      "readout": true,
      "style": "IPY_MODEL_261b652187df4a418d71c6dcf8ac8320"
     }
    },
    "84a66f38e12e428f9ec5d03f8229efaa": {
     "model_module": "@jupyter-widgets/base",
     "model_module_version": "1.2.0",
     "model_name": "LayoutModel",
     "state": {
      "_model_module": "@jupyter-widgets/base",
      "_model_module_version": "1.2.0",
      "_model_name": "LayoutModel",
      "_view_count": null,
      "_view_module": "@jupyter-widgets/base",
      "_view_module_version": "1.2.0",
      "_view_name": "LayoutView",
      "align_content": null,
      "align_items": null,
      "align_self": null,
      "border": null,
      "bottom": null,
      "display": null,
      "flex": null,
      "flex_flow": null,
      "grid_area": null,
      "grid_auto_columns": null,
      "grid_auto_flow": null,
      "grid_auto_rows": null,
      "grid_column": null,
      "grid_gap": null,
      "grid_row": null,
      "grid_template_areas": null,
      "grid_template_columns": null,
      "grid_template_rows": null,
      "height": null,
      "justify_content": null,
      "justify_items": null,
      "left": null,
      "margin": null,
      "max_height": null,
      "max_width": null,
      "min_height": null,
      "min_width": null,
      "object_fit": null,
      "object_position": null,
      "order": null,
      "overflow": null,
      "overflow_x": null,
      "overflow_y": null,
      "padding": "35px",
      "right": null,
      "top": null,
      "visibility": null,
      "width": "90%"
     }
    },
    "852caaa46fc4461181dadae3b5f58a60": {
     "model_module": "@jupyter-widgets/controls",
     "model_module_version": "1.5.0",
     "model_name": "DropdownModel",
     "state": {
      "_dom_classes": [],
      "_model_module": "@jupyter-widgets/controls",
      "_model_module_version": "1.5.0",
      "_model_name": "DropdownModel",
      "_options_labels": [
       "movie_1.mp4",
       "movie_2.mp4",
       "movie_3.mp4",
       "movie_4.mp4",
       "movie_5.mp4"
      ],
      "_view_count": null,
      "_view_module": "@jupyter-widgets/controls",
      "_view_module_version": "1.5.0",
      "_view_name": "DropdownView",
      "description": "Movie of interest:",
      "description_tooltip": null,
      "disabled": false,
      "index": 0,
      "layout": "IPY_MODEL_c6aab28f5934420d9d997d7d5eb0670c",
      "style": "IPY_MODEL_d00fff85d59a489bb03cc5b4e9469dac"
     }
    },
    "88933e2a415d4bff958197111903478d": {
     "model_module": "ipysheet",
     "model_module_version": "~0.4.4",
     "model_name": "CellRangeModel",
     "state": {
      "_model_module": "ipysheet",
      "_model_module_version": "~0.4.4",
      "_model_name": "CellRangeModel",
      "_view_count": null,
      "_view_module": null,
      "_view_module_version": "",
      "_view_name": null,
      "choice": null,
      "column_end": 7,
      "column_start": 7,
      "date_format": "YYYY/MM/DD",
      "name": null,
      "numeric_format": "0.000",
      "read_only": false,
      "renderer": null,
      "row_end": 4,
      "row_start": 0,
      "squeeze_column": true,
      "squeeze_row": false,
      "style": {},
      "time_format": "h:mm:ss a",
      "transpose": false,
      "type": "numeric",
      "value": [
       0,
       0,
       0,
       0,
       0
      ]
     }
    },
    "892172af9888451f827a680a16131e1b": {
     "model_module": "@jupyter-widgets/controls",
     "model_module_version": "1.5.0",
     "model_name": "HBoxModel",
     "state": {
      "_dom_classes": [],
      "_model_module": "@jupyter-widgets/controls",
      "_model_module_version": "1.5.0",
      "_model_name": "HBoxModel",
      "_view_count": null,
      "_view_module": "@jupyter-widgets/controls",
      "_view_module_version": "1.5.0",
      "_view_name": "HBoxView",
      "box_style": "",
      "children": [
       "IPY_MODEL_6724f9946b504dcdb12968da9b295af4",
       "IPY_MODEL_e82d84e6d4124c6dbf877ed68bc1d6a4"
      ],
      "layout": "IPY_MODEL_228ee1c9f12e43d49b8b1be5af56d462"
     }
    },
    "8bd1ad9f726e4657971f84bd1b9ebe1a": {
     "model_module": "ipysheet",
     "model_module_version": "~0.4.4",
     "model_name": "CellRangeModel",
     "state": {
      "_model_module": "ipysheet",
      "_model_module_version": "~0.4.4",
      "_model_name": "CellRangeModel",
      "_view_count": null,
      "_view_module": null,
      "_view_module_version": "",
      "_view_name": null,
      "choice": null,
      "column_end": 5,
      "column_start": 5,
      "date_format": "YYYY/MM/DD",
      "name": null,
      "numeric_format": null,
      "read_only": false,
      "renderer": null,
      "row_end": 4,
      "row_start": 0,
      "squeeze_column": true,
      "squeeze_row": false,
      "style": {},
      "time_format": "h:mm:ss a",
      "transpose": false,
      "type": "text",
      "value": [
       "NZ",
       "NZ",
       "NZ",
       "NZ",
       "NZ"
      ]
     }
    },
    "8d8593f5858c4e5b98cd41c7208cc3e2": {
     "model_module": "ipysheet",
     "model_module_version": "~0.4.4",
     "model_name": "CellRangeModel",
     "state": {
      "_model_module": "ipysheet",
      "_model_module_version": "~0.4.4",
      "_model_name": "CellRangeModel",
      "_view_count": null,
      "_view_module": null,
      "_view_module_version": "",
      "_view_name": null,
      "choice": null,
      "column_end": 3,
      "column_start": 3,
      "date_format": "YYYY/MM/DD",
      "name": null,
      "numeric_format": null,
      "read_only": false,
      "renderer": null,
      "row_end": 4,
      "row_start": 0,
      "squeeze_column": true,
      "squeeze_row": false,
      "style": {},
      "time_format": "h:mm:ss a",
      "transpose": false,
      "type": "text",
      "value": [
       "13/08/2021",
       "13/08/2021",
       "13/08/2021",
       "18/08/2021",
       "18/08/2021"
      ]
     }
    },
    "91941740f177482f84c158a9978fdc2d": {
     "model_module": "ipysheet",
     "model_module_version": "~0.4.4",
     "model_name": "CellRangeModel",
     "state": {
      "_model_module": "ipysheet",
      "_model_module_version": "~0.4.4",
      "_model_name": "CellRangeModel",
      "_view_count": null,
      "_view_module": null,
      "_view_module_version": "",
      "_view_name": null,
      "choice": null,
      "column_end": 1,
      "column_start": 1,
      "date_format": "YYYY/MM/DD",
      "name": null,
      "numeric_format": null,
      "read_only": false,
      "renderer": null,
      "row_end": 6,
      "row_start": 0,
      "squeeze_column": true,
      "squeeze_row": false,
      "style": {},
      "time_format": "h:mm:ss a",
      "transpose": false,
      "type": "text",
      "value": [
       "Fan-shaped sponge",
       "Football sponge",
       "Sponge (any species)",
       "Dead man's fingers",
       "Deeplet sea anemone",
       "Common sea pen",
       "Tall sea pen"
      ]
     }
    },
    "a5eb3bc8282a44a7bc08300e739d0c71": {
     "model_module": "ipysheet",
     "model_module_version": "~0.4.4",
     "model_name": "SheetModel",
     "state": {
      "_dom_classes": [],
      "_model_module": "ipysheet",
      "_model_module_version": "~0.4.4",
      "_model_name": "SheetModel",
      "_view_count": null,
      "_view_module": "ipysheet",
      "_view_module_version": "~0.4.4",
      "_view_name": "SheetView",
      "cells": [
       "IPY_MODEL_172303d0cf9d42608eccbb9779a15ebd",
       "IPY_MODEL_46f19dbc7a2b402db1f827984bd46118",
       "IPY_MODEL_5e2f492af2744af2ac61078db5bbb099",
       "IPY_MODEL_e65923a639df4d25bcff24e3459ec4ad",
       "IPY_MODEL_245a95fee4ae46189d2dd78a0b653ede",
       "IPY_MODEL_8bd1ad9f726e4657971f84bd1b9ebe1a"
      ],
      "column_headers": [
       "site_id",
       "siteName",
       "decimalLatitude",
       "decimalLongitude",
       "geodeticDatum",
       "countryCode"
      ],
      "column_resizing": true,
      "column_width": null,
      "columns": 6,
      "layout": "IPY_MODEL_4df4a4824822467cb29b505ceae8f77e",
      "named_cells": {},
      "row_headers": [
       "0",
       "1",
       "2",
       "3",
       "4"
      ],
      "row_resizing": true,
      "rows": 5,
      "search_token": "",
      "stretch_headers": "all"
     }
    },
    "b561b0caa6ac43a79b3a9021b3462450": {
     "model_module": "@jupyter-widgets/controls",
     "model_module_version": "1.5.0",
     "model_name": "ButtonModel",
     "state": {
      "_dom_classes": [],
      "_model_module": "@jupyter-widgets/controls",
      "_model_module_version": "1.5.0",
      "_model_name": "ButtonModel",
      "_view_count": null,
      "_view_module": "@jupyter-widgets/controls",
      "_view_module_version": "1.5.0",
      "_view_name": "ButtonView",
      "button_style": "danger",
      "description": "Yes, details are correct",
      "disabled": false,
      "icon": "",
      "layout": "IPY_MODEL_0bda1d04075149af8e383171257b6d90",
      "style": "IPY_MODEL_c73d7620e9234948a0ce4d093cb09a5b",
      "tooltip": ""
     }
    },
    "b87d3bc228814761a48defda2a346078": {
     "model_module": "ipysheet",
     "model_module_version": "~0.4.4",
     "model_name": "CellRangeModel",
     "state": {
      "_model_module": "ipysheet",
      "_model_module_version": "~0.4.4",
      "_model_name": "CellRangeModel",
      "_view_count": null,
      "_view_module": null,
      "_view_module_version": "",
      "_view_name": null,
      "choice": null,
      "column_end": 4,
      "column_start": 4,
      "date_format": "YYYY/MM/DD",
      "name": null,
      "numeric_format": null,
      "read_only": false,
      "renderer": null,
      "row_end": 6,
      "row_start": 0,
      "squeeze_column": true,
      "squeeze_row": false,
      "style": {},
      "time_format": "h:mm:ss a",
      "transpose": false,
      "type": "text",
      "value": [
       "Animalia",
       "Animalia",
       "Animalia",
       "Animalia",
       "Animalia",
       "Animalia",
       "Animalia"
      ]
     }
    },
    "ba75d30eb41a41209d03784ce7b635a7": {
     "model_module": "@jupyter-widgets/base",
     "model_module_version": "1.2.0",
     "model_name": "LayoutModel",
     "state": {
      "_model_module": "@jupyter-widgets/base",
      "_model_module_version": "1.2.0",
      "_model_name": "LayoutModel",
      "_view_count": null,
      "_view_module": "@jupyter-widgets/base",
      "_view_module_version": "1.2.0",
      "_view_name": "LayoutView",
      "align_content": null,
      "align_items": null,
      "align_self": null,
      "border": null,
      "bottom": null,
      "display": null,
      "flex": null,
      "flex_flow": null,
      "grid_area": null,
      "grid_auto_columns": null,
      "grid_auto_flow": null,
      "grid_auto_rows": null,
      "grid_column": null,
      "grid_gap": null,
      "grid_row": null,
      "grid_template_areas": null,
      "grid_template_columns": null,
      "grid_template_rows": null,
      "height": null,
      "justify_content": null,
      "justify_items": null,
      "left": null,
      "margin": null,
      "max_height": null,
      "max_width": null,
      "min_height": null,
      "min_width": null,
      "object_fit": null,
      "object_position": null,
      "order": null,
      "overflow": null,
      "overflow_x": null,
      "overflow_y": null,
      "padding": null,
      "right": null,
      "top": null,
      "visibility": null,
      "width": "25%"
     }
    },
    "be4500d5507c4dffacc52790594d58ff": {
     "model_module": "ipysheet",
     "model_module_version": "~0.4.4",
     "model_name": "CellRangeModel",
     "state": {
      "_model_module": "ipysheet",
      "_model_module_version": "~0.4.4",
      "_model_name": "CellRangeModel",
      "_view_count": null,
      "_view_module": null,
      "_view_module_version": "",
      "_view_name": null,
      "choice": null,
      "column_end": 3,
      "column_start": 3,
      "date_format": "YYYY/MM/DD",
      "name": null,
      "numeric_format": null,
      "read_only": false,
      "renderer": null,
      "row_end": 6,
      "row_start": 0,
      "squeeze_column": true,
      "squeeze_row": false,
      "style": {},
      "time_format": "h:mm:ss a",
      "transpose": false,
      "type": "text",
      "value": [
       "species",
       "species",
       "phylum",
       "species",
       "species",
       "species",
       "species"
      ]
     }
    },
    "bfd320b4f6c04186bf56422ee8eb4fd7": {
     "model_module": "ipysheet",
     "model_module_version": "~0.4.4",
     "model_name": "CellRangeModel",
     "state": {
      "_model_module": "ipysheet",
      "_model_module_version": "~0.4.4",
      "_model_name": "CellRangeModel",
      "_view_count": null,
      "_view_module": null,
      "_view_module_version": "",
      "_view_name": null,
      "choice": null,
      "column_end": 0,
      "column_start": 0,
      "date_format": "YYYY/MM/DD",
      "name": null,
      "numeric_format": "0[.]0",
      "read_only": false,
      "renderer": null,
      "row_end": 4,
      "row_start": 0,
      "squeeze_column": true,
      "squeeze_row": false,
      "style": {},
      "time_format": "h:mm:ss a",
      "transpose": false,
      "type": "numeric",
      "value": [
       1,
       2,
       3,
       4,
       5
      ]
     }
    },
    "c347fe79f742468785cbf85d2db483c5": {
     "model_module": "ipysheet",
     "model_module_version": "~0.4.4",
     "model_name": "CellRangeModel",
     "state": {
      "_model_module": "ipysheet",
      "_model_module_version": "~0.4.4",
      "_model_name": "CellRangeModel",
      "_view_count": null,
      "_view_module": null,
      "_view_module_version": "",
      "_view_name": null,
      "choice": null,
      "column_end": 8,
      "column_start": 8,
      "date_format": "YYYY/MM/DD",
      "name": null,
      "numeric_format": "0.000",
      "read_only": false,
      "renderer": null,
      "row_end": 4,
      "row_start": 0,
      "squeeze_column": true,
      "squeeze_row": false,
      "style": {},
      "time_format": "h:mm:ss a",
      "transpose": false,
      "type": "numeric",
      "value": [
       10.12,
       10.043366666666667,
       10.01,
       10.08,
       10.01
      ]
     }
    },
    "c66af36debff49049a36621a79bbcc1c": {
     "model_module": "@jupyter-widgets/controls",
     "model_module_version": "1.5.0",
     "model_name": "DescriptionStyleModel",
     "state": {
      "_model_module": "@jupyter-widgets/controls",
      "_model_module_version": "1.5.0",
      "_model_name": "DescriptionStyleModel",
      "_view_count": null,
      "_view_module": "@jupyter-widgets/base",
      "_view_module_version": "1.2.0",
      "_view_name": "StyleView",
      "description_width": "initial"
     }
    },
    "c6aab28f5934420d9d997d7d5eb0670c": {
     "model_module": "@jupyter-widgets/base",
     "model_module_version": "1.2.0",
     "model_name": "LayoutModel",
     "state": {
      "_model_module": "@jupyter-widgets/base",
      "_model_module_version": "1.2.0",
      "_model_name": "LayoutModel",
      "_view_count": null,
      "_view_module": "@jupyter-widgets/base",
      "_view_module_version": "1.2.0",
      "_view_name": "LayoutView",
      "align_content": null,
      "align_items": null,
      "align_self": null,
      "border": null,
      "bottom": null,
      "display": null,
      "flex": null,
      "flex_flow": null,
      "grid_area": null,
      "grid_auto_columns": null,
      "grid_auto_flow": null,
      "grid_auto_rows": null,
      "grid_column": null,
      "grid_gap": null,
      "grid_row": null,
      "grid_template_areas": null,
      "grid_template_columns": null,
      "grid_template_rows": null,
      "height": null,
      "justify_content": null,
      "justify_items": null,
      "left": null,
      "margin": null,
      "max_height": null,
      "max_width": null,
      "min_height": null,
      "min_width": null,
      "object_fit": null,
      "object_position": null,
      "order": null,
      "overflow": null,
      "overflow_x": null,
      "overflow_y": null,
      "padding": null,
      "right": null,
      "top": null,
      "visibility": null,
      "width": "50%"
     }
    },
    "c73d7620e9234948a0ce4d093cb09a5b": {
     "model_module": "@jupyter-widgets/controls",
     "model_module_version": "1.5.0",
     "model_name": "ButtonStyleModel",
     "state": {
      "_model_module": "@jupyter-widgets/controls",
      "_model_module_version": "1.5.0",
      "_model_name": "ButtonStyleModel",
      "_view_count": null,
      "_view_module": "@jupyter-widgets/base",
      "_view_module_version": "1.2.0",
      "_view_name": "StyleView",
      "button_color": null,
      "font_weight": ""
     }
    },
    "c9abecf8c5e34b92805aa5f5904e115d": {
     "model_module": "@jupyter-widgets/controls",
     "model_module_version": "1.5.0",
     "model_name": "SelectionRangeSliderModel",
     "state": {
      "_dom_classes": [],
      "_model_module": "@jupyter-widgets/controls",
      "_model_module_version": "1.5.0",
      "_model_name": "SelectionRangeSliderModel",
      "_options_labels": [
       "0",
       "1",
       "2",
       "3",
       "4",
       "5"
      ],
      "_view_count": null,
      "_view_module": "@jupyter-widgets/controls",
      "_view_module_version": "1.5.0",
      "_view_name": "SelectionRangeSliderView",
      "continuous_update": true,
      "description": "Rows to display",
      "description_tooltip": null,
      "disabled": false,
      "index": [
       0,
       5
      ],
      "layout": "IPY_MODEL_cb7de36d0f274742b8eabd2d88823ae1",
      "orientation": "horizontal",
      "readout": true,
      "style": "IPY_MODEL_c66af36debff49049a36621a79bbcc1c"
     }
    },
    "cb7de36d0f274742b8eabd2d88823ae1": {
     "model_module": "@jupyter-widgets/base",
     "model_module_version": "1.2.0",
     "model_name": "LayoutModel",
     "state": {
      "_model_module": "@jupyter-widgets/base",
      "_model_module_version": "1.2.0",
      "_model_name": "LayoutModel",
      "_view_count": null,
      "_view_module": "@jupyter-widgets/base",
      "_view_module_version": "1.2.0",
      "_view_name": "LayoutView",
      "align_content": null,
      "align_items": null,
      "align_self": null,
      "border": null,
      "bottom": null,
      "display": null,
      "flex": null,
      "flex_flow": null,
      "grid_area": null,
      "grid_auto_columns": null,
      "grid_auto_flow": null,
      "grid_auto_rows": null,
      "grid_column": null,
      "grid_gap": null,
      "grid_row": null,
      "grid_template_areas": null,
      "grid_template_columns": null,
      "grid_template_rows": null,
      "height": null,
      "justify_content": null,
      "justify_items": null,
      "left": null,
      "margin": null,
      "max_height": null,
      "max_width": null,
      "min_height": null,
      "min_width": null,
      "object_fit": null,
      "object_position": null,
      "order": null,
      "overflow": null,
      "overflow_x": null,
      "overflow_y": null,
      "padding": "35px",
      "right": null,
      "top": null,
      "visibility": null,
      "width": "90%"
     }
    },
    "d00fff85d59a489bb03cc5b4e9469dac": {
     "model_module": "@jupyter-widgets/controls",
     "model_module_version": "1.5.0",
     "model_name": "DescriptionStyleModel",
     "state": {
      "_model_module": "@jupyter-widgets/controls",
      "_model_module_version": "1.5.0",
      "_model_name": "DescriptionStyleModel",
      "_view_count": null,
      "_view_module": "@jupyter-widgets/base",
      "_view_module_version": "1.2.0",
      "_view_name": "StyleView",
      "description_width": "initial"
     }
    },
    "d27dd78c068241149a845c7359486f9b": {
     "model_module": "ipysheet",
     "model_module_version": "~0.4.4",
     "model_name": "SheetModel",
     "state": {
      "_dom_classes": [],
      "_model_module": "ipysheet",
      "_model_module_version": "~0.4.4",
      "_model_name": "SheetModel",
      "_view_count": null,
      "_view_module": "ipysheet",
      "_view_module_version": "~0.4.4",
      "_view_name": "SheetView",
      "cells": [
       "IPY_MODEL_460ea62d323f4bad907fa6cb1c7b674d",
       "IPY_MODEL_91941740f177482f84c158a9978fdc2d",
       "IPY_MODEL_e79efc1e011d47578704dadeb511807e",
       "IPY_MODEL_be4500d5507c4dffacc52790594d58ff",
       "IPY_MODEL_b87d3bc228814761a48defda2a346078"
      ],
      "column_headers": [
       "species_id",
       "commonName",
       "scientificName",
       "taxonRank",
       "kingdom"
      ],
      "column_resizing": true,
      "column_width": null,
      "columns": 5,
      "layout": "IPY_MODEL_145d72546ec840b99ec6911bf77bbe84",
      "named_cells": {},
      "row_headers": [
       "0",
       "1",
       "2",
       "3",
       "4",
       "5",
       "6"
      ],
      "row_resizing": true,
      "rows": 7,
      "search_token": "",
      "stretch_headers": "all"
     }
    },
    "d71b5415cfa74b0aa7a36e691b746f9d": {
     "model_module": "ipysheet",
     "model_module_version": "~0.4.4",
     "model_name": "CellRangeModel",
     "state": {
      "_model_module": "ipysheet",
      "_model_module_version": "~0.4.4",
      "_model_name": "CellRangeModel",
      "_view_count": null,
      "_view_module": null,
      "_view_module_version": "",
      "_view_name": null,
      "choice": null,
      "column_end": 5,
      "column_start": 5,
      "date_format": "YYYY/MM/DD",
      "name": null,
      "numeric_format": "0.000",
      "read_only": false,
      "renderer": null,
      "row_end": 4,
      "row_start": 0,
      "squeeze_column": true,
      "squeeze_row": false,
      "style": {},
      "time_format": "h:mm:ss a",
      "transpose": false,
      "type": "numeric",
      "value": [
       25,
       29.97002997002997,
       29.97002997002997,
       25,
       29.97002997002997
      ]
     }
    },
    "d7e7650a5476475da39c4ebfe7a60974": {
     "model_module": "@jupyter-widgets/controls",
     "model_module_version": "1.5.0",
     "model_name": "ButtonStyleModel",
     "state": {
      "_model_module": "@jupyter-widgets/controls",
      "_model_module_version": "1.5.0",
      "_model_name": "ButtonStyleModel",
      "_view_count": null,
      "_view_module": "@jupyter-widgets/base",
      "_view_module_version": "1.2.0",
      "_view_name": "StyleView",
      "button_color": null,
      "font_weight": ""
     }
    },
    "e65923a639df4d25bcff24e3459ec4ad": {
     "model_module": "ipysheet",
     "model_module_version": "~0.4.4",
     "model_name": "CellRangeModel",
     "state": {
      "_model_module": "ipysheet",
      "_model_module_version": "~0.4.4",
      "_model_name": "CellRangeModel",
      "_view_count": null,
      "_view_module": null,
      "_view_module_version": "",
      "_view_name": null,
      "choice": null,
      "column_end": 3,
      "column_start": 3,
      "date_format": "YYYY/MM/DD",
      "name": null,
      "numeric_format": "0.000",
      "read_only": false,
      "renderer": null,
      "row_end": 4,
      "row_start": 0,
      "squeeze_column": true,
      "squeeze_row": false,
      "style": {},
      "time_format": "h:mm:ss a",
      "transpose": false,
      "type": "numeric",
      "value": [
       174.023941,
       174.018739,
       174.0296,
       174.014944,
       175.015039
      ]
     }
    },
    "e79efc1e011d47578704dadeb511807e": {
     "model_module": "ipysheet",
     "model_module_version": "~0.4.4",
     "model_name": "CellRangeModel",
     "state": {
      "_model_module": "ipysheet",
      "_model_module_version": "~0.4.4",
      "_model_name": "CellRangeModel",
      "_view_count": null,
      "_view_module": null,
      "_view_module_version": "",
      "_view_name": null,
      "choice": null,
      "column_end": 2,
      "column_start": 2,
      "date_format": "YYYY/MM/DD",
      "name": null,
      "numeric_format": null,
      "read_only": false,
      "renderer": null,
      "row_end": 6,
      "row_start": 0,
      "squeeze_column": true,
      "squeeze_row": false,
      "style": {},
      "time_format": "h:mm:ss a",
      "transpose": false,
      "type": "text",
      "value": [
       "Phakellia ventilabrum",
       "Geodia barretti",
       "Porifera std",
       "Alcyonium digitatum",
       "Bolocera tuediae",
       "Pennatula phosphorea",
       "Funiculina quadrangularis"
      ]
     }
    },
    "e82d84e6d4124c6dbf877ed68bc1d6a4": {
     "model_module": "@jupyter-widgets/controls",
     "model_module_version": "1.5.0",
     "model_name": "ButtonModel",
     "state": {
      "_dom_classes": [],
      "_model_module": "@jupyter-widgets/controls",
      "_model_module_version": "1.5.0",
      "_model_name": "ButtonModel",
      "_view_count": null,
      "_view_module": "@jupyter-widgets/controls",
      "_view_module_version": "1.5.0",
      "_view_name": "ButtonView",
      "button_style": "danger",
      "description": "No, I will go back and fix them",
      "disabled": false,
      "icon": "",
      "layout": "IPY_MODEL_472a4c27434e4239848275630d7a252f",
      "style": "IPY_MODEL_5a0d46a90d804062909580d44e6ce52a",
      "tooltip": ""
     }
    },
    "f180b7de12d047518b6f76b355efa933": {
     "model_module": "@jupyter-widgets/base",
     "model_module_version": "1.2.0",
     "model_name": "LayoutModel",
     "state": {
      "_model_module": "@jupyter-widgets/base",
      "_model_module_version": "1.2.0",
      "_model_name": "LayoutModel",
      "_view_count": null,
      "_view_module": "@jupyter-widgets/base",
      "_view_module_version": "1.2.0",
      "_view_name": "LayoutView",
      "align_content": null,
      "align_items": null,
      "align_self": null,
      "border": null,
      "bottom": null,
      "display": null,
      "flex": null,
      "flex_flow": null,
      "grid_area": null,
      "grid_auto_columns": null,
      "grid_auto_flow": null,
      "grid_auto_rows": null,
      "grid_column": null,
      "grid_gap": null,
      "grid_row": null,
      "grid_template_areas": null,
      "grid_template_columns": null,
      "grid_template_rows": null,
      "height": null,
      "justify_content": null,
      "justify_items": null,
      "left": null,
      "margin": null,
      "max_height": null,
      "max_width": null,
      "min_height": null,
      "min_width": null,
      "object_fit": null,
      "object_position": null,
      "order": null,
      "overflow": null,
      "overflow_x": null,
      "overflow_y": null,
      "padding": null,
      "right": null,
      "top": null,
      "visibility": null,
      "width": null
     }
    },
    "f6ce1f1f502b4174b7276b38fe3089b7": {
     "model_module": "ipysheet",
     "model_module_version": "~0.4.4",
     "model_name": "CellRangeModel",
     "state": {
      "_model_module": "ipysheet",
      "_model_module_version": "~0.4.4",
      "_model_name": "CellRangeModel",
      "_view_count": null,
      "_view_module": null,
      "_view_module_version": "",
      "_view_name": null,
      "choice": null,
      "column_end": 1,
      "column_start": 1,
      "date_format": "YYYY/MM/DD",
      "name": null,
      "numeric_format": null,
      "read_only": false,
      "renderer": null,
      "row_end": 4,
      "row_start": 0,
      "squeeze_column": true,
      "squeeze_row": false,
      "style": {},
      "time_format": "h:mm:ss a",
      "transpose": false,
      "type": "text",
      "value": [
       "movie_1.mp4",
       "movie_2.mp4",
       "movie_3.mp4",
       "movie_4.mp4",
       "movie_5.mp4"
      ]
     }
    },
    "f72762d8897042c2ab80e9629bfaaea6": {
     "model_module": "ipysheet",
     "model_module_version": "~0.4.4",
     "model_name": "CellRangeModel",
     "state": {
      "_model_module": "ipysheet",
      "_model_module_version": "~0.4.4",
      "_model_name": "CellRangeModel",
      "_view_count": null,
      "_view_module": null,
      "_view_module_version": "",
      "_view_name": null,
      "choice": null,
      "column_end": 9,
      "column_start": 9,
      "date_format": "YYYY/MM/DD",
      "name": null,
      "numeric_format": null,
      "read_only": false,
      "renderer": null,
      "row_end": 4,
      "row_start": 0,
      "squeeze_column": true,
      "squeeze_row": false,
      "style": {},
      "time_format": "h:mm:ss a",
      "transpose": false,
      "type": "text",
      "value": [
       "https://www.wildlife.ai/wp-content/uploads/2022/06/movie_1.mp4",
       "https://www.wildlife.ai/wp-content/uploads/2022/06/movie_2.mp4",
       "https://www.wildlife.ai/wp-content/uploads/2022/06/movie_3.mp4",
       "https://www.wildlife.ai/wp-content/uploads/2022/06/movie_4.mp4",
       "https://www.wildlife.ai/wp-content/uploads/2022/06/movie_5.mp4"
      ]
     }
    },
    "f7fe60e96990421a960c4a19ab10acee": {
     "model_module": "@jupyter-widgets/base",
     "model_module_version": "1.2.0",
     "model_name": "LayoutModel",
     "state": {
      "_model_module": "@jupyter-widgets/base",
      "_model_module_version": "1.2.0",
      "_model_name": "LayoutModel",
      "_view_count": null,
      "_view_module": "@jupyter-widgets/base",
      "_view_module_version": "1.2.0",
      "_view_name": "LayoutView",
      "align_content": null,
      "align_items": null,
      "align_self": null,
      "border": null,
      "bottom": null,
      "display": null,
      "flex": null,
      "flex_flow": null,
      "grid_area": null,
      "grid_auto_columns": null,
      "grid_auto_flow": null,
      "grid_auto_rows": null,
      "grid_column": null,
      "grid_gap": null,
      "grid_row": null,
      "grid_template_areas": null,
      "grid_template_columns": null,
      "grid_template_rows": null,
      "height": null,
      "justify_content": null,
      "justify_items": null,
      "left": null,
      "margin": null,
      "max_height": null,
      "max_width": null,
      "min_height": null,
      "min_width": null,
      "object_fit": null,
      "object_position": null,
      "order": null,
      "overflow": null,
      "overflow_x": null,
      "overflow_y": null,
      "padding": null,
      "right": null,
      "top": null,
      "visibility": null,
      "width": "45%"
     }
    },
    "fc414e81cd3344b59c3686bfe9279f3a": {
     "model_module": "@jupyter-widgets/controls",
     "model_module_version": "1.5.0",
     "model_name": "DescriptionStyleModel",
     "state": {
      "_model_module": "@jupyter-widgets/controls",
      "_model_module_version": "1.5.0",
      "_model_name": "DescriptionStyleModel",
      "_view_count": null,
      "_view_module": "@jupyter-widgets/base",
      "_view_module_version": "1.2.0",
      "_view_name": "StyleView",
      "description_width": ""
     }
    },
    "fde4f49d19c3467b9a5cdaeb748b054e": {
     "model_module": "@jupyter-widgets/base",
     "model_module_version": "1.2.0",
     "model_name": "LayoutModel",
     "state": {
      "_model_module": "@jupyter-widgets/base",
      "_model_module_version": "1.2.0",
      "_model_name": "LayoutModel",
      "_view_count": null,
      "_view_module": "@jupyter-widgets/base",
      "_view_module_version": "1.2.0",
      "_view_name": "LayoutView",
      "align_content": null,
      "align_items": null,
      "align_self": null,
      "border": null,
      "bottom": null,
      "display": null,
      "flex": null,
      "flex_flow": null,
      "grid_area": null,
      "grid_auto_columns": null,
      "grid_auto_flow": null,
      "grid_auto_rows": null,
      "grid_column": null,
      "grid_gap": null,
      "grid_row": null,
      "grid_template_areas": null,
      "grid_template_columns": null,
      "grid_template_rows": null,
      "height": null,
      "justify_content": null,
      "justify_items": null,
      "left": null,
      "margin": null,
      "max_height": null,
      "max_width": null,
      "min_height": null,
      "min_width": null,
      "object_fit": null,
      "object_position": null,
      "order": null,
      "overflow": null,
      "overflow_x": null,
      "overflow_y": null,
      "padding": "35px",
      "right": null,
      "top": null,
      "visibility": null,
      "width": "90%"
     }
    }
   }
  }
 },
 "nbformat": 4,
 "nbformat_minor": 5
}
