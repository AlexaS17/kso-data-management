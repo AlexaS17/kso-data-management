{
  "cells": [
    {
      "cell_type": "markdown",
      "id": "95aea466",
      "metadata": {
        "id": "95aea466"
      },
      "source": [
        "<img align=\"left\" src=\"https://panoptes-uploads.zooniverse.org/project_avatar/86c23ca7-bbaa-4e84-8d8a-876819551431.png\" type=\"image/png\" height=100 width=100>\n",
        "</img>\n",
        "\n",
        "\n",
        "<h1 align=\"right\">Colab KSO Tutorial #1: Check and update csv files</h1>\n",
        "<h3 align=\"right\">Written by @jannesgg and @vykanton</h3>\n",
        "<h5 align=\"right\">Last updated: Aug 16th, 2022</h5>"
      ]
    },
    {
      "cell_type": "markdown",
      "id": "6f0fc779",
      "metadata": {
        "id": "6f0fc779"
      },
      "source": [
        "# Set up and requirements"
      ]
    },
    {
      "cell_type": "markdown",
      "id": "3c49080c",
      "metadata": {
        "id": "3c49080c"
      },
      "source": [
        "## Install kso_data_management and its requirements"
      ]
    },
    {
      "cell_type": "code",
      "execution_count": null,
      "id": "e6a1555e",
      "metadata": {
        "id": "e6a1555e"
      },
      "outputs": [],
      "source": [
        "# Clone koster_data_management repo\n",
        "!git clone --recurse-submodules -b dev https://github.com/ocean-data-factory-sweden/koster_data_management.git\n",
        "!pip install -r koster_data_management/requirements.txt\n",
        "\n",
        "# Install ipysheet version compatible in colab\n",
        "!pip install ipysheet==0.4.4\n",
        "\n",
        "# Restart the session to load the latest packages\n",
        "exit()"
      ]
    },
    {
      "cell_type": "markdown",
      "id": "6b9b11d5",
      "metadata": {
        "id": "6b9b11d5"
      },
      "source": [
        "### Import Python packages"
      ]
    },
    {
      "cell_type": "code",
      "execution_count": null,
      "id": "46ca201f",
      "metadata": {
        "id": "46ca201f"
      },
      "outputs": [],
      "source": [
        "# Set the directory of the libraries\n",
        "import sys, os\n",
        "from pathlib import Path\n",
        "\n",
        "# Enables testing changes in utils\n",
        "%load_ext autoreload\n",
        "%autoreload 2\n",
        "\n",
        "# Specify the path of the tutorials\n",
        "os.chdir(\"koster_data_management/tutorials\")\n",
        "sys.path.append('..')\n",
        "\n",
        "# Enable third-party widgets(ipysheet)\n",
        "from google.colab import output\n",
        "output.enable_custom_widget_manager()\n",
        "\n",
        "# Import required modules\n",
        "import kso_utils.tutorials_utils as t_utils\n",
        "import kso_utils.project_utils as p_utils\n",
        "import kso_utils.t1_utils as t1\n",
        "\n",
        "print(\"Packages loaded successfully\")"
      ]
    },
    {
      "cell_type": "markdown",
      "id": "fdc7152a",
      "metadata": {
        "id": "fdc7152a"
      },
      "source": [
        "### Choose your project"
      ]
    },
    {
      "cell_type": "code",
      "execution_count": 2,
      "id": "1c1aabda",
      "metadata": {
        "id": "1c1aabda",
        "colab": {
          "base_uri": "https://localhost:8080/",
          "height": 49,
          "referenced_widgets": [
            "2b5ecdf6792d4c39b3ff36d9d80c878d",
            "8e892ed57d0b44feb9315ca80fa72470",
            "135eef7e047c497a99558f0131a91a42"
          ]
        },
        "outputId": "0e7fcbfc-8d2a-400f-db82-c423036bf672"
      },
      "outputs": [
        {
          "output_type": "display_data",
          "data": {
            "text/plain": [
              "Dropdown(description='Project:', options=('Template project', 'Koster_Seafloor_Obs', 'Spyfish_Aotearoa', 'SGU'…"
            ],
            "application/vnd.jupyter.widget-view+json": {
              "version_major": 2,
              "version_minor": 0,
              "model_id": "2b5ecdf6792d4c39b3ff36d9d80c878d"
            }
          },
          "metadata": {
            "application/vnd.jupyter.widget-view+json": {
              "colab": {
                "custom_widget_manager": {
                  "url": "https://ssl.gstatic.com/colaboratory-static/widgets/colab-cdn-widget-manager/d2e234f7cc04bf79/manager.min.js"
                }
              }
            }
          }
        }
      ],
      "source": [
        "project_name = t_utils.choose_project()"
      ]
    },
    {
      "cell_type": "markdown",
      "source": [
        "## Initiate database"
      ],
      "metadata": {
        "id": "2URxgu8PQDZh"
      },
      "id": "2URxgu8PQDZh"
    },
    {
      "cell_type": "code",
      "execution_count": 3,
      "id": "41994eb6",
      "metadata": {
        "id": "41994eb6",
        "colab": {
          "base_uri": "https://localhost:8080/"
        },
        "outputId": "03b273a6-55c4-496f-d471-db3cf26a7ddc"
      },
      "outputs": [
        {
          "output_type": "stream",
          "name": "stderr",
          "text": [
            "Downloading...\n",
            "From: https://drive.google.com/uc?id=1PZGRoSY_UpyLfMhRphMUMwDXw4yx1_Fn\n",
            "To: /content/koster_data_management/tutorials/db_csv_info.zip\n",
            "100%|██████████| 2.25k/2.25k [00:00<00:00, 3.35MB/s]\n",
            "ERROR:root:The table movies has invalid entries, please ensure that all columns are non-zero\n",
            "ERROR:root:The invalid entries are    movie_id     filename  created_on  fps  duration  sampling_start  \\\n",
            "0         1  movie_1.mp4  13/08/2021  NaN       NaN             NaN   \n",
            "1         2  movie_2.mp4  13/08/2021  NaN       NaN             NaN   \n",
            "2         3  movie_3.mp4  13/08/2021  NaN       NaN             NaN   \n",
            "3         4  movie_4.mp4  18/08/2021  NaN       NaN             NaN   \n",
            "4         5  movie_5.mp4  18/08/2021  NaN       NaN             NaN   \n",
            "\n",
            "   sampling_end         Author  Site_id  \\\n",
            "0           NaN  Author_name_1        1   \n",
            "1           NaN  Author_name_2        1   \n",
            "2           NaN  Author_name_3        1   \n",
            "3           NaN  Author_name_4        1   \n",
            "4           NaN  Author_name_1        2   \n",
            "\n",
            "                                               Fpath  \n",
            "0  https://www.wildlife.ai/wp-content/uploads/202...  \n",
            "1  https://www.wildlife.ai/wp-content/uploads/202...  \n",
            "2  https://www.wildlife.ai/wp-content/uploads/202...  \n",
            "3  https://www.wildlife.ai/wp-content/uploads/202...  \n",
            "4  https://www.wildlife.ai/wp-content/uploads/202...  \n"
          ]
        }
      ],
      "source": [
        "project = p_utils.find_project(project_name=project_name.value)\n",
        "db_info_dict = t_utils.initiate_db(project)"
      ]
    },
    {
      "cell_type": "markdown",
      "id": "52f976b8",
      "metadata": {
        "id": "52f976b8"
      },
      "source": [
        "# Review Sites"
      ]
    },
    {
      "cell_type": "markdown",
      "source": [
        "## Map sites and metadata"
      ],
      "metadata": {
        "id": "5__P6hq1QRjF"
      },
      "id": "5__P6hq1QRjF"
    },
    {
      "cell_type": "code",
      "source": [
        "kso_map = t1.map_site(db_info_dict, project)\n",
        "kso_map"
      ],
      "metadata": {
        "id": "J9Dm5_ghmJ3_",
        "colab": {
          "base_uri": "https://localhost:8080/",
          "height": 685
        },
        "outputId": "31351a91-d725-4240-c090-0e7cb8ba260f"
      },
      "id": "J9Dm5_ghmJ3_",
      "execution_count": 7,
      "outputs": [
        {
          "output_type": "execute_result",
          "data": {
            "text/plain": [
              "<folium.folium.Map at 0x7f2b6c8abc90>"
            ],
            "text/html": [
              "<div style=\"width:100%;\"><div style=\"position:relative;width:100%;height:0;padding-bottom:60%;\"><span style=\"color:#565656\">Make this Notebook Trusted to load map: File -> Trust Notebook</span><iframe srcdoc=\"&lt;!DOCTYPE html&gt;\n",
              "&lt;head&gt;    \n",
              "    &lt;meta http-equiv=&quot;content-type&quot; content=&quot;text/html; charset=UTF-8&quot; /&gt;\n",
              "    \n",
              "        &lt;script&gt;\n",
              "            L_NO_TOUCH = false;\n",
              "            L_DISABLE_3D = false;\n",
              "        &lt;/script&gt;\n",
              "    \n",
              "    &lt;style&gt;html, body {width: 100%;height: 100%;margin: 0;padding: 0;}&lt;/style&gt;\n",
              "    &lt;style&gt;#map {position:absolute;top:0;bottom:0;right:0;left:0;}&lt;/style&gt;\n",
              "    &lt;script src=&quot;https://cdn.jsdelivr.net/npm/leaflet@1.6.0/dist/leaflet.js&quot;&gt;&lt;/script&gt;\n",
              "    &lt;script src=&quot;https://code.jquery.com/jquery-1.12.4.min.js&quot;&gt;&lt;/script&gt;\n",
              "    &lt;script src=&quot;https://maxcdn.bootstrapcdn.com/bootstrap/3.2.0/js/bootstrap.min.js&quot;&gt;&lt;/script&gt;\n",
              "    &lt;script src=&quot;https://cdnjs.cloudflare.com/ajax/libs/Leaflet.awesome-markers/2.0.2/leaflet.awesome-markers.js&quot;&gt;&lt;/script&gt;\n",
              "    &lt;link rel=&quot;stylesheet&quot; href=&quot;https://cdn.jsdelivr.net/npm/leaflet@1.6.0/dist/leaflet.css&quot;/&gt;\n",
              "    &lt;link rel=&quot;stylesheet&quot; href=&quot;https://maxcdn.bootstrapcdn.com/bootstrap/3.2.0/css/bootstrap.min.css&quot;/&gt;\n",
              "    &lt;link rel=&quot;stylesheet&quot; href=&quot;https://maxcdn.bootstrapcdn.com/bootstrap/3.2.0/css/bootstrap-theme.min.css&quot;/&gt;\n",
              "    &lt;link rel=&quot;stylesheet&quot; href=&quot;https://maxcdn.bootstrapcdn.com/font-awesome/4.6.3/css/font-awesome.min.css&quot;/&gt;\n",
              "    &lt;link rel=&quot;stylesheet&quot; href=&quot;https://cdnjs.cloudflare.com/ajax/libs/Leaflet.awesome-markers/2.0.2/leaflet.awesome-markers.css&quot;/&gt;\n",
              "    &lt;link rel=&quot;stylesheet&quot; href=&quot;https://cdn.jsdelivr.net/gh/python-visualization/folium/folium/templates/leaflet.awesome.rotate.min.css&quot;/&gt;\n",
              "    \n",
              "            &lt;meta name=&quot;viewport&quot; content=&quot;width=device-width,\n",
              "                initial-scale=1.0, maximum-scale=1.0, user-scalable=no&quot; /&gt;\n",
              "            &lt;style&gt;\n",
              "                #map_3f812fb53543be283523b34e70c604da {\n",
              "                    position: relative;\n",
              "                    width: 800.0px;\n",
              "                    height: 500.0px;\n",
              "                    left: 0.0%;\n",
              "                    top: 0.0%;\n",
              "                }\n",
              "            &lt;/style&gt;\n",
              "        \n",
              "    &lt;script src=&quot;https://cdnjs.cloudflare.com/ajax/libs/leaflet-minimap/3.6.1/Control.MiniMap.js&quot;&gt;&lt;/script&gt;\n",
              "    &lt;link rel=&quot;stylesheet&quot; href=&quot;https://cdnjs.cloudflare.com/ajax/libs/leaflet-minimap/3.6.1/Control.MiniMap.css&quot;/&gt;\n",
              "&lt;/head&gt;\n",
              "&lt;body&gt;    \n",
              "    \n",
              "            &lt;div class=&quot;folium-map&quot; id=&quot;map_3f812fb53543be283523b34e70c604da&quot; &gt;&lt;/div&gt;\n",
              "        \n",
              "&lt;/body&gt;\n",
              "&lt;script&gt;    \n",
              "    \n",
              "            var map_3f812fb53543be283523b34e70c604da = L.map(\n",
              "                &quot;map_3f812fb53543be283523b34e70c604da&quot;,\n",
              "                {\n",
              "                    center: [-39.296109, 174.063916],\n",
              "                    crs: L.CRS.EPSG3857,\n",
              "                    zoom: 10,\n",
              "                    zoomControl: true,\n",
              "                    preferCanvas: false,\n",
              "                }\n",
              "            );\n",
              "\n",
              "            \n",
              "\n",
              "        \n",
              "    \n",
              "            var tile_layer_686f19d895e9a59d9b209fb7faaf9c92 = L.tileLayer(\n",
              "                &quot;https://{s}.tile.openstreetmap.org/{z}/{x}/{y}.png&quot;,\n",
              "                {&quot;attribution&quot;: &quot;Data by \\u0026copy; \\u003ca href=\\&quot;http://openstreetmap.org\\&quot;\\u003eOpenStreetMap\\u003c/a\\u003e, under \\u003ca href=\\&quot;http://www.openstreetmap.org/copyright\\&quot;\\u003eODbL\\u003c/a\\u003e.&quot;, &quot;detectRetina&quot;: false, &quot;maxNativeZoom&quot;: 18, &quot;maxZoom&quot;: 18, &quot;minZoom&quot;: 0, &quot;noWrap&quot;: false, &quot;opacity&quot;: 1, &quot;subdomains&quot;: &quot;abc&quot;, &quot;tms&quot;: false}\n",
              "            ).addTo(map_3f812fb53543be283523b34e70c604da);\n",
              "        \n",
              "    \n",
              "            var circle_marker_144c06b645c9b17dc0cf6c49bb91843a = L.circleMarker(\n",
              "                [-39.052281, 174.023941],\n",
              "                {&quot;bubblingMouseEvents&quot;: true, &quot;color&quot;: &quot;#3388ff&quot;, &quot;dashArray&quot;: null, &quot;dashOffset&quot;: null, &quot;fill&quot;: false, &quot;fillColor&quot;: &quot;#3388ff&quot;, &quot;fillOpacity&quot;: 0.2, &quot;fillRule&quot;: &quot;evenodd&quot;, &quot;lineCap&quot;: &quot;round&quot;, &quot;lineJoin&quot;: &quot;round&quot;, &quot;opacity&quot;: 1.0, &quot;radius&quot;: 14, &quot;stroke&quot;: true, &quot;weight&quot;: 3}\n",
              "            ).addTo(map_3f812fb53543be283523b34e70c604da);\n",
              "        \n",
              "    \n",
              "        var popup_c21c9ed43fbd1c5d1c2fcb1e1a1b6694 = L.popup({&quot;maxWidth&quot;: &quot;100%&quot;});\n",
              "\n",
              "        \n",
              "            var html_f213ee0ba6fd2b82b8cecf8a0ee1b5d8 = $(`&lt;div id=&quot;html_f213ee0ba6fd2b82b8cecf8a0ee1b5d8&quot; style=&quot;width: 100.0%; height: 100.0%;&quot;&gt;[1, &#x27;Site_1&#x27;, -39.052281, 174.023941, &#x27;WGS84&#x27;, &#x27;NZ&#x27;]&lt;/div&gt;`)[0];\n",
              "            popup_c21c9ed43fbd1c5d1c2fcb1e1a1b6694.setContent(html_f213ee0ba6fd2b82b8cecf8a0ee1b5d8);\n",
              "        \n",
              "\n",
              "        circle_marker_144c06b645c9b17dc0cf6c49bb91843a.bindPopup(popup_c21c9ed43fbd1c5d1c2fcb1e1a1b6694)\n",
              "        ;\n",
              "\n",
              "        \n",
              "    \n",
              "    \n",
              "            circle_marker_144c06b645c9b17dc0cf6c49bb91843a.bindTooltip(\n",
              "                `&lt;div&gt;\n",
              "                     siteName    Site_1\n",
              "Name: 0, dtype: object\n",
              "                 &lt;/div&gt;`,\n",
              "                {&quot;sticky&quot;: true}\n",
              "            );\n",
              "        \n",
              "    \n",
              "            var circle_marker_c47036366438d4df00682c72be8a77d0 = L.circleMarker(\n",
              "                [-39.057633, 174.018739],\n",
              "                {&quot;bubblingMouseEvents&quot;: true, &quot;color&quot;: &quot;#3388ff&quot;, &quot;dashArray&quot;: null, &quot;dashOffset&quot;: null, &quot;fill&quot;: false, &quot;fillColor&quot;: &quot;#3388ff&quot;, &quot;fillOpacity&quot;: 0.2, &quot;fillRule&quot;: &quot;evenodd&quot;, &quot;lineCap&quot;: &quot;round&quot;, &quot;lineJoin&quot;: &quot;round&quot;, &quot;opacity&quot;: 1.0, &quot;radius&quot;: 14, &quot;stroke&quot;: true, &quot;weight&quot;: 3}\n",
              "            ).addTo(map_3f812fb53543be283523b34e70c604da);\n",
              "        \n",
              "    \n",
              "        var popup_c254ed7868b821d28bb133e800aa95c0 = L.popup({&quot;maxWidth&quot;: &quot;100%&quot;});\n",
              "\n",
              "        \n",
              "            var html_0ffeb3dd7a9d6d030a1785a352041a95 = $(`&lt;div id=&quot;html_0ffeb3dd7a9d6d030a1785a352041a95&quot; style=&quot;width: 100.0%; height: 100.0%;&quot;&gt;[2, &#x27;Site_2&#x27;, -39.057633, 174.018739, &#x27;WGS84&#x27;, &#x27;NZ&#x27;]&lt;/div&gt;`)[0];\n",
              "            popup_c254ed7868b821d28bb133e800aa95c0.setContent(html_0ffeb3dd7a9d6d030a1785a352041a95);\n",
              "        \n",
              "\n",
              "        circle_marker_c47036366438d4df00682c72be8a77d0.bindPopup(popup_c254ed7868b821d28bb133e800aa95c0)\n",
              "        ;\n",
              "\n",
              "        \n",
              "    \n",
              "    \n",
              "            circle_marker_c47036366438d4df00682c72be8a77d0.bindTooltip(\n",
              "                `&lt;div&gt;\n",
              "                     siteName    Site_2\n",
              "Name: 1, dtype: object\n",
              "                 &lt;/div&gt;`,\n",
              "                {&quot;sticky&quot;: true}\n",
              "            );\n",
              "        \n",
              "    \n",
              "            var circle_marker_21adc2b7fdfcf65e600737a9372adc4b = L.circleMarker(\n",
              "                [-39.04892, 174.0296],\n",
              "                {&quot;bubblingMouseEvents&quot;: true, &quot;color&quot;: &quot;#3388ff&quot;, &quot;dashArray&quot;: null, &quot;dashOffset&quot;: null, &quot;fill&quot;: false, &quot;fillColor&quot;: &quot;#3388ff&quot;, &quot;fillOpacity&quot;: 0.2, &quot;fillRule&quot;: &quot;evenodd&quot;, &quot;lineCap&quot;: &quot;round&quot;, &quot;lineJoin&quot;: &quot;round&quot;, &quot;opacity&quot;: 1.0, &quot;radius&quot;: 14, &quot;stroke&quot;: true, &quot;weight&quot;: 3}\n",
              "            ).addTo(map_3f812fb53543be283523b34e70c604da);\n",
              "        \n",
              "    \n",
              "        var popup_4fc8a4d780566dc033bce478d04b7d1a = L.popup({&quot;maxWidth&quot;: &quot;100%&quot;});\n",
              "\n",
              "        \n",
              "            var html_95775307d596680000a16d73190ed882 = $(`&lt;div id=&quot;html_95775307d596680000a16d73190ed882&quot; style=&quot;width: 100.0%; height: 100.0%;&quot;&gt;[3, &#x27;Site_3&#x27;, -39.04892, 174.0296, &#x27;WGS84&#x27;, &#x27;NZ&#x27;]&lt;/div&gt;`)[0];\n",
              "            popup_4fc8a4d780566dc033bce478d04b7d1a.setContent(html_95775307d596680000a16d73190ed882);\n",
              "        \n",
              "\n",
              "        circle_marker_21adc2b7fdfcf65e600737a9372adc4b.bindPopup(popup_4fc8a4d780566dc033bce478d04b7d1a)\n",
              "        ;\n",
              "\n",
              "        \n",
              "    \n",
              "    \n",
              "            circle_marker_21adc2b7fdfcf65e600737a9372adc4b.bindTooltip(\n",
              "                `&lt;div&gt;\n",
              "                     siteName    Site_3\n",
              "Name: 2, dtype: object\n",
              "                 &lt;/div&gt;`,\n",
              "                {&quot;sticky&quot;: true}\n",
              "            );\n",
              "        \n",
              "    \n",
              "            var circle_marker_1bc87a609a03ae573a8f84bcaed376e7 = L.circleMarker(\n",
              "                [-39.046859, 174.014944],\n",
              "                {&quot;bubblingMouseEvents&quot;: true, &quot;color&quot;: &quot;#3388ff&quot;, &quot;dashArray&quot;: null, &quot;dashOffset&quot;: null, &quot;fill&quot;: false, &quot;fillColor&quot;: &quot;#3388ff&quot;, &quot;fillOpacity&quot;: 0.2, &quot;fillRule&quot;: &quot;evenodd&quot;, &quot;lineCap&quot;: &quot;round&quot;, &quot;lineJoin&quot;: &quot;round&quot;, &quot;opacity&quot;: 1.0, &quot;radius&quot;: 14, &quot;stroke&quot;: true, &quot;weight&quot;: 3}\n",
              "            ).addTo(map_3f812fb53543be283523b34e70c604da);\n",
              "        \n",
              "    \n",
              "        var popup_81b1b3f652500509053c5c7b76f1e687 = L.popup({&quot;maxWidth&quot;: &quot;100%&quot;});\n",
              "\n",
              "        \n",
              "            var html_77b0a3f1456fd8c368e1dd8904f068c7 = $(`&lt;div id=&quot;html_77b0a3f1456fd8c368e1dd8904f068c7&quot; style=&quot;width: 100.0%; height: 100.0%;&quot;&gt;[4, &#x27;Site_4&#x27;, -39.046859, 174.014944, &#x27;WGS84&#x27;, &#x27;NZ&#x27;]&lt;/div&gt;`)[0];\n",
              "            popup_81b1b3f652500509053c5c7b76f1e687.setContent(html_77b0a3f1456fd8c368e1dd8904f068c7);\n",
              "        \n",
              "\n",
              "        circle_marker_1bc87a609a03ae573a8f84bcaed376e7.bindPopup(popup_81b1b3f652500509053c5c7b76f1e687)\n",
              "        ;\n",
              "\n",
              "        \n",
              "    \n",
              "    \n",
              "            circle_marker_1bc87a609a03ae573a8f84bcaed376e7.bindTooltip(\n",
              "                `&lt;div&gt;\n",
              "                     siteName    Site_4\n",
              "Name: 3, dtype: object\n",
              "                 &lt;/div&gt;`,\n",
              "                {&quot;sticky&quot;: true}\n",
              "            );\n",
              "        \n",
              "    \n",
              "            var circle_marker_b305e5df69533a8f507c69db38fc0f6f = L.circleMarker(\n",
              "                [-39.053019, 174.015039],\n",
              "                {&quot;bubblingMouseEvents&quot;: true, &quot;color&quot;: &quot;#3388ff&quot;, &quot;dashArray&quot;: null, &quot;dashOffset&quot;: null, &quot;fill&quot;: false, &quot;fillColor&quot;: &quot;#3388ff&quot;, &quot;fillOpacity&quot;: 0.2, &quot;fillRule&quot;: &quot;evenodd&quot;, &quot;lineCap&quot;: &quot;round&quot;, &quot;lineJoin&quot;: &quot;round&quot;, &quot;opacity&quot;: 1.0, &quot;radius&quot;: 14, &quot;stroke&quot;: true, &quot;weight&quot;: 3}\n",
              "            ).addTo(map_3f812fb53543be283523b34e70c604da);\n",
              "        \n",
              "    \n",
              "        var popup_1c39b2df6210d1a1fe2c24ad60308dc2 = L.popup({&quot;maxWidth&quot;: &quot;100%&quot;});\n",
              "\n",
              "        \n",
              "            var html_50587423a93390b3577e32dcfbd4b170 = $(`&lt;div id=&quot;html_50587423a93390b3577e32dcfbd4b170&quot; style=&quot;width: 100.0%; height: 100.0%;&quot;&gt;[5, &#x27;Site_5&#x27;, -39.053019, 174.015039, &#x27;WGS84&#x27;, &#x27;NZ&#x27;]&lt;/div&gt;`)[0];\n",
              "            popup_1c39b2df6210d1a1fe2c24ad60308dc2.setContent(html_50587423a93390b3577e32dcfbd4b170);\n",
              "        \n",
              "\n",
              "        circle_marker_b305e5df69533a8f507c69db38fc0f6f.bindPopup(popup_1c39b2df6210d1a1fe2c24ad60308dc2)\n",
              "        ;\n",
              "\n",
              "        \n",
              "    \n",
              "    \n",
              "            circle_marker_b305e5df69533a8f507c69db38fc0f6f.bindTooltip(\n",
              "                `&lt;div&gt;\n",
              "                     siteName    Site_5\n",
              "Name: 4, dtype: object\n",
              "                 &lt;/div&gt;`,\n",
              "                {&quot;sticky&quot;: true}\n",
              "            );\n",
              "        \n",
              "    \n",
              "            var tile_layer_e2f71272fffe495e89162cf7f2f801d5 = L.tileLayer(\n",
              "                &quot;https://{s}.tile.openstreetmap.org/{z}/{x}/{y}.png&quot;,\n",
              "                {&quot;attribution&quot;: &quot;Data by \\u0026copy; \\u003ca href=\\&quot;http://openstreetmap.org\\&quot;\\u003eOpenStreetMap\\u003c/a\\u003e, under \\u003ca href=\\&quot;http://www.openstreetmap.org/copyright\\&quot;\\u003eODbL\\u003c/a\\u003e.&quot;, &quot;detectRetina&quot;: false, &quot;maxNativeZoom&quot;: 18, &quot;maxZoom&quot;: 18, &quot;minZoom&quot;: 0, &quot;noWrap&quot;: false, &quot;opacity&quot;: 1, &quot;subdomains&quot;: &quot;abc&quot;, &quot;tms&quot;: false}\n",
              "            );\n",
              "            var mini_map_c1958f11fbe93063b478540835f85aaf = new L.Control.MiniMap(\n",
              "                tile_layer_e2f71272fffe495e89162cf7f2f801d5,\n",
              "                {&quot;autoToggleDisplay&quot;: false, &quot;centerFixed&quot;: false, &quot;collapsedHeight&quot;: 25, &quot;collapsedWidth&quot;: 25, &quot;height&quot;: 150, &quot;minimized&quot;: false, &quot;position&quot;: &quot;bottomright&quot;, &quot;toggleDisplay&quot;: false, &quot;width&quot;: 150, &quot;zoomAnimation&quot;: false, &quot;zoomLevelOffset&quot;: -5}\n",
              "            );\n",
              "            map_3f812fb53543be283523b34e70c604da.addControl(mini_map_c1958f11fbe93063b478540835f85aaf);\n",
              "        \n",
              "&lt;/script&gt;\" style=\"position:absolute;width:100%;height:100%;left:0;top:0;border:none !important;\" allowfullscreen webkitallowfullscreen mozallowfullscreen></iframe></div></div>"
            ]
          },
          "metadata": {},
          "execution_count": 7
        }
      ]
    },
    {
      "cell_type": "markdown",
      "source": [
        "## Update sites metadata"
      ],
      "metadata": {
        "id": "RzqjZinGQVux"
      },
      "id": "RzqjZinGQVux"
    },
    {
      "cell_type": "markdown",
      "source": [
        "Select the range of sites to display"
      ],
      "metadata": {
        "id": "L8-z6pV8LKxY"
      },
      "id": "L8-z6pV8LKxY"
    },
    {
      "cell_type": "code",
      "source": [
        "sites_df, sites_range = t1.select_sites_range(db_info_dict)"
      ],
      "metadata": {
        "colab": {
          "base_uri": "https://localhost:8080/",
          "height": 87,
          "referenced_widgets": [
            "9913275e7fde4fe192b7932d9ddfad21",
            "b3379d5788ad43beb2d64d530084d7cd",
            "8e0e1934a9d842e7805b3d7305a3fdce"
          ]
        },
        "id": "IQmvKQPyLR5d",
        "outputId": "c6b5a75b-7b52-4de5-fe2a-8d20ad6baa32"
      },
      "id": "IQmvKQPyLR5d",
      "execution_count": 207,
      "outputs": [
        {
          "output_type": "display_data",
          "data": {
            "text/plain": [
              "SelectionRangeSlider(description='Sites to display', index=(0, 5), layout=Layout(padding='35px', width='90%'),…"
            ],
            "application/vnd.jupyter.widget-view+json": {
              "version_major": 2,
              "version_minor": 0,
              "model_id": "9913275e7fde4fe192b7932d9ddfad21"
            }
          },
          "metadata": {
            "application/vnd.jupyter.widget-view+json": {
              "colab": {
                "custom_widget_manager": {
                  "url": "https://ssl.gstatic.com/colaboratory-static/widgets/colab-cdn-widget-manager/d2e234f7cc04bf79/manager.min.js"
                }
              }
            }
          }
        }
      ]
    },
    {
      "cell_type": "markdown",
      "source": [
        "You can update the contents of the cells in the spreadsheet below"
      ],
      "metadata": {
        "id": "TTEK-ACcp41U"
      },
      "id": "TTEK-ACcp41U"
    },
    {
      "cell_type": "code",
      "execution_count": 189,
      "id": "9b01ccf5",
      "metadata": {
        "id": "9b01ccf5",
        "colab": {
          "base_uri": "https://localhost:8080/",
          "height": 117,
          "referenced_widgets": [
            "64f5e06a151345ae9ad9a1fd90dc6338",
            "c5e000c9d51d4d38af6ba9c2466e3064",
            "a89c1549b0f94c3ba1cf920790261b6e",
            "cd5ca4302c794549b3e8aaa744fd9263",
            "63420964399647a7b2a70157fdb0c728",
            "a43b1d67b44a466a8243818dd1cfa35d",
            "5a9a9e4a585e42cfb639b1d98ee62241",
            "ad009a2670af4baea636d95ee3bc1ddd"
          ]
        },
        "outputId": "661e0449-377d-4d1b-a5cf-3f5292a37a95"
      },
      "outputs": [
        {
          "output_type": "display_data",
          "data": {
            "text/plain": [
              "Sheet(cells=(Cell(column_end=0, column_start=0, numeric_format='0[.]0', row_end=2, row_start=0, squeeze_row=Fa…"
            ],
            "application/vnd.jupyter.widget-view+json": {
              "version_major": 2,
              "version_minor": 0,
              "model_id": "64f5e06a151345ae9ad9a1fd90dc6338"
            }
          },
          "metadata": {
            "application/vnd.jupyter.widget-view+json": {
              "colab": {
                "custom_widget_manager": {
                  "url": "https://ssl.gstatic.com/colaboratory-static/widgets/colab-cdn-widget-manager/d2e234f7cc04bf79/manager.min.js"
                }
              }
            }
          }
        }
      ],
      "source": [
        "sites_df_filtered, sites_sheet = t1.open_sites_csv(sites_df, sites_range)\n",
        "sites_sheet"
      ]
    },
    {
      "cell_type": "markdown",
      "source": [
        "### Confirm the changes"
      ],
      "metadata": {
        "id": "nUITsuBLqIx4"
      },
      "id": "nUITsuBLqIx4"
    },
    {
      "cell_type": "code",
      "source": [
        "# Display the changes\n",
        "highlight_changes, sites_sheet_df = t1.display_changes(db_info_dict,\n",
        "                   isheet = sites_sheet, \n",
        "                   sites_df_filtered = sites_df_filtered\n",
        "                   )\n",
        "highlight_changes"
      ],
      "metadata": {
        "id": "n5g_Fiq2qHdt",
        "colab": {
          "base_uri": "https://localhost:8080/",
          "height": 206
        },
        "outputId": "4e15d909-6f94-4c29-ef21-7f0d7e621a76"
      },
      "id": "n5g_Fiq2qHdt",
      "execution_count": 208,
      "outputs": [
        {
          "output_type": "execute_result",
          "data": {
            "text/plain": [
              "<pandas.io.formats.style.Styler at 0x7f2b6b3f5f10>"
            ],
            "text/html": [
              "<style type=\"text/css\">\n",
              "#T_45275_row1_col1, #T_45275_row2_col1 {\n",
              "  background-color: yellow;\n",
              "}\n",
              "</style>\n",
              "<table id=\"T_45275_\" class=\"dataframe\">\n",
              "  <thead>\n",
              "    <tr>\n",
              "      <th class=\"blank level0\" >&nbsp;</th>\n",
              "      <th class=\"col_heading level0 col0\" colspan=\"2\">siteName</th>\n",
              "      <th class=\"col_heading level0 col2\" colspan=\"2\">decimalLatitude</th>\n",
              "      <th class=\"col_heading level0 col4\" colspan=\"2\">decimalLongitude</th>\n",
              "      <th class=\"col_heading level0 col6\" colspan=\"2\">geodeticDatum</th>\n",
              "      <th class=\"col_heading level0 col8\" colspan=\"2\">countryCode</th>\n",
              "    </tr>\n",
              "    <tr>\n",
              "      <th class=\"blank level1\" >&nbsp;</th>\n",
              "      <th class=\"col_heading level1 col0\" >Origin</th>\n",
              "      <th class=\"col_heading level1 col1\" >Update</th>\n",
              "      <th class=\"col_heading level1 col2\" >Origin</th>\n",
              "      <th class=\"col_heading level1 col3\" >Update</th>\n",
              "      <th class=\"col_heading level1 col4\" >Origin</th>\n",
              "      <th class=\"col_heading level1 col5\" >Update</th>\n",
              "      <th class=\"col_heading level1 col6\" >Origin</th>\n",
              "      <th class=\"col_heading level1 col7\" >Update</th>\n",
              "      <th class=\"col_heading level1 col8\" >Origin</th>\n",
              "      <th class=\"col_heading level1 col9\" >Update</th>\n",
              "    </tr>\n",
              "    <tr>\n",
              "      <th class=\"index_name level0\" >site_id</th>\n",
              "      <th class=\"blank col0\" >&nbsp;</th>\n",
              "      <th class=\"blank col1\" >&nbsp;</th>\n",
              "      <th class=\"blank col2\" >&nbsp;</th>\n",
              "      <th class=\"blank col3\" >&nbsp;</th>\n",
              "      <th class=\"blank col4\" >&nbsp;</th>\n",
              "      <th class=\"blank col5\" >&nbsp;</th>\n",
              "      <th class=\"blank col6\" >&nbsp;</th>\n",
              "      <th class=\"blank col7\" >&nbsp;</th>\n",
              "      <th class=\"blank col8\" >&nbsp;</th>\n",
              "      <th class=\"blank col9\" >&nbsp;</th>\n",
              "    </tr>\n",
              "  </thead>\n",
              "  <tbody>\n",
              "    <tr>\n",
              "      <th id=\"T_45275_level0_row0\" class=\"row_heading level0 row0\" >3</th>\n",
              "      <td id=\"T_45275_row0_col0\" class=\"data row0 col0\" >Site_3</td>\n",
              "      <td id=\"T_45275_row0_col1\" class=\"data row0 col1\" >Site_3</td>\n",
              "      <td id=\"T_45275_row0_col2\" class=\"data row0 col2\" >-39.048920</td>\n",
              "      <td id=\"T_45275_row0_col3\" class=\"data row0 col3\" >-39.048920</td>\n",
              "      <td id=\"T_45275_row0_col4\" class=\"data row0 col4\" >174.029600</td>\n",
              "      <td id=\"T_45275_row0_col5\" class=\"data row0 col5\" >174.029600</td>\n",
              "      <td id=\"T_45275_row0_col6\" class=\"data row0 col6\" >WGS84</td>\n",
              "      <td id=\"T_45275_row0_col7\" class=\"data row0 col7\" >WGS84</td>\n",
              "      <td id=\"T_45275_row0_col8\" class=\"data row0 col8\" >NZ</td>\n",
              "      <td id=\"T_45275_row0_col9\" class=\"data row0 col9\" >NZ</td>\n",
              "    </tr>\n",
              "    <tr>\n",
              "      <th id=\"T_45275_level0_row1\" class=\"row_heading level0 row1\" >4</th>\n",
              "      <td id=\"T_45275_row1_col0\" class=\"data row1 col0\" >Site_3</td>\n",
              "      <td id=\"T_45275_row1_col1\" class=\"data row1 col1\" >Site_4</td>\n",
              "      <td id=\"T_45275_row1_col2\" class=\"data row1 col2\" >-39.048920</td>\n",
              "      <td id=\"T_45275_row1_col3\" class=\"data row1 col3\" >-39.048920</td>\n",
              "      <td id=\"T_45275_row1_col4\" class=\"data row1 col4\" >174.029600</td>\n",
              "      <td id=\"T_45275_row1_col5\" class=\"data row1 col5\" >174.029600</td>\n",
              "      <td id=\"T_45275_row1_col6\" class=\"data row1 col6\" >WGS84</td>\n",
              "      <td id=\"T_45275_row1_col7\" class=\"data row1 col7\" >WGS84</td>\n",
              "      <td id=\"T_45275_row1_col8\" class=\"data row1 col8\" >NZ</td>\n",
              "      <td id=\"T_45275_row1_col9\" class=\"data row1 col9\" >NZ</td>\n",
              "    </tr>\n",
              "    <tr>\n",
              "      <th id=\"T_45275_level0_row2\" class=\"row_heading level0 row2\" >5</th>\n",
              "      <td id=\"T_45275_row2_col0\" class=\"data row2 col0\" >Site_42</td>\n",
              "      <td id=\"T_45275_row2_col1\" class=\"data row2 col1\" >Site_52</td>\n",
              "      <td id=\"T_45275_row2_col2\" class=\"data row2 col2\" >-39.046859</td>\n",
              "      <td id=\"T_45275_row2_col3\" class=\"data row2 col3\" >-39.046859</td>\n",
              "      <td id=\"T_45275_row2_col4\" class=\"data row2 col4\" >174.014944</td>\n",
              "      <td id=\"T_45275_row2_col5\" class=\"data row2 col5\" >174.014944</td>\n",
              "      <td id=\"T_45275_row2_col6\" class=\"data row2 col6\" >WGS84</td>\n",
              "      <td id=\"T_45275_row2_col7\" class=\"data row2 col7\" >WGS84</td>\n",
              "      <td id=\"T_45275_row2_col8\" class=\"data row2 col8\" >NZ</td>\n",
              "      <td id=\"T_45275_row2_col9\" class=\"data row2 col9\" >NZ</td>\n",
              "    </tr>\n",
              "  </tbody>\n",
              "</table>\n"
            ]
          },
          "metadata": {},
          "execution_count": 208
        }
      ]
    },
    {
      "cell_type": "code",
      "source": [
        "# Confirm or deny the changes\n",
        "t1.update_csv(db_info_dict, \n",
        "              project,\n",
        "              sheet_df = sites_sheet_df,\n",
        "              sites_df = sites_df\n",
        "              )"
      ],
      "metadata": {
        "id": "H9EQfoINVwFV",
        "colab": {
          "base_uri": "https://localhost:8080/",
          "height": 84,
          "referenced_widgets": [
            "b81d53ff2e5544cf9911cdf7499bf833",
            "cd6c2a07ee4a484eb551c5c2d39cdd0d",
            "4e192bf0480f43fd8256515872b48924",
            "a20c09705a604159b40b7f5e6d709ab9",
            "0e2ed95778d64156b0c79de7877f57f4",
            "12123033778e4b628d4a39c60e9047a7",
            "e0bd598a182740d39df10e388230e345",
            "67c4618245dd430ba6d7f5f6c3454866"
          ]
        },
        "outputId": "1a9cd696-fb00-4c5b-9c8b-d0c0fd5309e9"
      },
      "id": "H9EQfoINVwFV",
      "execution_count": 152,
      "outputs": [
        {
          "output_type": "stream",
          "name": "stdout",
          "text": [
            "\n",
            "Are the site changes above correct?\n"
          ]
        },
        {
          "output_type": "display_data",
          "data": {
            "text/plain": [
              "HBox(children=(Button(button_style='danger', description='Yes, details are correct', layout=Layout(width='25%'…"
            ],
            "application/vnd.jupyter.widget-view+json": {
              "version_major": 2,
              "version_minor": 0,
              "model_id": "b81d53ff2e5544cf9911cdf7499bf833"
            }
          },
          "metadata": {
            "application/vnd.jupyter.widget-view+json": {
              "colab": {
                "custom_widget_manager": {
                  "url": "https://ssl.gstatic.com/colaboratory-static/widgets/colab-cdn-widget-manager/d2e234f7cc04bf79/manager.min.js"
                }
              }
            }
          }
        }
      ]
    },
    {
      "cell_type": "markdown",
      "id": "4b134a5c",
      "metadata": {
        "id": "4b134a5c"
      },
      "source": [
        "# Review Movies (WIP)"
      ]
    },
    {
      "cell_type": "markdown",
      "source": [
        "## Choose the review method"
      ],
      "metadata": {
        "id": "LZYh0kJk8gop"
      },
      "id": "LZYh0kJk8gop"
    },
    {
      "cell_type": "code",
      "source": [
        "review_method = t1.choose_movie_review()"
      ],
      "metadata": {
        "id": "tgKWLhdx8SmI"
      },
      "id": "tgKWLhdx8SmI",
      "execution_count": null,
      "outputs": []
    },
    {
      "cell_type": "markdown",
      "source": [
        "## Check the movies information"
      ],
      "metadata": {
        "id": "56Q-vAXc30di"
      },
      "id": "56Q-vAXc30di"
    },
    {
      "cell_type": "code",
      "source": [
        "movies_sheet_df = t1.check_movies_csv(db_info_dict, project, review_method)"
      ],
      "metadata": {
        "id": "yODAkAPk3zDT"
      },
      "id": "yODAkAPk3zDT",
      "execution_count": null,
      "outputs": []
    },
    {
      "cell_type": "code",
      "source": [
        "# Confirm or deny the changes\n",
        "t1.update_csv(db_info_dict, \n",
        "              project,\n",
        "              sheet_df = movies_sheet_df,\n",
        "              local_csv = \"local_movies_csv\",\n",
        "              serv_csv = \"server_movies_csv\"\n",
        "              )"
      ],
      "metadata": {
        "id": "Kd7Od4VfBln5"
      },
      "id": "Kd7Od4VfBln5",
      "execution_count": null,
      "outputs": []
    },
    {
      "cell_type": "markdown",
      "source": [
        "## Preview movies"
      ],
      "metadata": {
        "id": "CtTfD4tF6ouw"
      },
      "id": "CtTfD4tF6ouw"
    },
    {
      "cell_type": "markdown",
      "source": [
        "### Retrieve info of movies available on the server"
      ],
      "metadata": {
        "id": "keLx8PPJ6_1c"
      },
      "id": "keLx8PPJ6_1c"
    },
    {
      "cell_type": "code",
      "source": [
        "available_movies_df = s_utils.retrieve_movie_info_from_server(\n",
        "    project = project,\n",
        "    db_info_dict = db_info_dict\n",
        ")"
      ],
      "metadata": {
        "id": "EDA7nDfn7EyF"
      },
      "id": "EDA7nDfn7EyF",
      "execution_count": null,
      "outputs": []
    },
    {
      "cell_type": "markdown",
      "source": [
        "### Select movies to preview"
      ],
      "metadata": {
        "id": "oSm50evA6r6E"
      },
      "id": "oSm50evA6r6E"
    },
    {
      "cell_type": "code",
      "source": [
        "movie_selected = t_utils.select_movie(available_movies_df)"
      ],
      "metadata": {
        "id": "3Kbc7eYZ7JVx"
      },
      "id": "3Kbc7eYZ7JVx",
      "execution_count": null,
      "outputs": []
    },
    {
      "cell_type": "markdown",
      "source": [
        "### Display the movie"
      ],
      "metadata": {
        "id": "QfkDCyz67Mp-"
      },
      "id": "QfkDCyz67Mp-"
    },
    {
      "cell_type": "code",
      "source": [
        "movie_display, movie_path = t_utils.preview_movie(\n",
        "    project = project,\n",
        "    db_info_dict = db_info_dict, \n",
        "    available_movies_df = available_movies_df, \n",
        "    movie_i = movie_selected.value\n",
        ")\n",
        "movie_display"
      ],
      "metadata": {
        "id": "SbN566ha7R6n"
      },
      "id": "SbN566ha7R6n",
      "execution_count": null,
      "outputs": []
    },
    {
      "cell_type": "markdown",
      "source": [
        "# Review species"
      ],
      "metadata": {
        "id": "tyKSJHRq3kog"
      },
      "id": "tyKSJHRq3kog"
    },
    {
      "cell_type": "code",
      "execution_count": null,
      "id": "b78b2738",
      "metadata": {
        "id": "b78b2738"
      },
      "outputs": [],
      "source": [
        "movies_df = t1.check_movies_csv(db_info_dict, movies_df_sheet, project)"
      ]
    },
    {
      "cell_type": "code",
      "execution_count": null,
      "id": "5fc74ec0",
      "metadata": {
        "id": "5fc74ec0"
      },
      "outputs": [],
      "source": [
        "#END"
      ]
    }
  ],
  "metadata": {
    "colab": {
      "name": "COLAB_1_Check_and_update_csv_files.ipynb",
      "provenance": [],
      "collapsed_sections": []
    },
    "kernelspec": {
      "display_name": "Python 3 (ipykernel)",
      "language": "python",
      "name": "python3"
    },
    "language_info": {
      "codemirror_mode": {
        "name": "ipython",
        "version": 3
      },
      "file_extension": ".py",
      "mimetype": "text/x-python",
      "name": "python",
      "nbconvert_exporter": "python",
      "pygments_lexer": "ipython3",
      "version": "3.7.13"
    },
    "widgets": {
      "application/vnd.jupyter.widget-state+json": {
        "2b5ecdf6792d4c39b3ff36d9d80c878d": {
          "model_module": "@jupyter-widgets/controls",
          "model_name": "DropdownModel",
          "model_module_version": "1.5.0",
          "state": {
            "_dom_classes": [],
            "_model_module": "@jupyter-widgets/controls",
            "_model_module_version": "1.5.0",
            "_model_name": "DropdownModel",
            "_options_labels": [
              "Template project",
              "Koster_Seafloor_Obs",
              "Spyfish_Aotearoa",
              "SGU",
              "Medins"
            ],
            "_view_count": null,
            "_view_module": "@jupyter-widgets/controls",
            "_view_module_version": "1.5.0",
            "_view_name": "DropdownView",
            "description": "Project:",
            "description_tooltip": null,
            "disabled": false,
            "index": 0,
            "layout": "IPY_MODEL_8e892ed57d0b44feb9315ca80fa72470",
            "style": "IPY_MODEL_135eef7e047c497a99558f0131a91a42"
          }
        },
        "8e892ed57d0b44feb9315ca80fa72470": {
          "model_module": "@jupyter-widgets/base",
          "model_name": "LayoutModel",
          "model_module_version": "1.2.0",
          "state": {
            "_model_module": "@jupyter-widgets/base",
            "_model_module_version": "1.2.0",
            "_model_name": "LayoutModel",
            "_view_count": null,
            "_view_module": "@jupyter-widgets/base",
            "_view_module_version": "1.2.0",
            "_view_name": "LayoutView",
            "align_content": null,
            "align_items": null,
            "align_self": null,
            "border": null,
            "bottom": null,
            "display": null,
            "flex": null,
            "flex_flow": null,
            "grid_area": null,
            "grid_auto_columns": null,
            "grid_auto_flow": null,
            "grid_auto_rows": null,
            "grid_column": null,
            "grid_gap": null,
            "grid_row": null,
            "grid_template_areas": null,
            "grid_template_columns": null,
            "grid_template_rows": null,
            "height": null,
            "justify_content": null,
            "justify_items": null,
            "left": null,
            "margin": null,
            "max_height": null,
            "max_width": null,
            "min_height": null,
            "min_width": null,
            "object_fit": null,
            "object_position": null,
            "order": null,
            "overflow": null,
            "overflow_x": null,
            "overflow_y": null,
            "padding": null,
            "right": null,
            "top": null,
            "visibility": null,
            "width": null
          }
        },
        "135eef7e047c497a99558f0131a91a42": {
          "model_module": "@jupyter-widgets/controls",
          "model_name": "DescriptionStyleModel",
          "model_module_version": "1.5.0",
          "state": {
            "_model_module": "@jupyter-widgets/controls",
            "_model_module_version": "1.5.0",
            "_model_name": "DescriptionStyleModel",
            "_view_count": null,
            "_view_module": "@jupyter-widgets/base",
            "_view_module_version": "1.2.0",
            "_view_name": "StyleView",
            "description_width": ""
          }
        },
        "9913275e7fde4fe192b7932d9ddfad21": {
          "model_module": "@jupyter-widgets/controls",
          "model_name": "SelectionRangeSliderModel",
          "model_module_version": "1.5.0",
          "state": {
            "_dom_classes": [],
            "_model_module": "@jupyter-widgets/controls",
            "_model_module_version": "1.5.0",
            "_model_name": "SelectionRangeSliderModel",
            "_options_labels": [
              "0",
              "1",
              "2",
              "3",
              "4",
              "5"
            ],
            "_view_count": null,
            "_view_module": "@jupyter-widgets/controls",
            "_view_module_version": "1.5.0",
            "_view_name": "SelectionRangeSliderView",
            "continuous_update": true,
            "description": "Sites to display",
            "description_tooltip": null,
            "disabled": false,
            "index": [
              0,
              5
            ],
            "layout": "IPY_MODEL_b3379d5788ad43beb2d64d530084d7cd",
            "orientation": "horizontal",
            "readout": true,
            "style": "IPY_MODEL_8e0e1934a9d842e7805b3d7305a3fdce"
          }
        },
        "b3379d5788ad43beb2d64d530084d7cd": {
          "model_module": "@jupyter-widgets/base",
          "model_name": "LayoutModel",
          "model_module_version": "1.2.0",
          "state": {
            "_model_module": "@jupyter-widgets/base",
            "_model_module_version": "1.2.0",
            "_model_name": "LayoutModel",
            "_view_count": null,
            "_view_module": "@jupyter-widgets/base",
            "_view_module_version": "1.2.0",
            "_view_name": "LayoutView",
            "align_content": null,
            "align_items": null,
            "align_self": null,
            "border": null,
            "bottom": null,
            "display": null,
            "flex": null,
            "flex_flow": null,
            "grid_area": null,
            "grid_auto_columns": null,
            "grid_auto_flow": null,
            "grid_auto_rows": null,
            "grid_column": null,
            "grid_gap": null,
            "grid_row": null,
            "grid_template_areas": null,
            "grid_template_columns": null,
            "grid_template_rows": null,
            "height": null,
            "justify_content": null,
            "justify_items": null,
            "left": null,
            "margin": null,
            "max_height": null,
            "max_width": null,
            "min_height": null,
            "min_width": null,
            "object_fit": null,
            "object_position": null,
            "order": null,
            "overflow": null,
            "overflow_x": null,
            "overflow_y": null,
            "padding": "35px",
            "right": null,
            "top": null,
            "visibility": null,
            "width": "90%"
          }
        },
        "8e0e1934a9d842e7805b3d7305a3fdce": {
          "model_module": "@jupyter-widgets/controls",
          "model_name": "DescriptionStyleModel",
          "model_module_version": "1.5.0",
          "state": {
            "_model_module": "@jupyter-widgets/controls",
            "_model_module_version": "1.5.0",
            "_model_name": "DescriptionStyleModel",
            "_view_count": null,
            "_view_module": "@jupyter-widgets/base",
            "_view_module_version": "1.2.0",
            "_view_name": "StyleView",
            "description_width": "initial"
          }
        },
        "64f5e06a151345ae9ad9a1fd90dc6338": {
          "model_module": "ipysheet",
          "model_name": "SheetModel",
          "model_module_version": "~0.4.4",
          "state": {
            "_dom_classes": [],
            "_model_module": "ipysheet",
            "_model_module_version": "~0.4.4",
            "_model_name": "SheetModel",
            "_view_count": null,
            "_view_module": "ipysheet",
            "_view_module_version": "~0.4.4",
            "_view_name": "SheetView",
            "cells": [
              "IPY_MODEL_c5e000c9d51d4d38af6ba9c2466e3064",
              "IPY_MODEL_a89c1549b0f94c3ba1cf920790261b6e",
              "IPY_MODEL_cd5ca4302c794549b3e8aaa744fd9263",
              "IPY_MODEL_63420964399647a7b2a70157fdb0c728",
              "IPY_MODEL_a43b1d67b44a466a8243818dd1cfa35d",
              "IPY_MODEL_5a9a9e4a585e42cfb639b1d98ee62241"
            ],
            "column_headers": [
              "site_id",
              "siteName",
              "decimalLatitude",
              "decimalLongitude",
              "geodeticDatum",
              "countryCode"
            ],
            "column_resizing": true,
            "column_width": null,
            "columns": 6,
            "layout": "IPY_MODEL_ad009a2670af4baea636d95ee3bc1ddd",
            "named_cells": {},
            "row_headers": [
              "2",
              "3",
              "4"
            ],
            "row_resizing": true,
            "rows": 3,
            "search_token": "",
            "stretch_headers": "all"
          }
        },
        "c5e000c9d51d4d38af6ba9c2466e3064": {
          "model_module": "ipysheet",
          "model_name": "CellRangeModel",
          "model_module_version": "~0.4.4",
          "state": {
            "_model_module": "ipysheet",
            "_model_module_version": "~0.4.4",
            "_model_name": "CellRangeModel",
            "_view_count": null,
            "_view_module": null,
            "_view_module_version": "",
            "_view_name": null,
            "choice": null,
            "column_end": 0,
            "column_start": 0,
            "date_format": "YYYY/MM/DD",
            "name": null,
            "numeric_format": "0[.]0",
            "read_only": false,
            "renderer": null,
            "row_end": 2,
            "row_start": 0,
            "squeeze_column": true,
            "squeeze_row": false,
            "style": {},
            "time_format": "h:mm:ss a",
            "transpose": false,
            "type": "numeric",
            "value": [
              3,
              4,
              5
            ]
          }
        },
        "a89c1549b0f94c3ba1cf920790261b6e": {
          "model_module": "ipysheet",
          "model_name": "CellRangeModel",
          "model_module_version": "~0.4.4",
          "state": {
            "_model_module": "ipysheet",
            "_model_module_version": "~0.4.4",
            "_model_name": "CellRangeModel",
            "_view_count": null,
            "_view_module": null,
            "_view_module_version": "",
            "_view_name": null,
            "choice": null,
            "column_end": 1,
            "column_start": 1,
            "date_format": "YYYY/MM/DD",
            "name": null,
            "numeric_format": null,
            "read_only": false,
            "renderer": null,
            "row_end": 2,
            "row_start": 0,
            "squeeze_column": true,
            "squeeze_row": false,
            "style": {},
            "time_format": "h:mm:ss a",
            "transpose": false,
            "type": "text",
            "value": [
              "Site_3",
              "Site_4",
              "Site_52"
            ]
          }
        },
        "cd5ca4302c794549b3e8aaa744fd9263": {
          "model_module": "ipysheet",
          "model_name": "CellRangeModel",
          "model_module_version": "~0.4.4",
          "state": {
            "_model_module": "ipysheet",
            "_model_module_version": "~0.4.4",
            "_model_name": "CellRangeModel",
            "_view_count": null,
            "_view_module": null,
            "_view_module_version": "",
            "_view_name": null,
            "choice": null,
            "column_end": 2,
            "column_start": 2,
            "date_format": "YYYY/MM/DD",
            "name": null,
            "numeric_format": "0.000",
            "read_only": false,
            "renderer": null,
            "row_end": 2,
            "row_start": 0,
            "squeeze_column": true,
            "squeeze_row": false,
            "style": {},
            "time_format": "h:mm:ss a",
            "transpose": false,
            "type": "numeric",
            "value": [
              -39.04892,
              -39.04892,
              -39.046859
            ]
          }
        },
        "63420964399647a7b2a70157fdb0c728": {
          "model_module": "ipysheet",
          "model_name": "CellRangeModel",
          "model_module_version": "~0.4.4",
          "state": {
            "_model_module": "ipysheet",
            "_model_module_version": "~0.4.4",
            "_model_name": "CellRangeModel",
            "_view_count": null,
            "_view_module": null,
            "_view_module_version": "",
            "_view_name": null,
            "choice": null,
            "column_end": 3,
            "column_start": 3,
            "date_format": "YYYY/MM/DD",
            "name": null,
            "numeric_format": "0.000",
            "read_only": false,
            "renderer": null,
            "row_end": 2,
            "row_start": 0,
            "squeeze_column": true,
            "squeeze_row": false,
            "style": {},
            "time_format": "h:mm:ss a",
            "transpose": false,
            "type": "numeric",
            "value": [
              174.0296,
              174.0296,
              174.014944
            ]
          }
        },
        "a43b1d67b44a466a8243818dd1cfa35d": {
          "model_module": "ipysheet",
          "model_name": "CellRangeModel",
          "model_module_version": "~0.4.4",
          "state": {
            "_model_module": "ipysheet",
            "_model_module_version": "~0.4.4",
            "_model_name": "CellRangeModel",
            "_view_count": null,
            "_view_module": null,
            "_view_module_version": "",
            "_view_name": null,
            "choice": null,
            "column_end": 4,
            "column_start": 4,
            "date_format": "YYYY/MM/DD",
            "name": null,
            "numeric_format": null,
            "read_only": false,
            "renderer": null,
            "row_end": 2,
            "row_start": 0,
            "squeeze_column": true,
            "squeeze_row": false,
            "style": {},
            "time_format": "h:mm:ss a",
            "transpose": false,
            "type": "text",
            "value": [
              "WGS84",
              "WGS84",
              "WGS84"
            ]
          }
        },
        "5a9a9e4a585e42cfb639b1d98ee62241": {
          "model_module": "ipysheet",
          "model_name": "CellRangeModel",
          "model_module_version": "~0.4.4",
          "state": {
            "_model_module": "ipysheet",
            "_model_module_version": "~0.4.4",
            "_model_name": "CellRangeModel",
            "_view_count": null,
            "_view_module": null,
            "_view_module_version": "",
            "_view_name": null,
            "choice": null,
            "column_end": 5,
            "column_start": 5,
            "date_format": "YYYY/MM/DD",
            "name": null,
            "numeric_format": null,
            "read_only": false,
            "renderer": null,
            "row_end": 2,
            "row_start": 0,
            "squeeze_column": true,
            "squeeze_row": false,
            "style": {},
            "time_format": "h:mm:ss a",
            "transpose": false,
            "type": "text",
            "value": [
              "NZ",
              "NZ",
              "NZ"
            ]
          }
        },
        "ad009a2670af4baea636d95ee3bc1ddd": {
          "model_module": "@jupyter-widgets/base",
          "model_name": "LayoutModel",
          "model_module_version": "1.2.0",
          "state": {
            "_model_module": "@jupyter-widgets/base",
            "_model_module_version": "1.2.0",
            "_model_name": "LayoutModel",
            "_view_count": null,
            "_view_module": "@jupyter-widgets/base",
            "_view_module_version": "1.2.0",
            "_view_name": "LayoutView",
            "align_content": null,
            "align_items": null,
            "align_self": null,
            "border": null,
            "bottom": null,
            "display": null,
            "flex": null,
            "flex_flow": null,
            "grid_area": null,
            "grid_auto_columns": null,
            "grid_auto_flow": null,
            "grid_auto_rows": null,
            "grid_column": null,
            "grid_gap": null,
            "grid_row": null,
            "grid_template_areas": null,
            "grid_template_columns": null,
            "grid_template_rows": null,
            "height": "auto",
            "justify_content": null,
            "justify_items": null,
            "left": null,
            "margin": null,
            "max_height": null,
            "max_width": null,
            "min_height": null,
            "min_width": null,
            "object_fit": null,
            "object_position": null,
            "order": null,
            "overflow": null,
            "overflow_x": null,
            "overflow_y": null,
            "padding": null,
            "right": null,
            "top": null,
            "visibility": null,
            "width": "auto"
          }
        },
        "b81d53ff2e5544cf9911cdf7499bf833": {
          "model_module": "@jupyter-widgets/controls",
          "model_name": "HBoxModel",
          "model_module_version": "1.5.0",
          "state": {
            "_dom_classes": [],
            "_model_module": "@jupyter-widgets/controls",
            "_model_module_version": "1.5.0",
            "_model_name": "HBoxModel",
            "_view_count": null,
            "_view_module": "@jupyter-widgets/controls",
            "_view_module_version": "1.5.0",
            "_view_name": "HBoxView",
            "box_style": "",
            "children": [
              "IPY_MODEL_cd6c2a07ee4a484eb551c5c2d39cdd0d",
              "IPY_MODEL_4e192bf0480f43fd8256515872b48924"
            ],
            "layout": "IPY_MODEL_a20c09705a604159b40b7f5e6d709ab9"
          }
        },
        "cd6c2a07ee4a484eb551c5c2d39cdd0d": {
          "model_module": "@jupyter-widgets/controls",
          "model_name": "ButtonModel",
          "model_module_version": "1.5.0",
          "state": {
            "_dom_classes": [],
            "_model_module": "@jupyter-widgets/controls",
            "_model_module_version": "1.5.0",
            "_model_name": "ButtonModel",
            "_view_count": null,
            "_view_module": "@jupyter-widgets/controls",
            "_view_module_version": "1.5.0",
            "_view_name": "ButtonView",
            "button_style": "danger",
            "description": "Yes, details are correct",
            "disabled": false,
            "icon": "",
            "layout": "IPY_MODEL_0e2ed95778d64156b0c79de7877f57f4",
            "style": "IPY_MODEL_12123033778e4b628d4a39c60e9047a7",
            "tooltip": ""
          }
        },
        "4e192bf0480f43fd8256515872b48924": {
          "model_module": "@jupyter-widgets/controls",
          "model_name": "ButtonModel",
          "model_module_version": "1.5.0",
          "state": {
            "_dom_classes": [],
            "_model_module": "@jupyter-widgets/controls",
            "_model_module_version": "1.5.0",
            "_model_name": "ButtonModel",
            "_view_count": null,
            "_view_module": "@jupyter-widgets/controls",
            "_view_module_version": "1.5.0",
            "_view_name": "ButtonView",
            "button_style": "danger",
            "description": "No, I will go back and fix them",
            "disabled": false,
            "icon": "",
            "layout": "IPY_MODEL_e0bd598a182740d39df10e388230e345",
            "style": "IPY_MODEL_67c4618245dd430ba6d7f5f6c3454866",
            "tooltip": ""
          }
        },
        "a20c09705a604159b40b7f5e6d709ab9": {
          "model_module": "@jupyter-widgets/base",
          "model_name": "LayoutModel",
          "model_module_version": "1.2.0",
          "state": {
            "_model_module": "@jupyter-widgets/base",
            "_model_module_version": "1.2.0",
            "_model_name": "LayoutModel",
            "_view_count": null,
            "_view_module": "@jupyter-widgets/base",
            "_view_module_version": "1.2.0",
            "_view_name": "LayoutView",
            "align_content": null,
            "align_items": null,
            "align_self": null,
            "border": null,
            "bottom": null,
            "display": null,
            "flex": null,
            "flex_flow": null,
            "grid_area": null,
            "grid_auto_columns": null,
            "grid_auto_flow": null,
            "grid_auto_rows": null,
            "grid_column": null,
            "grid_gap": null,
            "grid_row": null,
            "grid_template_areas": null,
            "grid_template_columns": null,
            "grid_template_rows": null,
            "height": null,
            "justify_content": null,
            "justify_items": null,
            "left": null,
            "margin": null,
            "max_height": null,
            "max_width": null,
            "min_height": null,
            "min_width": null,
            "object_fit": null,
            "object_position": null,
            "order": null,
            "overflow": null,
            "overflow_x": null,
            "overflow_y": null,
            "padding": null,
            "right": null,
            "top": null,
            "visibility": null,
            "width": null
          }
        },
        "0e2ed95778d64156b0c79de7877f57f4": {
          "model_module": "@jupyter-widgets/base",
          "model_name": "LayoutModel",
          "model_module_version": "1.2.0",
          "state": {
            "_model_module": "@jupyter-widgets/base",
            "_model_module_version": "1.2.0",
            "_model_name": "LayoutModel",
            "_view_count": null,
            "_view_module": "@jupyter-widgets/base",
            "_view_module_version": "1.2.0",
            "_view_name": "LayoutView",
            "align_content": null,
            "align_items": null,
            "align_self": null,
            "border": null,
            "bottom": null,
            "display": null,
            "flex": null,
            "flex_flow": null,
            "grid_area": null,
            "grid_auto_columns": null,
            "grid_auto_flow": null,
            "grid_auto_rows": null,
            "grid_column": null,
            "grid_gap": null,
            "grid_row": null,
            "grid_template_areas": null,
            "grid_template_columns": null,
            "grid_template_rows": null,
            "height": null,
            "justify_content": null,
            "justify_items": null,
            "left": null,
            "margin": null,
            "max_height": null,
            "max_width": null,
            "min_height": null,
            "min_width": null,
            "object_fit": null,
            "object_position": null,
            "order": null,
            "overflow": null,
            "overflow_x": null,
            "overflow_y": null,
            "padding": null,
            "right": null,
            "top": null,
            "visibility": null,
            "width": "25%"
          }
        },
        "12123033778e4b628d4a39c60e9047a7": {
          "model_module": "@jupyter-widgets/controls",
          "model_name": "ButtonStyleModel",
          "model_module_version": "1.5.0",
          "state": {
            "_model_module": "@jupyter-widgets/controls",
            "_model_module_version": "1.5.0",
            "_model_name": "ButtonStyleModel",
            "_view_count": null,
            "_view_module": "@jupyter-widgets/base",
            "_view_module_version": "1.2.0",
            "_view_name": "StyleView",
            "button_color": null,
            "font_weight": ""
          }
        },
        "e0bd598a182740d39df10e388230e345": {
          "model_module": "@jupyter-widgets/base",
          "model_name": "LayoutModel",
          "model_module_version": "1.2.0",
          "state": {
            "_model_module": "@jupyter-widgets/base",
            "_model_module_version": "1.2.0",
            "_model_name": "LayoutModel",
            "_view_count": null,
            "_view_module": "@jupyter-widgets/base",
            "_view_module_version": "1.2.0",
            "_view_name": "LayoutView",
            "align_content": null,
            "align_items": null,
            "align_self": null,
            "border": null,
            "bottom": null,
            "display": null,
            "flex": null,
            "flex_flow": null,
            "grid_area": null,
            "grid_auto_columns": null,
            "grid_auto_flow": null,
            "grid_auto_rows": null,
            "grid_column": null,
            "grid_gap": null,
            "grid_row": null,
            "grid_template_areas": null,
            "grid_template_columns": null,
            "grid_template_rows": null,
            "height": null,
            "justify_content": null,
            "justify_items": null,
            "left": null,
            "margin": null,
            "max_height": null,
            "max_width": null,
            "min_height": null,
            "min_width": null,
            "object_fit": null,
            "object_position": null,
            "order": null,
            "overflow": null,
            "overflow_x": null,
            "overflow_y": null,
            "padding": null,
            "right": null,
            "top": null,
            "visibility": null,
            "width": "45%"
          }
        },
        "67c4618245dd430ba6d7f5f6c3454866": {
          "model_module": "@jupyter-widgets/controls",
          "model_name": "ButtonStyleModel",
          "model_module_version": "1.5.0",
          "state": {
            "_model_module": "@jupyter-widgets/controls",
            "_model_module_version": "1.5.0",
            "_model_name": "ButtonStyleModel",
            "_view_count": null,
            "_view_module": "@jupyter-widgets/base",
            "_view_module_version": "1.2.0",
            "_view_name": "StyleView",
            "button_color": null,
            "font_weight": ""
          }
        }
      }
    }
  },
  "nbformat": 4,
  "nbformat_minor": 5
}