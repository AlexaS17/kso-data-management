{
 "cells": [
  {
   "cell_type": "markdown",
   "id": "95aea466",
   "metadata": {
    "id": "95aea466"
   },
   "source": [
    "<img align=\"left\" src=\"https://panoptes-uploads.zooniverse.org/project_avatar/86c23ca7-bbaa-4e84-8d8a-876819551431.png\" type=\"image/png\" height=100 width=100>\n",
    "</img>\n",
    "\n",
    "\n",
    "<h1 align=\"right\">Colab KSO Tutorial #1: Check and update csv files</h1>\n",
    "<h3 align=\"right\">Written by @jannesgg and @vykanton</h3>\n",
    "<h5 align=\"right\">Last updated: Aug 28th, 2022</h5>"
   ]
  },
  {
   "cell_type": "markdown",
   "id": "6f0fc779",
   "metadata": {
    "id": "6f0fc779"
   },
   "source": [
    "# Set up and requirements"
   ]
  },
  {
   "cell_type": "markdown",
   "id": "3c49080c",
   "metadata": {
    "id": "3c49080c"
   },
   "source": [
    "## Install kso_data_management and its requirements"
   ]
  },
  {
   "cell_type": "code",
   "execution_count": null,
   "id": "e6a1555e",
   "metadata": {
    "id": "e6a1555e"
   },
   "outputs": [],
   "source": [
    "# Clone koster_data_management repo\n",
    "!git clone --recurse-submodules -b dev https://github.com/ocean-data-factory-sweden/koster_data_management.git\n",
    "!pip install -r koster_data_management/requirements.txt\n",
    "\n",
    "# Install ipysheet version compatible in colab\n",
    "!pip install ipysheet==0.4.4\n",
    "\n",
    "# Restart the session to load the latest packages\n",
    "exit()"
   ]
  },
  {
   "cell_type": "markdown",
   "id": "6b9b11d5",
   "metadata": {
    "id": "6b9b11d5"
   },
   "source": [
    "### Import Python packages"
   ]
  },
  {
   "cell_type": "code",
   "execution_count": null,
   "id": "46ca201f",
   "metadata": {
    "id": "46ca201f"
   },
   "outputs": [],
   "source": [
    "# Set the directory of the libraries\n",
    "import sys, os\n",
    "from pathlib import Path\n",
    "\n",
    "# Enables testing changes in utils\n",
    "%load_ext autoreload\n",
    "%autoreload 2\n",
    "\n",
    "# Specify the path of the tutorials\n",
    "os.chdir(\"koster_data_management/tutorials\")\n",
    "sys.path.append('..')\n",
    "\n",
    "# Enable third-party widgets(ipysheet)\n",
    "from google.colab import output\n",
    "output.enable_custom_widget_manager()\n",
    "\n",
    "# Import required modules\n",
    "import kso_utils.tutorials_utils as t_utils\n",
    "import kso_utils.project_utils as p_utils\n",
    "import kso_utils.t1_utils as t1\n",
    "\n",
    "print(\"Packages loaded successfully\")"
   ]
  },
  {
   "cell_type": "markdown",
   "id": "fdc7152a",
   "metadata": {
    "id": "fdc7152a"
   },
   "source": [
    "### Choose your project"
   ]
  },
  {
   "cell_type": "code",
   "execution_count": 2,
   "id": "1c1aabda",
   "metadata": {
    "colab": {
     "base_uri": "https://localhost:8080/",
     "height": 49,
     "referenced_widgets": [
      "c0e7a703312a4679a2aacb0a6f10d95c",
      "5f2d843bd74f4786b16cf3c2e6562878",
      "d50b2f134535422f8a7f2761b4242b72"
     ]
    },
    "id": "1c1aabda",
    "outputId": "e7ee8e3f-01bb-44f6-900c-e23132a455a5"
   },
   "outputs": [
    {
     "data": {
      "application/vnd.jupyter.widget-view+json": {
       "model_id": "c0e7a703312a4679a2aacb0a6f10d95c",
       "version_major": 2,
       "version_minor": 0
      },
      "text/plain": [
       "Dropdown(description='Project:', options=('Template project', 'Koster_Seafloor_Obs', 'Spyfish_Aotearoa', 'SGU'…"
      ]
     },
     "metadata": {
      "application/vnd.jupyter.widget-view+json": {
       "colab": {
        "custom_widget_manager": {
         "url": "https://ssl.gstatic.com/colaboratory-static/widgets/colab-cdn-widget-manager/d2e234f7cc04bf79/manager.min.js"
        }
       }
      }
     },
     "output_type": "display_data"
    }
   ],
   "source": [
    "project_name = t_utils.choose_project()"
   ]
  },
  {
   "cell_type": "markdown",
   "id": "2URxgu8PQDZh",
   "metadata": {
    "id": "2URxgu8PQDZh"
   },
   "source": [
    "## Initiate database"
   ]
  },
  {
   "cell_type": "code",
   "execution_count": 3,
   "id": "41994eb6",
   "metadata": {
    "colab": {
     "base_uri": "https://localhost:8080/"
    },
    "id": "41994eb6",
    "outputId": "68cd9297-5202-4ac8-aad9-0dca0a3952a4"
   },
   "outputs": [
    {
     "name": "stderr",
     "output_type": "stream",
     "text": [
      "Downloading...\n",
      "From: https://drive.google.com/uc?id=1PZGRoSY_UpyLfMhRphMUMwDXw4yx1_Fn\n",
      "To: /content/koster_data_management/tutorials/db_csv_info.zip\n",
      "100%|██████████| 2.25k/2.25k [00:00<00:00, 2.51MB/s]\n",
      "ERROR:root:The table movies has invalid entries, please ensure that all columns are non-zero\n",
      "ERROR:root:The invalid entries are    movie_id     filename  created_on  fps  duration  sampling_start  \\\n",
      "0         1  movie_1.mp4  13/08/2021  NaN       NaN             NaN   \n",
      "1         2  movie_2.mp4  13/08/2021  NaN       NaN             NaN   \n",
      "2         3  movie_3.mp4  13/08/2021  NaN       NaN             NaN   \n",
      "3         4  movie_4.mp4  18/08/2021  NaN       NaN             NaN   \n",
      "4         5  movie_5.mp4  18/08/2021  NaN       NaN             NaN   \n",
      "\n",
      "   sampling_end         Author  Site_id  \\\n",
      "0           NaN  Author_name_1        1   \n",
      "1           NaN  Author_name_2        1   \n",
      "2           NaN  Author_name_3        1   \n",
      "3           NaN  Author_name_4        1   \n",
      "4           NaN  Author_name_1        2   \n",
      "\n",
      "                                               Fpath  \n",
      "0  https://www.wildlife.ai/wp-content/uploads/202...  \n",
      "1  https://www.wildlife.ai/wp-content/uploads/202...  \n",
      "2  https://www.wildlife.ai/wp-content/uploads/202...  \n",
      "3  https://www.wildlife.ai/wp-content/uploads/202...  \n",
      "4  https://www.wildlife.ai/wp-content/uploads/202...  \n"
     ]
    }
   ],
   "source": [
    "project = p_utils.find_project(project_name=project_name.value)\n",
    "db_info_dict = t_utils.initiate_db(project)"
   ]
  },
  {
   "cell_type": "markdown",
   "id": "52f976b8",
   "metadata": {
    "id": "52f976b8"
   },
   "source": [
    "# Review Sites"
   ]
  },
  {
   "cell_type": "markdown",
   "id": "5__P6hq1QRjF",
   "metadata": {
    "id": "5__P6hq1QRjF"
   },
   "source": [
    "## Map sites and metadata"
   ]
  },
  {
   "cell_type": "code",
   "execution_count": 30,
   "id": "J9Dm5_ghmJ3_",
   "metadata": {
    "colab": {
     "base_uri": "https://localhost:8080/",
     "height": 685
    },
    "id": "J9Dm5_ghmJ3_",
    "outputId": "4da288b0-4511-43cb-b1c8-e19c636f788d"
   },
   "outputs": [
    {
     "data": {
      "text/html": [
       "<div style=\"width:100%;\"><div style=\"position:relative;width:100%;height:0;padding-bottom:60%;\"><span style=\"color:#565656\">Make this Notebook Trusted to load map: File -> Trust Notebook</span><iframe srcdoc=\"&lt;!DOCTYPE html&gt;\n",
       "&lt;head&gt;    \n",
       "    &lt;meta http-equiv=&quot;content-type&quot; content=&quot;text/html; charset=UTF-8&quot; /&gt;\n",
       "    \n",
       "        &lt;script&gt;\n",
       "            L_NO_TOUCH = false;\n",
       "            L_DISABLE_3D = false;\n",
       "        &lt;/script&gt;\n",
       "    \n",
       "    &lt;style&gt;html, body {width: 100%;height: 100%;margin: 0;padding: 0;}&lt;/style&gt;\n",
       "    &lt;style&gt;#map {position:absolute;top:0;bottom:0;right:0;left:0;}&lt;/style&gt;\n",
       "    &lt;script src=&quot;https://cdn.jsdelivr.net/npm/leaflet@1.6.0/dist/leaflet.js&quot;&gt;&lt;/script&gt;\n",
       "    &lt;script src=&quot;https://code.jquery.com/jquery-1.12.4.min.js&quot;&gt;&lt;/script&gt;\n",
       "    &lt;script src=&quot;https://maxcdn.bootstrapcdn.com/bootstrap/3.2.0/js/bootstrap.min.js&quot;&gt;&lt;/script&gt;\n",
       "    &lt;script src=&quot;https://cdnjs.cloudflare.com/ajax/libs/Leaflet.awesome-markers/2.0.2/leaflet.awesome-markers.js&quot;&gt;&lt;/script&gt;\n",
       "    &lt;link rel=&quot;stylesheet&quot; href=&quot;https://cdn.jsdelivr.net/npm/leaflet@1.6.0/dist/leaflet.css&quot;/&gt;\n",
       "    &lt;link rel=&quot;stylesheet&quot; href=&quot;https://maxcdn.bootstrapcdn.com/bootstrap/3.2.0/css/bootstrap.min.css&quot;/&gt;\n",
       "    &lt;link rel=&quot;stylesheet&quot; href=&quot;https://maxcdn.bootstrapcdn.com/bootstrap/3.2.0/css/bootstrap-theme.min.css&quot;/&gt;\n",
       "    &lt;link rel=&quot;stylesheet&quot; href=&quot;https://maxcdn.bootstrapcdn.com/font-awesome/4.6.3/css/font-awesome.min.css&quot;/&gt;\n",
       "    &lt;link rel=&quot;stylesheet&quot; href=&quot;https://cdnjs.cloudflare.com/ajax/libs/Leaflet.awesome-markers/2.0.2/leaflet.awesome-markers.css&quot;/&gt;\n",
       "    &lt;link rel=&quot;stylesheet&quot; href=&quot;https://cdn.jsdelivr.net/gh/python-visualization/folium/folium/templates/leaflet.awesome.rotate.min.css&quot;/&gt;\n",
       "    \n",
       "            &lt;meta name=&quot;viewport&quot; content=&quot;width=device-width,\n",
       "                initial-scale=1.0, maximum-scale=1.0, user-scalable=no&quot; /&gt;\n",
       "            &lt;style&gt;\n",
       "                #map_226fb72e6faba3d561d79faea7699063 {\n",
       "                    position: relative;\n",
       "                    width: 900.0px;\n",
       "                    height: 600.0px;\n",
       "                    left: 0.0%;\n",
       "                    top: 0.0%;\n",
       "                }\n",
       "            &lt;/style&gt;\n",
       "        \n",
       "    &lt;script src=&quot;https://cdnjs.cloudflare.com/ajax/libs/leaflet-minimap/3.6.1/Control.MiniMap.js&quot;&gt;&lt;/script&gt;\n",
       "    &lt;link rel=&quot;stylesheet&quot; href=&quot;https://cdnjs.cloudflare.com/ajax/libs/leaflet-minimap/3.6.1/Control.MiniMap.css&quot;/&gt;\n",
       "&lt;/head&gt;\n",
       "&lt;body&gt;    \n",
       "    \n",
       "            &lt;div class=&quot;folium-map&quot; id=&quot;map_226fb72e6faba3d561d79faea7699063&quot; &gt;&lt;/div&gt;\n",
       "        \n",
       "&lt;/body&gt;\n",
       "&lt;script&gt;    \n",
       "    \n",
       "            var map_226fb72e6faba3d561d79faea7699063 = L.map(\n",
       "                &quot;map_226fb72e6faba3d561d79faea7699063&quot;,\n",
       "                {\n",
       "                    center: [-39.296109, 174.063916],\n",
       "                    crs: L.CRS.EPSG3857,\n",
       "                    zoom: 10,\n",
       "                    zoomControl: true,\n",
       "                    preferCanvas: false,\n",
       "                }\n",
       "            );\n",
       "\n",
       "            \n",
       "\n",
       "        \n",
       "    \n",
       "            var tile_layer_a4a03b0b869dd540d335a5426d1dc674 = L.tileLayer(\n",
       "                &quot;https://{s}.tile.openstreetmap.org/{z}/{x}/{y}.png&quot;,\n",
       "                {&quot;attribution&quot;: &quot;Data by \\u0026copy; \\u003ca href=\\&quot;http://openstreetmap.org\\&quot;\\u003eOpenStreetMap\\u003c/a\\u003e, under \\u003ca href=\\&quot;http://www.openstreetmap.org/copyright\\&quot;\\u003eODbL\\u003c/a\\u003e.&quot;, &quot;detectRetina&quot;: false, &quot;maxNativeZoom&quot;: 18, &quot;maxZoom&quot;: 18, &quot;minZoom&quot;: 0, &quot;noWrap&quot;: false, &quot;opacity&quot;: 1, &quot;subdomains&quot;: &quot;abc&quot;, &quot;tms&quot;: false}\n",
       "            ).addTo(map_226fb72e6faba3d561d79faea7699063);\n",
       "        \n",
       "    \n",
       "            var circle_marker_ccda85704914a949fe3c86109e7e08ac = L.circleMarker(\n",
       "                [-39.052281, 174.023941],\n",
       "                {&quot;bubblingMouseEvents&quot;: true, &quot;color&quot;: &quot;#3388ff&quot;, &quot;dashArray&quot;: null, &quot;dashOffset&quot;: null, &quot;fill&quot;: false, &quot;fillColor&quot;: &quot;#3388ff&quot;, &quot;fillOpacity&quot;: 0.2, &quot;fillRule&quot;: &quot;evenodd&quot;, &quot;lineCap&quot;: &quot;round&quot;, &quot;lineJoin&quot;: &quot;round&quot;, &quot;opacity&quot;: 1.0, &quot;radius&quot;: 14, &quot;stroke&quot;: true, &quot;weight&quot;: 3}\n",
       "            ).addTo(map_226fb72e6faba3d561d79faea7699063);\n",
       "        \n",
       "    \n",
       "        var popup_c71963c8d887f6dad754ee6f7cbc857e = L.popup({&quot;maxWidth&quot;: &quot;100%&quot;});\n",
       "\n",
       "        \n",
       "            var html_e63cb8887499125913ea5654155c3e32 = $(`&lt;div id=&quot;html_e63cb8887499125913ea5654155c3e32&quot; style=&quot;width: 100.0%; height: 100.0%;&quot;&gt;[1, &#x27;Site_1&#x27;, -39.052281, 174.023941, &#x27;WGS84&#x27;, &#x27;NZ&#x27;]&lt;/div&gt;`)[0];\n",
       "            popup_c71963c8d887f6dad754ee6f7cbc857e.setContent(html_e63cb8887499125913ea5654155c3e32);\n",
       "        \n",
       "\n",
       "        circle_marker_ccda85704914a949fe3c86109e7e08ac.bindPopup(popup_c71963c8d887f6dad754ee6f7cbc857e)\n",
       "        ;\n",
       "\n",
       "        \n",
       "    \n",
       "    \n",
       "            circle_marker_ccda85704914a949fe3c86109e7e08ac.bindTooltip(\n",
       "                `&lt;div&gt;\n",
       "                     siteName    Site_1\n",
       "Name: 0, dtype: object\n",
       "                 &lt;/div&gt;`,\n",
       "                {&quot;sticky&quot;: true}\n",
       "            );\n",
       "        \n",
       "    \n",
       "            var circle_marker_bac55d46ddfc8c874006193c7c30d398 = L.circleMarker(\n",
       "                [-39.057633, 174.018739],\n",
       "                {&quot;bubblingMouseEvents&quot;: true, &quot;color&quot;: &quot;#3388ff&quot;, &quot;dashArray&quot;: null, &quot;dashOffset&quot;: null, &quot;fill&quot;: false, &quot;fillColor&quot;: &quot;#3388ff&quot;, &quot;fillOpacity&quot;: 0.2, &quot;fillRule&quot;: &quot;evenodd&quot;, &quot;lineCap&quot;: &quot;round&quot;, &quot;lineJoin&quot;: &quot;round&quot;, &quot;opacity&quot;: 1.0, &quot;radius&quot;: 14, &quot;stroke&quot;: true, &quot;weight&quot;: 3}\n",
       "            ).addTo(map_226fb72e6faba3d561d79faea7699063);\n",
       "        \n",
       "    \n",
       "        var popup_3253216419b64046baa5a298980a9a76 = L.popup({&quot;maxWidth&quot;: &quot;100%&quot;});\n",
       "\n",
       "        \n",
       "            var html_2b3aa62f25770c16ab408467131c0d3a = $(`&lt;div id=&quot;html_2b3aa62f25770c16ab408467131c0d3a&quot; style=&quot;width: 100.0%; height: 100.0%;&quot;&gt;[2, &#x27;Site_2&#x27;, -39.057633, 174.018739, &#x27;WGS84&#x27;, &#x27;NZ&#x27;]&lt;/div&gt;`)[0];\n",
       "            popup_3253216419b64046baa5a298980a9a76.setContent(html_2b3aa62f25770c16ab408467131c0d3a);\n",
       "        \n",
       "\n",
       "        circle_marker_bac55d46ddfc8c874006193c7c30d398.bindPopup(popup_3253216419b64046baa5a298980a9a76)\n",
       "        ;\n",
       "\n",
       "        \n",
       "    \n",
       "    \n",
       "            circle_marker_bac55d46ddfc8c874006193c7c30d398.bindTooltip(\n",
       "                `&lt;div&gt;\n",
       "                     siteName    Site_2\n",
       "Name: 1, dtype: object\n",
       "                 &lt;/div&gt;`,\n",
       "                {&quot;sticky&quot;: true}\n",
       "            );\n",
       "        \n",
       "    \n",
       "            var circle_marker_2c914849d98ea860e93dd936d1266965 = L.circleMarker(\n",
       "                [-39.04892, 174.0296],\n",
       "                {&quot;bubblingMouseEvents&quot;: true, &quot;color&quot;: &quot;#3388ff&quot;, &quot;dashArray&quot;: null, &quot;dashOffset&quot;: null, &quot;fill&quot;: false, &quot;fillColor&quot;: &quot;#3388ff&quot;, &quot;fillOpacity&quot;: 0.2, &quot;fillRule&quot;: &quot;evenodd&quot;, &quot;lineCap&quot;: &quot;round&quot;, &quot;lineJoin&quot;: &quot;round&quot;, &quot;opacity&quot;: 1.0, &quot;radius&quot;: 14, &quot;stroke&quot;: true, &quot;weight&quot;: 3}\n",
       "            ).addTo(map_226fb72e6faba3d561d79faea7699063);\n",
       "        \n",
       "    \n",
       "        var popup_c20bce95d6c64eeb39c5e80bacd81f1a = L.popup({&quot;maxWidth&quot;: &quot;100%&quot;});\n",
       "\n",
       "        \n",
       "            var html_bda747849dbe97012c7245046ac1a661 = $(`&lt;div id=&quot;html_bda747849dbe97012c7245046ac1a661&quot; style=&quot;width: 100.0%; height: 100.0%;&quot;&gt;[3, &#x27;Site_3&#x27;, -39.04892, 174.0296, &#x27;WGS84&#x27;, &#x27;NZ&#x27;]&lt;/div&gt;`)[0];\n",
       "            popup_c20bce95d6c64eeb39c5e80bacd81f1a.setContent(html_bda747849dbe97012c7245046ac1a661);\n",
       "        \n",
       "\n",
       "        circle_marker_2c914849d98ea860e93dd936d1266965.bindPopup(popup_c20bce95d6c64eeb39c5e80bacd81f1a)\n",
       "        ;\n",
       "\n",
       "        \n",
       "    \n",
       "    \n",
       "            circle_marker_2c914849d98ea860e93dd936d1266965.bindTooltip(\n",
       "                `&lt;div&gt;\n",
       "                     siteName    Site_3\n",
       "Name: 2, dtype: object\n",
       "                 &lt;/div&gt;`,\n",
       "                {&quot;sticky&quot;: true}\n",
       "            );\n",
       "        \n",
       "    \n",
       "            var circle_marker_2f4b59d9013625949eb96bf63264c573 = L.circleMarker(\n",
       "                [-39.046859, 174.014944],\n",
       "                {&quot;bubblingMouseEvents&quot;: true, &quot;color&quot;: &quot;#3388ff&quot;, &quot;dashArray&quot;: null, &quot;dashOffset&quot;: null, &quot;fill&quot;: false, &quot;fillColor&quot;: &quot;#3388ff&quot;, &quot;fillOpacity&quot;: 0.2, &quot;fillRule&quot;: &quot;evenodd&quot;, &quot;lineCap&quot;: &quot;round&quot;, &quot;lineJoin&quot;: &quot;round&quot;, &quot;opacity&quot;: 1.0, &quot;radius&quot;: 14, &quot;stroke&quot;: true, &quot;weight&quot;: 3}\n",
       "            ).addTo(map_226fb72e6faba3d561d79faea7699063);\n",
       "        \n",
       "    \n",
       "        var popup_01b90b473f5481f4f8aa2d718a24f872 = L.popup({&quot;maxWidth&quot;: &quot;100%&quot;});\n",
       "\n",
       "        \n",
       "            var html_dd8a2a75b7b0308270fbcce1fb8f2feb = $(`&lt;div id=&quot;html_dd8a2a75b7b0308270fbcce1fb8f2feb&quot; style=&quot;width: 100.0%; height: 100.0%;&quot;&gt;[4, &#x27;Site_4&#x27;, -39.046859, 174.014944, &#x27;WGS84&#x27;, &#x27;NZ&#x27;]&lt;/div&gt;`)[0];\n",
       "            popup_01b90b473f5481f4f8aa2d718a24f872.setContent(html_dd8a2a75b7b0308270fbcce1fb8f2feb);\n",
       "        \n",
       "\n",
       "        circle_marker_2f4b59d9013625949eb96bf63264c573.bindPopup(popup_01b90b473f5481f4f8aa2d718a24f872)\n",
       "        ;\n",
       "\n",
       "        \n",
       "    \n",
       "    \n",
       "            circle_marker_2f4b59d9013625949eb96bf63264c573.bindTooltip(\n",
       "                `&lt;div&gt;\n",
       "                     siteName    Site_4\n",
       "Name: 3, dtype: object\n",
       "                 &lt;/div&gt;`,\n",
       "                {&quot;sticky&quot;: true}\n",
       "            );\n",
       "        \n",
       "    \n",
       "            var circle_marker_a938f1de3e66f2e5a017d6eb673077c8 = L.circleMarker(\n",
       "                [-39.053019, 175.015039],\n",
       "                {&quot;bubblingMouseEvents&quot;: true, &quot;color&quot;: &quot;#3388ff&quot;, &quot;dashArray&quot;: null, &quot;dashOffset&quot;: null, &quot;fill&quot;: false, &quot;fillColor&quot;: &quot;#3388ff&quot;, &quot;fillOpacity&quot;: 0.2, &quot;fillRule&quot;: &quot;evenodd&quot;, &quot;lineCap&quot;: &quot;round&quot;, &quot;lineJoin&quot;: &quot;round&quot;, &quot;opacity&quot;: 1.0, &quot;radius&quot;: 14, &quot;stroke&quot;: true, &quot;weight&quot;: 3}\n",
       "            ).addTo(map_226fb72e6faba3d561d79faea7699063);\n",
       "        \n",
       "    \n",
       "        var popup_d8a5f45befc5bb090fa43826a7f7da64 = L.popup({&quot;maxWidth&quot;: &quot;100%&quot;});\n",
       "\n",
       "        \n",
       "            var html_63bd26b8908673ed3ca4ba8661887d23 = $(`&lt;div id=&quot;html_63bd26b8908673ed3ca4ba8661887d23&quot; style=&quot;width: 100.0%; height: 100.0%;&quot;&gt;[5, &#x27;Site_5&#x27;, -39.053019, 175.015039, &#x27;WGS84&#x27;, &#x27;NZ&#x27;]&lt;/div&gt;`)[0];\n",
       "            popup_d8a5f45befc5bb090fa43826a7f7da64.setContent(html_63bd26b8908673ed3ca4ba8661887d23);\n",
       "        \n",
       "\n",
       "        circle_marker_a938f1de3e66f2e5a017d6eb673077c8.bindPopup(popup_d8a5f45befc5bb090fa43826a7f7da64)\n",
       "        ;\n",
       "\n",
       "        \n",
       "    \n",
       "    \n",
       "            circle_marker_a938f1de3e66f2e5a017d6eb673077c8.bindTooltip(\n",
       "                `&lt;div&gt;\n",
       "                     siteName    Site_5\n",
       "Name: 4, dtype: object\n",
       "                 &lt;/div&gt;`,\n",
       "                {&quot;sticky&quot;: true}\n",
       "            );\n",
       "        \n",
       "    \n",
       "            var tile_layer_9e4cc7cb55e9551bcf56fbbafa42b929 = L.tileLayer(\n",
       "                &quot;https://{s}.tile.openstreetmap.org/{z}/{x}/{y}.png&quot;,\n",
       "                {&quot;attribution&quot;: &quot;Data by \\u0026copy; \\u003ca href=\\&quot;http://openstreetmap.org\\&quot;\\u003eOpenStreetMap\\u003c/a\\u003e, under \\u003ca href=\\&quot;http://www.openstreetmap.org/copyright\\&quot;\\u003eODbL\\u003c/a\\u003e.&quot;, &quot;detectRetina&quot;: false, &quot;maxNativeZoom&quot;: 18, &quot;maxZoom&quot;: 18, &quot;minZoom&quot;: 0, &quot;noWrap&quot;: false, &quot;opacity&quot;: 1, &quot;subdomains&quot;: &quot;abc&quot;, &quot;tms&quot;: false}\n",
       "            );\n",
       "            var mini_map_08c77417b24fcecb58e72469a3595fab = new L.Control.MiniMap(\n",
       "                tile_layer_9e4cc7cb55e9551bcf56fbbafa42b929,\n",
       "                {&quot;autoToggleDisplay&quot;: false, &quot;centerFixed&quot;: false, &quot;collapsedHeight&quot;: 25, &quot;collapsedWidth&quot;: 25, &quot;height&quot;: 150, &quot;minimized&quot;: false, &quot;position&quot;: &quot;bottomright&quot;, &quot;toggleDisplay&quot;: false, &quot;width&quot;: 150, &quot;zoomAnimation&quot;: false, &quot;zoomLevelOffset&quot;: -5}\n",
       "            );\n",
       "            map_226fb72e6faba3d561d79faea7699063.addControl(mini_map_08c77417b24fcecb58e72469a3595fab);\n",
       "        \n",
       "&lt;/script&gt;\" style=\"position:absolute;width:100%;height:100%;left:0;top:0;border:none !important;\" allowfullscreen webkitallowfullscreen mozallowfullscreen></iframe></div></div>"
      ],
      "text/plain": [
       "<folium.folium.Map at 0x7fd4aa59ca90>"
      ]
     },
     "execution_count": 30,
     "metadata": {},
     "output_type": "execute_result"
    }
   ],
   "source": [
    "kso_map = t1.map_site(db_info_dict, project)\n",
    "kso_map"
   ]
  },
  {
   "cell_type": "markdown",
   "id": "RzqjZinGQVux",
   "metadata": {
    "id": "RzqjZinGQVux"
   },
   "source": [
    "## Update sites metadata"
   ]
  },
  {
   "cell_type": "markdown",
   "id": "L8-z6pV8LKxY",
   "metadata": {
    "id": "L8-z6pV8LKxY"
   },
   "source": [
    "Select the range of sites to display"
   ]
  },
  {
   "cell_type": "code",
   "execution_count": 28,
   "id": "IQmvKQPyLR5d",
   "metadata": {
    "colab": {
     "base_uri": "https://localhost:8080/",
     "height": 87,
     "referenced_widgets": [
      "ca6f5cedfd4d45f68fbf346573604b8c",
      "8657d457f8134d8aacbef21f7a1cd2f9",
      "50106792f9f14d81b84c88a7860a83fa"
     ]
    },
    "id": "IQmvKQPyLR5d",
    "outputId": "87619fdb-92ed-44ee-fca5-f60adcc4d1a0"
   },
   "outputs": [
    {
     "data": {
      "application/vnd.jupyter.widget-view+json": {
       "model_id": "ca6f5cedfd4d45f68fbf346573604b8c",
       "version_major": 2,
       "version_minor": 0
      },
      "text/plain": [
       "SelectionRangeSlider(description='Rows to display', index=(0, 5), layout=Layout(padding='35px', width='90%'), …"
      ]
     },
     "metadata": {
      "application/vnd.jupyter.widget-view+json": {
       "colab": {
        "custom_widget_manager": {
         "url": "https://ssl.gstatic.com/colaboratory-static/widgets/colab-cdn-widget-manager/d2e234f7cc04bf79/manager.min.js"
        }
       }
      }
     },
     "output_type": "display_data"
    }
   ],
   "source": [
    "sites_df, sites_range = t1.select_sheet_range(db_initial_info = db_info_dict,\n",
    "                                              orig_csv = \"local_sites_csv\"\n",
    "                                              )"
   ]
  },
  {
   "cell_type": "markdown",
   "id": "TTEK-ACcp41U",
   "metadata": {
    "id": "TTEK-ACcp41U"
   },
   "source": [
    "You can update the contents of the cells in the spreadsheet below"
   ]
  },
  {
   "cell_type": "code",
   "execution_count": 29,
   "id": "9b01ccf5",
   "metadata": {
    "colab": {
     "base_uri": "https://localhost:8080/",
     "height": 163,
     "referenced_widgets": [
      "561797b22a6c43c8984e23089540b050",
      "fef0b6d7b7434f1cbec29917db24de24",
      "665112d54ba84160b09bb3332430cf4d",
      "34789e0faa3b4fc0ad130b10cf887e69",
      "33e17b9998c94023b12be734f1697f20",
      "d40e08ca14c54f68a57a2f1e2843085b",
      "533c539bf5bf4173939dc642d45e30c9",
      "25d946eda5e54e1f87936e58aaa2461e"
     ]
    },
    "id": "9b01ccf5",
    "outputId": "28ce0d89-7108-4fdf-b159-7e8674fbdf53"
   },
   "outputs": [
    {
     "data": {
      "application/vnd.jupyter.widget-view+json": {
       "model_id": "561797b22a6c43c8984e23089540b050",
       "version_major": 2,
       "version_minor": 0
      },
      "text/plain": [
       "Sheet(cells=(Cell(column_end=0, column_start=0, numeric_format='0[.]0', row_end=4, row_start=0, squeeze_row=Fa…"
      ]
     },
     "metadata": {
      "application/vnd.jupyter.widget-view+json": {
       "colab": {
        "custom_widget_manager": {
         "url": "https://ssl.gstatic.com/colaboratory-static/widgets/colab-cdn-widget-manager/d2e234f7cc04bf79/manager.min.js"
        }
       }
      }
     },
     "output_type": "display_data"
    }
   ],
   "source": [
    "sites_df_filtered, sites_sheet = t1.open_csv(df = sites_df, df_range = sites_range)\n",
    "sites_sheet"
   ]
  },
  {
   "cell_type": "markdown",
   "id": "nUITsuBLqIx4",
   "metadata": {
    "id": "nUITsuBLqIx4"
   },
   "source": [
    "### Review and confirm the changes"
   ]
  },
  {
   "cell_type": "code",
   "execution_count": 9,
   "id": "n5g_Fiq2qHdt",
   "metadata": {
    "colab": {
     "base_uri": "https://localhost:8080/",
     "height": 269
    },
    "id": "n5g_Fiq2qHdt",
    "outputId": "6def7cbf-3b03-4a32-9de5-7ec6622d72f0"
   },
   "outputs": [
    {
     "data": {
      "text/html": [
       "<style type=\"text/css\">\n",
       "#T_a8288_row4_col5 {\n",
       "  background-color: yellow;\n",
       "}\n",
       "</style>\n",
       "<table id=\"T_a8288_\" class=\"dataframe\">\n",
       "  <thead>\n",
       "    <tr>\n",
       "      <th class=\"blank level0\" >&nbsp;</th>\n",
       "      <th class=\"col_heading level0 col0\" colspan=\"2\">siteName</th>\n",
       "      <th class=\"col_heading level0 col2\" colspan=\"2\">decimalLatitude</th>\n",
       "      <th class=\"col_heading level0 col4\" colspan=\"2\">decimalLongitude</th>\n",
       "      <th class=\"col_heading level0 col6\" colspan=\"2\">geodeticDatum</th>\n",
       "      <th class=\"col_heading level0 col8\" colspan=\"2\">countryCode</th>\n",
       "    </tr>\n",
       "    <tr>\n",
       "      <th class=\"blank level1\" >&nbsp;</th>\n",
       "      <th class=\"col_heading level1 col0\" >Origin</th>\n",
       "      <th class=\"col_heading level1 col1\" >Update</th>\n",
       "      <th class=\"col_heading level1 col2\" >Origin</th>\n",
       "      <th class=\"col_heading level1 col3\" >Update</th>\n",
       "      <th class=\"col_heading level1 col4\" >Origin</th>\n",
       "      <th class=\"col_heading level1 col5\" >Update</th>\n",
       "      <th class=\"col_heading level1 col6\" >Origin</th>\n",
       "      <th class=\"col_heading level1 col7\" >Update</th>\n",
       "      <th class=\"col_heading level1 col8\" >Origin</th>\n",
       "      <th class=\"col_heading level1 col9\" >Update</th>\n",
       "    </tr>\n",
       "    <tr>\n",
       "      <th class=\"index_name level0\" >site_id</th>\n",
       "      <th class=\"blank col0\" >&nbsp;</th>\n",
       "      <th class=\"blank col1\" >&nbsp;</th>\n",
       "      <th class=\"blank col2\" >&nbsp;</th>\n",
       "      <th class=\"blank col3\" >&nbsp;</th>\n",
       "      <th class=\"blank col4\" >&nbsp;</th>\n",
       "      <th class=\"blank col5\" >&nbsp;</th>\n",
       "      <th class=\"blank col6\" >&nbsp;</th>\n",
       "      <th class=\"blank col7\" >&nbsp;</th>\n",
       "      <th class=\"blank col8\" >&nbsp;</th>\n",
       "      <th class=\"blank col9\" >&nbsp;</th>\n",
       "    </tr>\n",
       "  </thead>\n",
       "  <tbody>\n",
       "    <tr>\n",
       "      <th id=\"T_a8288_level0_row0\" class=\"row_heading level0 row0\" >1</th>\n",
       "      <td id=\"T_a8288_row0_col0\" class=\"data row0 col0\" >Site_1</td>\n",
       "      <td id=\"T_a8288_row0_col1\" class=\"data row0 col1\" >Site_1</td>\n",
       "      <td id=\"T_a8288_row0_col2\" class=\"data row0 col2\" >-39.052281</td>\n",
       "      <td id=\"T_a8288_row0_col3\" class=\"data row0 col3\" >-39.052281</td>\n",
       "      <td id=\"T_a8288_row0_col4\" class=\"data row0 col4\" >174.023941</td>\n",
       "      <td id=\"T_a8288_row0_col5\" class=\"data row0 col5\" >174.023941</td>\n",
       "      <td id=\"T_a8288_row0_col6\" class=\"data row0 col6\" >WGS84</td>\n",
       "      <td id=\"T_a8288_row0_col7\" class=\"data row0 col7\" >WGS84</td>\n",
       "      <td id=\"T_a8288_row0_col8\" class=\"data row0 col8\" >NZ</td>\n",
       "      <td id=\"T_a8288_row0_col9\" class=\"data row0 col9\" >NZ</td>\n",
       "    </tr>\n",
       "    <tr>\n",
       "      <th id=\"T_a8288_level0_row1\" class=\"row_heading level0 row1\" >2</th>\n",
       "      <td id=\"T_a8288_row1_col0\" class=\"data row1 col0\" >Site_2</td>\n",
       "      <td id=\"T_a8288_row1_col1\" class=\"data row1 col1\" >Site_2</td>\n",
       "      <td id=\"T_a8288_row1_col2\" class=\"data row1 col2\" >-39.057633</td>\n",
       "      <td id=\"T_a8288_row1_col3\" class=\"data row1 col3\" >-39.057633</td>\n",
       "      <td id=\"T_a8288_row1_col4\" class=\"data row1 col4\" >174.018739</td>\n",
       "      <td id=\"T_a8288_row1_col5\" class=\"data row1 col5\" >174.018739</td>\n",
       "      <td id=\"T_a8288_row1_col6\" class=\"data row1 col6\" >WGS84</td>\n",
       "      <td id=\"T_a8288_row1_col7\" class=\"data row1 col7\" >WGS84</td>\n",
       "      <td id=\"T_a8288_row1_col8\" class=\"data row1 col8\" >NZ</td>\n",
       "      <td id=\"T_a8288_row1_col9\" class=\"data row1 col9\" >NZ</td>\n",
       "    </tr>\n",
       "    <tr>\n",
       "      <th id=\"T_a8288_level0_row2\" class=\"row_heading level0 row2\" >3</th>\n",
       "      <td id=\"T_a8288_row2_col0\" class=\"data row2 col0\" >Site_3</td>\n",
       "      <td id=\"T_a8288_row2_col1\" class=\"data row2 col1\" >Site_3</td>\n",
       "      <td id=\"T_a8288_row2_col2\" class=\"data row2 col2\" >-39.048920</td>\n",
       "      <td id=\"T_a8288_row2_col3\" class=\"data row2 col3\" >-39.048920</td>\n",
       "      <td id=\"T_a8288_row2_col4\" class=\"data row2 col4\" >174.029600</td>\n",
       "      <td id=\"T_a8288_row2_col5\" class=\"data row2 col5\" >174.029600</td>\n",
       "      <td id=\"T_a8288_row2_col6\" class=\"data row2 col6\" >WGS84</td>\n",
       "      <td id=\"T_a8288_row2_col7\" class=\"data row2 col7\" >WGS84</td>\n",
       "      <td id=\"T_a8288_row2_col8\" class=\"data row2 col8\" >NZ</td>\n",
       "      <td id=\"T_a8288_row2_col9\" class=\"data row2 col9\" >NZ</td>\n",
       "    </tr>\n",
       "    <tr>\n",
       "      <th id=\"T_a8288_level0_row3\" class=\"row_heading level0 row3\" >4</th>\n",
       "      <td id=\"T_a8288_row3_col0\" class=\"data row3 col0\" >Site_4</td>\n",
       "      <td id=\"T_a8288_row3_col1\" class=\"data row3 col1\" >Site_4</td>\n",
       "      <td id=\"T_a8288_row3_col2\" class=\"data row3 col2\" >-39.046859</td>\n",
       "      <td id=\"T_a8288_row3_col3\" class=\"data row3 col3\" >-39.046859</td>\n",
       "      <td id=\"T_a8288_row3_col4\" class=\"data row3 col4\" >174.014944</td>\n",
       "      <td id=\"T_a8288_row3_col5\" class=\"data row3 col5\" >174.014944</td>\n",
       "      <td id=\"T_a8288_row3_col6\" class=\"data row3 col6\" >WGS84</td>\n",
       "      <td id=\"T_a8288_row3_col7\" class=\"data row3 col7\" >WGS84</td>\n",
       "      <td id=\"T_a8288_row3_col8\" class=\"data row3 col8\" >NZ</td>\n",
       "      <td id=\"T_a8288_row3_col9\" class=\"data row3 col9\" >NZ</td>\n",
       "    </tr>\n",
       "    <tr>\n",
       "      <th id=\"T_a8288_level0_row4\" class=\"row_heading level0 row4\" >5</th>\n",
       "      <td id=\"T_a8288_row4_col0\" class=\"data row4 col0\" >Site_5</td>\n",
       "      <td id=\"T_a8288_row4_col1\" class=\"data row4 col1\" >Site_5</td>\n",
       "      <td id=\"T_a8288_row4_col2\" class=\"data row4 col2\" >-39.053019</td>\n",
       "      <td id=\"T_a8288_row4_col3\" class=\"data row4 col3\" >-39.053019</td>\n",
       "      <td id=\"T_a8288_row4_col4\" class=\"data row4 col4\" >174.015039</td>\n",
       "      <td id=\"T_a8288_row4_col5\" class=\"data row4 col5\" >175.015039</td>\n",
       "      <td id=\"T_a8288_row4_col6\" class=\"data row4 col6\" >WGS84</td>\n",
       "      <td id=\"T_a8288_row4_col7\" class=\"data row4 col7\" >WGS84</td>\n",
       "      <td id=\"T_a8288_row4_col8\" class=\"data row4 col8\" >NZ</td>\n",
       "      <td id=\"T_a8288_row4_col9\" class=\"data row4 col9\" >NZ</td>\n",
       "    </tr>\n",
       "  </tbody>\n",
       "</table>\n"
      ],
      "text/plain": [
       "<pandas.io.formats.style.Styler at 0x7fd4ad336350>"
      ]
     },
     "execution_count": 9,
     "metadata": {},
     "output_type": "execute_result"
    }
   ],
   "source": [
    "# Display the changes\n",
    "highlight_changes, sites_sheet_df = t1.display_changes(db_info_dict,\n",
    "                   isheet = sites_sheet, \n",
    "                   df_filtered = sites_df_filtered\n",
    "                   )\n",
    "highlight_changes"
   ]
  },
  {
   "cell_type": "code",
   "execution_count": 27,
   "id": "H9EQfoINVwFV",
   "metadata": {
    "colab": {
     "base_uri": "https://localhost:8080/",
     "height": 84,
     "referenced_widgets": [
      "45d2e308f6f14a419e974f97169015e0",
      "e3691eb3d05e423ea86bc5a9dad1946f",
      "36d6e6381829485499b73d980557f667",
      "3a6bd270a4904af8ba8d931aca4accdd",
      "f3eb565c63d941e7898a3c6b556657ec",
      "790a8f1d923f463ba00b619cc9b89c70",
      "a4c97dc2c73347a6aeb293d2a7b33a70",
      "65daa3dca69544198a3fe5336715eebe"
     ]
    },
    "id": "H9EQfoINVwFV",
    "outputId": "f2da8635-5c15-4439-bde3-695daec9656e"
   },
   "outputs": [
    {
     "name": "stdout",
     "output_type": "stream",
     "text": [
      "\n",
      "Are the changes above correct?\n"
     ]
    },
    {
     "data": {
      "application/vnd.jupyter.widget-view+json": {
       "model_id": "45d2e308f6f14a419e974f97169015e0",
       "version_major": 2,
       "version_minor": 0
      },
      "text/plain": [
       "HBox(children=(Button(button_style='danger', description='Yes, details are correct', layout=Layout(width='25%'…"
      ]
     },
     "metadata": {
      "application/vnd.jupyter.widget-view+json": {
       "colab": {
        "custom_widget_manager": {
         "url": "https://ssl.gstatic.com/colaboratory-static/widgets/colab-cdn-widget-manager/d2e234f7cc04bf79/manager.min.js"
        }
       }
      }
     },
     "output_type": "display_data"
    }
   ],
   "source": [
    "# Confirm or deny the changes\n",
    "t1.update_csv(db_info_dict, \n",
    "              project,\n",
    "              sheet_df = sites_sheet_df,\n",
    "              df = sites_df,\n",
    "              local_csv = \"local_sites_csv\",\n",
    "              serv_csv = \"server_sites_csv\"\n",
    "              )"
   ]
  },
  {
   "cell_type": "markdown",
   "id": "4b134a5c",
   "metadata": {
    "id": "4b134a5c"
   },
   "source": [
    "# Review Movies (WIP)"
   ]
  },
  {
   "cell_type": "markdown",
   "id": "LZYh0kJk8gop",
   "metadata": {
    "id": "LZYh0kJk8gop"
   },
   "source": [
    "## Choose the review method"
   ]
  },
  {
   "cell_type": "code",
   "execution_count": null,
   "id": "tgKWLhdx8SmI",
   "metadata": {
    "colab": {
     "base_uri": "https://localhost:8080/",
     "height": 95,
     "referenced_widgets": [
      "9f8655fc97554e1fbd52ead851f7b124",
      "6276e1b951c1421da718b88762d14ebd",
      "207a83072bcd4af7934047213ee79bdf"
     ]
    },
    "id": "tgKWLhdx8SmI",
    "outputId": "b0e539bb-308d-4c35-fee7-c4b095e5a054"
   },
   "outputs": [
    {
     "data": {
      "application/vnd.jupyter.widget-view+json": {
       "model_id": "9f8655fc97554e1fbd52ead851f7b124",
       "version_major": 2,
       "version_minor": 0
      },
      "text/plain": [
       "RadioButtons(description='What method you want to use to review the movies:', layout=Layout(width='95%'), opti…"
      ]
     },
     "metadata": {
      "application/vnd.jupyter.widget-view+json": {
       "colab": {
        "custom_widget_manager": {
         "url": "https://ssl.gstatic.com/colaboratory-static/widgets/colab-cdn-widget-manager/d2e234f7cc04bf79/manager.min.js"
        }
       }
      }
     },
     "output_type": "display_data"
    }
   ],
   "source": [
    "review_method = t1.choose_movie_review()"
   ]
  },
  {
   "cell_type": "markdown",
   "id": "56Q-vAXc30di",
   "metadata": {
    "id": "56Q-vAXc30di"
   },
   "source": [
    "## Check the movies information"
   ]
  },
  {
   "cell_type": "code",
   "execution_count": null,
   "id": "yODAkAPk3zDT",
   "metadata": {
    "id": "yODAkAPk3zDT"
   },
   "outputs": [],
   "source": [
    "movies_sheet_df = t1.check_movies_csv(db_info_dict, project, review_method)"
   ]
  },
  {
   "cell_type": "code",
   "execution_count": null,
   "id": "Kd7Od4VfBln5",
   "metadata": {
    "id": "Kd7Od4VfBln5"
   },
   "outputs": [],
   "source": [
    "# Confirm or deny the changes\n",
    "t1.update_csv(db_info_dict, \n",
    "              project,\n",
    "              sheet_df = movies_sheet_df,\n",
    "              local_csv = \"local_movies_csv\",\n",
    "              serv_csv = \"server_movies_csv\"\n",
    "              )"
   ]
  },
  {
   "cell_type": "markdown",
   "id": "CtTfD4tF6ouw",
   "metadata": {
    "id": "CtTfD4tF6ouw"
   },
   "source": [
    "## Preview movies"
   ]
  },
  {
   "cell_type": "markdown",
   "id": "keLx8PPJ6_1c",
   "metadata": {
    "id": "keLx8PPJ6_1c"
   },
   "source": [
    "### Retrieve info of movies available on the server"
   ]
  },
  {
   "cell_type": "code",
   "execution_count": null,
   "id": "EDA7nDfn7EyF",
   "metadata": {
    "id": "EDA7nDfn7EyF"
   },
   "outputs": [],
   "source": [
    "available_movies_df = s_utils.retrieve_movie_info_from_server(\n",
    "    project = project,\n",
    "    db_info_dict = db_info_dict\n",
    ")"
   ]
  },
  {
   "cell_type": "markdown",
   "id": "oSm50evA6r6E",
   "metadata": {
    "id": "oSm50evA6r6E"
   },
   "source": [
    "### Select movies to preview"
   ]
  },
  {
   "cell_type": "code",
   "execution_count": null,
   "id": "3Kbc7eYZ7JVx",
   "metadata": {
    "id": "3Kbc7eYZ7JVx"
   },
   "outputs": [],
   "source": [
    "movie_selected = t_utils.select_movie(available_movies_df)"
   ]
  },
  {
   "cell_type": "markdown",
   "id": "QfkDCyz67Mp-",
   "metadata": {
    "id": "QfkDCyz67Mp-"
   },
   "source": [
    "### Display the movie"
   ]
  },
  {
   "cell_type": "code",
   "execution_count": null,
   "id": "SbN566ha7R6n",
   "metadata": {
    "id": "SbN566ha7R6n"
   },
   "outputs": [],
   "source": [
    "movie_display, movie_path = t_utils.preview_movie(\n",
    "    project = project,\n",
    "    db_info_dict = db_info_dict, \n",
    "    available_movies_df = available_movies_df, \n",
    "    movie_i = movie_selected.value\n",
    ")\n",
    "movie_display"
   ]
  },
  {
   "cell_type": "markdown",
   "id": "tyKSJHRq3kog",
   "metadata": {
    "id": "tyKSJHRq3kog"
   },
   "source": [
    "# Review species"
   ]
  },
  {
   "cell_type": "markdown",
   "id": "I0le1Ammu3mG",
   "metadata": {
    "id": "I0le1Ammu3mG"
   },
   "source": [
    "## Check the species dataframe"
   ]
  },
  {
   "cell_type": "code",
   "execution_count": 38,
   "id": "OTGLqqdjusy5",
   "metadata": {
    "id": "OTGLqqdjusy5"
   },
   "outputs": [],
   "source": [
    "species_sheet_df = t1.check_species_csv(db_initial_info= db_info_dict, project = project)"
   ]
  },
  {
   "cell_type": "markdown",
   "id": "yKpoX8DUvHDs",
   "metadata": {
    "id": "yKpoX8DUvHDs"
   },
   "source": [
    "## Update species dataframe"
   ]
  },
  {
   "cell_type": "markdown",
   "id": "OPItluO5utuy",
   "metadata": {
    "id": "OPItluO5utuy"
   },
   "source": [
    "Select the range of species to display"
   ]
  },
  {
   "cell_type": "code",
   "execution_count": 32,
   "id": "b78b2738",
   "metadata": {
    "colab": {
     "base_uri": "https://localhost:8080/",
     "height": 87,
     "referenced_widgets": [
      "2dde1eb0f9ff4fa896dcf5695c06f641",
      "0334fd5cf9ab4ace96759554d32d43ea",
      "605d67f9039246329edef58d28a2a068"
     ]
    },
    "id": "b78b2738",
    "outputId": "1a86676d-9fa4-45ee-d203-0eea326a9777"
   },
   "outputs": [
    {
     "data": {
      "application/vnd.jupyter.widget-view+json": {
       "model_id": "2dde1eb0f9ff4fa896dcf5695c06f641",
       "version_major": 2,
       "version_minor": 0
      },
      "text/plain": [
       "SelectionRangeSlider(description='Rows to display', index=(0, 66), layout=Layout(padding='35px', width='90%'),…"
      ]
     },
     "metadata": {
      "application/vnd.jupyter.widget-view+json": {
       "colab": {
        "custom_widget_manager": {
         "url": "https://ssl.gstatic.com/colaboratory-static/widgets/colab-cdn-widget-manager/d2e234f7cc04bf79/manager.min.js"
        }
       }
      }
     },
     "output_type": "display_data"
    }
   ],
   "source": [
    "species_df, species_range = t1.select_sheet_range(db_initial_info = db_info_dict,\n",
    "                                              orig_csv = \"local_species_csv\"\n",
    "                                              )"
   ]
  },
  {
   "cell_type": "markdown",
   "id": "8jkoFyRDvWwH",
   "metadata": {
    "id": "8jkoFyRDvWwH"
   },
   "source": [
    "You can update the contents of the cells in the spreadsheet below"
   ]
  },
  {
   "cell_type": "code",
   "execution_count": 34,
   "id": "zvl2ZNO5vXYi",
   "metadata": {
    "colab": {
     "base_uri": "https://localhost:8080/",
     "height": 554,
     "referenced_widgets": [
      "519ccf60bec9407abaf5b65e06019a5d",
      "e362b5cf74d846578653ce44ccb03f39",
      "6f0793e0948c4eab8f0de6df4e8455f4",
      "1bc843e78e1d4f90ac70caa43c3b0126",
      "610b7d32c7c94ad0b09899f86f859e3a",
      "ca32eddecbdd44f5be2ec15ee6ebe61d",
      "e47f27e3d3f149d0ae52c52347403a51"
     ]
    },
    "id": "zvl2ZNO5vXYi",
    "outputId": "941792bf-3975-4cf6-b476-cee49285a2b3"
   },
   "outputs": [
    {
     "data": {
      "application/vnd.jupyter.widget-view+json": {
       "model_id": "519ccf60bec9407abaf5b65e06019a5d",
       "version_major": 2,
       "version_minor": 0
      },
      "text/plain": [
       "Sheet(cells=(Cell(column_end=0, column_start=0, numeric_format='0[.]0', row_end=21, row_start=0, squeeze_row=F…"
      ]
     },
     "metadata": {
      "application/vnd.jupyter.widget-view+json": {
       "colab": {
        "custom_widget_manager": {
         "url": "https://ssl.gstatic.com/colaboratory-static/widgets/colab-cdn-widget-manager/d2e234f7cc04bf79/manager.min.js"
        }
       }
      }
     },
     "output_type": "display_data"
    }
   ],
   "source": [
    "species_df_filtered, species_sheet = t1.open_csv(df = species_df, df_range = species_range)\n",
    "species_sheet"
   ]
  },
  {
   "cell_type": "markdown",
   "id": "PZyfVEMRvekz",
   "metadata": {
    "id": "PZyfVEMRvekz"
   },
   "source": [
    "### Review and confirm the changes"
   ]
  },
  {
   "cell_type": "code",
   "execution_count": 35,
   "id": "Niq_2WZlvlE9",
   "metadata": {
    "colab": {
     "base_uri": "https://localhost:8080/",
     "height": 802
    },
    "id": "Niq_2WZlvlE9",
    "outputId": "e8d11cda-61ec-4123-9637-8d9936a8cf98"
   },
   "outputs": [
    {
     "data": {
      "text/html": [
       "<style type=\"text/css\">\n",
       "#T_ace9a_row21_col3 {\n",
       "  background-color: yellow;\n",
       "}\n",
       "</style>\n",
       "<table id=\"T_ace9a_\" class=\"dataframe\">\n",
       "  <thead>\n",
       "    <tr>\n",
       "      <th class=\"blank level0\" >&nbsp;</th>\n",
       "      <th class=\"col_heading level0 col0\" colspan=\"2\">commonName</th>\n",
       "      <th class=\"col_heading level0 col2\" colspan=\"2\">scientificName</th>\n",
       "      <th class=\"col_heading level0 col4\" colspan=\"2\">taxonRank</th>\n",
       "      <th class=\"col_heading level0 col6\" colspan=\"2\">kingdom</th>\n",
       "    </tr>\n",
       "    <tr>\n",
       "      <th class=\"blank level1\" >&nbsp;</th>\n",
       "      <th class=\"col_heading level1 col0\" >Origin</th>\n",
       "      <th class=\"col_heading level1 col1\" >Update</th>\n",
       "      <th class=\"col_heading level1 col2\" >Origin</th>\n",
       "      <th class=\"col_heading level1 col3\" >Update</th>\n",
       "      <th class=\"col_heading level1 col4\" >Origin</th>\n",
       "      <th class=\"col_heading level1 col5\" >Update</th>\n",
       "      <th class=\"col_heading level1 col6\" >Origin</th>\n",
       "      <th class=\"col_heading level1 col7\" >Update</th>\n",
       "    </tr>\n",
       "    <tr>\n",
       "      <th class=\"index_name level0\" >species_id</th>\n",
       "      <th class=\"blank col0\" >&nbsp;</th>\n",
       "      <th class=\"blank col1\" >&nbsp;</th>\n",
       "      <th class=\"blank col2\" >&nbsp;</th>\n",
       "      <th class=\"blank col3\" >&nbsp;</th>\n",
       "      <th class=\"blank col4\" >&nbsp;</th>\n",
       "      <th class=\"blank col5\" >&nbsp;</th>\n",
       "      <th class=\"blank col6\" >&nbsp;</th>\n",
       "      <th class=\"blank col7\" >&nbsp;</th>\n",
       "    </tr>\n",
       "  </thead>\n",
       "  <tbody>\n",
       "    <tr>\n",
       "      <th id=\"T_ace9a_level0_row0\" class=\"row_heading level0 row0\" >1</th>\n",
       "      <td id=\"T_ace9a_row0_col0\" class=\"data row0 col0\" >Fan-shaped sponge</td>\n",
       "      <td id=\"T_ace9a_row0_col1\" class=\"data row0 col1\" >Fan-shaped sponge</td>\n",
       "      <td id=\"T_ace9a_row0_col2\" class=\"data row0 col2\" >Phakellia ventilabrum</td>\n",
       "      <td id=\"T_ace9a_row0_col3\" class=\"data row0 col3\" >Phakellia ventilabrum</td>\n",
       "      <td id=\"T_ace9a_row0_col4\" class=\"data row0 col4\" >species</td>\n",
       "      <td id=\"T_ace9a_row0_col5\" class=\"data row0 col5\" >species</td>\n",
       "      <td id=\"T_ace9a_row0_col6\" class=\"data row0 col6\" >Animalia</td>\n",
       "      <td id=\"T_ace9a_row0_col7\" class=\"data row0 col7\" >Animalia</td>\n",
       "    </tr>\n",
       "    <tr>\n",
       "      <th id=\"T_ace9a_level0_row1\" class=\"row_heading level0 row1\" >2</th>\n",
       "      <td id=\"T_ace9a_row1_col0\" class=\"data row1 col0\" >Football sponge</td>\n",
       "      <td id=\"T_ace9a_row1_col1\" class=\"data row1 col1\" >Football sponge</td>\n",
       "      <td id=\"T_ace9a_row1_col2\" class=\"data row1 col2\" >Geodia barretti</td>\n",
       "      <td id=\"T_ace9a_row1_col3\" class=\"data row1 col3\" >Geodia barretti</td>\n",
       "      <td id=\"T_ace9a_row1_col4\" class=\"data row1 col4\" >species</td>\n",
       "      <td id=\"T_ace9a_row1_col5\" class=\"data row1 col5\" >species</td>\n",
       "      <td id=\"T_ace9a_row1_col6\" class=\"data row1 col6\" >Animalia</td>\n",
       "      <td id=\"T_ace9a_row1_col7\" class=\"data row1 col7\" >Animalia</td>\n",
       "    </tr>\n",
       "    <tr>\n",
       "      <th id=\"T_ace9a_level0_row2\" class=\"row_heading level0 row2\" >3</th>\n",
       "      <td id=\"T_ace9a_row2_col0\" class=\"data row2 col0\" >Sponge (any species)</td>\n",
       "      <td id=\"T_ace9a_row2_col1\" class=\"data row2 col1\" >Sponge (any species)</td>\n",
       "      <td id=\"T_ace9a_row2_col2\" class=\"data row2 col2\" >Porifera</td>\n",
       "      <td id=\"T_ace9a_row2_col3\" class=\"data row2 col3\" >Porifera</td>\n",
       "      <td id=\"T_ace9a_row2_col4\" class=\"data row2 col4\" >phylum</td>\n",
       "      <td id=\"T_ace9a_row2_col5\" class=\"data row2 col5\" >phylum</td>\n",
       "      <td id=\"T_ace9a_row2_col6\" class=\"data row2 col6\" >Animalia</td>\n",
       "      <td id=\"T_ace9a_row2_col7\" class=\"data row2 col7\" >Animalia</td>\n",
       "    </tr>\n",
       "    <tr>\n",
       "      <th id=\"T_ace9a_level0_row3\" class=\"row_heading level0 row3\" >4</th>\n",
       "      <td id=\"T_ace9a_row3_col0\" class=\"data row3 col0\" >Dead man's fingers</td>\n",
       "      <td id=\"T_ace9a_row3_col1\" class=\"data row3 col1\" >Dead man's fingers</td>\n",
       "      <td id=\"T_ace9a_row3_col2\" class=\"data row3 col2\" >Alcyonium digitatum</td>\n",
       "      <td id=\"T_ace9a_row3_col3\" class=\"data row3 col3\" >Alcyonium digitatum</td>\n",
       "      <td id=\"T_ace9a_row3_col4\" class=\"data row3 col4\" >species</td>\n",
       "      <td id=\"T_ace9a_row3_col5\" class=\"data row3 col5\" >species</td>\n",
       "      <td id=\"T_ace9a_row3_col6\" class=\"data row3 col6\" >Animalia</td>\n",
       "      <td id=\"T_ace9a_row3_col7\" class=\"data row3 col7\" >Animalia</td>\n",
       "    </tr>\n",
       "    <tr>\n",
       "      <th id=\"T_ace9a_level0_row4\" class=\"row_heading level0 row4\" >5</th>\n",
       "      <td id=\"T_ace9a_row4_col0\" class=\"data row4 col0\" >Deeplet sea anemone</td>\n",
       "      <td id=\"T_ace9a_row4_col1\" class=\"data row4 col1\" >Deeplet sea anemone</td>\n",
       "      <td id=\"T_ace9a_row4_col2\" class=\"data row4 col2\" >Bolocera tuediae</td>\n",
       "      <td id=\"T_ace9a_row4_col3\" class=\"data row4 col3\" >Bolocera tuediae</td>\n",
       "      <td id=\"T_ace9a_row4_col4\" class=\"data row4 col4\" >species</td>\n",
       "      <td id=\"T_ace9a_row4_col5\" class=\"data row4 col5\" >species</td>\n",
       "      <td id=\"T_ace9a_row4_col6\" class=\"data row4 col6\" >Animalia</td>\n",
       "      <td id=\"T_ace9a_row4_col7\" class=\"data row4 col7\" >Animalia</td>\n",
       "    </tr>\n",
       "    <tr>\n",
       "      <th id=\"T_ace9a_level0_row5\" class=\"row_heading level0 row5\" >6</th>\n",
       "      <td id=\"T_ace9a_row5_col0\" class=\"data row5 col0\" >Common sea pen</td>\n",
       "      <td id=\"T_ace9a_row5_col1\" class=\"data row5 col1\" >Common sea pen</td>\n",
       "      <td id=\"T_ace9a_row5_col2\" class=\"data row5 col2\" >Pennatula phosphorea</td>\n",
       "      <td id=\"T_ace9a_row5_col3\" class=\"data row5 col3\" >Pennatula phosphorea</td>\n",
       "      <td id=\"T_ace9a_row5_col4\" class=\"data row5 col4\" >species</td>\n",
       "      <td id=\"T_ace9a_row5_col5\" class=\"data row5 col5\" >species</td>\n",
       "      <td id=\"T_ace9a_row5_col6\" class=\"data row5 col6\" >Animalia</td>\n",
       "      <td id=\"T_ace9a_row5_col7\" class=\"data row5 col7\" >Animalia</td>\n",
       "    </tr>\n",
       "    <tr>\n",
       "      <th id=\"T_ace9a_level0_row6\" class=\"row_heading level0 row6\" >7</th>\n",
       "      <td id=\"T_ace9a_row6_col0\" class=\"data row6 col0\" >Tall sea pen</td>\n",
       "      <td id=\"T_ace9a_row6_col1\" class=\"data row6 col1\" >Tall sea pen</td>\n",
       "      <td id=\"T_ace9a_row6_col2\" class=\"data row6 col2\" >Funiculina quadrangularis</td>\n",
       "      <td id=\"T_ace9a_row6_col3\" class=\"data row6 col3\" >Funiculina quadrangularis</td>\n",
       "      <td id=\"T_ace9a_row6_col4\" class=\"data row6 col4\" >species</td>\n",
       "      <td id=\"T_ace9a_row6_col5\" class=\"data row6 col5\" >species</td>\n",
       "      <td id=\"T_ace9a_row6_col6\" class=\"data row6 col6\" >Animalia</td>\n",
       "      <td id=\"T_ace9a_row6_col7\" class=\"data row6 col7\" >Animalia</td>\n",
       "    </tr>\n",
       "    <tr>\n",
       "      <th id=\"T_ace9a_level0_row7\" class=\"row_heading level0 row7\" >8</th>\n",
       "      <td id=\"T_ace9a_row7_col0\" class=\"data row7 col0\" >Deep water coral</td>\n",
       "      <td id=\"T_ace9a_row7_col1\" class=\"data row7 col1\" >Deep water coral</td>\n",
       "      <td id=\"T_ace9a_row7_col2\" class=\"data row7 col2\" >Desmophyllum pertusum</td>\n",
       "      <td id=\"T_ace9a_row7_col3\" class=\"data row7 col3\" >Desmophyllum pertusum</td>\n",
       "      <td id=\"T_ace9a_row7_col4\" class=\"data row7 col4\" >species</td>\n",
       "      <td id=\"T_ace9a_row7_col5\" class=\"data row7 col5\" >species</td>\n",
       "      <td id=\"T_ace9a_row7_col6\" class=\"data row7 col6\" >Animalia</td>\n",
       "      <td id=\"T_ace9a_row7_col7\" class=\"data row7 col7\" >Animalia</td>\n",
       "    </tr>\n",
       "    <tr>\n",
       "      <th id=\"T_ace9a_level0_row8\" class=\"row_heading level0 row8\" >9</th>\n",
       "      <td id=\"T_ace9a_row8_col0\" class=\"data row8 col0\" >Coral (any species)</td>\n",
       "      <td id=\"T_ace9a_row8_col1\" class=\"data row8 col1\" >Coral (any species)</td>\n",
       "      <td id=\"T_ace9a_row8_col2\" class=\"data row8 col2\" >Anthozoa</td>\n",
       "      <td id=\"T_ace9a_row8_col3\" class=\"data row8 col3\" >Anthozoa</td>\n",
       "      <td id=\"T_ace9a_row8_col4\" class=\"data row8 col4\" >class</td>\n",
       "      <td id=\"T_ace9a_row8_col5\" class=\"data row8 col5\" >class</td>\n",
       "      <td id=\"T_ace9a_row8_col6\" class=\"data row8 col6\" >Animalia</td>\n",
       "      <td id=\"T_ace9a_row8_col7\" class=\"data row8 col7\" >Animalia</td>\n",
       "    </tr>\n",
       "    <tr>\n",
       "      <th id=\"T_ace9a_level0_row9\" class=\"row_heading level0 row9\" >10</th>\n",
       "      <td id=\"T_ace9a_row9_col0\" class=\"data row9 col0\" >Northern shrimp</td>\n",
       "      <td id=\"T_ace9a_row9_col1\" class=\"data row9 col1\" >Northern shrimp</td>\n",
       "      <td id=\"T_ace9a_row9_col2\" class=\"data row9 col2\" >Pandalus borealis</td>\n",
       "      <td id=\"T_ace9a_row9_col3\" class=\"data row9 col3\" >Pandalus borealis</td>\n",
       "      <td id=\"T_ace9a_row9_col4\" class=\"data row9 col4\" >species</td>\n",
       "      <td id=\"T_ace9a_row9_col5\" class=\"data row9 col5\" >species</td>\n",
       "      <td id=\"T_ace9a_row9_col6\" class=\"data row9 col6\" >Animalia</td>\n",
       "      <td id=\"T_ace9a_row9_col7\" class=\"data row9 col7\" >Animalia</td>\n",
       "    </tr>\n",
       "    <tr>\n",
       "      <th id=\"T_ace9a_level0_row10\" class=\"row_heading level0 row10\" >11</th>\n",
       "      <td id=\"T_ace9a_row10_col0\" class=\"data row10 col0\" >Great spider crab</td>\n",
       "      <td id=\"T_ace9a_row10_col1\" class=\"data row10 col1\" >Great spider crab</td>\n",
       "      <td id=\"T_ace9a_row10_col2\" class=\"data row10 col2\" >Hyas araneus</td>\n",
       "      <td id=\"T_ace9a_row10_col3\" class=\"data row10 col3\" >Hyas araneus</td>\n",
       "      <td id=\"T_ace9a_row10_col4\" class=\"data row10 col4\" >species</td>\n",
       "      <td id=\"T_ace9a_row10_col5\" class=\"data row10 col5\" >species</td>\n",
       "      <td id=\"T_ace9a_row10_col6\" class=\"data row10 col6\" >Animalia</td>\n",
       "      <td id=\"T_ace9a_row10_col7\" class=\"data row10 col7\" >Animalia</td>\n",
       "    </tr>\n",
       "    <tr>\n",
       "      <th id=\"T_ace9a_level0_row11\" class=\"row_heading level0 row11\" >12</th>\n",
       "      <td id=\"T_ace9a_row11_col0\" class=\"data row11 col0\" >Deep sea king crab</td>\n",
       "      <td id=\"T_ace9a_row11_col1\" class=\"data row11 col1\" >Deep sea king crab</td>\n",
       "      <td id=\"T_ace9a_row11_col2\" class=\"data row11 col2\" >Lithodes maja</td>\n",
       "      <td id=\"T_ace9a_row11_col3\" class=\"data row11 col3\" >Lithodes maja</td>\n",
       "      <td id=\"T_ace9a_row11_col4\" class=\"data row11 col4\" >species</td>\n",
       "      <td id=\"T_ace9a_row11_col5\" class=\"data row11 col5\" >species</td>\n",
       "      <td id=\"T_ace9a_row11_col6\" class=\"data row11 col6\" >Animalia</td>\n",
       "      <td id=\"T_ace9a_row11_col7\" class=\"data row11 col7\" >Animalia</td>\n",
       "    </tr>\n",
       "    <tr>\n",
       "      <th id=\"T_ace9a_level0_row12\" class=\"row_heading level0 row12\" >13</th>\n",
       "      <td id=\"T_ace9a_row12_col0\" class=\"data row12 col0\" >Norway lobster</td>\n",
       "      <td id=\"T_ace9a_row12_col1\" class=\"data row12 col1\" >Norway lobster</td>\n",
       "      <td id=\"T_ace9a_row12_col2\" class=\"data row12 col2\" >Nephrops norvegicus</td>\n",
       "      <td id=\"T_ace9a_row12_col3\" class=\"data row12 col3\" >Nephrops norvegicus</td>\n",
       "      <td id=\"T_ace9a_row12_col4\" class=\"data row12 col4\" >species</td>\n",
       "      <td id=\"T_ace9a_row12_col5\" class=\"data row12 col5\" >species</td>\n",
       "      <td id=\"T_ace9a_row12_col6\" class=\"data row12 col6\" >Animalia</td>\n",
       "      <td id=\"T_ace9a_row12_col7\" class=\"data row12 col7\" >Animalia</td>\n",
       "    </tr>\n",
       "    <tr>\n",
       "      <th id=\"T_ace9a_level0_row13\" class=\"row_heading level0 row13\" >14</th>\n",
       "      <td id=\"T_ace9a_row13_col0\" class=\"data row13 col0\" >Crustacean (any species)</td>\n",
       "      <td id=\"T_ace9a_row13_col1\" class=\"data row13 col1\" >Crustacean (any species)</td>\n",
       "      <td id=\"T_ace9a_row13_col2\" class=\"data row13 col2\" >Crustacea</td>\n",
       "      <td id=\"T_ace9a_row13_col3\" class=\"data row13 col3\" >Crustacea</td>\n",
       "      <td id=\"T_ace9a_row13_col4\" class=\"data row13 col4\" >subphylum</td>\n",
       "      <td id=\"T_ace9a_row13_col5\" class=\"data row13 col5\" >subphylum</td>\n",
       "      <td id=\"T_ace9a_row13_col6\" class=\"data row13 col6\" >Animalia</td>\n",
       "      <td id=\"T_ace9a_row13_col7\" class=\"data row13 col7\" >Animalia</td>\n",
       "    </tr>\n",
       "    <tr>\n",
       "      <th id=\"T_ace9a_level0_row14\" class=\"row_heading level0 row14\" >15</th>\n",
       "      <td id=\"T_ace9a_row14_col0\" class=\"data row14 col0\" >Black brittle star</td>\n",
       "      <td id=\"T_ace9a_row14_col1\" class=\"data row14 col1\" >Black brittle star</td>\n",
       "      <td id=\"T_ace9a_row14_col2\" class=\"data row14 col2\" >Ophiocomina nigra</td>\n",
       "      <td id=\"T_ace9a_row14_col3\" class=\"data row14 col3\" >Ophiocomina nigra</td>\n",
       "      <td id=\"T_ace9a_row14_col4\" class=\"data row14 col4\" >species</td>\n",
       "      <td id=\"T_ace9a_row14_col5\" class=\"data row14 col5\" >species</td>\n",
       "      <td id=\"T_ace9a_row14_col6\" class=\"data row14 col6\" >Animalia</td>\n",
       "      <td id=\"T_ace9a_row14_col7\" class=\"data row14 col7\" >Animalia</td>\n",
       "    </tr>\n",
       "    <tr>\n",
       "      <th id=\"T_ace9a_level0_row15\" class=\"row_heading level0 row15\" >16</th>\n",
       "      <td id=\"T_ace9a_row15_col0\" class=\"data row15 col0\" >Common sunstar</td>\n",
       "      <td id=\"T_ace9a_row15_col1\" class=\"data row15 col1\" >Common sunstar</td>\n",
       "      <td id=\"T_ace9a_row15_col2\" class=\"data row15 col2\" >Crossaster papposus</td>\n",
       "      <td id=\"T_ace9a_row15_col3\" class=\"data row15 col3\" >Crossaster papposus</td>\n",
       "      <td id=\"T_ace9a_row15_col4\" class=\"data row15 col4\" >species</td>\n",
       "      <td id=\"T_ace9a_row15_col5\" class=\"data row15 col5\" >species</td>\n",
       "      <td id=\"T_ace9a_row15_col6\" class=\"data row15 col6\" >Animalia</td>\n",
       "      <td id=\"T_ace9a_row15_col7\" class=\"data row15 col7\" >Animalia</td>\n",
       "    </tr>\n",
       "    <tr>\n",
       "      <th id=\"T_ace9a_level0_row16\" class=\"row_heading level0 row16\" >17</th>\n",
       "      <td id=\"T_ace9a_row16_col0\" class=\"data row16 col0\" >Cushin star</td>\n",
       "      <td id=\"T_ace9a_row16_col1\" class=\"data row16 col1\" >Cushin star</td>\n",
       "      <td id=\"T_ace9a_row16_col2\" class=\"data row16 col2\" >Porania pulvillus</td>\n",
       "      <td id=\"T_ace9a_row16_col3\" class=\"data row16 col3\" >Porania pulvillus</td>\n",
       "      <td id=\"T_ace9a_row16_col4\" class=\"data row16 col4\" >species</td>\n",
       "      <td id=\"T_ace9a_row16_col5\" class=\"data row16 col5\" >species</td>\n",
       "      <td id=\"T_ace9a_row16_col6\" class=\"data row16 col6\" >Animalia</td>\n",
       "      <td id=\"T_ace9a_row16_col7\" class=\"data row16 col7\" >Animalia</td>\n",
       "    </tr>\n",
       "    <tr>\n",
       "      <th id=\"T_ace9a_level0_row17\" class=\"row_heading level0 row17\" >18</th>\n",
       "      <td id=\"T_ace9a_row17_col0\" class=\"data row17 col0\" >Common sea urchin</td>\n",
       "      <td id=\"T_ace9a_row17_col1\" class=\"data row17 col1\" >Common sea urchin</td>\n",
       "      <td id=\"T_ace9a_row17_col2\" class=\"data row17 col2\" >Echinus esculentus</td>\n",
       "      <td id=\"T_ace9a_row17_col3\" class=\"data row17 col3\" >Echinus esculentus</td>\n",
       "      <td id=\"T_ace9a_row17_col4\" class=\"data row17 col4\" >species</td>\n",
       "      <td id=\"T_ace9a_row17_col5\" class=\"data row17 col5\" >species</td>\n",
       "      <td id=\"T_ace9a_row17_col6\" class=\"data row17 col6\" >Animalia</td>\n",
       "      <td id=\"T_ace9a_row17_col7\" class=\"data row17 col7\" >Animalia</td>\n",
       "    </tr>\n",
       "    <tr>\n",
       "      <th id=\"T_ace9a_level0_row18\" class=\"row_heading level0 row18\" >19</th>\n",
       "      <td id=\"T_ace9a_row18_col0\" class=\"data row18 col0\" >Sugar starfish</td>\n",
       "      <td id=\"T_ace9a_row18_col1\" class=\"data row18 col1\" >Sugar starfish</td>\n",
       "      <td id=\"T_ace9a_row18_col2\" class=\"data row18 col2\" >Luidia ciliaris</td>\n",
       "      <td id=\"T_ace9a_row18_col3\" class=\"data row18 col3\" >Luidia ciliaris</td>\n",
       "      <td id=\"T_ace9a_row18_col4\" class=\"data row18 col4\" >species</td>\n",
       "      <td id=\"T_ace9a_row18_col5\" class=\"data row18 col5\" >species</td>\n",
       "      <td id=\"T_ace9a_row18_col6\" class=\"data row18 col6\" >Animalia</td>\n",
       "      <td id=\"T_ace9a_row18_col7\" class=\"data row18 col7\" >Animalia</td>\n",
       "    </tr>\n",
       "    <tr>\n",
       "      <th id=\"T_ace9a_level0_row19\" class=\"row_heading level0 row19\" >20</th>\n",
       "      <td id=\"T_ace9a_row19_col0\" class=\"data row19 col0\" >Rosy feather star</td>\n",
       "      <td id=\"T_ace9a_row19_col1\" class=\"data row19 col1\" >Rosy feather star</td>\n",
       "      <td id=\"T_ace9a_row19_col2\" class=\"data row19 col2\" >Antedon bifida</td>\n",
       "      <td id=\"T_ace9a_row19_col3\" class=\"data row19 col3\" >Antedon bifida</td>\n",
       "      <td id=\"T_ace9a_row19_col4\" class=\"data row19 col4\" >species</td>\n",
       "      <td id=\"T_ace9a_row19_col5\" class=\"data row19 col5\" >species</td>\n",
       "      <td id=\"T_ace9a_row19_col6\" class=\"data row19 col6\" >Animalia</td>\n",
       "      <td id=\"T_ace9a_row19_col7\" class=\"data row19 col7\" >Animalia</td>\n",
       "    </tr>\n",
       "    <tr>\n",
       "      <th id=\"T_ace9a_level0_row20\" class=\"row_heading level0 row20\" >21</th>\n",
       "      <td id=\"T_ace9a_row20_col0\" class=\"data row20 col0\" >Echinoderm (any species)</td>\n",
       "      <td id=\"T_ace9a_row20_col1\" class=\"data row20 col1\" >Echinoderm (any species)</td>\n",
       "      <td id=\"T_ace9a_row20_col2\" class=\"data row20 col2\" >Echinodermata</td>\n",
       "      <td id=\"T_ace9a_row20_col3\" class=\"data row20 col3\" >Echinodermata</td>\n",
       "      <td id=\"T_ace9a_row20_col4\" class=\"data row20 col4\" >phylum</td>\n",
       "      <td id=\"T_ace9a_row20_col5\" class=\"data row20 col5\" >phylum</td>\n",
       "      <td id=\"T_ace9a_row20_col6\" class=\"data row20 col6\" >Animalia</td>\n",
       "      <td id=\"T_ace9a_row20_col7\" class=\"data row20 col7\" >Animalia</td>\n",
       "    </tr>\n",
       "    <tr>\n",
       "      <th id=\"T_ace9a_level0_row21\" class=\"row_heading level0 row21\" >22</th>\n",
       "      <td id=\"T_ace9a_row21_col0\" class=\"data row21 col0\" >File clam</td>\n",
       "      <td id=\"T_ace9a_row21_col1\" class=\"data row21 col1\" >File clam</td>\n",
       "      <td id=\"T_ace9a_row21_col2\" class=\"data row21 col2\" >Acesta excavata</td>\n",
       "      <td id=\"T_ace9a_row21_col3\" class=\"data row21 col3\" >Acestaa excavata</td>\n",
       "      <td id=\"T_ace9a_row21_col4\" class=\"data row21 col4\" >species</td>\n",
       "      <td id=\"T_ace9a_row21_col5\" class=\"data row21 col5\" >species</td>\n",
       "      <td id=\"T_ace9a_row21_col6\" class=\"data row21 col6\" >Animalia</td>\n",
       "      <td id=\"T_ace9a_row21_col7\" class=\"data row21 col7\" >Animalia</td>\n",
       "    </tr>\n",
       "  </tbody>\n",
       "</table>\n"
      ],
      "text/plain": [
       "<pandas.io.formats.style.Styler at 0x7fd4aa436fd0>"
      ]
     },
     "execution_count": 35,
     "metadata": {},
     "output_type": "execute_result"
    }
   ],
   "source": [
    "# Display the changes\n",
    "highlight_changes, species_sheet_df = t1.display_changes(db_info_dict,\n",
    "                   isheet = species_sheet, \n",
    "                   df_filtered = species_df_filtered\n",
    "                   )\n",
    "highlight_changes"
   ]
  },
  {
   "cell_type": "code",
   "execution_count": 36,
   "id": "cGHj7CkKuhcC",
   "metadata": {
    "colab": {
     "base_uri": "https://localhost:8080/",
     "height": 84,
     "referenced_widgets": [
      "3c29e836fec541a69dabdb33c03a8777",
      "7f694c304f6c4b94ba2331483980acbb",
      "e7963868c1724f29accca7463c215b94",
      "e64e0a34d30b43de86159a69dd8b8878",
      "558ef659dbe54f19bd8d7ef150df034d",
      "7befc2ff8ea44c709bcfae99d2352d98",
      "f504d73a21a34655ba9118f77fa6785a",
      "9e635727de58489480bbcebbeeb8864a"
     ]
    },
    "id": "cGHj7CkKuhcC",
    "outputId": "890a2487-6645-4f1c-e136-baced1184ad0"
   },
   "outputs": [
    {
     "name": "stdout",
     "output_type": "stream",
     "text": [
      "\n",
      "Are the changes above correct?\n"
     ]
    },
    {
     "data": {
      "application/vnd.jupyter.widget-view+json": {
       "model_id": "3c29e836fec541a69dabdb33c03a8777",
       "version_major": 2,
       "version_minor": 0
      },
      "text/plain": [
       "HBox(children=(Button(button_style='danger', description='Yes, details are correct', layout=Layout(width='25%'…"
      ]
     },
     "metadata": {
      "application/vnd.jupyter.widget-view+json": {
       "colab": {
        "custom_widget_manager": {
         "url": "https://ssl.gstatic.com/colaboratory-static/widgets/colab-cdn-widget-manager/d2e234f7cc04bf79/manager.min.js"
        }
       }
      }
     },
     "output_type": "display_data"
    }
   ],
   "source": [
    "# Confirm or deny the changes\n",
    "t1.update_csv(db_info_dict, \n",
    "              project,\n",
    "              sheet_df = species_sheet_df,\n",
    "              df = species_df,\n",
    "              local_csv = \"local_species_csv\",\n",
    "              serv_csv = \"server_species_csv\"\n",
    "              )"
   ]
  },
  {
   "cell_type": "code",
   "execution_count": null,
   "id": "5fc74ec0",
   "metadata": {
    "id": "5fc74ec0"
   },
   "outputs": [],
   "source": [
    "#END"
   ]
  }
 ],
 "metadata": {
  "colab": {
   "collapsed_sections": [],
   "name": "COLAB_1_Check_and_update_csv_files.ipynb",
   "provenance": []
  },
  "kernelspec": {
   "display_name": "Python 3 (ipykernel)",
   "language": "python",
   "name": "python3"
  },
  "language_info": {
   "codemirror_mode": {
    "name": "ipython",
    "version": 3
   },
   "file_extension": ".py",
   "mimetype": "text/x-python",
   "name": "python",
   "nbconvert_exporter": "python",
   "pygments_lexer": "ipython3",
   "version": "3.7.13"
  },
  "widgets": {
   "application/vnd.jupyter.widget-state+json": {
    "0334fd5cf9ab4ace96759554d32d43ea": {
     "model_module": "@jupyter-widgets/base",
     "model_module_version": "1.2.0",
     "model_name": "LayoutModel",
     "state": {
      "_model_module": "@jupyter-widgets/base",
      "_model_module_version": "1.2.0",
      "_model_name": "LayoutModel",
      "_view_count": null,
      "_view_module": "@jupyter-widgets/base",
      "_view_module_version": "1.2.0",
      "_view_name": "LayoutView",
      "align_content": null,
      "align_items": null,
      "align_self": null,
      "border": null,
      "bottom": null,
      "display": null,
      "flex": null,
      "flex_flow": null,
      "grid_area": null,
      "grid_auto_columns": null,
      "grid_auto_flow": null,
      "grid_auto_rows": null,
      "grid_column": null,
      "grid_gap": null,
      "grid_row": null,
      "grid_template_areas": null,
      "grid_template_columns": null,
      "grid_template_rows": null,
      "height": null,
      "justify_content": null,
      "justify_items": null,
      "left": null,
      "margin": null,
      "max_height": null,
      "max_width": null,
      "min_height": null,
      "min_width": null,
      "object_fit": null,
      "object_position": null,
      "order": null,
      "overflow": null,
      "overflow_x": null,
      "overflow_y": null,
      "padding": "35px",
      "right": null,
      "top": null,
      "visibility": null,
      "width": "90%"
     }
    },
    "1bc843e78e1d4f90ac70caa43c3b0126": {
     "model_module": "ipysheet",
     "model_module_version": "~0.4.4",
     "model_name": "CellRangeModel",
     "state": {
      "_model_module": "ipysheet",
      "_model_module_version": "~0.4.4",
      "_model_name": "CellRangeModel",
      "_view_count": null,
      "_view_module": null,
      "_view_module_version": "",
      "_view_name": null,
      "choice": null,
      "column_end": 2,
      "column_start": 2,
      "date_format": "YYYY/MM/DD",
      "name": null,
      "numeric_format": null,
      "read_only": false,
      "renderer": null,
      "row_end": 21,
      "row_start": 0,
      "squeeze_column": true,
      "squeeze_row": false,
      "style": {},
      "time_format": "h:mm:ss a",
      "transpose": false,
      "type": "text",
      "value": [
       "Phakellia ventilabrum",
       "Geodia barretti",
       "Porifera",
       "Alcyonium digitatum",
       "Bolocera tuediae",
       "Pennatula phosphorea",
       "Funiculina quadrangularis",
       "Desmophyllum pertusum",
       "Anthozoa",
       "Pandalus borealis",
       "Hyas araneus",
       "Lithodes maja",
       "Nephrops norvegicus",
       "Crustacea",
       "Ophiocomina nigra",
       "Crossaster papposus",
       "Porania pulvillus",
       "Echinus esculentus",
       "Luidia ciliaris",
       "Antedon bifida",
       "Echinodermata",
       "Acestaa excavata"
      ]
     }
    },
    "207a83072bcd4af7934047213ee79bdf": {
     "model_module": "@jupyter-widgets/controls",
     "model_module_version": "1.5.0",
     "model_name": "DescriptionStyleModel",
     "state": {
      "_model_module": "@jupyter-widgets/controls",
      "_model_module_version": "1.5.0",
      "_model_name": "DescriptionStyleModel",
      "_view_count": null,
      "_view_module": "@jupyter-widgets/base",
      "_view_module_version": "1.2.0",
      "_view_name": "StyleView",
      "description_width": "initial"
     }
    },
    "25d946eda5e54e1f87936e58aaa2461e": {
     "model_module": "@jupyter-widgets/base",
     "model_module_version": "1.2.0",
     "model_name": "LayoutModel",
     "state": {
      "_model_module": "@jupyter-widgets/base",
      "_model_module_version": "1.2.0",
      "_model_name": "LayoutModel",
      "_view_count": null,
      "_view_module": "@jupyter-widgets/base",
      "_view_module_version": "1.2.0",
      "_view_name": "LayoutView",
      "align_content": null,
      "align_items": null,
      "align_self": null,
      "border": null,
      "bottom": null,
      "display": null,
      "flex": null,
      "flex_flow": null,
      "grid_area": null,
      "grid_auto_columns": null,
      "grid_auto_flow": null,
      "grid_auto_rows": null,
      "grid_column": null,
      "grid_gap": null,
      "grid_row": null,
      "grid_template_areas": null,
      "grid_template_columns": null,
      "grid_template_rows": null,
      "height": "auto",
      "justify_content": null,
      "justify_items": null,
      "left": null,
      "margin": null,
      "max_height": null,
      "max_width": null,
      "min_height": null,
      "min_width": null,
      "object_fit": null,
      "object_position": null,
      "order": null,
      "overflow": null,
      "overflow_x": null,
      "overflow_y": null,
      "padding": null,
      "right": null,
      "top": null,
      "visibility": null,
      "width": "auto"
     }
    },
    "2dde1eb0f9ff4fa896dcf5695c06f641": {
     "model_module": "@jupyter-widgets/controls",
     "model_module_version": "1.5.0",
     "model_name": "SelectionRangeSliderModel",
     "state": {
      "_dom_classes": [],
      "_model_module": "@jupyter-widgets/controls",
      "_model_module_version": "1.5.0",
      "_model_name": "SelectionRangeSliderModel",
      "_options_labels": [
       "0",
       "1",
       "2",
       "3",
       "4",
       "5",
       "6",
       "7",
       "8",
       "9",
       "10",
       "11",
       "12",
       "13",
       "14",
       "15",
       "16",
       "17",
       "18",
       "19",
       "20",
       "21",
       "22",
       "23",
       "24",
       "25",
       "26",
       "27",
       "28",
       "29",
       "30",
       "31",
       "32",
       "33",
       "34",
       "35",
       "36",
       "37",
       "38",
       "39",
       "40",
       "41",
       "42",
       "43",
       "44",
       "45",
       "46",
       "47",
       "48",
       "49",
       "50",
       "51",
       "52",
       "53",
       "54",
       "55",
       "56",
       "57",
       "58",
       "59",
       "60",
       "61",
       "62",
       "63",
       "64",
       "65",
       "66"
      ],
      "_view_count": null,
      "_view_module": "@jupyter-widgets/controls",
      "_view_module_version": "1.5.0",
      "_view_name": "SelectionRangeSliderView",
      "continuous_update": true,
      "description": "Rows to display",
      "description_tooltip": null,
      "disabled": false,
      "index": [
       0,
       22
      ],
      "layout": "IPY_MODEL_0334fd5cf9ab4ace96759554d32d43ea",
      "orientation": "horizontal",
      "readout": true,
      "style": "IPY_MODEL_605d67f9039246329edef58d28a2a068"
     }
    },
    "33e17b9998c94023b12be734f1697f20": {
     "model_module": "ipysheet",
     "model_module_version": "~0.4.4",
     "model_name": "CellRangeModel",
     "state": {
      "_model_module": "ipysheet",
      "_model_module_version": "~0.4.4",
      "_model_name": "CellRangeModel",
      "_view_count": null,
      "_view_module": null,
      "_view_module_version": "",
      "_view_name": null,
      "choice": null,
      "column_end": 3,
      "column_start": 3,
      "date_format": "YYYY/MM/DD",
      "name": null,
      "numeric_format": "0.000",
      "read_only": false,
      "renderer": null,
      "row_end": 4,
      "row_start": 0,
      "squeeze_column": true,
      "squeeze_row": false,
      "style": {},
      "time_format": "h:mm:ss a",
      "transpose": false,
      "type": "numeric",
      "value": [
       174.023941,
       174.018739,
       174.0296,
       174.014944,
       175.015039
      ]
     }
    },
    "34789e0faa3b4fc0ad130b10cf887e69": {
     "model_module": "ipysheet",
     "model_module_version": "~0.4.4",
     "model_name": "CellRangeModel",
     "state": {
      "_model_module": "ipysheet",
      "_model_module_version": "~0.4.4",
      "_model_name": "CellRangeModel",
      "_view_count": null,
      "_view_module": null,
      "_view_module_version": "",
      "_view_name": null,
      "choice": null,
      "column_end": 2,
      "column_start": 2,
      "date_format": "YYYY/MM/DD",
      "name": null,
      "numeric_format": "0.000",
      "read_only": false,
      "renderer": null,
      "row_end": 4,
      "row_start": 0,
      "squeeze_column": true,
      "squeeze_row": false,
      "style": {},
      "time_format": "h:mm:ss a",
      "transpose": false,
      "type": "numeric",
      "value": [
       -39.052281,
       -39.057633,
       -39.04892,
       -39.046859,
       -39.053019
      ]
     }
    },
    "36d6e6381829485499b73d980557f667": {
     "model_module": "@jupyter-widgets/controls",
     "model_module_version": "1.5.0",
     "model_name": "ButtonModel",
     "state": {
      "_dom_classes": [],
      "_model_module": "@jupyter-widgets/controls",
      "_model_module_version": "1.5.0",
      "_model_name": "ButtonModel",
      "_view_count": null,
      "_view_module": "@jupyter-widgets/controls",
      "_view_module_version": "1.5.0",
      "_view_name": "ButtonView",
      "button_style": "danger",
      "description": "No, I will go back and fix them",
      "disabled": false,
      "icon": "",
      "layout": "IPY_MODEL_a4c97dc2c73347a6aeb293d2a7b33a70",
      "style": "IPY_MODEL_65daa3dca69544198a3fe5336715eebe",
      "tooltip": ""
     }
    },
    "3a6bd270a4904af8ba8d931aca4accdd": {
     "model_module": "@jupyter-widgets/base",
     "model_module_version": "1.2.0",
     "model_name": "LayoutModel",
     "state": {
      "_model_module": "@jupyter-widgets/base",
      "_model_module_version": "1.2.0",
      "_model_name": "LayoutModel",
      "_view_count": null,
      "_view_module": "@jupyter-widgets/base",
      "_view_module_version": "1.2.0",
      "_view_name": "LayoutView",
      "align_content": null,
      "align_items": null,
      "align_self": null,
      "border": null,
      "bottom": null,
      "display": null,
      "flex": null,
      "flex_flow": null,
      "grid_area": null,
      "grid_auto_columns": null,
      "grid_auto_flow": null,
      "grid_auto_rows": null,
      "grid_column": null,
      "grid_gap": null,
      "grid_row": null,
      "grid_template_areas": null,
      "grid_template_columns": null,
      "grid_template_rows": null,
      "height": null,
      "justify_content": null,
      "justify_items": null,
      "left": null,
      "margin": null,
      "max_height": null,
      "max_width": null,
      "min_height": null,
      "min_width": null,
      "object_fit": null,
      "object_position": null,
      "order": null,
      "overflow": null,
      "overflow_x": null,
      "overflow_y": null,
      "padding": null,
      "right": null,
      "top": null,
      "visibility": null,
      "width": null
     }
    },
    "3c29e836fec541a69dabdb33c03a8777": {
     "model_module": "@jupyter-widgets/controls",
     "model_module_version": "1.5.0",
     "model_name": "HBoxModel",
     "state": {
      "_dom_classes": [],
      "_model_module": "@jupyter-widgets/controls",
      "_model_module_version": "1.5.0",
      "_model_name": "HBoxModel",
      "_view_count": null,
      "_view_module": "@jupyter-widgets/controls",
      "_view_module_version": "1.5.0",
      "_view_name": "HBoxView",
      "box_style": "",
      "children": [
       "IPY_MODEL_7f694c304f6c4b94ba2331483980acbb",
       "IPY_MODEL_e7963868c1724f29accca7463c215b94"
      ],
      "layout": "IPY_MODEL_e64e0a34d30b43de86159a69dd8b8878"
     }
    },
    "45d2e308f6f14a419e974f97169015e0": {
     "model_module": "@jupyter-widgets/controls",
     "model_module_version": "1.5.0",
     "model_name": "HBoxModel",
     "state": {
      "_dom_classes": [],
      "_model_module": "@jupyter-widgets/controls",
      "_model_module_version": "1.5.0",
      "_model_name": "HBoxModel",
      "_view_count": null,
      "_view_module": "@jupyter-widgets/controls",
      "_view_module_version": "1.5.0",
      "_view_name": "HBoxView",
      "box_style": "",
      "children": [
       "IPY_MODEL_e3691eb3d05e423ea86bc5a9dad1946f",
       "IPY_MODEL_36d6e6381829485499b73d980557f667"
      ],
      "layout": "IPY_MODEL_3a6bd270a4904af8ba8d931aca4accdd"
     }
    },
    "50106792f9f14d81b84c88a7860a83fa": {
     "model_module": "@jupyter-widgets/controls",
     "model_module_version": "1.5.0",
     "model_name": "DescriptionStyleModel",
     "state": {
      "_model_module": "@jupyter-widgets/controls",
      "_model_module_version": "1.5.0",
      "_model_name": "DescriptionStyleModel",
      "_view_count": null,
      "_view_module": "@jupyter-widgets/base",
      "_view_module_version": "1.2.0",
      "_view_name": "StyleView",
      "description_width": "initial"
     }
    },
    "519ccf60bec9407abaf5b65e06019a5d": {
     "model_module": "ipysheet",
     "model_module_version": "~0.4.4",
     "model_name": "SheetModel",
     "state": {
      "_dom_classes": [],
      "_model_module": "ipysheet",
      "_model_module_version": "~0.4.4",
      "_model_name": "SheetModel",
      "_view_count": null,
      "_view_module": "ipysheet",
      "_view_module_version": "~0.4.4",
      "_view_name": "SheetView",
      "cells": [
       "IPY_MODEL_e362b5cf74d846578653ce44ccb03f39",
       "IPY_MODEL_6f0793e0948c4eab8f0de6df4e8455f4",
       "IPY_MODEL_1bc843e78e1d4f90ac70caa43c3b0126",
       "IPY_MODEL_610b7d32c7c94ad0b09899f86f859e3a",
       "IPY_MODEL_ca32eddecbdd44f5be2ec15ee6ebe61d"
      ],
      "column_headers": [
       "species_id",
       "commonName",
       "scientificName",
       "taxonRank",
       "kingdom"
      ],
      "column_resizing": true,
      "column_width": null,
      "columns": 5,
      "layout": "IPY_MODEL_e47f27e3d3f149d0ae52c52347403a51",
      "named_cells": {},
      "row_headers": [
       "0",
       "1",
       "2",
       "3",
       "4",
       "5",
       "6",
       "7",
       "8",
       "9",
       "10",
       "11",
       "12",
       "13",
       "14",
       "15",
       "16",
       "17",
       "18",
       "19",
       "20",
       "21"
      ],
      "row_resizing": true,
      "rows": 22,
      "search_token": "",
      "stretch_headers": "all"
     }
    },
    "533c539bf5bf4173939dc642d45e30c9": {
     "model_module": "ipysheet",
     "model_module_version": "~0.4.4",
     "model_name": "CellRangeModel",
     "state": {
      "_model_module": "ipysheet",
      "_model_module_version": "~0.4.4",
      "_model_name": "CellRangeModel",
      "_view_count": null,
      "_view_module": null,
      "_view_module_version": "",
      "_view_name": null,
      "choice": null,
      "column_end": 5,
      "column_start": 5,
      "date_format": "YYYY/MM/DD",
      "name": null,
      "numeric_format": null,
      "read_only": false,
      "renderer": null,
      "row_end": 4,
      "row_start": 0,
      "squeeze_column": true,
      "squeeze_row": false,
      "style": {},
      "time_format": "h:mm:ss a",
      "transpose": false,
      "type": "text",
      "value": [
       "NZ",
       "NZ",
       "NZ",
       "NZ",
       "NZ"
      ]
     }
    },
    "558ef659dbe54f19bd8d7ef150df034d": {
     "model_module": "@jupyter-widgets/base",
     "model_module_version": "1.2.0",
     "model_name": "LayoutModel",
     "state": {
      "_model_module": "@jupyter-widgets/base",
      "_model_module_version": "1.2.0",
      "_model_name": "LayoutModel",
      "_view_count": null,
      "_view_module": "@jupyter-widgets/base",
      "_view_module_version": "1.2.0",
      "_view_name": "LayoutView",
      "align_content": null,
      "align_items": null,
      "align_self": null,
      "border": null,
      "bottom": null,
      "display": null,
      "flex": null,
      "flex_flow": null,
      "grid_area": null,
      "grid_auto_columns": null,
      "grid_auto_flow": null,
      "grid_auto_rows": null,
      "grid_column": null,
      "grid_gap": null,
      "grid_row": null,
      "grid_template_areas": null,
      "grid_template_columns": null,
      "grid_template_rows": null,
      "height": null,
      "justify_content": null,
      "justify_items": null,
      "left": null,
      "margin": null,
      "max_height": null,
      "max_width": null,
      "min_height": null,
      "min_width": null,
      "object_fit": null,
      "object_position": null,
      "order": null,
      "overflow": null,
      "overflow_x": null,
      "overflow_y": null,
      "padding": null,
      "right": null,
      "top": null,
      "visibility": null,
      "width": "25%"
     }
    },
    "561797b22a6c43c8984e23089540b050": {
     "model_module": "ipysheet",
     "model_module_version": "~0.4.4",
     "model_name": "SheetModel",
     "state": {
      "_dom_classes": [],
      "_model_module": "ipysheet",
      "_model_module_version": "~0.4.4",
      "_model_name": "SheetModel",
      "_view_count": null,
      "_view_module": "ipysheet",
      "_view_module_version": "~0.4.4",
      "_view_name": "SheetView",
      "cells": [
       "IPY_MODEL_fef0b6d7b7434f1cbec29917db24de24",
       "IPY_MODEL_665112d54ba84160b09bb3332430cf4d",
       "IPY_MODEL_34789e0faa3b4fc0ad130b10cf887e69",
       "IPY_MODEL_33e17b9998c94023b12be734f1697f20",
       "IPY_MODEL_d40e08ca14c54f68a57a2f1e2843085b",
       "IPY_MODEL_533c539bf5bf4173939dc642d45e30c9"
      ],
      "column_headers": [
       "site_id",
       "siteName",
       "decimalLatitude",
       "decimalLongitude",
       "geodeticDatum",
       "countryCode"
      ],
      "column_resizing": true,
      "column_width": null,
      "columns": 6,
      "layout": "IPY_MODEL_25d946eda5e54e1f87936e58aaa2461e",
      "named_cells": {},
      "row_headers": [
       "0",
       "1",
       "2",
       "3",
       "4"
      ],
      "row_resizing": true,
      "rows": 5,
      "search_token": "",
      "stretch_headers": "all"
     }
    },
    "5f2d843bd74f4786b16cf3c2e6562878": {
     "model_module": "@jupyter-widgets/base",
     "model_module_version": "1.2.0",
     "model_name": "LayoutModel",
     "state": {
      "_model_module": "@jupyter-widgets/base",
      "_model_module_version": "1.2.0",
      "_model_name": "LayoutModel",
      "_view_count": null,
      "_view_module": "@jupyter-widgets/base",
      "_view_module_version": "1.2.0",
      "_view_name": "LayoutView",
      "align_content": null,
      "align_items": null,
      "align_self": null,
      "border": null,
      "bottom": null,
      "display": null,
      "flex": null,
      "flex_flow": null,
      "grid_area": null,
      "grid_auto_columns": null,
      "grid_auto_flow": null,
      "grid_auto_rows": null,
      "grid_column": null,
      "grid_gap": null,
      "grid_row": null,
      "grid_template_areas": null,
      "grid_template_columns": null,
      "grid_template_rows": null,
      "height": null,
      "justify_content": null,
      "justify_items": null,
      "left": null,
      "margin": null,
      "max_height": null,
      "max_width": null,
      "min_height": null,
      "min_width": null,
      "object_fit": null,
      "object_position": null,
      "order": null,
      "overflow": null,
      "overflow_x": null,
      "overflow_y": null,
      "padding": null,
      "right": null,
      "top": null,
      "visibility": null,
      "width": null
     }
    },
    "605d67f9039246329edef58d28a2a068": {
     "model_module": "@jupyter-widgets/controls",
     "model_module_version": "1.5.0",
     "model_name": "DescriptionStyleModel",
     "state": {
      "_model_module": "@jupyter-widgets/controls",
      "_model_module_version": "1.5.0",
      "_model_name": "DescriptionStyleModel",
      "_view_count": null,
      "_view_module": "@jupyter-widgets/base",
      "_view_module_version": "1.2.0",
      "_view_name": "StyleView",
      "description_width": "initial"
     }
    },
    "610b7d32c7c94ad0b09899f86f859e3a": {
     "model_module": "ipysheet",
     "model_module_version": "~0.4.4",
     "model_name": "CellRangeModel",
     "state": {
      "_model_module": "ipysheet",
      "_model_module_version": "~0.4.4",
      "_model_name": "CellRangeModel",
      "_view_count": null,
      "_view_module": null,
      "_view_module_version": "",
      "_view_name": null,
      "choice": null,
      "column_end": 3,
      "column_start": 3,
      "date_format": "YYYY/MM/DD",
      "name": null,
      "numeric_format": null,
      "read_only": false,
      "renderer": null,
      "row_end": 21,
      "row_start": 0,
      "squeeze_column": true,
      "squeeze_row": false,
      "style": {},
      "time_format": "h:mm:ss a",
      "transpose": false,
      "type": "text",
      "value": [
       "species",
       "species",
       "phylum",
       "species",
       "species",
       "species",
       "species",
       "species",
       "class",
       "species",
       "species",
       "species",
       "species",
       "subphylum",
       "species",
       "species",
       "species",
       "species",
       "species",
       "species",
       "phylum",
       "species"
      ]
     }
    },
    "6276e1b951c1421da718b88762d14ebd": {
     "model_module": "@jupyter-widgets/base",
     "model_module_version": "1.2.0",
     "model_name": "LayoutModel",
     "state": {
      "_model_module": "@jupyter-widgets/base",
      "_model_module_version": "1.2.0",
      "_model_name": "LayoutModel",
      "_view_count": null,
      "_view_module": "@jupyter-widgets/base",
      "_view_module_version": "1.2.0",
      "_view_name": "LayoutView",
      "align_content": null,
      "align_items": null,
      "align_self": null,
      "border": null,
      "bottom": null,
      "display": null,
      "flex": null,
      "flex_flow": null,
      "grid_area": null,
      "grid_auto_columns": null,
      "grid_auto_flow": null,
      "grid_auto_rows": null,
      "grid_column": null,
      "grid_gap": null,
      "grid_row": null,
      "grid_template_areas": null,
      "grid_template_columns": null,
      "grid_template_rows": null,
      "height": null,
      "justify_content": null,
      "justify_items": null,
      "left": null,
      "margin": null,
      "max_height": null,
      "max_width": null,
      "min_height": null,
      "min_width": null,
      "object_fit": null,
      "object_position": null,
      "order": null,
      "overflow": null,
      "overflow_x": null,
      "overflow_y": null,
      "padding": null,
      "right": null,
      "top": null,
      "visibility": null,
      "width": "95%"
     }
    },
    "65daa3dca69544198a3fe5336715eebe": {
     "model_module": "@jupyter-widgets/controls",
     "model_module_version": "1.5.0",
     "model_name": "ButtonStyleModel",
     "state": {
      "_model_module": "@jupyter-widgets/controls",
      "_model_module_version": "1.5.0",
      "_model_name": "ButtonStyleModel",
      "_view_count": null,
      "_view_module": "@jupyter-widgets/base",
      "_view_module_version": "1.2.0",
      "_view_name": "StyleView",
      "button_color": null,
      "font_weight": ""
     }
    },
    "665112d54ba84160b09bb3332430cf4d": {
     "model_module": "ipysheet",
     "model_module_version": "~0.4.4",
     "model_name": "CellRangeModel",
     "state": {
      "_model_module": "ipysheet",
      "_model_module_version": "~0.4.4",
      "_model_name": "CellRangeModel",
      "_view_count": null,
      "_view_module": null,
      "_view_module_version": "",
      "_view_name": null,
      "choice": null,
      "column_end": 1,
      "column_start": 1,
      "date_format": "YYYY/MM/DD",
      "name": null,
      "numeric_format": null,
      "read_only": false,
      "renderer": null,
      "row_end": 4,
      "row_start": 0,
      "squeeze_column": true,
      "squeeze_row": false,
      "style": {},
      "time_format": "h:mm:ss a",
      "transpose": false,
      "type": "text",
      "value": [
       "Site_1",
       "Site_2",
       "Site_3",
       "Site_4",
       "Site_5"
      ]
     }
    },
    "6f0793e0948c4eab8f0de6df4e8455f4": {
     "model_module": "ipysheet",
     "model_module_version": "~0.4.4",
     "model_name": "CellRangeModel",
     "state": {
      "_model_module": "ipysheet",
      "_model_module_version": "~0.4.4",
      "_model_name": "CellRangeModel",
      "_view_count": null,
      "_view_module": null,
      "_view_module_version": "",
      "_view_name": null,
      "choice": null,
      "column_end": 1,
      "column_start": 1,
      "date_format": "YYYY/MM/DD",
      "name": null,
      "numeric_format": null,
      "read_only": false,
      "renderer": null,
      "row_end": 21,
      "row_start": 0,
      "squeeze_column": true,
      "squeeze_row": false,
      "style": {},
      "time_format": "h:mm:ss a",
      "transpose": false,
      "type": "text",
      "value": [
       "Fan-shaped sponge",
       "Football sponge",
       "Sponge (any species)",
       "Dead man's fingers",
       "Deeplet sea anemone",
       "Common sea pen",
       "Tall sea pen",
       "Deep water coral",
       "Coral (any species)",
       "Northern shrimp",
       "Great spider crab",
       "Deep sea king crab",
       "Norway lobster",
       "Crustacean (any species)",
       "Black brittle star",
       "Common sunstar",
       "Cushin star",
       "Common sea urchin",
       "Sugar starfish",
       "Rosy feather star",
       "Echinoderm (any species)",
       "File clam"
      ]
     }
    },
    "790a8f1d923f463ba00b619cc9b89c70": {
     "model_module": "@jupyter-widgets/controls",
     "model_module_version": "1.5.0",
     "model_name": "ButtonStyleModel",
     "state": {
      "_model_module": "@jupyter-widgets/controls",
      "_model_module_version": "1.5.0",
      "_model_name": "ButtonStyleModel",
      "_view_count": null,
      "_view_module": "@jupyter-widgets/base",
      "_view_module_version": "1.2.0",
      "_view_name": "StyleView",
      "button_color": null,
      "font_weight": ""
     }
    },
    "7befc2ff8ea44c709bcfae99d2352d98": {
     "model_module": "@jupyter-widgets/controls",
     "model_module_version": "1.5.0",
     "model_name": "ButtonStyleModel",
     "state": {
      "_model_module": "@jupyter-widgets/controls",
      "_model_module_version": "1.5.0",
      "_model_name": "ButtonStyleModel",
      "_view_count": null,
      "_view_module": "@jupyter-widgets/base",
      "_view_module_version": "1.2.0",
      "_view_name": "StyleView",
      "button_color": null,
      "font_weight": ""
     }
    },
    "7f694c304f6c4b94ba2331483980acbb": {
     "model_module": "@jupyter-widgets/controls",
     "model_module_version": "1.5.0",
     "model_name": "ButtonModel",
     "state": {
      "_dom_classes": [],
      "_model_module": "@jupyter-widgets/controls",
      "_model_module_version": "1.5.0",
      "_model_name": "ButtonModel",
      "_view_count": null,
      "_view_module": "@jupyter-widgets/controls",
      "_view_module_version": "1.5.0",
      "_view_name": "ButtonView",
      "button_style": "danger",
      "description": "Yes, details are correct",
      "disabled": false,
      "icon": "",
      "layout": "IPY_MODEL_558ef659dbe54f19bd8d7ef150df034d",
      "style": "IPY_MODEL_7befc2ff8ea44c709bcfae99d2352d98",
      "tooltip": ""
     }
    },
    "8657d457f8134d8aacbef21f7a1cd2f9": {
     "model_module": "@jupyter-widgets/base",
     "model_module_version": "1.2.0",
     "model_name": "LayoutModel",
     "state": {
      "_model_module": "@jupyter-widgets/base",
      "_model_module_version": "1.2.0",
      "_model_name": "LayoutModel",
      "_view_count": null,
      "_view_module": "@jupyter-widgets/base",
      "_view_module_version": "1.2.0",
      "_view_name": "LayoutView",
      "align_content": null,
      "align_items": null,
      "align_self": null,
      "border": null,
      "bottom": null,
      "display": null,
      "flex": null,
      "flex_flow": null,
      "grid_area": null,
      "grid_auto_columns": null,
      "grid_auto_flow": null,
      "grid_auto_rows": null,
      "grid_column": null,
      "grid_gap": null,
      "grid_row": null,
      "grid_template_areas": null,
      "grid_template_columns": null,
      "grid_template_rows": null,
      "height": null,
      "justify_content": null,
      "justify_items": null,
      "left": null,
      "margin": null,
      "max_height": null,
      "max_width": null,
      "min_height": null,
      "min_width": null,
      "object_fit": null,
      "object_position": null,
      "order": null,
      "overflow": null,
      "overflow_x": null,
      "overflow_y": null,
      "padding": "35px",
      "right": null,
      "top": null,
      "visibility": null,
      "width": "90%"
     }
    },
    "9e635727de58489480bbcebbeeb8864a": {
     "model_module": "@jupyter-widgets/controls",
     "model_module_version": "1.5.0",
     "model_name": "ButtonStyleModel",
     "state": {
      "_model_module": "@jupyter-widgets/controls",
      "_model_module_version": "1.5.0",
      "_model_name": "ButtonStyleModel",
      "_view_count": null,
      "_view_module": "@jupyter-widgets/base",
      "_view_module_version": "1.2.0",
      "_view_name": "StyleView",
      "button_color": null,
      "font_weight": ""
     }
    },
    "9f8655fc97554e1fbd52ead851f7b124": {
     "model_module": "@jupyter-widgets/controls",
     "model_module_version": "1.5.0",
     "model_name": "RadioButtonsModel",
     "state": {
      "_dom_classes": [],
      "_model_module": "@jupyter-widgets/controls",
      "_model_module_version": "1.5.0",
      "_model_name": "RadioButtonsModel",
      "_options_labels": [
       "Basic: Check for empty cells in the movies.csv",
       "Advanced: Basic + Check format and metadata of each movie"
      ],
      "_view_count": null,
      "_view_module": "@jupyter-widgets/controls",
      "_view_module_version": "1.5.0",
      "_view_name": "RadioButtonsView",
      "description": "What method you want to use to review the movies:",
      "description_tooltip": null,
      "disabled": false,
      "index": 0,
      "layout": "IPY_MODEL_6276e1b951c1421da718b88762d14ebd",
      "style": "IPY_MODEL_207a83072bcd4af7934047213ee79bdf"
     }
    },
    "a4c97dc2c73347a6aeb293d2a7b33a70": {
     "model_module": "@jupyter-widgets/base",
     "model_module_version": "1.2.0",
     "model_name": "LayoutModel",
     "state": {
      "_model_module": "@jupyter-widgets/base",
      "_model_module_version": "1.2.0",
      "_model_name": "LayoutModel",
      "_view_count": null,
      "_view_module": "@jupyter-widgets/base",
      "_view_module_version": "1.2.0",
      "_view_name": "LayoutView",
      "align_content": null,
      "align_items": null,
      "align_self": null,
      "border": null,
      "bottom": null,
      "display": null,
      "flex": null,
      "flex_flow": null,
      "grid_area": null,
      "grid_auto_columns": null,
      "grid_auto_flow": null,
      "grid_auto_rows": null,
      "grid_column": null,
      "grid_gap": null,
      "grid_row": null,
      "grid_template_areas": null,
      "grid_template_columns": null,
      "grid_template_rows": null,
      "height": null,
      "justify_content": null,
      "justify_items": null,
      "left": null,
      "margin": null,
      "max_height": null,
      "max_width": null,
      "min_height": null,
      "min_width": null,
      "object_fit": null,
      "object_position": null,
      "order": null,
      "overflow": null,
      "overflow_x": null,
      "overflow_y": null,
      "padding": null,
      "right": null,
      "top": null,
      "visibility": null,
      "width": "45%"
     }
    },
    "c0e7a703312a4679a2aacb0a6f10d95c": {
     "model_module": "@jupyter-widgets/controls",
     "model_module_version": "1.5.0",
     "model_name": "DropdownModel",
     "state": {
      "_dom_classes": [],
      "_model_module": "@jupyter-widgets/controls",
      "_model_module_version": "1.5.0",
      "_model_name": "DropdownModel",
      "_options_labels": [
       "Template project",
       "Koster_Seafloor_Obs",
       "Spyfish_Aotearoa",
       "SGU",
       "Medins"
      ],
      "_view_count": null,
      "_view_module": "@jupyter-widgets/controls",
      "_view_module_version": "1.5.0",
      "_view_name": "DropdownView",
      "description": "Project:",
      "description_tooltip": null,
      "disabled": false,
      "index": 0,
      "layout": "IPY_MODEL_5f2d843bd74f4786b16cf3c2e6562878",
      "style": "IPY_MODEL_d50b2f134535422f8a7f2761b4242b72"
     }
    },
    "ca32eddecbdd44f5be2ec15ee6ebe61d": {
     "model_module": "ipysheet",
     "model_module_version": "~0.4.4",
     "model_name": "CellRangeModel",
     "state": {
      "_model_module": "ipysheet",
      "_model_module_version": "~0.4.4",
      "_model_name": "CellRangeModel",
      "_view_count": null,
      "_view_module": null,
      "_view_module_version": "",
      "_view_name": null,
      "choice": null,
      "column_end": 4,
      "column_start": 4,
      "date_format": "YYYY/MM/DD",
      "name": null,
      "numeric_format": null,
      "read_only": false,
      "renderer": null,
      "row_end": 21,
      "row_start": 0,
      "squeeze_column": true,
      "squeeze_row": false,
      "style": {},
      "time_format": "h:mm:ss a",
      "transpose": false,
      "type": "text",
      "value": [
       "Animalia",
       "Animalia",
       "Animalia",
       "Animalia",
       "Animalia",
       "Animalia",
       "Animalia",
       "Animalia",
       "Animalia",
       "Animalia",
       "Animalia",
       "Animalia",
       "Animalia",
       "Animalia",
       "Animalia",
       "Animalia",
       "Animalia",
       "Animalia",
       "Animalia",
       "Animalia",
       "Animalia",
       "Animalia"
      ]
     }
    },
    "ca6f5cedfd4d45f68fbf346573604b8c": {
     "model_module": "@jupyter-widgets/controls",
     "model_module_version": "1.5.0",
     "model_name": "SelectionRangeSliderModel",
     "state": {
      "_dom_classes": [],
      "_model_module": "@jupyter-widgets/controls",
      "_model_module_version": "1.5.0",
      "_model_name": "SelectionRangeSliderModel",
      "_options_labels": [
       "0",
       "1",
       "2",
       "3",
       "4",
       "5"
      ],
      "_view_count": null,
      "_view_module": "@jupyter-widgets/controls",
      "_view_module_version": "1.5.0",
      "_view_name": "SelectionRangeSliderView",
      "continuous_update": true,
      "description": "Rows to display",
      "description_tooltip": null,
      "disabled": false,
      "index": [
       0,
       5
      ],
      "layout": "IPY_MODEL_8657d457f8134d8aacbef21f7a1cd2f9",
      "orientation": "horizontal",
      "readout": true,
      "style": "IPY_MODEL_50106792f9f14d81b84c88a7860a83fa"
     }
    },
    "d40e08ca14c54f68a57a2f1e2843085b": {
     "model_module": "ipysheet",
     "model_module_version": "~0.4.4",
     "model_name": "CellRangeModel",
     "state": {
      "_model_module": "ipysheet",
      "_model_module_version": "~0.4.4",
      "_model_name": "CellRangeModel",
      "_view_count": null,
      "_view_module": null,
      "_view_module_version": "",
      "_view_name": null,
      "choice": null,
      "column_end": 4,
      "column_start": 4,
      "date_format": "YYYY/MM/DD",
      "name": null,
      "numeric_format": null,
      "read_only": false,
      "renderer": null,
      "row_end": 4,
      "row_start": 0,
      "squeeze_column": true,
      "squeeze_row": false,
      "style": {},
      "time_format": "h:mm:ss a",
      "transpose": false,
      "type": "text",
      "value": [
       "WGS84",
       "WGS84",
       "WGS84",
       "WGS84",
       "WGS84"
      ]
     }
    },
    "d50b2f134535422f8a7f2761b4242b72": {
     "model_module": "@jupyter-widgets/controls",
     "model_module_version": "1.5.0",
     "model_name": "DescriptionStyleModel",
     "state": {
      "_model_module": "@jupyter-widgets/controls",
      "_model_module_version": "1.5.0",
      "_model_name": "DescriptionStyleModel",
      "_view_count": null,
      "_view_module": "@jupyter-widgets/base",
      "_view_module_version": "1.2.0",
      "_view_name": "StyleView",
      "description_width": ""
     }
    },
    "e362b5cf74d846578653ce44ccb03f39": {
     "model_module": "ipysheet",
     "model_module_version": "~0.4.4",
     "model_name": "CellRangeModel",
     "state": {
      "_model_module": "ipysheet",
      "_model_module_version": "~0.4.4",
      "_model_name": "CellRangeModel",
      "_view_count": null,
      "_view_module": null,
      "_view_module_version": "",
      "_view_name": null,
      "choice": null,
      "column_end": 0,
      "column_start": 0,
      "date_format": "YYYY/MM/DD",
      "name": null,
      "numeric_format": "0[.]0",
      "read_only": false,
      "renderer": null,
      "row_end": 21,
      "row_start": 0,
      "squeeze_column": true,
      "squeeze_row": false,
      "style": {},
      "time_format": "h:mm:ss a",
      "transpose": false,
      "type": "numeric",
      "value": [
       1,
       2,
       3,
       4,
       5,
       6,
       7,
       8,
       9,
       10,
       11,
       12,
       13,
       14,
       15,
       16,
       17,
       18,
       19,
       20,
       21,
       22
      ]
     }
    },
    "e3691eb3d05e423ea86bc5a9dad1946f": {
     "model_module": "@jupyter-widgets/controls",
     "model_module_version": "1.5.0",
     "model_name": "ButtonModel",
     "state": {
      "_dom_classes": [],
      "_model_module": "@jupyter-widgets/controls",
      "_model_module_version": "1.5.0",
      "_model_name": "ButtonModel",
      "_view_count": null,
      "_view_module": "@jupyter-widgets/controls",
      "_view_module_version": "1.5.0",
      "_view_name": "ButtonView",
      "button_style": "danger",
      "description": "Yes, details are correct",
      "disabled": false,
      "icon": "",
      "layout": "IPY_MODEL_f3eb565c63d941e7898a3c6b556657ec",
      "style": "IPY_MODEL_790a8f1d923f463ba00b619cc9b89c70",
      "tooltip": ""
     }
    },
    "e47f27e3d3f149d0ae52c52347403a51": {
     "model_module": "@jupyter-widgets/base",
     "model_module_version": "1.2.0",
     "model_name": "LayoutModel",
     "state": {
      "_model_module": "@jupyter-widgets/base",
      "_model_module_version": "1.2.0",
      "_model_name": "LayoutModel",
      "_view_count": null,
      "_view_module": "@jupyter-widgets/base",
      "_view_module_version": "1.2.0",
      "_view_name": "LayoutView",
      "align_content": null,
      "align_items": null,
      "align_self": null,
      "border": null,
      "bottom": null,
      "display": null,
      "flex": null,
      "flex_flow": null,
      "grid_area": null,
      "grid_auto_columns": null,
      "grid_auto_flow": null,
      "grid_auto_rows": null,
      "grid_column": null,
      "grid_gap": null,
      "grid_row": null,
      "grid_template_areas": null,
      "grid_template_columns": null,
      "grid_template_rows": null,
      "height": "auto",
      "justify_content": null,
      "justify_items": null,
      "left": null,
      "margin": null,
      "max_height": null,
      "max_width": null,
      "min_height": null,
      "min_width": null,
      "object_fit": null,
      "object_position": null,
      "order": null,
      "overflow": null,
      "overflow_x": null,
      "overflow_y": null,
      "padding": null,
      "right": null,
      "top": null,
      "visibility": null,
      "width": "auto"
     }
    },
    "e64e0a34d30b43de86159a69dd8b8878": {
     "model_module": "@jupyter-widgets/base",
     "model_module_version": "1.2.0",
     "model_name": "LayoutModel",
     "state": {
      "_model_module": "@jupyter-widgets/base",
      "_model_module_version": "1.2.0",
      "_model_name": "LayoutModel",
      "_view_count": null,
      "_view_module": "@jupyter-widgets/base",
      "_view_module_version": "1.2.0",
      "_view_name": "LayoutView",
      "align_content": null,
      "align_items": null,
      "align_self": null,
      "border": null,
      "bottom": null,
      "display": null,
      "flex": null,
      "flex_flow": null,
      "grid_area": null,
      "grid_auto_columns": null,
      "grid_auto_flow": null,
      "grid_auto_rows": null,
      "grid_column": null,
      "grid_gap": null,
      "grid_row": null,
      "grid_template_areas": null,
      "grid_template_columns": null,
      "grid_template_rows": null,
      "height": null,
      "justify_content": null,
      "justify_items": null,
      "left": null,
      "margin": null,
      "max_height": null,
      "max_width": null,
      "min_height": null,
      "min_width": null,
      "object_fit": null,
      "object_position": null,
      "order": null,
      "overflow": null,
      "overflow_x": null,
      "overflow_y": null,
      "padding": null,
      "right": null,
      "top": null,
      "visibility": null,
      "width": null
     }
    },
    "e7963868c1724f29accca7463c215b94": {
     "model_module": "@jupyter-widgets/controls",
     "model_module_version": "1.5.0",
     "model_name": "ButtonModel",
     "state": {
      "_dom_classes": [],
      "_model_module": "@jupyter-widgets/controls",
      "_model_module_version": "1.5.0",
      "_model_name": "ButtonModel",
      "_view_count": null,
      "_view_module": "@jupyter-widgets/controls",
      "_view_module_version": "1.5.0",
      "_view_name": "ButtonView",
      "button_style": "danger",
      "description": "No, I will go back and fix them",
      "disabled": false,
      "icon": "",
      "layout": "IPY_MODEL_f504d73a21a34655ba9118f77fa6785a",
      "style": "IPY_MODEL_9e635727de58489480bbcebbeeb8864a",
      "tooltip": ""
     }
    },
    "f3eb565c63d941e7898a3c6b556657ec": {
     "model_module": "@jupyter-widgets/base",
     "model_module_version": "1.2.0",
     "model_name": "LayoutModel",
     "state": {
      "_model_module": "@jupyter-widgets/base",
      "_model_module_version": "1.2.0",
      "_model_name": "LayoutModel",
      "_view_count": null,
      "_view_module": "@jupyter-widgets/base",
      "_view_module_version": "1.2.0",
      "_view_name": "LayoutView",
      "align_content": null,
      "align_items": null,
      "align_self": null,
      "border": null,
      "bottom": null,
      "display": null,
      "flex": null,
      "flex_flow": null,
      "grid_area": null,
      "grid_auto_columns": null,
      "grid_auto_flow": null,
      "grid_auto_rows": null,
      "grid_column": null,
      "grid_gap": null,
      "grid_row": null,
      "grid_template_areas": null,
      "grid_template_columns": null,
      "grid_template_rows": null,
      "height": null,
      "justify_content": null,
      "justify_items": null,
      "left": null,
      "margin": null,
      "max_height": null,
      "max_width": null,
      "min_height": null,
      "min_width": null,
      "object_fit": null,
      "object_position": null,
      "order": null,
      "overflow": null,
      "overflow_x": null,
      "overflow_y": null,
      "padding": null,
      "right": null,
      "top": null,
      "visibility": null,
      "width": "25%"
     }
    },
    "f504d73a21a34655ba9118f77fa6785a": {
     "model_module": "@jupyter-widgets/base",
     "model_module_version": "1.2.0",
     "model_name": "LayoutModel",
     "state": {
      "_model_module": "@jupyter-widgets/base",
      "_model_module_version": "1.2.0",
      "_model_name": "LayoutModel",
      "_view_count": null,
      "_view_module": "@jupyter-widgets/base",
      "_view_module_version": "1.2.0",
      "_view_name": "LayoutView",
      "align_content": null,
      "align_items": null,
      "align_self": null,
      "border": null,
      "bottom": null,
      "display": null,
      "flex": null,
      "flex_flow": null,
      "grid_area": null,
      "grid_auto_columns": null,
      "grid_auto_flow": null,
      "grid_auto_rows": null,
      "grid_column": null,
      "grid_gap": null,
      "grid_row": null,
      "grid_template_areas": null,
      "grid_template_columns": null,
      "grid_template_rows": null,
      "height": null,
      "justify_content": null,
      "justify_items": null,
      "left": null,
      "margin": null,
      "max_height": null,
      "max_width": null,
      "min_height": null,
      "min_width": null,
      "object_fit": null,
      "object_position": null,
      "order": null,
      "overflow": null,
      "overflow_x": null,
      "overflow_y": null,
      "padding": null,
      "right": null,
      "top": null,
      "visibility": null,
      "width": "45%"
     }
    },
    "fef0b6d7b7434f1cbec29917db24de24": {
     "model_module": "ipysheet",
     "model_module_version": "~0.4.4",
     "model_name": "CellRangeModel",
     "state": {
      "_model_module": "ipysheet",
      "_model_module_version": "~0.4.4",
      "_model_name": "CellRangeModel",
      "_view_count": null,
      "_view_module": null,
      "_view_module_version": "",
      "_view_name": null,
      "choice": null,
      "column_end": 0,
      "column_start": 0,
      "date_format": "YYYY/MM/DD",
      "name": null,
      "numeric_format": "0[.]0",
      "read_only": false,
      "renderer": null,
      "row_end": 4,
      "row_start": 0,
      "squeeze_column": true,
      "squeeze_row": false,
      "style": {},
      "time_format": "h:mm:ss a",
      "transpose": false,
      "type": "numeric",
      "value": [
       1,
       2,
       3,
       4,
       5
      ]
     }
    }
   }
  }
 },
 "nbformat": 4,
 "nbformat_minor": 5
}
