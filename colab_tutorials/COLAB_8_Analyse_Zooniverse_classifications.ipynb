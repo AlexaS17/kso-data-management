{
  "cells": [
    {
      "cell_type": "markdown",
      "id": "a49ece9a",
      "metadata": {
        "id": "a49ece9a"
      },
      "source": [
        "<img align=\"left\" src=\"https://panoptes-uploads.zooniverse.org/project_avatar/86c23ca7-bbaa-4e84-8d8a-876819551431.png\" type=\"image/png\" height=100 width=100>\n",
        "</img>\n",
        "\n",
        "\n",
        "<h1 align=\"right\">Colab KSO Tutorials #8: Analyse Zooniverse classifications</h1>\n",
        "<h3 align=\"right\">Written by @jannesgg and @vykanton</h3>\n",
        "<h5 align=\"right\">Last updated: Aug 8th, 2022</h5>"
      ]
    },
    {
      "cell_type": "markdown",
      "id": "dafbcdb0",
      "metadata": {
        "id": "dafbcdb0"
      },
      "source": [
        "# Set up and requirements"
      ]
    },
    {
      "cell_type": "markdown",
      "source": [
        "## Install kso_data_management and its requirements"
      ],
      "metadata": {
        "id": "z5IPGvwuntWh"
      },
      "id": "z5IPGvwuntWh"
    },
    {
      "cell_type": "code",
      "source": [
        "# Clone koster_data_management repo\n",
        "!git clone --recurse-submodules -b dev https://github.com/ocean-data-factory-sweden/koster_data_management.git\n",
        "!pip install -r koster_data_management/requirements.txt\n",
        "\n",
        "# Restart the session to load the latest packages\n",
        "exit()"
      ],
      "metadata": {
        "id": "x3I022Ux6sqJ"
      },
      "id": "x3I022Ux6sqJ",
      "execution_count": null,
      "outputs": []
    },
    {
      "cell_type": "markdown",
      "source": [
        "## Import Python packages"
      ],
      "metadata": {
        "id": "NfHHIlF0n_jB"
      },
      "id": "NfHHIlF0n_jB"
    },
    {
      "cell_type": "code",
      "execution_count": null,
      "id": "c0c89208",
      "metadata": {
        "id": "c0c89208"
      },
      "outputs": [],
      "source": [
        "# Set the directory of the libraries\n",
        "import sys, os\n",
        "from pathlib import Path\n",
        "\n",
        "# Enables testing changes in utils\n",
        "%load_ext autoreload\n",
        "%autoreload 2\n",
        "\n",
        "# Specify the path of the tutorials\n",
        "os.chdir(\"koster_data_management/tutorials\")\n",
        "sys.path.append('..')\n",
        "\n",
        "# Enable third-party widgets\n",
        "from google.colab import output\n",
        "output.enable_custom_widget_manager()\n",
        "\n",
        "# Import required modules\n",
        "import kso_utils.tutorials_utils as t_utils\n",
        "import kso_utils.project_utils as p_utils\n",
        "import kso_utils.t8_utils as t8\n",
        "\n",
        "print(\"Packages loaded successfully\")"
      ]
    },
    {
      "cell_type": "markdown",
      "id": "117139c9",
      "metadata": {
        "id": "117139c9"
      },
      "source": [
        "## Choose your project"
      ]
    },
    {
      "cell_type": "code",
      "execution_count": null,
      "id": "a29b26cc",
      "metadata": {
        "id": "a29b26cc"
      },
      "outputs": [],
      "source": [
        "project_name = t_utils.choose_project()"
      ]
    },
    {
      "cell_type": "markdown",
      "id": "a3fa7a36",
      "metadata": {
        "id": "a3fa7a36"
      },
      "source": [
        "## Initiate the database for the project"
      ]
    },
    {
      "cell_type": "code",
      "execution_count": null,
      "id": "eaa328da",
      "metadata": {
        "id": "eaa328da"
      },
      "outputs": [],
      "source": [
        "# Store the project selected\n",
        "project = p_utils.find_project(project_name=project_name.value)\n",
        "\n",
        "# Initiate db\n",
        "db_info_dict = t_utils.initiate_db(project)"
      ]
    },
    {
      "cell_type": "markdown",
      "source": [
        "## Connect to and retrieve info from zooniverse"
      ],
      "metadata": {
        "id": "xp0ZcGdyotwA"
      },
      "id": "xp0ZcGdyotwA"
    },
    {
      "cell_type": "code",
      "source": [
        "# Connect to Zooniverse project\n",
        "zoo_project = t_utils.connect_zoo_project(project)\n",
        "\n",
        "# Retrieve relevant info from Zooniverse\n",
        "zoo_info_dict = t_utils.retrieve__populate_zoo_info(\n",
        "    project = project, \n",
        "    db_info_dict = db_info_dict,\n",
        "    zoo_project = zoo_project,\n",
        "    zoo_info = [\"subjects\", \"workflows\", \"classifications\"]\n",
        ")"
      ],
      "metadata": {
        "id": "B1p9TjwBovYt"
      },
      "id": "B1p9TjwBovYt",
      "execution_count": null,
      "outputs": []
    },
    {
      "cell_type": "markdown",
      "id": "d8cf3fb4",
      "metadata": {
        "id": "d8cf3fb4"
      },
      "source": [
        "# Step 1: Specify the Zooniverse workflow id and version of interest\n",
        "\n",
        "Note: A manual export in Zooniverse is required to get the most up-to-date classifications here*\n",
        "\n",
        "Make sure your workflows in Zooniverse have different names to avoid issues while selecting the workflow id"
      ]
    },
    {
      "cell_type": "code",
      "execution_count": null,
      "id": "inclusive-depression",
      "metadata": {
        "id": "inclusive-depression"
      },
      "outputs": [],
      "source": [
        "# Display a selectable list of workflow names and a list of versions of the workflow of interest\n",
        "workflows_df = zoo_info_dict[\"workflows\"]\n",
        "wm = t8.WidgetMaker(workflows_df)\n",
        "wm"
      ]
    },
    {
      "cell_type": "code",
      "execution_count": 6,
      "id": "foster-motion",
      "metadata": {
        "id": "foster-motion"
      },
      "outputs": [],
      "source": [
        "# Filter classifications from the workflow of interest\n",
        "class_df = t8.get_classifications(wm.checks,\n",
        "                                   workflows_df,\n",
        "                                   wm.checks['Subject type: #0'], \n",
        "                                   zoo_info_dict[\"classifications\"], \n",
        "                                   db_info_dict[\"db_path\"],\n",
        "                                   project)"
      ]
    },
    {
      "cell_type": "markdown",
      "id": "3e8dfb6e",
      "metadata": {
        "id": "3e8dfb6e"
      },
      "source": [
        "# Step 2: Aggregate classifications received on the workflow of interest"
      ]
    },
    {
      "cell_type": "code",
      "execution_count": null,
      "id": "42f4fbde",
      "metadata": {
        "id": "42f4fbde"
      },
      "outputs": [],
      "source": [
        "# Specify the agreement threshold required among cit scientists\n",
        "agg_params = t8.choose_agg_parameters(wm.checks['Subject type: #0'])"
      ]
    },
    {
      "cell_type": "code",
      "execution_count": 19,
      "id": "fa4b01bd",
      "metadata": {
        "id": "fa4b01bd"
      },
      "outputs": [],
      "source": [
        "# Aggregate the classifications\n",
        "agg_class_df, raw_class_df = t8.aggregrate_classifications(class_df, \n",
        "                                                            wm.checks['Subject type: #0'], \n",
        "                                                            project, \n",
        "                                                            agg_params)"
      ]
    },
    {
      "cell_type": "markdown",
      "id": "0d120ad4",
      "metadata": {
        "id": "0d120ad4"
      },
      "source": [
        "# Step 3: Summarise the number of classifications based on the agreement specified"
      ]
    },
    {
      "cell_type": "code",
      "execution_count": null,
      "id": "greek-location",
      "metadata": {
        "id": "greek-location"
      },
      "outputs": [],
      "source": [
        "agg_class_df.groupby(\"label\")[\"subject_ids\"].agg(\"count\")"
      ]
    },
    {
      "cell_type": "markdown",
      "id": "763f1f91",
      "metadata": {
        "id": "763f1f91"
      },
      "source": [
        "# Step 4: Display the aggregated classifications in a table"
      ]
    },
    {
      "cell_type": "code",
      "execution_count": null,
      "id": "0d27eed6",
      "metadata": {
        "id": "0d27eed6"
      },
      "outputs": [],
      "source": [
        "# Display the dataframe into a table\n",
        "t8.launch_table(agg_class_df, wm.checks['Subject type: #0'])"
      ]
    },
    {
      "cell_type": "markdown",
      "id": "9e6a6804",
      "metadata": {
        "id": "9e6a6804"
      },
      "source": [
        "# Step 5: Use the subject explorer widget to visualise subjects and their aggregated classifications"
      ]
    },
    {
      "cell_type": "code",
      "execution_count": null,
      "id": "8c6ab27e",
      "metadata": {
        "scrolled": true,
        "id": "8c6ab27e"
      },
      "outputs": [],
      "source": [
        "# Launch the subject viewer\n",
        "t8.launch_viewer(agg_class_df, wm.checks['Subject type: #0'])"
      ]
    },
    {
      "cell_type": "markdown",
      "id": "d2ed92e0",
      "metadata": {
        "id": "d2ed92e0"
      },
      "source": [
        "# Step 6: Use the subject explorer widget to get more information about specific subjects and their \"raw\" classifications"
      ]
    },
    {
      "cell_type": "code",
      "execution_count": null,
      "id": "df0ac59b",
      "metadata": {
        "scrolled": false,
        "id": "df0ac59b"
      },
      "outputs": [],
      "source": [
        "# Launch the classifications_per_subject explorer\n",
        "t8.explore_classifications_per_subject(raw_class_df, wm.checks['Subject type: #0'])"
      ]
    },
    {
      "cell_type": "code",
      "execution_count": null,
      "id": "211ab0c3",
      "metadata": {
        "id": "211ab0c3"
      },
      "outputs": [],
      "source": [
        "# END"
      ]
    }
  ],
  "metadata": {
    "kernelspec": {
      "display_name": "Python 3 (ipykernel)",
      "language": "python",
      "name": "python3"
    },
    "language_info": {
      "codemirror_mode": {
        "name": "ipython",
        "version": 3
      },
      "file_extension": ".py",
      "mimetype": "text/x-python",
      "name": "python",
      "nbconvert_exporter": "python",
      "pygments_lexer": "ipython3",
      "version": "3.9.7"
    },
    "colab": {
      "name": "COLAB_8_Analyse_Zooniverse_classifications.ipynb",
      "provenance": []
    }
  },
  "nbformat": 4,
  "nbformat_minor": 5
}