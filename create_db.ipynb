{
 "cells": [
  {
   "cell_type": "markdown",
   "metadata": {},
   "source": [
    "# Steps to create the koster lab database\n",
    "\n",
    "The following scripts generate a sql database for underwater footage collected from the Kosterhavets National Park in Sweden along with the classifications provided by citizen scientists at the Koster seafloor observatory project in Zooniverse."
   ]
  },
  {
   "cell_type": "markdown",
   "metadata": {},
   "source": [
    "## Essential parameters"
   ]
  },
  {
   "cell_type": "code",
   "execution_count": null,
   "metadata": {},
   "outputs": [],
   "source": [
    "# Specify the path for the db\n",
    "db_path = \"koster_lab.db\"\n",
    "\n",
    "# Set Google Drive ids of the csv files with information about the species choices and original movies\n",
    "sp_file_id = \"1dnueH3BjJrMK8buVjfyFbxfu0E-5dX7Z\"\n",
    "mv_file_id = \"1LL-Ah_FIkBiGKEldYvuhNeL2NyOvKBip\"\n",
    "\n",
    "# Specify username and password of a valid zooniverse account\n",
    "user_zoo = \"\"\n",
    "pass_zoo = \"\""
   ]
  },
  {
   "cell_type": "markdown",
   "metadata": {},
   "source": [
    "## Optional parameters"
   ]
  },
  {
   "cell_type": "code",
   "execution_count": null,
   "metadata": {},
   "outputs": [],
   "source": [
    "# Specify the Zooniverse workflows of interest and their versions\n",
    "workflow_clip = 11767\n",
    "workflow_clip_version = 227\n",
    "workflow_frame = 12852\n",
    "workflow_frame_version = 21.85\n",
    "\n",
    "# Specify the agreement threshold required among cit scientists\n",
    "agg_user_clip = 0.8\n",
    "agg_user_frames = 0.8\n",
    "\n",
    "# Specifiy the min number of different Zooniverse users required per subject\n",
    "min_users_clip = 3\n",
    "min_users_frames = 5"
   ]
  },
  {
   "cell_type": "markdown",
   "metadata": {},
   "source": [
    "## Create and populate the database"
   ]
  },
  {
   "cell_type": "code",
   "execution_count": null,
   "metadata": {},
   "outputs": [],
   "source": [
    "# Initiate the db\n",
    "%run -i \"db_setup/init.py\" --db_path $db_path\n",
    "\n",
    "# Populate the db with info from the csv files\n",
    "%run -i \"db_setup/static.py\" --species_file_id $sp_file_id --movies_file_id $mv_file_id --db_path $db_path  \n",
    "\n",
    "# Populate the db with info of subjects uploaded to Zooniverse\n",
    "%run -i \"db_setup/subjects_uploaded.py\" --user $user_zoo --password $pass_zoo --db_path $db_path\n",
    "\n",
    "# Process the clips that have been classified in Zooniverse\n",
    "%run -i \"db_setup/process_clips.py\" --user $user_zoo --password $pass_zoo --db_path $db_path\n",
    "\n",
    "# Process the frames that have been classified in Zooniverse\n",
    "%run -i \"db_setup/process_frames.py\" --user $user_zoo --password $pass_zoo --db_path $db_path"
   ]
  },
  {
   "cell_type": "markdown",
   "metadata": {},
   "source": [
    "## Summarise relevant db information"
   ]
  },
  {
   "cell_type": "code",
   "execution_count": null,
   "metadata": {},
   "outputs": [],
   "source": [
    "from utils.clip_utils import clips_summary\n",
    "clips_summary(\"koster_lab.db\")"
   ]
  },
  {
   "cell_type": "code",
   "execution_count": null,
   "metadata": {},
   "outputs": [],
   "source": []
  }
 ],
 "metadata": {
  "kernelspec": {
   "display_name": "Python 3",
   "language": "python",
   "name": "python3"
  },
  "language_info": {
   "codemirror_mode": {
    "name": "ipython",
    "version": 3
   },
   "file_extension": ".py",
   "mimetype": "text/x-python",
   "name": "python",
   "nbconvert_exporter": "python",
   "pygments_lexer": "ipython3",
   "version": "3.7.4"
  }
 },
 "nbformat": 4,
 "nbformat_minor": 2
}
