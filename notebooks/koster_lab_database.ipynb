{
 "cells": [
  {
   "cell_type": "markdown",
   "metadata": {},
   "source": [
    "# Koster lab database\n",
    "\n",
    "The following scripts guide you to create a sql database for the Koster project in Zooniverse"
   ]
  },
  {
   "cell_type": "markdown",
   "metadata": {},
   "source": [
    "### Essential parameters"
   ]
  },
  {
   "cell_type": "code",
   "execution_count": 3,
   "metadata": {},
   "outputs": [],
   "source": [
    "# Set paths to the files containing information about the species choices, movie filenames, sites, and duplicated subjects\n",
    "sp_file = \"https://drive.google.com/file/d/1SXRU8u5qHfRdjx4A6b_f0gJdmkCCFvhX/view?usp=sharing\"\n",
    "si_file = \"https://drive.google.com/file/d/1zAhgivZaOBYcIHokBInAQBChfVQee0EU/view?usp=sharing\"\n",
    "mv_file = \"https://drive.google.com/file/d/1c3-ZvojsT1VEaEg-uCbrg26U2AhHse10/view?usp=sharing\"\n",
    "dp_file = \"https://drive.google.com/file/d/1AGuSMeS-lDBSkXkUkJU3MBpFRkBJPQW9/view?usp=sharing\"\n",
    "\n",
    "# Specify the path to the movie files\n",
    "mov_path = \"/uploads\""
   ]
  },
  {
   "cell_type": "code",
   "execution_count": 6,
   "metadata": {},
   "outputs": [
    {
     "name": "stdout",
     "output_type": "stream",
     "text": [
      "/usr/src/app/koster_data_management\n",
      "'000114 TMBL-ROV 2000 Säckenrevet EJ numrerade band.mov'\n",
      "'000114 TMBL-ROV 2000 Säckenrevet Tape 55.mov'\n",
      "'000203 TMBL-ROV 2000 Säcken revet EJ numrerade band.mov'\n",
      "'000203 TMBL-ROV 2000 Säcken EJ numrerade band.mov'\n",
      "'000203 TMBL-ROV 2000 Säckenrevet Tape 56.mov'\n",
      "'000203 TMBL-ROV 2000 säcken Tape 56.mov'\n",
      "'010424 Säckenrevet alfa Tape 74.mov'\n",
      "'010424 Säckenrevet beta Tape 74.mov'\n",
      " 01448002.mov\n",
      " 01448005.mov\n",
      " 01448006.mov\n",
      " 01450003.mov\n",
      " 01450004.mov\n",
      " 01451001.mov\n",
      " 01451004.mov\n",
      " 01451005.mov\n",
      " 01451006.mov\n",
      " 01451007.mov\n",
      " 01451008_1.mov\n",
      " 01451009.mov\n",
      " 01451010.mov\n",
      " 01451011.mov\n",
      " 01451011_1.mov\n",
      " 01453002.mov\n",
      " 01453003.mov\n",
      " 01453004.mov\n",
      " 01453005.mov\n",
      " 01454001.mov\n",
      " 01454002.mov\n",
      " 01454003.mov\n",
      " 01454004.mov\n",
      " 01454005.mov\n",
      " 01454006_1.mov\n",
      " 01455001.mov\n",
      " 01455002.mov\n",
      " 01455003.mov\n",
      "'01459004 2.mov'\n",
      "'01459004 2_1.mov'\n",
      " 01484001_1.mov\n",
      " 01484002_1.mov\n",
      " 01484003_1.mov\n",
      " 01484004_1.mov\n",
      " 01484005_1.mov\n",
      " 01484006_1.mov\n",
      " 01484007_1.mov\n",
      " 01485002_1.mov\n",
      " 01485005.mov\n",
      " 01486001.mov\n",
      " 01487003.mov\n",
      " 01487004.mov\n",
      " 01487005.mov\n",
      " 01496001.mov\n",
      " 01496002.mov\n",
      " 01496003.mov\n",
      " 01496005.mov\n",
      " 01496006.mov\n",
      " 01496007.mov\n",
      " 01643002_1.mov\n",
      " 01724003.mov\n",
      " 01724008.mov\n",
      " 01724008_1.mov\n",
      " 01725006_1.mov\n",
      " 01725007.mov\n",
      " 01725007_1.mov\n",
      " 01726002_1.mov\n",
      " 01726003_1.mov\n",
      " 01727001_1.mov\n",
      "'020130 TMBL-ROV 2002 Säcken transekt 1.mov'\n",
      "'020130 TMBL-ROV 2002 Säcken transekt 2.mov'\n",
      "'020130 TMBL-ROV 2002 Säcken transekt 3.mov'\n",
      "'020628 TMBL-ROV 2002 O Hollanderberget Säcken.mov'\n",
      "'020629 TMBL-ROV 2002 O Väderöarna.mov'\n",
      "'030317-18 TMBL-ROV 2003 Säckenrevet.mov'\n",
      "'030325 TMBL-ROV 2003 Säckenrevet bioerosion.mov'\n",
      "'031023 TMBL-ROV 2003 Säcken Bioerosion.mov'\n",
      "'040220 TMBL-ROV 2004 Säckenrevet alfa.mov'\n",
      "'040415 TMBL-ROV 2004 Valkadaver del 1.mov'\n",
      "'040415 TMBL-ROV 2004 Valkadaver del 2.mov'\n",
      "'040521 TMBL-ROV 2004 Säcken NO.mov'\n",
      "'040522 TMBL-ROV 2004 Säckenrevet rubble.mov'\n",
      "'040522 TMBL-ROV 2004 Säckenrevet.mov'\n",
      "'041119 TMBL-ROV 2004 Yttre Vattenholmen.mov'\n",
      "'090202 TMBL-ROV 1997 Yttre Vattenholmen.mov'\n",
      "'090803 Offshore 1 sva Utsjöbanksinventering Svaberget 1.mov'\n",
      "'090915 Offshore 8a sva Utsjöbanksinventering Svaberget 8.mov'\n",
      "'970623 TMBL-ROV 1997 Tape 1 Kattholmen.mov'\n",
      "'970708 TMBL-ROV 1997 Tape 2 Krugglöbranten.mov'\n",
      "'970708 TMBL-ROV 1997 Tape 2 S Kostergrund.mov'\n",
      "'970717 TMBL-ROV 1997 Tape 3 V Klippgrund.mov'\n",
      "'970807 TMBL-ROV 1997 Tape 3 Krugglöbranten.mov'\n",
      "'990304 TMBL-ROV 1999 Yttre Vattenholmen Tape 36_SELECTWS.mov'\n",
      "'990331 TMBL-ROV 1999 Säckenrevet Tape 37_SELECTWS.mov'\n",
      "'990506 TMBL-ROV 1999 Revet Säcken Tape 42_SELECTWS.mov'\n",
      "'990506 TMBL-ROV 1999 Revet Säcken 2 Tape 42.mov'\n",
      "'990506 TMBL-ROV 1999 Revet Säcken 2 Tape 42_SELECTWS.mov'\n",
      "'990622 TMBL-ROV 1999 V Yttre Vattenholmen Tape 44.mov'\n",
      "'990719 TMBL-ROV 1999 V Yttre Vattenholmen Tape 45.mov'\n",
      "'990805 TMBL-ROV 1999 Yttre Vattenholmen Tape 45.mov'\n",
      "'990806 TMBL-ROV 1999 Yttre Vattenholmen Tape 45.mov'\n",
      "'990810 TMBL-ROV 1999 Väderöarna Tape 46.mov'\n",
      "'990810 TMBL-ROV 1999 Väderöarna-Storö Tape 46.mov'\n",
      "'990812 TMBL-ROV 1999 O Storö TApe 47.mov'\n",
      "'990813 TMBL-ROV 1999 Storö-Torsö Utsidan rännan tape 48.mov'\n",
      " \u001b[0m\u001b[01;34mapi\u001b[0m/\n",
      " generate_clips_orig.py\n",
      " generate_clips_tobi.py\n",
      " generate_clips_tobi30secs.py\n",
      " \u001b[01;34msubjects\u001b[0m/\n"
     ]
    }
   ],
   "source": [
    "#%cd \"../\"\n",
    "# Check the path to movie files\n",
    "%ls $mov_path\n",
    "#%ls"
   ]
  },
  {
   "cell_type": "markdown",
   "metadata": {},
   "source": [
    "### Create and populate the database"
   ]
  },
  {
   "cell_type": "code",
   "execution_count": 7,
   "metadata": {},
   "outputs": [
    {
     "name": "stdout",
     "output_type": "stream",
     "text": [
      "Empty DataFrame\n",
      "Columns: [<html><head><meta http-equiv=\"content-type\" content=\"text/html; charset=utf-8\"/><title>Sorry...</title><style> body { font-family: verdana,  arial,  sans-serif; background-color: #fff; color: #000; }</style></head><body><div><table><tr><td><b><font face=sans-serif size=10><font color=#4285f4>G</font><font color=#ea4335>o</font><font color=#fbbc05>o</font><font color=#4285f4>g</font><font color=#34a853>l</font><font color=#ea4335>e</font></font></b></td><td style=\"text-align: left; vertical-align: bottom; padding-bottom: 15px; width: 50%\"><div style=\"border-bottom: 1px solid #dfdfdf;\">Sorry...</div></td></tr></table></div><div style=\"margin-left: 4em;\"><h1>We're sorry...</h1><p>... but your computer or network may be sending automated queries. To protect our users,  we can't process your request right now.</p></div><div style=\"margin-left: 4em;\">See <a href=\"https://support.google.com/websearch/answer/86640\">Google Help</a> for more information.<br/><br/></div><div style=\"text-align: center; border-top: 1px solid #dfdfdf;\"><a href=\"https://www.google.com\">Google Home</a></div></body></html>]\n",
      "Index: []\n"
     ]
    },
    {
     "ename": "KeyError",
     "evalue": "\"None of [Index(['koster_site_id', 'siteName', 'decimalLatitude', 'decimalLongitude',\\n       'geodeticDatum', 'countryCode'],\\n      dtype='object')] are in the [columns]\"",
     "output_type": "error",
     "traceback": [
      "\u001b[0;31m---------------------------------------------------------------------------\u001b[0m",
      "\u001b[0;31mKeyError\u001b[0m                                  Traceback (most recent call last)",
      "\u001b[0;32m/usr/src/app/koster_data_management/db_setup/static.py\u001b[0m in \u001b[0;36m<module>\u001b[0;34m\u001b[0m\n\u001b[1;32m    173\u001b[0m \u001b[0;34m\u001b[0m\u001b[0m\n\u001b[1;32m    174\u001b[0m \u001b[0;32mif\u001b[0m \u001b[0m__name__\u001b[0m \u001b[0;34m==\u001b[0m \u001b[0;34m\"__main__\"\u001b[0m\u001b[0;34m:\u001b[0m\u001b[0;34m\u001b[0m\u001b[0;34m\u001b[0m\u001b[0m\n\u001b[0;32m--> 175\u001b[0;31m     \u001b[0mmain\u001b[0m\u001b[0;34m(\u001b[0m\u001b[0;34m)\u001b[0m\u001b[0;34m\u001b[0m\u001b[0;34m\u001b[0m\u001b[0m\n\u001b[0m",
      "\u001b[0;32m/usr/src/app/koster_data_management/db_setup/static.py\u001b[0m in \u001b[0;36mmain\u001b[0;34m()\u001b[0m\n\u001b[1;32m    167\u001b[0m     \u001b[0margs\u001b[0m \u001b[0;34m=\u001b[0m \u001b[0mparser\u001b[0m\u001b[0;34m.\u001b[0m\u001b[0mparse_args\u001b[0m\u001b[0;34m(\u001b[0m\u001b[0;34m)\u001b[0m\u001b[0;34m\u001b[0m\u001b[0;34m\u001b[0m\u001b[0m\n\u001b[1;32m    168\u001b[0m \u001b[0;34m\u001b[0m\u001b[0m\n\u001b[0;32m--> 169\u001b[0;31m     \u001b[0madd_sites\u001b[0m\u001b[0;34m(\u001b[0m\u001b[0margs\u001b[0m\u001b[0;34m.\u001b[0m\u001b[0msites_csv\u001b[0m\u001b[0;34m,\u001b[0m \u001b[0margs\u001b[0m\u001b[0;34m.\u001b[0m\u001b[0mdb_path\u001b[0m\u001b[0;34m)\u001b[0m\u001b[0;34m\u001b[0m\u001b[0;34m\u001b[0m\u001b[0m\n\u001b[0m\u001b[1;32m    170\u001b[0m     \u001b[0madd_movies\u001b[0m\u001b[0;34m(\u001b[0m\u001b[0margs\u001b[0m\u001b[0;34m.\u001b[0m\u001b[0mmovies_csv\u001b[0m\u001b[0;34m,\u001b[0m \u001b[0margs\u001b[0m\u001b[0;34m.\u001b[0m\u001b[0mmovies_path\u001b[0m\u001b[0;34m,\u001b[0m \u001b[0margs\u001b[0m\u001b[0;34m.\u001b[0m\u001b[0mdb_path\u001b[0m\u001b[0;34m)\u001b[0m\u001b[0;34m\u001b[0m\u001b[0;34m\u001b[0m\u001b[0m\n\u001b[1;32m    171\u001b[0m     \u001b[0madd_species\u001b[0m\u001b[0;34m(\u001b[0m\u001b[0margs\u001b[0m\u001b[0;34m.\u001b[0m\u001b[0mspecies_csv\u001b[0m\u001b[0;34m,\u001b[0m \u001b[0margs\u001b[0m\u001b[0;34m.\u001b[0m\u001b[0mdb_path\u001b[0m\u001b[0;34m)\u001b[0m\u001b[0;34m\u001b[0m\u001b[0;34m\u001b[0m\u001b[0m\n",
      "\u001b[0;32m/usr/src/app/koster_data_management/db_setup/static.py\u001b[0m in \u001b[0;36madd_sites\u001b[0;34m(sites_csv, db_path)\u001b[0m\n\u001b[1;32m     27\u001b[0m     \u001b[0;31m# Select relevant fields\u001b[0m\u001b[0;34m\u001b[0m\u001b[0;34m\u001b[0m\u001b[0;34m\u001b[0m\u001b[0m\n\u001b[1;32m     28\u001b[0m     sites_df = sites_df[\n\u001b[0;32m---> 29\u001b[0;31m         \u001b[0;34m[\u001b[0m\u001b[0;34m\"koster_site_id\"\u001b[0m\u001b[0;34m,\u001b[0m \u001b[0;34m\"siteName\"\u001b[0m\u001b[0;34m,\u001b[0m \u001b[0;34m\"decimalLatitude\"\u001b[0m\u001b[0;34m,\u001b[0m \u001b[0;34m\"decimalLongitude\"\u001b[0m\u001b[0;34m,\u001b[0m \u001b[0;34m\"geodeticDatum\"\u001b[0m\u001b[0;34m,\u001b[0m \u001b[0;34m\"countryCode\"\u001b[0m\u001b[0;34m]\u001b[0m\u001b[0;34m\u001b[0m\u001b[0;34m\u001b[0m\u001b[0m\n\u001b[0m\u001b[1;32m     30\u001b[0m     ]\n\u001b[1;32m     31\u001b[0m \u001b[0;34m\u001b[0m\u001b[0m\n",
      "\u001b[0;32m/usr/local/lib/python3.6/site-packages/pandas/core/frame.py\u001b[0m in \u001b[0;36m__getitem__\u001b[0;34m(self, key)\u001b[0m\n\u001b[1;32m   2804\u001b[0m             \u001b[0;32mif\u001b[0m \u001b[0mis_iterator\u001b[0m\u001b[0;34m(\u001b[0m\u001b[0mkey\u001b[0m\u001b[0;34m)\u001b[0m\u001b[0;34m:\u001b[0m\u001b[0;34m\u001b[0m\u001b[0;34m\u001b[0m\u001b[0m\n\u001b[1;32m   2805\u001b[0m                 \u001b[0mkey\u001b[0m \u001b[0;34m=\u001b[0m \u001b[0mlist\u001b[0m\u001b[0;34m(\u001b[0m\u001b[0mkey\u001b[0m\u001b[0;34m)\u001b[0m\u001b[0;34m\u001b[0m\u001b[0;34m\u001b[0m\u001b[0m\n\u001b[0;32m-> 2806\u001b[0;31m             \u001b[0mindexer\u001b[0m \u001b[0;34m=\u001b[0m \u001b[0mself\u001b[0m\u001b[0;34m.\u001b[0m\u001b[0mloc\u001b[0m\u001b[0;34m.\u001b[0m\u001b[0m_get_listlike_indexer\u001b[0m\u001b[0;34m(\u001b[0m\u001b[0mkey\u001b[0m\u001b[0;34m,\u001b[0m \u001b[0maxis\u001b[0m\u001b[0;34m=\u001b[0m\u001b[0;36m1\u001b[0m\u001b[0;34m,\u001b[0m \u001b[0mraise_missing\u001b[0m\u001b[0;34m=\u001b[0m\u001b[0;32mTrue\u001b[0m\u001b[0;34m)\u001b[0m\u001b[0;34m[\u001b[0m\u001b[0;36m1\u001b[0m\u001b[0;34m]\u001b[0m\u001b[0;34m\u001b[0m\u001b[0;34m\u001b[0m\u001b[0m\n\u001b[0m\u001b[1;32m   2807\u001b[0m \u001b[0;34m\u001b[0m\u001b[0m\n\u001b[1;32m   2808\u001b[0m         \u001b[0;31m# take() does not accept boolean indexers\u001b[0m\u001b[0;34m\u001b[0m\u001b[0;34m\u001b[0m\u001b[0;34m\u001b[0m\u001b[0m\n",
      "\u001b[0;32m/usr/local/lib/python3.6/site-packages/pandas/core/indexing.py\u001b[0m in \u001b[0;36m_get_listlike_indexer\u001b[0;34m(self, key, axis, raise_missing)\u001b[0m\n\u001b[1;32m   1551\u001b[0m \u001b[0;34m\u001b[0m\u001b[0m\n\u001b[1;32m   1552\u001b[0m         self._validate_read_indexer(\n\u001b[0;32m-> 1553\u001b[0;31m             \u001b[0mkeyarr\u001b[0m\u001b[0;34m,\u001b[0m \u001b[0mindexer\u001b[0m\u001b[0;34m,\u001b[0m \u001b[0mo\u001b[0m\u001b[0;34m.\u001b[0m\u001b[0m_get_axis_number\u001b[0m\u001b[0;34m(\u001b[0m\u001b[0maxis\u001b[0m\u001b[0;34m)\u001b[0m\u001b[0;34m,\u001b[0m \u001b[0mraise_missing\u001b[0m\u001b[0;34m=\u001b[0m\u001b[0mraise_missing\u001b[0m\u001b[0;34m\u001b[0m\u001b[0;34m\u001b[0m\u001b[0m\n\u001b[0m\u001b[1;32m   1554\u001b[0m         )\n\u001b[1;32m   1555\u001b[0m         \u001b[0;32mreturn\u001b[0m \u001b[0mkeyarr\u001b[0m\u001b[0;34m,\u001b[0m \u001b[0mindexer\u001b[0m\u001b[0;34m\u001b[0m\u001b[0;34m\u001b[0m\u001b[0m\n",
      "\u001b[0;32m/usr/local/lib/python3.6/site-packages/pandas/core/indexing.py\u001b[0m in \u001b[0;36m_validate_read_indexer\u001b[0;34m(self, key, indexer, axis, raise_missing)\u001b[0m\n\u001b[1;32m   1638\u001b[0m             \u001b[0;32mif\u001b[0m \u001b[0mmissing\u001b[0m \u001b[0;34m==\u001b[0m \u001b[0mlen\u001b[0m\u001b[0;34m(\u001b[0m\u001b[0mindexer\u001b[0m\u001b[0;34m)\u001b[0m\u001b[0;34m:\u001b[0m\u001b[0;34m\u001b[0m\u001b[0;34m\u001b[0m\u001b[0m\n\u001b[1;32m   1639\u001b[0m                 \u001b[0maxis_name\u001b[0m \u001b[0;34m=\u001b[0m \u001b[0mself\u001b[0m\u001b[0;34m.\u001b[0m\u001b[0mobj\u001b[0m\u001b[0;34m.\u001b[0m\u001b[0m_get_axis_name\u001b[0m\u001b[0;34m(\u001b[0m\u001b[0maxis\u001b[0m\u001b[0;34m)\u001b[0m\u001b[0;34m\u001b[0m\u001b[0;34m\u001b[0m\u001b[0m\n\u001b[0;32m-> 1640\u001b[0;31m                 \u001b[0;32mraise\u001b[0m \u001b[0mKeyError\u001b[0m\u001b[0;34m(\u001b[0m\u001b[0;34mf\"None of [{key}] are in the [{axis_name}]\"\u001b[0m\u001b[0;34m)\u001b[0m\u001b[0;34m\u001b[0m\u001b[0;34m\u001b[0m\u001b[0m\n\u001b[0m\u001b[1;32m   1641\u001b[0m \u001b[0;34m\u001b[0m\u001b[0m\n\u001b[1;32m   1642\u001b[0m             \u001b[0;31m# We (temporarily) allow for some missing keys with .loc, except in\u001b[0m\u001b[0;34m\u001b[0m\u001b[0;34m\u001b[0m\u001b[0;34m\u001b[0m\u001b[0m\n",
      "\u001b[0;31mKeyError\u001b[0m: \"None of [Index(['koster_site_id', 'siteName', 'decimalLatitude', 'decimalLongitude',\\n       'geodeticDatum', 'countryCode'],\\n      dtype='object')] are in the [columns]\""
     ]
    }
   ],
   "source": [
    "# Delete previous database if exists\n",
    "#import os\n",
    "if os.path.exists(\"koster_lab.db\"):\n",
    "  os.remove(\"koster_lab.db\")\n",
    "else:\n",
    "  print(\"The file does not exist\")\n",
    "\n",
    "# Initiate the db\n",
    "%run -i \"db_setup/init.py\"\n",
    "\n",
    "# Populate the db with info from the csv files\n",
    "%run -i \"db_setup/static.py\" --species_csv $sp_file --sites_csv $si_file --movies_csv $mv_file --movies_path $mov_path"
   ]
  },
  {
   "cell_type": "code",
   "execution_count": null,
   "metadata": {},
   "outputs": [],
   "source": [
    "# Initiate the db\n",
    "%run -i \"db_setup/init.py\"\n",
    "\n",
    "# Populate the db with info from the csv files\n",
    "%run -i \"db_setup/static.py\" --species_csv $sp_file --sites_csv $si_file --movies_csv $mv_file --movies_path $mov_path\n",
    "\n",
    "# Populate the db with info of subjects uploaded to Zooniverse\n",
    "%run -i \"db_setup/subjects_uploaded.py\" --user $user_zoo --password $pass_zoo --db_path $db_path --duplicates_file_id $dp_file_id\n",
    "\n",
    "# Process the clips that have been classified in Zooniverse\n",
    "%run -i \"db_setup/process_clips.py\" --user $user_zoo --password $pass_zoo --db_path $db_path --duplicates_file_id $dp_file_id\n",
    "\n",
    "# Process the frames that have been classified in Zooniverse\n",
    "%run -i \"db_setup/process_frames.py\" --user $user_zoo --password $pass_zoo --db_path $db_path --duplicates_file_id $dp_file_id"
   ]
  },
  {
   "cell_type": "markdown",
   "metadata": {},
   "source": [
    "### Optional parameters"
   ]
  },
  {
   "cell_type": "code",
   "execution_count": null,
   "metadata": {},
   "outputs": [],
   "source": [
    "# Specify the Zooniverse workflows of interest and their versions\n",
    "workflow_clip = 11767\n",
    "workflow_clip_version = 227\n",
    "workflow_frame = 12852\n",
    "workflow_frame_version = 21.85\n",
    "\n",
    "# Specify the agreement threshold required among cit scientists\n",
    "agg_user_clip = 0.8\n",
    "agg_user_frames = 0.8\n",
    "\n",
    "# Specifiy the min number of different Zooniverse users required per subject\n",
    "min_users_clip = 3\n",
    "min_users_frames = 5"
   ]
  },
  {
   "cell_type": "markdown",
   "metadata": {},
   "source": [
    "## Summarise relevant db information"
   ]
  },
  {
   "cell_type": "code",
   "execution_count": null,
   "metadata": {},
   "outputs": [],
   "source": [
    "from utils.summary_utils import clips_summary\n",
    "clips_summary(\"koster_lab.db\")"
   ]
  },
  {
   "cell_type": "markdown",
   "metadata": {},
   "source": [
    "## Upload new frames"
   ]
  },
  {
   "cell_type": "markdown",
   "metadata": {},
   "source": [
    "### Essential parameters"
   ]
  },
  {
   "cell_type": "code",
   "execution_count": null,
   "metadata": {},
   "outputs": [],
   "source": [
    "# Specify the name of the species of interest and path to store the frames\n",
    "# NOTE: use \"\\\" if the species name has spaces (e.g. \"Deep\\ sea\\ king\\ crab\")\n",
    "species_i = \"Sugar\\ starfish\"\n",
    "folder_frames = \"./frames\""
   ]
  },
  {
   "cell_type": "markdown",
   "metadata": {},
   "source": [
    "### Optional parameters"
   ]
  },
  {
   "cell_type": "code",
   "execution_count": null,
   "metadata": {},
   "outputs": [],
   "source": [
    "# Specify the number of frames per clip you would like to upload\n",
    "n_frames = 2"
   ]
  },
  {
   "cell_type": "markdown",
   "metadata": {},
   "source": [
    "### Upload frames"
   ]
  },
  {
   "cell_type": "code",
   "execution_count": null,
   "metadata": {},
   "outputs": [],
   "source": [
    "# Upload frames of the species of interest to Zooniverse\n",
    "%run -i \"upload_subjects/upload_frames.py\" --user $user_zoo --password $pass_zoo --db_path $db_path --species $species_i --frames_folder $folder_frames "
   ]
  },
  {
   "cell_type": "markdown",
   "metadata": {},
   "source": [
    "# Upload new clips"
   ]
  },
  {
   "cell_type": "markdown",
   "metadata": {},
   "source": [
    "### Essential parameters"
   ]
  },
  {
   "cell_type": "code",
   "execution_count": null,
   "metadata": {},
   "outputs": [],
   "source": [
    "# Specify the number of clips to upload and path to store the clips\n",
    "clips_n = 10\n",
    "folder_clips = \"./clips\""
   ]
  },
  {
   "cell_type": "markdown",
   "metadata": {},
   "source": [
    "### Optional parameters"
   ]
  },
  {
   "cell_type": "code",
   "execution_count": null,
   "metadata": {},
   "outputs": [],
   "source": [
    "# Upload 10 second clips only from a specific movie file\n",
    "video_interest = 1\n",
    "clip_length = 10"
   ]
  },
  {
   "cell_type": "markdown",
   "metadata": {},
   "source": [
    "### Upload clips"
   ]
  },
  {
   "cell_type": "code",
   "execution_count": null,
   "metadata": {},
   "outputs": [],
   "source": [
    "# Extract and upload the clips to Zooniverse\n",
    "%run -i \"upload_subjects/upload_clips.py\" --user $user_zoo --password $pass_zoo --db_path $db_path --clips_folder $folder_clips --n_clips $clips_n  \n"
   ]
  },
  {
   "cell_type": "code",
   "execution_count": null,
   "metadata": {},
   "outputs": [],
   "source": []
  }
 ],
 "metadata": {
  "kernelspec": {
   "display_name": "Python 3",
   "language": "python",
   "name": "python3"
  },
  "language_info": {
   "codemirror_mode": {
    "name": "ipython",
    "version": 3
   },
   "file_extension": ".py",
   "mimetype": "text/x-python",
   "name": "python",
   "nbconvert_exporter": "python",
   "pygments_lexer": "ipython3",
   "version": "3.6.13"
  }
 },
 "nbformat": 4,
 "nbformat_minor": 2
}
