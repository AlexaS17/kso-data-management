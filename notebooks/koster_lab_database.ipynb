{
 "cells": [
  {
   "cell_type": "markdown",
   "metadata": {},
   "source": [
    "# Koster lab database\n",
    "\n",
    "The following scripts guide you to create a sql database for the Koster project in Zooniverse"
   ]
  },
  {
   "cell_type": "markdown",
   "metadata": {},
   "source": [
    "### Essential parameters"
   ]
  },
  {
   "cell_type": "code",
   "execution_count": null,
   "metadata": {},
   "outputs": [],
   "source": [
    "# Set paths to the files containing information about the species choices, movie filenames, sites, and duplicated subjects\n",
    "sp_file = \"https://drive.google.com/file/d/1eg1AzZvIp7Fwd-64pZGEsbJAlNRJv1RH/view?usp=sharing\"\n",
    "si_file = \"https://drive.google.com/file/d/1zAhgivZaOBYcIHokBInAQBChfVQee0EU/view?usp=sharing\"\n",
    "mv_file = \"https://drive.google.com/file/d/1A7BnxyYUgy00g_ueqJbZ02lPNjwrCX2F/view?usp=sharing\"\n",
    "dp_file = \"https://drive.google.com/file/d/1AGuSMeS-lDBSkXkUkJU3MBpFRkBJPQW9/view?usp=sharing\""
   ]
  },
  {
   "cell_type": "markdown",
   "metadata": {},
   "source": [
    "### Create and populate the database"
   ]
  },
  {
   "cell_type": "code",
   "execution_count": null,
   "metadata": {},
   "outputs": [],
   "source": [
    "# Initiate the db\n",
    "%run -i \"db_setup/init.py\"\n",
    "\n",
    "# Populate the db with info from the csv files\n",
    "%run -i \"db_setup/static.py\" --species_file $sp_file --sites_file $si_file --movies_file $mv_file  \n",
    "\n",
    "# Populate the db with info of subjects uploaded to Zooniverse\n",
    "%run -i \"db_setup/subjects_uploaded.py\" --user $user_zoo --password $pass_zoo --db_path $db_path --duplicates_file_id $dp_file_id\n",
    "\n",
    "# Process the clips that have been classified in Zooniverse\n",
    "%run -i \"db_setup/process_clips.py\" --user $user_zoo --password $pass_zoo --db_path $db_path --duplicates_file_id $dp_file_id\n",
    "\n",
    "# Process the frames that have been classified in Zooniverse\n",
    "%run -i \"db_setup/process_frames.py\" --user $user_zoo --password $pass_zoo --db_path $db_path --duplicates_file_id $dp_file_id"
   ]
  },
  {
   "cell_type": "markdown",
   "metadata": {},
   "source": [
    "### Optional parameters"
   ]
  },
  {
   "cell_type": "code",
   "execution_count": null,
   "metadata": {},
   "outputs": [],
   "source": [
    "# Specify the Zooniverse workflows of interest and their versions\n",
    "workflow_clip = 11767\n",
    "workflow_clip_version = 227\n",
    "workflow_frame = 12852\n",
    "workflow_frame_version = 21.85\n",
    "\n",
    "# Specify the agreement threshold required among cit scientists\n",
    "agg_user_clip = 0.8\n",
    "agg_user_frames = 0.8\n",
    "\n",
    "# Specifiy the min number of different Zooniverse users required per subject\n",
    "min_users_clip = 3\n",
    "min_users_frames = 5"
   ]
  },
  {
   "cell_type": "markdown",
   "metadata": {},
   "source": [
    "## Summarise relevant db information"
   ]
  },
  {
   "cell_type": "code",
   "execution_count": null,
   "metadata": {},
   "outputs": [],
   "source": [
    "from utils.summary_utils import clips_summary\n",
    "clips_summary(\"koster_lab.db\")"
   ]
  },
  {
   "cell_type": "markdown",
   "metadata": {},
   "source": [
    "## Upload new frames"
   ]
  },
  {
   "cell_type": "markdown",
   "metadata": {},
   "source": [
    "### Essential parameters"
   ]
  },
  {
   "cell_type": "code",
   "execution_count": null,
   "metadata": {},
   "outputs": [],
   "source": [
    "# Specify the name of the species of interest and path to store the frames\n",
    "# NOTE: use \"\\\" if the species name has spaces (e.g. \"Deep\\ sea\\ king\\ crab\")\n",
    "species_i = \"Sugar\\ starfish\"\n",
    "folder_frames = \"./frames\""
   ]
  },
  {
   "cell_type": "markdown",
   "metadata": {},
   "source": [
    "### Optional parameters"
   ]
  },
  {
   "cell_type": "code",
   "execution_count": null,
   "metadata": {},
   "outputs": [],
   "source": [
    "# Specify the number of frames per clip you would like to upload\n",
    "n_frames = 2"
   ]
  },
  {
   "cell_type": "markdown",
   "metadata": {},
   "source": [
    "### Upload frames"
   ]
  },
  {
   "cell_type": "code",
   "execution_count": null,
   "metadata": {},
   "outputs": [],
   "source": [
    "# Upload frames of the species of interest to Zooniverse\n",
    "%run -i \"upload_subjects/upload_frames.py\" --user $user_zoo --password $pass_zoo --db_path $db_path --species $species_i --frames_folder $folder_frames "
   ]
  },
  {
   "cell_type": "markdown",
   "metadata": {},
   "source": [
    "# Upload new clips"
   ]
  },
  {
   "cell_type": "markdown",
   "metadata": {},
   "source": [
    "### Essential parameters"
   ]
  },
  {
   "cell_type": "code",
   "execution_count": null,
   "metadata": {},
   "outputs": [],
   "source": [
    "# Specify the number of clips to upload and path to store the clips\n",
    "clips_n = 10\n",
    "folder_clips = \"./clips\""
   ]
  },
  {
   "cell_type": "markdown",
   "metadata": {},
   "source": [
    "### Optional parameters"
   ]
  },
  {
   "cell_type": "code",
   "execution_count": null,
   "metadata": {},
   "outputs": [],
   "source": [
    "# Upload 10 second clips only from a specific movie file\n",
    "video_interest = 1\n",
    "clip_length = 10"
   ]
  },
  {
   "cell_type": "markdown",
   "metadata": {},
   "source": [
    "### Upload clips"
   ]
  },
  {
   "cell_type": "code",
   "execution_count": null,
   "metadata": {},
   "outputs": [],
   "source": [
    "# Extract and upload the clips to Zooniverse\n",
    "%run -i \"upload_subjects/upload_clips.py\" --user $user_zoo --password $pass_zoo --db_path $db_path --clips_folder $folder_clips --n_clips $clips_n  \n"
   ]
  },
  {
   "cell_type": "code",
   "execution_count": null,
   "metadata": {},
   "outputs": [],
   "source": []
  }
 ],
 "metadata": {
  "kernelspec": {
   "display_name": "Python 3",
   "language": "python",
   "name": "python3"
  },
  "language_info": {
   "codemirror_mode": {
    "name": "ipython",
    "version": 3
   },
   "file_extension": ".py",
   "mimetype": "text/x-python",
   "name": "python",
   "nbconvert_exporter": "python",
   "pygments_lexer": "ipython3",
   "version": "3.6.13"
  }
 },
 "nbformat": 4,
 "nbformat_minor": 2
}
