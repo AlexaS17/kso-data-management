{
 "cells": [
  {
   "cell_type": "markdown",
   "metadata": {},
   "source": [
    "# Koster lab database\n",
    "\n",
    "The following scripts guide you to create a sql database for the Koster project in Zooniverse"
   ]
  },
  {
   "cell_type": "markdown",
   "metadata": {},
   "source": [
    "### Essential parameters"
   ]
  },
  {
   "cell_type": "code",
   "execution_count": 98,
   "metadata": {},
   "outputs": [],
   "source": [
    "# Set paths to the files containing information about the species choices, movie filenames, sites, and duplicated subjects\n",
    "sp_file = \"https://drive.google.com/file/d/1SXRU8u5qHfRdjx4A6b_f0gJdmkCCFvhX/view?usp=sharing\"\n",
    "si_file = \"https://drive.google.com/file/d/1zAhgivZaOBYcIHokBInAQBChfVQee0EU/view?usp=sharing\"\n",
    "mv_file = \"https://drive.google.com/file/d/1c3-ZvojsT1VEaEg-uCbrg26U2AhHse10/view?usp=sharing\"\n",
    "dp_file = \"https://drive.google.com/file/d/1AGuSMeS-lDBSkXkUkJU3MBpFRkBJPQW9/view?usp=sharing\"\n",
    "\n",
    "# Specify the path to the movie files\n",
    "mov_path = \"/uploads\""
   ]
  },
  {
   "cell_type": "code",
   "execution_count": 2,
   "metadata": {},
   "outputs": [
    {
     "name": "stdout",
     "output_type": "stream",
     "text": [
      "Enter your Zooniverse user········\n",
      "Enter your Zooniverse password········\n"
     ]
    }
   ],
   "source": [
    "import getpass\n",
    "\n",
    "# Your user name and password for Zooniverse. \n",
    "zoo_user = getpass.getpass('Enter your Zooniverse user')\n",
    "zoo_pass = getpass.getpass('Enter your Zooniverse password')"
   ]
  },
  {
   "cell_type": "code",
   "execution_count": 5,
   "metadata": {},
   "outputs": [
    {
     "name": "stdout",
     "output_type": "stream",
     "text": [
      "/usr/src/app/koster_data_management\n",
      "'000114 TMBL-ROV 2000 Säckenrevet EJ numrerade band.mov'\n",
      "'000114 TMBL-ROV 2000 Säckenrevet Tape 55.mov'\n",
      "'000203 TMBL-ROV 2000 Säcken revet EJ numrerade band.mov'\n",
      "'000203 TMBL-ROV 2000 Säcken EJ numrerade band.mov'\n",
      "'000203 TMBL-ROV 2000 Säckenrevet Tape 56.mov'\n",
      "'000203 TMBL-ROV 2000 säcken Tape 56.mov'\n",
      "'010424 Säckenrevet alfa Tape 74.mov'\n",
      "'010424 Säckenrevet beta Tape 74.mov'\n",
      " 01448002.mov\n",
      " 01448005.mov\n",
      " 01448006.mov\n",
      " 01450003.mov\n",
      " 01450004.mov\n",
      " 01451001.mov\n",
      " 01451004.mov\n",
      " 01451005.mov\n",
      " 01451006.mov\n",
      " 01451007.mov\n",
      " 01451008_1.mov\n",
      " 01451009.mov\n",
      " 01451010.mov\n",
      " 01451011.mov\n",
      " 01451011_1.mov\n",
      " 01453002.mov\n",
      " 01453003.mov\n",
      " 01453004.mov\n",
      " 01453005.mov\n",
      " 01454001.mov\n",
      " 01454002.mov\n",
      " 01454003.mov\n",
      " 01454004.mov\n",
      " 01454005.mov\n",
      " 01454006_1.mov\n",
      " 01455001.mov\n",
      " 01455002.mov\n",
      " 01455003.mov\n",
      "'01459004 2.mov'\n",
      "'01459004 2_1.mov'\n",
      " 01484001_1.mov\n",
      " 01484002_1.mov\n",
      " 01484003_1.mov\n",
      " 01484004_1.mov\n",
      " 01484005_1.mov\n",
      " 01484006_1.mov\n",
      " 01484007_1.mov\n",
      " 01485002_1.mov\n",
      " 01485005.mov\n",
      " 01486001.mov\n",
      " 01487003.mov\n",
      " 01487004.mov\n",
      " 01487005.mov\n",
      " 01496001.mov\n",
      " 01496002.mov\n",
      " 01496003.mov\n",
      " 01496005.mov\n",
      " 01496006.mov\n",
      " 01496007.mov\n",
      " 01643002_1.mov\n",
      " 01724003.mov\n",
      " 01724008.mov\n",
      " 01724008_1.mov\n",
      " 01725006_1.mov\n",
      " 01725007.mov\n",
      " 01725007_1.mov\n",
      " 01726002_1.mov\n",
      " 01726003_1.mov\n",
      " 01727001_1.mov\n",
      "'020130 TMBL-ROV 2002 Säcken transekt 1.mov'\n",
      "'020130 TMBL-ROV 2002 Säcken transekt 2.mov'\n",
      "'020130 TMBL-ROV 2002 Säcken transekt 3.mov'\n",
      "'020628 TMBL-ROV 2002 O Hollanderberget Säcken.mov'\n",
      "'020629 TMBL-ROV 2002 O Väderöarna.mov'\n",
      "'030317-18 TMBL-ROV 2003 Säckenrevet.mov'\n",
      "'030325 TMBL-ROV 2003 Säckenrevet bioerosion.mov'\n",
      "'031023 TMBL-ROV 2003 Säcken Bioerosion.mov'\n",
      "'040220 TMBL-ROV 2004 Säckenrevet alfa.mov'\n",
      "'040415 TMBL-ROV 2004 Valkadaver del 1.mov'\n",
      "'040415 TMBL-ROV 2004 Valkadaver del 2.mov'\n",
      "'040521 TMBL-ROV 2004 Säcken NO.mov'\n",
      "'040522 TMBL-ROV 2004 Säckenrevet rubble.mov'\n",
      "'040522 TMBL-ROV 2004 Säckenrevet.mov'\n",
      "'041119 TMBL-ROV 2004 Yttre Vattenholmen.mov'\n",
      "'090202 TMBL-ROV 1997 Yttre Vattenholmen.mov'\n",
      "'090803 Offshore 1 sva Utsjöbanksinventering Svaberget 1.mov'\n",
      "'090915 Offshore 8a sva Utsjöbanksinventering Svaberget 8.mov'\n",
      "'970623 TMBL-ROV 1997 Tape 1 Kattholmen.mov'\n",
      "'970708 TMBL-ROV 1997 Tape 2 Krugglöbranten.mov'\n",
      "'970708 TMBL-ROV 1997 Tape 2 S Kostergrund.mov'\n",
      "'970717 TMBL-ROV 1997 Tape 3 V Klippgrund.mov'\n",
      "'970807 TMBL-ROV 1997 Tape 3 Krugglöbranten.mov'\n",
      "'990304 TMBL-ROV 1999 Yttre Vattenholmen Tape 36_SELECTWS.mov'\n",
      "'990331 TMBL-ROV 1999 Säckenrevet Tape 37_SELECTWS.mov'\n",
      "'990506 TMBL-ROV 1999 Revet Säcken Tape 42_SELECTWS.mov'\n",
      "'990506 TMBL-ROV 1999 Revet Säcken 2 Tape 42.mov'\n",
      "'990506 TMBL-ROV 1999 Revet Säcken 2 Tape 42_SELECTWS.mov'\n",
      "'990622 TMBL-ROV 1999 V Yttre Vattenholmen Tape 44.mov'\n",
      "'990719 TMBL-ROV 1999 V Yttre Vattenholmen Tape 45.mov'\n",
      "'990805 TMBL-ROV 1999 Yttre Vattenholmen Tape 45.mov'\n",
      "'990806 TMBL-ROV 1999 Yttre Vattenholmen Tape 45.mov'\n",
      "'990810 TMBL-ROV 1999 Väderöarna Tape 46.mov'\n",
      "'990810 TMBL-ROV 1999 Väderöarna-Storö Tape 46.mov'\n",
      "'990812 TMBL-ROV 1999 O Storö TApe 47.mov'\n",
      "'990813 TMBL-ROV 1999 Storö-Torsö Utsidan rännan tape 48.mov'\n",
      " \u001b[0m\u001b[01;34mapi\u001b[0m/\n",
      " generate_clips_orig.py\n",
      " generate_clips_tobi.py\n",
      " generate_clips_tobi30secs.py\n",
      " \u001b[01;34msubjects\u001b[0m/\n"
     ]
    }
   ],
   "source": [
    "%cd \"../\"\n",
    "# Check the path to movie files\n",
    "%ls $mov_path\n",
    "#%ls"
   ]
  },
  {
   "cell_type": "markdown",
   "metadata": {},
   "source": [
    "### Create and populate the database"
   ]
  },
  {
   "cell_type": "code",
   "execution_count": 104,
   "metadata": {},
   "outputs": [
    {
     "name": "stdout",
     "output_type": "stream",
     "text": [
      "Updated sites\n",
      " The fps and duration of 54 movies have been succesfully added\n",
      "Updated movies\n",
      "Updated species\n"
     ]
    }
   ],
   "source": [
    "# Delete previous database if exists\n",
    "import os\n",
    "if os.path.exists(\"koster_lab.db\"):\n",
    "  os.remove(\"koster_lab.db\")\n",
    "else:\n",
    "  print(\"There are no previous database versions\")\n",
    "\n",
    "# Initiate the db\n",
    "%run -i \"db_setup/init.py\"\n",
    "\n",
    "# Populate the db with info from the csv files\n",
    "%run -i \"db_setup/static.py\" --species_csv $sp_file --sites_csv $si_file --movies_csv $mv_file --movies_path $mov_path\n",
    "\n",
    "# Populate the db with info of subjects uploaded to Zooniverse\n",
    "%run -i \"db_setup/subjects_uploaded.py\" --user $zoo_user --passw $zoo_pass --duplicates_csv $dp_file"
   ]
  },
  {
   "cell_type": "code",
   "execution_count": null,
   "metadata": {},
   "outputs": [],
   "source": [
    "# Initiate the db\n",
    "%run -i \"db_setup/init.py\"\n",
    "\n",
    "# Populate the db with info from the csv files\n",
    "%run -i \"db_setup/static.py\" --species_csv $sp_file --sites_csv $si_file --movies_csv $mv_file --movies_path $mov_path\n",
    "\n",
    "# Populate the db with info of subjects uploaded to Zooniverse\n",
    "%run -i \"db_setup/subjects_uploaded.py\" --user $user_zoo --password $pass_zoo --db_path $db_path --duplicates_file_id $dp_file_id\n",
    "\n",
    "# Process the clips that have been classified in Zooniverse\n",
    "%run -i \"db_setup/process_clips.py\" --user $user_zoo --password $pass_zoo --db_path $db_path --duplicates_file_id $dp_file_id\n",
    "\n",
    "# Process the frames that have been classified in Zooniverse\n",
    "%run -i \"db_setup/process_frames.py\" --user $user_zoo --password $pass_zoo --db_path $db_path --duplicates_file_id $dp_file_id"
   ]
  },
  {
   "cell_type": "markdown",
   "metadata": {},
   "source": [
    "### Optional parameters"
   ]
  },
  {
   "cell_type": "code",
   "execution_count": null,
   "metadata": {},
   "outputs": [],
   "source": [
    "# Specify the Zooniverse workflows of interest and their versions\n",
    "workflow_clip = 11767\n",
    "workflow_clip_version = 227\n",
    "workflow_frame = 12852\n",
    "workflow_frame_version = 21.85\n",
    "\n",
    "# Specify the agreement threshold required among cit scientists\n",
    "agg_user_clip = 0.8\n",
    "agg_user_frames = 0.8\n",
    "\n",
    "# Specifiy the min number of different Zooniverse users required per subject\n",
    "min_users_clip = 3\n",
    "min_users_frames = 5"
   ]
  },
  {
   "cell_type": "markdown",
   "metadata": {},
   "source": [
    "## Summarise relevant db information"
   ]
  },
  {
   "cell_type": "code",
   "execution_count": null,
   "metadata": {},
   "outputs": [],
   "source": [
    "from utils.summary_utils import clips_summary\n",
    "clips_summary(\"koster_lab.db\")"
   ]
  },
  {
   "cell_type": "markdown",
   "metadata": {},
   "source": [
    "## Upload new frames"
   ]
  },
  {
   "cell_type": "markdown",
   "metadata": {},
   "source": [
    "### Essential parameters"
   ]
  },
  {
   "cell_type": "code",
   "execution_count": null,
   "metadata": {},
   "outputs": [],
   "source": [
    "# Specify the name of the species of interest and path to store the frames\n",
    "# NOTE: use \"\\\" if the species name has spaces (e.g. \"Deep\\ sea\\ king\\ crab\")\n",
    "species_i = \"Sugar\\ starfish\"\n",
    "folder_frames = \"./frames\""
   ]
  },
  {
   "cell_type": "markdown",
   "metadata": {},
   "source": [
    "### Optional parameters"
   ]
  },
  {
   "cell_type": "code",
   "execution_count": null,
   "metadata": {},
   "outputs": [],
   "source": [
    "# Specify the number of frames per clip you would like to upload\n",
    "n_frames = 2"
   ]
  },
  {
   "cell_type": "markdown",
   "metadata": {},
   "source": [
    "### Upload frames"
   ]
  },
  {
   "cell_type": "code",
   "execution_count": null,
   "metadata": {},
   "outputs": [],
   "source": [
    "# Upload frames of the species of interest to Zooniverse\n",
    "%run -i \"upload_subjects/upload_frames.py\" --user $user_zoo --password $pass_zoo --db_path $db_path --species $species_i --frames_folder $folder_frames "
   ]
  },
  {
   "cell_type": "markdown",
   "metadata": {},
   "source": [
    "# Upload new clips"
   ]
  },
  {
   "cell_type": "markdown",
   "metadata": {},
   "source": [
    "### Essential parameters"
   ]
  },
  {
   "cell_type": "code",
   "execution_count": null,
   "metadata": {},
   "outputs": [],
   "source": [
    "# Specify the number of clips to upload and path to store the clips\n",
    "clips_n = 10\n",
    "folder_clips = \"./clips\""
   ]
  },
  {
   "cell_type": "markdown",
   "metadata": {},
   "source": [
    "### Optional parameters"
   ]
  },
  {
   "cell_type": "code",
   "execution_count": null,
   "metadata": {},
   "outputs": [],
   "source": [
    "# Upload 10 second clips only from a specific movie file\n",
    "video_interest = 1\n",
    "clip_length = 10"
   ]
  },
  {
   "cell_type": "markdown",
   "metadata": {},
   "source": [
    "### Upload clips"
   ]
  },
  {
   "cell_type": "code",
   "execution_count": null,
   "metadata": {},
   "outputs": [],
   "source": [
    "# Extract and upload the clips to Zooniverse\n",
    "%run -i \"upload_subjects/upload_clips.py\" --user $user_zoo --password $pass_zoo --db_path $db_path --clips_folder $folder_clips --n_clips $clips_n  \n"
   ]
  },
  {
   "cell_type": "code",
   "execution_count": null,
   "metadata": {},
   "outputs": [],
   "source": []
  }
 ],
 "metadata": {
  "kernelspec": {
   "display_name": "Python 3",
   "language": "python",
   "name": "python3"
  },
  "language_info": {
   "codemirror_mode": {
    "name": "ipython",
    "version": 3
   },
   "file_extension": ".py",
   "mimetype": "text/x-python",
   "name": "python",
   "nbconvert_exporter": "python",
   "pygments_lexer": "ipython3",
   "version": "3.6.13"
  }
 },
 "nbformat": 4,
 "nbformat_minor": 2
}
