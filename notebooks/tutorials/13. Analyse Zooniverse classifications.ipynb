{
 "cells": [
  {
   "cell_type": "markdown",
   "id": "a49ece9a",
   "metadata": {},
   "source": [
    "<img align=\"left\" src=\"https://panoptes-uploads.zooniverse.org/project_avatar/86c23ca7-bbaa-4e84-8d8a-876819551431.png\" type=\"image/png\" height=100 width=100>\n",
    "</img>\n",
    "\n",
    "\n",
    "<h1 align=\"right\">KSO Tutorials #13: Analyse Zooniverse classifications</h1>\n",
    "<h3 align=\"right\">Written by @jannesgg</h3>"
   ]
  },
  {
   "cell_type": "markdown",
   "id": "dafbcdb0",
   "metadata": {},
   "source": [
    "### Step 0: Import Python packages and define useful variables"
   ]
  },
  {
   "cell_type": "code",
   "execution_count": 1,
   "id": "65d28bcf",
   "metadata": {},
   "outputs": [],
   "source": [
    "# Import required modules\n",
    "import getpass\n",
    "import pandas as pd\n",
    "import tutorial_utils.t13_utils as t13"
   ]
  },
  {
   "cell_type": "code",
   "execution_count": 3,
   "id": "ef942836",
   "metadata": {},
   "outputs": [
    {
     "name": "stdout",
     "output_type": "stream",
     "text": [
      "Enter your Zooniverse user········\n",
      "Enter your Zooniverse password········\n"
     ]
    }
   ],
   "source": [
    "# Add Zooniverse credentials\n",
    "user = getpass.getpass('Enter your Zooniverse user')\n",
    "password = getpass.getpass('Enter your Zooniverse password')"
   ]
  },
  {
   "cell_type": "code",
   "execution_count": 4,
   "id": "c9143751",
   "metadata": {},
   "outputs": [],
   "source": [
    "# Specify database location\n",
    "db_path = \"/usr/src/app/data_dir/koster_lab-nm-9.db\""
   ]
  },
  {
   "cell_type": "markdown",
   "id": "d8cf3fb4",
   "metadata": {},
   "source": [
    "### Step 1: Export the latest classifications from Zooniverse\n",
    "\n",
    "Requirements here are the Zooniverse workflow id and corresponding version to investigate. \n",
    "\n",
    "*Note:  A manual export in Zooniverse is required to get the most up-to-date classifications here**"
   ]
  },
  {
   "cell_type": "code",
   "execution_count": 5,
   "id": "3ebfaa08",
   "metadata": {},
   "outputs": [],
   "source": [
    "# Clips\n",
    "clips_workflow_id = 17719\n",
    "clips_workflow_version = 0.0\n",
    "# Frames\n",
    "frames_workflow_id = 12852\n",
    "frames_workflow_version = 21.85"
   ]
  },
  {
   "cell_type": "code",
   "execution_count": 6,
   "id": "8fb89669",
   "metadata": {},
   "outputs": [],
   "source": [
    "# Get all classified subjects from specified workflows\n",
    "total_df, class_df = t13.get_exports(user, password)"
   ]
  },
  {
   "cell_type": "code",
   "execution_count": 7,
   "id": "7196237a",
   "metadata": {},
   "outputs": [],
   "source": [
    "clips_df = t13.process_clips(total_df, class_df, clips_workflow_id, clips_workflow_version)\n",
    "frames_df = t13.process_frames(db_path, total_df, frames_workflow_id,\n",
    "                               frames_workflow_version, \n",
    "                               \"https://drive.google.com/file/d/1z72CqTtEBtqk6936H1YNrCjc5NRopF0g/view?usp=sharing\")"
   ]
  },
  {
   "cell_type": "markdown",
   "id": "3e8dfb6e",
   "metadata": {},
   "source": [
    "### Step 2: Use the subject explorer widget to get more information about past subjects"
   ]
  },
  {
   "cell_type": "code",
   "execution_count": 8,
   "id": "8c6ab27e",
   "metadata": {},
   "outputs": [
    {
     "data": {
      "application/vnd.jupyter.widget-view+json": {
       "model_id": "22f7168a9f9848f0ac7d219e2cd6096a",
       "version_major": 2,
       "version_minor": 0
      },
      "text/plain": [
       "ToggleButtons(button_style='success', description='Subject type:', options=('Frames', 'Clips'), value='Frames'…"
      ]
     },
     "metadata": {},
     "output_type": "display_data"
    },
    {
     "data": {
      "application/vnd.jupyter.widget-view+json": {
       "model_id": "e0d6643986b145a8ac19932435b265b4",
       "version_major": 2,
       "version_minor": 0
      },
      "text/plain": [
       "Output()"
      ]
     },
     "metadata": {},
     "output_type": "display_data"
    }
   ],
   "source": [
    "t13.launch_viewer(total_df, clips_df, frames_df)"
   ]
  },
  {
   "cell_type": "code",
   "execution_count": 36,
   "id": "211ab0c3",
   "metadata": {},
   "outputs": [],
   "source": [
    "# END"
   ]
  }
 ],
 "metadata": {
  "kernelspec": {
   "display_name": "Python 3",
   "language": "python",
   "name": "python3"
  },
  "language_info": {
   "codemirror_mode": {
    "name": "ipython",
    "version": 3
   },
   "file_extension": ".py",
   "mimetype": "text/x-python",
   "name": "python",
   "nbconvert_exporter": "python",
   "pygments_lexer": "ipython3",
   "version": "3.6.13"
  }
 },
 "nbformat": 4,
 "nbformat_minor": 5
}
