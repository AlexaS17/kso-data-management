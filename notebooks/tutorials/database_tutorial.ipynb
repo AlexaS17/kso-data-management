{
 "cells": [
  {
   "cell_type": "markdown",
   "id": "focal-alabama",
   "metadata": {},
   "source": [
    "# Setting up the database for training the model"
   ]
  },
  {
   "cell_type": "markdown",
   "id": "impaired-insulin",
   "metadata": {},
   "source": [
    "This short tutorial runs through the necessary steps to set up the Koster database."
   ]
  },
  {
   "cell_type": "code",
   "execution_count": 25,
   "id": "98af8992",
   "metadata": {},
   "outputs": [],
   "source": [
    "import pandas as pd"
   ]
  },
  {
   "cell_type": "code",
   "execution_count": 180,
   "id": "integral-tackle",
   "metadata": {},
   "outputs": [],
   "source": [
    "# Enter the path to movie files"
   ]
  },
  {
   "cell_type": "code",
   "execution_count": 3,
   "id": "demographic-concert",
   "metadata": {},
   "outputs": [],
   "source": [
    "movies_path = \"/cephyr/NOBACKUP/groups/snic2021-6-9/movies\""
   ]
  },
  {
   "cell_type": "markdown",
   "id": "4ec0b5b9",
   "metadata": {},
   "source": [
    "## 0. Video pre-processing (If your video is sufficiently compressed already and does not contain any sensitive information, you may skip this step)"
   ]
  },
  {
   "cell_type": "code",
   "execution_count": 178,
   "id": "db9651b3",
   "metadata": {},
   "outputs": [
    {
     "name": "stdout",
     "output_type": "stream",
     "text": [
      "[Errno 2] No such file or directory: '/your/movie/directory'\n",
      "/usr/src/app/koster_data_management/db_setup\n"
     ]
    }
   ],
   "source": [
    "%cd \"/your/movie/directory\""
   ]
  },
  {
   "cell_type": "code",
   "execution_count": 179,
   "id": "ce197179",
   "metadata": {},
   "outputs": [],
   "source": [
    "# This script will loop through the movie files you provided, compress them and blur areas \n",
    "# with potential sensitive information\n",
    "!bash ingestion_scripts/add_blur.sh /your/movie/directory"
   ]
  },
  {
   "cell_type": "code",
   "execution_count": null,
   "id": "1a802bdc",
   "metadata": {},
   "outputs": [],
   "source": [
    "# Now link this folder symbolically to the rest of the movies in the Koster Library"
   ]
  },
  {
   "cell_type": "code",
   "execution_count": null,
   "id": "1478858f",
   "metadata": {},
   "outputs": [],
   "source": [
    "!ln -s /your/movie/directory/* movies_path"
   ]
  },
  {
   "cell_type": "code",
   "execution_count": null,
   "id": "f1d28aa2",
   "metadata": {},
   "outputs": [],
   "source": [
    "# Enter the correct path to the database preparation scripts"
   ]
  },
  {
   "cell_type": "code",
   "execution_count": 1,
   "id": "92c409ba",
   "metadata": {},
   "outputs": [
    {
     "name": "stdout",
     "output_type": "stream",
     "text": [
      "/usr/src/app/koster_data_management/db_setup\n"
     ]
    }
   ],
   "source": [
    "%cd \"/usr/src/app/koster_data_management/db_setup\""
   ]
  },
  {
   "cell_type": "markdown",
   "id": "parallel-suite",
   "metadata": {},
   "source": [
    "## 1. Ensure all movie files are uploaded to the movie directory on the SNIC server"
   ]
  },
  {
   "cell_type": "code",
   "execution_count": 4,
   "id": "improved-example",
   "metadata": {},
   "outputs": [
    {
     "name": "stdout",
     "output_type": "stream",
     "text": [
      "'000114 TMBL-ROV 2000 Säckenrevet EJ numrerade band.mov'\r\n",
      "'000114 TMBL-ROV 2000 Säckenrevet Tape 55.mov'\r\n",
      "'000203 TMBL-ROV 2000 Säcken revet EJ numrerade band.mov'\r\n",
      "'000203 TMBL-ROV 2000 Säcken EJ numrerade band.mov'\r\n",
      "'000203 TMBL-ROV 2000 Säckenrevet Tape 56.mov'\r\n",
      "'000203 TMBL-ROV 2000 säcken Tape 56.mov'\r\n",
      "'010424 Säckenrevet alfa Tape 74.mov'\r\n",
      "'010424 Säckenrevet beta Tape 74.mov'\r\n",
      " 01112003.mp4\r\n",
      " 01112003_orig.mov\r\n",
      " 01112004.mp4\r\n",
      " 01112004_orig.mov\r\n",
      " 01112005.mp4\r\n",
      " 01112005_orig.mov\r\n",
      " 01179001.MOV\r\n",
      " 01180001.MOV\r\n",
      " 01181001.MOV\r\n",
      " 01182001.MOV\r\n",
      " 01182002.MOV\r\n",
      " 01182005.MOV\r\n",
      " 01182007.MOV\r\n",
      " 01448002.mov\r\n",
      " 01448005.mov\r\n",
      " 01448006.mov\r\n",
      " 01450003.mov\r\n",
      " 01450004.mov\r\n",
      " 01451001.mov\r\n",
      " 01451004.mov\r\n",
      " 01451005.mov\r\n",
      " 01451006.mov\r\n",
      " 01451007.mov\r\n",
      " 01451008_1.mov\r\n",
      " 01451009.mov\r\n",
      " 01451010.mov\r\n",
      " 01451011.mov\r\n",
      " 01451011_1.mov\r\n",
      " 01453002.mov\r\n",
      " 01453003.mov\r\n",
      " 01453004.mov\r\n",
      " 01453005.mov\r\n",
      " 01454001.mov\r\n",
      " 01454002.mov\r\n",
      " 01454003.mov\r\n",
      " 01454004.mov\r\n",
      " 01454005.mov\r\n",
      " 01454006_1.mov\r\n",
      " 01455001.mov\r\n",
      " 01455002.mov\r\n",
      " 01455003.mov\r\n",
      "'01459004 2.mov'\r\n",
      "'01459004 2_1.mov'\r\n",
      " 01484001_1.mov\r\n",
      " 01484002_1.mov\r\n",
      " 01484003_1.mov\r\n",
      " 01484004_1.mov\r\n",
      " 01484005_1.mov\r\n",
      " 01484006_1.mov\r\n",
      " 01484007_1.mov\r\n",
      " 01485002_1.mov\r\n",
      " 01485005.mov\r\n",
      " 01486001.mov\r\n",
      " 01487003.mov\r\n",
      " 01487004.mov\r\n",
      " 01487005.mov\r\n",
      " 01496001.mov\r\n",
      " 01496002.mov\r\n",
      " 01496003.mov\r\n",
      " 01496005.mov\r\n",
      " 01496006.mov\r\n",
      " 01496007.mov\r\n",
      " 01532007.mov\r\n",
      " 01532008.mov\r\n",
      " 01532009.mov\r\n",
      " 01532010.mov\r\n",
      " 01532011.mov\r\n",
      " 01532012.mov\r\n",
      " 01532013.mov\r\n",
      " 01532014.mov\r\n",
      " 01532015.mov\r\n",
      " 01532016.mov\r\n",
      " 01532017.mov\r\n",
      " 01532018.mov\r\n",
      " 01532019.mov\r\n",
      " 01532020.mov\r\n",
      " 01532021.mov\r\n",
      " 01532022.mov\r\n",
      " 01532023.mov\r\n",
      " 01532024.mov\r\n",
      " 01532025.mov\r\n",
      " 01532026.mov\r\n",
      " 01532027.mov\r\n",
      " 01532028.mov\r\n",
      " 01532029.mov\r\n",
      " 01532030.mov\r\n",
      " 01532031.mov\r\n",
      " 01532032.mov\r\n",
      " 01532033.mov\r\n",
      " 01532034.mov\r\n",
      " 01643002_1.mov\r\n",
      " 01724003.mov\r\n",
      " 01724008.mov\r\n",
      " 01724008_1.mov\r\n",
      " 01725006_1.mov\r\n",
      " 01725007.mov\r\n",
      " 01725007_1.mov\r\n",
      " 01726002_1.mov\r\n",
      " 01726003_1.mov\r\n",
      " 01727001_1.mov\r\n",
      " 01747002.mov\r\n",
      " 01747002.mp4\r\n",
      " 01747003.mov\r\n",
      " 01747003.mp4\r\n",
      " 01747008.mov\r\n",
      " 01747008.mp4\r\n",
      "'020130 TMBL-ROV 2002 Säcken transekt 1.mov'\r\n",
      "'020130 TMBL-ROV 2002 Säcken transekt 2.mov'\r\n",
      "'020130 TMBL-ROV 2002 Säcken transekt 3.mov'\r\n",
      "'020628 TMBL-ROV 2002 O Hollanderberget Säcken.mov'\r\n",
      "'020629 TMBL-ROV 2002 O Väderöarna.mov'\r\n",
      "'030317-18 TMBL-ROV 2003 Säckenrevet.mov'\r\n",
      "'030325 TMBL-ROV 2003 Säckenrevet bioerosion.mov'\r\n",
      "'031023 TMBL-ROV 2003 Säcken Bioerosion.mov'\r\n",
      "'040220 TMBL-ROV 2004 Säckenrevet alfa.mov'\r\n",
      "'040415 TMBL-ROV 2004 Valkadaver del 1.mov'\r\n",
      "'040415 TMBL-ROV 2004 Valkadaver del 2.mov'\r\n",
      "'040521 TMBL-ROV 2004 Säcken NO.mov'\r\n",
      "'040522 TMBL-ROV 2004 Säckenrevet rubble.mov'\r\n",
      "'040522 TMBL-ROV 2004 Säckenrevet.mov'\r\n",
      "'041119 TMBL-ROV 2004 Yttre Vattenholmen.mov'\r\n",
      "'090202 TMBL-ROV 1997 Yttre Vattenholmen.mov'\r\n",
      "'090803 Offshore 1 sva Utsjöbanksinventering Svaberget 1.mov'\r\n",
      "'090915 Offshore 8a sva Utsjöbanksinventering Svaberget 8.mov'\r\n",
      "'970623 TMBL-ROV 1997 Tape 1 Kattholmen.mov'\r\n",
      "'970708 TMBL-ROV 1997 Tape 2 Krugglöbranten.mov'\r\n",
      "'970708 TMBL-ROV 1997 Tape 2 S Kostergrund.mov'\r\n",
      "'970717 TMBL-ROV 1997 Tape 3 V Klippgrund.mov'\r\n",
      "'970807 TMBL-ROV 1997 Tape 3 Krugglöbranten.mov'\r\n",
      "'990304 TMBL-ROV 1999 Yttre Vattenholmen Tape 36_SELECTWS.mov'\r\n",
      "'990331 TMBL-ROV 1999 Säckenrevet Tape 37_SELECTWS.mov'\r\n",
      "'990506 TMBL-ROV 1999 Revet Säcken Tape 42_SELECTWS.mov'\r\n",
      "'990506 TMBL-ROV 1999 Revet Säcken 2 Tape 42.mov'\r\n",
      "'990506 TMBL-ROV 1999 Revet Säcken 2 Tape 42_SELECTWS.mov'\r\n",
      "'990622 TMBL-ROV 1999 V Yttre Vattenholmen Tape 44.mov'\r\n",
      "'990719 TMBL-ROV 1999 V Yttre Vattenholmen Tape 45.mov'\r\n",
      "'990805 TMBL-ROV 1999 Yttre Vattenholmen Tape 45.mov'\r\n",
      "'990806 TMBL-ROV 1999 Yttre Vattenholmen Tape 45.mov'\r\n",
      "'990810 TMBL-ROV 1999 Väderöarna Tape 46.mov'\r\n",
      "'990810 TMBL-ROV 1999 Väderöarna-Storö Tape 46.mov'\r\n",
      "'990812 TMBL-ROV 1999 O Storö TApe 47.mov'\r\n",
      "'990813 TMBL-ROV 1999 Storö-Torsö Utsidan rännan tape 48.mov'\r\n",
      " Film_3.mp4\r\n",
      " Film_3_orig.mp4\r\n",
      " M000114.mp4\r\n",
      " M010424.mp4\r\n",
      " M01455002.mov\r\n",
      " M01455003.mov\r\n",
      " M01485006.mov\r\n",
      " M01487001.mov\r\n",
      " M01487002.mov\r\n",
      " M01487003.mov\r\n",
      " M01487004.mov\r\n",
      " M01487005.mov\r\n",
      " M01642003.mov\r\n",
      " M01642005.mov\r\n",
      " M01642006.mov\r\n",
      " M020130.mov\r\n",
      " M030317.mp4\r\n",
      " M040220.mp4\r\n",
      " Overview_TrendlineAnalysisMovies_2000-2014.xlsx\r\n",
      " api\r\n",
      " generate_clips_orig.py\r\n",
      " generate_clips_tobi.py\r\n",
      " generate_clips_tobi30secs.py\r\n",
      " subjects\r\n"
     ]
    }
   ],
   "source": [
    "!ls $movies_path"
   ]
  },
  {
   "cell_type": "code",
   "execution_count": 227,
   "id": "sixth-alignment",
   "metadata": {},
   "outputs": [],
   "source": [
    "# Define a path for the db to be stored (example /cephyr/NOBACKUP/groups/snic2021-6-9/db_files)\n",
    "# Note: you should have permissions to write to this location"
   ]
  },
  {
   "cell_type": "code",
   "execution_count": 5,
   "id": "valued-cincinnati",
   "metadata": {},
   "outputs": [],
   "source": [
    "db_path = \"/cephyr/NOBACKUP/groups/snic2021-6-9/db_files/tutorial_demo.db\""
   ]
  },
  {
   "cell_type": "markdown",
   "id": "included-import",
   "metadata": {},
   "source": [
    "## 2. Setup the db file by using the batch script that creates the initial database from the original movies (skip to step 3 if only adding to existing database)"
   ]
  },
  {
   "cell_type": "code",
   "execution_count": 6,
   "id": "signed-mistake",
   "metadata": {},
   "outputs": [],
   "source": [
    "# Zooniverse credentials"
   ]
  },
  {
   "cell_type": "code",
   "execution_count": 7,
   "id": "biological-monthly",
   "metadata": {},
   "outputs": [],
   "source": [
    "# Specify username and password of a valid zooniverse account\n",
    "user_zoo = \"\"\n",
    "pass_zoo = \"\""
   ]
  },
  {
   "cell_type": "code",
   "execution_count": 260,
   "id": "opposed-judgment",
   "metadata": {},
   "outputs": [],
   "source": [
    "# Define suitable thresholds"
   ]
  },
  {
   "cell_type": "code",
   "execution_count": 8,
   "id": "3b604815",
   "metadata": {},
   "outputs": [],
   "source": [
    "# Specify Google Drive links of the csv files with information about the species choices,\n",
    "# original movies and duplicated clips\n",
    "sp_file_id = \"https://drive.google.com/file/d/1dnueH3BjJrMK8buVjfyFbxfu0E-5dX7Z/view?usp=sharing\"\n",
    "mv_file_id = \"https://drive.google.com/file/d/1xYcmMUjAawnYIyti9QNTs-oBf8XshJvs/view?usp=sharing\"\n",
    "dp_file_id = \"https://drive.google.com/file/d/1z72CqTtEBtqk6936H1YNrCjc5NRopF0g/view?usp=sharing\""
   ]
  },
  {
   "cell_type": "code",
   "execution_count": 9,
   "id": "velvet-encyclopedia",
   "metadata": {},
   "outputs": [],
   "source": [
    "# Frame thresholds\n",
    "obj_thresh = 0.8\n",
    "eps_thresh = 0.5"
   ]
  },
  {
   "cell_type": "code",
   "execution_count": 10,
   "id": "935fe806",
   "metadata": {},
   "outputs": [],
   "source": [
    "# Specify the Zooniverse workflows of interest and their versions\n",
    "workflow_clip = 11767\n",
    "workflow_clip_version = 227\n",
    "workflow_frame = 12852\n",
    "workflow_frame_version = 21.85\n",
    "\n",
    "# Specify the agreement threshold required among cit scientists\n",
    "agg_user_clip = 0.5\n",
    "agg_user_frames = 0.5\n",
    "\n",
    "# Specifiy the min number of different Zooniverse users required per subject\n",
    "min_users_clip = 3\n",
    "min_users_frames = 5"
   ]
  },
  {
   "cell_type": "code",
   "execution_count": 11,
   "id": "24fc5ac6",
   "metadata": {},
   "outputs": [],
   "source": [
    "## Run the setup script to populate the db with original movies"
   ]
  },
  {
   "cell_type": "code",
   "execution_count": 12,
   "id": "99057a0e",
   "metadata": {},
   "outputs": [],
   "source": [
    "# Remove current db (optional)\n",
    "!rm $db_path"
   ]
  },
  {
   "cell_type": "code",
   "execution_count": 17,
   "id": "37f51e46",
   "metadata": {
    "scrolled": true
   },
   "outputs": [
    {
     "name": "stdout",
     "output_type": "stream",
     "text": [
      "Updated sites\n",
      "Updated movies\n",
      "Updated species\n",
      "7305\n",
      "Updated subjects\n",
      "Updated agg_annotations_clip\n",
      "Updated agg_annotations_frame\n",
      "Frame Aggregation Complete: 1350 annotations added\n"
     ]
    }
   ],
   "source": [
    "# Initiate the db\n",
    "%run -i \"init.py\" --db_path $db_path\n",
    "\n",
    "# Populate the db with info from the csv files\n",
    "%run -i \"static.py\" --species_file_id $sp_file_id --movies_file_id $mv_file_id --db_path $db_path --movies_path $movies_path\n",
    "\n",
    "# Populate the db with info of subjects uploaded to Zooniverse\n",
    "%run -i \"subjects_uploaded.py\" --user $user_zoo --password $pass_zoo --db_path $db_path --duplicates_file_id $dp_file_id\n",
    "\n",
    "# Process the clips that have been classified in Zooniverse\n",
    "%run -i \"process_clips.py\" --user $user_zoo --password $pass_zoo --db_path $db_path --duplicates_file_id $dp_file_id\n",
    "\n",
    "# Process the frames that have been classified in Zooniverse\n",
    "%run -i \"process_frames.py\" --user $user_zoo --password $pass_zoo --db_path $db_path --duplicates_file_id $dp_file_id"
   ]
  },
  {
   "cell_type": "code",
   "execution_count": 18,
   "id": "035dc04a",
   "metadata": {},
   "outputs": [],
   "source": [
    "from utils import summary_utils"
   ]
  },
  {
   "cell_type": "code",
   "execution_count": 19,
   "id": "99283998",
   "metadata": {},
   "outputs": [
    {
     "data": {
      "text/html": [
       "<div>\n",
       "<style scoped>\n",
       "    .dataframe tbody tr th:only-of-type {\n",
       "        vertical-align: middle;\n",
       "    }\n",
       "\n",
       "    .dataframe tbody tr th {\n",
       "        vertical-align: top;\n",
       "    }\n",
       "\n",
       "    .dataframe thead th {\n",
       "        text-align: right;\n",
       "    }\n",
       "</style>\n",
       "<table border=\"1\" class=\"dataframe\">\n",
       "  <thead>\n",
       "    <tr style=\"text-align: right;\">\n",
       "      <th></th>\n",
       "      <th>species_id</th>\n",
       "      <th>how_many</th>\n",
       "    </tr>\n",
       "    <tr>\n",
       "      <th>label</th>\n",
       "      <th></th>\n",
       "      <th></th>\n",
       "    </tr>\n",
       "  </thead>\n",
       "  <tbody>\n",
       "    <tr>\n",
       "      <th>Bivalves (any species)</th>\n",
       "      <td>1</td>\n",
       "      <td>1.0</td>\n",
       "    </tr>\n",
       "    <tr>\n",
       "      <th>Black brittle star</th>\n",
       "      <td>15</td>\n",
       "      <td>51.0</td>\n",
       "    </tr>\n",
       "    <tr>\n",
       "      <th>Common sea pen</th>\n",
       "      <td>8</td>\n",
       "      <td>8.0</td>\n",
       "    </tr>\n",
       "    <tr>\n",
       "      <th>Common sea urchin</th>\n",
       "      <td>21</td>\n",
       "      <td>21.0</td>\n",
       "    </tr>\n",
       "    <tr>\n",
       "      <th>Common sunstar</th>\n",
       "      <td>1</td>\n",
       "      <td>1.0</td>\n",
       "    </tr>\n",
       "    <tr>\n",
       "      <th>Coral (any species)</th>\n",
       "      <td>3</td>\n",
       "      <td>9.0</td>\n",
       "    </tr>\n",
       "    <tr>\n",
       "      <th>Crustacean (any species)</th>\n",
       "      <td>19</td>\n",
       "      <td>19.0</td>\n",
       "    </tr>\n",
       "    <tr>\n",
       "      <th>Cushin star</th>\n",
       "      <td>15</td>\n",
       "      <td>15.0</td>\n",
       "    </tr>\n",
       "    <tr>\n",
       "      <th>Deep sea king crab</th>\n",
       "      <td>43</td>\n",
       "      <td>47.0</td>\n",
       "    </tr>\n",
       "    <tr>\n",
       "      <th>Deep water coral</th>\n",
       "      <td>163</td>\n",
       "      <td>361.0</td>\n",
       "    </tr>\n",
       "    <tr>\n",
       "      <th>Deeplet sea anemone</th>\n",
       "      <td>545</td>\n",
       "      <td>1033.5</td>\n",
       "    </tr>\n",
       "    <tr>\n",
       "      <th>Echinoderm (any species)</th>\n",
       "      <td>13</td>\n",
       "      <td>15.0</td>\n",
       "    </tr>\n",
       "    <tr>\n",
       "      <th>File clam</th>\n",
       "      <td>2</td>\n",
       "      <td>3.0</td>\n",
       "    </tr>\n",
       "    <tr>\n",
       "      <th>Fish (any species)</th>\n",
       "      <td>137</td>\n",
       "      <td>225.0</td>\n",
       "    </tr>\n",
       "    <tr>\n",
       "      <th>Football sponge</th>\n",
       "      <td>62</td>\n",
       "      <td>152.5</td>\n",
       "    </tr>\n",
       "    <tr>\n",
       "      <th>Gastropods (any species)</th>\n",
       "      <td>1</td>\n",
       "      <td>1.0</td>\n",
       "    </tr>\n",
       "    <tr>\n",
       "      <th>Human objects</th>\n",
       "      <td>21</td>\n",
       "      <td>44.0</td>\n",
       "    </tr>\n",
       "    <tr>\n",
       "      <th>Northern shrimp</th>\n",
       "      <td>17</td>\n",
       "      <td>41.0</td>\n",
       "    </tr>\n",
       "    <tr>\n",
       "      <th>Norway lobster</th>\n",
       "      <td>22</td>\n",
       "      <td>23.0</td>\n",
       "    </tr>\n",
       "    <tr>\n",
       "      <th>Nothing here</th>\n",
       "      <td>690</td>\n",
       "      <td>0.0</td>\n",
       "    </tr>\n",
       "    <tr>\n",
       "      <th>Rosy feather star</th>\n",
       "      <td>29</td>\n",
       "      <td>98.5</td>\n",
       "    </tr>\n",
       "    <tr>\n",
       "      <th>Sponge (any species)</th>\n",
       "      <td>23</td>\n",
       "      <td>55.0</td>\n",
       "    </tr>\n",
       "    <tr>\n",
       "      <th>Sugar starfish</th>\n",
       "      <td>8</td>\n",
       "      <td>9.0</td>\n",
       "    </tr>\n",
       "    <tr>\n",
       "      <th>Tall sea pen</th>\n",
       "      <td>10</td>\n",
       "      <td>10.0</td>\n",
       "    </tr>\n",
       "  </tbody>\n",
       "</table>\n",
       "</div>"
      ],
      "text/plain": [
       "                          species_id  how_many\n",
       "label                                         \n",
       "Bivalves (any species)             1       1.0\n",
       "Black brittle star                15      51.0\n",
       "Common sea pen                     8       8.0\n",
       "Common sea urchin                 21      21.0\n",
       "Common sunstar                     1       1.0\n",
       "Coral (any species)                3       9.0\n",
       "Crustacean (any species)          19      19.0\n",
       "Cushin star                       15      15.0\n",
       "Deep sea king crab                43      47.0\n",
       "Deep water coral                 163     361.0\n",
       "Deeplet sea anemone              545    1033.5\n",
       "Echinoderm (any species)          13      15.0\n",
       "File clam                          2       3.0\n",
       "Fish (any species)               137     225.0\n",
       "Football sponge                   62     152.5\n",
       "Gastropods (any species)           1       1.0\n",
       "Human objects                     21      44.0\n",
       "Northern shrimp                   17      41.0\n",
       "Norway lobster                    22      23.0\n",
       "Nothing here                     690       0.0\n",
       "Rosy feather star                 29      98.5\n",
       "Sponge (any species)              23      55.0\n",
       "Sugar starfish                     8       9.0\n",
       "Tall sea pen                      10      10.0"
      ]
     },
     "execution_count": 19,
     "metadata": {},
     "output_type": "execute_result"
    }
   ],
   "source": [
    "summary_utils.clips_summary(db_path)"
   ]
  },
  {
   "cell_type": "markdown",
   "id": "6425623c",
   "metadata": {},
   "source": [
    "## 3. Add new species and/or movies to initial database"
   ]
  },
  {
   "cell_type": "code",
   "execution_count": 20,
   "id": "fb45f0e6",
   "metadata": {},
   "outputs": [],
   "source": [
    "import add"
   ]
  },
  {
   "cell_type": "code",
   "execution_count": 21,
   "id": "d93ebf26",
   "metadata": {},
   "outputs": [
    {
     "name": "stdout",
     "output_type": "stream",
     "text": [
      "Updated movies\n"
     ]
    }
   ],
   "source": [
    "# New movies\n",
    "add.add_new_movies(\"https://drive.google.com/file/d/1IBBm4GqZGUZvnVJ3DbIHwJ_JQQW6sCEl/view?usp=sharing\", \n",
    "                   db_path,\n",
    "                   movies_path)"
   ]
  },
  {
   "cell_type": "code",
   "execution_count": 22,
   "id": "d231ed8b",
   "metadata": {},
   "outputs": [
    {
     "name": "stdout",
     "output_type": "stream",
     "text": [
      "Updated movies\n"
     ]
    }
   ],
   "source": [
    "add.add_new_movies(\"https://drive.google.com/file/d/19VlIQo749P__8EO-ZAL89Jk4m-1aM-s0/view?usp=sharing\",\n",
    "                   db_path,\n",
    "                   movies_path)"
   ]
  },
  {
   "cell_type": "code",
   "execution_count": 23,
   "id": "1a6dbc07",
   "metadata": {},
   "outputs": [
    {
     "name": "stdout",
     "output_type": "stream",
     "text": [
      "Updated movies\n"
     ]
    }
   ],
   "source": [
    "add.add_new_movies(\"https://drive.google.com/file/d/161gRRNivEUJnkLCh7Wea7f0YXEyEJ6cv/view?usp=sharing\",\n",
    "                   db_path,\n",
    "                   movies_path)"
   ]
  },
  {
   "cell_type": "code",
   "execution_count": 276,
   "id": "a77fa092",
   "metadata": {},
   "outputs": [],
   "source": [
    "# New species"
   ]
  },
  {
   "cell_type": "code",
   "execution_count": 24,
   "id": "833cb9cb",
   "metadata": {},
   "outputs": [
    {
     "name": "stdout",
     "output_type": "stream",
     "text": [
      "Updated species\n"
     ]
    }
   ],
   "source": [
    "add.add_species(\"https://drive.google.com/file/d/18_5h4fzX7zau-JltIRPoFrltJm_cbxyb/view?usp=sharing\",\n",
    "                db_path)"
   ]
  },
  {
   "cell_type": "code",
   "execution_count": 26,
   "id": "c658b370",
   "metadata": {},
   "outputs": [],
   "source": [
    "conn = db_utils.create_connection(db_path)\n",
    "movies_table = pd.read_sql_query(\"SELECT * FROM movies\", conn)"
   ]
  },
  {
   "cell_type": "code",
   "execution_count": 27,
   "id": "4434dc02",
   "metadata": {},
   "outputs": [
    {
     "data": {
      "text/html": [
       "<div>\n",
       "<style scoped>\n",
       "    .dataframe tbody tr th:only-of-type {\n",
       "        vertical-align: middle;\n",
       "    }\n",
       "\n",
       "    .dataframe tbody tr th {\n",
       "        vertical-align: top;\n",
       "    }\n",
       "\n",
       "    .dataframe thead th {\n",
       "        text-align: right;\n",
       "    }\n",
       "</style>\n",
       "<table border=\"1\" class=\"dataframe\">\n",
       "  <thead>\n",
       "    <tr style=\"text-align: right;\">\n",
       "      <th></th>\n",
       "      <th>id</th>\n",
       "      <th>filename</th>\n",
       "      <th>created_on</th>\n",
       "      <th>fps</th>\n",
       "      <th>duration</th>\n",
       "      <th>author</th>\n",
       "      <th>site_id</th>\n",
       "      <th>fpath</th>\n",
       "    </tr>\n",
       "  </thead>\n",
       "  <tbody>\n",
       "    <tr>\n",
       "      <th>0</th>\n",
       "      <td>1</td>\n",
       "      <td>000114 TMBL-ROV 2000 Säckenrevet EJ numrerade...</td>\n",
       "      <td>14/01/2000</td>\n",
       "      <td>25.0</td>\n",
       "      <td>2836.84</td>\n",
       "      <td>None</td>\n",
       "      <td>1</td>\n",
       "      <td>/cephyr/NOBACKUP/groups/snic2021-6-9/movies/00...</td>\n",
       "    </tr>\n",
       "    <tr>\n",
       "      <th>1</th>\n",
       "      <td>2</td>\n",
       "      <td>000114 TMBL-ROV 2000 Säckenrevet Tape 55</td>\n",
       "      <td>14/01/2000</td>\n",
       "      <td>25.0</td>\n",
       "      <td>9534.16</td>\n",
       "      <td>None</td>\n",
       "      <td>1</td>\n",
       "      <td>/cephyr/NOBACKUP/groups/snic2021-6-9/movies/00...</td>\n",
       "    </tr>\n",
       "    <tr>\n",
       "      <th>2</th>\n",
       "      <td>3</td>\n",
       "      <td>000203 TMBL-ROV 2000 Säcken EJ numrerade band</td>\n",
       "      <td>03/02/2000</td>\n",
       "      <td>25.0</td>\n",
       "      <td>629.44</td>\n",
       "      <td>None</td>\n",
       "      <td>1</td>\n",
       "      <td>/cephyr/NOBACKUP/groups/snic2021-6-9/movies/00...</td>\n",
       "    </tr>\n",
       "    <tr>\n",
       "      <th>3</th>\n",
       "      <td>4</td>\n",
       "      <td>000203 TMBL-ROV 2000 Säcken revet EJ numrerad...</td>\n",
       "      <td>03/02/2000</td>\n",
       "      <td>NaN</td>\n",
       "      <td>NaN</td>\n",
       "      <td>None</td>\n",
       "      <td>1</td>\n",
       "      <td>/cephyr/NOBACKUP/groups/snic2021-6-9/movies/00...</td>\n",
       "    </tr>\n",
       "    <tr>\n",
       "      <th>4</th>\n",
       "      <td>5</td>\n",
       "      <td>000203 TMBL-ROV 2000 säcken Tape 56</td>\n",
       "      <td>03/02/2000</td>\n",
       "      <td>25.0</td>\n",
       "      <td>2392.00</td>\n",
       "      <td>None</td>\n",
       "      <td>1</td>\n",
       "      <td>/cephyr/NOBACKUP/groups/snic2021-6-9/movies/00...</td>\n",
       "    </tr>\n",
       "  </tbody>\n",
       "</table>\n",
       "</div>"
      ],
      "text/plain": [
       "   id                                           filename  created_on   fps  \\\n",
       "0   1  000114 TMBL-ROV 2000 Säckenrevet EJ numrerade...  14/01/2000  25.0   \n",
       "1   2          000114 TMBL-ROV 2000 Säckenrevet Tape 55  14/01/2000  25.0   \n",
       "2   3     000203 TMBL-ROV 2000 Säcken EJ numrerade band  03/02/2000  25.0   \n",
       "3   4  000203 TMBL-ROV 2000 Säcken revet EJ numrerad...  03/02/2000   NaN   \n",
       "4   5               000203 TMBL-ROV 2000 säcken Tape 56  03/02/2000  25.0   \n",
       "\n",
       "   duration author  site_id                                              fpath  \n",
       "0   2836.84   None        1  /cephyr/NOBACKUP/groups/snic2021-6-9/movies/00...  \n",
       "1   9534.16   None        1  /cephyr/NOBACKUP/groups/snic2021-6-9/movies/00...  \n",
       "2    629.44   None        1  /cephyr/NOBACKUP/groups/snic2021-6-9/movies/00...  \n",
       "3       NaN   None        1  /cephyr/NOBACKUP/groups/snic2021-6-9/movies/00...  \n",
       "4   2392.00   None        1  /cephyr/NOBACKUP/groups/snic2021-6-9/movies/00...  "
      ]
     },
     "execution_count": 27,
     "metadata": {},
     "output_type": "execute_result"
    }
   ],
   "source": [
    "movies_table.head()"
   ]
  },
  {
   "cell_type": "markdown",
   "id": "tutorial-little",
   "metadata": {},
   "source": [
    "## 4. Enrich original database file with new subject sets (frames) from different species "
   ]
  },
  {
   "cell_type": "code",
   "execution_count": 278,
   "id": "alien-component",
   "metadata": {},
   "outputs": [],
   "source": [
    "# Specify workflow id and workflow versions to be incorporated. Note that any versions higher than the specified\n",
    "# version will be included for a specific workflow\n",
    "clips_zoo_workflow = 17719\n",
    "clips_zoo_workflow_version = 0\n",
    "frames_zoo_workflow_version = 31"
   ]
  },
  {
   "cell_type": "code",
   "execution_count": 250,
   "id": "d32b59a4",
   "metadata": {},
   "outputs": [
    {
     "name": "stdout",
     "output_type": "stream",
     "text": [
      "Updated subjects\n",
      "Updated agg_annotations_clip\n"
     ]
    }
   ],
   "source": [
    "# Run the aggregation script\n",
    "run = f\"python process_clips.py -u {user_zoo} -p {pass_zoo} -db {db_path} -thr {agg_user_clip} \\\n",
    "     -nu {min_users_clip} -zw {clips_zoo_workflow} -zwv {clips_zoo_workflow_version} \\\n",
    "     -du https://drive.google.com/file/d/1z72CqTtEBtqk6936H1YNrCjc5NRopF0g/view?usp=sharing\"\n",
    "!{run}"
   ]
  },
  {
   "cell_type": "code",
   "execution_count": 251,
   "id": "f449e05e",
   "metadata": {},
   "outputs": [
    {
     "data": {
      "text/html": [
       "<div>\n",
       "<style scoped>\n",
       "    .dataframe tbody tr th:only-of-type {\n",
       "        vertical-align: middle;\n",
       "    }\n",
       "\n",
       "    .dataframe tbody tr th {\n",
       "        vertical-align: top;\n",
       "    }\n",
       "\n",
       "    .dataframe thead th {\n",
       "        text-align: right;\n",
       "    }\n",
       "</style>\n",
       "<table border=\"1\" class=\"dataframe\">\n",
       "  <thead>\n",
       "    <tr style=\"text-align: right;\">\n",
       "      <th></th>\n",
       "      <th>species_id</th>\n",
       "      <th>how_many</th>\n",
       "    </tr>\n",
       "    <tr>\n",
       "      <th>label</th>\n",
       "      <th></th>\n",
       "      <th></th>\n",
       "    </tr>\n",
       "  </thead>\n",
       "  <tbody>\n",
       "    <tr>\n",
       "      <th>Bivalves (any species)</th>\n",
       "      <td>2</td>\n",
       "      <td>2.0</td>\n",
       "    </tr>\n",
       "    <tr>\n",
       "      <th>Black brittle star</th>\n",
       "      <td>15</td>\n",
       "      <td>51.0</td>\n",
       "    </tr>\n",
       "    <tr>\n",
       "      <th>Cnidarian (any species)</th>\n",
       "      <td>3</td>\n",
       "      <td>9.0</td>\n",
       "    </tr>\n",
       "    <tr>\n",
       "      <th>Common sea pen</th>\n",
       "      <td>8</td>\n",
       "      <td>8.0</td>\n",
       "    </tr>\n",
       "    <tr>\n",
       "      <th>Common sea urchin</th>\n",
       "      <td>21</td>\n",
       "      <td>21.0</td>\n",
       "    </tr>\n",
       "    <tr>\n",
       "      <th>Common sunstar</th>\n",
       "      <td>1</td>\n",
       "      <td>1.0</td>\n",
       "    </tr>\n",
       "    <tr>\n",
       "      <th>Coral (any species)</th>\n",
       "      <td>3</td>\n",
       "      <td>9.0</td>\n",
       "    </tr>\n",
       "    <tr>\n",
       "      <th>Crustacean (any species)</th>\n",
       "      <td>27</td>\n",
       "      <td>28.0</td>\n",
       "    </tr>\n",
       "    <tr>\n",
       "      <th>Cushin star</th>\n",
       "      <td>15</td>\n",
       "      <td>15.0</td>\n",
       "    </tr>\n",
       "    <tr>\n",
       "      <th>Dahlia anemone</th>\n",
       "      <td>5</td>\n",
       "      <td>6.0</td>\n",
       "    </tr>\n",
       "    <tr>\n",
       "      <th>Deep sea king crab</th>\n",
       "      <td>62</td>\n",
       "      <td>66.0</td>\n",
       "    </tr>\n",
       "    <tr>\n",
       "      <th>Deep sea squat lobster</th>\n",
       "      <td>1</td>\n",
       "      <td>1.0</td>\n",
       "    </tr>\n",
       "    <tr>\n",
       "      <th>Deep water coral</th>\n",
       "      <td>167</td>\n",
       "      <td>366.0</td>\n",
       "    </tr>\n",
       "    <tr>\n",
       "      <th>Deeplet sea anemone</th>\n",
       "      <td>661</td>\n",
       "      <td>1290.5</td>\n",
       "    </tr>\n",
       "    <tr>\n",
       "      <th>Echinoderm (any species)</th>\n",
       "      <td>13</td>\n",
       "      <td>15.0</td>\n",
       "    </tr>\n",
       "    <tr>\n",
       "      <th>File clam</th>\n",
       "      <td>4</td>\n",
       "      <td>5.0</td>\n",
       "    </tr>\n",
       "    <tr>\n",
       "      <th>Fish (any species)</th>\n",
       "      <td>160</td>\n",
       "      <td>248.0</td>\n",
       "    </tr>\n",
       "    <tr>\n",
       "      <th>Football sponge</th>\n",
       "      <td>62</td>\n",
       "      <td>152.5</td>\n",
       "    </tr>\n",
       "    <tr>\n",
       "      <th>Gastropods (any species)</th>\n",
       "      <td>1</td>\n",
       "      <td>1.0</td>\n",
       "    </tr>\n",
       "    <tr>\n",
       "      <th>Henricia starfish</th>\n",
       "      <td>2</td>\n",
       "      <td>2.0</td>\n",
       "    </tr>\n",
       "    <tr>\n",
       "      <th>Human objects</th>\n",
       "      <td>22</td>\n",
       "      <td>48.0</td>\n",
       "    </tr>\n",
       "    <tr>\n",
       "      <th>Northern shrimp</th>\n",
       "      <td>73</td>\n",
       "      <td>139.5</td>\n",
       "    </tr>\n",
       "    <tr>\n",
       "      <th>Norway lobster</th>\n",
       "      <td>32</td>\n",
       "      <td>33.0</td>\n",
       "    </tr>\n",
       "    <tr>\n",
       "      <th>Nothing here</th>\n",
       "      <td>1024</td>\n",
       "      <td>0.0</td>\n",
       "    </tr>\n",
       "    <tr>\n",
       "      <th>Red cushion star</th>\n",
       "      <td>6</td>\n",
       "      <td>6.0</td>\n",
       "    </tr>\n",
       "    <tr>\n",
       "      <th>Rosy feather star</th>\n",
       "      <td>29</td>\n",
       "      <td>98.5</td>\n",
       "    </tr>\n",
       "    <tr>\n",
       "      <th>Rough sea anemone</th>\n",
       "      <td>19</td>\n",
       "      <td>43.5</td>\n",
       "    </tr>\n",
       "    <tr>\n",
       "      <th>Rugose squat lobster</th>\n",
       "      <td>1</td>\n",
       "      <td>1.0</td>\n",
       "    </tr>\n",
       "    <tr>\n",
       "      <th>Sand starfish</th>\n",
       "      <td>1</td>\n",
       "      <td>1.0</td>\n",
       "    </tr>\n",
       "    <tr>\n",
       "      <th>Sea loch anemone</th>\n",
       "      <td>28</td>\n",
       "      <td>107.0</td>\n",
       "    </tr>\n",
       "    <tr>\n",
       "      <th>Sponge (any species)</th>\n",
       "      <td>24</td>\n",
       "      <td>56.0</td>\n",
       "    </tr>\n",
       "    <tr>\n",
       "      <th>Sugar starfish</th>\n",
       "      <td>8</td>\n",
       "      <td>9.0</td>\n",
       "    </tr>\n",
       "    <tr>\n",
       "      <th>Tall sea pen</th>\n",
       "      <td>10</td>\n",
       "      <td>10.0</td>\n",
       "    </tr>\n",
       "  </tbody>\n",
       "</table>\n",
       "</div>"
      ],
      "text/plain": [
       "                          species_id  how_many\n",
       "label                                         \n",
       "Bivalves (any species)             2       2.0\n",
       "Black brittle star                15      51.0\n",
       "Cnidarian (any species)            3       9.0\n",
       "Common sea pen                     8       8.0\n",
       "Common sea urchin                 21      21.0\n",
       "Common sunstar                     1       1.0\n",
       "Coral (any species)                3       9.0\n",
       "Crustacean (any species)          27      28.0\n",
       "Cushin star                       15      15.0\n",
       "Dahlia anemone                     5       6.0\n",
       "Deep sea king crab                62      66.0\n",
       "Deep sea squat lobster             1       1.0\n",
       "Deep water coral                 167     366.0\n",
       "Deeplet sea anemone              661    1290.5\n",
       "Echinoderm (any species)          13      15.0\n",
       "File clam                          4       5.0\n",
       "Fish (any species)               160     248.0\n",
       "Football sponge                   62     152.5\n",
       "Gastropods (any species)           1       1.0\n",
       "Henricia starfish                  2       2.0\n",
       "Human objects                     22      48.0\n",
       "Northern shrimp                   73     139.5\n",
       "Norway lobster                    32      33.0\n",
       "Nothing here                    1024       0.0\n",
       "Red cushion star                   6       6.0\n",
       "Rosy feather star                 29      98.5\n",
       "Rough sea anemone                 19      43.5\n",
       "Rugose squat lobster               1       1.0\n",
       "Sand starfish                      1       1.0\n",
       "Sea loch anemone                  28     107.0\n",
       "Sponge (any species)              24      56.0\n",
       "Sugar starfish                     8       9.0\n",
       "Tall sea pen                      10      10.0"
      ]
     },
     "execution_count": 251,
     "metadata": {},
     "output_type": "execute_result"
    }
   ],
   "source": [
    "summary_utils.clips_summary(db_path)"
   ]
  },
  {
   "cell_type": "code",
   "execution_count": 252,
   "id": "angry-birth",
   "metadata": {},
   "outputs": [
    {
     "name": "stdout",
     "output_type": "stream",
     "text": [
      "UNIQUE constraint failed: subjects.id\n",
      "Updated subjects\n",
      "UNIQUE constraint failed: agg_annotations_frame.species_id, agg_annotations_frame.x_position, agg_annotations_frame.y_position, agg_annotations_frame.width, agg_annotations_frame.height, agg_annotations_frame.subject_id\n",
      "Updated agg_annotations_frame\n",
      "Frame Aggregation Complete: 1206 annotations added\n"
     ]
    }
   ],
   "source": [
    "# Run the aggregation script\n",
    "run = f\"python process_frames.py -u {user_zoo} -p {pass_zoo} -db {db_path} -obj {obj_thresh} \\\n",
    "     -zwv {frames_zoo_workflow_version} -eps {eps_thresh} -iua {agg_user_frames} -nu {min_users_frames} \\\n",
    "     -du https://drive.google.com/file/d/1z72CqTtEBtqk6936H1YNrCjc5NRopF0g/view?usp=sharing\"\n",
    "!{run}"
   ]
  },
  {
   "cell_type": "code",
   "execution_count": 253,
   "id": "aebd06ce",
   "metadata": {},
   "outputs": [],
   "source": [
    "conn = db_utils.create_connection(db_path)"
   ]
  },
  {
   "cell_type": "code",
   "execution_count": 254,
   "id": "673aec2e",
   "metadata": {},
   "outputs": [],
   "source": [
    "frame_data = pd.read_sql_query(\"SELECT * FROM agg_annotations_frame\", conn)"
   ]
  },
  {
   "cell_type": "code",
   "execution_count": 255,
   "id": "67da3843",
   "metadata": {},
   "outputs": [
    {
     "data": {
      "text/plain": [
       "5     702\n",
       "8     551\n",
       "25     69\n",
       "2      28\n",
       "Name: species_id, dtype: int64"
      ]
     },
     "execution_count": 255,
     "metadata": {},
     "output_type": "execute_result"
    }
   ],
   "source": [
    "frame_data.species_id.value_counts()"
   ]
  },
  {
   "cell_type": "markdown",
   "id": "greater-suffering",
   "metadata": {},
   "source": [
    "## 5. Move on to training_tutorial.ipynb for model training"
   ]
  },
  {
   "cell_type": "code",
   "execution_count": null,
   "id": "responsible-addition",
   "metadata": {},
   "outputs": [],
   "source": [
    "# END"
   ]
  }
 ],
 "metadata": {
  "kernelspec": {
   "display_name": "Python 3",
   "language": "python",
   "name": "python3"
  },
  "language_info": {
   "codemirror_mode": {
    "name": "ipython",
    "version": 3
   },
   "file_extension": ".py",
   "mimetype": "text/x-python",
   "name": "python",
   "nbconvert_exporter": "python",
   "pygments_lexer": "ipython3",
   "version": "3.6.13"
  }
 },
 "nbformat": 4,
 "nbformat_minor": 5
}
