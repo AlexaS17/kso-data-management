{
 "cells": [
  {
   "cell_type": "markdown",
   "id": "a49ece9a",
   "metadata": {},
   "source": [
    "<img align=\"left\" src=\"https://panoptes-uploads.zooniverse.org/project_avatar/86c23ca7-bbaa-4e84-8d8a-876819551431.png\" type=\"image/png\" height=100 width=100>\n",
    "</img>\n",
    "\n",
    "\n",
    "<h1 align=\"right\">KSO Tutorials #13: Analyse Zooniverse classifications</h1>\n",
    "<h3 align=\"right\">Written by @jannesgg</h3>"
   ]
  },
  {
   "cell_type": "markdown",
   "id": "dafbcdb0",
   "metadata": {},
   "source": [
    "### Step 0: Import Python packages and initiate koster database"
   ]
  },
  {
   "cell_type": "code",
   "execution_count": null,
   "id": "65d28bcf",
   "metadata": {},
   "outputs": [],
   "source": [
    "# Import required modules\n",
    "import getpass\n",
    "import utils.t13_utils as t13\n",
    "\n",
    "# Add Zooniverse credentials\n",
    "zoo_user = getpass.getpass('Enter your Zooniverse user')\n",
    "zoo_pass = getpass.getpass('Enter your Zooniverse password')\n",
    "\n",
    "# TODO replace the code below to initiate koster db in one line (code below is from \"4.Build and populate koster database\")\n",
    "import os\n",
    "if os.path.exists(\"koster_lab.db\"):\n",
    "  os.remove(\"koster_lab.db\")\n",
    "else:\n",
    "  print(\"There are no previous database versions\")\n",
    "\n",
    "# Initiate the db\n",
    "%run -i \"../db_starter/init.py\"\n",
    "\n",
    "# Populate the db with info from the csv files\n",
    "%run -i \"../db_starter/static.py\"\n",
    "\n",
    "# Populate the db with info of subjects uploaded to Zooniverse\n",
    "%run -i \"../db_starter/subjects_uploaded.py\" --user $zoo_user --passw $zoo_pass"
   ]
  },
  {
   "cell_type": "markdown",
   "id": "d8cf3fb4",
   "metadata": {},
   "source": [
    "### Step 1: Specify the Zooniverse workflow id and version of interest\n",
    "\n",
    "*Note:  A manual export in Zooniverse is required to get the most up-to-date classifications here**"
   ]
  },
  {
   "cell_type": "code",
   "execution_count": null,
   "id": "7ed501f0",
   "metadata": {},
   "outputs": [],
   "source": [
    "# TODO Display a selectable list of workflow ids with their names and a list of versions of the workflow of interest\n",
    "#workflow_id, workflow_version, subj_type = t13.get_workflows(zoo_user, zoo_pass)\n",
    "    \n",
    "# Temporary example objects\n",
    "workflow_id = 17719\n",
    "workflow_version = 0.0\n",
    "subj_type = \"clip\"\n",
    "\n",
    "# Retrieve classifications from the workflow of interest\n",
    "total_df, class_df = t13.get_classifications(workflow_id, workflow_version, subj_type, zoo_user, zoo_pass)"
   ]
  },
  {
   "cell_type": "markdown",
   "id": "3e8dfb6e",
   "metadata": {},
   "source": [
    "### Step 2: Aggregate classifications received on the workflow of interest"
   ]
  },
  {
   "cell_type": "code",
   "execution_count": null,
   "id": "42f4fbde",
   "metadata": {},
   "outputs": [],
   "source": [
    "# TODO Display a selectable list of min number of users, agreement, \n",
    "#agg_user, min_users = t13.set_aggregation_parameters()\n",
    "\n",
    "# Specify the agreement threshold required among cit scientists\n",
    "agg_users = 0.8\n",
    "min_users = 3\n",
    "\n",
    "class_df1 = t13.aggregrate_classifications(class_df, subj_type, agg_users, min_users)"
   ]
  },
  {
   "cell_type": "markdown",
   "id": "0d120ad4",
   "metadata": {},
   "source": [
    "### Step 3: Summarise the number of classifications based on the agreement specified"
   ]
  },
  {
   "cell_type": "code",
   "execution_count": null,
   "id": "e9bb18ef",
   "metadata": {},
   "outputs": [],
   "source": []
  },
  {
   "cell_type": "markdown",
   "id": "9e6a6804",
   "metadata": {},
   "source": [
    "### Step 4: Use the subject explorer widget to get more information about specific subjects and their aggregated classifications"
   ]
  },
  {
   "cell_type": "code",
   "execution_count": null,
   "id": "8c6ab27e",
   "metadata": {},
   "outputs": [],
   "source": [
    "# Get all classified subjects from specified workflows\n",
    "total_df, class_df = t13.get_exports(user, password)\n",
    "\n",
    "clips_df = t13.process_clips(total_df, class_df, clips_workflow_id, clips_workflow_version)\n",
    "frames_df = t13.process_frames(db_path, total_df, frames_workflow_id,\n",
    "                               frames_workflow_version, \n",
    "                               \"https://drive.google.com/file/d/1z72CqTtEBtqk6936H1YNrCjc5NRopF0g/view?usp=sharing\")\n",
    "\n",
    "t13.launch_viewer(total_df, clips_df, frames_df)"
   ]
  },
  {
   "cell_type": "code",
   "execution_count": null,
   "id": "211ab0c3",
   "metadata": {},
   "outputs": [],
   "source": [
    "# END"
   ]
  }
 ],
 "metadata": {
  "kernelspec": {
   "display_name": "Python 3",
   "language": "python",
   "name": "python3"
  },
  "language_info": {
   "codemirror_mode": {
    "name": "ipython",
    "version": 3
   },
   "file_extension": ".py",
   "mimetype": "text/x-python",
   "name": "python",
   "nbconvert_exporter": "python",
   "pygments_lexer": "ipython3",
   "version": "3.6.13"
  }
 },
 "nbformat": 4,
 "nbformat_minor": 5
}
