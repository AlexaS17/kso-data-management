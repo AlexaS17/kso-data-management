{
 "cells": [
  {
   "cell_type": "markdown",
   "id": "95aea466",
   "metadata": {},
   "source": [
    "<img align=\"left\" src=\"https://panoptes-uploads.zooniverse.org/project_avatar/86c23ca7-bbaa-4e84-8d8a-876819551431.png\" type=\"image/png\" height=100 width=100>\n",
    "</img>\n",
    "\n",
    "\n",
    "<h1 align=\"right\">KSO Tutorials #2: Uploading videos to the server</h1>\n",
    "<h3 align=\"right\">Written by @jannesgg and @vykanton</h3>\n",
    "<h5 align=\"right\">Last updated: Aug 17th, 2021</h5>"
   ]
  },
  {
   "cell_type": "markdown",
   "id": "7b5c47b9",
   "metadata": {},
   "source": [
    "### Step 1: Upload the movies"
   ]
  },
  {
   "cell_type": "code",
   "execution_count": 16,
   "id": "93c07a90-5004-444b-b5b3-9e983d86c82b",
   "metadata": {},
   "outputs": [
    {
     "data": {
      "application/vnd.jupyter.widget-view+json": {
       "model_id": "558ff6d097244f02ab24077349ef7a9b",
       "version_major": 2,
       "version_minor": 0
      },
      "text/plain": [
       "FileUpload(value={}, accept='.mpg', description='Upload', multiple=True)"
      ]
     },
     "metadata": {},
     "output_type": "display_data"
    },
    {
     "data": {
      "application/vnd.jupyter.widget-view+json": {
       "model_id": "d643cb6251814ccd834c509cbcdf147f",
       "version_major": 2,
       "version_minor": 0
      },
      "text/plain": [
       "Output()"
      ]
     },
     "metadata": {},
     "output_type": "display_data"
    }
   ],
   "source": [
    "from utils import t2_utils as t2\n",
    "t2.upload_movies1()"
   ]
  },
  {
   "cell_type": "code",
   "execution_count": 10,
   "id": "8c7154f2-b115-4a2b-9104-5da139349a81",
   "metadata": {},
   "outputs": [
    {
     "name": "stdout",
     "output_type": "stream",
     "text": [
      "C:\\Users\\Victor\\koster_data_management\n"
     ]
    }
   ],
   "source": [
    "cd .."
   ]
  },
  {
   "cell_type": "markdown",
   "id": "148dba7e-189d-43f0-bf11-009bbab9a161",
   "metadata": {},
   "source": [
    "### Step 2: Specify the location and metadata of the movies"
   ]
  },
  {
   "cell_type": "code",
   "execution_count": null,
   "id": "3c4a49ce-1264-4df1-8770-1d98c3b5effa",
   "metadata": {},
   "outputs": [],
   "source": []
  },
  {
   "cell_type": "markdown",
   "id": "b903941f-ae64-44d7-8592-e41d0de0b31e",
   "metadata": {},
   "source": [
    "### Step 1: Reduce the size of the video and optionally blur sensitive portions\n",
    "#### The first argument is the directory where movies are stored\n",
    "##### Note:  The original files are kept in case of any problems during processing with the suffix *_orig*"
   ]
  },
  {
   "cell_type": "code",
   "execution_count": 1,
   "id": "27579fb0",
   "metadata": {},
   "outputs": [],
   "source": [
    "### Define important locations"
   ]
  },
  {
   "cell_type": "code",
   "execution_count": 2,
   "id": "c60d3ae8",
   "metadata": {},
   "outputs": [
    {
     "name": "stdout",
     "output_type": "stream",
     "text": [
      "\u001b[0m\u001b[38;5;13m01747002.mov\u001b[0m  \u001b[38;5;13m01747002_orig.mov\u001b[0m\n"
     ]
    }
   ],
   "source": [
    "ls /cephyr/NOBACKUP/groups/snic2021-6-9/test_movies"
   ]
  },
  {
   "cell_type": "code",
   "execution_count": 6,
   "id": "04f6a80c",
   "metadata": {},
   "outputs": [],
   "source": [
    "movies_location = \"/cephyr/NOBACKUP/groups/snic2021-6-9/test_movies/\"\n",
    "movie_metadata_location = \"https://drive.google.com/file/d/1IBBm4GqZGUZvnVJ3DbIHwJ_JQQW6sCEl/view?usp=sharing\"\n",
    "# Optional species metadata location if new species appear in movies\n",
    "species_metadata_location = \"https://drive.google.com/file/d/18_5h4fzX7zau-JltIRPoFrltJm_cbxyb/view?usp=sharing\"\n",
    "movie_extension = \"mov\" #if movies are not all of the same extension this will fail\n",
    "blur_movies = 0 # (optional) if the videos contain sensitive information, use 1 here to blur the clips"
   ]
  },
  {
   "cell_type": "code",
   "execution_count": 7,
   "id": "d736a479",
   "metadata": {},
   "outputs": [
    {
     "name": "stdout",
     "output_type": "stream",
     "text": [
      "Processing video.../cephyr/NOBACKUP/groups/snic2021-6-9/test_movies/01747002.mov\n",
      "ffmpeg version 4.1.6-1~deb10u1 Copyright (c) 2000-2020 the FFmpeg developers\n",
      "  built with gcc 8 (Debian 8.3.0-6)\n",
      "  configuration: --prefix=/usr --extra-version='1~deb10u1' --toolchain=hardened --libdir=/usr/lib/x86_64-linux-gnu --incdir=/usr/include/x86_64-linux-gnu --arch=amd64 --enable-gpl --disable-stripping --enable-avresample --disable-filter=resample --enable-avisynth --enable-gnutls --enable-ladspa --enable-libaom --enable-libass --enable-libbluray --enable-libbs2b --enable-libcaca --enable-libcdio --enable-libcodec2 --enable-libflite --enable-libfontconfig --enable-libfreetype --enable-libfribidi --enable-libgme --enable-libgsm --enable-libjack --enable-libmp3lame --enable-libmysofa --enable-libopenjpeg --enable-libopenmpt --enable-libopus --enable-libpulse --enable-librsvg --enable-librubberband --enable-libshine --enable-libsnappy --enable-libsoxr --enable-libspeex --enable-libssh --enable-libtheora --enable-libtwolame --enable-libvidstab --enable-libvorbis --enable-libvpx --enable-libwavpack --enable-libwebp --enable-libx265 --enable-libxml2 --enable-libxvid --enable-libzmq --enable-libzvbi --enable-lv2 --enable-omx --enable-openal --enable-opengl --enable-sdl2 --enable-libdc1394 --enable-libdrm --enable-libiec61883 --enable-chromaprint --enable-frei0r --enable-libx264 --enable-shared\n",
      "  libavutil      56. 22.100 / 56. 22.100\n",
      "  libavcodec     58. 35.100 / 58. 35.100\n",
      "  libavformat    58. 20.100 / 58. 20.100\n",
      "  libavdevice    58.  5.100 / 58.  5.100\n",
      "  libavfilter     7. 40.101 /  7. 40.101\n",
      "  libavresample   4.  0.  0 /  4.  0.  0\n",
      "  libswscale      5.  3.100 /  5.  3.100\n",
      "  libswresample   3.  3.100 /  3.  3.100\n",
      "  libpostproc    55.  3.100 / 55.  3.100\n",
      "Input #0, mov,mp4,m4a,3gp,3g2,mj2, from '/cephyr/NOBACKUP/groups/snic2021-6-9/test_movies/01747002.mov':\n",
      "  Metadata:\n",
      "    major_brand     : qt  \n",
      "    minor_version   : 0\n",
      "    compatible_brands: qt  \n",
      "    creation_time   : 2021-04-06T10:47:51.000000Z\n",
      "  Duration: 00:10:02.10, start: 0.000000, bitrate: 7344 kb/s\n",
      "    Stream #0:0(eng): Video: h264 (Main) (avc1 / 0x31637661), yuv420p(tv, bt709), 1280x720 [SAR 1:1 DAR 16:9], 7341 kb/s, 29.97 fps, 29.97 tbr, 2997 tbn, 5994 tbc (default)\n",
      "    Metadata:\n",
      "      creation_time   : 2021-04-06T10:47:51.000000Z\n",
      "      handler_name    : Core Media Video\n",
      "      encoder         : H.264\n",
      "Stream mapping:\n",
      "  Stream #0:0 -> #0:0 (h264 (native) -> h264 (libx264))\n",
      "Press [q] to stop, [?] for help\n",
      "\u001b[1;36m[libx264 @ 0x55781cdb6980] \u001b[0musing SAR=1/1\n",
      "\u001b[1;36m[libx264 @ 0x55781cdb6980] \u001b[0musing cpu capabilities: MMX2 SSE2Fast SSSE3 SSE4.2 AVX FMA3 BMI2 AVX2 AVX512\n",
      "\u001b[1;36m[libx264 @ 0x55781cdb6980] \u001b[0mprofile High, level 3.1\n",
      "\u001b[1;36m[libx264 @ 0x55781cdb6980] \u001b[0m264 - core 155 r2917 0a84d98 - H.264/MPEG-4 AVC codec - Copyleft 2003-2018 - http://www.videolan.org/x264.html - options: cabac=1 ref=3 deblock=1:0:0 analyse=0x3:0x113 me=hex subme=7 psy=1 psy_rd=1.00:0.00 mixed_ref=1 me_range=16 chroma_me=1 trellis=1 8x8dct=1 cqm=0 deadzone=21,11 fast_pskip=1 chroma_qp_offset=-2 threads=6 lookahead_threads=1 sliced_threads=0 nr=0 decimate=1 interlaced=0 bluray_compat=0 constrained_intra=0 bframes=3 b_pyramid=2 b_adapt=1 b_bias=0 direct=1 weightb=1 open_gop=0 weightp=2 keyint=250 keyint_min=25 scenecut=40 intra_refresh=0 rc_lookahead=40 rc=crf mbtree=1 crf=30.0 qcomp=0.60 qpmin=0 qpmax=69 qpstep=4 ip_ratio=1.40 aq=1:1.00\n",
      "Output #0, mov, to '/cephyr/NOBACKUP/groups/snic2021-6-9/test_movies/01747002_blurred.mov':\n",
      "  Metadata:\n",
      "    major_brand     : qt  \n",
      "    minor_version   : 0\n",
      "    compatible_brands: qt  \n",
      "    encoder         : Lavf58.20.100\n",
      "    Stream #0:0(eng): Video: h264 (libx264) (avc1 / 0x31637661), yuv420p, 1280x720 [SAR 1:1 DAR 16:9], q=-1--1, 29.97 fps, 11988 tbn, 29.97 tbc (default)\n",
      "    Metadata:\n",
      "      creation_time   : 2021-04-06T10:47:51.000000Z\n",
      "      handler_name    : Core Media Video\n",
      "      encoder         : Lavc58.35.100 libx264\n",
      "    Side data:\n",
      "      cpb: bitrate max/min/avg: 0/0/0 buffer size: 0 vbv_delay: -1\n",
      "\u001b[1;35m[mov @ 0x55781cdb73c0] \u001b[0mStarting second pass: moving the moov atom to the beginning of the file\n",
      "frame=18045 fps= 93 q=-1.0 Lsize=   81019kB time=00:10:02.00 bitrate=1102.5kbits/s speed=3.09x    \n",
      "video:80806kB audio:0kB subtitle:0kB other streams:0kB global headers:0kB muxing overhead: 0.263296%\n",
      "\u001b[1;36m[libx264 @ 0x55781cdb6980] \u001b[0mframe I:73    Avg QP:28.72  size: 44306\n",
      "\u001b[1;36m[libx264 @ 0x55781cdb6980] \u001b[0mframe P:5187  Avg QP:31.67  size:  9984\n",
      "\u001b[1;36m[libx264 @ 0x55781cdb6980] \u001b[0mframe B:12785 Avg QP:34.91  size:  2168\n",
      "\u001b[1;36m[libx264 @ 0x55781cdb6980] \u001b[0mconsecutive B-frames:  0.8% 13.8%  1.1% 84.3%\n",
      "\u001b[1;36m[libx264 @ 0x55781cdb6980] \u001b[0mmb I  I16..4:  5.1% 80.7% 14.1%\n",
      "\u001b[1;36m[libx264 @ 0x55781cdb6980] \u001b[0mmb P  I16..4:  1.2%  4.8%  0.3%  P16..4: 53.9%  6.8%  3.4%  0.0%  0.0%    skip:29.6%\n",
      "\u001b[1;36m[libx264 @ 0x55781cdb6980] \u001b[0mmb B  I16..4:  0.0%  0.2%  0.0%  B16..8: 34.6%  1.1%  0.1%  direct: 0.5%  skip:63.5%  L0:36.1% L1:63.5% BI: 0.4%\n",
      "\u001b[1;36m[libx264 @ 0x55781cdb6980] \u001b[0m8x8 transform intra:77.1% inter:85.5%\n",
      "\u001b[1;36m[libx264 @ 0x55781cdb6980] \u001b[0mcoded y,uvDC,uvAC intra: 54.6% 39.6% 2.7% inter: 9.6% 3.8% 0.0%\n",
      "\u001b[1;36m[libx264 @ 0x55781cdb6980] \u001b[0mi16 v,h,dc,p: 30% 25% 15% 30%\n",
      "\u001b[1;36m[libx264 @ 0x55781cdb6980] \u001b[0mi8 v,h,dc,ddl,ddr,vr,hd,vl,hu: 13% 12% 24%  8%  9%  8%  9%  8%  9%\n",
      "\u001b[1;36m[libx264 @ 0x55781cdb6980] \u001b[0mi4 v,h,dc,ddl,ddr,vr,hd,vl,hu: 21% 17% 20%  7%  8%  7%  7%  6%  5%\n",
      "\u001b[1;36m[libx264 @ 0x55781cdb6980] \u001b[0mi8c dc,h,v,p: 78% 11%  9%  2%\n",
      "\u001b[1;36m[libx264 @ 0x55781cdb6980] \u001b[0mWeighted P-Frames: Y:28.7% UV:6.0%\n",
      "\u001b[1;36m[libx264 @ 0x55781cdb6980] \u001b[0mref P L0: 58.1% 26.1% 11.5%  3.5%  0.8%\n",
      "\u001b[1;36m[libx264 @ 0x55781cdb6980] \u001b[0mref B L0: 93.8%  4.6%  1.6%\n",
      "\u001b[1;36m[libx264 @ 0x55781cdb6980] \u001b[0mref B L1: 98.9%  1.1%\n",
      "\u001b[1;36m[libx264 @ 0x55781cdb6980] \u001b[0mkb/s:1099.42\n"
     ]
    }
   ],
   "source": [
    "!bash /usr/src/app/data_dir/process_movies.sh \\\n",
    "        $movies_location $movie_extension $blur_movies"
   ]
  },
  {
   "cell_type": "markdown",
   "id": "403c27f8",
   "metadata": {},
   "source": [
    "### Step 2: Specify Zooniverse and database credentials"
   ]
  },
  {
   "cell_type": "code",
   "execution_count": 16,
   "id": "3527ab34",
   "metadata": {},
   "outputs": [],
   "source": [
    "# Specify username and password of a valid zooniverse account\n",
    "user_zoo = \"\"\n",
    "pass_zoo = \"\""
   ]
  },
  {
   "cell_type": "code",
   "execution_count": 17,
   "id": "324ccf7a",
   "metadata": {},
   "outputs": [],
   "source": [
    "# Specify your database file location\n",
    "db_path = \"/usr/src/app/data_dir/koster_lab-nm-9.db\"\n",
    "#db_path = \"/cephyr/NOBACKUP/groups/snic2021-6-9/db_files/tutorial_demo.db\""
   ]
  },
  {
   "cell_type": "markdown",
   "id": "91b738a7",
   "metadata": {},
   "source": [
    "### Step 3: Add the new movies and new species (if applicable) to the Koster database"
   ]
  },
  {
   "cell_type": "code",
   "execution_count": null,
   "id": "ed50fcb3",
   "metadata": {},
   "outputs": [],
   "source": [
    "import add\n",
    "\n",
    "# New movies\n",
    "add.add_new_movies(movie_metadata_location, \n",
    "                   db_path,\n",
    "                   movies_location)\n",
    "\n",
    "# New species\n",
    "\n",
    "add.add_species(species_metadata_location,\n",
    "                db_path)"
   ]
  },
  {
   "cell_type": "code",
   "execution_count": 18,
   "id": "a2cfe667",
   "metadata": {},
   "outputs": [],
   "source": [
    "# Look over the available movies to choose the ones to extract clips from\n",
    "import pandas as pd\n",
    "from utils import db_utils\n",
    "conn = db_utils.create_connection(db_path)\n",
    "movies_df = pd.read_sql_query(\"SELECT * FROM movies\", conn)"
   ]
  },
  {
   "cell_type": "code",
   "execution_count": null,
   "id": "15bfa201",
   "metadata": {},
   "outputs": [],
   "source": [
    "!export LC_ALL=\"C.UTF-8\" python upload_clips.py --user $user_zoo --password $pass_zoo \\\n",
    "        -db /usr/src/app/data_dir/koster_lab-nm.db -fp /cephyr/NOBACKUP/groups/snic2021-6-9/clips_challenge_1 \\\n",
    "        -n 980 -lg 10 -vlist 61 62 63 64 -neach 60 60 60 800"
   ]
  },
  {
   "cell_type": "markdown",
   "id": "c9d4b6b9",
   "metadata": {},
   "source": [
    "## Adding new frames after clips have been classified"
   ]
  },
  {
   "cell_type": "code",
   "execution_count": 20,
   "id": "30782eb0",
   "metadata": {},
   "outputs": [],
   "source": [
    "# Look over the available species to choose the ones to extract frames from\n",
    "import pandas as pd\n",
    "from utils import db_utils\n",
    "conn = db_utils.create_connection(db_path)\n",
    "species_df = pd.read_sql_query(\"SELECT * FROM species\", conn)"
   ]
  },
  {
   "cell_type": "code",
   "execution_count": 21,
   "id": "0eaca484",
   "metadata": {},
   "outputs": [
    {
     "data": {
      "text/html": [
       "<div>\n",
       "<style scoped>\n",
       "    .dataframe tbody tr th:only-of-type {\n",
       "        vertical-align: middle;\n",
       "    }\n",
       "\n",
       "    .dataframe tbody tr th {\n",
       "        vertical-align: top;\n",
       "    }\n",
       "\n",
       "    .dataframe thead th {\n",
       "        text-align: right;\n",
       "    }\n",
       "</style>\n",
       "<table border=\"1\" class=\"dataframe\">\n",
       "  <thead>\n",
       "    <tr style=\"text-align: right;\">\n",
       "      <th></th>\n",
       "      <th>id</th>\n",
       "      <th>label</th>\n",
       "    </tr>\n",
       "  </thead>\n",
       "  <tbody>\n",
       "    <tr>\n",
       "      <th>0</th>\n",
       "      <td>1</td>\n",
       "      <td>Fan-shaped sponge</td>\n",
       "    </tr>\n",
       "    <tr>\n",
       "      <th>1</th>\n",
       "      <td>2</td>\n",
       "      <td>Football sponge</td>\n",
       "    </tr>\n",
       "    <tr>\n",
       "      <th>2</th>\n",
       "      <td>3</td>\n",
       "      <td>Sponge (any species)</td>\n",
       "    </tr>\n",
       "    <tr>\n",
       "      <th>3</th>\n",
       "      <td>4</td>\n",
       "      <td>Dead man's fingers</td>\n",
       "    </tr>\n",
       "    <tr>\n",
       "      <th>4</th>\n",
       "      <td>5</td>\n",
       "      <td>Deeplet sea anemone</td>\n",
       "    </tr>\n",
       "  </tbody>\n",
       "</table>\n",
       "</div>"
      ],
      "text/plain": [
       "   id                 label\n",
       "0   1     Fan-shaped sponge\n",
       "1   2       Football sponge\n",
       "2   3  Sponge (any species)\n",
       "3   4    Dead man's fingers\n",
       "4   5   Deeplet sea anemone"
      ]
     },
     "execution_count": 21,
     "metadata": {},
     "output_type": "execute_result"
    }
   ],
   "source": [
    "species_df.head()"
   ]
  },
  {
   "cell_type": "code",
   "execution_count": null,
   "id": "957e34b3",
   "metadata": {},
   "outputs": [],
   "source": [
    "!export LC_ALL=\"C.UTF-8\" python upload_frames.py --user $user_zoo --password $pass_zoo \\\n",
    "        --species \"Fish (any species)\" --db_path $db_path \\\n",
    "        -fp /cephyr/NOBACKUP/groups/snic2021-6-9/processed_frames/fish_any_species"
   ]
  }
 ],
 "metadata": {
  "kernelspec": {
   "display_name": "Python 3",
   "language": "python",
   "name": "python3"
  },
  "language_info": {
   "codemirror_mode": {
    "name": "ipython",
    "version": 3
   },
   "file_extension": ".py",
   "mimetype": "text/x-python",
   "name": "python",
   "nbconvert_exporter": "python",
   "pygments_lexer": "ipython3",
   "version": "3.8.8"
  }
 },
 "nbformat": 4,
 "nbformat_minor": 5
}
