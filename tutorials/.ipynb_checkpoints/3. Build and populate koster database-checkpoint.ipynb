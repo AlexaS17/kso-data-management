{
 "cells": [
  {
   "cell_type": "markdown",
   "metadata": {},
   "source": [
    "<img align=\"left\" src=\"https://panoptes-uploads.zooniverse.org/project_avatar/86c23ca7-bbaa-4e84-8d8a-876819551431.png\" type=\"image/png\" height=100 width=100>\n",
    "</img>\n",
    "\n",
    "\n",
    "<h1 align=\"right\">KSO Tutorials #3: Build and populate koster database</h1>\n",
    "<h3 align=\"right\">Written by @jannesgg and @vykanton</h3> "
   ]
  },
  {
   "cell_type": "markdown",
   "metadata": {},
   "source": [
    "The following scripts are the first scripts that anyone using the KSO notebook tutorials should use to create a sql database"
   ]
  },
  {
   "cell_type": "markdown",
   "metadata": {},
   "source": [
    "### Zooniverse username and pass"
   ]
  },
  {
   "cell_type": "code",
   "execution_count": 11,
   "metadata": {},
   "outputs": [
    {
     "name": "stdout",
     "output_type": "stream",
     "text": [
      "Enter your Zooniverse user········\n",
      "Enter your Zooniverse password········\n"
     ]
    }
   ],
   "source": [
    "import getpass\n",
    "\n",
    "# Your user name and password for Zooniverse. \n",
    "zoo_user = getpass.getpass('Enter your Zooniverse user')\n",
    "zoo_pass = getpass.getpass('Enter your Zooniverse password')"
   ]
  },
  {
   "cell_type": "markdown",
   "metadata": {},
   "source": [
    "### Create koster database"
   ]
  },
  {
   "cell_type": "code",
   "execution_count": 15,
   "metadata": {},
   "outputs": [
    {
     "name": "stdout",
     "output_type": "stream",
     "text": [
      "Updated sites\n",
      "Updated movies\n",
      "Updated species\n",
      "Updated subjects\n"
     ]
    }
   ],
   "source": [
    "# Delete previous database if exists\n",
    "import os\n",
    "if os.path.exists(\"koster_lab.db\"):\n",
    "    # Populate the db with info of subjects uploaded to Zooniverse\n",
    "    %run -i \"../db_starter/subjects_uploaded.py\" --user $zoo_user --passw $zoo_pass\n",
    "    os.remove(\"koster_lab.db\")\n",
    "else:\n",
    "  print(\"There are no previous database versions\")\n",
    "\n",
    "# Initiate the db\n",
    "%run -i \"../db_starter/init.py\"\n",
    "\n",
    "# Populate the db with info from the csv files\n",
    "%run -i \"../db_starter/static.py\"\n",
    "\n",
    "# Populate the db with info of subjects uploaded to Zooniverse\n",
    "%run -i \"../db_starter/subjects_uploaded.py\" --user $zoo_user --passw $zoo_pass"
   ]
  },
  {
   "cell_type": "code",
   "execution_count": null,
   "metadata": {},
   "outputs": [],
   "source": [
    "end"
   ]
  }
 ],
 "metadata": {
  "kernelspec": {
   "display_name": "Python 3",
   "language": "python",
   "name": "python3"
  },
  "language_info": {
   "codemirror_mode": {
    "name": "ipython",
    "version": 3
   },
   "file_extension": ".py",
   "mimetype": "text/x-python",
   "name": "python",
   "nbconvert_exporter": "python",
   "pygments_lexer": "ipython3",
   "version": "3.8.8"
  }
 },
 "nbformat": 4,
 "nbformat_minor": 4
}
