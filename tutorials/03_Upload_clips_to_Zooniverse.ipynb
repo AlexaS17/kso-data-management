{
 "cells": [
  {
   "cell_type": "markdown",
   "id": "b169b8d0",
   "metadata": {
    "id": "b169b8d0"
   },
   "source": [
    "<img align=\"left\" src=\"https://panoptes-uploads.zooniverse.org/project_avatar/86c23ca7-bbaa-4e84-8d8a-876819551431.png\" type=\"image/png\" height=100 width=100>\n",
    "</img>\n",
    "<h1 align=\"right\">Colab KSO Tutorials #3: Upload clips to Zooniverse</h1>\n",
    "<h3 align=\"right\">Written by @jannesgg and @vykanton</h3>\n",
    "<h5 align=\"right\">Last updated: May 27, 2022</h5>"
   ]
  },
  {
   "cell_type": "markdown",
   "id": "3ee20d67",
   "metadata": {
    "id": "3ee20d67"
   },
   "source": [
    "# Set up and requirements"
   ]
  },
  {
   "cell_type": "markdown",
   "id": "NnXXPVCynVXv",
   "metadata": {
    "id": "NnXXPVCynVXv"
   },
   "source": [
    "## Install kso_data_management and its requirements"
   ]
  },
  {
   "cell_type": "code",
   "execution_count": null,
   "id": "euLU610Jo8xh",
   "metadata": {
    "id": "euLU610Jo8xh"
   },
   "outputs": [],
   "source": [
    "try:\n",
    "  import google.colab\n",
    "  import os\n",
    "  IN_COLAB = True\n",
    "  print(\"Running in Colab...\")\n",
    "\n",
    "  # Clone koster_data_management repo\n",
    "  !git clone --quiet --recurse-submodules -b main https://github.com/ocean-data-factory-sweden/koster_data_management.git\n",
    "  !pip install -q --upgrade pip\n",
    "  !pip install -q -r koster_data_management/requirements.txt\n",
    "  \n",
    "  # Fix libmagic issue\n",
    "  !apt-get -qq update && apt-get -qq install -y libmagic-dev > /dev/null\n",
    "\n",
    "  # Enable external widgets\n",
    "  from google.colab import output\n",
    "  output.enable_custom_widget_manager()\n",
    "\n",
    "  os.chdir(\"koster_data_management/tutorials\")\n",
    "  print(\"All packages are installed and ready to go!\")\n",
    "except:\n",
    "  IN_COLAB = False\n",
    "  print(\"Running locally... you're good to go!\")"
   ]
  },
  {
   "cell_type": "markdown",
   "id": "896f0873",
   "metadata": {
    "id": "896f0873"
   },
   "source": [
    "### Import Python packages"
   ]
  },
  {
   "cell_type": "code",
   "execution_count": null,
   "id": "hTkxlN2MJxdb",
   "metadata": {
    "id": "hTkxlN2MJxdb"
   },
   "outputs": [],
   "source": [
    "# Set the directory of the libraries\n",
    "import sys, os\n",
    "from pathlib import Path\n",
    "\n",
    "# Enables testing changes in utils\n",
    "%load_ext autoreload\n",
    "%autoreload 2\n",
    "\n",
    "# Specify the path of the tutorials\n",
    "sys.path.append('..')\n",
    "\n",
    "# Import required modules\n",
    "import kso_utils.tutorials_utils as t_utils\n",
    "import kso_utils.movie_utils as m_utils\n",
    "import kso_utils.t3_utils as t3\n",
    "import kso_utils.project_utils as p_utils\n",
    "import kso_utils.server_utils as s_utils\n",
    "\n",
    "print(\"Packages loaded successfully\")"
   ]
  },
  {
   "cell_type": "markdown",
   "id": "8c51ffb6",
   "metadata": {
    "id": "8c51ffb6"
   },
   "source": [
    "### Choose your project"
   ]
  },
  {
   "cell_type": "code",
   "execution_count": null,
   "id": "bfef12df",
   "metadata": {
    "id": "bfef12df"
   },
   "outputs": [],
   "source": [
    "project_name = t_utils.choose_project()"
   ]
  },
  {
   "cell_type": "code",
   "execution_count": 3,
   "id": "17729cf6",
   "metadata": {
    "id": "17729cf6"
   },
   "outputs": [],
   "source": [
    "project = p_utils.find_project(project_name=project_name.value)"
   ]
  },
  {
   "cell_type": "markdown",
   "id": "39f5065c",
   "metadata": {
    "id": "39f5065c"
   },
   "source": [
    "### Initiate sql and zoo project"
   ]
  },
  {
   "cell_type": "code",
   "execution_count": null,
   "id": "8a7abc2f",
   "metadata": {
    "id": "8a7abc2f",
    "scrolled": true
   },
   "outputs": [],
   "source": [
    "# Initiate db\n",
    "db_info_dict = t_utils.initiate_db(project)\n"
   ]
  },
  {
   "cell_type": "code",
   "execution_count": null,
   "id": "10b4aa16",
   "metadata": {
    "id": "10b4aa16"
   },
   "outputs": [],
   "source": [
    "# Connect to Zooniverse project\n",
    "zoo_project = t_utils.connect_zoo_project(project)"
   ]
  },
  {
   "cell_type": "markdown",
   "id": "50bac6cf",
   "metadata": {
    "id": "50bac6cf"
   },
   "source": [
    "## Retrieve info about zooniverse clips"
   ]
  },
  {
   "cell_type": "code",
   "execution_count": null,
   "id": "0c2d059b",
   "metadata": {
    "id": "0c2d059b"
   },
   "outputs": [],
   "source": [
    "zoo_info_dict = t_utils.retrieve__populate_zoo_info(project = project, \n",
    "                                                    db_info_dict = db_info_dict,\n",
    "                                                    zoo_project = zoo_project,\n",
    "                                                    zoo_info = [\"subjects\"])"
   ]
  },
  {
   "cell_type": "markdown",
   "id": "3bdb9ff9",
   "metadata": {
    "id": "3bdb9ff9"
   },
   "source": [
    "## Retrieve info about movies hosted in the server"
   ]
  },
  {
   "cell_type": "code",
   "execution_count": 7,
   "id": "0fc41573",
   "metadata": {
    "id": "0fc41573"
   },
   "outputs": [],
   "source": [
    "# Store info about the movies available in the server\n",
    "available_movies_df = s_utils.retrieve_movie_info_from_server(\n",
    "    project = project,\n",
    "    db_info_dict = db_info_dict\n",
    ")"
   ]
  },
  {
   "cell_type": "markdown",
   "id": "lq8kiRqqnxe8",
   "metadata": {
    "id": "lq8kiRqqnxe8"
   },
   "source": [
    "# Select the movie of interest"
   ]
  },
  {
   "cell_type": "markdown",
   "id": "2dfc55a9",
   "metadata": {
    "id": "2dfc55a9"
   },
   "source": [
    "### Select the movie you want to upload to Zooniverse"
   ]
  },
  {
   "cell_type": "code",
   "execution_count": null,
   "id": "6667d092",
   "metadata": {
    "id": "6667d092"
   },
   "outputs": [],
   "source": [
    "movie_selected = t_utils.select_movie(available_movies_df)"
   ]
  },
  {
   "cell_type": "markdown",
   "id": "xtAVdGvb0UIq",
   "metadata": {
    "id": "xtAVdGvb0UIq"
   },
   "source": [
    "## Have a quick look at the movie selected"
   ]
  },
  {
   "cell_type": "code",
   "execution_count": null,
   "id": "04b2Jn-t6Qqz",
   "metadata": {
    "id": "04b2Jn-t6Qqz"
   },
   "outputs": [],
   "source": [
    "movie_display, movie_path = t_utils.preview_movie(\n",
    "    project = project,\n",
    "    db_info_dict = db_info_dict, \n",
    "    available_movies_df = available_movies_df, \n",
    "    movie_i = movie_selected.value\n",
    ")\n",
    "movie_display"
   ]
  },
  {
   "cell_type": "markdown",
   "id": "8175cc89",
   "metadata": {
    "id": "8175cc89"
   },
   "source": [
    "### Check if movie is already in Zooniverse"
   ]
  },
  {
   "cell_type": "markdown",
   "id": "c84c92bf",
   "metadata": {
    "id": "c84c92bf"
   },
   "source": [
    "Remember to query the newest zooniverse data to get the most up to date list of clips uploaded"
   ]
  },
  {
   "cell_type": "code",
   "execution_count": null,
   "id": "dbe6b212",
   "metadata": {
    "id": "dbe6b212"
   },
   "outputs": [],
   "source": [
    "t3.check_movie_uploaded(\n",
    "    movie_i = movie_selected.value,\n",
    "    db_info_dict = db_info_dict\n",
    ")"
   ]
  },
  {
   "cell_type": "markdown",
   "id": "QQKQ25Rd7zid",
   "metadata": {
    "id": "QQKQ25Rd7zid"
   },
   "source": [
    "# Create some example clips"
   ]
  },
  {
   "cell_type": "markdown",
   "id": "bq0v__COMpDK",
   "metadata": {
    "id": "bq0v__COMpDK"
   },
   "source": [
    "## Create a few clip examples"
   ]
  },
  {
   "cell_type": "markdown",
   "id": "klrtgtZ0M2hs",
   "metadata": {
    "id": "klrtgtZ0M2hs"
   },
   "source": [
    "Test different parameters (e.g. compression rate, color modifications) in randomly selected clip examples"
   ]
  },
  {
   "cell_type": "code",
   "execution_count": null,
   "id": "dmTJM7hvMvpU",
   "metadata": {
    "id": "dmTJM7hvMvpU"
   },
   "outputs": [],
   "source": [
    "random_clip_selection = t3.select_random_clips(\n",
    "    movie_i = movie_selected.value,\n",
    "    db_info_dict = db_info_dict\n",
    ")"
   ]
  },
  {
   "cell_type": "code",
   "execution_count": null,
   "id": "EcueiHWXMz7p",
   "metadata": {
    "id": "EcueiHWXMz7p"
   },
   "outputs": [],
   "source": [
    "example_clips = t3.create_example_clips(\n",
    "    movie_i = movie_selected.value,\n",
    "    movie_path = movie_path,\n",
    "    db_info_dict = db_info_dict,\n",
    "    project = project,\n",
    "    clip_selection = random_clip_selection\n",
    ")"
   ]
  },
  {
   "cell_type": "markdown",
   "id": "Q3PbyBR5M4fg",
   "metadata": {
    "id": "Q3PbyBR5M4fg"
   },
   "source": [
    "## Review the size of the temporary clips"
   ]
  },
  {
   "cell_type": "code",
   "execution_count": null,
   "id": "0iJ_DMsWM9Wm",
   "metadata": {
    "id": "0iJ_DMsWM9Wm"
   },
   "outputs": [],
   "source": [
    "t3.check_clip_size(clips_list = example_clips)"
   ]
  },
  {
   "cell_type": "markdown",
   "id": "5BTfSpAsM-dn",
   "metadata": {
    "id": "5BTfSpAsM-dn"
   },
   "source": [
    "## Select the clip modification"
   ]
  },
  {
   "cell_type": "code",
   "execution_count": null,
   "id": "zSr9_9T2NCs_",
   "metadata": {
    "id": "zSr9_9T2NCs_"
   },
   "outputs": [],
   "source": [
    "clip_modification = t3.clip_modification_widget()\n",
    "clip_modification"
   ]
  },
  {
   "cell_type": "markdown",
   "id": "VY-YVASyofVU",
   "metadata": {
    "id": "VY-YVASyofVU"
   },
   "source": [
    "### Specify the GPU availability"
   ]
  },
  {
   "cell_type": "code",
   "execution_count": null,
   "id": "ulpoaaNHoiUz",
   "metadata": {
    "id": "ulpoaaNHoiUz"
   },
   "outputs": [],
   "source": [
    "gpu_available = t_utils.gpu_select()"
   ]
  },
  {
   "cell_type": "markdown",
   "id": "GqP9LM7-NFg7",
   "metadata": {
    "id": "GqP9LM7-NFg7"
   },
   "source": [
    "### Modify the clip examples\n"
   ]
  },
  {
   "cell_type": "code",
   "execution_count": null,
   "id": "sZtj9shKo71j",
   "metadata": {
    "id": "sZtj9shKo71j"
   },
   "outputs": [],
   "source": [
    "modified_clips = t3.create_modified_clips(\n",
    "    clips_list = example_clips,\n",
    "    movie_i = movie_selected.value,\n",
    "    modification_details = clip_modification.checks,\n",
    "    project = project,\n",
    "    gpu_available = gpu_available.result\n",
    ")"
   ]
  },
  {
   "cell_type": "markdown",
   "id": "qEWyOitgNLSf",
   "metadata": {
    "id": "qEWyOitgNLSf"
   },
   "source": [
    "## Review the size of the modified clips"
   ]
  },
  {
   "cell_type": "code",
   "execution_count": null,
   "id": "2vNIENCTNNUW",
   "metadata": {
    "id": "2vNIENCTNNUW"
   },
   "outputs": [],
   "source": [
    "t3.check_clip_size(clips_list = modified_clips)"
   ]
  },
  {
   "cell_type": "markdown",
   "id": "W2NnI0A-NPpn",
   "metadata": {
    "id": "W2NnI0A-NPpn"
   },
   "source": [
    "## Compare the clips"
   ]
  },
  {
   "cell_type": "code",
   "execution_count": null,
   "id": "zXQOMNRsNRMf",
   "metadata": {
    "id": "zXQOMNRsNRMf"
   },
   "outputs": [],
   "source": [
    "t3.compare_clips(\n",
    "    example_clips = example_clips,\n",
    "    modified_clips = modified_clips\n",
    ")"
   ]
  },
  {
   "cell_type": "markdown",
   "id": "a9NhZKK-NS_s",
   "metadata": {
    "id": "a9NhZKK-NS_s"
   },
   "source": [
    "# Create the clips to upload to Zooniverse"
   ]
  },
  {
   "cell_type": "markdown",
   "id": "QrcJE5ywZhzD",
   "metadata": {
    "id": "QrcJE5ywZhzD"
   },
   "source": [
    "## Preview again the movie selected"
   ]
  },
  {
   "cell_type": "code",
   "execution_count": null,
   "id": "-NdRYwh7ZfEv",
   "metadata": {
    "id": "-NdRYwh7ZfEv"
   },
   "outputs": [],
   "source": [
    "movie_display"
   ]
  },
  {
   "cell_type": "markdown",
   "id": "mK7UpTFwNX6S",
   "metadata": {
    "id": "mK7UpTFwNX6S"
   },
   "source": [
    "## Specify the number of clips and clip length"
   ]
  },
  {
   "cell_type": "code",
   "execution_count": null,
   "id": "tspAVRDGNW5X",
   "metadata": {
    "id": "tspAVRDGNW5X"
   },
   "outputs": [],
   "source": [
    "clip_selection = t3.select_clip_n_len(\n",
    "    movie_i = movie_selected.value,\n",
    "     db_info_dict = db_info_dict\n",
    "     )"
   ]
  },
  {
   "cell_type": "markdown",
   "id": "PlhD28PvNeEF",
   "metadata": {
    "id": "PlhD28PvNeEF"
   },
   "source": [
    "## Review the clips that will be created"
   ]
  },
  {
   "cell_type": "code",
   "execution_count": null,
   "id": "IXkwpjXhNXUl",
   "metadata": {
    "id": "IXkwpjXhNXUl"
   },
   "outputs": [],
   "source": [
    "t3.review_clip_selection(\n",
    "    clip_selection = clip_selection, \n",
    "    movie_i = movie_selected.value,\n",
    "    clip_modification = clip_modification\n",
    ")"
   ]
  },
  {
   "cell_type": "markdown",
   "id": "wBCemoZiNic5",
   "metadata": {
    "id": "wBCemoZiNic5"
   },
   "source": [
    "## Create the clips"
   ]
  },
  {
   "cell_type": "code",
   "execution_count": null,
   "id": "idoKSzjpNof6",
   "metadata": {
    "id": "idoKSzjpNof6"
   },
   "outputs": [],
   "source": [
    "clips_to_upload_df = t3.create_clips(\n",
    "    available_movies_df = available_movies_df, \n",
    "    movie_i = movie_selected.value,\n",
    "    movie_path = movie_path,\n",
    "    db_info_dict = db_info_dict,\n",
    "    clip_selection = clip_selection, \n",
    "    project = project, \n",
    "    modification_details = clip_modification.checks,\n",
    "    gpu_available = gpu_available.result,\n",
    "    pool_size = 10\n",
    ")"
   ]
  },
  {
   "cell_type": "markdown",
   "id": "vuhoSd_nNsZJ",
   "metadata": {
    "id": "vuhoSd_nNsZJ"
   },
   "source": [
    "## Review the size of the clips"
   ]
  },
  {
   "cell_type": "code",
   "execution_count": null,
   "id": "ACnwMvssNrxX",
   "metadata": {
    "id": "ACnwMvssNrxX"
   },
   "outputs": [],
   "source": [
    "t3.check_clip_size(clips_list = clips_to_upload_df.clip_path.to_list())"
   ]
  },
  {
   "cell_type": "markdown",
   "id": "dp4F7oNfRIbA",
   "metadata": {
    "id": "dp4F7oNfRIbA"
   },
   "source": [
    "# Upload clips to Zooniverse"
   ]
  },
  {
   "cell_type": "markdown",
   "id": "i1HBq524RI_K",
   "metadata": {
    "id": "i1HBq524RI_K"
   },
   "source": [
    "## Set Zooniverse metadata"
   ]
  },
  {
   "cell_type": "markdown",
   "id": "3-SdYz25RMNP",
   "metadata": {
    "id": "3-SdYz25RMNP"
   },
   "source": [
    "Make sure your workflows in Zooniverse have different names to avoid issues while selecting the workflow id"
   ]
  },
  {
   "cell_type": "code",
   "execution_count": 33,
   "id": "brSCedDbPncC",
   "metadata": {
    "id": "brSCedDbPncC"
   },
   "outputs": [],
   "source": [
    "upload_to_zoo, sitename, created_on = t3.set_zoo_metadata(\n",
    "    db_info_dict = db_info_dict, \n",
    "    df = clips_to_upload_df,\n",
    "    project = project\n",
    "    )"
   ]
  },
  {
   "cell_type": "markdown",
   "id": "4XYIpG6fRROo",
   "metadata": {
    "id": "4XYIpG6fRROo"
   },
   "source": [
    "## Upload clips to Zooniverse"
   ]
  },
  {
   "cell_type": "markdown",
   "id": "yXlUNQhYRWcQ",
   "metadata": {
    "id": "yXlUNQhYRWcQ"
   },
   "source": [
    "You may receive an error message related to file size if clips exceed the recommended limit for Zooniverse uploads. In this case, we recommend shortening the clip length to achieve a suitable filesize."
   ]
  },
  {
   "cell_type": "code",
   "execution_count": null,
   "id": "vALY0dFDPnfb",
   "metadata": {
    "id": "vALY0dFDPnfb"
   },
   "outputs": [],
   "source": [
    "t3.upload_clips_to_zooniverse(\n",
    "    upload_to_zoo = upload_to_zoo, \n",
    "    sitename = sitename,\n",
    "    created_on = created_on,\n",
    "    project = project.Zooniverse_number\n",
    ")"
   ]
  },
  {
   "cell_type": "markdown",
   "id": "e6ab685e",
   "metadata": {},
   "source": [
    "## Remove the temporary clips to make space in the hard drive and upload more videos to Zooniverse "
   ]
  },
  {
   "cell_type": "code",
   "execution_count": null,
   "id": "ae24fabf",
   "metadata": {},
   "outputs": [],
   "source": [
    "import os\n",
    "for temp_clip in upload_to_zoo[\"clip_path\"].unique().tolist():\n",
    "    os.remove(temp_clip)\n",
    "print(\"Files removed succesfully\")"
   ]
  },
  {
   "cell_type": "code",
   "execution_count": null,
   "id": "Ewbv8G7fRagf",
   "metadata": {
    "id": "Ewbv8G7fRagf"
   },
   "outputs": [],
   "source": [
    "#END"
   ]
  }
 ],
 "metadata": {
  "accelerator": "GPU",
  "colab": {
   "collapsed_sections": [
    "Hro0l-z-OxAA",
    "cEy0Uz9ZO17V",
    "cuCiI4KqPZSw"
   ],
   "name": "3. Upload clips to Zooniverse.ipynb",
   "provenance": []
  },
  "kernelspec": {
   "display_name": "Python 3.8.8 ('odf')",
   "language": "python",
   "name": "python3"
  },
  "language_info": {
   "codemirror_mode": {
    "name": "ipython",
    "version": 3
   },
   "file_extension": ".py",
   "mimetype": "text/x-python",
   "name": "python",
   "nbconvert_exporter": "python",
   "pygments_lexer": "ipython3",
   "version": "3.8.8"
  },
  "vscode": {
   "interpreter": {
    "hash": "9f0064b85a3bc365415745ead9abb78ac240c43fe3a2a9861333bea64f4ce941"
   }
  }
 },
 "nbformat": 4,
 "nbformat_minor": 5
}
