{
 "cells": [
  {
   "cell_type": "markdown",
   "id": "95aea466",
   "metadata": {},
   "source": [
    "<img align=\"left\" src=\"https://panoptes-uploads.zooniverse.org/project_avatar/86c23ca7-bbaa-4e84-8d8a-876819551431.png\" type=\"image/png\" height=100 width=100>\n",
    "</img>\n",
    "\n",
    "\n",
    "<h1 align=\"right\">KSO Tutorials #1: Check and update csv files</h1>\n",
    "<h3 align=\"right\">Written by @jannesgg and @vykanton</h3>\n",
    "<h5 align=\"right\">Last updated: May 11th, 2022</h5>"
   ]
  },
  {
   "cell_type": "markdown",
   "id": "6f0fc779",
   "metadata": {},
   "source": [
    "# Set up and requirements"
   ]
  },
  {
   "cell_type": "markdown",
   "id": "ed3d9d14",
   "metadata": {},
   "source": [
    "Import Python packages"
   ]
  },
  {
   "cell_type": "code",
   "execution_count": null,
   "id": "46ca201f",
   "metadata": {},
   "outputs": [],
   "source": [
    "%load_ext autoreload\n",
    "%autoreload 2\n",
    "\n",
    "# Set the directory of the libraries\n",
    "import sys\n",
    "sys.path.append('..')\n",
    "\n",
    "# Set to display dataframes as interactive tables\n",
    "from itables import init_notebook_mode\n",
    "init_notebook_mode(all_interactive=True)\n",
    "\n",
    "# Import required modules\n",
    "import kso_utils.tutorials_utils as t_utils\n",
    "import kso_utils.project_utils as p_utils\n",
    "import kso_utils.server_utils as serv_utils\n",
    "import kso_utils.t1_utils as t1\n",
    "\n",
    "print(\"Packages loaded successfully\")"
   ]
  },
  {
   "cell_type": "markdown",
   "id": "fdc7152a",
   "metadata": {},
   "source": [
    "### Choose your project"
   ]
  },
  {
   "cell_type": "code",
   "execution_count": null,
   "id": "1c1aabda",
   "metadata": {},
   "outputs": [],
   "source": [
    "project_name = t_utils.choose_project()"
   ]
  },
  {
   "cell_type": "code",
   "execution_count": null,
   "id": "6d1103c3",
   "metadata": {},
   "outputs": [],
   "source": [
    "# Get project specific info\n",
    "project = p_utils.find_project(project_name=project_name.value)\n",
    "db_path, project_name, server_i_dict, db_initial_info = t_utils.get_project_details(project)"
   ]
  },
  {
   "cell_type": "markdown",
   "id": "52f976b8",
   "metadata": {},
   "source": [
    "### Check the sites_csv"
   ]
  },
  {
   "cell_type": "code",
   "execution_count": null,
   "id": "3bab8bd9",
   "metadata": {},
   "outputs": [],
   "source": [
    "sites_df_sheet = t1.open_sites_csv(db_initial_info)\n",
    "sites_df_sheet"
   ]
  },
  {
   "cell_type": "code",
   "execution_count": null,
   "id": "c9f0344a",
   "metadata": {},
   "outputs": [],
   "source": [
    "sites_df = t1.check_sites_database(db_initial_info, sites_df_sheet, project)"
   ]
  },
  {
   "cell_type": "markdown",
   "id": "4b134a5c",
   "metadata": {},
   "source": [
    "### Check the movies_csv"
   ]
  },
  {
   "cell_type": "code",
   "execution_count": null,
   "id": "b78b2738",
   "metadata": {},
   "outputs": [],
   "source": [
    "movies_df = t1.check_movies_csv(db_info_dict, project)"
   ]
  },
  {
   "cell_type": "markdown",
   "id": "9590b2f5",
   "metadata": {},
   "source": [
    "### Check all movies in server are captured in movies_csv"
   ]
  },
  {
   "cell_type": "code",
   "execution_count": null,
   "id": "21808e36",
   "metadata": {},
   "outputs": [],
   "source": [
    "t1.check_movies_from_server(movies_df, sites_df, project, db_info_dict)"
   ]
  },
  {
   "cell_type": "code",
   "execution_count": null,
   "id": "93c07a90-5004-444b-b5b3-9e983d86c82b",
   "metadata": {},
   "outputs": [],
   "source": [
    "from utils import t2_utils as t1\n",
    "t1.upload_movies1()"
   ]
  }
 ],
 "metadata": {
  "kernelspec": {
   "display_name": "Python 3 (ipykernel)",
   "language": "python",
   "name": "python3"
  },
  "language_info": {
   "codemirror_mode": {
    "name": "ipython",
    "version": 3
   },
   "file_extension": ".py",
   "mimetype": "text/x-python",
   "name": "python",
   "nbconvert_exporter": "python",
   "pygments_lexer": "ipython3",
   "version": "3.7.13"
  }
 },
 "nbformat": 4,
 "nbformat_minor": 5
}
