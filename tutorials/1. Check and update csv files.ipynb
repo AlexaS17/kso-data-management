{
 "cells": [
  {
   "cell_type": "markdown",
   "id": "95aea466",
   "metadata": {},
   "source": [
    "<img align=\"left\" src=\"https://panoptes-uploads.zooniverse.org/project_avatar/86c23ca7-bbaa-4e84-8d8a-876819551431.png\" type=\"image/png\" height=100 width=100>\n",
    "</img>\n",
    "\n",
    "\n",
    "<h1 align=\"right\">KSO Tutorials #1: Check and update csv files</h1>\n",
    "<h3 align=\"right\">Written by @jannesgg and @vykanton</h3>\n",
    "<h5 align=\"right\">Last updated: May 11th, 2022</h5>"
   ]
  },
  {
   "cell_type": "markdown",
   "id": "6f0fc779",
   "metadata": {},
   "source": [
    "# Set up and requirements"
   ]
  },
  {
   "cell_type": "markdown",
   "id": "ed3d9d14",
   "metadata": {},
   "source": [
    "Import Python packages"
   ]
  },
  {
   "cell_type": "code",
   "execution_count": 1,
   "id": "46ca201f",
   "metadata": {},
   "outputs": [
    {
     "data": {
      "application/javascript": [
       "require.config({\n",
       "    paths: {\n",
       "        datatables: 'https://cdn.datatables.net/1.10.19/js/jquery.dataTables.min',\n",
       "    }\n",
       "});\n",
       "\n",
       "$('head').append('<link rel=\"stylesheet\" type=\"text/css\" \\\n",
       "                href = \"https://cdn.datatables.net/1.10.19/css/jquery.dataTables.min.css\" > ');\n",
       "\n",
       "$('head').append('<style> table td { text-overflow: ellipsis; overflow: hidden; } </style>');\n",
       "\n",
       "$('head').append(`<script>\n",
       "function eval_functions(map_or_text) {\n",
       "    if (typeof map_or_text === \"string\") {\n",
       "        if (map_or_text.startsWith(\"function\")) {\n",
       "            try {\n",
       "                // Note: parenthesis are required around the whole expression for eval to return a value!\n",
       "                // See https://stackoverflow.com/a/7399078/911298.\n",
       "                //\n",
       "                // eval(\"local_fun = \" + map_or_text) would fail because local_fun is not declared\n",
       "                // (using var, let or const would work, but it would only be declared in the local scope\n",
       "                // and therefore the value could not be retrieved).\n",
       "                const func = eval(\"(\" + map_or_text + \")\");\n",
       "                if (typeof func !== \"function\") {\n",
       "                    // Note: backquotes are super convenient!\n",
       "                    // https://developer.mozilla.org/en-US/docs/Web/JavaScript/Reference/Template_literals\n",
       "                    console.error(\"Evaluated expression \" + map_or_text + \" is not a function (type is \" + typeof func + \")\");\n",
       "                    return map_or_text;\n",
       "                }\n",
       "                // Return the function\n",
       "                return func;\n",
       "            } catch (e) {\n",
       "                // Make sure to print the error with a second argument to console.error().\n",
       "                console.error(\"itables was not able to parse \" + map_or_text, e);\n",
       "            }\n",
       "        }\n",
       "    } else if (typeof map_or_text === \"object\") {\n",
       "        if (map_or_text instanceof Array) {\n",
       "            // Note: \"var\" is now superseded by \"let\" and \"const\".\n",
       "            // https://medium.com/javascript-scene/javascript-es6-var-let-or-const-ba58b8dcde75\n",
       "            const result = [];\n",
       "            // Note: \"for of\" is the best way to iterate through an iterable.\n",
       "            // https://developer.mozilla.org/en-US/docs/Web/JavaScript/Reference/Statements/for...of\n",
       "            for (const item of map_or_text) {\n",
       "                result.push(eval_functions(item));\n",
       "            }\n",
       "            return result;\n",
       "\n",
       "            // Alternatively, more functional approach in one line:\n",
       "            // return map_or_text.map(eval_functions);\n",
       "        } else {\n",
       "            const result = {};\n",
       "            // Object.keys() is safer than \"for in\" because otherwise you might have keys\n",
       "            // that aren't defined in the object itself.\n",
       "            //\n",
       "            // See https://stackoverflow.com/a/684692/911298.\n",
       "            for (const item of Object.keys(map_or_text)) {\n",
       "                result[item] = eval_functions(map_or_text[item]);\n",
       "            }\n",
       "            return result;\n",
       "        }\n",
       "    }\n",
       "\n",
       "    return map_or_text;\n",
       "}\n",
       "\n",
       "</` + 'script>');"
      ],
      "text/plain": [
       "<IPython.core.display.Javascript object>"
      ]
     },
     "metadata": {},
     "output_type": "display_data"
    },
    {
     "name": "stdout",
     "output_type": "stream",
     "text": [
      "Packages loaded successfully\n"
     ]
    }
   ],
   "source": [
    "%load_ext autoreload\n",
    "%autoreload 2\n",
    "\n",
    "# Set the directory of the libraries\n",
    "import sys\n",
    "sys.path.append('..')\n",
    "\n",
    "# Set to display dataframes as interactive tables\n",
    "from itables import init_notebook_mode\n",
    "init_notebook_mode(all_interactive=True)\n",
    "\n",
    "# Import required modules\n",
    "import kso_utils.tutorials_utils as t_utils\n",
    "import kso_utils.project_utils as p_utils\n",
    "import kso_utils.server_utils as serv_utils\n",
    "import kso_utils.t1_utils as t1\n",
    "import kso_utils.t2_utils as t2\n",
    "\n",
    "print(\"Packages loaded successfully\")"
   ]
  },
  {
   "cell_type": "markdown",
   "id": "fdc7152a",
   "metadata": {},
   "source": [
    "### Choose your project"
   ]
  },
  {
   "cell_type": "code",
   "execution_count": 2,
   "id": "1c1aabda",
   "metadata": {},
   "outputs": [
    {
     "data": {
      "application/vnd.jupyter.widget-view+json": {
       "model_id": "7fd3259267f444e8a59bf8bceda05c72",
       "version_major": 2,
       "version_minor": 0
      },
      "text/plain": [
       "Dropdown(description='Project:', options=('Template project', 'Koster_Seafloor_Obs', 'Spyfish_Aotearoa', 'SGU'…"
      ]
     },
     "metadata": {},
     "output_type": "display_data"
    }
   ],
   "source": [
    "project_name = t_utils.choose_project()"
   ]
  },
  {
   "cell_type": "code",
   "execution_count": 3,
   "id": "6d1103c3",
   "metadata": {},
   "outputs": [
    {
     "name": "stdout",
     "output_type": "stream",
     "text": [
      "Enter the key id for the aws server········\n",
      "Enter the secret access key for the aws server········\n"
     ]
    },
    {
     "name": "stderr",
     "output_type": "stream",
     "text": [
      "None\\sites_buv_doc.csv: 100%|████████████████████████████████████████████████████████| 145k/145k [00:00<00:00, 528kB/s]\n",
      "None\\movies_buv_doc.csv: 100%|█████████████████████████████████████████████████████| 15.0k/15.0k [00:00<00:00, 111kB/s]\n",
      "None\\species_buv_doc.csv: 100%|███████████████████████████████████████████████████| 7.53k/7.53k [00:00<00:00, 37.6kB/s]\n",
      "None\\surveys_buv_doc.csv: 100%|███████████████████████████████████████████████████| 2.52k/2.52k [00:00<00:00, 17.2kB/s]\n",
      "None\\choices_buv.csv: 100%|███████████████████████████████████████████████████████| 3.58k/3.58k [00:00<00:00, 25.3kB/s]\n"
     ]
    }
   ],
   "source": [
    "# Get project specific info\n",
    "project = p_utils.find_project(project_name=project_name.value)\n",
    "db_path, project_name, server_i_dict, db_initial_info = t_utils.get_project_details(project)"
   ]
  },
  {
   "cell_type": "markdown",
   "id": "52f976b8",
   "metadata": {},
   "source": [
    "### Check the sites_csv"
   ]
  },
  {
   "cell_type": "code",
   "execution_count": null,
   "id": "3bab8bd9",
   "metadata": {},
   "outputs": [],
   "source": [
    "sites_df_sheet = t1.open_sites_csv(db_initial_info)\n",
    "sites_df_sheet"
   ]
  },
  {
   "cell_type": "code",
   "execution_count": null,
   "id": "c9f0344a",
   "metadata": {},
   "outputs": [],
   "source": [
    "t1.check_sites_database(db_initial_info, sites_df_sheet, project)"
   ]
  },
  {
   "cell_type": "markdown",
   "id": "4b134a5c",
   "metadata": {},
   "source": [
    "### Check the movies_csv"
   ]
  },
  {
   "cell_type": "code",
   "execution_count": null,
   "id": "b78b2738",
   "metadata": {},
   "outputs": [],
   "source": [
    "t1.check_movies_csv(db_info_dict, project)"
   ]
  },
  {
   "cell_type": "markdown",
   "id": "9590b2f5",
   "metadata": {},
   "source": [
    "### Check all movies in server are captured in movies_csv"
   ]
  },
  {
   "cell_type": "markdown",
   "id": "7fdead85",
   "metadata": {},
   "source": [
    "# Merge go_pro files"
   ]
  },
  {
   "cell_type": "code",
   "execution_count": 6,
   "id": "642848db",
   "metadata": {},
   "outputs": [
    {
     "name": "stdout",
     "output_type": "stream",
     "text": [
      "Enter the key id for the aws server········\n",
      "Enter the secret access key for the aws server········\n"
     ]
    },
    {
     "name": "stderr",
     "output_type": "stream",
     "text": [
      "None\\sites_buv_doc.csv: 100%|████████████████████████████████████████████████████████| 145k/145k [00:00<00:00, 547kB/s]\n",
      "None\\movies_buv_doc.csv: 100%|█████████████████████████████████████████████████████| 15.0k/15.0k [00:00<00:00, 118kB/s]\n",
      "None\\species_buv_doc.csv: 100%|███████████████████████████████████████████████████| 7.53k/7.53k [00:00<00:00, 56.8kB/s]\n",
      "None\\surveys_buv_doc.csv: 100%|███████████████████████████████████████████████████| 2.52k/2.52k [00:00<00:00, 14.9kB/s]\n",
      "None\\choices_buv.csv: 100%|███████████████████████████████████████████████████████| 3.58k/3.58k [00:00<00:00, 23.5kB/s]\n"
     ]
    },
    {
     "name": "stdout",
     "output_type": "stream",
     "text": [
      "Updated sites\n",
      "Updated movies\n",
      "Updated species\n"
     ]
    }
   ],
   "source": [
    "db_info_dict = t_utils.initiate_db(project)"
   ]
  },
  {
   "cell_type": "code",
   "execution_count": 14,
   "id": "21808e36",
   "metadata": {},
   "outputs": [
    {
     "name": "stdout",
     "output_type": "stream",
     "text": [
      "                                          Key      filename  \\\n",
      "0        TeWhanganui-O-Hei-buv-2022/BUV 2.mp4     BUV 2.mp4   \n",
      "1        TeWhanganui-O-Hei-buv-2022/BUV 3.mp4     BUV 3.mp4   \n",
      "2        TeWhanganui-O-Hei-buv-2022/BUV 4.mp4     BUV 4.mp4   \n",
      "3        TeWhanganui-O-Hei-buv-2022/BUV 5.mp4     BUV 5.mp4   \n",
      "4  akaroapohatu-buv-2017/DOC BUV/GOPR0153.MP4  GOPR0153.MP4   \n",
      "\n",
      "                      deployment_folder  \n",
      "0  TeWhanganui-O-Hei-buv-2022/BUV 2.mp4  \n",
      "1  TeWhanganui-O-Hei-buv-2022/BUV 3.mp4  \n",
      "2  TeWhanganui-O-Hei-buv-2022/BUV 4.mp4  \n",
      "3  TeWhanganui-O-Hei-buv-2022/BUV 5.mp4  \n",
      "4         akaroapohatu-buv-2017/DOC BUV  \n",
      "There are 0 movies missing\n",
      "0 movies are bad deployments. Their filenames are:\n",
      "\n",
      "0 movies are good deployments but don't have movies uploaded. Their filenames are:\n",
      "\n",
      "There are 0 movies missing from movies.csv. Their filenames are:\n"
     ]
    }
   ],
   "source": [
    "missing_from_server, missing_from_csv = t1.check_movies_from_server(db_info_dict, project)"
   ]
  },
  {
   "cell_type": "code",
   "execution_count": null,
   "id": "93c07a90-5004-444b-b5b3-9e983d86c82b",
   "metadata": {},
   "outputs": [],
   "source": [
    "deployment_selected = t1.concatenate_deployment_movies(missing_from_csv)"
   ]
  },
  {
   "cell_type": "code",
   "execution_count": null,
   "id": "e26645a2",
   "metadata": {},
   "outputs": [],
   "source": [
    "event_date = = t1.select_eventdate()"
   ]
  },
  {
   "cell_type": "code",
   "execution_count": null,
   "id": "bb0982c6",
   "metadata": {},
   "outputs": [],
   "source": [
    "db_initial_info"
   ]
  }
 ],
 "metadata": {
  "kernelspec": {
   "display_name": "Python 3 (ipykernel)",
   "language": "python",
   "name": "python3"
  },
  "language_info": {
   "codemirror_mode": {
    "name": "ipython",
    "version": 3
   },
   "file_extension": ".py",
   "mimetype": "text/x-python",
   "name": "python",
   "nbconvert_exporter": "python",
   "pygments_lexer": "ipython3",
   "version": "3.7.13"
  }
 },
 "nbformat": 4,
 "nbformat_minor": 5
}
