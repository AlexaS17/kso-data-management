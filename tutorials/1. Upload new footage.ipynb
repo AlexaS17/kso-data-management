{
 "cells": [
  {
   "cell_type": "markdown",
   "id": "95aea466",
   "metadata": {},
   "source": [
    "<img align=\"left\" src=\"https://panoptes-uploads.zooniverse.org/project_avatar/86c23ca7-bbaa-4e84-8d8a-876819551431.png\" type=\"image/png\" height=100 width=100>\n",
    "</img>\n",
    "\n",
    "\n",
    "<h1 align=\"right\">KSO Tutorials #1: Upload new footage</h1>\n",
    "<h3 align=\"right\">Written by @jannesgg and @vykanton</h3>\n",
    "<h5 align=\"right\">Last updated: Mar 15th, 2022</h5>"
   ]
  },
  {
   "cell_type": "markdown",
   "id": "6f0fc779",
   "metadata": {},
   "source": [
    "# Set up and requirements"
   ]
  },
  {
   "cell_type": "markdown",
   "id": "ed3d9d14",
   "metadata": {},
   "source": [
    "Import Python packages"
   ]
  },
  {
   "cell_type": "code",
   "execution_count": null,
   "id": "46ca201f",
   "metadata": {
    "scrolled": true
   },
   "outputs": [],
   "source": [
    "# Set the directory of the libraries\n",
    "import sys\n",
    "sys.path.append('..')\n",
    "\n",
    "# Set to display dataframes as interactive tables\n",
    "from itables import init_notebook_mode\n",
    "init_notebook_mode(all_interactive=True)\n",
    "\n",
    "# Import required modules\n",
    "import kso_utils.tutorials_utils as t_utils\n",
    "import kso_utils.t1_utils as t1\n",
    "import kso_utils.project_utils as p_utils\n",
    "#import utils.server_utils as serv_utils\n",
    "\n",
    "print(\"Packages loaded successfully\")"
   ]
  },
  {
   "cell_type": "markdown",
   "id": "77996901",
   "metadata": {},
   "source": [
    "### Choose your project"
   ]
  },
  {
   "cell_type": "code",
   "execution_count": null,
   "id": "eafe82e7",
   "metadata": {},
   "outputs": [],
   "source": [
    "project_name = t_utils.choose_project()"
   ]
  },
  {
   "cell_type": "code",
   "execution_count": null,
   "id": "28ed650d",
   "metadata": {},
   "outputs": [],
   "source": [
    "project = p_utils.find_project(project_name=project_name.value)"
   ]
  },
  {
   "cell_type": "markdown",
   "id": "46c3d19e",
   "metadata": {},
   "source": [
    "### Initiate sql and get server or local storage details"
   ]
  },
  {
   "cell_type": "code",
   "execution_count": null,
   "id": "33d744a9",
   "metadata": {},
   "outputs": [],
   "source": [
    "# Initiate db\n",
    "db_info_dict = t_utils.initiate_db(project)"
   ]
  },
  {
   "cell_type": "markdown",
   "id": "1a9ffb27",
   "metadata": {},
   "source": [
    "# Select the survey linked to the deployment"
   ]
  },
  {
   "cell_type": "code",
   "execution_count": null,
   "id": "a2d26b4f",
   "metadata": {},
   "outputs": [],
   "source": [
    "survey_i = t1.select_survey(db_info_dict)"
   ]
  },
  {
   "cell_type": "code",
   "execution_count": null,
   "id": "eeaf83b5",
   "metadata": {},
   "outputs": [],
   "source": [
    "survey_name = t1.confirm_survey(survey_i, db_info_dict)"
   ]
  },
  {
   "cell_type": "markdown",
   "id": "b597f250",
   "metadata": {},
   "source": [
    "## Select the deployment of interest"
   ]
  },
  {
   "cell_type": "code",
   "execution_count": null,
   "id": "372f03e6",
   "metadata": {},
   "outputs": [],
   "source": [
    "import os\n",
    "from ipyfilechooser import FileChooser\n",
    "from ipywidgets import interactive, Layout, Button, HBox \n",
    "\n",
    "import asyncio\n",
    "import kso_utils.movie_utils as movie_utils\n",
    "import kso_utils.server_utils as server_utils\n",
    "import pandas as pd\n",
    "import ipywidgets as widgets\n",
    "import numpy as np\n",
    "import subprocess\n",
    "import datetime\n",
    "import logging\n",
    "from tqdm import tqdm"
   ]
  },
  {
   "cell_type": "code",
   "execution_count": null,
   "id": "1f210b9b",
   "metadata": {},
   "outputs": [],
   "source": [
    "# Select site and date of the video\n",
    "def select_SiteID(db_initial_info):\n",
    "    \n",
    "    # Read csv as pd\n",
    "    sitesdf = pd.read_csv(db_initial_info[\"local_sites_csv\"])\n",
    "\n",
    "    # Existing sites\n",
    "    exisiting_sites = sitesdf.sort_values(\"SiteID\").SiteID.unique()\n",
    "    \n",
    "    site_widget = widgets.Dropdown(\n",
    "                options = exisiting_sites,\n",
    "                description = 'Site ID:',\n",
    "                disabled = False,\n",
    "                layout=Layout(width='50%'),\n",
    "                style = {'description_width': 'initial'}\n",
    "            )\n",
    "#     display(site_widget)\n",
    "\n",
    "    return site_widget\n",
    "\n",
    "\n",
    "def select_eventdate(default_date):\n",
    "    # Select the date \n",
    "    date_widget = widgets.DatePicker(\n",
    "        description='Deployment or event date:',\n",
    "        value = default_date,\n",
    "        disabled=False,\n",
    "        layout=Layout(width='50%'),\n",
    "        style = {'description_width': 'initial'}\n",
    "    )\n",
    "#     display(date_widget)\n",
    "    \n",
    "    return date_widget  "
   ]
  },
  {
   "cell_type": "code",
   "execution_count": null,
   "id": "d861a7a6",
   "metadata": {},
   "outputs": [],
   "source": [
    "def select_date_site(db_info_dict, survey_i):\n",
    "    \n",
    "    ###### Save the name of the survey\n",
    "    # Load the csv with with sites and survey choices\n",
    "    choices_df = pd.read_csv(db_info_dict[\"local_choices_csv\"])\n",
    "    \n",
    "    if isinstance(survey_i.result, dict):\n",
    "        # Save the responses as a new row for the survey csv file\n",
    "        new_survey_row_dict = {key: (value.value if hasattr(value, 'value') else value.result if isinstance(value.result, int) else value.result.value) for key, value in survey_i.result.items()}\n",
    "        new_survey_row = pd.DataFrame.from_records(new_survey_row_dict, index=[0])\n",
    "\n",
    "        # Save the year of the survey\n",
    "#         survey_year = new_survey_row[\"SurveyStartDate\"].values[0].strftime(\"%Y\")\n",
    "        survey_year = new_survey_row[\"SurveyStartDate\"].dt.year.values[0]\n",
    "        \n",
    "                \n",
    "    else:\n",
    "        # Read surveys csv\n",
    "        surveys_df = pd.read_csv(db_info_dict[\"local_surveys_csv\"],parse_dates=['SurveyStartDate'])\n",
    "        \n",
    "        # Return the name of the survey\n",
    "        survey_name = survey_i.result.value\n",
    "        \n",
    "        # Save the SurveyID that match the survey name\n",
    "        new_survey_row = surveys_df[surveys_df[\"SurveyName\"]==survey_name].reset_index(drop=True)\n",
    "                \n",
    "        # Save the year of the survey\n",
    "        survey_year = new_survey_row[\"SurveyStartDate\"].dt.year.values[0]\n",
    "                       \n",
    "        \n",
    "    # Get prepopulated fields for the survey\n",
    "    new_survey_row[[\"ShortFolder\"]] = choices_df[choices_df[\"MarineReserve\"]==new_survey_row.LinkToMarineReserve.values[0]][[\"ShortFolder\"]].values[0]\n",
    "\n",
    "    # Save the \"server filename\" of the survey \n",
    "    short_marine_reserve = new_survey_row[\"ShortFolder\"].values[0]\n",
    "\n",
    "    # Save the \"server filename\" of the survey \n",
    "    survey_server_name = short_marine_reserve + \"-buv-\" + str(survey_year) + \"/\"\n",
    "            \n",
    "    # Save the beginning of the survey\n",
    "    survey_start = pd.Timestamp(new_survey_row[\"SurveyStartDate\"].values[0]).to_pydatetime()\n",
    "        \n",
    "    # Retrieve deployments info from the survey of interest\n",
    "    deployments_server_name = db_info_dict[\"client\"].list_objects(Bucket=db_info_dict[\"bucket\"],\n",
    "                                                            Prefix=survey_server_name,\n",
    "                                                            Delimiter='/')\n",
    "\n",
    "    # Convert info to dataframe\n",
    "    deployments_server_name = pd.DataFrame.from_dict(deployments_server_name['CommonPrefixes'])\n",
    "                \n",
    "    # Define function to select folder with go-pro files\n",
    "    def deployment_exist(site, date):\n",
    "        # Save eventdate as str\n",
    "        date_str = date.strftime(\"%d_%m_%Y\")\n",
    "\n",
    "        # Specify the name of the deployment\n",
    "        deployment_date_site = site+\"_\"+date_str\n",
    "    \n",
    "        print(\"Looking for \", deployment_date_site)\n",
    "        print(deployments_server_name['Prefix'].to_list())\n",
    "        \n",
    "        # If deployment_date_site selected exists...\n",
    "        if deployment_date_site in deployments_server_name['Prefix'].to_list():\n",
    "            \n",
    "            # Widget to verify the video is correct\n",
    "            w1 = interactive(sel_subfolder,\n",
    "                             survey_folder = widgets.Dropdown(\n",
    "                                 options = deployments_server_name['Prefix'].to_list(),\n",
    "                                 description = 'Select the folder of the survey to process:',\n",
    "                                 disabled = False,\n",
    "                                 layout=Layout(width='90%'),\n",
    "                                 style = {'description_width': 'initial'}\n",
    "                             )\n",
    "                            )\n",
    "#             display(w1)\n",
    "\n",
    "            return w1\n",
    "            \n",
    "            \n",
    "        else:\n",
    "            print(deployment_date_site, \"is not in the server.\")\n",
    "            \n",
    "            # Widget to select the local folder of interest\n",
    "            fc = FileChooser('/')\n",
    "            fc.title = '<b>Select the local folder with the deployment videos</b>'\n",
    "            # Switch to folder-only mode\n",
    "            fc.show_only_dirs = True\n",
    "            display(fc)\n",
    "\n",
    "            return fc\n",
    "    \n",
    "    \n",
    "    # Display the options\n",
    "    w = interactive(deployment_exist,\n",
    "                    site = select_SiteID(db_info_dict),\n",
    "                    date = select_eventdate(survey_start),\n",
    "                   )\n",
    "\n",
    "#     display(w)\n",
    "\n",
    "    return w\n",
    "\n",
    "#datetime.date(2020,1,1)"
   ]
  },
  {
   "cell_type": "code",
   "execution_count": null,
   "id": "d407bfff",
   "metadata": {},
   "outputs": [],
   "source": [
    "select_date_site(db_info_dict, survey_i)"
   ]
  },
  {
   "cell_type": "markdown",
   "id": "f401dba3",
   "metadata": {},
   "source": [
    "# Select the folder with the go pro files of the deployment"
   ]
  },
  {
   "cell_type": "markdown",
   "id": "3c1e6fcb",
   "metadata": {},
   "source": [
    "Make sure you select the FOLDER not the files"
   ]
  },
  {
   "cell_type": "code",
   "execution_count": null,
   "id": "3706651c",
   "metadata": {},
   "outputs": [],
   "source": [
    "go_pro_folder = t1.select_go_pro_folder(db_info_dict)"
   ]
  },
  {
   "cell_type": "code",
   "execution_count": null,
   "id": "37708271",
   "metadata": {},
   "outputs": [],
   "source": [
    "go_pro_files = t1.select_go_pro_files(go_pro_folder, db_info_dict)"
   ]
  },
  {
   "cell_type": "markdown",
   "id": "3718f963",
   "metadata": {},
   "source": [
    "## Concatenate the go pro files"
   ]
  },
  {
   "cell_type": "code",
   "execution_count": null,
   "id": "c0a22c8c",
   "metadata": {},
   "outputs": [],
   "source": [
    "video_info_dict = t1.concatenate_go_pro_videos(db_info_dict,\n",
    "                                                SiteID_i.value,\n",
    "                                                EventDate_i.value,\n",
    "                                                go_pro_folder,\n",
    "                                                go_pro_files)"
   ]
  },
  {
   "cell_type": "markdown",
   "id": "5a9faf7c",
   "metadata": {},
   "source": [
    "## Specify deployment details"
   ]
  },
  {
   "cell_type": "code",
   "execution_count": null,
   "id": "14ca7029",
   "metadata": {
    "scrolled": true
   },
   "outputs": [],
   "source": [
    "deployment_info = t1.record_deployment_info(db_info_dict, video_info_dict)"
   ]
  },
  {
   "cell_type": "markdown",
   "id": "08a5b78d",
   "metadata": {},
   "source": [
    "## Review deployment  details"
   ]
  },
  {
   "cell_type": "code",
   "execution_count": null,
   "id": "463e7131",
   "metadata": {},
   "outputs": [],
   "source": [
    "new_deployment_row = t1.confirm_deployment_details(video_info_dict,\n",
    "                                                   db_info_dict,\n",
    "                                                   survey_i,\n",
    "                                                   deployment_info)"
   ]
  },
  {
   "cell_type": "markdown",
   "id": "098afca0",
   "metadata": {},
   "source": [
    "# !!!Only pass this point if deployment details are correct!!!"
   ]
  },
  {
   "cell_type": "markdown",
   "id": "21e2d0b9",
   "metadata": {},
   "source": [
    "### Update movies csv and upload video to s3"
   ]
  },
  {
   "cell_type": "code",
   "execution_count": null,
   "id": "549375bf",
   "metadata": {},
   "outputs": [],
   "source": [
    "t1.upload_concat_movie(db_info_dict, video_info_dict, new_deployment_row)"
   ]
  },
  {
   "cell_type": "code",
   "execution_count": null,
   "id": "a004889d",
   "metadata": {},
   "outputs": [],
   "source": [
    "#END"
   ]
  }
 ],
 "metadata": {
  "kernelspec": {
   "display_name": "Python 3 (ipykernel)",
   "language": "python",
   "name": "python3"
  },
  "language_info": {
   "codemirror_mode": {
    "name": "ipython",
    "version": 3
   },
   "file_extension": ".py",
   "mimetype": "text/x-python",
   "name": "python",
   "nbconvert_exporter": "python",
   "pygments_lexer": "ipython3",
   "version": "3.9.7"
  }
 },
 "nbformat": 4,
 "nbformat_minor": 5
}
