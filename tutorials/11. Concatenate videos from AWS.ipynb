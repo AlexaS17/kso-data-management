{
 "cells": [
  {
   "cell_type": "markdown",
   "id": "95aea466",
   "metadata": {},
   "source": [
    "<img align=\"left\" src=\"https://panoptes-uploads.zooniverse.org/project_avatar/86c23ca7-bbaa-4e84-8d8a-876819551431.png\" type=\"image/png\" height=100 width=100>\n",
    "</img>\n",
    "\n",
    "\n",
    "<h1 align=\"right\">KSO Tutorials #11: Concatenate files from AWS</h1>\n",
    "<h3 align=\"right\">Written by @jannesgg and @vykanton</h3>\n",
    "<h5 align=\"right\">Last updated: May 23rd, 2022</h5>"
   ]
  },
  {
   "cell_type": "markdown",
   "id": "6f0fc779",
   "metadata": {},
   "source": [
    "# Set up and requirements"
   ]
  },
  {
   "cell_type": "markdown",
   "id": "ed3d9d14",
   "metadata": {},
   "source": [
    "Import Python packages"
   ]
  },
  {
   "cell_type": "code",
   "execution_count": 1,
   "id": "46ca201f",
   "metadata": {},
   "outputs": [
    {
     "name": "stdout",
     "output_type": "stream",
     "text": [
      "Packages loaded successfully\n"
     ]
    }
   ],
   "source": [
    "%load_ext autoreload\n",
    "%autoreload 2\n",
    "\n",
    "# Set the directory of the libraries\n",
    "import sys\n",
    "sys.path.append('..')\n",
    "\n",
    "# Import required modules\n",
    "import kso_utils.tutorials_utils as t_utils\n",
    "import kso_utils.project_utils as p_utils\n",
    "import kso_utils.t11_utils as t11\n",
    "\n",
    "print(\"Packages loaded successfully\")"
   ]
  },
  {
   "cell_type": "markdown",
   "id": "fdc7152a",
   "metadata": {},
   "source": [
    "### Choose your project"
   ]
  },
  {
   "cell_type": "code",
   "execution_count": 2,
   "id": "1c1aabda",
   "metadata": {},
   "outputs": [
    {
     "data": {
      "application/vnd.jupyter.widget-view+json": {
       "model_id": "957d07c0d46a4dd28a37edca5e9284e9",
       "version_major": 2,
       "version_minor": 0
      },
      "text/plain": [
       "Dropdown(description='Project:', options=('Template project', 'Koster_Seafloor_Obs', 'Spyfish_Aotearoa', 'SGU'…"
      ]
     },
     "metadata": {},
     "output_type": "display_data"
    }
   ],
   "source": [
    "project_name = t_utils.choose_project()"
   ]
  },
  {
   "cell_type": "code",
   "execution_count": 3,
   "id": "642848db",
   "metadata": {},
   "outputs": [
    {
     "name": "stdout",
     "output_type": "stream",
     "text": [
      "Enter the key id for the aws server········\n",
      "Enter the secret access key for the aws server········\n"
     ]
    },
    {
     "name": "stderr",
     "output_type": "stream",
     "text": [
      "db_spyfish_csv\\sites_buv_doc.csv: 100%|██████████████████████████████████████████████| 145k/145k [00:00<00:00, 537kB/s]\n",
      "db_spyfish_csv\\movies_buv_doc.csv: 100%|███████████████████████████████████████████| 15.0k/15.0k [00:00<00:00, 113kB/s]\n",
      "db_spyfish_csv\\species_buv_doc.csv: 100%|█████████████████████████████████████████| 7.53k/7.53k [00:00<00:00, 58.3kB/s]\n",
      "db_spyfish_csv\\surveys_buv_doc.csv: 100%|█████████████████████████████████████████| 2.52k/2.52k [00:00<00:00, 18.3kB/s]\n",
      "db_spyfish_csv\\choices_buv.csv: 100%|█████████████████████████████████████████████| 3.58k/3.58k [00:00<00:00, 27.5kB/s]\n"
     ]
    },
    {
     "name": "stdout",
     "output_type": "stream",
     "text": [
      "Updated sites\n",
      "Updated movies\n",
      "Updated species\n"
     ]
    }
   ],
   "source": [
    "project = p_utils.find_project(project_name=project_name.value)\n",
    "db_info_dict = t_utils.initiate_db(project)"
   ]
  },
  {
   "cell_type": "markdown",
   "id": "7fdead85",
   "metadata": {},
   "source": [
    "# Merge go_pro files"
   ]
  },
  {
   "cell_type": "code",
   "execution_count": 7,
   "id": "21808e36",
   "metadata": {},
   "outputs": [
    {
     "name": "stdout",
     "output_type": "stream",
     "text": [
      "There are 0 movies missing\n",
      "There are 1508 movies missing from movies.csv\n"
     ]
    }
   ],
   "source": [
    "missing_from_server, missing_from_csv = t11.check_movies_from_server(db_info_dict, project)"
   ]
  },
  {
   "cell_type": "code",
   "execution_count": 12,
   "id": "93c07a90-5004-444b-b5b3-9e983d86c82b",
   "metadata": {},
   "outputs": [
    {
     "data": {
      "application/vnd.jupyter.widget-view+json": {
       "model_id": "b7b7e0b873b44fe194ca78b4f1099b92",
       "version_major": 2,
       "version_minor": 0
      },
      "text/plain": [
       "SelectMultiple(description='New deployment:', layout=Layout(width='80%'), options=('TeWhanganui-O-Hei-buv-2022…"
      ]
     },
     "metadata": {},
     "output_type": "display_data"
    }
   ],
   "source": [
    "deployment_selected = t11.select_deployment(missing_from_csv)"
   ]
  },
  {
   "cell_type": "code",
   "execution_count": 13,
   "id": "e26645a2",
   "metadata": {
    "scrolled": true
   },
   "outputs": [
    {
     "data": {
      "application/vnd.jupyter.widget-view+json": {
       "model_id": "97b9c662677c41b7a5c85b65f5dffc07",
       "version_major": 2,
       "version_minor": 0
      },
      "text/plain": [
       "DatePicker(value=datetime.date(2022, 5, 23), description='Date of deployment:', layout=Layout(width='50%'), st…"
      ]
     },
     "metadata": {},
     "output_type": "display_data"
    }
   ],
   "source": [
    "event_date = t11.select_eventdate()"
   ]
  },
  {
   "cell_type": "code",
   "execution_count": 14,
   "id": "bb0982c6",
   "metadata": {},
   "outputs": [],
   "source": [
    "t11.update_new_deployments(deployment_selected, db_info_dict, event_date)"
   ]
  },
  {
   "cell_type": "code",
   "execution_count": null,
   "id": "c0a0fd24",
   "metadata": {},
   "outputs": [],
   "source": [
    "#END"
   ]
  }
 ],
 "metadata": {
  "kernelspec": {
   "display_name": "Python 3 (ipykernel)",
   "language": "python",
   "name": "python3"
  },
  "language_info": {
   "codemirror_mode": {
    "name": "ipython",
    "version": 3
   },
   "file_extension": ".py",
   "mimetype": "text/x-python",
   "name": "python",
   "nbconvert_exporter": "python",
   "pygments_lexer": "ipython3",
   "version": "3.7.13"
  }
 },
 "nbformat": 4,
 "nbformat_minor": 5
}
