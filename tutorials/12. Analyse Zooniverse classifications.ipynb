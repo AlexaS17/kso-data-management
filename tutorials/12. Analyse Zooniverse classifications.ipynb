{
 "cells": [
  {
   "cell_type": "markdown",
   "id": "a49ece9a",
   "metadata": {},
   "source": [
    "<img align=\"left\" src=\"https://panoptes-uploads.zooniverse.org/project_avatar/86c23ca7-bbaa-4e84-8d8a-876819551431.png\" type=\"image/png\" height=100 width=100>\n",
    "</img>\n",
    "\n",
    "\n",
    "<h1 align=\"right\">KSO Tutorials #12: Analyse Zooniverse classifications</h1>\n",
    "<h3 align=\"right\">Written by @jannesgg and @vykanton</h3>\n",
    "<h5 align=\"right\">Last updated: Aug 24th, 2021</h5>"
   ]
  },
  {
   "cell_type": "markdown",
   "id": "dafbcdb0",
   "metadata": {},
   "source": [
    "### Step 0: Import Python packages and initiate koster database"
   ]
  },
  {
   "cell_type": "code",
   "execution_count": 4,
   "id": "c0c89208",
   "metadata": {},
   "outputs": [
    {
     "name": "stdout",
     "output_type": "stream",
     "text": [
      "Enter your Zooniverse user········\n",
      "Enter your Zooniverse password········\n",
      "Enter the number of the Zooniverse project········\n"
     ]
    }
   ],
   "source": [
    "# Save your user name, password and Zooniverse project number.\n",
    "import getpass\n",
    "zoo_user = getpass.getpass('Enter your Zooniverse user')\n",
    "zoo_pass = getpass.getpass('Enter your Zooniverse password')\n",
    "project_n = getpass.getpass('Enter the number of the Zooniverse project')"
   ]
  },
  {
   "cell_type": "code",
   "execution_count": 232,
   "id": "upset-utilization",
   "metadata": {},
   "outputs": [
    {
     "data": {
      "text/plain": [
       "<module 'utils.t12_utils' from '/Users/jurie.germishuys/Workspace/odf/koster-uw/database/koster_lab_development/utils/t12_utils.py'>"
      ]
     },
     "execution_count": 232,
     "metadata": {},
     "output_type": "execute_result"
    }
   ],
   "source": [
    "from imp import reload\n",
    "reload(t12)"
   ]
  },
  {
   "cell_type": "code",
   "execution_count": 5,
   "id": "65d28bcf",
   "metadata": {},
   "outputs": [
    {
     "name": "stdout",
     "output_type": "stream",
     "text": [
      "Updated sites\n",
      "Updated movies\n",
      "Updated species\n",
      "Retrieving information from subjects uploaded to Zooniverse\n",
      "Updated subjects\n"
     ]
    }
   ],
   "source": [
    "# Import required modules\n",
    "import sys\n",
    "sys.path.append('..')\n",
    "import utils.t12_utils as t12\n",
    "\n",
    "# Initiate the SQL database \n",
    "%run -i \"../db_starter/starter.py\" --user $zoo_user --passw $zoo_pass --project_n $project_n"
   ]
  },
  {
   "cell_type": "markdown",
   "id": "d8cf3fb4",
   "metadata": {},
   "source": [
    "### Step 1: Specify the Zooniverse workflow id and version of interest\n",
    "\n",
    "*Note:  A manual export in Zooniverse is required to get the most up-to-date classifications here**"
   ]
  },
  {
   "cell_type": "code",
   "execution_count": 287,
   "id": "7ed501f0",
   "metadata": {},
   "outputs": [
    {
     "data": {
      "application/vnd.jupyter.widget-view+json": {
       "model_id": "e9c0b66a5d56440d9261b4ccee6d76d0",
       "version_major": 2,
       "version_minor": 0
      },
      "text/plain": [
       "Dropdown(description='Workflow id:', options=(11767, 12538, 12852, 17719, 17864, 18319), value=11767)"
      ]
     },
     "metadata": {},
     "output_type": "display_data"
    },
    {
     "data": {
      "application/vnd.jupyter.widget-view+json": {
       "model_id": "565bfe0061d749aeb00b6a3b6d142a3e",
       "version_major": 2,
       "version_minor": 0
      },
      "text/plain": [
       "Dropdown(description='Workflow version:', options=(1.0, 2.0, 3.0, 4.0, 5.0, 6.0, 7.0, 8.0, 9.0, 10.0, 11.0, 12…"
      ]
     },
     "metadata": {},
     "output_type": "display_data"
    },
    {
     "data": {
      "application/vnd.jupyter.widget-view+json": {
       "model_id": "5abf7e0ec6cd42d0aa37c4078c4cbdd8",
       "version_major": 2,
       "version_minor": 0
      },
      "text/plain": [
       "Dropdown(description='Subject type:', index=1, options=('frame', 'clip'), value='clip')"
      ]
     },
     "metadata": {},
     "output_type": "display_data"
    }
   ],
   "source": [
    "# Display a selectable list of workflow ids with their names and a list of versions of the workflow of interest\n",
    "workflow_id, workflow_version, subj_type = t12.choose_workflows(zoo_user, zoo_pass, project_n)"
   ]
  },
  {
   "cell_type": "code",
   "execution_count": 331,
   "id": "sunrise-resistance",
   "metadata": {},
   "outputs": [
    {
     "name": "stdout",
     "output_type": "stream",
     "text": [
      "Retrieving classifications from Zooniverse\n",
      "Classifications retrieved from Zooniverse\n",
      "Subjects retrieved from Zooniverse\n",
      "Zooniverse classifications have been retrieved\n"
     ]
    }
   ],
   "source": [
    "# Retrieve classifications from the workflow of interest\n",
    "total_df, class_df = t12.get_classifications(workflow_id.value,\n",
    "                                             workflow_version.value, subj_type.value, zoo_user, zoo_pass, project_n)"
   ]
  },
  {
   "cell_type": "markdown",
   "id": "3e8dfb6e",
   "metadata": {},
   "source": [
    "### Step 2: Aggregate classifications received on the workflow of interest"
   ]
  },
  {
   "cell_type": "code",
   "execution_count": 299,
   "id": "42f4fbde",
   "metadata": {},
   "outputs": [
    {
     "data": {
      "application/vnd.jupyter.widget-view+json": {
       "model_id": "60f02a4b297d4cbdb802578f428a121d",
       "version_major": 2,
       "version_minor": 0
      },
      "text/plain": [
       "FloatSlider(value=0.8, continuous_update=False, description='Aggregation threshold:', max=1.0, readout_format=…"
      ]
     },
     "metadata": {},
     "output_type": "display_data"
    },
    {
     "data": {
      "application/vnd.jupyter.widget-view+json": {
       "model_id": "6969d6ef88874d5e8c8dd6c415b7d7ca",
       "version_major": 2,
       "version_minor": 0
      },
      "text/plain": [
       "IntSlider(value=3, continuous_update=False, description='Min numbers of users:', max=50, min=1, style=SliderSt…"
      ]
     },
     "metadata": {},
     "output_type": "display_data"
    }
   ],
   "source": [
    "# Specify the agreement threshold required among cit scientists\n",
    "import utils.t12_utils as t12\n",
    "agg_users, min_users = t12.choose_agg_parameters()"
   ]
  },
  {
   "cell_type": "code",
   "execution_count": 332,
   "id": "surprised-fireplace",
   "metadata": {},
   "outputs": [
    {
     "name": "stdout",
     "output_type": "stream",
     "text": [
      "Aggregrating the classifications\n"
     ]
    }
   ],
   "source": [
    "class_df1 = t12.aggregrate_classifications(class_df, subj_type.value, agg_users.value, min_users.value)"
   ]
  },
  {
   "cell_type": "markdown",
   "id": "0d120ad4",
   "metadata": {},
   "source": [
    "### Step 3: Summarise the number of classifications based on the agreement specified"
   ]
  },
  {
   "cell_type": "code",
   "execution_count": null,
   "id": "e9bb18ef",
   "metadata": {},
   "outputs": [],
   "source": []
  },
  {
   "cell_type": "markdown",
   "id": "9e6a6804",
   "metadata": {},
   "source": [
    "### Step 4: Use the subject explorer widget to get more information about specific subjects and their aggregated classifications"
   ]
  },
  {
   "cell_type": "code",
   "execution_count": 340,
   "id": "8c6ab27e",
   "metadata": {},
   "outputs": [
    {
     "data": {
      "application/vnd.jupyter.widget-view+json": {
       "model_id": "38637dc9e19a4fe7b88473b8eb11d322",
       "version_major": 2,
       "version_minor": 0
      },
      "text/plain": [
       "ToggleButtons(button_style='success', description='Subject type:', options=('Frames', 'Clips'), value='Frames'…"
      ]
     },
     "metadata": {},
     "output_type": "display_data"
    },
    {
     "data": {
      "application/vnd.jupyter.widget-view+json": {
       "model_id": "6e81131f0f3d4193a715d88e7a1bd570",
       "version_major": 2,
       "version_minor": 0
      },
      "text/plain": [
       "Output()"
      ]
     },
     "metadata": {},
     "output_type": "display_data"
    }
   ],
   "source": [
    "# Get all classified subjects from specified workflows\n",
    "subject_df = t12.process_clips(class_df) if subj_type.value == \"clip\" else t13.process_frames(class_df)\n",
    "\n",
    "t12.launch_viewer(total_df, subject_df)"
   ]
  },
  {
   "cell_type": "code",
   "execution_count": null,
   "id": "211ab0c3",
   "metadata": {},
   "outputs": [],
   "source": [
    "# END"
   ]
  }
 ],
 "metadata": {
  "kernelspec": {
   "display_name": "Python 3",
   "language": "python",
   "name": "python3"
  },
  "language_info": {
   "codemirror_mode": {
    "name": "ipython",
    "version": 3
   },
   "file_extension": ".py",
   "mimetype": "text/x-python",
   "name": "python",
   "nbconvert_exporter": "python",
   "pygments_lexer": "ipython3",
   "version": "3.8.8"
  }
 },
 "nbformat": 4,
 "nbformat_minor": 5
}
