{
 "cells": [
  {
   "cell_type": "markdown",
   "id": "a49ece9a",
   "metadata": {},
   "source": [
    "<img align=\"left\" src=\"https://panoptes-uploads.zooniverse.org/project_avatar/86c23ca7-bbaa-4e84-8d8a-876819551431.png\" type=\"image/png\" height=100 width=100>\n",
    "</img>\n",
    "\n",
    "\n",
    "<h1 align=\"right\">KSO Tutorials #12: Analyse Zooniverse classifications</h1>\n",
    "<h3 align=\"right\">Written by @jannesgg and @vykanton</h3>\n",
    "<h5 align=\"right\">Last updated: Aug 24th, 2021</h5>"
   ]
  },
  {
   "cell_type": "markdown",
   "id": "dafbcdb0",
   "metadata": {},
   "source": [
    "### Step 0: Import Python packages and initiate koster database"
   ]
  },
  {
   "cell_type": "code",
   "execution_count": 1,
   "id": "4e5b9560",
   "metadata": {},
   "outputs": [
    {
     "name": "stdout",
     "output_type": "stream",
     "text": [
      "Enter your Zooniverse user········\n",
      "Enter your Zooniverse password········\n",
      "Enter the number of the Zooniverse project········\n"
     ]
    }
   ],
   "source": [
    "# Save your user name, password and Zooniverse project number.\n",
    "import getpass\n",
    "zoo_user = getpass.getpass('Enter your Zooniverse user')\n",
    "zoo_pass = getpass.getpass('Enter your Zooniverse password')\n",
    "project_n = getpass.getpass('Enter the number of the Zooniverse project')"
   ]
  },
  {
   "cell_type": "code",
   "execution_count": 2,
   "id": "65d28bcf",
   "metadata": {
    "collapsed": true
   },
   "outputs": [
    {
     "name": "stderr",
     "output_type": "stream",
     "text": [
      "Broken libmagic installation detected. The python-magic module is installed but can't be imported. Please check that both python-magic and the libmagic shared library are installed correctly. Uploading media other than images may not work.\n"
     ]
    },
    {
     "name": "stdout",
     "output_type": "stream",
     "text": [
      "There is no initial folder with initial information about the sites, movies and species.\n",
      " Please enter the ID of a Google Drive zipped folder with the inital database information. \n",
      " For example, the ID of the template information is: 1PZGRoSY_UpyLfMhRphMUMwDXw4yx1_Fn\n",
      "ID of Google Drive zipped folder········\n",
      "Retrieving the file from  https://drive.google.com/uc?id=11XQIKdwX9wHrzOcrDlRrs9Oq5uA2o95k\n"
     ]
    },
    {
     "name": "stderr",
     "output_type": "stream",
     "text": [
      "Downloading...\n",
      "From: https://drive.google.com/uc?id=11XQIKdwX9wHrzOcrDlRrs9Oq5uA2o95k\n",
      "To: C:\\Users\\Victor\\koster_data_management\\tutorials\\db_csv_info.zip\n",
      "100%|██████████| 15.3k/15.3k [00:00<?, ?B/s]\n"
     ]
    },
    {
     "name": "stdout",
     "output_type": "stream",
     "text": [
      "Updated sites\n",
      "Updated movies\n",
      "Updated species\n",
      "Retrieving information from subjects uploaded to Zooniverse\n",
      "Updated subjects\n"
     ]
    }
   ],
   "source": [
    "# Import required modules\n",
    "import sys\n",
    "sys.path.append('..')\n",
    "import utils.t12_utils as t12\n",
    "\n",
    "# Initiate the SQL database \n",
    "%run -i \"../db_starter/starter.py\" --user $zoo_user --passw $zoo_pass --project_n $project_n"
   ]
  },
  {
   "cell_type": "markdown",
   "id": "d8cf3fb4",
   "metadata": {},
   "source": [
    "### Step 1: Specify the Zooniverse workflow id and version of interest\n",
    "\n",
    "*Note:  A manual export in Zooniverse is required to get the most up-to-date classifications here**"
   ]
  },
  {
   "cell_type": "code",
   "execution_count": 3,
   "id": "7ed501f0",
   "metadata": {},
   "outputs": [
    {
     "ename": "TypeError",
     "evalue": "auth_session() missing 1 required positional argument: 'project_n'",
     "output_type": "error",
     "traceback": [
      "\u001b[1;31m---------------------------------------------------------------------------\u001b[0m",
      "\u001b[1;31mTypeError\u001b[0m                                 Traceback (most recent call last)",
      "\u001b[1;32m~\\koster_data_management\\db_starter\\starter.py\u001b[0m in \u001b[0;36m<module>\u001b[1;34m\u001b[0m\n\u001b[0;32m      8\u001b[0m \u001b[1;33m\u001b[0m\u001b[0m\n\u001b[0;32m      9\u001b[0m \u001b[1;31m# Retrieve classifications from the workflow of interest\u001b[0m\u001b[1;33m\u001b[0m\u001b[1;33m\u001b[0m\u001b[1;33m\u001b[0m\u001b[0m\n\u001b[1;32m---> 10\u001b[1;33m \u001b[0mtotal_df\u001b[0m\u001b[1;33m,\u001b[0m \u001b[0mclass_df\u001b[0m \u001b[1;33m=\u001b[0m \u001b[0mt12\u001b[0m\u001b[1;33m.\u001b[0m\u001b[0mget_classifications\u001b[0m\u001b[1;33m(\u001b[0m\u001b[0mworkflow_id\u001b[0m\u001b[1;33m,\u001b[0m \u001b[0mworkflow_version\u001b[0m\u001b[1;33m,\u001b[0m \u001b[0msubj_type\u001b[0m\u001b[1;33m,\u001b[0m \u001b[0mzoo_user\u001b[0m\u001b[1;33m,\u001b[0m \u001b[0mzoo_pass\u001b[0m\u001b[1;33m)\u001b[0m\u001b[1;33m\u001b[0m\u001b[1;33m\u001b[0m\u001b[0m\n\u001b[0m",
      "\u001b[1;32m~\\koster_data_management\\utils\\t12_utils.py\u001b[0m in \u001b[0;36mget_classifications\u001b[1;34m(workflow_id, workflow_version, subj_type, user, passw)\u001b[0m\n\u001b[0;32m     33\u001b[0m \u001b[1;33m\u001b[0m\u001b[0m\n\u001b[0;32m     34\u001b[0m     \u001b[1;31m# Connect to the Zooniverse project\u001b[0m\u001b[1;33m\u001b[0m\u001b[1;33m\u001b[0m\u001b[1;33m\u001b[0m\u001b[0m\n\u001b[1;32m---> 35\u001b[1;33m     \u001b[0mproject\u001b[0m \u001b[1;33m=\u001b[0m \u001b[0mauth_session\u001b[0m\u001b[1;33m(\u001b[0m\u001b[0muser\u001b[0m\u001b[1;33m,\u001b[0m \u001b[0mpassw\u001b[0m\u001b[1;33m)\u001b[0m\u001b[1;33m\u001b[0m\u001b[1;33m\u001b[0m\u001b[0m\n\u001b[0m\u001b[0;32m     36\u001b[0m \u001b[1;33m\u001b[0m\u001b[0m\n\u001b[0;32m     37\u001b[0m     \u001b[1;31m# Get the classifications from the project\u001b[0m\u001b[1;33m\u001b[0m\u001b[1;33m\u001b[0m\u001b[1;33m\u001b[0m\u001b[0m\n",
      "\u001b[1;31mTypeError\u001b[0m: auth_session() missing 1 required positional argument: 'project_n'"
     ]
    }
   ],
   "source": [
    "# TODO Display a selectable list of workflow ids with their names and a list of versions of the workflow of interest\n",
    "#workflow_id, workflow_version, subj_type = t13.get_workflows(zoo_user, zoo_pass)\n",
    "    \n",
    "# Temporary example objects\n",
    "workflow_id = 17719\n",
    "workflow_version = 0.0\n",
    "subj_type = \"clip\"\n",
    "\n",
    "# Retrieve classifications from the workflow of interest\n",
    "total_df, class_df = t12.get_classifications(workflow_id, workflow_version, subj_type, zoo_user, zoo_pass)"
   ]
  },
  {
   "cell_type": "markdown",
   "id": "3e8dfb6e",
   "metadata": {},
   "source": [
    "### Step 2: Aggregate classifications received on the workflow of interest"
   ]
  },
  {
   "cell_type": "code",
   "execution_count": null,
   "id": "42f4fbde",
   "metadata": {},
   "outputs": [],
   "source": [
    "# TODO Display a selectable list of min number of users, agreement, \n",
    "#agg_user, min_users = t13.set_aggregation_parameters()\n",
    "\n",
    "# Specify the agreement threshold required among cit scientists\n",
    "agg_users = 0.8\n",
    "min_users = 3\n",
    "\n",
    "class_df1 = t12.aggregrate_classifications(class_df, subj_type, agg_users, min_users)"
   ]
  },
  {
   "cell_type": "code",
   "execution_count": null,
   "id": "4117cb94",
   "metadata": {},
   "outputs": [],
   "source": []
  },
  {
   "cell_type": "markdown",
   "id": "0d120ad4",
   "metadata": {},
   "source": [
    "### Step 3: Summarise the number of classifications based on the agreement specified"
   ]
  },
  {
   "cell_type": "code",
   "execution_count": null,
   "id": "e9bb18ef",
   "metadata": {},
   "outputs": [],
   "source": []
  },
  {
   "cell_type": "markdown",
   "id": "9e6a6804",
   "metadata": {},
   "source": [
    "### Step 4: Use the subject explorer widget to get more information about specific subjects and their aggregated classifications"
   ]
  },
  {
   "cell_type": "code",
   "execution_count": null,
   "id": "8c6ab27e",
   "metadata": {},
   "outputs": [],
   "source": [
    "# Get all classified subjects from specified workflows\n",
    "total_df, class_df = t13.get_exports(user, password)\n",
    "\n",
    "clips_df = t13.process_clips(total_df, class_df, clips_workflow_id, clips_workflow_version)\n",
    "frames_df = t13.process_frames(db_path, total_df, frames_workflow_id,\n",
    "                               frames_workflow_version, \n",
    "                               \"https://drive.google.com/file/d/1z72CqTtEBtqk6936H1YNrCjc5NRopF0g/view?usp=sharing\")\n",
    "\n",
    "t13.launch_viewer(total_df, clips_df, frames_df)"
   ]
  },
  {
   "cell_type": "code",
   "execution_count": null,
   "id": "211ab0c3",
   "metadata": {},
   "outputs": [],
   "source": [
    "# END"
   ]
  }
 ],
 "metadata": {
  "kernelspec": {
   "display_name": "Python 3",
   "language": "python",
   "name": "python3"
  },
  "language_info": {
   "codemirror_mode": {
    "name": "ipython",
    "version": 3
   },
   "file_extension": ".py",
   "mimetype": "text/x-python",
   "name": "python",
   "nbconvert_exporter": "python",
   "pygments_lexer": "ipython3",
   "version": "3.8.8"
  }
 },
 "nbformat": 4,
 "nbformat_minor": 5
}
