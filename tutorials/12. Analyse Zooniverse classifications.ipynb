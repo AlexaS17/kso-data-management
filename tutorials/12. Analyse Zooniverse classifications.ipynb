{
 "cells": [
  {
   "cell_type": "markdown",
   "id": "a49ece9a",
   "metadata": {},
   "source": [
    "<img align=\"left\" src=\"https://panoptes-uploads.zooniverse.org/project_avatar/86c23ca7-bbaa-4e84-8d8a-876819551431.png\" type=\"image/png\" height=100 width=100>\n",
    "</img>\n",
    "\n",
    "\n",
    "<h1 align=\"right\">KSO Tutorials #12: Analyse Zooniverse classifications</h1>\n",
    "<h3 align=\"right\">Written by @jannesgg and @vykanton</h3>\n",
    "<h5 align=\"right\">Last updated: Aug 24th, 2021</h5>"
   ]
  },
  {
   "cell_type": "markdown",
   "id": "dafbcdb0",
   "metadata": {},
   "source": [
    "### Step 0: Import Python packages and initiate koster database"
   ]
  },
  {
   "cell_type": "code",
   "execution_count": null,
   "id": "c0c89208",
   "metadata": {},
   "outputs": [],
   "source": [
    "# Save your user name, password and Zooniverse project number.\n",
    "import getpass\n",
    "zoo_user = getpass.getpass('Enter your Zooniverse user')\n",
    "zoo_pass = getpass.getpass('Enter your Zooniverse password')\n",
    "project_n = getpass.getpass('Enter the number of the Zooniverse project')"
   ]
  },
  {
   "cell_type": "code",
   "execution_count": null,
   "id": "65d28bcf",
   "metadata": {},
   "outputs": [],
   "source": [
    "# Import required modules\n",
    "import sys\n",
    "sys.path.append('..')\n",
    "import utils.t12_utils as t12\n",
    "\n",
    "# Initiate the SQL database \n",
    "%run -i \"../db_starter/starter.py\" --user $zoo_user --passw $zoo_pass --project_n $project_n"
   ]
  },
  {
   "cell_type": "markdown",
   "id": "d8cf3fb4",
   "metadata": {},
   "source": [
    "### Step 1: Specify the Zooniverse workflow id and version of interest\n",
    "\n",
    "*Note:  A manual export in Zooniverse is required to get the most up-to-date classifications here**"
   ]
  },
  {
   "cell_type": "code",
   "execution_count": null,
   "id": "7ed501f0",
   "metadata": {},
   "outputs": [],
   "source": [
    "# TODO Display a selectable list of workflow ids with their names and a list of versions of the workflow of interest\n",
    "#workflow_id, workflow_version, subj_type = t13.get_workflows(zoo_user, zoo_pass)\n",
    "    \n",
    "# Temporary example objects\n",
    "workflow_id = 17719\n",
    "workflow_version = 0.0\n",
    "subj_type = \"clip\"\n",
    "\n",
    "# Retrieve classifications from the workflow of interest\n",
    "total_df, class_df = t12.get_classifications(workflow_id, workflow_version, subj_type, zoo_user, zoo_pass, project_n)"
   ]
  },
  {
   "cell_type": "markdown",
   "id": "3e8dfb6e",
   "metadata": {},
   "source": [
    "### Step 2: Aggregate classifications received on the workflow of interest"
   ]
  },
  {
   "cell_type": "code",
   "execution_count": null,
   "id": "42f4fbde",
   "metadata": {},
   "outputs": [],
   "source": [
    "import utils.t12_utils as t12# TODO Display a selectable list of min number of users, agreement, \n",
    "#agg_user, min_users = t13.set_aggregation_parameters()\n",
    "\n",
    "# Specify the agreement threshold required among cit scientists\n",
    "agg_users = 0.8\n",
    "min_users = 3\n",
    "\n",
    "class_df1 = t12.aggregrate_classifications(class_df, subj_type, agg_users, min_users)"
   ]
  },
  {
   "cell_type": "code",
   "execution_count": null,
   "id": "4117cb94",
   "metadata": {},
   "outputs": [],
   "source": []
  },
  {
   "cell_type": "markdown",
   "id": "0d120ad4",
   "metadata": {},
   "source": [
    "### Step 3: Summarise the number of classifications based on the agreement specified"
   ]
  },
  {
   "cell_type": "code",
   "execution_count": null,
   "id": "e9bb18ef",
   "metadata": {},
   "outputs": [],
   "source": []
  },
  {
   "cell_type": "markdown",
   "id": "9e6a6804",
   "metadata": {},
   "source": [
    "### Step 4: Use the subject explorer widget to get more information about specific subjects and their aggregated classifications"
   ]
  },
  {
   "cell_type": "code",
   "execution_count": null,
   "id": "8c6ab27e",
   "metadata": {},
   "outputs": [],
   "source": [
    "# Get all classified subjects from specified workflows\n",
    "total_df, class_df = t13.get_exports(user, password)\n",
    "\n",
    "clips_df = t13.process_clips(total_df, class_df, clips_workflow_id, clips_workflow_version)\n",
    "frames_df = t13.process_frames(db_path, total_df, frames_workflow_id,\n",
    "                               frames_workflow_version, \n",
    "                               \"https://drive.google.com/file/d/1z72CqTtEBtqk6936H1YNrCjc5NRopF0g/view?usp=sharing\")\n",
    "\n",
    "t13.launch_viewer(total_df, clips_df, frames_df)"
   ]
  },
  {
   "cell_type": "code",
   "execution_count": null,
   "id": "211ab0c3",
   "metadata": {},
   "outputs": [],
   "source": [
    "# END"
   ]
  }
 ],
 "metadata": {
  "kernelspec": {
   "display_name": "Python 3",
   "language": "python",
   "name": "python3"
  },
  "language_info": {
   "codemirror_mode": {
    "name": "ipython",
    "version": 3
   },
   "file_extension": ".py",
   "mimetype": "text/x-python",
   "name": "python",
   "nbconvert_exporter": "python",
   "pygments_lexer": "ipython3",
   "version": "3.8.8"
  }
 },
 "nbformat": 4,
 "nbformat_minor": 5
}
