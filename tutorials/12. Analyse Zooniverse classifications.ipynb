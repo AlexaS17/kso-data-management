{
 "cells": [
  {
   "cell_type": "markdown",
   "id": "a49ece9a",
   "metadata": {},
   "source": [
    "<img align=\"left\" src=\"https://panoptes-uploads.zooniverse.org/project_avatar/86c23ca7-bbaa-4e84-8d8a-876819551431.png\" type=\"image/png\" height=100 width=100>\n",
    "</img>\n",
    "\n",
    "\n",
    "<h1 align=\"right\">KSO Tutorials #12: Analyse Zooniverse classifications</h1>\n",
    "<h3 align=\"right\">Written by @jannesgg and @vykanton</h3>\n",
    "<h5 align=\"right\">Last updated: Sept 15th, 2021</h5>"
   ]
  },
  {
   "cell_type": "markdown",
   "id": "dafbcdb0",
   "metadata": {},
   "source": [
    "# Set up and requirements"
   ]
  },
  {
   "cell_type": "markdown",
   "id": "53179501",
   "metadata": {},
   "source": [
    "### Import Python packages"
   ]
  },
  {
   "cell_type": "code",
   "execution_count": 1,
   "id": "c0c89208",
   "metadata": {},
   "outputs": [
    {
     "data": {
      "application/javascript": [
       "require.config({\n",
       "    paths: {\n",
       "        datatables: 'https://cdn.datatables.net/1.10.19/js/jquery.dataTables.min',\n",
       "    }\n",
       "});\n",
       "\n",
       "$('head').append('<link rel=\"stylesheet\" type=\"text/css\" \\\n",
       "                href = \"https://cdn.datatables.net/1.10.19/css/jquery.dataTables.min.css\" > ');\n",
       "\n",
       "$('head').append('<style> table td { text-overflow: ellipsis; overflow: hidden; } </style>');\n",
       "\n",
       "$('head').append(`<script>\n",
       "function eval_functions(map_or_text) {\n",
       "    if (typeof map_or_text === \"string\") {\n",
       "        if (map_or_text.startsWith(\"function\")) {\n",
       "            try {\n",
       "                // Note: parenthesis are required around the whole expression for eval to return a value!\n",
       "                // See https://stackoverflow.com/a/7399078/911298.\n",
       "                //\n",
       "                // eval(\"local_fun = \" + map_or_text) would fail because local_fun is not declared\n",
       "                // (using var, let or const would work, but it would only be declared in the local scope\n",
       "                // and therefore the value could not be retrieved).\n",
       "                const func = eval(\"(\" + map_or_text + \")\");\n",
       "                if (typeof func !== \"function\") {\n",
       "                    // Note: backquotes are super convenient!\n",
       "                    // https://developer.mozilla.org/en-US/docs/Web/JavaScript/Reference/Template_literals\n",
       "                    console.error(\"Evaluated expression \" + map_or_text + \" is not a function (type is \" + typeof func + \")\");\n",
       "                    return map_or_text;\n",
       "                }\n",
       "                // Return the function\n",
       "                return func;\n",
       "            } catch (e) {\n",
       "                // Make sure to print the error with a second argument to console.error().\n",
       "                console.error(\"itables was not able to parse \" + map_or_text, e);\n",
       "            }\n",
       "        }\n",
       "    } else if (typeof map_or_text === \"object\") {\n",
       "        if (map_or_text instanceof Array) {\n",
       "            // Note: \"var\" is now superseded by \"let\" and \"const\".\n",
       "            // https://medium.com/javascript-scene/javascript-es6-var-let-or-const-ba58b8dcde75\n",
       "            const result = [];\n",
       "            // Note: \"for of\" is the best way to iterate through an iterable.\n",
       "            // https://developer.mozilla.org/en-US/docs/Web/JavaScript/Reference/Statements/for...of\n",
       "            for (const item of map_or_text) {\n",
       "                result.push(eval_functions(item));\n",
       "            }\n",
       "            return result;\n",
       "\n",
       "            // Alternatively, more functional approach in one line:\n",
       "            // return map_or_text.map(eval_functions);\n",
       "        } else {\n",
       "            const result = {};\n",
       "            // Object.keys() is safer than \"for in\" because otherwise you might have keys\n",
       "            // that aren't defined in the object itself.\n",
       "            //\n",
       "            // See https://stackoverflow.com/a/684692/911298.\n",
       "            for (const item of Object.keys(map_or_text)) {\n",
       "                result[item] = eval_functions(map_or_text[item]);\n",
       "            }\n",
       "            return result;\n",
       "        }\n",
       "    }\n",
       "\n",
       "    return map_or_text;\n",
       "}\n",
       "\n",
       "</` + 'script>');"
      ],
      "text/plain": [
       "<IPython.core.display.Javascript object>"
      ]
     },
     "metadata": {},
     "output_type": "display_data"
    },
    {
     "name": "stderr",
     "output_type": "stream",
     "text": [
      "WARNING:panoptes_client:Broken libmagic installation detected. The python-magic module is installed but can't be imported. Please check that both python-magic and the libmagic shared library are installed correctly. Uploading media other than images may not work.\n"
     ]
    },
    {
     "name": "stdout",
     "output_type": "stream",
     "text": [
      "Packages loaded successfully\n"
     ]
    }
   ],
   "source": [
    "# Set the directory of the libraries\n",
    "import sys\n",
    "sys.path.append('..')\n",
    "\n",
    "# Set to display dataframes as interactive tables\n",
    "from itables import init_notebook_mode\n",
    "init_notebook_mode(all_interactive=True)\n",
    "\n",
    "# Import required modules\n",
    "import utils.t12_utils as t12\n",
    "from utils.zooniverse_utils import retrieve_zoo_info, populate_subjects, populate_annotations\n",
    "import getpass\n",
    "\n",
    "print(\"Packages loaded successfully\")"
   ]
  },
  {
   "cell_type": "markdown",
   "id": "d61ea944",
   "metadata": {},
   "source": [
    "### Initiate SQL database and populate sites, movies and species"
   ]
  },
  {
   "cell_type": "code",
   "execution_count": 2,
   "id": "65d28bcf",
   "metadata": {},
   "outputs": [
    {
     "name": "stdout",
     "output_type": "stream",
     "text": [
      "There is no folder with initial information about the sites, movies and species.\n",
      " Please enter the ID of a Google Drive zipped folder with the inital database information. \n",
      " For example, the ID of the template information is: 1PZGRoSY_UpyLfMhRphMUMwDXw4yx1_Fn\n",
      "ID of Google Drive zipped folder········\n",
      "Retrieving the file from  https://drive.google.com/uc?id=11XQIKdwX9wHrzOcrDlRrs9Oq5uA2o95k\n"
     ]
    },
    {
     "name": "stderr",
     "output_type": "stream",
     "text": [
      "Downloading...\n",
      "From: https://drive.google.com/uc?id=11XQIKdwX9wHrzOcrDlRrs9Oq5uA2o95k\n",
      "To: C:\\Users\\Victor\\koster_data_management\\tutorials\\db_csv_info.zip\n",
      "100%|██████████| 15.0k/15.0k [00:00<00:00, 3.27MB/s]\n"
     ]
    },
    {
     "name": "stdout",
     "output_type": "stream",
     "text": [
      "Updated sites\n",
      "Updated movies\n",
      "Updated species\n"
     ]
    }
   ],
   "source": [
    "# Specify the path of the movies \n",
    "movies_path = \"/uploads\"\n",
    "\n",
    "# Specify the path of the sql database\n",
    "db_path = \"koster_lab.db\"\n",
    "\n",
    "# Initiate the SQL database \n",
    "%run -i \"../db_starter/starter.py\" --movies_path $movies_path --db_path $db_path"
   ]
  },
  {
   "cell_type": "markdown",
   "id": "6e6959d5",
   "metadata": {},
   "source": [
    "### Retrieve Zooniverse information"
   ]
  },
  {
   "cell_type": "code",
   "execution_count": 3,
   "id": "6c3d0820",
   "metadata": {},
   "outputs": [
    {
     "name": "stdout",
     "output_type": "stream",
     "text": [
      "Enter your Zooniverse user········\n",
      "Enter your Zooniverse password········\n",
      "Enter the number of the Zooniverse project········\n"
     ]
    }
   ],
   "source": [
    "# Save your user name, password and Zooniverse project number.\n",
    "zoo_user = getpass.getpass('Enter your Zooniverse user')\n",
    "zoo_pass = getpass.getpass('Enter your Zooniverse password')\n",
    "project_n = getpass.getpass('Enter the number of the Zooniverse project')"
   ]
  },
  {
   "cell_type": "code",
   "execution_count": 4,
   "id": "b00b0347",
   "metadata": {},
   "outputs": [
    {
     "name": "stdout",
     "output_type": "stream",
     "text": [
      "Connecting to the Zooniverse project\n",
      "Retrieving subjects from Zooniverse\n",
      "subjects were retrieved successfully\n",
      "Retrieving workflows from Zooniverse\n",
      "workflows were retrieved successfully\n",
      "Retrieving classifications from Zooniverse\n",
      "classifications were retrieved successfully\n"
     ]
    }
   ],
   "source": [
    "# Specify the Zooniverse information required throughout the tutorial\n",
    "zoo_info = [\"subjects\", \"workflows\", \"classifications\"]\n",
    "\n",
    "# Retrieve and store the Zooniverse information required throughout the tutorial in a dictionary\n",
    "zoo_info_dict = retrieve_zoo_info(zoo_user, zoo_pass, project_n, zoo_info)"
   ]
  },
  {
   "cell_type": "code",
   "execution_count": 5,
   "id": "0f2223ff",
   "metadata": {},
   "outputs": [
    {
     "name": "stdout",
     "output_type": "stream",
     "text": [
      "Updated subjects\n",
      "The database has a total of 2342 frame subjects and 7362 clip subjects have been updated\n"
     ]
    }
   ],
   "source": [
    "# Populate the sql with subjects already uploaded to Zooniverse\n",
    "subjects = populate_subjects(zoo_info_dict[\"subjects\"], project_n, db_path)"
   ]
  },
  {
   "cell_type": "markdown",
   "id": "d8cf3fb4",
   "metadata": {},
   "source": [
    "### Step 1: Specify the Zooniverse workflow id and version of interest\n",
    "\n",
    "*Note:  A manual export in Zooniverse is required to get the most up-to-date classifications here**\n",
    "\n",
    "Make sure your workflows in Zooniverse have different names to avoid issues while selecting the workflow id"
   ]
  },
  {
   "cell_type": "code",
   "execution_count": 6,
   "id": "7ed501f0",
   "metadata": {},
   "outputs": [
    {
     "data": {
      "application/vnd.jupyter.widget-view+json": {
       "model_id": "1c2955d50a204bdfab3cd95229d5b190",
       "version_major": 2,
       "version_minor": 0
      },
      "text/plain": [
       "Dropdown(description='Workflow name:', options=('Species identification', 'test ', 'Species location (intermed…"
      ]
     },
     "metadata": {},
     "output_type": "display_data"
    },
    {
     "data": {
      "application/vnd.jupyter.widget-view+json": {
       "model_id": "84aacce72df646719d607d6f3c4c9e2e",
       "version_major": 2,
       "version_minor": 0
      },
      "text/plain": [
       "Dropdown(description='Minimum workflow version:', options=(1.0, 2.0, 3.0, 4.0, 5.0, 6.0, 7.0, 8.0, 9.0, 10.0, …"
      ]
     },
     "metadata": {},
     "output_type": "display_data"
    },
    {
     "data": {
      "application/vnd.jupyter.widget-view+json": {
       "model_id": "9c3f918e4a96416686fc149e3549e00b",
       "version_major": 2,
       "version_minor": 0
      },
      "text/plain": [
       "Dropdown(description='Subject type:', index=1, options=('frame', 'clip'), value='clip')"
      ]
     },
     "metadata": {},
     "output_type": "display_data"
    }
   ],
   "source": [
    "# Display a selectable list of workflow names and a list of versions of the workflow of interest\n",
    "workflows_df = zoo_info_dict[\"workflows\"]\n",
    "workflow_name, workflow_version, subj_type = t12.choose_workflows(workflows_df)"
   ]
  },
  {
   "cell_type": "code",
   "execution_count": 7,
   "id": "sunrise-resistance",
   "metadata": {},
   "outputs": [
    {
     "name": "stdout",
     "output_type": "stream",
     "text": [
      "Zooniverse classifications have been retrieved\n"
     ]
    }
   ],
   "source": [
    "# Selects the workflow id based on the workflow name\n",
    "workflow_id = workflows_df[workflows_df.display_name==workflow_name.value].workflow_id.unique()[0]\n",
    "\n",
    "# Retrieve classifications from the workflow of interest\n",
    "total_df, class_df = t12.get_classifications(workflow_id,\n",
    "                                             workflow_version.value, \n",
    "                                             subj_type.value, \n",
    "                                             zoo_info_dict[\"classifications\"], \n",
    "                                             zoo_info_dict[\"subjects\"])"
   ]
  },
  {
   "cell_type": "markdown",
   "id": "3e8dfb6e",
   "metadata": {},
   "source": [
    "### Step 2: Aggregate classifications received on the workflow of interest"
   ]
  },
  {
   "cell_type": "code",
   "execution_count": 8,
   "id": "42f4fbde",
   "metadata": {},
   "outputs": [
    {
     "data": {
      "application/vnd.jupyter.widget-view+json": {
       "model_id": "48c88376e73e405f9666622bd02b9dcc",
       "version_major": 2,
       "version_minor": 0
      },
      "text/plain": [
       "FloatSlider(value=0.8, continuous_update=False, description='Aggregation threshold:', max=1.0, readout_format=…"
      ]
     },
     "metadata": {},
     "output_type": "display_data"
    },
    {
     "data": {
      "application/vnd.jupyter.widget-view+json": {
       "model_id": "950aeaa110f9438598afd8e50683bd84",
       "version_major": 2,
       "version_minor": 0
      },
      "text/plain": [
       "IntSlider(value=3, continuous_update=False, description='Min numbers of users:', max=20, min=1, style=SliderSt…"
      ]
     },
     "metadata": {},
     "output_type": "display_data"
    },
    {
     "data": {
      "application/vnd.jupyter.widget-view+json": {
       "model_id": "b09df07eaae8489ca8bcdf5e2a28bcd1",
       "version_major": 2,
       "version_minor": 0
      },
      "text/plain": [
       "FloatSlider(value=0.8, continuous_update=False, description='Object threshold:', max=1.0, readout_format='.1f'…"
      ]
     },
     "metadata": {},
     "output_type": "display_data"
    },
    {
     "data": {
      "application/vnd.jupyter.widget-view+json": {
       "model_id": "fb08b147167540ebbb63cdc3b8a8b1a4",
       "version_major": 2,
       "version_minor": 0
      },
      "text/plain": [
       "FloatSlider(value=0.5, continuous_update=False, description='IOU Epsilon:', max=1.0, readout_format='.1f', sty…"
      ]
     },
     "metadata": {},
     "output_type": "display_data"
    },
    {
     "data": {
      "application/vnd.jupyter.widget-view+json": {
       "model_id": "1a1dae4dd5cd42f3911477b81cda54ed",
       "version_major": 2,
       "version_minor": 0
      },
      "text/plain": [
       "FloatSlider(value=0.8, continuous_update=False, description='Inter user agreement:', max=1.0, readout_format='…"
      ]
     },
     "metadata": {},
     "output_type": "display_data"
    }
   ],
   "source": [
    "# Specify the agreement threshold required among cit scientists\n",
    "agg_params = t12.choose_agg_parameters(subj_type.value)"
   ]
  },
  {
   "cell_type": "code",
   "execution_count": 10,
   "id": "surprised-fireplace",
   "metadata": {
    "scrolled": true
   },
   "outputs": [
    {
     "name": "stdout",
     "output_type": "stream",
     "text": [
      "Aggregrating the classifications\n"
     ]
    },
    {
     "ename": "AttributeError",
     "evalue": "'DataFrame' object has no attribute 'start_frame'",
     "output_type": "error",
     "traceback": [
      "\u001b[1;31m---------------------------------------------------------------------------\u001b[0m",
      "\u001b[1;31mAttributeError\u001b[0m                            Traceback (most recent call last)",
      "\u001b[1;32m~\\koster_data_management\\db_starter\\starter.py\u001b[0m in \u001b[0;36m<module>\u001b[1;34m\u001b[0m\n\u001b[1;32m----> 1\u001b[1;33m \u001b[0magg_class_df\u001b[0m \u001b[1;33m=\u001b[0m \u001b[0mt12\u001b[0m\u001b[1;33m.\u001b[0m\u001b[0maggregrate_classifications\u001b[0m\u001b[1;33m(\u001b[0m\u001b[0mclass_df\u001b[0m\u001b[1;33m,\u001b[0m \u001b[0msubj_type\u001b[0m\u001b[1;33m.\u001b[0m\u001b[0mvalue\u001b[0m\u001b[1;33m,\u001b[0m \u001b[0msubjects\u001b[0m\u001b[1;33m,\u001b[0m \u001b[0magg_params\u001b[0m\u001b[1;33m)\u001b[0m\u001b[1;33m\u001b[0m\u001b[1;33m\u001b[0m\u001b[0m\n\u001b[0m",
      "\u001b[1;32m~\\koster_data_management\\utils\\t12_utils.py\u001b[0m in \u001b[0;36maggregrate_classifications\u001b[1;34m(df, subj_type, subjects, agg_params)\u001b[0m\n\u001b[0;32m    245\u001b[0m                 \u001b[1;33m(\u001b[0m\u001b[0magg_class_df\u001b[0m\u001b[1;33m.\u001b[0m\u001b[0mmovie_id\u001b[0m \u001b[1;33m==\u001b[0m \u001b[0mmovie_id\u001b[0m\u001b[1;33m)\u001b[0m\u001b[1;33m\u001b[0m\u001b[1;33m\u001b[0m\u001b[0m\n\u001b[0;32m    246\u001b[0m                 \u001b[1;33m&\u001b[0m \u001b[1;33m(\u001b[0m\u001b[0magg_class_df\u001b[0m\u001b[1;33m.\u001b[0m\u001b[0mlabel\u001b[0m \u001b[1;33m==\u001b[0m \u001b[0mlabel\u001b[0m\u001b[1;33m)\u001b[0m\u001b[1;33m\u001b[0m\u001b[1;33m\u001b[0m\u001b[0m\n\u001b[1;32m--> 247\u001b[1;33m                 \u001b[1;33m&\u001b[0m \u001b[1;33m(\u001b[0m\u001b[0magg_class_df\u001b[0m\u001b[1;33m.\u001b[0m\u001b[0mstart_frame\u001b[0m \u001b[1;33m==\u001b[0m \u001b[0mstart_frame\u001b[0m\u001b[1;33m)\u001b[0m\u001b[1;33m\u001b[0m\u001b[1;33m\u001b[0m\u001b[0m\n\u001b[0m\u001b[0;32m    248\u001b[0m             ][\"user_name\"].nunique()\n\u001b[0;32m    249\u001b[0m \u001b[1;33m\u001b[0m\u001b[0m\n",
      "\u001b[1;32m~\\anaconda3\\lib\\site-packages\\pandas\\core\\generic.py\u001b[0m in \u001b[0;36m__getattr__\u001b[1;34m(self, name)\u001b[0m\n\u001b[0;32m   5463\u001b[0m             \u001b[1;32mif\u001b[0m \u001b[0mself\u001b[0m\u001b[1;33m.\u001b[0m\u001b[0m_info_axis\u001b[0m\u001b[1;33m.\u001b[0m\u001b[0m_can_hold_identifiers_and_holds_name\u001b[0m\u001b[1;33m(\u001b[0m\u001b[0mname\u001b[0m\u001b[1;33m)\u001b[0m\u001b[1;33m:\u001b[0m\u001b[1;33m\u001b[0m\u001b[1;33m\u001b[0m\u001b[0m\n\u001b[0;32m   5464\u001b[0m                 \u001b[1;32mreturn\u001b[0m \u001b[0mself\u001b[0m\u001b[1;33m[\u001b[0m\u001b[0mname\u001b[0m\u001b[1;33m]\u001b[0m\u001b[1;33m\u001b[0m\u001b[1;33m\u001b[0m\u001b[0m\n\u001b[1;32m-> 5465\u001b[1;33m             \u001b[1;32mreturn\u001b[0m \u001b[0mobject\u001b[0m\u001b[1;33m.\u001b[0m\u001b[0m__getattribute__\u001b[0m\u001b[1;33m(\u001b[0m\u001b[0mself\u001b[0m\u001b[1;33m,\u001b[0m \u001b[0mname\u001b[0m\u001b[1;33m)\u001b[0m\u001b[1;33m\u001b[0m\u001b[1;33m\u001b[0m\u001b[0m\n\u001b[0m\u001b[0;32m   5466\u001b[0m \u001b[1;33m\u001b[0m\u001b[0m\n\u001b[0;32m   5467\u001b[0m     \u001b[1;32mdef\u001b[0m \u001b[0m__setattr__\u001b[0m\u001b[1;33m(\u001b[0m\u001b[0mself\u001b[0m\u001b[1;33m,\u001b[0m \u001b[0mname\u001b[0m\u001b[1;33m:\u001b[0m \u001b[0mstr\u001b[0m\u001b[1;33m,\u001b[0m \u001b[0mvalue\u001b[0m\u001b[1;33m)\u001b[0m \u001b[1;33m->\u001b[0m \u001b[1;32mNone\u001b[0m\u001b[1;33m:\u001b[0m\u001b[1;33m\u001b[0m\u001b[1;33m\u001b[0m\u001b[0m\n",
      "\u001b[1;31mAttributeError\u001b[0m: 'DataFrame' object has no attribute 'start_frame'"
     ]
    }
   ],
   "source": [
    "agg_class_df = t12.aggregrate_classifications(class_df, subj_type.value, subjects, agg_params)"
   ]
  },
  {
   "cell_type": "code",
   "execution_count": null,
   "id": "portable-october",
   "metadata": {},
   "outputs": [],
   "source": [
    "# Populate the sql with subjects already uploaded to Zooniverse\n",
    "populate_annotations(subjects, agg_class_df, db_path)"
   ]
  },
  {
   "cell_type": "markdown",
   "id": "0d120ad4",
   "metadata": {},
   "source": [
    "### Step 3: Summarise the number of classifications based on the agreement specified"
   ]
  },
  {
   "cell_type": "code",
   "execution_count": null,
   "id": "greek-location",
   "metadata": {},
   "outputs": [],
   "source": [
    "agg_class_df.groupby(\"label\")[\"subject_id\"].agg(\"count\")"
   ]
  },
  {
   "cell_type": "markdown",
   "id": "763f1f91",
   "metadata": {},
   "source": [
    "### Step 4: Display the aggregated classifications in a table"
   ]
  },
  {
   "cell_type": "code",
   "execution_count": null,
   "id": "0d27eed6",
   "metadata": {},
   "outputs": [],
   "source": [
    "# Display the dataframe into a table\n",
    "agg_class_df"
   ]
  },
  {
   "cell_type": "markdown",
   "id": "9e6a6804",
   "metadata": {},
   "source": [
    "### Step 5: Use the subject explorer widget to get more information about specific subjects and their classifications"
   ]
  },
  {
   "cell_type": "code",
   "execution_count": null,
   "id": "8c6ab27e",
   "metadata": {},
   "outputs": [],
   "source": [
    "# Get all classified subjects from specified workflows\n",
    "subject_df = t12.process_clips(class_df) if subj_type.value == \"clip\" else t12.process_frames(class_df)\n",
    "\n",
    "t12.launch_viewer(total_df, subject_df)"
   ]
  },
  {
   "cell_type": "code",
   "execution_count": null,
   "id": "211ab0c3",
   "metadata": {},
   "outputs": [],
   "source": [
    "# END"
   ]
  }
 ],
 "metadata": {
  "kernelspec": {
   "display_name": "Python 3",
   "language": "python",
   "name": "python3"
  },
  "language_info": {
   "codemirror_mode": {
    "name": "ipython",
    "version": 3
   },
   "file_extension": ".py",
   "mimetype": "text/x-python",
   "name": "python",
   "nbconvert_exporter": "python",
   "pygments_lexer": "ipython3",
   "version": "3.8.8"
  }
 },
 "nbformat": 4,
 "nbformat_minor": 5
}
