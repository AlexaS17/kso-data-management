{
 "cells": [
  {
   "cell_type": "markdown",
   "id": "a49ece9a",
   "metadata": {},
   "source": [
    "<img align=\"left\" src=\"https://panoptes-uploads.zooniverse.org/project_avatar/86c23ca7-bbaa-4e84-8d8a-876819551431.png\" type=\"image/png\" height=100 width=100>\n",
    "</img>\n",
    "\n",
    "\n",
    "<h1 align=\"right\">KSO Tutorials #12: Analyse Zooniverse classifications</h1>\n",
    "<h3 align=\"right\">Written by @jannesgg and @vykanton</h3>\n",
    "<h5 align=\"right\">Last updated: Sept 29th, 2021</h5>"
   ]
  },
  {
   "cell_type": "markdown",
   "id": "dafbcdb0",
   "metadata": {},
   "source": [
    "# Set up and requirements"
   ]
  },
  {
   "cell_type": "markdown",
   "id": "53179501",
   "metadata": {},
   "source": [
    "### Import Python packages"
   ]
  },
  {
   "cell_type": "code",
   "execution_count": null,
   "id": "c0c89208",
   "metadata": {},
   "outputs": [],
   "source": [
    "# Set the directory of the libraries\n",
    "import sys\n",
    "sys.path.append('..')\n",
    "\n",
    "# Set to display dataframes as interactive tables\n",
    "from itables import init_notebook_mode\n",
    "init_notebook_mode(all_interactive=True)\n",
    "\n",
    "# Import required modules\n",
    "import utils.tutorials_utils as t_utils\n",
    "import utils.t12_utils as t12\n",
    "import utils.zooniverse_utils as zoo\n",
    "\n",
    "print(\"Packages loaded successfully\")"
   ]
  },
  {
   "cell_type": "markdown",
   "id": "117139c9",
   "metadata": {},
   "source": [
    "### Choose your project"
   ]
  },
  {
   "cell_type": "code",
   "execution_count": null,
   "id": "a29b26cc",
   "metadata": {},
   "outputs": [],
   "source": [
    "project = t_utils.choose_project()"
   ]
  },
  {
   "cell_type": "markdown",
   "id": "d61ea944",
   "metadata": {},
   "source": [
    "### Initiate SQL database and populate sites, movies and species"
   ]
  },
  {
   "cell_type": "code",
   "execution_count": null,
   "id": "65d28bcf",
   "metadata": {},
   "outputs": [],
   "source": [
    "# Specify the path of the movies \n",
    "movies_path = \"/uploads\"\n",
    "\n",
    "# Specify the path of the sql database\n",
    "db_path = \"koster_lab.db\"\n",
    "\n",
    "# Initiate the SQL database \n",
    "%run -i \"../db_starter/starter.py\" --movies_path $movies_path --db_path $db_path --project_name project.value"
   ]
  },
  {
   "cell_type": "markdown",
   "id": "6e6959d5",
   "metadata": {},
   "source": [
    "### Retrieve Zooniverse information"
   ]
  },
  {
   "cell_type": "code",
   "execution_count": null,
   "id": "6c3d0820",
   "metadata": {},
   "outputs": [],
   "source": [
    "# Save your Zooniverse user name and password.\n",
    "zoo_user, zoo_pass = zoo.zoo_credentials()"
   ]
  },
  {
   "cell_type": "code",
   "execution_count": null,
   "id": "b00b0347",
   "metadata": {},
   "outputs": [],
   "source": [
    "# Specify the Zooniverse information required throughout the tutorial\n",
    "zoo_info = [\"subjects\", \"workflows\", \"classifications\"]\n",
    "\n",
    "# Retrieve and store the Zooniverse information required throughout the tutorial in a dictionary\n",
    "project_n, zoo_info_dict = zoo.retrieve_zoo_info(zoo_user, zoo_pass, project.value, zoo_info)"
   ]
  },
  {
   "cell_type": "code",
   "execution_count": null,
   "id": "0f2223ff",
   "metadata": {},
   "outputs": [],
   "source": [
    "# Populate the sql with subjects uploaded to Zooniverse\n",
    "zoo.populate_subjects(zoo_info_dict[\"subjects\"], project.value, db_path)"
   ]
  },
  {
   "cell_type": "markdown",
   "id": "d8cf3fb4",
   "metadata": {},
   "source": [
    "### Step 1: Specify the Zooniverse workflow id and version of interest\n",
    "\n",
    "*Note:  A manual export in Zooniverse is required to get the most up-to-date classifications here**\n",
    "\n",
    "Make sure your workflows in Zooniverse have different names to avoid issues while selecting the workflow id"
   ]
  },
  {
   "cell_type": "code",
   "execution_count": null,
   "id": "7ed501f0",
   "metadata": {},
   "outputs": [],
   "source": [
    "# Display a selectable list of workflow names and the type of subject\n",
    "workflows_df = zoo_info_dict[\"workflows\"]\n",
    "workflow_name, subj_type = t12.choose_workflows(workflows_df)"
   ]
  },
  {
   "cell_type": "code",
   "execution_count": null,
   "id": "dbcdb990",
   "metadata": {},
   "outputs": [],
   "source": [
    "# Selects the workflow id based on the workflow name\n",
    "workflow_id = workflows_df[workflows_df.display_name==workflow_name.value].workflow_id.unique()[0]\n",
    "\n",
    "# Display a selectable list of versions of the workflow of interest\n",
    "workflow_version = t12.choose_w_version(workflows_df, workflow_id)"
   ]
  },
  {
   "cell_type": "code",
   "execution_count": null,
   "id": "sunrise-resistance",
   "metadata": {},
   "outputs": [],
   "source": [
    "# Retrieve classifications from the workflow of interest\n",
    "class_df = t12.get_classifications(workflow_id,\n",
    "                                   workflow_version.value, \n",
    "                                   subj_type.value, \n",
    "                                   zoo_info_dict[\"classifications\"],\n",
    "                                   db_path)"
   ]
  },
  {
   "cell_type": "markdown",
   "id": "3e8dfb6e",
   "metadata": {},
   "source": [
    "### Step 2: Aggregate classifications received on the workflow of interest"
   ]
  },
  {
   "cell_type": "code",
   "execution_count": null,
   "id": "42f4fbde",
   "metadata": {},
   "outputs": [],
   "source": [
    "# Specify the agreement threshold required among cit scientists\n",
    "agg_params = t12.choose_agg_parameters(subj_type.value)"
   ]
  },
  {
   "cell_type": "code",
   "execution_count": null,
   "id": "fa4b01bd",
   "metadata": {},
   "outputs": [],
   "source": [
    "agg_class_df, raw_class_df = t12.aggregrate_classifications(class_df, subj_type.value, project.value, agg_params)"
   ]
  },
  {
   "cell_type": "markdown",
   "id": "0d120ad4",
   "metadata": {},
   "source": [
    "### Step 3: Summarise the number of classifications based on the agreement specified"
   ]
  },
  {
   "cell_type": "code",
   "execution_count": null,
   "id": "greek-location",
   "metadata": {},
   "outputs": [],
   "source": [
    "agg_class_df.groupby(\"label\")[\"subject_ids\"].agg(\"count\")"
   ]
  },
  {
   "cell_type": "markdown",
   "id": "763f1f91",
   "metadata": {},
   "source": [
    "### Step 4: Display the aggregated classifications in a table"
   ]
  },
  {
   "cell_type": "code",
   "execution_count": null,
   "id": "0d27eed6",
   "metadata": {},
   "outputs": [],
   "source": [
    "# Display the dataframe into a table\n",
    "if subj_type.value == \"clip\":\n",
    "    a = agg_class_df[[\"subject_ids\",\"label\",\"how_many\",\"first_seen\"]]\n",
    "else:\n",
    "    a = agg_class_df\n",
    "a"
   ]
  },
  {
   "cell_type": "markdown",
   "id": "9e6a6804",
   "metadata": {},
   "source": [
    "### Step 5: Use the subject explorer widget to visualise subjects and their aggregated classifications"
   ]
  },
  {
   "cell_type": "code",
   "execution_count": null,
   "id": "8c6ab27e",
   "metadata": {},
   "outputs": [],
   "source": [
    "# Launch the subject viewer\n",
    "t12.launch_viewer(agg_class_df, subj_type.value)"
   ]
  },
  {
   "cell_type": "markdown",
   "id": "d2ed92e0",
   "metadata": {},
   "source": [
    "### Step 6: Use the subject explorer widget to get more information about specific subjects and their \"raw\" classifications"
   ]
  },
  {
   "cell_type": "code",
   "execution_count": null,
   "id": "df0ac59b",
   "metadata": {},
   "outputs": [],
   "source": [
    "# Launch the classifications_per_subject explorer\n",
    "t12.explore_classifications_per_subject(raw_class_df, subj_type.value)"
   ]
  },
  {
   "cell_type": "code",
   "execution_count": null,
   "id": "211ab0c3",
   "metadata": {},
   "outputs": [],
   "source": [
    "# END"
   ]
  }
 ],
 "metadata": {
  "kernelspec": {
   "display_name": "Python 3",
   "language": "python",
   "name": "python3"
  },
  "language_info": {
   "codemirror_mode": {
    "name": "ipython",
    "version": 3
   },
   "file_extension": ".py",
   "mimetype": "text/x-python",
   "name": "python",
   "nbconvert_exporter": "python",
   "pygments_lexer": "ipython3",
   "version": "3.8.8"
  }
 },
 "nbformat": 4,
 "nbformat_minor": 5
}
