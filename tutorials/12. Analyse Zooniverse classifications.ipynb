{
 "cells": [
  {
   "cell_type": "markdown",
   "id": "a49ece9a",
   "metadata": {},
   "source": [
    "<img align=\"left\" src=\"https://panoptes-uploads.zooniverse.org/project_avatar/86c23ca7-bbaa-4e84-8d8a-876819551431.png\" type=\"image/png\" height=100 width=100>\n",
    "</img>\n",
    "\n",
    "\n",
    "<h1 align=\"right\">KSO Tutorials #12: Analyse Zooniverse classifications</h1>\n",
    "<h3 align=\"right\">Written by @jannesgg and @vykanton</h3>\n",
    "<h5 align=\"right\">Last updated: Feb 17th, 2022</h5>"
   ]
  },
  {
   "cell_type": "markdown",
   "id": "dafbcdb0",
   "metadata": {},
   "source": [
    "# Set up and requirements"
   ]
  },
  {
   "cell_type": "markdown",
   "id": "53179501",
   "metadata": {},
   "source": [
    "### Import Python packages"
   ]
  },
  {
   "cell_type": "code",
   "execution_count": 1,
   "id": "c0c89208",
   "metadata": {},
   "outputs": [
    {
     "data": {
      "application/javascript": [
       "require.config({\n",
       "    paths: {\n",
       "        datatables: 'https://cdn.datatables.net/1.10.19/js/jquery.dataTables.min',\n",
       "    }\n",
       "});\n",
       "\n",
       "$('head').append('<link rel=\"stylesheet\" type=\"text/css\" \\\n",
       "                href = \"https://cdn.datatables.net/1.10.19/css/jquery.dataTables.min.css\" > ');\n",
       "\n",
       "$('head').append('<style> table td { text-overflow: ellipsis; overflow: hidden; } </style>');\n",
       "\n",
       "$('head').append(`<script>\n",
       "function eval_functions(map_or_text) {\n",
       "    if (typeof map_or_text === \"string\") {\n",
       "        if (map_or_text.startsWith(\"function\")) {\n",
       "            try {\n",
       "                // Note: parenthesis are required around the whole expression for eval to return a value!\n",
       "                // See https://stackoverflow.com/a/7399078/911298.\n",
       "                //\n",
       "                // eval(\"local_fun = \" + map_or_text) would fail because local_fun is not declared\n",
       "                // (using var, let or const would work, but it would only be declared in the local scope\n",
       "                // and therefore the value could not be retrieved).\n",
       "                const func = eval(\"(\" + map_or_text + \")\");\n",
       "                if (typeof func !== \"function\") {\n",
       "                    // Note: backquotes are super convenient!\n",
       "                    // https://developer.mozilla.org/en-US/docs/Web/JavaScript/Reference/Template_literals\n",
       "                    console.error(\"Evaluated expression \" + map_or_text + \" is not a function (type is \" + typeof func + \")\");\n",
       "                    return map_or_text;\n",
       "                }\n",
       "                // Return the function\n",
       "                return func;\n",
       "            } catch (e) {\n",
       "                // Make sure to print the error with a second argument to console.error().\n",
       "                console.error(\"itables was not able to parse \" + map_or_text, e);\n",
       "            }\n",
       "        }\n",
       "    } else if (typeof map_or_text === \"object\") {\n",
       "        if (map_or_text instanceof Array) {\n",
       "            // Note: \"var\" is now superseded by \"let\" and \"const\".\n",
       "            // https://medium.com/javascript-scene/javascript-es6-var-let-or-const-ba58b8dcde75\n",
       "            const result = [];\n",
       "            // Note: \"for of\" is the best way to iterate through an iterable.\n",
       "            // https://developer.mozilla.org/en-US/docs/Web/JavaScript/Reference/Statements/for...of\n",
       "            for (const item of map_or_text) {\n",
       "                result.push(eval_functions(item));\n",
       "            }\n",
       "            return result;\n",
       "\n",
       "            // Alternatively, more functional approach in one line:\n",
       "            // return map_or_text.map(eval_functions);\n",
       "        } else {\n",
       "            const result = {};\n",
       "            // Object.keys() is safer than \"for in\" because otherwise you might have keys\n",
       "            // that aren't defined in the object itself.\n",
       "            //\n",
       "            // See https://stackoverflow.com/a/684692/911298.\n",
       "            for (const item of Object.keys(map_or_text)) {\n",
       "                result[item] = eval_functions(map_or_text[item]);\n",
       "            }\n",
       "            return result;\n",
       "        }\n",
       "    }\n",
       "\n",
       "    return map_or_text;\n",
       "}\n",
       "\n",
       "</` + 'script>');"
      ],
      "text/plain": [
       "<IPython.core.display.Javascript object>"
      ]
     },
     "metadata": {},
     "output_type": "display_data"
    },
    {
     "name": "stdout",
     "output_type": "stream",
     "text": [
      "Packages loaded successfully\n"
     ]
    }
   ],
   "source": [
    "# Set the directory of the libraries\n",
    "import sys\n",
    "sys.path.append('..')\n",
    "\n",
    "# Set to display dataframes as interactive tables\n",
    "from itables import init_notebook_mode\n",
    "init_notebook_mode(all_interactive=True)\n",
    "\n",
    "# Import required modules\n",
    "import kso_utils.tutorials_utils as t_utils\n",
    "import kso_utils.t12_utils as t12\n",
    "\n",
    "print(\"Packages loaded successfully\")"
   ]
  },
  {
   "cell_type": "markdown",
   "id": "117139c9",
   "metadata": {},
   "source": [
    "### Choose your project"
   ]
  },
  {
   "cell_type": "code",
   "execution_count": 2,
   "id": "a29b26cc",
   "metadata": {},
   "outputs": [
    {
     "data": {
      "application/vnd.jupyter.widget-view+json": {
       "model_id": "45ca39cdb5bd41ef81212e20a3ef876e",
       "version_major": 2,
       "version_minor": 0
      },
      "text/plain": [
       "Dropdown(description='Project:', options=('Koster_Seafloor_Obs', 'Spyfish_Aotearoa', 'SGU'), value='Koster_Sea…"
      ]
     },
     "metadata": {},
     "output_type": "display_data"
    }
   ],
   "source": [
    "project = t_utils.choose_project()"
   ]
  },
  {
   "cell_type": "markdown",
   "id": "a3fa7a36",
   "metadata": {},
   "source": [
    "### Set up initial information"
   ]
  },
  {
   "cell_type": "code",
   "execution_count": 3,
   "id": "eaa328da",
   "metadata": {},
   "outputs": [
    {
     "name": "stdout",
     "output_type": "stream",
     "text": [
      "Enter the key id for the aws server········\n",
      "Enter the secret access key for the aws server········\n"
     ]
    },
    {
     "name": "stderr",
     "output_type": "stream",
     "text": [
      "..\\db_starter\\db_csv_info\\sites_buv_doc.csv: 100%|██████████| 123k/123k [00:00<00:00, 430kB/s]\n",
      "..\\db_starter\\db_csv_info\\movies_buv_doc.csv: 100%|██████████| 14.7k/14.7k [00:00<00:00, 94.0kB/s]\n",
      "..\\db_starter\\db_csv_info\\species_buv_doc.csv: 100%|██████████| 7.45k/7.45k [00:00<00:00, 59.0kB/s]\n",
      "..\\db_starter\\db_csv_info\\surveys_buv_doc.csv: 100%|██████████| 1.78k/1.78k [00:00<00:00, 12.3kB/s]\n",
      "..\\db_starter\\db_csv_info\\choices_buv.csv: 100%|██████████| 3.29k/3.29k [00:00<00:00, 21.4kB/s]\n"
     ]
    },
    {
     "name": "stdout",
     "output_type": "stream",
     "text": [
      "Updated sites\n",
      "Updated movies\n",
      "Updated species\n",
      "Enter your Zooniverse user········\n",
      "Enter your Zooniverse password········\n",
      "Retrieving subjects from Zooniverse\n",
      "subjects were retrieved successfully\n",
      "Retrieving workflows from Zooniverse\n",
      "workflows were retrieved successfully\n",
      "Retrieving classifications from Zooniverse\n",
      "classifications were retrieved successfully\n",
      "Updated subjects\n",
      "The database has a total of 216 frame subjects and 4993 clip subjects have been updated\n"
     ]
    }
   ],
   "source": [
    "db_info_dict, zoo_project, zoo_info_dict = t12.setup_initial_info(project.value)"
   ]
  },
  {
   "cell_type": "markdown",
   "id": "d8cf3fb4",
   "metadata": {},
   "source": [
    "### Step 1: Specify the Zooniverse workflow id and version of interest\n",
    "\n",
    "*Note:  A manual export in Zooniverse is required to get the most up-to-date classifications here**\n",
    "\n",
    "Make sure your workflows in Zooniverse have different names to avoid issues while selecting the workflow id"
   ]
  },
  {
   "cell_type": "code",
   "execution_count": 4,
   "id": "inclusive-depression",
   "metadata": {},
   "outputs": [
    {
     "data": {
      "application/vnd.jupyter.widget-view+json": {
       "model_id": "88c945311d2c42f985801d29e6670d2c",
       "version_major": 2,
       "version_minor": 0
      },
      "text/plain": [
       "WidgetMaker(children=(IntText(value=0, description='Number of workflows:', style=DescriptionStyle(description_…"
      ]
     },
     "execution_count": 4,
     "metadata": {},
     "output_type": "execute_result"
    }
   ],
   "source": [
    "# Display a selectable list of workflow names and a list of versions of the workflow of interest\n",
    "workflows_df = zoo_info_dict[\"workflows\"]\n",
    "wm = t12.WidgetMaker(workflows_df)\n",
    "wm"
   ]
  },
  {
   "cell_type": "code",
   "execution_count": null,
   "id": "foster-motion",
   "metadata": {},
   "outputs": [],
   "source": [
    "# Retrieve classifications from the workflow of interest\n",
    "class_df = t12.get_classifications(wm.checks,\n",
    "                                   workflows_df,\n",
    "                                   wm.checks['Subject type: #0'], \n",
    "                                   zoo_info_dict[\"classifications\"], \n",
    "                                   db_info_dict[\"db_path\"])"
   ]
  },
  {
   "cell_type": "markdown",
   "id": "3e8dfb6e",
   "metadata": {},
   "source": [
    "### Step 2: Aggregate classifications received on the workflow of interest"
   ]
  },
  {
   "cell_type": "code",
   "execution_count": null,
   "id": "42f4fbde",
   "metadata": {},
   "outputs": [],
   "source": [
    "# Specify the agreement threshold required among cit scientists\n",
    "agg_params = t12.choose_agg_parameters(wm.checks['Subject type: #0'])"
   ]
  },
  {
   "cell_type": "code",
   "execution_count": null,
   "id": "fa4b01bd",
   "metadata": {},
   "outputs": [],
   "source": [
    "agg_class_df, raw_class_df = t12.aggregrate_classifications(class_df, \n",
    "                                                            wm.checks['Subject type: #0'], \n",
    "                                                            project.value, \n",
    "                                                            agg_params)"
   ]
  },
  {
   "cell_type": "markdown",
   "id": "0d120ad4",
   "metadata": {},
   "source": [
    "### Step 3: Summarise the number of classifications based on the agreement specified"
   ]
  },
  {
   "cell_type": "code",
   "execution_count": null,
   "id": "greek-location",
   "metadata": {},
   "outputs": [],
   "source": [
    "agg_class_df.groupby(\"label\")[\"subject_ids\"].agg(\"count\")"
   ]
  },
  {
   "cell_type": "markdown",
   "id": "763f1f91",
   "metadata": {},
   "source": [
    "### Step 4: Display the aggregated classifications in a table"
   ]
  },
  {
   "cell_type": "code",
   "execution_count": null,
   "id": "0d27eed6",
   "metadata": {},
   "outputs": [],
   "source": [
    "# Display the dataframe into a table\n",
    "t12.launch_table(agg_class_df, wm.checks['Subject type: #0'])"
   ]
  },
  {
   "cell_type": "markdown",
   "id": "9e6a6804",
   "metadata": {},
   "source": [
    "### Step 5: Use the subject explorer widget to visualise subjects and their aggregated classifications"
   ]
  },
  {
   "cell_type": "code",
   "execution_count": null,
   "id": "8c6ab27e",
   "metadata": {
    "scrolled": false
   },
   "outputs": [],
   "source": [
    "# Launch the subject viewer\n",
    "t12.launch_viewer(agg_class_df, wm.checks['Subject type: #0'])"
   ]
  },
  {
   "cell_type": "markdown",
   "id": "d2ed92e0",
   "metadata": {},
   "source": [
    "### Step 6: Use the subject explorer widget to get more information about specific subjects and their \"raw\" classifications"
   ]
  },
  {
   "cell_type": "code",
   "execution_count": null,
   "id": "df0ac59b",
   "metadata": {
    "scrolled": false
   },
   "outputs": [],
   "source": [
    "# Launch the classifications_per_subject explorer\n",
    "t12.explore_classifications_per_subject(raw_class_df, wm.checks['Subject type: #0'])"
   ]
  },
  {
   "cell_type": "code",
   "execution_count": null,
   "id": "211ab0c3",
   "metadata": {},
   "outputs": [],
   "source": [
    "# END"
   ]
  }
 ],
 "metadata": {
  "kernelspec": {
   "display_name": "Python 3 (ipykernel)",
   "language": "python",
   "name": "python3"
  },
  "language_info": {
   "codemirror_mode": {
    "name": "ipython",
    "version": 3
   },
   "file_extension": ".py",
   "mimetype": "text/x-python",
   "name": "python",
   "nbconvert_exporter": "python",
   "pygments_lexer": "ipython3",
   "version": "3.9.7"
  }
 },
 "nbformat": 4,
 "nbformat_minor": 5
}
