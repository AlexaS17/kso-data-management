{
 "cells": [
  {
   "cell_type": "markdown",
   "id": "a49ece9a",
   "metadata": {},
   "source": [
    "<img align=\"left\" src=\"https://panoptes-uploads.zooniverse.org/project_avatar/86c23ca7-bbaa-4e84-8d8a-876819551431.png\" type=\"image/png\" height=100 width=100>\n",
    "</img>\n",
    "\n",
    "\n",
    "<h1 align=\"right\">KSO Tutorials #12: Analyse Zooniverse classifications</h1>\n",
    "<h3 align=\"right\">Written by @jannesgg and @vykanton</h3>\n",
    "<h5 align=\"right\">Last updated: Jan 17th, 202</h5>"
   ]
  },
  {
   "cell_type": "markdown",
   "id": "dafbcdb0",
   "metadata": {},
   "source": [
    "# Set up and requirements"
   ]
  },
  {
   "cell_type": "markdown",
   "id": "53179501",
   "metadata": {},
   "source": [
    "### Import Python packages"
   ]
  },
  {
   "cell_type": "code",
   "execution_count": null,
   "id": "c0c89208",
   "metadata": {},
   "outputs": [],
   "source": [
    "# Set the directory of the libraries\n",
    "import sys\n",
    "sys.path.append('..')\n",
    "\n",
    "# Set to display dataframes as interactive tables\n",
    "from itables import init_notebook_mode\n",
    "init_notebook_mode(all_interactive=True)\n",
    "\n",
    "# Import required modules\n",
    "import kso_utils.tutorials_utils as t_utils\n",
    "import kso_utils.t12_utils as t12\n",
    "\n",
    "print(\"Packages loaded successfully\")"
   ]
  },
  {
   "cell_type": "markdown",
   "id": "117139c9",
   "metadata": {},
   "source": [
    "### Choose your project"
   ]
  },
  {
   "cell_type": "code",
   "execution_count": null,
   "id": "a29b26cc",
   "metadata": {},
   "outputs": [],
   "source": [
    "project = t_utils.choose_project()"
   ]
  },
  {
   "cell_type": "markdown",
   "id": "a3fa7a36",
   "metadata": {},
   "source": [
    "### Set up initial information"
   ]
  },
  {
   "cell_type": "code",
   "execution_count": null,
   "id": "eaa328da",
   "metadata": {},
   "outputs": [],
   "source": [
    "db_info_dict, zoo_project, zoo_info_dict = t12.setup_initial_info(project.value)"
   ]
  },
  {
   "cell_type": "markdown",
   "id": "d8cf3fb4",
   "metadata": {},
   "source": [
    "### Step 1: Specify the Zooniverse workflow id and version of interest\n",
    "\n",
    "*Note:  A manual export in Zooniverse is required to get the most up-to-date classifications here**\n",
    "\n",
    "Make sure your workflows in Zooniverse have different names to avoid issues while selecting the workflow id"
   ]
  },
  {
   "cell_type": "code",
   "execution_count": null,
   "id": "inclusive-depression",
   "metadata": {},
   "outputs": [],
   "source": [
    "# Display a selectable list of workflow names and a list of versions of the workflow of interest\n",
    "workflows_df = zoo_info_dict[\"workflows\"]\n",
    "wm = t12.WidgetMaker(workflows_df)\n",
    "wm"
   ]
  },
  {
   "cell_type": "code",
   "execution_count": null,
   "id": "foster-motion",
   "metadata": {},
   "outputs": [],
   "source": [
    "# Retrieve classifications from the workflow of interest\n",
    "class_df = t12.get_classifications(wm.checks,\n",
    "                                   workflows_df,\n",
    "                                   wm.checks['Subject type: #0'], \n",
    "                                   zoo_info_dict[\"classifications\"], \n",
    "                                   db_info_dict[\"db_path\"])"
   ]
  },
  {
   "cell_type": "markdown",
   "id": "3e8dfb6e",
   "metadata": {},
   "source": [
    "### Step 2: Aggregate classifications received on the workflow of interest"
   ]
  },
  {
   "cell_type": "code",
   "execution_count": null,
   "id": "42f4fbde",
   "metadata": {},
   "outputs": [],
   "source": [
    "# Specify the agreement threshold required among cit scientists\n",
    "agg_params = t12.choose_agg_parameters(wm.checks['Subject type: #0'])"
   ]
  },
  {
   "cell_type": "code",
   "execution_count": null,
   "id": "fa4b01bd",
   "metadata": {},
   "outputs": [],
   "source": [
    "agg_class_df, raw_class_df = t12.aggregrate_classifications(class_df, \n",
    "                                                            wm.checks['Subject type: #0'], \n",
    "                                                            project.value, \n",
    "                                                            agg_params)"
   ]
  },
  {
   "cell_type": "markdown",
   "id": "0d120ad4",
   "metadata": {},
   "source": [
    "### Step 3: Summarise the number of classifications based on the agreement specified"
   ]
  },
  {
   "cell_type": "code",
   "execution_count": null,
   "id": "greek-location",
   "metadata": {},
   "outputs": [],
   "source": [
    "agg_class_df.groupby(\"label\")[\"subject_ids\"].agg(\"count\")"
   ]
  },
  {
   "cell_type": "markdown",
   "id": "763f1f91",
   "metadata": {},
   "source": [
    "### Step 4: Display the aggregated classifications in a table"
   ]
  },
  {
   "cell_type": "code",
   "execution_count": null,
   "id": "0d27eed6",
   "metadata": {},
   "outputs": [],
   "source": [
    "# Display the dataframe into a table\n",
    "t12.launch_table(agg_class_df, wm.checks['Subject type: #0'])"
   ]
  },
  {
   "cell_type": "markdown",
   "id": "9e6a6804",
   "metadata": {},
   "source": [
    "### Step 5: Use the subject explorer widget to visualise subjects and their aggregated classifications"
   ]
  },
  {
   "cell_type": "code",
   "execution_count": null,
   "id": "8c6ab27e",
   "metadata": {
    "scrolled": false
   },
   "outputs": [],
   "source": [
    "# Launch the subject viewer\n",
    "t12.launch_viewer(agg_class_df, wm.checks['Subject type: #0'])"
   ]
  },
  {
   "cell_type": "markdown",
   "id": "d2ed92e0",
   "metadata": {},
   "source": [
    "### Step 6: Use the subject explorer widget to get more information about specific subjects and their \"raw\" classifications"
   ]
  },
  {
   "cell_type": "code",
   "execution_count": null,
   "id": "df0ac59b",
   "metadata": {
    "scrolled": false
   },
   "outputs": [],
   "source": [
    "# Launch the classifications_per_subject explorer\n",
    "t12.explore_classifications_per_subject(raw_class_df, wm.checks['Subject type: #0'])"
   ]
  },
  {
   "cell_type": "code",
   "execution_count": null,
   "id": "211ab0c3",
   "metadata": {},
   "outputs": [],
   "source": [
    "# END"
   ]
  }
 ],
 "metadata": {
  "kernelspec": {
   "display_name": "Python 3 (ipykernel)",
   "language": "python",
   "name": "python3"
  },
  "language_info": {
   "codemirror_mode": {
    "name": "ipython",
    "version": 3
   },
   "file_extension": ".py",
   "mimetype": "text/x-python",
   "name": "python",
   "nbconvert_exporter": "python",
   "pygments_lexer": "ipython3",
   "version": "3.9.7"
  }
 },
 "nbformat": 4,
 "nbformat_minor": 5
}
