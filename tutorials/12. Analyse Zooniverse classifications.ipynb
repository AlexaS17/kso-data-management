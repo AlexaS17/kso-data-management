{
 "cells": [
  {
   "cell_type": "markdown",
   "id": "a49ece9a",
   "metadata": {},
   "source": [
    "<img align=\"left\" src=\"https://panoptes-uploads.zooniverse.org/project_avatar/86c23ca7-bbaa-4e84-8d8a-876819551431.png\" type=\"image/png\" height=100 width=100>\n",
    "</img>\n",
    "\n",
    "\n",
    "<h1 align=\"right\">KSO Tutorials #12: Analyse Zooniverse classifications</h1>\n",
    "<h3 align=\"right\">Written by @jannesgg and @vykanton</h3>\n",
    "<h5 align=\"right\">Last updated: Oct 31st, 2021</h5>"
   ]
  },
  {
   "cell_type": "markdown",
   "id": "dafbcdb0",
   "metadata": {},
   "source": [
    "# Set up and requirements"
   ]
  },
  {
   "cell_type": "markdown",
   "id": "53179501",
   "metadata": {},
   "source": [
    "### Import Python packages"
   ]
  },
  {
   "cell_type": "code",
   "execution_count": 2,
   "id": "c0c89208",
   "metadata": {},
   "outputs": [
    {
     "data": {
      "application/javascript": [
       "require.config({\n",
       "    paths: {\n",
       "        datatables: 'https://cdn.datatables.net/1.10.19/js/jquery.dataTables.min',\n",
       "    }\n",
       "});\n",
       "\n",
       "$('head').append('<link rel=\"stylesheet\" type=\"text/css\" \\\n",
       "                href = \"https://cdn.datatables.net/1.10.19/css/jquery.dataTables.min.css\" > ');\n",
       "\n",
       "$('head').append('<style> table td { text-overflow: ellipsis; overflow: hidden; } </style>');\n",
       "\n",
       "$('head').append(`<script>\n",
       "function eval_functions(map_or_text) {\n",
       "    if (typeof map_or_text === \"string\") {\n",
       "        if (map_or_text.startsWith(\"function\")) {\n",
       "            try {\n",
       "                // Note: parenthesis are required around the whole expression for eval to return a value!\n",
       "                // See https://stackoverflow.com/a/7399078/911298.\n",
       "                //\n",
       "                // eval(\"local_fun = \" + map_or_text) would fail because local_fun is not declared\n",
       "                // (using var, let or const would work, but it would only be declared in the local scope\n",
       "                // and therefore the value could not be retrieved).\n",
       "                const func = eval(\"(\" + map_or_text + \")\");\n",
       "                if (typeof func !== \"function\") {\n",
       "                    // Note: backquotes are super convenient!\n",
       "                    // https://developer.mozilla.org/en-US/docs/Web/JavaScript/Reference/Template_literals\n",
       "                    console.error(\"Evaluated expression \" + map_or_text + \" is not a function (type is \" + typeof func + \")\");\n",
       "                    return map_or_text;\n",
       "                }\n",
       "                // Return the function\n",
       "                return func;\n",
       "            } catch (e) {\n",
       "                // Make sure to print the error with a second argument to console.error().\n",
       "                console.error(\"itables was not able to parse \" + map_or_text, e);\n",
       "            }\n",
       "        }\n",
       "    } else if (typeof map_or_text === \"object\") {\n",
       "        if (map_or_text instanceof Array) {\n",
       "            // Note: \"var\" is now superseded by \"let\" and \"const\".\n",
       "            // https://medium.com/javascript-scene/javascript-es6-var-let-or-const-ba58b8dcde75\n",
       "            const result = [];\n",
       "            // Note: \"for of\" is the best way to iterate through an iterable.\n",
       "            // https://developer.mozilla.org/en-US/docs/Web/JavaScript/Reference/Statements/for...of\n",
       "            for (const item of map_or_text) {\n",
       "                result.push(eval_functions(item));\n",
       "            }\n",
       "            return result;\n",
       "\n",
       "            // Alternatively, more functional approach in one line:\n",
       "            // return map_or_text.map(eval_functions);\n",
       "        } else {\n",
       "            const result = {};\n",
       "            // Object.keys() is safer than \"for in\" because otherwise you might have keys\n",
       "            // that aren't defined in the object itself.\n",
       "            //\n",
       "            // See https://stackoverflow.com/a/684692/911298.\n",
       "            for (const item of Object.keys(map_or_text)) {\n",
       "                result[item] = eval_functions(map_or_text[item]);\n",
       "            }\n",
       "            return result;\n",
       "        }\n",
       "    }\n",
       "\n",
       "    return map_or_text;\n",
       "}\n",
       "\n",
       "</` + 'script>');"
      ],
      "text/plain": [
       "<IPython.core.display.Javascript object>"
      ]
     },
     "metadata": {},
     "output_type": "display_data"
    },
    {
     "name": "stdout",
     "output_type": "stream",
     "text": [
      "Packages loaded successfully\n"
     ]
    }
   ],
   "source": [
    "# Set the directory of the libraries\n",
    "import sys\n",
    "sys.path.append('..')\n",
    "\n",
    "# Set to display dataframes as interactive tables\n",
    "from itables import init_notebook_mode\n",
    "init_notebook_mode(all_interactive=True)\n",
    "\n",
    "# Import required modules\n",
    "import utils.tutorials_utils as t_utils\n",
    "import utils.t12_utils as t12\n",
    "import utils.zooniverse_utils as zoo\n",
    "\n",
    "print(\"Packages loaded successfully\")"
   ]
  },
  {
   "cell_type": "markdown",
   "id": "117139c9",
   "metadata": {},
   "source": [
    "### Choose your project"
   ]
  },
  {
   "cell_type": "code",
   "execution_count": 3,
   "id": "a29b26cc",
   "metadata": {},
   "outputs": [
    {
     "data": {
      "application/vnd.jupyter.widget-view+json": {
       "model_id": "e78ba3ab7b354148b4341160aef73733",
       "version_major": 2,
       "version_minor": 0
      },
      "text/plain": [
       "Dropdown(description='Project:', options=('Koster_Seafloor_Obs', 'Spyfish_Aotearoa', 'SGU'), value='Koster_Sea…"
      ]
     },
     "metadata": {},
     "output_type": "display_data"
    }
   ],
   "source": [
    "project = t_utils.choose_project()"
   ]
  },
  {
   "cell_type": "markdown",
   "id": "d61ea944",
   "metadata": {},
   "source": [
    "### Initiate SQL database and populate sites, movies and species"
   ]
  },
  {
   "cell_type": "code",
   "execution_count": 4,
   "id": "65d28bcf",
   "metadata": {},
   "outputs": [
    {
     "name": "stdout",
     "output_type": "stream",
     "text": [
      "Updated sites\n",
      "Updated movies\n",
      "Updated species\n"
     ]
    }
   ],
   "source": [
    "# Initiate the SQL database \n",
    "%run -i \"../db_starter/starter.py\" --project_name $project.value"
   ]
  },
  {
   "cell_type": "markdown",
   "id": "6e6959d5",
   "metadata": {},
   "source": [
    "### Retrieve Zooniverse information"
   ]
  },
  {
   "cell_type": "code",
   "execution_count": 5,
   "id": "6c3d0820",
   "metadata": {},
   "outputs": [
    {
     "name": "stdout",
     "output_type": "stream",
     "text": [
      "Enter your Zooniverse user········\n",
      "Enter your Zooniverse password········\n"
     ]
    }
   ],
   "source": [
    "# Save your Zooniverse user name and password.\n",
    "zoo_user, zoo_pass = zoo.zoo_credentials()"
   ]
  },
  {
   "cell_type": "code",
   "execution_count": 7,
   "id": "b00b0347",
   "metadata": {},
   "outputs": [
    {
     "name": "stdout",
     "output_type": "stream",
     "text": [
      "Connecting to the Zooniverse project\n",
      "Retrieving subjects from Zooniverse\n",
      "subjects were retrieved successfully\n",
      "Retrieving workflows from Zooniverse\n",
      "workflows were retrieved successfully\n",
      "Retrieving classifications from Zooniverse\n",
      "classifications were retrieved successfully\n"
     ]
    }
   ],
   "source": [
    "# Specify the Zooniverse information required throughout the tutorial\n",
    "zoo_info = [\"subjects\", \"workflows\", \"classifications\"]\n",
    "\n",
    "# Retrieve and store the Zooniverse information required throughout the tutorial in a dictionary\n",
    "zoo_info_dict = zoo.retrieve_zoo_info(zoo_user, zoo_pass, project.value, zoo_info)"
   ]
  },
  {
   "cell_type": "code",
   "execution_count": 8,
   "id": "0f2223ff",
   "metadata": {},
   "outputs": [
    {
     "name": "stdout",
     "output_type": "stream",
     "text": [
      "Updated subjects\n",
      "The database has a total of 2342 frame subjects and 7362 clip subjects have been updated\n"
     ]
    }
   ],
   "source": [
    "# Populate the sql with subjects uploaded to Zooniverse\n",
    "zoo.populate_subjects(zoo_info_dict[\"subjects\"], project.value)"
   ]
  },
  {
   "cell_type": "markdown",
   "id": "d8cf3fb4",
   "metadata": {},
   "source": [
    "### Step 1: Specify the Zooniverse workflow id and version of interest\n",
    "\n",
    "*Note:  A manual export in Zooniverse is required to get the most up-to-date classifications here**\n",
    "\n",
    "Make sure your workflows in Zooniverse have different names to avoid issues while selecting the workflow id"
   ]
  },
  {
   "cell_type": "code",
   "execution_count": 9,
   "id": "7ed501f0",
   "metadata": {},
   "outputs": [
    {
     "data": {
      "application/vnd.jupyter.widget-view+json": {
       "model_id": "ed6e0f92ed9c4d7bbcf89dac8464b147",
       "version_major": 2,
       "version_minor": 0
      },
      "text/plain": [
       "Dropdown(description='Workflow name:', options=('Species identification', 'test ', 'Species location (intermed…"
      ]
     },
     "metadata": {},
     "output_type": "display_data"
    },
    {
     "data": {
      "application/vnd.jupyter.widget-view+json": {
       "model_id": "5990c8c7b75f410cbe1ff775674bba0e",
       "version_major": 2,
       "version_minor": 0
      },
      "text/plain": [
       "Dropdown(description='Subject type:', index=1, options=('frame', 'clip'), value='clip')"
      ]
     },
     "metadata": {},
     "output_type": "display_data"
    }
   ],
   "source": [
    "# Display a selectable list of workflow names and the type of subject\n",
    "workflows_df = zoo_info_dict[\"workflows\"]\n",
    "workflow_name, subj_type = t_utils.choose_single_workflow(workflows_df)"
   ]
  },
  {
   "cell_type": "code",
   "execution_count": 10,
   "id": "dbcdb990",
   "metadata": {},
   "outputs": [
    {
     "data": {
      "application/vnd.jupyter.widget-view+json": {
       "model_id": "00853b857f9e4e0686957db580290645",
       "version_major": 2,
       "version_minor": 0
      },
      "text/plain": [
       "Dropdown(description='Minimum workflow version:', options=(1.0, 2.0, 3.0, 4.0, 5.0, 6.0, 7.0, 8.0, 9.0, 10.0, …"
      ]
     },
     "metadata": {},
     "output_type": "display_data"
    }
   ],
   "source": [
    "# Selects the workflow id based on the workflow name\n",
    "workflow_id = workflows_df[workflows_df.display_name==workflow_name.value].workflow_id.unique()[0]\n",
    "\n",
    "# Display a selectable list of versions of the workflow of interest\n",
    "workflow_version = t12.choose_w_version(workflows_df, workflow_id)"
   ]
  },
  {
   "cell_type": "code",
   "execution_count": 11,
   "id": "sunrise-resistance",
   "metadata": {},
   "outputs": [
    {
     "name": "stdout",
     "output_type": "stream",
     "text": [
      "There are 2747 classifications out of 54324 missing subject info. Maybe the subjects have been removed from Zooniverse?\n",
      "Zooniverse classifications have been retrieved\n"
     ]
    }
   ],
   "source": [
    "# Retrieve classifications from the workflow of interest\n",
    "class_df = t12.get_classifications(workflow_id = workflow_id,\n",
    "                                   workflow_version = workflow_version.value, \n",
    "                                   subj_type = subj_type.value, \n",
    "                                   class_df = zoo_info_dict[\"classifications\"],\n",
    "                                   project_name = project.value)"
   ]
  },
  {
   "cell_type": "markdown",
   "id": "3e8dfb6e",
   "metadata": {},
   "source": [
    "### Step 2: Aggregate classifications received on the workflow of interest"
   ]
  },
  {
   "cell_type": "code",
   "execution_count": 12,
   "id": "42f4fbde",
   "metadata": {},
   "outputs": [
    {
     "data": {
      "application/vnd.jupyter.widget-view+json": {
       "model_id": "9ca20626c6194557aef6d5a1268ed363",
       "version_major": 2,
       "version_minor": 0
      },
      "text/plain": [
       "FloatSlider(value=0.8, continuous_update=False, description='Aggregation threshold:', max=1.0, readout_format=…"
      ]
     },
     "metadata": {},
     "output_type": "display_data"
    },
    {
     "data": {
      "application/vnd.jupyter.widget-view+json": {
       "model_id": "94593f4cc2114b389f67fdab6f6998e0",
       "version_major": 2,
       "version_minor": 0
      },
      "text/plain": [
       "IntSlider(value=3, continuous_update=False, description='Min numbers of users:', max=15, min=1, style=SliderSt…"
      ]
     },
     "metadata": {},
     "output_type": "display_data"
    }
   ],
   "source": [
    "# Specify the agreement threshold required among cit scientists\n",
    "agg_params = t12.choose_agg_parameters(subj_type.value)"
   ]
  },
  {
   "cell_type": "code",
   "execution_count": 13,
   "id": "fa4b01bd",
   "metadata": {},
   "outputs": [
    {
     "name": "stdout",
     "output_type": "stream",
     "text": [
      "Aggregrating the classifications\n",
      "1878 classifications aggregated out of 5202 unique subjects available\n"
     ]
    }
   ],
   "source": [
    "agg_class_df, raw_class_df = t12.aggregrate_classifications(class_df, subj_type.value, project.value, agg_params)"
   ]
  },
  {
   "cell_type": "markdown",
   "id": "0d120ad4",
   "metadata": {},
   "source": [
    "### Step 3: Summarise the number of classifications based on the agreement specified"
   ]
  },
  {
   "cell_type": "code",
   "execution_count": 14,
   "id": "greek-location",
   "metadata": {},
   "outputs": [
    {
     "data": {
      "text/html": [
       "<div><table id=\"36281abd-85ca-4a21-90a4-c733fce4dd72\" class=\"display\"><thead>\n",
       "    <tr style=\"text-align: right;\">\n",
       "      <th></th>\n",
       "      <th>subject_ids</th>\n",
       "    </tr>\n",
       "    <tr>\n",
       "      <th>label</th>\n",
       "      <th></th>\n",
       "    </tr>\n",
       "  </thead></table>\n",
       "<script type=\"text/javascript\">\n",
       "require([\"datatables\"], function (datatables) {\n",
       "    $(document).ready(function () {\n",
       "        var dt_args = {\"columnDefs\": [{\"width\": \"70px\", \"targets\": \"_all\"}], \"data\": [[\"BIVALVESANYSPECIES\", 1], [\"BLACKBRITTLESTAR\", 15], [\"COMMONSEAPEN\", 8], [\"COMMONSEAURCHIN\", 21], [\"COMMONSUNSTAR\", 1], [\"CORALANYSPECIES\", 3], [\"CRUSTACEANANYSPECIES\", 19], [\"CUSHINSTAR\", 15], [\"DEADMANSFINGERS\", 10], [\"DEEPLETSEAANEMONE\", 542], [\"DEEPSEAKINGCRAB\", 43], [\"DEEPWATERCORAL\", 162], [\"ECHINODERMANYSPECIES\", 13], [\"FANSHAPEDSPONGE\", 6], [\"FILECLAM\", 2], [\"FISHANYSPECIES\", 136], [\"FOOTBALLSPONGE\", 63], [\"GASTROPODSANYSPECIES\", 1], [\"HUMANOBJECTS\", 21], [\"NORTHERNSHRIMP\", 17], [\"NORWAYLOBSTER\", 22], [\"NOTHINGHERE\", 687], [\"ROSYFEATHERSTAR\", 29], [\"SPONGEANYSPECIES\", 23], [\"SUGARSTARFISH\", 8], [\"TALLSEAPEN\", 10]]};\n",
       "        dt_args = eval_functions(dt_args);\n",
       "        table = $('#36281abd-85ca-4a21-90a4-c733fce4dd72').DataTable(dt_args);\n",
       "    });\n",
       "})\n",
       "</script>\n",
       "</div>\n"
      ],
      "text/plain": [
       "label\n",
       "BIVALVESANYSPECIES        1\n",
       "BLACKBRITTLESTAR         15\n",
       "COMMONSEAPEN              8\n",
       "COMMONSEAURCHIN          21\n",
       "COMMONSUNSTAR             1\n",
       "CORALANYSPECIES           3\n",
       "CRUSTACEANANYSPECIES     19\n",
       "CUSHINSTAR               15\n",
       "DEADMANSFINGERS          10\n",
       "DEEPLETSEAANEMONE       542\n",
       "DEEPSEAKINGCRAB          43\n",
       "DEEPWATERCORAL          162\n",
       "ECHINODERMANYSPECIES     13\n",
       "FANSHAPEDSPONGE           6\n",
       "FILECLAM                  2\n",
       "FISHANYSPECIES          136\n",
       "FOOTBALLSPONGE           63\n",
       "GASTROPODSANYSPECIES      1\n",
       "HUMANOBJECTS             21\n",
       "NORTHERNSHRIMP           17\n",
       "NORWAYLOBSTER            22\n",
       "NOTHINGHERE             687\n",
       "ROSYFEATHERSTAR          29\n",
       "SPONGEANYSPECIES         23\n",
       "SUGARSTARFISH             8\n",
       "TALLSEAPEN               10\n",
       "Name: subject_ids, dtype: int64"
      ]
     },
     "execution_count": 14,
     "metadata": {},
     "output_type": "execute_result"
    }
   ],
   "source": [
    "agg_class_df.groupby(\"label\")[\"subject_ids\"].agg(\"count\")"
   ]
  },
  {
   "cell_type": "markdown",
   "id": "763f1f91",
   "metadata": {},
   "source": [
    "### Step 4: Display the aggregated classifications in a table"
   ]
  },
  {
   "cell_type": "code",
   "execution_count": 15,
   "id": "0d27eed6",
   "metadata": {},
   "outputs": [
    {
     "data": {
      "text/html": [
       "<div><table id=\"89fa6a8d-3d03-4184-81d2-348dcae9b343\" class=\"display\"><thead>\n",
       "    <tr style=\"text-align: right;\">\n",
       "      <th></th>\n",
       "      <th>subject_ids</th>\n",
       "      <th>label</th>\n",
       "      <th>how_many</th>\n",
       "      <th>first_seen</th>\n",
       "    </tr>\n",
       "  </thead></table>\n",
       "<script type=\"text/javascript\">\n",
       "require([\"datatables\"], function (datatables) {\n",
       "    $(document).ready(function () {\n",
       "        var dt_args = {\"columnDefs\": [{\"width\": \"70px\", \"targets\": \"_all\"}], \"data\": [[0, 38166820, \"NOTHINGHERE\", NaN, NaN], [1, 38166821, \"NOTHINGHERE\", NaN, NaN], [2, 38166823, \"DEEPLETSEAANEMONE\", 2.0, 1.5], [3, 38166824, \"NOTHINGHERE\", NaN, NaN], [4, 38166825, \"NOTHINGHERE\", NaN, NaN], [5, 38166826, \"NOTHINGHERE\", NaN, NaN], [6, 38166827, \"DEEPLETSEAANEMONE\", 4.0, 0.0], [7, 38166828, \"DEEPLETSEAANEMONE\", 1.0, 0.0], [8, 38166829, \"NOTHINGHERE\", NaN, NaN], [9, 38166830, \"DEEPLETSEAANEMONE\", 1.0, 3.0], [10, 38166832, \"NOTHINGHERE\", NaN, NaN], [11, 38166833, \"DEEPLETSEAANEMONE\", 1.0, 3.0], [12, 38166836, \"DEEPLETSEAANEMONE\", 2.0, 1.0], [13, 38166837, \"DEEPLETSEAANEMONE\", 1.0, 7.0], [14, 38166838, \"NOTHINGHERE\", NaN, NaN], [15, 38166840, \"NOTHINGHERE\", NaN, NaN], [16, 38166841, \"DEEPLETSEAANEMONE\", 4.0, 0.0], [17, 38166849, \"DEEPLETSEAANEMONE\", 1.5, 5.5], [18, 38166850, \"DEEPLETSEAANEMONE\", 1.0, 1.5], [19, 38166857, \"DEEPLETSEAANEMONE\", 3.0, 0.0], [20, 38166858, \"DEEPLETSEAANEMONE\", 1.0, 0.0], [21, 38166861, \"FISHANYSPECIES\", 1.0, 0.0], [22, 38166876, \"DEEPLETSEAANEMONE\", 1.0, 0.0], [23, 38166877, \"DEEPLETSEAANEMONE\", 4.0, 0.0], [24, 38166879, \"DEEPWATERCORAL\", 2.0, 0.0], [25, 38166882, \"NOTHINGHERE\", NaN, NaN], [26, 38166884, \"DEEPLETSEAANEMONE\", 3.0, 0.0], [27, 38166887, \"DEEPLETSEAANEMONE\", 3.0, 1.0], [28, 38166889, \"DEEPLETSEAANEMONE\", 2.0, 0.0], [29, 38166897, \"DEEPLETSEAANEMONE\", 1.0, 2.0], [30, 38166901, \"DEEPLETSEAANEMONE\", 2.0, 6.0], [31, 38166911, \"FISHANYSPECIES\", 1.0, 0.0], [32, 38166912, \"DEEPLETSEAANEMONE\", 4.0, 2.0], [33, 38166913, \"DEEPLETSEAANEMONE\", 2.0, 8.0], [34, 38166918, \"DEEPLETSEAANEMONE\", 2.0, 0.0], [35, 38166927, \"DEEPLETSEAANEMONE\", 2.0, 0.5], [36, 38166929, \"DEEPLETSEAANEMONE\", 1.0, 0.0], [37, 38166935, \"DEEPLETSEAANEMONE\", 1.0, 0.0], [38, 38166935, \"DEEPWATERCORAL\", 2.0, 0.0], [39, 38166942, \"DEEPLETSEAANEMONE\", 4.0, 0.0], [40, 39384176, \"NOTHINGHERE\", NaN, NaN], [41, 39384185, \"NOTHINGHERE\", NaN, NaN], [42, 39384186, \"NOTHINGHERE\", NaN, NaN], [43, 39384188, \"FOOTBALLSPONGE\", 2.0, 0.0], [44, 39384195, \"FOOTBALLSPONGE\", 1.5, 0.0], [45, 39384209, \"DEEPSEAKINGCRAB\", 1.0, 0.0], [46, 39384222, \"DEEPSEAKINGCRAB\", 1.5, 0.0], [47, 39384228, \"FOOTBALLSPONGE\", 2.5, 0.0], [48, 39384249, \"DEEPSEAKINGCRAB\", 1.0, 0.0], [49, 39384253, \"DEEPSEAKINGCRAB\", 1.0, 0.0], [50, 39384256, \"FOOTBALLSPONGE\", 3.0, 0.0], [51, 39384259, \"FISHANYSPECIES\", 4.0, 0.0], [52, 39384267, \"FISHANYSPECIES\", 1.0, 0.0], [53, 39384269, \"NOTHINGHERE\", NaN, NaN], [54, 39384274, \"TALLSEAPEN\", 1.0, 3.0], [55, 39384275, \"NOTHINGHERE\", NaN, NaN], [56, 39384276, \"ECHINODERMANYSPECIES\", 1.0, 0.0], [57, 39384280, \"COMMONSEAPEN\", 1.0, 1.5], [58, 39384282, \"NOTHINGHERE\", NaN, NaN], [59, 39384283, \"FISHANYSPECIES\", 1.0, 0.0], [60, 39384284, \"NOTHINGHERE\", NaN, NaN], [61, 39384285, \"NOTHINGHERE\", NaN, NaN], [62, 39384291, \"NOTHINGHERE\", NaN, NaN], [63, 39384292, \"NORWAYLOBSTER\", 2.0, 0.0], [64, 39384295, \"NORWAYLOBSTER\", 1.0, 0.0], [65, 39384296, \"FISHANYSPECIES\", 1.0, 0.0], [66, 39384298, \"NOTHINGHERE\", NaN, NaN], [67, 39384302, \"NORWAYLOBSTER\", 1.0, 0.0], [68, 39384304, \"NOTHINGHERE\", NaN, NaN], [69, 39384306, \"DEEPSEAKINGCRAB\", 1.0, 0.0], [70, 39384320, \"COMMONSEAURCHIN\", 1.0, 0.0], [71, 39384324, \"NORWAYLOBSTER\", 1.0, 6.0], [72, 39384325, \"CRUSTACEANANYSPECIES\", 1.0, 0.0], [73, 39384325, \"NORWAYLOBSTER\", 1.0, 0.0], [74, 39384326, \"ECHINODERMANYSPECIES\", 1.0, 0.0], [75, 39384328, \"ECHINODERMANYSPECIES\", 1.0, 0.0], [76, 39384329, \"NOTHINGHERE\", NaN, NaN], [77, 39384330, \"NOTHINGHERE\", NaN, NaN], [78, 39384331, \"FOOTBALLSPONGE\", 4.0, 2.0], [79, 39384337, \"FANSHAPEDSPONGE\", 1.0, 0.0], [80, 39384344, \"NOTHINGHERE\", NaN, NaN], [81, 39384346, \"FISHANYSPECIES\", 1.0, 7.0], [82, 39384347, \"NOTHINGHERE\", NaN, NaN], [83, 39384349, \"NOTHINGHERE\", NaN, NaN], [84, 39384350, \"FISHANYSPECIES\", 1.0, 0.0], [85, 39384351, \"SUGARSTARFISH\", 1.0, 0.0], [86, 39384352, \"NOTHINGHERE\", NaN, NaN], [87, 39384356, \"NOTHINGHERE\", NaN, NaN], [88, 39384357, \"DEEPSEAKINGCRAB\", 1.0, 0.0], [89, 39384358, \"NOTHINGHERE\", NaN, NaN], [90, 39384360, \"NOTHINGHERE\", NaN, NaN], [91, 39384362, \"DEEPSEAKINGCRAB\", 1.0, 4.0], [92, 39384363, \"NOTHINGHERE\", NaN, NaN], [93, 39384364, \"NOTHINGHERE\", NaN, NaN], [94, 39384365, \"NOTHINGHERE\", NaN, NaN], [95, 39384366, \"NOTHINGHERE\", NaN, NaN], [96, 39384371, \"NOTHINGHERE\", NaN, NaN], [97, 39384372, \"NOTHINGHERE\", NaN, NaN], [98, 39384376, \"NOTHINGHERE\", NaN, NaN], [99, 39384377, \"NOTHINGHERE\", NaN, NaN], [100, 39384379, \"NOTHINGHERE\", NaN, NaN], [101, 39384382, \"NOTHINGHERE\", NaN, NaN], [102, 39384384, \"DEEPLETSEAANEMONE\", 1.0, 0.0], [103, 39384385, \"DEEPLETSEAANEMONE\", 1.0, 8.0], [104, 39384386, \"NOTHINGHERE\", NaN, NaN], [105, 39384387, \"NOTHINGHERE\", NaN, NaN], [106, 39384390, \"DEEPLETSEAANEMONE\", 2.0, 7.5], [107, 39384396, \"NOTHINGHERE\", NaN, NaN], [108, 39384397, \"DEEPLETSEAANEMONE\", 1.0, 3.0], [109, 39384399, \"DEEPLETSEAANEMONE\", 2.0, 4.0], [110, 39384406, \"DEEPLETSEAANEMONE\", 3.0, 3.0], [111, 39384407, \"DEEPLETSEAANEMONE\", 2.0, 2.0], [112, 39384408, \"DEEPLETSEAANEMONE\", 1.0, 5.0], [113, 39384415, \"DEEPLETSEAANEMONE\", 2.0, 0.0], [114, 39384417, \"DEEPLETSEAANEMONE\", 1.0, 0.0], [115, 39384418, \"DEEPLETSEAANEMONE\", 1.0, 2.0], [116, 39384422, \"DEEPLETSEAANEMONE\", 2.0, 0.0], [117, 39384423, \"DEEPLETSEAANEMONE\", 1.0, 0.0], [118, 39384427, \"DEEPLETSEAANEMONE\", 1.0, 2.0], [119, 39384433, \"FISHANYSPECIES\", 1.0, 0.0], [120, 39384435, \"DEEPLETSEAANEMONE\", 1.0, 0.0], [121, 39384436, \"FISHANYSPECIES\", 1.0, 5.0], [122, 39384437, \"DEEPLETSEAANEMONE\", 1.0, 3.0], [123, 39384450, \"DEEPLETSEAANEMONE\", 1.0, 5.0], [124, 39384451, \"FISHANYSPECIES\", 3.0, 0.0], [125, 39384452, \"NOTHINGHERE\", NaN, NaN], [126, 39384457, \"DEEPLETSEAANEMONE\", 2.0, 0.0], [127, 39384463, \"FOOTBALLSPONGE\", 4.0, 0.0], [128, 39384469, \"FOOTBALLSPONGE\", 4.0, 0.0], [129, 39384473, \"DEEPLETSEAANEMONE\", 4.0, 0.0], [130, 39384484, \"FOOTBALLSPONGE\", 4.0, 0.0], [131, 39384486, \"NOTHINGHERE\", NaN, NaN], [132, 39384490, \"CUSHINSTAR\", 1.0, 2.0], [133, 39384493, \"DEEPSEAKINGCRAB\", 2.0, 0.0], [134, 39384499, \"NOTHINGHERE\", NaN, NaN], [135, 39384500, \"NOTHINGHERE\", NaN, NaN], [136, 39384501, \"NOTHINGHERE\", NaN, NaN], [137, 39384503, \"FISHANYSPECIES\", 4.0, 0.0], [138, 39384507, \"FISHANYSPECIES\", 4.0, 0.0], [139, 39384513, \"NOTHINGHERE\", NaN, NaN], [140, 39384514, \"NOTHINGHERE\", NaN, NaN], [141, 39384515, \"NOTHINGHERE\", NaN, NaN], [142, 39384516, \"FISHANYSPECIES\", 1.0, 0.0], [143, 39384517, \"COMMONSEAURCHIN\", 1.0, 0.0], [144, 39384520, \"DEEPSEAKINGCRAB\", 1.0, 0.0], [145, 39384521, \"NOTHINGHERE\", NaN, NaN], [146, 39384525, \"NOTHINGHERE\", NaN, NaN], [147, 39384527, \"NOTHINGHERE\", NaN, NaN], [148, 39384528, \"FISHANYSPECIES\", 2.0, 1.0], [149, 39384533, \"DEEPLETSEAANEMONE\", 4.0, 0.0], [150, 39384537, \"NOTHINGHERE\", NaN, NaN], [151, 39384540, \"FISHANYSPECIES\", 1.0, 1.0], [152, 39384541, \"FISHANYSPECIES\", 4.0, 0.0], [153, 39384542, \"FISHANYSPECIES\", 4.0, 5.0], [154, 39384544, \"NOTHINGHERE\", NaN, NaN], [155, 39384545, \"FOOTBALLSPONGE\", 4.0, 2.0], [156, 39384547, \"DEEPLETSEAANEMONE\", 4.0, 0.0], [157, 39384552, \"DEEPSEAKINGCRAB\", 1.0, 0.0], [158, 39384553, \"NORTHERNSHRIMP\", 1.0, 0.0], [159, 39384563, \"FISHANYSPECIES\", 2.0, 2.5], [160, 39384564, \"FISHANYSPECIES\", 1.0, 0.0], [161, 39384569, \"COMMONSEAPEN\", 1.0, 0.0], [162, 39384570, \"COMMONSEAPEN\", 1.0, 0.0], [163, 39384574, \"TALLSEAPEN\", 1.0, 2.5], [164, 39384576, \"FISHANYSPECIES\", 1.0, 3.5], [165, 39384583, \"NOTHINGHERE\", NaN, NaN], [166, 39384584, \"NOTHINGHERE\", NaN, NaN], [167, 39384588, \"NOTHINGHERE\", NaN, NaN], [168, 39384589, \"NOTHINGHERE\", NaN, NaN], [169, 39384592, \"NOTHINGHERE\", NaN, NaN], [170, 39384594, \"CUSHINSTAR\", 1.0, 4.0], [171, 39384600, \"NOTHINGHERE\", NaN, NaN], [172, 39384606, \"COMMONSEAURCHIN\", 1.0, 0.0], [173, 39384607, \"NOTHINGHERE\", NaN, NaN], [174, 39384608, \"COMMONSEAURCHIN\", 1.0, 3.0], [175, 39384610, \"NOTHINGHERE\", NaN, NaN], [176, 39384615, \"NOTHINGHERE\", NaN, NaN], [177, 39384619, \"NOTHINGHERE\", NaN, NaN], [178, 39384624, \"NOTHINGHERE\", NaN, NaN], [179, 39384627, \"NOTHINGHERE\", NaN, NaN], [180, 39384629, \"NOTHINGHERE\", NaN, NaN], [181, 39384631, \"NOTHINGHERE\", NaN, NaN], [182, 39384642, \"NOTHINGHERE\", NaN, NaN], [183, 39384657, \"BLACKBRITTLESTAR\", 4.0, 0.0], [184, 39384658, \"BLACKBRITTLESTAR\", 4.0, 0.0], [185, 39384661, \"NOTHINGHERE\", NaN, NaN], [186, 39384678, \"NOTHINGHERE\", NaN, NaN], [187, 39384681, \"NOTHINGHERE\", NaN, NaN], [188, 39384687, \"FOOTBALLSPONGE\", 1.0, 0.0], [189, 39384688, \"NOTHINGHERE\", NaN, NaN], [190, 39384689, \"NOTHINGHERE\", NaN, NaN], [191, 39384691, \"NOTHINGHERE\", NaN, NaN], [192, 39384695, \"FISHANYSPECIES\", 1.0, 0.0], [193, 39384696, \"FISHANYSPECIES\", 1.0, 0.0], [194, 39384697, \"FISHANYSPECIES\", 1.0, 0.0], [195, 39384698, \"NOTHINGHERE\", NaN, NaN], [196, 39384699, \"DEEPSEAKINGCRAB\", 1.0, 0.0], [197, 39384709, \"NOTHINGHERE\", NaN, NaN], [198, 39384718, \"FISHANYSPECIES\", 1.0, 0.0], [199, 39384719, \"NOTHINGHERE\", NaN, NaN], [200, 39384720, \"NOTHINGHERE\", NaN, NaN], [201, 39384724, \"NOTHINGHERE\", NaN, NaN], [202, 39384730, \"NOTHINGHERE\", NaN, NaN], [203, 39384731, \"NOTHINGHERE\", NaN, NaN], [204, 39384732, \"NOTHINGHERE\", NaN, NaN], [205, 39384735, \"CRUSTACEANANYSPECIES\", 1.0, 0.0], [206, 39384739, \"FISHANYSPECIES\", 1.0, 5.0], [207, 39384740, \"COMMONSEAURCHIN\", 1.0, 0.0], [208, 39384748, \"NOTHINGHERE\", NaN, NaN], [209, 39384753, \"SUGARSTARFISH\", 1.0, 0.0], [210, 39384754, \"NOTHINGHERE\", NaN, NaN], [211, 39384758, \"NOTHINGHERE\", NaN, NaN], [212, 39384759, \"FOOTBALLSPONGE\", 1.0, 0.0], [213, 39384760, \"FISHANYSPECIES\", 1.0, 0.0], [214, 39384768, \"DEEPWATERCORAL\", 2.0, 0.0], [215, 39384780, \"DEEPWATERCORAL\", 1.0, 0.0], [216, 39384782, \"DEEPWATERCORAL\", 4.0, 0.0], [217, 39384789, \"DEEPWATERCORAL\", 1.0, 0.0], [218, 39384792, \"DEEPWATERCORAL\", 4.0, 0.0], [219, 39384798, \"DEEPLETSEAANEMONE\", 1.0, 5.0], [220, 39384800, \"DEEPLETSEAANEMONE\", 4.0, 0.0], [221, 39384804, \"DEEPLETSEAANEMONE\", 1.0, 0.0], [222, 39384805, \"DEEPLETSEAANEMONE\", 1.0, 5.0], [223, 39384809, \"DEEPLETSEAANEMONE\", 1.0, 0.0], [224, 39384810, \"DEEPLETSEAANEMONE\", 2.0, 1.0], [225, 39384819, \"DEEPLETSEAANEMONE\", 2.0, 2.0], [226, 39384821, \"DEEPLETSEAANEMONE\", 1.0, 6.0], [227, 39384826, \"DEEPLETSEAANEMONE\", 4.0, 0.0], [228, 39384827, \"DEEPLETSEAANEMONE\", 3.5, 2.0], [229, 39384829, \"DEEPLETSEAANEMONE\", 4.0, 0.0], [230, 39384831, \"DEEPLETSEAANEMONE\", 1.0, 0.0], [231, 39384832, \"DEEPLETSEAANEMONE\", 3.0, 0.0], [232, 39384834, \"DEEPWATERCORAL\", 1.0, 0.0], [233, 39384839, \"DEEPWATERCORAL\", 3.0, 0.0], [234, 39384840, \"DEEPWATERCORAL\", 1.0, 0.0], [235, 39384855, \"DEEPWATERCORAL\", 4.0, 0.0], [236, 39384874, \"DEEPLETSEAANEMONE\", 1.0, 0.0], [237, 39384876, \"DEEPLETSEAANEMONE\", 3.0, 1.5], [238, 39384881, \"DEEPWATERCORAL\", 4.0, 0.0], [239, 39384883, \"DEEPWATERCORAL\", 2.0, 0.0], [240, 39384884, \"DEEPWATERCORAL\", 1.0, 0.0], [241, 39384886, \"DEEPLETSEAANEMONE\", 2.0, 2.0], [242, 39384887, \"DEEPLETSEAANEMONE\", 3.0, 1.0], [243, 39384888, \"DEEPLETSEAANEMONE\", 2.0, 0.0], [244, 39384890, \"DEEPLETSEAANEMONE\", 2.0, 7.0], [245, 39384891, \"DEEPLETSEAANEMONE\", 2.0, 0.0], [246, 39384894, \"DEEPWATERCORAL\", 1.0, 3.0], [247, 39384899, \"DEEPWATERCORAL\", 4.0, 0.0], [248, 39384902, \"DEEPWATERCORAL\", 4.0, 0.0], [249, 39384905, \"DEEPWATERCORAL\", 4.0, 0.0], [250, 39384906, \"FISHANYSPECIES\", 1.0, 0.0], [251, 39384908, \"DEEPWATERCORAL\", 3.5, 0.0], [252, 39384910, \"DEEPLETSEAANEMONE\", 1.0, 9.0], [253, 39384912, \"FISHANYSPECIES\", 1.0, 0.0], [254, 39384915, \"DEEPWATERCORAL\", 1.0, 0.0], [255, 39384916, \"DEEPLETSEAANEMONE\", 2.0, 2.0], [256, 39384919, \"DEEPLETSEAANEMONE\", 3.0, 0.0], [257, 39384925, \"COMMONSEAURCHIN\", 1.0, 0.0], [258, 39384925, \"DEEPLETSEAANEMONE\", 1.0, 0.0], [259, 39384927, \"DEEPLETSEAANEMONE\", 1.0, 8.5], [260, 39384928, \"DEEPLETSEAANEMONE\", 1.0, 0.5], [261, 39384928, \"NORTHERNSHRIMP\", 1.0, 0.0], [262, 39384929, \"DEEPLETSEAANEMONE\", 1.0, 0.0], [263, 39384931, \"NOTHINGHERE\", NaN, NaN], [264, 39384932, \"FISHANYSPECIES\", 1.0, 0.0], [265, 39384933, \"NOTHINGHERE\", NaN, NaN], [266, 39384941, \"DEEPLETSEAANEMONE\", 1.0, 9.0], [267, 39384944, \"NOTHINGHERE\", NaN, NaN], [268, 40154712, \"DEEPLETSEAANEMONE\", 3.0, 0.0], [269, 40154721, \"FOOTBALLSPONGE\", 2.0, 1.0], [270, 40154722, \"DEEPLETSEAANEMONE\", 3.0, 6.0], [271, 40154733, \"DEEPLETSEAANEMONE\", 2.0, 0.0], [272, 40154744, \"DEEPWATERCORAL\", 1.0, 2.0], [273, 40154746, \"DEEPWATERCORAL\", 1.0, 0.0], [274, 40154767, \"DEEPLETSEAANEMONE\", 2.0, 0.0], [275, 40154771, \"DEEPLETSEAANEMONE\", 2.0, 2.0], [276, 40154818, \"DEEPLETSEAANEMONE\", 2.0, 2.0], [277, 40154840, \"DEEPWATERCORAL\", 1.0, 0.0], [278, 40154845, \"DEEPLETSEAANEMONE\", 4.0, 0.0], [279, 40154858, \"DEEPLETSEAANEMONE\", 3.0, 4.0], [280, 40154918, \"DEEPLETSEAANEMONE\", 2.0, 5.0], [281, 40154920, \"DEEPLETSEAANEMONE\", 2.0, 0.0], [282, 40154931, \"DEEPLETSEAANEMONE\", 1.0, 0.0], [283, 40154932, \"DEEPLETSEAANEMONE\", 1.0, 0.0], [284, 40154935, \"DEEPLETSEAANEMONE\", 1.0, 4.0], [285, 40154936, \"DEEPLETSEAANEMONE\", 2.5, 1.0], [286, 40154940, \"SPONGEANYSPECIES\", 4.0, 1.0], [287, 40154953, \"NOTHINGHERE\", NaN, NaN], [288, 40155022, \"DEEPWATERCORAL\", 3.0, 0.0], [289, 40155033, \"DEEPLETSEAANEMONE\", 2.0, 5.0], [290, 40155041, \"DEEPLETSEAANEMONE\", 3.0, 0.0], [291, 40155043, \"DEEPLETSEAANEMONE\", 1.0, 1.0], [292, 40155057, \"SPONGEANYSPECIES\", 1.0, 4.0], [293, 40155058, \"DEEPLETSEAANEMONE\", 1.0, 0.0], [294, 40155104, \"DEEPLETSEAANEMONE\", 2.0, 0.0], [295, 40155116, \"DEEPLETSEAANEMONE\", 2.0, 0.0], [296, 40155135, \"DEEPLETSEAANEMONE\", 1.0, 0.0], [297, 40155140, \"DEEPLETSEAANEMONE\", 1.0, 0.0], [298, 40155146, \"DEEPLETSEAANEMONE\", 1.0, 0.0], [299, 40155158, \"DEEPLETSEAANEMONE\", 1.0, 5.0], [300, 40155185, \"DEEPLETSEAANEMONE\", 4.0, 0.0], [301, 40155207, \"NOTHINGHERE\", NaN, NaN], [302, 40155223, \"FISHANYSPECIES\", 1.0, 0.0], [303, 40155224, \"FISHANYSPECIES\", 1.0, 0.0], [304, 40155234, \"FISHANYSPECIES\", 1.0, 0.0], [305, 40155238, \"FISHANYSPECIES\", 1.0, 0.0], [306, 40155244, \"FISHANYSPECIES\", 1.0, 0.0], [307, 40155250, \"FISHANYSPECIES\", 1.0, 0.0], [308, 40155260, \"FISHANYSPECIES\", 1.0, 0.0], [309, 40155319, \"DEEPLETSEAANEMONE\", 1.0, 8.0], [310, 40155320, \"DEEPLETSEAANEMONE\", 1.0, 0.0], [311, 40155325, \"DEEPLETSEAANEMONE\", 1.0, 0.0], [312, 40155372, \"NOTHINGHERE\", NaN, NaN], [313, 40155378, \"DEEPLETSEAANEMONE\", 1.0, 4.0], [314, 40155385, \"DEEPLETSEAANEMONE\", 4.0, 0.0], [315, 40155389, \"DEEPLETSEAANEMONE\", 2.0, 0.0], [316, 40155393, \"DEEPLETSEAANEMONE\", 4.0, 0.5], [317, 40155440, \"NOTHINGHERE\", NaN, NaN], [318, 40155450, \"NOTHINGHERE\", NaN, NaN], [319, 40155459, \"NOTHINGHERE\", NaN, NaN], [320, 40155495, \"DEEPLETSEAANEMONE\", 2.0, 0.0], [321, 40155500, \"DEEPLETSEAANEMONE\", 1.0, 0.5], [322, 40155518, \"DEEPWATERCORAL\", 1.0, 2.5], [323, 40155534, \"NOTHINGHERE\", NaN, NaN], [324, 40155537, \"NOTHINGHERE\", NaN, NaN], [325, 40155540, \"DEEPLETSEAANEMONE\", 2.0, 0.0], [326, 40155560, \"DEEPLETSEAANEMONE\", 2.0, 0.0], [327, 40155636, \"DEEPWATERCORAL\", 3.0, 2.0], [328, 40155642, \"DEEPLETSEAANEMONE\", 2.0, 0.0], [329, 40155655, \"DEEPLETSEAANEMONE\", 3.0, 0.0], [330, 40155659, \"DEEPLETSEAANEMONE\", 2.0, 0.0], [331, 40155661, \"DEEPLETSEAANEMONE\", 2.0, 0.0], [332, 40155680, \"NORTHERNSHRIMP\", 4.0, 0.0], [333, 40155730, \"NOTHINGHERE\", NaN, NaN], [334, 40155746, \"DEEPLETSEAANEMONE\", 1.0, 0.0], [335, 40155755, \"DEEPLETSEAANEMONE\", 1.0, 7.0], [336, 40155757, \"DEEPLETSEAANEMONE\", 1.0, 0.0], [337, 40155826, \"DEEPLETSEAANEMONE\", 1.0, 1.0], [338, 40155829, \"DEEPLETSEAANEMONE\", 3.0, 0.0], [339, 40155894, \"DEEPLETSEAANEMONE\", 3.0, 0.0], [340, 40155920, \"DEEPLETSEAANEMONE\", 3.0, 0.0], [341, 40155931, \"DEEPLETSEAANEMONE\", 1.0, 0.0], [342, 40155979, \"DEEPLETSEAANEMONE\", 2.0, 0.0], [343, 40156000, \"DEEPLETSEAANEMONE\", 2.0, 0.0], [344, 40156006, \"FISHANYSPECIES\", 4.0, 5.5], [345, 40156009, \"DEEPLETSEAANEMONE\", 1.0, 0.0], [346, 40156051, \"DEEPLETSEAANEMONE\", 2.0, 0.0], [347, 40156095, \"DEEPLETSEAANEMONE\", 3.0, 0.0], [348, 40156097, \"DEEPLETSEAANEMONE\", 2.0, 9.0], [349, 40156109, \"DEEPLETSEAANEMONE\", 3.0, 4.5], [350, 40159296, \"DEEPLETSEAANEMONE\", 3.0, 0.0], [351, 40159300, \"DEEPLETSEAANEMONE\", 2.0, 0.0], [352, 40159301, \"FISHANYSPECIES\", 1.0, 0.0], [353, 40159306, \"FISHANYSPECIES\", 1.0, 0.0], [354, 40159308, \"DEEPLETSEAANEMONE\", 1.0, 6.0], [355, 40159310, \"DEEPLETSEAANEMONE\", 1.0, 0.0], [356, 40159313, \"DEEPLETSEAANEMONE\", 1.0, 0.5], [357, 40159322, \"DEEPLETSEAANEMONE\", 4.0, 1.0], [358, 40159323, \"DEEPLETSEAANEMONE\", 1.0, 0.0], [359, 40159329, \"FISHANYSPECIES\", 1.0, 0.0], [360, 40159339, \"DEEPLETSEAANEMONE\", 3.5, 2.5], [361, 40159349, \"DEEPLETSEAANEMONE\", 3.0, 0.5], [362, 40159365, \"DEEPLETSEAANEMONE\", 1.0, 6.0], [363, 40159380, \"DEEPLETSEAANEMONE\", 1.0, 0.0], [364, 40159386, \"DEEPLETSEAANEMONE\", 1.0, 0.0], [365, 40159399, \"FISHANYSPECIES\", 1.0, 0.0], [366, 40159402, \"FISHANYSPECIES\", 1.0, 4.5], [367, 40159414, \"NORTHERNSHRIMP\", 1.0, 0.0], [368, 40159421, \"SPONGEANYSPECIES\", 1.0, 0.0], [369, 40159424, \"DEEPLETSEAANEMONE\", 4.0, 0.0], [370, 40159435, \"NOTHINGHERE\", NaN, NaN], [371, 40159447, \"NOTHINGHERE\", NaN, NaN], [372, 40159496, \"FOOTBALLSPONGE\", 4.0, 0.0], [373, 40159515, \"FOOTBALLSPONGE\", 4.0, 0.5], [374, 40159515, \"NORTHERNSHRIMP\", 2.0, 1.0], [375, 40159530, \"FOOTBALLSPONGE\", 4.0, 0.0], [376, 40159551, \"FOOTBALLSPONGE\", 4.0, 1.0], [377, 40159552, \"FISHANYSPECIES\", 4.0, 1.0], [378, 40159554, \"DEEPLETSEAANEMONE\", 4.0, 0.0], [379, 40159577, \"NOTHINGHERE\", NaN, NaN], [380, 40159589, \"DEEPLETSEAANEMONE\", 4.0, 0.0], [381, 40159599, \"DEEPSEAKINGCRAB\", 1.0, 5.0], [382, 40159602, \"DEEPLETSEAANEMONE\", 4.0, 6.5], [383, 40159602, \"DEEPSEAKINGCRAB\", 1.0, 0.0], [384, 40159607, \"DEEPSEAKINGCRAB\", 1.0, 0.0], [385, 40159611, \"FOOTBALLSPONGE\", 3.0, 2.0], [386, 40159621, \"DEEPSEAKINGCRAB\", 1.0, 0.0], [387, 40159650, \"FOOTBALLSPONGE\", 1.0, 0.0], [388, 40159662, \"DEEPSEAKINGCRAB\", 1.0, 0.0], [389, 40159662, \"FOOTBALLSPONGE\", 1.0, 0.0], [390, 40159668, \"DEEPLETSEAANEMONE\", 4.0, 2.0], [391, 40159673, \"DEEPLETSEAANEMONE\", 4.0, 0.0], [392, 40159673, \"FOOTBALLSPONGE\", 4.0, 0.0], [393, 40159679, \"NOTHINGHERE\", NaN, NaN], [394, 40159681, \"NOTHINGHERE\", NaN, NaN], [395, 40159685, \"NOTHINGHERE\", NaN, NaN], [396, 40159698, \"FOOTBALLSPONGE\", 4.0, 2.5], [397, 40159702, \"DEEPLETSEAANEMONE\", 2.0, 4.5], [398, 40159715, \"FOOTBALLSPONGE\", 4.0, 0.0], [399, 40159718, \"CUSHINSTAR\", 1.0, 0.0], [400, 40159720, \"CUSHINSTAR\", 1.0, 1.0], [401, 40159735, \"DEEPSEAKINGCRAB\", 3.0, 1.0], [402, 40159742, \"DEEPLETSEAANEMONE\", 3.5, 2.0], [403, 40159758, \"DEEPSEAKINGCRAB\", 1.0, 6.0], [404, 40159760, \"DEEPLETSEAANEMONE\", 1.0, 5.0], [405, 40159771, \"COMMONSEAURCHIN\", 1.0, 0.0], [406, 40159777, \"NOTHINGHERE\", NaN, NaN], [407, 40159783, \"NOTHINGHERE\", NaN, NaN], [408, 40159796, \"FISHANYSPECIES\", 1.0, 2.0], [409, 40159801, \"DEADMANSFINGERS\", 4.0, 0.0], [410, 40159801, \"SPONGEANYSPECIES\", 4.0, 0.0], [411, 40159829, \"FISHANYSPECIES\", 2.5, 0.0], [412, 40159830, \"FISHANYSPECIES\", 4.0, 0.0], [413, 40159842, \"FISHANYSPECIES\", 4.0, 0.0], [414, 40159848, \"HUMANOBJECTS\", NaN, 0.0], [415, 40159853, \"FISHANYSPECIES\", 3.0, 0.0], [416, 40159866, \"FISHANYSPECIES\", 4.0, 1.5], [417, 40159873, \"FISHANYSPECIES\", 4.0, 2.5], [418, 40159876, \"FISHANYSPECIES\", 2.0, 5.0], [419, 40159880, \"NOTHINGHERE\", NaN, NaN], [420, 40159888, \"COMMONSEAURCHIN\", 1.0, 0.0], [421, 40159906, \"NOTHINGHERE\", NaN, NaN], [422, 40159920, \"DEEPSEAKINGCRAB\", 1.0, 0.0], [423, 40159927, \"NOTHINGHERE\", NaN, NaN], [424, 40159931, \"DEEPLETSEAANEMONE\", 3.0, 0.0], [425, 40159936, \"FOOTBALLSPONGE\", 3.0, 2.0], [426, 40159943, \"NORTHERNSHRIMP\", 1.0, 0.0], [427, 40159951, \"NOTHINGHERE\", NaN, NaN], [428, 40159959, \"NOTHINGHERE\", NaN, NaN], [429, 40159961, \"NOTHINGHERE\", NaN, NaN], [430, 40159972, \"NOTHINGHERE\", NaN, NaN], [431, 40159975, \"NOTHINGHERE\", NaN, NaN], [432, 40159976, \"NOTHINGHERE\", NaN, NaN], [433, 40159982, \"FISHANYSPECIES\", 1.0, 0.5], [434, 40160002, \"NOTHINGHERE\", NaN, NaN], [435, 40160016, \"DEEPLETSEAANEMONE\", 1.5, 6.0], [436, 40160038, \"NOTHINGHERE\", NaN, NaN], [437, 40160044, \"NOTHINGHERE\", NaN, NaN], [438, 40160045, \"NOTHINGHERE\", NaN, NaN], [439, 40160049, \"FISHANYSPECIES\", 1.0, 2.0], [440, 40160051, \"NOTHINGHERE\", NaN, NaN], [441, 40160061, \"NOTHINGHERE\", NaN, NaN], [442, 40160067, \"FISHANYSPECIES\", 2.0, 0.0], [443, 40160068, \"FISHANYSPECIES\", 1.0, 1.0], [444, 40160074, \"FISHANYSPECIES\", 4.0, 0.0], [445, 40160075, \"FISHANYSPECIES\", 4.0, 1.0], [446, 40160110, \"DEEPLETSEAANEMONE\", 4.0, 0.0], [447, 40160119, \"CUSHINSTAR\", 1.0, 0.0], [448, 40160139, \"DEEPSEAKINGCRAB\", 1.0, 0.0], [449, 40160143, \"FANSHAPEDSPONGE\", 1.0, 3.5], [450, 40160151, \"DEEPLETSEAANEMONE\", 3.0, 1.0], [451, 40160154, \"DEEPLETSEAANEMONE\", 2.0, 0.0], [452, 40160155, \"DEEPSEAKINGCRAB\", 1.0, 6.0], [453, 40160163, \"FISHANYSPECIES\", 4.0, 0.0], [454, 40160164, \"FISHANYSPECIES\", 1.0, 0.0], [455, 40160188, \"FOOTBALLSPONGE\", 4.0, 0.0], [456, 40160200, \"FANSHAPEDSPONGE\", 2.0, 2.0], [457, 40160200, \"FOOTBALLSPONGE\", 4.0, 0.0], [458, 40160211, \"FISHANYSPECIES\", 1.0, 7.0], [459, 40160214, \"COMMONSEAURCHIN\", 1.0, 0.0], [460, 40160218, \"NOTHINGHERE\", NaN, NaN], [461, 40160222, \"NOTHINGHERE\", NaN, NaN], [462, 40160236, \"NOTHINGHERE\", NaN, NaN], [463, 40160257, \"COMMONSEAPEN\", 1.0, 0.0], [464, 40160259, \"COMMONSEAPEN\", 1.0, 0.0], [465, 40160264, \"COMMONSEAPEN\", 1.0, 0.0], [466, 40160287, \"FISHANYSPECIES\", 1.0, 0.0], [467, 40160298, \"TALLSEAPEN\", 1.0, 0.0], [468, 40160306, \"NOTHINGHERE\", NaN, NaN], [469, 40160310, \"TALLSEAPEN\", 1.0, 0.0], [470, 40160362, \"CRUSTACEANANYSPECIES\", 1.0, 0.0], [471, 40160380, \"SPONGEANYSPECIES\", 1.0, 0.0], [472, 40160391, \"NOTHINGHERE\", NaN, NaN], [473, 40160403, \"COMMONSEAURCHIN\", 1.0, 0.0], [474, 40160407, \"NOTHINGHERE\", NaN, NaN], [475, 40160409, \"COMMONSEAURCHIN\", 1.0, 5.0], [476, 40160430, \"NOTHINGHERE\", NaN, NaN], [477, 40160443, \"NOTHINGHERE\", NaN, NaN], [478, 40160445, \"DEEPSEAKINGCRAB\", 1.0, 0.0], [479, 40160451, \"NOTHINGHERE\", NaN, NaN], [480, 40160465, \"FANSHAPEDSPONGE\", 4.0, 0.0], [481, 40160466, \"FANSHAPEDSPONGE\", 4.0, 0.0], [482, 40160491, \"NORTHERNSHRIMP\", 1.0, 0.0], [483, 40160497, \"NOTHINGHERE\", NaN, NaN], [484, 40160499, \"NOTHINGHERE\", NaN, NaN], [485, 40160502, \"NOTHINGHERE\", NaN, NaN], [486, 40160510, \"NOTHINGHERE\", NaN, NaN], [487, 40160516, \"NOTHINGHERE\", NaN, NaN], [488, 40160522, \"NOTHINGHERE\", NaN, NaN], [489, 40160535, \"NOTHINGHERE\", NaN, NaN], [490, 40160537, \"NOTHINGHERE\", NaN, NaN], [491, 40160557, \"NOTHINGHERE\", NaN, NaN], [492, 40160561, \"NOTHINGHERE\", NaN, NaN], [493, 40160564, \"NOTHINGHERE\", NaN, NaN], [494, 40160567, \"CRUSTACEANANYSPECIES\", 1.0, 0.0], [495, 40160569, \"NOTHINGHERE\", NaN, NaN], [496, 40160578, \"NOTHINGHERE\", NaN, NaN], [497, 40160584, \"FISHANYSPECIES\", 1.0, 0.0], [498, 40160587, \"NOTHINGHERE\", NaN, NaN], [499, 40160604, \"FISHANYSPECIES\", 1.5, 0.5], [500, 40160611, \"NOTHINGHERE\", NaN, NaN], [501, 40160624, \"FISHANYSPECIES\", 3.0, 1.0], [502, 40160627, \"SUGARSTARFISH\", 1.0, 2.5], [503, 40160639, \"NOTHINGHERE\", NaN, NaN], [504, 40160648, \"COMMONSEAURCHIN\", 1.0, 0.0], [505, 40160657, \"NOTHINGHERE\", NaN, NaN], [506, 40160663, \"NOTHINGHERE\", NaN, NaN], [507, 40160671, \"NOTHINGHERE\", NaN, NaN], [508, 40160672, \"NOTHINGHERE\", NaN, NaN], [509, 40160678, \"FISHANYSPECIES\", 1.5, 0.0], [510, 40160680, \"FISHANYSPECIES\", 1.0, 0.0], [511, 40160683, \"NOTHINGHERE\", NaN, NaN], [512, 40160700, \"NOTHINGHERE\", NaN, NaN], [513, 40160770, \"SUGARSTARFISH\", 1.0, 0.0], [514, 40160778, \"NOTHINGHERE\", NaN, NaN], [515, 40160784, \"FISHANYSPECIES\", 1.0, 2.0], [516, 40160829, \"NOTHINGHERE\", NaN, NaN], [517, 40160831, \"NOTHINGHERE\", NaN, NaN], [518, 40160853, \"NOTHINGHERE\", NaN, NaN], [519, 40160876, \"BLACKBRITTLESTAR\", 4.0, 0.0], [520, 40160882, \"NOTHINGHERE\", NaN, NaN], [521, 40160887, \"SPONGEANYSPECIES\", 3.0, 0.5], [522, 40160951, \"NOTHINGHERE\", NaN, NaN], [523, 40160963, \"NOTHINGHERE\", NaN, NaN], [524, 40160996, \"NOTHINGHERE\", NaN, NaN], [525, 40161001, \"NOTHINGHERE\", NaN, NaN], [526, 40161010, \"NOTHINGHERE\", NaN, NaN], [527, 40161047, \"NOTHINGHERE\", NaN, NaN], [528, 40161051, \"FOOTBALLSPONGE\", 1.0, 0.0], [529, 40161061, \"FOOTBALLSPONGE\", 1.0, 0.0], [530, 40161064, \"FOOTBALLSPONGE\", 1.0, 0.0], [531, 40161070, \"FISHANYSPECIES\", 1.0, 1.0], [532, 40161071, \"NOTHINGHERE\", NaN, NaN], [533, 40161092, \"FOOTBALLSPONGE\", 1.0, 0.0], [534, 40161096, \"COMMONSEAURCHIN\", 1.0, 0.0], [535, 40161104, \"COMMONSEAURCHIN\", 1.0, 0.0], [536, 40161106, \"NOTHINGHERE\", NaN, NaN], [537, 40161119, \"NOTHINGHERE\", NaN, NaN], [538, 40161121, \"NOTHINGHERE\", NaN, NaN], [539, 40161124, \"FISHANYSPECIES\", 1.0, 0.0], [540, 40161125, \"FISHANYSPECIES\", 1.0, 0.0], [541, 40161131, \"FISHANYSPECIES\", 1.0, 0.0], [542, 40161133, \"FISHANYSPECIES\", 1.0, 0.0], [543, 40161139, \"FISHANYSPECIES\", 1.0, 0.0], [544, 40161142, \"FISHANYSPECIES\", 1.0, 0.0], [545, 40161155, \"DEEPSEAKINGCRAB\", 1.0, 0.0], [546, 40161163, \"GASTROPODSANYSPECIES\", 1.0, 0.0], [547, 40161170, \"NOTHINGHERE\", NaN, NaN], [548, 40161179, \"NOTHINGHERE\", NaN, NaN], [549, 40161199, \"NOTHINGHERE\", NaN, NaN], [550, 40161225, \"NOTHINGHERE\", NaN, NaN], [551, 40161240, \"BLACKBRITTLESTAR\", 1.0, 0.0], [552, 40161246, \"BLACKBRITTLESTAR\", 1.0, 0.0], [553, 40161253, \"BLACKBRITTLESTAR\", 1.0, 0.0], [554, 40161279, \"ECHINODERMANYSPECIES\", 3.0, 0.0], [555, 40161279, \"FISHANYSPECIES\", 1.0, 0.0], [556, 40161280, \"FISHANYSPECIES\", 1.0, 0.0], [557, 40161285, \"FISHANYSPECIES\", 1.0, 1.5], [558, 40161291, \"NOTHINGHERE\", NaN, NaN], [559, 40161293, \"NOTHINGHERE\", NaN, NaN], [560, 40161300, \"NOTHINGHERE\", NaN, NaN], [561, 40161303, \"FISHANYSPECIES\", 1.0, 0.0], [562, 40161308, \"NOTHINGHERE\", NaN, NaN], [563, 40161323, \"NOTHINGHERE\", NaN, NaN], [564, 40161362, \"NOTHINGHERE\", NaN, NaN], [565, 40161363, \"NOTHINGHERE\", NaN, NaN], [566, 40161366, \"NOTHINGHERE\", NaN, NaN], [567, 40161367, \"NOTHINGHERE\", NaN, NaN], [568, 40161377, \"NOTHINGHERE\", NaN, NaN], [569, 40161386, \"NOTHINGHERE\", NaN, NaN], [570, 40161400, \"NOTHINGHERE\", NaN, NaN], [571, 40161406, \"FANSHAPEDSPONGE\", 4.0, 0.0], [572, 40161417, \"NOTHINGHERE\", NaN, NaN], [573, 40161438, \"COMMONSEAURCHIN\", 1.0, 0.0], [574, 40161440, \"NOTHINGHERE\", NaN, NaN], [575, 40161444, \"NOTHINGHERE\", NaN, NaN], [576, 40161450, \"NOTHINGHERE\", NaN, NaN], [577, 40161476, \"NOTHINGHERE\", NaN, NaN], [578, 40161491, \"NOTHINGHERE\", NaN, NaN], [579, 40161511, \"NOTHINGHERE\", NaN, NaN], [580, 40161512, \"NOTHINGHERE\", NaN, NaN], [581, 40161524, \"NOTHINGHERE\", NaN, NaN], [582, 40161556, \"NOTHINGHERE\", NaN, NaN], [583, 40161565, \"CRUSTACEANANYSPECIES\", 1.0, 2.5], [584, 40161568, \"NOTHINGHERE\", NaN, NaN], [585, 40161572, \"NOTHINGHERE\", NaN, NaN], [586, 40161580, \"FISHANYSPECIES\", 1.0, 0.0], [587, 40161581, \"NOTHINGHERE\", NaN, NaN], [588, 40161600, \"NOTHINGHERE\", NaN, NaN], [589, 40161615, \"NOTHINGHERE\", NaN, NaN], [590, 40161622, \"NOTHINGHERE\", NaN, NaN], [591, 40161636, \"NOTHINGHERE\", NaN, NaN], [592, 40161641, \"NOTHINGHERE\", NaN, NaN], [593, 40161643, \"NOTHINGHERE\", NaN, NaN], [594, 40161645, \"NOTHINGHERE\", NaN, NaN], [595, 40161646, \"NOTHINGHERE\", NaN, NaN], [596, 40161666, \"NOTHINGHERE\", NaN, NaN], [597, 40161667, \"NOTHINGHERE\", NaN, NaN], [598, 40161669, \"NOTHINGHERE\", NaN, NaN], [599, 40161674, \"NOTHINGHERE\", NaN, NaN], [600, 40161682, \"SPONGEANYSPECIES\", 1.0, 0.0], [601, 40161695, \"NOTHINGHERE\", NaN, NaN], [602, 40161698, \"NOTHINGHERE\", NaN, NaN], [603, 40161710, \"NOTHINGHERE\", NaN, NaN], [604, 40161729, \"NOTHINGHERE\", NaN, NaN], [605, 40161732, \"NOTHINGHERE\", NaN, NaN], [606, 40161735, \"NOTHINGHERE\", NaN, NaN], [607, 40161745, \"NOTHINGHERE\", NaN, NaN], [608, 40161748, \"NOTHINGHERE\", NaN, NaN], [609, 40161749, \"NOTHINGHERE\", NaN, NaN], [610, 40161759, \"NOTHINGHERE\", NaN, NaN], [611, 40161760, \"NOTHINGHERE\", NaN, NaN], [612, 40161796, \"NOTHINGHERE\", NaN, NaN], [613, 40161808, \"NOTHINGHERE\", NaN, NaN], [614, 40161813, \"NOTHINGHERE\", NaN, NaN], [615, 40161821, \"FISHANYSPECIES\", 1.0, 6.0], [616, 40161822, \"NOTHINGHERE\", NaN, NaN], [617, 40161823, \"NOTHINGHERE\", NaN, NaN], [618, 40161829, \"NOTHINGHERE\", NaN, NaN], [619, 40161842, \"FISHANYSPECIES\", 1.0, 0.0], [620, 40161847, \"NOTHINGHERE\", NaN, NaN], [621, 40161857, \"NOTHINGHERE\", NaN, NaN], [622, 40161859, \"NOTHINGHERE\", NaN, NaN], [623, 40161864, \"NOTHINGHERE\", NaN, NaN], [624, 40161874, \"NOTHINGHERE\", NaN, NaN], [625, 40161907, \"NOTHINGHERE\", NaN, NaN], [626, 40161910, \"NOTHINGHERE\", NaN, NaN], [627, 40161915, \"NOTHINGHERE\", NaN, NaN], [628, 40161917, \"FISHANYSPECIES\", 1.5, 0.5], [629, 40161919, \"DEEPLETSEAANEMONE\", 1.0, 0.0], [630, 40161919, \"NORTHERNSHRIMP\", 4.0, 0.5], [631, 40161921, \"DEEPLETSEAANEMONE\", 1.0, 0.0], [632, 40161922, \"DEEPLETSEAANEMONE\", 1.0, 0.0], [633, 40161948, \"NOTHINGHERE\", NaN, NaN], [634, 40161950, \"NOTHINGHERE\", NaN, NaN], [635, 40161954, \"NOTHINGHERE\", NaN, NaN], [636, 40161957, \"NOTHINGHERE\", NaN, NaN], [637, 40161959, \"NOTHINGHERE\", NaN, NaN], [638, 40161961, \"NOTHINGHERE\", NaN, NaN], [639, 40161973, \"NORTHERNSHRIMP\", 4.0, 0.0], [640, 40161978, \"FISHANYSPECIES\", 4.0, 1.0], [641, 40161995, \"NOTHINGHERE\", NaN, NaN], [642, 40162010, \"NOTHINGHERE\", NaN, NaN], [643, 40162012, \"NOTHINGHERE\", NaN, NaN], [644, 40162022, \"NOTHINGHERE\", NaN, NaN], [645, 40162052, \"NOTHINGHERE\", NaN, NaN], [646, 40162055, \"NOTHINGHERE\", NaN, NaN], [647, 40162058, \"NOTHINGHERE\", NaN, NaN], [648, 40162059, \"NOTHINGHERE\", NaN, NaN], [649, 40162068, \"NOTHINGHERE\", NaN, NaN], [650, 40162073, \"NOTHINGHERE\", NaN, NaN], [651, 40162074, \"NOTHINGHERE\", NaN, NaN], [652, 40162075, \"NOTHINGHERE\", NaN, NaN], [653, 40162077, \"NOTHINGHERE\", NaN, NaN], [654, 40162088, \"NOTHINGHERE\", NaN, NaN], [655, 40162092, \"NOTHINGHERE\", NaN, NaN], [656, 40162103, \"NORWAYLOBSTER\", 1.0, 0.0], [657, 40162114, \"DEEPLETSEAANEMONE\", 1.0, 0.0], [658, 40162118, \"NOTHINGHERE\", NaN, NaN], [659, 40162136, \"NOTHINGHERE\", NaN, NaN], [660, 40162145, \"NOTHINGHERE\", NaN, NaN], [661, 40162150, \"DEEPWATERCORAL\", 1.0, 0.0], [662, 40162157, \"DEEPWATERCORAL\", 1.0, 0.0], [663, 40162161, \"NOTHINGHERE\", NaN, NaN], [664, 40162165, \"NOTHINGHERE\", NaN, NaN], [665, 40162170, \"DEEPLETSEAANEMONE\", 1.0, 0.0], [666, 40162175, \"DEEPLETSEAANEMONE\", 1.0, 0.0], [667, 40162196, \"NOTHINGHERE\", NaN, NaN], [668, 40162203, \"NOTHINGHERE\", NaN, NaN], [669, 40162204, \"NOTHINGHERE\", NaN, NaN], [670, 40162212, \"NOTHINGHERE\", NaN, NaN], [671, 40162216, \"NOTHINGHERE\", NaN, NaN], [672, 40162233, \"NOTHINGHERE\", NaN, NaN], [673, 40162237, \"NOTHINGHERE\", NaN, NaN], [674, 40162291, \"FISHANYSPECIES\", 4.0, 1.5], [675, 40162307, \"NOTHINGHERE\", NaN, NaN], [676, 40162314, \"NOTHINGHERE\", NaN, NaN], [677, 40162316, \"NOTHINGHERE\", NaN, NaN], [678, 40162317, \"NOTHINGHERE\", NaN, NaN], [679, 40162322, \"NOTHINGHERE\", NaN, NaN], [680, 40162324, \"NOTHINGHERE\", NaN, NaN], [681, 40162329, \"NOTHINGHERE\", NaN, NaN], [682, 40162341, \"NOTHINGHERE\", NaN, NaN], [683, 40162344, \"NOTHINGHERE\", NaN, NaN], [684, 40162346, \"DEEPLETSEAANEMONE\", 1.0, 0.0], [685, 40162349, \"DEEPLETSEAANEMONE\", 1.0, 4.5], [686, 40162354, \"ROSYFEATHERSTAR\", 3.0, 0.5], [687, 40162366, \"DEEPWATERCORAL\", 1.0, 1.5], [688, 40162367, \"DEEPLETSEAANEMONE\", 2.0, 0.0], [689, 40162368, \"DEEPWATERCORAL\", 4.0, 0.0], [690, 40162377, \"DEEPWATERCORAL\", 3.0, 0.0], [691, 40162394, \"DEEPLETSEAANEMONE\", 3.0, 0.0], [692, 40162404, \"DEEPWATERCORAL\", 3.5, 0.0], [693, 40162409, \"NOTHINGHERE\", NaN, NaN], [694, 40162411, \"NOTHINGHERE\", NaN, NaN], [695, 40162419, \"CRUSTACEANANYSPECIES\", 1.0, 0.0], [696, 40162419, \"DEEPLETSEAANEMONE\", 1.0, 3.0], [697, 40162421, \"DEEPLETSEAANEMONE\", 3.0, 0.0], [698, 40162427, \"DEEPLETSEAANEMONE\", 1.0, 2.0], [699, 40162430, \"NOTHINGHERE\", NaN, NaN], [700, 40162432, \"DEEPLETSEAANEMONE\", 1.0, 8.0], [701, 40162433, \"DEEPLETSEAANEMONE\", 1.5, 0.5], [702, 40162439, \"DEEPLETSEAANEMONE\", 1.0, 7.0], [703, 40162444, \"DEEPLETSEAANEMONE\", 2.0, 4.0], [704, 40162445, \"FISHANYSPECIES\", 1.0, 4.0], [705, 40162452, \"DEEPLETSEAANEMONE\", 1.0, 0.0], [706, 40162456, \"DEEPLETSEAANEMONE\", 2.0, 5.0], [707, 40162471, \"DEEPLETSEAANEMONE\", 2.0, 0.0], [708, 40162474, \"NOTHINGHERE\", NaN, NaN], [709, 40162476, \"DEEPLETSEAANEMONE\", 1.0, 1.5], [710, 40162478, \"DEEPLETSEAANEMONE\", 1.0, 0.0], [711, 40162479, \"DEEPLETSEAANEMONE\", 1.0, 0.0], [712, 40162484, \"DEEPLETSEAANEMONE\", 2.0, 0.0], [713, 40162487, \"DEEPLETSEAANEMONE\", 1.0, 3.0], [714, 40162490, \"DEEPLETSEAANEMONE\", 1.0, 0.0], [715, 40162491, \"DEEPLETSEAANEMONE\", 1.0, 0.0], [716, 40162494, \"DEEPLETSEAANEMONE\", 1.0, 0.0], [717, 40162504, \"NOTHINGHERE\", NaN, NaN], [718, 40162507, \"NOTHINGHERE\", NaN, NaN], [719, 40162511, \"NOTHINGHERE\", NaN, NaN], [720, 40162512, \"DEEPLETSEAANEMONE\", 1.0, 0.0], [721, 40162515, \"DEEPLETSEAANEMONE\", 1.0, 0.0], [722, 40162521, \"NOTHINGHERE\", NaN, NaN], [723, 40162524, \"DEEPLETSEAANEMONE\", 1.0, 7.0], [724, 40162526, \"NOTHINGHERE\", NaN, NaN], [725, 40162530, \"NOTHINGHERE\", NaN, NaN], [726, 40162538, \"DEEPWATERCORAL\", 1.0, 8.0], [727, 40162540, \"DEEPWATERCORAL\", 1.0, 0.0], [728, 40162541, \"DEEPWATERCORAL\", 1.0, 0.0], [729, 40162566, \"ROSYFEATHERSTAR\", 4.0, 3.5], [730, 40162572, \"HUMANOBJECTS\", NaN, 1.5], [731, 40162583, \"ROSYFEATHERSTAR\", 1.0, 0.0], [732, 40162592, \"DEEPWATERCORAL\", 4.0, 0.0], [733, 40162599, \"DEEPWATERCORAL\", 4.0, 0.0], [734, 40162602, \"DEEPLETSEAANEMONE\", 1.0, 0.0], [735, 40162605, \"DEEPLETSEAANEMONE\", 1.0, 0.0], [736, 40162612, \"ROSYFEATHERSTAR\", 4.0, 0.0], [737, 40162617, \"DEEPLETSEAANEMONE\", 2.0, 1.0], [738, 40162618, \"DEEPLETSEAANEMONE\", 4.0, 0.0], [739, 40162623, \"DEEPLETSEAANEMONE\", 4.0, 0.0], [740, 40162626, \"NOTHINGHERE\", NaN, NaN], [741, 40162640, \"DEEPLETSEAANEMONE\", 1.0, 2.0], [742, 40162642, \"DEEPLETSEAANEMONE\", 1.0, 0.0], [743, 40162652, \"DEEPLETSEAANEMONE\", 2.5, 0.5], [744, 40162656, \"NOTHINGHERE\", NaN, NaN], [745, 40162664, \"DEEPLETSEAANEMONE\", 4.0, 2.0], [746, 40162665, \"DEEPLETSEAANEMONE\", 4.0, 0.0], [747, 40162667, \"NOTHINGHERE\", NaN, NaN], [748, 40162671, \"DEEPLETSEAANEMONE\", 1.0, 3.0], [749, 40162677, \"NOTHINGHERE\", NaN, NaN], [750, 40162702, \"DEEPLETSEAANEMONE\", 1.0, 3.5], [751, 40162707, \"DEEPWATERCORAL\", 1.0, 0.0], [752, 40162715, \"DEEPWATERCORAL\", 3.0, 0.0], [753, 40162716, \"DEEPWATERCORAL\", 1.0, 0.0], [754, 40162726, \"DEEPWATERCORAL\", 1.0, 0.0], [755, 40162732, \"DEEPLETSEAANEMONE\", 1.0, 0.0], [756, 40162737, \"DEEPWATERCORAL\", 2.5, 0.0], [757, 40162745, \"DEEPLETSEAANEMONE\", 1.0, 0.0], [758, 40162754, \"NOTHINGHERE\", NaN, NaN], [759, 40162761, \"DEEPLETSEAANEMONE\", 1.0, 1.0], [760, 40162774, \"DEEPLETSEAANEMONE\", 4.0, 5.0], [761, 40162777, \"DEEPLETSEAANEMONE\", 1.0, 7.5], [762, 40162779, \"NOTHINGHERE\", NaN, NaN], [763, 40162785, \"DEEPLETSEAANEMONE\", 1.0, 6.0], [764, 40162787, \"DEEPLETSEAANEMONE\", 3.0, 0.0], [765, 40162795, \"DEEPLETSEAANEMONE\", 1.0, 2.0], [766, 40162798, \"NOTHINGHERE\", NaN, NaN], [767, 40162811, \"NOTHINGHERE\", NaN, NaN], [768, 40162818, \"DEEPLETSEAANEMONE\", 1.0, 0.0], [769, 40162820, \"DEEPLETSEAANEMONE\", 1.0, 0.0], [770, 40162823, \"DEEPLETSEAANEMONE\", 1.0, 0.0], [771, 40162825, \"DEEPLETSEAANEMONE\", 1.0, 0.0], [772, 40162831, \"DEEPLETSEAANEMONE\", 1.0, 0.0], [773, 40162838, \"DEEPLETSEAANEMONE\", 1.0, 0.5], [774, 40162844, \"DEEPLETSEAANEMONE\", 1.0, 0.0], [775, 40162852, \"NOTHINGHERE\", NaN, NaN], [776, 40162857, \"DEEPLETSEAANEMONE\", 1.0, 0.0], [777, 40162859, \"NOTHINGHERE\", NaN, NaN], [778, 40162867, \"DEEPLETSEAANEMONE\", 1.0, 3.0], [779, 40162872, \"NOTHINGHERE\", NaN, NaN], [780, 40162888, \"NOTHINGHERE\", NaN, NaN], [781, 40162893, \"NOTHINGHERE\", NaN, NaN], [782, 40162894, \"NOTHINGHERE\", NaN, NaN], [783, 40162901, \"DEEPLETSEAANEMONE\", 1.0, 0.0], [784, 40162906, \"DEEPLETSEAANEMONE\", 1.0, 0.0], [785, 40162908, \"NOTHINGHERE\", NaN, NaN], [786, 40162911, \"DEEPLETSEAANEMONE\", 1.0, 0.0], [787, 40162918, \"DEEPLETSEAANEMONE\", 1.5, 0.5], [788, 40162919, \"NOTHINGHERE\", NaN, NaN], [789, 40162923, \"NOTHINGHERE\", NaN, NaN], [790, 40162927, \"NOTHINGHERE\", NaN, NaN], [791, 40162933, \"NOTHINGHERE\", NaN, NaN], [792, 40162934, \"NOTHINGHERE\", NaN, NaN], [793, 40162935, \"NOTHINGHERE\", NaN, NaN], [794, 40162937, \"DEEPLETSEAANEMONE\", 1.0, 1.5], [795, 40162938, \"NOTHINGHERE\", NaN, NaN], [796, 40162941, \"NOTHINGHERE\", NaN, NaN], [797, 40162942, \"NOTHINGHERE\", NaN, NaN], [798, 40162947, \"HUMANOBJECTS\", NaN, 7.0], [799, 40162967, \"NOTHINGHERE\", NaN, NaN], [800, 40162987, \"NOTHINGHERE\", NaN, NaN], [801, 40162990, \"NOTHINGHERE\", NaN, NaN], [802, 40162993, \"NOTHINGHERE\", NaN, NaN], [803, 40162995, \"HUMANOBJECTS\", NaN, 0.0], [804, 40162999, \"NOTHINGHERE\", NaN, NaN], [805, 40163002, \"HUMANOBJECTS\", NaN, 0.0], [806, 40163023, \"NOTHINGHERE\", NaN, NaN], [807, 40163028, \"NOTHINGHERE\", NaN, NaN], [808, 40163029, \"DEEPLETSEAANEMONE\", 1.0, 0.0], [809, 40163031, \"CRUSTACEANANYSPECIES\", 1.0, 0.0], [810, 40163033, \"DEEPLETSEAANEMONE\", 1.0, 0.0], [811, 40163043, \"DEEPLETSEAANEMONE\", 1.0, 0.0], [812, 40163048, \"NOTHINGHERE\", NaN, NaN], [813, 40163057, \"NOTHINGHERE\", NaN, NaN], [814, 40163058, \"DEEPLETSEAANEMONE\", 1.0, 2.0], [815, 40163066, \"NOTHINGHERE\", NaN, NaN], [816, 40163067, \"DEEPLETSEAANEMONE\", 1.0, 9.0], [817, 40163070, \"NOTHINGHERE\", NaN, NaN], [818, 40163071, \"NOTHINGHERE\", NaN, NaN], [819, 40163072, \"FISHANYSPECIES\", 1.0, 0.0], [820, 40163080, \"DEEPLETSEAANEMONE\", 1.0, 0.0], [821, 40163083, \"NOTHINGHERE\", NaN, NaN], [822, 40163085, \"NOTHINGHERE\", NaN, NaN], [823, 40163086, \"DEEPLETSEAANEMONE\", 1.0, 7.0], [824, 40163092, \"NOTHINGHERE\", NaN, NaN], [825, 40163097, \"NOTHINGHERE\", NaN, NaN], [826, 40163108, \"NOTHINGHERE\", NaN, NaN], [827, 40163110, \"NOTHINGHERE\", NaN, NaN], [828, 40163111, \"NOTHINGHERE\", NaN, NaN], [829, 40163116, \"NOTHINGHERE\", NaN, NaN], [830, 40163120, \"NOTHINGHERE\", NaN, NaN], [831, 40163122, \"DEEPLETSEAANEMONE\", 1.0, 4.0], [832, 40163130, \"DEEPLETSEAANEMONE\", 1.0, 0.0], [833, 40163134, \"DEEPLETSEAANEMONE\", 1.0, 0.0], [834, 40163140, \"DEEPLETSEAANEMONE\", 1.0, 0.0], [835, 40163143, \"NOTHINGHERE\", NaN, NaN], [836, 40163145, \"DEEPLETSEAANEMONE\", 2.0, 0.0], [837, 40163153, \"DEEPLETSEAANEMONE\", 1.0, 0.0], [838, 40163163, \"DEEPWATERCORAL\", 4.0, 0.0], [839, 40163167, \"NOTHINGHERE\", NaN, NaN], [840, 40163171, \"DEEPWATERCORAL\", 4.0, 0.0], [841, 40163174, \"DEEPWATERCORAL\", 4.0, 0.0], [842, 40163175, \"DEEPWATERCORAL\", 4.0, 1.5], [843, 40163180, \"DEEPWATERCORAL\", 4.0, 1.0], [844, 40163190, \"DEEPWATERCORAL\", 4.0, 0.0], [845, 40163197, \"DEEPWATERCORAL\", 4.0, 2.0], [846, 40163205, \"HUMANOBJECTS\", NaN, 5.0], [847, 40163266, \"DEEPLETSEAANEMONE\", 3.0, 0.0], [848, 40163271, \"DEEPLETSEAANEMONE\", 1.0, 3.0], [849, 40163275, \"DEEPLETSEAANEMONE\", 1.0, 0.0], [850, 40163276, \"NOTHINGHERE\", NaN, NaN], [851, 40163287, \"DEEPLETSEAANEMONE\", 1.0, 0.0], [852, 40163288, \"DEEPLETSEAANEMONE\", 1.0, 0.0], [853, 40163294, \"DEEPLETSEAANEMONE\", 2.0, 0.0], [854, 40163298, \"FISHANYSPECIES\", 1.0, 3.0], [855, 40163302, \"NOTHINGHERE\", NaN, NaN], [856, 40163305, \"DEEPLETSEAANEMONE\", 3.0, 0.0], [857, 40163308, \"DEEPLETSEAANEMONE\", 2.5, 0.0], [858, 40163312, \"DEEPLETSEAANEMONE\", 4.0, 0.0], [859, 40163314, \"DEEPLETSEAANEMONE\", 4.0, 0.0], [860, 40163319, \"DEEPLETSEAANEMONE\", 2.0, 0.0], [861, 40163320, \"DEEPLETSEAANEMONE\", 1.0, 0.0], [862, 40163328, \"DEEPLETSEAANEMONE\", 1.0, 0.0], [863, 40163330, \"DEEPLETSEAANEMONE\", 1.0, 0.0], [864, 40163331, \"DEEPLETSEAANEMONE\", 1.0, 0.0], [865, 40163334, \"DEEPLETSEAANEMONE\", 1.0, 0.0], [866, 40163336, \"DEEPLETSEAANEMONE\", 1.0, 0.0], [867, 40163338, \"DEEPLETSEAANEMONE\", 1.0, 0.0], [868, 40163339, \"DEEPLETSEAANEMONE\", 2.0, 0.0], [869, 40163339, \"SUGARSTARFISH\", 1.0, 0.0], [870, 40163341, \"DEEPLETSEAANEMONE\", 1.0, 0.0], [871, 40163343, \"DEEPLETSEAANEMONE\", 1.5, 0.0], [872, 40163346, \"DEEPLETSEAANEMONE\", 2.0, 0.0], [873, 40163350, \"DEEPLETSEAANEMONE\", 1.0, 0.0], [874, 40163351, \"DEEPLETSEAANEMONE\", 1.0, 0.0], [875, 40163353, \"DEEPLETSEAANEMONE\", 1.0, 0.0], [876, 40163358, \"DEEPLETSEAANEMONE\", 1.0, 0.0], [877, 40163361, \"DEEPLETSEAANEMONE\", 1.5, 0.0], [878, 40163362, \"DEEPLETSEAANEMONE\", 2.0, 0.0], [879, 40163365, \"DEEPLETSEAANEMONE\", 2.0, 0.0], [880, 40163366, \"DEEPLETSEAANEMONE\", 1.0, 0.0], [881, 40163368, \"DEEPLETSEAANEMONE\", 2.0, 0.0], [882, 40163372, \"NOTHINGHERE\", NaN, NaN], [883, 40163380, \"DEEPLETSEAANEMONE\", 1.0, 3.5], [884, 40163382, \"NOTHINGHERE\", NaN, NaN], [885, 40163384, \"NOTHINGHERE\", NaN, NaN], [886, 40163395, \"ROSYFEATHERSTAR\", 4.0, 0.0], [887, 40163410, \"DEEPLETSEAANEMONE\", 2.0, 7.0], [888, 40163412, \"DEEPLETSEAANEMONE\", 2.0, 0.0], [889, 40163413, \"NOTHINGHERE\", NaN, NaN], [890, 40163414, \"NOTHINGHERE\", NaN, NaN], [891, 40163415, \"DEEPLETSEAANEMONE\", 2.0, 0.0], [892, 40163418, \"DEEPLETSEAANEMONE\", 1.0, 0.0], [893, 40163422, \"DEEPLETSEAANEMONE\", 1.0, 0.0], [894, 40163424, \"DEEPLETSEAANEMONE\", 1.0, 0.0], [895, 40163427, \"DEEPLETSEAANEMONE\", 2.0, 5.5], [896, 40163441, \"DEEPLETSEAANEMONE\", 1.0, 0.0], [897, 40163442, \"DEEPLETSEAANEMONE\", 1.5, 0.0], [898, 40163444, \"DEEPLETSEAANEMONE\", 3.0, 0.0], [899, 40163448, \"ROSYFEATHERSTAR\", 4.0, 0.0], [900, 40163456, \"DEEPWATERCORAL\", 1.0, 0.0], [901, 40163466, \"DEEPWATERCORAL\", 2.0, 0.0], [902, 40163467, \"DEEPLETSEAANEMONE\", 2.5, 0.0], [903, 40163467, \"DEEPWATERCORAL\", 2.0, 0.0], [904, 40163470, \"DEEPLETSEAANEMONE\", 1.0, 0.0], [905, 40163470, \"DEEPWATERCORAL\", 2.0, 0.0], [906, 40163476, \"DEEPWATERCORAL\", 1.0, 0.0], [907, 40163478, \"NOTHINGHERE\", NaN, NaN], [908, 40163482, \"HUMANOBJECTS\", NaN, 4.5], [909, 40163485, \"NOTHINGHERE\", NaN, NaN], [910, 40163492, \"NOTHINGHERE\", NaN, NaN], [911, 40163494, \"DEEPLETSEAANEMONE\", 1.0, 6.0], [912, 40163499, \"DEEPLETSEAANEMONE\", 1.0, 7.0], [913, 40163505, \"NOTHINGHERE\", NaN, NaN], [914, 40163507, \"NOTHINGHERE\", NaN, NaN], [915, 40163510, \"NOTHINGHERE\", NaN, NaN], [916, 40163513, \"NOTHINGHERE\", NaN, NaN], [917, 40163517, \"DEEPLETSEAANEMONE\", 2.0, 0.0], [918, 40163518, \"DEEPLETSEAANEMONE\", 2.0, 2.0], [919, 40163524, \"NOTHINGHERE\", NaN, NaN], [920, 40163530, \"NOTHINGHERE\", NaN, NaN], [921, 40163532, \"DEEPLETSEAANEMONE\", 1.0, 0.0], [922, 40163533, \"DEEPLETSEAANEMONE\", 1.0, 0.0], [923, 40163536, \"DEEPLETSEAANEMONE\", 1.0, 0.0], [924, 40163541, \"DEEPLETSEAANEMONE\", 1.0, 0.0], [925, 40163544, \"DEEPLETSEAANEMONE\", 1.0, 0.0], [926, 40163547, \"DEEPLETSEAANEMONE\", 1.0, 0.0], [927, 40163553, \"DEEPLETSEAANEMONE\", 1.0, 0.0], [928, 40163556, \"DEEPLETSEAANEMONE\", 1.0, 0.0], [929, 40163559, \"DEEPLETSEAANEMONE\", 1.0, 0.0], [930, 40163561, \"DEEPLETSEAANEMONE\", 1.0, 0.0], [931, 40163562, \"NOTHINGHERE\", NaN, NaN], [932, 40163566, \"NOTHINGHERE\", NaN, NaN], [933, 40163567, \"DEEPLETSEAANEMONE\", 1.0, 4.0], [934, 40163574, \"DEEPLETSEAANEMONE\", 3.0, 6.0], [935, 40163580, \"NOTHINGHERE\", NaN, NaN], [936, 40163587, \"DEEPLETSEAANEMONE\", 4.0, 3.5], [937, 40163589, \"DEEPLETSEAANEMONE\", 1.0, 3.0], [938, 40163591, \"NOTHINGHERE\", NaN, NaN], [939, 40163595, \"NOTHINGHERE\", NaN, NaN], [940, 40163597, \"NOTHINGHERE\", NaN, NaN], [941, 40163610, \"NOTHINGHERE\", NaN, NaN], [942, 40163613, \"NOTHINGHERE\", NaN, NaN], [943, 40163622, \"NOTHINGHERE\", NaN, NaN], [944, 40163625, \"DEEPLETSEAANEMONE\", 1.0, 2.0], [945, 40163629, \"NOTHINGHERE\", NaN, NaN], [946, 40163634, \"DEEPLETSEAANEMONE\", 1.0, 7.5], [947, 40163636, \"NOTHINGHERE\", NaN, NaN], [948, 40163638, \"DEEPLETSEAANEMONE\", 2.0, 3.0], [949, 40163644, \"DEEPLETSEAANEMONE\", 1.0, 5.5], [950, 40163645, \"NOTHINGHERE\", NaN, NaN], [951, 40163647, \"NOTHINGHERE\", NaN, NaN], [952, 40163650, \"NOTHINGHERE\", NaN, NaN], [953, 40163652, \"NOTHINGHERE\", NaN, NaN], [954, 40163657, \"DEEPLETSEAANEMONE\", 1.0, 0.0], [955, 40163658, \"NOTHINGHERE\", NaN, NaN], [956, 40163667, \"NOTHINGHERE\", NaN, NaN], [957, 40163669, \"DEEPLETSEAANEMONE\", 2.0, 0.0], [958, 40163671, \"DEEPLETSEAANEMONE\", 1.0, 9.0], [959, 40163679, \"DEEPLETSEAANEMONE\", 1.0, 1.5], [960, 40163682, \"DEEPLETSEAANEMONE\", 1.0, 7.5], [961, 40163683, \"NOTHINGHERE\", NaN, NaN], [962, 40163684, \"NOTHINGHERE\", NaN, NaN], [963, 40163685, \"DEEPLETSEAANEMONE\", 1.0, 1.0], [964, 40163692, \"DEEPLETSEAANEMONE\", 1.0, 3.5], [965, 40163697, \"DEEPLETSEAANEMONE\", 1.0, 5.0], [966, 40163697, \"HUMANOBJECTS\", NaN, 0.5], [967, 40163709, \"HUMANOBJECTS\", NaN, 0.0], [968, 40163735, \"NOTHINGHERE\", NaN, NaN], [969, 40163740, \"HUMANOBJECTS\", NaN, 0.0], [970, 40163747, \"HUMANOBJECTS\", NaN, 0.0], [971, 40163749, \"DEEPLETSEAANEMONE\", 1.0, 0.5], [972, 40163756, \"NOTHINGHERE\", NaN, NaN], [973, 40163758, \"DEEPLETSEAANEMONE\", 2.0, 0.0], [974, 40163768, \"NOTHINGHERE\", NaN, NaN], [975, 40163769, \"NOTHINGHERE\", NaN, NaN], [976, 40163780, \"DEEPWATERCORAL\", 2.0, 0.0], [977, 40163781, \"DEEPWATERCORAL\", 1.0, 0.0], [978, 40163784, \"DEEPLETSEAANEMONE\", 3.0, 0.0], [979, 40163791, \"DEEPLETSEAANEMONE\", 1.0, 4.5], [980, 40163795, \"DEEPLETSEAANEMONE\", 1.0, 0.0], [981, 40163802, \"DEEPWATERCORAL\", 2.0, 1.0], [982, 40163806, \"DEEPWATERCORAL\", 1.0, 0.0], [983, 40163811, \"DEEPWATERCORAL\", 3.0, 0.0], [984, 40163820, \"NOTHINGHERE\", NaN, NaN], [985, 40163823, \"DEEPWATERCORAL\", 2.0, 0.0], [986, 40163827, \"DEEPWATERCORAL\", 2.0, 0.0], [987, 40163828, \"DEEPWATERCORAL\", 3.0, 3.0], [988, 40163838, \"NOTHINGHERE\", NaN, NaN], [989, 40163844, \"DEEPWATERCORAL\", 4.0, 0.0], [990, 40163848, \"DEEPWATERCORAL\", 4.0, 3.5], [991, 40163852, \"DEEPWATERCORAL\", 4.0, 0.0], [992, 40163855, \"DEEPWATERCORAL\", 2.0, 0.0], [993, 40163863, \"DEEPWATERCORAL\", 2.0, 0.0], [994, 40163875, \"DEEPWATERCORAL\", 1.0, 0.0], [995, 40163876, \"DEEPLETSEAANEMONE\", 1.0, 1.0], [996, 40163877, \"DEEPWATERCORAL\", 1.0, 0.0], [997, 40163888, \"DEEPLETSEAANEMONE\", 3.0, 0.0], [998, 40163894, \"DEEPWATERCORAL\", 2.5, 0.0], [999, 40163897, \"NOTHINGHERE\", NaN, NaN], [1000, 40163917, \"NOTHINGHERE\", NaN, NaN], [1001, 40163920, \"DEEPLETSEAANEMONE\", 2.0, 8.0], [1002, 40163922, \"NOTHINGHERE\", NaN, NaN], [1003, 40163923, \"DEEPLETSEAANEMONE\", 2.5, 0.0], [1004, 40163926, \"DEEPLETSEAANEMONE\", 1.0, 0.0], [1005, 40163938, \"NOTHINGHERE\", NaN, NaN], [1006, 40163941, \"NOTHINGHERE\", NaN, NaN], [1007, 40163943, \"NOTHINGHERE\", NaN, NaN], [1008, 40163954, \"DEEPLETSEAANEMONE\", 3.0, 0.0], [1009, 40163968, \"ROSYFEATHERSTAR\", 4.0, 0.0], [1010, 40163973, \"ROSYFEATHERSTAR\", 4.0, 5.5], [1011, 40163975, \"DEEPLETSEAANEMONE\", 1.0, 1.0], [1012, 40163976, \"SPONGEANYSPECIES\", 1.5, 0.0], [1013, 40163989, \"DEEPLETSEAANEMONE\", 2.0, 0.0], [1014, 40163991, \"DEEPLETSEAANEMONE\", 1.0, 0.0], [1015, 40163991, \"DEEPWATERCORAL\", 2.0, 0.0], [1016, 40163992, \"NOTHINGHERE\", NaN, NaN], [1017, 40163998, \"DEEPWATERCORAL\", 3.5, 6.0], [1018, 40164001, \"NOTHINGHERE\", NaN, NaN], [1019, 40164002, \"DEEPWATERCORAL\", 1.0, 0.5], [1020, 40164027, \"NOTHINGHERE\", NaN, NaN], [1021, 40164040, \"DEEPWATERCORAL\", 4.0, 0.0], [1022, 40164040, \"SPONGEANYSPECIES\", 3.0, 0.0], [1023, 40164044, \"DEEPWATERCORAL\", 1.0, 0.0], [1024, 40164048, \"DEEPLETSEAANEMONE\", 1.0, 0.0], [1025, 40164096, \"NOTHINGHERE\", NaN, NaN], [1026, 40164099, \"NOTHINGHERE\", NaN, NaN], [1027, 40164121, \"FISHANYSPECIES\", 4.0, 0.0], [1028, 40164123, \"FISHANYSPECIES\", 2.0, 3.0], [1029, 40164133, \"FISHANYSPECIES\", 1.0, 9.0], [1030, 40164140, \"FISHANYSPECIES\", 3.0, 3.0], [1031, 40164141, \"FISHANYSPECIES\", 1.0, 4.0], [1032, 40164146, \"FISHANYSPECIES\", 1.0, 1.0], [1033, 40164154, \"FISHANYSPECIES\", 1.0, 4.5], [1034, 40164156, \"FISHANYSPECIES\", 1.0, 0.0], [1035, 40164159, \"FISHANYSPECIES\", 1.0, 0.0], [1036, 40164160, \"FISHANYSPECIES\", 1.0, 1.5], [1037, 40164167, \"FISHANYSPECIES\", 4.0, 0.0], [1038, 40164170, \"NORTHERNSHRIMP\", 4.0, 3.0], [1039, 40164193, \"FISHANYSPECIES\", 4.0, 3.5], [1040, 40164205, \"HUMANOBJECTS\", NaN, 4.5], [1041, 40164211, \"NOTHINGHERE\", NaN, NaN], [1042, 40164221, \"NOTHINGHERE\", NaN, NaN], [1043, 40164228, \"NOTHINGHERE\", NaN, NaN], [1044, 40164238, \"NOTHINGHERE\", NaN, NaN], [1045, 40164252, \"NOTHINGHERE\", NaN, NaN], [1046, 40164270, \"FISHANYSPECIES\", 2.0, 4.0], [1047, 40164277, \"NOTHINGHERE\", NaN, NaN], [1048, 40164307, \"NOTHINGHERE\", NaN, NaN], [1049, 40164333, \"NOTHINGHERE\", NaN, NaN], [1050, 40164341, \"NOTHINGHERE\", NaN, NaN], [1051, 40164342, \"DEEPLETSEAANEMONE\", 1.0, 0.0], [1052, 40164346, \"DEEPSEAKINGCRAB\", 1.0, 1.5], [1053, 40164353, \"NOTHINGHERE\", NaN, NaN], [1054, 40164356, \"NOTHINGHERE\", NaN, NaN], [1055, 40164359, \"DEEPLETSEAANEMONE\", 1.0, 5.5], [1056, 40164360, \"DEEPLETSEAANEMONE\", 1.0, 0.0], [1057, 40164362, \"NOTHINGHERE\", NaN, NaN], [1058, 40164363, \"NOTHINGHERE\", NaN, NaN], [1059, 40164365, \"NOTHINGHERE\", NaN, NaN], [1060, 40164369, \"NOTHINGHERE\", NaN, NaN], [1061, 40164379, \"NOTHINGHERE\", NaN, NaN], [1062, 40164386, \"NOTHINGHERE\", NaN, NaN], [1063, 40164389, \"NOTHINGHERE\", NaN, NaN], [1064, 40164394, \"NOTHINGHERE\", NaN, NaN], [1065, 40164395, \"NOTHINGHERE\", NaN, NaN], [1066, 40164396, \"NOTHINGHERE\", NaN, NaN], [1067, 40164402, \"NOTHINGHERE\", NaN, NaN], [1068, 40164404, \"NOTHINGHERE\", NaN, NaN], [1069, 40164418, \"NOTHINGHERE\", NaN, NaN], [1070, 40164424, \"NOTHINGHERE\", NaN, NaN], [1071, 40164435, \"NOTHINGHERE\", NaN, NaN], [1072, 40164436, \"NOTHINGHERE\", NaN, NaN], [1073, 40164439, \"NOTHINGHERE\", NaN, NaN], [1074, 40164442, \"NOTHINGHERE\", NaN, NaN], [1075, 40164444, \"NOTHINGHERE\", NaN, NaN], [1076, 40164454, \"NOTHINGHERE\", NaN, NaN], [1077, 40164460, \"NOTHINGHERE\", NaN, NaN], [1078, 40164462, \"NOTHINGHERE\", NaN, NaN], [1079, 40164486, \"DEEPLETSEAANEMONE\", 1.0, 0.0], [1080, 40164488, \"DEEPLETSEAANEMONE\", 1.0, 7.0], [1081, 40164492, \"DEEPLETSEAANEMONE\", 1.0, 0.0], [1082, 40164505, \"NOTHINGHERE\", NaN, NaN], [1083, 40164516, \"NOTHINGHERE\", NaN, NaN], [1084, 40164518, \"NOTHINGHERE\", NaN, NaN], [1085, 40164529, \"DEEPLETSEAANEMONE\", 1.0, 0.0], [1086, 40164559, \"NOTHINGHERE\", NaN, NaN], [1087, 40164564, \"NOTHINGHERE\", NaN, NaN], [1088, 40164565, \"NOTHINGHERE\", NaN, NaN], [1089, 40164582, \"NOTHINGHERE\", NaN, NaN], [1090, 40164598, \"NOTHINGHERE\", NaN, NaN], [1091, 40164602, \"NOTHINGHERE\", NaN, NaN], [1092, 40164615, \"NOTHINGHERE\", NaN, NaN], [1093, 40164617, \"NOTHINGHERE\", NaN, NaN], [1094, 40164618, \"NOTHINGHERE\", NaN, NaN], [1095, 40164623, \"NOTHINGHERE\", NaN, NaN], [1096, 40164624, \"NOTHINGHERE\", NaN, NaN], [1097, 40164625, \"NOTHINGHERE\", NaN, NaN], [1098, 40164627, \"DEEPLETSEAANEMONE\", 1.0, 0.0], [1099, 40164628, \"NOTHINGHERE\", NaN, NaN], [1100, 40164635, \"NOTHINGHERE\", NaN, NaN], [1101, 40164638, \"NOTHINGHERE\", NaN, NaN], [1102, 40164639, \"NOTHINGHERE\", NaN, NaN], [1103, 40164641, \"NOTHINGHERE\", NaN, NaN], [1104, 40164642, \"NOTHINGHERE\", NaN, NaN], [1105, 40164649, \"NOTHINGHERE\", NaN, NaN], [1106, 40164651, \"NOTHINGHERE\", NaN, NaN], [1107, 40164654, \"NOTHINGHERE\", NaN, NaN], [1108, 40164661, \"NOTHINGHERE\", NaN, NaN], [1109, 40164662, \"NOTHINGHERE\", NaN, NaN], [1110, 40164665, \"NOTHINGHERE\", NaN, NaN], [1111, 40164687, \"ROSYFEATHERSTAR\", 3.0, 6.0], [1112, 40164704, \"DEEPLETSEAANEMONE\", 1.0, 0.0], [1113, 40164729, \"FOOTBALLSPONGE\", 1.0, 6.0], [1114, 40164739, \"NOTHINGHERE\", NaN, NaN], [1115, 40164744, \"DEEPLETSEAANEMONE\", 1.0, 0.0], [1116, 40164751, \"DEEPLETSEAANEMONE\", 1.0, 0.0], [1117, 40164752, \"NOTHINGHERE\", NaN, NaN], [1118, 40164760, \"NOTHINGHERE\", NaN, NaN], [1119, 40164784, \"DEEPLETSEAANEMONE\", 3.0, 4.0], [1120, 40164789, \"DEEPLETSEAANEMONE\", 1.0, 0.0], [1121, 40164795, \"ROSYFEATHERSTAR\", 4.0, 0.0], [1122, 40164796, \"ROSYFEATHERSTAR\", 4.0, 0.0], [1123, 40164806, \"ROSYFEATHERSTAR\", 4.0, 0.0], [1124, 40164817, \"DEEPLETSEAANEMONE\", 1.0, 3.0], [1125, 40164820, \"DEEPLETSEAANEMONE\", 1.5, 0.5], [1126, 40164834, \"ROSYFEATHERSTAR\", 4.0, 0.0], [1127, 40164841, \"NOTHINGHERE\", NaN, NaN], [1128, 40164843, \"NOTHINGHERE\", NaN, NaN], [1129, 40164860, \"DEEPLETSEAANEMONE\", 1.0, 1.5], [1130, 40164864, \"DEEPLETSEAANEMONE\", 4.0, 0.0], [1131, 40164877, \"NOTHINGHERE\", NaN, NaN], [1132, 40164895, \"NOTHINGHERE\", NaN, NaN], [1133, 40164897, \"NOTHINGHERE\", NaN, NaN], [1134, 40164900, \"NOTHINGHERE\", NaN, NaN], [1135, 40164911, \"NOTHINGHERE\", NaN, NaN], [1136, 40164913, \"DEEPLETSEAANEMONE\", 1.0, 0.0], [1137, 40164913, \"ROSYFEATHERSTAR\", 2.0, 5.5], [1138, 40164917, \"DEEPLETSEAANEMONE\", 2.0, 0.0], [1139, 40164918, \"ROSYFEATHERSTAR\", 1.0, 0.0], [1140, 40164936, \"ROSYFEATHERSTAR\", 3.5, 0.0], [1141, 40164961, \"DEEPLETSEAANEMONE\", 1.0, 6.0], [1142, 40164967, \"NOTHINGHERE\", NaN, NaN], [1143, 40164976, \"DEEPLETSEAANEMONE\", 1.5, 0.5], [1144, 40164989, \"NOTHINGHERE\", NaN, NaN], [1145, 40165006, \"DEEPLETSEAANEMONE\", 1.0, 3.5], [1146, 40165019, \"NOTHINGHERE\", NaN, NaN], [1147, 40165031, \"DEEPLETSEAANEMONE\", 1.0, 0.0], [1148, 40165032, \"DEEPLETSEAANEMONE\", 1.0, 0.0], [1149, 40165035, \"NOTHINGHERE\", NaN, NaN], [1150, 40165038, \"NOTHINGHERE\", NaN, NaN], [1151, 40165050, \"CRUSTACEANANYSPECIES\", 1.0, 0.0], [1152, 40165056, \"NOTHINGHERE\", NaN, NaN], [1153, 40165061, \"DEEPLETSEAANEMONE\", 1.0, 2.0], [1154, 40165072, \"DEEPLETSEAANEMONE\", 1.0, 3.0], [1155, 40165090, \"NOTHINGHERE\", NaN, NaN], [1156, 40165101, \"DEEPLETSEAANEMONE\", 2.5, 1.5], [1157, 40165118, \"DEEPWATERCORAL\", 1.0, 0.0], [1158, 40165118, \"FISHANYSPECIES\", 1.0, 6.0], [1159, 40165121, \"ROSYFEATHERSTAR\", 4.0, 0.0], [1160, 40165122, \"DEEPLETSEAANEMONE\", 2.0, 0.0], [1161, 40165143, \"NOTHINGHERE\", NaN, NaN], [1162, 40165158, \"DEEPWATERCORAL\", 3.0, 0.0], [1163, 40165162, \"DEEPWATERCORAL\", 4.0, 0.0], [1164, 40165162, \"SPONGEANYSPECIES\", 3.0, 0.0], [1165, 40165163, \"DEEPWATERCORAL\", 4.0, 0.0], [1166, 40165181, \"DEEPLETSEAANEMONE\", 3.0, 0.0], [1167, 40165196, \"DEEPLETSEAANEMONE\", 1.0, 0.0], [1168, 40165198, \"DEEPLETSEAANEMONE\", 1.0, 0.0], [1169, 40165208, \"ROSYFEATHERSTAR\", 4.0, 0.0], [1170, 40165209, \"ROSYFEATHERSTAR\", 4.0, 0.0], [1171, 40165216, \"NOTHINGHERE\", NaN, NaN], [1172, 40165219, \"NOTHINGHERE\", NaN, NaN], [1173, 40165223, \"DEEPLETSEAANEMONE\", 1.0, 6.5], [1174, 40165228, \"DEEPLETSEAANEMONE\", 1.0, 5.0], [1175, 40165229, \"NOTHINGHERE\", NaN, NaN], [1176, 40165233, \"DEEPLETSEAANEMONE\", 1.0, 8.5], [1177, 40165235, \"NOTHINGHERE\", NaN, NaN], [1178, 40165243, \"NOTHINGHERE\", NaN, NaN], [1179, 40165260, \"ROSYFEATHERSTAR\", 4.0, 0.0], [1180, 40165264, \"ROSYFEATHERSTAR\", 3.5, 0.0], [1181, 40165293, \"DEEPWATERCORAL\", 4.0, 0.0], [1182, 40165293, \"HUMANOBJECTS\", NaN, 5.0], [1183, 40165295, \"HUMANOBJECTS\", NaN, 0.0], [1184, 40165298, \"DEEPWATERCORAL\", 4.0, 0.0], [1185, 40165301, \"DEEPWATERCORAL\", 4.0, 0.0], [1186, 40165305, \"SPONGEANYSPECIES\", 1.0, 0.0], [1187, 40165306, \"DEEPLETSEAANEMONE\", 1.0, 0.0], [1188, 40165317, \"DEEPLETSEAANEMONE\", 1.5, 0.0], [1189, 40165330, \"ROSYFEATHERSTAR\", 4.0, 3.0], [1190, 40165337, \"SUGARSTARFISH\", 2.0, 0.0], [1191, 40165339, \"DEEPWATERCORAL\", 4.0, 0.0], [1192, 40165379, \"DEEPLETSEAANEMONE\", 4.0, 1.0], [1193, 40165379, \"FOOTBALLSPONGE\", 3.0, 9.0], [1194, 40165384, \"FOOTBALLSPONGE\", 2.0, 0.0], [1195, 40165417, \"DEEPWATERCORAL\", 3.5, 0.0], [1196, 40165445, \"CUSHINSTAR\", 1.0, 3.5], [1197, 40165446, \"CUSHINSTAR\", 1.0, 1.0], [1198, 40165447, \"CUSHINSTAR\", 1.0, 0.0], [1199, 40165448, \"CUSHINSTAR\", 1.0, 0.0], [1200, 40165450, \"CUSHINSTAR\", 1.0, 0.0], [1201, 40165453, \"CUSHINSTAR\", 1.0, 0.0], [1202, 40165476, \"DEEPLETSEAANEMONE\", 4.0, 0.0], [1203, 40165476, \"SPONGEANYSPECIES\", 1.0, 0.0], [1204, 40165494, \"NOTHINGHERE\", NaN, NaN], [1205, 40165499, \"NOTHINGHERE\", NaN, NaN], [1206, 40165504, \"FOOTBALLSPONGE\", 3.0, 1.5], [1207, 40165505, \"FOOTBALLSPONGE\", 1.0, 0.5], [1208, 40165509, \"NOTHINGHERE\", NaN, NaN], [1209, 40165540, \"FOOTBALLSPONGE\", 1.0, 4.0], [1210, 40165546, \"FOOTBALLSPONGE\", 1.0, 0.0], [1211, 40165549, \"NOTHINGHERE\", NaN, NaN], [1212, 40165556, \"COMMONSEAURCHIN\", 1.0, 0.0], [1213, 40165558, \"COMMONSEAURCHIN\", 1.0, 0.0], [1214, 40165578, \"NOTHINGHERE\", NaN, NaN], [1215, 40165579, \"NOTHINGHERE\", NaN, NaN], [1216, 40165581, \"NOTHINGHERE\", NaN, NaN], [1217, 40165588, \"COMMONSUNSTAR\", 1.0, 0.0], [1218, 40165589, \"CRUSTACEANANYSPECIES\", 1.0, 0.0], [1219, 40165592, \"NOTHINGHERE\", NaN, NaN], [1220, 40165597, \"CRUSTACEANANYSPECIES\", 1.0, 0.0], [1221, 40165601, \"FOOTBALLSPONGE\", 1.0, 0.0], [1222, 40165622, \"CRUSTACEANANYSPECIES\", 1.0, 2.5], [1223, 40165624, \"NOTHINGHERE\", NaN, NaN], [1224, 40165631, \"NOTHINGHERE\", NaN, NaN], [1225, 40165635, \"CRUSTACEANANYSPECIES\", 1.0, 0.0], [1226, 40165638, \"CRUSTACEANANYSPECIES\", 1.0, 0.0], [1227, 40165650, \"NOTHINGHERE\", NaN, NaN], [1228, 40165664, \"NOTHINGHERE\", NaN, NaN], [1229, 40165670, \"NOTHINGHERE\", NaN, NaN], [1230, 40165671, \"NOTHINGHERE\", NaN, NaN], [1231, 40165675, \"NOTHINGHERE\", NaN, NaN], [1232, 40165676, \"NOTHINGHERE\", NaN, NaN], [1233, 40165679, \"NOTHINGHERE\", NaN, NaN], [1234, 40165680, \"NOTHINGHERE\", NaN, NaN], [1235, 40165685, \"NOTHINGHERE\", NaN, NaN], [1236, 40165688, \"NOTHINGHERE\", NaN, NaN], [1237, 40165693, \"NOTHINGHERE\", NaN, NaN], [1238, 40165694, \"NOTHINGHERE\", NaN, NaN], [1239, 40165699, \"NOTHINGHERE\", NaN, NaN], [1240, 40165700, \"NOTHINGHERE\", NaN, NaN], [1241, 40165701, \"NOTHINGHERE\", NaN, NaN], [1242, 40165724, \"DEEPLETSEAANEMONE\", 4.0, 0.0], [1243, 40165732, \"DEEPLETSEAANEMONE\", 3.5, 0.0], [1244, 40165742, \"NOTHINGHERE\", NaN, NaN], [1245, 40165744, \"HUMANOBJECTS\", NaN, 0.0], [1246, 40165745, \"HUMANOBJECTS\", NaN, 0.0], [1247, 40165746, \"HUMANOBJECTS\", NaN, 0.0], [1248, 40165747, \"HUMANOBJECTS\", NaN, 0.0], [1249, 40165751, \"HUMANOBJECTS\", NaN, 0.0], [1250, 40165759, \"CRUSTACEANANYSPECIES\", 1.0, 0.0], [1251, 40165763, \"NOTHINGHERE\", NaN, NaN], [1252, 40165767, \"NOTHINGHERE\", NaN, NaN], [1253, 40165769, \"NOTHINGHERE\", NaN, NaN], [1254, 40165778, \"NOTHINGHERE\", NaN, NaN], [1255, 40165779, \"NOTHINGHERE\", NaN, NaN], [1256, 40165784, \"FISHANYSPECIES\", 1.0, 0.0], [1257, 40165791, \"NOTHINGHERE\", NaN, NaN], [1258, 40165804, \"DEEPLETSEAANEMONE\", 2.5, 0.0], [1259, 40165808, \"NOTHINGHERE\", NaN, NaN], [1260, 40165813, \"NOTHINGHERE\", NaN, NaN], [1261, 40165819, \"NOTHINGHERE\", NaN, NaN], [1262, 40165820, \"NOTHINGHERE\", NaN, NaN], [1263, 40165827, \"NOTHINGHERE\", NaN, NaN], [1264, 40165831, \"NOTHINGHERE\", NaN, NaN], [1265, 40165832, \"NOTHINGHERE\", NaN, NaN], [1266, 40165844, \"NOTHINGHERE\", NaN, NaN], [1267, 40165866, \"NOTHINGHERE\", NaN, NaN], [1268, 40165870, \"TALLSEAPEN\", 1.0, 0.0], [1269, 40165877, \"NOTHINGHERE\", NaN, NaN], [1270, 40165878, \"TALLSEAPEN\", 1.0, 0.0], [1271, 40165879, \"NOTHINGHERE\", NaN, NaN], [1272, 40165882, \"ECHINODERMANYSPECIES\", 1.0, 0.0], [1273, 40165884, \"ECHINODERMANYSPECIES\", 1.0, 0.0], [1274, 40165890, \"NOTHINGHERE\", NaN, NaN], [1275, 40165891, \"NOTHINGHERE\", NaN, NaN], [1276, 40165892, \"NOTHINGHERE\", NaN, NaN], [1277, 40165894, \"NOTHINGHERE\", NaN, NaN], [1278, 40165896, \"NOTHINGHERE\", NaN, NaN], [1279, 40165901, \"NORTHERNSHRIMP\", 4.0, 0.5], [1280, 40165902, \"NORTHERNSHRIMP\", 1.0, 0.0], [1281, 40165904, \"NORTHERNSHRIMP\", 2.0, 1.0], [1282, 40165911, \"NORTHERNSHRIMP\", 2.0, 0.0], [1283, 40165916, \"NOTHINGHERE\", NaN, NaN], [1284, 40165919, \"NOTHINGHERE\", NaN, NaN], [1285, 40165925, \"NOTHINGHERE\", NaN, NaN], [1286, 40165928, \"NOTHINGHERE\", NaN, NaN], [1287, 40165930, \"NOTHINGHERE\", NaN, NaN], [1288, 40165931, \"NOTHINGHERE\", NaN, NaN], [1289, 40165937, \"NOTHINGHERE\", NaN, NaN], [1290, 40165938, \"NOTHINGHERE\", NaN, NaN], [1291, 40165940, \"NOTHINGHERE\", NaN, NaN], [1292, 40165941, \"NOTHINGHERE\", NaN, NaN], [1293, 40165942, \"NOTHINGHERE\", NaN, NaN], [1294, 40165946, \"NOTHINGHERE\", NaN, NaN], [1295, 40165949, \"NOTHINGHERE\", NaN, NaN], [1296, 40165950, \"NOTHINGHERE\", NaN, NaN], [1297, 40165951, \"NOTHINGHERE\", NaN, NaN], [1298, 40165962, \"NOTHINGHERE\", NaN, NaN], [1299, 40165965, \"NOTHINGHERE\", NaN, NaN], [1300, 40165968, \"NOTHINGHERE\", NaN, NaN], [1301, 40165969, \"NOTHINGHERE\", NaN, NaN], [1302, 40165970, \"NOTHINGHERE\", NaN, NaN], [1303, 40165973, \"NOTHINGHERE\", NaN, NaN], [1304, 40165974, \"NOTHINGHERE\", NaN, NaN], [1305, 40165987, \"DEEPLETSEAANEMONE\", 1.0, 0.0], [1306, 40165993, \"FILECLAM\", 2.0, 0.0], [1307, 40166044, \"DEEPSEAKINGCRAB\", 1.0, 0.0], [1308, 40166045, \"DEEPSEAKINGCRAB\", 1.0, 0.5], [1309, 40166049, \"DEEPSEAKINGCRAB\", 1.0, 0.0], [1310, 40166061, \"SPONGEANYSPECIES\", 1.0, 1.5], [1311, 40166070, \"DEEPLETSEAANEMONE\", 4.0, 0.0], [1312, 40166072, \"FISHANYSPECIES\", 1.0, 0.0], [1313, 40166073, \"FISHANYSPECIES\", 1.0, 1.0], [1314, 40166077, \"DEEPLETSEAANEMONE\", 4.0, 0.0], [1315, 40166081, \"DEEPLETSEAANEMONE\", 4.0, 0.0], [1316, 40166083, \"DEEPLETSEAANEMONE\", 4.0, 0.0], [1317, 40166084, \"DEEPLETSEAANEMONE\", 4.0, 0.0], [1318, 40166101, \"DEEPLETSEAANEMONE\", 4.0, 0.0], [1319, 40166107, \"DEEPLETSEAANEMONE\", 4.0, 0.0], [1320, 40166108, \"DEEPLETSEAANEMONE\", 4.0, 0.0], [1321, 40166117, \"DEEPLETSEAANEMONE\", 4.0, 0.0], [1322, 40166122, \"DEEPLETSEAANEMONE\", 4.0, 0.0], [1323, 40166123, \"DEEPLETSEAANEMONE\", 4.0, 0.0], [1324, 40166124, \"DEEPLETSEAANEMONE\", 4.0, 0.0], [1325, 40166124, \"FOOTBALLSPONGE\", 1.0, 0.0], [1326, 40166132, \"DEEPLETSEAANEMONE\", 4.0, 0.0], [1327, 40166134, \"DEEPLETSEAANEMONE\", 4.0, 0.0], [1328, 40166148, \"DEEPLETSEAANEMONE\", 4.0, 0.0], [1329, 40166149, \"DEEPLETSEAANEMONE\", 3.0, 0.0], [1330, 40166151, \"DEEPLETSEAANEMONE\", 4.0, 0.0], [1331, 40166157, \"DEEPLETSEAANEMONE\", 4.0, 0.0], [1332, 40166158, \"DEEPLETSEAANEMONE\", 4.0, 0.0], [1333, 40166160, \"DEEPLETSEAANEMONE\", 4.0, 0.0], [1334, 40166161, \"DEEPLETSEAANEMONE\", 4.0, 0.0], [1335, 40166184, \"DEEPLETSEAANEMONE\", 1.0, 0.5], [1336, 40166197, \"NOTHINGHERE\", NaN, NaN], [1337, 40166199, \"NOTHINGHERE\", NaN, NaN], [1338, 40166205, \"NOTHINGHERE\", NaN, NaN], [1339, 40166216, \"SPONGEANYSPECIES\", 4.0, 1.0], [1340, 40166219, \"DEADMANSFINGERS\", 4.0, 0.0], [1341, 40166221, \"DEADMANSFINGERS\", 4.0, 0.0], [1342, 40166228, \"DEADMANSFINGERS\", 4.0, 0.0], [1343, 40166233, \"DEADMANSFINGERS\", 4.0, 0.0], [1344, 40166236, \"DEADMANSFINGERS\", 4.0, 0.0], [1345, 40166237, \"DEADMANSFINGERS\", 4.0, 0.0], [1346, 40166242, \"DEADMANSFINGERS\", 4.0, 0.0], [1347, 40166287, \"FISHANYSPECIES\", 1.0, 0.0], [1348, 40166326, \"FISHANYSPECIES\", 2.0, 1.5], [1349, 40166343, \"COMMONSEAURCHIN\", 1.0, 0.0], [1350, 40166361, \"FISHANYSPECIES\", 1.0, 7.5], [1351, 40166374, \"COMMONSEAURCHIN\", 1.0, 0.0], [1352, 40166402, \"FISHANYSPECIES\", 2.5, 0.5], [1353, 40166405, \"NOTHINGHERE\", NaN, NaN], [1354, 40166407, \"CRUSTACEANANYSPECIES\", 1.0, 3.5], [1355, 40166412, \"NOTHINGHERE\", NaN, NaN], [1356, 40166425, \"FISHANYSPECIES\", 1.0, 1.0], [1357, 40166454, \"DEADMANSFINGERS\", 4.0, 0.0], [1358, 40166552, \"SPONGEANYSPECIES\", 4.0, 2.5], [1359, 40166576, \"BLACKBRITTLESTAR\", 4.0, 0.0], [1360, 40166581, \"BLACKBRITTLESTAR\", 4.0, 0.0], [1361, 40166585, \"BLACKBRITTLESTAR\", 4.0, 0.0], [1362, 40166624, \"COMMONSEAURCHIN\", 1.0, 0.0], [1363, 40166635, \"FISHANYSPECIES\", 1.0, 0.0], [1364, 40166670, \"CORALANYSPECIES\", 4.0, 0.0], [1365, 40166691, \"DEADMANSFINGERS\", 4.0, 0.0], [1366, 40166749, \"NOTHINGHERE\", NaN, NaN], [1367, 40166756, \"BLACKBRITTLESTAR\", 4.0, 0.0], [1368, 40166763, \"BLACKBRITTLESTAR\", 4.0, 0.0], [1369, 40166768, \"SPONGEANYSPECIES\", 4.0, 0.0], [1370, 40166769, \"BLACKBRITTLESTAR\", 4.0, 0.0], [1371, 40166770, \"BLACKBRITTLESTAR\", 4.0, 0.0], [1372, 40166814, \"NOTHINGHERE\", NaN, NaN], [1373, 40166815, \"BLACKBRITTLESTAR\", 4.0, 0.0], [1374, 40166818, \"BLACKBRITTLESTAR\", 4.0, 0.0], [1375, 40166868, \"NOTHINGHERE\", NaN, NaN], [1376, 40166870, \"NOTHINGHERE\", NaN, NaN], [1377, 40166871, \"NOTHINGHERE\", NaN, NaN], [1378, 40166877, \"NOTHINGHERE\", NaN, NaN], [1379, 40166893, \"SPONGEANYSPECIES\", 4.0, 0.0], [1380, 40166895, \"FISHANYSPECIES\", 1.0, 4.0], [1381, 40166906, \"NOTHINGHERE\", NaN, NaN], [1382, 40166917, \"NOTHINGHERE\", NaN, NaN], [1383, 40166919, \"NOTHINGHERE\", NaN, NaN], [1384, 40166937, \"NOTHINGHERE\", NaN, NaN], [1385, 40166945, \"DEEPSEAKINGCRAB\", 1.0, 0.0], [1386, 40166954, \"NOTHINGHERE\", NaN, NaN], [1387, 40166964, \"NOTHINGHERE\", NaN, NaN], [1388, 40166972, \"FOOTBALLSPONGE\", 4.0, 0.0], [1389, 40166977, \"NOTHINGHERE\", NaN, NaN], [1390, 40166986, \"NOTHINGHERE\", NaN, NaN], [1391, 40166988, \"NOTHINGHERE\", NaN, NaN], [1392, 40166995, \"FOOTBALLSPONGE\", 2.0, 0.0], [1393, 40167003, \"FOOTBALLSPONGE\", 1.0, 0.0], [1394, 40167022, \"DEEPLETSEAANEMONE\", 1.0, 3.0], [1395, 40167032, \"NOTHINGHERE\", NaN, NaN], [1396, 40167077, \"FOOTBALLSPONGE\", 4.0, 0.0], [1397, 40167081, \"FOOTBALLSPONGE\", 1.0, 1.0], [1398, 40167087, \"NOTHINGHERE\", NaN, NaN], [1399, 40167094, \"NOTHINGHERE\", NaN, NaN], [1400, 40167107, \"NOTHINGHERE\", NaN, NaN], [1401, 40167109, \"NOTHINGHERE\", NaN, NaN], [1402, 40167113, \"FOOTBALLSPONGE\", 3.0, 0.0], [1403, 40167118, \"CUSHINSTAR\", 1.0, 0.0], [1404, 40167134, \"NOTHINGHERE\", NaN, NaN], [1405, 40167149, \"DEEPSEAKINGCRAB\", 1.0, 0.0], [1406, 40167159, \"FOOTBALLSPONGE\", 1.5, 0.0], [1407, 40167163, \"FOOTBALLSPONGE\", 2.0, 0.0], [1408, 40167181, \"NOTHINGHERE\", NaN, NaN], [1409, 40167187, \"ECHINODERMANYSPECIES\", 1.0, 0.0], [1410, 40167188, \"CUSHINSTAR\", 1.0, 0.0], [1411, 40167198, \"NOTHINGHERE\", NaN, NaN], [1412, 40167200, \"NOTHINGHERE\", NaN, NaN], [1413, 40167218, \"DEEPSEAKINGCRAB\", 1.0, 0.0], [1414, 40167219, \"DEEPSEAKINGCRAB\", 1.5, 0.0], [1415, 40167222, \"DEEPSEAKINGCRAB\", 1.0, 0.0], [1416, 40167230, \"NOTHINGHERE\", NaN, NaN], [1417, 40167244, \"DEEPSEAKINGCRAB\", 1.0, 0.0], [1418, 40167257, \"FILECLAM\", 1.0, 0.0], [1419, 40167300, \"DEEPSEAKINGCRAB\", 1.0, 0.0], [1420, 40167336, \"NOTHINGHERE\", NaN, NaN], [1421, 40167349, \"DEEPSEAKINGCRAB\", 1.0, 0.0], [1422, 40167399, \"FOOTBALLSPONGE\", 1.0, 8.5], [1423, 40167408, \"DEEPSEAKINGCRAB\", 1.0, 0.0], [1424, 40167409, \"FISHANYSPECIES\", 1.0, 1.0], [1425, 40167429, \"NOTHINGHERE\", NaN, NaN], [1426, 40167432, \"DEEPSEAKINGCRAB\", 1.0, 0.0], [1427, 40167435, \"NOTHINGHERE\", NaN, NaN], [1428, 40167467, \"FISHANYSPECIES\", 4.0, 0.0], [1429, 40167477, \"FISHANYSPECIES\", 1.0, 1.0], [1430, 40167478, \"FISHANYSPECIES\", 1.0, 0.0], [1431, 40167499, \"NORWAYLOBSTER\", 1.0, 0.0], [1432, 40167545, \"FISHANYSPECIES\", 1.0, 0.0], [1433, 40167546, \"FISHANYSPECIES\", 1.0, 0.0], [1434, 40167552, \"NOTHINGHERE\", NaN, NaN], [1435, 40167555, \"NOTHINGHERE\", NaN, NaN], [1436, 40167558, \"FISHANYSPECIES\", 1.0, 0.0], [1437, 40167565, \"CORALANYSPECIES\", 1.0, 0.0], [1438, 40167567, \"NOTHINGHERE\", NaN, NaN], [1439, 40167572, \"NOTHINGHERE\", NaN, NaN], [1440, 40167574, \"NOTHINGHERE\", NaN, NaN], [1441, 40167583, \"NOTHINGHERE\", NaN, NaN], [1442, 40167586, \"TALLSEAPEN\", 1.0, 0.5], [1443, 40167589, \"NOTHINGHERE\", NaN, NaN], [1444, 40167592, \"NOTHINGHERE\", NaN, NaN], [1445, 40167593, \"ECHINODERMANYSPECIES\", 1.0, 0.0], [1446, 40167605, \"NOTHINGHERE\", NaN, NaN], [1447, 40167624, \"COMMONSEAPEN\", 1.0, 0.0], [1448, 40167625, \"COMMONSEAPEN\", 1.0, 0.0], [1449, 40167634, \"NOTHINGHERE\", NaN, NaN], [1450, 40167638, \"NOTHINGHERE\", NaN, NaN], [1451, 40167642, \"NOTHINGHERE\", NaN, NaN], [1452, 40167652, \"FISHANYSPECIES\", 1.0, 0.0], [1453, 40167655, \"TALLSEAPEN\", 1.0, 0.5], [1454, 40167659, \"TALLSEAPEN\", 1.0, 0.0], [1455, 40167664, \"CRUSTACEANANYSPECIES\", 1.0, 0.0], [1456, 40167670, \"NOTHINGHERE\", NaN, NaN], [1457, 40167675, \"NOTHINGHERE\", NaN, NaN], [1458, 40167678, \"CRUSTACEANANYSPECIES\", 1.0, 0.0], [1459, 40167686, \"NORWAYLOBSTER\", 1.0, 0.0], [1460, 40167691, \"NORWAYLOBSTER\", 1.0, 0.0], [1461, 40167694, \"NOTHINGHERE\", NaN, NaN], [1462, 40167697, \"NORWAYLOBSTER\", 1.0, 0.5], [1463, 40167698, \"NORWAYLOBSTER\", 1.0, 0.0], [1464, 40167701, \"NORWAYLOBSTER\", 1.0, 0.0], [1465, 40167702, \"NORWAYLOBSTER\", 1.0, 1.0], [1466, 40167711, \"NORWAYLOBSTER\", 1.0, 0.0], [1467, 40167712, \"NORWAYLOBSTER\", 1.0, 0.0], [1468, 40167716, \"NORWAYLOBSTER\", 1.0, 0.0], [1469, 40167721, \"NORWAYLOBSTER\", 1.0, 6.0], [1470, 40167724, \"NORWAYLOBSTER\", 1.0, 0.0], [1471, 40167732, \"FISHANYSPECIES\", 1.0, 0.0], [1472, 40167739, \"NOTHINGHERE\", NaN, NaN], [1473, 40167745, \"NOTHINGHERE\", NaN, NaN], [1474, 40167746, \"TALLSEAPEN\", 1.0, 0.0], [1475, 40167769, \"NORTHERNSHRIMP\", 4.0, 1.0], [1476, 40167784, \"CRUSTACEANANYSPECIES\", 1.0, 0.0], [1477, 40167786, \"NOTHINGHERE\", NaN, NaN], [1478, 40167790, \"NOTHINGHERE\", NaN, NaN], [1479, 40167812, \"DEEPSEAKINGCRAB\", 1.0, 0.0], [1480, 40167827, \"NOTHINGHERE\", NaN, NaN], [1481, 40167853, \"NOTHINGHERE\", NaN, NaN], [1482, 40167857, \"NOTHINGHERE\", NaN, NaN], [1483, 40167858, \"NOTHINGHERE\", NaN, NaN], [1484, 40167872, \"NOTHINGHERE\", NaN, NaN], [1485, 40167884, \"FISHANYSPECIES\", 1.0, 0.0], [1486, 40167886, \"NOTHINGHERE\", NaN, NaN], [1487, 40167913, \"NOTHINGHERE\", NaN, NaN], [1488, 40167918, \"NOTHINGHERE\", NaN, NaN], [1489, 40167925, \"FOOTBALLSPONGE\", 1.0, 0.0], [1490, 40167929, \"ECHINODERMANYSPECIES\", 1.0, 0.0], [1491, 40167938, \"NORWAYLOBSTER\", 1.0, 0.0], [1492, 40167940, \"NORWAYLOBSTER\", 1.0, 1.0], [1493, 40167951, \"NORWAYLOBSTER\", 1.0, 0.0], [1494, 40167953, \"ECHINODERMANYSPECIES\", 1.0, 0.0], [1495, 40167960, \"ECHINODERMANYSPECIES\", 1.0, 0.0], [1496, 40167962, \"ECHINODERMANYSPECIES\", 1.0, 0.0], [1497, 40167979, \"FOOTBALLSPONGE\", 4.0, 0.0], [1498, 40167997, \"FOOTBALLSPONGE\", 4.0, 0.0], [1499, 40167998, \"CUSHINSTAR\", 1.0, 0.0], [1500, 40167998, \"FOOTBALLSPONGE\", 2.0, 0.0], [1501, 40168003, \"FOOTBALLSPONGE\", 3.5, 1.0], [1502, 40168016, \"NOTHINGHERE\", NaN, NaN], [1503, 40168021, \"NOTHINGHERE\", NaN, NaN], [1504, 40168041, \"NOTHINGHERE\", NaN, NaN], [1505, 40168051, \"FOOTBALLSPONGE\", 1.0, 0.0], [1506, 40168054, \"FOOTBALLSPONGE\", 4.0, 3.5], [1507, 40168063, \"FOOTBALLSPONGE\", 4.0, 0.0], [1508, 40168091, \"NOTHINGHERE\", NaN, NaN], [1509, 40168102, \"BIVALVESANYSPECIES\", 1.0, 0.0], [1510, 40168110, \"FISHANYSPECIES\", 1.0, 0.0], [1511, 40168111, \"FISHANYSPECIES\", 1.0, 0.0], [1512, 40168118, \"NOTHINGHERE\", NaN, NaN], [1513, 40168119, \"NOTHINGHERE\", NaN, NaN], [1514, 40168124, \"ECHINODERMANYSPECIES\", 1.0, 8.0], [1515, 40168125, \"NOTHINGHERE\", NaN, NaN], [1516, 40168130, \"FISHANYSPECIES\", 1.0, 1.0], [1517, 40168142, \"FISHANYSPECIES\", 2.0, 0.0], [1518, 40168145, \"NOTHINGHERE\", NaN, NaN], [1519, 40168150, \"NOTHINGHERE\", NaN, NaN], [1520, 40168151, \"FISHANYSPECIES\", 2.0, 6.0], [1521, 40168169, \"FISHANYSPECIES\", 3.0, 1.0], [1522, 40168172, \"CUSHINSTAR\", 1.0, 0.0], [1523, 40168174, \"NOTHINGHERE\", NaN, NaN], [1524, 40168179, \"NOTHINGHERE\", NaN, NaN], [1525, 40168182, \"NOTHINGHERE\", NaN, NaN], [1526, 40168183, \"DEEPLETSEAANEMONE\", 1.0, 8.0], [1527, 40168187, \"DEEPLETSEAANEMONE\", 1.0, 6.5], [1528, 40168188, \"DEEPLETSEAANEMONE\", 3.0, 0.0], [1529, 40168194, \"NOTHINGHERE\", NaN, NaN], [1530, 40168197, \"DEEPLETSEAANEMONE\", 4.0, 0.0], [1531, 40168198, \"DEEPLETSEAANEMONE\", 1.0, 5.0], [1532, 40168199, \"FISHANYSPECIES\", 4.0, 1.5], [1533, 40168200, \"FISHANYSPECIES\", 2.5, 4.0], [1534, 40168201, \"DEEPLETSEAANEMONE\", 1.0, 0.0], [1535, 40168201, \"DEEPWATERCORAL\", 1.0, 0.0], [1536, 40168202, \"DEEPLETSEAANEMONE\", 2.0, 1.0], [1537, 40168203, \"DEEPLETSEAANEMONE\", 1.0, 0.0], [1538, 40168203, \"FISHANYSPECIES\", 1.0, 7.0], [1539, 40168214, \"NOTHINGHERE\", NaN, NaN], [1540, 40168218, \"NOTHINGHERE\", NaN, NaN], [1541, 40168220, \"NOTHINGHERE\", NaN, NaN], [1542, 40168221, \"NOTHINGHERE\", NaN, NaN], [1543, 40168222, \"DEEPLETSEAANEMONE\", 1.0, 0.0], [1544, 40168229, \"DEEPLETSEAANEMONE\", 2.5, 0.0], [1545, 40168236, \"DEEPLETSEAANEMONE\", 2.0, 1.5], [1546, 40168237, \"DEEPLETSEAANEMONE\", 1.0, 0.0], [1547, 40168238, \"NOTHINGHERE\", NaN, NaN], [1548, 40168241, \"DEEPWATERCORAL\", 1.5, 0.0], [1549, 40168249, \"NOTHINGHERE\", NaN, NaN], [1550, 40168252, \"DEEPWATERCORAL\", 2.0, 0.0], [1551, 40168256, \"DEEPLETSEAANEMONE\", 3.0, 3.5], [1552, 40168283, \"DEEPLETSEAANEMONE\", 2.0, 0.0], [1553, 40168283, \"DEEPWATERCORAL\", 1.0, 0.0], [1554, 40168286, \"DEEPWATERCORAL\", 1.0, 0.0], [1555, 40168288, \"DEEPWATERCORAL\", 1.0, 0.0], [1556, 40168304, \"NORTHERNSHRIMP\", 1.0, 0.0], [1557, 40168316, \"DEEPLETSEAANEMONE\", 4.0, 5.0], [1558, 40168316, \"DEEPWATERCORAL\", 1.0, 0.0], [1559, 40168327, \"DEEPWATERCORAL\", 1.5, 1.0], [1560, 40168335, \"DEEPLETSEAANEMONE\", 2.0, 0.0], [1561, 40168336, \"DEEPLETSEAANEMONE\", 2.5, 5.5], [1562, 40168337, \"DEEPLETSEAANEMONE\", 1.0, 0.0], [1563, 40168339, \"DEEPLETSEAANEMONE\", 4.0, 0.0], [1564, 40168342, \"DEEPLETSEAANEMONE\", 1.0, 2.0], [1565, 40168349, \"DEEPWATERCORAL\", 2.0, 0.0], [1566, 40168351, \"DEEPWATERCORAL\", 2.0, 0.0], [1567, 40168354, \"DEEPWATERCORAL\", 2.0, 0.0], [1568, 40168356, \"DEEPWATERCORAL\", 1.0, 0.0], [1569, 40168357, \"DEEPWATERCORAL\", 1.0, 0.0], [1570, 40168359, \"DEEPLETSEAANEMONE\", 4.0, 3.5], [1571, 40168359, \"SPONGEANYSPECIES\", 3.0, 0.0], [1572, 40168365, \"NOTHINGHERE\", NaN, NaN], [1573, 40168366, \"DEEPLETSEAANEMONE\", 3.0, 3.5], [1574, 40168367, \"SUGARSTARFISH\", 1.0, 0.0], [1575, 40168368, \"DEEPLETSEAANEMONE\", 2.5, 2.0], [1576, 40168369, \"NOTHINGHERE\", NaN, NaN], [1577, 40168372, \"DEEPLETSEAANEMONE\", 2.0, 0.5], [1578, 40168372, \"FOOTBALLSPONGE\", 2.0, 0.5], [1579, 40168374, \"DEEPLETSEAANEMONE\", 2.0, 1.0], [1580, 40168377, \"NOTHINGHERE\", NaN, NaN], [1581, 40168379, \"NOTHINGHERE\", NaN, NaN], [1582, 40168380, \"NOTHINGHERE\", NaN, NaN], [1583, 40168381, \"DEEPLETSEAANEMONE\", 2.0, 8.5], [1584, 40168383, \"NOTHINGHERE\", NaN, NaN], [1585, 40168384, \"NOTHINGHERE\", NaN, NaN], [1586, 40168385, \"NOTHINGHERE\", NaN, NaN], [1587, 40168386, \"NOTHINGHERE\", NaN, NaN], [1588, 40168396, \"DEEPLETSEAANEMONE\", 3.0, 0.0], [1589, 40168397, \"DEEPLETSEAANEMONE\", 1.0, 8.5], [1590, 40168401, \"DEEPLETSEAANEMONE\", 2.5, 0.0], [1591, 40168402, \"DEEPLETSEAANEMONE\", 2.0, 0.0], [1592, 40168404, \"DEEPLETSEAANEMONE\", 4.0, 2.0], [1593, 40168408, \"DEEPLETSEAANEMONE\", 1.0, 5.0], [1594, 40168409, \"DEEPWATERCORAL\", 1.0, 1.0], [1595, 40168411, \"DEEPLETSEAANEMONE\", 4.0, 0.0], [1596, 40168415, \"NOTHINGHERE\", NaN, NaN], [1597, 40168420, \"NOTHINGHERE\", NaN, NaN], [1598, 40168426, \"FOOTBALLSPONGE\", 1.0, 0.0], [1599, 40168428, \"FOOTBALLSPONGE\", 1.0, 0.0], [1600, 40168432, \"DEEPWATERCORAL\", 1.0, 0.0], [1601, 40168433, \"DEEPLETSEAANEMONE\", 3.0, 0.0], [1602, 40168446, \"ROSYFEATHERSTAR\", 1.5, 0.0], [1603, 40168451, \"DEEPWATERCORAL\", 2.0, 8.0], [1604, 40168451, \"FOOTBALLSPONGE\", 3.0, 5.0], [1605, 40168453, \"DEEPLETSEAANEMONE\", 2.0, 5.0], [1606, 40168468, \"DEEPLETSEAANEMONE\", 1.0, 1.0], [1607, 40168471, \"DEEPLETSEAANEMONE\", 1.0, 0.0], [1608, 40168475, \"DEEPLETSEAANEMONE\", 2.0, 1.0], [1609, 40168476, \"DEEPLETSEAANEMONE\", 1.0, 3.5], [1610, 40168489, \"NOTHINGHERE\", NaN, NaN], [1611, 40168491, \"DEEPLETSEAANEMONE\", 2.0, 0.0], [1612, 40168499, \"NOTHINGHERE\", NaN, NaN], [1613, 40168503, \"DEEPLETSEAANEMONE\", 4.0, 0.0], [1614, 40168504, \"DEEPLETSEAANEMONE\", 3.0, 0.0], [1615, 40168509, \"DEEPWATERCORAL\", 2.0, 0.0], [1616, 40168511, \"DEEPWATERCORAL\", 3.0, 0.0], [1617, 40168511, \"SPONGEANYSPECIES\", 1.0, 0.0], [1618, 40168513, \"SPONGEANYSPECIES\", 1.0, 0.0], [1619, 40168529, \"FOOTBALLSPONGE\", 3.0, 0.0], [1620, 40168535, \"DEEPLETSEAANEMONE\", 2.0, 5.0], [1621, 40168536, \"DEEPLETSEAANEMONE\", 4.0, 1.5], [1622, 40168543, \"FISHANYSPECIES\", 1.0, 0.0], [1623, 40168545, \"DEEPLETSEAANEMONE\", 3.0, 0.0], [1624, 40168546, \"DEEPLETSEAANEMONE\", 3.0, 0.5], [1625, 40168547, \"NOTHINGHERE\", NaN, NaN], [1626, 40168548, \"DEEPLETSEAANEMONE\", 1.0, 0.0], [1627, 40168549, \"DEEPLETSEAANEMONE\", 1.0, 0.0], [1628, 40168552, \"DEEPLETSEAANEMONE\", 2.0, 0.0], [1629, 40168554, \"DEEPLETSEAANEMONE\", 2.0, 0.0], [1630, 40168557, \"DEEPLETSEAANEMONE\", 4.0, 1.0], [1631, 40168559, \"DEEPLETSEAANEMONE\", 1.0, 4.0], [1632, 40168561, \"DEEPLETSEAANEMONE\", 2.0, 7.5], [1633, 40168563, \"COMMONSEAURCHIN\", 1.0, 0.0], [1634, 40168563, \"DEEPLETSEAANEMONE\", 2.0, 0.0], [1635, 40168563, \"DEEPWATERCORAL\", 2.5, 4.5], [1636, 40168565, \"DEEPWATERCORAL\", 2.0, 0.0], [1637, 40168566, \"DEEPLETSEAANEMONE\", 1.0, 0.0], [1638, 40168566, \"DEEPWATERCORAL\", 2.0, 0.0], [1639, 40168579, \"DEEPWATERCORAL\", 1.0, 0.0], [1640, 40168582, \"DEEPLETSEAANEMONE\", 1.0, 0.0], [1641, 40168584, \"DEEPLETSEAANEMONE\", 2.0, 0.0], [1642, 40168584, \"DEEPWATERCORAL\", 1.0, 0.0], [1643, 40168585, \"DEEPWATERCORAL\", 1.0, 0.0], [1644, 40168588, \"DEEPWATERCORAL\", 1.0, 0.0], [1645, 40168594, \"DEEPWATERCORAL\", 1.0, 0.0], [1646, 40168612, \"DEEPWATERCORAL\", 2.5, 0.0], [1647, 40168613, \"DEEPWATERCORAL\", 2.0, 0.0], [1648, 40168633, \"DEEPLETSEAANEMONE\", 1.0, 0.0], [1649, 40168633, \"DEEPWATERCORAL\", 1.0, 0.0], [1650, 40168635, \"DEEPLETSEAANEMONE\", 2.0, 0.0], [1651, 40168636, \"DEEPLETSEAANEMONE\", 1.0, 0.0], [1652, 40168638, \"DEEPLETSEAANEMONE\", 3.0, 0.0], [1653, 40168638, \"DEEPSEAKINGCRAB\", 1.0, 0.0], [1654, 40168648, \"DEEPLETSEAANEMONE\", 4.0, 0.0], [1655, 40168650, \"DEEPLETSEAANEMONE\", 3.0, 6.0], [1656, 40168662, \"CORALANYSPECIES\", 4.0, 0.0], [1657, 40168663, \"DEEPWATERCORAL\", 1.0, 1.5], [1658, 40168674, \"DEEPWATERCORAL\", 2.0, 0.0], [1659, 40168675, \"DEEPWATERCORAL\", 1.5, 0.0], [1660, 40168683, \"NOTHINGHERE\", NaN, NaN], [1661, 40168684, \"DEEPWATERCORAL\", 4.0, 0.0], [1662, 40168696, \"DEEPWATERCORAL\", 2.0, 0.0], [1663, 40168696, \"FOOTBALLSPONGE\", 1.0, 0.0], [1664, 40168702, \"DEEPWATERCORAL\", 1.0, 0.0], [1665, 40168706, \"DEEPWATERCORAL\", 1.0, 0.0], [1666, 40168711, \"ROSYFEATHERSTAR\", 1.0, 0.0], [1667, 40168711, \"SPONGEANYSPECIES\", 2.5, 0.0], [1668, 40168723, \"DEEPWATERCORAL\", 4.0, 0.0], [1669, 40168726, \"DEEPWATERCORAL\", 3.0, 0.0], [1670, 40168755, \"DEEPLETSEAANEMONE\", 4.0, 4.0], [1671, 40168758, \"NOTHINGHERE\", NaN, NaN], [1672, 40168763, \"DEEPLETSEAANEMONE\", 1.0, 8.0], [1673, 40168766, \"DEEPLETSEAANEMONE\", 2.0, 6.5], [1674, 40168767, \"DEEPLETSEAANEMONE\", 1.0, 9.0], [1675, 40168769, \"SUGARSTARFISH\", 1.0, 0.0], [1676, 40168770, \"DEEPWATERCORAL\", 1.0, 1.0], [1677, 40168775, \"DEEPLETSEAANEMONE\", 3.0, 5.5], [1678, 40168776, \"DEEPLETSEAANEMONE\", 2.0, 0.0], [1679, 40168776, \"DEEPSEAKINGCRAB\", 1.0, 0.0], [1680, 40168778, \"FOOTBALLSPONGE\", 1.0, 2.0], [1681, 40168781, \"DEEPLETSEAANEMONE\", 2.0, 0.0], [1682, 40168785, \"DEEPLETSEAANEMONE\", 2.0, 0.0], [1683, 40168790, \"DEEPLETSEAANEMONE\", 2.0, 1.0], [1684, 40168793, \"DEEPLETSEAANEMONE\", 1.0, 0.0], [1685, 40168794, \"DEEPLETSEAANEMONE\", 1.0, 0.0], [1686, 40168800, \"DEEPWATERCORAL\", 1.0, 0.0], [1687, 40168805, \"DEEPLETSEAANEMONE\", 1.0, 0.0], [1688, 40168809, \"DEEPLETSEAANEMONE\", 3.0, 3.0], [1689, 40168815, \"DEEPLETSEAANEMONE\", 1.0, 7.0], [1690, 40168818, \"DEEPLETSEAANEMONE\", 2.0, 0.0], [1691, 40168826, \"DEEPLETSEAANEMONE\", 1.0, 6.0], [1692, 40168830, \"DEEPLETSEAANEMONE\", 1.0, 0.0], [1693, 40168832, \"NOTHINGHERE\", NaN, NaN], [1694, 40168835, \"DEEPLETSEAANEMONE\", 1.5, 0.0], [1695, 40168844, \"DEEPLETSEAANEMONE\", 3.0, 0.0], [1696, 40168848, \"DEEPLETSEAANEMONE\", 4.0, 0.0], [1697, 40168852, \"DEEPLETSEAANEMONE\", 2.0, 3.5], [1698, 40168853, \"DEEPLETSEAANEMONE\", 3.0, 0.0], [1699, 40168858, \"DEEPLETSEAANEMONE\", 4.0, 0.0], [1700, 40168859, \"DEEPLETSEAANEMONE\", 1.0, 2.0], [1701, 40168867, \"DEEPWATERCORAL\", 1.0, 0.0], [1702, 40168876, \"DEEPWATERCORAL\", 4.0, 0.0], [1703, 40168877, \"DEEPWATERCORAL\", 4.0, 0.0], [1704, 40168879, \"DEEPLETSEAANEMONE\", 1.0, 8.5], [1705, 40168880, \"DEEPWATERCORAL\", 4.0, 0.0], [1706, 40168882, \"DEEPWATERCORAL\", 1.0, 0.0], [1707, 40168883, \"DEEPWATERCORAL\", 1.0, 1.0], [1708, 40168901, \"DEEPWATERCORAL\", 1.0, 0.0], [1709, 40168903, \"DEEPWATERCORAL\", 1.0, 0.0], [1710, 40168904, \"DEEPWATERCORAL\", 1.0, 0.5], [1711, 40168912, \"DEEPWATERCORAL\", 4.0, 0.0], [1712, 40168913, \"DEEPLETSEAANEMONE\", 2.5, 0.0], [1713, 40168924, \"DEEPWATERCORAL\", 4.0, 0.0], [1714, 40168933, \"DEEPWATERCORAL\", 1.0, 0.0], [1715, 40168940, \"DEEPLETSEAANEMONE\", 2.0, 0.0], [1716, 40168940, \"DEEPWATERCORAL\", 3.0, 0.0], [1717, 40168942, \"CRUSTACEANANYSPECIES\", 1.0, 0.0], [1718, 40168942, \"DEEPWATERCORAL\", 2.0, 0.0], [1719, 40168942, \"SPONGEANYSPECIES\", 2.0, 0.0], [1720, 40168949, \"DEEPLETSEAANEMONE\", 1.0, 0.0], [1721, 40168987, \"DEEPLETSEAANEMONE\", 1.0, 0.0], [1722, 40168989, \"DEEPLETSEAANEMONE\", 2.0, 0.0], [1723, 40168990, \"DEEPLETSEAANEMONE\", 2.0, 0.0], [1724, 40168992, \"DEEPLETSEAANEMONE\", 4.0, 1.0], [1725, 40168993, \"HUMANOBJECTS\", NaN, 2.5], [1726, 40168999, \"HUMANOBJECTS\", NaN, 0.0], [1727, 40169005, \"DEEPWATERCORAL\", 4.0, 0.0], [1728, 40169026, \"FISHANYSPECIES\", 1.0, 0.0], [1729, 40169028, \"DEEPLETSEAANEMONE\", 4.0, 1.0], [1730, 40169029, \"DEEPLETSEAANEMONE\", 1.0, 3.0], [1731, 40169034, \"DEEPSEAKINGCRAB\", 1.0, 0.0], [1732, 40169037, \"DEEPLETSEAANEMONE\", 3.0, 0.0], [1733, 40169055, \"DEEPWATERCORAL\", 2.0, 0.0], [1734, 40169065, \"DEEPWATERCORAL\", 4.0, 0.0], [1735, 40169067, \"DEEPWATERCORAL\", 2.0, 4.0], [1736, 40169070, \"DEEPWATERCORAL\", 3.0, 5.0], [1737, 40169073, \"DEEPWATERCORAL\", 1.0, 0.0], [1738, 40169079, \"SPONGEANYSPECIES\", 4.0, 0.0], [1739, 40169080, \"DEEPWATERCORAL\", 4.0, 5.5], [1740, 40169082, \"FISHANYSPECIES\", 1.0, 0.0], [1741, 40169083, \"DEEPWATERCORAL\", 4.0, 0.0], [1742, 40169085, \"NOTHINGHERE\", NaN, NaN], [1743, 40169086, \"NOTHINGHERE\", NaN, NaN], [1744, 40169089, \"FISHANYSPECIES\", 1.0, 0.0], [1745, 40169094, \"DEEPLETSEAANEMONE\", 1.0, 9.0], [1746, 40169109, \"DEEPLETSEAANEMONE\", 1.0, 0.0], [1747, 40169110, \"DEEPLETSEAANEMONE\", 2.0, 8.0], [1748, 40169115, \"DEEPLETSEAANEMONE\", 1.0, 8.0], [1749, 40169118, \"DEEPLETSEAANEMONE\", 3.0, 0.0], [1750, 40169119, \"DEEPLETSEAANEMONE\", 2.0, 0.0], [1751, 40169121, \"DEEPLETSEAANEMONE\", 1.0, 0.0], [1752, 40169122, \"DEEPLETSEAANEMONE\", 1.0, 0.0], [1753, 40169124, \"DEEPLETSEAANEMONE\", 2.0, 5.0], [1754, 40169125, \"DEEPLETSEAANEMONE\", 2.0, 0.0], [1755, 40169130, \"NOTHINGHERE\", NaN, NaN], [1756, 40169131, \"DEEPLETSEAANEMONE\", 1.0, 0.0], [1757, 40169136, \"DEEPLETSEAANEMONE\", 1.0, 0.0], [1758, 40169137, \"DEEPWATERCORAL\", 1.5, 2.0], [1759, 40169139, \"DEEPLETSEAANEMONE\", 1.0, 4.0], [1760, 40169146, \"DEEPLETSEAANEMONE\", 1.0, 0.0], [1761, 40169153, \"DEEPLETSEAANEMONE\", 2.0, 8.0], [1762, 40169163, \"DEEPLETSEAANEMONE\", 1.0, 0.0], [1763, 40169164, \"FISHANYSPECIES\", 1.0, 0.0], [1764, 40169164, \"ROSYFEATHERSTAR\", 4.0, 0.0], [1765, 40169166, \"DEEPLETSEAANEMONE\", 1.0, 0.0], [1766, 40169167, \"DEEPLETSEAANEMONE\", 1.0, 1.0], [1767, 40169172, \"NOTHINGHERE\", NaN, NaN], [1768, 40169173, \"NOTHINGHERE\", NaN, NaN], [1769, 40169175, \"DEEPLETSEAANEMONE\", 1.0, 8.5], [1770, 40169176, \"DEEPLETSEAANEMONE\", 2.0, 0.0], [1771, 40169181, \"NOTHINGHERE\", NaN, NaN], [1772, 40169182, \"NOTHINGHERE\", NaN, NaN], [1773, 40169186, \"NOTHINGHERE\", NaN, NaN], [1774, 40169187, \"DEEPLETSEAANEMONE\", 2.0, 1.0], [1775, 40169193, \"NOTHINGHERE\", NaN, NaN], [1776, 40169194, \"NOTHINGHERE\", NaN, NaN], [1777, 40169198, \"DEEPLETSEAANEMONE\", 1.0, 6.5], [1778, 40169199, \"DEEPLETSEAANEMONE\", 3.0, 0.0], [1779, 40169200, \"NOTHINGHERE\", NaN, NaN], [1780, 40169206, \"NOTHINGHERE\", NaN, NaN], [1781, 40169207, \"NOTHINGHERE\", NaN, NaN], [1782, 40169210, \"NOTHINGHERE\", NaN, NaN], [1783, 40169212, \"NOTHINGHERE\", NaN, NaN], [1784, 40169214, \"NOTHINGHERE\", NaN, NaN], [1785, 40169215, \"NOTHINGHERE\", NaN, NaN], [1786, 40169216, \"NOTHINGHERE\", NaN, NaN], [1787, 40169217, \"NOTHINGHERE\", NaN, NaN], [1788, 40169220, \"DEEPLETSEAANEMONE\", 2.0, 1.0], [1789, 40169221, \"DEEPLETSEAANEMONE\", 4.0, 3.0], [1790, 40169222, \"DEEPLETSEAANEMONE\", 1.0, 3.5], [1791, 40169223, \"DEEPLETSEAANEMONE\", 4.0, 0.0], [1792, 40169228, \"DEEPWATERCORAL\", 1.0, 0.0], [1793, 40169237, \"DEEPWATERCORAL\", 2.0, 0.0], [1794, 40169240, \"DEEPWATERCORAL\", 2.0, 0.0], [1795, 40169244, \"DEEPWATERCORAL\", 2.0, 0.5], [1796, 40169250, \"ROSYFEATHERSTAR\", 3.0, 4.0], [1797, 40169252, \"DEEPWATERCORAL\", 4.0, 0.0], [1798, 40169253, \"DEEPWATERCORAL\", 4.0, 0.0], [1799, 40169257, \"DEEPWATERCORAL\", 2.0, 0.0], [1800, 40169262, \"DEEPWATERCORAL\", 1.0, 0.0], [1801, 40169263, \"DEEPWATERCORAL\", 3.0, 0.0], [1802, 40169270, \"DEEPLETSEAANEMONE\", 1.0, 0.0], [1803, 40169270, \"DEEPWATERCORAL\", 1.0, 0.0], [1804, 40169271, \"DEEPLETSEAANEMONE\", 1.0, 0.0], [1805, 40169271, \"DEEPWATERCORAL\", 1.0, 0.0], [1806, 40169273, \"DEEPLETSEAANEMONE\", 1.0, 8.0], [1807, 40169273, \"DEEPWATERCORAL\", 2.0, 0.0], [1808, 40169275, \"DEEPWATERCORAL\", 2.0, 0.0], [1809, 40169276, \"DEEPLETSEAANEMONE\", 4.0, 3.0], [1810, 40169279, \"DEEPLETSEAANEMONE\", 4.0, 0.0], [1811, 40169281, \"NOTHINGHERE\", NaN, NaN], [1812, 40169284, \"DEEPLETSEAANEMONE\", 1.0, 7.5], [1813, 40169285, \"DEEPLETSEAANEMONE\", 4.0, 0.0], [1814, 40169286, \"DEEPLETSEAANEMONE\", 2.0, 2.0], [1815, 40169289, \"NOTHINGHERE\", NaN, NaN], [1816, 40169290, \"DEEPLETSEAANEMONE\", 2.0, 9.0], [1817, 40169293, \"FOOTBALLSPONGE\", 4.0, 0.0], [1818, 40169296, \"DEEPLETSEAANEMONE\", 1.0, 7.0], [1819, 40169299, \"NOTHINGHERE\", NaN, NaN], [1820, 40169302, \"DEEPLETSEAANEMONE\", 2.0, 0.0], [1821, 40169308, \"DEEPLETSEAANEMONE\", 4.0, 0.0], [1822, 40169312, \"DEEPWATERCORAL\", 1.0, 0.0], [1823, 40169314, \"DEEPWATERCORAL\", 1.0, 0.0], [1824, 40169324, \"DEEPLETSEAANEMONE\", 1.0, 0.0], [1825, 40169325, \"DEEPSEAKINGCRAB\", 1.0, 0.5], [1826, 40169329, \"DEEPLETSEAANEMONE\", 1.0, 0.0], [1827, 40169330, \"DEEPLETSEAANEMONE\", 1.0, 0.0], [1828, 40169331, \"DEEPLETSEAANEMONE\", 1.0, 0.0], [1829, 40169331, \"DEEPSEAKINGCRAB\", 1.0, 0.0], [1830, 40169332, \"DEEPLETSEAANEMONE\", 1.0, 0.0], [1831, 40169333, \"DEEPLETSEAANEMONE\", 2.0, 0.0], [1832, 40169338, \"NOTHINGHERE\", NaN, NaN], [1833, 40169356, \"ROSYFEATHERSTAR\", 4.0, 0.0], [1834, 40169369, \"DEEPLETSEAANEMONE\", 1.0, 4.0], [1835, 40169371, \"DEEPLETSEAANEMONE\", 2.0, 6.0], [1836, 40169372, \"DEEPLETSEAANEMONE\", 1.0, 1.0], [1837, 40169379, \"DEEPLETSEAANEMONE\", 4.0, 1.0], [1838, 40169385, \"NOTHINGHERE\", NaN, NaN], [1839, 40169386, \"NOTHINGHERE\", NaN, NaN], [1840, 40169391, \"DEEPLETSEAANEMONE\", 4.0, 1.0], [1841, 40169392, \"NOTHINGHERE\", NaN, NaN], [1842, 40169394, \"NOTHINGHERE\", NaN, NaN], [1843, 40169395, \"NOTHINGHERE\", NaN, NaN], [1844, 40169397, \"NOTHINGHERE\", NaN, NaN], [1845, 40169401, \"NOTHINGHERE\", NaN, NaN], [1846, 40169402, \"NOTHINGHERE\", NaN, NaN], [1847, 40169404, \"DEEPLETSEAANEMONE\", 1.0, 3.0], [1848, 40169405, \"DEEPLETSEAANEMONE\", 1.0, 0.0], [1849, 40169410, \"NOTHINGHERE\", NaN, NaN], [1850, 40169411, \"NOTHINGHERE\", NaN, NaN], [1851, 40169413, \"DEEPLETSEAANEMONE\", 1.0, 5.0], [1852, 40169414, \"DEEPLETSEAANEMONE\", 1.0, 0.0], [1853, 40169416, \"DEEPLETSEAANEMONE\", 1.0, 0.0], [1854, 40169417, \"NOTHINGHERE\", NaN, NaN], [1855, 40169420, \"NOTHINGHERE\", NaN, NaN], [1856, 40169423, \"NOTHINGHERE\", NaN, NaN], [1857, 40169426, \"NOTHINGHERE\", NaN, NaN], [1858, 40169428, \"NOTHINGHERE\", NaN, NaN], [1859, 40169440, \"NOTHINGHERE\", NaN, NaN], [1860, 40169458, \"NOTHINGHERE\", NaN, NaN], [1861, 40169459, \"NOTHINGHERE\", NaN, NaN], [1862, 40169461, \"NOTHINGHERE\", NaN, NaN], [1863, 40169464, \"NOTHINGHERE\", NaN, NaN], [1864, 40169465, \"NOTHINGHERE\", NaN, NaN], [1865, 40169471, \"NOTHINGHERE\", NaN, NaN], [1866, 40169473, \"NOTHINGHERE\", NaN, NaN], [1867, 40169474, \"NOTHINGHERE\", NaN, NaN], [1868, 40169477, \"NOTHINGHERE\", NaN, NaN], [1869, 40169480, \"NOTHINGHERE\", NaN, NaN], [1870, 40169481, \"NORWAYLOBSTER\", 1.0, 0.0], [1871, 40169486, \"DEEPLETSEAANEMONE\", 1.0, 0.0], [1872, 40169486, \"NORTHERNSHRIMP\", 4.0, 0.0], [1873, 40169488, \"NOTHINGHERE\", NaN, NaN], [1874, 40169489, \"NOTHINGHERE\", NaN, NaN], [1875, 40169492, \"NOTHINGHERE\", NaN, NaN], [1876, 40169495, \"ROSYFEATHERSTAR\", 4.0, 0.0], [1877, 40169498, \"ROSYFEATHERSTAR\", 4.0, 0.5]]};\n",
       "        dt_args = eval_functions(dt_args);\n",
       "        table = $('#89fa6a8d-3d03-4184-81d2-348dcae9b343').DataTable(dt_args);\n",
       "    });\n",
       "})\n",
       "</script>\n",
       "</div>\n"
      ],
      "text/plain": [
       "      subject_ids              label  how_many  first_seen\n",
       "0        38166820        NOTHINGHERE       NaN         NaN\n",
       "1        38166821        NOTHINGHERE       NaN         NaN\n",
       "2        38166823  DEEPLETSEAANEMONE       2.0         1.5\n",
       "3        38166824        NOTHINGHERE       NaN         NaN\n",
       "4        38166825        NOTHINGHERE       NaN         NaN\n",
       "...           ...                ...       ...         ...\n",
       "1873     40169488        NOTHINGHERE       NaN         NaN\n",
       "1874     40169489        NOTHINGHERE       NaN         NaN\n",
       "1875     40169492        NOTHINGHERE       NaN         NaN\n",
       "1876     40169495    ROSYFEATHERSTAR       4.0         0.0\n",
       "1877     40169498    ROSYFEATHERSTAR       4.0         0.5\n",
       "\n",
       "[1878 rows x 4 columns]"
      ]
     },
     "execution_count": 15,
     "metadata": {},
     "output_type": "execute_result"
    }
   ],
   "source": [
    "# Display the dataframe into a table\n",
    "if subj_type.value == \"clip\":\n",
    "    a = agg_class_df[[\"subject_ids\",\"label\",\"how_many\",\"first_seen\"]]\n",
    "else:\n",
    "    a = agg_class_df\n",
    "a"
   ]
  },
  {
   "cell_type": "markdown",
   "id": "9e6a6804",
   "metadata": {},
   "source": [
    "### Step 5: Use the subject explorer widget to visualise subjects and their aggregated classifications"
   ]
  },
  {
   "cell_type": "code",
   "execution_count": 16,
   "id": "8c6ab27e",
   "metadata": {
    "scrolled": false
   },
   "outputs": [
    {
     "data": {
      "application/vnd.jupyter.widget-view+json": {
       "model_id": "530f563fe9be4c10897e3e5f374529ba",
       "version_major": 2,
       "version_minor": 0
      },
      "text/plain": [
       "Combobox(value='', description='Subject id:', ensure_option=True, options=('38166820', '38166821', '38166823',…"
      ]
     },
     "metadata": {},
     "output_type": "display_data"
    },
    {
     "data": {
      "application/vnd.jupyter.widget-view+json": {
       "model_id": "f03e041ebc6a484f859e20c7b352b46a",
       "version_major": 2,
       "version_minor": 0
      },
      "text/plain": [
       "Output()"
      ]
     },
     "metadata": {},
     "output_type": "display_data"
    }
   ],
   "source": [
    "# Launch the subject viewer\n",
    "t12.launch_viewer(agg_class_df, subj_type.value)"
   ]
  },
  {
   "cell_type": "markdown",
   "id": "d2ed92e0",
   "metadata": {},
   "source": [
    "### Step 6: Use the subject explorer widget to get more information about specific subjects and their \"raw\" classifications"
   ]
  },
  {
   "cell_type": "code",
   "execution_count": 17,
   "id": "df0ac59b",
   "metadata": {
    "scrolled": false
   },
   "outputs": [
    {
     "data": {
      "application/vnd.jupyter.widget-view+json": {
       "model_id": "d79b4a0f5ee64255a1204a671141e24c",
       "version_major": 2,
       "version_minor": 0
      },
      "text/plain": [
       "Combobox(value='', description='Subject id:', ensure_option=True, options=('38166866', '38166895', '38166843',…"
      ]
     },
     "metadata": {},
     "output_type": "display_data"
    },
    {
     "data": {
      "application/vnd.jupyter.widget-view+json": {
       "model_id": "a23067ffb900406d9f7a4d01f3dc0900",
       "version_major": 2,
       "version_minor": 0
      },
      "text/plain": [
       "Output()"
      ]
     },
     "metadata": {},
     "output_type": "display_data"
    }
   ],
   "source": [
    "# Launch the classifications_per_subject explorer\n",
    "t12.explore_classifications_per_subject(raw_class_df, subj_type.value)"
   ]
  },
  {
   "cell_type": "code",
   "execution_count": null,
   "id": "211ab0c3",
   "metadata": {},
   "outputs": [],
   "source": [
    "# END"
   ]
  }
 ],
 "metadata": {
  "kernelspec": {
   "display_name": "Python 3",
   "language": "python",
   "name": "python3"
  },
  "language_info": {
   "codemirror_mode": {
    "name": "ipython",
    "version": 3
   },
   "file_extension": ".py",
   "mimetype": "text/x-python",
   "name": "python",
   "nbconvert_exporter": "python",
   "pygments_lexer": "ipython3",
   "version": "3.8.8"
  }
 },
 "nbformat": 4,
 "nbformat_minor": 5
}
