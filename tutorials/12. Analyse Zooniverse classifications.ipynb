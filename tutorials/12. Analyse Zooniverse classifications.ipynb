{
 "cells": [
  {
   "cell_type": "markdown",
   "id": "a49ece9a",
   "metadata": {},
   "source": [
    "<img align=\"left\" src=\"https://panoptes-uploads.zooniverse.org/project_avatar/86c23ca7-bbaa-4e84-8d8a-876819551431.png\" type=\"image/png\" height=100 width=100>\n",
    "</img>\n",
    "\n",
    "\n",
    "<h1 align=\"right\">KSO Tutorials #12: Analyse Zooniverse classifications</h1>\n",
    "<h3 align=\"right\">Written by @jannesgg and @vykanton</h3>\n",
    "<h5 align=\"right\">Last updated: Aug 26th, 2021</h5>"
   ]
  },
  {
   "cell_type": "markdown",
   "id": "dafbcdb0",
   "metadata": {},
   "source": [
    "### Step 0: Import Python packages and initiate koster database"
   ]
  },
  {
   "cell_type": "code",
   "execution_count": null,
   "id": "c0c89208",
   "metadata": {},
   "outputs": [],
   "source": [
    "# Save your user name, password and Zooniverse project number.\n",
    "import getpass\n",
    "zoo_user = getpass.getpass('Enter your Zooniverse user')\n",
    "zoo_pass = getpass.getpass('Enter your Zooniverse password')\n",
    "project_n = getpass.getpass('Enter the number of the Zooniverse project')"
   ]
  },
  {
   "cell_type": "code",
   "execution_count": null,
   "id": "upset-utilization",
   "metadata": {},
   "outputs": [],
   "source": [
    "from imp import reload\n",
    "reload(t12)"
   ]
  },
  {
   "cell_type": "code",
   "execution_count": null,
   "id": "65d28bcf",
   "metadata": {},
   "outputs": [],
   "source": [
    "# Import required modules\n",
    "import sys\n",
    "sys.path.append('..')\n",
    "from itables import init_notebook_mode\n",
    "init_notebook_mode(all_interactive=True)\n",
    "import utils.t12_utils as t12\n",
    "\n",
    "# Initiate the SQL database \n",
    "%run -i \"../db_starter/starter.py\" --user $zoo_user --passw $zoo_pass --project_n $project_n"
   ]
  },
  {
   "cell_type": "markdown",
   "id": "d8cf3fb4",
   "metadata": {},
   "source": [
    "### Step 1: Specify the Zooniverse workflow id and version of interest\n",
    "\n",
    "*Note:  A manual export in Zooniverse is required to get the most up-to-date classifications here**"
   ]
  },
  {
   "cell_type": "code",
   "execution_count": null,
   "id": "7ed501f0",
   "metadata": {},
   "outputs": [],
   "source": [
    "# Display a selectable list of workflow ids with their names and a list of versions of the workflow of interest\n",
    "workflow_id, workflow_version, subj_type = t12.choose_workflows(zoo_user, zoo_pass, project_n)"
   ]
  },
  {
   "cell_type": "code",
   "execution_count": null,
   "id": "sunrise-resistance",
   "metadata": {},
   "outputs": [],
   "source": [
    "# Retrieve classifications from the workflow of interest\n",
    "total_df, class_df = t12.get_classifications(workflow_id.value,\n",
    "                                             workflow_version.value, subj_type.value, zoo_user, zoo_pass, project_n)"
   ]
  },
  {
   "cell_type": "markdown",
   "id": "3e8dfb6e",
   "metadata": {},
   "source": [
    "### Step 2: Aggregate classifications received on the workflow of interest"
   ]
  },
  {
   "cell_type": "code",
   "execution_count": null,
   "id": "42f4fbde",
   "metadata": {},
   "outputs": [],
   "source": [
    "# Specify the agreement threshold required among cit scientists\n",
    "agg_users, min_users = t12.choose_agg_parameters()"
   ]
  },
  {
   "cell_type": "code",
   "execution_count": null,
   "id": "surprised-fireplace",
   "metadata": {},
   "outputs": [],
   "source": [
    "agg_class_df = t12.aggregrate_classifications(class_df, subj_type.value, agg_users.value, min_users.value)"
   ]
  },
  {
   "cell_type": "markdown",
   "id": "bce503cd",
   "metadata": {},
   "source": [
    "### Step 3: Display the aggregated classifications in a table"
   ]
  },
  {
   "cell_type": "code",
   "execution_count": null,
   "id": "620f6371",
   "metadata": {},
   "outputs": [],
   "source": [
    "# Display the dataframe into a table\n",
    "agg_class_df"
   ]
  },
  {
   "cell_type": "markdown",
   "id": "0d120ad4",
   "metadata": {},
   "source": [
    "### Step 4: Summarise the number of classifications based on the agreement specified"
   ]
  },
  {
   "cell_type": "code",
   "execution_count": null,
   "id": "e9bb18ef",
   "metadata": {},
   "outputs": [],
   "source": [
    "# Get all classified subjects from specified workflows\n",
    "subject_df = t12.clips_summary(agg_class_df) if subj_type.value == \"clip\" else t12.frammes_summary(agg_class_df)"
   ]
  },
  {
   "cell_type": "markdown",
   "id": "9e6a6804",
   "metadata": {},
   "source": [
    "### Step 5: Use the subject explorer widget to get more information about specific subjects and their aggregated classifications"
   ]
  },
  {
   "cell_type": "code",
   "execution_count": null,
   "id": "8c6ab27e",
   "metadata": {},
   "outputs": [],
   "source": [
    "# Get all classified subjects from specified workflows\n",
    "subject_df = t12.process_clips(agg_class_df) if subj_type.value == \"clip\" else t13.process_frames(agg_class_df)\n",
    "\n",
    "t12.launch_viewer(agg_class_df, subject_df)"
   ]
  },
  {
   "cell_type": "code",
   "execution_count": null,
   "id": "211ab0c3",
   "metadata": {},
   "outputs": [],
   "source": [
    "# END"
   ]
  }
 ],
 "metadata": {
  "kernelspec": {
   "display_name": "Python 3",
   "language": "python",
   "name": "python3"
  },
  "language_info": {
   "codemirror_mode": {
    "name": "ipython",
    "version": 3
   },
   "file_extension": ".py",
   "mimetype": "text/x-python",
   "name": "python",
   "nbconvert_exporter": "python",
   "pygments_lexer": "ipython3",
   "version": "3.8.8"
  }
 },
 "nbformat": 4,
 "nbformat_minor": 5
}
