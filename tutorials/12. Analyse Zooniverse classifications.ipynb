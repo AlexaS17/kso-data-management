{
 "cells": [
  {
   "cell_type": "markdown",
   "id": "a49ece9a",
   "metadata": {},
   "source": [
    "<img align=\"left\" src=\"https://panoptes-uploads.zooniverse.org/project_avatar/86c23ca7-bbaa-4e84-8d8a-876819551431.png\" type=\"image/png\" height=100 width=100>\n",
    "</img>\n",
    "\n",
    "\n",
    "<h1 align=\"right\">KSO Tutorials #12: Analyse Zooniverse classifications</h1>\n",
    "<h3 align=\"right\">Written by @jannesgg and @vykanton</h3>\n",
    "<h5 align=\"right\">Last updated: March 9, 2022</h5>"
   ]
  },
  {
   "cell_type": "markdown",
   "id": "dafbcdb0",
   "metadata": {},
   "source": [
    "# Set up and requirements"
   ]
  },
  {
   "cell_type": "markdown",
   "id": "53179501",
   "metadata": {},
   "source": [
    "### Import Python packages"
   ]
  },
  {
   "cell_type": "code",
   "execution_count": 1,
   "id": "49aafde4",
   "metadata": {},
   "outputs": [],
   "source": [
    "%load_ext autoreload\n",
    "%autoreload 2"
   ]
  },
  {
   "cell_type": "code",
   "execution_count": 2,
   "id": "c0c89208",
   "metadata": {},
   "outputs": [
    {
     "data": {
      "application/javascript": [
       "require.config({\n",
       "    paths: {\n",
       "        datatables: 'https://cdn.datatables.net/1.10.19/js/jquery.dataTables.min',\n",
       "    }\n",
       "});\n",
       "\n",
       "$('head').append('<link rel=\"stylesheet\" type=\"text/css\" \\\n",
       "                href = \"https://cdn.datatables.net/1.10.19/css/jquery.dataTables.min.css\" > ');\n",
       "\n",
       "$('head').append('<style> table td { text-overflow: ellipsis; overflow: hidden; } </style>');\n",
       "\n",
       "$('head').append(`<script>\n",
       "function eval_functions(map_or_text) {\n",
       "    if (typeof map_or_text === \"string\") {\n",
       "        if (map_or_text.startsWith(\"function\")) {\n",
       "            try {\n",
       "                // Note: parenthesis are required around the whole expression for eval to return a value!\n",
       "                // See https://stackoverflow.com/a/7399078/911298.\n",
       "                //\n",
       "                // eval(\"local_fun = \" + map_or_text) would fail because local_fun is not declared\n",
       "                // (using var, let or const would work, but it would only be declared in the local scope\n",
       "                // and therefore the value could not be retrieved).\n",
       "                const func = eval(\"(\" + map_or_text + \")\");\n",
       "                if (typeof func !== \"function\") {\n",
       "                    // Note: backquotes are super convenient!\n",
       "                    // https://developer.mozilla.org/en-US/docs/Web/JavaScript/Reference/Template_literals\n",
       "                    console.error(\"Evaluated expression \" + map_or_text + \" is not a function (type is \" + typeof func + \")\");\n",
       "                    return map_or_text;\n",
       "                }\n",
       "                // Return the function\n",
       "                return func;\n",
       "            } catch (e) {\n",
       "                // Make sure to print the error with a second argument to console.error().\n",
       "                console.error(\"itables was not able to parse \" + map_or_text, e);\n",
       "            }\n",
       "        }\n",
       "    } else if (typeof map_or_text === \"object\") {\n",
       "        if (map_or_text instanceof Array) {\n",
       "            // Note: \"var\" is now superseded by \"let\" and \"const\".\n",
       "            // https://medium.com/javascript-scene/javascript-es6-var-let-or-const-ba58b8dcde75\n",
       "            const result = [];\n",
       "            // Note: \"for of\" is the best way to iterate through an iterable.\n",
       "            // https://developer.mozilla.org/en-US/docs/Web/JavaScript/Reference/Statements/for...of\n",
       "            for (const item of map_or_text) {\n",
       "                result.push(eval_functions(item));\n",
       "            }\n",
       "            return result;\n",
       "\n",
       "            // Alternatively, more functional approach in one line:\n",
       "            // return map_or_text.map(eval_functions);\n",
       "        } else {\n",
       "            const result = {};\n",
       "            // Object.keys() is safer than \"for in\" because otherwise you might have keys\n",
       "            // that aren't defined in the object itself.\n",
       "            //\n",
       "            // See https://stackoverflow.com/a/684692/911298.\n",
       "            for (const item of Object.keys(map_or_text)) {\n",
       "                result[item] = eval_functions(map_or_text[item]);\n",
       "            }\n",
       "            return result;\n",
       "        }\n",
       "    }\n",
       "\n",
       "    return map_or_text;\n",
       "}\n",
       "\n",
       "</` + 'script>');"
      ],
      "text/plain": [
       "<IPython.core.display.Javascript object>"
      ]
     },
     "metadata": {},
     "output_type": "display_data"
    },
    {
     "name": "stdout",
     "output_type": "stream",
     "text": [
      "Packages loaded successfully\n"
     ]
    }
   ],
   "source": [
    "# Set the directory of the libraries\n",
    "import sys\n",
    "sys.path.append('..')\n",
    "\n",
    "# Set to display dataframes as interactive tables\n",
    "from itables import init_notebook_mode\n",
    "init_notebook_mode(all_interactive=True)\n",
    "\n",
    "# Import required modules\n",
    "import kso_utils.tutorials_utils as t_utils\n",
    "import kso_utils.project_utils as p_utils\n",
    "import kso_utils.t12_utils as t12\n",
    "\n",
    "print(\"Packages loaded successfully\")"
   ]
  },
  {
   "cell_type": "markdown",
   "id": "117139c9",
   "metadata": {},
   "source": [
    "### Choose your project"
   ]
  },
  {
   "cell_type": "code",
   "execution_count": 3,
   "id": "a29b26cc",
   "metadata": {},
   "outputs": [
    {
     "data": {
      "application/vnd.jupyter.widget-view+json": {
       "model_id": "ef9a384796364dc3bd1fba967cdc983d",
       "version_major": 2,
       "version_minor": 0
      },
      "text/plain": [
       "Dropdown(description='Project:', options=('Koster_Seafloor_Obs', 'Spyfish_Aotearoa', 'SGU'), value='Koster_Sea…"
      ]
     },
     "metadata": {},
     "output_type": "display_data"
    }
   ],
   "source": [
    "project_name = t_utils.choose_project()"
   ]
  },
  {
   "cell_type": "code",
   "execution_count": 4,
   "id": "ee965651",
   "metadata": {},
   "outputs": [],
   "source": [
    "project = p_utils.find_project(project_name=project_name.value)"
   ]
  },
  {
   "cell_type": "markdown",
   "id": "a3fa7a36",
   "metadata": {},
   "source": [
    "### Set up initial information"
   ]
  },
  {
   "cell_type": "code",
   "execution_count": 5,
   "id": "eaa328da",
   "metadata": {},
   "outputs": [
    {
     "name": "stdout",
     "output_type": "stream",
     "text": [
      "Enter your username for SNIC server········\n",
      "Enter your password for SNIC server········\n",
      "Updated sites\n",
      "Updated movies\n",
      "Updated species\n",
      "Enter your Zooniverse user········\n",
      "Enter your Zooniverse password········\n",
      "Retrieving subjects from Zooniverse\n",
      "subjects were retrieved successfully\n",
      "Retrieving workflows from Zooniverse\n",
      "workflows were retrieved successfully\n",
      "Retrieving classifications from Zooniverse\n",
      "classifications were retrieved successfully\n",
      "Updated subjects\n",
      "The database has a total of 4295 frame subjects and 7362 clip subjects have been updated\n"
     ]
    }
   ],
   "source": [
    "db_info_dict, zoo_project, zoo_info_dict = t12.setup_initial_info(project)"
   ]
  },
  {
   "cell_type": "markdown",
   "id": "d8cf3fb4",
   "metadata": {},
   "source": [
    "### Step 1: Specify the Zooniverse workflow id and version of interest\n",
    "\n",
    "*Note:  A manual export in Zooniverse is required to get the most up-to-date classifications here**\n",
    "\n",
    "Make sure your workflows in Zooniverse have different names to avoid issues while selecting the workflow id"
   ]
  },
  {
   "cell_type": "code",
   "execution_count": 6,
   "id": "inclusive-depression",
   "metadata": {},
   "outputs": [
    {
     "data": {
      "application/vnd.jupyter.widget-view+json": {
       "model_id": "a5ddb2d05592426496d76c2837962ddb",
       "version_major": 2,
       "version_minor": 0
      },
      "text/plain": [
       "WidgetMaker(children=(IntText(value=0, description='Number of workflows:', style=DescriptionStyle(description_…"
      ]
     },
     "metadata": {},
     "output_type": "display_data"
    },
    {
     "data": {
      "application/vnd.jupyter.widget-view+json": {
       "model_id": "2cf36b0ebbba4fa683a4bee17732ffa9",
       "version_major": 2,
       "version_minor": 0
      },
      "text/plain": [
       "Output()"
      ]
     },
     "metadata": {},
     "output_type": "display_data"
    }
   ],
   "source": [
    "# Display a selectable list of workflow names and a list of versions of the workflow of interest\n",
    "workflows_df = zoo_info_dict[\"workflows\"]\n",
    "wm = t12.WidgetMaker(workflows_df)\n",
    "wm"
   ]
  },
  {
   "cell_type": "code",
   "execution_count": 67,
   "id": "foster-motion",
   "metadata": {},
   "outputs": [
    {
     "name": "stdout",
     "output_type": "stream",
     "text": [
      "       subject_ids        id  \\\n",
      "0         39431409      <NA>   \n",
      "1         39431413      <NA>   \n",
      "2         39431414      <NA>   \n",
      "3         39431419      <NA>   \n",
      "4         39431420      <NA>   \n",
      "...            ...       ...   \n",
      "15017     59838026  59838026   \n",
      "15018     59837930  59837930   \n",
      "15019     59837993  59837993   \n",
      "15020     59837936  59837936   \n",
      "15021     59837989  59837989   \n",
      "\n",
      "                                          https_location  \n",
      "0                                                    NaN  \n",
      "1                                                    NaN  \n",
      "2                                                    NaN  \n",
      "3                                                    NaN  \n",
      "4                                                    NaN  \n",
      "...                                                  ...  \n",
      "15017  https://panoptes-uploads.zooniverse.org/subjec...  \n",
      "15018  https://panoptes-uploads.zooniverse.org/subjec...  \n",
      "15019  https://panoptes-uploads.zooniverse.org/subjec...  \n",
      "15020  https://panoptes-uploads.zooniverse.org/subjec...  \n",
      "15021  https://panoptes-uploads.zooniverse.org/subjec...  \n",
      "\n",
      "[12187 rows x 3 columns]\n",
      "There are 1764 classifications out of 15022 missing subject info. Maybe the subjects have been removed from Zooniverse?\n",
      "Zooniverse classifications have been retrieved\n"
     ]
    }
   ],
   "source": [
    "# Retrieve classifications from the workflow of interest\n",
    "class_df = t12.get_classifications(wm.checks,\n",
    "                                   workflows_df,\n",
    "                                   wm.checks['Subject type: #0'], \n",
    "                                   zoo_info_dict[\"classifications\"], \n",
    "                                   db_info_dict[\"db_path\"],\n",
    "                                   project)"
   ]
  },
  {
   "cell_type": "markdown",
   "id": "3e8dfb6e",
   "metadata": {},
   "source": [
    "### Step 2: Aggregate classifications received on the workflow of interest"
   ]
  },
  {
   "cell_type": "code",
   "execution_count": 8,
   "id": "42f4fbde",
   "metadata": {},
   "outputs": [
    {
     "data": {
      "application/vnd.jupyter.widget-view+json": {
       "model_id": "c1362cbbfd204bafafb0b1ca6f03898f",
       "version_major": 2,
       "version_minor": 0
      },
      "text/plain": [
       "FloatSlider(value=0.8, continuous_update=False, description='Aggregation threshold:', max=1.0, readout_format=…"
      ]
     },
     "metadata": {},
     "output_type": "display_data"
    },
    {
     "data": {
      "application/vnd.jupyter.widget-view+json": {
       "model_id": "ce7d44ed3fbb4292a081b4cac91aafc1",
       "version_major": 2,
       "version_minor": 0
      },
      "text/plain": [
       "IntSlider(value=3, continuous_update=False, description='Min numbers of users:', max=15, min=1, style=SliderSt…"
      ]
     },
     "metadata": {},
     "output_type": "display_data"
    },
    {
     "data": {
      "application/vnd.jupyter.widget-view+json": {
       "model_id": "ad2107eb1ad24e3e809722d479054e33",
       "version_major": 2,
       "version_minor": 0
      },
      "text/plain": [
       "FloatSlider(value=0.8, continuous_update=False, description='Object threshold:', max=1.0, readout_format='.1f'…"
      ]
     },
     "metadata": {},
     "output_type": "display_data"
    },
    {
     "data": {
      "application/vnd.jupyter.widget-view+json": {
       "model_id": "a2bf09276ada45a7b0c941ac7998baac",
       "version_major": 2,
       "version_minor": 0
      },
      "text/plain": [
       "FloatSlider(value=0.5, continuous_update=False, description='IOU Epsilon:', max=1.0, readout_format='.1f', sty…"
      ]
     },
     "metadata": {},
     "output_type": "display_data"
    },
    {
     "data": {
      "application/vnd.jupyter.widget-view+json": {
       "model_id": "9bdcd7b2868e420488c99b38b9320344",
       "version_major": 2,
       "version_minor": 0
      },
      "text/plain": [
       "FloatSlider(value=0.8, continuous_update=False, description='Inter user agreement:', max=1.0, readout_format='…"
      ]
     },
     "metadata": {},
     "output_type": "display_data"
    }
   ],
   "source": [
    "# Specify the agreement threshold required among cit scientists\n",
    "agg_params = t12.choose_agg_parameters(wm.checks['Subject type: #0'])"
   ]
  },
  {
   "cell_type": "code",
   "execution_count": 60,
   "id": "fa4b01bd",
   "metadata": {},
   "outputs": [
    {
     "name": "stdout",
     "output_type": "stream",
     "text": [
      "Aggregrating the classifications\n",
      "496 classifications aggregated out of 2027 unique subjects available\n"
     ]
    }
   ],
   "source": [
    "agg_class_df, raw_class_df = t12.aggregrate_classifications(class_df, \n",
    "                                                            wm.checks['Subject type: #0'], \n",
    "                                                            project, \n",
    "                                                            agg_params)"
   ]
  },
  {
   "cell_type": "markdown",
   "id": "0d120ad4",
   "metadata": {},
   "source": [
    "### Step 3: Summarise the number of classifications based on the agreement specified"
   ]
  },
  {
   "cell_type": "code",
   "execution_count": 61,
   "id": "greek-location",
   "metadata": {},
   "outputs": [
    {
     "data": {
      "text/html": [
       "<div><table id=\"25e1b824-c00f-4f5e-9122-b2d2c250eb8b\" class=\"display\"><thead>\n",
       "    <tr style=\"text-align: right;\">\n",
       "      <th></th>\n",
       "      <th>subject_ids</th>\n",
       "    </tr>\n",
       "    <tr>\n",
       "      <th>label</th>\n",
       "      <th></th>\n",
       "    </tr>\n",
       "  </thead></table>\n",
       "<script type=\"text/javascript\">\n",
       "require([\"datatables\"], function (datatables) {\n",
       "    $(document).ready(function () {\n",
       "        var dt_args = {\"columnDefs\": [{\"width\": \"70px\", \"targets\": \"_all\"}], \"paging\": false, \"data\": [[\"Deep water coral\", 241], [\"empty\", 255]]};\n",
       "        dt_args = eval_functions(dt_args);\n",
       "        table = $('#25e1b824-c00f-4f5e-9122-b2d2c250eb8b').DataTable(dt_args);\n",
       "    });\n",
       "})\n",
       "</script>\n",
       "</div>\n"
      ],
      "text/plain": [
       "label\n",
       "Deep water coral    241\n",
       "empty               255\n",
       "Name: subject_ids, dtype: int64"
      ]
     },
     "execution_count": 61,
     "metadata": {},
     "output_type": "execute_result"
    }
   ],
   "source": [
    "agg_class_df.groupby(\"label\")[\"subject_ids\"].agg(\"count\")"
   ]
  },
  {
   "cell_type": "markdown",
   "id": "763f1f91",
   "metadata": {},
   "source": [
    "### Step 4: Display the aggregated classifications in a table"
   ]
  },
  {
   "cell_type": "code",
   "execution_count": 62,
   "id": "0d27eed6",
   "metadata": {},
   "outputs": [
    {
     "data": {
      "text/html": [
       "<div><table id=\"59a00831-b8e8-4943-b5ab-9409c5f02738\" class=\"display\"><thead>\n",
       "    <tr style=\"text-align: right;\">\n",
       "      <th></th>\n",
       "      <th>subject_ids</th>\n",
       "      <th>label</th>\n",
       "      <th>x</th>\n",
       "      <th>y</th>\n",
       "      <th>w</th>\n",
       "      <th>h</th>\n",
       "      <th>https_location</th>\n",
       "      <th>subject_type</th>\n",
       "      <th>filename</th>\n",
       "    </tr>\n",
       "  </thead></table>\n",
       "<script type=\"text/javascript\">\n",
       "require([\"datatables\"], function (datatables) {\n",
       "    $(document).ready(function () {\n",
       "        var dt_args = {\"columnDefs\": [{\"width\": \"70px\", \"targets\": \"_all\"}], \"data\": [[0, 45881633, \"Deep water coral\", 642.5, 334.0, 107.5, 133.5, \"https://panoptes-uploads.zooniverse.org/subject_location/53f84bca-e394-4139-85db-fa8066211758.jpeg\", \"frame\", \"./frames/000114 TMBL-ROV 2000 S\\u00e4ckenrevet EJ numrerade band_frame_14275_8.jpg\"], [1, 45881634, \"Deep water coral\", 270.0, 246.0, 169.0, 176.0, \"https://panoptes-uploads.zooniverse.org/subject_location/bbffedc2-453e-4e02-a2e0-f8e1fdb678b8.jpeg\", \"frame\", \"./frames/000114 TMBL-ROV 2000 S\\u00e4ckenrevet EJ numrerade band_frame_17250_8.jpg\"], [2, 45881636, \"Deep water coral\", 145.0, 93.0, 460.0, 425.0, \"https://panoptes-uploads.zooniverse.org/subject_location/afabcf43-21b5-47fa-a66c-022fde82eb00.jpeg\", \"frame\", \"./frames/000114 TMBL-ROV 2000 S\\u00e4ckenrevet EJ numrerade band_frame_27750_8.jpg\"], [3, 45881637, \"Deep water coral\", 138.0, 18.5, 476.0, 486.5, \"https://panoptes-uploads.zooniverse.org/subject_location/34e4103b-066c-46e0-9624-b741fba0d980.jpeg\", \"frame\", \"./frames/000114 TMBL-ROV 2000 S\\u00e4ckenrevet EJ numrerade band_frame_27775_8.jpg\"], [4, 45881638, \"Deep water coral\", 298.0, 2.0, 449.0, 516.0, \"https://panoptes-uploads.zooniverse.org/subject_location/98bb51cc-9504-4de6-a12e-4061fbceb6f2.jpeg\", \"frame\", \"./frames/000114 TMBL-ROV 2000 S\\u00e4ckenrevet EJ numrerade band_frame_35250_8.jpg\"], [5, 45881639, \"Deep water coral\", 303.0, 5.0, 437.0, 561.0, \"https://panoptes-uploads.zooniverse.org/subject_location/d143b55d-e444-4ddd-8f2d-9a58697d4332.jpeg\", \"frame\", \"./frames/000114 TMBL-ROV 2000 S\\u00e4ckenrevet EJ numrerade band_frame_35275_8.jpg\"], [6, 45881626, \"Deep water coral\", 121.0, 92.0, 472.0, 463.0, \"https://panoptes-uploads.zooniverse.org/subject_location/544c0887-57e2-4d72-9f66-1e421a85e25d.jpeg\", \"frame\", \"./frames/000114 TMBL-ROV 2000 S\\u00e4ckenrevet EJ numrerade band_frame_4500_8.jpg\"], [7, 45881627, \"Deep water coral\", 82.0, 36.0, 523.0, 444.0, \"https://panoptes-uploads.zooniverse.org/subject_location/4fadf6ff-162b-4ced-8cfa-fbec637e2617.jpeg\", \"frame\", \"./frames/000114 TMBL-ROV 2000 S\\u00e4ckenrevet EJ numrerade band_frame_4525_8.jpg\"], [8, 45881644, \"Deep water coral\", 249.5, 66.0, 430.5, 373.0, \"https://panoptes-uploads.zooniverse.org/subject_location/b539429e-4c42-432a-8748-19ef45407e02.jpeg\", \"frame\", \"./frames/000114 TMBL-ROV 2000 S\\u00e4ckenrevet EJ numrerade band_frame_46500_8.jpg\"], [9, 45881645, \"Deep water coral\", 333.0, 81.0, 359.0, 359.0, \"https://panoptes-uploads.zooniverse.org/subject_location/e380e3ca-b254-4338-9254-200a5f1c154e.jpeg\", \"frame\", \"./frames/000114 TMBL-ROV 2000 S\\u00e4ckenrevet EJ numrerade band_frame_46525_8.jpg\"], [10, 45881646, \"Deep water coral\", 27.5, 22.5, 563.5, 535.0, \"https://panoptes-uploads.zooniverse.org/subject_location/ca34c7e7-c4aa-4e87-bd48-3c3b6857810f.jpeg\", \"frame\", \"./frames/000114 TMBL-ROV 2000 S\\u00e4ckenrevet EJ numrerade band_frame_49500_8.jpg\"], [11, 45881647, \"Deep water coral\", 39.0, 43.0, 523.0, 526.0, \"https://panoptes-uploads.zooniverse.org/subject_location/8c2157f2-45d0-4933-9f0d-520c1dcca88e.jpeg\", \"frame\", \"./frames/000114 TMBL-ROV 2000 S\\u00e4ckenrevet EJ numrerade band_frame_49525_8.jpg\"], [12, 45881651, \"Deep water coral\", 90.0, 181.0, 406.0, 354.0, \"https://panoptes-uploads.zooniverse.org/subject_location/c2cab001-fff4-4ec1-8961-a0b9e683c4d8.jpeg\", \"frame\", \"./frames/000114 TMBL-ROV 2000 S\\u00e4ckenrevet EJ numrerade band_frame_51025_8.jpg\"], [13, 45881628, \"Deep water coral\", 10.5, 2.0, 694.0, 565.5, \"https://panoptes-uploads.zooniverse.org/subject_location/fd247b1c-1c9f-401d-aeb7-0e38e1de20a9.jpeg\", \"frame\", \"./frames/000114 TMBL-ROV 2000 S\\u00e4ckenrevet EJ numrerade band_frame_5250_8.jpg\"], [14, 45881654, \"Deep water coral\", 174.0, 7.0, 530.0, 540.0, \"https://panoptes-uploads.zooniverse.org/subject_location/0739b4db-875f-47e1-87bd-93a7975669f3.jpeg\", \"frame\", \"./frames/000114 TMBL-ROV 2000 S\\u00e4ckenrevet EJ numrerade band_frame_57750_8.jpg\"], [15, 45881655, \"Deep water coral\", 173.0, 6.0, 542.0, 530.0, \"https://panoptes-uploads.zooniverse.org/subject_location/f20a3582-d1b3-4204-a145-64819d808116.jpeg\", \"frame\", \"./frames/000114 TMBL-ROV 2000 S\\u00e4ckenrevet EJ numrerade band_frame_57775_8.jpg\"], [16, 45881656, \"Deep water coral\", 156.0, 2.0, 523.0, 564.0, \"https://panoptes-uploads.zooniverse.org/subject_location/c03dbbcf-a883-4de0-8947-9736296576f6.jpeg\", \"frame\", \"./frames/000114 TMBL-ROV 2000 S\\u00e4ckenrevet Tape 55_frame_11250_8.jpg\"], [17, 45881657, \"Deep water coral\", 169.5, 6.5, 506.5, 521.0, \"https://panoptes-uploads.zooniverse.org/subject_location/f6108d95-396c-434d-ba9d-3e3f71c90eca.jpeg\", \"frame\", \"./frames/000114 TMBL-ROV 2000 S\\u00e4ckenrevet Tape 55_frame_11275_8.jpg\"], [18, 45881658, \"Deep water coral\", 54.0, 1.0, 587.0, 569.0, \"https://panoptes-uploads.zooniverse.org/subject_location/9f238d0a-c9c6-42c6-87cc-4e831eb316bd.jpeg\", \"frame\", \"./frames/000114 TMBL-ROV 2000 S\\u00e4ckenrevet Tape 55_frame_12750_8.jpg\"], [19, 45881676, \"Deep water coral\", 563.5, 413.0, 133.5, 140.0, \"https://panoptes-uploads.zooniverse.org/subject_location/16eb682c-34fe-45d9-b20a-3c12720c1717.jpeg\", \"frame\", \"./frames/000114 TMBL-ROV 2000 S\\u00e4ckenrevet Tape 55_frame_131250_8.jpg\"], [20, 45881677, \"Deep water coral\", 567.0, 416.0, 127.0, 149.0, \"https://panoptes-uploads.zooniverse.org/subject_location/ec9c3a74-42fc-4c7d-ac85-1211d956b71e.jpeg\", \"frame\", \"./frames/000114 TMBL-ROV 2000 S\\u00e4ckenrevet Tape 55_frame_131275_8.jpg\"], [21, 45881678, \"Deep water coral\", 565.0, 417.5, 142.5, 142.0, \"https://panoptes-uploads.zooniverse.org/subject_location/95e16588-c109-4ab9-a054-3a248abc5ae7.jpeg\", \"frame\", \"./frames/000114 TMBL-ROV 2000 S\\u00e4ckenrevet Tape 55_frame_132000_8.jpg\"], [22, 45881679, \"Deep water coral\", 568.0, 422.0, 124.5, 130.5, \"https://panoptes-uploads.zooniverse.org/subject_location/4ae9c4f5-d658-4694-9a1e-7a0b670cfcc1.jpeg\", \"frame\", \"./frames/000114 TMBL-ROV 2000 S\\u00e4ckenrevet Tape 55_frame_132025_8.jpg\"], [23, 45881683, \"Deep water coral\", 605.5, 410.5, 120.5, 153.5, \"https://panoptes-uploads.zooniverse.org/subject_location/9ad55ec1-0948-4421-9af4-2aee0e79b859.jpeg\", \"frame\", \"./frames/000114 TMBL-ROV 2000 S\\u00e4ckenrevet Tape 55_frame_133525_8.jpg\"], [24, 45881660, \"Deep water coral\", 507.0, 3.0, 200.5, 327.0, \"https://panoptes-uploads.zooniverse.org/subject_location/66b311bc-cef5-4784-9b44-0f8f2a1d1224.jpeg\", \"frame\", \"./frames/000114 TMBL-ROV 2000 S\\u00e4ckenrevet Tape 55_frame_13500_8.jpg\"], [25, 45881661, \"Deep water coral\", 163.5, 86.5, 330.0, 311.5, \"https://panoptes-uploads.zooniverse.org/subject_location/b0f2f5f4-6dc3-481d-8547-2b1bd58a9326.jpeg\", \"frame\", \"./frames/000114 TMBL-ROV 2000 S\\u00e4ckenrevet Tape 55_frame_13525_8.jpg\"], [26, 45881662, \"Deep water coral\", 450.0, 325.0, 186.0, 247.0, \"https://panoptes-uploads.zooniverse.org/subject_location/23befd7f-db94-4975-bcb6-6d3e00038ce0.jpeg\", \"frame\", \"./frames/000114 TMBL-ROV 2000 S\\u00e4ckenrevet Tape 55_frame_16500_8.jpg\"], [27, 45881663, \"Deep water coral\", 453.0, 311.0, 184.0, 255.0, \"https://panoptes-uploads.zooniverse.org/subject_location/dd3b19cf-06e0-4738-8c87-d6107b3c7c94.jpeg\", \"frame\", \"./frames/000114 TMBL-ROV 2000 S\\u00e4ckenrevet Tape 55_frame_16525_8.jpg\"], [28, 45881690, \"Deep water coral\", 52.0, 69.5, 578.5, 445.5, \"https://panoptes-uploads.zooniverse.org/subject_location/52cb591c-430d-45dc-bbaf-fd298ba33926.jpeg\", \"frame\", \"./frames/000114 TMBL-ROV 2000 S\\u00e4ckenrevet Tape 55_frame_173250_8.jpg\"], [29, 45881691, \"Deep water coral\", 64.0, 79.0, 556.0, 411.0, \"https://panoptes-uploads.zooniverse.org/subject_location/e919b58a-1bbb-47db-947d-f74a75649d13.jpeg\", \"frame\", \"./frames/000114 TMBL-ROV 2000 S\\u00e4ckenrevet Tape 55_frame_173275_8.jpg\"], [30, 45881664, \"Deep water coral\", 554.5, 237.5, 180.0, 317.0, \"https://panoptes-uploads.zooniverse.org/subject_location/b7e5f775-4c99-4886-a327-8cdb7fa18ed6.jpeg\", \"frame\", \"./frames/000114 TMBL-ROV 2000 S\\u00e4ckenrevet Tape 55_frame_17350_8.jpg\"], [31, 45881665, \"Deep water coral\", 439.0, 266.0, 213.0, 249.0, \"https://panoptes-uploads.zooniverse.org/subject_location/40665e51-cf99-4aac-8922-3b5159e55865.jpeg\", \"frame\", \"./frames/000114 TMBL-ROV 2000 S\\u00e4ckenrevet Tape 55_frame_17375_8.jpg\"], [32, 45881696, \"Deep water coral\", 392.0, 175.0, 145.0, 227.0, \"https://panoptes-uploads.zooniverse.org/subject_location/fb5bc0b5-4a6c-4ee2-bce4-28bc5874366c.jpeg\", \"frame\", \"./frames/000114 TMBL-ROV 2000 S\\u00e4ckenrevet Tape 55_frame_180000_8.jpg\"], [33, 45881697, \"Deep water coral\", 407.0, 169.0, 175.0, 252.0, \"https://panoptes-uploads.zooniverse.org/subject_location/399e7e69-4802-4ce5-883e-5651cc791111.jpeg\", \"frame\", \"./frames/000114 TMBL-ROV 2000 S\\u00e4ckenrevet Tape 55_frame_180025_8.jpg\"], [34, 45881698, \"Deep water coral\", 257.0, 129.0, 262.0, 325.0, \"https://panoptes-uploads.zooniverse.org/subject_location/ff3e4268-4113-4de8-bacb-e23a1244936a.jpeg\", \"frame\", \"./frames/000114 TMBL-ROV 2000 S\\u00e4ckenrevet Tape 55_frame_183750_8.jpg\"], [35, 45881699, \"Deep water coral\", 253.0, 139.0, 268.0, 330.0, \"https://panoptes-uploads.zooniverse.org/subject_location/706a695a-ddd2-45ce-aa88-08ad3f1f5d71.jpeg\", \"frame\", \"./frames/000114 TMBL-ROV 2000 S\\u00e4ckenrevet Tape 55_frame_183775_8.jpg\"], [36, 45881700, \"Deep water coral\", 324.0, 40.0, 276.0, 347.0, \"https://panoptes-uploads.zooniverse.org/subject_location/89227c10-b2b9-4e1a-8d9b-da0dd9d5f8ab.jpeg\", \"frame\", \"./frames/000114 TMBL-ROV 2000 S\\u00e4ckenrevet Tape 55_frame_188250_8.jpg\"], [37, 45881701, \"Deep water coral\", 325.0, 40.0, 293.0, 364.0, \"https://panoptes-uploads.zooniverse.org/subject_location/f4f24892-07ab-499f-8247-7072fc52dc51.jpeg\", \"frame\", \"./frames/000114 TMBL-ROV 2000 S\\u00e4ckenrevet Tape 55_frame_188275_8.jpg\"], [38, 45881702, \"Deep water coral\", 337.0, 54.0, 259.0, 340.0, \"https://panoptes-uploads.zooniverse.org/subject_location/cf3d4f94-3f8b-428c-b0d1-82c0d75708a1.jpeg\", \"frame\", \"./frames/000114 TMBL-ROV 2000 S\\u00e4ckenrevet Tape 55_frame_189000_8.jpg\"], [39, 45881703, \"Deep water coral\", 330.0, 43.0, 264.0, 346.0, \"https://panoptes-uploads.zooniverse.org/subject_location/e26d021f-7e2b-4f1c-ab91-94cf12038451.jpeg\", \"frame\", \"./frames/000114 TMBL-ROV 2000 S\\u00e4ckenrevet Tape 55_frame_189025_8.jpg\"], [40, 45881704, \"Deep water coral\", 239.0, 3.0, 407.0, 537.0, \"https://panoptes-uploads.zooniverse.org/subject_location/a1813510-3e11-4157-98e0-46e3ed4af177.jpeg\", \"frame\", \"./frames/000114 TMBL-ROV 2000 S\\u00e4ckenrevet Tape 55_frame_190500_8.jpg\"], [41, 45881705, \"Deep water coral\", 193.5, -1.0, 448.5, 541.5, \"https://panoptes-uploads.zooniverse.org/subject_location/43ed4844-b4af-4686-91cd-038b49627bcc.jpeg\", \"frame\", \"./frames/000114 TMBL-ROV 2000 S\\u00e4ckenrevet Tape 55_frame_190525_8.jpg\"], [42, 45881706, \"Deep water coral\", 11.0, 6.0, 708.0, 571.0, \"https://panoptes-uploads.zooniverse.org/subject_location/697c46dc-4dc9-4fde-ba82-2dca16eb2145.jpeg\", \"frame\", \"./frames/000114 TMBL-ROV 2000 S\\u00e4ckenrevet Tape 55_frame_195000_8.jpg\"], [43, 45881707, \"Deep water coral\", 65.0, 7.0, 641.5, 564.5, \"https://panoptes-uploads.zooniverse.org/subject_location/cb030c94-5f49-4611-af6b-4c1f1abf6505.jpeg\", \"frame\", \"./frames/000114 TMBL-ROV 2000 S\\u00e4ckenrevet Tape 55_frame_195025_8.jpg\"], [44, 45881708, \"Deep water coral\", 279.5, 55.5, 321.5, 262.0, \"https://panoptes-uploads.zooniverse.org/subject_location/2e506a9e-b44d-44d8-9348-ca11b0657940.jpeg\", \"frame\", \"./frames/000114 TMBL-ROV 2000 S\\u00e4ckenrevet Tape 55_frame_208500_8.jpg\"], [45, 45881709, \"Deep water coral\", 80.0, 389.0, 99.5, 107.0, \"https://panoptes-uploads.zooniverse.org/subject_location/984d93a3-64a5-4e84-9046-5a2fae4f87d3.jpeg\", \"frame\", \"./frames/000114 TMBL-ROV 2000 S\\u00e4ckenrevet Tape 55_frame_208525_8.jpg\"], [46, 45881710, \"Deep water coral\", 271.0, 57.0, 411.0, 389.5, \"https://panoptes-uploads.zooniverse.org/subject_location/fde62605-966f-4ba8-8bd3-1945e801fec1.jpeg\", \"frame\", \"./frames/000114 TMBL-ROV 2000 S\\u00e4ckenrevet Tape 55_frame_209250_8.jpg\"], [47, 45881711, \"Deep water coral\", 315.0, 77.0, 365.0, 360.0, \"https://panoptes-uploads.zooniverse.org/subject_location/3cc4cc94-e4fb-4abe-9044-d1186167c14d.jpeg\", \"frame\", \"./frames/000114 TMBL-ROV 2000 S\\u00e4ckenrevet Tape 55_frame_209275_8.jpg\"], [48, 45881713, \"Deep water coral\", 121.5, 221.0, 305.5, 318.0, \"https://panoptes-uploads.zooniverse.org/subject_location/06791184-c61f-4cd4-a8c4-959519c859fc.jpeg\", \"frame\", \"./frames/000114 TMBL-ROV 2000 S\\u00e4ckenrevet Tape 55_frame_213775_8.jpg\"], [49, 45881715, \"Deep water coral\", 581.5, -6.5, 131.5, 260.5, \"https://panoptes-uploads.zooniverse.org/subject_location/dc6394c0-2f4e-4064-b834-ce4f31b0a037.jpeg\", \"frame\", \"./frames/000114 TMBL-ROV 2000 S\\u00e4ckenrevet Tape 55_frame_222025_8.jpg\"], [50, 45881716, \"Deep water coral\", 288.0, 97.0, 268.0, 376.0, \"https://panoptes-uploads.zooniverse.org/subject_location/1d771fa9-c750-457f-a15d-ebba494b56e9.jpeg\", \"frame\", \"./frames/000114 TMBL-ROV 2000 S\\u00e4ckenrevet Tape 55_frame_224250_8.jpg\"], [51, 45881717, \"Deep water coral\", 282.5, 91.5, 274.5, 371.0, \"https://panoptes-uploads.zooniverse.org/subject_location/5773f7cb-9208-4a5b-ac48-cb299e7dcc98.jpeg\", \"frame\", \"./frames/000114 TMBL-ROV 2000 S\\u00e4ckenrevet Tape 55_frame_224275_8.jpg\"], [52, 45881668, \"Deep water coral\", 203.5, 114.0, 119.5, 92.0, \"https://panoptes-uploads.zooniverse.org/subject_location/4f7d474c-111f-42cf-8e61-f88f24f7d884.jpeg\", \"frame\", \"./frames/000114 TMBL-ROV 2000 S\\u00e4ckenrevet Tape 55_frame_56275_8.jpg\"], [53, 45881670, \"Deep water coral\", 382.5, 332.5, 99.5, 120.0, \"https://panoptes-uploads.zooniverse.org/subject_location/89caaf3c-ce70-4623-a944-81a88d4ce65e.jpeg\", \"frame\", \"./frames/000114 TMBL-ROV 2000 S\\u00e4ckenrevet Tape 55_frame_72125_8.jpg\"], [54, 45881672, \"Deep water coral\", 299.0, 210.0, 181.0, 176.0, \"https://panoptes-uploads.zooniverse.org/subject_location/77650984-ae7b-4b58-9553-f1de86009003.jpeg\", \"frame\", \"./frames/000114 TMBL-ROV 2000 S\\u00e4ckenrevet Tape 55_frame_73512_8.jpg\"], [55, 45881673, \"Deep water coral\", 305.0, 238.0, 192.0, 161.0, \"https://panoptes-uploads.zooniverse.org/subject_location/fbf01c5a-6c3d-47dc-b296-9db1e36efe5b.jpeg\", \"frame\", \"./frames/000114 TMBL-ROV 2000 S\\u00e4ckenrevet Tape 55_frame_73537_8.jpg\"], [56, 45881722, \"Deep water coral\", 213.0, 301.0, 318.0, 270.0, \"https://panoptes-uploads.zooniverse.org/subject_location/8d3eff12-3e32-4201-9962-ccdc51289274.jpeg\", \"frame\", \"./frames/000203 TMBL-ROV 2000 S\\u00e4cken EJ numrerade band_frame_5350_8.jpg\"], [57, 45881723, \"Deep water coral\", 221.0, 212.0, 294.0, 275.0, \"https://panoptes-uploads.zooniverse.org/subject_location/24d10dae-d67f-4ea9-8bb6-a4ab3450043e.jpeg\", \"frame\", \"./frames/000203 TMBL-ROV 2000 S\\u00e4cken EJ numrerade band_frame_5375_8.jpg\"], [58, 45881234, \"Deep water coral\", 74.0, 107.5, 549.5, 381.5, \"https://panoptes-uploads.zooniverse.org/subject_location/83d86270-fd2b-406d-a70d-32337531fc02.jpeg\", \"frame\", \"./frames/000203 TMBL-ROV 2000 S\\u00e4cken revet EJ numrerade band_frame_12750_8.jpg\"], [59, 45881235, \"Deep water coral\", 74.0, 104.0, 538.0, 374.0, \"https://panoptes-uploads.zooniverse.org/subject_location/58419d50-343a-4d09-8bae-fbfad2bd1e02.jpeg\", \"frame\", \"./frames/000203 TMBL-ROV 2000 S\\u00e4cken revet EJ numrerade band_frame_12775_8.jpg\"], [60, 45881224, \"Deep water coral\", 7.0, 7.0, 332.0, 430.0, \"https://panoptes-uploads.zooniverse.org/subject_location/1dcea040-fcfe-4b0b-9f64-56a12b2f0249.jpeg\", \"frame\", \"./frames/000203 TMBL-ROV 2000 S\\u00e4cken revet EJ numrerade band_frame_1500_8.jpg\"], [61, 45881225, \"Deep water coral\", 14.5, 55.0, 326.5, 404.0, \"https://panoptes-uploads.zooniverse.org/subject_location/e038e9d0-da58-41c5-b1fc-3f78847e59c8.jpeg\", \"frame\", \"./frames/000203 TMBL-ROV 2000 S\\u00e4cken revet EJ numrerade band_frame_1525_8.jpg\"], [62, 45881236, \"Deep water coral\", 292.0, 93.0, 225.0, 202.0, \"https://panoptes-uploads.zooniverse.org/subject_location/3e502aee-716b-46d2-862c-1dba3ab61eec.jpeg\", \"frame\", \"./frames/000203 TMBL-ROV 2000 S\\u00e4cken revet EJ numrerade band_frame_21750_8.jpg\"], [63, 45881237, \"Deep water coral\", 341.0, 69.0, 222.0, 222.0, \"https://panoptes-uploads.zooniverse.org/subject_location/5c2146f6-4db4-4752-953b-9cd5dfbf0bd0.jpeg\", \"frame\", \"./frames/000203 TMBL-ROV 2000 S\\u00e4cken revet EJ numrerade band_frame_21775_8.jpg\"], [64, 45881238, \"Deep water coral\", 65.0, 61.0, 464.0, 423.0, \"https://panoptes-uploads.zooniverse.org/subject_location/6d6355e5-2193-42be-9474-2a1b25bea7ea.jpeg\", \"frame\", \"./frames/000203 TMBL-ROV 2000 S\\u00e4cken revet EJ numrerade band_frame_22500_8.jpg\"], [65, 45881239, \"Deep water coral\", 38.0, 31.0, 488.0, 464.0, \"https://panoptes-uploads.zooniverse.org/subject_location/705f439d-e31d-4b67-8716-bb7b7a8bf02d.jpeg\", \"frame\", \"./frames/000203 TMBL-ROV 2000 S\\u00e4cken revet EJ numrerade band_frame_22525_8.jpg\"], [66, 45881229, \"Deep water coral\", 218.0, 33.0, 348.0, 380.0, \"https://panoptes-uploads.zooniverse.org/subject_location/9cb04593-814d-4df2-b426-23a9fa334f78.jpeg\", \"frame\", \"./frames/000203 TMBL-ROV 2000 S\\u00e4cken revet EJ numrerade band_frame_2275_8.jpg\"], [67, 45881240, \"Deep water coral\", 82.0, 17.5, 499.5, 441.0, \"https://panoptes-uploads.zooniverse.org/subject_location/cfcb4ae7-edf7-4c91-b72e-8746f19693ae.jpeg\", \"frame\", \"./frames/000203 TMBL-ROV 2000 S\\u00e4cken revet EJ numrerade band_frame_23250_8.jpg\"], [68, 45881241, \"Deep water coral\", 73.0, 7.0, 499.0, 453.0, \"https://panoptes-uploads.zooniverse.org/subject_location/c0f8144a-8652-487c-accb-8b8ef978c69f.jpeg\", \"frame\", \"./frames/000203 TMBL-ROV 2000 S\\u00e4cken revet EJ numrerade band_frame_23275_8.jpg\"], [69, 45881210, \"Deep water coral\", 194.0, 77.0, 284.5, 466.0, \"https://panoptes-uploads.zooniverse.org/subject_location/dd8ecc34-faff-4cd5-9af5-8d5f589bd42e.jpeg\", \"frame\", \"./frames/000203 TMBL-ROV 2000 S\\u00e4cken revet EJ numrerade band_frame_24750_8.jpg\"], [70, 45881244, \"Deep water coral\", 328.0, 193.5, 220.0, 176.0, \"https://panoptes-uploads.zooniverse.org/subject_location/8b1cf3ce-1cfb-4e42-85c6-3e25358aefb9.jpeg\", \"frame\", \"./frames/000203 TMBL-ROV 2000 S\\u00e4cken revet EJ numrerade band_frame_25500_8.jpg\"], [71, 45881245, \"Deep water coral\", 319.0, 181.0, 232.0, 205.0, \"https://panoptes-uploads.zooniverse.org/subject_location/7debe517-ec04-4061-80c1-bb5237613707.jpeg\", \"frame\", \"./frames/000203 TMBL-ROV 2000 S\\u00e4cken revet EJ numrerade band_frame_25525_8.jpg\"], [72, 45881247, \"Deep water coral\", 68.0, 128.0, 371.0, 266.0, \"https://panoptes-uploads.zooniverse.org/subject_location/a6c562f9-5212-4865-b073-041263eb69d5.jpeg\", \"frame\", \"./frames/000203 TMBL-ROV 2000 S\\u00e4cken revet EJ numrerade band_frame_26287_8.jpg\"], [73, 45881216, \"Deep water coral\", 162.5, 135.5, 388.0, 360.0, \"https://panoptes-uploads.zooniverse.org/subject_location/0d9fec95-9206-48f0-a91b-f9da883f1c32.jpeg\", \"frame\", \"./frames/000203 TMBL-ROV 2000 S\\u00e4cken revet EJ numrerade band_frame_38250_8.jpg\"], [74, 45881217, \"Deep water coral\", 171.0, 146.0, 386.0, 374.0, \"https://panoptes-uploads.zooniverse.org/subject_location/3c8a3a6e-ee13-4f95-b0b2-6754ecbd94a0.jpeg\", \"frame\", \"./frames/000203 TMBL-ROV 2000 S\\u00e4cken revet EJ numrerade band_frame_38275_8.jpg\"], [75, 45881261, \"Deep water coral\", 84.5, 73.0, 558.5, 495.0, \"https://panoptes-uploads.zooniverse.org/subject_location/ae1abe45-9cc3-4add-a922-f4d4778ef5aa.jpeg\", \"frame\", \"./frames/000203 TMBL-ROV 2000 S\\u00e4cken revet EJ numrerade band_frame_40525_8.jpg\"], [76, 45881262, \"Deep water coral\", 422.0, 72.0, 81.0, 90.0, \"https://panoptes-uploads.zooniverse.org/subject_location/1d1f46a1-bcd3-418e-a93b-a9c6f888bcd7.jpeg\", \"frame\", \"./frames/000203 TMBL-ROV 2000 S\\u00e4cken revet EJ numrerade band_frame_42762_8.jpg\"], [77, 45881264, \"Deep water coral\", 444.0, 480.5, 127.5, 84.0, \"https://panoptes-uploads.zooniverse.org/subject_location/ab7a971b-4394-43e7-878f-f536b4fd7857.jpeg\", \"frame\", \"./frames/000203 TMBL-ROV 2000 S\\u00e4cken revet EJ numrerade band_frame_48750_8.jpg\"], [78, 45881265, \"Deep water coral\", 310.5, 158.5, 219.0, 246.5, \"https://panoptes-uploads.zooniverse.org/subject_location/4d0eef8c-8cf2-482f-9a75-c8418e54f488.jpeg\", \"frame\", \"./frames/000203 TMBL-ROV 2000 S\\u00e4cken revet EJ numrerade band_frame_48775_8.jpg\"], [79, 45881271, \"Deep water coral\", 585.0, 308.5, 158.5, 204.5, \"https://panoptes-uploads.zooniverse.org/subject_location/b2a64805-7333-4cbd-bead-476e062baf6f.jpeg\", \"frame\", \"./frames/000203 TMBL-ROV 2000 S\\u00e4cken revet EJ numrerade band_frame_53287_8.jpg\"], [80, 45881272, \"Deep water coral\", 78.0, 152.0, 277.0, 406.0, \"https://panoptes-uploads.zooniverse.org/subject_location/35e6cb42-77b3-45e9-8aa8-2fa91ad81969.jpeg\", \"frame\", \"./frames/000203 TMBL-ROV 2000 S\\u00e4cken revet EJ numrerade band_frame_57000_8.jpg\"], [81, 45881273, \"Deep water coral\", 62.5, 146.0, 357.0, 435.5, \"https://panoptes-uploads.zooniverse.org/subject_location/454ab1cd-7f05-4de6-8926-90b75955557a.jpeg\", \"frame\", \"./frames/000203 TMBL-ROV 2000 S\\u00e4cken revet EJ numrerade band_frame_57025_8.jpg\"], [82, 45881274, \"Deep water coral\", 21.0, 5.0, 476.0, 571.0, \"https://panoptes-uploads.zooniverse.org/subject_location/05a1cfad-e782-440e-8308-a01aef8cdeac.jpeg\", \"frame\", \"./frames/000203 TMBL-ROV 2000 S\\u00e4cken revet EJ numrerade band_frame_57750_8.jpg\"], [83, 45881275, \"Deep water coral\", 81.5, 2.5, 439.0, 568.0, \"https://panoptes-uploads.zooniverse.org/subject_location/8de746ff-bd96-4d1d-a3e4-749d9f6224aa.jpeg\", \"frame\", \"./frames/000203 TMBL-ROV 2000 S\\u00e4cken revet EJ numrerade band_frame_57775_8.jpg\"], [84, 45881276, \"Deep water coral\", 4.0, 54.0, 166.0, 502.5, \"https://panoptes-uploads.zooniverse.org/subject_location/a3cf38a8-5586-4593-b1bb-8bea5dafb545.jpeg\", \"frame\", \"./frames/000203 TMBL-ROV 2000 S\\u00e4cken revet EJ numrerade band_frame_59250_8.jpg\"], [85, 45881222, \"Deep water coral\", 68.0, 100.0, 462.0, 458.0, \"https://panoptes-uploads.zooniverse.org/subject_location/eb83675b-0389-4bfd-b671-47ed8aa4001f.jpeg\", \"frame\", \"./frames/000203 TMBL-ROV 2000 S\\u00e4cken revet EJ numrerade band_frame_750_8.jpg\"], [86, 45881361, \"Deep water coral\", 191.5, 424.0, 352.5, 158.5, \"https://panoptes-uploads.zooniverse.org/subject_location/c5d6fb1a-ea71-40f5-9a77-7ae87a5e6c6d.jpeg\", \"frame\", \"./frames/000203 TMBL-ROV 2000 S\\u00e4ckenrevet Tape 56_frame_102775_8.jpg\"], [87, 45881362, \"Deep water coral\", 142.0, 70.0, 430.0, 351.0, \"https://panoptes-uploads.zooniverse.org/subject_location/93757021-c23e-4298-ae39-7a4103e98d3d.jpeg\", \"frame\", \"./frames/000203 TMBL-ROV 2000 S\\u00e4ckenrevet Tape 56_frame_106500_8.jpg\"], [88, 45881363, \"Deep water coral\", 165.0, 96.5, 407.0, 333.5, \"https://panoptes-uploads.zooniverse.org/subject_location/5254a90c-e557-4378-992e-03e6355d21f5.jpeg\", \"frame\", \"./frames/000203 TMBL-ROV 2000 S\\u00e4ckenrevet Tape 56_frame_106525_8.jpg\"], [89, 45881364, \"Deep water coral\", 158.0, 59.0, 398.0, 367.0, \"https://panoptes-uploads.zooniverse.org/subject_location/8f52d496-a01f-4a75-83c8-a082ab4f8f4a.jpeg\", \"frame\", \"./frames/000203 TMBL-ROV 2000 S\\u00e4ckenrevet Tape 56_frame_107250_8.jpg\"], [90, 45881365, \"Deep water coral\", 173.0, 6.0, 399.0, 337.0, \"https://panoptes-uploads.zooniverse.org/subject_location/7b11dd11-01d8-42f6-ac90-4fcaefca4fc8.jpeg\", \"frame\", \"./frames/000203 TMBL-ROV 2000 S\\u00e4ckenrevet Tape 56_frame_107275_8.jpg\"], [91, 45881366, \"Deep water coral\", 386.5, 388.5, 83.5, 93.5, \"https://panoptes-uploads.zooniverse.org/subject_location/f70926a8-7cc6-4d7d-9f62-d6b7ae73457e.jpeg\", \"frame\", \"./frames/000203 TMBL-ROV 2000 S\\u00e4ckenrevet Tape 56_frame_110250_8.jpg\"], [92, 45881294, \"Deep water coral\", 386.0, 142.0, 137.5, 117.5, \"https://panoptes-uploads.zooniverse.org/subject_location/5c267063-efc3-4d4d-a7f0-73b7450df64d.jpeg\", \"frame\", \"./frames/000203 TMBL-ROV 2000 S\\u00e4ckenrevet Tape 56_frame_23475_8.jpg\"], [93, 45881295, \"Deep water coral\", 349.0, 179.0, 136.0, 119.5, \"https://panoptes-uploads.zooniverse.org/subject_location/5ecb994d-2c34-488a-9170-7eb4ef73abbb.jpeg\", \"frame\", \"./frames/000203 TMBL-ROV 2000 S\\u00e4ckenrevet Tape 56_frame_23500_8.jpg\"], [94, 45881296, \"Deep water coral\", 4.0, 7.0, 396.0, 452.0, \"https://panoptes-uploads.zooniverse.org/subject_location/2be81a71-d76c-4e5f-9a93-904a12e981cb.jpeg\", \"frame\", \"./frames/000203 TMBL-ROV 2000 S\\u00e4ckenrevet Tape 56_frame_24750_8.jpg\"], [95, 45881299, \"Deep water coral\", 5.0, 11.0, 283.0, 454.0, \"https://panoptes-uploads.zooniverse.org/subject_location/efc23cca-22c2-436b-a40f-531051f01aee.jpeg\", \"frame\", \"./frames/000203 TMBL-ROV 2000 S\\u00e4ckenrevet Tape 56_frame_25525_8.jpg\"], [96, 45881300, \"Deep water coral\", -12.0, 40.0, 278.0, 398.0, \"https://panoptes-uploads.zooniverse.org/subject_location/333d6c8d-9034-448f-802c-d69477b9827c.jpeg\", \"frame\", \"./frames/000203 TMBL-ROV 2000 S\\u00e4ckenrevet Tape 56_frame_26250_8.jpg\"], [97, 45881278, \"Deep water coral\", 8.0, 78.0, 232.0, 363.5, \"https://panoptes-uploads.zooniverse.org/subject_location/3570f12f-afd3-42ed-b6f0-74e7d57a6242.jpeg\", \"frame\", \"./frames/000203 TMBL-ROV 2000 S\\u00e4ckenrevet Tape 56_frame_27000_8.jpg\"], [98, 45881279, \"Deep water coral\", 10.0, 89.0, 230.5, 352.0, \"https://panoptes-uploads.zooniverse.org/subject_location/7a17a4d7-3c3d-4659-b4a3-e0a0ebcee488.jpeg\", \"frame\", \"./frames/000203 TMBL-ROV 2000 S\\u00e4ckenrevet Tape 56_frame_27025_8.jpg\"], [99, 45881308, \"Deep water coral\", 11.0, 147.0, 402.0, 404.0, \"https://panoptes-uploads.zooniverse.org/subject_location/7a97eae2-ee6d-481e-ae05-5ef30ee334ac.jpeg\", \"frame\", \"./frames/000203 TMBL-ROV 2000 S\\u00e4ckenrevet Tape 56_frame_33750_8.jpg\"], [100, 45881309, \"Deep water coral\", 9.0, 56.0, 455.0, 516.0, \"https://panoptes-uploads.zooniverse.org/subject_location/5b2efc3d-a739-4158-90b4-8f0bb6fa128a.jpeg\", \"frame\", \"./frames/000203 TMBL-ROV 2000 S\\u00e4ckenrevet Tape 56_frame_33775_8.jpg\"], [101, 45881280, \"Deep water coral\", 2.0, 108.5, 52.0, 103.0, \"https://panoptes-uploads.zooniverse.org/subject_location/d79770da-882b-45fd-8927-c3fd6ce3f3ff.jpeg\", \"frame\", \"./frames/000203 TMBL-ROV 2000 S\\u00e4ckenrevet Tape 56_frame_36000_8.jpg\"], [102, 45881312, \"Deep water coral\", 121.0, 327.0, 368.0, 245.0, \"https://panoptes-uploads.zooniverse.org/subject_location/ced23fcc-989d-42ac-a97b-fed995d9fcf2.jpeg\", \"frame\", \"./frames/000203 TMBL-ROV 2000 S\\u00e4ckenrevet Tape 56_frame_36750_8.jpg\"], [103, 45881313, \"Deep water coral\", 65.5, 344.0, 338.0, 239.5, \"https://panoptes-uploads.zooniverse.org/subject_location/e9cfef0c-f77a-4904-b600-12ab9ddfd01b.jpeg\", \"frame\", \"./frames/000203 TMBL-ROV 2000 S\\u00e4ckenrevet Tape 56_frame_36775_8.jpg\"], [104, 45881314, \"Deep water coral\", 10.0, 129.5, 153.0, 186.5, \"https://panoptes-uploads.zooniverse.org/subject_location/00d948eb-cbb7-4c8e-ae9e-c2587e1a0bbe.jpeg\", \"frame\", \"./frames/000203 TMBL-ROV 2000 S\\u00e4ckenrevet Tape 56_frame_37525_8.jpg\"], [105, 45881282, \"Deep water coral\", 57.0, 235.5, 399.0, 340.0, \"https://panoptes-uploads.zooniverse.org/subject_location/ec210119-b31d-4b6b-8ad5-5485c5775fb0.jpeg\", \"frame\", \"./frames/000203 TMBL-ROV 2000 S\\u00e4ckenrevet Tape 56_frame_38250_8.jpg\"], [106, 45881284, \"Deep water coral\", 339.0, 94.0, 227.0, 219.0, \"https://panoptes-uploads.zooniverse.org/subject_location/852b30d2-73ff-42ce-961e-a9ebbfba00b5.jpeg\", \"frame\", \"./frames/000203 TMBL-ROV 2000 S\\u00e4ckenrevet Tape 56_frame_49500_8.jpg\"], [107, 45881285, \"Deep water coral\", 331.0, 84.0, 238.0, 210.0, \"https://panoptes-uploads.zooniverse.org/subject_location/07fdc6f7-aba6-42c4-b74e-52289014b49b.jpeg\", \"frame\", \"./frames/000203 TMBL-ROV 2000 S\\u00e4ckenrevet Tape 56_frame_49525_8.jpg\"], [108, 45881320, \"Deep water coral\", 67.0, 6.5, 505.5, 460.5, \"https://panoptes-uploads.zooniverse.org/subject_location/cbf0bb7b-a83f-4d9c-b663-4942b305c949.jpeg\", \"frame\", \"./frames/000203 TMBL-ROV 2000 S\\u00e4ckenrevet Tape 56_frame_51000_8.jpg\"], [109, 45881321, \"Deep water coral\", 68.5, 10.0, 508.0, 455.5, \"https://panoptes-uploads.zooniverse.org/subject_location/986879b0-6d3d-4014-8d4f-1f9f19421919.jpeg\", \"frame\", \"./frames/000203 TMBL-ROV 2000 S\\u00e4ckenrevet Tape 56_frame_51025_8.jpg\"], [110, 45881322, \"Deep water coral\", 136.5, 5.0, 350.0, 465.0, \"https://panoptes-uploads.zooniverse.org/subject_location/97ecdfb4-b667-4ce3-b341-500806990aee.jpeg\", \"frame\", \"./frames/000203 TMBL-ROV 2000 S\\u00e4ckenrevet Tape 56_frame_52500_8.jpg\"], [111, 45881323, \"Deep water coral\", 157.0, 3.0, 296.0, 454.0, \"https://panoptes-uploads.zooniverse.org/subject_location/8e5a1ae7-7151-40b4-a05c-ccbf3c068869.jpeg\", \"frame\", \"./frames/000203 TMBL-ROV 2000 S\\u00e4ckenrevet Tape 56_frame_52525_8.jpg\"], [112, 45881324, \"Deep water coral\", 213.0, 59.0, 277.0, 483.0, \"https://panoptes-uploads.zooniverse.org/subject_location/8abe890f-ed07-4e63-9c07-1d9fa709c7a3.jpeg\", \"frame\", \"./frames/000203 TMBL-ROV 2000 S\\u00e4ckenrevet Tape 56_frame_53262_8.jpg\"], [113, 45881325, \"Deep water coral\", 216.0, 84.0, 286.0, 461.0, \"https://panoptes-uploads.zooniverse.org/subject_location/87d06f84-6731-4009-8025-2775fd325c4e.jpeg\", \"frame\", \"./frames/000203 TMBL-ROV 2000 S\\u00e4ckenrevet Tape 56_frame_53287_8.jpg\"], [114, 45881327, \"Deep water coral\", -11.5, 43.0, 129.0, 388.0, \"https://panoptes-uploads.zooniverse.org/subject_location/80baa329-9720-4eda-96ab-c4f9c7931d13.jpeg\", \"frame\", \"./frames/000203 TMBL-ROV 2000 S\\u00e4ckenrevet Tape 56_frame_54775_8.jpg\"], [115, 45881328, \"Deep water coral\", 288.0, 2.0, 326.0, 451.0, \"https://panoptes-uploads.zooniverse.org/subject_location/7d6d9592-44d3-4c43-8f13-661a7e5843df.jpeg\", \"frame\", \"./frames/000203 TMBL-ROV 2000 S\\u00e4ckenrevet Tape 56_frame_55500_8.jpg\"], [116, 45881329, \"Deep water coral\", 227.0, 9.5, 273.5, 445.5, \"https://panoptes-uploads.zooniverse.org/subject_location/2db79791-609f-4d2b-8345-71ea012ccf38.jpeg\", \"frame\", \"./frames/000203 TMBL-ROV 2000 S\\u00e4ckenrevet Tape 56_frame_55525_8.jpg\"], [117, 45881286, \"Deep water coral\", 117.0, 164.0, 290.0, 268.0, \"https://panoptes-uploads.zooniverse.org/subject_location/dddb966c-c0fb-4f35-b73f-0a048b51a01c.jpeg\", \"frame\", \"./frames/000203 TMBL-ROV 2000 S\\u00e4ckenrevet Tape 56_frame_58500_8.jpg\"], [118, 45881332, \"Deep water coral\", 85.0, 162.0, 337.0, 276.0, \"https://panoptes-uploads.zooniverse.org/subject_location/5a1f6cc3-2d39-4903-9fe0-e36ad3cf9ebd.jpeg\", \"frame\", \"./frames/000203 TMBL-ROV 2000 S\\u00e4ckenrevet Tape 56_frame_58512_8.jpg\"], [119, 45881287, \"Deep water coral\", 78.0, 160.0, 365.0, 274.0, \"https://panoptes-uploads.zooniverse.org/subject_location/2c36ed90-9b1d-45c2-9e07-95efb93631df.jpeg\", \"frame\", \"./frames/000203 TMBL-ROV 2000 S\\u00e4ckenrevet Tape 56_frame_58525_8.jpg\"], [120, 45881333, \"Deep water coral\", 78.0, 173.0, 336.0, 271.5, \"https://panoptes-uploads.zooniverse.org/subject_location/2ca7dfd6-9cd1-4880-97e8-7f3f4b5b8da7.jpeg\", \"frame\", \"./frames/000203 TMBL-ROV 2000 S\\u00e4ckenrevet Tape 56_frame_58537_8.jpg\"], [121, 45881342, \"Deep water coral\", 181.5, 104.5, 379.0, 379.0, \"https://panoptes-uploads.zooniverse.org/subject_location/045be9fc-3f18-41ac-a1d0-8d6e99af3f36.jpeg\", \"frame\", \"./frames/000203 TMBL-ROV 2000 S\\u00e4ckenrevet Tape 56_frame_75000_8.jpg\"], [122, 45881343, \"Deep water coral\", 203.0, 123.0, 335.0, 336.0, \"https://panoptes-uploads.zooniverse.org/subject_location/18c8d396-f92d-44b2-9300-18b794a5c292.jpeg\", \"frame\", \"./frames/000203 TMBL-ROV 2000 S\\u00e4ckenrevet Tape 56_frame_75025_8.jpg\"], [123, 45881346, \"Deep water coral\", 473.0, 390.0, 94.0, 88.5, \"https://panoptes-uploads.zooniverse.org/subject_location/1f57952b-3701-4610-a237-7d4bb12ea084.jpeg\", \"frame\", \"./frames/000203 TMBL-ROV 2000 S\\u00e4ckenrevet Tape 56_frame_82500_8.jpg\"], [124, 45881352, \"Deep water coral\", 211.0, 218.0, 219.5, 274.5, \"https://panoptes-uploads.zooniverse.org/subject_location/7b1576b1-a848-4b7c-bb95-fccc96297e8b.jpeg\", \"frame\", \"./frames/000203 TMBL-ROV 2000 S\\u00e4ckenrevet Tape 56_frame_93000_8.jpg\"], [125, 45881353, \"Deep water coral\", 193.0, 174.0, 277.0, 307.0, \"https://panoptes-uploads.zooniverse.org/subject_location/9c8514f7-1c3c-4db1-8e41-b2c2fa0a4eac.jpeg\", \"frame\", \"./frames/000203 TMBL-ROV 2000 S\\u00e4ckenrevet Tape 56_frame_93025_8.jpg\"], [126, 45881354, \"Deep water coral\", 3.0, 4.0, 399.0, 517.0, \"https://panoptes-uploads.zooniverse.org/subject_location/00416073-6e8b-4134-8669-fbe85c54bb65.jpeg\", \"frame\", \"./frames/000203 TMBL-ROV 2000 S\\u00e4ckenrevet Tape 56_frame_94500_8.jpg\"], [127, 45881355, \"Deep water coral\", 2.0, 0.0, 395.0, 474.0, \"https://panoptes-uploads.zooniverse.org/subject_location/802b9d8b-131b-47f3-a9bd-53722f5f4945.jpeg\", \"frame\", \"./frames/000203 TMBL-ROV 2000 S\\u00e4ckenrevet Tape 56_frame_94525_8.jpg\"], [128, 45881356, \"Deep water coral\", 210.0, 253.0, 151.0, 204.0, \"https://panoptes-uploads.zooniverse.org/subject_location/e9c025c6-47f8-4806-a429-35c6f1472378.jpeg\", \"frame\", \"./frames/000203 TMBL-ROV 2000 S\\u00e4ckenrevet Tape 56_frame_96775_8.jpg\"], [129, 45881357, \"Deep water coral\", 191.0, 219.0, 138.0, 188.0, \"https://panoptes-uploads.zooniverse.org/subject_location/c10c1373-577b-4fe2-a167-0badb15e75aa.jpeg\", \"frame\", \"./frames/000203 TMBL-ROV 2000 S\\u00e4ckenrevet Tape 56_frame_96800_8.jpg\"], [130, 45881724, \"Deep water coral\", 327.0, 112.0, 163.0, 196.0, \"https://panoptes-uploads.zooniverse.org/subject_location/a4149a12-a1b8-4f8d-befd-80272f6c25eb.jpeg\", \"frame\", \"./frames/000203 TMBL-ROV 2000 s\\u00e4cken Tape 56_frame_12775_8.jpg\"], [131, 45881725, \"Deep water coral\", 252.0, 296.0, 133.0, 229.0, \"https://panoptes-uploads.zooniverse.org/subject_location/df75fb18-5a07-4056-b9cd-fa6069521c9f.jpeg\", \"frame\", \"./frames/000203 TMBL-ROV 2000 s\\u00e4cken Tape 56_frame_12800_8.jpg\"], [132, 45881727, \"Deep water coral\", 4.5, 5.0, 704.5, 566.5, \"https://panoptes-uploads.zooniverse.org/subject_location/dc2f4130-ca70-4468-87cf-ab9723397891.jpeg\", \"frame\", \"./frames/000203 TMBL-ROV 2000 s\\u00e4cken Tape 56_frame_35275_8.jpg\"], [133, 45881728, \"Deep water coral\", 172.0, 175.0, 178.0, 156.0, \"https://panoptes-uploads.zooniverse.org/subject_location/3af3db72-54a0-4fcc-8d1c-6fd9fa58b316.jpeg\", \"frame\", \"./frames/000203 TMBL-ROV 2000 s\\u00e4cken Tape 56_frame_48150_8.jpg\"], [134, 45881430, \"Deep water coral\", 388.5, 248.0, 123.5, 80.5, \"https://panoptes-uploads.zooniverse.org/subject_location/978e5fed-ed8f-49e2-95c0-ea4c98b14c59.jpeg\", \"frame\", \"./frames/010424 S\\u00e4ckenrevet alfa Tape 74_frame_126775_8.jpg\"], [135, 45881431, \"Deep water coral\", 361.5, 279.5, 147.0, 122.0, \"https://panoptes-uploads.zooniverse.org/subject_location/229bf360-5b41-47bb-b4b6-de74ebafe7dc.jpeg\", \"frame\", \"./frames/010424 S\\u00e4ckenrevet alfa Tape 74_frame_126800_8.jpg\"], [136, 45881390, \"Deep water coral\", 111.0, 100.0, 537.0, 496.0, \"https://panoptes-uploads.zooniverse.org/subject_location/7e99bfbf-8e8e-4649-ae59-d2778691ea29.jpeg\", \"frame\", \"./frames/010424 S\\u00e4ckenrevet alfa Tape 74_frame_14250_8.jpg\"], [137, 45881391, \"Deep water coral\", 139.5, 116.0, 468.5, 465.5, \"https://panoptes-uploads.zooniverse.org/subject_location/72617453-8e04-428f-8469-513a62e2ce15.jpeg\", \"frame\", \"./frames/010424 S\\u00e4ckenrevet alfa Tape 74_frame_14275_8.jpg\"], [138, 45881372, \"Deep water coral\", 224.0, 142.0, 472.0, 326.0, \"https://panoptes-uploads.zooniverse.org/subject_location/3b31dc74-27ba-4c7a-85a6-5ddc0d2070cd.jpeg\", \"frame\", \"./frames/010424 S\\u00e4ckenrevet alfa Tape 74_frame_18000_8.jpg\"], [139, 45881373, \"Deep water coral\", 208.0, 118.0, 487.0, 337.0, \"https://panoptes-uploads.zooniverse.org/subject_location/57792e08-45db-4f74-8beb-4828a3f6a259.jpeg\", \"frame\", \"./frames/010424 S\\u00e4ckenrevet alfa Tape 74_frame_18025_8.jpg\"], [140, 45881394, \"Deep water coral\", 231.5, 4.5, 481.0, 396.5, \"https://panoptes-uploads.zooniverse.org/subject_location/b9998a80-7602-4d55-b69a-dd64064c242f.jpeg\", \"frame\", \"./frames/010424 S\\u00e4ckenrevet alfa Tape 74_frame_21750_8.jpg\"], [141, 45881375, \"Deep water coral\", 319.0, 321.5, 290.0, 237.5, \"https://panoptes-uploads.zooniverse.org/subject_location/ee28fb77-cabb-45f2-b054-e080e777b4ca.jpeg\", \"frame\", \"./frames/010424 S\\u00e4ckenrevet alfa Tape 74_frame_36025_8.jpg\"], [142, 45881398, \"Deep water coral\", 228.0, -4.5, 401.0, 414.5, \"https://panoptes-uploads.zooniverse.org/subject_location/2200fcb5-f5af-4638-a211-bc7f06807e1c.jpeg\", \"frame\", \"./frames/010424 S\\u00e4ckenrevet alfa Tape 74_frame_37500_8.jpg\"], [143, 45881399, \"Deep water coral\", 206.0, -1.0, 452.0, 431.0, \"https://panoptes-uploads.zooniverse.org/subject_location/9f1228b5-5ae4-4bac-af7c-06fa2d26a41d.jpeg\", \"frame\", \"./frames/010424 S\\u00e4ckenrevet alfa Tape 74_frame_37525_8.jpg\"], [144, 45881400, \"Deep water coral\", 234.0, 106.0, 407.0, 387.0, \"https://panoptes-uploads.zooniverse.org/subject_location/9857a902-7e02-4f2c-9da4-cc768c348ebe.jpeg\", \"frame\", \"./frames/010424 S\\u00e4ckenrevet alfa Tape 74_frame_39775_8.jpg\"], [145, 45881401, \"Deep water coral\", 185.0, 59.0, 468.0, 467.0, \"https://panoptes-uploads.zooniverse.org/subject_location/d875b747-2089-4012-a73f-c31ceba79e5f.jpeg\", \"frame\", \"./frames/010424 S\\u00e4ckenrevet alfa Tape 74_frame_39800_8.jpg\"], [146, 45881402, \"Deep water coral\", 319.5, 207.5, 124.0, 119.0, \"https://panoptes-uploads.zooniverse.org/subject_location/7b53497e-a78b-4b86-b194-d3c73dd6660a.jpeg\", \"frame\", \"./frames/010424 S\\u00e4ckenrevet alfa Tape 74_frame_40600_8.jpg\"], [147, 45881403, \"Deep water coral\", 328.0, 182.0, 132.5, 143.0, \"https://panoptes-uploads.zooniverse.org/subject_location/017bdf86-5c1c-47ab-9a54-a3cc89283455.jpeg\", \"frame\", \"./frames/010424 S\\u00e4ckenrevet alfa Tape 74_frame_40625_8.jpg\"], [148, 45881404, \"Deep water coral\", 150.0, 106.0, 444.0, 465.0, \"https://panoptes-uploads.zooniverse.org/subject_location/27c40917-77af-4b7b-9a21-67140b6e2816.jpeg\", \"frame\", \"./frames/010424 S\\u00e4ckenrevet alfa Tape 74_frame_41250_8.jpg\"], [149, 45881405, \"Deep water coral\", 130.0, 95.0, 435.0, 492.0, \"https://panoptes-uploads.zooniverse.org/subject_location/0c3eaa5f-caf0-4e30-8fb5-d3ec82784b78.jpeg\", \"frame\", \"./frames/010424 S\\u00e4ckenrevet alfa Tape 74_frame_41275_8.jpg\"], [150, 45881406, \"Deep water coral\", 119.0, 5.0, 480.0, 479.0, \"https://panoptes-uploads.zooniverse.org/subject_location/82e81d2f-e911-4af8-9056-801cbe4610ca.jpeg\", \"frame\", \"./frames/010424 S\\u00e4ckenrevet alfa Tape 74_frame_42000_8.jpg\"], [151, 45881407, \"Deep water coral\", 112.0, -3.0, 496.0, 516.0, \"https://panoptes-uploads.zooniverse.org/subject_location/857dbc14-6630-41fd-862b-46420d90917c.jpeg\", \"frame\", \"./frames/010424 S\\u00e4ckenrevet alfa Tape 74_frame_42025_8.jpg\"], [152, 45881408, \"Deep water coral\", 270.0, 82.0, 283.0, 366.0, \"https://panoptes-uploads.zooniverse.org/subject_location/e9a9b96b-0f24-4ffb-9574-ce83d0ca2a0b.jpeg\", \"frame\", \"./frames/010424 S\\u00e4ckenrevet alfa Tape 74_frame_43500_8.jpg\"], [153, 45881412, \"Deep water coral\", 53.0, 13.0, 650.0, 548.0, \"https://panoptes-uploads.zooniverse.org/subject_location/e949aaf6-708a-4c36-8e78-799c8436cedb.jpeg\", \"frame\", \"./frames/010424 S\\u00e4ckenrevet alfa Tape 74_frame_48750_8.jpg\"], [154, 45881413, \"Deep water coral\", 63.0, 21.5, 662.0, 543.0, \"https://panoptes-uploads.zooniverse.org/subject_location/8be35265-a1bc-4a2c-ba31-9314bc09ee36.jpeg\", \"frame\", \"./frames/010424 S\\u00e4ckenrevet alfa Tape 74_frame_48775_8.jpg\"], [155, 45881414, \"Deep water coral\", 315.0, 227.0, 281.0, 339.0, \"https://panoptes-uploads.zooniverse.org/subject_location/e8d6498f-889d-41da-9a1c-85287b654505.jpeg\", \"frame\", \"./frames/010424 S\\u00e4ckenrevet alfa Tape 74_frame_55500_8.jpg\"], [156, 45881418, \"Deep water coral\", 285.0, 167.0, 435.0, 404.0, \"https://panoptes-uploads.zooniverse.org/subject_location/20dc549e-5d69-4a81-b660-68d914729d0b.jpeg\", \"frame\", \"./frames/010424 S\\u00e4ckenrevet alfa Tape 74_frame_58500_8.jpg\"], [157, 45881428, \"Deep water coral\", 362.5, 325.0, 144.0, 135.5, \"https://panoptes-uploads.zooniverse.org/subject_location/d27b09e4-363e-42e0-ae23-4e90c2e46daa.jpeg\", \"frame\", \"./frames/010424 S\\u00e4ckenrevet alfa Tape 74_frame_85500_8.jpg\"], [158, 45881429, \"Deep water coral\", 378.0, 285.0, 139.5, 151.5, \"https://panoptes-uploads.zooniverse.org/subject_location/48336a60-f173-4062-8ca3-639098f53bce.jpeg\", \"frame\", \"./frames/010424 S\\u00e4ckenrevet alfa Tape 74_frame_85525_8.jpg\"], [159, 45881738, \"Deep water coral\", 156.0, 6.5, 551.5, 520.0, \"https://panoptes-uploads.zooniverse.org/subject_location/f135f83f-9c37-4a1b-8aad-2a2e35996b6a.jpeg\", \"frame\", \"./frames/010424 S\\u00e4ckenrevet beta Tape 74_frame_46500_8.jpg\"], [160, 45881740, \"Deep water coral\", 97.5, 14.0, 587.5, 426.5, \"https://panoptes-uploads.zooniverse.org/subject_location/4e96645a-d37c-4848-8e2f-7959730eadd6.jpeg\", \"frame\", \"./frames/010424 S\\u00e4ckenrevet beta Tape 74_frame_47250_8.jpg\"], [161, 45881744, \"Deep water coral\", 328.0, 224.0, 148.0, 176.0, \"https://panoptes-uploads.zooniverse.org/subject_location/12bbcf4d-3f05-4c10-afc6-48ca4a6efc10.jpeg\", \"frame\", \"./frames/010424 S\\u00e4ckenrevet beta Tape 74_frame_52500_8.jpg\"], [162, 45881746, \"Deep water coral\", 177.0, 24.0, 368.5, 452.5, \"https://panoptes-uploads.zooniverse.org/subject_location/19d8d79c-7d8f-410e-982d-ccb1aee00b3e.jpeg\", \"frame\", \"./frames/010424 S\\u00e4ckenrevet beta Tape 74_frame_55500_8.jpg\"], [163, 45881747, \"Deep water coral\", 190.0, 93.5, 333.0, 433.0, \"https://panoptes-uploads.zooniverse.org/subject_location/d2130f62-c082-4d52-84d1-453fce43851a.jpeg\", \"frame\", \"./frames/010424 S\\u00e4ckenrevet beta Tape 74_frame_55525_8.jpg\"], [164, 45881748, \"Deep water coral\", 6.0, 242.0, 184.5, 229.5, \"https://panoptes-uploads.zooniverse.org/subject_location/fd8b190d-0711-46ed-b8a2-2421c805d303.jpeg\", \"frame\", \"./frames/010424 S\\u00e4ckenrevet beta Tape 74_frame_57000_8.jpg\"], [165, 45881750, \"Deep water coral\", 118.0, 383.0, 207.0, 193.0, \"https://panoptes-uploads.zooniverse.org/subject_location/08a9ea42-4cd5-481a-815a-251a1ab6204f.jpeg\", \"frame\", \"./frames/010424 S\\u00e4ckenrevet beta Tape 74_frame_59262_8.jpg\"], [166, 45881753, \"Deep water coral\", 208.0, 92.0, 397.5, 427.5, \"https://panoptes-uploads.zooniverse.org/subject_location/0b8aba0b-839d-4dc4-b921-34befaec2356.jpeg\", \"frame\", \"./frames/010424 S\\u00e4ckenrevet beta Tape 74_frame_84775_8.jpg\"], [167, 45881756, \"Deep water coral\", 435.5, 242.0, 176.5, 201.0, \"https://panoptes-uploads.zooniverse.org/subject_location/bc173b73-c999-4956-8145-9281fb803be3.jpeg\", \"frame\", \"./frames/010424 S\\u00e4ckenrevet beta Tape 74_frame_87750_8.jpg\"], [168, 45881757, \"Deep water coral\", 319.0, 278.0, 200.0, 240.0, \"https://panoptes-uploads.zooniverse.org/subject_location/62af99ca-4464-42c9-93be-c37cfbd242e0.jpeg\", \"frame\", \"./frames/010424 S\\u00e4ckenrevet beta Tape 74_frame_87775_8.jpg\"], [169, 45881622, \"Deep water coral\", 316.0, 159.0, 223.0, 281.0, \"https://panoptes-uploads.zooniverse.org/subject_location/9a229cb9-ef36-4cdb-aa58-f4009cb1c26e.jpeg\", \"frame\", \"./frames/020130 TMBL-ROV 2002 S\\u00e4cken transekt 1_frame_12750_8.jpg\"], [170, 45881623, \"Deep water coral\", 307.5, 99.0, 235.0, 305.0, \"https://panoptes-uploads.zooniverse.org/subject_location/d3f7304a-297f-4a65-9732-3daaece3491a.jpeg\", \"frame\", \"./frames/020130 TMBL-ROV 2002 S\\u00e4cken transekt 1_frame_12775_8.jpg\"], [171, 45881625, \"Deep water coral\", 483.0, 285.0, 136.5, 96.5, \"https://panoptes-uploads.zooniverse.org/subject_location/13b07ca1-bc77-4df2-8f01-2b589ee65608.jpeg\", \"frame\", \"./frames/020130 TMBL-ROV 2002 S\\u00e4cken transekt 1_frame_13525_8.jpg\"], [172, 45881490, \"Deep water coral\", 261.0, 312.0, 257.0, 234.0, \"https://panoptes-uploads.zooniverse.org/subject_location/344223b0-fc2d-41d8-a36b-160632cf5c1c.jpeg\", \"frame\", \"./frames/020628 TMBL-ROV 2002 O Hollanderberget S\\u00e4cken_frame_112500_8.jpg\"], [173, 45881491, \"Deep water coral\", 273.0, 304.0, 216.0, 243.0, \"https://panoptes-uploads.zooniverse.org/subject_location/e1f0f89f-0e6a-4eb2-b1af-329f46f14c92.jpeg\", \"frame\", \"./frames/020628 TMBL-ROV 2002 O Hollanderberget S\\u00e4cken_frame_112525_8.jpg\"], [174, 45881516, \"Deep water coral\", 74.0, 5.5, 670.0, 596.5, \"https://panoptes-uploads.zooniverse.org/subject_location/fc10f51d-cce7-4e59-9016-2651323c69d6.jpeg\", \"frame\", \"./frames/030317-18 TMBL-ROV 2003 S\\u00e4ckenrevet_frame_114000_8.jpg\"], [175, 45881517, \"Deep water coral\", 88.0, 1.0, 652.0, 576.0, \"https://panoptes-uploads.zooniverse.org/subject_location/4fbbae3c-6c7a-4c38-9963-264cf83a6507.jpeg\", \"frame\", \"./frames/030317-18 TMBL-ROV 2003 S\\u00e4ckenrevet_frame_114025_8.jpg\"], [176, 45881520, \"Deep water coral\", 354.5, 274.5, 161.0, 225.0, \"https://panoptes-uploads.zooniverse.org/subject_location/2779bae9-e839-480f-a098-4f1974dce237.jpeg\", \"frame\", \"./frames/030317-18 TMBL-ROV 2003 S\\u00e4ckenrevet_frame_115500_8.jpg\"], [177, 45881521, \"Deep water coral\", 383.0, 336.0, 190.0, 240.0, \"https://panoptes-uploads.zooniverse.org/subject_location/b9d69ba5-4b6d-45b9-8429-7480424d5435.jpeg\", \"frame\", \"./frames/030317-18 TMBL-ROV 2003 S\\u00e4ckenrevet_frame_115525_8.jpg\"], [178, 45881522, \"Deep water coral\", 357.0, 242.0, 167.0, 193.0, \"https://panoptes-uploads.zooniverse.org/subject_location/67787813-db57-4fd4-bf95-f1f5dac5e0df.jpeg\", \"frame\", \"./frames/030317-18 TMBL-ROV 2003 S\\u00e4ckenrevet_frame_118500_8.jpg\"], [179, 45881523, \"Deep water coral\", 318.0, 273.0, 191.5, 200.0, \"https://panoptes-uploads.zooniverse.org/subject_location/c5c8e716-19a7-4a5c-bb2a-37e5910bce8b.jpeg\", \"frame\", \"./frames/030317-18 TMBL-ROV 2003 S\\u00e4ckenrevet_frame_118525_8.jpg\"], [180, 45881496, \"Deep water coral\", 289.0, 201.0, 188.0, 243.0, \"https://panoptes-uploads.zooniverse.org/subject_location/ab883c03-b740-4c2a-ac2e-49a10b854093.jpeg\", \"frame\", \"./frames/030317-18 TMBL-ROV 2003 S\\u00e4ckenrevet_frame_16500_8.jpg\"], [181, 45881497, \"Deep water coral\", 309.0, 299.5, 173.0, 235.0, \"https://panoptes-uploads.zooniverse.org/subject_location/84039647-95e8-43ef-889b-beb98a9bd1c6.jpeg\", \"frame\", \"./frames/030317-18 TMBL-ROV 2003 S\\u00e4ckenrevet_frame_16525_8.jpg\"], [182, 45881498, \"Deep water coral\", 188.5, 379.0, 182.0, 157.5, \"https://panoptes-uploads.zooniverse.org/subject_location/31ca68bd-2c3e-48a8-946a-8052e054f7e8.jpeg\", \"frame\", \"./frames/030317-18 TMBL-ROV 2003 S\\u00e4ckenrevet_frame_36750_8.jpg\"], [183, 45881499, \"Deep water coral\", 188.0, 387.5, 178.0, 151.0, \"https://panoptes-uploads.zooniverse.org/subject_location/74a8cf94-4b81-41a0-81f0-cfbb47a29ca3.jpeg\", \"frame\", \"./frames/030317-18 TMBL-ROV 2003 S\\u00e4ckenrevet_frame_36775_8.jpg\"], [184, 45881501, \"Deep water coral\", 267.0, 198.0, 174.0, 158.0, \"https://panoptes-uploads.zooniverse.org/subject_location/e2449627-e020-4778-9a00-0cbae80c6474.jpeg\", \"frame\", \"./frames/030317-18 TMBL-ROV 2003 S\\u00e4ckenrevet_frame_58725_8.jpg\"], [185, 45881502, \"Deep water coral\", 175.0, 204.0, 328.0, 295.0, \"https://panoptes-uploads.zooniverse.org/subject_location/60b56043-bc4f-44f8-af06-c46afcc7989a.jpeg\", \"frame\", \"./frames/030317-18 TMBL-ROV 2003 S\\u00e4ckenrevet_frame_59250_8.jpg\"], [186, 45881503, \"Deep water coral\", 144.0, 153.0, 367.0, 320.0, \"https://panoptes-uploads.zooniverse.org/subject_location/6167f851-50b9-4399-815d-94aa7aa436ed.jpeg\", \"frame\", \"./frames/030317-18 TMBL-ROV 2003 S\\u00e4ckenrevet_frame_59275_8.jpg\"], [187, 45881504, \"Deep water coral\", 9.0, 4.0, 694.0, 550.0, \"https://panoptes-uploads.zooniverse.org/subject_location/594202a5-6979-4d12-b46a-0a896e13d965.jpeg\", \"frame\", \"./frames/030317-18 TMBL-ROV 2003 S\\u00e4ckenrevet_frame_60000_8.jpg\"], [188, 45881505, \"Deep water coral\", 9.0, 7.0, 692.5, 562.0, \"https://panoptes-uploads.zooniverse.org/subject_location/7fe93e41-0091-4e9c-9a77-3f3bbe6e2276.jpeg\", \"frame\", \"./frames/030317-18 TMBL-ROV 2003 S\\u00e4ckenrevet_frame_60025_8.jpg\"], [189, 45881506, \"Deep water coral\", 18.0, 2.5, 677.5, 548.5, \"https://panoptes-uploads.zooniverse.org/subject_location/82041075-f389-476f-a712-7a6ee2ac8795.jpeg\", \"frame\", \"./frames/030317-18 TMBL-ROV 2003 S\\u00e4ckenrevet_frame_60750_8.jpg\"], [190, 45881507, \"Deep water coral\", 11.0, 3.0, 688.0, 548.0, \"https://panoptes-uploads.zooniverse.org/subject_location/18555421-4f3d-4a68-b2c2-2aa22d628d4f.jpeg\", \"frame\", \"./frames/030317-18 TMBL-ROV 2003 S\\u00e4ckenrevet_frame_60775_8.jpg\"], [191, 45881492, \"Deep water coral\", 279.0, 279.0, 144.0, 154.0, \"https://panoptes-uploads.zooniverse.org/subject_location/25229cdb-c9a7-49d9-947b-44d049a947ce.jpeg\", \"frame\", \"./frames/030317-18 TMBL-ROV 2003 S\\u00e4ckenrevet_frame_7500_8.jpg\"], [192, 45881493, \"Deep water coral\", 272.5, 307.0, 145.0, 146.0, \"https://panoptes-uploads.zooniverse.org/subject_location/c98a5998-2ebe-4428-86b2-e0f4389cd9b7.jpeg\", \"frame\", \"./frames/030317-18 TMBL-ROV 2003 S\\u00e4ckenrevet_frame_7525_8.jpg\"], [193, 45881548, \"Deep water coral\", 134.0, 50.0, 344.0, 475.0, \"https://panoptes-uploads.zooniverse.org/subject_location/9bc5dc31-4858-4267-b09f-b5994e44021d.jpeg\", \"frame\", \"./frames/030325 TMBL-ROV 2003 S\\u00e4ckenrevet bioerosion_frame_145500_8.jpg\"], [194, 45881549, \"Deep water coral\", 128.5, 72.0, 345.5, 444.5, \"https://panoptes-uploads.zooniverse.org/subject_location/2b2ddca3-75b1-4997-8b41-0cca2287d063.jpeg\", \"frame\", \"./frames/030325 TMBL-ROV 2003 S\\u00e4ckenrevet bioerosion_frame_145525_8.jpg\"], [195, 45881550, \"Deep water coral\", 197.0, 304.5, 193.5, 185.0, \"https://panoptes-uploads.zooniverse.org/subject_location/5d1f6992-0fed-4857-bab9-6b7bc55e222d.jpeg\", \"frame\", \"./frames/030325 TMBL-ROV 2003 S\\u00e4ckenrevet bioerosion_frame_162000_8.jpg\"], [196, 45881551, \"Deep water coral\", 196.0, 273.5, 179.0, 180.5, \"https://panoptes-uploads.zooniverse.org/subject_location/f7709e7b-dfd7-4b19-9cbf-9cb8048a46be.jpeg\", \"frame\", \"./frames/030325 TMBL-ROV 2003 S\\u00e4ckenrevet bioerosion_frame_162025_8.jpg\"], [197, 45881552, \"Deep water coral\", 189.0, 112.0, 357.0, 331.0, \"https://panoptes-uploads.zooniverse.org/subject_location/d9d20783-e16d-4b19-848b-c170ee2a7aa9.jpeg\", \"frame\", \"./frames/030325 TMBL-ROV 2003 S\\u00e4ckenrevet bioerosion_frame_162750_8.jpg\"], [198, 45881553, \"Deep water coral\", 179.0, 170.0, 341.0, 317.0, \"https://panoptes-uploads.zooniverse.org/subject_location/2786fce3-5bc1-488c-9cdb-3deb9e80fb05.jpeg\", \"frame\", \"./frames/030325 TMBL-ROV 2003 S\\u00e4ckenrevet bioerosion_frame_162775_8.jpg\"], [199, 45881555, \"Deep water coral\", 147.0, 135.0, 411.5, 396.0, \"https://panoptes-uploads.zooniverse.org/subject_location/c5c70882-0b8f-4fda-9238-a8f48e14b35d.jpeg\", \"frame\", \"./frames/030325 TMBL-ROV 2003 S\\u00e4ckenrevet bioerosion_frame_165775_8.jpg\"], [200, 45881559, \"Deep water coral\", 231.5, 155.0, 287.0, 341.0, \"https://panoptes-uploads.zooniverse.org/subject_location/a109ddb5-6ad7-42bc-a8cf-a80adf58d6c0.jpeg\", \"frame\", \"./frames/030325 TMBL-ROV 2003 S\\u00e4ckenrevet bioerosion_frame_167275_8.jpg\"], [201, 45881561, \"Deep water coral\", 77.5, 9.5, 642.0, 460.5, \"https://panoptes-uploads.zooniverse.org/subject_location/6054b5e0-9ee8-48b9-a8c2-8ebfd6291103.jpeg\", \"frame\", \"./frames/030325 TMBL-ROV 2003 S\\u00e4ckenrevet bioerosion_frame_168775_8.jpg\"], [202, 45881532, \"Deep water coral\", 302.5, 255.5, 231.5, 271.0, \"https://panoptes-uploads.zooniverse.org/subject_location/c8bd55f2-7dce-464e-b37b-ad44d2777c40.jpeg\", \"frame\", \"./frames/030325 TMBL-ROV 2003 S\\u00e4ckenrevet bioerosion_frame_73500_8.jpg\"], [203, 45881533, \"Deep water coral\", 288.0, 276.0, 274.0, 274.0, \"https://panoptes-uploads.zooniverse.org/subject_location/c3d4a17a-bf3e-4be2-b487-04c3a9e20379.jpeg\", \"frame\", \"./frames/030325 TMBL-ROV 2003 S\\u00e4ckenrevet bioerosion_frame_73525_8.jpg\"], [204, 45881536, \"Deep water coral\", 336.0, 211.0, 121.0, 141.0, \"https://panoptes-uploads.zooniverse.org/subject_location/2d59b107-7f8b-4486-92fe-f3c109fc36fc.jpeg\", \"frame\", \"./frames/030325 TMBL-ROV 2003 S\\u00e4ckenrevet bioerosion_frame_76525_8.jpg\"], [205, 45881537, \"Deep water coral\", 320.5, 226.0, 133.0, 133.0, \"https://panoptes-uploads.zooniverse.org/subject_location/9d4f8d35-3b54-4bbe-a3b0-27d4ae1d247a.jpeg\", \"frame\", \"./frames/030325 TMBL-ROV 2003 S\\u00e4ckenrevet bioerosion_frame_76550_8.jpg\"], [206, 45881566, \"Deep water coral\", 248.0, 164.0, 192.0, 240.0, \"https://panoptes-uploads.zooniverse.org/subject_location/7afd263f-f7d4-4abe-898e-1aa648320e19.jpeg\", \"frame\", \"./frames/040220 TMBL-ROV 2004 S\\u00e4ckenrevet alfa_frame_18750_8.jpg\"], [207, 45881567, \"Deep water coral\", 249.0, 180.0, 195.0, 225.0, \"https://panoptes-uploads.zooniverse.org/subject_location/4b353ddd-09d1-4123-8b89-8c07f50cf5e1.jpeg\", \"frame\", \"./frames/040220 TMBL-ROV 2004 S\\u00e4ckenrevet alfa_frame_18775_8.jpg\"], [208, 45881579, \"Deep water coral\", 375.0, 159.5, 172.5, 154.0, \"https://panoptes-uploads.zooniverse.org/subject_location/de8588c3-5d1c-4db3-8cd0-6cfd4c077503.jpeg\", \"frame\", \"./frames/040220 TMBL-ROV 2004 S\\u00e4ckenrevet alfa_frame_30875_8.jpg\"], [209, 45881582, \"Deep water coral\", 200.0, 139.0, 307.0, 279.0, \"https://panoptes-uploads.zooniverse.org/subject_location/1c2026b4-ce35-4381-aea5-645c148b3dc3.jpeg\", \"frame\", \"./frames/040220 TMBL-ROV 2004 S\\u00e4ckenrevet alfa_frame_36750_8.jpg\"], [210, 45881584, \"Deep water coral\", 211.0, 163.0, 309.0, 323.0, \"https://panoptes-uploads.zooniverse.org/subject_location/d238883a-1816-4ba3-9385-0e9a93cd147f.jpeg\", \"frame\", \"./frames/040220 TMBL-ROV 2004 S\\u00e4ckenrevet alfa_frame_39750_8.jpg\"], [211, 45881585, \"Deep water coral\", 207.0, 159.0, 348.0, 307.0, \"https://panoptes-uploads.zooniverse.org/subject_location/0efbc8c2-43d8-456a-a634-bb9243897eaa.jpeg\", \"frame\", \"./frames/040220 TMBL-ROV 2004 S\\u00e4ckenrevet alfa_frame_39775_8.jpg\"], [212, 45881588, \"Deep water coral\", 86.5, 467.0, 386.5, 124.5, \"https://panoptes-uploads.zooniverse.org/subject_location/fae7d7aa-6660-4bcd-8c08-856ce381c966.jpeg\", \"frame\", \"./frames/040220 TMBL-ROV 2004 S\\u00e4ckenrevet alfa_frame_63750_8.jpg\"], [213, 45881598, \"Deep water coral\", 218.0, 166.0, 246.0, 227.0, \"https://panoptes-uploads.zooniverse.org/subject_location/fd0b7dbd-2d4b-4c1c-a3cb-8c297b312733.jpeg\", \"frame\", \"./frames/040220 TMBL-ROV 2004 S\\u00e4ckenrevet alfa_frame_93750_8.jpg\"], [214, 45881599, \"Deep water coral\", 250.0, 155.0, 230.0, 214.0, \"https://panoptes-uploads.zooniverse.org/subject_location/9fab9e40-7dec-4e3a-b486-d2499f492f8d.jpeg\", \"frame\", \"./frames/040220 TMBL-ROV 2004 S\\u00e4ckenrevet alfa_frame_93775_8.jpg\"], [215, 45881562, \"Deep water coral\", 240.0, 273.0, 220.0, 193.0, \"https://panoptes-uploads.zooniverse.org/subject_location/ef59c069-6714-4c38-a121-dc54f2abcf21.jpeg\", \"frame\", \"./frames/040220 TMBL-ROV 2004 S\\u00e4ckenrevet alfa_frame_9750_8.jpg\"], [216, 45881563, \"Deep water coral\", 220.0, 288.0, 256.0, 177.0, \"https://panoptes-uploads.zooniverse.org/subject_location/59aa78e0-cdb9-4fbc-9ae3-9ac9c43639cc.jpeg\", \"frame\", \"./frames/040220 TMBL-ROV 2004 S\\u00e4ckenrevet alfa_frame_9775_8.jpg\"], [217, 45881602, \"Deep water coral\", 335.0, 247.0, 134.5, 161.0, \"https://panoptes-uploads.zooniverse.org/subject_location/1e877b30-d9b9-4b97-b64f-2ff2db510115.jpeg\", \"frame\", \"./frames/040522 TMBL-ROV 2004 S\\u00e4ckenrevet_frame_14250_8.jpg\"], [218, 45881603, \"Deep water coral\", 370.0, 142.5, 140.0, 198.5, \"https://panoptes-uploads.zooniverse.org/subject_location/9e8f718b-078e-464d-bc44-f0d86f0b7e69.jpeg\", \"frame\", \"./frames/040522 TMBL-ROV 2004 S\\u00e4ckenrevet_frame_14275_8.jpg\"], [219, 45881600, \"Deep water coral\", 309.0, 420.0, 245.5, 154.0, \"https://panoptes-uploads.zooniverse.org/subject_location/bfac093d-c691-479c-aac8-e6dd4d7001bd.jpeg\", \"frame\", \"./frames/040522 TMBL-ROV 2004 S\\u00e4ckenrevet_frame_4500_8.jpg\"], [220, 45881612, \"Deep water coral\", 14.0, 90.5, 209.5, 318.0, \"https://panoptes-uploads.zooniverse.org/subject_location/0b22a02a-c574-4323-bdb4-b0b633558bf1.jpeg\", \"frame\", \"./frames/040522 TMBL-ROV 2004 S\\u00e4ckenrevet_frame_61500_8.jpg\"], [221, 45881617, \"Deep water coral\", 270.0, 351.0, 129.0, 126.0, \"https://panoptes-uploads.zooniverse.org/subject_location/525bfa45-8ee9-4c0a-947c-77df79de366d.jpeg\", \"frame\", \"./frames/040522 TMBL-ROV 2004 S\\u00e4ckenrevet_frame_91525_8.jpg\"], [222, 45881434, \"Deep water coral\", 256.0, 222.0, 184.0, 237.0, \"https://panoptes-uploads.zooniverse.org/subject_location/3f740d2d-f948-42f0-bd89-4e450e3cc5ad.jpeg\", \"frame\", \"./frames/990506 TMBL-ROV 1999 Revet S\\u00e4cken 2 Tape 42_frame_11250_8.jpg\"], [223, 45881435, \"Deep water coral\", 265.0, 192.0, 203.0, 228.0, \"https://panoptes-uploads.zooniverse.org/subject_location/277e9991-e5db-479d-8729-8de6c6b74b40.jpeg\", \"frame\", \"./frames/990506 TMBL-ROV 1999 Revet S\\u00e4cken 2 Tape 42_frame_11275_8.jpg\"], [224, 45881451, \"Deep water coral\", 302.0, 181.0, 138.0, 137.0, \"https://panoptes-uploads.zooniverse.org/subject_location/787b0c55-c2c1-482c-9985-06a31192f86d.jpeg\", \"frame\", \"./frames/990506 TMBL-ROV 1999 Revet S\\u00e4cken 2 Tape 42_frame_123800_8.jpg\"], [225, 45881476, \"Deep water coral\", 393.5, 175.0, 119.0, 92.0, \"https://panoptes-uploads.zooniverse.org/subject_location/425f62b9-e947-4dcc-9012-0a94befa9473.jpeg\", \"frame\", \"./frames/990506 TMBL-ROV 1999 Revet S\\u00e4cken 2 Tape 42_frame_141075_8.jpg\"], [226, 45881477, \"Deep water coral\", 396.0, 249.0, 143.0, 117.0, \"https://panoptes-uploads.zooniverse.org/subject_location/640ccef7-cb71-4d48-b81e-dd9b1beaa50b.jpeg\", \"frame\", \"./frames/990506 TMBL-ROV 1999 Revet S\\u00e4cken 2 Tape 42_frame_141100_8.jpg\"], [227, 45881459, \"Deep water coral\", 173.0, 202.0, 439.5, 381.0, \"https://panoptes-uploads.zooniverse.org/subject_location/f1d0cb49-f999-4877-8a45-faeb68647d5d.jpeg\", \"frame\", \"./frames/990506 TMBL-ROV 1999 Revet S\\u00e4cken 2 Tape 42_frame_14275_8.jpg\"], [228, 45881438, \"Deep water coral\", 300.0, 154.5, 52.5, 65.0, \"https://panoptes-uploads.zooniverse.org/subject_location/fba730a3-ee62-4695-ac0d-fe4d04da1136.jpeg\", \"frame\", \"./frames/990506 TMBL-ROV 1999 Revet S\\u00e4cken 2 Tape 42_frame_15775_8.jpg\"], [229, 45881441, \"Deep water coral\", 381.0, 298.0, 64.0, 90.0, \"https://panoptes-uploads.zooniverse.org/subject_location/2350e9aa-1237-45ae-bc5b-59af9f2240ad.jpeg\", \"frame\", \"./frames/990506 TMBL-ROV 1999 Revet S\\u00e4cken 2 Tape 42_frame_21925_8.jpg\"], [230, 45881461, \"Deep water coral\", 237.0, 378.0, 107.0, 95.0, \"https://panoptes-uploads.zooniverse.org/subject_location/4ef7db40-d7dc-4703-b60d-e4bf719310f0.jpeg\", \"frame\", \"./frames/990506 TMBL-ROV 1999 Revet S\\u00e4cken 2 Tape 42_frame_27075_8.jpg\"], [231, 45881462, \"Deep water coral\", 411.5, 272.0, 153.5, 162.5, \"https://panoptes-uploads.zooniverse.org/subject_location/d696eca7-5f2a-4638-b995-dd87f84c86eb.jpeg\", \"frame\", \"./frames/990506 TMBL-ROV 1999 Revet S\\u00e4cken 2 Tape 42_frame_30000_8.jpg\"], [232, 45881470, \"Deep water coral\", 18.0, 335.0, 168.0, 156.0, \"https://panoptes-uploads.zooniverse.org/subject_location/62e0cf94-8fbe-46ad-87af-d6a41daa9923.jpeg\", \"frame\", \"./frames/990506 TMBL-ROV 1999 Revet S\\u00e4cken 2 Tape 42_frame_66750_8.jpg\"], [233, 45881471, \"Deep water coral\", 60.5, 292.5, 152.0, 137.0, \"https://panoptes-uploads.zooniverse.org/subject_location/fa413cea-5f76-43ea-8fed-c4d1280d2bb6.jpeg\", \"frame\", \"./frames/990506 TMBL-ROV 1999 Revet S\\u00e4cken 2 Tape 42_frame_66775_8.jpg\"], [234, 45881457, \"Deep water coral\", 230.5, 10.0, 339.0, 567.0, \"https://panoptes-uploads.zooniverse.org/subject_location/972b247d-2e83-4ad4-88dc-653ec279ae86.jpeg\", \"frame\", \"./frames/990506 TMBL-ROV 1999 Revet S\\u00e4cken 2 Tape 42_frame_7550_8.jpg\"], [235, 45881479, \"Deep water coral\", 157.5, 293.5, 367.0, 218.5, \"https://panoptes-uploads.zooniverse.org/subject_location/36055a08-5c6c-43cd-af0d-aa9c602e5dad.jpeg\", \"frame\", \"./frames/990506 TMBL-ROV 1999 Revet S\\u00e4cken Tape 42_SELECTWS_frame_30775_8.jpg\"], [236, 45881480, \"Deep water coral\", 409.0, 181.0, 296.0, 183.0, \"https://panoptes-uploads.zooniverse.org/subject_location/2364a3b1-532b-48a2-9d6e-edfa7a78546d.jpeg\", \"frame\", \"./frames/990506 TMBL-ROV 1999 Revet S\\u00e4cken Tape 42_SELECTWS_frame_33162_8.jpg\"], [237, 45881481, \"Deep water coral\", 317.0, 168.0, 320.0, 214.0, \"https://panoptes-uploads.zooniverse.org/subject_location/4f44b4b8-b57e-4a41-9e59-fe489f1c6b5a.jpeg\", \"frame\", \"./frames/990506 TMBL-ROV 1999 Revet S\\u00e4cken Tape 42_SELECTWS_frame_33187_8.jpg\"], [238, 45881483, \"Deep water coral\", 305.5, 90.5, 118.5, 110.5, \"https://panoptes-uploads.zooniverse.org/subject_location/1e273c8b-7189-422b-ba34-e65c2a8d2712.jpeg\", \"frame\", \"./frames/990506 TMBL-ROV 1999 Revet S\\u00e4cken Tape 42_SELECTWS_frame_57875_8.jpg\"], [239, 45881485, \"Deep water coral\", 285.0, 233.0, 98.0, 66.0, \"https://panoptes-uploads.zooniverse.org/subject_location/eb32dc67-848c-47ba-8d6c-10b74d99e3b9.jpeg\", \"frame\", \"./frames/990506 TMBL-ROV 1999 Revet S\\u00e4cken Tape 42_SELECTWS_frame_76725_8.jpg\"], [240, 45881489, \"Deep water coral\", 191.0, 127.5, 246.0, 249.5, \"https://panoptes-uploads.zooniverse.org/subject_location/ac0a4588-c39b-4ada-8fb6-eb0019e71dd7.jpeg\", \"frame\", \"./frames/990813 TMBL-ROV 1999 Stor\\u00f6-Tors\\u00f6 Utsidan r\\u00e4nnan tape 48_frame_76537_8.jpg\"], [241, 45881631, \"empty\", NaN, NaN, NaN, NaN, \"https://panoptes-uploads.zooniverse.org/subject_location/800aa179-106e-4b63-bb6c-c22893c37bba.jpeg\", \"frame\", \"./frames/000114 TMBL-ROV 2000 S\\u00e4ckenrevet EJ numrerade band_frame_9062_8.jpg\"], [242, 45881597, \"empty\", NaN, NaN, NaN, NaN, \"https://panoptes-uploads.zooniverse.org/subject_location/13c5fb73-1c55-44f8-a8d3-b3b7c50b8370.jpeg\", \"frame\", \"./frames/040220 TMBL-ROV 2004 S\\u00e4ckenrevet alfa_frame_92275_8.jpg\"], [243, 45881545, \"empty\", NaN, NaN, NaN, NaN, \"https://panoptes-uploads.zooniverse.org/subject_location/8e430053-51b7-4b3d-826d-44d8ccbaa286.jpeg\", \"frame\", \"./frames/030325 TMBL-ROV 2003 S\\u00e4ckenrevet bioerosion_frame_82550_8.jpg\"], [244, 45881630, \"empty\", NaN, NaN, NaN, NaN, \"https://panoptes-uploads.zooniverse.org/subject_location/700abec8-600b-466b-a8cb-208c4e46449b.jpeg\", \"frame\", \"./frames/000114 TMBL-ROV 2000 S\\u00e4ckenrevet EJ numrerade band_frame_9037_8.jpg\"], [245, 45881580, \"empty\", NaN, NaN, NaN, NaN, \"https://panoptes-uploads.zooniverse.org/subject_location/05e40c13-1f19-4e65-8269-e5bc69f91b1d.jpeg\", \"frame\", \"./frames/040220 TMBL-ROV 2004 S\\u00e4ckenrevet alfa_frame_33000_8.jpg\"], [246, 45881544, \"empty\", NaN, NaN, NaN, NaN, \"https://panoptes-uploads.zooniverse.org/subject_location/4dff9783-1d09-4068-aac1-a22b0ab6573a.jpeg\", \"frame\", \"./frames/030325 TMBL-ROV 2003 S\\u00e4ckenrevet bioerosion_frame_82525_8.jpg\"], [247, 45881488, \"empty\", NaN, NaN, NaN, NaN, \"https://panoptes-uploads.zooniverse.org/subject_location/d59e1b49-185b-44f5-ab0e-8334ad26a3c1.jpeg\", \"frame\", \"./frames/990813 TMBL-ROV 1999 Stor\\u00f6-Tors\\u00f6 Utsidan r\\u00e4nnan tape 48_frame_76512_8.jpg\"], [248, 45881444, \"empty\", NaN, NaN, NaN, NaN, \"https://panoptes-uploads.zooniverse.org/subject_location/731046bd-2b8b-4fcd-9743-cf8974e34096.jpeg\", \"frame\", \"./frames/990506 TMBL-ROV 1999 Revet S\\u00e4cken 2 Tape 42_frame_29250_8.jpg\"], [249, 45881466, \"empty\", NaN, NaN, NaN, NaN, \"https://panoptes-uploads.zooniverse.org/subject_location/719ebf74-3fbf-43cb-b7a6-c364e5fc8e2a.jpeg\", \"frame\", \"./frames/990506 TMBL-ROV 1999 Revet S\\u00e4cken 2 Tape 42_frame_42850_8.jpg\"], [250, 45881445, \"empty\", NaN, NaN, NaN, NaN, \"https://panoptes-uploads.zooniverse.org/subject_location/4e9981dc-616a-4cfe-8f90-c9f65128e848.jpeg\", \"frame\", \"./frames/990506 TMBL-ROV 1999 Revet S\\u00e4cken 2 Tape 42_frame_29275_8.jpg\"], [251, 45881376, \"empty\", NaN, NaN, NaN, NaN, \"https://panoptes-uploads.zooniverse.org/subject_location/cdd89c03-6498-424d-867a-edcc2b00a8c9.jpeg\", \"frame\", \"./frames/010424 S\\u00e4ckenrevet alfa Tape 74_frame_45050_8.jpg\"], [252, 45881546, \"empty\", NaN, NaN, NaN, NaN, \"https://panoptes-uploads.zooniverse.org/subject_location/59d85cd3-9cb4-4740-b1f5-44d911a4c31b.jpeg\", \"frame\", \"./frames/030325 TMBL-ROV 2003 S\\u00e4ckenrevet bioerosion_frame_143350_8.jpg\"], [253, 45881618, \"empty\", NaN, NaN, NaN, NaN, \"https://panoptes-uploads.zooniverse.org/subject_location/8eb66090-06c6-4fbc-ac03-a43730d9cc7c.jpeg\", \"frame\", \"./frames/040522 TMBL-ROV 2004 S\\u00e4ckenrevet_frame_94675_8.jpg\"], [254, 45881726, \"empty\", NaN, NaN, NaN, NaN, \"https://panoptes-uploads.zooniverse.org/subject_location/4e179039-321f-48ff-8a7f-af347f204247.jpeg\", \"frame\", \"./frames/000203 TMBL-ROV 2000 s\\u00e4cken Tape 56_frame_35250_8.jpg\"], [255, 45881684, \"empty\", NaN, NaN, NaN, NaN, \"https://panoptes-uploads.zooniverse.org/subject_location/f94d9465-4def-44a8-a83f-ff77eece671d.jpeg\", \"frame\", \"./frames/000114 TMBL-ROV 2000 S\\u00e4ckenrevet Tape 55_frame_146375_8.jpg\"], [256, 45881573, \"empty\", NaN, NaN, NaN, NaN, \"https://panoptes-uploads.zooniverse.org/subject_location/e74cbaf7-d34b-42f5-8268-66320b39cf78.jpeg\", \"frame\", \"./frames/040220 TMBL-ROV 2004 S\\u00e4ckenrevet alfa_frame_25525_8.jpg\"], [257, 45881574, \"empty\", NaN, NaN, NaN, NaN, \"https://panoptes-uploads.zooniverse.org/subject_location/6594ac78-048f-4d0d-bae4-22b6406c0392.jpeg\", \"frame\", \"./frames/040220 TMBL-ROV 2004 S\\u00e4ckenrevet alfa_frame_26300_8.jpg\"], [258, 45881564, \"empty\", NaN, NaN, NaN, NaN, \"https://panoptes-uploads.zooniverse.org/subject_location/aa2f1f07-24a7-4efa-b304-0eadf53aafc9.jpeg\", \"frame\", \"./frames/040220 TMBL-ROV 2004 S\\u00e4ckenrevet alfa_frame_16525_8.jpg\"], [259, 45881576, \"empty\", NaN, NaN, NaN, NaN, \"https://panoptes-uploads.zooniverse.org/subject_location/23957b94-6ab1-4dd3-8b8f-5e275c838482.jpeg\", \"frame\", \"./frames/040220 TMBL-ROV 2004 S\\u00e4ckenrevet alfa_frame_30000_8.jpg\"], [260, 45881443, \"empty\", NaN, NaN, NaN, NaN, \"https://panoptes-uploads.zooniverse.org/subject_location/d41f0de6-6978-42dd-b748-a28c52f7bf41.jpeg\", \"frame\", \"./frames/990506 TMBL-ROV 1999 Revet S\\u00e4cken 2 Tape 42_frame_26350_8.jpg\"], [261, 45881252, \"empty\", NaN, NaN, NaN, NaN, \"https://panoptes-uploads.zooniverse.org/subject_location/4eb541ad-1dfe-41a5-a4ba-1715c7163e9c.jpeg\", \"frame\", \"./frames/000203 TMBL-ROV 2000 S\\u00e4cken revet EJ numrerade band_frame_34575_8.jpg\"], [262, 45881259, \"empty\", NaN, NaN, NaN, NaN, \"https://panoptes-uploads.zooniverse.org/subject_location/9143bc1c-7b66-481a-b63c-20baf76cade0.jpeg\", \"frame\", \"./frames/000203 TMBL-ROV 2000 S\\u00e4cken revet EJ numrerade band_frame_39775_8.jpg\"], [263, 45881442, \"empty\", NaN, NaN, NaN, NaN, \"https://panoptes-uploads.zooniverse.org/subject_location/4912f56e-03a7-4ce2-893f-e88e0b94dbbb.jpeg\", \"frame\", \"./frames/990506 TMBL-ROV 1999 Revet S\\u00e4cken 2 Tape 42_frame_26325_8.jpg\"], [264, 45881685, \"empty\", NaN, NaN, NaN, NaN, \"https://panoptes-uploads.zooniverse.org/subject_location/8600dd88-b192-4880-aa51-5a8295595de4.jpeg\", \"frame\", \"./frames/000114 TMBL-ROV 2000 S\\u00e4ckenrevet Tape 55_frame_146400_8.jpg\"], [265, 45881575, \"empty\", NaN, NaN, NaN, NaN, \"https://panoptes-uploads.zooniverse.org/subject_location/1c70b5c9-179b-4da8-ae71-feb8b6b5a3d2.jpeg\", \"frame\", \"./frames/040220 TMBL-ROV 2004 S\\u00e4ckenrevet alfa_frame_26325_8.jpg\"], [266, 59837856, \"empty\", NaN, NaN, NaN, NaN, \"https://panoptes-uploads.zooniverse.org/subject_location/f06a565d-e79d-4a6c-a37c-b96749d7037e.jpeg\", \"frame\", \"None\"], [267, 59838141, \"empty\", NaN, NaN, NaN, NaN, \"https://panoptes-uploads.zooniverse.org/subject_location/38a7f316-6b97-44c1-9147-a639df4c2c3c.jpeg\", \"frame\", \"None\"], [268, 59837964, \"empty\", NaN, NaN, NaN, NaN, \"https://panoptes-uploads.zooniverse.org/subject_location/979eedff-0935-4647-91f7-d4d67bc368b7.jpeg\", \"frame\", \"None\"], [269, 59838000, \"empty\", NaN, NaN, NaN, NaN, \"https://panoptes-uploads.zooniverse.org/subject_location/2699362f-8452-4dfb-a493-33442b788aff.jpeg\", \"frame\", \"None\"], [270, 59838991, \"empty\", NaN, NaN, NaN, NaN, \"https://panoptes-uploads.zooniverse.org/subject_location/c69b71b6-3a89-497e-87ac-55f6c4fd700b.jpeg\", \"frame\", \"None\"], [271, 59837970, \"empty\", NaN, NaN, NaN, NaN, \"https://panoptes-uploads.zooniverse.org/subject_location/d33317c7-5e98-4913-9ad1-fc4588e363e2.jpeg\", \"frame\", \"None\"], [272, 59839264, \"empty\", NaN, NaN, NaN, NaN, \"https://panoptes-uploads.zooniverse.org/subject_location/d312861a-ed52-4d17-bb07-76fdb4f2aca7.jpeg\", \"frame\", \"None\"], [273, 59838536, \"empty\", NaN, NaN, NaN, NaN, \"https://panoptes-uploads.zooniverse.org/subject_location/09a84514-0dac-4c58-bde5-a3d52572365c.jpeg\", \"frame\", \"None\"], [274, 59839217, \"empty\", NaN, NaN, NaN, NaN, \"https://panoptes-uploads.zooniverse.org/subject_location/7d619adb-54df-4412-bf8c-f6a2a1518eeb.jpeg\", \"frame\", \"None\"], [275, 59838708, \"empty\", NaN, NaN, NaN, NaN, \"https://panoptes-uploads.zooniverse.org/subject_location/c4901f8e-a098-41f1-86e6-e8dc5e3cdedd.jpeg\", \"frame\", \"None\"], [276, 59838117, \"empty\", NaN, NaN, NaN, NaN, \"https://panoptes-uploads.zooniverse.org/subject_location/602b2014-7c28-42df-8661-f600c9bc61bb.jpeg\", \"frame\", \"None\"], [277, 59837859, \"empty\", NaN, NaN, NaN, NaN, \"https://panoptes-uploads.zooniverse.org/subject_location/b4114677-6dfe-4a23-95c2-7efd501d7937.jpeg\", \"frame\", \"None\"], [278, 59838448, \"empty\", NaN, NaN, NaN, NaN, \"https://panoptes-uploads.zooniverse.org/subject_location/c2dae356-e4e3-4d9a-9a0f-323a31c55ff3.jpeg\", \"frame\", \"None\"], [279, 59837797, \"empty\", NaN, NaN, NaN, NaN, \"https://panoptes-uploads.zooniverse.org/subject_location/5aab0900-2434-4132-ba34-0d576348a3b6.jpeg\", \"frame\", \"None\"], [280, 59837826, \"empty\", NaN, NaN, NaN, NaN, \"https://panoptes-uploads.zooniverse.org/subject_location/e7464206-2e0f-4b12-b10a-6b9c8943d135.jpeg\", \"frame\", \"None\"], [281, 59839473, \"empty\", NaN, NaN, NaN, NaN, \"https://panoptes-uploads.zooniverse.org/subject_location/e3af5f8e-787e-4c2f-8f21-594e43d59990.jpeg\", \"frame\", \"None\"], [282, 59838567, \"empty\", NaN, NaN, NaN, NaN, \"https://panoptes-uploads.zooniverse.org/subject_location/b438205d-8884-44b0-96d6-5e07cdfe3969.jpeg\", \"frame\", \"None\"], [283, 59839329, \"empty\", NaN, NaN, NaN, NaN, \"https://panoptes-uploads.zooniverse.org/subject_location/98086cea-f2b9-41c5-a57d-9e65264dac28.jpeg\", \"frame\", \"None\"], [284, 59838977, \"empty\", NaN, NaN, NaN, NaN, \"https://panoptes-uploads.zooniverse.org/subject_location/6a5fdf80-efdf-4b4c-a94d-cf0e44bc4983.jpeg\", \"frame\", \"None\"], [285, 59838198, \"empty\", NaN, NaN, NaN, NaN, \"https://panoptes-uploads.zooniverse.org/subject_location/fc7a771d-f2f0-4c14-a046-99f1b67fc307.jpeg\", \"frame\", \"None\"], [286, 59838265, \"empty\", NaN, NaN, NaN, NaN, \"https://panoptes-uploads.zooniverse.org/subject_location/5673705a-de51-4866-8ff1-30ea260a4767.jpeg\", \"frame\", \"None\"], [287, 59837952, \"empty\", NaN, NaN, NaN, NaN, \"https://panoptes-uploads.zooniverse.org/subject_location/d8d9a818-de16-4d11-bd26-7d12697f229a.jpeg\", \"frame\", \"None\"], [288, 59837790, \"empty\", NaN, NaN, NaN, NaN, \"https://panoptes-uploads.zooniverse.org/subject_location/5d4024d3-7c29-4795-ab94-95b97a1e8806.jpeg\", \"frame\", \"None\"], [289, 59839112, \"empty\", NaN, NaN, NaN, NaN, \"https://panoptes-uploads.zooniverse.org/subject_location/29f5c4cb-8e81-4f6a-86f3-388f765c19f0.jpeg\", \"frame\", \"None\"], [290, 59838568, \"empty\", NaN, NaN, NaN, NaN, \"https://panoptes-uploads.zooniverse.org/subject_location/1a5767cd-4bc7-47d1-9b14-3bc90509454b.jpeg\", \"frame\", \"None\"], [291, 59838544, \"empty\", NaN, NaN, NaN, NaN, \"https://panoptes-uploads.zooniverse.org/subject_location/12017061-eac1-41f9-a034-7d96ae359f26.jpeg\", \"frame\", \"None\"], [292, 59838821, \"empty\", NaN, NaN, NaN, NaN, \"https://panoptes-uploads.zooniverse.org/subject_location/3df15b79-1394-4e13-b605-aa8c45657144.jpeg\", \"frame\", \"None\"], [293, 59837791, \"empty\", NaN, NaN, NaN, NaN, \"https://panoptes-uploads.zooniverse.org/subject_location/593cb0b7-2711-471c-b6f4-117cce1cc5f2.jpeg\", \"frame\", \"None\"], [294, 59838420, \"empty\", NaN, NaN, NaN, NaN, \"https://panoptes-uploads.zooniverse.org/subject_location/51b335c4-c36c-415d-8da0-3d2fe2291c4c.jpeg\", \"frame\", \"None\"], [295, 59837838, \"empty\", NaN, NaN, NaN, NaN, \"https://panoptes-uploads.zooniverse.org/subject_location/020e02ff-95d0-4294-b0d9-f4def56497f3.jpeg\", \"frame\", \"None\"], [296, 59837957, \"empty\", NaN, NaN, NaN, NaN, \"https://panoptes-uploads.zooniverse.org/subject_location/77824945-8b97-49f8-9d30-164233f4ead0.jpeg\", \"frame\", \"None\"], [297, 59838706, \"empty\", NaN, NaN, NaN, NaN, \"https://panoptes-uploads.zooniverse.org/subject_location/e9cd116c-b975-4eb2-b83f-3210483af981.jpeg\", \"frame\", \"None\"], [298, 59838780, \"empty\", NaN, NaN, NaN, NaN, \"https://panoptes-uploads.zooniverse.org/subject_location/f528f23e-8a5d-46fc-90cf-a7c2d6d87b59.jpeg\", \"frame\", \"None\"], [299, 59837993, \"empty\", NaN, NaN, NaN, NaN, \"https://panoptes-uploads.zooniverse.org/subject_location/2158c723-ea46-49ed-a043-cb06c0f09fc0.jpeg\", \"frame\", \"None\"], [300, 59838038, \"empty\", NaN, NaN, NaN, NaN, \"https://panoptes-uploads.zooniverse.org/subject_location/ffad1e3d-ff9a-4f6e-9787-fdcc3c97cfc1.jpeg\", \"frame\", \"None\"], [301, 59839495, \"empty\", NaN, NaN, NaN, NaN, \"https://panoptes-uploads.zooniverse.org/subject_location/bdff8f10-2414-42ff-b4d2-3c8cbc73a1ea.jpeg\", \"frame\", \"None\"], [302, 59837839, \"empty\", NaN, NaN, NaN, NaN, \"https://panoptes-uploads.zooniverse.org/subject_location/912f34cf-524e-4656-ab06-74857d49aad8.jpeg\", \"frame\", \"None\"], [303, 59837977, \"empty\", NaN, NaN, NaN, NaN, \"https://panoptes-uploads.zooniverse.org/subject_location/d8b9b0e6-e36b-4c65-97b2-9b1855a00c22.jpeg\", \"frame\", \"None\"], [304, 59838004, \"empty\", NaN, NaN, NaN, NaN, \"https://panoptes-uploads.zooniverse.org/subject_location/2151c017-18a9-44b1-abf0-15883c68ab0a.jpeg\", \"frame\", \"None\"], [305, 59837969, \"empty\", NaN, NaN, NaN, NaN, \"https://panoptes-uploads.zooniverse.org/subject_location/5a7ad607-c239-4470-952b-07322e6bd094.jpeg\", \"frame\", \"None\"], [306, 59839297, \"empty\", NaN, NaN, NaN, NaN, \"https://panoptes-uploads.zooniverse.org/subject_location/a99dbad7-0b88-4a45-b14f-e23ca33a2f58.jpeg\", \"frame\", \"None\"], [307, 59839254, \"empty\", NaN, NaN, NaN, NaN, \"https://panoptes-uploads.zooniverse.org/subject_location/20e76835-99c5-4aaf-a445-2f09aceb0c06.jpeg\", \"frame\", \"None\"], [308, 59839372, \"empty\", NaN, NaN, NaN, NaN, \"https://panoptes-uploads.zooniverse.org/subject_location/1414ef7e-32c7-4c8b-8b92-236a811b7b4c.jpeg\", \"frame\", \"None\"], [309, 59838426, \"empty\", NaN, NaN, NaN, NaN, \"https://panoptes-uploads.zooniverse.org/subject_location/10380c69-c99e-45ff-b419-eabe4d1757b5.jpeg\", \"frame\", \"None\"], [310, 59838778, \"empty\", NaN, NaN, NaN, NaN, \"https://panoptes-uploads.zooniverse.org/subject_location/636a8fdc-b0d0-4e38-9f81-89d1dcd1742b.jpeg\", \"frame\", \"None\"], [311, 59837895, \"empty\", NaN, NaN, NaN, NaN, \"https://panoptes-uploads.zooniverse.org/subject_location/e4671295-9dd2-4848-b6a2-a98fa13ecf8c.jpeg\", \"frame\", \"None\"], [312, 59838207, \"empty\", NaN, NaN, NaN, NaN, \"https://panoptes-uploads.zooniverse.org/subject_location/1166f45c-b8e5-43c1-a95b-0724aa75fff5.jpeg\", \"frame\", \"None\"], [313, 59838239, \"empty\", NaN, NaN, NaN, NaN, \"https://panoptes-uploads.zooniverse.org/subject_location/704f2595-4258-4d7e-8367-cfb682a72cd0.jpeg\", \"frame\", \"None\"], [314, 59838633, \"empty\", NaN, NaN, NaN, NaN, \"https://panoptes-uploads.zooniverse.org/subject_location/7d5072fc-75c9-49a5-9e30-6c5006702455.jpeg\", \"frame\", \"None\"], [315, 59837759, \"empty\", NaN, NaN, NaN, NaN, \"https://panoptes-uploads.zooniverse.org/subject_location/0be33c3e-25d1-48fe-b92f-d1573c89a0eb.jpeg\", \"frame\", \"None\"], [316, 59837792, \"empty\", NaN, NaN, NaN, NaN, \"https://panoptes-uploads.zooniverse.org/subject_location/4e7a1da3-143d-4f5c-928f-740246004a8c.jpeg\", \"frame\", \"None\"], [317, 59837799, \"empty\", NaN, NaN, NaN, NaN, \"https://panoptes-uploads.zooniverse.org/subject_location/4b0bbaf5-31a0-462f-ad7a-de23f419784e.jpeg\", \"frame\", \"None\"], [318, 59838657, \"empty\", NaN, NaN, NaN, NaN, \"https://panoptes-uploads.zooniverse.org/subject_location/f3589e42-4bd6-49d1-b57f-cd89fa428ee9.jpeg\", \"frame\", \"None\"], [319, 59838044, \"empty\", NaN, NaN, NaN, NaN, \"https://panoptes-uploads.zooniverse.org/subject_location/b25a9c6f-1827-4f62-a073-874695b411de.jpeg\", \"frame\", \"None\"], [320, 59838303, \"empty\", NaN, NaN, NaN, NaN, \"https://panoptes-uploads.zooniverse.org/subject_location/4adb3d41-0fb5-49e1-932c-fb5b63ebb87f.jpeg\", \"frame\", \"None\"], [321, 59838863, \"empty\", NaN, NaN, NaN, NaN, \"https://panoptes-uploads.zooniverse.org/subject_location/1299b034-afb7-4dd6-a1b4-ebd5248fbf08.jpeg\", \"frame\", \"None\"], [322, 59838115, \"empty\", NaN, NaN, NaN, NaN, \"https://panoptes-uploads.zooniverse.org/subject_location/0c5c7754-ee69-44cc-be46-2a1b4712364a.jpeg\", \"frame\", \"None\"], [323, 59839256, \"empty\", NaN, NaN, NaN, NaN, \"https://panoptes-uploads.zooniverse.org/subject_location/3f75e8dd-ac77-491c-80b2-c7c3cf9207a6.jpeg\", \"frame\", \"None\"], [324, 59838118, \"empty\", NaN, NaN, NaN, NaN, \"https://panoptes-uploads.zooniverse.org/subject_location/f165ebdf-b43f-4a09-92e0-82748d8782c9.jpeg\", \"frame\", \"None\"], [325, 59839293, \"empty\", NaN, NaN, NaN, NaN, \"https://panoptes-uploads.zooniverse.org/subject_location/d32820b9-7001-46b5-9faf-785bd73bde44.jpeg\", \"frame\", \"None\"], [326, 59837958, \"empty\", NaN, NaN, NaN, NaN, \"https://panoptes-uploads.zooniverse.org/subject_location/f35c1f9a-76a2-41c3-859d-3411a442e085.jpeg\", \"frame\", \"None\"], [327, 59839517, \"empty\", NaN, NaN, NaN, NaN, \"https://panoptes-uploads.zooniverse.org/subject_location/98438848-0f79-4df3-8849-ccddc46ed452.jpeg\", \"frame\", \"None\"], [328, 59838114, \"empty\", NaN, NaN, NaN, NaN, \"https://panoptes-uploads.zooniverse.org/subject_location/e1993caa-6111-48f1-86e0-9d4bf09ec4bd.jpeg\", \"frame\", \"None\"], [329, 59838578, \"empty\", NaN, NaN, NaN, NaN, \"https://panoptes-uploads.zooniverse.org/subject_location/18975675-8347-48d4-a200-e93ab236062d.jpeg\", \"frame\", \"None\"], [330, 59837794, \"empty\", NaN, NaN, NaN, NaN, \"https://panoptes-uploads.zooniverse.org/subject_location/12e55c82-fc84-4df6-9f04-f66dd13191d1.jpeg\", \"frame\", \"None\"], [331, 59839290, \"empty\", NaN, NaN, NaN, NaN, \"https://panoptes-uploads.zooniverse.org/subject_location/c93483d4-bb6d-490c-a6de-1df4d8cd1bbb.jpeg\", \"frame\", \"None\"], [332, 59837808, \"empty\", NaN, NaN, NaN, NaN, \"https://panoptes-uploads.zooniverse.org/subject_location/3740ae1d-f6bc-48b0-8b36-fe16c77eeec9.jpeg\", \"frame\", \"None\"], [333, 59837848, \"empty\", NaN, NaN, NaN, NaN, \"https://panoptes-uploads.zooniverse.org/subject_location/5fd04686-f75b-4e19-a9b8-91021c59f486.jpeg\", \"frame\", \"None\"], [334, 59838013, \"empty\", NaN, NaN, NaN, NaN, \"https://panoptes-uploads.zooniverse.org/subject_location/23b698bd-892e-4cce-b701-698e573a3cdb.jpeg\", \"frame\", \"None\"], [335, 59838920, \"empty\", NaN, NaN, NaN, NaN, \"https://panoptes-uploads.zooniverse.org/subject_location/34908338-537b-46c9-ade9-c5c6fe5e8da4.jpeg\", \"frame\", \"None\"], [336, 59837763, \"empty\", NaN, NaN, NaN, NaN, \"https://panoptes-uploads.zooniverse.org/subject_location/38b5f40c-0fb3-4b1d-82f7-7c65af1bf32e.jpeg\", \"frame\", \"None\"], [337, 59837851, \"empty\", NaN, NaN, NaN, NaN, \"https://panoptes-uploads.zooniverse.org/subject_location/55f47e82-c67b-49c2-a7ed-9a60c5ab28bd.jpeg\", \"frame\", \"None\"], [338, 59837836, \"empty\", NaN, NaN, NaN, NaN, \"https://panoptes-uploads.zooniverse.org/subject_location/a4b32139-9c17-4723-82ec-f29af74b0898.jpeg\", \"frame\", \"None\"], [339, 59837866, \"empty\", NaN, NaN, NaN, NaN, \"https://panoptes-uploads.zooniverse.org/subject_location/bac53aad-56e5-43d8-b6a9-73c32d4815e7.jpeg\", \"frame\", \"None\"], [340, 59838560, \"empty\", NaN, NaN, NaN, NaN, \"https://panoptes-uploads.zooniverse.org/subject_location/a32ecf66-63be-4bf5-800f-90116f6335f4.jpeg\", \"frame\", \"None\"], [341, 59839322, \"empty\", NaN, NaN, NaN, NaN, \"https://panoptes-uploads.zooniverse.org/subject_location/358f1340-9455-40e8-80bb-233b8fc4e702.jpeg\", \"frame\", \"None\"], [342, 59838075, \"empty\", NaN, NaN, NaN, NaN, \"https://panoptes-uploads.zooniverse.org/subject_location/9d27df5f-e403-4568-9e8d-3c7cf0cf5f46.jpeg\", \"frame\", \"None\"], [343, 59838719, \"empty\", NaN, NaN, NaN, NaN, \"https://panoptes-uploads.zooniverse.org/subject_location/057f5327-ff66-41eb-8df4-245a3b38ae5f.jpeg\", \"frame\", \"None\"], [344, 59837968, \"empty\", NaN, NaN, NaN, NaN, \"https://panoptes-uploads.zooniverse.org/subject_location/97b8ea4f-c13e-4fd7-8a7b-9b80250b601a.jpeg\", \"frame\", \"None\"], [345, 59837863, \"empty\", NaN, NaN, NaN, NaN, \"https://panoptes-uploads.zooniverse.org/subject_location/d48a9d34-eaf7-40de-9818-00b2bb75c1f3.jpeg\", \"frame\", \"None\"], [346, 59837986, \"empty\", NaN, NaN, NaN, NaN, \"https://panoptes-uploads.zooniverse.org/subject_location/9c3b073d-9245-46bc-8352-d8af7e8a2b45.jpeg\", \"frame\", \"None\"], [347, 59839518, \"empty\", NaN, NaN, NaN, NaN, \"https://panoptes-uploads.zooniverse.org/subject_location/3c29666e-eca9-41b0-abce-27ccf1fbee78.jpeg\", \"frame\", \"None\"], [348, 59838106, \"empty\", NaN, NaN, NaN, NaN, \"https://panoptes-uploads.zooniverse.org/subject_location/75e5dc8a-78aa-476b-a020-7543edb413d1.jpeg\", \"frame\", \"None\"], [349, 59837849, \"empty\", NaN, NaN, NaN, NaN, \"https://panoptes-uploads.zooniverse.org/subject_location/abd7b432-87fc-4167-b0c0-3f0a87e35908.jpeg\", \"frame\", \"None\"], [350, 59838092, \"empty\", NaN, NaN, NaN, NaN, \"https://panoptes-uploads.zooniverse.org/subject_location/87c18832-8747-4027-8366-2f8d3dbeddd6.jpeg\", \"frame\", \"None\"], [351, 59839047, \"empty\", NaN, NaN, NaN, NaN, \"https://panoptes-uploads.zooniverse.org/subject_location/cb14a811-e634-4644-adc9-8e6fa2ccd6f0.jpeg\", \"frame\", \"None\"], [352, 59838037, \"empty\", NaN, NaN, NaN, NaN, \"https://panoptes-uploads.zooniverse.org/subject_location/66aeb798-ab6a-474a-9576-2a946a1b1d30.jpeg\", \"frame\", \"None\"], [353, 59837999, \"empty\", NaN, NaN, NaN, NaN, \"https://panoptes-uploads.zooniverse.org/subject_location/5835061f-6f4d-4474-b256-11d4f2561c4c.jpeg\", \"frame\", \"None\"], [354, 59838475, \"empty\", NaN, NaN, NaN, NaN, \"https://panoptes-uploads.zooniverse.org/subject_location/b5f38d3b-9822-49d1-8e37-5c411f7d58f6.jpeg\", \"frame\", \"None\"], [355, 59838142, \"empty\", NaN, NaN, NaN, NaN, \"https://panoptes-uploads.zooniverse.org/subject_location/82b4d4f0-6fa2-4d45-88e2-16d59ada26a1.jpeg\", \"frame\", \"None\"], [356, 59838421, \"empty\", NaN, NaN, NaN, NaN, \"https://panoptes-uploads.zooniverse.org/subject_location/e07f7f49-7e12-4553-aaeb-8d7943e55c78.jpeg\", \"frame\", \"None\"], [357, 59839272, \"empty\", NaN, NaN, NaN, NaN, \"https://panoptes-uploads.zooniverse.org/subject_location/c3358c57-73d4-494f-9180-8d3fdbfcfc54.jpeg\", \"frame\", \"None\"], [358, 59837976, \"empty\", NaN, NaN, NaN, NaN, \"https://panoptes-uploads.zooniverse.org/subject_location/a1c92f10-ecc8-4212-b22d-e1de02e9b68a.jpeg\", \"frame\", \"None\"], [359, 59838071, \"empty\", NaN, NaN, NaN, NaN, \"https://panoptes-uploads.zooniverse.org/subject_location/e2cf4193-272a-4aa4-b165-82b81b43ad52.jpeg\", \"frame\", \"None\"], [360, 59838998, \"empty\", NaN, NaN, NaN, NaN, \"https://panoptes-uploads.zooniverse.org/subject_location/8ecd570f-5cc6-43e9-ac89-69df8bf0eb92.jpeg\", \"frame\", \"None\"], [361, 59838489, \"empty\", NaN, NaN, NaN, NaN, \"https://panoptes-uploads.zooniverse.org/subject_location/166ec543-048a-45df-90cb-69904907f2b8.jpeg\", \"frame\", \"None\"], [362, 59839250, \"empty\", NaN, NaN, NaN, NaN, \"https://panoptes-uploads.zooniverse.org/subject_location/14e4ebef-5828-49de-9eed-ee8e20c5c903.jpeg\", \"frame\", \"None\"], [363, 59837982, \"empty\", NaN, NaN, NaN, NaN, \"https://panoptes-uploads.zooniverse.org/subject_location/29902663-6bf9-498c-af79-c6598adc1ccb.jpeg\", \"frame\", \"None\"], [364, 59839520, \"empty\", NaN, NaN, NaN, NaN, \"https://panoptes-uploads.zooniverse.org/subject_location/b22e2950-f91e-4b11-b006-45ee843f1f00.jpeg\", \"frame\", \"None\"], [365, 59837998, \"empty\", NaN, NaN, NaN, NaN, \"https://panoptes-uploads.zooniverse.org/subject_location/4072edac-5396-40dc-8d50-5f38e9882a25.jpeg\", \"frame\", \"None\"], [366, 59838721, \"empty\", NaN, NaN, NaN, NaN, \"https://panoptes-uploads.zooniverse.org/subject_location/94dc9e8e-da85-45db-b4f4-8aab55d5c252.jpeg\", \"frame\", \"None\"], [367, 59837867, \"empty\", NaN, NaN, NaN, NaN, \"https://panoptes-uploads.zooniverse.org/subject_location/0a6763b6-897c-4ac5-b0bc-b7e5cc9d64c8.jpeg\", \"frame\", \"None\"], [368, 59837891, \"empty\", NaN, NaN, NaN, NaN, \"https://panoptes-uploads.zooniverse.org/subject_location/37680e2e-d39a-418b-a5f3-4949acdfba38.jpeg\", \"frame\", \"None\"], [369, 59838012, \"empty\", NaN, NaN, NaN, NaN, \"https://panoptes-uploads.zooniverse.org/subject_location/a16d710d-2d31-4e93-b51b-a2526ffd6d04.jpeg\", \"frame\", \"None\"], [370, 59838596, \"empty\", NaN, NaN, NaN, NaN, \"https://panoptes-uploads.zooniverse.org/subject_location/34d57030-2602-4fb2-b02b-087455ba8a8d.jpeg\", \"frame\", \"None\"], [371, 59838360, \"empty\", NaN, NaN, NaN, NaN, \"https://panoptes-uploads.zooniverse.org/subject_location/e80acc8e-2a71-4888-a39c-d220191f2179.jpeg\", \"frame\", \"None\"], [372, 59837850, \"empty\", NaN, NaN, NaN, NaN, \"https://panoptes-uploads.zooniverse.org/subject_location/bcec63dc-7fb1-4bed-acd2-2e15f06be6c5.jpeg\", \"frame\", \"None\"], [373, 59837806, \"empty\", NaN, NaN, NaN, NaN, \"https://panoptes-uploads.zooniverse.org/subject_location/695bfcd8-5973-4b6e-b87e-7929cd8fa489.jpeg\", \"frame\", \"None\"], [374, 59838548, \"empty\", NaN, NaN, NaN, NaN, \"https://panoptes-uploads.zooniverse.org/subject_location/92744304-e8dd-4c18-9d8e-34200bf5889a.jpeg\", \"frame\", \"None\"], [375, 59839253, \"empty\", NaN, NaN, NaN, NaN, \"https://panoptes-uploads.zooniverse.org/subject_location/caa21f28-8a09-4abe-b3a2-05ae93b17520.jpeg\", \"frame\", \"None\"], [376, 59839209, \"empty\", NaN, NaN, NaN, NaN, \"https://panoptes-uploads.zooniverse.org/subject_location/1419e0af-30f4-4367-986b-ac1844335bfc.jpeg\", \"frame\", \"None\"], [377, 59837888, \"empty\", NaN, NaN, NaN, NaN, \"https://panoptes-uploads.zooniverse.org/subject_location/1f903a7d-5601-4b52-8e81-483a60d56f85.jpeg\", \"frame\", \"None\"], [378, 59837994, \"empty\", NaN, NaN, NaN, NaN, \"https://panoptes-uploads.zooniverse.org/subject_location/c5c63016-e181-4ddc-93d4-4ce3a222eada.jpeg\", \"frame\", \"None\"], [379, 59837762, \"empty\", NaN, NaN, NaN, NaN, \"https://panoptes-uploads.zooniverse.org/subject_location/d06897cd-3585-4fb9-ad0f-0bce5b5336d4.jpeg\", \"frame\", \"None\"], [380, 59837855, \"empty\", NaN, NaN, NaN, NaN, \"https://panoptes-uploads.zooniverse.org/subject_location/cb3f6570-a124-443a-8d9e-1559297a78dc.jpeg\", \"frame\", \"None\"], [381, 59838124, \"empty\", NaN, NaN, NaN, NaN, \"https://panoptes-uploads.zooniverse.org/subject_location/8623f843-85ae-4cf2-ab23-3e51df1b7941.jpeg\", \"frame\", \"None\"], [382, 59837981, \"empty\", NaN, NaN, NaN, NaN, \"https://panoptes-uploads.zooniverse.org/subject_location/57e69591-dec5-4fb5-ab24-65c0bc471e05.jpeg\", \"frame\", \"None\"], [383, 59838011, \"empty\", NaN, NaN, NaN, NaN, \"https://panoptes-uploads.zooniverse.org/subject_location/cd7d4f05-f5f9-4d84-8380-df78ea9acc19.jpeg\", \"frame\", \"None\"], [384, 59837965, \"empty\", NaN, NaN, NaN, NaN, \"https://panoptes-uploads.zooniverse.org/subject_location/cfe23c49-d917-4b1c-9513-aa8662f2cd5f.jpeg\", \"frame\", \"None\"], [385, 59839046, \"empty\", NaN, NaN, NaN, NaN, \"https://panoptes-uploads.zooniverse.org/subject_location/aee6c3ac-7b90-47a5-ac82-6fa92cb28c5a.jpeg\", \"frame\", \"None\"], [386, 59837831, \"empty\", NaN, NaN, NaN, NaN, \"https://panoptes-uploads.zooniverse.org/subject_location/6fd2b297-81b2-4e8f-bf15-b1446d257f43.jpeg\", \"frame\", \"None\"], [387, 59838260, \"empty\", NaN, NaN, NaN, NaN, \"https://panoptes-uploads.zooniverse.org/subject_location/865c23e0-0ecc-47ee-b7cf-3e6f7628a276.jpeg\", \"frame\", \"None\"], [388, 59838819, \"empty\", NaN, NaN, NaN, NaN, \"https://panoptes-uploads.zooniverse.org/subject_location/8d213a81-b63b-4547-a6c4-186ec262f009.jpeg\", \"frame\", \"None\"], [389, 59838170, \"empty\", NaN, NaN, NaN, NaN, \"https://panoptes-uploads.zooniverse.org/subject_location/0c42ddde-bc4a-4d54-b340-c9c0983997b3.jpeg\", \"frame\", \"None\"], [390, 59837796, \"empty\", NaN, NaN, NaN, NaN, \"https://panoptes-uploads.zooniverse.org/subject_location/b6950219-ace6-4f25-972a-eae152ac0dc7.jpeg\", \"frame\", \"None\"], [391, 59837835, \"empty\", NaN, NaN, NaN, NaN, \"https://panoptes-uploads.zooniverse.org/subject_location/3f030354-b979-47c8-9569-a76c1f098d0d.jpeg\", \"frame\", \"None\"], [392, 59839274, \"empty\", NaN, NaN, NaN, NaN, \"https://panoptes-uploads.zooniverse.org/subject_location/5ab174a8-cff6-4985-8c35-63d0364b32d4.jpeg\", \"frame\", \"None\"], [393, 59837861, \"empty\", NaN, NaN, NaN, NaN, \"https://panoptes-uploads.zooniverse.org/subject_location/c24e2f52-2111-4d43-b4fd-69ad152a8020.jpeg\", \"frame\", \"None\"], [394, 59838656, \"empty\", NaN, NaN, NaN, NaN, \"https://panoptes-uploads.zooniverse.org/subject_location/c2c3cc55-67f1-4617-b10f-a74ec14f1e89.jpeg\", \"frame\", \"None\"], [395, 59837979, \"empty\", NaN, NaN, NaN, NaN, \"https://panoptes-uploads.zooniverse.org/subject_location/50d7b518-932b-43b5-a9f7-38ff5dc3baac.jpeg\", \"frame\", \"None\"], [396, 59838209, \"empty\", NaN, NaN, NaN, NaN, \"https://panoptes-uploads.zooniverse.org/subject_location/e2e21bc6-1523-445a-ba13-dda6e5eb4751.jpeg\", \"frame\", \"None\"], [397, 59838223, \"empty\", NaN, NaN, NaN, NaN, \"https://panoptes-uploads.zooniverse.org/subject_location/02260304-b529-48da-99a6-943ea7709ca8.jpeg\", \"frame\", \"None\"], [398, 59837786, \"empty\", NaN, NaN, NaN, NaN, \"https://panoptes-uploads.zooniverse.org/subject_location/7a9d755d-c8eb-4201-8f26-94cab78ac8d0.jpeg\", \"frame\", \"None\"], [399, 59837956, \"empty\", NaN, NaN, NaN, NaN, \"https://panoptes-uploads.zooniverse.org/subject_location/fe576c9a-2146-4664-9bcc-0f3f53a88503.jpeg\", \"frame\", \"None\"], [400, 59838065, \"empty\", NaN, NaN, NaN, NaN, \"https://panoptes-uploads.zooniverse.org/subject_location/4e4209b5-bf0d-45fe-8630-0928bd31c87a.jpeg\", \"frame\", \"None\"], [401, 59838096, \"empty\", NaN, NaN, NaN, NaN, \"https://panoptes-uploads.zooniverse.org/subject_location/ac91dd93-6267-4218-a5a9-940419161ac8.jpeg\", \"frame\", \"None\"], [402, 59838921, \"empty\", NaN, NaN, NaN, NaN, \"https://panoptes-uploads.zooniverse.org/subject_location/4232dcc3-e9ca-4d3e-86f0-ed9e61311ada.jpeg\", \"frame\", \"None\"], [403, 59838123, \"empty\", NaN, NaN, NaN, NaN, \"https://panoptes-uploads.zooniverse.org/subject_location/b21ba373-4452-42eb-b8a6-7a997728fd09.jpeg\", \"frame\", \"None\"], [404, 59838408, \"empty\", NaN, NaN, NaN, NaN, \"https://panoptes-uploads.zooniverse.org/subject_location/4ade1517-9dae-4c09-aee4-224dcda64055.jpeg\", \"frame\", \"None\"], [405, 59838477, \"empty\", NaN, NaN, NaN, NaN, \"https://panoptes-uploads.zooniverse.org/subject_location/95d9befc-ed26-4302-be8d-abc3e8bbb321.jpeg\", \"frame\", \"None\"], [406, 59837824, \"empty\", NaN, NaN, NaN, NaN, \"https://panoptes-uploads.zooniverse.org/subject_location/094febe5-1085-4065-9456-f8ef33e2e61f.jpeg\", \"frame\", \"None\"], [407, 59838169, \"empty\", NaN, NaN, NaN, NaN, \"https://panoptes-uploads.zooniverse.org/subject_location/a9971cbc-5663-4a1e-beba-d7a795fd4e9d.jpeg\", \"frame\", \"None\"], [408, 59838618, \"empty\", NaN, NaN, NaN, NaN, \"https://panoptes-uploads.zooniverse.org/subject_location/30e5e3fb-49fb-4f7f-b763-cd5b37abcf3b.jpeg\", \"frame\", \"None\"], [409, 59837764, \"empty\", NaN, NaN, NaN, NaN, \"https://panoptes-uploads.zooniverse.org/subject_location/c01cf5a6-4727-44db-a8f8-41ebd662751a.jpeg\", \"frame\", \"None\"], [410, 59839440, \"empty\", NaN, NaN, NaN, NaN, \"https://panoptes-uploads.zooniverse.org/subject_location/fcd8443d-c0f8-4a4a-805d-3dda987a163a.jpeg\", \"frame\", \"None\"], [411, 59837887, \"empty\", NaN, NaN, NaN, NaN, \"https://panoptes-uploads.zooniverse.org/subject_location/057202c0-26b1-49ee-a71d-1556abf19318.jpeg\", \"frame\", \"None\"], [412, 59837997, \"empty\", NaN, NaN, NaN, NaN, \"https://panoptes-uploads.zooniverse.org/subject_location/fae49889-b2a2-410a-a5d7-c1060e8a06d0.jpeg\", \"frame\", \"None\"], [413, 59837805, \"empty\", NaN, NaN, NaN, NaN, \"https://panoptes-uploads.zooniverse.org/subject_location/d34db0cf-8015-45e3-b06b-ee85f8b694d7.jpeg\", \"frame\", \"None\"], [414, 59838620, \"empty\", NaN, NaN, NaN, NaN, \"https://panoptes-uploads.zooniverse.org/subject_location/de3265f6-c185-4da2-ada9-722d4f266fc1.jpeg\", \"frame\", \"None\"], [415, 59838158, \"empty\", NaN, NaN, NaN, NaN, \"https://panoptes-uploads.zooniverse.org/subject_location/78e8894e-cf48-4df6-92d0-7c7624e1db04.jpeg\", \"frame\", \"None\"], [416, 59837864, \"empty\", NaN, NaN, NaN, NaN, \"https://panoptes-uploads.zooniverse.org/subject_location/05fb8cfc-37b4-47a3-b485-3ded5b389157.jpeg\", \"frame\", \"None\"], [417, 59839125, \"empty\", NaN, NaN, NaN, NaN, \"https://panoptes-uploads.zooniverse.org/subject_location/10a346ad-10d0-4393-ac63-0f6069db4b39.jpeg\", \"frame\", \"None\"], [418, 59837760, \"empty\", NaN, NaN, NaN, NaN, \"https://panoptes-uploads.zooniverse.org/subject_location/ce1fe75b-8323-4135-9865-4d25e178db1e.jpeg\", \"frame\", \"None\"], [419, 59837910, \"empty\", NaN, NaN, NaN, NaN, \"https://panoptes-uploads.zooniverse.org/subject_location/3494db30-0758-48bc-8e21-026023f598bf.jpeg\", \"frame\", \"None\"], [420, 59838015, \"empty\", NaN, NaN, NaN, NaN, \"https://panoptes-uploads.zooniverse.org/subject_location/e8d45564-59ef-4a9b-bf64-805be29bacc8.jpeg\", \"frame\", \"None\"], [421, 59839126, \"empty\", NaN, NaN, NaN, NaN, \"https://panoptes-uploads.zooniverse.org/subject_location/cc738d9b-6ada-41f0-b995-b16125c5fd34.jpeg\", \"frame\", \"None\"], [422, 59839299, \"empty\", NaN, NaN, NaN, NaN, \"https://panoptes-uploads.zooniverse.org/subject_location/6853fdec-b04e-45d3-a0f1-e4a8664ac992.jpeg\", \"frame\", \"None\"], [423, 59839448, \"empty\", NaN, NaN, NaN, NaN, \"https://panoptes-uploads.zooniverse.org/subject_location/07611bf5-8eeb-44ac-9cd5-1a65f568a71c.jpeg\", \"frame\", \"None\"], [424, 59838550, \"empty\", NaN, NaN, NaN, NaN, \"https://panoptes-uploads.zooniverse.org/subject_location/45f5631f-08e0-448e-8d55-e80cf21218f7.jpeg\", \"frame\", \"None\"], [425, 59837765, \"empty\", NaN, NaN, NaN, NaN, \"https://panoptes-uploads.zooniverse.org/subject_location/814a19d9-134c-4da0-b2ad-0889276bba94.jpeg\", \"frame\", \"None\"], [426, 59837967, \"empty\", NaN, NaN, NaN, NaN, \"https://panoptes-uploads.zooniverse.org/subject_location/c1b9f6fc-f995-437a-ac40-32be4710024a.jpeg\", \"frame\", \"None\"], [427, 59837847, \"empty\", NaN, NaN, NaN, NaN, \"https://panoptes-uploads.zooniverse.org/subject_location/26b7f7ee-5369-4b6a-aef8-3d276770a40d.jpeg\", \"frame\", \"None\"], [428, 59837825, \"empty\", NaN, NaN, NaN, NaN, \"https://panoptes-uploads.zooniverse.org/subject_location/30868a12-e480-40f6-ab5f-842dfab8e4e8.jpeg\", \"frame\", \"None\"], [429, 59838145, \"empty\", NaN, NaN, NaN, NaN, \"https://panoptes-uploads.zooniverse.org/subject_location/fb12aa4f-d32e-4ad1-b273-ea2aad39da8f.jpeg\", \"frame\", \"None\"], [430, 59839015, \"empty\", NaN, NaN, NaN, NaN, \"https://panoptes-uploads.zooniverse.org/subject_location/8f87ef5c-1c9e-46db-86a4-900d67fb95f0.jpeg\", \"frame\", \"None\"], [431, 59837874, \"empty\", NaN, NaN, NaN, NaN, \"https://panoptes-uploads.zooniverse.org/subject_location/29840ad2-2e62-4e97-847b-c230a895d441.jpeg\", \"frame\", \"None\"], [432, 59838589, \"empty\", NaN, NaN, NaN, NaN, \"https://panoptes-uploads.zooniverse.org/subject_location/b23d751b-d26d-49c6-89b7-299faa2d543c.jpeg\", \"frame\", \"None\"], [433, 59837950, \"empty\", NaN, NaN, NaN, NaN, \"https://panoptes-uploads.zooniverse.org/subject_location/939d9aa9-b079-4a07-aed9-e47e2cebf053.jpeg\", \"frame\", \"None\"], [434, 59838341, \"empty\", NaN, NaN, NaN, NaN, \"https://panoptes-uploads.zooniverse.org/subject_location/844a2472-5e3a-4b3e-a96d-9c2b7ee65986.jpeg\", \"frame\", \"None\"], [435, 59838447, \"empty\", NaN, NaN, NaN, NaN, \"https://panoptes-uploads.zooniverse.org/subject_location/d383d03f-1dbb-4835-a2e8-fd22e93a580e.jpeg\", \"frame\", \"None\"], [436, 59837842, \"empty\", NaN, NaN, NaN, NaN, \"https://panoptes-uploads.zooniverse.org/subject_location/7df7af3e-b926-491d-9fde-454404c3d1a5.jpeg\", \"frame\", \"None\"], [437, 59837985, \"empty\", NaN, NaN, NaN, NaN, \"https://panoptes-uploads.zooniverse.org/subject_location/48ba41f7-dbee-4008-bb22-da074f157c26.jpeg\", \"frame\", \"None\"], [438, 59837871, \"empty\", NaN, NaN, NaN, NaN, \"https://panoptes-uploads.zooniverse.org/subject_location/a45517ed-5367-442e-8cea-c1985077980e.jpeg\", \"frame\", \"None\"], [439, 59838107, \"empty\", NaN, NaN, NaN, NaN, \"https://panoptes-uploads.zooniverse.org/subject_location/e539d998-f200-437e-b4dc-45f9b231ac74.jpeg\", \"frame\", \"None\"], [440, 59838068, \"empty\", NaN, NaN, NaN, NaN, \"https://panoptes-uploads.zooniverse.org/subject_location/8c14f451-942b-476f-a704-21ed7093584a.jpeg\", \"frame\", \"None\"], [441, 59838604, \"empty\", NaN, NaN, NaN, NaN, \"https://panoptes-uploads.zooniverse.org/subject_location/d2757d1c-3bed-423e-81b8-0530f3595c52.jpeg\", \"frame\", \"None\"], [442, 59839026, \"empty\", NaN, NaN, NaN, NaN, \"https://panoptes-uploads.zooniverse.org/subject_location/8137ac2d-b9e8-4078-a247-028b054e2bf4.jpeg\", \"frame\", \"None\"], [443, 59838796, \"empty\", NaN, NaN, NaN, NaN, \"https://panoptes-uploads.zooniverse.org/subject_location/b0dc2aec-6e6f-4680-87f5-d4777a8f78c4.jpeg\", \"frame\", \"None\"], [444, 59838066, \"empty\", NaN, NaN, NaN, NaN, \"https://panoptes-uploads.zooniverse.org/subject_location/3c1e27ff-ffeb-49a4-9be5-bc325a8da713.jpeg\", \"frame\", \"None\"], [445, 59837800, \"empty\", NaN, NaN, NaN, NaN, \"https://panoptes-uploads.zooniverse.org/subject_location/ff57c113-7c83-4b3b-8bdf-ea1d3f16eb23.jpeg\", \"frame\", \"None\"], [446, 59839273, \"empty\", NaN, NaN, NaN, NaN, \"https://panoptes-uploads.zooniverse.org/subject_location/2b483c11-d06c-40cc-b31f-bd0bf3634238.jpeg\", \"frame\", \"None\"], [447, 59839336, \"empty\", NaN, NaN, NaN, NaN, \"https://panoptes-uploads.zooniverse.org/subject_location/e1105fa2-9256-415b-b0cc-8ef391a685d0.jpeg\", \"frame\", \"None\"], [448, 59838281, \"empty\", NaN, NaN, NaN, NaN, \"https://panoptes-uploads.zooniverse.org/subject_location/25ca6bc6-9569-415d-8429-f72d0622d4f4.jpeg\", \"frame\", \"None\"], [449, 59839441, \"empty\", NaN, NaN, NaN, NaN, \"https://panoptes-uploads.zooniverse.org/subject_location/0d75f81e-45ad-4523-8103-302a1c6a12c4.jpeg\", \"frame\", \"None\"], [450, 59839487, \"empty\", NaN, NaN, NaN, NaN, \"https://panoptes-uploads.zooniverse.org/subject_location/29db662d-901c-40bc-812c-a43de7023203.jpeg\", \"frame\", \"None\"], [451, 59837949, \"empty\", NaN, NaN, NaN, NaN, \"https://panoptes-uploads.zooniverse.org/subject_location/779c0da4-142a-4540-a256-3a6d9b6e0e02.jpeg\", \"frame\", \"None\"], [452, 59838056, \"empty\", NaN, NaN, NaN, NaN, \"https://panoptes-uploads.zooniverse.org/subject_location/28f2e28b-3eb6-40c2-8943-a1fca8ef8274.jpeg\", \"frame\", \"None\"], [453, 59837841, \"empty\", NaN, NaN, NaN, NaN, \"https://panoptes-uploads.zooniverse.org/subject_location/e7814c4b-3bf2-4ad8-b866-46aba188191a.jpeg\", \"frame\", \"None\"], [454, 59837828, \"empty\", NaN, NaN, NaN, NaN, \"https://panoptes-uploads.zooniverse.org/subject_location/bdfce347-0658-4e49-99d0-3d0dbb8b9231.jpeg\", \"frame\", \"None\"], [455, 59837853, \"empty\", NaN, NaN, NaN, NaN, \"https://panoptes-uploads.zooniverse.org/subject_location/e02f9c30-c05f-4771-bdee-2b5e74765b6e.jpeg\", \"frame\", \"None\"], [456, 59838487, \"empty\", NaN, NaN, NaN, NaN, \"https://panoptes-uploads.zooniverse.org/subject_location/2a28b171-43ba-45c9-87a3-b215e5bcac60.jpeg\", \"frame\", \"None\"], [457, 59837873, \"empty\", NaN, NaN, NaN, NaN, \"https://panoptes-uploads.zooniverse.org/subject_location/58247b48-1dc6-4cd7-97f9-1bc5357c7ca5.jpeg\", \"frame\", \"None\"], [458, 59838270, \"empty\", NaN, NaN, NaN, NaN, \"https://panoptes-uploads.zooniverse.org/subject_location/b3d5446c-1c2a-4d17-a993-4bbb91de70a5.jpeg\", \"frame\", \"None\"], [459, 59837852, \"empty\", NaN, NaN, NaN, NaN, \"https://panoptes-uploads.zooniverse.org/subject_location/9f6036fa-228f-473f-88e3-fb27322f4264.jpeg\", \"frame\", \"None\"], [460, 59838428, \"empty\", NaN, NaN, NaN, NaN, \"https://panoptes-uploads.zooniverse.org/subject_location/ff43dadd-b69a-4907-b8fa-66f3f188a7a1.jpeg\", \"frame\", \"None\"], [461, 59839458, \"empty\", NaN, NaN, NaN, NaN, \"https://panoptes-uploads.zooniverse.org/subject_location/e97976af-c066-4d52-8388-c02462d8c3e3.jpeg\", \"frame\", \"None\"], [462, 59839330, \"empty\", NaN, NaN, NaN, NaN, \"https://panoptes-uploads.zooniverse.org/subject_location/5f333f64-68e3-428f-b2f8-9f4b1f4f9159.jpeg\", \"frame\", \"None\"], [463, 59837886, \"empty\", NaN, NaN, NaN, NaN, \"https://panoptes-uploads.zooniverse.org/subject_location/940950ae-d3db-470f-a3b5-94933513809d.jpeg\", \"frame\", \"None\"], [464, 59837793, \"empty\", NaN, NaN, NaN, NaN, \"https://panoptes-uploads.zooniverse.org/subject_location/54c98326-36a7-48e7-9daf-ea5d9fff7d15.jpeg\", \"frame\", \"None\"], [465, 59837966, \"empty\", NaN, NaN, NaN, NaN, \"https://panoptes-uploads.zooniverse.org/subject_location/8aedb779-a085-4144-8778-9a023b7fb262.jpeg\", \"frame\", \"None\"], [466, 59837990, \"empty\", NaN, NaN, NaN, NaN, \"https://panoptes-uploads.zooniverse.org/subject_location/08115bc7-1a4a-42e6-94eb-5d015215a0fe.jpeg\", \"frame\", \"None\"], [467, 59838248, \"empty\", NaN, NaN, NaN, NaN, \"https://panoptes-uploads.zooniverse.org/subject_location/cbfd9450-fa0a-47ee-a6ee-314afacdd83f.jpeg\", \"frame\", \"None\"], [468, 59838301, \"empty\", NaN, NaN, NaN, NaN, \"https://panoptes-uploads.zooniverse.org/subject_location/c890b5e8-9947-49ce-8892-ba39a125c4d9.jpeg\", \"frame\", \"None\"], [469, 59837951, \"empty\", NaN, NaN, NaN, NaN, \"https://panoptes-uploads.zooniverse.org/subject_location/c506f4f5-6895-41cf-aa09-0b48b5fa1cd1.jpeg\", \"frame\", \"None\"], [470, 59839267, \"empty\", NaN, NaN, NaN, NaN, \"https://panoptes-uploads.zooniverse.org/subject_location/6974e105-3512-4d6f-8c9c-0c7aa7315934.jpeg\", \"frame\", \"None\"], [471, 59839269, \"empty\", NaN, NaN, NaN, NaN, \"https://panoptes-uploads.zooniverse.org/subject_location/651c97d6-ea60-4bad-b4dc-0bad40d3e3ed.jpeg\", \"frame\", \"None\"], [472, 59839045, \"empty\", NaN, NaN, NaN, NaN, \"https://panoptes-uploads.zooniverse.org/subject_location/d4155dd4-2761-4df6-bdd1-d80f410fbf7a.jpeg\", \"frame\", \"None\"], [473, 59837983, \"empty\", NaN, NaN, NaN, NaN, \"https://panoptes-uploads.zooniverse.org/subject_location/32c2aaee-ac8b-4c83-b155-5f5acdfcad8e.jpeg\", \"frame\", \"None\"], [474, 59838261, \"empty\", NaN, NaN, NaN, NaN, \"https://panoptes-uploads.zooniverse.org/subject_location/f9e69bc5-df04-4bd9-b42a-229bd21592e8.jpeg\", \"frame\", \"None\"], [475, 59838503, \"empty\", NaN, NaN, NaN, NaN, \"https://panoptes-uploads.zooniverse.org/subject_location/a036e183-d258-4936-ab00-d03b6822e671.jpeg\", \"frame\", \"None\"], [476, 59839249, \"empty\", NaN, NaN, NaN, NaN, \"https://panoptes-uploads.zooniverse.org/subject_location/f7a536a2-fd7d-4d69-9dd3-884ee3de69ca.jpeg\", \"frame\", \"None\"], [477, 59837843, \"empty\", NaN, NaN, NaN, NaN, \"https://panoptes-uploads.zooniverse.org/subject_location/89cb564d-e634-4d2c-83fa-a1597924c8a1.jpeg\", \"frame\", \"None\"], [478, 59838262, \"empty\", NaN, NaN, NaN, NaN, \"https://panoptes-uploads.zooniverse.org/subject_location/260a9aaa-7752-4bae-8f3e-ada033c81b1f.jpeg\", \"frame\", \"None\"], [479, 59839258, \"empty\", NaN, NaN, NaN, NaN, \"https://panoptes-uploads.zooniverse.org/subject_location/a19d9e50-82ca-4dfb-8437-13ea854ae85f.jpeg\", \"frame\", \"None\"], [480, 59838501, \"empty\", NaN, NaN, NaN, NaN, \"https://panoptes-uploads.zooniverse.org/subject_location/3eb8a4ff-c126-437f-a908-1658220d3faf.jpeg\", \"frame\", \"None\"], [481, 59839105, \"empty\", NaN, NaN, NaN, NaN, \"https://panoptes-uploads.zooniverse.org/subject_location/0de1c954-ef8e-464f-a0e3-9c42fa2cc832.jpeg\", \"frame\", \"None\"], [482, 59837872, \"empty\", NaN, NaN, NaN, NaN, \"https://panoptes-uploads.zooniverse.org/subject_location/4c20fbec-5c0c-48e9-8dc4-07ebed6376d0.jpeg\", \"frame\", \"None\"], [483, 59838208, \"empty\", NaN, NaN, NaN, NaN, \"https://panoptes-uploads.zooniverse.org/subject_location/21d1e8bf-1d1e-4006-bc6e-4f6b08e9f044.jpeg\", \"frame\", \"None\"], [484, 59838810, \"empty\", NaN, NaN, NaN, NaN, \"https://panoptes-uploads.zooniverse.org/subject_location/fd18b379-550a-4274-b3ba-140482d23cf4.jpeg\", \"frame\", \"None\"], [485, 59837878, \"empty\", NaN, NaN, NaN, NaN, \"https://panoptes-uploads.zooniverse.org/subject_location/12b87ea4-ac55-49b6-b87a-6aed0d37da1f.jpeg\", \"frame\", \"None\"], [486, 59837798, \"empty\", NaN, NaN, NaN, NaN, \"https://panoptes-uploads.zooniverse.org/subject_location/ed63423c-e21b-48c0-be43-632a2d23632c.jpeg\", \"frame\", \"None\"], [487, 59839298, \"empty\", NaN, NaN, NaN, NaN, \"https://panoptes-uploads.zooniverse.org/subject_location/bbac2718-fcb6-4ece-b77c-5be4eda871ba.jpeg\", \"frame\", \"None\"], [488, 59838936, \"empty\", NaN, NaN, NaN, NaN, \"https://panoptes-uploads.zooniverse.org/subject_location/cb9c3fbb-eda2-4ba4-933d-ee9976937644.jpeg\", \"frame\", \"None\"], [489, 59837987, \"empty\", NaN, NaN, NaN, NaN, \"https://panoptes-uploads.zooniverse.org/subject_location/214bb018-2b38-4e40-b198-7b5127c2f49a.jpeg\", \"frame\", \"None\"], [490, 59839457, \"empty\", NaN, NaN, NaN, NaN, \"https://panoptes-uploads.zooniverse.org/subject_location/47ce5001-366a-465c-8ec1-516f4bc2b324.jpeg\", \"frame\", \"None\"], [491, 59837832, \"empty\", NaN, NaN, NaN, NaN, \"https://panoptes-uploads.zooniverse.org/subject_location/1f0596b4-9d06-47cf-b556-3e67bbd2d96f.jpeg\", \"frame\", \"None\"], [492, 59837789, \"empty\", NaN, NaN, NaN, NaN, \"https://panoptes-uploads.zooniverse.org/subject_location/d7f407f3-ba6d-4ace-960c-51b90a9762c8.jpeg\", \"frame\", \"None\"], [493, 59837820, \"empty\", NaN, NaN, NaN, NaN, \"https://panoptes-uploads.zooniverse.org/subject_location/5e920876-ffd3-47a4-a1ba-ef259b922e8a.jpeg\", \"frame\", \"None\"], [494, 59839114, \"empty\", NaN, NaN, NaN, NaN, \"https://panoptes-uploads.zooniverse.org/subject_location/0b6f62ac-5ac1-49b8-8efd-22223c0ea3b7.jpeg\", \"frame\", \"None\"], [495, 59838554, \"empty\", NaN, NaN, NaN, NaN, \"https://panoptes-uploads.zooniverse.org/subject_location/6469fd96-b8e9-40fd-8d53-aafcf34f5fdc.jpeg\", \"frame\", \"None\"]]};\n",
       "        dt_args = eval_functions(dt_args);\n",
       "        table = $('#59a00831-b8e8-4943-b5ab-9409c5f02738').DataTable(dt_args);\n",
       "    });\n",
       "})\n",
       "</script>\n",
       "</div>\n"
      ],
      "text/plain": [
       "     subject_ids             label      x      y      w      h  \\\n",
       "0       45881633  Deep water coral  642.5  334.0  107.5  133.5   \n",
       "1       45881634  Deep water coral  270.0  246.0  169.0  176.0   \n",
       "2       45881636  Deep water coral  145.0   93.0  460.0  425.0   \n",
       "3       45881637  Deep water coral  138.0   18.5  476.0  486.5   \n",
       "4       45881638  Deep water coral  298.0    2.0  449.0  516.0   \n",
       "..           ...               ...    ...    ...    ...    ...   \n",
       "491     59837832             empty    NaN    NaN    NaN    NaN   \n",
       "492     59837789             empty    NaN    NaN    NaN    NaN   \n",
       "493     59837820             empty    NaN    NaN    NaN    NaN   \n",
       "494     59839114             empty    NaN    NaN    NaN    NaN   \n",
       "495     59838554             empty    NaN    NaN    NaN    NaN   \n",
       "\n",
       "                                        https_location subject_type  \\\n",
       "0    https://panoptes-uploads.zooniverse.org/subjec...        frame   \n",
       "1    https://panoptes-uploads.zooniverse.org/subjec...        frame   \n",
       "2    https://panoptes-uploads.zooniverse.org/subjec...        frame   \n",
       "3    https://panoptes-uploads.zooniverse.org/subjec...        frame   \n",
       "4    https://panoptes-uploads.zooniverse.org/subjec...        frame   \n",
       "..                                                 ...          ...   \n",
       "491  https://panoptes-uploads.zooniverse.org/subjec...        frame   \n",
       "492  https://panoptes-uploads.zooniverse.org/subjec...        frame   \n",
       "493  https://panoptes-uploads.zooniverse.org/subjec...        frame   \n",
       "494  https://panoptes-uploads.zooniverse.org/subjec...        frame   \n",
       "495  https://panoptes-uploads.zooniverse.org/subjec...        frame   \n",
       "\n",
       "                                              filename  \n",
       "0    ./frames/000114 TMBL-ROV 2000 Säckenrevet EJ n...  \n",
       "1    ./frames/000114 TMBL-ROV 2000 Säckenrevet EJ n...  \n",
       "2    ./frames/000114 TMBL-ROV 2000 Säckenrevet EJ n...  \n",
       "3    ./frames/000114 TMBL-ROV 2000 Säckenrevet EJ n...  \n",
       "4    ./frames/000114 TMBL-ROV 2000 Säckenrevet EJ n...  \n",
       "..                                                 ...  \n",
       "491                                               None  \n",
       "492                                               None  \n",
       "493                                               None  \n",
       "494                                               None  \n",
       "495                                               None  \n",
       "\n",
       "[496 rows x 9 columns]"
      ]
     },
     "execution_count": 62,
     "metadata": {},
     "output_type": "execute_result"
    }
   ],
   "source": [
    "# Display the dataframe into a table\n",
    "t12.launch_table(agg_class_df, wm.checks['Subject type: #0'])"
   ]
  },
  {
   "cell_type": "markdown",
   "id": "9e6a6804",
   "metadata": {},
   "source": [
    "### Step 5: Use the subject explorer widget to visualise subjects and their aggregated classifications"
   ]
  },
  {
   "cell_type": "code",
   "execution_count": 63,
   "id": "8c6ab27e",
   "metadata": {
    "scrolled": false
   },
   "outputs": [
    {
     "data": {
      "application/vnd.jupyter.widget-view+json": {
       "model_id": "d957be65525541319cccacb695a006d9",
       "version_major": 2,
       "version_minor": 0
      },
      "text/plain": [
       "Combobox(value='', description='Subject id:', ensure_option=True, options=('45881633', '45881634', '45881636',…"
      ]
     },
     "metadata": {},
     "output_type": "display_data"
    },
    {
     "data": {
      "application/vnd.jupyter.widget-view+json": {
       "model_id": "efbd3e47d2d6445f88fb4399c9aef98f",
       "version_major": 2,
       "version_minor": 0
      },
      "text/plain": [
       "Output()"
      ]
     },
     "metadata": {},
     "output_type": "display_data"
    }
   ],
   "source": [
    "# Launch the subject viewer\n",
    "t12.launch_viewer(agg_class_df, wm.checks['Subject type: #0'])"
   ]
  },
  {
   "cell_type": "markdown",
   "id": "d2ed92e0",
   "metadata": {},
   "source": [
    "### Step 6: Use the subject explorer widget to get more information about specific subjects and their \"raw\" classifications"
   ]
  },
  {
   "cell_type": "code",
   "execution_count": 64,
   "id": "df0ac59b",
   "metadata": {
    "scrolled": false
   },
   "outputs": [
    {
     "data": {
      "application/vnd.jupyter.widget-view+json": {
       "model_id": "2a13a92216cd4f5ea7f2edac8b6e6b63",
       "version_major": 2,
       "version_minor": 0
      },
      "text/plain": [
       "Combobox(value='', description='Subject id:', ensure_option=True, options=('45881560', '45881712', '45881623',…"
      ]
     },
     "metadata": {},
     "output_type": "display_data"
    },
    {
     "data": {
      "application/vnd.jupyter.widget-view+json": {
       "model_id": "9c25474af1ce4ba1b484115cbaf54aed",
       "version_major": 2,
       "version_minor": 0
      },
      "text/plain": [
       "Output()"
      ]
     },
     "metadata": {},
     "output_type": "display_data"
    }
   ],
   "source": [
    "# Launch the classifications_per_subject explorer\n",
    "t12.explore_classifications_per_subject(raw_class_df, wm.checks['Subject type: #0'])"
   ]
  },
  {
   "cell_type": "code",
   "execution_count": null,
   "id": "211ab0c3",
   "metadata": {},
   "outputs": [],
   "source": [
    "# END"
   ]
  }
 ],
 "metadata": {
  "kernelspec": {
   "display_name": "Python 3",
   "language": "python",
   "name": "python3"
  },
  "language_info": {
   "codemirror_mode": {
    "name": "ipython",
    "version": 3
   },
   "file_extension": ".py",
   "mimetype": "text/x-python",
   "name": "python",
   "nbconvert_exporter": "python",
   "pygments_lexer": "ipython3",
   "version": "3.8.8"
  }
 },
 "nbformat": 4,
 "nbformat_minor": 5
}
