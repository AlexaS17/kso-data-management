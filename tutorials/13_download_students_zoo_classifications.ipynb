{
 "cells": [
  {
   "cell_type": "markdown",
   "id": "95aea466",
   "metadata": {},
   "source": [
    "<img align=\"left\" src=\"https://panoptes-uploads.zooniverse.org/project_avatar/86c23ca7-bbaa-4e84-8d8a-876819551431.png\" type=\"image/png\" height=100 width=100>\n",
    "</img>\n",
    "\n",
    "\n",
    "<h1 align=\"right\">KSO Tutorial #13: Download Zoo classifications created by students</h1>\n",
    "<h3 align=\"right\">Written by @jannesgg and @vykanton</h3>\n",
    "<h5 align=\"right\">Last updated: Aug 8th, 2022</h5>"
   ]
  },
  {
   "cell_type": "markdown",
   "id": "6f0fc779",
   "metadata": {},
   "source": [
    "# Set up and requirements"
   ]
  },
  {
   "cell_type": "markdown",
   "id": "ed3d9d14",
   "metadata": {},
   "source": [
    "## Import Python packages"
   ]
  },
  {
   "cell_type": "code",
   "execution_count": 1,
   "id": "46ca201f",
   "metadata": {},
   "outputs": [
    {
     "ename": "ModuleNotFoundError",
     "evalue": "No module named 'panoptes_client'",
     "output_type": "error",
     "traceback": [
      "\u001b[1;31m---------------------------------------------------------------------------\u001b[0m",
      "\u001b[1;31mModuleNotFoundError\u001b[0m                       Traceback (most recent call last)",
      "\u001b[1;32m~\\AppData\\Local\\Temp\\ipykernel_15252\\3687873994.py\u001b[0m in \u001b[0;36m<module>\u001b[1;34m\u001b[0m\n\u001b[0;32m      8\u001b[0m \u001b[1;33m\u001b[0m\u001b[0m\n\u001b[0;32m      9\u001b[0m \u001b[1;31m# Import required modules\u001b[0m\u001b[1;33m\u001b[0m\u001b[1;33m\u001b[0m\u001b[1;33m\u001b[0m\u001b[0m\n\u001b[1;32m---> 10\u001b[1;33m \u001b[1;32mimport\u001b[0m \u001b[0mkso_utils\u001b[0m\u001b[1;33m.\u001b[0m\u001b[0mtutorials_utils\u001b[0m \u001b[1;32mas\u001b[0m \u001b[0mt_utils\u001b[0m\u001b[1;33m\u001b[0m\u001b[1;33m\u001b[0m\u001b[0m\n\u001b[0m\u001b[0;32m     11\u001b[0m \u001b[1;32mimport\u001b[0m \u001b[0mkso_utils\u001b[0m\u001b[1;33m.\u001b[0m\u001b[0mproject_utils\u001b[0m \u001b[1;32mas\u001b[0m \u001b[0mp_utils\u001b[0m\u001b[1;33m\u001b[0m\u001b[1;33m\u001b[0m\u001b[0m\n\u001b[0;32m     12\u001b[0m \u001b[1;33m\u001b[0m\u001b[0m\n",
      "\u001b[1;32m~\\koster_data_management\\kso_utils\\tutorials_utils.py\u001b[0m in \u001b[0;36m<module>\u001b[1;34m\u001b[0m\n\u001b[0;32m     10\u001b[0m \u001b[1;32mimport\u001b[0m \u001b[0masyncio\u001b[0m\u001b[1;33m\u001b[0m\u001b[1;33m\u001b[0m\u001b[0m\n\u001b[0;32m     11\u001b[0m \u001b[1;33m\u001b[0m\u001b[0m\n\u001b[1;32m---> 12\u001b[1;33m from panoptes_client import (\n\u001b[0m\u001b[0;32m     13\u001b[0m     \u001b[0mProject\u001b[0m\u001b[1;33m\u001b[0m\u001b[1;33m\u001b[0m\u001b[0m\n\u001b[0;32m     14\u001b[0m )\n",
      "\u001b[1;31mModuleNotFoundError\u001b[0m: No module named 'panoptes_client'"
     ]
    }
   ],
   "source": [
    "# Enables testing changes in utils\n",
    "%load_ext autoreload\n",
    "%autoreload 2\n",
    "\n",
    "# Set the directory of the libraries\n",
    "import sys\n",
    "sys.path.append('..')\n",
    "\n",
    "# Import required modules\n",
    "import kso_utils.tutorials_utils as t_utils\n",
    "import kso_utils.project_utils as p_utils\n",
    "import kso_utils.t8_utils as t8\n",
    "\n",
    "print(\"Packages loaded successfully\")"
   ]
  },
  {
   "cell_type": "markdown",
   "id": "fdc7152a",
   "metadata": {},
   "source": [
    "## Choose your project"
   ]
  },
  {
   "cell_type": "code",
   "execution_count": 1,
   "id": "1c1aabda",
   "metadata": {},
   "outputs": [
    {
     "ename": "NameError",
     "evalue": "name 't_utils' is not defined",
     "output_type": "error",
     "traceback": [
      "\u001b[1;31m---------------------------------------------------------------------------\u001b[0m",
      "\u001b[1;31mNameError\u001b[0m                                 Traceback (most recent call last)",
      "\u001b[1;32m~\\AppData\\Local\\Temp\\ipykernel_18352\\2833942398.py\u001b[0m in \u001b[0;36m<module>\u001b[1;34m\u001b[0m\n\u001b[1;32m----> 1\u001b[1;33m \u001b[0mproject_name\u001b[0m \u001b[1;33m=\u001b[0m \u001b[0mt_utils\u001b[0m\u001b[1;33m.\u001b[0m\u001b[0mchoose_project\u001b[0m\u001b[1;33m(\u001b[0m\u001b[1;33m)\u001b[0m\u001b[1;33m\u001b[0m\u001b[1;33m\u001b[0m\u001b[0m\n\u001b[0m",
      "\u001b[1;31mNameError\u001b[0m: name 't_utils' is not defined"
     ]
    }
   ],
   "source": [
    "project_name = t_utils.choose_project()"
   ]
  },
  {
   "cell_type": "markdown",
   "id": "d898f611",
   "metadata": {},
   "source": [
    "## Initiate the database"
   ]
  },
  {
   "cell_type": "code",
   "execution_count": null,
   "id": "6d1103c3",
   "metadata": {
    "scrolled": true
   },
   "outputs": [],
   "source": [
    "project = p_utils.find_project(project_name=project_name.value)\n",
    "# Initiate db\n",
    "db_info_dict = t_utils.initiate_db(project)\n",
    "# Connect to Zooniverse project\n",
    "zoo_project = t_utils.connect_zoo_project(project)"
   ]
  },
  {
   "cell_type": "markdown",
   "id": "52f976b8",
   "metadata": {},
   "source": [
    "# Retrieve the student classifications"
   ]
  },
  {
   "cell_type": "markdown",
   "id": "68106a17",
   "metadata": {},
   "source": [
    "## Retrieve all zooniverse classifications"
   ]
  },
  {
   "cell_type": "code",
   "execution_count": null,
   "id": "5d66ee15",
   "metadata": {},
   "outputs": [],
   "source": [
    "zoo_info_dict = t_utils.retrieve__populate_zoo_info(\n",
    "    project = project, \n",
    "    db_info_dict = db_info_dict,\n",
    "    zoo_project = zoo_project,\n",
    "    zoo_info = [\"classifications\"]\n",
    ")"
   ]
  },
  {
   "cell_type": "markdown",
   "id": "b0c5f26d",
   "metadata": {},
   "source": [
    "## Filter and download zooniverse classifications"
   ]
  },
  {
   "cell_type": "code",
   "execution_count": null,
   "id": "3bab8bd9",
   "metadata": {},
   "outputs": [],
   "source": [
    "# base imports\n",
    "import os\n",
    "import pandas as pd\n",
    "import logging\n",
    "\n",
    "# widget imports\n",
    "import ipywidgets as widgets\n",
    "from ipywidgets import interactive, Layout, VBox\n",
    "from IPython.display import display\n",
    "import asyncio\n",
    "\n",
    "\n",
    "logging.basicConfig(level=logging.WARNING)\n",
    "logger = logging.getLogger(__name__)\n",
    "logger.setLevel(logging.DEBUG)\n",
    "out_df = pd.DataFrame()\n",
    "\n",
    "\n",
    "def filter_classifications(zoo_info_dict: dict):\n",
    "    \"\"\"\n",
    "    This function allows the user to specify a username prefix to download only their zoo classifications\n",
    "    \n",
    "    :param zoo_info_dict: a dictionary with the following keys:\n",
    "    :type zoo_info_dict: dict\n",
    "    :return: A text widget and a click button to download classifications.\n",
    "    \"\"\"\n",
    "    # Load the dic as a pandas df\n",
    "    zoo_classifications = zoo_info_dict[\"classifications\"]\n",
    "    \n",
    "    # Create the text widget to specify the prefix of the users\n",
    "    prefix_i = widgets.Text(\n",
    "        placeholder='',\n",
    "        description='Prefix of the usernames:',\n",
    "        disabled=False,\n",
    "        layout=Layout(width='95%'),\n",
    "        style = {'description_width': 'initial'}\n",
    "    )    \n",
    "    \n",
    "    # Create the download classifications button\n",
    "    download_button = widgets.Button(\n",
    "        description = 'Download classifications',\n",
    "        layout=Layout(width='25%'),\n",
    "        style = {'description_width': 'initial'},\n",
    "        button_style='danger'\n",
    "        )\n",
    "    \n",
    "    # When button is clicked filter classifications with that prefix and download classifications in a csv\n",
    "    async def f(prefix_i):\n",
    "        x = await t_utils.wait_for_change(download_button) #<---- Pass buttons into the function\n",
    "        if x == \"Download classifications\": \n",
    "            print(\"Your classifications will be downloaded shortly.\")\n",
    "\n",
    "            # Filter classifications with the prefix of interest\n",
    "            zoo_classifications_i = zoo_classifications[zoo_classifications[\"Username\"].str.startswith(prefix_i.result)].reset_index(drop=True)\n",
    "\n",
    "            # Create a csv with the classifications\n",
    "#             zoo_classifications_i.to_csv(\"classifications_zoo.csv\", index=False)\n",
    "            \n",
    "        else:\n",
    "            print(\"There was an issue downloading your classifications!\")\n",
    "\n",
    "    print(\"\")\n",
    "    print(\"\")\n",
    "    print(\"Download student classifications\")\n",
    "    display(VBox([prefix_widget,download_button])) #<----Display both widgets in an Vbox\n",
    "    asyncio.create_task(f(prefix_i))\n"
   ]
  },
  {
   "cell_type": "code",
   "execution_count": null,
   "id": "371ac9a0",
   "metadata": {},
   "outputs": [],
   "source": [
    "filter_classifications(zoo_info_dict)"
   ]
  },
  {
   "cell_type": "markdown",
   "id": "1f55747a",
   "metadata": {},
   "source": [
    "# Check subjects based on their id"
   ]
  },
  {
   "cell_type": "code",
   "execution_count": null,
   "id": "f2bc8c2a",
   "metadata": {},
   "outputs": [],
   "source": [
    "# Launch the subject viewer\n",
    "t8.launch_viewer(agg_class_df, wm.checks['Subject type: #0'])"
   ]
  },
  {
   "cell_type": "code",
   "execution_count": null,
   "id": "c0a0fd24",
   "metadata": {},
   "outputs": [],
   "source": [
    "#END"
   ]
  }
 ],
 "metadata": {
  "kernelspec": {
   "display_name": "Python 3 (ipykernel)",
   "language": "python",
   "name": "python3"
  },
  "language_info": {
   "codemirror_mode": {
    "name": "ipython",
    "version": 3
   },
   "file_extension": ".py",
   "mimetype": "text/x-python",
   "name": "python",
   "nbconvert_exporter": "python",
   "pygments_lexer": "ipython3",
   "version": "3.7.13"
  }
 },
 "nbformat": 4,
 "nbformat_minor": 5
}
