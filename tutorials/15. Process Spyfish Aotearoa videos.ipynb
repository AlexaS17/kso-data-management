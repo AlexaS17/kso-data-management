{
 "cells": [
  {
   "cell_type": "markdown",
   "id": "95aea466",
   "metadata": {},
   "source": [
    "<img align=\"left\" src=\"https://panoptes-uploads.zooniverse.org/project_avatar/86c23ca7-bbaa-4e84-8d8a-876819551431.png\" type=\"image/png\" height=100 width=100>\n",
    "</img>\n",
    "\n",
    "\n",
    "<h1 align=\"right\">KSO Tutorials #15: Process Spyfish Aotearoa videos</h1>\n",
    "<h3 align=\"right\">Written by @jannesgg and @vykanton</h3>\n",
    "<h5 align=\"right\">Last updated: Sep 15th, 2021</h5>"
   ]
  },
  {
   "cell_type": "markdown",
   "id": "6f0fc779",
   "metadata": {},
   "source": [
    "# Set up and requirements"
   ]
  },
  {
   "cell_type": "markdown",
   "id": "ed3d9d14",
   "metadata": {},
   "source": [
    "Import Python packages"
   ]
  },
  {
   "cell_type": "code",
   "execution_count": 1,
   "id": "46ca201f",
   "metadata": {
    "scrolled": true
   },
   "outputs": [
    {
     "data": {
      "application/javascript": [
       "require.config({\n",
       "    paths: {\n",
       "        datatables: 'https://cdn.datatables.net/1.10.19/js/jquery.dataTables.min',\n",
       "    }\n",
       "});\n",
       "\n",
       "$('head').append('<link rel=\"stylesheet\" type=\"text/css\" \\\n",
       "                href = \"https://cdn.datatables.net/1.10.19/css/jquery.dataTables.min.css\" > ');\n",
       "\n",
       "$('head').append('<style> table td { text-overflow: ellipsis; overflow: hidden; } </style>');\n",
       "\n",
       "$('head').append(`<script>\n",
       "function eval_functions(map_or_text) {\n",
       "    if (typeof map_or_text === \"string\") {\n",
       "        if (map_or_text.startsWith(\"function\")) {\n",
       "            try {\n",
       "                // Note: parenthesis are required around the whole expression for eval to return a value!\n",
       "                // See https://stackoverflow.com/a/7399078/911298.\n",
       "                //\n",
       "                // eval(\"local_fun = \" + map_or_text) would fail because local_fun is not declared\n",
       "                // (using var, let or const would work, but it would only be declared in the local scope\n",
       "                // and therefore the value could not be retrieved).\n",
       "                const func = eval(\"(\" + map_or_text + \")\");\n",
       "                if (typeof func !== \"function\") {\n",
       "                    // Note: backquotes are super convenient!\n",
       "                    // https://developer.mozilla.org/en-US/docs/Web/JavaScript/Reference/Template_literals\n",
       "                    console.error(\"Evaluated expression \" + map_or_text + \" is not a function (type is \" + typeof func + \")\");\n",
       "                    return map_or_text;\n",
       "                }\n",
       "                // Return the function\n",
       "                return func;\n",
       "            } catch (e) {\n",
       "                // Make sure to print the error with a second argument to console.error().\n",
       "                console.error(\"itables was not able to parse \" + map_or_text, e);\n",
       "            }\n",
       "        }\n",
       "    } else if (typeof map_or_text === \"object\") {\n",
       "        if (map_or_text instanceof Array) {\n",
       "            // Note: \"var\" is now superseded by \"let\" and \"const\".\n",
       "            // https://medium.com/javascript-scene/javascript-es6-var-let-or-const-ba58b8dcde75\n",
       "            const result = [];\n",
       "            // Note: \"for of\" is the best way to iterate through an iterable.\n",
       "            // https://developer.mozilla.org/en-US/docs/Web/JavaScript/Reference/Statements/for...of\n",
       "            for (const item of map_or_text) {\n",
       "                result.push(eval_functions(item));\n",
       "            }\n",
       "            return result;\n",
       "\n",
       "            // Alternatively, more functional approach in one line:\n",
       "            // return map_or_text.map(eval_functions);\n",
       "        } else {\n",
       "            const result = {};\n",
       "            // Object.keys() is safer than \"for in\" because otherwise you might have keys\n",
       "            // that aren't defined in the object itself.\n",
       "            //\n",
       "            // See https://stackoverflow.com/a/684692/911298.\n",
       "            for (const item of Object.keys(map_or_text)) {\n",
       "                result[item] = eval_functions(map_or_text[item]);\n",
       "            }\n",
       "            return result;\n",
       "        }\n",
       "    }\n",
       "\n",
       "    return map_or_text;\n",
       "}\n",
       "\n",
       "</` + 'script>');"
      ],
      "text/plain": [
       "<IPython.core.display.Javascript object>"
      ]
     },
     "metadata": {},
     "output_type": "display_data"
    },
    {
     "name": "stderr",
     "output_type": "stream",
     "text": [
      "WARNING:panoptes_client:Broken libmagic installation detected. The python-magic module is installed but can't be imported. Please check that both python-magic and the libmagic shared library are installed correctly. Uploading media other than images may not work.\n"
     ]
    },
    {
     "name": "stdout",
     "output_type": "stream",
     "text": [
      "Packages loaded successfully\n"
     ]
    }
   ],
   "source": [
    "# Set the directory of the libraries\n",
    "import sys\n",
    "sys.path.append('..')\n",
    "\n",
    "# Set to display dataframes as interactive tables\n",
    "from itables import init_notebook_mode\n",
    "init_notebook_mode(all_interactive=True)\n",
    "\n",
    "# Import required modules\n",
    "import utils.t15_utils as t15\n",
    "import utils.t12_utils as t12\n",
    "\n",
    "print(\"Packages loaded successfully\")\n",
    "\n",
    "import os\n",
    "import pandas as pd\n",
    "import sqlite3\n",
    "import numpy as np\n",
    "from tqdm import tqdm\n",
    "import subprocess\n",
    "import ipywidgets as widgets\n",
    "from ipywidgets import interact, Layout\n",
    "\n",
    "import utils.db_utils as db_utils\n",
    "import utils.server_utils as server_utils\n",
    "import utils.spyfish_utils as spyfish_utils"
   ]
  },
  {
   "cell_type": "markdown",
   "id": "3f70aec5",
   "metadata": {},
   "source": [
    "# Get list of surveys from S3"
   ]
  },
  {
   "cell_type": "code",
   "execution_count": 7,
   "id": "f380d63a",
   "metadata": {},
   "outputs": [
    {
     "name": "stdout",
     "output_type": "stream",
     "text": [
      "Enter the key id for the aws server········\n",
      "Enter the secret access key for the aws server········\n"
     ]
    }
   ],
   "source": [
    "aws_access_key_id, aws_secret_access_key = server_utils.aws_credentials()"
   ]
  },
  {
   "cell_type": "code",
   "execution_count": 8,
   "id": "2387714b",
   "metadata": {},
   "outputs": [],
   "source": [
    "client = server_utils.connect_s3(aws_access_key_id, aws_secret_access_key)"
   ]
  },
  {
   "cell_type": "code",
   "execution_count": null,
   "id": "ec445444",
   "metadata": {},
   "outputs": [],
   "source": [
    "# See list of buckets available\n",
    "#client.list_buckets()"
   ]
  },
  {
   "cell_type": "code",
   "execution_count": 9,
   "id": "050e5ac6",
   "metadata": {},
   "outputs": [],
   "source": [
    "bucket_i = \"marine-buv\""
   ]
  },
  {
   "cell_type": "code",
   "execution_count": 10,
   "id": "f27be0aa",
   "metadata": {},
   "outputs": [
    {
     "ename": "ClientError",
     "evalue": "An error occurred (SignatureDoesNotMatch) when calling the ListObjects operation: The request signature we calculated does not match the signature you provided. Check your key and signing method.",
     "output_type": "error",
     "traceback": [
      "\u001b[1;31m---------------------------------------------------------------------------\u001b[0m",
      "\u001b[1;31mClientError\u001b[0m                               Traceback (most recent call last)",
      "\u001b[1;32m<ipython-input-10-5f1864bdd66e>\u001b[0m in \u001b[0;36m<module>\u001b[1;34m\u001b[0m\n\u001b[0;32m      1\u001b[0m \u001b[1;31m# Retrieve info from the bucket\u001b[0m\u001b[1;33m\u001b[0m\u001b[1;33m\u001b[0m\u001b[1;33m\u001b[0m\u001b[0m\n\u001b[1;32m----> 2\u001b[1;33m \u001b[0mcontents_s3_pd\u001b[0m \u001b[1;33m=\u001b[0m \u001b[0mserver_utils\u001b[0m\u001b[1;33m.\u001b[0m\u001b[0mretrieve_s3_buckets_info\u001b[0m\u001b[1;33m(\u001b[0m\u001b[0mclient\u001b[0m\u001b[1;33m,\u001b[0m \u001b[0mbucket_i\u001b[0m\u001b[1;33m)\u001b[0m\u001b[1;33m\u001b[0m\u001b[1;33m\u001b[0m\u001b[0m\n\u001b[0m\u001b[0;32m      3\u001b[0m \u001b[1;33m\u001b[0m\u001b[0m\n\u001b[0;32m      4\u001b[0m \u001b[1;31m# Specify the filename of the objects (videos)\u001b[0m\u001b[1;33m\u001b[0m\u001b[1;33m\u001b[0m\u001b[1;33m\u001b[0m\u001b[0m\n\u001b[0;32m      5\u001b[0m \u001b[0mcontents_s3_pd\u001b[0m\u001b[1;33m[\u001b[0m\u001b[1;34m'raw_filename'\u001b[0m\u001b[1;33m]\u001b[0m \u001b[1;33m=\u001b[0m \u001b[0mcontents_s3_pd\u001b[0m\u001b[1;33m[\u001b[0m\u001b[1;34m'Key'\u001b[0m\u001b[1;33m]\u001b[0m\u001b[1;33m.\u001b[0m\u001b[0mstr\u001b[0m\u001b[1;33m.\u001b[0m\u001b[0msplit\u001b[0m\u001b[1;33m(\u001b[0m\u001b[1;34m'/'\u001b[0m\u001b[1;33m)\u001b[0m\u001b[1;33m.\u001b[0m\u001b[0mstr\u001b[0m\u001b[1;33m[\u001b[0m\u001b[1;33m-\u001b[0m\u001b[1;36m1\u001b[0m\u001b[1;33m]\u001b[0m\u001b[1;33m\u001b[0m\u001b[1;33m\u001b[0m\u001b[0m\n",
      "\u001b[1;32m~\\koster_data_management\\utils\\server_utils.py\u001b[0m in \u001b[0;36mretrieve_s3_buckets_info\u001b[1;34m(client, bucket_i)\u001b[0m\n\u001b[0;32m     97\u001b[0m \u001b[1;33m\u001b[0m\u001b[0m\n\u001b[0;32m     98\u001b[0m     \u001b[1;31m# Select the relevant bucket\u001b[0m\u001b[1;33m\u001b[0m\u001b[1;33m\u001b[0m\u001b[1;33m\u001b[0m\u001b[0m\n\u001b[1;32m---> 99\u001b[1;33m     \u001b[0mobjs\u001b[0m \u001b[1;33m=\u001b[0m \u001b[0mclient\u001b[0m\u001b[1;33m.\u001b[0m\u001b[0mlist_objects\u001b[0m\u001b[1;33m(\u001b[0m\u001b[0mBucket\u001b[0m\u001b[1;33m=\u001b[0m\u001b[0mbucket_i\u001b[0m\u001b[1;33m)\u001b[0m\u001b[1;33m\u001b[0m\u001b[1;33m\u001b[0m\u001b[0m\n\u001b[0m\u001b[0;32m    100\u001b[0m \u001b[1;33m\u001b[0m\u001b[0m\n\u001b[0;32m    101\u001b[0m     \u001b[1;31m# Set the contents as pandas dataframe\u001b[0m\u001b[1;33m\u001b[0m\u001b[1;33m\u001b[0m\u001b[1;33m\u001b[0m\u001b[0m\n",
      "\u001b[1;32m~\\anaconda3\\lib\\site-packages\\botocore\\client.py\u001b[0m in \u001b[0;36m_api_call\u001b[1;34m(self, *args, **kwargs)\u001b[0m\n\u001b[0;32m    384\u001b[0m                     \"%s() only accepts keyword arguments.\" % py_operation_name)\n\u001b[0;32m    385\u001b[0m             \u001b[1;31m# The \"self\" in this scope is referring to the BaseClient.\u001b[0m\u001b[1;33m\u001b[0m\u001b[1;33m\u001b[0m\u001b[1;33m\u001b[0m\u001b[0m\n\u001b[1;32m--> 386\u001b[1;33m             \u001b[1;32mreturn\u001b[0m \u001b[0mself\u001b[0m\u001b[1;33m.\u001b[0m\u001b[0m_make_api_call\u001b[0m\u001b[1;33m(\u001b[0m\u001b[0moperation_name\u001b[0m\u001b[1;33m,\u001b[0m \u001b[0mkwargs\u001b[0m\u001b[1;33m)\u001b[0m\u001b[1;33m\u001b[0m\u001b[1;33m\u001b[0m\u001b[0m\n\u001b[0m\u001b[0;32m    387\u001b[0m \u001b[1;33m\u001b[0m\u001b[0m\n\u001b[0;32m    388\u001b[0m         \u001b[0m_api_call\u001b[0m\u001b[1;33m.\u001b[0m\u001b[0m__name__\u001b[0m \u001b[1;33m=\u001b[0m \u001b[0mstr\u001b[0m\u001b[1;33m(\u001b[0m\u001b[0mpy_operation_name\u001b[0m\u001b[1;33m)\u001b[0m\u001b[1;33m\u001b[0m\u001b[1;33m\u001b[0m\u001b[0m\n",
      "\u001b[1;32m~\\anaconda3\\lib\\site-packages\\botocore\\client.py\u001b[0m in \u001b[0;36m_make_api_call\u001b[1;34m(self, operation_name, api_params)\u001b[0m\n\u001b[0;32m    703\u001b[0m             \u001b[0merror_code\u001b[0m \u001b[1;33m=\u001b[0m \u001b[0mparsed_response\u001b[0m\u001b[1;33m.\u001b[0m\u001b[0mget\u001b[0m\u001b[1;33m(\u001b[0m\u001b[1;34m\"Error\"\u001b[0m\u001b[1;33m,\u001b[0m \u001b[1;33m{\u001b[0m\u001b[1;33m}\u001b[0m\u001b[1;33m)\u001b[0m\u001b[1;33m.\u001b[0m\u001b[0mget\u001b[0m\u001b[1;33m(\u001b[0m\u001b[1;34m\"Code\"\u001b[0m\u001b[1;33m)\u001b[0m\u001b[1;33m\u001b[0m\u001b[1;33m\u001b[0m\u001b[0m\n\u001b[0;32m    704\u001b[0m             \u001b[0merror_class\u001b[0m \u001b[1;33m=\u001b[0m \u001b[0mself\u001b[0m\u001b[1;33m.\u001b[0m\u001b[0mexceptions\u001b[0m\u001b[1;33m.\u001b[0m\u001b[0mfrom_code\u001b[0m\u001b[1;33m(\u001b[0m\u001b[0merror_code\u001b[0m\u001b[1;33m)\u001b[0m\u001b[1;33m\u001b[0m\u001b[1;33m\u001b[0m\u001b[0m\n\u001b[1;32m--> 705\u001b[1;33m             \u001b[1;32mraise\u001b[0m \u001b[0merror_class\u001b[0m\u001b[1;33m(\u001b[0m\u001b[0mparsed_response\u001b[0m\u001b[1;33m,\u001b[0m \u001b[0moperation_name\u001b[0m\u001b[1;33m)\u001b[0m\u001b[1;33m\u001b[0m\u001b[1;33m\u001b[0m\u001b[0m\n\u001b[0m\u001b[0;32m    706\u001b[0m         \u001b[1;32melse\u001b[0m\u001b[1;33m:\u001b[0m\u001b[1;33m\u001b[0m\u001b[1;33m\u001b[0m\u001b[0m\n\u001b[0;32m    707\u001b[0m             \u001b[1;32mreturn\u001b[0m \u001b[0mparsed_response\u001b[0m\u001b[1;33m\u001b[0m\u001b[1;33m\u001b[0m\u001b[0m\n",
      "\u001b[1;31mClientError\u001b[0m: An error occurred (SignatureDoesNotMatch) when calling the ListObjects operation: The request signature we calculated does not match the signature you provided. Check your key and signing method."
     ]
    }
   ],
   "source": [
    "# Retrieve info from the bucket\n",
    "contents_s3_pd = server_utils.retrieve_s3_buckets_info(client, bucket_i)\n",
    "\n",
    "# Specify the filename of the objects (videos)        \n",
    "contents_s3_pd['raw_filename'] = contents_s3_pd['Key'].str.split('/').str[-1]\n",
    "\n",
    "# Specify the prefix (directory) of the objects        \n",
    "contents_s3_pd['prefix'] = contents_s3_pd['Key'].str.rsplit('/',1).str[0]"
   ]
  },
  {
   "cell_type": "code",
   "execution_count": null,
   "id": "27cca737",
   "metadata": {},
   "outputs": [],
   "source": [
    "# Upload csv to s3 \n",
    "upload_file_to_s3(client, *, bucket, key, filename)"
   ]
  },
  {
   "cell_type": "code",
   "execution_count": 6,
   "id": "808b4147",
   "metadata": {},
   "outputs": [
    {
     "data": {
      "text/plain": [
       "array(['ROV/2002 Auckland Islands',\n",
       "       'ROV/2002_01 Auckland Is Chambres Inlet',\n",
       "       'ROV/2005 Bounty Islands/DISC2-Title1-Chapter1-6-Bounty',\n",
       "       'ROV/2005 Bounty Islands/DISC3-Title2-Chapter1-5-Tunnel',\n",
       "       'ROV/2005 Bounty Islands',\n",
       "       'ROV/2008 Whananaki/2008_Benthic video and still_DV and ROV',\n",
       "       'ROV/2008 Whananaki/2008_Benthic video and still_DV and ROV/Still Vid Cam',\n",
       "       'ROV/2008 Whananaki/2008_Benthic video and still_DV and ROV/Stills panasonic still camera',\n",
       "       \"ROV/2008 Whananaki/2008_Benthic video and still_DV and ROV/Vince's video\",\n",
       "       'ROV/2008_04 Northland', 'ROV/2008_04 Northland/Still Vid Cam',\n",
       "       'ROV/2008_04 Northland/Stills panasonic still camera',\n",
       "       \"ROV/2008_04 Northland/Vince's video\", 'ROV/2008_10 Poor Knights',\n",
       "       'ROV/2008_10 Poor Knights/Short clips', 'ROV/2008_12 Tasman Bay',\n",
       "       'ROV/2008_12 Tory Channel', 'ROV/2015_03 Poor Knights Islands',\n",
       "       'Tonga Island BUV/WP1', 'Tonga Island BUV/WP10',\n",
       "       'Tonga Island BUV/WP14', 'Tonga Island BUV/WP15',\n",
       "       'Tonga Island BUV/WP16', 'Tonga Island BUV/WP17',\n",
       "       'Tonga Island BUV/WP18', 'Tonga Island BUV/WP19',\n",
       "       'Tonga Island BUV/WP2', 'Tonga Island BUV/WP21',\n",
       "       'Tonga Island BUV/WP22', 'Tonga Island BUV/WP23',\n",
       "       'Tonga Island BUV/WP24', 'Tonga Island BUV/WP25',\n",
       "       'Tonga Island BUV/WP26', 'Tonga Island BUV/WP27',\n",
       "       'Tonga Island BUV/WP28', 'Tonga Island BUV/WP29',\n",
       "       'Tonga Island BUV/WP3', 'Tonga Island BUV/WP30',\n",
       "       'Tonga Island BUV/WP31', 'Tonga Island BUV/WP32',\n",
       "       'Tonga Island BUV/WP33', 'Tonga Island BUV/WP33_2',\n",
       "       'Tonga Island BUV/WP4', 'Tonga Island BUV/WP42',\n",
       "       'Tonga Island BUV/WP44', 'Tonga Island BUV/WP45',\n",
       "       'Tonga Island BUV/WP46', 'Tonga Island BUV/WP47',\n",
       "       'Tonga Island BUV/WP5', 'Tonga Island BUV/WP50',\n",
       "       'Tonga Island BUV/WP51', 'Tonga Island BUV/WP52',\n",
       "       'Tonga Island BUV/WP53', 'Tonga Island BUV/WP54',\n",
       "       'Tonga Island BUV/WP55', 'Tonga Island BUV/WP56',\n",
       "       'Tonga Island BUV/WP59', 'Tonga Island BUV/WP6',\n",
       "       'Tonga Island BUV/WP61', 'Tonga Island BUV/WP67',\n",
       "       'Tonga Island BUV/WP68', 'Tonga Island BUV/WP7',\n",
       "       'Tonga Island BUV/WP70', 'Tonga Island BUV/WP71',\n",
       "       'Tonga Island BUV/WP72', 'Tonga Island BUV/WP8',\n",
       "       'Tonga Island BUV/unknown',\n",
       "       'bayofislands-dropdown-2021/2021-04-12'], dtype=object)"
      ]
     },
     "execution_count": 6,
     "metadata": {},
     "output_type": "execute_result"
    }
   ],
   "source": [
    "contents_s3_pd['prefix'].unique()\n",
    "#no_rov_contents_s3_pd = contents_s3_pd[~contents_s3_pd['prefix'].str.contains(\"ROV\")].reset_index(drop = True)\n",
    "#no_rov_contents_s3_pd"
   ]
  },
  {
   "cell_type": "code",
   "execution_count": null,
   "id": "3b953be2",
   "metadata": {},
   "outputs": [],
   "source": [
    "# Select only files within the buv-zooniverse-uploads bucket\n",
    "zoo_contents_s3_pd = contents_s3_pd[contents_s3_pd['prefix'].str.contains(\"buv-zooniverse-uploads\")].reset_index(drop = True)\n",
    "\n",
    "# Specify the formats of the movies to select\n",
    "movie_formats = tuple(['wmv', 'mpg', 'mov', 'avi', 'mp4', 'MOV', 'MP4'])\n",
    "\n",
    "# Select only files of interest (movies)\n",
    "zoo_contents_s3_pd_movies = zoo_contents_s3_pd[zoo_contents_s3_pd['raw_filename'].str.endswith(movie_formats)]"
   ]
  },
  {
   "cell_type": "markdown",
   "id": "0ba3886c",
   "metadata": {},
   "source": [
    "# Get list of surveys from movies csv"
   ]
  },
  {
   "cell_type": "code",
   "execution_count": null,
   "id": "93cb5d6e",
   "metadata": {},
   "outputs": [],
   "source": [
    "# Get the location of the csv files with initial info to populate the db\n",
    "sites_csv, movies_csv, species_csv = server_utils.get_sites_movies_species()\n",
    "\n",
    "# Load the csv with movies information\n",
    "movies_df = pd.read_csv(movies_csv) \n",
    "\n",
    "# Combine the entire movies and go_pro_files\n",
    "movies_df['files'] = np.where(movies_df['go_pro_files'].isna(), movies_df['filename'], movies_df['filename'] + \";\" + movies_df['go_pro_files'])\n",
    "\n",
    "# Transform the df to have a row per filename\n",
    "movies_df = movies_df.assign(raw_filename=movies_df['files'].str.split(';')).explode('raw_filename')\n",
    "\n",
    "# Specify the key (path in S3 of the object)\n",
    "movies_df[\"Key\"] = movies_df[\"prefix\"] + \"/\" + movies_df[\"raw_filename\"]"
   ]
  },
  {
   "cell_type": "markdown",
   "id": "0f39da3d",
   "metadata": {},
   "source": [
    "# Find surveys missing from s3"
   ]
  },
  {
   "cell_type": "code",
   "execution_count": null,
   "id": "69ca36ec",
   "metadata": {},
   "outputs": [],
   "source": [
    "# Missing info for files in the \"buv-zooniverse-uploads\"\n",
    "missing_info = zoo_contents_s3_pd_movies.merge(movies_df, \n",
    "                                        on=['Key'], \n",
    "                                        how='outer', \n",
    "                                        indicator=True)\n",
    "\n",
    "#missing_info[missing_info[\"_merge\"]==\"both\"]\n",
    "#missing_info"
   ]
  },
  {
   "cell_type": "code",
   "execution_count": null,
   "id": "d2da9a33",
   "metadata": {},
   "outputs": [],
   "source": [
    "# Find out about those files missing from the S3\n",
    "missing_from_s3 = missing_info[missing_info[\"_merge\"]==\"right_only\"]\n",
    "missing_bad_deployment = missing_from_s3[missing_from_s3[\"IsBadDeployment\"]]\n",
    "missing_no_bucket_info = missing_from_s3[~(missing_from_s3[\"IsBadDeployment\"])&(missing_from_s3[\"bucket\"].isna())]"
   ]
  },
  {
   "cell_type": "code",
   "execution_count": null,
   "id": "7d7f4c69",
   "metadata": {},
   "outputs": [],
   "source": [
    "print(\"There are\", len(missing_from_s3.index), \"movies missing from the S3\")\n",
    "print(len(missing_bad_deployment.index), \"movies are bad deployments. Their filenames are:\")\n",
    "print(*missing_bad_deployment.filename.unique(), sep = \"\\n\")\n",
    "print(len(missing_no_bucket_info.index), \"movies are good deployments but don't have bucket info. Their filenames are:\")\n",
    "print(*missing_no_bucket_info.filename.unique(), sep = \"\\n\")"
   ]
  },
  {
   "cell_type": "markdown",
   "id": "453642f3",
   "metadata": {},
   "source": [
    "### Find surveys missing from csv"
   ]
  },
  {
   "cell_type": "code",
   "execution_count": null,
   "id": "8955a13f",
   "metadata": {},
   "outputs": [],
   "source": [
    "missing_from_csv = missing_info[missing_info[\"_merge\"]==\"left_only\"].reset_index(drop=True)"
   ]
  },
  {
   "cell_type": "code",
   "execution_count": null,
   "id": "bdadd0ce",
   "metadata": {},
   "outputs": [],
   "source": [
    "print(\"There are\", len(missing_from_csv.index), \"movies missing from the csv\")"
   ]
  },
  {
   "cell_type": "code",
   "execution_count": null,
   "id": "6a10005d",
   "metadata": {},
   "outputs": [],
   "source": [
    "# Combine the location of the file and the filename\n",
    "missing_from_csv[\"location_and_filename\"] = \"S3_prefix: \" + missing_from_csv['prefix_x'].str.rsplit('/',1).str[1] + \" | Filename: \" + missing_from_csv['raw_filename_x']"
   ]
  },
  {
   "cell_type": "code",
   "execution_count": null,
   "id": "b5eb8db3",
   "metadata": {},
   "outputs": [],
   "source": [
    "missing_from_csv"
   ]
  },
  {
   "cell_type": "code",
   "execution_count": null,
   "id": "171c3554",
   "metadata": {
    "scrolled": true
   },
   "outputs": [],
   "source": [
    "# Specify the go pro movies to update\n",
    "go_pro_mov_to_update = go_pro_movies_to_update(missing_from_csv)"
   ]
  },
  {
   "cell_type": "code",
   "execution_count": null,
   "id": "8ec37d47",
   "metadata": {},
   "outputs": [],
   "source": [
    "# Specify the full movies to update\n",
    "full_mov_to_update = full_movie_to_update(missing_from_csv)"
   ]
  },
  {
   "cell_type": "code",
   "execution_count": null,
   "id": "40932ccf",
   "metadata": {},
   "outputs": [],
   "source": [
    "mov_to_update.value"
   ]
  },
  {
   "cell_type": "code",
   "execution_count": null,
   "id": "69aeb546",
   "metadata": {},
   "outputs": [],
   "source": [
    "# Select multiple movies to include information of\n",
    "def go_pro_movies_to_update(df):\n",
    "    \n",
    "    # Save the filenames of the movies missing\n",
    "    filename_missing_csv = df.location_and_filename.unique()\n",
    "    \n",
    "    # Display the project options\n",
    "    movie_to_update = widgets.SelectMultiple(\n",
    "        options=filename_missing_csv,\n",
    "        rows=15,\n",
    "        layout=Layout(width='80%'),\n",
    "        description=\"GO pro movies:\",\n",
    "        disabled=False,\n",
    "        \n",
    "    )\n",
    "    \n",
    "    display(movie_to_update)\n",
    "    return movie_to_update\n",
    "\n",
    "# Select one movie to include information of\n",
    "def full_movie_to_update(df):\n",
    "    \n",
    "    # Save the filenames of the movies missing\n",
    "    filename_missing_csv = df.location_and_filename.unique()\n",
    "    \n",
    "    # Display the project options\n",
    "    movie_to_update = widgets.Dropdown(\n",
    "        options=filename_missing_csv,\n",
    "        rows=15,\n",
    "        layout=Layout(width='80%'),\n",
    "        description=\"Full movie:\",\n",
    "        disabled=False,\n",
    "        \n",
    "    )\n",
    "    \n",
    "    display(movie_to_update)\n",
    "    return movie_to_update\n"
   ]
  },
  {
   "cell_type": "code",
   "execution_count": null,
   "id": "3ca4fae7",
   "metadata": {},
   "outputs": [],
   "source": [
    "info_csv = info_to_csv(missing_from_csv, mov_to_update.value)"
   ]
  },
  {
   "cell_type": "code",
   "execution_count": null,
   "id": "4d77c763",
   "metadata": {},
   "outputs": [],
   "source": [
    "# Select the info to add to the csv\n",
    "def info_to_csv(df, movies):\n",
    "    \n",
    "    # Save the filenames of the movies missing\n",
    "    filename_missing_csv = df.location_and_filename.unique()\n",
    "    \n",
    "    # Display the project options\n",
    "    movie_to_update = widgets.SelectMultiple(\n",
    "        options=filename_missing_csv,\n",
    "        rows=15,\n",
    "        layout=Layout(width='80%'),\n",
    "        description=\"Movie:\",\n",
    "        disabled=False,\n",
    "        \n",
    "    )\n",
    "    \n",
    "    display(movie_to_update)\n",
    "    return movie_to_update"
   ]
  },
  {
   "cell_type": "markdown",
   "id": "046787bf",
   "metadata": {},
   "source": [
    "# Concatenate go pros and update csv"
   ]
  },
  {
   "cell_type": "code",
   "execution_count": null,
   "id": "407056ec",
   "metadata": {},
   "outputs": [],
   "source": [
    "zoo_contents_s3_pd_movies[zoo_contents_s3_pd_movies['Key'].str.contains(\"TUH_032\")].Key.unique()"
   ]
  },
  {
   "cell_type": "code",
   "execution_count": null,
   "id": "55a999cc",
   "metadata": {},
   "outputs": [],
   "source": [
    "movies_df[movies_df['siteName']==\"TUH_037\"].go_pro_files.unique()"
   ]
  },
  {
   "cell_type": "code",
   "execution_count": null,
   "id": "ea738831",
   "metadata": {},
   "outputs": [],
   "source": [
    "missing_info[(missing_info[\"_merge\"]==\"right_only\")]"
   ]
  },
  {
   "cell_type": "code",
   "execution_count": null,
   "id": "426324ab",
   "metadata": {},
   "outputs": [],
   "source": [
    "# Select only those deployments that are valid\n",
    "movies_df = movies_df[~movies_df[\"IsBadDeployment\"]].reset_index(drop=True)"
   ]
  },
  {
   "cell_type": "code",
   "execution_count": null,
   "id": "02d1d296",
   "metadata": {},
   "outputs": [],
   "source": [
    "# Set the directory of the libraries\n",
    "import sys\n",
    "sys.path.append('..')\n",
    "\n",
    "# Import required modules\n",
    "import utils.t15_utils as t15\n",
    "import utils.t12_utils as t12\n",
    "\n",
    "print(\"Packages loaded successfully\")\n",
    "\n",
    "import os\n",
    "import pandas as pd\n",
    "import sqlite3\n",
    "import pandas as pd\n",
    "from tqdm import tqdm\n",
    "import subprocess\n",
    "\n",
    "import utils.db_utils as db_utils\n",
    "import utils.server_utils as server_utils\n",
    "import utils.spyfish_utils as spyfish_utils\n",
    "\n",
    "# Get the location of the csv files with initial info to populate the db\n",
    "sites_csv, movies_csv, species_csv = server_utils.get_sites_movies_species()\n",
    "\n",
    "# Load the csv with movies information\n",
    "movies_df = pd.read_csv(movies_csv)\n",
    "\n",
    "# Select only those deployments that are valid\n",
    "movies_df = movies_df[~movies_df[\"IsBadDeployment\"]].reset_index(drop=True)    "
   ]
  },
  {
   "cell_type": "code",
   "execution_count": null,
   "id": "02b46ffa",
   "metadata": {},
   "outputs": [],
   "source": [
    "# Select only surveys that are missing filenames\n",
    "unprocessed_movies_df = movies_df[movies_df[\"filename\"].isna()].reset_index(drop=True)\n",
    "\n",
    "# Write the filename of the concatenated movie\n",
    "unprocessed_movies_df[\"filename\"] = unprocessed_movies_df[\"siteName\"] + \"_\" + unprocessed_movies_df[\"created_on\"].str.replace('/','_')+ \".MP4\""
   ]
  },
  {
   "cell_type": "code",
   "execution_count": null,
   "id": "ca51af7c",
   "metadata": {},
   "outputs": [],
   "source": [
    "zoo_contents_s3_pd_movies[zoo_contents_s3_pd_movies['raw_filename'].str.contains(\"Site 20\")]"
   ]
  },
  {
   "cell_type": "code",
   "execution_count": null,
   "id": "2722b084",
   "metadata": {},
   "outputs": [],
   "source": [
    "unprocessed_movies_df"
   ]
  },
  {
   "cell_type": "code",
   "execution_count": null,
   "id": "ea053faf",
   "metadata": {},
   "outputs": [],
   "source": [
    "unprocessed_movies_df"
   ]
  },
  {
   "cell_type": "code",
   "execution_count": null,
   "id": "66f4a82d",
   "metadata": {
    "scrolled": false
   },
   "outputs": [],
   "source": [
    "spyfish_utils.concatenate_videos(unprocessed_movies_df, client)"
   ]
  },
  {
   "cell_type": "code",
   "execution_count": null,
   "id": "c1ca0f6d",
   "metadata": {},
   "outputs": [],
   "source": [
    "# Check that all videos have filenames\n",
    "if movies_df[\"filename\"].isna().any():\n",
    "    \n",
    "    #####Get info from bucket#####\n",
    "    # Your acess key for the s3 bucket. \n",
    "    #aws_access_key_id, aws_secret_access_key = server_utils.aws_credentials()\n",
    "\n",
    "    # Specify the bucket where the BUV files are\n",
    "    bucket_i = movies_df['bucket'].str.split('/').str[0].dropna().unique()[1]"
   ]
  },
  {
   "cell_type": "code",
   "execution_count": null,
   "id": "69b2d0f9",
   "metadata": {},
   "outputs": [],
   "source": [
    "# Retrieve info from the bucket\n",
    "contents_s3_pd = server_utils.retrieve_s3_buckets_info(client, bucket_i)"
   ]
  },
  {
   "cell_type": "code",
   "execution_count": null,
   "id": "e23095b8",
   "metadata": {},
   "outputs": [],
   "source": [
    "contents_s3_pd"
   ]
  },
  {
   "cell_type": "code",
   "execution_count": null,
   "id": "15e07aa4",
   "metadata": {},
   "outputs": [],
   "source": [
    "contents_s3_pd[contents_s3_pd['Key'].str.contains(\"buv-zooniverse-uploads/tuhua-buv-2020/TUH_021/TUH_021__22_09_2020.MP4\")]['Key'].unique()"
   ]
  },
  {
   "cell_type": "code",
   "execution_count": null,
   "id": "9f821137",
   "metadata": {},
   "outputs": [],
   "source": [
    "#client.delete_object(Bucket=bucket_i, Key=\"buv-zooniverse-uploads/tuhua-buv-2020/TUH_021/TUH_021__22_09_2020.MP4\")"
   ]
  },
  {
   "cell_type": "code",
   "execution_count": null,
   "id": "99c36b3c",
   "metadata": {},
   "outputs": [],
   "source": [
    "# Specify the filename of the raw videos        \n",
    "contents_s3_pd['raw_filename'] = contents_s3_pd['Key'].str.split('/').str[-1]\n",
    "\n",
    "# Specify the filename of the raw videos        \n",
    "contents_s3_pd['bucket'] = contents_s3_pd['Key'].str.rsplit('/',1).str[0]"
   ]
  },
  {
   "cell_type": "code",
   "execution_count": null,
   "id": "597b0314",
   "metadata": {},
   "outputs": [],
   "source": [
    "session = server_utils.connect_s3(aws_access_key_id, aws_secret_access_key)"
   ]
  },
  {
   "cell_type": "code",
   "execution_count": null,
   "id": "4dae63c0",
   "metadata": {},
   "outputs": [],
   "source": [
    "!pip install boto3"
   ]
  },
  {
   "cell_type": "code",
   "execution_count": null,
   "id": "a1f14939",
   "metadata": {},
   "outputs": [],
   "source": [
    "# Check that filenames info from movies csv exists in S3\n",
    "import boto3\n",
    "from botocore.errorfactory import ClientError\n",
    "\n",
    "s3 = boto3.client('s3')\n",
    "try:\n",
    "    s3.head_object(Bucket='bucket_name', Key='file_path')\n",
    "except ClientError:\n",
    "    # Not found\n",
    "    pass\n"
   ]
  },
  {
   "cell_type": "markdown",
   "id": "be230b4a",
   "metadata": {},
   "source": [
    "# Check movies that can't be mapped"
   ]
  },
  {
   "cell_type": "code",
   "execution_count": null,
   "id": "0aefaedf",
   "metadata": {},
   "outputs": [],
   "source": [
    "# Select only those deployments that are valid\n",
    "    movies_df = movies_df[~movies_df[\"IsBadDeployment\"]].reset_index(drop=True)  \n",
    "    \n",
    "    # Report on unmapped movies\n",
    "    unmapped_movies_df = movies_df[~movies_df[\"exists\"]].reset_index(drop=True)\n",
    "    if not unmapped_movies_df.empty:\n",
    "        print(\"The following\", len(unmapped_movies_df.index), \"movies are missing from the S3 and are not bad deployments\")\n",
    "        print(*unmapped_movies_df.filename.unique(), sep = \"\\n\")"
   ]
  }
 ],
 "metadata": {
  "kernelspec": {
   "display_name": "Python 3",
   "language": "python",
   "name": "python3"
  },
  "language_info": {
   "codemirror_mode": {
    "name": "ipython",
    "version": 3
   },
   "file_extension": ".py",
   "mimetype": "text/x-python",
   "name": "python",
   "nbconvert_exporter": "python",
   "pygments_lexer": "ipython3",
   "version": "3.8.8"
  }
 },
 "nbformat": 4,
 "nbformat_minor": 5
}
