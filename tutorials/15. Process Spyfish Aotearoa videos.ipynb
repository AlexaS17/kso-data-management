{
 "cells": [
  {
   "cell_type": "markdown",
   "id": "95aea466",
   "metadata": {},
   "source": [
    "<img align=\"left\" src=\"https://panoptes-uploads.zooniverse.org/project_avatar/86c23ca7-bbaa-4e84-8d8a-876819551431.png\" type=\"image/png\" height=100 width=100>\n",
    "</img>\n",
    "\n",
    "\n",
    "<h1 align=\"right\">KSO Tutorials #15: Process Spyfish Aotearoa videos</h1>\n",
    "<h3 align=\"right\">Written by @jannesgg and @vykanton</h3>\n",
    "<h5 align=\"right\">Last updated: Sep 15th, 2021</h5>"
   ]
  },
  {
   "cell_type": "markdown",
   "id": "6f0fc779",
   "metadata": {},
   "source": [
    "# Set up and requirements"
   ]
  },
  {
   "cell_type": "markdown",
   "id": "ed3d9d14",
   "metadata": {},
   "source": [
    "Import Python packages"
   ]
  },
  {
   "cell_type": "code",
   "execution_count": null,
   "id": "4dae63c0",
   "metadata": {},
   "outputs": [],
   "source": [
    "!pip install boto3"
   ]
  },
  {
   "cell_type": "code",
   "execution_count": null,
   "id": "46ca201f",
   "metadata": {
    "scrolled": true
   },
   "outputs": [],
   "source": [
    "# Set the directory of the libraries\n",
    "import sys\n",
    "sys.path.append('..')\n",
    "\n",
    "# Import required modules\n",
    "import utils.t15_utils as t15\n",
    "import utils.t12_utils as t12\n",
    "from utils.zooniverse_utils import retrieve_zoo_info, populate_subjects\n",
    "\n",
    "print(\"Packages loaded successfully\")"
   ]
  },
  {
   "cell_type": "code",
   "execution_count": null,
   "id": "02d1d296",
   "metadata": {},
   "outputs": [],
   "source": [
    "# Set the directory of the libraries\n",
    "import sys\n",
    "sys.path.append('..')\n",
    "\n",
    "# Import required modules\n",
    "import utils.t15_utils as t15\n",
    "import utils.t12_utils as t12\n",
    "\n",
    "print(\"Packages loaded successfully\")\n",
    "\n",
    "import os\n",
    "import pandas as pd\n",
    "import sqlite3\n",
    "import pandas as pd\n",
    "from tqdm import tqdm\n",
    "import subprocess\n",
    "\n",
    "import utils.db_utils as db_utils\n",
    "import utils.server_utils as server_utils\n",
    "import utils.spyfish_utils as spyfish_utils\n",
    "\n",
    "# Get the location of the csv files with initial info to populate the db\n",
    "sites_csv, movies_csv, species_csv = server_utils.get_sites_movies_species()\n",
    "\n",
    "# Load the csv with movies information\n",
    "movies_df = pd.read_csv(movies_csv)\n",
    "\n",
    "# Select only those deployments that are valid\n",
    "movies_df = movies_df[~movies_df[\"IsBadDeployment\"]].reset_index(drop=True)    "
   ]
  },
  {
   "cell_type": "code",
   "execution_count": 2,
   "id": "f380d63a",
   "metadata": {},
   "outputs": [
    {
     "name": "stdout",
     "output_type": "stream",
     "text": [
      "Enter the key id for the aws server········\n",
      "Enter the secret access key for the aws server········\n"
     ]
    }
   ],
   "source": [
    "aws_access_key_id, aws_secret_access_key = server_utils.aws_credentials()"
   ]
  },
  {
   "cell_type": "code",
   "execution_count": 3,
   "id": "c1ca0f6d",
   "metadata": {},
   "outputs": [],
   "source": [
    "# Check that all videos have filenames\n",
    "if movies_df[\"filename\"].isna().any():\n",
    "    \n",
    "    #####Get info from bucket#####\n",
    "    # Your acess key for the s3 bucket. \n",
    "    #aws_access_key_id, aws_secret_access_key = server_utils.aws_credentials()\n",
    "\n",
    "    # Specify the bucket where the BUV files are\n",
    "    bucket_i = movies_df['bucket'].str.split('/').str[0].dropna().unique()[1]"
   ]
  },
  {
   "cell_type": "code",
   "execution_count": 4,
   "id": "2387714b",
   "metadata": {},
   "outputs": [],
   "source": [
    "client = server_utils.connect_s3(aws_access_key_id, aws_secret_access_key)"
   ]
  },
  {
   "cell_type": "code",
   "execution_count": 5,
   "id": "02b46ffa",
   "metadata": {},
   "outputs": [],
   "source": [
    "# Select only surveys that are missing filenames\n",
    "unprocessed_movies_df = movies_df[movies_df[\"filename\"].isna()].reset_index(drop=True)\n",
    "\n",
    "# Write the filename of the concatenated movie\n",
    "unprocessed_movies_df[\"filename\"] = unprocessed_movies_df[\"siteName\"] + \"_\" + unprocessed_movies_df[\"created_on\"].str.replace('/','_')+ \".MP4\""
   ]
  },
  {
   "cell_type": "code",
   "execution_count": 6,
   "id": "ea053faf",
   "metadata": {},
   "outputs": [
    {
     "data": {
      "text/html": [
       "<div>\n",
       "<style scoped>\n",
       "    .dataframe tbody tr th:only-of-type {\n",
       "        vertical-align: middle;\n",
       "    }\n",
       "\n",
       "    .dataframe tbody tr th {\n",
       "        vertical-align: top;\n",
       "    }\n",
       "\n",
       "    .dataframe thead th {\n",
       "        text-align: right;\n",
       "    }\n",
       "</style>\n",
       "<table border=\"1\" class=\"dataframe\">\n",
       "  <thead>\n",
       "    <tr style=\"text-align: right;\">\n",
       "      <th></th>\n",
       "      <th>movie_id</th>\n",
       "      <th>filename</th>\n",
       "      <th>siteName</th>\n",
       "      <th>created_on</th>\n",
       "      <th>Author</th>\n",
       "      <th>fps</th>\n",
       "      <th>duration</th>\n",
       "      <th>survey_start</th>\n",
       "      <th>survey_end</th>\n",
       "      <th>go_pro_files</th>\n",
       "      <th>bucket</th>\n",
       "      <th>IsBadDeployment</th>\n",
       "    </tr>\n",
       "  </thead>\n",
       "  <tbody>\n",
       "    <tr>\n",
       "      <th>0</th>\n",
       "      <td>35</td>\n",
       "      <td>TUH_008_22_09_2020.MP4</td>\n",
       "      <td>TUH_008</td>\n",
       "      <td>22/09/2020</td>\n",
       "      <td>MoniqueLadds</td>\n",
       "      <td>99</td>\n",
       "      <td>7200</td>\n",
       "      <td>104</td>\n",
       "      <td>1904</td>\n",
       "      <td>Site 8 video 1.MP4;Site 8 video 2.MP4;Site 8 v...</td>\n",
       "      <td>marine-buv/buv-zooniverse-uploads/tuhua-buv-20...</td>\n",
       "      <td>False</td>\n",
       "    </tr>\n",
       "    <tr>\n",
       "      <th>1</th>\n",
       "      <td>36</td>\n",
       "      <td>TUH_039_22_09_2020.MP4</td>\n",
       "      <td>TUH_039</td>\n",
       "      <td>22/09/2020</td>\n",
       "      <td>MoniqueLadds</td>\n",
       "      <td>99</td>\n",
       "      <td>7200</td>\n",
       "      <td>60</td>\n",
       "      <td>1860</td>\n",
       "      <td>Site 39 video 1.MP4;Site 39 video 2.MP4;Site 3...</td>\n",
       "      <td>marine-buv/buv-zooniverse-uploads/tuhua-buv-20...</td>\n",
       "      <td>False</td>\n",
       "    </tr>\n",
       "    <tr>\n",
       "      <th>2</th>\n",
       "      <td>37</td>\n",
       "      <td>TUH_040_22_09_2020.MP4</td>\n",
       "      <td>TUH_040</td>\n",
       "      <td>22/09/2020</td>\n",
       "      <td>MoniqueLadds</td>\n",
       "      <td>99</td>\n",
       "      <td>7200</td>\n",
       "      <td>264</td>\n",
       "      <td>2064</td>\n",
       "      <td>Site 40 video 1.MP4;Site 40 video 2.MP4;Site 4...</td>\n",
       "      <td>marine-buv/buv-zooniverse-uploads/tuhua-buv-20...</td>\n",
       "      <td>False</td>\n",
       "    </tr>\n",
       "    <tr>\n",
       "      <th>3</th>\n",
       "      <td>38</td>\n",
       "      <td>TUH_041_22_09_2020.MP4</td>\n",
       "      <td>TUH_041</td>\n",
       "      <td>22/09/2020</td>\n",
       "      <td>MoniqueLadds</td>\n",
       "      <td>99</td>\n",
       "      <td>7200</td>\n",
       "      <td>360</td>\n",
       "      <td>2160</td>\n",
       "      <td>Site 41 video 1.MP4;Site 41 video 2.MP4;Site 4...</td>\n",
       "      <td>marine-buv/buv-zooniverse-uploads/tuhua-buv-20...</td>\n",
       "      <td>False</td>\n",
       "    </tr>\n",
       "    <tr>\n",
       "      <th>4</th>\n",
       "      <td>39</td>\n",
       "      <td>TUH_035_22_09_2020.MP4</td>\n",
       "      <td>TUH_035</td>\n",
       "      <td>22/09/2020</td>\n",
       "      <td>MoniqueLadds</td>\n",
       "      <td>99</td>\n",
       "      <td>7200</td>\n",
       "      <td>95</td>\n",
       "      <td>1895</td>\n",
       "      <td>Site 35 video 1.MP4;Site 35 video 2.MP4;Site 3...</td>\n",
       "      <td>marine-buv/buv-zooniverse-uploads/tuhua-buv-20...</td>\n",
       "      <td>False</td>\n",
       "    </tr>\n",
       "    <tr>\n",
       "      <th>5</th>\n",
       "      <td>41</td>\n",
       "      <td>TUH_007_31_08_2020.MP4</td>\n",
       "      <td>TUH_007</td>\n",
       "      <td>31/08/2020</td>\n",
       "      <td>MoniqueLadds</td>\n",
       "      <td>99</td>\n",
       "      <td>7200</td>\n",
       "      <td>682</td>\n",
       "      <td>2482</td>\n",
       "      <td>Site 7 video 1.MP4;Site 7 video 2.MP4;Site 7 v...</td>\n",
       "      <td>marine-buv/buv-zooniverse-uploads/tuhua-buv-20...</td>\n",
       "      <td>False</td>\n",
       "    </tr>\n",
       "    <tr>\n",
       "      <th>6</th>\n",
       "      <td>42</td>\n",
       "      <td>TUH_003_31_08_2020.MP4</td>\n",
       "      <td>TUH_003</td>\n",
       "      <td>31/08/2020</td>\n",
       "      <td>MoniqueLadds</td>\n",
       "      <td>99</td>\n",
       "      <td>7200</td>\n",
       "      <td>682</td>\n",
       "      <td>2482</td>\n",
       "      <td>Site 03 video 1.MP4;Site 03 video 2.MP4;Site 0...</td>\n",
       "      <td>marine-buv/buv-zooniverse-uploads/tuhua-buv-20...</td>\n",
       "      <td>False</td>\n",
       "    </tr>\n",
       "    <tr>\n",
       "      <th>7</th>\n",
       "      <td>43</td>\n",
       "      <td>TUH_034_31_08_2020.MP4</td>\n",
       "      <td>TUH_034</td>\n",
       "      <td>31/08/2020</td>\n",
       "      <td>MoniqueLadds</td>\n",
       "      <td>99</td>\n",
       "      <td>7200</td>\n",
       "      <td>380</td>\n",
       "      <td>2180</td>\n",
       "      <td>Site 034 video 1.MP4;Site 034 video 2.MP4;Site...</td>\n",
       "      <td>marine-buv/buv-zooniverse-uploads/tuhua-buv-20...</td>\n",
       "      <td>False</td>\n",
       "    </tr>\n",
       "    <tr>\n",
       "      <th>8</th>\n",
       "      <td>44</td>\n",
       "      <td>TUH_004_31_08_2020.MP4</td>\n",
       "      <td>TUH_004</td>\n",
       "      <td>31/08/2020</td>\n",
       "      <td>MoniqueLadds</td>\n",
       "      <td>99</td>\n",
       "      <td>7200</td>\n",
       "      <td>80</td>\n",
       "      <td>1880</td>\n",
       "      <td>Site 04 video 1.MP4;Site 04 video 2.MP4;Site 0...</td>\n",
       "      <td>marine-buv/buv-zooniverse-uploads/tuhua-buv-20...</td>\n",
       "      <td>False</td>\n",
       "    </tr>\n",
       "    <tr>\n",
       "      <th>9</th>\n",
       "      <td>49</td>\n",
       "      <td>TUH_037_1_09_2020.MP4</td>\n",
       "      <td>TUH_037</td>\n",
       "      <td>1/09/2020</td>\n",
       "      <td>MoniqueLadds</td>\n",
       "      <td>99</td>\n",
       "      <td>7200</td>\n",
       "      <td>395</td>\n",
       "      <td>2195</td>\n",
       "      <td>Site 37 video 1.MP4;Site 37 video 2.MP4;Site 3...</td>\n",
       "      <td>marine-buv/buv-zooniverse-uploads/tuhua-buv-20...</td>\n",
       "      <td>False</td>\n",
       "    </tr>\n",
       "    <tr>\n",
       "      <th>10</th>\n",
       "      <td>56</td>\n",
       "      <td>TUH_026_1_09_2020.MP4</td>\n",
       "      <td>TUH_026</td>\n",
       "      <td>1/09/2020</td>\n",
       "      <td>MoniqueLadds</td>\n",
       "      <td>99</td>\n",
       "      <td>7200</td>\n",
       "      <td>375</td>\n",
       "      <td>2175</td>\n",
       "      <td>Site 26 video 1.MP4;Site 26 video 2.MP4;Site 2...</td>\n",
       "      <td>marine-buv/buv-zooniverse-uploads/tuhua-buv-20...</td>\n",
       "      <td>False</td>\n",
       "    </tr>\n",
       "    <tr>\n",
       "      <th>11</th>\n",
       "      <td>57</td>\n",
       "      <td>TUH_032_1_09_2020.MP4</td>\n",
       "      <td>TUH_032</td>\n",
       "      <td>1/09/2020</td>\n",
       "      <td>MoniqueLadds</td>\n",
       "      <td>99</td>\n",
       "      <td>7200</td>\n",
       "      <td>170</td>\n",
       "      <td>1970</td>\n",
       "      <td>Site 32 video 1.MP4;Site 32 video 2.MP4;Site 3...</td>\n",
       "      <td>marine-buv/buv-zooniverse-uploads/tuhua-buv-20...</td>\n",
       "      <td>False</td>\n",
       "    </tr>\n",
       "  </tbody>\n",
       "</table>\n",
       "</div>"
      ],
      "text/plain": [
       "    movie_id                filename siteName  created_on        Author  fps  \\\n",
       "0         35  TUH_008_22_09_2020.MP4  TUH_008  22/09/2020  MoniqueLadds   99   \n",
       "1         36  TUH_039_22_09_2020.MP4  TUH_039  22/09/2020  MoniqueLadds   99   \n",
       "2         37  TUH_040_22_09_2020.MP4  TUH_040  22/09/2020  MoniqueLadds   99   \n",
       "3         38  TUH_041_22_09_2020.MP4  TUH_041  22/09/2020  MoniqueLadds   99   \n",
       "4         39  TUH_035_22_09_2020.MP4  TUH_035  22/09/2020  MoniqueLadds   99   \n",
       "5         41  TUH_007_31_08_2020.MP4  TUH_007  31/08/2020  MoniqueLadds   99   \n",
       "6         42  TUH_003_31_08_2020.MP4  TUH_003  31/08/2020  MoniqueLadds   99   \n",
       "7         43  TUH_034_31_08_2020.MP4  TUH_034  31/08/2020  MoniqueLadds   99   \n",
       "8         44  TUH_004_31_08_2020.MP4  TUH_004  31/08/2020  MoniqueLadds   99   \n",
       "9         49   TUH_037_1_09_2020.MP4  TUH_037   1/09/2020  MoniqueLadds   99   \n",
       "10        56   TUH_026_1_09_2020.MP4  TUH_026   1/09/2020  MoniqueLadds   99   \n",
       "11        57   TUH_032_1_09_2020.MP4  TUH_032   1/09/2020  MoniqueLadds   99   \n",
       "\n",
       "    duration survey_start survey_end  \\\n",
       "0       7200          104       1904   \n",
       "1       7200           60       1860   \n",
       "2       7200          264       2064   \n",
       "3       7200          360       2160   \n",
       "4       7200           95       1895   \n",
       "5       7200          682       2482   \n",
       "6       7200          682       2482   \n",
       "7       7200          380       2180   \n",
       "8       7200           80       1880   \n",
       "9       7200          395       2195   \n",
       "10      7200          375       2175   \n",
       "11      7200          170       1970   \n",
       "\n",
       "                                         go_pro_files  \\\n",
       "0   Site 8 video 1.MP4;Site 8 video 2.MP4;Site 8 v...   \n",
       "1   Site 39 video 1.MP4;Site 39 video 2.MP4;Site 3...   \n",
       "2   Site 40 video 1.MP4;Site 40 video 2.MP4;Site 4...   \n",
       "3   Site 41 video 1.MP4;Site 41 video 2.MP4;Site 4...   \n",
       "4   Site 35 video 1.MP4;Site 35 video 2.MP4;Site 3...   \n",
       "5   Site 7 video 1.MP4;Site 7 video 2.MP4;Site 7 v...   \n",
       "6   Site 03 video 1.MP4;Site 03 video 2.MP4;Site 0...   \n",
       "7   Site 034 video 1.MP4;Site 034 video 2.MP4;Site...   \n",
       "8   Site 04 video 1.MP4;Site 04 video 2.MP4;Site 0...   \n",
       "9   Site 37 video 1.MP4;Site 37 video 2.MP4;Site 3...   \n",
       "10  Site 26 video 1.MP4;Site 26 video 2.MP4;Site 2...   \n",
       "11  Site 32 video 1.MP4;Site 32 video 2.MP4;Site 3...   \n",
       "\n",
       "                                               bucket  IsBadDeployment  \n",
       "0   marine-buv/buv-zooniverse-uploads/tuhua-buv-20...            False  \n",
       "1   marine-buv/buv-zooniverse-uploads/tuhua-buv-20...            False  \n",
       "2   marine-buv/buv-zooniverse-uploads/tuhua-buv-20...            False  \n",
       "3   marine-buv/buv-zooniverse-uploads/tuhua-buv-20...            False  \n",
       "4   marine-buv/buv-zooniverse-uploads/tuhua-buv-20...            False  \n",
       "5   marine-buv/buv-zooniverse-uploads/tuhua-buv-20...            False  \n",
       "6   marine-buv/buv-zooniverse-uploads/tuhua-buv-20...            False  \n",
       "7   marine-buv/buv-zooniverse-uploads/tuhua-buv-20...            False  \n",
       "8   marine-buv/buv-zooniverse-uploads/tuhua-buv-20...            False  \n",
       "9   marine-buv/buv-zooniverse-uploads/tuhua-buv-20...            False  \n",
       "10  marine-buv/buv-zooniverse-uploads/tuhua-buv-20...            False  \n",
       "11  marine-buv/buv-zooniverse-uploads/tuhua-buv-20...            False  "
      ]
     },
     "execution_count": 6,
     "metadata": {},
     "output_type": "execute_result"
    }
   ],
   "source": [
    "unprocessed_movies_df"
   ]
  },
  {
   "cell_type": "code",
   "execution_count": null,
   "id": "66f4a82d",
   "metadata": {},
   "outputs": [
    {
     "name": "stderr",
     "output_type": "stream",
     "text": [
      "  0%|          | 0/12 [00:00<?, ?it/s]\n",
      "  0%|          | 0/3 [00:00<?, ?it/s]\u001b[A"
     ]
    },
    {
     "name": "stdout",
     "output_type": "stream",
     "text": [
      "Downloading 3 videos\n",
      "Downloading buv-zooniverse-uploads/tuhua-buv-2020/TUH_008/Site 8 video 1.MP4\n"
     ]
    },
    {
     "name": "stderr",
     "output_type": "stream",
     "text": [
      "Site 8 video 1.MP4: 100%|██████████| 4.00G/4.00G [05:49<00:00, 11.5MB/s]\n",
      "\n",
      "Site 8 video 2.MP4:   0%|          | 0.00/4.00G [00:00<?, ?B/s]"
     ]
    },
    {
     "name": "stdout",
     "output_type": "stream",
     "text": [
      "Downloading buv-zooniverse-uploads/tuhua-buv-2020/TUH_008/Site 8 video 2.MP4\n"
     ]
    },
    {
     "name": "stderr",
     "output_type": "stream",
     "text": [
      "Site 8 video 2.MP4: 100%|██████████| 4.00G/4.00G [05:36<00:00, 11.9MB/s]\n",
      "\n",
      "Site 8 video 3.MP4:   0%|          | 0.00/4.00G [00:00<?, ?B/s]"
     ]
    },
    {
     "name": "stdout",
     "output_type": "stream",
     "text": [
      "Downloading buv-zooniverse-uploads/tuhua-buv-2020/TUH_008/Site 8 video 3.MP4\n"
     ]
    },
    {
     "name": "stderr",
     "output_type": "stream",
     "text": [
      "Site 8 video 3.MP4: 100%|██████████| 4.00G/4.00G [05:12<00:00, 12.8MB/s]\n",
      "\n",
      "100%|██████████| 3/3 [16:39<00:00, 333.13s/it]\u001b[A\n"
     ]
    },
    {
     "name": "stdout",
     "output_type": "stream",
     "text": [
      "Concatenating  TUH_008_22_09_2020.MP4\n"
     ]
    },
    {
     "name": "stderr",
     "output_type": "stream",
     "text": [
      "\r",
      "TUH_008_22_09_2020.MP4:   0%|          | 0.00/12.0G [00:00<?, ?B/s]"
     ]
    },
    {
     "name": "stdout",
     "output_type": "stream",
     "text": [
      "TUH_008_22_09_2020.MP4 concatenated successfully\n"
     ]
    },
    {
     "name": "stderr",
     "output_type": "stream",
     "text": [
      "TUH_008_22_09_2020.MP4:  67%|██████▋   | 8.06G/12.0G [1:00:08<24:23, 2.69MB/s]  "
     ]
    }
   ],
   "source": [
    "concatenate_videos(unprocessed_movies_df, client)"
   ]
  },
  {
   "cell_type": "code",
   "execution_count": null,
   "id": "1bbe3378",
   "metadata": {},
   "outputs": [],
   "source": [
    "unprocessed_movies_df"
   ]
  },
  {
   "cell_type": "code",
   "execution_count": null,
   "id": "69b2d0f9",
   "metadata": {},
   "outputs": [],
   "source": [
    "# Retrieve info from the bucket\n",
    "contents_s3_pd = server_utils.retrieve_s3_buckets_info(client, bucket_i)"
   ]
  },
  {
   "cell_type": "code",
   "execution_count": null,
   "id": "e23095b8",
   "metadata": {},
   "outputs": [],
   "source": [
    "contents_s3_pd"
   ]
  },
  {
   "cell_type": "code",
   "execution_count": null,
   "id": "15e07aa4",
   "metadata": {},
   "outputs": [],
   "source": [
    "contents_s3_pd[contents_s3_pd['Key'].str.contains(\"buv-zooniverse-uploads/tuhua-buv-2020/TUH_021/TUH_021__22_09_2020.MP4\")]['Key'].unique()"
   ]
  },
  {
   "cell_type": "code",
   "execution_count": null,
   "id": "9f821137",
   "metadata": {},
   "outputs": [],
   "source": [
    "#client.delete_object(Bucket=bucket_i, Key=\"buv-zooniverse-uploads/tuhua-buv-2020/TUH_021/TUH_021__22_09_2020.MP4\")"
   ]
  },
  {
   "cell_type": "code",
   "execution_count": null,
   "id": "99c36b3c",
   "metadata": {},
   "outputs": [],
   "source": [
    "# Specify the filename of the raw videos        \n",
    "contents_s3_pd['raw_filename'] = contents_s3_pd['Key'].str.split('/').str[-1]\n",
    "\n",
    "# Specify the filename of the raw videos        \n",
    "contents_s3_pd['bucket'] = contents_s3_pd['Key'].str.rsplit('/',1).str[0]"
   ]
  },
  {
   "cell_type": "code",
   "execution_count": null,
   "id": "597b0314",
   "metadata": {},
   "outputs": [],
   "source": [
    "session = server_utils.connect_s3(aws_access_key_id, aws_secret_access_key)"
   ]
  }
 ],
 "metadata": {
  "kernelspec": {
   "display_name": "Python 3",
   "language": "python",
   "name": "python3"
  },
  "language_info": {
   "codemirror_mode": {
    "name": "ipython",
    "version": 3
   },
   "file_extension": ".py",
   "mimetype": "text/x-python",
   "name": "python",
   "nbconvert_exporter": "python",
   "pygments_lexer": "ipython3",
   "version": "3.8.8"
  }
 },
 "nbformat": 4,
 "nbformat_minor": 5
}
