{
 "cells": [
  {
   "cell_type": "markdown",
   "id": "95aea466",
   "metadata": {},
   "source": [
    "<img align=\"left\" src=\"https://panoptes-uploads.zooniverse.org/project_avatar/86c23ca7-bbaa-4e84-8d8a-876819551431.png\" type=\"image/png\" height=100 width=100>\n",
    "</img>\n",
    "\n",
    "\n",
    "<h1 align=\"right\">KSO Tutorials #15: Process Spyfish Aotearoa videos</h1>\n",
    "<h3 align=\"right\">Written by @jannesgg and @vykanton</h3>\n",
    "<h5 align=\"right\">Last updated: Sep 15th, 2021</h5>"
   ]
  },
  {
   "cell_type": "markdown",
   "id": "6f0fc779",
   "metadata": {},
   "source": [
    "# Set up and requirements"
   ]
  },
  {
   "cell_type": "markdown",
   "id": "ed3d9d14",
   "metadata": {},
   "source": [
    "Import Python packages"
   ]
  },
  {
   "cell_type": "code",
   "execution_count": 1,
   "id": "46ca201f",
   "metadata": {
    "scrolled": true
   },
   "outputs": [
    {
     "name": "stderr",
     "output_type": "stream",
     "text": [
      "Broken libmagic installation detected. The python-magic module is installed but can't be imported. Please check that both python-magic and the libmagic shared library are installed correctly. Uploading media other than images may not work.\n"
     ]
    },
    {
     "name": "stdout",
     "output_type": "stream",
     "text": [
      "Packages loaded successfully\n"
     ]
    }
   ],
   "source": [
    "# Set the directory of the libraries\n",
    "import sys\n",
    "sys.path.append('..')\n",
    "\n",
    "# Import required modules\n",
    "import utils.t15_utils as t15\n",
    "import utils.t12_utils as t12\n",
    "\n",
    "print(\"Packages loaded successfully\")\n",
    "\n",
    "import os\n",
    "import pandas as pd\n",
    "import sqlite3\n",
    "import numpy as np\n",
    "from tqdm import tqdm\n",
    "import subprocess\n",
    "import ipywidgets as widgets\n",
    "from ipywidgets import interact, Layout\n",
    "\n",
    "import utils.db_utils as db_utils\n",
    "import utils.server_utils as server_utils\n",
    "import utils.spyfish_utils as spyfish_utils"
   ]
  },
  {
   "cell_type": "markdown",
   "id": "3f70aec5",
   "metadata": {},
   "source": [
    "# Get list of surveys from S3"
   ]
  },
  {
   "cell_type": "code",
   "execution_count": 2,
   "id": "f380d63a",
   "metadata": {},
   "outputs": [
    {
     "name": "stdout",
     "output_type": "stream",
     "text": [
      "Enter the key id for the aws server········\n",
      "Enter the secret access key for the aws server········\n"
     ]
    }
   ],
   "source": [
    "aws_access_key_id, aws_secret_access_key = server_utils.aws_credentials()"
   ]
  },
  {
   "cell_type": "code",
   "execution_count": 3,
   "id": "2387714b",
   "metadata": {},
   "outputs": [],
   "source": [
    "client = server_utils.connect_s3(aws_access_key_id, aws_secret_access_key)"
   ]
  },
  {
   "cell_type": "code",
   "execution_count": 4,
   "id": "050e5ac6",
   "metadata": {},
   "outputs": [],
   "source": [
    "bucket_i = \"marine-buv\""
   ]
  },
  {
   "cell_type": "code",
   "execution_count": 5,
   "id": "f27be0aa",
   "metadata": {},
   "outputs": [],
   "source": [
    "# Retrieve info from the bucket\n",
    "contents_s3_pd = server_utils.retrieve_s3_buckets_info(client, bucket_i)\n",
    "\n",
    "# Specify the filename of the objects (videos)        \n",
    "contents_s3_pd['raw_filename'] = contents_s3_pd['Key'].str.split('/').str[-1]\n",
    "\n",
    "# Specify the prefix (directory) of the objects        \n",
    "contents_s3_pd['prefix'] = contents_s3_pd['Key'].str.rsplit('/',1).str[0]"
   ]
  },
  {
   "cell_type": "code",
   "execution_count": 6,
   "id": "3b953be2",
   "metadata": {},
   "outputs": [],
   "source": [
    "# Select only files within the buv-zooniverse-uploads bucket\n",
    "zoo_contents_s3_pd = contents_s3_pd[contents_s3_pd['prefix'].str.contains(\"buv-zooniverse-uploads\")].reset_index(drop = True)\n",
    "\n",
    "# Specify the formats of the movies to select\n",
    "movie_formats = tuple(['wmv', 'mpg', 'mov', 'avi', 'mp4', 'MOV', 'MP4'])\n",
    "\n",
    "# Select only files of interest (movies)\n",
    "zoo_contents_s3_pd_movies = zoo_contents_s3_pd[zoo_contents_s3_pd['raw_filename'].str.endswith(movie_formats)]"
   ]
  },
  {
   "cell_type": "markdown",
   "id": "0ba3886c",
   "metadata": {},
   "source": [
    "# Get list of surveys from movies csv"
   ]
  },
  {
   "cell_type": "code",
   "execution_count": 11,
   "id": "93cb5d6e",
   "metadata": {},
   "outputs": [],
   "source": [
    "# Get the location of the csv files with initial info to populate the db\n",
    "sites_csv, movies_csv, species_csv = server_utils.get_sites_movies_species()\n",
    "\n",
    "# Load the csv with movies information\n",
    "movies_df = pd.read_csv(movies_csv) \n",
    "\n",
    "# Combine the entire movies and go_pro_files\n",
    "movies_df['files'] = np.where(movies_df['go_pro_files'].isna(), movies_df['filename'], movies_df['filename'] + \";\" + movies_df['go_pro_files'])\n",
    "\n",
    "# Transform the df to have a row per filename\n",
    "movies_df = movies_df.assign(raw_filename=movies_df['files'].str.split(';')).explode('raw_filename')\n",
    "\n",
    "# Specify the key (path in S3 of the object)\n",
    "movies_df[\"Key\"] = movies_df[\"prefix\"] + \"/\" + movies_df[\"raw_filename\"]"
   ]
  },
  {
   "cell_type": "markdown",
   "id": "0f39da3d",
   "metadata": {},
   "source": [
    "# Find surveys missing from s3"
   ]
  },
  {
   "cell_type": "code",
   "execution_count": 8,
   "id": "69ca36ec",
   "metadata": {},
   "outputs": [],
   "source": [
    "# Missing info for files in the \"buv-zooniverse-uploads\"\n",
    "missing_info = zoo_contents_s3_pd_movies.merge(movies_df, \n",
    "                                        on=['Key'], \n",
    "                                        how='outer', \n",
    "                                        indicator=True)\n",
    "\n",
    "#missing_info[missing_info[\"_merge\"]==\"both\"]\n",
    "#missing_info"
   ]
  },
  {
   "cell_type": "code",
   "execution_count": 9,
   "id": "d2da9a33",
   "metadata": {},
   "outputs": [],
   "source": [
    "# Find out about those files missing from the S3\n",
    "missing_from_s3 = missing_info[missing_info[\"_merge\"]==\"right_only\"]\n",
    "missing_bad_deployment = missing_from_s3[missing_from_s3[\"IsBadDeployment\"]]\n",
    "missing_no_bucket_info = missing_from_s3[~(missing_from_s3[\"IsBadDeployment\"])&(missing_from_s3[\"bucket\"].isna())]"
   ]
  },
  {
   "cell_type": "code",
   "execution_count": 10,
   "id": "7d7f4c69",
   "metadata": {},
   "outputs": [
    {
     "name": "stdout",
     "output_type": "stream",
     "text": [
      "There are 44 movies missing from the S3\n",
      "12 movies are bad deployments. Their filenames are:\n",
      "bad_deployment_TUH_017_NA\n",
      "bad_deployment_TUH_027_NA\n",
      "bad_deployment_TUH_038_NA\n",
      "bad_deployment_TUH_001_44096\n",
      "bad_deployment_TUH_009_44096\n",
      "bad_deployment_TUH_013_44096\n",
      "bad_deployment_TUH_028_44096\n",
      "bad_deployment_TUH_033_44096\n",
      "bad_deployment_TUH_010_44074\n",
      "bad_deployment_TUH_022_44074\n",
      "bad_deployment_TUH_020_44075\n",
      "bad_deployment_TUH_024_NA\n",
      "32 movies are good deployments but don't have bucket info. Their filenames are:\n",
      "Te Oneroa BayKAP01_2021.MP4\n",
      "Hole in the wall bayKAP16_2021.MP4\n",
      "Onepoto pointKAP20_2020.MP4\n",
      "Rangatira pointKAP23_2021.MP4\n",
      "Green canKAP24_2021.MP4\n",
      "EE11_2011.MP4\n",
      "EE13_2011.MP4\n",
      "EE14_2011.MP4\n",
      "EE16_2011.MP4\n",
      "WP59.MP4\n",
      "WP45.MP4\n",
      "WP58.MP4\n",
      "DD2_2011.MP4\n",
      "DD12_2011.MP4\n",
      "DD5_2011.MP4\n",
      "DD6_2011.MP4\n",
      "dummy_21\n"
     ]
    }
   ],
   "source": [
    "print(\"There are\", len(missing_from_s3.index), \"movies missing from the S3\")\n",
    "print(len(missing_bad_deployment.index), \"movies are bad deployments. Their filenames are:\")\n",
    "print(*missing_bad_deployment.filename.unique(), sep = \"\\n\")\n",
    "print(len(missing_no_bucket_info.index), \"movies are good deployments but don't have bucket info. Their filenames are:\")\n",
    "print(*missing_no_bucket_info.filename.unique(), sep = \"\\n\")"
   ]
  },
  {
   "cell_type": "markdown",
   "id": "453642f3",
   "metadata": {},
   "source": [
    "### Find surveys missing from csv"
   ]
  },
  {
   "cell_type": "code",
   "execution_count": 13,
   "id": "8955a13f",
   "metadata": {},
   "outputs": [],
   "source": [
    "missing_from_csv = missing_info[missing_info[\"_merge\"]==\"left_only\"].reset_index(drop=True)"
   ]
  },
  {
   "cell_type": "code",
   "execution_count": 14,
   "id": "bdadd0ce",
   "metadata": {},
   "outputs": [
    {
     "name": "stdout",
     "output_type": "stream",
     "text": [
      "There are 99 movies missing from the csv\n"
     ]
    }
   ],
   "source": [
    "print(\"There are\", len(missing_from_csv.index), \"movies missing from the csv\")"
   ]
  },
  {
   "cell_type": "code",
   "execution_count": 15,
   "id": "6a10005d",
   "metadata": {},
   "outputs": [],
   "source": [
    "# Combine the location of the file and the filename\n",
    "missing_from_csv[\"location_and_filename\"] = \"S3_prefix: \" + missing_from_csv['prefix_x'].str.rsplit('/',1).str[1] + \" | Filename: \" + missing_from_csv['raw_filename_x']"
   ]
  },
  {
   "cell_type": "code",
   "execution_count": 16,
   "id": "b5eb8db3",
   "metadata": {},
   "outputs": [
    {
     "data": {
      "text/html": [
       "<div>\n",
       "<style scoped>\n",
       "    .dataframe tbody tr th:only-of-type {\n",
       "        vertical-align: middle;\n",
       "    }\n",
       "\n",
       "    .dataframe tbody tr th {\n",
       "        vertical-align: top;\n",
       "    }\n",
       "\n",
       "    .dataframe thead th {\n",
       "        text-align: right;\n",
       "    }\n",
       "</style>\n",
       "<table border=\"1\" class=\"dataframe\">\n",
       "  <thead>\n",
       "    <tr style=\"text-align: right;\">\n",
       "      <th></th>\n",
       "      <th>Key</th>\n",
       "      <th>LastModified</th>\n",
       "      <th>ETag</th>\n",
       "      <th>Size</th>\n",
       "      <th>StorageClass</th>\n",
       "      <th>raw_filename_x</th>\n",
       "      <th>prefix_x</th>\n",
       "      <th>movie_id</th>\n",
       "      <th>filename</th>\n",
       "      <th>siteName</th>\n",
       "      <th>...</th>\n",
       "      <th>survey_start</th>\n",
       "      <th>survey_end</th>\n",
       "      <th>go_pro_files</th>\n",
       "      <th>bucket</th>\n",
       "      <th>prefix_y</th>\n",
       "      <th>IsBadDeployment</th>\n",
       "      <th>files</th>\n",
       "      <th>raw_filename_y</th>\n",
       "      <th>_merge</th>\n",
       "      <th>location_and_filename</th>\n",
       "    </tr>\n",
       "  </thead>\n",
       "  <tbody>\n",
       "    <tr>\n",
       "      <th>0</th>\n",
       "      <td>buv-zooniverse-uploads/tapuae-buv-2011/CON14_2...</td>\n",
       "      <td>2021-09-17 05:17:15+00:00</td>\n",
       "      <td>\"c6b6bca4dab4ea799fb7e947c403df6f\"</td>\n",
       "      <td>2.298003e+09</td>\n",
       "      <td>STANDARD</td>\n",
       "      <td>CON14_2012.mpg</td>\n",
       "      <td>buv-zooniverse-uploads/tapuae-buv-2011</td>\n",
       "      <td>NaN</td>\n",
       "      <td>NaN</td>\n",
       "      <td>NaN</td>\n",
       "      <td>...</td>\n",
       "      <td>NaN</td>\n",
       "      <td>NaN</td>\n",
       "      <td>NaN</td>\n",
       "      <td>NaN</td>\n",
       "      <td>NaN</td>\n",
       "      <td>NaN</td>\n",
       "      <td>NaN</td>\n",
       "      <td>NaN</td>\n",
       "      <td>left_only</td>\n",
       "      <td>S3_prefix: tapuae-buv-2011 | Filename: CON14_2...</td>\n",
       "    </tr>\n",
       "    <tr>\n",
       "      <th>1</th>\n",
       "      <td>buv-zooniverse-uploads/tapuae-buv-2011/CON14_s...</td>\n",
       "      <td>2021-09-17 05:38:22+00:00</td>\n",
       "      <td>\"54e26fc5dea638e276d0680111040553\"</td>\n",
       "      <td>1.187840e+07</td>\n",
       "      <td>STANDARD</td>\n",
       "      <td>CON14_sitedata_2012.mpg</td>\n",
       "      <td>buv-zooniverse-uploads/tapuae-buv-2011</td>\n",
       "      <td>NaN</td>\n",
       "      <td>NaN</td>\n",
       "      <td>NaN</td>\n",
       "      <td>...</td>\n",
       "      <td>NaN</td>\n",
       "      <td>NaN</td>\n",
       "      <td>NaN</td>\n",
       "      <td>NaN</td>\n",
       "      <td>NaN</td>\n",
       "      <td>NaN</td>\n",
       "      <td>NaN</td>\n",
       "      <td>NaN</td>\n",
       "      <td>left_only</td>\n",
       "      <td>S3_prefix: tapuae-buv-2011 | Filename: CON14_s...</td>\n",
       "    </tr>\n",
       "    <tr>\n",
       "      <th>2</th>\n",
       "      <td>buv-zooniverse-uploads/tapuae-buv-2011/CON15_2...</td>\n",
       "      <td>2021-09-17 05:57:54+00:00</td>\n",
       "      <td>\"0007b589c8b7839b3c90ebad3f67bf9c\"</td>\n",
       "      <td>2.720862e+09</td>\n",
       "      <td>STANDARD</td>\n",
       "      <td>CON15_2012.mpg</td>\n",
       "      <td>buv-zooniverse-uploads/tapuae-buv-2011</td>\n",
       "      <td>NaN</td>\n",
       "      <td>NaN</td>\n",
       "      <td>NaN</td>\n",
       "      <td>...</td>\n",
       "      <td>NaN</td>\n",
       "      <td>NaN</td>\n",
       "      <td>NaN</td>\n",
       "      <td>NaN</td>\n",
       "      <td>NaN</td>\n",
       "      <td>NaN</td>\n",
       "      <td>NaN</td>\n",
       "      <td>NaN</td>\n",
       "      <td>left_only</td>\n",
       "      <td>S3_prefix: tapuae-buv-2011 | Filename: CON15_2...</td>\n",
       "    </tr>\n",
       "    <tr>\n",
       "      <th>3</th>\n",
       "      <td>buv-zooniverse-uploads/tapuae-buv-2011/CON16_8...</td>\n",
       "      <td>2021-09-17 05:55:00+00:00</td>\n",
       "      <td>\"063404cdfe0e14506c28887235debff0\"</td>\n",
       "      <td>2.360805e+09</td>\n",
       "      <td>STANDARD</td>\n",
       "      <td>CON16_8.8m_23Apr2014_1356hrs.mpg</td>\n",
       "      <td>buv-zooniverse-uploads/tapuae-buv-2011</td>\n",
       "      <td>NaN</td>\n",
       "      <td>NaN</td>\n",
       "      <td>NaN</td>\n",
       "      <td>...</td>\n",
       "      <td>NaN</td>\n",
       "      <td>NaN</td>\n",
       "      <td>NaN</td>\n",
       "      <td>NaN</td>\n",
       "      <td>NaN</td>\n",
       "      <td>NaN</td>\n",
       "      <td>NaN</td>\n",
       "      <td>NaN</td>\n",
       "      <td>left_only</td>\n",
       "      <td>S3_prefix: tapuae-buv-2011 | Filename: CON16_8...</td>\n",
       "    </tr>\n",
       "    <tr>\n",
       "      <th>4</th>\n",
       "      <td>buv-zooniverse-uploads/tapuae-buv-2011/CON17_2...</td>\n",
       "      <td>2021-09-17 06:04:05+00:00</td>\n",
       "      <td>\"3e9e126821433d7f1c6331e40ba4250a\"</td>\n",
       "      <td>2.615038e+09</td>\n",
       "      <td>STANDARD</td>\n",
       "      <td>CON17_2012.mpg</td>\n",
       "      <td>buv-zooniverse-uploads/tapuae-buv-2011</td>\n",
       "      <td>NaN</td>\n",
       "      <td>NaN</td>\n",
       "      <td>NaN</td>\n",
       "      <td>...</td>\n",
       "      <td>NaN</td>\n",
       "      <td>NaN</td>\n",
       "      <td>NaN</td>\n",
       "      <td>NaN</td>\n",
       "      <td>NaN</td>\n",
       "      <td>NaN</td>\n",
       "      <td>NaN</td>\n",
       "      <td>NaN</td>\n",
       "      <td>left_only</td>\n",
       "      <td>S3_prefix: tapuae-buv-2011 | Filename: CON17_2...</td>\n",
       "    </tr>\n",
       "    <tr>\n",
       "      <th>...</th>\n",
       "      <td>...</td>\n",
       "      <td>...</td>\n",
       "      <td>...</td>\n",
       "      <td>...</td>\n",
       "      <td>...</td>\n",
       "      <td>...</td>\n",
       "      <td>...</td>\n",
       "      <td>...</td>\n",
       "      <td>...</td>\n",
       "      <td>...</td>\n",
       "      <td>...</td>\n",
       "      <td>...</td>\n",
       "      <td>...</td>\n",
       "      <td>...</td>\n",
       "      <td>...</td>\n",
       "      <td>...</td>\n",
       "      <td>...</td>\n",
       "      <td>...</td>\n",
       "      <td>...</td>\n",
       "      <td>...</td>\n",
       "      <td>...</td>\n",
       "    </tr>\n",
       "    <tr>\n",
       "      <th>94</th>\n",
       "      <td>buv-zooniverse-uploads/tuhua-buv-2021/WP10/GH0...</td>\n",
       "      <td>2021-09-19 22:38:29+00:00</td>\n",
       "      <td>\"6bc59fd61eb15e7615fc896bba8b8343\"</td>\n",
       "      <td>4.005076e+09</td>\n",
       "      <td>STANDARD</td>\n",
       "      <td>GH010030.MP4</td>\n",
       "      <td>buv-zooniverse-uploads/tuhua-buv-2021/WP10</td>\n",
       "      <td>NaN</td>\n",
       "      <td>NaN</td>\n",
       "      <td>NaN</td>\n",
       "      <td>...</td>\n",
       "      <td>NaN</td>\n",
       "      <td>NaN</td>\n",
       "      <td>NaN</td>\n",
       "      <td>NaN</td>\n",
       "      <td>NaN</td>\n",
       "      <td>NaN</td>\n",
       "      <td>NaN</td>\n",
       "      <td>NaN</td>\n",
       "      <td>left_only</td>\n",
       "      <td>S3_prefix: WP10 | Filename: GH010030.MP4</td>\n",
       "    </tr>\n",
       "    <tr>\n",
       "      <th>95</th>\n",
       "      <td>buv-zooniverse-uploads/tuhua-buv-2021/WP10/GH0...</td>\n",
       "      <td>2021-09-19 22:38:59+00:00</td>\n",
       "      <td>\"644c2b6fadd8e7df62a1adee9e2499ca\"</td>\n",
       "      <td>4.004767e+09</td>\n",
       "      <td>STANDARD</td>\n",
       "      <td>GH020030.MP4</td>\n",
       "      <td>buv-zooniverse-uploads/tuhua-buv-2021/WP10</td>\n",
       "      <td>NaN</td>\n",
       "      <td>NaN</td>\n",
       "      <td>NaN</td>\n",
       "      <td>...</td>\n",
       "      <td>NaN</td>\n",
       "      <td>NaN</td>\n",
       "      <td>NaN</td>\n",
       "      <td>NaN</td>\n",
       "      <td>NaN</td>\n",
       "      <td>NaN</td>\n",
       "      <td>NaN</td>\n",
       "      <td>NaN</td>\n",
       "      <td>left_only</td>\n",
       "      <td>S3_prefix: WP10 | Filename: GH020030.MP4</td>\n",
       "    </tr>\n",
       "    <tr>\n",
       "      <th>96</th>\n",
       "      <td>buv-zooniverse-uploads/tuhua-buv-2021/WP10/GH0...</td>\n",
       "      <td>2021-09-19 22:39:12+00:00</td>\n",
       "      <td>\"804cdafb960c60e4df82db9324c46e57\"</td>\n",
       "      <td>4.004563e+09</td>\n",
       "      <td>STANDARD</td>\n",
       "      <td>GH030030.MP4</td>\n",
       "      <td>buv-zooniverse-uploads/tuhua-buv-2021/WP10</td>\n",
       "      <td>NaN</td>\n",
       "      <td>NaN</td>\n",
       "      <td>NaN</td>\n",
       "      <td>...</td>\n",
       "      <td>NaN</td>\n",
       "      <td>NaN</td>\n",
       "      <td>NaN</td>\n",
       "      <td>NaN</td>\n",
       "      <td>NaN</td>\n",
       "      <td>NaN</td>\n",
       "      <td>NaN</td>\n",
       "      <td>NaN</td>\n",
       "      <td>left_only</td>\n",
       "      <td>S3_prefix: WP10 | Filename: GH030030.MP4</td>\n",
       "    </tr>\n",
       "    <tr>\n",
       "      <th>97</th>\n",
       "      <td>buv-zooniverse-uploads/tuhua-buv-2021/WP10/GH0...</td>\n",
       "      <td>2021-09-19 22:39:29+00:00</td>\n",
       "      <td>\"87616b40ab713121121ca04f1f2dd972\"</td>\n",
       "      <td>4.004806e+09</td>\n",
       "      <td>STANDARD</td>\n",
       "      <td>GH040030.MP4</td>\n",
       "      <td>buv-zooniverse-uploads/tuhua-buv-2021/WP10</td>\n",
       "      <td>NaN</td>\n",
       "      <td>NaN</td>\n",
       "      <td>NaN</td>\n",
       "      <td>...</td>\n",
       "      <td>NaN</td>\n",
       "      <td>NaN</td>\n",
       "      <td>NaN</td>\n",
       "      <td>NaN</td>\n",
       "      <td>NaN</td>\n",
       "      <td>NaN</td>\n",
       "      <td>NaN</td>\n",
       "      <td>NaN</td>\n",
       "      <td>left_only</td>\n",
       "      <td>S3_prefix: WP10 | Filename: GH040030.MP4</td>\n",
       "    </tr>\n",
       "    <tr>\n",
       "      <th>98</th>\n",
       "      <td>buv-zooniverse-uploads/tuhua-buv-2021/WP10/WP1...</td>\n",
       "      <td>2021-09-19 22:40:04+00:00</td>\n",
       "      <td>\"950e3007957235db56f763796035b688\"</td>\n",
       "      <td>2.853129e+09</td>\n",
       "      <td>STANDARD</td>\n",
       "      <td>WP10.mp4</td>\n",
       "      <td>buv-zooniverse-uploads/tuhua-buv-2021/WP10</td>\n",
       "      <td>NaN</td>\n",
       "      <td>NaN</td>\n",
       "      <td>NaN</td>\n",
       "      <td>...</td>\n",
       "      <td>NaN</td>\n",
       "      <td>NaN</td>\n",
       "      <td>NaN</td>\n",
       "      <td>NaN</td>\n",
       "      <td>NaN</td>\n",
       "      <td>NaN</td>\n",
       "      <td>NaN</td>\n",
       "      <td>NaN</td>\n",
       "      <td>left_only</td>\n",
       "      <td>S3_prefix: WP10 | Filename: WP10.mp4</td>\n",
       "    </tr>\n",
       "  </tbody>\n",
       "</table>\n",
       "<p>99 rows × 24 columns</p>\n",
       "</div>"
      ],
      "text/plain": [
       "                                                  Key  \\\n",
       "0   buv-zooniverse-uploads/tapuae-buv-2011/CON14_2...   \n",
       "1   buv-zooniverse-uploads/tapuae-buv-2011/CON14_s...   \n",
       "2   buv-zooniverse-uploads/tapuae-buv-2011/CON15_2...   \n",
       "3   buv-zooniverse-uploads/tapuae-buv-2011/CON16_8...   \n",
       "4   buv-zooniverse-uploads/tapuae-buv-2011/CON17_2...   \n",
       "..                                                ...   \n",
       "94  buv-zooniverse-uploads/tuhua-buv-2021/WP10/GH0...   \n",
       "95  buv-zooniverse-uploads/tuhua-buv-2021/WP10/GH0...   \n",
       "96  buv-zooniverse-uploads/tuhua-buv-2021/WP10/GH0...   \n",
       "97  buv-zooniverse-uploads/tuhua-buv-2021/WP10/GH0...   \n",
       "98  buv-zooniverse-uploads/tuhua-buv-2021/WP10/WP1...   \n",
       "\n",
       "                LastModified                                ETag  \\\n",
       "0  2021-09-17 05:17:15+00:00  \"c6b6bca4dab4ea799fb7e947c403df6f\"   \n",
       "1  2021-09-17 05:38:22+00:00  \"54e26fc5dea638e276d0680111040553\"   \n",
       "2  2021-09-17 05:57:54+00:00  \"0007b589c8b7839b3c90ebad3f67bf9c\"   \n",
       "3  2021-09-17 05:55:00+00:00  \"063404cdfe0e14506c28887235debff0\"   \n",
       "4  2021-09-17 06:04:05+00:00  \"3e9e126821433d7f1c6331e40ba4250a\"   \n",
       "..                       ...                                 ...   \n",
       "94 2021-09-19 22:38:29+00:00  \"6bc59fd61eb15e7615fc896bba8b8343\"   \n",
       "95 2021-09-19 22:38:59+00:00  \"644c2b6fadd8e7df62a1adee9e2499ca\"   \n",
       "96 2021-09-19 22:39:12+00:00  \"804cdafb960c60e4df82db9324c46e57\"   \n",
       "97 2021-09-19 22:39:29+00:00  \"87616b40ab713121121ca04f1f2dd972\"   \n",
       "98 2021-09-19 22:40:04+00:00  \"950e3007957235db56f763796035b688\"   \n",
       "\n",
       "            Size StorageClass                    raw_filename_x  \\\n",
       "0   2.298003e+09     STANDARD                    CON14_2012.mpg   \n",
       "1   1.187840e+07     STANDARD           CON14_sitedata_2012.mpg   \n",
       "2   2.720862e+09     STANDARD                    CON15_2012.mpg   \n",
       "3   2.360805e+09     STANDARD  CON16_8.8m_23Apr2014_1356hrs.mpg   \n",
       "4   2.615038e+09     STANDARD                    CON17_2012.mpg   \n",
       "..           ...          ...                               ...   \n",
       "94  4.005076e+09     STANDARD                      GH010030.MP4   \n",
       "95  4.004767e+09     STANDARD                      GH020030.MP4   \n",
       "96  4.004563e+09     STANDARD                      GH030030.MP4   \n",
       "97  4.004806e+09     STANDARD                      GH040030.MP4   \n",
       "98  2.853129e+09     STANDARD                          WP10.mp4   \n",
       "\n",
       "                                      prefix_x  movie_id filename siteName  \\\n",
       "0       buv-zooniverse-uploads/tapuae-buv-2011       NaN      NaN      NaN   \n",
       "1       buv-zooniverse-uploads/tapuae-buv-2011       NaN      NaN      NaN   \n",
       "2       buv-zooniverse-uploads/tapuae-buv-2011       NaN      NaN      NaN   \n",
       "3       buv-zooniverse-uploads/tapuae-buv-2011       NaN      NaN      NaN   \n",
       "4       buv-zooniverse-uploads/tapuae-buv-2011       NaN      NaN      NaN   \n",
       "..                                         ...       ...      ...      ...   \n",
       "94  buv-zooniverse-uploads/tuhua-buv-2021/WP10       NaN      NaN      NaN   \n",
       "95  buv-zooniverse-uploads/tuhua-buv-2021/WP10       NaN      NaN      NaN   \n",
       "96  buv-zooniverse-uploads/tuhua-buv-2021/WP10       NaN      NaN      NaN   \n",
       "97  buv-zooniverse-uploads/tuhua-buv-2021/WP10       NaN      NaN      NaN   \n",
       "98  buv-zooniverse-uploads/tuhua-buv-2021/WP10       NaN      NaN      NaN   \n",
       "\n",
       "    ... survey_start survey_end  go_pro_files  bucket  prefix_y  \\\n",
       "0   ...          NaN        NaN           NaN     NaN       NaN   \n",
       "1   ...          NaN        NaN           NaN     NaN       NaN   \n",
       "2   ...          NaN        NaN           NaN     NaN       NaN   \n",
       "3   ...          NaN        NaN           NaN     NaN       NaN   \n",
       "4   ...          NaN        NaN           NaN     NaN       NaN   \n",
       "..  ...          ...        ...           ...     ...       ...   \n",
       "94  ...          NaN        NaN           NaN     NaN       NaN   \n",
       "95  ...          NaN        NaN           NaN     NaN       NaN   \n",
       "96  ...          NaN        NaN           NaN     NaN       NaN   \n",
       "97  ...          NaN        NaN           NaN     NaN       NaN   \n",
       "98  ...          NaN        NaN           NaN     NaN       NaN   \n",
       "\n",
       "    IsBadDeployment files raw_filename_y     _merge  \\\n",
       "0               NaN   NaN            NaN  left_only   \n",
       "1               NaN   NaN            NaN  left_only   \n",
       "2               NaN   NaN            NaN  left_only   \n",
       "3               NaN   NaN            NaN  left_only   \n",
       "4               NaN   NaN            NaN  left_only   \n",
       "..              ...   ...            ...        ...   \n",
       "94              NaN   NaN            NaN  left_only   \n",
       "95              NaN   NaN            NaN  left_only   \n",
       "96              NaN   NaN            NaN  left_only   \n",
       "97              NaN   NaN            NaN  left_only   \n",
       "98              NaN   NaN            NaN  left_only   \n",
       "\n",
       "                                location_and_filename  \n",
       "0   S3_prefix: tapuae-buv-2011 | Filename: CON14_2...  \n",
       "1   S3_prefix: tapuae-buv-2011 | Filename: CON14_s...  \n",
       "2   S3_prefix: tapuae-buv-2011 | Filename: CON15_2...  \n",
       "3   S3_prefix: tapuae-buv-2011 | Filename: CON16_8...  \n",
       "4   S3_prefix: tapuae-buv-2011 | Filename: CON17_2...  \n",
       "..                                                ...  \n",
       "94           S3_prefix: WP10 | Filename: GH010030.MP4  \n",
       "95           S3_prefix: WP10 | Filename: GH020030.MP4  \n",
       "96           S3_prefix: WP10 | Filename: GH030030.MP4  \n",
       "97           S3_prefix: WP10 | Filename: GH040030.MP4  \n",
       "98               S3_prefix: WP10 | Filename: WP10.mp4  \n",
       "\n",
       "[99 rows x 24 columns]"
      ]
     },
     "execution_count": 16,
     "metadata": {},
     "output_type": "execute_result"
    }
   ],
   "source": [
    "missing_from_csv"
   ]
  },
  {
   "cell_type": "code",
   "execution_count": 117,
   "id": "171c3554",
   "metadata": {
    "scrolled": true
   },
   "outputs": [
    {
     "data": {
      "application/vnd.jupyter.widget-view+json": {
       "model_id": "465c696e63134a4c9e78d660f07fb431",
       "version_major": 2,
       "version_minor": 0
      },
      "text/plain": [
       "SelectMultiple(description='GO pro movies:', layout=Layout(width='80%'), options=('s3_prefix: tapuae-buv-2011 …"
      ]
     },
     "metadata": {},
     "output_type": "display_data"
    }
   ],
   "source": [
    "# Specify the go pro movies to update\n",
    "go_pro_mov_to_update = go_pro_movies_to_update(missing_from_csv)"
   ]
  },
  {
   "cell_type": "code",
   "execution_count": 118,
   "id": "8ec37d47",
   "metadata": {},
   "outputs": [
    {
     "data": {
      "application/vnd.jupyter.widget-view+json": {
       "model_id": "234169e7bf9e48c68cd79ee8433f2e64",
       "version_major": 2,
       "version_minor": 0
      },
      "text/plain": [
       "Dropdown(description='Full movie:', layout=Layout(width='80%'), options=('s3_prefix: tapuae-buv-2011 | filenam…"
      ]
     },
     "metadata": {},
     "output_type": "display_data"
    }
   ],
   "source": [
    "# Specify the full movies to update\n",
    "full_mov_to_update = full_movie_to_update(missing_from_csv)"
   ]
  },
  {
   "cell_type": "code",
   "execution_count": 108,
   "id": "40932ccf",
   "metadata": {},
   "outputs": [
    {
     "data": {
      "text/plain": [
       "('loc:tapuae-buv-2011 file:CON14_2012.mpg',\n",
       " 'loc:tapuae-buv-2011 file:CON14_sitedata_2012.mpg',\n",
       " 'loc:tapuae-buv-2011 file:CON15_2012.mpg',\n",
       " 'loc:tapuae-buv-2011 file:CON16_8.8m_23Apr2014_1356hrs.mpg',\n",
       " 'loc:tapuae-buv-2011 file:CON17_2012.mpg',\n",
       " 'loc:tapuae-buv-2011 file:CON18_2012.mpg',\n",
       " 'loc:tapuae-buv-2011 file:CON19_2012.mpg',\n",
       " 'loc:tapuae-buv-2011 file:CON20_2012.mpg',\n",
       " 'loc:tapuae-buv-2011 file:CON22_2012.mpg')"
      ]
     },
     "execution_count": 108,
     "metadata": {},
     "output_type": "execute_result"
    }
   ],
   "source": [
    "mov_to_update.value"
   ]
  },
  {
   "cell_type": "code",
   "execution_count": 111,
   "id": "69aeb546",
   "metadata": {},
   "outputs": [],
   "source": [
    "# Select multiple movies to include information of\n",
    "def go_pro_movies_to_update(df):\n",
    "    \n",
    "    # Save the filenames of the movies missing\n",
    "    filename_missing_csv = df.location_and_filename.unique()\n",
    "    \n",
    "    # Display the project options\n",
    "    movie_to_update = widgets.SelectMultiple(\n",
    "        options=filename_missing_csv,\n",
    "        rows=15,\n",
    "        layout=Layout(width='80%'),\n",
    "        description=\"GO pro movies:\",\n",
    "        disabled=False,\n",
    "        \n",
    "    )\n",
    "    \n",
    "    display(movie_to_update)\n",
    "    return movie_to_update\n",
    "\n",
    "# Select one movie to include information of\n",
    "def full_movie_to_update(df):\n",
    "    \n",
    "    # Save the filenames of the movies missing\n",
    "    filename_missing_csv = df.location_and_filename.unique()\n",
    "    \n",
    "    # Display the project options\n",
    "    movie_to_update = widgets.Dropdown(\n",
    "        options=filename_missing_csv,\n",
    "        rows=15,\n",
    "        layout=Layout(width='80%'),\n",
    "        description=\"Full movie:\",\n",
    "        disabled=False,\n",
    "        \n",
    "    )\n",
    "    \n",
    "    display(movie_to_update)\n",
    "    return movie_to_update\n"
   ]
  },
  {
   "cell_type": "code",
   "execution_count": null,
   "id": "3ca4fae7",
   "metadata": {},
   "outputs": [],
   "source": [
    "info_csv = info_to_csv(missing_from_csv, mov_to_update.value)"
   ]
  },
  {
   "cell_type": "code",
   "execution_count": null,
   "id": "4d77c763",
   "metadata": {},
   "outputs": [],
   "source": [
    "# Select the info to add to the csv\n",
    "def info_to_csv(df, movies):\n",
    "    \n",
    "    # Save the filenames of the movies missing\n",
    "    filename_missing_csv = df.location_and_filename.unique()\n",
    "    \n",
    "    # Display the project options\n",
    "    movie_to_update = widgets.SelectMultiple(\n",
    "        options=filename_missing_csv,\n",
    "        rows=15,\n",
    "        layout=Layout(width='80%'),\n",
    "        description=\"Movie:\",\n",
    "        disabled=False,\n",
    "        \n",
    "    )\n",
    "    \n",
    "    display(movie_to_update)\n",
    "    return movie_to_update"
   ]
  },
  {
   "cell_type": "markdown",
   "id": "046787bf",
   "metadata": {},
   "source": [
    "# Concatenate go pros and update csv"
   ]
  },
  {
   "cell_type": "code",
   "execution_count": null,
   "id": "407056ec",
   "metadata": {},
   "outputs": [],
   "source": [
    "zoo_contents_s3_pd_movies[zoo_contents_s3_pd_movies['Key'].str.contains(\"TUH_032\")].Key.unique()"
   ]
  },
  {
   "cell_type": "code",
   "execution_count": 20,
   "id": "55a999cc",
   "metadata": {},
   "outputs": [
    {
     "data": {
      "text/plain": [
       "array(['Site 37 video 1.MP4;Site 37 video 2.MP4;Site 37 video 3.MP4;Site 37 video 4.MP4'],\n",
       "      dtype=object)"
      ]
     },
     "execution_count": 20,
     "metadata": {},
     "output_type": "execute_result"
    }
   ],
   "source": [
    "movies_df[movies_df['siteName']==\"TUH_037\"].go_pro_files.unique()"
   ]
  },
  {
   "cell_type": "code",
   "execution_count": null,
   "id": "ea738831",
   "metadata": {},
   "outputs": [],
   "source": [
    "missing_info[(missing_info[\"_merge\"]==\"right_only\")]"
   ]
  },
  {
   "cell_type": "code",
   "execution_count": null,
   "id": "426324ab",
   "metadata": {},
   "outputs": [],
   "source": [
    "# Select only those deployments that are valid\n",
    "movies_df = movies_df[~movies_df[\"IsBadDeployment\"]].reset_index(drop=True)"
   ]
  },
  {
   "cell_type": "code",
   "execution_count": 33,
   "id": "02d1d296",
   "metadata": {},
   "outputs": [
    {
     "name": "stdout",
     "output_type": "stream",
     "text": [
      "Packages loaded successfully\n"
     ]
    }
   ],
   "source": [
    "# Set the directory of the libraries\n",
    "import sys\n",
    "sys.path.append('..')\n",
    "\n",
    "# Import required modules\n",
    "import utils.t15_utils as t15\n",
    "import utils.t12_utils as t12\n",
    "\n",
    "print(\"Packages loaded successfully\")\n",
    "\n",
    "import os\n",
    "import pandas as pd\n",
    "import sqlite3\n",
    "import pandas as pd\n",
    "from tqdm import tqdm\n",
    "import subprocess\n",
    "\n",
    "import utils.db_utils as db_utils\n",
    "import utils.server_utils as server_utils\n",
    "import utils.spyfish_utils as spyfish_utils\n",
    "\n",
    "# Get the location of the csv files with initial info to populate the db\n",
    "sites_csv, movies_csv, species_csv = server_utils.get_sites_movies_species()\n",
    "\n",
    "# Load the csv with movies information\n",
    "movies_df = pd.read_csv(movies_csv)\n",
    "\n",
    "# Select only those deployments that are valid\n",
    "movies_df = movies_df[~movies_df[\"IsBadDeployment\"]].reset_index(drop=True)    "
   ]
  },
  {
   "cell_type": "code",
   "execution_count": 34,
   "id": "02b46ffa",
   "metadata": {},
   "outputs": [],
   "source": [
    "# Select only surveys that are missing filenames\n",
    "unprocessed_movies_df = movies_df[movies_df[\"filename\"].isna()].reset_index(drop=True)\n",
    "\n",
    "# Write the filename of the concatenated movie\n",
    "unprocessed_movies_df[\"filename\"] = unprocessed_movies_df[\"siteName\"] + \"_\" + unprocessed_movies_df[\"created_on\"].str.replace('/','_')+ \".MP4\""
   ]
  },
  {
   "cell_type": "code",
   "execution_count": 32,
   "id": "ca51af7c",
   "metadata": {},
   "outputs": [
    {
     "data": {
      "text/html": [
       "<div>\n",
       "<style scoped>\n",
       "    .dataframe tbody tr th:only-of-type {\n",
       "        vertical-align: middle;\n",
       "    }\n",
       "\n",
       "    .dataframe tbody tr th {\n",
       "        vertical-align: top;\n",
       "    }\n",
       "\n",
       "    .dataframe thead th {\n",
       "        text-align: right;\n",
       "    }\n",
       "</style>\n",
       "<table border=\"1\" class=\"dataframe\">\n",
       "  <thead>\n",
       "    <tr style=\"text-align: right;\">\n",
       "      <th></th>\n",
       "      <th>Key</th>\n",
       "      <th>LastModified</th>\n",
       "      <th>ETag</th>\n",
       "      <th>Size</th>\n",
       "      <th>StorageClass</th>\n",
       "      <th>raw_filename</th>\n",
       "      <th>prefix</th>\n",
       "    </tr>\n",
       "  </thead>\n",
       "  <tbody>\n",
       "    <tr>\n",
       "      <th>115</th>\n",
       "      <td>buv-zooniverse-uploads/tuhua-buv-2020/TUH_020/...</td>\n",
       "      <td>2021-09-19 22:22:37+00:00</td>\n",
       "      <td>\"3e177dc45d15404f28e7b4fc10c7c39b\"</td>\n",
       "      <td>4004981319</td>\n",
       "      <td>STANDARD</td>\n",
       "      <td>Site 20 video 1.MP4</td>\n",
       "      <td>buv-zooniverse-uploads/tuhua-buv-2020/TUH_020</td>\n",
       "    </tr>\n",
       "    <tr>\n",
       "      <th>116</th>\n",
       "      <td>buv-zooniverse-uploads/tuhua-buv-2020/TUH_020/...</td>\n",
       "      <td>2021-09-19 22:22:56+00:00</td>\n",
       "      <td>\"82ea5941d68d96f95f6f7fb5b34b813b\"</td>\n",
       "      <td>4004794456</td>\n",
       "      <td>STANDARD</td>\n",
       "      <td>Site 20 video 2.MP4</td>\n",
       "      <td>buv-zooniverse-uploads/tuhua-buv-2020/TUH_020</td>\n",
       "    </tr>\n",
       "    <tr>\n",
       "      <th>117</th>\n",
       "      <td>buv-zooniverse-uploads/tuhua-buv-2020/TUH_020/...</td>\n",
       "      <td>2021-09-19 22:23:01+00:00</td>\n",
       "      <td>\"ecd102578f3d135f6f24059408a6f55e\"</td>\n",
       "      <td>4004810401</td>\n",
       "      <td>STANDARD</td>\n",
       "      <td>Site 20 video 3.MP4</td>\n",
       "      <td>buv-zooniverse-uploads/tuhua-buv-2020/TUH_020</td>\n",
       "    </tr>\n",
       "    <tr>\n",
       "      <th>118</th>\n",
       "      <td>buv-zooniverse-uploads/tuhua-buv-2020/TUH_020/...</td>\n",
       "      <td>2021-09-19 22:23:41+00:00</td>\n",
       "      <td>\"be9604f9a790af3a2e4acfb1027fe4df\"</td>\n",
       "      <td>4004858508</td>\n",
       "      <td>STANDARD</td>\n",
       "      <td>Site 20 video 4.MP4</td>\n",
       "      <td>buv-zooniverse-uploads/tuhua-buv-2020/TUH_020</td>\n",
       "    </tr>\n",
       "  </tbody>\n",
       "</table>\n",
       "</div>"
      ],
      "text/plain": [
       "                                                   Key  \\\n",
       "115  buv-zooniverse-uploads/tuhua-buv-2020/TUH_020/...   \n",
       "116  buv-zooniverse-uploads/tuhua-buv-2020/TUH_020/...   \n",
       "117  buv-zooniverse-uploads/tuhua-buv-2020/TUH_020/...   \n",
       "118  buv-zooniverse-uploads/tuhua-buv-2020/TUH_020/...   \n",
       "\n",
       "                 LastModified                                ETag        Size  \\\n",
       "115 2021-09-19 22:22:37+00:00  \"3e177dc45d15404f28e7b4fc10c7c39b\"  4004981319   \n",
       "116 2021-09-19 22:22:56+00:00  \"82ea5941d68d96f95f6f7fb5b34b813b\"  4004794456   \n",
       "117 2021-09-19 22:23:01+00:00  \"ecd102578f3d135f6f24059408a6f55e\"  4004810401   \n",
       "118 2021-09-19 22:23:41+00:00  \"be9604f9a790af3a2e4acfb1027fe4df\"  4004858508   \n",
       "\n",
       "    StorageClass         raw_filename  \\\n",
       "115     STANDARD  Site 20 video 1.MP4   \n",
       "116     STANDARD  Site 20 video 2.MP4   \n",
       "117     STANDARD  Site 20 video 3.MP4   \n",
       "118     STANDARD  Site 20 video 4.MP4   \n",
       "\n",
       "                                            prefix  \n",
       "115  buv-zooniverse-uploads/tuhua-buv-2020/TUH_020  \n",
       "116  buv-zooniverse-uploads/tuhua-buv-2020/TUH_020  \n",
       "117  buv-zooniverse-uploads/tuhua-buv-2020/TUH_020  \n",
       "118  buv-zooniverse-uploads/tuhua-buv-2020/TUH_020  "
      ]
     },
     "execution_count": 32,
     "metadata": {},
     "output_type": "execute_result"
    }
   ],
   "source": [
    "zoo_contents_s3_pd_movies[zoo_contents_s3_pd_movies['raw_filename'].str.contains(\"Site 20\")]"
   ]
  },
  {
   "cell_type": "code",
   "execution_count": 35,
   "id": "2722b084",
   "metadata": {},
   "outputs": [
    {
     "data": {
      "text/html": [
       "<div>\n",
       "<style scoped>\n",
       "    .dataframe tbody tr th:only-of-type {\n",
       "        vertical-align: middle;\n",
       "    }\n",
       "\n",
       "    .dataframe tbody tr th {\n",
       "        vertical-align: top;\n",
       "    }\n",
       "\n",
       "    .dataframe thead th {\n",
       "        text-align: right;\n",
       "    }\n",
       "</style>\n",
       "<table border=\"1\" class=\"dataframe\">\n",
       "  <thead>\n",
       "    <tr style=\"text-align: right;\">\n",
       "      <th></th>\n",
       "      <th>movie_id</th>\n",
       "      <th>filename</th>\n",
       "      <th>siteName</th>\n",
       "      <th>created_on</th>\n",
       "      <th>Author</th>\n",
       "      <th>fps</th>\n",
       "      <th>duration</th>\n",
       "      <th>survey_start</th>\n",
       "      <th>survey_end</th>\n",
       "      <th>go_pro_files</th>\n",
       "      <th>bucket</th>\n",
       "      <th>prefix</th>\n",
       "      <th>IsBadDeployment</th>\n",
       "    </tr>\n",
       "  </thead>\n",
       "  <tbody>\n",
       "  </tbody>\n",
       "</table>\n",
       "</div>"
      ],
      "text/plain": [
       "Empty DataFrame\n",
       "Columns: [movie_id, filename, siteName, created_on, Author, fps, duration, survey_start, survey_end, go_pro_files, bucket, prefix, IsBadDeployment]\n",
       "Index: []"
      ]
     },
     "execution_count": 35,
     "metadata": {},
     "output_type": "execute_result"
    }
   ],
   "source": [
    "unprocessed_movies_df"
   ]
  },
  {
   "cell_type": "code",
   "execution_count": 19,
   "id": "ea053faf",
   "metadata": {},
   "outputs": [
    {
     "data": {
      "text/html": [
       "<div>\n",
       "<style scoped>\n",
       "    .dataframe tbody tr th:only-of-type {\n",
       "        vertical-align: middle;\n",
       "    }\n",
       "\n",
       "    .dataframe tbody tr th {\n",
       "        vertical-align: top;\n",
       "    }\n",
       "\n",
       "    .dataframe thead th {\n",
       "        text-align: right;\n",
       "    }\n",
       "</style>\n",
       "<table border=\"1\" class=\"dataframe\">\n",
       "  <thead>\n",
       "    <tr style=\"text-align: right;\">\n",
       "      <th></th>\n",
       "      <th>movie_id</th>\n",
       "      <th>filename</th>\n",
       "      <th>siteName</th>\n",
       "      <th>created_on</th>\n",
       "      <th>Author</th>\n",
       "      <th>fps</th>\n",
       "      <th>duration</th>\n",
       "      <th>survey_start</th>\n",
       "      <th>survey_end</th>\n",
       "      <th>go_pro_files</th>\n",
       "      <th>bucket</th>\n",
       "      <th>prefix</th>\n",
       "      <th>IsBadDeployment</th>\n",
       "    </tr>\n",
       "  </thead>\n",
       "  <tbody>\n",
       "    <tr>\n",
       "      <th>0</th>\n",
       "      <td>49</td>\n",
       "      <td>TUH_037_1_09_2020.MP4</td>\n",
       "      <td>TUH_037</td>\n",
       "      <td>1/09/2020</td>\n",
       "      <td>MoniqueLadds</td>\n",
       "      <td>99</td>\n",
       "      <td>7200</td>\n",
       "      <td>395</td>\n",
       "      <td>2195</td>\n",
       "      <td>Site 37 video 1.MP4;Site 37 video 2.MP4;Site 3...</td>\n",
       "      <td>NaN</td>\n",
       "      <td>NaN</td>\n",
       "      <td>False</td>\n",
       "    </tr>\n",
       "  </tbody>\n",
       "</table>\n",
       "</div>"
      ],
      "text/plain": [
       "   movie_id               filename siteName created_on        Author  fps  \\\n",
       "0        49  TUH_037_1_09_2020.MP4  TUH_037  1/09/2020  MoniqueLadds   99   \n",
       "\n",
       "   duration  survey_start  survey_end  \\\n",
       "0      7200           395        2195   \n",
       "\n",
       "                                        go_pro_files bucket prefix  \\\n",
       "0  Site 37 video 1.MP4;Site 37 video 2.MP4;Site 3...    NaN    NaN   \n",
       "\n",
       "   IsBadDeployment  \n",
       "0            False  "
      ]
     },
     "execution_count": 19,
     "metadata": {},
     "output_type": "execute_result"
    }
   ],
   "source": [
    "unprocessed_movies_df"
   ]
  },
  {
   "cell_type": "code",
   "execution_count": 27,
   "id": "66f4a82d",
   "metadata": {
    "scrolled": false
   },
   "outputs": [
    {
     "name": "stderr",
     "output_type": "stream",
     "text": [
      "  0%|          | 0/1 [00:00<?, ?it/s]\n"
     ]
    },
    {
     "ename": "TypeError",
     "evalue": "unsupported operand type(s) for +: 'float' and 'str'",
     "output_type": "error",
     "traceback": [
      "\u001b[1;31m---------------------------------------------------------------------------\u001b[0m",
      "\u001b[1;31mTypeError\u001b[0m                                 Traceback (most recent call last)",
      "\u001b[1;32m<ipython-input-27-622652e6875e>\u001b[0m in \u001b[0;36m<module>\u001b[1;34m\u001b[0m\n\u001b[1;32m----> 1\u001b[1;33m \u001b[0mspyfish_utils\u001b[0m\u001b[1;33m.\u001b[0m\u001b[0mconcatenate_videos\u001b[0m\u001b[1;33m(\u001b[0m\u001b[0munprocessed_movies_df\u001b[0m\u001b[1;33m,\u001b[0m \u001b[0mclient\u001b[0m\u001b[1;33m)\u001b[0m\u001b[1;33m\u001b[0m\u001b[1;33m\u001b[0m\u001b[0m\n\u001b[0m",
      "\u001b[1;32m~\\koster_data_management\\utils\\spyfish_utils.py\u001b[0m in \u001b[0;36mconcatenate_videos\u001b[1;34m(df, session)\u001b[0m\n\u001b[0;32m     76\u001b[0m         \u001b[1;31m# Select the go pro videos from the \"i\" survey to concatenate\u001b[0m\u001b[1;33m\u001b[0m\u001b[1;33m\u001b[0m\u001b[1;33m\u001b[0m\u001b[0m\n\u001b[0;32m     77\u001b[0m         \u001b[0mlist1\u001b[0m \u001b[1;33m=\u001b[0m \u001b[0mrow\u001b[0m\u001b[1;33m[\u001b[0m\u001b[1;34m'go_pro_files'\u001b[0m\u001b[1;33m]\u001b[0m\u001b[1;33m.\u001b[0m\u001b[0msplit\u001b[0m\u001b[1;33m(\u001b[0m\u001b[1;34m';'\u001b[0m\u001b[1;33m)\u001b[0m\u001b[1;33m\u001b[0m\u001b[1;33m\u001b[0m\u001b[0m\n\u001b[1;32m---> 78\u001b[1;33m         \u001b[0mlist_go_pro\u001b[0m \u001b[1;33m=\u001b[0m \u001b[1;33m[\u001b[0m\u001b[0mrow\u001b[0m\u001b[1;33m[\u001b[0m\u001b[1;34m'prefix'\u001b[0m\u001b[1;33m]\u001b[0m \u001b[1;33m+\u001b[0m \u001b[1;34m\"/\"\u001b[0m \u001b[1;33m+\u001b[0m \u001b[0ms\u001b[0m \u001b[1;32mfor\u001b[0m \u001b[0ms\u001b[0m \u001b[1;32min\u001b[0m \u001b[0mlist1\u001b[0m\u001b[1;33m]\u001b[0m\u001b[1;33m\u001b[0m\u001b[1;33m\u001b[0m\u001b[0m\n\u001b[0m\u001b[0;32m     79\u001b[0m \u001b[1;33m\u001b[0m\u001b[0m\n\u001b[0;32m     80\u001b[0m         \u001b[1;31m# Start text file and list to keep track of the videos to concatenate\u001b[0m\u001b[1;33m\u001b[0m\u001b[1;33m\u001b[0m\u001b[1;33m\u001b[0m\u001b[0m\n",
      "\u001b[1;32m~\\koster_data_management\\utils\\spyfish_utils.py\u001b[0m in \u001b[0;36m<listcomp>\u001b[1;34m(.0)\u001b[0m\n\u001b[0;32m     76\u001b[0m         \u001b[1;31m# Select the go pro videos from the \"i\" survey to concatenate\u001b[0m\u001b[1;33m\u001b[0m\u001b[1;33m\u001b[0m\u001b[1;33m\u001b[0m\u001b[0m\n\u001b[0;32m     77\u001b[0m         \u001b[0mlist1\u001b[0m \u001b[1;33m=\u001b[0m \u001b[0mrow\u001b[0m\u001b[1;33m[\u001b[0m\u001b[1;34m'go_pro_files'\u001b[0m\u001b[1;33m]\u001b[0m\u001b[1;33m.\u001b[0m\u001b[0msplit\u001b[0m\u001b[1;33m(\u001b[0m\u001b[1;34m';'\u001b[0m\u001b[1;33m)\u001b[0m\u001b[1;33m\u001b[0m\u001b[1;33m\u001b[0m\u001b[0m\n\u001b[1;32m---> 78\u001b[1;33m         \u001b[0mlist_go_pro\u001b[0m \u001b[1;33m=\u001b[0m \u001b[1;33m[\u001b[0m\u001b[0mrow\u001b[0m\u001b[1;33m[\u001b[0m\u001b[1;34m'prefix'\u001b[0m\u001b[1;33m]\u001b[0m \u001b[1;33m+\u001b[0m \u001b[1;34m\"/\"\u001b[0m \u001b[1;33m+\u001b[0m \u001b[0ms\u001b[0m \u001b[1;32mfor\u001b[0m \u001b[0ms\u001b[0m \u001b[1;32min\u001b[0m \u001b[0mlist1\u001b[0m\u001b[1;33m]\u001b[0m\u001b[1;33m\u001b[0m\u001b[1;33m\u001b[0m\u001b[0m\n\u001b[0m\u001b[0;32m     79\u001b[0m \u001b[1;33m\u001b[0m\u001b[0m\n\u001b[0;32m     80\u001b[0m         \u001b[1;31m# Start text file and list to keep track of the videos to concatenate\u001b[0m\u001b[1;33m\u001b[0m\u001b[1;33m\u001b[0m\u001b[1;33m\u001b[0m\u001b[0m\n",
      "\u001b[1;31mTypeError\u001b[0m: unsupported operand type(s) for +: 'float' and 'str'"
     ]
    }
   ],
   "source": [
    "spyfish_utils.concatenate_videos(unprocessed_movies_df, client)"
   ]
  },
  {
   "cell_type": "code",
   "execution_count": null,
   "id": "c1ca0f6d",
   "metadata": {},
   "outputs": [],
   "source": [
    "# Check that all videos have filenames\n",
    "if movies_df[\"filename\"].isna().any():\n",
    "    \n",
    "    #####Get info from bucket#####\n",
    "    # Your acess key for the s3 bucket. \n",
    "    #aws_access_key_id, aws_secret_access_key = server_utils.aws_credentials()\n",
    "\n",
    "    # Specify the bucket where the BUV files are\n",
    "    bucket_i = movies_df['bucket'].str.split('/').str[0].dropna().unique()[1]"
   ]
  },
  {
   "cell_type": "code",
   "execution_count": null,
   "id": "69b2d0f9",
   "metadata": {},
   "outputs": [],
   "source": [
    "# Retrieve info from the bucket\n",
    "contents_s3_pd = server_utils.retrieve_s3_buckets_info(client, bucket_i)"
   ]
  },
  {
   "cell_type": "code",
   "execution_count": null,
   "id": "e23095b8",
   "metadata": {},
   "outputs": [],
   "source": [
    "contents_s3_pd"
   ]
  },
  {
   "cell_type": "code",
   "execution_count": null,
   "id": "15e07aa4",
   "metadata": {},
   "outputs": [],
   "source": [
    "contents_s3_pd[contents_s3_pd['Key'].str.contains(\"buv-zooniverse-uploads/tuhua-buv-2020/TUH_021/TUH_021__22_09_2020.MP4\")]['Key'].unique()"
   ]
  },
  {
   "cell_type": "code",
   "execution_count": null,
   "id": "9f821137",
   "metadata": {},
   "outputs": [],
   "source": [
    "#client.delete_object(Bucket=bucket_i, Key=\"buv-zooniverse-uploads/tuhua-buv-2020/TUH_021/TUH_021__22_09_2020.MP4\")"
   ]
  },
  {
   "cell_type": "code",
   "execution_count": null,
   "id": "99c36b3c",
   "metadata": {},
   "outputs": [],
   "source": [
    "# Specify the filename of the raw videos        \n",
    "contents_s3_pd['raw_filename'] = contents_s3_pd['Key'].str.split('/').str[-1]\n",
    "\n",
    "# Specify the filename of the raw videos        \n",
    "contents_s3_pd['bucket'] = contents_s3_pd['Key'].str.rsplit('/',1).str[0]"
   ]
  },
  {
   "cell_type": "code",
   "execution_count": null,
   "id": "597b0314",
   "metadata": {},
   "outputs": [],
   "source": [
    "session = server_utils.connect_s3(aws_access_key_id, aws_secret_access_key)"
   ]
  },
  {
   "cell_type": "code",
   "execution_count": null,
   "id": "4dae63c0",
   "metadata": {},
   "outputs": [],
   "source": [
    "!pip install boto3"
   ]
  },
  {
   "cell_type": "code",
   "execution_count": null,
   "id": "a1f14939",
   "metadata": {},
   "outputs": [],
   "source": [
    "# Check that filenames info from movies csv exists in S3\n",
    "import boto3\n",
    "from botocore.errorfactory import ClientError\n",
    "\n",
    "s3 = boto3.client('s3')\n",
    "try:\n",
    "    s3.head_object(Bucket='bucket_name', Key='file_path')\n",
    "except ClientError:\n",
    "    # Not found\n",
    "    pass\n"
   ]
  }
 ],
 "metadata": {
  "kernelspec": {
   "display_name": "Python 3",
   "language": "python",
   "name": "python3"
  },
  "language_info": {
   "codemirror_mode": {
    "name": "ipython",
    "version": 3
   },
   "file_extension": ".py",
   "mimetype": "text/x-python",
   "name": "python",
   "nbconvert_exporter": "python",
   "pygments_lexer": "ipython3",
   "version": "3.8.8"
  }
 },
 "nbformat": 4,
 "nbformat_minor": 5
}
