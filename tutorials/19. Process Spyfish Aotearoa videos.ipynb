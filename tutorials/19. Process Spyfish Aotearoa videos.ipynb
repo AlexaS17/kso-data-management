{
 "cells": [
  {
   "cell_type": "markdown",
   "id": "95aea466",
   "metadata": {},
   "source": [
    "<img align=\"left\" src=\"https://panoptes-uploads.zooniverse.org/project_avatar/86c23ca7-bbaa-4e84-8d8a-876819551431.png\" type=\"image/png\" height=100 width=100>\n",
    "</img>\n",
    "\n",
    "\n",
    "<h1 align=\"right\">KSO Tutorials #19: Process Spyfish Aotearoa videos</h1>\n",
    "<h3 align=\"right\">Written by @jannesgg and @vykanton</h3>\n",
    "<h5 align=\"right\">Last updated: Nov 14th, 2021</h5>"
   ]
  },
  {
   "cell_type": "markdown",
   "id": "6f0fc779",
   "metadata": {},
   "source": [
    "# Set up and requirements"
   ]
  },
  {
   "cell_type": "markdown",
   "id": "ed3d9d14",
   "metadata": {},
   "source": [
    "Import Python packages"
   ]
  },
  {
   "cell_type": "code",
   "execution_count": null,
   "id": "46ca201f",
   "metadata": {
    "scrolled": true
   },
   "outputs": [],
   "source": [
    "# Set the directory of the libraries\n",
    "import sys\n",
    "sys.path.append('..')\n",
    "\n",
    "# Set to display dataframes as interactive tables\n",
    "from itables import init_notebook_mode\n",
    "init_notebook_mode(all_interactive=True)\n",
    "\n",
    "# Import required modules\n",
    "import kso_utils.tutorials_utils as t_utils\n",
    "import kso_utils.t19_utils as t19\n",
    "#import utils.server_utils as serv_utils\n",
    "\n",
    "print(\"Packages loaded successfully\")"
   ]
  },
  {
   "cell_type": "markdown",
   "id": "77996901",
   "metadata": {},
   "source": [
    "### Choose your project"
   ]
  },
  {
   "cell_type": "code",
   "execution_count": null,
   "id": "eafe82e7",
   "metadata": {},
   "outputs": [],
   "source": [
    "project = t_utils.choose_project()"
   ]
  },
  {
   "cell_type": "markdown",
   "id": "46c3d19e",
   "metadata": {},
   "source": [
    "### Initiate sql and get server or local storage details"
   ]
  },
  {
   "cell_type": "code",
   "execution_count": null,
   "id": "33d744a9",
   "metadata": {},
   "outputs": [],
   "source": [
    "# Initiate db\n",
    "db_info_dict = t_utils.initiate_db(project.value)"
   ]
  },
  {
   "cell_type": "markdown",
   "id": "f401dba3",
   "metadata": {},
   "source": [
    "# Select the folder where the sd card is"
   ]
  },
  {
   "cell_type": "markdown",
   "id": "3c1e6fcb",
   "metadata": {},
   "source": [
    "Make sure you select the FOLDER not the files"
   ]
  },
  {
   "cell_type": "code",
   "execution_count": null,
   "id": "18c2475c",
   "metadata": {},
   "outputs": [],
   "source": [
    "go_pro_folder = t19.select_go_pro_folder()"
   ]
  },
  {
   "cell_type": "code",
   "execution_count": null,
   "id": "37708271",
   "metadata": {},
   "outputs": [],
   "source": [
    "go_pro_movies_i = t19.select_go_pro_movies(go_pro_folder.selected)\n",
    "print(\"The movies selected are:\")\n",
    "print(*go_pro_movies_i, sep='\\n')"
   ]
  },
  {
   "cell_type": "markdown",
   "id": "b597f250",
   "metadata": {},
   "source": [
    "### Select the date and site"
   ]
  },
  {
   "cell_type": "code",
   "execution_count": null,
   "id": "d407bfff",
   "metadata": {},
   "outputs": [],
   "source": [
    "site_i = t19.select_site(db_info_dict)\n",
    "date_i = t19.select_date()"
   ]
  },
  {
   "cell_type": "markdown",
   "id": "3718f963",
   "metadata": {},
   "source": [
    "### Concatenate the go pro files"
   ]
  },
  {
   "cell_type": "code",
   "execution_count": null,
   "id": "c0a22c8c",
   "metadata": {},
   "outputs": [],
   "source": [
    "video_info_dict = t19.concatenate_go_pro_videos(site_i.result.value,\n",
    "                                                date_i.value.isoformat().replace(\"-\",\"_\"),\n",
    "                                                go_pro_folder.selected,\n",
    "                                                go_pro_movies_i)"
   ]
  },
  {
   "cell_type": "markdown",
   "id": "5a9faf7c",
   "metadata": {},
   "source": [
    "### Select Author, bad deployment, survey start/end, s3 bucket"
   ]
  },
  {
   "cell_type": "code",
   "execution_count": null,
   "id": "14ca7029",
   "metadata": {},
   "outputs": [],
   "source": [
    "# Select author\n",
    "video_author = t19.select_author(db_info_dict)\n",
    "\n",
    "# Specify id deployment is bad\n",
    "deployment_i = t19.select_bad_deployment()\n",
    "\n",
    "# Set survey start\n",
    "surv_start = t19.select_start_survey(video_info_dict[\"length\"])\n",
    "\n",
    "#TODO Set survey end\n",
    "surv_end = t19.select_end_survey(video_info_dict[\"length\"])\n",
    "\n",
    "# Select the S3 \"folder\" to upload the video\n",
    "s3_folder = t19.select_s3_folder(db_info_dict)\n",
    "\n",
    "#Add any comment related to the movie\n",
    "comment_movie = t19.write_comment()"
   ]
  },
  {
   "cell_type": "markdown",
   "id": "08a5b78d",
   "metadata": {},
   "source": [
    "### Review the survey/movie details"
   ]
  },
  {
   "cell_type": "code",
   "execution_count": null,
   "id": "463e7131",
   "metadata": {},
   "outputs": [],
   "source": [
    "new_row, movies_df = t19.review_movie_details(\n",
    "    project_name = project.value,\n",
    "    db_info_dict = db_info_dict,\n",
    "    video_info_dict_i = video_info_dict,\n",
    "    IsBadDeployment_i = deployment_i.result,\n",
    "    survey_start_i = surv_start.result,\n",
    "    survey_end_i = surv_end.result,\n",
    "    author_i = video_author.result.value,\n",
    "    comment_i = comment_movie.value,\n",
    "    s3_prefix_i = s3_folder.value,\n",
    "    go_pro_list_i = go_pro_movies_i,\n",
    "    bucket_i = 'marine-buv'\n",
    ")\n",
    "print(\"The new details are:\")\n",
    "new_row.to_dict('records')"
   ]
  },
  {
   "cell_type": "markdown",
   "id": "098afca0",
   "metadata": {},
   "source": [
    "# !!!Only pass this point if movie details are correct!!!"
   ]
  },
  {
   "cell_type": "markdown",
   "id": "21e2d0b9",
   "metadata": {},
   "source": [
    "### Update movies csv and upload video to s3"
   ]
  },
  {
   "cell_type": "code",
   "execution_count": null,
   "id": "549375bf",
   "metadata": {},
   "outputs": [],
   "source": [
    "upload_concat_movie(new_row, db_info_dict, video_info_dict, movies_df)"
   ]
  },
  {
   "cell_type": "code",
   "execution_count": null,
   "id": "a004889d",
   "metadata": {},
   "outputs": [],
   "source": [
    "#END"
   ]
  }
 ],
 "metadata": {
  "kernelspec": {
   "display_name": "Python 3",
   "language": "python",
   "name": "python3"
  },
  "language_info": {
   "codemirror_mode": {
    "name": "ipython",
    "version": 3
   },
   "file_extension": ".py",
   "mimetype": "text/x-python",
   "name": "python",
   "nbconvert_exporter": "python",
   "pygments_lexer": "ipython3",
   "version": "3.8.8"
  }
 },
 "nbformat": 4,
 "nbformat_minor": 5
}
