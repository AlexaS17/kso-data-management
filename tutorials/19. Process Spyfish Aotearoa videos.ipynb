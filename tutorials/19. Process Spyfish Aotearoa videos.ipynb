{
 "cells": [
  {
   "cell_type": "markdown",
   "id": "95aea466",
   "metadata": {},
   "source": [
    "<img align=\"left\" src=\"https://panoptes-uploads.zooniverse.org/project_avatar/86c23ca7-bbaa-4e84-8d8a-876819551431.png\" type=\"image/png\" height=100 width=100>\n",
    "</img>\n",
    "\n",
    "\n",
    "<h1 align=\"right\">KSO Tutorials #19: Process Spyfish Aotearoa videos</h1>\n",
    "<h3 align=\"right\">Written by @jannesgg and @vykanton</h3>\n",
    "<h5 align=\"right\">Last updated: Jan 20th, 2022</h5>"
   ]
  },
  {
   "cell_type": "markdown",
   "id": "6f0fc779",
   "metadata": {},
   "source": [
    "# Set up and requirements"
   ]
  },
  {
   "cell_type": "markdown",
   "id": "ed3d9d14",
   "metadata": {},
   "source": [
    "Import Python packages"
   ]
  },
  {
   "cell_type": "code",
   "execution_count": null,
   "id": "46ca201f",
   "metadata": {
    "scrolled": true
   },
   "outputs": [],
   "source": [
    "# Set the directory of the libraries\n",
    "import sys\n",
    "sys.path.append('..')\n",
    "\n",
    "# Set to display dataframes as interactive tables\n",
    "from itables import init_notebook_mode\n",
    "init_notebook_mode(all_interactive=True)\n",
    "\n",
    "# Import required modules\n",
    "import kso_utils.tutorials_utils as t_utils\n",
    "import kso_utils.t19_utils as t19\n",
    "#import utils.server_utils as serv_utils\n",
    "\n",
    "print(\"Packages loaded successfully\")"
   ]
  },
  {
   "cell_type": "markdown",
   "id": "77996901",
   "metadata": {},
   "source": [
    "### Choose your project"
   ]
  },
  {
   "cell_type": "code",
   "execution_count": null,
   "id": "eafe82e7",
   "metadata": {},
   "outputs": [],
   "source": [
    "project = t_utils.choose_project()"
   ]
  },
  {
   "cell_type": "markdown",
   "id": "46c3d19e",
   "metadata": {},
   "source": [
    "### Initiate sql and get server or local storage details"
   ]
  },
  {
   "cell_type": "code",
   "execution_count": null,
   "id": "33d744a9",
   "metadata": {},
   "outputs": [],
   "source": [
    "# Initiate db\n",
    "db_info_dict = t_utils.initiate_db(project.value)"
   ]
  },
  {
   "cell_type": "markdown",
   "id": "1a9ffb27",
   "metadata": {},
   "source": [
    "# Select the survey linked to the videos"
   ]
  },
  {
   "cell_type": "code",
   "execution_count": null,
   "id": "a2d26b4f",
   "metadata": {},
   "outputs": [],
   "source": [
    "survey_i = t19.select_survey(db_info_dict)"
   ]
  },
  {
   "cell_type": "code",
   "execution_count": null,
   "id": "eeaf83b5",
   "metadata": {},
   "outputs": [],
   "source": [
    "survey_name = t19.confirm_survey(survey_i, db_info_dict)"
   ]
  },
  {
   "cell_type": "markdown",
   "id": "f401dba3",
   "metadata": {},
   "source": [
    "# Select the folder with the go pro files of the deployment"
   ]
  },
  {
   "cell_type": "markdown",
   "id": "3c1e6fcb",
   "metadata": {},
   "source": [
    "Make sure you select the FOLDER not the files"
   ]
  },
  {
   "cell_type": "code",
   "execution_count": null,
   "id": "3706651c",
   "metadata": {},
   "outputs": [],
   "source": [
    "go_pro_folder = t19.select_go_pro_folder(db_info_dict)"
   ]
  },
  {
   "cell_type": "code",
   "execution_count": null,
   "id": "37708271",
   "metadata": {},
   "outputs": [],
   "source": [
    "go_pro_files = t19.select_go_pro_files(go_pro_folder, db_info_dict)"
   ]
  },
  {
   "cell_type": "code",
   "execution_count": null,
   "id": "f54290f1",
   "metadata": {},
   "outputs": [],
   "source": [
    "go_pro_folder.result.value\n",
    "go_pro_folder.result.result.value\n",
    "go_pro_folder.kwargs['server_or_locally']"
   ]
  },
  {
   "cell_type": "markdown",
   "id": "b597f250",
   "metadata": {},
   "source": [
    "## Select the date and site of the deployment"
   ]
  },
  {
   "cell_type": "code",
   "execution_count": null,
   "id": "d407bfff",
   "metadata": {},
   "outputs": [],
   "source": [
    "SiteID_i = t19.select_SiteID(db_info_dict)\n",
    "EventDate_i = t19.select_eventdate()"
   ]
  },
  {
   "cell_type": "markdown",
   "id": "3718f963",
   "metadata": {},
   "source": [
    "## Concatenate the go pro files"
   ]
  },
  {
   "cell_type": "code",
   "execution_count": null,
   "id": "c0a22c8c",
   "metadata": {},
   "outputs": [],
   "source": [
    "video_info_dict = t19.concatenate_go_pro_videos(db_info_dict,\n",
    "                                                SiteID_i.value,\n",
    "                                                EventDate_i.value,\n",
    "                                                go_pro_folder,\n",
    "                                                go_pro_files)"
   ]
  },
  {
   "cell_type": "markdown",
   "id": "5a9faf7c",
   "metadata": {},
   "source": [
    "## Specify deployment details"
   ]
  },
  {
   "cell_type": "code",
   "execution_count": null,
   "id": "14ca7029",
   "metadata": {
    "scrolled": true
   },
   "outputs": [],
   "source": [
    "deployment_info = t19.record_deployment_info(db_info_dict, video_info_dict)"
   ]
  },
  {
   "cell_type": "markdown",
   "id": "08a5b78d",
   "metadata": {},
   "source": [
    "## Review deployment  details"
   ]
  },
  {
   "cell_type": "code",
   "execution_count": null,
   "id": "463e7131",
   "metadata": {},
   "outputs": [],
   "source": [
    "new_deployment_row = t19.confirm_deployment_details(video_info_dict,\n",
    "                                                   db_info_dict,\n",
    "                                                   survey_i,\n",
    "                                                   deployment_info)"
   ]
  },
  {
   "cell_type": "markdown",
   "id": "098afca0",
   "metadata": {},
   "source": [
    "# !!!Only pass this point if deployment details are correct!!!"
   ]
  },
  {
   "cell_type": "markdown",
   "id": "21e2d0b9",
   "metadata": {},
   "source": [
    "### Update movies csv and upload video to s3"
   ]
  },
  {
   "cell_type": "code",
   "execution_count": null,
   "id": "549375bf",
   "metadata": {},
   "outputs": [],
   "source": [
    "t19.upload_concat_movie(db_info_dict, video_info_dict, new_deployment_row)"
   ]
  },
  {
   "cell_type": "code",
   "execution_count": null,
   "id": "a004889d",
   "metadata": {},
   "outputs": [],
   "source": [
    "#END"
   ]
  }
 ],
 "metadata": {
  "kernelspec": {
   "display_name": "Python 3 (ipykernel)",
   "language": "python",
   "name": "python3"
  },
  "language_info": {
   "codemirror_mode": {
    "name": "ipython",
    "version": 3
   },
   "file_extension": ".py",
   "mimetype": "text/x-python",
   "name": "python",
   "nbconvert_exporter": "python",
   "pygments_lexer": "ipython3",
   "version": "3.9.7"
  }
 },
 "nbformat": 4,
 "nbformat_minor": 5
}
