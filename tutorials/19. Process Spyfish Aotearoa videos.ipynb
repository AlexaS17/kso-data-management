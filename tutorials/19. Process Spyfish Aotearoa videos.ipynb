{
 "cells": [
  {
   "cell_type": "markdown",
   "id": "95aea466",
   "metadata": {},
   "source": [
    "<img align=\"left\" src=\"https://panoptes-uploads.zooniverse.org/project_avatar/86c23ca7-bbaa-4e84-8d8a-876819551431.png\" type=\"image/png\" height=100 width=100>\n",
    "</img>\n",
    "\n",
    "\n",
    "<h1 align=\"right\">KSO Tutorials #19: Process Spyfish Aotearoa videos</h1>\n",
    "<h3 align=\"right\">Written by @jannesgg and @vykanton</h3>\n",
    "<h5 align=\"right\">Last updated: Nov 14th, 2021</h5>"
   ]
  },
  {
   "cell_type": "code",
   "execution_count": null,
   "id": "d16eb498",
   "metadata": {},
   "outputs": [],
   "source": [
    "%load_ext autoreload\n",
    "%autoreload 2"
   ]
  },
  {
   "cell_type": "markdown",
   "id": "6f0fc779",
   "metadata": {},
   "source": [
    "# Set up and requirements"
   ]
  },
  {
   "cell_type": "markdown",
   "id": "ed3d9d14",
   "metadata": {},
   "source": [
    "Import Python packages"
   ]
  },
  {
   "cell_type": "code",
   "execution_count": 1,
   "id": "b30eb331",
   "metadata": {},
   "outputs": [
    {
     "name": "stdout",
     "output_type": "stream",
     "text": [
      "C:\\Users\\Victor\\koster_data_management\n"
     ]
    }
   ],
   "source": [
    "cd .."
   ]
  },
  {
   "cell_type": "code",
   "execution_count": 2,
   "id": "acb45194",
   "metadata": {},
   "outputs": [
    {
     "name": "stdout",
     "output_type": "stream",
     "text": [
      "Obtaining PIMS from git+https://github.com/soft-matter/pims.git#egg=PIMS (from -r requirements.txt (line 10))Note: you may need to restart the kernel to use updated packages.\n",
      "  Updating c:\\users\\victor\\koster_data_management\\src\\pims clone\n",
      "Requirement already satisfied: mydia==2.2.1 in c:\\users\\victor\\anaconda3\\lib\\site-packages (from -r requirements.txt (line 1)) (2.2.1)\n",
      "Requirement already satisfied: requests==2.26.0 in c:\\users\\victor\\anaconda3\\lib\\site-packages (from -r requirements.txt (line 2)) (2.26.0)\n",
      "Requirement already satisfied: numpy==1.21.4 in c:\\users\\victor\\anaconda3\\lib\\site-packages (from -r requirements.txt (line 3)) (1.21.4)\n",
      "\n",
      "Requirement already satisfied: pandas==1.3.0 in c:\\users\\victor\\anaconda3\\lib\\site-packages (from -r requirements.txt (line 4)) (1.3.0)\n",
      "Requirement already satisfied: panoptes_client in c:\\users\\victor\\anaconda3\\lib\\site-packages (from -r requirements.txt (line 5)) (0.10)\n",
      "Requirement already satisfied: python_magic==0.4.18 in c:\\users\\victor\\anaconda3\\lib\\site-packages (from -r requirements.txt (line 6)) (0.4.18)\n",
      "Requirement already satisfied: opencv_python==4.5.4.60 in c:\\users\\victor\\anaconda3\\lib\\site-packages (from -r requirements.txt (line 7)) (4.5.4.60)\n",
      "Requirement already satisfied: Pillow==8.3.2 in c:\\users\\victor\\anaconda3\\lib\\site-packages (from -r requirements.txt (line 8)) (8.3.2)\n",
      "Requirement already satisfied: scikit_learn==1.0.1 in c:\\users\\victor\\anaconda3\\lib\\site-packages (from -r requirements.txt (line 9)) (1.0.1)\n",
      "Collecting av==8.0.1\n",
      "  Using cached av-8.0.1.tar.gz (2.3 MB)\n",
      "Requirement already satisfied: jupyter in c:\\users\\victor\\anaconda3\\lib\\site-packages (from -r requirements.txt (line 12)) (1.0.0)\n"
     ]
    },
    {
     "name": "stderr",
     "output_type": "stream",
     "text": [
      "  Running command git fetch -q --tags\n",
      "  Running command git reset --hard -q 68c560e72e5673da3c6fc7952c0beb4a3fb1f509\n",
      "  ERROR: Command errored out with exit status 1:\n",
      "   command: 'C:\\Users\\Victor\\anaconda3\\python.exe' -u -c 'import io, os, sys, setuptools, tokenize; sys.argv[0] = '\"'\"'C:\\\\Users\\\\Victor\\\\AppData\\\\Local\\\\Temp\\\\pip-install-36s8257z\\\\av_3fe007b183464188a6953e66220dc3d7\\\\setup.py'\"'\"'; __file__='\"'\"'C:\\\\Users\\\\Victor\\\\AppData\\\\Local\\\\Temp\\\\pip-install-36s8257z\\\\av_3fe007b183464188a6953e66220dc3d7\\\\setup.py'\"'\"';f = getattr(tokenize, '\"'\"'open'\"'\"', open)(__file__) if os.path.exists(__file__) else io.StringIO('\"'\"'from setuptools import setup; setup()'\"'\"');code = f.read().replace('\"'\"'\\r\\n'\"'\"', '\"'\"'\\n'\"'\"');f.close();exec(compile(code, __file__, '\"'\"'exec'\"'\"'))' bdist_wheel -d 'C:\\Users\\Victor\\AppData\\Local\\Temp\\pip-wheel-rxye933h'\n",
      "       cwd: C:\\Users\\Victor\\AppData\\Local\\Temp\\pip-install-36s8257z\\av_3fe007b183464188a6953e66220dc3d7\\\n",
      "  Complete output (124 lines):\n",
      "  running bdist_wheel\n",
      "  running build\n",
      "  running build_py\n",
      "  creating build\n",
      "  creating build\\lib.win-amd64-3.9\n",
      "  creating build\\lib.win-amd64-3.9\\av\n",
      "  copying av\\datasets.py -> build\\lib.win-amd64-3.9\\av\n",
      "  copying av\\deprecation.py -> build\\lib.win-amd64-3.9\\av\n",
      "  copying av\\__init__.py -> build\\lib.win-amd64-3.9\\av\n",
      "  copying av\\__main__.py -> build\\lib.win-amd64-3.9\\av\n",
      "  creating build\\lib.win-amd64-3.9\\av\\audio\n",
      "  copying av\\audio\\__init__.py -> build\\lib.win-amd64-3.9\\av\\audio\n",
      "  creating build\\lib.win-amd64-3.9\\av\\codec\n",
      "  copying av\\codec\\__init__.py -> build\\lib.win-amd64-3.9\\av\\codec\n",
      "  creating build\\lib.win-amd64-3.9\\av\\container\n",
      "  copying av\\container\\__init__.py -> build\\lib.win-amd64-3.9\\av\\container\n",
      "  creating build\\lib.win-amd64-3.9\\av\\data\n",
      "  copying av\\data\\__init__.py -> build\\lib.win-amd64-3.9\\av\\data\n",
      "  creating build\\lib.win-amd64-3.9\\av\\filter\n",
      "  copying av\\filter\\__init__.py -> build\\lib.win-amd64-3.9\\av\\filter\n",
      "  creating build\\lib.win-amd64-3.9\\av\\sidedata\n",
      "  copying av\\sidedata\\__init__.py -> build\\lib.win-amd64-3.9\\av\\sidedata\n",
      "  creating build\\lib.win-amd64-3.9\\av\\subtitles\n",
      "  copying av\\subtitles\\__init__.py -> build\\lib.win-amd64-3.9\\av\\subtitles\n",
      "  creating build\\lib.win-amd64-3.9\\av\\video\n",
      "  copying av\\video\\__init__.py -> build\\lib.win-amd64-3.9\\av\\video\n",
      "  running build_ext\n",
      "  running config\n",
      "  writing build\\temp.win-amd64-3.9\\Release\\include\\pyav\\config.h\n",
      "  running cythonize\n",
      "  Compiling av\\buffer.pyx because it depends on C:\\Users\\Victor\\anaconda3\\lib\\site-packages\\Cython\\Includes\\libc\\string.pxd.\n",
      "  [1/1] Cythonizing av\\buffer.pyx\n",
      "  Compiling av\\bytesource.pyx because it depends on C:\\Users\\Victor\\anaconda3\\lib\\site-packages\\Cython\\Includes\\cpython\\buffer.pxd.\n",
      "  [1/1] Cythonizing av\\bytesource.pyx\n",
      "  Compiling av\\descriptor.pyx because it depends on C:\\Users\\Victor\\anaconda3\\lib\\site-packages\\Cython\\Includes\\libc\\stdint.pxd.\n",
      "  [1/1] Cythonizing av\\descriptor.pyx\n",
      "  Compiling av\\dictionary.pyx because it depends on C:\\Users\\Victor\\anaconda3\\lib\\site-packages\\Cython\\Includes\\libc\\stdint.pxd.\n",
      "  [1/1] Cythonizing av\\dictionary.pyx\n",
      "  Compiling av\\error.pyx because it depends on C:\\Users\\Victor\\anaconda3\\lib\\site-packages\\Cython\\Includes\\libc\\stdint.pxd.\n",
      "  [1/1] Cythonizing av\\error.pyx\n",
      "  Compiling av\\format.pyx because it depends on C:\\Users\\Victor\\anaconda3\\lib\\site-packages\\Cython\\Includes\\libc\\stdint.pxd.\n",
      "  [1/1] Cythonizing av\\format.pyx\n",
      "  Compiling av\\frame.pyx because it depends on C:\\Users\\Victor\\anaconda3\\lib\\site-packages\\Cython\\Includes\\libc\\stdint.pxd.\n",
      "  [1/1] Cythonizing av\\frame.pyx\n",
      "  Compiling av\\logging.pyx because it depends on C:\\Users\\Victor\\anaconda3\\lib\\site-packages\\Cython\\Includes\\libc\\string.pxd.\n",
      "  [1/1] Cythonizing av\\logging.pyx\n",
      "  Compiling av\\option.pyx because it depends on C:\\Users\\Victor\\anaconda3\\lib\\site-packages\\Cython\\Includes\\libc\\stdint.pxd.\n",
      "  [1/1] Cythonizing av\\option.pyx\n",
      "  Compiling av\\packet.pyx because it depends on C:\\Users\\Victor\\anaconda3\\lib\\site-packages\\Cython\\Includes\\libc\\stdint.pxd.\n",
      "  [1/1] Cythonizing av\\packet.pyx\n",
      "  Compiling av\\plane.pyx because it depends on C:\\Users\\Victor\\anaconda3\\lib\\site-packages\\Cython\\Includes\\libc\\stdint.pxd.\n",
      "  [1/1] Cythonizing av\\plane.pyx\n",
      "  Compiling av\\stream.pyx because it depends on C:\\Users\\Victor\\anaconda3\\lib\\site-packages\\Cython\\Includes\\libc\\string.pxd.\n",
      "  [1/1] Cythonizing av\\stream.pyx\n",
      "  Compiling av\\utils.pyx because it depends on C:\\Users\\Victor\\anaconda3\\lib\\site-packages\\Cython\\Includes\\libc\\stdint.pxd.\n",
      "  [1/1] Cythonizing av\\utils.pyx\n",
      "  Compiling av\\_core.pyx because it depends on C:\\Users\\Victor\\anaconda3\\lib\\site-packages\\Cython\\Includes\\libc\\stdint.pxd.\n",
      "  [1/1] Cythonizing av\\_core.pyx\n",
      "  Compiling av\\audio\\codeccontext.pyx because it depends on C:\\Users\\Victor\\anaconda3\\lib\\site-packages\\Cython\\Includes\\libc\\stdint.pxd.\n",
      "  [1/1] Cythonizing av\\audio\\codeccontext.pyx\n",
      "  Compiling av\\audio\\fifo.pyx because it depends on C:\\Users\\Victor\\anaconda3\\lib\\site-packages\\Cython\\Includes\\libc\\stdint.pxd.\n",
      "  [1/1] Cythonizing av\\audio\\fifo.pyx\n",
      "  Compiling av\\audio\\format.pyx because it depends on C:\\Users\\Victor\\anaconda3\\lib\\site-packages\\Cython\\Includes\\libc\\stdint.pxd.\n",
      "  [1/1] Cythonizing av\\audio\\format.pyx\n",
      "  Compiling av\\audio\\frame.pyx because it depends on C:\\Users\\Victor\\anaconda3\\lib\\site-packages\\Cython\\Includes\\libc\\stdint.pxd.\n",
      "  [1/1] Cythonizing av\\audio\\frame.pyx\n",
      "  Compiling av\\audio\\layout.pyx because it depends on C:\\Users\\Victor\\anaconda3\\lib\\site-packages\\Cython\\Includes\\libc\\stdint.pxd.\n",
      "  [1/1] Cythonizing av\\audio\\layout.pyx\n",
      "  Compiling av\\audio\\plane.pyx because it depends on C:\\Users\\Victor\\anaconda3\\lib\\site-packages\\Cython\\Includes\\libc\\stdint.pxd.\n",
      "  [1/1] Cythonizing av\\audio\\plane.pyx\n",
      "  Compiling av\\audio\\resampler.pyx because it depends on C:\\Users\\Victor\\anaconda3\\lib\\site-packages\\Cython\\Includes\\libc\\stdint.pxd.\n",
      "  [1/1] Cythonizing av\\audio\\resampler.pyx\n",
      "  Compiling av\\audio\\stream.pyx because it depends on C:\\Users\\Victor\\anaconda3\\lib\\site-packages\\Cython\\Includes\\libc\\stdint.pxd.\n",
      "  [1/1] Cythonizing av\\audio\\stream.pyx\n",
      "  Compiling av\\codec\\codec.pyx because it depends on C:\\Users\\Victor\\anaconda3\\lib\\site-packages\\Cython\\Includes\\libc\\stdint.pxd.\n",
      "  [1/1] Cythonizing av\\codec\\codec.pyx\n",
      "  Compiling av\\codec\\context.pyx because it depends on C:\\Users\\Victor\\anaconda3\\lib\\site-packages\\Cython\\Includes\\libc\\string.pxd.\n",
      "  [1/1] Cythonizing av\\codec\\context.pyx\n",
      "  Compiling av\\container\\core.pyx because it depends on C:\\Users\\Victor\\anaconda3\\lib\\site-packages\\Cython\\Includes\\libc\\string.pxd.\n",
      "  [1/1] Cythonizing av\\container\\core.pyx\n",
      "  Compiling av\\container\\input.pyx because it depends on C:\\Users\\Victor\\anaconda3\\lib\\site-packages\\Cython\\Includes\\libc\\string.pxd.\n",
      "  [1/1] Cythonizing av\\container\\input.pyx\n",
      "  Compiling av\\container\\output.pyx because it depends on C:\\Users\\Victor\\anaconda3\\lib\\site-packages\\Cython\\Includes\\libc\\stdint.pxd.\n",
      "  [1/1] Cythonizing av\\container\\output.pyx\n",
      "  Compiling av\\container\\pyio.pyx because it depends on C:\\Users\\Victor\\anaconda3\\lib\\site-packages\\Cython\\Includes\\libc\\string.pxd.\n",
      "  [1/1] Cythonizing av\\container\\pyio.pyx\n",
      "  Compiling av\\container\\streams.pyx because it depends on C:\\Users\\Victor\\anaconda3\\lib\\site-packages\\Cython\\Includes\\libc\\stdint.pxd.\n",
      "  [1/1] Cythonizing av\\container\\streams.pyx\n",
      "  Compiling av\\data\\stream.pyx because it depends on C:\\Users\\Victor\\anaconda3\\lib\\site-packages\\Cython\\Includes\\libc\\stdint.pxd.\n",
      "  [1/1] Cythonizing av\\data\\stream.pyx\n",
      "  Compiling av\\filter\\context.pyx because it depends on C:\\Users\\Victor\\anaconda3\\lib\\site-packages\\Cython\\Includes\\libc\\string.pxd.\n",
      "  [1/1] Cythonizing av\\filter\\context.pyx\n",
      "  Compiling av\\filter\\filter.pyx because it depends on C:\\Users\\Victor\\anaconda3\\lib\\site-packages\\Cython\\Includes\\libc\\stdint.pxd.\n",
      "  [1/1] Cythonizing av\\filter\\filter.pyx\n",
      "  Compiling av\\filter\\graph.pyx because it depends on C:\\Users\\Victor\\anaconda3\\lib\\site-packages\\Cython\\Includes\\libc\\stdint.pxd.\n",
      "  [1/1] Cythonizing av\\filter\\graph.pyx\n",
      "  Compiling av\\filter\\link.pyx because it depends on C:\\Users\\Victor\\anaconda3\\lib\\site-packages\\Cython\\Includes\\libc\\stdint.pxd.\n",
      "  [1/1] Cythonizing av\\filter\\link.pyx\n",
      "  Compiling av\\filter\\pad.pyx because it depends on C:\\Users\\Victor\\anaconda3\\lib\\site-packages\\Cython\\Includes\\libc\\stdint.pxd.\n",
      "  [1/1] Cythonizing av\\filter\\pad.pyx\n",
      "  Compiling av\\sidedata\\motionvectors.pyx because it depends on C:\\Users\\Victor\\anaconda3\\lib\\site-packages\\Cython\\Includes\\libc\\stdint.pxd.\n",
      "  [1/1] Cythonizing av\\sidedata\\motionvectors.pyx\n",
      "  Compiling av\\sidedata\\sidedata.pyx because it depends on C:\\Users\\Victor\\anaconda3\\lib\\site-packages\\Cython\\Includes\\libc\\stdint.pxd.\n",
      "  [1/1] Cythonizing av\\sidedata\\sidedata.pyx\n",
      "  Compiling av\\subtitles\\codeccontext.pyx because it depends on C:\\Users\\Victor\\anaconda3\\lib\\site-packages\\Cython\\Includes\\libc\\stdint.pxd.\n",
      "  [1/1] Cythonizing av\\subtitles\\codeccontext.pyx\n",
      "  Compiling av\\subtitles\\stream.pyx because it depends on C:\\Users\\Victor\\anaconda3\\lib\\site-packages\\Cython\\Includes\\libc\\stdint.pxd.\n",
      "  [1/1] Cythonizing av\\subtitles\\stream.pyx\n",
      "  Compiling av\\subtitles\\subtitle.pyx because it depends on C:\\Users\\Victor\\anaconda3\\lib\\site-packages\\Cython\\Includes\\libc\\string.pxd.\n",
      "  [1/1] Cythonizing av\\subtitles\\subtitle.pyx\n",
      "  Compiling av\\video\\codeccontext.pyx because it depends on C:\\Users\\Victor\\anaconda3\\lib\\site-packages\\Cython\\Includes\\libc\\stdint.pxd.\n",
      "  [1/1] Cythonizing av\\video\\codeccontext.pyx\n",
      "  Compiling av\\video\\format.pyx because it depends on C:\\Users\\Victor\\anaconda3\\lib\\site-packages\\Cython\\Includes\\libc\\stdint.pxd.\n",
      "  [1/1] Cythonizing av\\video\\format.pyx\n",
      "  Compiling av\\video\\frame.pyx because it depends on C:\\Users\\Victor\\anaconda3\\lib\\site-packages\\Cython\\Includes\\libc\\stdint.pxd.\n",
      "  [1/1] Cythonizing av\\video\\frame.pyx\n",
      "  Compiling av\\video\\plane.pyx because it depends on C:\\Users\\Victor\\anaconda3\\lib\\site-packages\\Cython\\Includes\\libc\\stdint.pxd.\n",
      "  [1/1] Cythonizing av\\video\\plane.pyx\n",
      "  Compiling av\\video\\reformatter.pyx because it depends on C:\\Users\\Victor\\anaconda3\\lib\\site-packages\\Cython\\Includes\\libc\\stdint.pxd.\n",
      "  [1/1] Cythonizing av\\video\\reformatter.pyx\n",
      "  Compiling av\\video\\stream.pyx because it depends on C:\\Users\\Victor\\anaconda3\\lib\\site-packages\\Cython\\Includes\\libc\\stdint.pxd.\n",
      "  [1/1] Cythonizing av\\video\\stream.pyx\n",
      "  building 'av.buffer' extension\n",
      "  error: Microsoft Visual C++ 14.0 or greater is required. Get it with \"Microsoft C++ Build Tools\": https://visualstudio.microsoft.com/visual-cpp-build-tools/\n",
      "  ----------------------------------------\n",
      "  ERROR: Failed building wheel for av\n",
      "    ERROR: Command errored out with exit status 1:\n",
      "     command: 'C:\\Users\\Victor\\anaconda3\\python.exe' -u -c 'import io, os, sys, setuptools, tokenize; sys.argv[0] = '\"'\"'C:\\\\Users\\\\Victor\\\\AppData\\\\Local\\\\Temp\\\\pip-install-36s8257z\\\\av_3fe007b183464188a6953e66220dc3d7\\\\setup.py'\"'\"'; __file__='\"'\"'C:\\\\Users\\\\Victor\\\\AppData\\\\Local\\\\Temp\\\\pip-install-36s8257z\\\\av_3fe007b183464188a6953e66220dc3d7\\\\setup.py'\"'\"';f = getattr(tokenize, '\"'\"'open'\"'\"', open)(__file__) if os.path.exists(__file__) else io.StringIO('\"'\"'from setuptools import setup; setup()'\"'\"');code = f.read().replace('\"'\"'\\r\\n'\"'\"', '\"'\"'\\n'\"'\"');f.close();exec(compile(code, __file__, '\"'\"'exec'\"'\"'))' install --record 'C:\\Users\\Victor\\AppData\\Local\\Temp\\pip-record-ry7kj5pr\\install-record.txt' --single-version-externally-managed --compile --install-headers 'C:\\Users\\Victor\\anaconda3\\Include\\av'\n",
      "         cwd: C:\\Users\\Victor\\AppData\\Local\\Temp\\pip-install-36s8257z\\av_3fe007b183464188a6953e66220dc3d7\\\n",
      "    Complete output (34 lines):\n",
      "    running install\n",
      "    C:\\Users\\Victor\\anaconda3\\lib\\site-packages\\setuptools\\command\\install.py:34: SetuptoolsDeprecationWarning: setup.py install is deprecated. Use build and pip and other standards-based tools.\n",
      "      warnings.warn(\n",
      "    running build\n",
      "    running build_py\n",
      "    creating build\n",
      "    creating build\\lib.win-amd64-3.9\n",
      "    creating build\\lib.win-amd64-3.9\\av\n",
      "    copying av\\datasets.py -> build\\lib.win-amd64-3.9\\av\n",
      "    copying av\\deprecation.py -> build\\lib.win-amd64-3.9\\av\n"
     ]
    },
    {
     "name": "stdout",
     "output_type": "stream",
     "text": [
      "Requirement already satisfied: folium in c:\\users\\victor\\anaconda3\\lib\\site-packages (from -r requirements.txt (line 13)) (0.12.1.post1)\n",
      "Requirement already satisfied: ipyfilechooser in c:\\users\\victor\\anaconda3\\lib\\site-packages (from -r requirements.txt (line 14)) (0.6.0)\n",
      "Requirement already satisfied: qgrid in c:\\users\\victor\\anaconda3\\lib\\site-packages (from -r requirements.txt (line 15)) (1.3.1)\n",
      "Requirement already satisfied: gdown in c:\\users\\victor\\anaconda3\\lib\\site-packages (from -r requirements.txt (line 16)) (4.2.0)\n",
      "Requirement already satisfied: itables in c:\\users\\victor\\anaconda3\\lib\\site-packages (from -r requirements.txt (line 17)) (0.3.0)\n",
      "Requirement already satisfied: boto3 in c:\\users\\victor\\anaconda3\\lib\\site-packages (from -r requirements.txt (line 18)) (1.15.18)\n",
      "Requirement already satisfied: scp==0.14.1 in c:\\users\\victor\\anaconda3\\lib\\site-packages (from -r requirements.txt (line 19)) (0.14.1)\n",
      "Requirement already satisfied: ffmpeg-python>=0.1.16 in c:\\users\\victor\\anaconda3\\lib\\site-packages (from mydia==2.2.1->-r requirements.txt (line 1)) (0.2.0)\n",
      "Requirement already satisfied: tqdm>=4.25.0 in c:\\users\\victor\\anaconda3\\lib\\site-packages (from mydia==2.2.1->-r requirements.txt (line 1)) (4.62.3)\n",
      "Requirement already satisfied: urllib3<1.27,>=1.21.1 in c:\\users\\victor\\anaconda3\\lib\\site-packages (from requests==2.26.0->-r requirements.txt (line 2)) (1.24.3)\n",
      "Requirement already satisfied: certifi>=2017.4.17 in c:\\users\\victor\\anaconda3\\lib\\site-packages (from requests==2.26.0->-r requirements.txt (line 2)) (2021.10.8)\n",
      "Requirement already satisfied: charset-normalizer~=2.0.0 in c:\\users\\victor\\anaconda3\\lib\\site-packages (from requests==2.26.0->-r requirements.txt (line 2)) (2.0.4)\n",
      "Requirement already satisfied: idna<4,>=2.5 in c:\\users\\victor\\anaconda3\\lib\\site-packages (from requests==2.26.0->-r requirements.txt (line 2)) (2.8)\n",
      "Requirement already satisfied: python-dateutil>=2.7.3 in c:\\users\\victor\\anaconda3\\lib\\site-packages (from pandas==1.3.0->-r requirements.txt (line 4)) (2.8.2)\n",
      "Requirement already satisfied: pytz>=2017.3 in c:\\users\\victor\\anaconda3\\lib\\site-packages (from pandas==1.3.0->-r requirements.txt (line 4)) (2021.3)\n",
      "Requirement already satisfied: joblib>=0.11 in c:\\users\\victor\\anaconda3\\lib\\site-packages (from scikit_learn==1.0.1->-r requirements.txt (line 9)) (1.1.0)\n",
      "Requirement already satisfied: scipy>=1.1.0 in c:\\users\\victor\\anaconda3\\lib\\site-packages (from scikit_learn==1.0.1->-r requirements.txt (line 9)) (1.7.1)\n",
      "Requirement already satisfied: threadpoolctl>=2.0.0 in c:\\users\\victor\\anaconda3\\lib\\site-packages (from scikit_learn==1.0.1->-r requirements.txt (line 9)) (2.2.0)\n",
      "Requirement already satisfied: paramiko in c:\\users\\victor\\anaconda3\\lib\\site-packages (from scp==0.14.1->-r requirements.txt (line 19)) (2.7.2)\n",
      "Requirement already satisfied: mock in c:\\users\\victor\\anaconda3\\lib\\site-packages (from panoptes_client->-r requirements.txt (line 5)) (4.0.3)\n",
      "Requirement already satisfied: future in c:\\users\\victor\\anaconda3\\lib\\site-packages (from panoptes_client->-r requirements.txt (line 5)) (0.18.2)\n",
      "Requirement already satisfied: slicerator>=0.9.8 in c:\\users\\victor\\anaconda3\\lib\\site-packages (from PIMS->-r requirements.txt (line 10)) (1.0.0)\n",
      "Requirement already satisfied: six>=1.8 in c:\\users\\victor\\anaconda3\\lib\\site-packages (from PIMS->-r requirements.txt (line 10)) (1.16.0)\n",
      "Requirement already satisfied: notebook in c:\\users\\victor\\anaconda3\\lib\\site-packages (from jupyter->-r requirements.txt (line 12)) (6.4.5)\n",
      "Requirement already satisfied: ipywidgets in c:\\users\\victor\\anaconda3\\lib\\site-packages (from jupyter->-r requirements.txt (line 12)) (7.6.5)\n",
      "Requirement already satisfied: nbconvert in c:\\users\\victor\\anaconda3\\lib\\site-packages (from jupyter->-r requirements.txt (line 12)) (6.1.0)\n",
      "Requirement already satisfied: ipykernel in c:\\users\\victor\\anaconda3\\lib\\site-packages (from jupyter->-r requirements.txt (line 12)) (6.4.1)\n",
      "Requirement already satisfied: qtconsole in c:\\users\\victor\\anaconda3\\lib\\site-packages (from jupyter->-r requirements.txt (line 12)) (5.1.1)\n",
      "Requirement already satisfied: jupyter-console in c:\\users\\victor\\anaconda3\\lib\\site-packages (from jupyter->-r requirements.txt (line 12)) (6.4.0)\n",
      "Requirement already satisfied: branca>=0.3.0 in c:\\users\\victor\\anaconda3\\lib\\site-packages (from folium->-r requirements.txt (line 13)) (0.4.2)\n",
      "Requirement already satisfied: jinja2>=2.9 in c:\\users\\victor\\anaconda3\\lib\\site-packages (from folium->-r requirements.txt (line 13)) (2.11.3)\n",
      "Requirement already satisfied: beautifulsoup4 in c:\\users\\victor\\anaconda3\\lib\\site-packages (from gdown->-r requirements.txt (line 16)) (4.10.0)\n",
      "Requirement already satisfied: filelock in c:\\users\\victor\\anaconda3\\lib\\site-packages (from gdown->-r requirements.txt (line 16)) (3.3.1)\n",
      "Requirement already satisfied: IPython in c:\\users\\victor\\anaconda3\\lib\\site-packages (from itables->-r requirements.txt (line 17)) (7.29.0)\n",
      "Requirement already satisfied: jmespath<1.0.0,>=0.7.1 in c:\\users\\victor\\anaconda3\\lib\\site-packages (from boto3->-r requirements.txt (line 18)) (0.10.0)\n",
      "Requirement already satisfied: s3transfer<0.4.0,>=0.3.0 in c:\\users\\victor\\anaconda3\\lib\\site-packages (from boto3->-r requirements.txt (line 18)) (0.3.7)\n",
      "Requirement already satisfied: botocore<1.19.0,>=1.18.18 in c:\\users\\victor\\anaconda3\\lib\\site-packages (from boto3->-r requirements.txt (line 18)) (1.18.18)\n",
      "Requirement already satisfied: nbformat>=4.2.0 in c:\\users\\victor\\anaconda3\\lib\\site-packages (from ipywidgets->jupyter->-r requirements.txt (line 12)) (5.1.3)\n",
      "Requirement already satisfied: ipython-genutils~=0.2.0 in c:\\users\\victor\\anaconda3\\lib\\site-packages (from ipywidgets->jupyter->-r requirements.txt (line 12)) (0.2.0)\n",
      "Requirement already satisfied: jupyterlab-widgets>=1.0.0 in c:\\users\\victor\\anaconda3\\lib\\site-packages (from ipywidgets->jupyter->-r requirements.txt (line 12)) (1.0.0)\n",
      "Requirement already satisfied: widgetsnbextension~=3.5.0 in c:\\users\\victor\\anaconda3\\lib\\site-packages (from ipywidgets->jupyter->-r requirements.txt (line 12)) (3.5.1)\n",
      "Requirement already satisfied: traitlets>=4.3.1 in c:\\users\\victor\\anaconda3\\lib\\site-packages (from ipywidgets->jupyter->-r requirements.txt (line 12)) (5.1.0)\n",
      "Requirement already satisfied: debugpy<2.0,>=1.0.0 in c:\\users\\victor\\anaconda3\\lib\\site-packages (from ipykernel->jupyter->-r requirements.txt (line 12)) (1.4.1)\n",
      "Requirement already satisfied: tornado<7.0,>=4.2 in c:\\users\\victor\\anaconda3\\lib\\site-packages (from ipykernel->jupyter->-r requirements.txt (line 12)) (6.1)\n",
      "Requirement already satisfied: matplotlib-inline<0.2.0,>=0.1.0 in c:\\users\\victor\\anaconda3\\lib\\site-packages (from ipykernel->jupyter->-r requirements.txt (line 12)) (0.1.2)\n",
      "Requirement already satisfied: jupyter-client<8.0 in c:\\users\\victor\\anaconda3\\lib\\site-packages (from ipykernel->jupyter->-r requirements.txt (line 12)) (6.1.12)\n",
      "Requirement already satisfied: prompt-toolkit!=3.0.0,!=3.0.1,<3.1.0,>=2.0.0 in c:\\users\\victor\\anaconda3\\lib\\site-packages (from IPython->itables->-r requirements.txt (line 17)) (3.0.20)\n",
      "Requirement already satisfied: colorama in c:\\users\\victor\\anaconda3\\lib\\site-packages (from IPython->itables->-r requirements.txt (line 17)) (0.4.4)\n",
      "Requirement already satisfied: pygments in c:\\users\\victor\\anaconda3\\lib\\site-packages (from IPython->itables->-r requirements.txt (line 17)) (2.10.0)\n",
      "Requirement already satisfied: jedi>=0.16 in c:\\users\\victor\\anaconda3\\lib\\site-packages (from IPython->itables->-r requirements.txt (line 17)) (0.18.0)\n",
      "Requirement already satisfied: decorator in c:\\users\\victor\\anaconda3\\lib\\site-packages (from IPython->itables->-r requirements.txt (line 17)) (5.1.0)\n",
      "Requirement already satisfied: setuptools>=18.5 in c:\\users\\victor\\anaconda3\\lib\\site-packages (from IPython->itables->-r requirements.txt (line 17)) (59.5.0)\n",
      "Requirement already satisfied: pickleshare in c:\\users\\victor\\anaconda3\\lib\\site-packages (from IPython->itables->-r requirements.txt (line 17)) (0.7.5)\n",
      "Requirement already satisfied: backcall in c:\\users\\victor\\anaconda3\\lib\\site-packages (from IPython->itables->-r requirements.txt (line 17)) (0.2.0)\n",
      "Requirement already satisfied: parso<0.9.0,>=0.8.0 in c:\\users\\victor\\anaconda3\\lib\\site-packages (from jedi>=0.16->IPython->itables->-r requirements.txt (line 17)) (0.8.2)\n",
      "Requirement already satisfied: MarkupSafe>=0.23 in c:\\users\\victor\\anaconda3\\lib\\site-packages (from jinja2>=2.9->folium->-r requirements.txt (line 13)) (1.1.1)\n",
      "Requirement already satisfied: jupyter-core>=4.6.0 in c:\\users\\victor\\anaconda3\\lib\\site-packages (from jupyter-client<8.0->ipykernel->jupyter->-r requirements.txt (line 12)) (4.8.1)\n",
      "Requirement already satisfied: pyzmq>=13 in c:\\users\\victor\\anaconda3\\lib\\site-packages (from jupyter-client<8.0->ipykernel->jupyter->-r requirements.txt (line 12)) (22.2.1)\n",
      "Requirement already satisfied: pywin32>=1.0 in c:\\users\\victor\\anaconda3\\lib\\site-packages (from jupyter-core>=4.6.0->jupyter-client<8.0->ipykernel->jupyter->-r requirements.txt (line 12)) (228)\n",
      "Requirement already satisfied: jsonschema!=2.5.0,>=2.4 in c:\\users\\victor\\anaconda3\\lib\\site-packages (from nbformat>=4.2.0->ipywidgets->jupyter->-r requirements.txt (line 12)) (3.2.0)\n",
      "Requirement already satisfied: attrs>=17.4.0 in c:\\users\\victor\\anaconda3\\lib\\site-packages (from jsonschema!=2.5.0,>=2.4->nbformat>=4.2.0->ipywidgets->jupyter->-r requirements.txt (line 12)) (21.2.0)\n",
      "Requirement already satisfied: pyrsistent>=0.14.0 in c:\\users\\victor\\anaconda3\\lib\\site-packages (from jsonschema!=2.5.0,>=2.4->nbformat>=4.2.0->ipywidgets->jupyter->-r requirements.txt (line 12)) (0.18.0)\n",
      "Requirement already satisfied: Send2Trash>=1.5.0 in c:\\users\\victor\\anaconda3\\lib\\site-packages (from notebook->jupyter->-r requirements.txt (line 12)) (1.8.0)\n",
      "Requirement already satisfied: prometheus-client in c:\\users\\victor\\anaconda3\\lib\\site-packages (from notebook->jupyter->-r requirements.txt (line 12)) (0.11.0)\n",
      "Requirement already satisfied: argon2-cffi in c:\\users\\victor\\anaconda3\\lib\\site-packages (from notebook->jupyter->-r requirements.txt (line 12)) (20.1.0)\n",
      "Requirement already satisfied: terminado>=0.8.3 in c:\\users\\victor\\anaconda3\\lib\\site-packages (from notebook->jupyter->-r requirements.txt (line 12)) (0.9.4)\n",
      "Requirement already satisfied: wcwidth in c:\\users\\victor\\anaconda3\\lib\\site-packages (from prompt-toolkit!=3.0.0,!=3.0.1,<3.1.0,>=2.0.0->IPython->itables->-r requirements.txt (line 17)) (0.2.5)\n",
      "Requirement already satisfied: pywinpty>=0.5 in c:\\users\\victor\\anaconda3\\lib\\site-packages (from terminado>=0.8.3->notebook->jupyter->-r requirements.txt (line 12)) (0.5.7)\n",
      "Requirement already satisfied: cffi>=1.0.0 in c:\\users\\victor\\anaconda3\\lib\\site-packages (from argon2-cffi->notebook->jupyter->-r requirements.txt (line 12)) (1.14.6)\n",
      "Requirement already satisfied: pycparser in c:\\users\\victor\\anaconda3\\lib\\site-packages (from cffi>=1.0.0->argon2-cffi->notebook->jupyter->-r requirements.txt (line 12)) (2.20)\n",
      "Requirement already satisfied: soupsieve>1.2 in c:\\users\\victor\\anaconda3\\lib\\site-packages (from beautifulsoup4->gdown->-r requirements.txt (line 16)) (2.2.1)\n",
      "Requirement already satisfied: pandocfilters>=1.4.1 in c:\\users\\victor\\anaconda3\\lib\\site-packages (from nbconvert->jupyter->-r requirements.txt (line 12)) (1.4.3)\n",
      "Requirement already satisfied: nbclient<0.6.0,>=0.5.0 in c:\\users\\victor\\anaconda3\\lib\\site-packages (from nbconvert->jupyter->-r requirements.txt (line 12)) (0.5.3)\n",
      "Requirement already satisfied: bleach in c:\\users\\victor\\anaconda3\\lib\\site-packages (from nbconvert->jupyter->-r requirements.txt (line 12)) (4.0.0)\n",
      "Requirement already satisfied: mistune<2,>=0.8.1 in c:\\users\\victor\\anaconda3\\lib\\site-packages (from nbconvert->jupyter->-r requirements.txt (line 12)) (0.8.4)\n",
      "Requirement already satisfied: defusedxml in c:\\users\\victor\\anaconda3\\lib\\site-packages (from nbconvert->jupyter->-r requirements.txt (line 12)) (0.7.1)\n",
      "Requirement already satisfied: jupyterlab-pygments in c:\\users\\victor\\anaconda3\\lib\\site-packages (from nbconvert->jupyter->-r requirements.txt (line 12)) (0.1.2)\n",
      "Requirement already satisfied: entrypoints>=0.2.2 in c:\\users\\victor\\anaconda3\\lib\\site-packages (from nbconvert->jupyter->-r requirements.txt (line 12)) (0.3)\n",
      "Requirement already satisfied: testpath in c:\\users\\victor\\anaconda3\\lib\\site-packages (from nbconvert->jupyter->-r requirements.txt (line 12)) (0.5.0)\n",
      "Requirement already satisfied: nest-asyncio in c:\\users\\victor\\anaconda3\\lib\\site-packages (from nbclient<0.6.0,>=0.5.0->nbconvert->jupyter->-r requirements.txt (line 12)) (1.5.1)\n",
      "Requirement already satisfied: async-generator in c:\\users\\victor\\anaconda3\\lib\\site-packages (from nbclient<0.6.0,>=0.5.0->nbconvert->jupyter->-r requirements.txt (line 12)) (1.10)\n",
      "Requirement already satisfied: packaging in c:\\users\\victor\\anaconda3\\lib\\site-packages (from bleach->nbconvert->jupyter->-r requirements.txt (line 12)) (21.0)\n",
      "Requirement already satisfied: webencodings in c:\\users\\victor\\anaconda3\\lib\\site-packages (from bleach->nbconvert->jupyter->-r requirements.txt (line 12)) (0.5.1)\n",
      "Requirement already satisfied: pyparsing>=2.0.2 in c:\\users\\victor\\anaconda3\\lib\\site-packages (from packaging->bleach->nbconvert->jupyter->-r requirements.txt (line 12)) (3.0.4)\n",
      "Requirement already satisfied: bcrypt>=3.1.3 in c:\\users\\victor\\anaconda3\\lib\\site-packages (from paramiko->scp==0.14.1->-r requirements.txt (line 19)) (3.2.0)\n",
      "Requirement already satisfied: pynacl>=1.0.1 in c:\\users\\victor\\anaconda3\\lib\\site-packages (from paramiko->scp==0.14.1->-r requirements.txt (line 19)) (1.4.0)\n",
      "Requirement already satisfied: cryptography>=2.5 in c:\\users\\victor\\anaconda3\\lib\\site-packages (from paramiko->scp==0.14.1->-r requirements.txt (line 19)) (3.4.8)\n",
      "Requirement already satisfied: qtpy in c:\\users\\victor\\anaconda3\\lib\\site-packages (from qtconsole->jupyter->-r requirements.txt (line 12)) (1.10.0)\n",
      "Requirement already satisfied: PySocks!=1.5.7,>=1.5.6 in c:\\users\\victor\\anaconda3\\lib\\site-packages (from requests==2.26.0->-r requirements.txt (line 2)) (1.7.1)\n",
      "Building wheels for collected packages: av\n",
      "  Building wheel for av (setup.py): started\n",
      "  Building wheel for av (setup.py): finished with status 'error'\n",
      "  Running setup.py clean for av\n",
      "Failed to build av\n",
      "Installing collected packages: PIMS, av\n",
      "  Attempting uninstall: PIMS\n",
      "    Found existing installation: PIMS 0.5+25.g68c560e\n",
      "    Uninstalling PIMS-0.5+25.g68c560e:\n",
      "      Successfully uninstalled PIMS-0.5+25.g68c560e\n",
      "  Running setup.py develop for PIMS\n",
      "    Running setup.py install for av: started\n",
      "    Running setup.py install for av: finished with status 'error'\n"
     ]
    },
    {
     "name": "stderr",
     "output_type": "stream",
     "text": [
      "    copying av\\__init__.py -> build\\lib.win-amd64-3.9\\av\n",
      "    copying av\\__main__.py -> build\\lib.win-amd64-3.9\\av\n",
      "    creating build\\lib.win-amd64-3.9\\av\\audio\n",
      "    copying av\\audio\\__init__.py -> build\\lib.win-amd64-3.9\\av\\audio\n",
      "    creating build\\lib.win-amd64-3.9\\av\\codec\n",
      "    copying av\\codec\\__init__.py -> build\\lib.win-amd64-3.9\\av\\codec\n",
      "    creating build\\lib.win-amd64-3.9\\av\\container\n",
      "    copying av\\container\\__init__.py -> build\\lib.win-amd64-3.9\\av\\container\n",
      "    creating build\\lib.win-amd64-3.9\\av\\data\n",
      "    copying av\\data\\__init__.py -> build\\lib.win-amd64-3.9\\av\\data\n",
      "    creating build\\lib.win-amd64-3.9\\av\\filter\n",
      "    copying av\\filter\\__init__.py -> build\\lib.win-amd64-3.9\\av\\filter\n",
      "    creating build\\lib.win-amd64-3.9\\av\\sidedata\n",
      "    copying av\\sidedata\\__init__.py -> build\\lib.win-amd64-3.9\\av\\sidedata\n",
      "    creating build\\lib.win-amd64-3.9\\av\\subtitles\n",
      "    copying av\\subtitles\\__init__.py -> build\\lib.win-amd64-3.9\\av\\subtitles\n",
      "    creating build\\lib.win-amd64-3.9\\av\\video\n",
      "    copying av\\video\\__init__.py -> build\\lib.win-amd64-3.9\\av\\video\n",
      "    running build_ext\n",
      "    running config\n",
      "    writing build\\temp.win-amd64-3.9\\Release\\include\\pyav\\config.h\n",
      "    running cythonize\n",
      "    building 'av.buffer' extension\n",
      "    error: Microsoft Visual C++ 14.0 or greater is required. Get it with \"Microsoft C++ Build Tools\": https://visualstudio.microsoft.com/visual-cpp-build-tools/\n",
      "    ----------------------------------------\n",
      "ERROR: Command errored out with exit status 1: 'C:\\Users\\Victor\\anaconda3\\python.exe' -u -c 'import io, os, sys, setuptools, tokenize; sys.argv[0] = '\"'\"'C:\\\\Users\\\\Victor\\\\AppData\\\\Local\\\\Temp\\\\pip-install-36s8257z\\\\av_3fe007b183464188a6953e66220dc3d7\\\\setup.py'\"'\"'; __file__='\"'\"'C:\\\\Users\\\\Victor\\\\AppData\\\\Local\\\\Temp\\\\pip-install-36s8257z\\\\av_3fe007b183464188a6953e66220dc3d7\\\\setup.py'\"'\"';f = getattr(tokenize, '\"'\"'open'\"'\"', open)(__file__) if os.path.exists(__file__) else io.StringIO('\"'\"'from setuptools import setup; setup()'\"'\"');code = f.read().replace('\"'\"'\\r\\n'\"'\"', '\"'\"'\\n'\"'\"');f.close();exec(compile(code, __file__, '\"'\"'exec'\"'\"'))' install --record 'C:\\Users\\Victor\\AppData\\Local\\Temp\\pip-record-ry7kj5pr\\install-record.txt' --single-version-externally-managed --compile --install-headers 'C:\\Users\\Victor\\anaconda3\\Include\\av' Check the logs for full command output.\n"
     ]
    }
   ],
   "source": [
    "pip install -r requirements.txt"
   ]
  },
  {
   "cell_type": "code",
   "execution_count": null,
   "id": "46ca201f",
   "metadata": {
    "scrolled": true
   },
   "outputs": [],
   "source": [
    "# Set the directory of the libraries\n",
    "import sys\n",
    "sys.path.append('..')\n",
    "\n",
    "# Set to display dataframes as interactive tables\n",
    "from itables import init_notebook_mode\n",
    "init_notebook_mode(all_interactive=True)\n",
    "\n",
    "# Import required modules\n",
    "import kso_utils.tutorials_utils as t_utils\n",
    "import kso_utils.t19_utils as t19\n",
    "#import utils.server_utils as serv_utils\n",
    "\n",
    "print(\"Packages loaded successfully\")"
   ]
  },
  {
   "cell_type": "markdown",
   "id": "77996901",
   "metadata": {},
   "source": [
    "### Choose your project"
   ]
  },
  {
   "cell_type": "code",
   "execution_count": null,
   "id": "eafe82e7",
   "metadata": {},
   "outputs": [],
   "source": [
    "project = t_utils.choose_project()"
   ]
  },
  {
   "cell_type": "markdown",
   "id": "46c3d19e",
   "metadata": {},
   "source": [
    "### Initiate sql and get server or local storage details"
   ]
  },
  {
   "cell_type": "code",
   "execution_count": null,
   "id": "33d744a9",
   "metadata": {},
   "outputs": [],
   "source": [
    "# Initiate db\n",
    "db_info_dict = t_utils.initiate_db(project.value)"
   ]
  },
  {
   "cell_type": "markdown",
   "id": "9a1902c1",
   "metadata": {},
   "source": [
    "# When and who is entering this info"
   ]
  },
  {
   "cell_type": "code",
   "execution_count": null,
   "id": "d8cea634",
   "metadata": {},
   "outputs": [],
   "source": [
    "date_encoder = t19.record_date_encoder()"
   ]
  },
  {
   "cell_type": "markdown",
   "id": "1a9ffb27",
   "metadata": {},
   "source": [
    "# Select the survey linked to the videos"
   ]
  },
  {
   "cell_type": "code",
   "execution_count": null,
   "id": "a2d26b4f",
   "metadata": {},
   "outputs": [],
   "source": [
    "survey_i = t19.select_survey(db_info_dict)"
   ]
  },
  {
   "cell_type": "code",
   "execution_count": null,
   "id": "eeaf83b5",
   "metadata": {},
   "outputs": [],
   "source": [
    "survey_name = t19.confirm_survey(survey_i, db_info_dict, date_encoder)"
   ]
  },
  {
   "cell_type": "markdown",
   "id": "f401dba3",
   "metadata": {},
   "source": [
    "# Select the folder with the go pro files"
   ]
  },
  {
   "cell_type": "markdown",
   "id": "3c1e6fcb",
   "metadata": {},
   "source": [
    "Make sure you select the FOLDER not the files"
   ]
  },
  {
   "cell_type": "code",
   "execution_count": null,
   "id": "18c2475c",
   "metadata": {},
   "outputs": [],
   "source": [
    "go_pro_folder = t19.select_go_pro_folder()"
   ]
  },
  {
   "cell_type": "code",
   "execution_count": null,
   "id": "37708271",
   "metadata": {},
   "outputs": [],
   "source": [
    "go_pro_files_i = t19.select_go_pro_movies(go_pro_folder.selected)"
   ]
  },
  {
   "cell_type": "markdown",
   "id": "b597f250",
   "metadata": {},
   "source": [
    "### Select the date and site"
   ]
  },
  {
   "cell_type": "code",
   "execution_count": null,
   "id": "d407bfff",
   "metadata": {},
   "outputs": [],
   "source": [
    "SiteName_i = t19.select_sitename(db_info_dict)\n",
    "EventDate_i = t19.select_eventdate()"
   ]
  },
  {
   "cell_type": "markdown",
   "id": "3718f963",
   "metadata": {},
   "source": [
    "### Concatenate the go pro files"
   ]
  },
  {
   "cell_type": "code",
   "execution_count": null,
   "id": "c0a22c8c",
   "metadata": {},
   "outputs": [],
   "source": [
    "video_info_dict = t19.concatenate_go_pro_videos(SiteName_i.value,\n",
    "                                                EventDate_i.value.isoformat().replace(\"-\",\"_\"),\n",
    "                                                go_pro_folder.selected,\n",
    "                                                go_pro_files_i)"
   ]
  },
  {
   "cell_type": "markdown",
   "id": "5a9faf7c",
   "metadata": {},
   "source": [
    "### Select Author, bad deployment, survey start/end, s3 bucket"
   ]
  },
  {
   "cell_type": "code",
   "execution_count": null,
   "id": "14ca7029",
   "metadata": {},
   "outputs": [],
   "source": [
    "deployment_info = t19.record_deployment_info(db_info_dict,video_info_dict)"
   ]
  },
  {
   "cell_type": "markdown",
   "id": "08a5b78d",
   "metadata": {},
   "source": [
    "### Review the deployment  details"
   ]
  },
  {
   "cell_type": "code",
   "execution_count": null,
   "id": "463e7131",
   "metadata": {},
   "outputs": [],
   "source": [
    "new_deployment_row = t19.confirm_deployment_details(video_info_dict_i,\n",
    "                                               db_info_dict,\n",
    "                                               survey_i,\n",
    "                                               deployment_info,\n",
    "                                               date_encoder,\n",
    "                                               survey_name)"
   ]
  },
  {
   "cell_type": "markdown",
   "id": "098afca0",
   "metadata": {},
   "source": [
    "# !!!Only pass this point if movie details are correct!!!"
   ]
  },
  {
   "cell_type": "markdown",
   "id": "21e2d0b9",
   "metadata": {},
   "source": [
    "### Update movies csv and upload video to s3"
   ]
  },
  {
   "cell_type": "code",
   "execution_count": null,
   "id": "549375bf",
   "metadata": {},
   "outputs": [],
   "source": [
    "t19.upload_concat_movie(db_info_dict, new_deployment_row)"
   ]
  },
  {
   "cell_type": "code",
   "execution_count": null,
   "id": "a004889d",
   "metadata": {},
   "outputs": [],
   "source": [
    "#END"
   ]
  }
 ],
 "metadata": {
  "kernelspec": {
   "display_name": "Python 3 (ipykernel)",
   "language": "python",
   "name": "python3"
  },
  "language_info": {
   "codemirror_mode": {
    "name": "ipython",
    "version": 3
   },
   "file_extension": ".py",
   "mimetype": "text/x-python",
   "name": "python",
   "nbconvert_exporter": "python",
   "pygments_lexer": "ipython3",
   "version": "3.9.7"
  }
 },
 "nbformat": 4,
 "nbformat_minor": 5
}
