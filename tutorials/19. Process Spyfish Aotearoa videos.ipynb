{
 "cells": [
  {
   "cell_type": "markdown",
   "id": "95aea466",
   "metadata": {},
   "source": [
    "<img align=\"left\" src=\"https://panoptes-uploads.zooniverse.org/project_avatar/86c23ca7-bbaa-4e84-8d8a-876819551431.png\" type=\"image/png\" height=100 width=100>\n",
    "</img>\n",
    "\n",
    "\n",
    "<h1 align=\"right\">KSO Tutorials #19: Process Spyfish Aotearoa videos</h1>\n",
    "<h3 align=\"right\">Written by @jannesgg and @vykanton</h3>\n",
    "<h5 align=\"right\">Last updated: Nov 14th, 2021</h5>"
   ]
  },
  {
   "cell_type": "markdown",
   "id": "6f0fc779",
   "metadata": {},
   "source": [
    "# Set up and requirements"
   ]
  },
  {
   "cell_type": "markdown",
   "id": "ed3d9d14",
   "metadata": {},
   "source": [
    "Import Python packages"
   ]
  },
  {
   "cell_type": "code",
   "execution_count": 1,
   "id": "46ca201f",
   "metadata": {
    "scrolled": true
   },
   "outputs": [
    {
     "data": {
      "application/javascript": [
       "require.config({\n",
       "    paths: {\n",
       "        datatables: 'https://cdn.datatables.net/1.10.19/js/jquery.dataTables.min',\n",
       "    }\n",
       "});\n",
       "\n",
       "$('head').append('<link rel=\"stylesheet\" type=\"text/css\" \\\n",
       "                href = \"https://cdn.datatables.net/1.10.19/css/jquery.dataTables.min.css\" > ');\n",
       "\n",
       "$('head').append('<style> table td { text-overflow: ellipsis; overflow: hidden; } </style>');\n",
       "\n",
       "$('head').append(`<script>\n",
       "function eval_functions(map_or_text) {\n",
       "    if (typeof map_or_text === \"string\") {\n",
       "        if (map_or_text.startsWith(\"function\")) {\n",
       "            try {\n",
       "                // Note: parenthesis are required around the whole expression for eval to return a value!\n",
       "                // See https://stackoverflow.com/a/7399078/911298.\n",
       "                //\n",
       "                // eval(\"local_fun = \" + map_or_text) would fail because local_fun is not declared\n",
       "                // (using var, let or const would work, but it would only be declared in the local scope\n",
       "                // and therefore the value could not be retrieved).\n",
       "                const func = eval(\"(\" + map_or_text + \")\");\n",
       "                if (typeof func !== \"function\") {\n",
       "                    // Note: backquotes are super convenient!\n",
       "                    // https://developer.mozilla.org/en-US/docs/Web/JavaScript/Reference/Template_literals\n",
       "                    console.error(\"Evaluated expression \" + map_or_text + \" is not a function (type is \" + typeof func + \")\");\n",
       "                    return map_or_text;\n",
       "                }\n",
       "                // Return the function\n",
       "                return func;\n",
       "            } catch (e) {\n",
       "                // Make sure to print the error with a second argument to console.error().\n",
       "                console.error(\"itables was not able to parse \" + map_or_text, e);\n",
       "            }\n",
       "        }\n",
       "    } else if (typeof map_or_text === \"object\") {\n",
       "        if (map_or_text instanceof Array) {\n",
       "            // Note: \"var\" is now superseded by \"let\" and \"const\".\n",
       "            // https://medium.com/javascript-scene/javascript-es6-var-let-or-const-ba58b8dcde75\n",
       "            const result = [];\n",
       "            // Note: \"for of\" is the best way to iterate through an iterable.\n",
       "            // https://developer.mozilla.org/en-US/docs/Web/JavaScript/Reference/Statements/for...of\n",
       "            for (const item of map_or_text) {\n",
       "                result.push(eval_functions(item));\n",
       "            }\n",
       "            return result;\n",
       "\n",
       "            // Alternatively, more functional approach in one line:\n",
       "            // return map_or_text.map(eval_functions);\n",
       "        } else {\n",
       "            const result = {};\n",
       "            // Object.keys() is safer than \"for in\" because otherwise you might have keys\n",
       "            // that aren't defined in the object itself.\n",
       "            //\n",
       "            // See https://stackoverflow.com/a/684692/911298.\n",
       "            for (const item of Object.keys(map_or_text)) {\n",
       "                result[item] = eval_functions(map_or_text[item]);\n",
       "            }\n",
       "            return result;\n",
       "        }\n",
       "    }\n",
       "\n",
       "    return map_or_text;\n",
       "}\n",
       "\n",
       "</` + 'script>');"
      ],
      "text/plain": [
       "<IPython.core.display.Javascript object>"
      ]
     },
     "metadata": {},
     "output_type": "display_data"
    },
    {
     "name": "stdout",
     "output_type": "stream",
     "text": [
      "Packages loaded successfully\n"
     ]
    }
   ],
   "source": [
    "# Set the directory of the libraries\n",
    "import sys\n",
    "sys.path.append('..')\n",
    "\n",
    "# Set to display dataframes as interactive tables\n",
    "from itables import init_notebook_mode\n",
    "init_notebook_mode(all_interactive=True)\n",
    "\n",
    "# Import required modules\n",
    "import utils.tutorials_utils as t_utils\n",
    "import utils.t19_utils as t19\n",
    "#import utils.server_utils as serv_utils\n",
    "\n",
    "print(\"Packages loaded successfully\")"
   ]
  },
  {
   "cell_type": "markdown",
   "id": "77996901",
   "metadata": {},
   "source": [
    "### Choose your project"
   ]
  },
  {
   "cell_type": "code",
   "execution_count": 2,
   "id": "eafe82e7",
   "metadata": {},
   "outputs": [
    {
     "data": {
      "application/vnd.jupyter.widget-view+json": {
       "model_id": "d2a79372b4e84dc2bec0b930db0b4a0f",
       "version_major": 2,
       "version_minor": 0
      },
      "text/plain": [
       "Dropdown(description='Project:', options=('Koster_Seafloor_Obs', 'Spyfish_Aotearoa', 'SGU'), value='Koster_Sea…"
      ]
     },
     "metadata": {},
     "output_type": "display_data"
    }
   ],
   "source": [
    "project = t_utils.choose_project()"
   ]
  },
  {
   "cell_type": "markdown",
   "id": "46c3d19e",
   "metadata": {},
   "source": [
    "### Initiate sql and get server or local storage details"
   ]
  },
  {
   "cell_type": "code",
   "execution_count": 3,
   "id": "33d744a9",
   "metadata": {},
   "outputs": [
    {
     "name": "stdout",
     "output_type": "stream",
     "text": [
      "Enter the key id for the aws server········\n",
      "Enter the secret access key for the aws server········\n"
     ]
    },
    {
     "name": "stderr",
     "output_type": "stream",
     "text": [
      "../db_starter/db_csv_info/sites_buv_doc.csv: 100%|██████████| 4.24k/4.24k [00:00<00:00, 26.8kB/s]\n",
      "../db_starter/db_csv_info/movies_buv_doc.csv: 100%|██████████| 7.25k/7.25k [00:00<00:00, 49.3kB/s]\n",
      "../db_starter/db_csv_info/species_buv_doc.csv: 100%|██████████| 205/205 [00:00<00:00, 1.63kB/s]\n"
     ]
    },
    {
     "name": "stdout",
     "output_type": "stream",
     "text": [
      "Updated sites\n",
      "Updated movies\n",
      "Updated species\n"
     ]
    }
   ],
   "source": [
    "# Initiate db\n",
    "db_info_dict = t_utils.initiate_db(project.value)"
   ]
  },
  {
   "cell_type": "markdown",
   "id": "f401dba3",
   "metadata": {},
   "source": [
    "# Select the folder where the sd card is"
   ]
  },
  {
   "cell_type": "markdown",
   "id": "3c1e6fcb",
   "metadata": {},
   "source": [
    "Make sure you select the FOLDER not the files"
   ]
  },
  {
   "cell_type": "code",
   "execution_count": 4,
   "id": "18c2475c",
   "metadata": {},
   "outputs": [
    {
     "data": {
      "application/vnd.jupyter.widget-view+json": {
       "model_id": "ce06f5272e244c3f95b2bc0c6cd6dc2c",
       "version_major": 2,
       "version_minor": 0
      },
      "text/plain": [
       "FileChooser(path='C:\\', filename='', title='', show_hidden=False, select_desc='Select', change_desc='Change', …"
      ]
     },
     "metadata": {},
     "output_type": "display_data"
    }
   ],
   "source": [
    "go_pro_folder = t19.select_go_pro_folder()"
   ]
  },
  {
   "cell_type": "code",
   "execution_count": 5,
   "id": "37708271",
   "metadata": {},
   "outputs": [
    {
     "name": "stdout",
     "output_type": "stream",
     "text": [
      "The movies selected are:\n",
      "C:\\Users\\Victor\\Desktop\\tuhua_buv_2021\\WP40\\GH010925.MP4\n",
      "C:\\Users\\Victor\\Desktop\\tuhua_buv_2021\\WP40\\GH020925.MP4\n",
      "C:\\Users\\Victor\\Desktop\\tuhua_buv_2021\\WP40\\GH030925.MP4\n"
     ]
    }
   ],
   "source": [
    "go_pro_movies_i = t19.select_go_pro_movies(go_pro_folder.selected)\n",
    "print(\"The movies selected are:\")\n",
    "print(*go_pro_movies_i, sep='\\n')"
   ]
  },
  {
   "cell_type": "markdown",
   "id": "b597f250",
   "metadata": {},
   "source": [
    "### Select the date and site"
   ]
  },
  {
   "cell_type": "code",
   "execution_count": 6,
   "id": "d407bfff",
   "metadata": {},
   "outputs": [
    {
     "data": {
      "application/vnd.jupyter.widget-view+json": {
       "model_id": "6e4b983e121845f3afd204de4716382a",
       "version_major": 2,
       "version_minor": 0
      },
      "text/plain": [
       "interactive(children=(Dropdown(description='Existing or new site:', layout=Layout(width='50%'), options=('Exis…"
      ]
     },
     "metadata": {},
     "output_type": "display_data"
    },
    {
     "data": {
      "application/vnd.jupyter.widget-view+json": {
       "model_id": "19e3482db5a44f1984e0f38f53cc7b1c",
       "version_major": 2,
       "version_minor": 0
      },
      "text/plain": [
       "DatePicker(value=None, description='Date of recording', layout=Layout(width='50%'), style=DescriptionStyle(des…"
      ]
     },
     "metadata": {},
     "output_type": "display_data"
    }
   ],
   "source": [
    "site_i = t19.select_site(db_info_dict)\n",
    "date_i = t19.select_date()"
   ]
  },
  {
   "cell_type": "markdown",
   "id": "3718f963",
   "metadata": {},
   "source": [
    "### Concatenate the go pro files"
   ]
  },
  {
   "cell_type": "code",
   "execution_count": 7,
   "id": "c0a22c8c",
   "metadata": {},
   "outputs": [
    {
     "name": "stdout",
     "output_type": "stream",
     "text": [
      "Concatenating  C:\\Users\\Victor\\Desktop\\tuhua_buv_2021\\WP40\\TUH_040_2021_11_11.MP4\n",
      "C:\\Users\\Victor\\Desktop\\tuhua_buv_2021\\WP40\\TUH_040_2021_11_11.MP4 concatenated successfully\n",
      "Open C:\\Users\\Victor\\Desktop\\tuhua_buv_2021\\WP40\\TUH_040_2021_11_11.MP4 to check the required information for the next sections\n"
     ]
    }
   ],
   "source": [
    "video_info_dict = t19.concatenate_go_pro_videos(site_i.result.value,\n",
    "                                                date_i.value.isoformat().replace(\"-\",\"_\"),\n",
    "                                                go_pro_folder.selected,\n",
    "                                                go_pro_movies_i)"
   ]
  },
  {
   "cell_type": "markdown",
   "id": "5a9faf7c",
   "metadata": {},
   "source": [
    "### Select Author, bad deployment, survey start/end, s3 bucket"
   ]
  },
  {
   "cell_type": "code",
   "execution_count": 8,
   "id": "14ca7029",
   "metadata": {},
   "outputs": [
    {
     "data": {
      "application/vnd.jupyter.widget-view+json": {
       "model_id": "9ee3539bb530422bacf635c43d17e2b1",
       "version_major": 2,
       "version_minor": 0
      },
      "text/plain": [
       "interactive(children=(Dropdown(description='Existing or new Author:', layout=Layout(width='50%'), options=('Ex…"
      ]
     },
     "metadata": {},
     "output_type": "display_data"
    },
    {
     "data": {
      "application/vnd.jupyter.widget-view+json": {
       "model_id": "55e537fa06c049c992734cee11c4dd13",
       "version_major": 2,
       "version_minor": 0
      },
      "text/plain": [
       "interactive(children=(Dropdown(description='Is it a bad deployment?', index=1, layout=Layout(width='50%'), opt…"
      ]
     },
     "metadata": {},
     "output_type": "display_data"
    },
    {
     "data": {
      "application/vnd.jupyter.widget-view+json": {
       "model_id": "e15d3b45d36f440f9ccb07abacb50791",
       "version_major": 2,
       "version_minor": 0
      },
      "text/plain": [
       "interactive(children=(IntSlider(value=0, description='Survey starts (seconds):', layout=Layout(width='50%'), m…"
      ]
     },
     "metadata": {},
     "output_type": "display_data"
    },
    {
     "data": {
      "application/vnd.jupyter.widget-view+json": {
       "model_id": "14ebc59624b64e0e8e1dbbabec836a25",
       "version_major": 2,
       "version_minor": 0
      },
      "text/plain": [
       "interactive(children=(IntSlider(value=1717, description='Survey ends (seconds):', layout=Layout(width='50%'), …"
      ]
     },
     "metadata": {},
     "output_type": "display_data"
    },
    {
     "data": {
      "application/vnd.jupyter.widget-view+json": {
       "model_id": "9de0c75b554c4351a7445c96b0f28073",
       "version_major": 2,
       "version_minor": 0
      },
      "text/plain": [
       "Combobox(value='', description='S3 folder:', ensure_option=True, options=('ROV', 'Tonga Island BUV', 'bayofisl…"
      ]
     },
     "metadata": {},
     "output_type": "display_data"
    },
    {
     "data": {
      "application/vnd.jupyter.widget-view+json": {
       "model_id": "4998dc717561478db60e77518db7d45c",
       "version_major": 2,
       "version_minor": 0
      },
      "text/plain": [
       "Text(value='', description='Comment:', layout=Layout(width='50%'), placeholder='Type comment', style=Descripti…"
      ]
     },
     "metadata": {},
     "output_type": "display_data"
    }
   ],
   "source": [
    "# Select author\n",
    "video_author = t19.select_author(db_info_dict)\n",
    "\n",
    "# Specify id deployment is bad\n",
    "deployment_i = t19.select_bad_deployment()\n",
    "\n",
    "# Set survey start\n",
    "surv_start = t19.select_start_survey(video_info_dict[\"length\"])\n",
    "\n",
    "#TODO Set survey end\n",
    "surv_end = t19.select_end_survey(video_info_dict[\"length\"])\n",
    "\n",
    "# Select the S3 \"folder\" to upload the video\n",
    "s3_folder = t19.select_s3_folder(db_info_dict)\n",
    "\n",
    "#Add any comment related to the movie\n",
    "comment_movie = t19.write_comment()"
   ]
  },
  {
   "cell_type": "markdown",
   "id": "08a5b78d",
   "metadata": {},
   "source": [
    "### Review the survey/movie details"
   ]
  },
  {
   "cell_type": "code",
   "execution_count": 9,
   "id": "463e7131",
   "metadata": {},
   "outputs": [
    {
     "name": "stderr",
     "output_type": "stream",
     "text": [
      "../db_starter/db_csv_info/sites_buv_doc.csv: 100%|██████████| 4.24k/4.24k [00:00<00:00, 28.3kB/s]\n",
      "../db_starter/db_csv_info/movies_buv_doc.csv: 100%|██████████| 7.25k/7.25k [00:00<00:00, 50.4kB/s]\n",
      "../db_starter/db_csv_info/species_buv_doc.csv: 100%|██████████| 205/205 [00:00<00:00, 1.67kB/s]"
     ]
    },
    {
     "name": "stdout",
     "output_type": "stream",
     "text": [
      "The new details are:\n"
     ]
    },
    {
     "name": "stderr",
     "output_type": "stream",
     "text": [
      "\n"
     ]
    },
    {
     "data": {
      "text/plain": [
       "[{'movie_id': 58,\n",
       "  'filename': 'TUH_040_2021_11_11.MP4',\n",
       "  'siteName': 'TUH_040',\n",
       "  'created_on': '2021_11_11',\n",
       "  'Author': 'MoniqueLadds',\n",
       "  'fps': 59.93971089507259,\n",
       "  'duration': 1717.2588666666666,\n",
       "  'survey_start': 160,\n",
       "  'survey_end': 1650,\n",
       "  'go_pro_files': ['C:\\\\Users\\\\Victor\\\\Desktop\\\\tuhua_buv_2021\\\\WP40\\\\GH010925.MP4',\n",
       "   'C:\\\\Users\\\\Victor\\\\Desktop\\\\tuhua_buv_2021\\\\WP40\\\\GH020925.MP4',\n",
       "   'C:\\\\Users\\\\Victor\\\\Desktop\\\\tuhua_buv_2021\\\\WP40\\\\GH030925.MP4'],\n",
       "  'bucket': 'marine-buv',\n",
       "  'prefix': 'poorknights-buv-2015/TUH_040_2021_11_11',\n",
       "  'IsBadDeployment': False,\n",
       "  'comment': 'this is just a trial'}]"
      ]
     },
     "execution_count": 9,
     "metadata": {},
     "output_type": "execute_result"
    }
   ],
   "source": [
    "new_row, movies_df = t19.review_movie_details(\n",
    "    project_name = project.value,\n",
    "    db_info_dict = db_info_dict,\n",
    "    video_info_dict_i = video_info_dict,\n",
    "    IsBadDeployment_i = deployment_i.result,\n",
    "    survey_start_i = surv_start.result,\n",
    "    survey_end_i = surv_end.result,\n",
    "    author_i = video_author.result.value,\n",
    "    comment_i = comment_movie.value,\n",
    "    s3_prefix_i = s3_folder.value,\n",
    "    go_pro_list_i = go_pro_movies_i,\n",
    "    bucket_i = 'marine-buv'\n",
    ")\n",
    "print(\"The new details are:\")\n",
    "new_row.to_dict('records')"
   ]
  },
  {
   "cell_type": "markdown",
   "id": "098afca0",
   "metadata": {},
   "source": [
    "# !!!Only pass this point if movie details are correct!!!"
   ]
  },
  {
   "cell_type": "markdown",
   "id": "21e2d0b9",
   "metadata": {},
   "source": [
    "### Update movies csv and upload video to s3"
   ]
  },
  {
   "cell_type": "code",
   "execution_count": null,
   "id": "549375bf",
   "metadata": {},
   "outputs": [],
   "source": [
    "upload_concat_movie(new_row, db_info_dict, video_info_dict, movies_df)"
   ]
  },
  {
   "cell_type": "code",
   "execution_count": null,
   "id": "a004889d",
   "metadata": {},
   "outputs": [],
   "source": [
    "#END"
   ]
  }
 ],
 "metadata": {
  "kernelspec": {
   "display_name": "Python 3",
   "language": "python",
   "name": "python3"
  },
  "language_info": {
   "codemirror_mode": {
    "name": "ipython",
    "version": 3
   },
   "file_extension": ".py",
   "mimetype": "text/x-python",
   "name": "python",
   "nbconvert_exporter": "python",
   "pygments_lexer": "ipython3",
   "version": "3.8.8"
  }
 },
 "nbformat": 4,
 "nbformat_minor": 5
}
