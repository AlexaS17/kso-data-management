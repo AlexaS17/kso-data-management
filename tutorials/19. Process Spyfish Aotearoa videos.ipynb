{
 "cells": [
  {
   "cell_type": "markdown",
   "id": "95aea466",
   "metadata": {},
   "source": [
    "<img align=\"left\" src=\"https://panoptes-uploads.zooniverse.org/project_avatar/86c23ca7-bbaa-4e84-8d8a-876819551431.png\" type=\"image/png\" height=100 width=100>\n",
    "</img>\n",
    "\n",
    "\n",
    "<h1 align=\"right\">KSO Tutorials #19: Process Spyfish Aotearoa videos</h1>\n",
    "<h3 align=\"right\">Written by @jannesgg and @vykanton</h3>\n",
    "<h5 align=\"right\">Last updated: Nov 14th, 2021</h5>"
   ]
  },
  {
   "cell_type": "markdown",
   "id": "6f0fc779",
   "metadata": {},
   "source": [
    "# Set up and requirements"
   ]
  },
  {
   "cell_type": "markdown",
   "id": "ed3d9d14",
   "metadata": {},
   "source": [
    "Import Python packages"
   ]
  },
  {
   "cell_type": "code",
   "execution_count": 1,
   "id": "46ca201f",
   "metadata": {
    "scrolled": true
   },
   "outputs": [
    {
     "data": {
      "application/javascript": [
       "require.config({\n",
       "    paths: {\n",
       "        datatables: 'https://cdn.datatables.net/1.10.19/js/jquery.dataTables.min',\n",
       "    }\n",
       "});\n",
       "\n",
       "$('head').append('<link rel=\"stylesheet\" type=\"text/css\" \\\n",
       "                href = \"https://cdn.datatables.net/1.10.19/css/jquery.dataTables.min.css\" > ');\n",
       "\n",
       "$('head').append('<style> table td { text-overflow: ellipsis; overflow: hidden; } </style>');\n",
       "\n",
       "$('head').append(`<script>\n",
       "function eval_functions(map_or_text) {\n",
       "    if (typeof map_or_text === \"string\") {\n",
       "        if (map_or_text.startsWith(\"function\")) {\n",
       "            try {\n",
       "                // Note: parenthesis are required around the whole expression for eval to return a value!\n",
       "                // See https://stackoverflow.com/a/7399078/911298.\n",
       "                //\n",
       "                // eval(\"local_fun = \" + map_or_text) would fail because local_fun is not declared\n",
       "                // (using var, let or const would work, but it would only be declared in the local scope\n",
       "                // and therefore the value could not be retrieved).\n",
       "                const func = eval(\"(\" + map_or_text + \")\");\n",
       "                if (typeof func !== \"function\") {\n",
       "                    // Note: backquotes are super convenient!\n",
       "                    // https://developer.mozilla.org/en-US/docs/Web/JavaScript/Reference/Template_literals\n",
       "                    console.error(\"Evaluated expression \" + map_or_text + \" is not a function (type is \" + typeof func + \")\");\n",
       "                    return map_or_text;\n",
       "                }\n",
       "                // Return the function\n",
       "                return func;\n",
       "            } catch (e) {\n",
       "                // Make sure to print the error with a second argument to console.error().\n",
       "                console.error(\"itables was not able to parse \" + map_or_text, e);\n",
       "            }\n",
       "        }\n",
       "    } else if (typeof map_or_text === \"object\") {\n",
       "        if (map_or_text instanceof Array) {\n",
       "            // Note: \"var\" is now superseded by \"let\" and \"const\".\n",
       "            // https://medium.com/javascript-scene/javascript-es6-var-let-or-const-ba58b8dcde75\n",
       "            const result = [];\n",
       "            // Note: \"for of\" is the best way to iterate through an iterable.\n",
       "            // https://developer.mozilla.org/en-US/docs/Web/JavaScript/Reference/Statements/for...of\n",
       "            for (const item of map_or_text) {\n",
       "                result.push(eval_functions(item));\n",
       "            }\n",
       "            return result;\n",
       "\n",
       "            // Alternatively, more functional approach in one line:\n",
       "            // return map_or_text.map(eval_functions);\n",
       "        } else {\n",
       "            const result = {};\n",
       "            // Object.keys() is safer than \"for in\" because otherwise you might have keys\n",
       "            // that aren't defined in the object itself.\n",
       "            //\n",
       "            // See https://stackoverflow.com/a/684692/911298.\n",
       "            for (const item of Object.keys(map_or_text)) {\n",
       "                result[item] = eval_functions(map_or_text[item]);\n",
       "            }\n",
       "            return result;\n",
       "        }\n",
       "    }\n",
       "\n",
       "    return map_or_text;\n",
       "}\n",
       "\n",
       "</` + 'script>');"
      ],
      "text/plain": [
       "<IPython.core.display.Javascript object>"
      ]
     },
     "metadata": {},
     "output_type": "display_data"
    },
    {
     "name": "stdout",
     "output_type": "stream",
     "text": [
      "Packages loaded successfully\n"
     ]
    }
   ],
   "source": [
    "# Set the directory of the libraries\n",
    "import sys\n",
    "sys.path.append('..')\n",
    "\n",
    "# Set to display dataframes as interactive tables\n",
    "from itables import init_notebook_mode\n",
    "init_notebook_mode(all_interactive=True)\n",
    "\n",
    "# Import required modules\n",
    "import utils.tutorials_utils as t_utils\n",
    "import utils.t19_utils as t19\n",
    "import utils.server_utils as serv_utils\n",
    "\n",
    "print(\"Packages loaded successfully\")"
   ]
  },
  {
   "cell_type": "markdown",
   "id": "77996901",
   "metadata": {},
   "source": [
    "### Choose your project"
   ]
  },
  {
   "cell_type": "code",
   "execution_count": 2,
   "id": "eafe82e7",
   "metadata": {},
   "outputs": [
    {
     "data": {
      "application/vnd.jupyter.widget-view+json": {
       "model_id": "cc6423d61c6441e4926c537b79b556d2",
       "version_major": 2,
       "version_minor": 0
      },
      "text/plain": [
       "Dropdown(description='Project:', options=('Koster_Seafloor_Obs', 'Spyfish_Aotearoa', 'SGU'), value='Koster_Sea…"
      ]
     },
     "metadata": {},
     "output_type": "display_data"
    }
   ],
   "source": [
    "project = t_utils.choose_project()"
   ]
  },
  {
   "cell_type": "markdown",
   "id": "e2103a8c",
   "metadata": {},
   "source": [
    "### Get information from previous movies and sites"
   ]
  },
  {
   "cell_type": "code",
   "execution_count": 3,
   "id": "0ab5cd58",
   "metadata": {},
   "outputs": [
    {
     "name": "stdout",
     "output_type": "stream",
     "text": [
      "Enter the key id for the aws server········\n",
      "Enter the secret access key for the aws server········\n"
     ]
    },
    {
     "name": "stderr",
     "output_type": "stream",
     "text": [
      "../db_starter/db_csv_info/sites_buv_doc.csv: 100%|██████████| 4.24k/4.24k [00:00<00:00, 10.6kB/s]\n",
      "../db_starter/db_csv_info/movies_buv_doc.csv: 100%|██████████| 7.25k/7.25k [00:00<00:00, 25.2kB/s]\n",
      "../db_starter/db_csv_info/species_buv_doc.csv: 100%|██████████| 205/205 [00:00<00:00, 475B/s]\n"
     ]
    }
   ],
   "source": [
    "db_initial_info = serv_utils.get_db_init_info(project.value)"
   ]
  },
  {
   "cell_type": "markdown",
   "id": "f401dba3",
   "metadata": {},
   "source": [
    "# Select the folder where the sd card is"
   ]
  },
  {
   "cell_type": "markdown",
   "id": "3c1e6fcb",
   "metadata": {},
   "source": [
    "Make sure you select the FOLDER not the files"
   ]
  },
  {
   "cell_type": "code",
   "execution_count": 4,
   "id": "18c2475c",
   "metadata": {},
   "outputs": [
    {
     "data": {
      "application/vnd.jupyter.widget-view+json": {
       "model_id": "78f7cc6db73745b1a1218a8ea2ff0013",
       "version_major": 2,
       "version_minor": 0
      },
      "text/plain": [
       "FileChooser(path='C:\\', filename='', title='', show_hidden=False, select_desc='Select', change_desc='Change', …"
      ]
     },
     "metadata": {},
     "output_type": "display_data"
    }
   ],
   "source": [
    "go_pro_folder = t19.select_go_pro_folder()"
   ]
  },
  {
   "cell_type": "code",
   "execution_count": 5,
   "id": "37708271",
   "metadata": {},
   "outputs": [
    {
     "name": "stdout",
     "output_type": "stream",
     "text": [
      "The movies selected are:\n",
      "C:\\Users\\Victor\\Desktop\\WP74\\GH010905.MP4\n",
      "C:\\Users\\Victor\\Desktop\\WP74\\GH020905.MP4\n"
     ]
    }
   ],
   "source": [
    "go_pro_movies_i = t19.select_go_pro_movies(go_pro_folder.selected)\n",
    "print(\"The movies selected are:\")\n",
    "print(*go_pro_movies_i, sep='\\n')"
   ]
  },
  {
   "cell_type": "markdown",
   "id": "b597f250",
   "metadata": {},
   "source": [
    "### Select the site"
   ]
  },
  {
   "cell_type": "code",
   "execution_count": 20,
   "id": "d407bfff",
   "metadata": {},
   "outputs": [
    {
     "data": {
      "application/vnd.jupyter.widget-view+json": {
       "model_id": "345f0696710a4881b4bf13544c8ecc5e",
       "version_major": 2,
       "version_minor": 0
      },
      "text/plain": [
       "interactive(children=(Dropdown(description='Existing or new:', layout=Layout(width='50%'), options=('Existing'…"
      ]
     },
     "metadata": {},
     "output_type": "display_data"
    }
   ],
   "source": [
    "site_i = select_site(db_initial_info)"
   ]
  },
  {
   "cell_type": "markdown",
   "id": "40e18601",
   "metadata": {},
   "source": [
    "### Select the date"
   ]
  },
  {
   "cell_type": "code",
   "execution_count": 8,
   "id": "970f7d85",
   "metadata": {},
   "outputs": [
    {
     "data": {
      "application/vnd.jupyter.widget-view+json": {
       "model_id": "fa4e7ba753fa403287eb955abcd861f2",
       "version_major": 2,
       "version_minor": 0
      },
      "text/plain": [
       "DatePicker(value=None, description='Start Date', layout=Layout(width='50%'), style=DescriptionStyle(descriptio…"
      ]
     },
     "metadata": {},
     "output_type": "display_data"
    }
   ],
   "source": [
    "date_i = t19.select_date()"
   ]
  },
  {
   "cell_type": "markdown",
   "id": "3718f963",
   "metadata": {},
   "source": [
    "### Concatenate the go pro files"
   ]
  },
  {
   "cell_type": "code",
   "execution_count": 34,
   "id": "c0a22c8c",
   "metadata": {},
   "outputs": [
    {
     "name": "stdout",
     "output_type": "stream",
     "text": [
      "Temporary files removed\n"
     ]
    }
   ],
   "source": [
    "video_info_dict = t19.concatenate_go_pro_videos(site_i.result.value,\n",
    "                                                date_i.value.isoformat(),\n",
    "                                                go_pro_folder.selected,\n",
    "                                                go_pro_movies_i)"
   ]
  },
  {
   "cell_type": "markdown",
   "id": "00d94869",
   "metadata": {},
   "source": [
    "### Open and check the concatenated video "
   ]
  },
  {
   "cell_type": "code",
   "execution_count": 36,
   "id": "aa030445",
   "metadata": {},
   "outputs": [
    {
     "name": "stdout",
     "output_type": "stream",
     "text": [
      "Open C:\\Users\\Victor\\Desktop\\WP74\\KPT_001_2021-11-23.MP4 to check the required information for the next sections\n"
     ]
    }
   ],
   "source": [
    "print(\"Open\", video_info_dict[\"concat_video\"], \"to check the required information for the next sections\")"
   ]
  },
  {
   "cell_type": "markdown",
   "id": "5a9faf7c",
   "metadata": {},
   "source": [
    "### Select Video Author"
   ]
  },
  {
   "cell_type": "code",
   "execution_count": 37,
   "id": "14ca7029",
   "metadata": {},
   "outputs": [
    {
     "data": {
      "application/vnd.jupyter.widget-view+json": {
       "model_id": "835c848b32834fa7984ea2b34aa4e056",
       "version_major": 2,
       "version_minor": 0
      },
      "text/plain": [
       "interactive(children=(Dropdown(description='Existing or new:', layout=Layout(width='50%'), options=('Existing'…"
      ]
     },
     "metadata": {},
     "output_type": "display_data"
    }
   ],
   "source": [
    "video_author = t19.select_author(db_initial_info)"
   ]
  },
  {
   "cell_type": "markdown",
   "id": "e1d45545",
   "metadata": {},
   "source": [
    "### Specify if bad deployment"
   ]
  },
  {
   "cell_type": "code",
   "execution_count": 38,
   "id": "50f45120",
   "metadata": {},
   "outputs": [
    {
     "data": {
      "application/vnd.jupyter.widget-view+json": {
       "model_id": "0a81650ded6a4b288ed4dc599e249612",
       "version_major": 2,
       "version_minor": 0
      },
      "text/plain": [
       "interactive(children=(Dropdown(description='Is it a bad deployment?', index=1, layout=Layout(width='50%'), opt…"
      ]
     },
     "metadata": {},
     "output_type": "display_data"
    }
   ],
   "source": [
    "deployment_i = t19.select_bad_deployment()"
   ]
  },
  {
   "cell_type": "markdown",
   "id": "ae15796d",
   "metadata": {},
   "source": [
    "### Set survey start"
   ]
  },
  {
   "cell_type": "code",
   "execution_count": null,
   "id": "10fac2a4",
   "metadata": {},
   "outputs": [],
   "source": [
    "surv_start = t19.select_start_survey(video_info_dict[\"duration_i\"])"
   ]
  },
  {
   "cell_type": "markdown",
   "id": "de9c1637",
   "metadata": {},
   "source": [
    "### Set survey end"
   ]
  },
  {
   "cell_type": "code",
   "execution_count": null,
   "id": "78de554c",
   "metadata": {},
   "outputs": [],
   "source": [
    "surv_end = t19.select_end_survey(video_info_dict[\"duration_i\"], surv_start.result)"
   ]
  },
  {
   "cell_type": "markdown",
   "id": "d0d4546b",
   "metadata": {},
   "source": [
    "### Save the s3 prefix"
   ]
  },
  {
   "cell_type": "code",
   "execution_count": null,
   "id": "6e3f7e04",
   "metadata": {},
   "outputs": [],
   "source": [
    "# Select the S3 \"folder\" to upload the video\n",
    "s3_folder = t19.select_s3_folder(db_initial_info)"
   ]
  },
  {
   "cell_type": "markdown",
   "id": "289ed33a",
   "metadata": {},
   "source": [
    "### Add any comment related to the movie"
   ]
  },
  {
   "cell_type": "code",
   "execution_count": null,
   "id": "7fb4047c",
   "metadata": {},
   "outputs": [],
   "source": [
    "comment_movie = t19.write_comment()"
   ]
  },
  {
   "cell_type": "markdown",
   "id": "08a5b78d",
   "metadata": {},
   "source": [
    "### Review the survey/movie details"
   ]
  },
  {
   "cell_type": "code",
   "execution_count": null,
   "id": "463e7131",
   "metadata": {},
   "outputs": [],
   "source": [
    "new_row = t19.review_movie_details(video_info_dict_i =video_info_dict,\n",
    "                         IsBadDeployment_i = deployment_i.result,\n",
    "                         survey_start_i = surv_start.result,\n",
    "                         survey_end_i = surv_end.result,\n",
    "                         author_i = video_author.result.value,\n",
    "                         comment_i = comment_movie.value,\n",
    "                         s3_prefix_i = s3_folder.value,\n",
    "                         bucket_i = 'marine-buv'\n",
    "                        )\n",
    "print(\"The new details are:\", new_row)"
   ]
  },
  {
   "cell_type": "markdown",
   "id": "098afca0",
   "metadata": {},
   "source": [
    "# !!!Only pass this point if movie details are correct!!!"
   ]
  },
  {
   "cell_type": "markdown",
   "id": "21e2d0b9",
   "metadata": {},
   "source": [
    "### Update movies csv and upload video to s3"
   ]
  },
  {
   "cell_type": "code",
   "execution_count": null,
   "id": "549375bf",
   "metadata": {},
   "outputs": [],
   "source": [
    "# Specify the location of the movie in the s3\n",
    "key_filename = prefix + \"/\" + filename\n",
    "\n",
    "# Upload movie to the s3 bucket\n",
    "server_utils.upload_file_to_s3(client, bucket_i, key_filename, path_filename)\n",
    "\n",
    "# Add row to movies_df\n",
    "movies_df = movies_df.append(new_row, ignore_index=True)\n",
    "\n",
    "# Temporarily save the movies df as csv\n",
    "path_movies_csv = \"movies_buv_doc.csv\"\n",
    "movies_df.to_csv(path_movies_csv, index=False)\n",
    "\n",
    "# Upload the updated csv to the s3 bucket\n",
    "server_utils.upload_file_to_s3(client, bucket_i, key_movies_csv, path_movies_csv)\n",
    "\n",
    "# Remove temporary csv\n",
    "os.remove(path_movies_csv)\n",
    "\n",
    "# Remove temporary movie\n"
   ]
  },
  {
   "cell_type": "code",
   "execution_count": null,
   "id": "a004889d",
   "metadata": {},
   "outputs": [],
   "source": [
    "# Upload the file to the s3"
   ]
  },
  {
   "cell_type": "markdown",
   "id": "3f70aec5",
   "metadata": {},
   "source": [
    "# Get list of surveys from S3"
   ]
  },
  {
   "cell_type": "code",
   "execution_count": null,
   "id": "f380d63a",
   "metadata": {},
   "outputs": [],
   "source": [
    "aws_access_key_id, aws_secret_access_key = serv_utils.aws_credentials()"
   ]
  },
  {
   "cell_type": "code",
   "execution_count": null,
   "id": "2387714b",
   "metadata": {},
   "outputs": [],
   "source": [
    "client = serv_utils.connect_s3(aws_access_key_id, aws_secret_access_key)"
   ]
  },
  {
   "cell_type": "code",
   "execution_count": null,
   "id": "ec445444",
   "metadata": {},
   "outputs": [],
   "source": [
    "# See list of buckets available\n",
    "#client.list_buckets()"
   ]
  },
  {
   "cell_type": "code",
   "execution_count": null,
   "id": "050e5ac6",
   "metadata": {},
   "outputs": [],
   "source": [
    "bucket_i = \"marine-buv\""
   ]
  },
  {
   "cell_type": "code",
   "execution_count": null,
   "id": "35e52c1b",
   "metadata": {},
   "outputs": [],
   "source": [
    "contents_s3_pd"
   ]
  },
  {
   "cell_type": "code",
   "execution_count": null,
   "id": "f27be0aa",
   "metadata": {},
   "outputs": [],
   "source": [
    "# Retrieve info from the bucket\n",
    "contents_s3_pd = server_utils.retrieve_s3_buckets_info(client, bucket_i,\"\")\n",
    "\n",
    "# Specify the filename of the objects (videos)        \n",
    "contents_s3_pd['raw_filename'] = contents_s3_pd['Key'].str.split('/').str[-1]\n",
    "\n",
    "# Specify the prefix (directory) of the objects        \n",
    "contents_s3_pd['prefix'] = contents_s3_pd['Key'].str.rsplit('/',1).str[0]"
   ]
  },
  {
   "cell_type": "code",
   "execution_count": null,
   "id": "27cca737",
   "metadata": {},
   "outputs": [],
   "source": [
    "# Upload csv to s3 \n",
    "#upload_file_to_s3(client, *, bucket, key, filename)"
   ]
  },
  {
   "cell_type": "code",
   "execution_count": null,
   "id": "b8930012",
   "metadata": {},
   "outputs": [],
   "source": [
    "contents_s3_pd"
   ]
  },
  {
   "cell_type": "code",
   "execution_count": null,
   "id": "03846af9",
   "metadata": {},
   "outputs": [],
   "source": [
    "# Specify the formats of the movies to select\n",
    "movie_formats = tuple(['wmv', 'mpg', 'mov', 'avi', 'mp4', 'MOV', 'MP4'])\n",
    "\n",
    "foo = get_matching_s3_objects(client, bucket_i, suffix=movie_formats)\n"
   ]
  },
  {
   "cell_type": "code",
   "execution_count": null,
   "id": "0c952d90",
   "metadata": {},
   "outputs": [],
   "source": [
    "# Specify the formats of the movies to select\n",
    "movie_formats = tuple(['wmv', 'mpg', 'mov', 'avi', 'mp4', 'MOV', 'MP4'])\n",
    "\n",
    "s3_keys = [key for key in get_matching_s3_keys(client=client, bucket=bucket_i, suffix=movie_formats)]"
   ]
  },
  {
   "cell_type": "code",
   "execution_count": null,
   "id": "94812d6d",
   "metadata": {},
   "outputs": [],
   "source": [
    "pd.DataFrame(s3_keys).shape"
   ]
  },
  {
   "cell_type": "code",
   "execution_count": null,
   "id": "4d2fb613",
   "metadata": {},
   "outputs": [],
   "source": [
    "foo_pd = retrieve_s3_buckets_info(client=client, bucket=bucket_i, suffix=movie_formats)"
   ]
  },
  {
   "cell_type": "code",
   "execution_count": null,
   "id": "23051e43",
   "metadata": {},
   "outputs": [],
   "source": [
    "foo_pd.shape"
   ]
  },
  {
   "cell_type": "code",
   "execution_count": null,
   "id": "3b953be2",
   "metadata": {},
   "outputs": [],
   "source": [
    "# Select only files within the buv-zooniverse-uploads bucket\n",
    "zoo_contents_s3_pd = contents_s3_pd[contents_s3_pd['prefix'].str.contains(\"buv-zooniverse-uploads\")].reset_index(drop = True)\n",
    "\n",
    "# Specify the formats of the movies to select\n",
    "movie_formats = tuple(['wmv', 'mpg', 'mov', 'avi', 'mp4', 'MOV', 'MP4'])\n",
    "\n",
    "# Select only files of interest (movies)\n",
    "zoo_contents_s3_pd_movies = zoo_contents_s3_pd[zoo_contents_s3_pd['raw_filename'].str.endswith(movie_formats)]"
   ]
  },
  {
   "cell_type": "markdown",
   "id": "0ba3886c",
   "metadata": {},
   "source": [
    "# Get list of surveys from movies csv"
   ]
  },
  {
   "cell_type": "code",
   "execution_count": null,
   "id": "93cb5d6e",
   "metadata": {},
   "outputs": [],
   "source": [
    "# Get the location of the csv files with initial info to populate the db\n",
    "sites_csv, movies_csv, species_csv = server_utils.get_sites_movies_species()\n",
    "\n",
    "# Load the csv with movies information\n",
    "movies_df = pd.read_csv(movies_csv) \n",
    "\n",
    "# Combine the entire movies and go_pro_files\n",
    "movies_df['files'] = np.where(movies_df['go_pro_files'].isna(), movies_df['filename'], movies_df['filename'] + \";\" + movies_df['go_pro_files'])\n",
    "\n",
    "# Transform the df to have a row per filename\n",
    "movies_df = movies_df.assign(raw_filename=movies_df['files'].str.split(';')).explode('raw_filename')\n",
    "\n",
    "# Specify the key (path in S3 of the object)\n",
    "movies_df[\"Key\"] = movies_df[\"prefix\"] + \"/\" + movies_df[\"raw_filename\"]"
   ]
  },
  {
   "cell_type": "markdown",
   "id": "0f39da3d",
   "metadata": {},
   "source": [
    "# Find surveys missing from s3"
   ]
  },
  {
   "cell_type": "code",
   "execution_count": null,
   "id": "69ca36ec",
   "metadata": {},
   "outputs": [],
   "source": [
    "# Missing info for files in the \"buv-zooniverse-uploads\"\n",
    "missing_info = zoo_contents_s3_pd_movies.merge(movies_df, \n",
    "                                        on=['Key'], \n",
    "                                        how='outer', \n",
    "                                        indicator=True)\n",
    "\n",
    "#missing_info[missing_info[\"_merge\"]==\"both\"]\n",
    "#missing_info"
   ]
  },
  {
   "cell_type": "code",
   "execution_count": null,
   "id": "d2da9a33",
   "metadata": {},
   "outputs": [],
   "source": [
    "# Find out about those files missing from the S3\n",
    "missing_from_s3 = missing_info[missing_info[\"_merge\"]==\"right_only\"]\n",
    "missing_bad_deployment = missing_from_s3[missing_from_s3[\"IsBadDeployment\"]]\n",
    "missing_no_bucket_info = missing_from_s3[~(missing_from_s3[\"IsBadDeployment\"])&(missing_from_s3[\"bucket\"].isna())]"
   ]
  },
  {
   "cell_type": "code",
   "execution_count": null,
   "id": "7d7f4c69",
   "metadata": {},
   "outputs": [],
   "source": [
    "print(\"There are\", len(missing_from_s3.index), \"movies missing from the S3\")\n",
    "print(len(missing_bad_deployment.index), \"movies are bad deployments. Their filenames are:\")\n",
    "print(*missing_bad_deployment.filename.unique(), sep = \"\\n\")\n",
    "print(len(missing_no_bucket_info.index), \"movies are good deployments but don't have bucket info. Their filenames are:\")\n",
    "print(*missing_no_bucket_info.filename.unique(), sep = \"\\n\")"
   ]
  },
  {
   "cell_type": "markdown",
   "id": "453642f3",
   "metadata": {},
   "source": [
    "### Find surveys missing from csv"
   ]
  },
  {
   "cell_type": "code",
   "execution_count": null,
   "id": "8955a13f",
   "metadata": {},
   "outputs": [],
   "source": [
    "missing_from_csv = missing_info[missing_info[\"_merge\"]==\"left_only\"].reset_index(drop=True)"
   ]
  },
  {
   "cell_type": "code",
   "execution_count": null,
   "id": "bdadd0ce",
   "metadata": {},
   "outputs": [],
   "source": [
    "print(\"There are\", len(missing_from_csv.index), \"movies missing from the csv\")"
   ]
  },
  {
   "cell_type": "code",
   "execution_count": null,
   "id": "6a10005d",
   "metadata": {},
   "outputs": [],
   "source": [
    "# Combine the location of the file and the filename\n",
    "missing_from_csv[\"location_and_filename\"] = \"S3_prefix: \" + missing_from_csv['prefix_x'].str.rsplit('/',1).str[1] + \" | Filename: \" + missing_from_csv['raw_filename_x']"
   ]
  },
  {
   "cell_type": "code",
   "execution_count": null,
   "id": "b5eb8db3",
   "metadata": {},
   "outputs": [],
   "source": [
    "missing_from_csv"
   ]
  },
  {
   "cell_type": "code",
   "execution_count": null,
   "id": "171c3554",
   "metadata": {
    "scrolled": true
   },
   "outputs": [],
   "source": [
    "# Specify the go pro movies to update\n",
    "go_pro_mov_to_update = go_pro_movies_to_update(missing_from_csv)"
   ]
  },
  {
   "cell_type": "code",
   "execution_count": null,
   "id": "8ec37d47",
   "metadata": {},
   "outputs": [],
   "source": [
    "# Specify the full movies to update\n",
    "full_mov_to_update = full_movie_to_update(missing_from_csv)"
   ]
  },
  {
   "cell_type": "code",
   "execution_count": null,
   "id": "40932ccf",
   "metadata": {},
   "outputs": [],
   "source": [
    "mov_to_update.value"
   ]
  },
  {
   "cell_type": "code",
   "execution_count": null,
   "id": "69aeb546",
   "metadata": {},
   "outputs": [],
   "source": [
    "# Select multiple movies to include information of\n",
    "def go_pro_movies_to_update(df):\n",
    "    \n",
    "    # Save the filenames of the movies missing\n",
    "    filename_missing_csv = df.location_and_filename.unique()\n",
    "    \n",
    "    # Display the project options\n",
    "    movie_to_update = widgets.SelectMultiple(\n",
    "        options=filename_missing_csv,\n",
    "        rows=15,\n",
    "        layout=Layout(width='80%'),\n",
    "        description=\"GO pro movies:\",\n",
    "        disabled=False,\n",
    "        \n",
    "    )\n",
    "    \n",
    "    display(movie_to_update)\n",
    "    return movie_to_update\n",
    "\n",
    "# Select one movie to include information of\n",
    "def full_movie_to_update(df):\n",
    "    \n",
    "    # Save the filenames of the movies missing\n",
    "    filename_missing_csv = df.location_and_filename.unique()\n",
    "    \n",
    "    # Display the project options\n",
    "    movie_to_update = widgets.Dropdown(\n",
    "        options=filename_missing_csv,\n",
    "        rows=15,\n",
    "        layout=Layout(width='80%'),\n",
    "        description=\"Full movie:\",\n",
    "        disabled=False,\n",
    "        \n",
    "    )\n",
    "    \n",
    "    display(movie_to_update)\n",
    "    return movie_to_update\n"
   ]
  },
  {
   "cell_type": "code",
   "execution_count": null,
   "id": "3ca4fae7",
   "metadata": {},
   "outputs": [],
   "source": [
    "info_csv = info_to_csv(missing_from_csv, mov_to_update.value)"
   ]
  },
  {
   "cell_type": "code",
   "execution_count": null,
   "id": "4d77c763",
   "metadata": {},
   "outputs": [],
   "source": [
    "# Select the info to add to the csv\n",
    "def info_to_csv(df, movies):\n",
    "    \n",
    "    # Save the filenames of the movies missing\n",
    "    filename_missing_csv = df.location_and_filename.unique()\n",
    "    \n",
    "    # Display the project options\n",
    "    movie_to_update = widgets.SelectMultiple(\n",
    "        options=filename_missing_csv,\n",
    "        rows=15,\n",
    "        layout=Layout(width='80%'),\n",
    "        description=\"Movie:\",\n",
    "        disabled=False,\n",
    "        \n",
    "    )\n",
    "    \n",
    "    display(movie_to_update)\n",
    "    return movie_to_update"
   ]
  },
  {
   "cell_type": "markdown",
   "id": "046787bf",
   "metadata": {},
   "source": [
    "# Concatenate go pros and update csv"
   ]
  },
  {
   "cell_type": "code",
   "execution_count": null,
   "id": "407056ec",
   "metadata": {},
   "outputs": [],
   "source": [
    "zoo_contents_s3_pd_movies[zoo_contents_s3_pd_movies['Key'].str.contains(\"TUH_032\")].Key.unique()"
   ]
  },
  {
   "cell_type": "code",
   "execution_count": null,
   "id": "55a999cc",
   "metadata": {},
   "outputs": [],
   "source": [
    "movies_df[movies_df['siteName']==\"TUH_037\"].go_pro_files.unique()"
   ]
  },
  {
   "cell_type": "code",
   "execution_count": null,
   "id": "ea738831",
   "metadata": {},
   "outputs": [],
   "source": [
    "missing_info[(missing_info[\"_merge\"]==\"right_only\")]"
   ]
  },
  {
   "cell_type": "code",
   "execution_count": null,
   "id": "426324ab",
   "metadata": {},
   "outputs": [],
   "source": [
    "# Select only those deployments that are valid\n",
    "movies_df = movies_df[~movies_df[\"IsBadDeployment\"]].reset_index(drop=True)"
   ]
  },
  {
   "cell_type": "code",
   "execution_count": null,
   "id": "02d1d296",
   "metadata": {},
   "outputs": [],
   "source": [
    "# Set the directory of the libraries\n",
    "import sys\n",
    "sys.path.append('..')\n",
    "\n",
    "# Import required modules\n",
    "import utils.t15_utils as t15\n",
    "import utils.t12_utils as t12\n",
    "\n",
    "print(\"Packages loaded successfully\")\n",
    "\n",
    "import os\n",
    "import pandas as pd\n",
    "import sqlite3\n",
    "import pandas as pd\n",
    "from tqdm import tqdm\n",
    "import subprocess\n",
    "\n",
    "import utils.db_utils as db_utils\n",
    "import utils.server_utils as server_utils\n",
    "import utils.spyfish_utils as spyfish_utils\n",
    "\n",
    "# Get the location of the csv files with initial info to populate the db\n",
    "sites_csv, movies_csv, species_csv = server_utils.get_sites_movies_species()\n",
    "\n",
    "# Load the csv with movies information\n",
    "movies_df = pd.read_csv(movies_csv)\n",
    "\n",
    "# Select only those deployments that are valid\n",
    "movies_df = movies_df[~movies_df[\"IsBadDeployment\"]].reset_index(drop=True)    "
   ]
  },
  {
   "cell_type": "code",
   "execution_count": null,
   "id": "02b46ffa",
   "metadata": {},
   "outputs": [],
   "source": [
    "# Select only surveys that are missing filenames\n",
    "unprocessed_movies_df = movies_df[movies_df[\"filename\"].isna()].reset_index(drop=True)\n",
    "\n",
    "# Write the filename of the concatenated movie\n",
    "unprocessed_movies_df[\"filename\"] = unprocessed_movies_df[\"siteName\"] + \"_\" + unprocessed_movies_df[\"created_on\"].str.replace('/','_')+ \".MP4\""
   ]
  },
  {
   "cell_type": "code",
   "execution_count": null,
   "id": "ca51af7c",
   "metadata": {},
   "outputs": [],
   "source": [
    "zoo_contents_s3_pd_movies[zoo_contents_s3_pd_movies['raw_filename'].str.contains(\"Site 20\")]"
   ]
  },
  {
   "cell_type": "code",
   "execution_count": null,
   "id": "2722b084",
   "metadata": {},
   "outputs": [],
   "source": [
    "unprocessed_movies_df"
   ]
  },
  {
   "cell_type": "code",
   "execution_count": null,
   "id": "ea053faf",
   "metadata": {},
   "outputs": [],
   "source": [
    "unprocessed_movies_df"
   ]
  },
  {
   "cell_type": "code",
   "execution_count": null,
   "id": "66f4a82d",
   "metadata": {
    "scrolled": false
   },
   "outputs": [],
   "source": [
    "spyfish_utils.concatenate_videos(unprocessed_movies_df, client)"
   ]
  },
  {
   "cell_type": "code",
   "execution_count": null,
   "id": "c1ca0f6d",
   "metadata": {},
   "outputs": [],
   "source": [
    "# Check that all videos have filenames\n",
    "if movies_df[\"filename\"].isna().any():\n",
    "    \n",
    "    #####Get info from bucket#####\n",
    "    # Your acess key for the s3 bucket. \n",
    "    #aws_access_key_id, aws_secret_access_key = server_utils.aws_credentials()\n",
    "\n",
    "    # Specify the bucket where the BUV files are\n",
    "    bucket_i = movies_df['bucket'].str.split('/').str[0].dropna().unique()[1]"
   ]
  },
  {
   "cell_type": "code",
   "execution_count": null,
   "id": "69b2d0f9",
   "metadata": {},
   "outputs": [],
   "source": [
    "# Retrieve info from the bucket\n",
    "contents_s3_pd = server_utils.retrieve_s3_buckets_info(client, bucket_i)"
   ]
  },
  {
   "cell_type": "code",
   "execution_count": null,
   "id": "e23095b8",
   "metadata": {},
   "outputs": [],
   "source": [
    "contents_s3_pd"
   ]
  },
  {
   "cell_type": "code",
   "execution_count": null,
   "id": "15e07aa4",
   "metadata": {},
   "outputs": [],
   "source": [
    "contents_s3_pd[contents_s3_pd['Key'].str.contains(\"buv-zooniverse-uploads/tuhua-buv-2020/TUH_021/TUH_021__22_09_2020.MP4\")]['Key'].unique()"
   ]
  },
  {
   "cell_type": "code",
   "execution_count": null,
   "id": "9f821137",
   "metadata": {},
   "outputs": [],
   "source": [
    "#client.delete_object(Bucket=bucket_i, Key=\"buv-zooniverse-uploads/tuhua-buv-2020/TUH_021/TUH_021__22_09_2020.MP4\")"
   ]
  },
  {
   "cell_type": "code",
   "execution_count": null,
   "id": "99c36b3c",
   "metadata": {},
   "outputs": [],
   "source": [
    "# Specify the filename of the raw videos        \n",
    "contents_s3_pd['raw_filename'] = contents_s3_pd['Key'].str.split('/').str[-1]\n",
    "\n",
    "# Specify the filename of the raw videos        \n",
    "contents_s3_pd['bucket'] = contents_s3_pd['Key'].str.rsplit('/',1).str[0]"
   ]
  },
  {
   "cell_type": "code",
   "execution_count": null,
   "id": "597b0314",
   "metadata": {},
   "outputs": [],
   "source": [
    "session = server_utils.connect_s3(aws_access_key_id, aws_secret_access_key)"
   ]
  },
  {
   "cell_type": "code",
   "execution_count": null,
   "id": "4dae63c0",
   "metadata": {},
   "outputs": [],
   "source": [
    "!pip install boto3"
   ]
  },
  {
   "cell_type": "code",
   "execution_count": null,
   "id": "a1f14939",
   "metadata": {},
   "outputs": [],
   "source": [
    "# Check that filenames info from movies csv exists in S3\n",
    "import boto3\n",
    "from botocore.errorfactory import ClientError\n",
    "\n",
    "s3 = boto3.client('s3')\n",
    "try:\n",
    "    s3.head_object(Bucket='bucket_name', Key='file_path')\n",
    "except ClientError:\n",
    "    # Not found\n",
    "    pass\n"
   ]
  },
  {
   "cell_type": "markdown",
   "id": "be230b4a",
   "metadata": {},
   "source": [
    "# Check movies that can't be mapped"
   ]
  },
  {
   "cell_type": "code",
   "execution_count": null,
   "id": "0aefaedf",
   "metadata": {},
   "outputs": [],
   "source": [
    "# Select only those deployments that are valid\n",
    "    movies_df = movies_df[~movies_df[\"IsBadDeployment\"]].reset_index(drop=True)  \n",
    "    \n",
    "    # Report on unmapped movies\n",
    "    unmapped_movies_df = movies_df[~movies_df[\"exists\"]].reset_index(drop=True)\n",
    "    if not unmapped_movies_df.empty:\n",
    "        print(\"The following\", len(unmapped_movies_df.index), \"movies are missing from the S3 and are not bad deployments\")\n",
    "        print(*unmapped_movies_df.filename.unique(), sep = \"\\n\")"
   ]
  },
  {
   "cell_type": "code",
   "execution_count": null,
   "id": "9e5df7ff",
   "metadata": {},
   "outputs": [],
   "source": [
    "go_pro_folder.selected"
   ]
  },
  {
   "cell_type": "code",
   "execution_count": null,
   "id": "234c642d",
   "metadata": {},
   "outputs": [],
   "source": [
    "serv_utils.upload_file_to_s3(client=client, \n",
    "                             bucket=bucket_i, \n",
    "                             key=\"kapiti-gokmr-2020-2021\\KPT_020\\OnepotopointKAP20_2020.MP4\", \n",
    "                             filename=go_pro_folder.selected)"
   ]
  }
 ],
 "metadata": {
  "kernelspec": {
   "display_name": "Python 3",
   "language": "python",
   "name": "python3"
  },
  "language_info": {
   "codemirror_mode": {
    "name": "ipython",
    "version": 3
   },
   "file_extension": ".py",
   "mimetype": "text/x-python",
   "name": "python",
   "nbconvert_exporter": "python",
   "pygments_lexer": "ipython3",
   "version": "3.8.8"
  }
 },
 "nbformat": 4,
 "nbformat_minor": 5
}
