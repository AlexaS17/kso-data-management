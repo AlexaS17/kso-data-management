{
 "cells": [
  {
   "cell_type": "markdown",
   "id": "95aea466",
   "metadata": {},
   "source": [
    "<img align=\"left\" src=\"https://panoptes-uploads.zooniverse.org/project_avatar/86c23ca7-bbaa-4e84-8d8a-876819551431.png\" type=\"image/png\" height=100 width=100>\n",
    "</img>\n",
    "\n",
    "\n",
    "<h1 align=\"right\">KSO Tutorial #1: Check and update csv files</h1>\n",
    "<h3 align=\"right\">Written by @jannesgg and @vykanton</h3>\n",
    "<h5 align=\"right\">Last updated: Aug 26th, 2022</h5>"
   ]
  },
  {
   "cell_type": "markdown",
   "id": "6f0fc779",
   "metadata": {},
   "source": [
    "# Set up and requirements"
   ]
  },
  {
   "cell_type": "markdown",
   "id": "ed3d9d14",
   "metadata": {},
   "source": [
    "## Import Python packages"
   ]
  },
  {
   "cell_type": "code",
   "execution_count": null,
   "id": "46ca201f",
   "metadata": {},
   "outputs": [],
   "source": [
    "# Set the directory of the libraries\n",
    "import sys\n",
    "sys.path.append('..')\n",
    "\n",
    "# Enables testing changes in utils\n",
    "%load_ext autoreload\n",
    "%autoreload 2\n",
    "\n",
    "# Set to display dataframes as interactive tables\n",
    "from itables import init_notebook_mode\n",
    "init_notebook_mode(all_interactive=True)\n",
    "\n",
    "# Import required modules\n",
    "import kso_utils.tutorials_utils as t_utils\n",
    "import kso_utils.project_utils as p_utils\n",
    "import kso_utils.server_utils as s_utils\n",
    "import kso_utils.t1_utils as t1\n",
    "\n",
    "print(\"Packages loaded successfully\")"
   ]
  },
  {
   "cell_type": "markdown",
   "id": "fdc7152a",
   "metadata": {},
   "source": [
    "## Choose your project"
   ]
  },
  {
   "cell_type": "code",
   "execution_count": null,
   "id": "1c1aabda",
   "metadata": {},
   "outputs": [],
   "source": [
    "project_name = t_utils.choose_project()"
   ]
  },
  {
   "cell_type": "markdown",
   "id": "d898f611",
   "metadata": {},
   "source": [
    "## Initiate the database"
   ]
  },
  {
   "cell_type": "code",
   "execution_count": null,
   "id": "6d1103c3",
   "metadata": {
    "scrolled": true
   },
   "outputs": [],
   "source": [
    "project = p_utils.find_project(project_name=project_name.value)\n",
    "db_info_dict = t_utils.initiate_db(project)"
   ]
  },
  {
   "cell_type": "markdown",
   "id": "52f976b8",
   "metadata": {},
   "source": [
    "# Review Sites"
   ]
  },
  {
   "cell_type": "markdown",
   "id": "68106a17",
   "metadata": {},
   "source": [
    "## Map sites and metadata"
   ]
  },
  {
   "cell_type": "code",
   "execution_count": null,
   "id": "3bab8bd9",
   "metadata": {},
   "outputs": [],
   "source": [
    "kso_map = t1.map_site(db_info_dict, project)\n",
    "kso_map"
   ]
  },
  {
   "cell_type": "markdown",
   "id": "b0c5f26d",
   "metadata": {},
   "source": [
    "## Manually update sites metadata"
   ]
  },
  {
   "cell_type": "markdown",
   "id": "3f7d1fa7",
   "metadata": {},
   "source": [
    "Select the range of sites to display"
   ]
  },
  {
   "cell_type": "code",
   "execution_count": null,
   "id": "4e26700a",
   "metadata": {},
   "outputs": [],
   "source": [
    "sites_df, sites_range = t1.select_sheet_range(db_info_dict = db_info_dict,\n",
    "                                              orig_csv = \"local_sites_csv\"\n",
    "                                              )"
   ]
  },
  {
   "cell_type": "markdown",
   "id": "2d7856d5",
   "metadata": {},
   "source": [
    "Update the contents of the cells in the spreadsheet below as needed"
   ]
  },
  {
   "cell_type": "code",
   "execution_count": null,
   "id": "371ac9a0",
   "metadata": {},
   "outputs": [],
   "source": [
    "sites_df_filtered, sites_sheet = t1.open_csv(df = sites_df, df_range = sites_range)\n",
    "sites_sheet"
   ]
  },
  {
   "cell_type": "markdown",
   "id": "1f55747a",
   "metadata": {},
   "source": [
    "### Review and confirm the changes"
   ]
  },
  {
   "cell_type": "code",
   "execution_count": null,
   "id": "f2bc8c2a",
   "metadata": {},
   "outputs": [],
   "source": [
    "# Display the changes\n",
    "highlight_changes, sites_sheet_df = t1.display_changes(db_info_dict,\n",
    "                   isheet = sites_sheet, \n",
    "                   df_filtered = sites_df_filtered\n",
    "                   )\n",
    "highlight_changes"
   ]
  },
  {
   "cell_type": "code",
   "execution_count": null,
   "id": "c84d93b0",
   "metadata": {},
   "outputs": [],
   "source": [
    "# Confirm or deny the changes\n",
    "t1.update_csv(db_info_dict, \n",
    "              project,\n",
    "              sheet_df = sites_sheet_df,\n",
    "              df = sites_df,\n",
    "              local_csv = \"local_sites_csv\",\n",
    "              serv_csv = \"server_sites_csv\"\n",
    "              )"
   ]
  },
  {
   "cell_type": "markdown",
   "id": "a7777745",
   "metadata": {},
   "source": [
    "# Review Movies"
   ]
  },
  {
   "cell_type": "markdown",
   "id": "955ba813",
   "metadata": {},
   "source": [
    "## Automatic check movies metadata"
   ]
  },
  {
   "cell_type": "markdown",
   "id": "efe6ffb4",
   "metadata": {},
   "source": [
    " Choose the review method"
   ]
  },
  {
   "cell_type": "code",
   "execution_count": null,
   "id": "97a9f527",
   "metadata": {},
   "outputs": [],
   "source": [
    "review_method = t1.choose_movie_review()"
   ]
  },
  {
   "cell_type": "markdown",
   "id": "5da36a8b",
   "metadata": {},
   "source": [
    "Check and update the movies information"
   ]
  },
  {
   "cell_type": "code",
   "execution_count": null,
   "id": "09068e14",
   "metadata": {},
   "outputs": [],
   "source": [
    "t1.check_movies_csv(db_info_dict, project, review_method)"
   ]
  },
  {
   "cell_type": "markdown",
   "id": "41b9c545",
   "metadata": {},
   "source": [
    "## Manually update movies metadata"
   ]
  },
  {
   "cell_type": "markdown",
   "id": "6426d23e",
   "metadata": {},
   "source": [
    "Select the range of movies to display"
   ]
  },
  {
   "cell_type": "code",
   "execution_count": null,
   "id": "ae7770e7",
   "metadata": {},
   "outputs": [],
   "source": [
    "movies_df, movies_range = t1.select_sheet_range(db_info_dict = db_info_dict,\n",
    "                                              orig_csv = \"local_movies_csv\"\n",
    "                                              )"
   ]
  },
  {
   "cell_type": "markdown",
   "id": "1e65c73b",
   "metadata": {},
   "source": [
    "Update the contents of the cells in the spreadsheet below as needed"
   ]
  },
  {
   "cell_type": "code",
   "execution_count": null,
   "id": "57690ef1",
   "metadata": {},
   "outputs": [],
   "source": [
    "movies_df_filtered, movies_sheet = t1.open_csv(df = movies_df, df_range = movies_range)\n",
    "movies_sheet"
   ]
  },
  {
   "cell_type": "markdown",
   "id": "716953ce",
   "metadata": {},
   "source": [
    "### Review and confirm the changes"
   ]
  },
  {
   "cell_type": "code",
   "execution_count": null,
   "id": "d5b2e6b9",
   "metadata": {},
   "outputs": [],
   "source": [
    "# Display the changes\n",
    "highlight_changes, movies_sheet_df = t1.display_changes(db_info_dict,\n",
    "                   isheet = movies_sheet, \n",
    "                   df_filtered = movies_df_filtered\n",
    "                   )\n",
    "highlight_changes"
   ]
  },
  {
   "cell_type": "code",
   "execution_count": null,
   "id": "09ab875a",
   "metadata": {},
   "outputs": [],
   "source": [
    "# Confirm or deny the changes\n",
    "t1.update_csv(db_info_dict, \n",
    "              project,\n",
    "              sheet_df = movies_sheet_df,\n",
    "              df = movies_df,\n",
    "              local_csv = \"local_movies_csv\",\n",
    "              serv_csv = \"server_movies_csv\"\n",
    "              )"
   ]
  },
  {
   "cell_type": "markdown",
   "id": "3cf45756",
   "metadata": {},
   "source": [
    "## Preview movies"
   ]
  },
  {
   "cell_type": "markdown",
   "id": "69091c62",
   "metadata": {},
   "source": [
    "### Retrieve info of movies available on the server"
   ]
  },
  {
   "cell_type": "code",
   "execution_count": null,
   "id": "bb241606",
   "metadata": {},
   "outputs": [],
   "source": [
    "available_movies_df = s_utils.retrieve_movie_info_from_server(\n",
    "    project = project,\n",
    "    db_info_dict = db_info_dict\n",
    ")"
   ]
  },
  {
   "cell_type": "markdown",
   "id": "00344db8",
   "metadata": {},
   "source": [
    "### Select movies to preview"
   ]
  },
  {
   "cell_type": "code",
   "execution_count": null,
   "id": "e2e19155",
   "metadata": {},
   "outputs": [],
   "source": [
    "movie_selected = t_utils.select_movie(available_movies_df)"
   ]
  },
  {
   "cell_type": "markdown",
   "id": "71fbd139",
   "metadata": {},
   "source": [
    "### Display the movie"
   ]
  },
  {
   "cell_type": "code",
   "execution_count": null,
   "id": "0730280e",
   "metadata": {},
   "outputs": [],
   "source": [
    "movie_display, movie_path = t_utils.preview_movie(\n",
    "    project = project,\n",
    "    db_info_dict = db_info_dict, \n",
    "    available_movies_df = available_movies_df, \n",
    "    movie_i = movie_selected.value\n",
    ")\n",
    "movie_display"
   ]
  },
  {
   "cell_type": "markdown",
   "id": "79099533",
   "metadata": {},
   "source": [
    "# Review species"
   ]
  },
  {
   "cell_type": "markdown",
   "id": "0413cdfc",
   "metadata": {},
   "source": [
    "## Check the species dataframe"
   ]
  },
  {
   "cell_type": "code",
   "execution_count": null,
   "id": "00997ff2",
   "metadata": {},
   "outputs": [],
   "source": [
    "species_sheet_df = t1.check_species_csv(db_info_dict= db_info_dict, project = project)"
   ]
  },
  {
   "cell_type": "markdown",
   "id": "849f3e5a",
   "metadata": {},
   "source": [
    "## Manually update species dataframe"
   ]
  },
  {
   "cell_type": "markdown",
   "id": "c2dc0831",
   "metadata": {},
   "source": [
    "Select the range of species to display"
   ]
  },
  {
   "cell_type": "code",
   "execution_count": null,
   "id": "3988d815",
   "metadata": {},
   "outputs": [],
   "source": [
    "species_df, species_range = t1.select_sheet_range(db_info_dict = db_info_dict,\n",
    "                                              orig_csv = \"local_species_csv\"\n",
    "                                              )"
   ]
  },
  {
   "cell_type": "markdown",
   "id": "8a96eb03",
   "metadata": {},
   "source": [
    "Update the contents of the cells in the spreadsheet below as needed"
   ]
  },
  {
   "cell_type": "code",
   "execution_count": null,
   "id": "79f75588",
   "metadata": {},
   "outputs": [],
   "source": [
    "species_df_filtered, species_sheet = t1.open_csv(df = species_df, df_range = species_range)\n",
    "species_sheet"
   ]
  },
  {
   "cell_type": "markdown",
   "id": "ced8d6db",
   "metadata": {},
   "source": [
    "### Review and confirm the changes"
   ]
  },
  {
   "cell_type": "code",
   "execution_count": null,
   "id": "081578ad",
   "metadata": {},
   "outputs": [],
   "source": [
    "# Display the changes\n",
    "highlight_changes, species_sheet_df = t1.display_changes(db_info_dict,\n",
    "                   isheet = species_sheet, \n",
    "                   df_filtered = species_df_filtered\n",
    "                   )\n",
    "highlight_changes"
   ]
  },
  {
   "cell_type": "code",
   "execution_count": null,
   "id": "6f647b56",
   "metadata": {},
   "outputs": [],
   "source": [
    "# Confirm or deny the changes\n",
    "t1.update_csv(db_info_dict, \n",
    "              project,\n",
    "              sheet_df = species_sheet_df,\n",
    "              df = species_df,\n",
    "              local_csv = \"local_species_csv\",\n",
    "              serv_csv = \"server_species_csv\"\n",
    "              )"
   ]
  },
  {
   "cell_type": "code",
   "execution_count": null,
   "id": "c0a0fd24",
   "metadata": {},
   "outputs": [],
   "source": [
    "#END"
   ]
  }
 ],
 "metadata": {
  "kernelspec": {
   "display_name": "Python 3 (ipykernel)",
   "language": "python",
   "name": "python3"
  },
  "language_info": {
   "codemirror_mode": {
    "name": "ipython",
    "version": 3
   },
   "file_extension": ".py",
   "mimetype": "text/x-python",
   "name": "python",
   "nbconvert_exporter": "python",
   "pygments_lexer": "ipython3",
   "version": "3.7.13"
  }
 },
 "nbformat": 4,
 "nbformat_minor": 5
}
