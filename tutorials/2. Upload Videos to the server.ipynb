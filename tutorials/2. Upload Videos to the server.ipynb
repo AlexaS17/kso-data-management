{
 "cells": [
  {
   "cell_type": "markdown",
   "id": "95aea466",
   "metadata": {},
   "source": [
    "<img align=\"left\" src=\"https://panoptes-uploads.zooniverse.org/project_avatar/86c23ca7-bbaa-4e84-8d8a-876819551431.png\" type=\"image/png\" height=100 width=100>\n",
    "</img>\n",
    "\n",
    "\n",
    "<h1 align=\"right\">KSO Tutorials #2: Update site and movies csv</h1>\n",
    "<h3 align=\"right\">Written by @jannesgg and @vykanton</h3>\n",
    "<h5 align=\"right\">Last updated: Nov 8th, 2021</h5>"
   ]
  },
  {
   "cell_type": "markdown",
   "id": "6f0fc779",
   "metadata": {},
   "source": [
    "# Set up and requirements"
   ]
  },
  {
   "cell_type": "markdown",
   "id": "ed3d9d14",
   "metadata": {},
   "source": [
    "Import Python packages"
   ]
  },
  {
   "cell_type": "code",
   "execution_count": null,
   "id": "46ca201f",
   "metadata": {},
   "outputs": [],
   "source": [
    "# Set the directory of the libraries\n",
    "import sys\n",
    "sys.path.append('..')\n",
    "\n",
    "# Set to display dataframes as interactive tables\n",
    "from itables import init_notebook_mode\n",
    "init_notebook_mode(all_interactive=True)\n",
    "\n",
    "# Import required modules\n",
    "import utils.tutorials_utils as t_utils\n",
    "import utils.server_utils as serv_utils\n",
    "import utils.t2_utils as t2\n",
    "\n",
    "print(\"Packages loaded successfully\")"
   ]
  },
  {
   "cell_type": "markdown",
   "id": "fdc7152a",
   "metadata": {},
   "source": [
    "### Choose your project"
   ]
  },
  {
   "cell_type": "code",
   "execution_count": null,
   "id": "1c1aabda",
   "metadata": {},
   "outputs": [],
   "source": [
    "project = t_utils.choose_project()"
   ]
  },
  {
   "cell_type": "code",
   "execution_count": null,
   "id": "1d0716b2",
   "metadata": {},
   "outputs": [],
   "source": [
    "# Specify the path of the sql database\n",
    "db_path = \"koster_lab.db\"\n",
    "\n",
    "# Initiate the sql db\n",
    "init_db(db_path)\n",
    "\n",
    "# Get the location of the csv files with initial info to populate the db\n",
    "sites_csv, movies_csv, species_csv = serv_utils.get_sites_movies_species()"
   ]
  },
  {
   "cell_type": "markdown",
   "id": "52f976b8",
   "metadata": {},
   "source": [
    "### Check the sites_csv"
   ]
  },
  {
   "cell_type": "code",
   "execution_count": null,
   "id": "cf47c110",
   "metadata": {},
   "outputs": [],
   "source": [
    "check_sites_csv(sites_csv, db_path)"
   ]
  },
  {
   "cell_type": "code",
   "execution_count": null,
   "id": "43236070",
   "metadata": {},
   "outputs": [],
   "source": [
    "import utils.db_utils as db_utils\n",
    "import utils.koster_utils as koster_utils\n",
    "import utils.spyfish_utils as spyfish_utils\n",
    "import utils.movie_utils as movie_utils\n",
    "\n",
    "\n",
    "def check_sites_csv(sites_csv, db_path):\n",
    "\n",
    "    # Load the csv with sites information\n",
    "    sites_df = pd.read_csv(sites_csv)\n",
    "    \n",
    "    # Select relevant fields\n",
    "    sites_df = sites_df[\n",
    "        [\"site_id\", \"siteName\", \"decimalLatitude\", \"decimalLongitude\", \"geodeticDatum\", \"countryCode\"]\n",
    "    ]\n",
    "    \n",
    "    # Roadblock to prevent empty lat/long/datum/countrycode\n",
    "    db_utils.test_table(\n",
    "        sites_df, \"sites\", sites_df.columns\n",
    "    )\n",
    "\n",
    "    # Add values to sites table\n",
    "    db_utils.add_to_table(\n",
    "        db_path, \"sites\", [tuple(i) for i in sites_df.values], 6\n",
    "    )\n",
    "    "
   ]
  },
  {
   "cell_type": "markdown",
   "id": "4b134a5c",
   "metadata": {},
   "source": [
    "### Check the movies_csv"
   ]
  },
  {
   "cell_type": "code",
   "execution_count": null,
   "id": "b78b2738",
   "metadata": {},
   "outputs": [],
   "source": [
    "check_movies_csv(movies_csv, movies_path, project_name, db_path)"
   ]
  },
  {
   "cell_type": "markdown",
   "id": "9590b2f5",
   "metadata": {},
   "source": [
    "### Check the movies in server"
   ]
  },
  {
   "cell_type": "code",
   "execution_count": 16,
   "id": "93c07a90-5004-444b-b5b3-9e983d86c82b",
   "metadata": {},
   "outputs": [
    {
     "data": {
      "application/vnd.jupyter.widget-view+json": {
       "model_id": "558ff6d097244f02ab24077349ef7a9b",
       "version_major": 2,
       "version_minor": 0
      },
      "text/plain": [
       "FileUpload(value={}, accept='.mpg', description='Upload', multiple=True)"
      ]
     },
     "metadata": {},
     "output_type": "display_data"
    },
    {
     "data": {
      "application/vnd.jupyter.widget-view+json": {
       "model_id": "d643cb6251814ccd834c509cbcdf147f",
       "version_major": 2,
       "version_minor": 0
      },
      "text/plain": [
       "Output()"
      ]
     },
     "metadata": {},
     "output_type": "display_data"
    }
   ],
   "source": [
    "from utils import t2_utils as t2\n",
    "t2.upload_movies1()"
   ]
  },
  {
   "cell_type": "code",
   "execution_count": 10,
   "id": "8c7154f2-b115-4a2b-9104-5da139349a81",
   "metadata": {},
   "outputs": [
    {
     "name": "stdout",
     "output_type": "stream",
     "text": [
      "C:\\Users\\Victor\\koster_data_management\n"
     ]
    }
   ],
   "source": [
    "cd .."
   ]
  },
  {
   "cell_type": "markdown",
   "id": "148dba7e-189d-43f0-bf11-009bbab9a161",
   "metadata": {},
   "source": [
    "### Step 2: Specify the location and metadata of the movies"
   ]
  },
  {
   "cell_type": "code",
   "execution_count": null,
   "id": "3c4a49ce-1264-4df1-8770-1d98c3b5effa",
   "metadata": {},
   "outputs": [],
   "source": []
  }
 ],
 "metadata": {
  "kernelspec": {
   "display_name": "Python 3",
   "language": "python",
   "name": "python3"
  },
  "language_info": {
   "codemirror_mode": {
    "name": "ipython",
    "version": 3
   },
   "file_extension": ".py",
   "mimetype": "text/x-python",
   "name": "python",
   "nbconvert_exporter": "python",
   "pygments_lexer": "ipython3",
   "version": "3.8.8"
  }
 },
 "nbformat": 4,
 "nbformat_minor": 5
}
