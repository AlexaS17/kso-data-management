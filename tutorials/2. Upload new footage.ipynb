{
 "cells": [
  {
   "cell_type": "markdown",
   "id": "95aea466",
   "metadata": {},
   "source": [
    "<img align=\"left\" src=\"https://panoptes-uploads.zooniverse.org/project_avatar/86c23ca7-bbaa-4e84-8d8a-876819551431.png\" type=\"image/png\" height=100 width=100>\n",
    "</img>\n",
    "\n",
    "\n",
    "<h1 align=\"right\">KSO Tutorials #2: Upload new footage</h1>\n",
    "<h3 align=\"right\">Written by @jannesgg and @vykanton</h3>\n",
    "<h5 align=\"right\">Last updated: Apr 26th, 2022</h5>"
   ]
  },
  {
   "cell_type": "markdown",
   "id": "6f0fc779",
   "metadata": {},
   "source": [
    "# Set up and requirements"
   ]
  },
  {
   "cell_type": "markdown",
   "id": "ed3d9d14",
   "metadata": {},
   "source": [
    "## Import Python packages"
   ]
  },
  {
   "cell_type": "code",
   "execution_count": null,
   "id": "46ca201f",
   "metadata": {
    "scrolled": true
   },
   "outputs": [],
   "source": [
    "%load_ext autoreload\n",
    "%autoreload 2\n",
    "\n",
    "# Set the directory of the libraries\n",
    "import sys\n",
    "sys.path.append('..')\n",
    "\n",
    "# Set to display dataframes as interactive tables\n",
    "from itables import init_notebook_mode\n",
    "init_notebook_mode(all_interactive=True)\n",
    "\n",
    "# Import required modules\n",
    "import kso_utils.tutorials_utils as t_utils\n",
    "import kso_utils.t2_utils as t2\n",
    "import kso_utils.project_utils as p_utils\n",
    "#import utils.server_utils as serv_utils\n",
    "\n",
    "print(\"Packages loaded successfully\")"
   ]
  },
  {
   "cell_type": "markdown",
   "id": "77996901",
   "metadata": {},
   "source": [
    "## Choose your project"
   ]
  },
  {
   "cell_type": "code",
   "execution_count": null,
   "id": "eafe82e7",
   "metadata": {},
   "outputs": [],
   "source": [
    "project_name = t_utils.choose_project()"
   ]
  },
  {
   "cell_type": "code",
   "execution_count": null,
   "id": "28ed650d",
   "metadata": {},
   "outputs": [],
   "source": [
    "project = p_utils.find_project(project_name=project_name.value)"
   ]
  },
  {
   "cell_type": "markdown",
   "id": "46c3d19e",
   "metadata": {},
   "source": [
    "### Initiate sql and get server or local storage details"
   ]
  },
  {
   "cell_type": "code",
   "execution_count": null,
   "id": "33d744a9",
   "metadata": {},
   "outputs": [],
   "source": [
    "db_info_dict = t_utils.initiate_db(project)"
   ]
  },
  {
   "cell_type": "markdown",
   "id": "1a9ffb27",
   "metadata": {},
   "source": [
    "# Select the survey linked to the deployment"
   ]
  },
  {
   "cell_type": "code",
   "execution_count": null,
   "id": "a2d26b4f",
   "metadata": {},
   "outputs": [],
   "source": [
    "survey_i = t2.select_survey(db_info_dict)"
   ]
  },
  {
   "cell_type": "code",
   "execution_count": null,
   "id": "eeaf83b5",
   "metadata": {},
   "outputs": [],
   "source": [
    "survey_name = t2.confirm_survey(survey_i, \n",
    "                                db_info_dict)"
   ]
  },
  {
   "cell_type": "markdown",
   "id": "b597f250",
   "metadata": {},
   "source": [
    "## Select new deployments"
   ]
  },
  {
   "cell_type": "markdown",
   "id": "8487998e",
   "metadata": {},
   "source": [
    "To save time you can select multiple deployments **recorded on the same day**"
   ]
  },
  {
   "cell_type": "code",
   "execution_count": null,
   "id": "d824b647",
   "metadata": {},
   "outputs": [],
   "source": [
    "deployment_selected, survey_row, survey_server_name = t2.select_deployment(\n",
    "    project = project,\n",
    "    db_info_dict = db_info_dict,\n",
    "    survey_i = survey_i\n",
    ")"
   ]
  },
  {
   "cell_type": "markdown",
   "id": "58c71039",
   "metadata": {},
   "source": [
    "## Specify the date of the deployments"
   ]
  },
  {
   "cell_type": "code",
   "execution_count": null,
   "id": "95eacb06",
   "metadata": {},
   "outputs": [],
   "source": [
    "deployment_date = t2.select_eventdate(survey_row)"
   ]
  },
  {
   "cell_type": "markdown",
   "id": "3b2c8b74",
   "metadata": {},
   "source": [
    "## Check the database to avoid deployment duplicates"
   ]
  },
  {
   "cell_type": "code",
   "execution_count": null,
   "id": "d407bfff",
   "metadata": {},
   "outputs": [],
   "source": [
    "deployment_names = t2.check_deployment(\n",
    "    deployment_selected, \n",
    "    deployment_date, \n",
    "    survey_server_name, \n",
    "    db_info_dict, \n",
    "    survey_i\n",
    ")"
   ]
  },
  {
   "cell_type": "markdown",
   "id": "fff0d73f",
   "metadata": {},
   "source": [
    "## Update new deployment files"
   ]
  },
  {
   "cell_type": "code",
   "execution_count": null,
   "id": "c3c7e7f0",
   "metadata": {},
   "outputs": [],
   "source": [
    "movie_files_server = t2.update_new_deployments(\n",
    "    deployment_names, \n",
    "    db_info_dict, \n",
    "    survey_server_name\n",
    ")"
   ]
  },
  {
   "cell_type": "markdown",
   "id": "5a9faf7c",
   "metadata": {},
   "source": [
    "## Specify deployment details"
   ]
  },
  {
   "cell_type": "code",
   "execution_count": null,
   "id": "14ca7029",
   "metadata": {
    "scrolled": true
   },
   "outputs": [],
   "source": [
    "deployment_info = t2.record_deployment_info(\n",
    "    deployment_names, \n",
    "    db_info_dict\n",
    ")"
   ]
  },
  {
   "cell_type": "markdown",
   "id": "08a5b78d",
   "metadata": {},
   "source": [
    "## Review deployment  details"
   ]
  },
  {
   "cell_type": "code",
   "execution_count": null,
   "id": "463e7131",
   "metadata": {},
   "outputs": [],
   "source": [
    "new_deployment_row = t2.confirm_deployment_details(\n",
    "    deployment_names, \n",
    "    survey_server_name, \n",
    "    db_info_dict, \n",
    "    survey_i, \n",
    "    deployment_info,\n",
    "    movie_files_server,\n",
    "    deployment_date\n",
    ")"
   ]
  },
  {
   "cell_type": "markdown",
   "id": "098afca0",
   "metadata": {},
   "source": [
    "# !!!Only pass this point if deployment details are correct!!!"
   ]
  },
  {
   "cell_type": "markdown",
   "id": "21e2d0b9",
   "metadata": {},
   "source": [
    "### Update movies csv and upload video to s3"
   ]
  },
  {
   "cell_type": "code",
   "execution_count": null,
   "id": "549375bf",
   "metadata": {},
   "outputs": [],
   "source": [
    "t2.upload_concat_movie(\n",
    "    db_info_dict,\n",
    "    new_deployment_row\n",
    ")"
   ]
  },
  {
   "cell_type": "code",
   "execution_count": null,
   "id": "a004889d",
   "metadata": {},
   "outputs": [],
   "source": [
    "#END"
   ]
  }
 ],
 "metadata": {
  "kernelspec": {
   "display_name": "Python 3 (ipykernel)",
   "language": "python",
   "name": "python3"
  },
  "language_info": {
   "codemirror_mode": {
    "name": "ipython",
    "version": 3
   },
   "file_extension": ".py",
   "mimetype": "text/x-python",
   "name": "python",
   "nbconvert_exporter": "python",
   "pygments_lexer": "ipython3",
   "version": "3.7.13"
  }
 },
 "nbformat": 4,
 "nbformat_minor": 5
}
