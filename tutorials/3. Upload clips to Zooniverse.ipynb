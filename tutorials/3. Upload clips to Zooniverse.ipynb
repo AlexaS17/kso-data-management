{
 "cells": [
  {
   "cell_type": "markdown",
   "id": "b169b8d0",
   "metadata": {},
   "source": [
    "<img align=\"left\" src=\"https://panoptes-uploads.zooniverse.org/project_avatar/86c23ca7-bbaa-4e84-8d8a-876819551431.png\" type=\"image/png\" height=100 width=100>\n",
    "</img>\n",
    "<h1 align=\"right\">KSO Tutorials #3: Upload clips to Zooniverse</h1>\n",
    "<h3 align=\"right\">Written by @jannesgg and @vykanton</h3>\n",
    "<h5 align=\"right\">Last updated: Mar 22, 2022</h5>"
   ]
  },
  {
   "cell_type": "markdown",
   "id": "3ee20d67",
   "metadata": {},
   "source": [
    "# Set up and requirements"
   ]
  },
  {
   "cell_type": "markdown",
   "id": "896f0873",
   "metadata": {},
   "source": [
    "### Import Python packages"
   ]
  },
  {
   "cell_type": "code",
   "execution_count": 1,
   "id": "5451cddf",
   "metadata": {},
   "outputs": [
    {
     "data": {
      "application/javascript": [
       "require.config({\n",
       "    paths: {\n",
       "        datatables: 'https://cdn.datatables.net/1.10.19/js/jquery.dataTables.min',\n",
       "    }\n",
       "});\n",
       "\n",
       "$('head').append('<link rel=\"stylesheet\" type=\"text/css\" \\\n",
       "                href = \"https://cdn.datatables.net/1.10.19/css/jquery.dataTables.min.css\" > ');\n",
       "\n",
       "$('head').append('<style> table td { text-overflow: ellipsis; overflow: hidden; } </style>');\n",
       "\n",
       "$('head').append(`<script>\n",
       "function eval_functions(map_or_text) {\n",
       "    if (typeof map_or_text === \"string\") {\n",
       "        if (map_or_text.startsWith(\"function\")) {\n",
       "            try {\n",
       "                // Note: parenthesis are required around the whole expression for eval to return a value!\n",
       "                // See https://stackoverflow.com/a/7399078/911298.\n",
       "                //\n",
       "                // eval(\"local_fun = \" + map_or_text) would fail because local_fun is not declared\n",
       "                // (using var, let or const would work, but it would only be declared in the local scope\n",
       "                // and therefore the value could not be retrieved).\n",
       "                const func = eval(\"(\" + map_or_text + \")\");\n",
       "                if (typeof func !== \"function\") {\n",
       "                    // Note: backquotes are super convenient!\n",
       "                    // https://developer.mozilla.org/en-US/docs/Web/JavaScript/Reference/Template_literals\n",
       "                    console.error(\"Evaluated expression \" + map_or_text + \" is not a function (type is \" + typeof func + \")\");\n",
       "                    return map_or_text;\n",
       "                }\n",
       "                // Return the function\n",
       "                return func;\n",
       "            } catch (e) {\n",
       "                // Make sure to print the error with a second argument to console.error().\n",
       "                console.error(\"itables was not able to parse \" + map_or_text, e);\n",
       "            }\n",
       "        }\n",
       "    } else if (typeof map_or_text === \"object\") {\n",
       "        if (map_or_text instanceof Array) {\n",
       "            // Note: \"var\" is now superseded by \"let\" and \"const\".\n",
       "            // https://medium.com/javascript-scene/javascript-es6-var-let-or-const-ba58b8dcde75\n",
       "            const result = [];\n",
       "            // Note: \"for of\" is the best way to iterate through an iterable.\n",
       "            // https://developer.mozilla.org/en-US/docs/Web/JavaScript/Reference/Statements/for...of\n",
       "            for (const item of map_or_text) {\n",
       "                result.push(eval_functions(item));\n",
       "            }\n",
       "            return result;\n",
       "\n",
       "            // Alternatively, more functional approach in one line:\n",
       "            // return map_or_text.map(eval_functions);\n",
       "        } else {\n",
       "            const result = {};\n",
       "            // Object.keys() is safer than \"for in\" because otherwise you might have keys\n",
       "            // that aren't defined in the object itself.\n",
       "            //\n",
       "            // See https://stackoverflow.com/a/684692/911298.\n",
       "            for (const item of Object.keys(map_or_text)) {\n",
       "                result[item] = eval_functions(map_or_text[item]);\n",
       "            }\n",
       "            return result;\n",
       "        }\n",
       "    }\n",
       "\n",
       "    return map_or_text;\n",
       "}\n",
       "\n",
       "</` + 'script>');"
      ],
      "text/plain": [
       "<IPython.core.display.Javascript object>"
      ]
     },
     "metadata": {},
     "output_type": "display_data"
    },
    {
     "name": "stdout",
     "output_type": "stream",
     "text": [
      "Packages loaded successfully\n"
     ]
    }
   ],
   "source": [
    "# Set the directory of the libraries\n",
    "import sys\n",
    "sys.path.append('..')\n",
    "\n",
    "# Set to display dataframes as interactive tables\n",
    "from itables import init_notebook_mode\n",
    "init_notebook_mode(all_interactive=True)\n",
    "\n",
    "# Import required modules\n",
    "import kso_utils.tutorials_utils as t_utils\n",
    "import kso_utils.t3_utils as t3\n",
    "import kso_utils.project_utils as p_utils\n",
    "\n",
    "print(\"Packages loaded successfully\")"
   ]
  },
  {
   "cell_type": "markdown",
   "id": "8c51ffb6",
   "metadata": {},
   "source": [
    "### Choose your project"
   ]
  },
  {
   "cell_type": "code",
   "execution_count": 2,
   "id": "bfef12df",
   "metadata": {},
   "outputs": [
    {
     "data": {
      "application/vnd.jupyter.widget-view+json": {
       "model_id": "0ef78888b3a3476399459802b504b7bb",
       "version_major": 2,
       "version_minor": 0
      },
      "text/plain": [
       "Dropdown(description='Project:', options=('Koster_Seafloor_Obs', 'Spyfish_Aotearoa', 'SGU'), value='Koster_Sea…"
      ]
     },
     "metadata": {},
     "output_type": "display_data"
    }
   ],
   "source": [
    "project_name = t_utils.choose_project()"
   ]
  },
  {
   "cell_type": "code",
   "execution_count": 3,
   "id": "17729cf6",
   "metadata": {},
   "outputs": [],
   "source": [
    "project = p_utils.find_project(project_name=project_name.value)"
   ]
  },
  {
   "cell_type": "markdown",
   "id": "39f5065c",
   "metadata": {},
   "source": [
    "### Initiate sql and zoo project"
   ]
  },
  {
   "cell_type": "code",
   "execution_count": 4,
   "id": "8a7abc2f",
   "metadata": {
    "scrolled": true
   },
   "outputs": [
    {
     "name": "stdout",
     "output_type": "stream",
     "text": [
      "Enter your username for SNIC server········\n",
      "Enter your password for SNIC server········\n",
      "Updated sites\n",
      "Updated movies\n",
      "Updated species\n"
     ]
    }
   ],
   "source": [
    "# Initiate db\n",
    "db_info_dict = t_utils.initiate_db(project)"
   ]
  },
  {
   "cell_type": "code",
   "execution_count": null,
   "id": "10b4aa16",
   "metadata": {},
   "outputs": [],
   "source": [
    "# Connect to Zooniverse project\n",
    "zoo_project = t_utils.connect_zoo_project(project)"
   ]
  },
  {
   "cell_type": "markdown",
   "id": "50bac6cf",
   "metadata": {},
   "source": [
    "# Retrieve info about zooniverse clips"
   ]
  },
  {
   "cell_type": "code",
   "execution_count": null,
   "id": "0c2d059b",
   "metadata": {},
   "outputs": [],
   "source": [
    "zoo_info_dict = t_utils.retrieve__populate_zoo_info(project = project, \n",
    "                                                    db_info_dict = db_info_dict,\n",
    "                                                    zoo_project = zoo_project,\n",
    "                                                    zoo_info = [\"subjects\"])"
   ]
  },
  {
   "cell_type": "markdown",
   "id": "3bdb9ff9",
   "metadata": {},
   "source": [
    "# Retrieve info about movies hosted in the server"
   ]
  },
  {
   "cell_type": "code",
   "execution_count": null,
   "id": "0fc41573",
   "metadata": {},
   "outputs": [],
   "source": [
    "# Store info about the movies available in the server\n",
    "available_movies_df = t3.retrieve_movie_info_from_server(project = project,\n",
    "                                                         db_info_dict = db_info_dict)"
   ]
  },
  {
   "cell_type": "markdown",
   "id": "2dfc55a9",
   "metadata": {},
   "source": [
    "### Select the movie you want to upload to Zooniverse"
   ]
  },
  {
   "cell_type": "code",
   "execution_count": null,
   "id": "6667d092",
   "metadata": {},
   "outputs": [],
   "source": [
    "movie_i = t3.movie_to_upload(available_movies_df = available_movies_df)"
   ]
  },
  {
   "cell_type": "markdown",
   "id": "8175cc89",
   "metadata": {},
   "source": [
    "### Check if movie is already in Zooniverse"
   ]
  },
  {
   "cell_type": "markdown",
   "id": "c84c92bf",
   "metadata": {},
   "source": [
    "Remember to query the newest zooniverse data to get the most up to date list of clips uploaded"
   ]
  },
  {
   "cell_type": "code",
   "execution_count": null,
   "id": "dbe6b212",
   "metadata": {},
   "outputs": [],
   "source": [
    "# Check movie hasn't been uploaded to Zooniverse\n",
    "t3.check_movie_uploaded(movie_i = movie_i.value,\n",
    "                        db_info_dict = db_info_dict)"
   ]
  },
  {
   "cell_type": "markdown",
   "id": "8812e34c",
   "metadata": {},
   "source": [
    "### Specify the number of clips and clip length"
   ]
  },
  {
   "cell_type": "code",
   "execution_count": null,
   "id": "1fe5e435",
   "metadata": {},
   "outputs": [],
   "source": [
    "clip_selection = t3.select_clip_n_len(movie_i = movie_i.value,\n",
    "                                      db_info_dict = db_info_dict)"
   ]
  },
  {
   "cell_type": "markdown",
   "id": "921d56f6",
   "metadata": {},
   "source": [
    "### Review the clips that will be created"
   ]
  },
  {
   "cell_type": "code",
   "execution_count": null,
   "id": "7d72f0d6",
   "metadata": {},
   "outputs": [],
   "source": [
    "t3.review_clip_selection(clip_selection = clip_selection, \n",
    "                         movie_i = movie_i.value)"
   ]
  },
  {
   "cell_type": "markdown",
   "id": "04e58c56",
   "metadata": {},
   "source": [
    "### Create the clips"
   ]
  },
  {
   "cell_type": "code",
   "execution_count": null,
   "id": "28dbcd14",
   "metadata": {},
   "outputs": [],
   "source": [
    "clips_to_upload_df = t3.create_clips(available_movies_df = available_movies_df, \n",
    "                                     movie_i = movie_i.value,\n",
    "                                     db_info_dict = db_info_dict,\n",
    "                                     clip_selection = clip_selection,  \n",
    "                                     project = project)"
   ]
  },
  {
   "cell_type": "markdown",
   "id": "01a91bb9",
   "metadata": {},
   "source": [
    "Make sure your workflows in Zooniverse have different names to avoid issues while selecting the workflow id"
   ]
  },
  {
   "cell_type": "markdown",
   "id": "d9ab084e",
   "metadata": {},
   "source": [
    "### Review clips"
   ]
  },
  {
   "cell_type": "code",
   "execution_count": null,
   "id": "80c3e27f",
   "metadata": {},
   "outputs": [],
   "source": [
    "# Review the size of the modified clips\n",
    "t3.check_clip_size(clips_df = clips_to_upload_df)"
   ]
  },
  {
   "cell_type": "markdown",
   "id": "7b5c47b9",
   "metadata": {},
   "source": [
    "### Video modifications"
   ]
  },
  {
   "cell_type": "code",
   "execution_count": null,
   "id": "a55b60c2",
   "metadata": {},
   "outputs": [],
   "source": [
    "# Select the video modification\n",
    "clip_modification = t3.select_modification()"
   ]
  },
  {
   "cell_type": "code",
   "execution_count": null,
   "id": "6361c9b7",
   "metadata": {
    "scrolled": true
   },
   "outputs": [],
   "source": [
    "# Modify the clips\n",
    "clips_ready_df = t3.modify_clips(clips_to_upload_df = clips_to_upload_df.reset_index(drop=True), \n",
    "                                 movie_i = movie_i.value,\n",
    "                                 clip_modification = clip_modification.label, \n",
    "                                 modification_details = clip_modification.value,\n",
    "                                 project = project)"
   ]
  },
  {
   "cell_type": "code",
   "execution_count": null,
   "id": "76f78189",
   "metadata": {},
   "outputs": [],
   "source": [
    "# Review the size of the modified clips\n",
    "t3.check_clip_size(clips_df = clips_ready_df)"
   ]
  },
  {
   "cell_type": "code",
   "execution_count": null,
   "id": "16a0aff8",
   "metadata": {},
   "outputs": [],
   "source": [
    "# Compare the original and modified clips\n",
    "t3.compare_clips(df = clips_ready_df)"
   ]
  },
  {
   "cell_type": "markdown",
   "id": "c766c5f6",
   "metadata": {},
   "source": [
    "### Set Zooniverse metadata"
   ]
  },
  {
   "cell_type": "code",
   "execution_count": null,
   "id": "6d474d60",
   "metadata": {},
   "outputs": [],
   "source": [
    "upload_to_zoo, sitename, created_on = t3.set_zoo_metadata(db_info_dict = db_info_dict, \n",
    "                                                          df = clips_ready_df,\n",
    "                                                          project = project)"
   ]
  },
  {
   "cell_type": "markdown",
   "id": "0d1d4f1f",
   "metadata": {},
   "source": [
    "### Upload clips to Zooniverse"
   ]
  },
  {
   "cell_type": "markdown",
   "id": "92930b3e",
   "metadata": {},
   "source": [
    "You may receive an error message related to file size if clips exceed the recommended limit for Zooniverse uploads. In this case, we recommend shortening the clip length to achieve a suitable filesize."
   ]
  },
  {
   "cell_type": "code",
   "execution_count": null,
   "id": "417a49b7",
   "metadata": {},
   "outputs": [],
   "source": [
    "t3.upload_clips_to_zooniverse(upload_to_zoo = upload_to_zoo, \n",
    "                              sitename = sitename,\n",
    "                              created_on = created_on,\n",
    "                              project = project.Zooniverse_number)"
   ]
  },
  {
   "cell_type": "code",
   "execution_count": null,
   "id": "2bc1a28e",
   "metadata": {},
   "outputs": [],
   "source": [
    "#END"
   ]
  }
 ],
 "metadata": {
  "kernelspec": {
   "display_name": "Python 3 (ipykernel)",
   "language": "python",
   "name": "python3"
  },
  "language_info": {
   "codemirror_mode": {
    "name": "ipython",
    "version": 3
   },
   "file_extension": ".py",
   "mimetype": "text/x-python",
   "name": "python",
   "nbconvert_exporter": "python",
   "pygments_lexer": "ipython3",
   "version": "3.8.13"
  }
 },
 "nbformat": 4,
 "nbformat_minor": 5
}
