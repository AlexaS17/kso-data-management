{
 "cells": [
  {
   "cell_type": "markdown",
   "id": "b169b8d0",
   "metadata": {},
   "source": [
    "<img align=\"left\" src=\"https://panoptes-uploads.zooniverse.org/project_avatar/86c23ca7-bbaa-4e84-8d8a-876819551431.png\" type=\"image/png\" height=100 width=100>\n",
    "</img>\n",
    "<h1 align=\"right\">KSO Tutorials #3: Upload clips to Zooniverse</h1>\n",
    "<h3 align=\"right\">Written by @jannesgg and @vykanton</h3>\n",
    "<h5 align=\"right\">Last updated: Apr 20, 2022</h5>"
   ]
  },
  {
   "cell_type": "markdown",
   "id": "3ee20d67",
   "metadata": {},
   "source": [
    "# Set up and requirements"
   ]
  },
  {
   "cell_type": "markdown",
   "id": "896f0873",
   "metadata": {},
   "source": [
    "### Import Python packages"
   ]
  },
  {
   "cell_type": "code",
   "execution_count": null,
   "id": "5451cddf",
   "metadata": {},
   "outputs": [],
   "source": [
    "%load_ext autoreload\n",
    "%autoreload 2\n",
    "\n",
    "# Set the directory of the libraries\n",
    "import sys\n",
    "sys.path.append('..')\n",
    "\n",
    "# Import required modules\n",
    "import kso_utils.tutorials_utils as t_utils\n",
    "import kso_utils.t3_utils as t3\n",
    "import kso_utils.project_utils as p_utils\n",
    "import kso_utils.server_utils as s_utils\n",
    "\n",
    "print(\"Packages loaded successfully\")"
   ]
  },
  {
   "cell_type": "markdown",
   "id": "8c51ffb6",
   "metadata": {},
   "source": [
    "### Choose your project"
   ]
  },
  {
   "cell_type": "code",
   "execution_count": null,
   "id": "bfef12df",
   "metadata": {},
   "outputs": [],
   "source": [
    "project_name = t_utils.choose_project()"
   ]
  },
  {
   "cell_type": "code",
   "execution_count": null,
   "id": "17729cf6",
   "metadata": {},
   "outputs": [],
   "source": [
    "project = p_utils.find_project(project_name=project_name.value)"
   ]
  },
  {
   "cell_type": "markdown",
   "id": "39f5065c",
   "metadata": {},
   "source": [
    "### Initiate sql and zoo project"
   ]
  },
  {
   "cell_type": "code",
   "execution_count": null,
   "id": "8a7abc2f",
   "metadata": {
    "scrolled": true
   },
   "outputs": [],
   "source": [
    "# Initiate db\n",
    "db_info_dict = t_utils.initiate_db(project)"
   ]
  },
  {
   "cell_type": "code",
   "execution_count": null,
   "id": "10b4aa16",
   "metadata": {},
   "outputs": [],
   "source": [
    "# Connect to Zooniverse project\n",
    "zoo_project = t_utils.connect_zoo_project(project)"
   ]
  },
  {
   "cell_type": "markdown",
   "id": "50bac6cf",
   "metadata": {},
   "source": [
    "### Retrieve info about zooniverse clips"
   ]
  },
  {
   "cell_type": "code",
   "execution_count": null,
   "id": "0c2d059b",
   "metadata": {},
   "outputs": [],
   "source": [
    "zoo_info_dict = t_utils.retrieve__populate_zoo_info(\n",
    "    project = project, \n",
    "    db_info_dict = db_info_dict,\n",
    "    zoo_project = zoo_project,\n",
    "    zoo_info = [\"subjects\"]\n",
    ")"
   ]
  },
  {
   "cell_type": "markdown",
   "id": "3bdb9ff9",
   "metadata": {},
   "source": [
    "### Retrieve info about movies hosted in the server"
   ]
  },
  {
   "cell_type": "code",
   "execution_count": null,
   "id": "0fc41573",
   "metadata": {},
   "outputs": [],
   "source": [
    "# Store info about the movies available in the server\n",
    "available_movies_df = s_utils.retrieve_movie_info_from_server(\n",
    "    project = project,\n",
    "    db_info_dict = db_info_dict\n",
    ")"
   ]
  },
  {
   "cell_type": "markdown",
   "id": "f83cad9f",
   "metadata": {},
   "source": [
    "# Select the movie of interest"
   ]
  },
  {
   "cell_type": "markdown",
   "id": "2dfc55a9",
   "metadata": {},
   "source": [
    "### Select the movie you want to upload to Zooniverse"
   ]
  },
  {
   "cell_type": "code",
   "execution_count": null,
   "id": "2c626281",
   "metadata": {},
   "outputs": [],
   "source": [
    "movie_selected = t3.select_movie(available_movies_df)"
   ]
  },
  {
   "cell_type": "markdown",
   "id": "304a0831",
   "metadata": {},
   "source": [
    "### Preview the movie selected"
   ]
  },
  {
   "cell_type": "code",
   "execution_count": null,
   "id": "35b496a7",
   "metadata": {},
   "outputs": [],
   "source": [
    "movie_display, movie_path = t_utils.preview_movie(\n",
    "    project = project,\n",
    "    db_info_dict = db_info_dict, \n",
    "    available_movies_df = available_movies_df, \n",
    "    movie_i = movie_selected.value\n",
    ")\n",
    "movie_display"
   ]
  },
  {
   "cell_type": "markdown",
   "id": "8175cc89",
   "metadata": {},
   "source": [
    "### Check if movie is already in Zooniverse"
   ]
  },
  {
   "cell_type": "markdown",
   "id": "c84c92bf",
   "metadata": {},
   "source": [
    "Remember to query the newest zooniverse data to get the most up to date list of clips uploaded"
   ]
  },
  {
   "cell_type": "code",
   "execution_count": null,
   "id": "dbe6b212",
   "metadata": {},
   "outputs": [],
   "source": [
    "t3.check_movie_uploaded(\n",
    "    movie_i = movie_selected.value,\n",
    "    db_info_dict = db_info_dict\n",
    ")"
   ]
  },
  {
   "cell_type": "markdown",
   "id": "cc890180",
   "metadata": {},
   "source": [
    "# Create some clip examples"
   ]
  },
  {
   "cell_type": "markdown",
   "id": "3974eef7",
   "metadata": {},
   "source": [
    "### Create a few clip examples"
   ]
  },
  {
   "cell_type": "markdown",
   "id": "2de12a0a",
   "metadata": {},
   "source": [
    "Test different parameters (e.g. compression rate, color modifications) in randomly selected clip examples"
   ]
  },
  {
   "cell_type": "code",
   "execution_count": null,
   "id": "f84b54b4",
   "metadata": {},
   "outputs": [],
   "source": [
    "random_clip_selection = t3.select_random_clips(\n",
    "    movie_i = movie_selected.value,\n",
    "    db_info_dict = db_info_dict\n",
    ")"
   ]
  },
  {
   "cell_type": "code",
   "execution_count": null,
   "id": "01c918d2",
   "metadata": {},
   "outputs": [],
   "source": [
    "example_clips = t3.create_example_clips(\n",
    "    movie_i = movie_selected.value,\n",
    "    movie_path = movie_path,\n",
    "    db_info_dict = db_info_dict,\n",
    "    project = project,\n",
    "    clip_selection = random_clip_selection\n",
    ")"
   ]
  },
  {
   "cell_type": "markdown",
   "id": "acff4982",
   "metadata": {},
   "source": [
    "### Review the size of the clip examples"
   ]
  },
  {
   "cell_type": "code",
   "execution_count": null,
   "id": "6e480e6d",
   "metadata": {},
   "outputs": [],
   "source": [
    "t3.check_clip_size(clips_list = example_clips)"
   ]
  },
  {
   "cell_type": "markdown",
   "id": "3b26f691",
   "metadata": {},
   "source": [
    "### Select the clip modification"
   ]
  },
  {
   "cell_type": "code",
   "execution_count": null,
   "id": "56cb70fb",
   "metadata": {},
   "outputs": [],
   "source": [
    "clip_modification = t3.clip_modification_widget()\n",
    "clip_modification"
   ]
  },
  {
   "cell_type": "markdown",
   "id": "afce0c01",
   "metadata": {},
   "source": [
    "### Specify the GPU availability"
   ]
  },
  {
   "cell_type": "code",
   "execution_count": null,
   "id": "8e2ce42e",
   "metadata": {},
   "outputs": [],
   "source": [
    "gpu_available = t3.gpu_select()"
   ]
  },
  {
   "cell_type": "markdown",
   "id": "880ffbd7",
   "metadata": {},
   "source": [
    "### Modify the clip examples"
   ]
  },
  {
   "cell_type": "code",
   "execution_count": null,
   "id": "53f291d6",
   "metadata": {},
   "outputs": [],
   "source": [
    "modified_clips = t3.create_modified_clips(\n",
    "    clips_list = example_clips,\n",
    "    movie_i = movie_selected.value,\n",
    "    modification_details = clip_modification.checks,\n",
    "    project = project,\n",
    "    gpu_available = gpu_available.result\n",
    ")"
   ]
  },
  {
   "cell_type": "markdown",
   "id": "daebab9e",
   "metadata": {},
   "source": [
    "### Review the size of the modified clips"
   ]
  },
  {
   "cell_type": "code",
   "execution_count": null,
   "id": "16cfc46a",
   "metadata": {},
   "outputs": [],
   "source": [
    "t3.check_clip_size(clips_list = modified_clips)"
   ]
  },
  {
   "cell_type": "markdown",
   "id": "b88e9dbc",
   "metadata": {},
   "source": [
    "### Compare the clips"
   ]
  },
  {
   "cell_type": "code",
   "execution_count": null,
   "id": "36c18243",
   "metadata": {},
   "outputs": [],
   "source": [
    "t3.compare_clips(\n",
    "    random_clips = random_clips,\n",
    "    modified_clips = modified_clips\n",
    ")"
   ]
  },
  {
   "cell_type": "markdown",
   "id": "0a3e5b08",
   "metadata": {},
   "source": [
    "# Create the clips to upload to Zooniverse"
   ]
  },
  {
   "cell_type": "markdown",
   "id": "e2b8f2e3",
   "metadata": {},
   "source": [
    "### Preview the movie selected"
   ]
  },
  {
   "cell_type": "code",
   "execution_count": null,
   "id": "05029044",
   "metadata": {},
   "outputs": [],
   "source": [
    "movie_display"
   ]
  },
  {
   "cell_type": "markdown",
   "id": "8812e34c",
   "metadata": {},
   "source": [
    "### Specify the number of clips and clip length"
   ]
  },
  {
   "cell_type": "code",
   "execution_count": null,
   "id": "1fe5e435",
   "metadata": {},
   "outputs": [],
   "source": [
    "clip_selection = t3.select_clip_n_len(\n",
    "    movie_i = movie_selected.value,\n",
    "    db_info_dict = db_info_dict\n",
    ")"
   ]
  },
  {
   "cell_type": "markdown",
   "id": "921d56f6",
   "metadata": {},
   "source": [
    "### Review the clips that will be created"
   ]
  },
  {
   "cell_type": "code",
   "execution_count": null,
   "id": "7d72f0d6",
   "metadata": {},
   "outputs": [],
   "source": [
    "t3.review_clip_selection(\n",
    "    clip_selection = clip_selection, \n",
    "    movie_i = movie_selected.value,\n",
    "    clip_modification = clip_modification\n",
    ")"
   ]
  },
  {
   "cell_type": "markdown",
   "id": "04e58c56",
   "metadata": {},
   "source": [
    "### Create the clips"
   ]
  },
  {
   "cell_type": "code",
   "execution_count": null,
   "id": "28dbcd14",
   "metadata": {},
   "outputs": [],
   "source": [
    "clips_to_upload_df = t3.create_clips(\n",
    "    available_movies_df = available_movies_df, \n",
    "    movie_i = movie_selected.value,\n",
    "    movie_path = movie_path,\n",
    "    db_info_dict = db_info_dict,\n",
    "    clip_selection = clip_selection, \n",
    "    project = project, \n",
    "    modification_details = clip_modification.checks,\n",
    "    gpu_available = gpu_available.result\n",
    ")"
   ]
  },
  {
   "cell_type": "markdown",
   "id": "d9ab084e",
   "metadata": {},
   "source": [
    "### Review the size of the clips"
   ]
  },
  {
   "cell_type": "code",
   "execution_count": null,
   "id": "80c3e27f",
   "metadata": {},
   "outputs": [],
   "source": [
    "t3.check_clip_size(clips_df = clips_to_upload_df)"
   ]
  },
  {
   "cell_type": "markdown",
   "id": "c766c5f6",
   "metadata": {},
   "source": [
    "### Set Zooniverse metadata"
   ]
  },
  {
   "cell_type": "markdown",
   "id": "01a91bb9",
   "metadata": {},
   "source": [
    "Make sure your workflows in Zooniverse have different names to avoid issues while selecting the workflow id"
   ]
  },
  {
   "cell_type": "code",
   "execution_count": null,
   "id": "6d474d60",
   "metadata": {},
   "outputs": [],
   "source": [
    "upload_to_zoo, sitename, created_on = t3.set_zoo_metadata(\n",
    "    db_info_dict = db_info_dict, \n",
    "    df = clips_to_upload_df,\n",
    "    project = project\n",
    "    )"
   ]
  },
  {
   "cell_type": "markdown",
   "id": "0d1d4f1f",
   "metadata": {},
   "source": [
    "### Upload clips to Zooniverse"
   ]
  },
  {
   "cell_type": "markdown",
   "id": "92930b3e",
   "metadata": {},
   "source": [
    "You may receive an error message related to file size if clips exceed the recommended limit for Zooniverse uploads. In this case, we recommend shortening the clip length to achieve a suitable filesize."
   ]
  },
  {
   "cell_type": "code",
   "execution_count": null,
   "id": "417a49b7",
   "metadata": {},
   "outputs": [],
   "source": [
    "t3.upload_clips_to_zooniverse(\n",
    "    upload_to_zoo = upload_to_zoo, \n",
    "    sitename = sitename,\n",
    "    created_on = created_on,\n",
    "    project = project.Zooniverse_number\n",
    ")"
   ]
  },
  {
   "cell_type": "code",
   "execution_count": null,
   "id": "2bc1a28e",
   "metadata": {},
   "outputs": [],
   "source": [
    "#END"
   ]
  }
 ],
 "metadata": {
  "kernelspec": {
   "display_name": "Python 3 (ipykernel)",
   "language": "python",
   "name": "python3"
  },
  "language_info": {
   "codemirror_mode": {
    "name": "ipython",
    "version": 3
   },
   "file_extension": ".py",
   "mimetype": "text/x-python",
   "name": "python",
   "nbconvert_exporter": "python",
   "pygments_lexer": "ipython3",
   "version": "3.7.13"
  }
 },
 "nbformat": 4,
 "nbformat_minor": 5
}
