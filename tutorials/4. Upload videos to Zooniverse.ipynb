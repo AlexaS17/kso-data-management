{
 "cells": [
  {
   "cell_type": "markdown",
   "id": "b169b8d0",
   "metadata": {},
   "source": [
    "<img align=\"left\" src=\"https://panoptes-uploads.zooniverse.org/project_avatar/86c23ca7-bbaa-4e84-8d8a-876819551431.png\" type=\"image/png\" height=100 width=100>\n",
    "</img>\n",
    "<h1 align=\"right\">KSO Tutorials #4: Add new clips to a Zooniverse workflow</h1>\n",
    "<h3 align=\"right\">Written by @jannesgg and @vykanton</h3>\n",
    "<h5 align=\"right\">Last updated: Nov 25th, 2021</h5>"
   ]
  },
  {
   "cell_type": "markdown",
   "id": "3ee20d67",
   "metadata": {},
   "source": [
    "# Set up and requirements"
   ]
  },
  {
   "cell_type": "markdown",
   "id": "896f0873",
   "metadata": {},
   "source": [
    "### Import Python packages"
   ]
  },
  {
   "cell_type": "code",
   "execution_count": 1,
   "id": "baking-sugar",
   "metadata": {},
   "outputs": [],
   "source": [
    "%load_ext autoreload\n",
    "%autoreload 2"
   ]
  },
  {
   "cell_type": "code",
   "execution_count": 2,
   "id": "5451cddf",
   "metadata": {},
   "outputs": [
    {
     "data": {
      "application/javascript": [
       "require.config({\n",
       "    paths: {\n",
       "        datatables: 'https://cdn.datatables.net/1.10.19/js/jquery.dataTables.min',\n",
       "    }\n",
       "});\n",
       "\n",
       "$('head').append('<link rel=\"stylesheet\" type=\"text/css\" \\\n",
       "                href = \"https://cdn.datatables.net/1.10.19/css/jquery.dataTables.min.css\" > ');\n",
       "\n",
       "$('head').append('<style> table td { text-overflow: ellipsis; overflow: hidden; } </style>');\n",
       "\n",
       "$('head').append(`<script>\n",
       "function eval_functions(map_or_text) {\n",
       "    if (typeof map_or_text === \"string\") {\n",
       "        if (map_or_text.startsWith(\"function\")) {\n",
       "            try {\n",
       "                // Note: parenthesis are required around the whole expression for eval to return a value!\n",
       "                // See https://stackoverflow.com/a/7399078/911298.\n",
       "                //\n",
       "                // eval(\"local_fun = \" + map_or_text) would fail because local_fun is not declared\n",
       "                // (using var, let or const would work, but it would only be declared in the local scope\n",
       "                // and therefore the value could not be retrieved).\n",
       "                const func = eval(\"(\" + map_or_text + \")\");\n",
       "                if (typeof func !== \"function\") {\n",
       "                    // Note: backquotes are super convenient!\n",
       "                    // https://developer.mozilla.org/en-US/docs/Web/JavaScript/Reference/Template_literals\n",
       "                    console.error(\"Evaluated expression \" + map_or_text + \" is not a function (type is \" + typeof func + \")\");\n",
       "                    return map_or_text;\n",
       "                }\n",
       "                // Return the function\n",
       "                return func;\n",
       "            } catch (e) {\n",
       "                // Make sure to print the error with a second argument to console.error().\n",
       "                console.error(\"itables was not able to parse \" + map_or_text, e);\n",
       "            }\n",
       "        }\n",
       "    } else if (typeof map_or_text === \"object\") {\n",
       "        if (map_or_text instanceof Array) {\n",
       "            // Note: \"var\" is now superseded by \"let\" and \"const\".\n",
       "            // https://medium.com/javascript-scene/javascript-es6-var-let-or-const-ba58b8dcde75\n",
       "            const result = [];\n",
       "            // Note: \"for of\" is the best way to iterate through an iterable.\n",
       "            // https://developer.mozilla.org/en-US/docs/Web/JavaScript/Reference/Statements/for...of\n",
       "            for (const item of map_or_text) {\n",
       "                result.push(eval_functions(item));\n",
       "            }\n",
       "            return result;\n",
       "\n",
       "            // Alternatively, more functional approach in one line:\n",
       "            // return map_or_text.map(eval_functions);\n",
       "        } else {\n",
       "            const result = {};\n",
       "            // Object.keys() is safer than \"for in\" because otherwise you might have keys\n",
       "            // that aren't defined in the object itself.\n",
       "            //\n",
       "            // See https://stackoverflow.com/a/684692/911298.\n",
       "            for (const item of Object.keys(map_or_text)) {\n",
       "                result[item] = eval_functions(map_or_text[item]);\n",
       "            }\n",
       "            return result;\n",
       "        }\n",
       "    }\n",
       "\n",
       "    return map_or_text;\n",
       "}\n",
       "\n",
       "</` + 'script>');"
      ],
      "text/plain": [
       "<IPython.core.display.Javascript object>"
      ]
     },
     "metadata": {},
     "output_type": "display_data"
    },
    {
     "name": "stderr",
     "output_type": "stream",
     "text": [
      "WARNING:panoptes_client:Broken libmagic installation detected. The python-magic module is installed but can't be imported. Please check that both python-magic and the libmagic shared library are installed correctly. Uploading media other than images may not work.\n"
     ]
    },
    {
     "name": "stdout",
     "output_type": "stream",
     "text": [
      "Packages loaded successfully\n"
     ]
    }
   ],
   "source": [
    "# Set the directory of the libraries\n",
    "import sys\n",
    "sys.path.append('..')\n",
    "\n",
    "# Set to display dataframes as interactive tables\n",
    "from itables import init_notebook_mode\n",
    "init_notebook_mode(all_interactive=True)\n",
    "\n",
    "# Import required modules\n",
    "import utils.tutorials_utils as t_utils\n",
    "import utils.t4_utils as t4\n",
    "#import utils.server_utils as server_utils\n",
    "\n",
    "print(\"Packages loaded successfully\")"
   ]
  },
  {
   "cell_type": "markdown",
   "id": "8c51ffb6",
   "metadata": {},
   "source": [
    "### Choose your project"
   ]
  },
  {
   "cell_type": "code",
   "execution_count": 3,
   "id": "bfef12df",
   "metadata": {},
   "outputs": [
    {
     "data": {
      "application/vnd.jupyter.widget-view+json": {
       "model_id": "778dea41bda34e749a088e2aaa39be1d",
       "version_major": 2,
       "version_minor": 0
      },
      "text/plain": [
       "Dropdown(description='Project:', options=('Koster_Seafloor_Obs', 'Spyfish_Aotearoa', 'SGU'), value='Koster_Sea…"
      ]
     },
     "metadata": {},
     "output_type": "display_data"
    }
   ],
   "source": [
    "project = t_utils.choose_project()"
   ]
  },
  {
   "cell_type": "markdown",
   "id": "39f5065c",
   "metadata": {},
   "source": [
    "### Initiate sql and zoo project"
   ]
  },
  {
   "cell_type": "code",
   "execution_count": 4,
   "id": "8a7abc2f",
   "metadata": {},
   "outputs": [
    {
     "name": "stdout",
     "output_type": "stream",
     "text": [
      "Enter your username for SNIC server········\n",
      "Enter your password for SNIC server········\n",
      "Updated sites\n",
      "Updated movies\n",
      "Updated species\n"
     ]
    }
   ],
   "source": [
    "# Initiate db\n",
    "db_info_dict = t_utils.initiate_db(project.value)"
   ]
  },
  {
   "cell_type": "code",
   "execution_count": 7,
   "id": "10b4aa16",
   "metadata": {},
   "outputs": [
    {
     "name": "stdout",
     "output_type": "stream",
     "text": [
      "Enter your Zooniverse user········\n",
      "Enter your Zooniverse password········\n"
     ]
    }
   ],
   "source": [
    "# Connect to Zooniverse project\n",
    "zoo_project = t_utils.connect_zoo_project(project.value)"
   ]
  },
  {
   "cell_type": "markdown",
   "id": "50bac6cf",
   "metadata": {},
   "source": [
    "# Retrieve info about zooniverse clips"
   ]
  },
  {
   "cell_type": "code",
   "execution_count": 8,
   "id": "0c2d059b",
   "metadata": {},
   "outputs": [
    {
     "name": "stdout",
     "output_type": "stream",
     "text": [
      "Retrieving subjects from Zooniverse\n",
      "subjects were retrieved successfully\n",
      "Updated subjects\n",
      "The database has a total of 2342 frame subjects and 7362 clip subjects have been updated\n"
     ]
    }
   ],
   "source": [
    "zoo_info_dict = t_utils.retrieve__populate_zoo_info(project_name = project.value, \n",
    "                                                    db_info_dict = db_info_dict,\n",
    "                                                    zoo_project = zoo_project,\n",
    "                                                    zoo_info = [\"subjects\"])"
   ]
  },
  {
   "cell_type": "markdown",
   "id": "3bdb9ff9",
   "metadata": {},
   "source": [
    "# Retrieve info about movies hosted in the server"
   ]
  },
  {
   "cell_type": "code",
   "execution_count": 18,
   "id": "0fc41573",
   "metadata": {},
   "outputs": [
    {
     "name": "stdout",
     "output_type": "stream",
     "text": [
      "95 movies are mapped from the server\n"
     ]
    }
   ],
   "source": [
    "# Store info about the movies available in the server\n",
    "available_movies_df = t4.retrieve_movie_info_from_server(project_name = project.value,\n",
    "                                                         db_info_dict = db_info_dict)"
   ]
  },
  {
   "cell_type": "markdown",
   "id": "2dfc55a9",
   "metadata": {},
   "source": [
    "### Select the movie you want to upload to Zooniverse"
   ]
  },
  {
   "cell_type": "code",
   "execution_count": 19,
   "id": "6667d092",
   "metadata": {},
   "outputs": [
    {
     "data": {
      "application/vnd.jupyter.widget-view+json": {
       "model_id": "587645b12d3d4f99be74fb312a06ca48",
       "version_major": 2,
       "version_minor": 0
      },
      "text/plain": [
       "Combobox(value='', description='Movie to upload:', ensure_option=True, layout=Layout(width='50%'), options=('0…"
      ]
     },
     "metadata": {},
     "output_type": "display_data"
    }
   ],
   "source": [
    "movie_i = t4.movie_to_upload(available_movies_df = available_movies_df)"
   ]
  },
  {
   "cell_type": "markdown",
   "id": "8175cc89",
   "metadata": {},
   "source": [
    "### Check if movie is already in Zooniverse"
   ]
  },
  {
   "cell_type": "markdown",
   "id": "c84c92bf",
   "metadata": {},
   "source": [
    "Remember to query the newest zooniverse data to get the most up to date list of clips uploaded"
   ]
  },
  {
   "cell_type": "code",
   "execution_count": null,
   "id": "dbe6b212",
   "metadata": {},
   "outputs": [],
   "source": [
    "# Check movie hasn't been uploaded to Zooniverse\n",
    "t4.check_movie_uploaded(movie_i = movie_i.value,\n",
    "                        db_info_dict = db_info_dict)"
   ]
  },
  {
   "cell_type": "markdown",
   "id": "8812e34c",
   "metadata": {},
   "source": [
    "### Specify the number of clips and clip length"
   ]
  },
  {
   "cell_type": "code",
   "execution_count": null,
   "id": "1fe5e435",
   "metadata": {},
   "outputs": [],
   "source": [
    "clip_selection = t4.select_clip_n_len(movie_i = movie_i.value,\n",
    "                                     db_info_dict = db_info_dict)"
   ]
  },
  {
   "cell_type": "markdown",
   "id": "921d56f6",
   "metadata": {},
   "source": [
    "### Review the clips that will be created"
   ]
  },
  {
   "cell_type": "code",
   "execution_count": null,
   "id": "7d72f0d6",
   "metadata": {},
   "outputs": [],
   "source": [
    "t4.review_clip_selection(clip_selection = clip_selection, \n",
    "                         movie_i = movie_i.value)"
   ]
  },
  {
   "cell_type": "markdown",
   "id": "04e58c56",
   "metadata": {},
   "source": [
    "### Create the clips"
   ]
  },
  {
   "cell_type": "code",
   "execution_count": null,
   "id": "28dbcd14",
   "metadata": {},
   "outputs": [],
   "source": [
    "clips_to_upload_df = t4.create_clips(available_movies_df = available_movies_df, \n",
    "                                     movie_i = movie_i.value,\n",
    "                                     db_info_dict = db_info_dict,\n",
    "                                     clip_selection = clip_selection,  \n",
    "                                     project_name = project.value)"
   ]
  },
  {
   "cell_type": "markdown",
   "id": "01a91bb9",
   "metadata": {},
   "source": [
    "Make sure your workflows in Zooniverse have different names to avoid issues while selecting the workflow id"
   ]
  },
  {
   "cell_type": "markdown",
   "id": "d9ab084e",
   "metadata": {},
   "source": [
    "### Review clips"
   ]
  },
  {
   "cell_type": "code",
   "execution_count": null,
   "id": "80c3e27f",
   "metadata": {},
   "outputs": [],
   "source": [
    "t4.check_clip_size(clip_paths = clips_to_upload_df[\"clip_path\"].unique())"
   ]
  },
  {
   "cell_type": "markdown",
   "id": "7b5c47b9",
   "metadata": {},
   "source": [
    "### Video modifications"
   ]
  },
  {
   "cell_type": "code",
   "execution_count": null,
   "id": "a55b60c2",
   "metadata": {},
   "outputs": [],
   "source": [
    "# Work in progress\n",
    "clip_modification = t4.select_modification()"
   ]
  },
  {
   "cell_type": "code",
   "execution_count": null,
   "id": "46bab2bf",
   "metadata": {},
   "outputs": [],
   "source": [
    "# Write the clip modification details. See ffmpeg documentation for instructions (http://ffmpeg.org/ffmpeg.html)\n",
    "modification_details = {\n",
    "  \"-crf\": \"30\",\n",
    "  \"-c:v\": \"libx264\",\n",
    "  #\"-vf\": \"curves=red=0/0 0.396/0.67 1/1:green=0/0 0.525/0.451 1/1:blue=0/0 0.459/0.517 1/1,scale=1280:-1\",#borrowed from https://www.element84.com/blog/color-correction-in-space-and-at-sea                         \n",
    "  \"-pix_fmt\": \"yuv420p\",\n",
    "  \"-preset\": \"veryfast\"\n",
    "}"
   ]
  },
  {
   "cell_type": "code",
   "execution_count": null,
   "id": "6361c9b7",
   "metadata": {},
   "outputs": [],
   "source": [
    "# Modify the clips\n",
    "clips_ready_df = t4.modify_clips(clips_to_upload_df = clips_to_upload_df[175:179].reset_index(drop=True), \n",
    "                                 movie_i = movie_i.value,\n",
    "                                 clip_modification = clip_modification.value, \n",
    "                                 modification_details = modification_details)"
   ]
  },
  {
   "cell_type": "code",
   "execution_count": null,
   "id": "76f78189",
   "metadata": {},
   "outputs": [],
   "source": [
    "# Review the size of the modified clips\n",
    "t4.check_clip_size(clip_paths = clips_ready_df[\"modif_clip_path\"].unique())"
   ]
  },
  {
   "cell_type": "code",
   "execution_count": null,
   "id": "16a0aff8",
   "metadata": {},
   "outputs": [],
   "source": [
    "# Compare the original and modified clips\n",
    "t4.compare_clips(df = clips_ready_df)"
   ]
  },
  {
   "cell_type": "markdown",
   "id": "c766c5f6",
   "metadata": {},
   "source": [
    "### Set Zooniverse metadata"
   ]
  },
  {
   "cell_type": "code",
   "execution_count": null,
   "id": "6d474d60",
   "metadata": {},
   "outputs": [],
   "source": [
    "upload_to_zoo, sitename, created_on = t4.set_zoo_metadata(df = clips_ready_df,\n",
    "                                                          project_name = project.value)"
   ]
  },
  {
   "cell_type": "code",
   "execution_count": null,
   "id": "4a182463",
   "metadata": {},
   "outputs": [],
   "source": [
    "#upload_to_zoo = upload_to_zoo.fillna(\"unknown\")"
   ]
  },
  {
   "cell_type": "markdown",
   "id": "0d1d4f1f",
   "metadata": {},
   "source": [
    "### Upload clips to Zooniverse"
   ]
  },
  {
   "cell_type": "markdown",
   "id": "92930b3e",
   "metadata": {},
   "source": [
    "You may receive an error message related to file size if clips exceed the recommended limit for Zooniverse uploads. In this case, we recommend shortening the clip length to achieve a suitable filesize."
   ]
  },
  {
   "cell_type": "code",
   "execution_count": null,
   "id": "417a49b7",
   "metadata": {},
   "outputs": [],
   "source": [
    "t4.upload_clips_to_zooniverse(upload_to_zoo = upload_to_zoo, \n",
    "                              sitename = sitename,\n",
    "                              created_on = created_on,\n",
    "                              project = zoo_clips_info_dict[\"project\"])"
   ]
  },
  {
   "cell_type": "code",
   "execution_count": null,
   "id": "2bc1a28e",
   "metadata": {},
   "outputs": [],
   "source": [
    "#END"
   ]
  }
 ],
 "metadata": {
  "kernelspec": {
   "display_name": "Python 3",
   "language": "python",
   "name": "python3"
  },
  "language_info": {
   "codemirror_mode": {
    "name": "ipython",
    "version": 3
   },
   "file_extension": ".py",
   "mimetype": "text/x-python",
   "name": "python",
   "nbconvert_exporter": "python",
   "pygments_lexer": "ipython3",
   "version": "3.8.8"
  }
 },
 "nbformat": 4,
 "nbformat_minor": 5
}
