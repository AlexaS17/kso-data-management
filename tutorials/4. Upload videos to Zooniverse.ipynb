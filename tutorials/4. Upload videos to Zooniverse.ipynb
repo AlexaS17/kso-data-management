{
 "cells": [
  {
   "cell_type": "markdown",
   "id": "b169b8d0",
   "metadata": {},
   "source": [
    "<img align=\"left\" src=\"https://panoptes-uploads.zooniverse.org/project_avatar/86c23ca7-bbaa-4e84-8d8a-876819551431.png\" type=\"image/png\" height=100 width=100>\n",
    "</img>\n",
    "<h1 align=\"right\">KSO Tutorials #4: Add new clips to a Zooniverse workflow</h1>\n",
    "<h3 align=\"right\">Written by @jannesgg and @vykanton</h3>\n",
    "<h5 align=\"right\">Last updated: Sep 10th, 2021</h5>"
   ]
  },
  {
   "cell_type": "markdown",
   "id": "3ee20d67",
   "metadata": {},
   "source": [
    "# Set up and requirements"
   ]
  },
  {
   "cell_type": "markdown",
   "id": "896f0873",
   "metadata": {},
   "source": [
    "### Import Python packages"
   ]
  },
  {
   "cell_type": "code",
   "execution_count": null,
   "id": "5451cddf",
   "metadata": {},
   "outputs": [],
   "source": [
    "# Set the directory of the libraries\n",
    "import sys\n",
    "sys.path.append('..')\n",
    "\n",
    "# Import required modules\n",
    "import utils.t4_utils as t4\n",
    "from utils.zooniverse_utils import retrieve_zoo_info, populate_subjects\n",
    "import getpass\n",
    "\n",
    "print(\"Packages loaded successfully\")"
   ]
  },
  {
   "cell_type": "markdown",
   "id": "8c51ffb6",
   "metadata": {},
   "source": [
    "### Initiate SQL database and populate sites, movies and species"
   ]
  },
  {
   "cell_type": "code",
   "execution_count": null,
   "id": "bfef12df",
   "metadata": {},
   "outputs": [],
   "source": [
    "# Specify the path of the movies \n",
    "movies_path = \"../movies\"\n",
    "\n",
    "# Specify the path of the sql database\n",
    "db_path = \"koster_lab.db\"\n",
    "\n",
    "# Initiate the SQL database \n",
    "%run -i \"../db_starter/starter.py\" --movies_path $movies_path --db_path $db_path"
   ]
  },
  {
   "cell_type": "markdown",
   "id": "7e029795",
   "metadata": {},
   "source": [
    "### Retrieve Zooniverse information"
   ]
  },
  {
   "cell_type": "code",
   "execution_count": null,
   "id": "78a4347d",
   "metadata": {},
   "outputs": [],
   "source": [
    "# Save your user name, password and Zooniverse project number.\n",
    "zoo_user = getpass.getpass('Enter your Zooniverse user')\n",
    "zoo_pass = getpass.getpass('Enter your Zooniverse password')\n",
    "project_n = getpass.getpass('Enter the number of the Zooniverse project')"
   ]
  },
  {
   "cell_type": "code",
   "execution_count": null,
   "id": "6b54c7de",
   "metadata": {},
   "outputs": [],
   "source": [
    "# Specify the Zooniverse information required throughout the tutorial\n",
    "zoo_info = [\"subjects\", \"workflows\"]\n",
    "\n",
    "# Retrieve and store the Zooniverse information required throughout the tutorial in a dictionary\n",
    "zoo_info_dict = retrieve_zoo_info(zoo_user, zoo_pass, project_n, zoo_info)"
   ]
  },
  {
   "cell_type": "code",
   "execution_count": null,
   "id": "913e83bf",
   "metadata": {},
   "outputs": [],
   "source": [
    "# Populate the sql with subjects already uploaded to Zooniverse\n",
    "populate_subjects(zoo_info_dict[\"subjects\"], project_n, db_path)"
   ]
  },
  {
   "cell_type": "markdown",
   "id": "947ba96a",
   "metadata": {},
   "source": [
    "######## Everything after this is WIP ######"
   ]
  },
  {
   "cell_type": "markdown",
   "id": "b0f0ad98",
   "metadata": {},
   "source": [
    "### Step 1: Specify the settings to upload underwater videos to Zooniverse\n",
    "We recommend to upload one movie at the time to avoid duplicates in the project"
   ]
  },
  {
   "cell_type": "code",
   "execution_count": null,
   "id": "4cec304c",
   "metadata": {},
   "outputs": [],
   "source": [
    "# Select the movie to upload the clips from and length of clips\n",
    "movie_selection, clip_length = t4.choose_movies(db_path)"
   ]
  },
  {
   "cell_type": "code",
   "execution_count": null,
   "id": "e8c705a4",
   "metadata": {
    "scrolled": true
   },
   "outputs": [],
   "source": [
    "# Select how many clips you want to upload\n",
    "n_clips = t4.choose_clips(movie_selection.value, clip_length.value, db_path)"
   ]
  },
  {
   "cell_type": "code",
   "execution_count": null,
   "id": "04dce1ae",
   "metadata": {},
   "outputs": [],
   "source": [
    "# Select the subjectset to upload the clips to\n",
    "subjectset_method = t4.choose_subjectset_method()"
   ]
  },
  {
   "cell_type": "code",
   "execution_count": null,
   "id": "e6b7936a",
   "metadata": {},
   "outputs": [],
   "source": [
    "# Select the subjectset to upload the clips to\n",
    "subjectset_upl = t4.choose_subjectset(zoo_info_dict[\"subjects\"],subjectset_method.value)"
   ]
  },
  {
   "cell_type": "code",
   "execution_count": null,
   "id": "51e59316",
   "metadata": {},
   "outputs": [],
   "source": [
    "# Select any pre-processing required on the clips"
   ]
  },
  {
   "cell_type": "markdown",
   "id": "01a91bb9",
   "metadata": {},
   "source": [
    "Make sure your workflows in Zooniverse have different names to avoid issues while selecting the workflow id"
   ]
  },
  {
   "cell_type": "markdown",
   "id": "7b5c47b9",
   "metadata": {},
   "source": [
    "### Step 1: Reduce the size of the video and optionally blur sensitive portions\n",
    "#### The first argument is the directory where movies are stored\n",
    "*Note:  The original files are kept in case of any problems during processing with the suffix *_orig**"
   ]
  },
  {
   "cell_type": "code",
   "execution_count": null,
   "id": "27579fb0",
   "metadata": {},
   "outputs": [],
   "source": [
    "### Define important locations"
   ]
  },
  {
   "cell_type": "code",
   "execution_count": null,
   "id": "90297892",
   "metadata": {},
   "outputs": [],
   "source": [
    "# Find the folder with the appropriate movies\n",
    "fc = FileChooser('/cephyr/NOBACKUP/groups/snic2021-6-9')\n",
    "display(fc)"
   ]
  },
  {
   "cell_type": "code",
   "execution_count": null,
   "id": "04f6a80c",
   "metadata": {},
   "outputs": [],
   "source": [
    "movies_location = fc.selected\n",
    "movie_metadata_location = \"https://drive.google.com/file/d/1IBBm4GqZGUZvnVJ3DbIHwJ_JQQW6sCEl/view?usp=sharing\"\n",
    "# Optional species metadata location if new species appear in movies\n",
    "species_metadata_location = \"https://drive.google.com/file/d/18_5h4fzX7zau-JltIRPoFrltJm_cbxyb/view?usp=sharing\"\n",
    "movie_extension = \"mov\" #if movies are not all of the same extension this will fail\n",
    "blur_movies = 0 # (optional) if the videos contain sensitive information, use 1 here to blur the clips"
   ]
  },
  {
   "cell_type": "code",
   "execution_count": null,
   "id": "d736a479",
   "metadata": {},
   "outputs": [],
   "source": [
    "!bash /usr/src/app/koster_data_management/ingestion_scripts/process_movies.sh \\\n",
    "        $movies_location $movie_extension $blur_movies"
   ]
  },
  {
   "cell_type": "markdown",
   "id": "403c27f8",
   "metadata": {},
   "source": [
    "### Step 2: Specify Zooniverse and database credentials"
   ]
  },
  {
   "cell_type": "code",
   "execution_count": null,
   "id": "3527ab34",
   "metadata": {},
   "outputs": [],
   "source": [
    "# Specify username and password of a valid zooniverse account\n",
    "user_zoo = getpass.getpass('Enter your Zooniverse user')\n",
    "pass_zoo = getpass.getpass('Enter your Zooniverse password')"
   ]
  },
  {
   "cell_type": "code",
   "execution_count": null,
   "id": "324ccf7a",
   "metadata": {},
   "outputs": [],
   "source": [
    "# Specify your database file location\n",
    "db_path = \"/usr/src/app/data_dir/koster_lab-nm-9.db\"\n",
    "#db_path = \"/cephyr/NOBACKUP/groups/snic2021-6-9/db_files/tutorial_demo.db\""
   ]
  },
  {
   "cell_type": "markdown",
   "id": "91b738a7",
   "metadata": {},
   "source": [
    "### Step 3: Add the new movies and new species (if applicable) to the Koster database"
   ]
  },
  {
   "cell_type": "code",
   "execution_count": null,
   "id": "ed50fcb3",
   "metadata": {},
   "outputs": [],
   "source": [
    "# New movies\n",
    "add.add_new_movies(movie_metadata_location, \n",
    "                   db_path,\n",
    "                   movies_location)\n",
    "# New species\n",
    "\n",
    "add.add_species(species_metadata_location,\n",
    "                db_path)"
   ]
  },
  {
   "cell_type": "markdown",
   "id": "a4d196e1",
   "metadata": {},
   "source": [
    "### Step 4: Identify movies of interest\n",
    "\n",
    "#### We first need to find the ids of the movies we are interested in splitting into clips. We do this by looking at the movies table within the database. "
   ]
  },
  {
   "cell_type": "code",
   "execution_count": null,
   "id": "d3bfc708",
   "metadata": {},
   "outputs": [],
   "source": [
    "# Look over the available movies to choose the ones to extract clips from\n",
    "conn = db_utils.create_connection(db_path)\n",
    "movies_df = pd.read_sql_query(\"SELECT * FROM movies\", conn)"
   ]
  },
  {
   "cell_type": "markdown",
   "id": "0d1d4f1f",
   "metadata": {},
   "source": [
    "### Step 5: Upload clips to Zooniverse\n",
    "\n",
    "The script to upload clips to Zooniverse requires a specification of the total number of clips, the length of each clip, the list of video ids to extract these from and (optionally) the number of clips to be extracted from each video in the list. \n",
    "\n",
    "You may receive an error message related to file size if clips exceed the recommended limit for Zooniverse uploads. In this case, we recommend shortening the clip length to achieve a suitable filesize."
   ]
  },
  {
   "cell_type": "code",
   "execution_count": null,
   "id": "40053494",
   "metadata": {},
   "outputs": [],
   "source": [
    "# Find movies of interest\n",
    "qgrid.show_grid(movies_df)"
   ]
  },
  {
   "cell_type": "code",
   "execution_count": null,
   "id": "d4ec7449",
   "metadata": {},
   "outputs": [],
   "source": [
    "# Specify clip-related parameters\n",
    "clips_output_path = \"/cephyr/NOBACKUP/groups/snic2021-6-9/clips_challenge_1\" # where clips will be stored\n",
    "n_clips = 980\n",
    "clip_length = 10 # in seconds\n",
    "video_list = [61, 62, 63, 64]\n",
    "n_clips_each = [60, 60, 60, 800]"
   ]
  },
  {
   "cell_type": "code",
   "execution_count": null,
   "id": "1e0bd2da",
   "metadata": {},
   "outputs": [],
   "source": [
    "# Run the script"
   ]
  },
  {
   "cell_type": "code",
   "execution_count": null,
   "id": "f58ad0e5",
   "metadata": {},
   "outputs": [],
   "source": [
    "run = f\"export LC_ALL='C.UTF-8' python upload_clips.py -u {user_zoo} -p {pass_zoo} -db {db_path} -fp {clips_output_path} \\\n",
    "     -n {n_clips} -lg {clip_length} -vlist {video_list} \\\n",
    "     -neach {n_clips_each}\"\n",
    "!{run}"
   ]
  },
  {
   "cell_type": "code",
   "execution_count": null,
   "id": "19afbae6",
   "metadata": {},
   "outputs": [],
   "source": [
    "#### EVERYTHING BELOW THIS LINE IS STILL IN PROGRESS"
   ]
  },
  {
   "cell_type": "markdown",
   "id": "c9d4b6b9",
   "metadata": {},
   "source": [
    "## Adding new frames after clips have been classified"
   ]
  },
  {
   "cell_type": "code",
   "execution_count": null,
   "id": "30782eb0",
   "metadata": {},
   "outputs": [],
   "source": [
    "# Look over the available species to choose the ones to extract frames from\n",
    "conn = db_utils.create_connection(db_path)\n",
    "species_df = pd.read_sql_query(\"SELECT * FROM species\", conn)"
   ]
  },
  {
   "cell_type": "code",
   "execution_count": null,
   "id": "0eaca484",
   "metadata": {},
   "outputs": [],
   "source": [
    "species_df.head()"
   ]
  },
  {
   "cell_type": "code",
   "execution_count": null,
   "id": "957e34b3",
   "metadata": {},
   "outputs": [],
   "source": [
    "!export LC_ALL=\"C.UTF-8\" python upload_frames.py --user $user_zoo --password $pass_zoo \\\n",
    "        --species \"Fish (any species)\" --db_path $db_path \\\n",
    "        -fp /cephyr/NOBACKUP/groups/snic2021-6-9/processed_frames/fish_any_species"
   ]
  }
 ],
 "metadata": {
  "kernelspec": {
   "display_name": "Python 3",
   "language": "python",
   "name": "python3"
  },
  "language_info": {
   "codemirror_mode": {
    "name": "ipython",
    "version": 3
   },
   "file_extension": ".py",
   "mimetype": "text/x-python",
   "name": "python",
   "nbconvert_exporter": "python",
   "pygments_lexer": "ipython3",
   "version": "3.8.8"
  }
 },
 "nbformat": 4,
 "nbformat_minor": 5
}
