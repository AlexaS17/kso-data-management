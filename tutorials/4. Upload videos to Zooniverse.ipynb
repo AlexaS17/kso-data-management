{
 "cells": [
  {
   "cell_type": "markdown",
   "id": "b169b8d0",
   "metadata": {},
   "source": [
    "<img align=\"left\" src=\"https://panoptes-uploads.zooniverse.org/project_avatar/86c23ca7-bbaa-4e84-8d8a-876819551431.png\" type=\"image/png\" height=100 width=100>\n",
    "</img>\n",
    "<h1 align=\"right\">KSO Tutorials #4: Add new clips to a Zooniverse workflow</h1>\n",
    "<h3 align=\"right\">Written by @jannesgg and @vykanton</h3>\n",
    "<h5 align=\"right\">Last updated: Nov 8th, 2021</h5>"
   ]
  },
  {
   "cell_type": "markdown",
   "id": "3ee20d67",
   "metadata": {},
   "source": [
    "# Set up and requirements"
   ]
  },
  {
   "cell_type": "markdown",
   "id": "896f0873",
   "metadata": {},
   "source": [
    "### Import Python packages"
   ]
  },
  {
   "cell_type": "code",
   "execution_count": null,
   "id": "5451cddf",
   "metadata": {},
   "outputs": [],
   "source": [
    "# Set the directory of the libraries\n",
    "import sys\n",
    "sys.path.append('..')\n",
    "\n",
    "# Set to display dataframes as interactive tables\n",
    "from itables import init_notebook_mode\n",
    "init_notebook_mode(all_interactive=True)\n",
    "\n",
    "# Import required modules\n",
    "import utils.tutorials_utils as t_utils\n",
    "import utils.server_utils as serv_utils\n",
    "import utils.t4_utils as t4\n",
    "import utils.zooniverse_utils as zoo\n",
    "\n",
    "print(\"Packages loaded successfully\")"
   ]
  },
  {
   "cell_type": "markdown",
   "id": "8c51ffb6",
   "metadata": {},
   "source": [
    "### Choose your project"
   ]
  },
  {
   "cell_type": "code",
   "execution_count": null,
   "id": "bfef12df",
   "metadata": {},
   "outputs": [],
   "source": [
    "project = t_utils.choose_project()"
   ]
  },
  {
   "cell_type": "markdown",
   "id": "7e029795",
   "metadata": {},
   "source": [
    "### Initiate SQL database and populate sites, movies and species"
   ]
  },
  {
   "cell_type": "code",
   "execution_count": null,
   "id": "78a4347d",
   "metadata": {},
   "outputs": [],
   "source": [
    "# Specify the path of the movies \n",
    "movies_path = \"/uploads\"\n",
    "\n",
    "# Specify the path of the sql database\n",
    "db_path = \"koster_lab.db\"\n",
    "\n",
    "# Initiate the SQL database \n",
    "%run -i \"../db_starter/starter.py\" --movies_path $movies_path --db_path $db_path --project_name $project.value"
   ]
  },
  {
   "cell_type": "markdown",
   "id": "50bac6cf",
   "metadata": {},
   "source": [
    "# Retrieve info about zooniverse clips"
   ]
  },
  {
   "cell_type": "code",
   "execution_count": null,
   "id": "0c2d059b",
   "metadata": {},
   "outputs": [],
   "source": [
    "# Save your Zooniverse user name and password.\n",
    "zoo_user, zoo_pass = zoo.zoo_credentials()"
   ]
  },
  {
   "cell_type": "code",
   "execution_count": null,
   "id": "c14bc049",
   "metadata": {},
   "outputs": [],
   "source": [
    "# Specify the Zooniverse information required throughout the tutorial\n",
    "zoo_info = [\"subjects\"]\n",
    "\n",
    "# Retrieve and store the Zooniverse information required throughout the tutorial in a dictionary\n",
    "zoo_info_dict = zoo.retrieve_zoo_info(zoo_user, zoo_pass, project.value, zoo_info)"
   ]
  },
  {
   "cell_type": "code",
   "execution_count": null,
   "id": "25d7a08c",
   "metadata": {},
   "outputs": [],
   "source": [
    "# Populate the sql with subjects uploaded to Zooniverse\n",
    "zoo.populate_subjects(zoo_info_dict[\"subjects\"], project.value, db_path)"
   ]
  },
  {
   "cell_type": "markdown",
   "id": "51722e01",
   "metadata": {},
   "source": [
    "# Retrieve info about movies hosted in the server"
   ]
  },
  {
   "cell_type": "code",
   "execution_count": null,
   "id": "6b54c7de",
   "metadata": {},
   "outputs": [],
   "source": [
    "# Choose the server where the movies are hosted\n",
    "#server_i = t_utils.choose_server()\n",
    "server_i = choose_server()"
   ]
  },
  {
   "cell_type": "code",
   "execution_count": null,
   "id": "c2ebec71",
   "metadata": {},
   "outputs": [],
   "source": [
    "# Connect to the server\n",
    "server_i_dict = serv_utils.connect_to_server(server_i.value)"
   ]
  },
  {
   "cell_type": "code",
   "execution_count": null,
   "id": "a41da876",
   "metadata": {},
   "outputs": [],
   "source": [
    "# Get the location of the csv files with initial info to populate the db\n",
    "sites_csv, movies_csv, species_csv = serv_utils.get_sites_movies_species()\n",
    "\n",
    "# Read csv as pd\n",
    "movies_df = pd.read_csv(movies_csv)"
   ]
  },
  {
   "cell_type": "code",
   "execution_count": null,
   "id": "3623ceb1",
   "metadata": {},
   "outputs": [],
   "source": [
    "bucket_i = 'marine-buv'\n",
    "\n",
    "# Specify the formats of the movies to select\n",
    "movie_formats = tuple(['wmv', 'mpg', 'mov', 'avi', 'mp4', 'MOV', 'MP4'])\n",
    "\n",
    "movies_s3_pd = get_matching_s3_keys(server_i_dict[\"client\"], bucket_i, suffix=movie_formats)"
   ]
  },
  {
   "cell_type": "code",
   "execution_count": null,
   "id": "7045c602",
   "metadata": {},
   "outputs": [],
   "source": [
    "# Specify the key of the movies (path in S3 of the object)\n",
    "movies_df[\"Key\"] = movies_df[\"prefix\"] + \"/\"+ movies_df[\"filename\"]\n",
    "\n",
    "# Missing info for files in the \"buv-zooniverse-uploads\"\n",
    "movies_df = movies_df.merge(movies_s3_pd[\"Key\"], \n",
    "                            on=['Key'], how='left', \n",
    "                            indicator=True)\n",
    "\n",
    "# Check that movies can be mapped\n",
    "movies_df['exists'] = np.where(movies_df[\"_merge\"]==\"left_only\", False, True)\n",
    "\n",
    "# Drop _merge columns to match sql squema\n",
    "movies_df = movies_df.drop(\"_merge\", axis=1)"
   ]
  },
  {
   "cell_type": "code",
   "execution_count": null,
   "id": "0ada07ac",
   "metadata": {},
   "outputs": [],
   "source": [
    "# Select only those that can be mapped\n",
    "available_movies_df = movies_df[movies_df['exists']]\n",
    "\n",
    "print(available_movies_df.shape[0], \"movies are mapped from\", server_i.value)"
   ]
  },
  {
   "cell_type": "markdown",
   "id": "21b999d3",
   "metadata": {},
   "source": [
    "### Select the movie you want to upload to Zooniverse"
   ]
  },
  {
   "cell_type": "code",
   "execution_count": null,
   "id": "0198b751",
   "metadata": {},
   "outputs": [],
   "source": [
    "import pandas as pd\n",
    "import ipywidgets as widgets\n",
    "\n",
    "# Select the movie you want to upload to Zooniverse\n",
    "def movie_to_upload(available_movies_df):\n",
    "\n",
    "    # Widget to select the movie\n",
    "    movie_to_upload_widget = widgets.Combobox(\n",
    "                    options=tuple(available_movies_df.filename.unique()),\n",
    "                    description=\"Movie to upload:\",\n",
    "                    ensure_option=True,\n",
    "                    disabled=False,\n",
    "                )\n",
    "    \n",
    "    \n",
    "    display(movie_to_upload_widget)\n",
    "    return movie_to_upload_widget"
   ]
  },
  {
   "cell_type": "code",
   "execution_count": null,
   "id": "086bf1e6",
   "metadata": {},
   "outputs": [],
   "source": [
    "movie_i = movie_to_upload(available_movies_df)"
   ]
  },
  {
   "cell_type": "markdown",
   "id": "4380ba5f",
   "metadata": {},
   "source": [
    "### Check if movie is already in Zooniverse"
   ]
  },
  {
   "cell_type": "markdown",
   "id": "acdd0ef7",
   "metadata": {},
   "source": [
    "Remember to query a new to get the most up to date list of clips uploaded"
   ]
  },
  {
   "cell_type": "code",
   "execution_count": null,
   "id": "a9fb02e4",
   "metadata": {},
   "outputs": [],
   "source": [
    "# Check movie hasn't been uploaded to Zooniverse\n",
    "movie_i.value"
   ]
  },
  {
   "cell_type": "code",
   "execution_count": null,
   "id": "d4e58d22",
   "metadata": {},
   "outputs": [],
   "source": [
    "import utils.db_utils as db_utils\n",
    "\n",
    "# Create connection to db\n",
    "conn = db_utils.create_connection(db_path)\n",
    "\n",
    "# Query info about the clip subjects uploaded to Zooniverse\n",
    "subjects_df = pd.read_sql_query(\"SELECT id, subject_type, filename, clip_start_time, clip_end_time, movie_id FROM subjects WHERE subject_type='clip'\", conn)\n",
    "\n",
    "# Save the video filenames of the clips uploaded to Zooniverse \n",
    "videos_uploaded = subjects_df.filename.unique()"
   ]
  },
  {
   "cell_type": "code",
   "execution_count": null,
   "id": "cfc02b2a",
   "metadata": {},
   "outputs": [],
   "source": [
    "# Check if selected movie has already been uploaded contains list element\n",
    "already_uploaded = any(mv in movie_i.value for mv in videos_uploaded)\n",
    "\n",
    "if already_uploaded:\n",
    "    movie_no_ext = movie_i.value.split(\".\", 1)[0]\n",
    "    clips_uploaded = subjects_df[subjects_df[\"filename\"].str.contains(movie_no_ext)]\n",
    "    print(movie_i.value, \"has clips already uploaded. The clips start and finish at:\")\n",
    "    print(clips_uploaded[[\"clip_start_time\", \"clip_end_time\"]], sep = \"\\n\")\n",
    "else:\n",
    "    print(movie_i.value, \"has not been uploaded to Zooniverse yet\")"
   ]
  },
  {
   "cell_type": "markdown",
   "id": "a1ed9594",
   "metadata": {},
   "source": [
    "### Specify the number of clips and clip length"
   ]
  },
  {
   "cell_type": "code",
   "execution_count": null,
   "id": "6621386e",
   "metadata": {},
   "outputs": [],
   "source": [
    "import datetime\n",
    "from IPython.display import display \n",
    "from ipywidgets import interactive\n",
    "\n",
    "# Display in hours, minutes and seconds\n",
    "def to_hhmmss(clip_length, clips_to_upl):\n",
    "    \n",
    "    # Calculate the seconds\n",
    "    seconds = clip_length*clips_to_upl\n",
    "    \n",
    "    print(\"Movie time to upload:\", datetime.timedelta(seconds=seconds))\n",
    "    \n",
    "    return seconds\n",
    "\n",
    "\n",
    "# Select the number of clips to upload \n",
    "clip_length_number = interactive(to_hhmmss, \n",
    "                          clip_length = widgets.Dropdown(\n",
    "                             options=[10,5],\n",
    "                             value=10,\n",
    "                             description=\"Length of clips:\",\n",
    "                             ensure_option=True,\n",
    "                             disabled=False,),\n",
    "                         clips_to_upl = widgets.IntSlider(\n",
    "                             value=180,\n",
    "                             min=0,\n",
    "                             max=720,\n",
    "                             step=1,\n",
    "                             description='Number of clips to upload:',)\n",
    "                        )\n",
    "\n",
    "display(clip_length_number)"
   ]
  },
  {
   "cell_type": "markdown",
   "id": "1fadf9a1",
   "metadata": {},
   "source": [
    "### Review the clips that will be created"
   ]
  },
  {
   "cell_type": "code",
   "execution_count": null,
   "id": "2038103c",
   "metadata": {},
   "outputs": [],
   "source": [
    "# Review the clips that will be created\n"
   ]
  },
  {
   "cell_type": "code",
   "execution_count": null,
   "id": "708b155e",
   "metadata": {},
   "outputs": [],
   "source": [
    "# Func to expand seconds\n",
    "def expand_list(df, list_column, new_column):\n",
    "    lens_of_lists = df[list_column].apply(len)\n",
    "    origin_rows = range(df.shape[0])\n",
    "    destination_rows = np.repeat(origin_rows, lens_of_lists)\n",
    "    non_list_cols = [idx for idx, col in enumerate(df.columns) if col != list_column]\n",
    "    expanded_df = df.iloc[destination_rows, non_list_cols].copy()\n",
    "    expanded_df[new_column] = [item for items in df[list_column] for item in items]\n",
    "    expanded_df.reset_index(inplace=True, drop=True)\n",
    "    return expanded_df"
   ]
  },
  {
   "cell_type": "code",
   "execution_count": null,
   "id": "0a6b4f25",
   "metadata": {},
   "outputs": [],
   "source": [
    "import math\n",
    "\n",
    "# Select movie of interest\n",
    "movie_i_df = available_movies_df[available_movies_df['filename']==movie_i.value].reset_index(drop=True)\n",
    "\n",
    "# Save the filename of the movie_i\n",
    "sitecode_i = movie_i_df.filename.unique()[0]\n",
    "\n",
    "# Calculate the max number of clips available\n",
    "clip_length = clip_length_number.kwargs['clip_length']\n",
    "clip_numbers = clip_length_number.kwargs['clips_to_upl']\n",
    "\n",
    "# Calculate all the potential seconds for the new clips to start\n",
    "movie_i_df[\"seconds\"] = [\n",
    "    list(range(i, int(math.floor(j / clip_length) * clip_length), clip_length))\n",
    "    for i, j in movie_i_df[[\"survey_start\", \"duration\"]].values\n",
    "]\n",
    "\n",
    "# Reshape the dataframe of potential seconds for the new clips to start\n",
    "potential_start_df = expand_list(movie_i_df, \"seconds\", \"pot_seconds\")\n",
    "\n",
    "if clip_numbers>potential_start_df.shape[0]:\n",
    "    print(\"The number of clips and duration selected is higher than the duration of the survey\")\n",
    "\n",
    "else:\n",
    "    # Select the number of clips to create\n",
    "    videos_upload = potential_start_df.sort_values(\"pot_seconds\").head(clip_numbers)\n",
    "    \n",
    "    print(clip_numbers, \"clips of\", clip_length, \"seconds each, will be created from\", sitecode_i)\n",
    "    "
   ]
  },
  {
   "cell_type": "markdown",
   "id": "912f191f",
   "metadata": {},
   "source": [
    "### Create the clips"
   ]
  },
  {
   "cell_type": "code",
   "execution_count": null,
   "id": "e651996a",
   "metadata": {},
   "outputs": [],
   "source": [
    "# Specify the temp folder to host the clips\n",
    "clips_folder = sitecode_i+\"clips_folder\"\n",
    "\n",
    "project_name = project.value\n",
    "\n",
    "if project_name == \"Spyfish_Aotearoa\":\n",
    "    # Download the movie of interest\n",
    "    serv_utils.download_object_from_s3(\n",
    "                    client,\n",
    "                    bucket=bucket_i,\n",
    "                    key=movie_i_df.Key.unique()[0],\n",
    "                    filename=sitecode_i,\n",
    "    )\n",
    "\n",
    "# Set the filename of the clips\n",
    "videos_upload[\"clip_filename\"] = videos_upload[\"filename\"].astype(str) + \"_clip_\" + videos_upload[\"pot_seconds\"].astype(str) + \"_\" + str(clip_length) + \".mp4\"\n",
    "\n",
    "# Set the path to uncompressed clips\n",
    "videos_upload[\"clip_path\"] = clips_folder + videos_upload[\"clip_filename\"]"
   ]
  },
  {
   "cell_type": "code",
   "execution_count": null,
   "id": "f205804a",
   "metadata": {},
   "outputs": [],
   "source": [
    "# Function to extract the videos \n",
    "def extract_clips(df, clip_length): \n",
    "    # Read each movie and extract the clips (printing a progress bar) \n",
    "    for index, row in tqdm(df.iterrows(), total=df.shape[0]): \n",
    "        if not os.path.exists(row['clip_path']):\n",
    "            subprocess.call([\"ffmpeg\", \n",
    "                             \"-ss\", str(row['upl_seconds']), \n",
    "                             \"-t\", str(clip_length), \n",
    "                             \"-i\", str(row['concat_video']), \n",
    "                             \"-c\", \"copy\", \n",
    "                             \"-an\",#removes the audio\n",
    "                             \"-force_key_frames\", \"1\",\n",
    "                             str(row['clip_path'])])\n",
    "\n",
    "    print(\"clips extracted successfully\")"
   ]
  },
  {
   "cell_type": "code",
   "execution_count": null,
   "id": "e969e5e8",
   "metadata": {},
   "outputs": [],
   "source": [
    "# Create the folder to store the videos if not exist\n",
    "if not os.path.exists(clips_folder):\n",
    "    os.mkdir(clips_folder)\n",
    "    \n",
    "# Extract the videos and store them in the folder\n",
    "extract_clips(videos_upload, clip_length)"
   ]
  },
  {
   "cell_type": "markdown",
   "id": "01a91bb9",
   "metadata": {},
   "source": [
    "Make sure your workflows in Zooniverse have different names to avoid issues while selecting the workflow id"
   ]
  },
  {
   "cell_type": "markdown",
   "id": "d9ab084e",
   "metadata": {},
   "source": [
    "### Preview of clips"
   ]
  },
  {
   "cell_type": "code",
   "execution_count": null,
   "id": "078cd343",
   "metadata": {},
   "outputs": [],
   "source": [
    "from IPython.display import HTML\n",
    "import os\n",
    "import pandas as pd\n",
    "import numpy as np\n",
    "import json, io\n",
    "from ast import literal_eval\n",
    "from utils.zooniverse_utils import auth_session\n",
    "import utils.db_utils as db_utils\n",
    "from utils.koster_utils import filter_bboxes, process_clips_koster\n",
    "from utils.spyfish_utils import process_clips_spyfish\n",
    "from utils import db_utils\n",
    "from collections import OrderedDict, Counter\n",
    "from IPython.display import HTML, display, update_display, clear_output\n",
    "import ipywidgets as widgets\n",
    "from ipywidgets import interact\n",
    "import asyncio\n",
    "from itables import show\n",
    "from IPython.display import Video\n",
    "\n",
    "\n",
    "def select_video(movies_list: list):\n",
    "\n",
    "    movie_widget = widgets.Combobox(\n",
    "                    options=movies_list,\n",
    "                    description=\"Movie:\",\n",
    "                    ensure_option=True,\n",
    "                    disabled=False,\n",
    "                )\n",
    "    \n",
    "    main_out = widgets.Output()\n",
    "    display(movie_widget, main_out)\n",
    "    \n",
    "    # Display the subject and classifications on change\n",
    "    def on_change(change):\n",
    "        with main_out:\n",
    "            a = view_movie(change[\"new\"])\n",
    "            clear_output()\n",
    "            display(a)\n",
    "                \n",
    "                \n",
    "    movie_widget.observe(on_change, names='value')\n",
    "    \n",
    "    \n",
    "# View movie with ipython display\n",
    "def view_movie(movie_path):\n",
    "    # Specify the formats of the movies to select\n",
    "    movie_formats = tuple(['wmv', 'mpg', 'mov', 'avi', 'mp4', 'MOV', 'MP4'])\n",
    "   \n",
    "    if movie_path.endswith(movie_path):\n",
    "        return Video(movie_path, embed=True)\n",
    "    \n",
    "    else:\n",
    "        Exception(\"Movie file not supported.\")\n",
    "        \n",
    "# # View movie with html\n",
    "# def view_movie(movie_path):\n",
    "#     # Specify the formats of the movies to select\n",
    "#     movie_formats = tuple(['wmv', 'mpg', 'mov', 'avi', 'mp4', 'MOV', 'MP4'])\n",
    "   \n",
    "#     if movie_path.endswith(movie_path):\n",
    "#         html_code = f\"\"\"\n",
    "#         <video alt=\"test\" controls>\n",
    "#         <source src={movie_path} type=\"video/MP4\">\n",
    "#         </video><html>\"\"\"\n",
    "    \n",
    "#     else:\n",
    "#         Exception(\"Movie file not supported.\")\n",
    "#     return HTML(html_code)        "
   ]
  },
  {
   "cell_type": "code",
   "execution_count": null,
   "id": "09a760e3",
   "metadata": {},
   "outputs": [],
   "source": [
    "select_video(videos_upload.clip_path.unique())"
   ]
  },
  {
   "cell_type": "code",
   "execution_count": null,
   "id": "f9c61ad5",
   "metadata": {},
   "outputs": [],
   "source": [
    "import glob\n",
    "import os\n",
    "\n",
    "# Get a list of files (file paths) in the given directory \n",
    "list_of_files = filter( os.path.isfile,\n",
    "                        glob.glob(clips_folder + '*') )\n",
    "\n",
    "# get list of files with size\n",
    "files_with_size = [ (file_path, os.stat(file_path).st_size) \n",
    "                    for file_path in list_of_files ]\n",
    "\n",
    "df = pd.DataFrame(files_with_size)\n",
    "\n",
    "#Change bytes to MB\n",
    "df['size'] = df[1]/1000000"
   ]
  },
  {
   "cell_type": "markdown",
   "id": "7b5c47b9",
   "metadata": {},
   "source": [
    "### Video modifications"
   ]
  },
  {
   "cell_type": "code",
   "execution_count": null,
   "id": "04cf98ff",
   "metadata": {},
   "outputs": [],
   "source": [
    "# Function to extract the videos \n",
    "def color_correction(df): \n",
    "    \n",
    "    # Read each movie and extract the clips (printing a progress bar) \n",
    "    for index, row in tqdm(df.iterrows(), total=df.shape[0]): \n",
    "        if not os.path.exists(row['clip_comp_path']):\n",
    "            subprocess.call([\"ffmpeg\", \n",
    "                             \"-i\", str(row['clip_path']),\n",
    "                             \"-c:v\", \"libx264\",\n",
    "                             \"-vf\", \"curves=red=0/0 0.396/0.67 1/1:green=0/0 0.525/0.451 1/1:blue=0/0 0.459/0.517 1/1,scale=1280:-1\",#borrowed from https://www.element84.com/blog/color-correction-in-space-and-at-sea\n",
    "                             \"-crf\", \"18\", #Change to get ~5MB videos\n",
    "                             \"-preset\", \"veryfast\",\n",
    "                             str(row['clip_comp_path'])])\n",
    "        \n",
    "       \n",
    "    print(\"Clips color corrected successfully\")\n",
    "    \n",
    "    #ffmpeg -i \"C:\\your-path-here\\GH010054.MP4\" -c:v libx265 -crf 28 -preset veryfast -vf scale=1920:1080 GH010054_reduced.mp4 -hide_banner"
   ]
  },
  {
   "cell_type": "code",
   "execution_count": null,
   "id": "27579fb0",
   "metadata": {},
   "outputs": [],
   "source": [
    "# Choose to reduce the size of the videos, remove audio or blur sensitive portions\n",
    "\n",
    "\n",
    "# Specify the temp folder to host the modified clips\n",
    "mod_clips_folder = \"modified_\" + sitecode_i+\"_clips_folder\"\n",
    "\n",
    "# Set the path to modified clips\n",
    "videos_upload[\"clip_comp_path\"] = mod_clips_folder + videos_upload[\"clip_filename\"]\n",
    "\n",
    "# Create the folder to store the videos if not exist\n",
    "if not os.path.exists(mod_clips_folder):\n",
    "    os.mkdir(mod_clips_folder)\n",
    "    \n",
    "# Compress the videos\n",
    "color_correction(videos_upload)\n"
   ]
  },
  {
   "cell_type": "markdown",
   "id": "43eb83e2",
   "metadata": {},
   "source": [
    "### Preview of modified clips"
   ]
  },
  {
   "cell_type": "code",
   "execution_count": null,
   "id": "e487f42a",
   "metadata": {},
   "outputs": [],
   "source": []
  },
  {
   "cell_type": "markdown",
   "id": "ac1b5b07",
   "metadata": {},
   "source": [
    "### Set Zooniverse metadata"
   ]
  },
  {
   "cell_type": "code",
   "execution_count": null,
   "id": "83424b9f",
   "metadata": {},
   "outputs": [],
   "source": [
    "#Conver datetime to string to avoid JSON seriazible issues\n",
    "videos_upload['EventDate'] = videos_upload['Date'].astype(str)\n",
    "\n",
    "# Select the photo_path and other columns that will be used as metadata\n",
    "# (fields that begin with “#” or “//” will never be shown to volunteers)\n",
    "# (fields that begin with \"!\" will only be available for volunteers on the Talk section, after classification)\n",
    "\n",
    "upload_to_zoo = videos_upload.rename(columns={\n",
    "    \"Marine Reserve\": \"!LinkToMarineReserve\",\n",
    "    \"EventDate\": \"#EventDate\",\n",
    "    \"VideoFilename\": \"#VideoFilename\",\n",
    "    \"Waypoint\": \"#SiteID\",\n",
    "    \"Protection Status\": \"ProtectionStatus\",\n",
    "    \"Depth (m)\": \"Depth\"\n",
    "    })\n",
    "\n",
    "\n",
    "upload_to_zoo[\"#SiteCode\"] = upload_to_zoo[\"#VideoFilename\"]\n",
    "\n",
    "upload_to_zoo = upload_to_zoo[\n",
    "                            [\n",
    "                             \"clip_comp_path\",\n",
    "                             \"Year\",\n",
    "                             \"upl_seconds\",\n",
    "                             \"Depth\",\n",
    "                             \"ProtectionStatus\",\n",
    "                             \"!LinkToMarineReserve\",\n",
    "                             \"#EventDate\",\n",
    "                             \"#VideoFilename\",\n",
    "                             \"#SiteID\",\n",
    "                             \"#SiteCode\",\n",
    "                             ]\n",
    "                            ]\n",
    "        \n",
    "# Add information about the type of subject and length\n",
    "upload_to_zoo[\"Subject_type\"] = \"clip\"\n",
    "upload_to_zoo[\"#clip_length\"] = clip_length"
   ]
  },
  {
   "cell_type": "markdown",
   "id": "0d1d4f1f",
   "metadata": {},
   "source": [
    "### Upload clips to Zooniverse"
   ]
  },
  {
   "cell_type": "markdown",
   "id": "92930b3e",
   "metadata": {},
   "source": [
    "You may receive an error message related to file size if clips exceed the recommended limit for Zooniverse uploads. In this case, we recommend shortening the clip length to achieve a suitable filesize."
   ]
  },
  {
   "cell_type": "code",
   "execution_count": null,
   "id": "080ca856",
   "metadata": {},
   "outputs": [],
   "source": [
    "# Create a new subject set to host the clips\n",
    "subject_set = SubjectSet()\n",
    "\n",
    "subject_set_name = str(int(n_clips)) + \"_clips\" + \"_\" + sitecode_i + date.today().strftime(\"_%Y_%m_%d\")\n",
    "subject_set.links.project = project\n",
    "subject_set.display_name = subject_set_name\n",
    "\n",
    "subject_set.save()\n",
    "\n",
    "print(subject_set_name, \"subject set created\")\n",
    "\n",
    "# Save the df as the subject metadata\n",
    "subject_metadata = upload_to_zoo[upload_to_zoo[\"#SiteCode\"]==sitecode_i].set_index('clip_comp_path').to_dict('index')\n",
    "\n",
    "# Upload the clips to Zooniverse (with metadata)\n",
    "new_subjects = []\n",
    "\n",
    "print(\"uploading subjects to Zooniverse\")\n",
    "for clip_path, metadata in tqdm(subject_metadata.items(), total=len(subject_metadata)):\n",
    "  subject = Subject()\n",
    "\n",
    "  subject.links.project = project\n",
    "  subject.add_location(clip_path)\n",
    "\n",
    "  subject.metadata.update(metadata)\n",
    "\n",
    "  subject.save()\n",
    "  new_subjects.append(subject)\n",
    "\n",
    "# Upload videos\n",
    "subject_set.add(new_subjects)\n",
    "\n",
    "print(\"Subjects uploaded to Zooniverse\")"
   ]
  },
  {
   "cell_type": "code",
   "execution_count": null,
   "id": "2bc1a28e",
   "metadata": {},
   "outputs": [],
   "source": [
    "#END"
   ]
  }
 ],
 "metadata": {
  "kernelspec": {
   "display_name": "Python 3",
   "language": "python",
   "name": "python3"
  },
  "language_info": {
   "codemirror_mode": {
    "name": "ipython",
    "version": 3
   },
   "file_extension": ".py",
   "mimetype": "text/x-python",
   "name": "python",
   "nbconvert_exporter": "python",
   "pygments_lexer": "ipython3",
   "version": "3.8.8"
  }
 },
 "nbformat": 4,
 "nbformat_minor": 5
}
