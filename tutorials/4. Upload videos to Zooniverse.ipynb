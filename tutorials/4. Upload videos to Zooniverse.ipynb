{
 "cells": [
  {
   "cell_type": "markdown",
   "id": "b169b8d0",
   "metadata": {},
   "source": [
    "<img align=\"left\" src=\"https://panoptes-uploads.zooniverse.org/project_avatar/86c23ca7-bbaa-4e84-8d8a-876819551431.png\" type=\"image/png\" height=100 width=100>\n",
    "</img>\n",
    "<h1 align=\"right\">KSO Tutorials #4: Add new clips to a Zooniverse workflow</h1>\n",
    "<h3 align=\"right\">Written by @jannesgg and @vykanton</h3>\n",
    "<h5 align=\"right\">Last updated: Nov 30th, 2021</h5>"
   ]
  },
  {
   "cell_type": "markdown",
   "id": "3ee20d67",
   "metadata": {},
   "source": [
    "# Set up and requirements"
   ]
  },
  {
   "cell_type": "markdown",
   "id": "896f0873",
   "metadata": {},
   "source": [
    "### Import Python packages"
   ]
  },
  {
   "cell_type": "code",
   "execution_count": 2,
   "id": "5451cddf",
   "metadata": {},
   "outputs": [
    {
     "data": {
      "application/javascript": [
       "require.config({\n",
       "    paths: {\n",
       "        datatables: 'https://cdn.datatables.net/1.10.19/js/jquery.dataTables.min',\n",
       "    }\n",
       "});\n",
       "\n",
       "$('head').append('<link rel=\"stylesheet\" type=\"text/css\" \\\n",
       "                href = \"https://cdn.datatables.net/1.10.19/css/jquery.dataTables.min.css\" > ');\n",
       "\n",
       "$('head').append('<style> table td { text-overflow: ellipsis; overflow: hidden; } </style>');\n",
       "\n",
       "$('head').append(`<script>\n",
       "function eval_functions(map_or_text) {\n",
       "    if (typeof map_or_text === \"string\") {\n",
       "        if (map_or_text.startsWith(\"function\")) {\n",
       "            try {\n",
       "                // Note: parenthesis are required around the whole expression for eval to return a value!\n",
       "                // See https://stackoverflow.com/a/7399078/911298.\n",
       "                //\n",
       "                // eval(\"local_fun = \" + map_or_text) would fail because local_fun is not declared\n",
       "                // (using var, let or const would work, but it would only be declared in the local scope\n",
       "                // and therefore the value could not be retrieved).\n",
       "                const func = eval(\"(\" + map_or_text + \")\");\n",
       "                if (typeof func !== \"function\") {\n",
       "                    // Note: backquotes are super convenient!\n",
       "                    // https://developer.mozilla.org/en-US/docs/Web/JavaScript/Reference/Template_literals\n",
       "                    console.error(\"Evaluated expression \" + map_or_text + \" is not a function (type is \" + typeof func + \")\");\n",
       "                    return map_or_text;\n",
       "                }\n",
       "                // Return the function\n",
       "                return func;\n",
       "            } catch (e) {\n",
       "                // Make sure to print the error with a second argument to console.error().\n",
       "                console.error(\"itables was not able to parse \" + map_or_text, e);\n",
       "            }\n",
       "        }\n",
       "    } else if (typeof map_or_text === \"object\") {\n",
       "        if (map_or_text instanceof Array) {\n",
       "            // Note: \"var\" is now superseded by \"let\" and \"const\".\n",
       "            // https://medium.com/javascript-scene/javascript-es6-var-let-or-const-ba58b8dcde75\n",
       "            const result = [];\n",
       "            // Note: \"for of\" is the best way to iterate through an iterable.\n",
       "            // https://developer.mozilla.org/en-US/docs/Web/JavaScript/Reference/Statements/for...of\n",
       "            for (const item of map_or_text) {\n",
       "                result.push(eval_functions(item));\n",
       "            }\n",
       "            return result;\n",
       "\n",
       "            // Alternatively, more functional approach in one line:\n",
       "            // return map_or_text.map(eval_functions);\n",
       "        } else {\n",
       "            const result = {};\n",
       "            // Object.keys() is safer than \"for in\" because otherwise you might have keys\n",
       "            // that aren't defined in the object itself.\n",
       "            //\n",
       "            // See https://stackoverflow.com/a/684692/911298.\n",
       "            for (const item of Object.keys(map_or_text)) {\n",
       "                result[item] = eval_functions(map_or_text[item]);\n",
       "            }\n",
       "            return result;\n",
       "        }\n",
       "    }\n",
       "\n",
       "    return map_or_text;\n",
       "}\n",
       "\n",
       "</` + 'script>');"
      ],
      "text/plain": [
       "<IPython.core.display.Javascript object>"
      ]
     },
     "metadata": {},
     "output_type": "display_data"
    },
    {
     "name": "stdout",
     "output_type": "stream",
     "text": [
      "Packages loaded successfully\n"
     ]
    }
   ],
   "source": [
    "# Set the directory of the libraries\n",
    "import sys\n",
    "sys.path.append('..')\n",
    "\n",
    "# Set to display dataframes as interactive tables\n",
    "from itables import init_notebook_mode\n",
    "init_notebook_mode(all_interactive=True)\n",
    "\n",
    "# Import required modules\n",
    "import kso_utils.tutorials_utils as t_utils\n",
    "import kso_utils.t4_utils as t4\n",
    "#import utils.server_utils as server_utils\n",
    "\n",
    "print(\"Packages loaded successfully\")"
   ]
  },
  {
   "cell_type": "markdown",
   "id": "8c51ffb6",
   "metadata": {},
   "source": [
    "### Choose your project"
   ]
  },
  {
   "cell_type": "code",
   "execution_count": 3,
   "id": "bfef12df",
   "metadata": {},
   "outputs": [
    {
     "data": {
      "application/vnd.jupyter.widget-view+json": {
       "model_id": "ecd8fd5fb03f44c7bfd30e60efecf080",
       "version_major": 2,
       "version_minor": 0
      },
      "text/plain": [
       "Dropdown(description='Project:', options=('Koster_Seafloor_Obs', 'Spyfish_Aotearoa', 'SGU'), value='Koster_Sea…"
      ]
     },
     "metadata": {},
     "output_type": "display_data"
    }
   ],
   "source": [
    "project = t_utils.choose_project()"
   ]
  },
  {
   "cell_type": "markdown",
   "id": "39f5065c",
   "metadata": {},
   "source": [
    "### Initiate sql and zoo project"
   ]
  },
  {
   "cell_type": "code",
   "execution_count": 4,
   "id": "8a7abc2f",
   "metadata": {
    "scrolled": true
   },
   "outputs": [
    {
     "name": "stdout",
     "output_type": "stream",
     "text": [
      "yes\n",
      "Enter your username for SNIC server········\n",
      "Enter your password for SNIC server········\n",
      "<paramiko.client.SSHClient object at 0x7fab43031580> <paramiko.sftp_client.SFTPClient object at 0x7fab43063370>\n",
      "Updated sites\n",
      "Updated movies\n",
      "Updated species\n"
     ]
    }
   ],
   "source": [
    "# Initiate db\n",
    "db_info_dict = t_utils.initiate_db(project.value)"
   ]
  },
  {
   "cell_type": "code",
   "execution_count": 5,
   "id": "10b4aa16",
   "metadata": {},
   "outputs": [
    {
     "name": "stdout",
     "output_type": "stream",
     "text": [
      "Enter your Zooniverse user········\n",
      "Enter your Zooniverse password········\n"
     ]
    }
   ],
   "source": [
    "# Connect to Zooniverse project\n",
    "zoo_project = t_utils.connect_zoo_project(project.value)"
   ]
  },
  {
   "cell_type": "markdown",
   "id": "50bac6cf",
   "metadata": {},
   "source": [
    "# Retrieve info about zooniverse clips"
   ]
  },
  {
   "cell_type": "code",
   "execution_count": 6,
   "id": "0c2d059b",
   "metadata": {},
   "outputs": [
    {
     "name": "stdout",
     "output_type": "stream",
     "text": [
      "Retrieving subjects from Zooniverse\n",
      "subjects were retrieved successfully\n",
      "Updated subjects\n",
      "The database has a total of 2342 frame subjects and 7362 clip subjects have been updated\n"
     ]
    }
   ],
   "source": [
    "zoo_info_dict = t_utils.retrieve__populate_zoo_info(project_name = project.value, \n",
    "                                                    db_info_dict = db_info_dict,\n",
    "                                                    zoo_project = zoo_project,\n",
    "                                                    zoo_info = [\"subjects\"])"
   ]
  },
  {
   "cell_type": "markdown",
   "id": "3bdb9ff9",
   "metadata": {},
   "source": [
    "# Retrieve info about movies hosted in the server"
   ]
  },
  {
   "cell_type": "code",
   "execution_count": 7,
   "id": "0fc41573",
   "metadata": {},
   "outputs": [
    {
     "name": "stdout",
     "output_type": "stream",
     "text": [
      "95 movies are mapped from the server\n"
     ]
    }
   ],
   "source": [
    "# Store info about the movies available in the server\n",
    "available_movies_df = t4.retrieve_movie_info_from_server(project_name = project.value,\n",
    "                                                         db_info_dict = db_info_dict)"
   ]
  },
  {
   "cell_type": "markdown",
   "id": "2dfc55a9",
   "metadata": {},
   "source": [
    "### Select the movie you want to upload to Zooniverse"
   ]
  },
  {
   "cell_type": "code",
   "execution_count": 8,
   "id": "6667d092",
   "metadata": {},
   "outputs": [
    {
     "data": {
      "application/vnd.jupyter.widget-view+json": {
       "model_id": "30f77cf2e37d432580888f4a3b59799e",
       "version_major": 2,
       "version_minor": 0
      },
      "text/plain": [
       "Combobox(value='', description='Movie to upload:', ensure_option=True, layout=Layout(width='50%'), options=('0…"
      ]
     },
     "metadata": {},
     "output_type": "display_data"
    }
   ],
   "source": [
    "movie_i = t4.movie_to_upload(available_movies_df = available_movies_df)"
   ]
  },
  {
   "cell_type": "markdown",
   "id": "8175cc89",
   "metadata": {},
   "source": [
    "### Check if movie is already in Zooniverse"
   ]
  },
  {
   "cell_type": "markdown",
   "id": "c84c92bf",
   "metadata": {},
   "source": [
    "Remember to query the newest zooniverse data to get the most up to date list of clips uploaded"
   ]
  },
  {
   "cell_type": "code",
   "execution_count": 9,
   "id": "dbe6b212",
   "metadata": {},
   "outputs": [
    {
     "name": "stdout",
     "output_type": "stream",
     "text": [
      "Film_3.mp4 has not been uploaded to Zooniverse yet\n"
     ]
    }
   ],
   "source": [
    "# Check movie hasn't been uploaded to Zooniverse\n",
    "t4.check_movie_uploaded(movie_i = movie_i.value,\n",
    "                        db_info_dict = db_info_dict)"
   ]
  },
  {
   "cell_type": "markdown",
   "id": "8812e34c",
   "metadata": {},
   "source": [
    "### Specify the number of clips and clip length"
   ]
  },
  {
   "cell_type": "code",
   "execution_count": 10,
   "id": "1fe5e435",
   "metadata": {},
   "outputs": [
    {
     "data": {
      "application/vnd.jupyter.widget-view+json": {
       "model_id": "7e9cbeebfc9a4ce1930acc7f624fc4e5",
       "version_major": 2,
       "version_minor": 0
      },
      "text/plain": [
       "interactive(children=(Dropdown(description='Length of clips:', options=(10, 5), value=10), IntRangeSlider(valu…"
      ]
     },
     "metadata": {},
     "output_type": "display_data"
    }
   ],
   "source": [
    "clip_selection = t4.select_clip_n_len(movie_i = movie_i.value,\n",
    "                                      db_info_dict = db_info_dict)"
   ]
  },
  {
   "cell_type": "markdown",
   "id": "921d56f6",
   "metadata": {},
   "source": [
    "### Review the clips that will be created"
   ]
  },
  {
   "cell_type": "code",
   "execution_count": 11,
   "id": "7d72f0d6",
   "metadata": {},
   "outputs": [
    {
     "name": "stdout",
     "output_type": "stream",
     "text": [
      "You are about to create 10 clips from Film_3.mp4\n",
      "starting at 0:00:00 and ending at 0:01:47\n"
     ]
    }
   ],
   "source": [
    "t4.review_clip_selection(clip_selection = clip_selection, \n",
    "                         movie_i = movie_i.value)"
   ]
  },
  {
   "cell_type": "markdown",
   "id": "04e58c56",
   "metadata": {},
   "source": [
    "### Create the clips"
   ]
  },
  {
   "cell_type": "code",
   "execution_count": 12,
   "id": "28dbcd14",
   "metadata": {},
   "outputs": [
    {
     "name": "stderr",
     "output_type": "stream",
     "text": [
      "100%|██████████| 10/10 [00:00<00:00, 3481.91it/s]"
     ]
    },
    {
     "name": "stdout",
     "output_type": "stream",
     "text": [
      "clips extracted successfully\n"
     ]
    },
    {
     "name": "stderr",
     "output_type": "stream",
     "text": [
      "\n"
     ]
    }
   ],
   "source": [
    "clips_to_upload_df = t4.create_clips(available_movies_df = available_movies_df, \n",
    "                                     movie_i = movie_i.value,\n",
    "                                     db_info_dict = db_info_dict,\n",
    "                                     clip_selection = clip_selection,  \n",
    "                                     project_name = project.value)"
   ]
  },
  {
   "cell_type": "markdown",
   "id": "01a91bb9",
   "metadata": {},
   "source": [
    "Make sure your workflows in Zooniverse have different names to avoid issues while selecting the workflow id"
   ]
  },
  {
   "cell_type": "markdown",
   "id": "d9ab084e",
   "metadata": {},
   "source": [
    "### Review clips"
   ]
  },
  {
   "cell_type": "code",
   "execution_count": 13,
   "id": "80c3e27f",
   "metadata": {},
   "outputs": [
    {
     "name": "stdout",
     "output_type": "stream",
     "text": [
      "Clips are a good size (below 8 MB). Ready to be uploaded to Zooniverse\n"
     ]
    },
    {
     "data": {
      "text/html": [
       "<div><table id=\"943108eb-4232-4595-bd07-fc4c9f87b6ab\" class=\"display\"><thead>\n",
       "    <tr style=\"text-align: right;\">\n",
       "      \n",
       "      <th>File_path</th>\n",
       "      <th>Size</th>\n",
       "    </tr>\n",
       "  </thead></table>\n",
       "<script type=\"text/javascript\">\n",
       "require([\"datatables\"], function (datatables) {\n",
       "    $(document).ready(function () {\n",
       "        var dt_args = {\"columnDefs\": [{\"width\": \"70px\", \"targets\": \"_all\"}], \"paging\": false, \"data\": [[\"Film_3.mp4_clips/Film_3.mp4_clip_0_10.mp4\", 0.130128], [\"Film_3.mp4_clips/Film_3.mp4_clip_10_10.mp4\", 0.173103], [\"Film_3.mp4_clips/Film_3.mp4_clip_20_10.mp4\", 0.224091], [\"Film_3.mp4_clips/Film_3.mp4_clip_30_10.mp4\", 0.224842], [\"Film_3.mp4_clips/Film_3.mp4_clip_40_10.mp4\", 0.263619], [\"Film_3.mp4_clips/Film_3.mp4_clip_50_10.mp4\", 0.242045], [\"Film_3.mp4_clips/Film_3.mp4_clip_60_10.mp4\", 0.159878], [\"Film_3.mp4_clips/Film_3.mp4_clip_70_10.mp4\", 0.125932], [\"Film_3.mp4_clips/Film_3.mp4_clip_80_10.mp4\", 0.124707], [\"Film_3.mp4_clips/Film_3.mp4_clip_90_10.mp4\", 0.118436]]};\n",
       "        dt_args = eval_functions(dt_args);\n",
       "        table = $('#943108eb-4232-4595-bd07-fc4c9f87b6ab').DataTable(dt_args);\n",
       "    });\n",
       "})\n",
       "</script>\n",
       "</div>\n"
      ],
      "text/plain": [
       "                                    File_path      Size\n",
       "0   Film_3.mp4_clips/Film_3.mp4_clip_0_10.mp4  0.130128\n",
       "1  Film_3.mp4_clips/Film_3.mp4_clip_10_10.mp4  0.173103\n",
       "2  Film_3.mp4_clips/Film_3.mp4_clip_20_10.mp4  0.224091\n",
       "3  Film_3.mp4_clips/Film_3.mp4_clip_30_10.mp4  0.224842\n",
       "4  Film_3.mp4_clips/Film_3.mp4_clip_40_10.mp4  0.263619\n",
       "5  Film_3.mp4_clips/Film_3.mp4_clip_50_10.mp4  0.242045\n",
       "6  Film_3.mp4_clips/Film_3.mp4_clip_60_10.mp4  0.159878\n",
       "7  Film_3.mp4_clips/Film_3.mp4_clip_70_10.mp4  0.125932\n",
       "8  Film_3.mp4_clips/Film_3.mp4_clip_80_10.mp4  0.124707\n",
       "9  Film_3.mp4_clips/Film_3.mp4_clip_90_10.mp4  0.118436"
      ]
     },
     "execution_count": 13,
     "metadata": {},
     "output_type": "execute_result"
    }
   ],
   "source": [
    "t4.check_clip_size(clip_paths = clips_to_upload_df[\"clip_path\"].unique())"
   ]
  },
  {
   "cell_type": "markdown",
   "id": "7b5c47b9",
   "metadata": {},
   "source": [
    "### Video modifications"
   ]
  },
  {
   "cell_type": "code",
   "execution_count": 14,
   "id": "a55b60c2",
   "metadata": {},
   "outputs": [
    {
     "data": {
      "application/vnd.jupyter.widget-view+json": {
       "model_id": "4154de5228ba4bc2814b3c8f6df0ac8e",
       "version_major": 2,
       "version_minor": 0
      },
      "text/plain": [
       "Dropdown(description='Select clip modification:', options=(('Color_correction', {'-crf': '30', '-c:v': 'libx26…"
      ]
     },
     "metadata": {},
     "output_type": "display_data"
    }
   ],
   "source": [
    "# Work in progress\n",
    "clip_modification = t4.select_modification()"
   ]
  },
  {
   "cell_type": "code",
   "execution_count": 15,
   "id": "6361c9b7",
   "metadata": {},
   "outputs": [
    {
     "name": "stderr",
     "output_type": "stream",
     "text": [
      "100%|██████████| 10/10 [00:04<00:00,  2.47it/s]"
     ]
    },
    {
     "name": "stdout",
     "output_type": "stream",
     "text": [
      "Clips modified successfully\n"
     ]
    },
    {
     "name": "stderr",
     "output_type": "stream",
     "text": [
      "\n"
     ]
    }
   ],
   "source": [
    "# Modify the clips\n",
    "clips_ready_df = t4.modify_clips(clips_to_upload_df = clips_to_upload_df.reset_index(drop=True), \n",
    "                                 movie_i = movie_i.value,\n",
    "                                 clip_modification = clip_modification.label, \n",
    "                                 modification_details = clip_modification.value)"
   ]
  },
  {
   "cell_type": "code",
   "execution_count": 16,
   "id": "76f78189",
   "metadata": {},
   "outputs": [
    {
     "name": "stdout",
     "output_type": "stream",
     "text": [
      "Clips are a good size (below 8 MB). Ready to be uploaded to Zooniverse\n"
     ]
    },
    {
     "data": {
      "text/html": [
       "<div><table id=\"17a34aa0-419e-4f7b-857b-25603fb1362a\" class=\"display\"><thead>\n",
       "    <tr style=\"text-align: right;\">\n",
       "      \n",
       "      <th>File_path</th>\n",
       "      <th>Size</th>\n",
       "    </tr>\n",
       "  </thead></table>\n",
       "<script type=\"text/javascript\">\n",
       "require([\"datatables\"], function (datatables) {\n",
       "    $(document).ready(function () {\n",
       "        var dt_args = {\"columnDefs\": [{\"width\": \"70px\", \"targets\": \"_all\"}], \"paging\": false, \"data\": [[\"modified_Film_3.mp4_clips/modifiedFilm_3.mp4_clip_0_10.mp4\", 0.079171], [\"modified_Film_3.mp4_clips/modifiedFilm_3.mp4_clip_10_10.mp4\", 0.118771], [\"modified_Film_3.mp4_clips/modifiedFilm_3.mp4_clip_20_10.mp4\", 0.161449], [\"modified_Film_3.mp4_clips/modifiedFilm_3.mp4_clip_30_10.mp4\", 0.160863], [\"modified_Film_3.mp4_clips/modifiedFilm_3.mp4_clip_40_10.mp4\", 0.18345], [\"modified_Film_3.mp4_clips/modifiedFilm_3.mp4_clip_50_10.mp4\", 0.166292], [\"modified_Film_3.mp4_clips/modifiedFilm_3.mp4_clip_60_10.mp4\", 0.084526], [\"modified_Film_3.mp4_clips/modifiedFilm_3.mp4_clip_70_10.mp4\", 0.058102], [\"modified_Film_3.mp4_clips/modifiedFilm_3.mp4_clip_80_10.mp4\", 0.056454], [\"modified_Film_3.mp4_clips/modifiedFilm_3.mp4_clip_90_10.mp4\", 0.052882]]};\n",
       "        dt_args = eval_functions(dt_args);\n",
       "        table = $('#17a34aa0-419e-4f7b-857b-25603fb1362a').DataTable(dt_args);\n",
       "    });\n",
       "})\n",
       "</script>\n",
       "</div>\n"
      ],
      "text/plain": [
       "                                           File_path      Size\n",
       "0  modified_Film_3.mp4_clips/modifiedFilm_3.mp4_c...  0.079171\n",
       "1  modified_Film_3.mp4_clips/modifiedFilm_3.mp4_c...  0.118771\n",
       "2  modified_Film_3.mp4_clips/modifiedFilm_3.mp4_c...  0.161449\n",
       "3  modified_Film_3.mp4_clips/modifiedFilm_3.mp4_c...  0.160863\n",
       "4  modified_Film_3.mp4_clips/modifiedFilm_3.mp4_c...  0.183450\n",
       "5  modified_Film_3.mp4_clips/modifiedFilm_3.mp4_c...  0.166292\n",
       "6  modified_Film_3.mp4_clips/modifiedFilm_3.mp4_c...  0.084526\n",
       "7  modified_Film_3.mp4_clips/modifiedFilm_3.mp4_c...  0.058102\n",
       "8  modified_Film_3.mp4_clips/modifiedFilm_3.mp4_c...  0.056454\n",
       "9  modified_Film_3.mp4_clips/modifiedFilm_3.mp4_c...  0.052882"
      ]
     },
     "execution_count": 16,
     "metadata": {},
     "output_type": "execute_result"
    }
   ],
   "source": [
    "# Review the size of the modified clips\n",
    "t4.check_clip_size(clip_paths = clips_ready_df[\"modif_clip_path\"].unique())"
   ]
  },
  {
   "cell_type": "code",
   "execution_count": 17,
   "id": "16a0aff8",
   "metadata": {},
   "outputs": [
    {
     "data": {
      "application/vnd.jupyter.widget-view+json": {
       "model_id": "f5cc17eb020f4cd1b31bd91f8d852eda",
       "version_major": 2,
       "version_minor": 0
      },
      "text/plain": [
       "Dropdown(description='Select original clip:', layout=Layout(width='50%'), options=('0 No movie', 'Film_3.mp4_c…"
      ]
     },
     "metadata": {},
     "output_type": "display_data"
    },
    {
     "data": {
      "application/vnd.jupyter.widget-view+json": {
       "model_id": "1d1df8ed92e94d5eb4b5ed2f0c7276ef",
       "version_major": 2,
       "version_minor": 0
      },
      "text/plain": [
       "Output()"
      ]
     },
     "metadata": {},
     "output_type": "display_data"
    }
   ],
   "source": [
    "# Compare the original and modified clips\n",
    "t4.compare_clips(df = clips_ready_df)"
   ]
  },
  {
   "cell_type": "markdown",
   "id": "c766c5f6",
   "metadata": {},
   "source": [
    "### Set Zooniverse metadata"
   ]
  },
  {
   "cell_type": "code",
   "execution_count": 24,
   "id": "6d474d60",
   "metadata": {},
   "outputs": [],
   "source": [
    "upload_to_zoo, sitename, created_on = t4.set_zoo_metadata(db_info_dict = db_info_dict, df = clips_ready_df,\n",
    "                                                          project_name = project.value)"
   ]
  },
  {
   "cell_type": "code",
   "execution_count": null,
   "id": "4a182463",
   "metadata": {},
   "outputs": [],
   "source": [
    "#upload_to_zoo = upload_to_zoo.fillna(\"unknown\")"
   ]
  },
  {
   "cell_type": "markdown",
   "id": "0d1d4f1f",
   "metadata": {},
   "source": [
    "### Upload clips to Zooniverse"
   ]
  },
  {
   "cell_type": "markdown",
   "id": "92930b3e",
   "metadata": {},
   "source": [
    "You may receive an error message related to file size if clips exceed the recommended limit for Zooniverse uploads. In this case, we recommend shortening the clip length to achieve a suitable filesize."
   ]
  },
  {
   "cell_type": "code",
   "execution_count": 25,
   "id": "417a49b7",
   "metadata": {},
   "outputs": [
    {
     "name": "stderr",
     "output_type": "stream",
     "text": [
      "\r",
      "  0%|          | 0/10 [00:00<?, ?it/s]"
     ]
    },
    {
     "name": "stdout",
     "output_type": "stream",
     "text": [
      "10_clips_Reef Säcken_1/01/2019 subject set created\n",
      "uploading subjects to Zooniverse\n",
      "modified_Film_3.mp4_clips/modifiedFilm_3.mp4_clip_0_10.mp4\n",
      "{'upl_seconds': 0, '#clip_length': 10, '#created_on': '1/01/2019', 'VideoFilename': 'Film_3.mp4', '#siteName': 'Reef Säcken', '#clip_modification_details': \"{'-crf': '30', '-c:v': 'libx264', '-pix_fmt': 'yuv420p', '-preset': 'veryfast'}\", 'Subject_type': 'clip', 'siteName': 'Reef Säcken', '#decimalLatitude': 59.01442972, '#decimalLongitude': 11.11670409, '#geodeticDatum': 'EPSG:4326', '#countryCode': 'SE'}\n"
     ]
    },
    {
     "name": "stderr",
     "output_type": "stream",
     "text": [
      "\r",
      " 10%|█         | 1/10 [00:01<00:09,  1.07s/it]"
     ]
    },
    {
     "name": "stdout",
     "output_type": "stream",
     "text": [
      "subject saved\n",
      "modified_Film_3.mp4_clips/modifiedFilm_3.mp4_clip_10_10.mp4\n",
      "{'upl_seconds': 10, '#clip_length': 10, '#created_on': '1/01/2019', 'VideoFilename': 'Film_3.mp4', '#siteName': 'Reef Säcken', '#clip_modification_details': \"{'-crf': '30', '-c:v': 'libx264', '-pix_fmt': 'yuv420p', '-preset': 'veryfast'}\", 'Subject_type': 'clip', 'siteName': 'Reef Säcken', '#decimalLatitude': 59.01442972, '#decimalLongitude': 11.11670409, '#geodeticDatum': 'EPSG:4326', '#countryCode': 'SE'}\n"
     ]
    },
    {
     "name": "stderr",
     "output_type": "stream",
     "text": [
      "\r",
      " 20%|██        | 2/10 [00:02<00:08,  1.06s/it]"
     ]
    },
    {
     "name": "stdout",
     "output_type": "stream",
     "text": [
      "subject saved\n",
      "modified_Film_3.mp4_clips/modifiedFilm_3.mp4_clip_20_10.mp4\n",
      "{'upl_seconds': 20, '#clip_length': 10, '#created_on': '1/01/2019', 'VideoFilename': 'Film_3.mp4', '#siteName': 'Reef Säcken', '#clip_modification_details': \"{'-crf': '30', '-c:v': 'libx264', '-pix_fmt': 'yuv420p', '-preset': 'veryfast'}\", 'Subject_type': 'clip', 'siteName': 'Reef Säcken', '#decimalLatitude': 59.01442972, '#decimalLongitude': 11.11670409, '#geodeticDatum': 'EPSG:4326', '#countryCode': 'SE'}\n"
     ]
    },
    {
     "name": "stderr",
     "output_type": "stream",
     "text": [
      "\r",
      " 30%|███       | 3/10 [00:03<00:07,  1.07s/it]"
     ]
    },
    {
     "name": "stdout",
     "output_type": "stream",
     "text": [
      "subject saved\n",
      "modified_Film_3.mp4_clips/modifiedFilm_3.mp4_clip_30_10.mp4\n",
      "{'upl_seconds': 30, '#clip_length': 10, '#created_on': '1/01/2019', 'VideoFilename': 'Film_3.mp4', '#siteName': 'Reef Säcken', '#clip_modification_details': \"{'-crf': '30', '-c:v': 'libx264', '-pix_fmt': 'yuv420p', '-preset': 'veryfast'}\", 'Subject_type': 'clip', 'siteName': 'Reef Säcken', '#decimalLatitude': 59.01442972, '#decimalLongitude': 11.11670409, '#geodeticDatum': 'EPSG:4326', '#countryCode': 'SE'}\n"
     ]
    },
    {
     "name": "stderr",
     "output_type": "stream",
     "text": [
      "\r",
      " 40%|████      | 4/10 [00:04<00:06,  1.10s/it]"
     ]
    },
    {
     "name": "stdout",
     "output_type": "stream",
     "text": [
      "subject saved\n",
      "modified_Film_3.mp4_clips/modifiedFilm_3.mp4_clip_40_10.mp4\n",
      "{'upl_seconds': 40, '#clip_length': 10, '#created_on': '1/01/2019', 'VideoFilename': 'Film_3.mp4', '#siteName': 'Reef Säcken', '#clip_modification_details': \"{'-crf': '30', '-c:v': 'libx264', '-pix_fmt': 'yuv420p', '-preset': 'veryfast'}\", 'Subject_type': 'clip', 'siteName': 'Reef Säcken', '#decimalLatitude': 59.01442972, '#decimalLongitude': 11.11670409, '#geodeticDatum': 'EPSG:4326', '#countryCode': 'SE'}\n"
     ]
    },
    {
     "name": "stderr",
     "output_type": "stream",
     "text": [
      "\r",
      " 50%|█████     | 5/10 [00:05<00:05,  1.09s/it]"
     ]
    },
    {
     "name": "stdout",
     "output_type": "stream",
     "text": [
      "subject saved\n",
      "modified_Film_3.mp4_clips/modifiedFilm_3.mp4_clip_50_10.mp4\n",
      "{'upl_seconds': 50, '#clip_length': 10, '#created_on': '1/01/2019', 'VideoFilename': 'Film_3.mp4', '#siteName': 'Reef Säcken', '#clip_modification_details': \"{'-crf': '30', '-c:v': 'libx264', '-pix_fmt': 'yuv420p', '-preset': 'veryfast'}\", 'Subject_type': 'clip', 'siteName': 'Reef Säcken', '#decimalLatitude': 59.01442972, '#decimalLongitude': 11.11670409, '#geodeticDatum': 'EPSG:4326', '#countryCode': 'SE'}\n"
     ]
    },
    {
     "name": "stderr",
     "output_type": "stream",
     "text": [
      "\r",
      " 60%|██████    | 6/10 [00:06<00:04,  1.09s/it]"
     ]
    },
    {
     "name": "stdout",
     "output_type": "stream",
     "text": [
      "subject saved\n",
      "modified_Film_3.mp4_clips/modifiedFilm_3.mp4_clip_60_10.mp4\n",
      "{'upl_seconds': 60, '#clip_length': 10, '#created_on': '1/01/2019', 'VideoFilename': 'Film_3.mp4', '#siteName': 'Reef Säcken', '#clip_modification_details': \"{'-crf': '30', '-c:v': 'libx264', '-pix_fmt': 'yuv420p', '-preset': 'veryfast'}\", 'Subject_type': 'clip', 'siteName': 'Reef Säcken', '#decimalLatitude': 59.01442972, '#decimalLongitude': 11.11670409, '#geodeticDatum': 'EPSG:4326', '#countryCode': 'SE'}\n"
     ]
    },
    {
     "name": "stderr",
     "output_type": "stream",
     "text": [
      "\r",
      " 70%|███████   | 7/10 [00:07<00:03,  1.05s/it]"
     ]
    },
    {
     "name": "stdout",
     "output_type": "stream",
     "text": [
      "subject saved\n",
      "modified_Film_3.mp4_clips/modifiedFilm_3.mp4_clip_70_10.mp4\n",
      "{'upl_seconds': 70, '#clip_length': 10, '#created_on': '1/01/2019', 'VideoFilename': 'Film_3.mp4', '#siteName': 'Reef Säcken', '#clip_modification_details': \"{'-crf': '30', '-c:v': 'libx264', '-pix_fmt': 'yuv420p', '-preset': 'veryfast'}\", 'Subject_type': 'clip', 'siteName': 'Reef Säcken', '#decimalLatitude': 59.01442972, '#decimalLongitude': 11.11670409, '#geodeticDatum': 'EPSG:4326', '#countryCode': 'SE'}\n"
     ]
    },
    {
     "name": "stderr",
     "output_type": "stream",
     "text": [
      "\r",
      " 80%|████████  | 8/10 [00:08<00:02,  1.02s/it]"
     ]
    },
    {
     "name": "stdout",
     "output_type": "stream",
     "text": [
      "subject saved\n",
      "modified_Film_3.mp4_clips/modifiedFilm_3.mp4_clip_80_10.mp4\n",
      "{'upl_seconds': 80, '#clip_length': 10, '#created_on': '1/01/2019', 'VideoFilename': 'Film_3.mp4', '#siteName': 'Reef Säcken', '#clip_modification_details': \"{'-crf': '30', '-c:v': 'libx264', '-pix_fmt': 'yuv420p', '-preset': 'veryfast'}\", 'Subject_type': 'clip', 'siteName': 'Reef Säcken', '#decimalLatitude': 59.01442972, '#decimalLongitude': 11.11670409, '#geodeticDatum': 'EPSG:4326', '#countryCode': 'SE'}\n"
     ]
    },
    {
     "name": "stderr",
     "output_type": "stream",
     "text": [
      "\r",
      " 90%|█████████ | 9/10 [00:09<00:01,  1.00s/it]"
     ]
    },
    {
     "name": "stdout",
     "output_type": "stream",
     "text": [
      "subject saved\n",
      "modified_Film_3.mp4_clips/modifiedFilm_3.mp4_clip_90_10.mp4\n",
      "{'upl_seconds': 90, '#clip_length': 10, '#created_on': '1/01/2019', 'VideoFilename': 'Film_3.mp4', '#siteName': 'Reef Säcken', '#clip_modification_details': \"{'-crf': '30', '-c:v': 'libx264', '-pix_fmt': 'yuv420p', '-preset': 'veryfast'}\", 'Subject_type': 'clip', 'siteName': 'Reef Säcken', '#decimalLatitude': 59.01442972, '#decimalLongitude': 11.11670409, '#geodeticDatum': 'EPSG:4326', '#countryCode': 'SE'}\n"
     ]
    },
    {
     "name": "stderr",
     "output_type": "stream",
     "text": [
      "100%|██████████| 10/10 [00:10<00:00,  1.04s/it]"
     ]
    },
    {
     "name": "stdout",
     "output_type": "stream",
     "text": [
      "subject saved\n"
     ]
    },
    {
     "name": "stderr",
     "output_type": "stream",
     "text": [
      "\n"
     ]
    },
    {
     "name": "stdout",
     "output_type": "stream",
     "text": [
      "Subjects uploaded to Zooniverse\n"
     ]
    }
   ],
   "source": [
    "t4.upload_clips_to_zooniverse(upload_to_zoo = upload_to_zoo, \n",
    "                              sitename = sitename,\n",
    "                              created_on = created_on,\n",
    "                              project = str(zoo_info_dict[\"subjects\"][\"project_id\"].unique()[0]))"
   ]
  },
  {
   "cell_type": "code",
   "execution_count": null,
   "id": "2bc1a28e",
   "metadata": {},
   "outputs": [],
   "source": [
    "#END"
   ]
  }
 ],
 "metadata": {
  "kernelspec": {
   "display_name": "odf",
   "language": "python",
   "name": "odf"
  },
  "language_info": {
   "codemirror_mode": {
    "name": "ipython",
    "version": 3
   },
   "file_extension": ".py",
   "mimetype": "text/x-python",
   "name": "python",
   "nbconvert_exporter": "python",
   "pygments_lexer": "ipython3",
   "version": "3.8.8"
  }
 },
 "nbformat": 4,
 "nbformat_minor": 5
}
