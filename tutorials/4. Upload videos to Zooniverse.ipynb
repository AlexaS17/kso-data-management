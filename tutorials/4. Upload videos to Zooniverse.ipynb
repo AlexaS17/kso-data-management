{
 "cells": [
  {
   "cell_type": "markdown",
   "id": "b169b8d0",
   "metadata": {},
   "source": [
    "<img align=\"left\" src=\"https://panoptes-uploads.zooniverse.org/project_avatar/86c23ca7-bbaa-4e84-8d8a-876819551431.png\" type=\"image/png\" height=100 width=100>\n",
    "</img>\n",
    "<h1 align=\"right\">KSO Tutorials #4: Add new clips to a Zooniverse workflow</h1>\n",
    "<h3 align=\"right\">Written by @jannesgg and @vykanton</h3>\n",
    "<h5 align=\"right\">Last updated: Nov 8th, 2021</h5>"
   ]
  },
  {
   "cell_type": "markdown",
   "id": "3ee20d67",
   "metadata": {},
   "source": [
    "# Set up and requirements"
   ]
  },
  {
   "cell_type": "markdown",
   "id": "896f0873",
   "metadata": {},
   "source": [
    "### Import Python packages"
   ]
  },
  {
   "cell_type": "code",
   "execution_count": null,
   "id": "5451cddf",
   "metadata": {},
   "outputs": [],
   "source": [
    "# Set the directory of the libraries\n",
    "import sys\n",
    "sys.path.append('..')\n",
    "\n",
    "# Set to display dataframes as interactive tables\n",
    "from itables import init_notebook_mode\n",
    "init_notebook_mode(all_interactive=True)\n",
    "\n",
    "# Import required modules\n",
    "import utils.tutorials_utils as t_utils\n",
    "import utils.server_utils as serv_utils\n",
    "import utils.t4_utils as t4\n",
    "import utils.zooniverse_utils as zoo\n",
    "\n",
    "print(\"Packages loaded successfully\")"
   ]
  },
  {
   "cell_type": "markdown",
   "id": "8c51ffb6",
   "metadata": {},
   "source": [
    "### Choose your project"
   ]
  },
  {
   "cell_type": "code",
   "execution_count": null,
   "id": "bfef12df",
   "metadata": {},
   "outputs": [],
   "source": [
    "project = t_utils.choose_project()"
   ]
  },
  {
   "cell_type": "markdown",
   "id": "7e029795",
   "metadata": {},
   "source": [
    "### Initiate SQL database and populate sites, movies and species"
   ]
  },
  {
   "cell_type": "code",
   "execution_count": null,
   "id": "78a4347d",
   "metadata": {},
   "outputs": [],
   "source": [
    "# Specify the path of the movies \n",
    "movies_path = \"/uploads\"\n",
    "\n",
    "# Specify the path of the sql database\n",
    "db_path = \"koster_lab.db\"\n",
    "\n",
    "# Initiate the SQL database \n",
    "%run -i \"../db_starter/starter.py\" --movies_path $movies_path --db_path $db_path --project_name $project.value"
   ]
  },
  {
   "cell_type": "markdown",
   "id": "50bac6cf",
   "metadata": {},
   "source": [
    "# Retrieve info about zooniverse clips"
   ]
  },
  {
   "cell_type": "code",
   "execution_count": null,
   "id": "0c2d059b",
   "metadata": {},
   "outputs": [],
   "source": [
    "# Save your Zooniverse user name and password.\n",
    "zoo_user, zoo_pass = zoo.zoo_credentials()"
   ]
  },
  {
   "cell_type": "code",
   "execution_count": null,
   "id": "c14bc049",
   "metadata": {},
   "outputs": [],
   "source": [
    "# Specify the Zooniverse information required throughout the tutorial\n",
    "zoo_info = [\"subjects\"]\n",
    "\n",
    "# Retrieve and store the Zooniverse information required throughout the tutorial in a dictionary\n",
    "zoo_info_dict = zoo.retrieve_zoo_info(zoo_user, zoo_pass, project.value, zoo_info)"
   ]
  },
  {
   "cell_type": "code",
   "execution_count": null,
   "id": "25d7a08c",
   "metadata": {},
   "outputs": [],
   "source": [
    "# Populate the sql with subjects uploaded to Zooniverse\n",
    "zoo.populate_subjects(zoo_info_dict[\"subjects\"], project.value, db_path)"
   ]
  },
  {
   "cell_type": "markdown",
   "id": "bcce7d50",
   "metadata": {},
   "source": [
    "## List available clips to upload to Zooniverse"
   ]
  },
  {
   "cell_type": "code",
   "execution_count": null,
   "id": "b8390d00",
   "metadata": {},
   "outputs": [],
   "source": [
    "import pandas as pd\n",
    "import ipywidgets as widgets\n",
    "\n",
    "\n",
    "def choose_project():\n",
    "    \n",
    "    # Specify location of the latest list of projects\n",
    "    projects_csv = \"../db_starter/projects_list.csv\" \n",
    "    \n",
    "    # Read the latest list of projects\n",
    "    projects_df = pd.read_csv(projects_csv)\n",
    "    \n",
    "    # Display the project options\n",
    "    choose_project = widgets.Dropdown(\n",
    "        options=projects_df.Project_name.unique().tolist(),\n",
    "        value=projects_df.Project_name.unique().tolist()[0],\n",
    "        description=\"Project:\",\n",
    "        disabled=False,\n",
    "    )\n",
    "    \n",
    "    display(choose_project)\n",
    "    return choose_project\n",
    "\n",
    "def choose_server():\n",
    "    \n",
    "    # Select server storage\n",
    "    server_i = widgets.Dropdown(\n",
    "        options=[\"local\",\"AWS\",\"Chalmers\"],\n",
    "        description='Choose server:',\n",
    "        ensure_option=True,\n",
    "        disabled=False,\n",
    "    )\n",
    "    \n",
    "    display(server_i)\n",
    "    \n",
    "    return server_i    \n",
    "    \n",
    "def choose_single_workflow(workflows_df):\n",
    "\n",
    "    layout = widgets.Layout(width=\"auto\", height=\"40px\")  # set width and height\n",
    "\n",
    "    # Display the names of the workflows\n",
    "    workflow_name = widgets.Dropdown(\n",
    "        options=workflows_df.display_name.unique().tolist(),\n",
    "        value=workflows_df.display_name.unique().tolist()[0],\n",
    "        description=\"Workflow name:\",\n",
    "        disabled=False,\n",
    "    )\n",
    "\n",
    "    # Display the type of subjects\n",
    "    subj_type = widgets.Dropdown(\n",
    "        options=[\"frame\", \"clip\"],\n",
    "        value=\"clip\",\n",
    "        description=\"Subject type:\",\n",
    "        disabled=False,\n",
    "    )\n",
    "\n",
    "    display(workflow_name)\n",
    "    display(subj_type)\n",
    "\n",
    "    return workflow_name, subj_type\n",
    "\n",
    "def choose_clip_workflows(workflows_df):\n",
    "\n",
    "    layout = widgets.Layout(width=\"auto\", height=\"40px\")  # set width and height\n",
    "\n",
    "    # Display the names of the workflows\n",
    "    workflow_name = widgets.SelectMultiple(\n",
    "        options=workflows_df.display_name.unique().tolist(),\n",
    "        description=\"Workflow name:\",\n",
    "        disabled=False,\n",
    "    )\n",
    "\n",
    "    \n",
    "    display(workflow_name)\n",
    "\n",
    "    return workflow_name"
   ]
  },
  {
   "cell_type": "code",
   "execution_count": null,
   "id": "6b54c7de",
   "metadata": {},
   "outputs": [],
   "source": [
    "# Specify the server to connect to\n",
    "#server_i = t_utils.choose_server()\n",
    "server_i = choose_server()"
   ]
  },
  {
   "cell_type": "code",
   "execution_count": null,
   "id": "913e83bf",
   "metadata": {},
   "outputs": [],
   "source": [
    "# Check available movies from the server to upload\n",
    "movies_to_upload = server_i.value)"
   ]
  },
  {
   "cell_type": "code",
   "execution_count": null,
   "id": "dfc867c4",
   "metadata": {},
   "outputs": [],
   "source": [
    "# and exclude potential clips already uploaded (to avoid duplicates)"
   ]
  },
  {
   "cell_type": "markdown",
   "id": "01a91bb9",
   "metadata": {},
   "source": [
    "Make sure your workflows in Zooniverse have different names to avoid issues while selecting the workflow id"
   ]
  },
  {
   "cell_type": "code",
   "execution_count": null,
   "id": "ff93f1d0",
   "metadata": {},
   "outputs": [],
   "source": [
    "# Select the subject_set to upload the files to"
   ]
  },
  {
   "cell_type": "code",
   "execution_count": null,
   "id": "ae6497f8",
   "metadata": {},
   "outputs": [],
   "source": [
    "# Specify how many clips per movie and/or site should be uploaded to Zooniverse"
   ]
  },
  {
   "cell_type": "markdown",
   "id": "7b5c47b9",
   "metadata": {},
   "source": [
    "### Video modifications"
   ]
  },
  {
   "cell_type": "code",
   "execution_count": null,
   "id": "27579fb0",
   "metadata": {},
   "outputs": [],
   "source": [
    "# Choose to reduce the size of the videos, remove audio or blur sensitive portions\n"
   ]
  },
  {
   "cell_type": "markdown",
   "id": "43eb83e2",
   "metadata": {},
   "source": [
    "### Preview of videos"
   ]
  },
  {
   "cell_type": "code",
   "execution_count": null,
   "id": "e487f42a",
   "metadata": {},
   "outputs": [],
   "source": []
  },
  {
   "cell_type": "markdown",
   "id": "d9ab084e",
   "metadata": {},
   "source": [
    "### Preview of clips"
   ]
  },
  {
   "cell_type": "code",
   "execution_count": null,
   "id": "078cd343",
   "metadata": {},
   "outputs": [],
   "source": [
    "#"
   ]
  },
  {
   "cell_type": "markdown",
   "id": "0d1d4f1f",
   "metadata": {},
   "source": [
    "### Upload clips to Zooniverse"
   ]
  },
  {
   "cell_type": "markdown",
   "id": "92930b3e",
   "metadata": {},
   "source": [
    "You may receive an error message related to file size if clips exceed the recommended limit for Zooniverse uploads. In this case, we recommend shortening the clip length to achieve a suitable filesize."
   ]
  },
  {
   "cell_type": "code",
   "execution_count": null,
   "id": "080ca856",
   "metadata": {},
   "outputs": [],
   "source": [
    "# Upload clips to Zoo\n"
   ]
  },
  {
   "cell_type": "code",
   "execution_count": null,
   "id": "2bc1a28e",
   "metadata": {},
   "outputs": [],
   "source": []
  }
 ],
 "metadata": {
  "kernelspec": {
   "display_name": "Python 3",
   "language": "python",
   "name": "python3"
  },
  "language_info": {
   "codemirror_mode": {
    "name": "ipython",
    "version": 3
   },
   "file_extension": ".py",
   "mimetype": "text/x-python",
   "name": "python",
   "nbconvert_exporter": "python",
   "pygments_lexer": "ipython3",
   "version": "3.8.8"
  }
 },
 "nbformat": 4,
 "nbformat_minor": 5
}
