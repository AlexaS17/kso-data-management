{
 "cells": [
  {
   "cell_type": "markdown",
   "id": "b169b8d0",
   "metadata": {},
   "source": [
    "<img align=\"left\" src=\"https://panoptes-uploads.zooniverse.org/project_avatar/86c23ca7-bbaa-4e84-8d8a-876819551431.png\" type=\"image/png\" height=100 width=100>\n",
    "</img>\n",
    "<h1 align=\"right\">KSO Tutorials #4: Add new clips to a Zooniverse workflow</h1>\n",
    "<h3 align=\"right\">Written by @jannesgg and @vykanton</h3>\n",
    "<h5 align=\"right\">Last updated: Nov 8th, 2021</h5>"
   ]
  },
  {
   "cell_type": "markdown",
   "id": "3ee20d67",
   "metadata": {},
   "source": [
    "# Set up and requirements"
   ]
  },
  {
   "cell_type": "markdown",
   "id": "896f0873",
   "metadata": {},
   "source": [
    "### Import Python packages"
   ]
  },
  {
   "cell_type": "code",
   "execution_count": null,
   "id": "5451cddf",
   "metadata": {},
   "outputs": [],
   "source": [
    "# Set the directory of the libraries\n",
    "import sys\n",
    "sys.path.append('..')\n",
    "\n",
    "# Set to display dataframes as interactive tables\n",
    "from itables import init_notebook_mode\n",
    "init_notebook_mode(all_interactive=True)\n",
    "\n",
    "# Import required modules\n",
    "import utils.tutorials_utils as t_utils\n",
    "import utils.t4_utils as t4\n",
    "\n",
    "print(\"Packages loaded successfully\")"
   ]
  },
  {
   "cell_type": "markdown",
   "id": "8c51ffb6",
   "metadata": {},
   "source": [
    "### Choose your project"
   ]
  },
  {
   "cell_type": "code",
   "execution_count": null,
   "id": "bfef12df",
   "metadata": {},
   "outputs": [],
   "source": [
    "project = t_utils.choose_project()"
   ]
  },
  {
   "cell_type": "markdown",
   "id": "7e029795",
   "metadata": {},
   "source": [
    "### Initiate SQL database and populate sites, movies and species"
   ]
  },
  {
   "cell_type": "code",
   "execution_count": null,
   "id": "78a4347d",
   "metadata": {},
   "outputs": [],
   "source": [
    "# Initiate the SQL database \n",
    "%run -i \"../db_starter/starter.py\" --project_name $project.value"
   ]
  },
  {
   "cell_type": "markdown",
   "id": "50bac6cf",
   "metadata": {},
   "source": [
    "# Retrieve info about zooniverse clips"
   ]
  },
  {
   "cell_type": "code",
   "execution_count": null,
   "id": "0c2d059b",
   "metadata": {},
   "outputs": [],
   "source": [
    "zoo_clips_info_dict, zoo_project = t4.retrieve_zoo_clips_info(project_name = project.value, \n",
    "                                                              zoo_info = [\"subjects\"])"
   ]
  },
  {
   "cell_type": "markdown",
   "id": "3bdb9ff9",
   "metadata": {},
   "source": [
    "# Retrieve info about movies hosted in the server"
   ]
  },
  {
   "cell_type": "code",
   "execution_count": null,
   "id": "6b54c7de",
   "metadata": {},
   "outputs": [],
   "source": [
    "# Choose the server where the movies are hosted\n",
    "server_i = t_utils.choose_server()"
   ]
  },
  {
   "cell_type": "code",
   "execution_count": null,
   "id": "0fc41573",
   "metadata": {},
   "outputs": [],
   "source": [
    "# Store info about the movies available in the server\n",
    "available_movies_df, server_i_dict = t4.retrieve_movie_info_from_server(server_i = server_i.value)"
   ]
  },
  {
   "cell_type": "markdown",
   "id": "2dfc55a9",
   "metadata": {},
   "source": [
    "### Select the movie you want to upload to Zooniverse"
   ]
  },
  {
   "cell_type": "code",
   "execution_count": null,
   "id": "6667d092",
   "metadata": {},
   "outputs": [],
   "source": [
    "movie_i = t4.movie_to_upload(available_movies_df = available_movies_df)"
   ]
  },
  {
   "cell_type": "markdown",
   "id": "8175cc89",
   "metadata": {},
   "source": [
    "### Check if movie is already in Zooniverse"
   ]
  },
  {
   "cell_type": "markdown",
   "id": "c84c92bf",
   "metadata": {},
   "source": [
    "Remember to query the newest zooniverse data to get the most up to date list of clips uploaded"
   ]
  },
  {
   "cell_type": "code",
   "execution_count": null,
   "id": "dbe6b212",
   "metadata": {},
   "outputs": [],
   "source": [
    "# Check movie hasn't been uploaded to Zooniverse\n",
    "t4.check_movie_uploaded(project_name = project.value, \n",
    "                        movie_i = movie_i.value)"
   ]
  },
  {
   "cell_type": "markdown",
   "id": "8812e34c",
   "metadata": {},
   "source": [
    "### Specify the number of clips and clip length"
   ]
  },
  {
   "cell_type": "code",
   "execution_count": null,
   "id": "1fe5e435",
   "metadata": {},
   "outputs": [],
   "source": [
    "clip_selection = t4.select_clip_n_len(movie_i = movie_i.value)"
   ]
  },
  {
   "cell_type": "markdown",
   "id": "921d56f6",
   "metadata": {},
   "source": [
    "### Review the clips that will be created"
   ]
  },
  {
   "cell_type": "code",
   "execution_count": null,
   "id": "7d72f0d6",
   "metadata": {},
   "outputs": [],
   "source": [
    "t4.review_clip_selection(clip_selection = clip_selection, \n",
    "                         movie_i = movie_i.value)"
   ]
  },
  {
   "cell_type": "markdown",
   "id": "04e58c56",
   "metadata": {},
   "source": [
    "### Create the clips"
   ]
  },
  {
   "cell_type": "code",
   "execution_count": null,
   "id": "28dbcd14",
   "metadata": {},
   "outputs": [],
   "source": [
    "clips_to_upload_df = t4.create_clips(available_movies_df = available_movies_df, \n",
    "                                     movie_i = movie_i.value, \n",
    "                                     clip_selection = clip_selection, \n",
    "                                     server = server_i.value, \n",
    "                                     project_name = project.value)"
   ]
  },
  {
   "cell_type": "markdown",
   "id": "01a91bb9",
   "metadata": {},
   "source": [
    "Make sure your workflows in Zooniverse have different names to avoid issues while selecting the workflow id"
   ]
  },
  {
   "cell_type": "markdown",
   "id": "d9ab084e",
   "metadata": {},
   "source": [
    "### Review clips"
   ]
  },
  {
   "cell_type": "code",
   "execution_count": null,
   "id": "80c3e27f",
   "metadata": {},
   "outputs": [],
   "source": [
    "t4.check_clip_size(clip_paths = clips_to_upload_df[\"clip_path\"].unique())"
   ]
  },
  {
   "cell_type": "markdown",
   "id": "7b5c47b9",
   "metadata": {},
   "source": [
    "### Video modifications"
   ]
  },
  {
   "cell_type": "code",
   "execution_count": null,
   "id": "a55b60c2",
   "metadata": {},
   "outputs": [],
   "source": [
    "# Work in progress\n",
    "clip_modification = t4.select_modification()"
   ]
  },
  {
   "cell_type": "code",
   "execution_count": null,
   "id": "46bab2bf",
   "metadata": {},
   "outputs": [],
   "source": [
    "# Write the clip modification details. See ffmpeg documentation for instructions (http://ffmpeg.org/ffmpeg.html)\n",
    "modification_details = {\n",
    "  \"-crf\": \"30\",\n",
    "  \"-c:v\": \"libx264\",\n",
    "  \"-vf\": \"curves=red=0/0 0.396/0.67 1/1:green=0/0 0.525/0.451 1/1:blue=0/0 0.459/0.517 1/1,scale=1280:-1\",#borrowed from https://www.element84.com/blog/color-correction-in-space-and-at-sea                         \n",
    "  \"-pix_fmt\": \"yuv420p\",\n",
    "  \"-preset\": \"veryfast\"\n",
    "}"
   ]
  },
  {
   "cell_type": "code",
   "execution_count": null,
   "id": "6361c9b7",
   "metadata": {},
   "outputs": [],
   "source": [
    "# Modify the clips\n",
    "clips_ready_df = t4.modify_clips(clips_to_upload_df = clips_to_upload_df[175:179].reset_index(drop=True), \n",
    "                                 clip_modification = clip_modification.value, \n",
    "                                 modification_details = modification_details)"
   ]
  },
  {
   "cell_type": "code",
   "execution_count": null,
   "id": "76f78189",
   "metadata": {},
   "outputs": [],
   "source": [
    "# Review the size of the modified clips\n",
    "t4.check_clip_size(clip_paths = clips_ready_df[\"modif_clip_path\"].unique())"
   ]
  },
  {
   "cell_type": "code",
   "execution_count": null,
   "id": "16a0aff8",
   "metadata": {},
   "outputs": [],
   "source": [
    "# Compare the original and modified clips\n",
    "t4.compare_clips(df = clips_ready_df)"
   ]
  },
  {
   "cell_type": "markdown",
   "id": "c766c5f6",
   "metadata": {},
   "source": [
    "### Set Zooniverse metadata"
   ]
  },
  {
   "cell_type": "code",
   "execution_count": null,
   "id": "6d474d60",
   "metadata": {},
   "outputs": [],
   "source": [
    "upload_to_zoo, sitename, created_on = t4.set_zoo_metadata(df = clips_ready_df,\n",
    "                                                          project_name = project.value)\n",
    "upload_to_zoo = upload_to_zoo.fillna(\"unknown\")"
   ]
  },
  {
   "cell_type": "markdown",
   "id": "0d1d4f1f",
   "metadata": {},
   "source": [
    "### Upload clips to Zooniverse"
   ]
  },
  {
   "cell_type": "markdown",
   "id": "92930b3e",
   "metadata": {},
   "source": [
    "You may receive an error message related to file size if clips exceed the recommended limit for Zooniverse uploads. In this case, we recommend shortening the clip length to achieve a suitable filesize."
   ]
  },
  {
   "cell_type": "code",
   "execution_count": null,
   "id": "417a49b7",
   "metadata": {},
   "outputs": [],
   "source": [
    "t4.upload_clips_to_zooniverse(upload_to_zoo = upload_to_zoo, \n",
    "                              sitename = sitename,\n",
    "                              created_on = created_on,\n",
    "                              project = project)"
   ]
  },
  {
   "cell_type": "code",
   "execution_count": null,
   "id": "2bc1a28e",
   "metadata": {},
   "outputs": [],
   "source": [
    "#END"
   ]
  }
 ],
 "metadata": {
  "kernelspec": {
   "display_name": "Python 3",
   "language": "python",
   "name": "python3"
  },
  "language_info": {
   "codemirror_mode": {
    "name": "ipython",
    "version": 3
   },
   "file_extension": ".py",
   "mimetype": "text/x-python",
   "name": "python",
   "nbconvert_exporter": "python",
   "pygments_lexer": "ipython3",
   "version": "3.8.8"
  }
 },
 "nbformat": 4,
 "nbformat_minor": 5
}
