{
 "cells": [
  {
   "cell_type": "markdown",
   "id": "b169b8d0",
   "metadata": {},
   "source": [
    "<img align=\"left\" src=\"https://panoptes-uploads.zooniverse.org/project_avatar/86c23ca7-bbaa-4e84-8d8a-876819551431.png\" type=\"image/png\" height=100 width=100>\n",
    "</img>\n",
    "<h1 align=\"right\">KSO Tutorials #4: Add new clips to a Zooniverse workflow</h1>\n",
    "<h3 align=\"right\">Written by @jannesgg and @vykanton</h3>\n",
    "<h5 align=\"right\">Last updated: Dec 8th, 2021</h5>"
   ]
  },
  {
   "cell_type": "markdown",
   "id": "3ee20d67",
   "metadata": {},
   "source": [
    "# Set up and requirements"
   ]
  },
  {
   "cell_type": "markdown",
   "id": "896f0873",
   "metadata": {},
   "source": [
    "### Import Python packages"
   ]
  },
  {
   "cell_type": "code",
   "execution_count": 1,
   "id": "blind-saudi",
   "metadata": {},
   "outputs": [],
   "source": [
    "%load_ext autoreload\n",
    "%autoreload 2"
   ]
  },
  {
   "cell_type": "code",
   "execution_count": 2,
   "id": "5451cddf",
   "metadata": {},
   "outputs": [
    {
     "data": {
      "application/javascript": [
       "require.config({\n",
       "    paths: {\n",
       "        datatables: 'https://cdn.datatables.net/1.10.19/js/jquery.dataTables.min',\n",
       "    }\n",
       "});\n",
       "\n",
       "$('head').append('<link rel=\"stylesheet\" type=\"text/css\" \\\n",
       "                href = \"https://cdn.datatables.net/1.10.19/css/jquery.dataTables.min.css\" > ');\n",
       "\n",
       "$('head').append('<style> table td { text-overflow: ellipsis; overflow: hidden; } </style>');\n",
       "\n",
       "$('head').append(`<script>\n",
       "function eval_functions(map_or_text) {\n",
       "    if (typeof map_or_text === \"string\") {\n",
       "        if (map_or_text.startsWith(\"function\")) {\n",
       "            try {\n",
       "                // Note: parenthesis are required around the whole expression for eval to return a value!\n",
       "                // See https://stackoverflow.com/a/7399078/911298.\n",
       "                //\n",
       "                // eval(\"local_fun = \" + map_or_text) would fail because local_fun is not declared\n",
       "                // (using var, let or const would work, but it would only be declared in the local scope\n",
       "                // and therefore the value could not be retrieved).\n",
       "                const func = eval(\"(\" + map_or_text + \")\");\n",
       "                if (typeof func !== \"function\") {\n",
       "                    // Note: backquotes are super convenient!\n",
       "                    // https://developer.mozilla.org/en-US/docs/Web/JavaScript/Reference/Template_literals\n",
       "                    console.error(\"Evaluated expression \" + map_or_text + \" is not a function (type is \" + typeof func + \")\");\n",
       "                    return map_or_text;\n",
       "                }\n",
       "                // Return the function\n",
       "                return func;\n",
       "            } catch (e) {\n",
       "                // Make sure to print the error with a second argument to console.error().\n",
       "                console.error(\"itables was not able to parse \" + map_or_text, e);\n",
       "            }\n",
       "        }\n",
       "    } else if (typeof map_or_text === \"object\") {\n",
       "        if (map_or_text instanceof Array) {\n",
       "            // Note: \"var\" is now superseded by \"let\" and \"const\".\n",
       "            // https://medium.com/javascript-scene/javascript-es6-var-let-or-const-ba58b8dcde75\n",
       "            const result = [];\n",
       "            // Note: \"for of\" is the best way to iterate through an iterable.\n",
       "            // https://developer.mozilla.org/en-US/docs/Web/JavaScript/Reference/Statements/for...of\n",
       "            for (const item of map_or_text) {\n",
       "                result.push(eval_functions(item));\n",
       "            }\n",
       "            return result;\n",
       "\n",
       "            // Alternatively, more functional approach in one line:\n",
       "            // return map_or_text.map(eval_functions);\n",
       "        } else {\n",
       "            const result = {};\n",
       "            // Object.keys() is safer than \"for in\" because otherwise you might have keys\n",
       "            // that aren't defined in the object itself.\n",
       "            //\n",
       "            // See https://stackoverflow.com/a/684692/911298.\n",
       "            for (const item of Object.keys(map_or_text)) {\n",
       "                result[item] = eval_functions(map_or_text[item]);\n",
       "            }\n",
       "            return result;\n",
       "        }\n",
       "    }\n",
       "\n",
       "    return map_or_text;\n",
       "}\n",
       "\n",
       "</` + 'script>');"
      ],
      "text/plain": [
       "<IPython.core.display.Javascript object>"
      ]
     },
     "metadata": {},
     "output_type": "display_data"
    },
    {
     "name": "stdout",
     "output_type": "stream",
     "text": [
      "Packages loaded successfully\n"
     ]
    }
   ],
   "source": [
    "# Set the directory of the libraries\n",
    "import sys\n",
    "sys.path.append('..')\n",
    "\n",
    "# Set to display dataframes as interactive tables\n",
    "from itables import init_notebook_mode\n",
    "init_notebook_mode(all_interactive=True)\n",
    "\n",
    "# Import required modules\n",
    "import kso_utils.tutorials_utils as t_utils\n",
    "import kso_utils.t4_utils as t4\n",
    "#import utils.server_utils as server_utils\n",
    "\n",
    "print(\"Packages loaded successfully\")"
   ]
  },
  {
   "cell_type": "markdown",
   "id": "8c51ffb6",
   "metadata": {},
   "source": [
    "### Choose your project"
   ]
  },
  {
   "cell_type": "code",
   "execution_count": 3,
   "id": "bfef12df",
   "metadata": {},
   "outputs": [
    {
     "data": {
      "application/vnd.jupyter.widget-view+json": {
       "model_id": "e5c2b52498c04fc0bd39062d39f5ebd1",
       "version_major": 2,
       "version_minor": 0
      },
      "text/plain": [
       "Dropdown(description='Project:', options=('Koster_Seafloor_Obs', 'Spyfish_Aotearoa', 'SGU'), value='Koster_Sea…"
      ]
     },
     "metadata": {},
     "output_type": "display_data"
    }
   ],
   "source": [
    "project = t_utils.choose_project()"
   ]
  },
  {
   "cell_type": "markdown",
   "id": "39f5065c",
   "metadata": {},
   "source": [
    "### Initiate sql and zoo project"
   ]
  },
  {
   "cell_type": "code",
   "execution_count": 9,
   "id": "8a7abc2f",
   "metadata": {
    "scrolled": true
   },
   "outputs": [
    {
     "name": "stdout",
     "output_type": "stream",
     "text": [
      "Enter your username for SNIC server········\n",
      "Enter your password for SNIC server········\n",
      "Updated sites\n",
      "Updated movies\n",
      "Updated species\n"
     ]
    }
   ],
   "source": [
    "# Initiate db\n",
    "db_info_dict = t_utils.initiate_db(project.value)"
   ]
  },
  {
   "cell_type": "code",
   "execution_count": 10,
   "id": "10b4aa16",
   "metadata": {},
   "outputs": [
    {
     "name": "stdout",
     "output_type": "stream",
     "text": [
      "Enter your Zooniverse user········\n",
      "Enter your Zooniverse password········\n"
     ]
    }
   ],
   "source": [
    "# Connect to Zooniverse project\n",
    "zoo_project = t_utils.connect_zoo_project(project.value)"
   ]
  },
  {
   "cell_type": "markdown",
   "id": "50bac6cf",
   "metadata": {},
   "source": [
    "# Retrieve info about zooniverse clips"
   ]
  },
  {
   "cell_type": "code",
   "execution_count": 11,
   "id": "0c2d059b",
   "metadata": {},
   "outputs": [
    {
     "name": "stdout",
     "output_type": "stream",
     "text": [
      "Retrieving subjects from Zooniverse\n",
      "subjects were retrieved successfully\n",
      "Updated subjects\n",
      "The database has a total of 2342 frame subjects and 7362 clip subjects have been updated\n"
     ]
    }
   ],
   "source": [
    "zoo_info_dict = t_utils.retrieve__populate_zoo_info(project_name = project.value, \n",
    "                                                    db_info_dict = db_info_dict,\n",
    "                                                    zoo_project = zoo_project,\n",
    "                                                    zoo_info = [\"subjects\"])"
   ]
  },
  {
   "cell_type": "markdown",
   "id": "3bdb9ff9",
   "metadata": {},
   "source": [
    "# Retrieve info about movies hosted in the server"
   ]
  },
  {
   "cell_type": "code",
   "execution_count": 12,
   "id": "0fc41573",
   "metadata": {},
   "outputs": [],
   "source": [
    "# Store info about the movies available in the server\n",
    "available_movies_df = t4.retrieve_movie_info_from_server(project_name = project.value,\n",
    "                                                         db_info_dict = db_info_dict)"
   ]
  },
  {
   "cell_type": "markdown",
   "id": "2dfc55a9",
   "metadata": {},
   "source": [
    "### Select the movie you want to upload to Zooniverse"
   ]
  },
  {
   "cell_type": "code",
   "execution_count": 13,
   "id": "6667d092",
   "metadata": {},
   "outputs": [
    {
     "data": {
      "application/vnd.jupyter.widget-view+json": {
       "model_id": "f2fdcd1236c44a5db3d3da8902b2403a",
       "version_major": 2,
       "version_minor": 0
      },
      "text/plain": [
       "Dropdown(description='Movie to upload:', layout=Layout(width='50%'), options=('000114 TMBL-ROV 2000 Säckenrev…"
      ]
     },
     "metadata": {},
     "output_type": "display_data"
    }
   ],
   "source": [
    "movie_i = t4.movie_to_upload(available_movies_df = available_movies_df)"
   ]
  },
  {
   "cell_type": "markdown",
   "id": "8175cc89",
   "metadata": {},
   "source": [
    "### Check if movie is already in Zooniverse"
   ]
  },
  {
   "cell_type": "markdown",
   "id": "c84c92bf",
   "metadata": {},
   "source": [
    "Remember to query the newest zooniverse data to get the most up to date list of clips uploaded"
   ]
  },
  {
   "cell_type": "code",
   "execution_count": 14,
   "id": "dbe6b212",
   "metadata": {},
   "outputs": [
    {
     "name": "stdout",
     "output_type": "stream",
     "text": [
      "Film_3.mp4 has not been uploaded to Zooniverse yet\n"
     ]
    }
   ],
   "source": [
    "# Check movie hasn't been uploaded to Zooniverse\n",
    "t4.check_movie_uploaded(movie_i = movie_i.value,\n",
    "                        db_info_dict = db_info_dict)"
   ]
  },
  {
   "cell_type": "markdown",
   "id": "8812e34c",
   "metadata": {},
   "source": [
    "### Specify the number of clips and clip length"
   ]
  },
  {
   "cell_type": "code",
   "execution_count": 15,
   "id": "1fe5e435",
   "metadata": {},
   "outputs": [
    {
     "data": {
      "application/vnd.jupyter.widget-view+json": {
       "model_id": "483fa570bc8546bf9fabb837ef4f5f13",
       "version_major": 2,
       "version_minor": 0
      },
      "text/plain": [
       "interactive(children=(Dropdown(description='Length of clips:', options=(10, 5), style=DescriptionStyle(descrip…"
      ]
     },
     "metadata": {},
     "output_type": "display_data"
    }
   ],
   "source": [
    "clip_selection = t4.select_clip_n_len(movie_i = movie_i.value,\n",
    "                                      db_info_dict = db_info_dict)"
   ]
  },
  {
   "cell_type": "markdown",
   "id": "921d56f6",
   "metadata": {},
   "source": [
    "### Review the clips that will be created"
   ]
  },
  {
   "cell_type": "code",
   "execution_count": 16,
   "id": "7d72f0d6",
   "metadata": {},
   "outputs": [
    {
     "name": "stdout",
     "output_type": "stream",
     "text": [
      "You are about to create 38 clips from Film_3.mp4\n",
      "starting at 0:00:00 and ending at 0:06:23\n"
     ]
    }
   ],
   "source": [
    "t4.review_clip_selection(clip_selection = clip_selection, \n",
    "                         movie_i = movie_i.value)"
   ]
  },
  {
   "cell_type": "markdown",
   "id": "04e58c56",
   "metadata": {},
   "source": [
    "### Create the clips"
   ]
  },
  {
   "cell_type": "code",
   "execution_count": 17,
   "id": "28dbcd14",
   "metadata": {},
   "outputs": [
    {
     "name": "stderr",
     "output_type": "stream",
     "text": [
      "100%|██████████| 38/38 [00:02<00:00, 13.30it/s]"
     ]
    },
    {
     "name": "stdout",
     "output_type": "stream",
     "text": [
      "clips extracted successfully\n"
     ]
    },
    {
     "name": "stderr",
     "output_type": "stream",
     "text": [
      "\n"
     ]
    }
   ],
   "source": [
    "clips_to_upload_df = t4.create_clips(available_movies_df = available_movies_df, \n",
    "                                     movie_i = movie_i.value,\n",
    "                                     db_info_dict = db_info_dict,\n",
    "                                     clip_selection = clip_selection,  \n",
    "                                     project_name = project.value)"
   ]
  },
  {
   "cell_type": "markdown",
   "id": "01a91bb9",
   "metadata": {},
   "source": [
    "Make sure your workflows in Zooniverse have different names to avoid issues while selecting the workflow id"
   ]
  },
  {
   "cell_type": "markdown",
   "id": "d9ab084e",
   "metadata": {},
   "source": [
    "### Review clips"
   ]
  },
  {
   "cell_type": "code",
   "execution_count": 18,
   "id": "80c3e27f",
   "metadata": {},
   "outputs": [
    {
     "name": "stdout",
     "output_type": "stream",
     "text": [
      "Clips are a good size (below 8 MB). Ready to be uploaded to Zooniverse\n"
     ]
    },
    {
     "data": {
      "text/html": [
       "<div><table id=\"990052f9-810b-47db-a745-65e81778884a\" class=\"display\"><thead>\n",
       "    <tr style=\"text-align: right;\">\n",
       "      \n",
       "      <th>File_path</th>\n",
       "      <th>Size</th>\n",
       "    </tr>\n",
       "  </thead></table>\n",
       "<script type=\"text/javascript\">\n",
       "require([\"datatables\"], function (datatables) {\n",
       "    $(document).ready(function () {\n",
       "        var dt_args = {\"columnDefs\": [{\"width\": \"70px\", \"targets\": \"_all\"}], \"data\": [[\"Film_3.mp4_clips/Film_3.mp4_clip_0_10.mp4\", 0.130128], [\"Film_3.mp4_clips/Film_3.mp4_clip_10_10.mp4\", 0.173103], [\"Film_3.mp4_clips/Film_3.mp4_clip_20_10.mp4\", 0.224091], [\"Film_3.mp4_clips/Film_3.mp4_clip_30_10.mp4\", 0.224842], [\"Film_3.mp4_clips/Film_3.mp4_clip_40_10.mp4\", 0.263619], [\"Film_3.mp4_clips/Film_3.mp4_clip_50_10.mp4\", 0.242045], [\"Film_3.mp4_clips/Film_3.mp4_clip_60_10.mp4\", 0.159878], [\"Film_3.mp4_clips/Film_3.mp4_clip_70_10.mp4\", 0.125932], [\"Film_3.mp4_clips/Film_3.mp4_clip_80_10.mp4\", 0.124707], [\"Film_3.mp4_clips/Film_3.mp4_clip_90_10.mp4\", 0.118436], [\"Film_3.mp4_clips/Film_3.mp4_clip_100_10.mp4\", 0.117707], [\"Film_3.mp4_clips/Film_3.mp4_clip_110_10.mp4\", 0.114542], [\"Film_3.mp4_clips/Film_3.mp4_clip_120_10.mp4\", 0.116934], [\"Film_3.mp4_clips/Film_3.mp4_clip_130_10.mp4\", 0.115369], [\"Film_3.mp4_clips/Film_3.mp4_clip_140_10.mp4\", 0.124116], [\"Film_3.mp4_clips/Film_3.mp4_clip_150_10.mp4\", 0.119559], [\"Film_3.mp4_clips/Film_3.mp4_clip_160_10.mp4\", 0.106322], [\"Film_3.mp4_clips/Film_3.mp4_clip_170_10.mp4\", 0.115658], [\"Film_3.mp4_clips/Film_3.mp4_clip_180_10.mp4\", 0.105843], [\"Film_3.mp4_clips/Film_3.mp4_clip_190_10.mp4\", 0.136641], [\"Film_3.mp4_clips/Film_3.mp4_clip_200_10.mp4\", 0.161719], [\"Film_3.mp4_clips/Film_3.mp4_clip_210_10.mp4\", 0.234691], [\"Film_3.mp4_clips/Film_3.mp4_clip_220_10.mp4\", 0.238305], [\"Film_3.mp4_clips/Film_3.mp4_clip_230_10.mp4\", 0.282084], [\"Film_3.mp4_clips/Film_3.mp4_clip_240_10.mp4\", 0.295863], [\"Film_3.mp4_clips/Film_3.mp4_clip_250_10.mp4\", 0.315153], [\"Film_3.mp4_clips/Film_3.mp4_clip_260_10.mp4\", 0.323616], [\"Film_3.mp4_clips/Film_3.mp4_clip_270_10.mp4\", 0.357621], [\"Film_3.mp4_clips/Film_3.mp4_clip_280_10.mp4\", 0.363623], [\"Film_3.mp4_clips/Film_3.mp4_clip_290_10.mp4\", 0.281693], [\"Film_3.mp4_clips/Film_3.mp4_clip_300_10.mp4\", 0.238247], [\"Film_3.mp4_clips/Film_3.mp4_clip_310_10.mp4\", 0.235873], [\"Film_3.mp4_clips/Film_3.mp4_clip_320_10.mp4\", 0.273011], [\"Film_3.mp4_clips/Film_3.mp4_clip_330_10.mp4\", 0.253418], [\"Film_3.mp4_clips/Film_3.mp4_clip_340_10.mp4\", 0.193478], [\"Film_3.mp4_clips/Film_3.mp4_clip_350_10.mp4\", 0.313875], [\"Film_3.mp4_clips/Film_3.mp4_clip_360_10.mp4\", 0.221693], [\"Film_3.mp4_clips/Film_3.mp4_clip_370_10.mp4\", 0.281924]]};\n",
       "        dt_args = eval_functions(dt_args);\n",
       "        table = $('#990052f9-810b-47db-a745-65e81778884a').DataTable(dt_args);\n",
       "    });\n",
       "})\n",
       "</script>\n",
       "</div>\n"
      ],
      "text/plain": [
       "                                      File_path      Size\n",
       "0     Film_3.mp4_clips/Film_3.mp4_clip_0_10.mp4  0.130128\n",
       "1    Film_3.mp4_clips/Film_3.mp4_clip_10_10.mp4  0.173103\n",
       "2    Film_3.mp4_clips/Film_3.mp4_clip_20_10.mp4  0.224091\n",
       "3    Film_3.mp4_clips/Film_3.mp4_clip_30_10.mp4  0.224842\n",
       "4    Film_3.mp4_clips/Film_3.mp4_clip_40_10.mp4  0.263619\n",
       "5    Film_3.mp4_clips/Film_3.mp4_clip_50_10.mp4  0.242045\n",
       "6    Film_3.mp4_clips/Film_3.mp4_clip_60_10.mp4  0.159878\n",
       "7    Film_3.mp4_clips/Film_3.mp4_clip_70_10.mp4  0.125932\n",
       "8    Film_3.mp4_clips/Film_3.mp4_clip_80_10.mp4  0.124707\n",
       "9    Film_3.mp4_clips/Film_3.mp4_clip_90_10.mp4  0.118436\n",
       "10  Film_3.mp4_clips/Film_3.mp4_clip_100_10.mp4  0.117707\n",
       "11  Film_3.mp4_clips/Film_3.mp4_clip_110_10.mp4  0.114542\n",
       "12  Film_3.mp4_clips/Film_3.mp4_clip_120_10.mp4  0.116934\n",
       "13  Film_3.mp4_clips/Film_3.mp4_clip_130_10.mp4  0.115369\n",
       "14  Film_3.mp4_clips/Film_3.mp4_clip_140_10.mp4  0.124116\n",
       "15  Film_3.mp4_clips/Film_3.mp4_clip_150_10.mp4  0.119559\n",
       "16  Film_3.mp4_clips/Film_3.mp4_clip_160_10.mp4  0.106322\n",
       "17  Film_3.mp4_clips/Film_3.mp4_clip_170_10.mp4  0.115658\n",
       "18  Film_3.mp4_clips/Film_3.mp4_clip_180_10.mp4  0.105843\n",
       "19  Film_3.mp4_clips/Film_3.mp4_clip_190_10.mp4  0.136641\n",
       "20  Film_3.mp4_clips/Film_3.mp4_clip_200_10.mp4  0.161719\n",
       "21  Film_3.mp4_clips/Film_3.mp4_clip_210_10.mp4  0.234691\n",
       "22  Film_3.mp4_clips/Film_3.mp4_clip_220_10.mp4  0.238305\n",
       "23  Film_3.mp4_clips/Film_3.mp4_clip_230_10.mp4  0.282084\n",
       "24  Film_3.mp4_clips/Film_3.mp4_clip_240_10.mp4  0.295863\n",
       "25  Film_3.mp4_clips/Film_3.mp4_clip_250_10.mp4  0.315153\n",
       "26  Film_3.mp4_clips/Film_3.mp4_clip_260_10.mp4  0.323616\n",
       "27  Film_3.mp4_clips/Film_3.mp4_clip_270_10.mp4  0.357621\n",
       "28  Film_3.mp4_clips/Film_3.mp4_clip_280_10.mp4  0.363623\n",
       "29  Film_3.mp4_clips/Film_3.mp4_clip_290_10.mp4  0.281693\n",
       "30  Film_3.mp4_clips/Film_3.mp4_clip_300_10.mp4  0.238247\n",
       "31  Film_3.mp4_clips/Film_3.mp4_clip_310_10.mp4  0.235873\n",
       "32  Film_3.mp4_clips/Film_3.mp4_clip_320_10.mp4  0.273011\n",
       "33  Film_3.mp4_clips/Film_3.mp4_clip_330_10.mp4  0.253418\n",
       "34  Film_3.mp4_clips/Film_3.mp4_clip_340_10.mp4  0.193478\n",
       "35  Film_3.mp4_clips/Film_3.mp4_clip_350_10.mp4  0.313875\n",
       "36  Film_3.mp4_clips/Film_3.mp4_clip_360_10.mp4  0.221693\n",
       "37  Film_3.mp4_clips/Film_3.mp4_clip_370_10.mp4  0.281924"
      ]
     },
     "execution_count": 18,
     "metadata": {},
     "output_type": "execute_result"
    }
   ],
   "source": [
    "t4.check_clip_size(clip_paths = clips_to_upload_df[\"clip_path\"].unique())"
   ]
  },
  {
   "cell_type": "markdown",
   "id": "7b5c47b9",
   "metadata": {},
   "source": [
    "### Video modifications"
   ]
  },
  {
   "cell_type": "code",
   "execution_count": 19,
   "id": "a55b60c2",
   "metadata": {},
   "outputs": [
    {
     "data": {
      "application/vnd.jupyter.widget-view+json": {
       "model_id": "88c2612488744e4b8128f3eee565674c",
       "version_major": 2,
       "version_minor": 0
      },
      "text/plain": [
       "Dropdown(description='Select clip modification:', options=(('Color_correction', {'-crf': '30', '-c:v': 'libx26…"
      ]
     },
     "metadata": {},
     "output_type": "display_data"
    }
   ],
   "source": [
    "# Work in progress\n",
    "clip_modification = t4.select_modification()"
   ]
  },
  {
   "cell_type": "code",
   "execution_count": 20,
   "id": "6361c9b7",
   "metadata": {},
   "outputs": [
    {
     "name": "stderr",
     "output_type": "stream",
     "text": [
      "100%|██████████| 38/38 [00:15<00:00,  2.43it/s]"
     ]
    },
    {
     "name": "stdout",
     "output_type": "stream",
     "text": [
      "Clips modified successfully\n"
     ]
    },
    {
     "name": "stderr",
     "output_type": "stream",
     "text": [
      "\n"
     ]
    }
   ],
   "source": [
    "# Modify the clips\n",
    "clips_ready_df = t4.modify_clips(clips_to_upload_df = clips_to_upload_df.reset_index(drop=True), \n",
    "                                 movie_i = movie_i.value,\n",
    "                                 clip_modification = clip_modification.label, \n",
    "                                 modification_details = clip_modification.value)"
   ]
  },
  {
   "cell_type": "code",
   "execution_count": 21,
   "id": "76f78189",
   "metadata": {},
   "outputs": [
    {
     "name": "stdout",
     "output_type": "stream",
     "text": [
      "Clips are a good size (below 8 MB). Ready to be uploaded to Zooniverse\n"
     ]
    },
    {
     "data": {
      "text/html": [
       "<div><table id=\"e4ad76b4-b54f-4dd9-a7de-1100a9b38706\" class=\"display\"><thead>\n",
       "    <tr style=\"text-align: right;\">\n",
       "      \n",
       "      <th>File_path</th>\n",
       "      <th>Size</th>\n",
       "    </tr>\n",
       "  </thead></table>\n",
       "<script type=\"text/javascript\">\n",
       "require([\"datatables\"], function (datatables) {\n",
       "    $(document).ready(function () {\n",
       "        var dt_args = {\"columnDefs\": [{\"width\": \"70px\", \"targets\": \"_all\"}], \"data\": [[\"modified_Film_3.mp4_clips/modifiedFilm_3.mp4_clip_0_10.mp4\", 0.073738], [\"modified_Film_3.mp4_clips/modifiedFilm_3.mp4_clip_10_10.mp4\", 0.107789], [\"modified_Film_3.mp4_clips/modifiedFilm_3.mp4_clip_20_10.mp4\", 0.151217], [\"modified_Film_3.mp4_clips/modifiedFilm_3.mp4_clip_30_10.mp4\", 0.147933], [\"modified_Film_3.mp4_clips/modifiedFilm_3.mp4_clip_40_10.mp4\", 0.169072], [\"modified_Film_3.mp4_clips/modifiedFilm_3.mp4_clip_50_10.mp4\", 0.150642], [\"modified_Film_3.mp4_clips/modifiedFilm_3.mp4_clip_60_10.mp4\", 0.075866], [\"modified_Film_3.mp4_clips/modifiedFilm_3.mp4_clip_70_10.mp4\", 0.050917], [\"modified_Film_3.mp4_clips/modifiedFilm_3.mp4_clip_80_10.mp4\", 0.049543], [\"modified_Film_3.mp4_clips/modifiedFilm_3.mp4_clip_90_10.mp4\", 0.044858], [\"modified_Film_3.mp4_clips/modifiedFilm_3.mp4_clip_100_10.mp4\", 0.043791], [\"modified_Film_3.mp4_clips/modifiedFilm_3.mp4_clip_110_10.mp4\", 0.041516], [\"modified_Film_3.mp4_clips/modifiedFilm_3.mp4_clip_120_10.mp4\", 0.042185], [\"modified_Film_3.mp4_clips/modifiedFilm_3.mp4_clip_130_10.mp4\", 0.0432], [\"modified_Film_3.mp4_clips/modifiedFilm_3.mp4_clip_140_10.mp4\", 0.049695], [\"modified_Film_3.mp4_clips/modifiedFilm_3.mp4_clip_150_10.mp4\", 0.047672], [\"modified_Film_3.mp4_clips/modifiedFilm_3.mp4_clip_160_10.mp4\", 0.039809], [\"modified_Film_3.mp4_clips/modifiedFilm_3.mp4_clip_170_10.mp4\", 0.048199], [\"modified_Film_3.mp4_clips/modifiedFilm_3.mp4_clip_180_10.mp4\", 0.0428], [\"modified_Film_3.mp4_clips/modifiedFilm_3.mp4_clip_190_10.mp4\", 0.057318], [\"modified_Film_3.mp4_clips/modifiedFilm_3.mp4_clip_200_10.mp4\", 0.094375], [\"modified_Film_3.mp4_clips/modifiedFilm_3.mp4_clip_210_10.mp4\", 0.121406], [\"modified_Film_3.mp4_clips/modifiedFilm_3.mp4_clip_220_10.mp4\", 0.087096], [\"modified_Film_3.mp4_clips/modifiedFilm_3.mp4_clip_230_10.mp4\", 0.104941], [\"modified_Film_3.mp4_clips/modifiedFilm_3.mp4_clip_240_10.mp4\", 0.112746], [\"modified_Film_3.mp4_clips/modifiedFilm_3.mp4_clip_250_10.mp4\", 0.10127], [\"modified_Film_3.mp4_clips/modifiedFilm_3.mp4_clip_260_10.mp4\", 0.122075], [\"modified_Film_3.mp4_clips/modifiedFilm_3.mp4_clip_270_10.mp4\", 0.149454], [\"modified_Film_3.mp4_clips/modifiedFilm_3.mp4_clip_280_10.mp4\", 0.152076], [\"modified_Film_3.mp4_clips/modifiedFilm_3.mp4_clip_290_10.mp4\", 0.10922], [\"modified_Film_3.mp4_clips/modifiedFilm_3.mp4_clip_300_10.mp4\", 0.088708], [\"modified_Film_3.mp4_clips/modifiedFilm_3.mp4_clip_310_10.mp4\", 0.090045], [\"modified_Film_3.mp4_clips/modifiedFilm_3.mp4_clip_320_10.mp4\", 0.114277], [\"modified_Film_3.mp4_clips/modifiedFilm_3.mp4_clip_330_10.mp4\", 0.081443], [\"modified_Film_3.mp4_clips/modifiedFilm_3.mp4_clip_340_10.mp4\", 0.076677], [\"modified_Film_3.mp4_clips/modifiedFilm_3.mp4_clip_350_10.mp4\", 0.089034], [\"modified_Film_3.mp4_clips/modifiedFilm_3.mp4_clip_360_10.mp4\", 0.076133], [\"modified_Film_3.mp4_clips/modifiedFilm_3.mp4_clip_370_10.mp4\", 0.107891]]};\n",
       "        dt_args = eval_functions(dt_args);\n",
       "        table = $('#e4ad76b4-b54f-4dd9-a7de-1100a9b38706').DataTable(dt_args);\n",
       "    });\n",
       "})\n",
       "</script>\n",
       "</div>\n"
      ],
      "text/plain": [
       "                                            File_path      Size\n",
       "0   modified_Film_3.mp4_clips/modifiedFilm_3.mp4_c...  0.073738\n",
       "1   modified_Film_3.mp4_clips/modifiedFilm_3.mp4_c...  0.107789\n",
       "2   modified_Film_3.mp4_clips/modifiedFilm_3.mp4_c...  0.151217\n",
       "3   modified_Film_3.mp4_clips/modifiedFilm_3.mp4_c...  0.147933\n",
       "4   modified_Film_3.mp4_clips/modifiedFilm_3.mp4_c...  0.169072\n",
       "5   modified_Film_3.mp4_clips/modifiedFilm_3.mp4_c...  0.150642\n",
       "6   modified_Film_3.mp4_clips/modifiedFilm_3.mp4_c...  0.075866\n",
       "7   modified_Film_3.mp4_clips/modifiedFilm_3.mp4_c...  0.050917\n",
       "8   modified_Film_3.mp4_clips/modifiedFilm_3.mp4_c...  0.049543\n",
       "9   modified_Film_3.mp4_clips/modifiedFilm_3.mp4_c...  0.044858\n",
       "10  modified_Film_3.mp4_clips/modifiedFilm_3.mp4_c...  0.043791\n",
       "11  modified_Film_3.mp4_clips/modifiedFilm_3.mp4_c...  0.041516\n",
       "12  modified_Film_3.mp4_clips/modifiedFilm_3.mp4_c...  0.042185\n",
       "13  modified_Film_3.mp4_clips/modifiedFilm_3.mp4_c...  0.043200\n",
       "14  modified_Film_3.mp4_clips/modifiedFilm_3.mp4_c...  0.049695\n",
       "15  modified_Film_3.mp4_clips/modifiedFilm_3.mp4_c...  0.047672\n",
       "16  modified_Film_3.mp4_clips/modifiedFilm_3.mp4_c...  0.039809\n",
       "17  modified_Film_3.mp4_clips/modifiedFilm_3.mp4_c...  0.048199\n",
       "18  modified_Film_3.mp4_clips/modifiedFilm_3.mp4_c...  0.042800\n",
       "19  modified_Film_3.mp4_clips/modifiedFilm_3.mp4_c...  0.057318\n",
       "20  modified_Film_3.mp4_clips/modifiedFilm_3.mp4_c...  0.094375\n",
       "21  modified_Film_3.mp4_clips/modifiedFilm_3.mp4_c...  0.121406\n",
       "22  modified_Film_3.mp4_clips/modifiedFilm_3.mp4_c...  0.087096\n",
       "23  modified_Film_3.mp4_clips/modifiedFilm_3.mp4_c...  0.104941\n",
       "24  modified_Film_3.mp4_clips/modifiedFilm_3.mp4_c...  0.112746\n",
       "25  modified_Film_3.mp4_clips/modifiedFilm_3.mp4_c...  0.101270\n",
       "26  modified_Film_3.mp4_clips/modifiedFilm_3.mp4_c...  0.122075\n",
       "27  modified_Film_3.mp4_clips/modifiedFilm_3.mp4_c...  0.149454\n",
       "28  modified_Film_3.mp4_clips/modifiedFilm_3.mp4_c...  0.152076\n",
       "29  modified_Film_3.mp4_clips/modifiedFilm_3.mp4_c...  0.109220\n",
       "30  modified_Film_3.mp4_clips/modifiedFilm_3.mp4_c...  0.088708\n",
       "31  modified_Film_3.mp4_clips/modifiedFilm_3.mp4_c...  0.090045\n",
       "32  modified_Film_3.mp4_clips/modifiedFilm_3.mp4_c...  0.114277\n",
       "33  modified_Film_3.mp4_clips/modifiedFilm_3.mp4_c...  0.081443\n",
       "34  modified_Film_3.mp4_clips/modifiedFilm_3.mp4_c...  0.076677\n",
       "35  modified_Film_3.mp4_clips/modifiedFilm_3.mp4_c...  0.089034\n",
       "36  modified_Film_3.mp4_clips/modifiedFilm_3.mp4_c...  0.076133\n",
       "37  modified_Film_3.mp4_clips/modifiedFilm_3.mp4_c...  0.107891"
      ]
     },
     "execution_count": 21,
     "metadata": {},
     "output_type": "execute_result"
    }
   ],
   "source": [
    "# Review the size of the modified clips\n",
    "t4.check_clip_size(clip_paths = clips_ready_df[\"modif_clip_path\"].unique())"
   ]
  },
  {
   "cell_type": "code",
   "execution_count": 22,
   "id": "16a0aff8",
   "metadata": {},
   "outputs": [
    {
     "data": {
      "application/vnd.jupyter.widget-view+json": {
       "model_id": "883987f139d8417c974021019875a72b",
       "version_major": 2,
       "version_minor": 0
      },
      "text/plain": [
       "Dropdown(description='Select original clip:', layout=Layout(width='50%'), options=('0 No movie', 'Film_3.mp4_c…"
      ]
     },
     "metadata": {},
     "output_type": "display_data"
    },
    {
     "data": {
      "application/vnd.jupyter.widget-view+json": {
       "model_id": "3b77296241604ab89d00118e82d0d894",
       "version_major": 2,
       "version_minor": 0
      },
      "text/plain": [
       "Output()"
      ]
     },
     "metadata": {},
     "output_type": "display_data"
    }
   ],
   "source": [
    "# Compare the original and modified clips\n",
    "t4.compare_clips(df = clips_ready_df)"
   ]
  },
  {
   "cell_type": "markdown",
   "id": "c766c5f6",
   "metadata": {},
   "source": [
    "### Set Zooniverse metadata"
   ]
  },
  {
   "cell_type": "code",
   "execution_count": 25,
   "id": "6d474d60",
   "metadata": {},
   "outputs": [],
   "source": [
    "upload_to_zoo, sitename, created_on = t4.set_zoo_metadata(db_info_dict = db_info_dict, \n",
    "                                                          df = clips_ready_df,\n",
    "                                                          project_name = project.value)"
   ]
  },
  {
   "cell_type": "markdown",
   "id": "0d1d4f1f",
   "metadata": {},
   "source": [
    "### Upload clips to Zooniverse"
   ]
  },
  {
   "cell_type": "markdown",
   "id": "92930b3e",
   "metadata": {},
   "source": [
    "You may receive an error message related to file size if clips exceed the recommended limit for Zooniverse uploads. In this case, we recommend shortening the clip length to achieve a suitable filesize."
   ]
  },
  {
   "cell_type": "code",
   "execution_count": 26,
   "id": "417a49b7",
   "metadata": {},
   "outputs": [
    {
     "name": "stderr",
     "output_type": "stream",
     "text": [
      "\r",
      "  0%|          | 0/38 [00:00<?, ?it/s]"
     ]
    },
    {
     "name": "stdout",
     "output_type": "stream",
     "text": [
      "38_clips_Reef Säcken_1/01/2019 subject set created\n",
      "uploading subjects to Zooniverse\n",
      "modified_Film_3.mp4_clips/modifiedFilm_3.mp4_clip_0_10.mp4\n",
      "{'upl_seconds': 0, '#clip_length': 10, '#created_on': '1/01/2019', 'VideoFilename': 'Film_3.mp4', '#siteName': 'Reef Säcken', '#clip_modification_details': \"{'-crf': '30', '-c:v': 'libx264', '-c:a': 'copy', '-filter_complex': '[0:v]crop=iw:ih*(15/100):0:0,boxblur=luma_radius=min(w\\\\\\\\,h)/5:chroma_radius=min(cw\\\\\\\\,ch)/5:luma_power=1[b0];         [0:v]crop=iw:ih*(15/100):0:ih*(95/100),boxblur=luma_radius=min(w\\\\\\\\,h)/5:chroma_radius=min(cw\\\\\\\\,ch)/5:luma_power=1[b1];         [0:v][b0]overlay=0:0[ovr0];         [ovr0][b1]overlay=0:H*(95/100)[ovr1]', '-map': '[ovr1]', '-pix_fmt': 'yuv420p', '-preset': 'veryfast'}\", 'Subject_type': 'clip', 'siteName': 'Reef Säcken', '#decimalLatitude': 59.01442972, '#decimalLongitude': 11.11670409, '#geodeticDatum': 'EPSG:4326', '#countryCode': 'SE'}\n"
     ]
    },
    {
     "name": "stderr",
     "output_type": "stream",
     "text": [
      "\r",
      "  3%|▎         | 1/38 [00:01<00:46,  1.26s/it]"
     ]
    },
    {
     "name": "stdout",
     "output_type": "stream",
     "text": [
      "subject saved\n",
      "modified_Film_3.mp4_clips/modifiedFilm_3.mp4_clip_10_10.mp4\n",
      "{'upl_seconds': 10, '#clip_length': 10, '#created_on': '1/01/2019', 'VideoFilename': 'Film_3.mp4', '#siteName': 'Reef Säcken', '#clip_modification_details': \"{'-crf': '30', '-c:v': 'libx264', '-c:a': 'copy', '-filter_complex': '[0:v]crop=iw:ih*(15/100):0:0,boxblur=luma_radius=min(w\\\\\\\\,h)/5:chroma_radius=min(cw\\\\\\\\,ch)/5:luma_power=1[b0];         [0:v]crop=iw:ih*(15/100):0:ih*(95/100),boxblur=luma_radius=min(w\\\\\\\\,h)/5:chroma_radius=min(cw\\\\\\\\,ch)/5:luma_power=1[b1];         [0:v][b0]overlay=0:0[ovr0];         [ovr0][b1]overlay=0:H*(95/100)[ovr1]', '-map': '[ovr1]', '-pix_fmt': 'yuv420p', '-preset': 'veryfast'}\", 'Subject_type': 'clip', 'siteName': 'Reef Säcken', '#decimalLatitude': 59.01442972, '#decimalLongitude': 11.11670409, '#geodeticDatum': 'EPSG:4326', '#countryCode': 'SE'}\n"
     ]
    },
    {
     "name": "stderr",
     "output_type": "stream",
     "text": [
      "\r",
      "  5%|▌         | 2/38 [00:02<00:42,  1.19s/it]"
     ]
    },
    {
     "name": "stdout",
     "output_type": "stream",
     "text": [
      "subject saved\n",
      "modified_Film_3.mp4_clips/modifiedFilm_3.mp4_clip_20_10.mp4\n",
      "{'upl_seconds': 20, '#clip_length': 10, '#created_on': '1/01/2019', 'VideoFilename': 'Film_3.mp4', '#siteName': 'Reef Säcken', '#clip_modification_details': \"{'-crf': '30', '-c:v': 'libx264', '-c:a': 'copy', '-filter_complex': '[0:v]crop=iw:ih*(15/100):0:0,boxblur=luma_radius=min(w\\\\\\\\,h)/5:chroma_radius=min(cw\\\\\\\\,ch)/5:luma_power=1[b0];         [0:v]crop=iw:ih*(15/100):0:ih*(95/100),boxblur=luma_radius=min(w\\\\\\\\,h)/5:chroma_radius=min(cw\\\\\\\\,ch)/5:luma_power=1[b1];         [0:v][b0]overlay=0:0[ovr0];         [ovr0][b1]overlay=0:H*(95/100)[ovr1]', '-map': '[ovr1]', '-pix_fmt': 'yuv420p', '-preset': 'veryfast'}\", 'Subject_type': 'clip', 'siteName': 'Reef Säcken', '#decimalLatitude': 59.01442972, '#decimalLongitude': 11.11670409, '#geodeticDatum': 'EPSG:4326', '#countryCode': 'SE'}\n"
     ]
    },
    {
     "name": "stderr",
     "output_type": "stream",
     "text": [
      "\r",
      "  8%|▊         | 3/38 [00:03<00:39,  1.14s/it]"
     ]
    },
    {
     "name": "stdout",
     "output_type": "stream",
     "text": [
      "subject saved\n",
      "modified_Film_3.mp4_clips/modifiedFilm_3.mp4_clip_30_10.mp4\n",
      "{'upl_seconds': 30, '#clip_length': 10, '#created_on': '1/01/2019', 'VideoFilename': 'Film_3.mp4', '#siteName': 'Reef Säcken', '#clip_modification_details': \"{'-crf': '30', '-c:v': 'libx264', '-c:a': 'copy', '-filter_complex': '[0:v]crop=iw:ih*(15/100):0:0,boxblur=luma_radius=min(w\\\\\\\\,h)/5:chroma_radius=min(cw\\\\\\\\,ch)/5:luma_power=1[b0];         [0:v]crop=iw:ih*(15/100):0:ih*(95/100),boxblur=luma_radius=min(w\\\\\\\\,h)/5:chroma_radius=min(cw\\\\\\\\,ch)/5:luma_power=1[b1];         [0:v][b0]overlay=0:0[ovr0];         [ovr0][b1]overlay=0:H*(95/100)[ovr1]', '-map': '[ovr1]', '-pix_fmt': 'yuv420p', '-preset': 'veryfast'}\", 'Subject_type': 'clip', 'siteName': 'Reef Säcken', '#decimalLatitude': 59.01442972, '#decimalLongitude': 11.11670409, '#geodeticDatum': 'EPSG:4326', '#countryCode': 'SE'}\n"
     ]
    },
    {
     "name": "stderr",
     "output_type": "stream",
     "text": [
      "\r",
      " 11%|█         | 4/38 [00:04<00:38,  1.12s/it]"
     ]
    },
    {
     "name": "stdout",
     "output_type": "stream",
     "text": [
      "subject saved\n",
      "modified_Film_3.mp4_clips/modifiedFilm_3.mp4_clip_40_10.mp4\n",
      "{'upl_seconds': 40, '#clip_length': 10, '#created_on': '1/01/2019', 'VideoFilename': 'Film_3.mp4', '#siteName': 'Reef Säcken', '#clip_modification_details': \"{'-crf': '30', '-c:v': 'libx264', '-c:a': 'copy', '-filter_complex': '[0:v]crop=iw:ih*(15/100):0:0,boxblur=luma_radius=min(w\\\\\\\\,h)/5:chroma_radius=min(cw\\\\\\\\,ch)/5:luma_power=1[b0];         [0:v]crop=iw:ih*(15/100):0:ih*(95/100),boxblur=luma_radius=min(w\\\\\\\\,h)/5:chroma_radius=min(cw\\\\\\\\,ch)/5:luma_power=1[b1];         [0:v][b0]overlay=0:0[ovr0];         [ovr0][b1]overlay=0:H*(95/100)[ovr1]', '-map': '[ovr1]', '-pix_fmt': 'yuv420p', '-preset': 'veryfast'}\", 'Subject_type': 'clip', 'siteName': 'Reef Säcken', '#decimalLatitude': 59.01442972, '#decimalLongitude': 11.11670409, '#geodeticDatum': 'EPSG:4326', '#countryCode': 'SE'}\n"
     ]
    },
    {
     "name": "stderr",
     "output_type": "stream",
     "text": [
      "\r",
      " 13%|█▎        | 5/38 [00:05<00:36,  1.11s/it]"
     ]
    },
    {
     "name": "stdout",
     "output_type": "stream",
     "text": [
      "subject saved\n",
      "modified_Film_3.mp4_clips/modifiedFilm_3.mp4_clip_50_10.mp4\n",
      "{'upl_seconds': 50, '#clip_length': 10, '#created_on': '1/01/2019', 'VideoFilename': 'Film_3.mp4', '#siteName': 'Reef Säcken', '#clip_modification_details': \"{'-crf': '30', '-c:v': 'libx264', '-c:a': 'copy', '-filter_complex': '[0:v]crop=iw:ih*(15/100):0:0,boxblur=luma_radius=min(w\\\\\\\\,h)/5:chroma_radius=min(cw\\\\\\\\,ch)/5:luma_power=1[b0];         [0:v]crop=iw:ih*(15/100):0:ih*(95/100),boxblur=luma_radius=min(w\\\\\\\\,h)/5:chroma_radius=min(cw\\\\\\\\,ch)/5:luma_power=1[b1];         [0:v][b0]overlay=0:0[ovr0];         [ovr0][b1]overlay=0:H*(95/100)[ovr1]', '-map': '[ovr1]', '-pix_fmt': 'yuv420p', '-preset': 'veryfast'}\", 'Subject_type': 'clip', 'siteName': 'Reef Säcken', '#decimalLatitude': 59.01442972, '#decimalLongitude': 11.11670409, '#geodeticDatum': 'EPSG:4326', '#countryCode': 'SE'}\n"
     ]
    },
    {
     "name": "stderr",
     "output_type": "stream",
     "text": [
      "\r",
      " 16%|█▌        | 6/38 [00:06<00:35,  1.11s/it]"
     ]
    },
    {
     "name": "stdout",
     "output_type": "stream",
     "text": [
      "subject saved\n",
      "modified_Film_3.mp4_clips/modifiedFilm_3.mp4_clip_60_10.mp4\n",
      "{'upl_seconds': 60, '#clip_length': 10, '#created_on': '1/01/2019', 'VideoFilename': 'Film_3.mp4', '#siteName': 'Reef Säcken', '#clip_modification_details': \"{'-crf': '30', '-c:v': 'libx264', '-c:a': 'copy', '-filter_complex': '[0:v]crop=iw:ih*(15/100):0:0,boxblur=luma_radius=min(w\\\\\\\\,h)/5:chroma_radius=min(cw\\\\\\\\,ch)/5:luma_power=1[b0];         [0:v]crop=iw:ih*(15/100):0:ih*(95/100),boxblur=luma_radius=min(w\\\\\\\\,h)/5:chroma_radius=min(cw\\\\\\\\,ch)/5:luma_power=1[b1];         [0:v][b0]overlay=0:0[ovr0];         [ovr0][b1]overlay=0:H*(95/100)[ovr1]', '-map': '[ovr1]', '-pix_fmt': 'yuv420p', '-preset': 'veryfast'}\", 'Subject_type': 'clip', 'siteName': 'Reef Säcken', '#decimalLatitude': 59.01442972, '#decimalLongitude': 11.11670409, '#geodeticDatum': 'EPSG:4326', '#countryCode': 'SE'}\n"
     ]
    },
    {
     "name": "stderr",
     "output_type": "stream",
     "text": [
      "\r",
      " 18%|█▊        | 7/38 [00:07<00:32,  1.06s/it]"
     ]
    },
    {
     "name": "stdout",
     "output_type": "stream",
     "text": [
      "subject saved\n",
      "modified_Film_3.mp4_clips/modifiedFilm_3.mp4_clip_70_10.mp4\n",
      "{'upl_seconds': 70, '#clip_length': 10, '#created_on': '1/01/2019', 'VideoFilename': 'Film_3.mp4', '#siteName': 'Reef Säcken', '#clip_modification_details': \"{'-crf': '30', '-c:v': 'libx264', '-c:a': 'copy', '-filter_complex': '[0:v]crop=iw:ih*(15/100):0:0,boxblur=luma_radius=min(w\\\\\\\\,h)/5:chroma_radius=min(cw\\\\\\\\,ch)/5:luma_power=1[b0];         [0:v]crop=iw:ih*(15/100):0:ih*(95/100),boxblur=luma_radius=min(w\\\\\\\\,h)/5:chroma_radius=min(cw\\\\\\\\,ch)/5:luma_power=1[b1];         [0:v][b0]overlay=0:0[ovr0];         [ovr0][b1]overlay=0:H*(95/100)[ovr1]', '-map': '[ovr1]', '-pix_fmt': 'yuv420p', '-preset': 'veryfast'}\", 'Subject_type': 'clip', 'siteName': 'Reef Säcken', '#decimalLatitude': 59.01442972, '#decimalLongitude': 11.11670409, '#geodeticDatum': 'EPSG:4326', '#countryCode': 'SE'}\n"
     ]
    },
    {
     "name": "stderr",
     "output_type": "stream",
     "text": [
      "\r",
      " 21%|██        | 8/38 [00:08<00:30,  1.03s/it]"
     ]
    },
    {
     "name": "stdout",
     "output_type": "stream",
     "text": [
      "subject saved\n",
      "modified_Film_3.mp4_clips/modifiedFilm_3.mp4_clip_80_10.mp4\n",
      "{'upl_seconds': 80, '#clip_length': 10, '#created_on': '1/01/2019', 'VideoFilename': 'Film_3.mp4', '#siteName': 'Reef Säcken', '#clip_modification_details': \"{'-crf': '30', '-c:v': 'libx264', '-c:a': 'copy', '-filter_complex': '[0:v]crop=iw:ih*(15/100):0:0,boxblur=luma_radius=min(w\\\\\\\\,h)/5:chroma_radius=min(cw\\\\\\\\,ch)/5:luma_power=1[b0];         [0:v]crop=iw:ih*(15/100):0:ih*(95/100),boxblur=luma_radius=min(w\\\\\\\\,h)/5:chroma_radius=min(cw\\\\\\\\,ch)/5:luma_power=1[b1];         [0:v][b0]overlay=0:0[ovr0];         [ovr0][b1]overlay=0:H*(95/100)[ovr1]', '-map': '[ovr1]', '-pix_fmt': 'yuv420p', '-preset': 'veryfast'}\", 'Subject_type': 'clip', 'siteName': 'Reef Säcken', '#decimalLatitude': 59.01442972, '#decimalLongitude': 11.11670409, '#geodeticDatum': 'EPSG:4326', '#countryCode': 'SE'}\n"
     ]
    },
    {
     "name": "stderr",
     "output_type": "stream",
     "text": [
      "\r",
      " 24%|██▎       | 9/38 [00:09<00:30,  1.04s/it]"
     ]
    },
    {
     "name": "stdout",
     "output_type": "stream",
     "text": [
      "subject saved\n",
      "modified_Film_3.mp4_clips/modifiedFilm_3.mp4_clip_90_10.mp4\n",
      "{'upl_seconds': 90, '#clip_length': 10, '#created_on': '1/01/2019', 'VideoFilename': 'Film_3.mp4', '#siteName': 'Reef Säcken', '#clip_modification_details': \"{'-crf': '30', '-c:v': 'libx264', '-c:a': 'copy', '-filter_complex': '[0:v]crop=iw:ih*(15/100):0:0,boxblur=luma_radius=min(w\\\\\\\\,h)/5:chroma_radius=min(cw\\\\\\\\,ch)/5:luma_power=1[b0];         [0:v]crop=iw:ih*(15/100):0:ih*(95/100),boxblur=luma_radius=min(w\\\\\\\\,h)/5:chroma_radius=min(cw\\\\\\\\,ch)/5:luma_power=1[b1];         [0:v][b0]overlay=0:0[ovr0];         [ovr0][b1]overlay=0:H*(95/100)[ovr1]', '-map': '[ovr1]', '-pix_fmt': 'yuv420p', '-preset': 'veryfast'}\", 'Subject_type': 'clip', 'siteName': 'Reef Säcken', '#decimalLatitude': 59.01442972, '#decimalLongitude': 11.11670409, '#geodeticDatum': 'EPSG:4326', '#countryCode': 'SE'}\n"
     ]
    },
    {
     "name": "stderr",
     "output_type": "stream",
     "text": [
      "\r",
      " 26%|██▋       | 10/38 [00:10<00:28,  1.01s/it]"
     ]
    },
    {
     "name": "stdout",
     "output_type": "stream",
     "text": [
      "subject saved\n",
      "modified_Film_3.mp4_clips/modifiedFilm_3.mp4_clip_100_10.mp4\n",
      "{'upl_seconds': 100, '#clip_length': 10, '#created_on': '1/01/2019', 'VideoFilename': 'Film_3.mp4', '#siteName': 'Reef Säcken', '#clip_modification_details': \"{'-crf': '30', '-c:v': 'libx264', '-c:a': 'copy', '-filter_complex': '[0:v]crop=iw:ih*(15/100):0:0,boxblur=luma_radius=min(w\\\\\\\\,h)/5:chroma_radius=min(cw\\\\\\\\,ch)/5:luma_power=1[b0];         [0:v]crop=iw:ih*(15/100):0:ih*(95/100),boxblur=luma_radius=min(w\\\\\\\\,h)/5:chroma_radius=min(cw\\\\\\\\,ch)/5:luma_power=1[b1];         [0:v][b0]overlay=0:0[ovr0];         [ovr0][b1]overlay=0:H*(95/100)[ovr1]', '-map': '[ovr1]', '-pix_fmt': 'yuv420p', '-preset': 'veryfast'}\", 'Subject_type': 'clip', 'siteName': 'Reef Säcken', '#decimalLatitude': 59.01442972, '#decimalLongitude': 11.11670409, '#geodeticDatum': 'EPSG:4326', '#countryCode': 'SE'}\n"
     ]
    },
    {
     "name": "stderr",
     "output_type": "stream",
     "text": [
      "\r",
      " 29%|██▉       | 11/38 [00:11<00:27,  1.02s/it]"
     ]
    },
    {
     "name": "stdout",
     "output_type": "stream",
     "text": [
      "subject saved\n",
      "modified_Film_3.mp4_clips/modifiedFilm_3.mp4_clip_110_10.mp4\n",
      "{'upl_seconds': 110, '#clip_length': 10, '#created_on': '1/01/2019', 'VideoFilename': 'Film_3.mp4', '#siteName': 'Reef Säcken', '#clip_modification_details': \"{'-crf': '30', '-c:v': 'libx264', '-c:a': 'copy', '-filter_complex': '[0:v]crop=iw:ih*(15/100):0:0,boxblur=luma_radius=min(w\\\\\\\\,h)/5:chroma_radius=min(cw\\\\\\\\,ch)/5:luma_power=1[b0];         [0:v]crop=iw:ih*(15/100):0:ih*(95/100),boxblur=luma_radius=min(w\\\\\\\\,h)/5:chroma_radius=min(cw\\\\\\\\,ch)/5:luma_power=1[b1];         [0:v][b0]overlay=0:0[ovr0];         [ovr0][b1]overlay=0:H*(95/100)[ovr1]', '-map': '[ovr1]', '-pix_fmt': 'yuv420p', '-preset': 'veryfast'}\", 'Subject_type': 'clip', 'siteName': 'Reef Säcken', '#decimalLatitude': 59.01442972, '#decimalLongitude': 11.11670409, '#geodeticDatum': 'EPSG:4326', '#countryCode': 'SE'}\n"
     ]
    },
    {
     "name": "stderr",
     "output_type": "stream",
     "text": [
      "\r",
      " 32%|███▏      | 12/38 [00:12<00:25,  1.03it/s]"
     ]
    },
    {
     "name": "stdout",
     "output_type": "stream",
     "text": [
      "subject saved\n",
      "modified_Film_3.mp4_clips/modifiedFilm_3.mp4_clip_120_10.mp4\n",
      "{'upl_seconds': 120, '#clip_length': 10, '#created_on': '1/01/2019', 'VideoFilename': 'Film_3.mp4', '#siteName': 'Reef Säcken', '#clip_modification_details': \"{'-crf': '30', '-c:v': 'libx264', '-c:a': 'copy', '-filter_complex': '[0:v]crop=iw:ih*(15/100):0:0,boxblur=luma_radius=min(w\\\\\\\\,h)/5:chroma_radius=min(cw\\\\\\\\,ch)/5:luma_power=1[b0];         [0:v]crop=iw:ih*(15/100):0:ih*(95/100),boxblur=luma_radius=min(w\\\\\\\\,h)/5:chroma_radius=min(cw\\\\\\\\,ch)/5:luma_power=1[b1];         [0:v][b0]overlay=0:0[ovr0];         [ovr0][b1]overlay=0:H*(95/100)[ovr1]', '-map': '[ovr1]', '-pix_fmt': 'yuv420p', '-preset': 'veryfast'}\", 'Subject_type': 'clip', 'siteName': 'Reef Säcken', '#decimalLatitude': 59.01442972, '#decimalLongitude': 11.11670409, '#geodeticDatum': 'EPSG:4326', '#countryCode': 'SE'}\n"
     ]
    },
    {
     "name": "stderr",
     "output_type": "stream",
     "text": [
      "\r",
      " 34%|███▍      | 13/38 [00:13<00:24,  1.02it/s]"
     ]
    },
    {
     "name": "stdout",
     "output_type": "stream",
     "text": [
      "subject saved\n",
      "modified_Film_3.mp4_clips/modifiedFilm_3.mp4_clip_130_10.mp4\n",
      "{'upl_seconds': 130, '#clip_length': 10, '#created_on': '1/01/2019', 'VideoFilename': 'Film_3.mp4', '#siteName': 'Reef Säcken', '#clip_modification_details': \"{'-crf': '30', '-c:v': 'libx264', '-c:a': 'copy', '-filter_complex': '[0:v]crop=iw:ih*(15/100):0:0,boxblur=luma_radius=min(w\\\\\\\\,h)/5:chroma_radius=min(cw\\\\\\\\,ch)/5:luma_power=1[b0];         [0:v]crop=iw:ih*(15/100):0:ih*(95/100),boxblur=luma_radius=min(w\\\\\\\\,h)/5:chroma_radius=min(cw\\\\\\\\,ch)/5:luma_power=1[b1];         [0:v][b0]overlay=0:0[ovr0];         [ovr0][b1]overlay=0:H*(95/100)[ovr1]', '-map': '[ovr1]', '-pix_fmt': 'yuv420p', '-preset': 'veryfast'}\", 'Subject_type': 'clip', 'siteName': 'Reef Säcken', '#decimalLatitude': 59.01442972, '#decimalLongitude': 11.11670409, '#geodeticDatum': 'EPSG:4326', '#countryCode': 'SE'}\n"
     ]
    },
    {
     "name": "stderr",
     "output_type": "stream",
     "text": [
      "\r",
      " 37%|███▋      | 14/38 [00:14<00:23,  1.04it/s]"
     ]
    },
    {
     "name": "stdout",
     "output_type": "stream",
     "text": [
      "subject saved\n",
      "modified_Film_3.mp4_clips/modifiedFilm_3.mp4_clip_140_10.mp4\n",
      "{'upl_seconds': 140, '#clip_length': 10, '#created_on': '1/01/2019', 'VideoFilename': 'Film_3.mp4', '#siteName': 'Reef Säcken', '#clip_modification_details': \"{'-crf': '30', '-c:v': 'libx264', '-c:a': 'copy', '-filter_complex': '[0:v]crop=iw:ih*(15/100):0:0,boxblur=luma_radius=min(w\\\\\\\\,h)/5:chroma_radius=min(cw\\\\\\\\,ch)/5:luma_power=1[b0];         [0:v]crop=iw:ih*(15/100):0:ih*(95/100),boxblur=luma_radius=min(w\\\\\\\\,h)/5:chroma_radius=min(cw\\\\\\\\,ch)/5:luma_power=1[b1];         [0:v][b0]overlay=0:0[ovr0];         [ovr0][b1]overlay=0:H*(95/100)[ovr1]', '-map': '[ovr1]', '-pix_fmt': 'yuv420p', '-preset': 'veryfast'}\", 'Subject_type': 'clip', 'siteName': 'Reef Säcken', '#decimalLatitude': 59.01442972, '#decimalLongitude': 11.11670409, '#geodeticDatum': 'EPSG:4326', '#countryCode': 'SE'}\n"
     ]
    },
    {
     "name": "stderr",
     "output_type": "stream",
     "text": [
      "\r",
      " 39%|███▉      | 15/38 [00:15<00:21,  1.05it/s]"
     ]
    },
    {
     "name": "stdout",
     "output_type": "stream",
     "text": [
      "subject saved\n",
      "modified_Film_3.mp4_clips/modifiedFilm_3.mp4_clip_150_10.mp4\n",
      "{'upl_seconds': 150, '#clip_length': 10, '#created_on': '1/01/2019', 'VideoFilename': 'Film_3.mp4', '#siteName': 'Reef Säcken', '#clip_modification_details': \"{'-crf': '30', '-c:v': 'libx264', '-c:a': 'copy', '-filter_complex': '[0:v]crop=iw:ih*(15/100):0:0,boxblur=luma_radius=min(w\\\\\\\\,h)/5:chroma_radius=min(cw\\\\\\\\,ch)/5:luma_power=1[b0];         [0:v]crop=iw:ih*(15/100):0:ih*(95/100),boxblur=luma_radius=min(w\\\\\\\\,h)/5:chroma_radius=min(cw\\\\\\\\,ch)/5:luma_power=1[b1];         [0:v][b0]overlay=0:0[ovr0];         [ovr0][b1]overlay=0:H*(95/100)[ovr1]', '-map': '[ovr1]', '-pix_fmt': 'yuv420p', '-preset': 'veryfast'}\", 'Subject_type': 'clip', 'siteName': 'Reef Säcken', '#decimalLatitude': 59.01442972, '#decimalLongitude': 11.11670409, '#geodeticDatum': 'EPSG:4326', '#countryCode': 'SE'}\n"
     ]
    },
    {
     "name": "stderr",
     "output_type": "stream",
     "text": [
      "\r",
      " 42%|████▏     | 16/38 [00:16<00:20,  1.06it/s]"
     ]
    },
    {
     "name": "stdout",
     "output_type": "stream",
     "text": [
      "subject saved\n",
      "modified_Film_3.mp4_clips/modifiedFilm_3.mp4_clip_160_10.mp4\n",
      "{'upl_seconds': 160, '#clip_length': 10, '#created_on': '1/01/2019', 'VideoFilename': 'Film_3.mp4', '#siteName': 'Reef Säcken', '#clip_modification_details': \"{'-crf': '30', '-c:v': 'libx264', '-c:a': 'copy', '-filter_complex': '[0:v]crop=iw:ih*(15/100):0:0,boxblur=luma_radius=min(w\\\\\\\\,h)/5:chroma_radius=min(cw\\\\\\\\,ch)/5:luma_power=1[b0];         [0:v]crop=iw:ih*(15/100):0:ih*(95/100),boxblur=luma_radius=min(w\\\\\\\\,h)/5:chroma_radius=min(cw\\\\\\\\,ch)/5:luma_power=1[b1];         [0:v][b0]overlay=0:0[ovr0];         [ovr0][b1]overlay=0:H*(95/100)[ovr1]', '-map': '[ovr1]', '-pix_fmt': 'yuv420p', '-preset': 'veryfast'}\", 'Subject_type': 'clip', 'siteName': 'Reef Säcken', '#decimalLatitude': 59.01442972, '#decimalLongitude': 11.11670409, '#geodeticDatum': 'EPSG:4326', '#countryCode': 'SE'}\n"
     ]
    },
    {
     "name": "stderr",
     "output_type": "stream",
     "text": [
      "\r",
      " 45%|████▍     | 17/38 [00:17<00:19,  1.10it/s]"
     ]
    },
    {
     "name": "stdout",
     "output_type": "stream",
     "text": [
      "subject saved\n",
      "modified_Film_3.mp4_clips/modifiedFilm_3.mp4_clip_170_10.mp4\n",
      "{'upl_seconds': 170, '#clip_length': 10, '#created_on': '1/01/2019', 'VideoFilename': 'Film_3.mp4', '#siteName': 'Reef Säcken', '#clip_modification_details': \"{'-crf': '30', '-c:v': 'libx264', '-c:a': 'copy', '-filter_complex': '[0:v]crop=iw:ih*(15/100):0:0,boxblur=luma_radius=min(w\\\\\\\\,h)/5:chroma_radius=min(cw\\\\\\\\,ch)/5:luma_power=1[b0];         [0:v]crop=iw:ih*(15/100):0:ih*(95/100),boxblur=luma_radius=min(w\\\\\\\\,h)/5:chroma_radius=min(cw\\\\\\\\,ch)/5:luma_power=1[b1];         [0:v][b0]overlay=0:0[ovr0];         [ovr0][b1]overlay=0:H*(95/100)[ovr1]', '-map': '[ovr1]', '-pix_fmt': 'yuv420p', '-preset': 'veryfast'}\", 'Subject_type': 'clip', 'siteName': 'Reef Säcken', '#decimalLatitude': 59.01442972, '#decimalLongitude': 11.11670409, '#geodeticDatum': 'EPSG:4326', '#countryCode': 'SE'}\n"
     ]
    },
    {
     "name": "stderr",
     "output_type": "stream",
     "text": [
      "\r",
      " 47%|████▋     | 18/38 [00:18<00:18,  1.08it/s]"
     ]
    },
    {
     "name": "stdout",
     "output_type": "stream",
     "text": [
      "subject saved\n",
      "modified_Film_3.mp4_clips/modifiedFilm_3.mp4_clip_180_10.mp4\n",
      "{'upl_seconds': 180, '#clip_length': 10, '#created_on': '1/01/2019', 'VideoFilename': 'Film_3.mp4', '#siteName': 'Reef Säcken', '#clip_modification_details': \"{'-crf': '30', '-c:v': 'libx264', '-c:a': 'copy', '-filter_complex': '[0:v]crop=iw:ih*(15/100):0:0,boxblur=luma_radius=min(w\\\\\\\\,h)/5:chroma_radius=min(cw\\\\\\\\,ch)/5:luma_power=1[b0];         [0:v]crop=iw:ih*(15/100):0:ih*(95/100),boxblur=luma_radius=min(w\\\\\\\\,h)/5:chroma_radius=min(cw\\\\\\\\,ch)/5:luma_power=1[b1];         [0:v][b0]overlay=0:0[ovr0];         [ovr0][b1]overlay=0:H*(95/100)[ovr1]', '-map': '[ovr1]', '-pix_fmt': 'yuv420p', '-preset': 'veryfast'}\", 'Subject_type': 'clip', 'siteName': 'Reef Säcken', '#decimalLatitude': 59.01442972, '#decimalLongitude': 11.11670409, '#geodeticDatum': 'EPSG:4326', '#countryCode': 'SE'}\n"
     ]
    },
    {
     "name": "stderr",
     "output_type": "stream",
     "text": [
      "\r",
      " 50%|█████     | 19/38 [00:18<00:16,  1.12it/s]"
     ]
    },
    {
     "name": "stdout",
     "output_type": "stream",
     "text": [
      "subject saved\n",
      "modified_Film_3.mp4_clips/modifiedFilm_3.mp4_clip_190_10.mp4\n",
      "{'upl_seconds': 190, '#clip_length': 10, '#created_on': '1/01/2019', 'VideoFilename': 'Film_3.mp4', '#siteName': 'Reef Säcken', '#clip_modification_details': \"{'-crf': '30', '-c:v': 'libx264', '-c:a': 'copy', '-filter_complex': '[0:v]crop=iw:ih*(15/100):0:0,boxblur=luma_radius=min(w\\\\\\\\,h)/5:chroma_radius=min(cw\\\\\\\\,ch)/5:luma_power=1[b0];         [0:v]crop=iw:ih*(15/100):0:ih*(95/100),boxblur=luma_radius=min(w\\\\\\\\,h)/5:chroma_radius=min(cw\\\\\\\\,ch)/5:luma_power=1[b1];         [0:v][b0]overlay=0:0[ovr0];         [ovr0][b1]overlay=0:H*(95/100)[ovr1]', '-map': '[ovr1]', '-pix_fmt': 'yuv420p', '-preset': 'veryfast'}\", 'Subject_type': 'clip', 'siteName': 'Reef Säcken', '#decimalLatitude': 59.01442972, '#decimalLongitude': 11.11670409, '#geodeticDatum': 'EPSG:4326', '#countryCode': 'SE'}\n"
     ]
    },
    {
     "name": "stderr",
     "output_type": "stream",
     "text": [
      "\r",
      " 53%|█████▎    | 20/38 [00:19<00:16,  1.10it/s]"
     ]
    },
    {
     "name": "stdout",
     "output_type": "stream",
     "text": [
      "subject saved\n",
      "modified_Film_3.mp4_clips/modifiedFilm_3.mp4_clip_200_10.mp4\n",
      "{'upl_seconds': 200, '#clip_length': 10, '#created_on': '1/01/2019', 'VideoFilename': 'Film_3.mp4', '#siteName': 'Reef Säcken', '#clip_modification_details': \"{'-crf': '30', '-c:v': 'libx264', '-c:a': 'copy', '-filter_complex': '[0:v]crop=iw:ih*(15/100):0:0,boxblur=luma_radius=min(w\\\\\\\\,h)/5:chroma_radius=min(cw\\\\\\\\,ch)/5:luma_power=1[b0];         [0:v]crop=iw:ih*(15/100):0:ih*(95/100),boxblur=luma_radius=min(w\\\\\\\\,h)/5:chroma_radius=min(cw\\\\\\\\,ch)/5:luma_power=1[b1];         [0:v][b0]overlay=0:0[ovr0];         [ovr0][b1]overlay=0:H*(95/100)[ovr1]', '-map': '[ovr1]', '-pix_fmt': 'yuv420p', '-preset': 'veryfast'}\", 'Subject_type': 'clip', 'siteName': 'Reef Säcken', '#decimalLatitude': 59.01442972, '#decimalLongitude': 11.11670409, '#geodeticDatum': 'EPSG:4326', '#countryCode': 'SE'}\n"
     ]
    },
    {
     "name": "stderr",
     "output_type": "stream",
     "text": [
      "\r",
      " 55%|█████▌    | 21/38 [00:20<00:15,  1.07it/s]"
     ]
    },
    {
     "name": "stdout",
     "output_type": "stream",
     "text": [
      "subject saved\n",
      "modified_Film_3.mp4_clips/modifiedFilm_3.mp4_clip_210_10.mp4\n",
      "{'upl_seconds': 210, '#clip_length': 10, '#created_on': '1/01/2019', 'VideoFilename': 'Film_3.mp4', '#siteName': 'Reef Säcken', '#clip_modification_details': \"{'-crf': '30', '-c:v': 'libx264', '-c:a': 'copy', '-filter_complex': '[0:v]crop=iw:ih*(15/100):0:0,boxblur=luma_radius=min(w\\\\\\\\,h)/5:chroma_radius=min(cw\\\\\\\\,ch)/5:luma_power=1[b0];         [0:v]crop=iw:ih*(15/100):0:ih*(95/100),boxblur=luma_radius=min(w\\\\\\\\,h)/5:chroma_radius=min(cw\\\\\\\\,ch)/5:luma_power=1[b1];         [0:v][b0]overlay=0:0[ovr0];         [ovr0][b1]overlay=0:H*(95/100)[ovr1]', '-map': '[ovr1]', '-pix_fmt': 'yuv420p', '-preset': 'veryfast'}\", 'Subject_type': 'clip', 'siteName': 'Reef Säcken', '#decimalLatitude': 59.01442972, '#decimalLongitude': 11.11670409, '#geodeticDatum': 'EPSG:4326', '#countryCode': 'SE'}\n"
     ]
    },
    {
     "name": "stderr",
     "output_type": "stream",
     "text": [
      "\r",
      " 58%|█████▊    | 22/38 [00:21<00:15,  1.03it/s]"
     ]
    },
    {
     "name": "stdout",
     "output_type": "stream",
     "text": [
      "subject saved\n",
      "modified_Film_3.mp4_clips/modifiedFilm_3.mp4_clip_220_10.mp4\n",
      "{'upl_seconds': 220, '#clip_length': 10, '#created_on': '1/01/2019', 'VideoFilename': 'Film_3.mp4', '#siteName': 'Reef Säcken', '#clip_modification_details': \"{'-crf': '30', '-c:v': 'libx264', '-c:a': 'copy', '-filter_complex': '[0:v]crop=iw:ih*(15/100):0:0,boxblur=luma_radius=min(w\\\\\\\\,h)/5:chroma_radius=min(cw\\\\\\\\,ch)/5:luma_power=1[b0];         [0:v]crop=iw:ih*(15/100):0:ih*(95/100),boxblur=luma_radius=min(w\\\\\\\\,h)/5:chroma_radius=min(cw\\\\\\\\,ch)/5:luma_power=1[b1];         [0:v][b0]overlay=0:0[ovr0];         [ovr0][b1]overlay=0:H*(95/100)[ovr1]', '-map': '[ovr1]', '-pix_fmt': 'yuv420p', '-preset': 'veryfast'}\", 'Subject_type': 'clip', 'siteName': 'Reef Säcken', '#decimalLatitude': 59.01442972, '#decimalLongitude': 11.11670409, '#geodeticDatum': 'EPSG:4326', '#countryCode': 'SE'}\n"
     ]
    },
    {
     "name": "stderr",
     "output_type": "stream",
     "text": [
      "\r",
      " 61%|██████    | 23/38 [00:22<00:14,  1.04it/s]"
     ]
    },
    {
     "name": "stdout",
     "output_type": "stream",
     "text": [
      "subject saved\n",
      "modified_Film_3.mp4_clips/modifiedFilm_3.mp4_clip_230_10.mp4\n",
      "{'upl_seconds': 230, '#clip_length': 10, '#created_on': '1/01/2019', 'VideoFilename': 'Film_3.mp4', '#siteName': 'Reef Säcken', '#clip_modification_details': \"{'-crf': '30', '-c:v': 'libx264', '-c:a': 'copy', '-filter_complex': '[0:v]crop=iw:ih*(15/100):0:0,boxblur=luma_radius=min(w\\\\\\\\,h)/5:chroma_radius=min(cw\\\\\\\\,ch)/5:luma_power=1[b0];         [0:v]crop=iw:ih*(15/100):0:ih*(95/100),boxblur=luma_radius=min(w\\\\\\\\,h)/5:chroma_radius=min(cw\\\\\\\\,ch)/5:luma_power=1[b1];         [0:v][b0]overlay=0:0[ovr0];         [ovr0][b1]overlay=0:H*(95/100)[ovr1]', '-map': '[ovr1]', '-pix_fmt': 'yuv420p', '-preset': 'veryfast'}\", 'Subject_type': 'clip', 'siteName': 'Reef Säcken', '#decimalLatitude': 59.01442972, '#decimalLongitude': 11.11670409, '#geodeticDatum': 'EPSG:4326', '#countryCode': 'SE'}\n"
     ]
    },
    {
     "name": "stderr",
     "output_type": "stream",
     "text": [
      "\r",
      " 63%|██████▎   | 24/38 [00:24<00:14,  1.00s/it]"
     ]
    },
    {
     "name": "stdout",
     "output_type": "stream",
     "text": [
      "subject saved\n",
      "modified_Film_3.mp4_clips/modifiedFilm_3.mp4_clip_240_10.mp4\n",
      "{'upl_seconds': 240, '#clip_length': 10, '#created_on': '1/01/2019', 'VideoFilename': 'Film_3.mp4', '#siteName': 'Reef Säcken', '#clip_modification_details': \"{'-crf': '30', '-c:v': 'libx264', '-c:a': 'copy', '-filter_complex': '[0:v]crop=iw:ih*(15/100):0:0,boxblur=luma_radius=min(w\\\\\\\\,h)/5:chroma_radius=min(cw\\\\\\\\,ch)/5:luma_power=1[b0];         [0:v]crop=iw:ih*(15/100):0:ih*(95/100),boxblur=luma_radius=min(w\\\\\\\\,h)/5:chroma_radius=min(cw\\\\\\\\,ch)/5:luma_power=1[b1];         [0:v][b0]overlay=0:0[ovr0];         [ovr0][b1]overlay=0:H*(95/100)[ovr1]', '-map': '[ovr1]', '-pix_fmt': 'yuv420p', '-preset': 'veryfast'}\", 'Subject_type': 'clip', 'siteName': 'Reef Säcken', '#decimalLatitude': 59.01442972, '#decimalLongitude': 11.11670409, '#geodeticDatum': 'EPSG:4326', '#countryCode': 'SE'}\n"
     ]
    },
    {
     "name": "stderr",
     "output_type": "stream",
     "text": [
      "\r",
      " 66%|██████▌   | 25/38 [00:25<00:13,  1.05s/it]"
     ]
    },
    {
     "name": "stdout",
     "output_type": "stream",
     "text": [
      "subject saved\n",
      "modified_Film_3.mp4_clips/modifiedFilm_3.mp4_clip_250_10.mp4\n",
      "{'upl_seconds': 250, '#clip_length': 10, '#created_on': '1/01/2019', 'VideoFilename': 'Film_3.mp4', '#siteName': 'Reef Säcken', '#clip_modification_details': \"{'-crf': '30', '-c:v': 'libx264', '-c:a': 'copy', '-filter_complex': '[0:v]crop=iw:ih*(15/100):0:0,boxblur=luma_radius=min(w\\\\\\\\,h)/5:chroma_radius=min(cw\\\\\\\\,ch)/5:luma_power=1[b0];         [0:v]crop=iw:ih*(15/100):0:ih*(95/100),boxblur=luma_radius=min(w\\\\\\\\,h)/5:chroma_radius=min(cw\\\\\\\\,ch)/5:luma_power=1[b1];         [0:v][b0]overlay=0:0[ovr0];         [ovr0][b1]overlay=0:H*(95/100)[ovr1]', '-map': '[ovr1]', '-pix_fmt': 'yuv420p', '-preset': 'veryfast'}\", 'Subject_type': 'clip', 'siteName': 'Reef Säcken', '#decimalLatitude': 59.01442972, '#decimalLongitude': 11.11670409, '#geodeticDatum': 'EPSG:4326', '#countryCode': 'SE'}\n"
     ]
    },
    {
     "name": "stderr",
     "output_type": "stream",
     "text": [
      "\r",
      " 68%|██████▊   | 26/38 [00:26<00:12,  1.04s/it]"
     ]
    },
    {
     "name": "stdout",
     "output_type": "stream",
     "text": [
      "subject saved\n",
      "modified_Film_3.mp4_clips/modifiedFilm_3.mp4_clip_260_10.mp4\n",
      "{'upl_seconds': 260, '#clip_length': 10, '#created_on': '1/01/2019', 'VideoFilename': 'Film_3.mp4', '#siteName': 'Reef Säcken', '#clip_modification_details': \"{'-crf': '30', '-c:v': 'libx264', '-c:a': 'copy', '-filter_complex': '[0:v]crop=iw:ih*(15/100):0:0,boxblur=luma_radius=min(w\\\\\\\\,h)/5:chroma_radius=min(cw\\\\\\\\,ch)/5:luma_power=1[b0];         [0:v]crop=iw:ih*(15/100):0:ih*(95/100),boxblur=luma_radius=min(w\\\\\\\\,h)/5:chroma_radius=min(cw\\\\\\\\,ch)/5:luma_power=1[b1];         [0:v][b0]overlay=0:0[ovr0];         [ovr0][b1]overlay=0:H*(95/100)[ovr1]', '-map': '[ovr1]', '-pix_fmt': 'yuv420p', '-preset': 'veryfast'}\", 'Subject_type': 'clip', 'siteName': 'Reef Säcken', '#decimalLatitude': 59.01442972, '#decimalLongitude': 11.11670409, '#geodeticDatum': 'EPSG:4326', '#countryCode': 'SE'}\n"
     ]
    },
    {
     "name": "stderr",
     "output_type": "stream",
     "text": [
      "\r",
      " 71%|███████   | 27/38 [00:27<00:11,  1.05s/it]"
     ]
    },
    {
     "name": "stdout",
     "output_type": "stream",
     "text": [
      "subject saved\n",
      "modified_Film_3.mp4_clips/modifiedFilm_3.mp4_clip_270_10.mp4\n",
      "{'upl_seconds': 270, '#clip_length': 10, '#created_on': '1/01/2019', 'VideoFilename': 'Film_3.mp4', '#siteName': 'Reef Säcken', '#clip_modification_details': \"{'-crf': '30', '-c:v': 'libx264', '-c:a': 'copy', '-filter_complex': '[0:v]crop=iw:ih*(15/100):0:0,boxblur=luma_radius=min(w\\\\\\\\,h)/5:chroma_radius=min(cw\\\\\\\\,ch)/5:luma_power=1[b0];         [0:v]crop=iw:ih*(15/100):0:ih*(95/100),boxblur=luma_radius=min(w\\\\\\\\,h)/5:chroma_radius=min(cw\\\\\\\\,ch)/5:luma_power=1[b1];         [0:v][b0]overlay=0:0[ovr0];         [ovr0][b1]overlay=0:H*(95/100)[ovr1]', '-map': '[ovr1]', '-pix_fmt': 'yuv420p', '-preset': 'veryfast'}\", 'Subject_type': 'clip', 'siteName': 'Reef Säcken', '#decimalLatitude': 59.01442972, '#decimalLongitude': 11.11670409, '#geodeticDatum': 'EPSG:4326', '#countryCode': 'SE'}\n"
     ]
    },
    {
     "name": "stderr",
     "output_type": "stream",
     "text": [
      "\r",
      " 74%|███████▎  | 28/38 [00:28<00:10,  1.05s/it]"
     ]
    },
    {
     "name": "stdout",
     "output_type": "stream",
     "text": [
      "subject saved\n",
      "modified_Film_3.mp4_clips/modifiedFilm_3.mp4_clip_280_10.mp4\n",
      "{'upl_seconds': 280, '#clip_length': 10, '#created_on': '1/01/2019', 'VideoFilename': 'Film_3.mp4', '#siteName': 'Reef Säcken', '#clip_modification_details': \"{'-crf': '30', '-c:v': 'libx264', '-c:a': 'copy', '-filter_complex': '[0:v]crop=iw:ih*(15/100):0:0,boxblur=luma_radius=min(w\\\\\\\\,h)/5:chroma_radius=min(cw\\\\\\\\,ch)/5:luma_power=1[b0];         [0:v]crop=iw:ih*(15/100):0:ih*(95/100),boxblur=luma_radius=min(w\\\\\\\\,h)/5:chroma_radius=min(cw\\\\\\\\,ch)/5:luma_power=1[b1];         [0:v][b0]overlay=0:0[ovr0];         [ovr0][b1]overlay=0:H*(95/100)[ovr1]', '-map': '[ovr1]', '-pix_fmt': 'yuv420p', '-preset': 'veryfast'}\", 'Subject_type': 'clip', 'siteName': 'Reef Säcken', '#decimalLatitude': 59.01442972, '#decimalLongitude': 11.11670409, '#geodeticDatum': 'EPSG:4326', '#countryCode': 'SE'}\n"
     ]
    },
    {
     "name": "stderr",
     "output_type": "stream",
     "text": [
      "\r",
      " 76%|███████▋  | 29/38 [00:29<00:09,  1.05s/it]"
     ]
    },
    {
     "name": "stdout",
     "output_type": "stream",
     "text": [
      "subject saved\n",
      "modified_Film_3.mp4_clips/modifiedFilm_3.mp4_clip_290_10.mp4\n",
      "{'upl_seconds': 290, '#clip_length': 10, '#created_on': '1/01/2019', 'VideoFilename': 'Film_3.mp4', '#siteName': 'Reef Säcken', '#clip_modification_details': \"{'-crf': '30', '-c:v': 'libx264', '-c:a': 'copy', '-filter_complex': '[0:v]crop=iw:ih*(15/100):0:0,boxblur=luma_radius=min(w\\\\\\\\,h)/5:chroma_radius=min(cw\\\\\\\\,ch)/5:luma_power=1[b0];         [0:v]crop=iw:ih*(15/100):0:ih*(95/100),boxblur=luma_radius=min(w\\\\\\\\,h)/5:chroma_radius=min(cw\\\\\\\\,ch)/5:luma_power=1[b1];         [0:v][b0]overlay=0:0[ovr0];         [ovr0][b1]overlay=0:H*(95/100)[ovr1]', '-map': '[ovr1]', '-pix_fmt': 'yuv420p', '-preset': 'veryfast'}\", 'Subject_type': 'clip', 'siteName': 'Reef Säcken', '#decimalLatitude': 59.01442972, '#decimalLongitude': 11.11670409, '#geodeticDatum': 'EPSG:4326', '#countryCode': 'SE'}\n"
     ]
    },
    {
     "name": "stderr",
     "output_type": "stream",
     "text": [
      "\r",
      " 79%|███████▉  | 30/38 [00:30<00:08,  1.06s/it]"
     ]
    },
    {
     "name": "stdout",
     "output_type": "stream",
     "text": [
      "subject saved\n",
      "modified_Film_3.mp4_clips/modifiedFilm_3.mp4_clip_300_10.mp4\n",
      "{'upl_seconds': 300, '#clip_length': 10, '#created_on': '1/01/2019', 'VideoFilename': 'Film_3.mp4', '#siteName': 'Reef Säcken', '#clip_modification_details': \"{'-crf': '30', '-c:v': 'libx264', '-c:a': 'copy', '-filter_complex': '[0:v]crop=iw:ih*(15/100):0:0,boxblur=luma_radius=min(w\\\\\\\\,h)/5:chroma_radius=min(cw\\\\\\\\,ch)/5:luma_power=1[b0];         [0:v]crop=iw:ih*(15/100):0:ih*(95/100),boxblur=luma_radius=min(w\\\\\\\\,h)/5:chroma_radius=min(cw\\\\\\\\,ch)/5:luma_power=1[b1];         [0:v][b0]overlay=0:0[ovr0];         [ovr0][b1]overlay=0:H*(95/100)[ovr1]', '-map': '[ovr1]', '-pix_fmt': 'yuv420p', '-preset': 'veryfast'}\", 'Subject_type': 'clip', 'siteName': 'Reef Säcken', '#decimalLatitude': 59.01442972, '#decimalLongitude': 11.11670409, '#geodeticDatum': 'EPSG:4326', '#countryCode': 'SE'}\n"
     ]
    },
    {
     "name": "stderr",
     "output_type": "stream",
     "text": [
      "\r",
      " 82%|████████▏ | 31/38 [00:31<00:07,  1.03s/it]"
     ]
    },
    {
     "name": "stdout",
     "output_type": "stream",
     "text": [
      "subject saved\n",
      "modified_Film_3.mp4_clips/modifiedFilm_3.mp4_clip_310_10.mp4\n",
      "{'upl_seconds': 310, '#clip_length': 10, '#created_on': '1/01/2019', 'VideoFilename': 'Film_3.mp4', '#siteName': 'Reef Säcken', '#clip_modification_details': \"{'-crf': '30', '-c:v': 'libx264', '-c:a': 'copy', '-filter_complex': '[0:v]crop=iw:ih*(15/100):0:0,boxblur=luma_radius=min(w\\\\\\\\,h)/5:chroma_radius=min(cw\\\\\\\\,ch)/5:luma_power=1[b0];         [0:v]crop=iw:ih*(15/100):0:ih*(95/100),boxblur=luma_radius=min(w\\\\\\\\,h)/5:chroma_radius=min(cw\\\\\\\\,ch)/5:luma_power=1[b1];         [0:v][b0]overlay=0:0[ovr0];         [ovr0][b1]overlay=0:H*(95/100)[ovr1]', '-map': '[ovr1]', '-pix_fmt': 'yuv420p', '-preset': 'veryfast'}\", 'Subject_type': 'clip', 'siteName': 'Reef Säcken', '#decimalLatitude': 59.01442972, '#decimalLongitude': 11.11670409, '#geodeticDatum': 'EPSG:4326', '#countryCode': 'SE'}\n"
     ]
    },
    {
     "name": "stderr",
     "output_type": "stream",
     "text": [
      "\r",
      " 84%|████████▍ | 32/38 [00:32<00:06,  1.01s/it]"
     ]
    },
    {
     "name": "stdout",
     "output_type": "stream",
     "text": [
      "subject saved\n",
      "modified_Film_3.mp4_clips/modifiedFilm_3.mp4_clip_320_10.mp4\n",
      "{'upl_seconds': 320, '#clip_length': 10, '#created_on': '1/01/2019', 'VideoFilename': 'Film_3.mp4', '#siteName': 'Reef Säcken', '#clip_modification_details': \"{'-crf': '30', '-c:v': 'libx264', '-c:a': 'copy', '-filter_complex': '[0:v]crop=iw:ih*(15/100):0:0,boxblur=luma_radius=min(w\\\\\\\\,h)/5:chroma_radius=min(cw\\\\\\\\,ch)/5:luma_power=1[b0];         [0:v]crop=iw:ih*(15/100):0:ih*(95/100),boxblur=luma_radius=min(w\\\\\\\\,h)/5:chroma_radius=min(cw\\\\\\\\,ch)/5:luma_power=1[b1];         [0:v][b0]overlay=0:0[ovr0];         [ovr0][b1]overlay=0:H*(95/100)[ovr1]', '-map': '[ovr1]', '-pix_fmt': 'yuv420p', '-preset': 'veryfast'}\", 'Subject_type': 'clip', 'siteName': 'Reef Säcken', '#decimalLatitude': 59.01442972, '#decimalLongitude': 11.11670409, '#geodeticDatum': 'EPSG:4326', '#countryCode': 'SE'}\n"
     ]
    },
    {
     "name": "stderr",
     "output_type": "stream",
     "text": [
      "\r",
      " 87%|████████▋ | 33/38 [00:33<00:05,  1.02s/it]"
     ]
    },
    {
     "name": "stdout",
     "output_type": "stream",
     "text": [
      "subject saved\n",
      "modified_Film_3.mp4_clips/modifiedFilm_3.mp4_clip_330_10.mp4\n",
      "{'upl_seconds': 330, '#clip_length': 10, '#created_on': '1/01/2019', 'VideoFilename': 'Film_3.mp4', '#siteName': 'Reef Säcken', '#clip_modification_details': \"{'-crf': '30', '-c:v': 'libx264', '-c:a': 'copy', '-filter_complex': '[0:v]crop=iw:ih*(15/100):0:0,boxblur=luma_radius=min(w\\\\\\\\,h)/5:chroma_radius=min(cw\\\\\\\\,ch)/5:luma_power=1[b0];         [0:v]crop=iw:ih*(15/100):0:ih*(95/100),boxblur=luma_radius=min(w\\\\\\\\,h)/5:chroma_radius=min(cw\\\\\\\\,ch)/5:luma_power=1[b1];         [0:v][b0]overlay=0:0[ovr0];         [ovr0][b1]overlay=0:H*(95/100)[ovr1]', '-map': '[ovr1]', '-pix_fmt': 'yuv420p', '-preset': 'veryfast'}\", 'Subject_type': 'clip', 'siteName': 'Reef Säcken', '#decimalLatitude': 59.01442972, '#decimalLongitude': 11.11670409, '#geodeticDatum': 'EPSG:4326', '#countryCode': 'SE'}\n"
     ]
    },
    {
     "name": "stderr",
     "output_type": "stream",
     "text": [
      "\r",
      " 89%|████████▉ | 34/38 [00:34<00:04,  1.00s/it]"
     ]
    },
    {
     "name": "stdout",
     "output_type": "stream",
     "text": [
      "subject saved\n",
      "modified_Film_3.mp4_clips/modifiedFilm_3.mp4_clip_340_10.mp4\n",
      "{'upl_seconds': 340, '#clip_length': 10, '#created_on': '1/01/2019', 'VideoFilename': 'Film_3.mp4', '#siteName': 'Reef Säcken', '#clip_modification_details': \"{'-crf': '30', '-c:v': 'libx264', '-c:a': 'copy', '-filter_complex': '[0:v]crop=iw:ih*(15/100):0:0,boxblur=luma_radius=min(w\\\\\\\\,h)/5:chroma_radius=min(cw\\\\\\\\,ch)/5:luma_power=1[b0];         [0:v]crop=iw:ih*(15/100):0:ih*(95/100),boxblur=luma_radius=min(w\\\\\\\\,h)/5:chroma_radius=min(cw\\\\\\\\,ch)/5:luma_power=1[b1];         [0:v][b0]overlay=0:0[ovr0];         [ovr0][b1]overlay=0:H*(95/100)[ovr1]', '-map': '[ovr1]', '-pix_fmt': 'yuv420p', '-preset': 'veryfast'}\", 'Subject_type': 'clip', 'siteName': 'Reef Säcken', '#decimalLatitude': 59.01442972, '#decimalLongitude': 11.11670409, '#geodeticDatum': 'EPSG:4326', '#countryCode': 'SE'}\n"
     ]
    },
    {
     "name": "stderr",
     "output_type": "stream",
     "text": [
      "\r",
      " 92%|█████████▏| 35/38 [00:35<00:02,  1.01it/s]"
     ]
    },
    {
     "name": "stdout",
     "output_type": "stream",
     "text": [
      "subject saved\n",
      "modified_Film_3.mp4_clips/modifiedFilm_3.mp4_clip_350_10.mp4\n",
      "{'upl_seconds': 350, '#clip_length': 10, '#created_on': '1/01/2019', 'VideoFilename': 'Film_3.mp4', '#siteName': 'Reef Säcken', '#clip_modification_details': \"{'-crf': '30', '-c:v': 'libx264', '-c:a': 'copy', '-filter_complex': '[0:v]crop=iw:ih*(15/100):0:0,boxblur=luma_radius=min(w\\\\\\\\,h)/5:chroma_radius=min(cw\\\\\\\\,ch)/5:luma_power=1[b0];         [0:v]crop=iw:ih*(15/100):0:ih*(95/100),boxblur=luma_radius=min(w\\\\\\\\,h)/5:chroma_radius=min(cw\\\\\\\\,ch)/5:luma_power=1[b1];         [0:v][b0]overlay=0:0[ovr0];         [ovr0][b1]overlay=0:H*(95/100)[ovr1]', '-map': '[ovr1]', '-pix_fmt': 'yuv420p', '-preset': 'veryfast'}\", 'Subject_type': 'clip', 'siteName': 'Reef Säcken', '#decimalLatitude': 59.01442972, '#decimalLongitude': 11.11670409, '#geodeticDatum': 'EPSG:4326', '#countryCode': 'SE'}\n"
     ]
    },
    {
     "name": "stderr",
     "output_type": "stream",
     "text": [
      "\r",
      " 95%|█████████▍| 36/38 [00:36<00:01,  1.01it/s]"
     ]
    },
    {
     "name": "stdout",
     "output_type": "stream",
     "text": [
      "subject saved\n",
      "modified_Film_3.mp4_clips/modifiedFilm_3.mp4_clip_360_10.mp4\n",
      "{'upl_seconds': 360, '#clip_length': 10, '#created_on': '1/01/2019', 'VideoFilename': 'Film_3.mp4', '#siteName': 'Reef Säcken', '#clip_modification_details': \"{'-crf': '30', '-c:v': 'libx264', '-c:a': 'copy', '-filter_complex': '[0:v]crop=iw:ih*(15/100):0:0,boxblur=luma_radius=min(w\\\\\\\\,h)/5:chroma_radius=min(cw\\\\\\\\,ch)/5:luma_power=1[b0];         [0:v]crop=iw:ih*(15/100):0:ih*(95/100),boxblur=luma_radius=min(w\\\\\\\\,h)/5:chroma_radius=min(cw\\\\\\\\,ch)/5:luma_power=1[b1];         [0:v][b0]overlay=0:0[ovr0];         [ovr0][b1]overlay=0:H*(95/100)[ovr1]', '-map': '[ovr1]', '-pix_fmt': 'yuv420p', '-preset': 'veryfast'}\", 'Subject_type': 'clip', 'siteName': 'Reef Säcken', '#decimalLatitude': 59.01442972, '#decimalLongitude': 11.11670409, '#geodeticDatum': 'EPSG:4326', '#countryCode': 'SE'}\n"
     ]
    },
    {
     "name": "stderr",
     "output_type": "stream",
     "text": [
      "\r",
      " 97%|█████████▋| 37/38 [00:37<00:00,  1.01it/s]"
     ]
    },
    {
     "name": "stdout",
     "output_type": "stream",
     "text": [
      "subject saved\n",
      "modified_Film_3.mp4_clips/modifiedFilm_3.mp4_clip_370_10.mp4\n",
      "{'upl_seconds': 370, '#clip_length': 10, '#created_on': '1/01/2019', 'VideoFilename': 'Film_3.mp4', '#siteName': 'Reef Säcken', '#clip_modification_details': \"{'-crf': '30', '-c:v': 'libx264', '-c:a': 'copy', '-filter_complex': '[0:v]crop=iw:ih*(15/100):0:0,boxblur=luma_radius=min(w\\\\\\\\,h)/5:chroma_radius=min(cw\\\\\\\\,ch)/5:luma_power=1[b0];         [0:v]crop=iw:ih*(15/100):0:ih*(95/100),boxblur=luma_radius=min(w\\\\\\\\,h)/5:chroma_radius=min(cw\\\\\\\\,ch)/5:luma_power=1[b1];         [0:v][b0]overlay=0:0[ovr0];         [ovr0][b1]overlay=0:H*(95/100)[ovr1]', '-map': '[ovr1]', '-pix_fmt': 'yuv420p', '-preset': 'veryfast'}\", 'Subject_type': 'clip', 'siteName': 'Reef Säcken', '#decimalLatitude': 59.01442972, '#decimalLongitude': 11.11670409, '#geodeticDatum': 'EPSG:4326', '#countryCode': 'SE'}\n"
     ]
    },
    {
     "name": "stderr",
     "output_type": "stream",
     "text": [
      "100%|██████████| 38/38 [00:38<00:00,  1.01s/it]"
     ]
    },
    {
     "name": "stdout",
     "output_type": "stream",
     "text": [
      "subject saved\n"
     ]
    },
    {
     "name": "stderr",
     "output_type": "stream",
     "text": [
      "\n"
     ]
    },
    {
     "name": "stdout",
     "output_type": "stream",
     "text": [
      "Subjects uploaded to Zooniverse\n"
     ]
    }
   ],
   "source": [
    "t4.upload_clips_to_zooniverse(upload_to_zoo = upload_to_zoo, \n",
    "                              sitename = sitename,\n",
    "                              created_on = created_on,\n",
    "                              project = str(zoo_info_dict[\"subjects\"][\"project_id\"].unique()[0]))"
   ]
  },
  {
   "cell_type": "code",
   "execution_count": null,
   "id": "2bc1a28e",
   "metadata": {},
   "outputs": [],
   "source": [
    "#END"
   ]
  }
 ],
 "metadata": {
  "kernelspec": {
   "display_name": "odf",
   "language": "python",
   "name": "odf"
  },
  "language_info": {
   "codemirror_mode": {
    "name": "ipython",
    "version": 3
   },
   "file_extension": ".py",
   "mimetype": "text/x-python",
   "name": "python",
   "nbconvert_exporter": "python",
   "pygments_lexer": "ipython3",
   "version": "3.8.8"
  }
 },
 "nbformat": 4,
 "nbformat_minor": 5
}
