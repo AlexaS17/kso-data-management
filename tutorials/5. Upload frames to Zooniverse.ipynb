{
 "cells": [
  {
   "cell_type": "markdown",
   "id": "b169b8d0",
   "metadata": {},
   "source": [
    "<img align=\"left\" src=\"https://panoptes-uploads.zooniverse.org/project_avatar/86c23ca7-bbaa-4e84-8d8a-876819551431.png\" type=\"image/png\" height=100 width=100>\n",
    "</img>\n",
    "<h1 align=\"right\">KSO Tutorials #5: Add new frames to a Zooniverse workflow</h1>\n",
    "<h3 align=\"right\">Written by @jannesgg and @vykanton</h3>\n",
    "<h5 align=\"right\">Last updated: Dec 7th, 2021</h5>"
   ]
  },
  {
   "cell_type": "markdown",
   "id": "3ee20d67",
   "metadata": {},
   "source": [
    "# Set up and requirements"
   ]
  },
  {
   "cell_type": "markdown",
   "id": "896f0873",
   "metadata": {},
   "source": [
    "### Import Python packages"
   ]
  },
  {
   "cell_type": "code",
   "execution_count": 54,
   "id": "hydraulic-rapid",
   "metadata": {},
   "outputs": [
    {
     "name": "stdout",
     "output_type": "stream",
     "text": [
      "The autoreload extension is already loaded. To reload it, use:\n",
      "  %reload_ext autoreload\n"
     ]
    }
   ],
   "source": [
    "%load_ext autoreload\n",
    "%autoreload 2"
   ]
  },
  {
   "cell_type": "code",
   "execution_count": 32,
   "id": "5451cddf",
   "metadata": {},
   "outputs": [
    {
     "data": {
      "application/javascript": [
       "require.config({\n",
       "    paths: {\n",
       "        datatables: 'https://cdn.datatables.net/1.10.19/js/jquery.dataTables.min',\n",
       "    }\n",
       "});\n",
       "\n",
       "$('head').append('<link rel=\"stylesheet\" type=\"text/css\" \\\n",
       "                href = \"https://cdn.datatables.net/1.10.19/css/jquery.dataTables.min.css\" > ');\n",
       "\n",
       "$('head').append('<style> table td { text-overflow: ellipsis; overflow: hidden; } </style>');\n",
       "\n",
       "$('head').append(`<script>\n",
       "function eval_functions(map_or_text) {\n",
       "    if (typeof map_or_text === \"string\") {\n",
       "        if (map_or_text.startsWith(\"function\")) {\n",
       "            try {\n",
       "                // Note: parenthesis are required around the whole expression for eval to return a value!\n",
       "                // See https://stackoverflow.com/a/7399078/911298.\n",
       "                //\n",
       "                // eval(\"local_fun = \" + map_or_text) would fail because local_fun is not declared\n",
       "                // (using var, let or const would work, but it would only be declared in the local scope\n",
       "                // and therefore the value could not be retrieved).\n",
       "                const func = eval(\"(\" + map_or_text + \")\");\n",
       "                if (typeof func !== \"function\") {\n",
       "                    // Note: backquotes are super convenient!\n",
       "                    // https://developer.mozilla.org/en-US/docs/Web/JavaScript/Reference/Template_literals\n",
       "                    console.error(\"Evaluated expression \" + map_or_text + \" is not a function (type is \" + typeof func + \")\");\n",
       "                    return map_or_text;\n",
       "                }\n",
       "                // Return the function\n",
       "                return func;\n",
       "            } catch (e) {\n",
       "                // Make sure to print the error with a second argument to console.error().\n",
       "                console.error(\"itables was not able to parse \" + map_or_text, e);\n",
       "            }\n",
       "        }\n",
       "    } else if (typeof map_or_text === \"object\") {\n",
       "        if (map_or_text instanceof Array) {\n",
       "            // Note: \"var\" is now superseded by \"let\" and \"const\".\n",
       "            // https://medium.com/javascript-scene/javascript-es6-var-let-or-const-ba58b8dcde75\n",
       "            const result = [];\n",
       "            // Note: \"for of\" is the best way to iterate through an iterable.\n",
       "            // https://developer.mozilla.org/en-US/docs/Web/JavaScript/Reference/Statements/for...of\n",
       "            for (const item of map_or_text) {\n",
       "                result.push(eval_functions(item));\n",
       "            }\n",
       "            return result;\n",
       "\n",
       "            // Alternatively, more functional approach in one line:\n",
       "            // return map_or_text.map(eval_functions);\n",
       "        } else {\n",
       "            const result = {};\n",
       "            // Object.keys() is safer than \"for in\" because otherwise you might have keys\n",
       "            // that aren't defined in the object itself.\n",
       "            //\n",
       "            // See https://stackoverflow.com/a/684692/911298.\n",
       "            for (const item of Object.keys(map_or_text)) {\n",
       "                result[item] = eval_functions(map_or_text[item]);\n",
       "            }\n",
       "            return result;\n",
       "        }\n",
       "    }\n",
       "\n",
       "    return map_or_text;\n",
       "}\n",
       "\n",
       "</` + 'script>');"
      ],
      "text/plain": [
       "<IPython.core.display.Javascript object>"
      ]
     },
     "metadata": {},
     "output_type": "display_data"
    },
    {
     "name": "stdout",
     "output_type": "stream",
     "text": [
      "Packages loaded successfully\n"
     ]
    }
   ],
   "source": [
    "# Set the directory of the libraries\n",
    "import sys\n",
    "sys.path.append('..')\n",
    "\n",
    "# Set to display dataframes as interactive tables\n",
    "from itables import init_notebook_mode\n",
    "init_notebook_mode(all_interactive=True)\n",
    "\n",
    "# Import required modules\n",
    "import kso_utils.tutorials_utils as t_utils\n",
    "import kso_utils.server_utils as s_utils\n",
    "import kso_utils.t5_utils as t5\n",
    "import kso_utils.zooniverse_utils as zoo\n",
    "\n",
    "print(\"Packages loaded successfully\")"
   ]
  },
  {
   "cell_type": "markdown",
   "id": "ed55216d",
   "metadata": {},
   "source": [
    "### Choose your project"
   ]
  },
  {
   "cell_type": "code",
   "execution_count": 3,
   "id": "b1ae7b58",
   "metadata": {},
   "outputs": [
    {
     "data": {
      "application/vnd.jupyter.widget-view+json": {
       "model_id": "d4e816304a984d789135cda13092617b",
       "version_major": 2,
       "version_minor": 0
      },
      "text/plain": [
       "Dropdown(description='Project:', options=('Koster_Seafloor_Obs', 'Spyfish_Aotearoa', 'SGU'), value='Koster_Sea…"
      ]
     },
     "metadata": {},
     "output_type": "display_data"
    }
   ],
   "source": [
    "project = t_utils.choose_project()"
   ]
  },
  {
   "cell_type": "markdown",
   "id": "39f5065c",
   "metadata": {},
   "source": [
    "### Initiate sql and zoo project"
   ]
  },
  {
   "cell_type": "code",
   "execution_count": 150,
   "id": "8a7abc2f",
   "metadata": {
    "scrolled": true
   },
   "outputs": [
    {
     "name": "stdout",
     "output_type": "stream",
     "text": [
      "Enter your username for SNIC server········\n",
      "Enter your password for SNIC server········\n",
      "Updated sites\n",
      "Updated movies\n",
      "Updated species\n"
     ]
    }
   ],
   "source": [
    "# Initiate db\n",
    "db_info_dict = t_utils.initiate_db(project.value)"
   ]
  },
  {
   "cell_type": "code",
   "execution_count": 151,
   "id": "10b4aa16",
   "metadata": {
    "scrolled": true
   },
   "outputs": [
    {
     "name": "stdout",
     "output_type": "stream",
     "text": [
      "Enter your Zooniverse user········\n",
      "Enter your Zooniverse password········\n"
     ]
    }
   ],
   "source": [
    "# Connect to Zooniverse project\n",
    "zoo_project = t_utils.connect_zoo_project(project.value)"
   ]
  },
  {
   "cell_type": "markdown",
   "id": "50bac6cf",
   "metadata": {},
   "source": [
    "# Retrieve info about zooniverse clips"
   ]
  },
  {
   "cell_type": "code",
   "execution_count": 152,
   "id": "0c2d059b",
   "metadata": {},
   "outputs": [
    {
     "name": "stdout",
     "output_type": "stream",
     "text": [
      "Retrieving subjects from Zooniverse\n",
      "subjects were retrieved successfully\n",
      "Retrieving classifications from Zooniverse\n",
      "classifications were retrieved successfully\n",
      "Retrieving workflows from Zooniverse\n",
      "workflows were retrieved successfully\n",
      "Updated subjects\n",
      "The database has a total of 2342 frame subjects and 7362 clip subjects have been updated\n"
     ]
    }
   ],
   "source": [
    "zoo_info_dict = t_utils.retrieve__populate_zoo_info(project_name = project.value, \n",
    "                                                    db_info_dict = db_info_dict,\n",
    "                                                    zoo_project = zoo_project,\n",
    "                                                    zoo_info = [\"subjects\", \"classifications\", \"workflows\"])"
   ]
  },
  {
   "cell_type": "markdown",
   "id": "5f82c5ce",
   "metadata": {},
   "source": [
    "# Retrieve frames"
   ]
  },
  {
   "cell_type": "markdown",
   "id": "a749e31a",
   "metadata": {},
   "source": [
    "## Select the species of interest"
   ]
  },
  {
   "cell_type": "code",
   "execution_count": 74,
   "id": "56e27ea6",
   "metadata": {},
   "outputs": [
    {
     "data": {
      "application/vnd.jupyter.widget-view+json": {
       "model_id": "c8f1ee17fcd947bd86586101725c7b96",
       "version_major": 2,
       "version_minor": 0
      },
      "text/plain": [
       "SelectMultiple(description='Species', index=(0,), options=('Angular crab', 'Ascidians (any species)', 'Bivalve…"
      ]
     },
     "metadata": {},
     "output_type": "display_data"
    }
   ],
   "source": [
    "# Specify the species of interest\n",
    "species_i = t5.choose_species(db_info_dict[\"db_path\"])"
   ]
  },
  {
   "cell_type": "markdown",
   "id": "04e58c56",
   "metadata": {},
   "source": [
    "### Create the frames"
   ]
  },
  {
   "cell_type": "code",
   "execution_count": 159,
   "id": "intellectual-youth",
   "metadata": {},
   "outputs": [
    {
     "data": {
      "text/plain": [
       "('Deep water coral', 'Deeplet sea anemone')"
      ]
     },
     "execution_count": 159,
     "metadata": {},
     "output_type": "execute_result"
    }
   ],
   "source": [
    "tuple(species_i.value)"
   ]
  },
  {
   "cell_type": "code",
   "execution_count": 209,
   "id": "found-headline",
   "metadata": {},
   "outputs": [
    {
     "name": "stdout",
     "output_type": "stream",
     "text": [
      "There are 2747 classifications out of 54324 missing subject info. Maybe the subjects have been removed from Zooniverse?\n",
      "Zooniverse classifications have been retrieved\n",
      "Aggregrating the classifications\n",
      "1878 classifications aggregated out of 5202 unique subjects available\n",
      "1879\n",
      "1825\n",
      "UNIQUE constraint failed: agg_annotations_clip.species_id, agg_annotations_clip.subject_id\n",
      "Updated agg_annotations_clip\n",
      "   subject_id  first_seen  species_id  clip_start_time  movie_id  \\\n",
      "0    38166823         1.5           5                0        44   \n",
      "1    38166827         0.0           5             1440        44   \n",
      "2    38166828         0.0           5             1620        44   \n",
      "3    38166830         3.0           5             1980        44   \n",
      "4    38166833         3.0           5             2160        44   \n",
      "\n",
      "   first_seen_movie  id                                              fpath  \\\n",
      "0               1.5  44  /cephyr/NOBACKUP/groups/snic2021-6-9/koster_mo...   \n",
      "1            1440.0  44  /cephyr/NOBACKUP/groups/snic2021-6-9/koster_mo...   \n",
      "2            1620.0  44  /cephyr/NOBACKUP/groups/snic2021-6-9/koster_mo...   \n",
      "3            1983.0  44  /cephyr/NOBACKUP/groups/snic2021-6-9/koster_mo...   \n",
      "4            2163.0  44  /cephyr/NOBACKUP/groups/snic2021-6-9/koster_mo...   \n",
      "\n",
      "    fps  exists  \n",
      "0  25.0    True  \n",
      "1  25.0    True  \n",
      "2  25.0    True  \n",
      "3  25.0    True  \n",
      "4  25.0    True  \n",
      "Index(['first_seen', 'species_id', 'clip_start_time', 'movie_id',\n",
      "       'first_seen_movie', 'id', 'fpath', 'fps', 'exists', 'frame_number'],\n",
      "      dtype='object')\n"
     ]
    }
   ],
   "source": [
    "frames_to_upload_df = t5.get_frames(species_ids = species_i.value, \n",
    "                                    db_path = db_info_dict[\"db_path\"],\n",
    "                                    zoo_info_dict = zoo_info_dict,\n",
    "                                    project_name = project.value,\n",
    "                                    n_frames = 10)"
   ]
  },
  {
   "cell_type": "code",
   "execution_count": 210,
   "id": "registered-england",
   "metadata": {},
   "outputs": [
    {
     "data": {
      "text/html": [
       "<div><table id=\"ba0ef874-a42a-4860-97bd-06ffa22c61e6\" class=\"display\"><thead>\n",
       "    <tr style=\"text-align: right;\">\n",
       "      \n",
       "      <th>first_seen</th>\n",
       "      <th>species_id</th>\n",
       "      <th>clip_start_time</th>\n",
       "      <th>movie_id</th>\n",
       "      <th>first_seen_movie</th>\n",
       "      <th>id</th>\n",
       "      <th>fpath</th>\n",
       "      <th>fps</th>\n",
       "      <th>exists</th>\n",
       "      <th>frame_number</th>\n",
       "    </tr>\n",
       "  </thead></table>\n",
       "<script type=\"text/javascript\">\n",
       "require([\"datatables\"], function (datatables) {\n",
       "    $(document).ready(function () {\n",
       "        var dt_args = {\"columnDefs\": [{\"width\": \"70px\", \"targets\": \"_all\"}], \"paging\": false, \"data\": [[1.5, 5, 0, 44, 1.5, 44, \"/cephyr/NOBACKUP/groups/snic2021-6-9/koster_movies/990331 TMBL-ROV 1999 Sa\\u0308ckenrevet Tape 37_SELECTWS.mov\", 25.0, true, 37], [1.5, 5, 0, 44, 1.5, 44, \"/cephyr/NOBACKUP/groups/snic2021-6-9/koster_movies/990331 TMBL-ROV 1999 Sa\\u0308ckenrevet Tape 37_SELECTWS.mov\", 25.0, true, 62], [1.5, 5, 0, 44, 1.5, 44, \"/cephyr/NOBACKUP/groups/snic2021-6-9/koster_movies/990331 TMBL-ROV 1999 Sa\\u0308ckenrevet Tape 37_SELECTWS.mov\", 25.0, true, 87], [1.5, 5, 0, 44, 1.5, 44, \"/cephyr/NOBACKUP/groups/snic2021-6-9/koster_movies/990331 TMBL-ROV 1999 Sa\\u0308ckenrevet Tape 37_SELECTWS.mov\", 25.0, true, 112], [1.5, 5, 0, 44, 1.5, 44, \"/cephyr/NOBACKUP/groups/snic2021-6-9/koster_movies/990331 TMBL-ROV 1999 Sa\\u0308ckenrevet Tape 37_SELECTWS.mov\", 25.0, true, 137]]};\n",
       "        dt_args = eval_functions(dt_args);\n",
       "        table = $('#ba0ef874-a42a-4860-97bd-06ffa22c61e6').DataTable(dt_args);\n",
       "    });\n",
       "})\n",
       "</script>\n",
       "</div>\n"
      ],
      "text/plain": [
       "   first_seen  species_id  clip_start_time  movie_id  first_seen_movie  id  \\\n",
       "0         1.5           5                0        44               1.5  44   \n",
       "1         1.5           5                0        44               1.5  44   \n",
       "2         1.5           5                0        44               1.5  44   \n",
       "3         1.5           5                0        44               1.5  44   \n",
       "4         1.5           5                0        44               1.5  44   \n",
       "\n",
       "                                               fpath   fps  exists  \\\n",
       "0  /cephyr/NOBACKUP/groups/snic2021-6-9/koster_mo...  25.0    True   \n",
       "1  /cephyr/NOBACKUP/groups/snic2021-6-9/koster_mo...  25.0    True   \n",
       "2  /cephyr/NOBACKUP/groups/snic2021-6-9/koster_mo...  25.0    True   \n",
       "3  /cephyr/NOBACKUP/groups/snic2021-6-9/koster_mo...  25.0    True   \n",
       "4  /cephyr/NOBACKUP/groups/snic2021-6-9/koster_mo...  25.0    True   \n",
       "\n",
       "   frame_number  \n",
       "0            37  \n",
       "1            62  \n",
       "2            87  \n",
       "3           112  \n",
       "4           137  "
      ]
     },
     "execution_count": 210,
     "metadata": {},
     "output_type": "execute_result"
    }
   ],
   "source": [
    "frames_to_upload_df.head()"
   ]
  },
  {
   "cell_type": "markdown",
   "id": "df57b117",
   "metadata": {},
   "source": [
    "## List available frames to upload to Zooniverse"
   ]
  },
  {
   "cell_type": "code",
   "execution_count": 33,
   "id": "d07227fc",
   "metadata": {},
   "outputs": [],
   "source": [
    "# Specify the server to connect to\n",
    "server_i = s_utils.connect_to_server(project.value)"
   ]
  },
  {
   "cell_type": "code",
   "execution_count": 35,
   "id": "conventional-manufacturer",
   "metadata": {},
   "outputs": [
    {
     "data": {
      "text/plain": [
       "{}"
      ]
     },
     "execution_count": 35,
     "metadata": {},
     "output_type": "execute_result"
    }
   ],
   "source": [
    "server_i"
   ]
  },
  {
   "cell_type": "code",
   "execution_count": null,
   "id": "151ea3db",
   "metadata": {},
   "outputs": [],
   "source": [
    "# Check availability of movies that correspond to the aggregated clips\n",
    "t_utils.connect_server(server_i.value)"
   ]
  },
  {
   "cell_type": "code",
   "execution_count": null,
   "id": "cba4329e",
   "metadata": {},
   "outputs": [],
   "source": [
    "# Specify how many frames per clip\n"
   ]
  },
  {
   "cell_type": "code",
   "execution_count": null,
   "id": "575886c6",
   "metadata": {},
   "outputs": [],
   "source": [
    "# Set the subject_set to upload the frames to\n"
   ]
  },
  {
   "cell_type": "markdown",
   "id": "8e73da0c",
   "metadata": {},
   "source": [
    "### Preview the frames"
   ]
  },
  {
   "cell_type": "code",
   "execution_count": 211,
   "id": "cce086d7",
   "metadata": {},
   "outputs": [
    {
     "data": {
      "application/vnd.jupyter.widget-view+json": {
       "model_id": "50da299a1da54cbfb3b1bcf21074bfd6",
       "version_major": 2,
       "version_minor": 0
      },
      "text/plain": [
       "Dropdown(description='Select original frame:', layout=Layout(width='50%'), options=('/cephyr/NOBACKUP/groups/s…"
      ]
     },
     "metadata": {},
     "output_type": "display_data"
    },
    {
     "data": {
      "application/vnd.jupyter.widget-view+json": {
       "model_id": "5df09ca5d6154bc990f510ad644db78f",
       "version_major": 2,
       "version_minor": 0
      },
      "text/plain": [
       "Output()"
      ]
     },
     "metadata": {},
     "output_type": "display_data"
    }
   ],
   "source": [
    "# Compare the original and modified clips\n",
    "t5.compare_frames(df = frames_to_upload_df)"
   ]
  },
  {
   "cell_type": "markdown",
   "id": "moral-milwaukee",
   "metadata": {},
   "source": [
    "### Set Zooniverse metadata"
   ]
  },
  {
   "cell_type": "code",
   "execution_count": null,
   "id": "54338a73",
   "metadata": {},
   "outputs": [],
   "source": [
    "upload_to_zoo, sitename, created_on = t5.set_zoo_metadata(df = frames_to_upload_df,\n",
    "                                                          project_name = project.value)\n",
    "\n",
    "#upload_to_zoo = upload_to_zoo.fillna(\"unknown\")\n",
    "\n"
   ]
  },
  {
   "cell_type": "markdown",
   "id": "powerful-scout",
   "metadata": {},
   "source": [
    "### Upload frames to Zooniverse"
   ]
  },
  {
   "cell_type": "markdown",
   "id": "plain-senior",
   "metadata": {},
   "source": [
    "You may receive an error message related to file size if clips exceed the recommended limit for Zooniverse uploads. In this case, we recommend shortening the clip length to achieve a suitable filesize."
   ]
  },
  {
   "cell_type": "code",
   "execution_count": null,
   "id": "guilty-insider",
   "metadata": {},
   "outputs": [],
   "source": [
    "t5.upload_frames_to_zooniverse(upload_to_zoo = upload_to_zoo, \n",
    "                              sitename = sitename,\n",
    "                              created_on = created_on,\n",
    "                              project = zoo_clips_info_dict[\"project\"])\n",
    "\n",
    "#END"
   ]
  }
 ],
 "metadata": {
  "kernelspec": {
   "display_name": "odf",
   "language": "python",
   "name": "odf"
  },
  "language_info": {
   "codemirror_mode": {
    "name": "ipython",
    "version": 3
   },
   "file_extension": ".py",
   "mimetype": "text/x-python",
   "name": "python",
   "nbconvert_exporter": "python",
   "pygments_lexer": "ipython3",
   "version": "3.8.8"
  }
 },
 "nbformat": 4,
 "nbformat_minor": 5
}
