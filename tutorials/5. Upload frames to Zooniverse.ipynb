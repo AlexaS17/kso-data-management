{
 "cells": [
  {
   "cell_type": "markdown",
   "id": "b169b8d0",
   "metadata": {},
   "source": [
    "<img align=\"left\" src=\"https://panoptes-uploads.zooniverse.org/project_avatar/86c23ca7-bbaa-4e84-8d8a-876819551431.png\" type=\"image/png\" height=100 width=100>\n",
    "</img>\n",
    "<h1 align=\"right\">KSO Tutorials #5: Add new frames to a Zooniverse workflow</h1>\n",
    "<h3 align=\"right\">Written by @jannesgg and @vykanton</h3>\n",
    "<h5 align=\"right\">Last updated: Nov 8th, 2021</h5>"
   ]
  },
  {
   "cell_type": "markdown",
   "id": "3ee20d67",
   "metadata": {},
   "source": [
    "# Set up and requirements"
   ]
  },
  {
   "cell_type": "markdown",
   "id": "896f0873",
   "metadata": {},
   "source": [
    "### Import Python packages"
   ]
  },
  {
   "cell_type": "code",
   "execution_count": null,
   "id": "5451cddf",
   "metadata": {},
   "outputs": [],
   "source": [
    "# Set the directory of the libraries\n",
    "import sys\n",
    "sys.path.append('..')\n",
    "\n",
    "# Set to display dataframes as interactive tables\n",
    "from itables import init_notebook_mode\n",
    "init_notebook_mode(all_interactive=True)\n",
    "\n",
    "# Import required modules\n",
    "import utils.tutorials_utils as t_utils\n",
    "import utils.t5_utils as t5\n",
    "import utils.zooniverse_utils as zoo\n",
    "\n",
    "print(\"Packages loaded successfully\")"
   ]
  },
  {
   "cell_type": "markdown",
   "id": "ed55216d",
   "metadata": {},
   "source": [
    "### Choose your project"
   ]
  },
  {
   "cell_type": "code",
   "execution_count": null,
   "id": "b1ae7b58",
   "metadata": {},
   "outputs": [],
   "source": [
    "project = t_utils.choose_project()"
   ]
  },
  {
   "cell_type": "markdown",
   "id": "8c51ffb6",
   "metadata": {},
   "source": [
    "### Initiate SQL database and populate sites, movies and species"
   ]
  },
  {
   "cell_type": "code",
   "execution_count": null,
   "id": "bfef12df",
   "metadata": {},
   "outputs": [],
   "source": [
    "# Specify the path of the movies \n",
    "movies_path = \"/uploads\"\n",
    "\n",
    "# Specify the path of the sql database\n",
    "db_path = \"koster_lab.db\"\n",
    "\n",
    "# Initiate the SQL database \n",
    "%run -i \"../db_starter/starter.py\" --movies_path $movies_path --db_path $db_path --project_name $project.value"
   ]
  },
  {
   "cell_type": "markdown",
   "id": "5f82c5ce",
   "metadata": {},
   "source": [
    "# Retrieve classified videos"
   ]
  },
  {
   "cell_type": "markdown",
   "id": "7e029795",
   "metadata": {},
   "source": [
    "### Retrieve Zooniverse information"
   ]
  },
  {
   "cell_type": "code",
   "execution_count": null,
   "id": "78a4347d",
   "metadata": {},
   "outputs": [],
   "source": [
    "# Save your Zooniverse user name and password.\n",
    "zoo_user, zoo_pass = zoo.zoo_credentials()"
   ]
  },
  {
   "cell_type": "code",
   "execution_count": null,
   "id": "6b54c7de",
   "metadata": {},
   "outputs": [],
   "source": [
    "# Specify the Zooniverse information required throughout the tutorial\n",
    "zoo_info = [\"subjects\", \"workflows\", \"classifications\"]\n",
    "\n",
    "# Retrieve and store the Zooniverse information required throughout the tutorial in a dictionary\n",
    "zoo_info_dict = zoo.retrieve_zoo_info(zoo_user, zoo_pass, project.value, zoo_info)"
   ]
  },
  {
   "cell_type": "code",
   "execution_count": null,
   "id": "913e83bf",
   "metadata": {},
   "outputs": [],
   "source": [
    "# Populate the sql with subjects uploaded to Zooniverse\n",
    "zoo.populate_subjects(zoo_info_dict[\"subjects\"], project.value, db_path)"
   ]
  },
  {
   "cell_type": "markdown",
   "id": "c835bf82",
   "metadata": {},
   "source": [
    "### Aggregrate video classifications based on appropriate agreement thresholds"
   ]
  },
  {
   "cell_type": "markdown",
   "id": "01a91bb9",
   "metadata": {},
   "source": [
    "Make sure your workflows in Zooniverse have different names to avoid issues while selecting the workflow id"
   ]
  },
  {
   "cell_type": "code",
   "execution_count": null,
   "id": "c4af0824",
   "metadata": {},
   "outputs": [],
   "source": [
    "# Select the workflow(s) to aggregrate the classifications\n",
    "clips_class_df, workflow_names, workflows_df = t5.select_workflow(zoo_info_dict[\"classifications\"], zoo_info_dict[\"workflows\"], db_path)"
   ]
  },
  {
   "cell_type": "code",
   "execution_count": null,
   "id": "03459ba1",
   "metadata": {},
   "outputs": [],
   "source": [
    "# Select the versions of the workflows to aggregrate the classifications\n",
    "w_versions_list = t5.select_workflow_version(workflow_names.value, workflows_df)"
   ]
  },
  {
   "cell_type": "code",
   "execution_count": null,
   "id": "87980f80",
   "metadata": {},
   "outputs": [],
   "source": [
    "#Select only classifications from specific versions\n",
    "clips_class_df[\"w_plus_version\"] = clips_class_df['workflow_name']+\"_\"+clips_class_df['workflow_version']\n",
    "clips_class_df = clips_class_df[clips_class_df.w_plus_version.isin(w_versions_list)]\n",
    "\n",
    "# Specify the agreement threshold required among cit scientists\n",
    "agg_params = t12.choose_agg_parameters(\"clip\")"
   ]
  },
  {
   "cell_type": "code",
   "execution_count": null,
   "id": "bcffc487",
   "metadata": {},
   "outputs": [],
   "source": [
    "# Aggregate the classifications\n",
    "agg_class_df, raw_class_df = t12.aggregrate_classifications(clips_class_df, \"clip\", project.value, agg_params)"
   ]
  },
  {
   "cell_type": "markdown",
   "id": "a749e31a",
   "metadata": {},
   "source": [
    "## Select the species of interest"
   ]
  },
  {
   "cell_type": "code",
   "execution_count": null,
   "id": "56e27ea6",
   "metadata": {},
   "outputs": [],
   "source": [
    "# Specify the species of interest\n",
    "species_i = choose_species()"
   ]
  },
  {
   "cell_type": "code",
   "execution_count": null,
   "id": "71955ce8",
   "metadata": {},
   "outputs": [],
   "source": [
    "# Filter the classifications to only species of interest\n"
   ]
  },
  {
   "cell_type": "code",
   "execution_count": null,
   "id": "46adb98a",
   "metadata": {},
   "outputs": [],
   "source": [
    "# Check already uploaded frames for the species of interest (to avoid duplicates)"
   ]
  },
  {
   "cell_type": "markdown",
   "id": "df57b117",
   "metadata": {},
   "source": [
    "## List available frames to upload to Zooniverse"
   ]
  },
  {
   "cell_type": "code",
   "execution_count": null,
   "id": "d07227fc",
   "metadata": {},
   "outputs": [],
   "source": [
    "# Specify the server to connect to\n",
    "server_i = t_utils.choose_server()"
   ]
  },
  {
   "cell_type": "code",
   "execution_count": null,
   "id": "151ea3db",
   "metadata": {},
   "outputs": [],
   "source": [
    "# Check availability of movies that correspond to the aggregated clips\n",
    "t_utils.connect_server(server_i.value)"
   ]
  },
  {
   "cell_type": "code",
   "execution_count": null,
   "id": "cba4329e",
   "metadata": {},
   "outputs": [],
   "source": [
    "#Specify how many frames per clip and how many clips of species i to upload\n"
   ]
  },
  {
   "cell_type": "code",
   "execution_count": null,
   "id": "575886c6",
   "metadata": {},
   "outputs": [],
   "source": [
    "# Set the subject_set to upload the frames to\n"
   ]
  },
  {
   "cell_type": "markdown",
   "id": "8e73da0c",
   "metadata": {},
   "source": [
    "### Preview the frames"
   ]
  },
  {
   "cell_type": "code",
   "execution_count": null,
   "id": "cce086d7",
   "metadata": {},
   "outputs": [],
   "source": []
  },
  {
   "cell_type": "code",
   "execution_count": null,
   "id": "8aca8b92",
   "metadata": {},
   "outputs": [],
   "source": [
    "# Upload the frames to the project\n"
   ]
  },
  {
   "cell_type": "code",
   "execution_count": null,
   "id": "54338a73",
   "metadata": {},
   "outputs": [],
   "source": []
  }
 ],
 "metadata": {
  "kernelspec": {
   "display_name": "Python 3",
   "language": "python",
   "name": "python3"
  },
  "language_info": {
   "codemirror_mode": {
    "name": "ipython",
    "version": 3
   },
   "file_extension": ".py",
   "mimetype": "text/x-python",
   "name": "python",
   "nbconvert_exporter": "python",
   "pygments_lexer": "ipython3",
   "version": "3.8.8"
  }
 },
 "nbformat": 4,
 "nbformat_minor": 5
}
