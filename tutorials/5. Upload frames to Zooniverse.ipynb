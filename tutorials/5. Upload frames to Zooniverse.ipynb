{
 "cells": [
  {
   "cell_type": "markdown",
   "id": "b169b8d0",
   "metadata": {},
   "source": [
    "<img align=\"left\" src=\"https://panoptes-uploads.zooniverse.org/project_avatar/86c23ca7-bbaa-4e84-8d8a-876819551431.png\" type=\"image/png\" height=100 width=100>\n",
    "</img>\n",
    "<h1 align=\"right\">KSO Tutorials #5: Add new frames to a Zooniverse workflow</h1>\n",
    "<h3 align=\"right\">Written by @jannesgg and @vykanton</h3>\n",
    "<h5 align=\"right\">Last updated: Dec 13th, 2021</h5>"
   ]
  },
  {
   "cell_type": "markdown",
   "id": "3ee20d67",
   "metadata": {},
   "source": [
    "# Set up and requirements"
   ]
  },
  {
   "cell_type": "markdown",
   "id": "896f0873",
   "metadata": {},
   "source": [
    "### Import Python packages"
   ]
  },
  {
   "cell_type": "code",
   "execution_count": 44,
   "id": "hydraulic-rapid",
   "metadata": {},
   "outputs": [
    {
     "name": "stdout",
     "output_type": "stream",
     "text": [
      "The autoreload extension is already loaded. To reload it, use:\n",
      "  %reload_ext autoreload\n"
     ]
    }
   ],
   "source": [
    "%load_ext autoreload\n",
    "%autoreload 2"
   ]
  },
  {
   "cell_type": "code",
   "execution_count": 45,
   "id": "5451cddf",
   "metadata": {},
   "outputs": [
    {
     "data": {
      "application/javascript": [
       "require.config({\n",
       "    paths: {\n",
       "        datatables: 'https://cdn.datatables.net/1.10.19/js/jquery.dataTables.min',\n",
       "    }\n",
       "});\n",
       "\n",
       "$('head').append('<link rel=\"stylesheet\" type=\"text/css\" \\\n",
       "                href = \"https://cdn.datatables.net/1.10.19/css/jquery.dataTables.min.css\" > ');\n",
       "\n",
       "$('head').append('<style> table td { text-overflow: ellipsis; overflow: hidden; } </style>');\n",
       "\n",
       "$('head').append(`<script>\n",
       "function eval_functions(map_or_text) {\n",
       "    if (typeof map_or_text === \"string\") {\n",
       "        if (map_or_text.startsWith(\"function\")) {\n",
       "            try {\n",
       "                // Note: parenthesis are required around the whole expression for eval to return a value!\n",
       "                // See https://stackoverflow.com/a/7399078/911298.\n",
       "                //\n",
       "                // eval(\"local_fun = \" + map_or_text) would fail because local_fun is not declared\n",
       "                // (using var, let or const would work, but it would only be declared in the local scope\n",
       "                // and therefore the value could not be retrieved).\n",
       "                const func = eval(\"(\" + map_or_text + \")\");\n",
       "                if (typeof func !== \"function\") {\n",
       "                    // Note: backquotes are super convenient!\n",
       "                    // https://developer.mozilla.org/en-US/docs/Web/JavaScript/Reference/Template_literals\n",
       "                    console.error(\"Evaluated expression \" + map_or_text + \" is not a function (type is \" + typeof func + \")\");\n",
       "                    return map_or_text;\n",
       "                }\n",
       "                // Return the function\n",
       "                return func;\n",
       "            } catch (e) {\n",
       "                // Make sure to print the error with a second argument to console.error().\n",
       "                console.error(\"itables was not able to parse \" + map_or_text, e);\n",
       "            }\n",
       "        }\n",
       "    } else if (typeof map_or_text === \"object\") {\n",
       "        if (map_or_text instanceof Array) {\n",
       "            // Note: \"var\" is now superseded by \"let\" and \"const\".\n",
       "            // https://medium.com/javascript-scene/javascript-es6-var-let-or-const-ba58b8dcde75\n",
       "            const result = [];\n",
       "            // Note: \"for of\" is the best way to iterate through an iterable.\n",
       "            // https://developer.mozilla.org/en-US/docs/Web/JavaScript/Reference/Statements/for...of\n",
       "            for (const item of map_or_text) {\n",
       "                result.push(eval_functions(item));\n",
       "            }\n",
       "            return result;\n",
       "\n",
       "            // Alternatively, more functional approach in one line:\n",
       "            // return map_or_text.map(eval_functions);\n",
       "        } else {\n",
       "            const result = {};\n",
       "            // Object.keys() is safer than \"for in\" because otherwise you might have keys\n",
       "            // that aren't defined in the object itself.\n",
       "            //\n",
       "            // See https://stackoverflow.com/a/684692/911298.\n",
       "            for (const item of Object.keys(map_or_text)) {\n",
       "                result[item] = eval_functions(map_or_text[item]);\n",
       "            }\n",
       "            return result;\n",
       "        }\n",
       "    }\n",
       "\n",
       "    return map_or_text;\n",
       "}\n",
       "\n",
       "</` + 'script>');"
      ],
      "text/plain": [
       "<IPython.core.display.Javascript object>"
      ]
     },
     "metadata": {},
     "output_type": "display_data"
    },
    {
     "name": "stdout",
     "output_type": "stream",
     "text": [
      "Packages loaded successfully\n"
     ]
    }
   ],
   "source": [
    "# Set the directory of the libraries\n",
    "import sys\n",
    "sys.path.append('..')\n",
    "\n",
    "# Set to display dataframes as interactive tables\n",
    "from itables import init_notebook_mode\n",
    "init_notebook_mode(all_interactive=True)\n",
    "\n",
    "# Import required modules\n",
    "import kso_utils.tutorials_utils as t_utils\n",
    "import kso_utils.server_utils as s_utils\n",
    "import kso_utils.t5_utils as t5\n",
    "import kso_utils.zooniverse_utils as zoo\n",
    "\n",
    "print(\"Packages loaded successfully\")"
   ]
  },
  {
   "cell_type": "markdown",
   "id": "ed55216d",
   "metadata": {},
   "source": [
    "### Choose your project"
   ]
  },
  {
   "cell_type": "code",
   "execution_count": 46,
   "id": "b1ae7b58",
   "metadata": {},
   "outputs": [
    {
     "data": {
      "application/vnd.jupyter.widget-view+json": {
       "model_id": "72dc0162ecdf4b098359111d4dc8fbab",
       "version_major": 2,
       "version_minor": 0
      },
      "text/plain": [
       "Dropdown(description='Project:', options=('Koster_Seafloor_Obs', 'Spyfish_Aotearoa', 'SGU'), value='Koster_Sea…"
      ]
     },
     "metadata": {},
     "output_type": "display_data"
    }
   ],
   "source": [
    "project = t_utils.choose_project()"
   ]
  },
  {
   "cell_type": "markdown",
   "id": "39f5065c",
   "metadata": {},
   "source": [
    "### Initiate sql and zoo project"
   ]
  },
  {
   "cell_type": "code",
   "execution_count": 47,
   "id": "8a7abc2f",
   "metadata": {
    "scrolled": true
   },
   "outputs": [
    {
     "name": "stdout",
     "output_type": "stream",
     "text": [
      "Enter your username for SNIC server········\n",
      "Enter your password for SNIC server········\n",
      "Updated sites\n",
      "Updated movies\n",
      "Updated species\n"
     ]
    }
   ],
   "source": [
    "# Initiate db\n",
    "db_info_dict = t_utils.initiate_db(project.value)"
   ]
  },
  {
   "cell_type": "code",
   "execution_count": 48,
   "id": "10b4aa16",
   "metadata": {
    "scrolled": true
   },
   "outputs": [
    {
     "name": "stdout",
     "output_type": "stream",
     "text": [
      "Enter your Zooniverse user········\n",
      "Enter your Zooniverse password········\n"
     ]
    }
   ],
   "source": [
    "# Connect to Zooniverse project\n",
    "zoo_project = t_utils.connect_zoo_project(project.value)"
   ]
  },
  {
   "cell_type": "markdown",
   "id": "50bac6cf",
   "metadata": {},
   "source": [
    "# Retrieve Zooniverse information"
   ]
  },
  {
   "cell_type": "code",
   "execution_count": 49,
   "id": "0c2d059b",
   "metadata": {},
   "outputs": [
    {
     "name": "stdout",
     "output_type": "stream",
     "text": [
      "Retrieving subjects from Zooniverse\n",
      "subjects were retrieved successfully\n",
      "Retrieving classifications from Zooniverse\n",
      "classifications were retrieved successfully\n",
      "Retrieving workflows from Zooniverse\n",
      "workflows were retrieved successfully\n",
      "Updated subjects\n",
      "The database has a total of 2342 frame subjects and 7362 clip subjects have been updated\n"
     ]
    }
   ],
   "source": [
    "zoo_info_dict = t_utils.retrieve__populate_zoo_info(project_name = project.value, \n",
    "                                                    db_info_dict = db_info_dict,\n",
    "                                                    zoo_project = zoo_project,\n",
    "                                                    zoo_info = [\"subjects\", \"classifications\", \"workflows\"])"
   ]
  },
  {
   "cell_type": "markdown",
   "id": "5f82c5ce",
   "metadata": {},
   "source": [
    "# Retrieve frames"
   ]
  },
  {
   "cell_type": "markdown",
   "id": "a749e31a",
   "metadata": {},
   "source": [
    "## Select the species of interest"
   ]
  },
  {
   "cell_type": "code",
   "execution_count": 50,
   "id": "56e27ea6",
   "metadata": {},
   "outputs": [
    {
     "data": {
      "application/vnd.jupyter.widget-view+json": {
       "model_id": "fd3d8f3247334763a2a43b305539e309",
       "version_major": 2,
       "version_minor": 0
      },
      "text/plain": [
       "SelectMultiple(description='Species', index=(0,), options=('Angular crab', 'Ascidians (any species)', 'Bivalve…"
      ]
     },
     "metadata": {},
     "output_type": "display_data"
    }
   ],
   "source": [
    "# Specify the species of interest\n",
    "species_i = t5.choose_species(db_info_dict[\"db_path\"])"
   ]
  },
  {
   "cell_type": "markdown",
   "id": "04e58c56",
   "metadata": {},
   "source": [
    "### Create the frames"
   ]
  },
  {
   "cell_type": "code",
   "execution_count": 107,
   "id": "found-headline",
   "metadata": {},
   "outputs": [
    {
     "data": {
      "application/vnd.jupyter.widget-view+json": {
       "model_id": "441474ce7f4b43ee99d3bbf969f9f799",
       "version_major": 2,
       "version_minor": 0
      },
      "text/plain": [
       "WidgetMaker(children=(IntText(value=0, description='Number of workflows:', style=DescriptionStyle(description_…"
      ]
     },
     "metadata": {},
     "output_type": "display_data"
    },
    {
     "data": {
      "application/vnd.jupyter.widget-view+json": {
       "model_id": "4d9ce55ee9d747208b9b97ff35fbea00",
       "version_major": 2,
       "version_minor": 0
      },
      "text/plain": [
       "FloatSlider(value=0.8, continuous_update=False, description='Aggregation threshold:', max=1.0, readout_format=…"
      ]
     },
     "metadata": {},
     "output_type": "display_data"
    },
    {
     "data": {
      "application/vnd.jupyter.widget-view+json": {
       "model_id": "c0358c31c8f24a14a24be3bf4e957e42",
       "version_major": 2,
       "version_minor": 0
      },
      "text/plain": [
       "IntSlider(value=3, continuous_update=False, description='Min numbers of users:', max=15, min=1, style=SliderSt…"
      ]
     },
     "metadata": {},
     "output_type": "display_data"
    },
    {
     "data": {
      "application/vnd.jupyter.widget-view+json": {
       "model_id": "30bfddca749947f7a69a4606a7297a05",
       "version_major": 2,
       "version_minor": 0
      },
      "text/plain": [
       "FileChooser(path='.', filename='', title='HTML(value='<b>Choose location to store frames</b>')', show_hidden='…"
      ]
     },
     "metadata": {},
     "output_type": "display_data"
    },
    {
     "data": {
      "application/vnd.jupyter.widget-view+json": {
       "model_id": "29684d59e7b34ba1bb45b4375d421d1e",
       "version_major": 2,
       "version_minor": 0
      },
      "text/plain": [
       "Output()"
      ]
     },
     "metadata": {},
     "output_type": "display_data"
    },
    {
     "name": "stdout",
     "output_type": "stream",
     "text": [
      "There are 2747 classifications out of 54324 missing subject info. Maybe the subjects have been removed from Zooniverse?\n",
      "Zooniverse classifications have been retrieved\n",
      "Aggregrating the classifications\n",
      "1878 classifications aggregated out of 5202 unique subjects available\n",
      "UNIQUE constraint failed: agg_annotations_clip.species_id, agg_annotations_clip.subject_id\n",
      "Updated agg_annotations_clip\n"
     ]
    },
    {
     "name": "stderr",
     "output_type": "stream",
     "text": [
      "  0%|          | 32.8k/160M [00:00<13:28, 198kb/s]"
     ]
    },
    {
     "name": "stdout",
     "output_type": "stream",
     "text": [
      "/cephyr/NOBACKUP/groups/snic2021-6-9/koster_movies/970708 TMBL-ROV 1997 Tape 2 S Kostergrund.mov\n"
     ]
    },
    {
     "name": "stderr",
     "output_type": "stream",
     "text": [
      "100%|##########| 160M/160M [00:40<00:00, 3.92Mb/s] \n",
      "  0%|          | 32.8k/155M [00:00<10:41, 242kb/s]"
     ]
    },
    {
     "name": "stdout",
     "output_type": "stream",
     "text": [
      "/cephyr/NOBACKUP/groups/snic2021-6-9/koster_movies/990810 TMBL-ROV 1999 Väderöarna Tape 46.mov\n"
     ]
    },
    {
     "name": "stderr",
     "output_type": "stream",
     "text": [
      "100%|##########| 155M/155M [00:36<00:00, 4.26Mb/s] \n",
      "/Users/jurie.germishuys/Workspace/odf/koster-uw/database/koster_lab_development/src/pims/pims/pyav_reader.py:232: MethodDeprecationWarning: VideoStream.seek is deprecated.\n",
      "  self._stream.seek(timestamp + self._first_pts)\n"
     ]
    },
    {
     "name": "stdout",
     "output_type": "stream",
     "text": [
      "Frames extracted successfully\n"
     ]
    }
   ],
   "source": [
    "frames_to_upload_df = t5.get_frames(species_ids = species_i.value, \n",
    "                                    db_path = db_info_dict[\"db_path\"],\n",
    "                                    zoo_info_dict = zoo_info_dict,\n",
    "                                    server_dict = db_info_dict,\n",
    "                                    project_name = project.value,\n",
    "                                    n_frames = 10)"
   ]
  },
  {
   "cell_type": "markdown",
   "id": "df57b117",
   "metadata": {},
   "source": [
    "## List available frames to upload to Zooniverse"
   ]
  },
  {
   "cell_type": "markdown",
   "id": "7b5c47b9",
   "metadata": {},
   "source": [
    "### Frame modifications"
   ]
  },
  {
   "cell_type": "code",
   "execution_count": null,
   "id": "a55b60c2",
   "metadata": {},
   "outputs": [],
   "source": [
    "# Work in progress\n",
    "clip_modification = t4.select_modification()"
   ]
  },
  {
   "cell_type": "code",
   "execution_count": null,
   "id": "6361c9b7",
   "metadata": {},
   "outputs": [],
   "source": [
    "# Modify the clips\n",
    "clips_ready_df = t4.modify_clips(clips_to_upload_df = clips_to_upload_df.reset_index(drop=True), \n",
    "                                 movie_i = movie_i.value,\n",
    "                                 clip_modification = clip_modification.label, \n",
    "                                 modification_details = clip_modification.value)"
   ]
  },
  {
   "cell_type": "code",
   "execution_count": null,
   "id": "76f78189",
   "metadata": {},
   "outputs": [],
   "source": [
    "# Review the size of the modified clips\n",
    "t4.check_clip_size(clip_paths = clips_ready_df[\"modif_clip_path\"].unique())"
   ]
  },
  {
   "cell_type": "code",
   "execution_count": null,
   "id": "16a0aff8",
   "metadata": {},
   "outputs": [],
   "source": [
    "# Compare the original and modified clips\n",
    "t4.compare_clips(df = clips_ready_df)"
   ]
  },
  {
   "cell_type": "code",
   "execution_count": null,
   "id": "575886c6",
   "metadata": {},
   "outputs": [],
   "source": [
    "### Frame modifications\n",
    "\n",
    "# Work in progress\n",
    "clip_modification = t4.select_modification()\n",
    "\n",
    "# Modify the clips\n",
    "clips_ready_df = t4.modify_clips(clips_to_upload_df = clips_to_upload_df.reset_index(drop=True), \n",
    "                                 movie_i = movie_i.value,\n",
    "                                 clip_modification = clip_modification.label, \n",
    "                                 modification_details = clip_modification.value)\n",
    "\n",
    "# Review the size of the modified clips\n",
    "t4.check_clip_size(clip_paths = clips_ready_df[\"modif_clip_path\"].unique())\n",
    "\n",
    "# Compare the original and modified clips\n",
    "t4.compare_clips(df = clips_ready_df)\n"
   ]
  },
  {
   "cell_type": "markdown",
   "id": "8e73da0c",
   "metadata": {},
   "source": [
    "### Preview the frames"
   ]
  },
  {
   "cell_type": "code",
   "execution_count": 108,
   "id": "cce086d7",
   "metadata": {},
   "outputs": [
    {
     "data": {
      "application/vnd.jupyter.widget-view+json": {
       "model_id": "9541e45a4cf74201be6acbb9370c4fdf",
       "version_major": 2,
       "version_minor": 0
      },
      "text/plain": [
       "Dropdown(description='Select original frame:', layout=Layout(width='50%'), options=('/Users/jurie.germishuys/W…"
      ]
     },
     "metadata": {},
     "output_type": "display_data"
    },
    {
     "data": {
      "application/vnd.jupyter.widget-view+json": {
       "model_id": "188b6449aa79492bb7bec5786083387d",
       "version_major": 2,
       "version_minor": 0
      },
      "text/plain": [
       "Output()"
      ]
     },
     "metadata": {},
     "output_type": "display_data"
    }
   ],
   "source": [
    "# Compare the original and modified clips\n",
    "t5.compare_frames(df = frames_to_upload_df)"
   ]
  },
  {
   "cell_type": "markdown",
   "id": "moral-milwaukee",
   "metadata": {},
   "source": [
    "### Set Zooniverse metadata"
   ]
  },
  {
   "cell_type": "code",
   "execution_count": 116,
   "id": "54338a73",
   "metadata": {},
   "outputs": [],
   "source": [
    "upload_to_zoo, sitename, created_on = t5.set_zoo_metadata(df = frames_to_upload_df, species_list = species_i.value,\n",
    "                                                          project_name = project.value, db_info_dict = db_info_dict)\n",
    "\n",
    "#upload_to_zoo = upload_to_zoo.fillna(\"unknown\")\n",
    "\n"
   ]
  },
  {
   "cell_type": "markdown",
   "id": "powerful-scout",
   "metadata": {},
   "source": [
    "### Upload frames to Zooniverse"
   ]
  },
  {
   "cell_type": "markdown",
   "id": "plain-senior",
   "metadata": {},
   "source": [
    "You may receive an error message related to file size if clips exceed the recommended limit for Zooniverse uploads. In this case, we recommend shortening the clip length to achieve a suitable filesize."
   ]
  },
  {
   "cell_type": "code",
   "execution_count": 126,
   "id": "guilty-insider",
   "metadata": {},
   "outputs": [
    {
     "name": "stderr",
     "output_type": "stream",
     "text": [
      "\r",
      "  0%|          | 0/80 [00:00<?, ?it/s]"
     ]
    },
    {
     "name": "stdout",
     "output_type": "stream",
     "text": [
      "80_frames_Common sea pen_Kostergrund_8/07/1997 subject set created\n",
      "uploading subjects to Zooniverse\n",
      "/Users/jurie.germishuys/Workspace/odf/koster-uw/database/koster_lab_development/tutorials/temp_frames/970708 TMBL-ROV 1997 Tape 2 S Kostergrund_frame_27037_6.jpg\n",
      "{'species_id': 6, 'movie_id': 40, 'filename': '970708 TMBL-ROV 1997 Tape 2 S Kostergrund.mov', 'siteName': 'Kostergrund', 'created_on': '8/07/1997', 'Author': 'Tomas Lundälv', 'fps': 25.0, 'duration': 4028.4, 'survey_start': 0, 'survey_end': 4028.4}\n"
     ]
    },
    {
     "name": "stderr",
     "output_type": "stream",
     "text": [
      "\r",
      "  1%|▏         | 1/80 [00:01<01:19,  1.01s/it]"
     ]
    },
    {
     "name": "stdout",
     "output_type": "stream",
     "text": [
      "subject saved\n",
      "/Users/jurie.germishuys/Workspace/odf/koster-uw/database/koster_lab_development/tutorials/temp_frames/970708 TMBL-ROV 1997 Tape 2 S Kostergrund_frame_27062_6.jpg\n",
      "{'species_id': 6, 'movie_id': 40, 'filename': '970708 TMBL-ROV 1997 Tape 2 S Kostergrund.mov', 'siteName': 'Kostergrund', 'created_on': '8/07/1997', 'Author': 'Tomas Lundälv', 'fps': 25.0, 'duration': 4028.4, 'survey_start': 0, 'survey_end': 4028.4}\n"
     ]
    },
    {
     "name": "stderr",
     "output_type": "stream",
     "text": [
      "\r",
      "  2%|▎         | 2/80 [00:01<01:09,  1.12it/s]"
     ]
    },
    {
     "name": "stdout",
     "output_type": "stream",
     "text": [
      "subject saved\n",
      "/Users/jurie.germishuys/Workspace/odf/koster-uw/database/koster_lab_development/tutorials/temp_frames/970708 TMBL-ROV 1997 Tape 2 S Kostergrund_frame_27087_6.jpg\n",
      "{'species_id': 6, 'movie_id': 40, 'filename': '970708 TMBL-ROV 1997 Tape 2 S Kostergrund.mov', 'siteName': 'Kostergrund', 'created_on': '8/07/1997', 'Author': 'Tomas Lundälv', 'fps': 25.0, 'duration': 4028.4, 'survey_start': 0, 'survey_end': 4028.4}\n"
     ]
    },
    {
     "name": "stderr",
     "output_type": "stream",
     "text": [
      "\r",
      "  4%|▍         | 3/80 [00:02<01:06,  1.15it/s]"
     ]
    },
    {
     "name": "stdout",
     "output_type": "stream",
     "text": [
      "subject saved\n",
      "/Users/jurie.germishuys/Workspace/odf/koster-uw/database/koster_lab_development/tutorials/temp_frames/970708 TMBL-ROV 1997 Tape 2 S Kostergrund_frame_27112_6.jpg\n",
      "{'species_id': 6, 'movie_id': 40, 'filename': '970708 TMBL-ROV 1997 Tape 2 S Kostergrund.mov', 'siteName': 'Kostergrund', 'created_on': '8/07/1997', 'Author': 'Tomas Lundälv', 'fps': 25.0, 'duration': 4028.4, 'survey_start': 0, 'survey_end': 4028.4}\n"
     ]
    },
    {
     "name": "stderr",
     "output_type": "stream",
     "text": [
      "\r",
      "  5%|▌         | 4/80 [00:03<01:04,  1.17it/s]"
     ]
    },
    {
     "name": "stdout",
     "output_type": "stream",
     "text": [
      "subject saved\n",
      "/Users/jurie.germishuys/Workspace/odf/koster-uw/database/koster_lab_development/tutorials/temp_frames/970708 TMBL-ROV 1997 Tape 2 S Kostergrund_frame_27137_6.jpg\n",
      "{'species_id': 6, 'movie_id': 40, 'filename': '970708 TMBL-ROV 1997 Tape 2 S Kostergrund.mov', 'siteName': 'Kostergrund', 'created_on': '8/07/1997', 'Author': 'Tomas Lundälv', 'fps': 25.0, 'duration': 4028.4, 'survey_start': 0, 'survey_end': 4028.4}\n"
     ]
    },
    {
     "name": "stderr",
     "output_type": "stream",
     "text": [
      "\r",
      "  6%|▋         | 5/80 [00:04<01:02,  1.19it/s]"
     ]
    },
    {
     "name": "stdout",
     "output_type": "stream",
     "text": [
      "subject saved\n",
      "/Users/jurie.germishuys/Workspace/odf/koster-uw/database/koster_lab_development/tutorials/temp_frames/970708 TMBL-ROV 1997 Tape 2 S Kostergrund_frame_27162_6.jpg\n",
      "{'species_id': 6, 'movie_id': 40, 'filename': '970708 TMBL-ROV 1997 Tape 2 S Kostergrund.mov', 'siteName': 'Kostergrund', 'created_on': '8/07/1997', 'Author': 'Tomas Lundälv', 'fps': 25.0, 'duration': 4028.4, 'survey_start': 0, 'survey_end': 4028.4}\n"
     ]
    },
    {
     "name": "stderr",
     "output_type": "stream",
     "text": [
      "\r",
      "  8%|▊         | 6/80 [00:05<01:02,  1.19it/s]"
     ]
    },
    {
     "name": "stdout",
     "output_type": "stream",
     "text": [
      "subject saved\n",
      "/Users/jurie.germishuys/Workspace/odf/koster-uw/database/koster_lab_development/tutorials/temp_frames/970708 TMBL-ROV 1997 Tape 2 S Kostergrund_frame_27187_6.jpg\n",
      "{'species_id': 6, 'movie_id': 40, 'filename': '970708 TMBL-ROV 1997 Tape 2 S Kostergrund.mov', 'siteName': 'Kostergrund', 'created_on': '8/07/1997', 'Author': 'Tomas Lundälv', 'fps': 25.0, 'duration': 4028.4, 'survey_start': 0, 'survey_end': 4028.4}\n"
     ]
    },
    {
     "name": "stderr",
     "output_type": "stream",
     "text": [
      "\r",
      "  9%|▉         | 7/80 [00:06<01:01,  1.18it/s]"
     ]
    },
    {
     "name": "stdout",
     "output_type": "stream",
     "text": [
      "subject saved\n",
      "/Users/jurie.germishuys/Workspace/odf/koster-uw/database/koster_lab_development/tutorials/temp_frames/970708 TMBL-ROV 1997 Tape 2 S Kostergrund_frame_27212_6.jpg\n",
      "{'species_id': 6, 'movie_id': 40, 'filename': '970708 TMBL-ROV 1997 Tape 2 S Kostergrund.mov', 'siteName': 'Kostergrund', 'created_on': '8/07/1997', 'Author': 'Tomas Lundälv', 'fps': 25.0, 'duration': 4028.4, 'survey_start': 0, 'survey_end': 4028.4}\n"
     ]
    },
    {
     "name": "stderr",
     "output_type": "stream",
     "text": [
      "\r",
      " 10%|█         | 8/80 [00:06<01:00,  1.19it/s]"
     ]
    },
    {
     "name": "stdout",
     "output_type": "stream",
     "text": [
      "subject saved\n",
      "/Users/jurie.germishuys/Workspace/odf/koster-uw/database/koster_lab_development/tutorials/temp_frames/970708 TMBL-ROV 1997 Tape 2 S Kostergrund_frame_27237_6.jpg\n",
      "{'species_id': 6, 'movie_id': 40, 'filename': '970708 TMBL-ROV 1997 Tape 2 S Kostergrund.mov', 'siteName': 'Kostergrund', 'created_on': '8/07/1997', 'Author': 'Tomas Lundälv', 'fps': 25.0, 'duration': 4028.4, 'survey_start': 0, 'survey_end': 4028.4}\n"
     ]
    },
    {
     "name": "stderr",
     "output_type": "stream",
     "text": [
      "\r",
      " 11%|█▏        | 9/80 [00:07<01:00,  1.18it/s]"
     ]
    },
    {
     "name": "stdout",
     "output_type": "stream",
     "text": [
      "subject saved\n",
      "/Users/jurie.germishuys/Workspace/odf/koster-uw/database/koster_lab_development/tutorials/temp_frames/970708 TMBL-ROV 1997 Tape 2 S Kostergrund_frame_27262_6.jpg\n",
      "{'species_id': 6, 'movie_id': 40, 'filename': '970708 TMBL-ROV 1997 Tape 2 S Kostergrund.mov', 'siteName': 'Kostergrund', 'created_on': '8/07/1997', 'Author': 'Tomas Lundälv', 'fps': 25.0, 'duration': 4028.4, 'survey_start': 0, 'survey_end': 4028.4}\n"
     ]
    },
    {
     "name": "stderr",
     "output_type": "stream",
     "text": [
      "\r",
      " 12%|█▎        | 10/80 [00:08<00:58,  1.19it/s]"
     ]
    },
    {
     "name": "stdout",
     "output_type": "stream",
     "text": [
      "subject saved\n",
      "/Users/jurie.germishuys/Workspace/odf/koster-uw/database/koster_lab_development/tutorials/temp_frames/970708 TMBL-ROV 1997 Tape 2 S Kostergrund_frame_28500_6.jpg\n",
      "{'species_id': 6, 'movie_id': 40, 'filename': '970708 TMBL-ROV 1997 Tape 2 S Kostergrund.mov', 'siteName': 'Kostergrund', 'created_on': '8/07/1997', 'Author': 'Tomas Lundälv', 'fps': 25.0, 'duration': 4028.4, 'survey_start': 0, 'survey_end': 4028.4}\n"
     ]
    },
    {
     "name": "stderr",
     "output_type": "stream",
     "text": [
      "\r",
      " 14%|█▍        | 11/80 [00:09<00:57,  1.19it/s]"
     ]
    },
    {
     "name": "stdout",
     "output_type": "stream",
     "text": [
      "subject saved\n",
      "/Users/jurie.germishuys/Workspace/odf/koster-uw/database/koster_lab_development/tutorials/temp_frames/970708 TMBL-ROV 1997 Tape 2 S Kostergrund_frame_28525_6.jpg\n",
      "{'species_id': 6, 'movie_id': 40, 'filename': '970708 TMBL-ROV 1997 Tape 2 S Kostergrund.mov', 'siteName': 'Kostergrund', 'created_on': '8/07/1997', 'Author': 'Tomas Lundälv', 'fps': 25.0, 'duration': 4028.4, 'survey_start': 0, 'survey_end': 4028.4}\n"
     ]
    },
    {
     "name": "stderr",
     "output_type": "stream",
     "text": [
      "\r",
      " 15%|█▌        | 12/80 [00:10<00:57,  1.19it/s]"
     ]
    },
    {
     "name": "stdout",
     "output_type": "stream",
     "text": [
      "subject saved\n",
      "/Users/jurie.germishuys/Workspace/odf/koster-uw/database/koster_lab_development/tutorials/temp_frames/970708 TMBL-ROV 1997 Tape 2 S Kostergrund_frame_28550_6.jpg\n",
      "{'species_id': 6, 'movie_id': 40, 'filename': '970708 TMBL-ROV 1997 Tape 2 S Kostergrund.mov', 'siteName': 'Kostergrund', 'created_on': '8/07/1997', 'Author': 'Tomas Lundälv', 'fps': 25.0, 'duration': 4028.4, 'survey_start': 0, 'survey_end': 4028.4}\n"
     ]
    },
    {
     "name": "stderr",
     "output_type": "stream",
     "text": [
      "\r",
      " 16%|█▋        | 13/80 [00:11<00:55,  1.20it/s]"
     ]
    },
    {
     "name": "stdout",
     "output_type": "stream",
     "text": [
      "subject saved\n",
      "/Users/jurie.germishuys/Workspace/odf/koster-uw/database/koster_lab_development/tutorials/temp_frames/970708 TMBL-ROV 1997 Tape 2 S Kostergrund_frame_28575_6.jpg\n",
      "{'species_id': 6, 'movie_id': 40, 'filename': '970708 TMBL-ROV 1997 Tape 2 S Kostergrund.mov', 'siteName': 'Kostergrund', 'created_on': '8/07/1997', 'Author': 'Tomas Lundälv', 'fps': 25.0, 'duration': 4028.4, 'survey_start': 0, 'survey_end': 4028.4}\n"
     ]
    },
    {
     "name": "stderr",
     "output_type": "stream",
     "text": [
      "\r",
      " 18%|█▊        | 14/80 [00:11<00:56,  1.18it/s]"
     ]
    },
    {
     "name": "stdout",
     "output_type": "stream",
     "text": [
      "subject saved\n",
      "/Users/jurie.germishuys/Workspace/odf/koster-uw/database/koster_lab_development/tutorials/temp_frames/970708 TMBL-ROV 1997 Tape 2 S Kostergrund_frame_28600_6.jpg\n",
      "{'species_id': 6, 'movie_id': 40, 'filename': '970708 TMBL-ROV 1997 Tape 2 S Kostergrund.mov', 'siteName': 'Kostergrund', 'created_on': '8/07/1997', 'Author': 'Tomas Lundälv', 'fps': 25.0, 'duration': 4028.4, 'survey_start': 0, 'survey_end': 4028.4}\n"
     ]
    },
    {
     "name": "stderr",
     "output_type": "stream",
     "text": [
      "\r",
      " 19%|█▉        | 15/80 [00:12<00:54,  1.19it/s]"
     ]
    },
    {
     "name": "stdout",
     "output_type": "stream",
     "text": [
      "subject saved\n",
      "/Users/jurie.germishuys/Workspace/odf/koster-uw/database/koster_lab_development/tutorials/temp_frames/970708 TMBL-ROV 1997 Tape 2 S Kostergrund_frame_28625_6.jpg\n",
      "{'species_id': 6, 'movie_id': 40, 'filename': '970708 TMBL-ROV 1997 Tape 2 S Kostergrund.mov', 'siteName': 'Kostergrund', 'created_on': '8/07/1997', 'Author': 'Tomas Lundälv', 'fps': 25.0, 'duration': 4028.4, 'survey_start': 0, 'survey_end': 4028.4}\n"
     ]
    },
    {
     "name": "stderr",
     "output_type": "stream",
     "text": [
      "\r",
      " 20%|██        | 16/80 [00:13<00:53,  1.20it/s]"
     ]
    },
    {
     "name": "stdout",
     "output_type": "stream",
     "text": [
      "subject saved\n",
      "/Users/jurie.germishuys/Workspace/odf/koster-uw/database/koster_lab_development/tutorials/temp_frames/970708 TMBL-ROV 1997 Tape 2 S Kostergrund_frame_28650_6.jpg\n",
      "{'species_id': 6, 'movie_id': 40, 'filename': '970708 TMBL-ROV 1997 Tape 2 S Kostergrund.mov', 'siteName': 'Kostergrund', 'created_on': '8/07/1997', 'Author': 'Tomas Lundälv', 'fps': 25.0, 'duration': 4028.4, 'survey_start': 0, 'survey_end': 4028.4}\n"
     ]
    },
    {
     "name": "stderr",
     "output_type": "stream",
     "text": [
      "\r",
      " 21%|██▏       | 17/80 [00:14<00:53,  1.18it/s]"
     ]
    },
    {
     "name": "stdout",
     "output_type": "stream",
     "text": [
      "subject saved\n",
      "/Users/jurie.germishuys/Workspace/odf/koster-uw/database/koster_lab_development/tutorials/temp_frames/970708 TMBL-ROV 1997 Tape 2 S Kostergrund_frame_28675_6.jpg\n",
      "{'species_id': 6, 'movie_id': 40, 'filename': '970708 TMBL-ROV 1997 Tape 2 S Kostergrund.mov', 'siteName': 'Kostergrund', 'created_on': '8/07/1997', 'Author': 'Tomas Lundälv', 'fps': 25.0, 'duration': 4028.4, 'survey_start': 0, 'survey_end': 4028.4}\n"
     ]
    },
    {
     "name": "stderr",
     "output_type": "stream",
     "text": [
      "\r",
      " 22%|██▎       | 18/80 [00:15<00:52,  1.19it/s]"
     ]
    },
    {
     "name": "stdout",
     "output_type": "stream",
     "text": [
      "subject saved\n",
      "/Users/jurie.germishuys/Workspace/odf/koster-uw/database/koster_lab_development/tutorials/temp_frames/970708 TMBL-ROV 1997 Tape 2 S Kostergrund_frame_28700_6.jpg\n",
      "{'species_id': 6, 'movie_id': 40, 'filename': '970708 TMBL-ROV 1997 Tape 2 S Kostergrund.mov', 'siteName': 'Kostergrund', 'created_on': '8/07/1997', 'Author': 'Tomas Lundälv', 'fps': 25.0, 'duration': 4028.4, 'survey_start': 0, 'survey_end': 4028.4}\n"
     ]
    },
    {
     "name": "stderr",
     "output_type": "stream",
     "text": [
      "\r",
      " 24%|██▍       | 19/80 [00:16<00:51,  1.19it/s]"
     ]
    },
    {
     "name": "stdout",
     "output_type": "stream",
     "text": [
      "subject saved\n",
      "/Users/jurie.germishuys/Workspace/odf/koster-uw/database/koster_lab_development/tutorials/temp_frames/970708 TMBL-ROV 1997 Tape 2 S Kostergrund_frame_28725_6.jpg\n",
      "{'species_id': 6, 'movie_id': 40, 'filename': '970708 TMBL-ROV 1997 Tape 2 S Kostergrund.mov', 'siteName': 'Kostergrund', 'created_on': '8/07/1997', 'Author': 'Tomas Lundälv', 'fps': 25.0, 'duration': 4028.4, 'survey_start': 0, 'survey_end': 4028.4}\n"
     ]
    },
    {
     "name": "stderr",
     "output_type": "stream",
     "text": [
      "\r",
      " 25%|██▌       | 20/80 [00:16<00:50,  1.19it/s]"
     ]
    },
    {
     "name": "stdout",
     "output_type": "stream",
     "text": [
      "subject saved\n",
      "/Users/jurie.germishuys/Workspace/odf/koster-uw/database/koster_lab_development/tutorials/temp_frames/970708 TMBL-ROV 1997 Tape 2 S Kostergrund_frame_27750_6.jpg\n",
      "{'species_id': 6, 'movie_id': 40, 'filename': '970708 TMBL-ROV 1997 Tape 2 S Kostergrund.mov', 'siteName': 'Kostergrund', 'created_on': '8/07/1997', 'Author': 'Tomas Lundälv', 'fps': 25.0, 'duration': 4028.4, 'survey_start': 0, 'survey_end': 4028.4}\n"
     ]
    },
    {
     "name": "stderr",
     "output_type": "stream",
     "text": [
      "\r",
      " 26%|██▋       | 21/80 [00:17<00:49,  1.19it/s]"
     ]
    },
    {
     "name": "stdout",
     "output_type": "stream",
     "text": [
      "subject saved\n",
      "/Users/jurie.germishuys/Workspace/odf/koster-uw/database/koster_lab_development/tutorials/temp_frames/970708 TMBL-ROV 1997 Tape 2 S Kostergrund_frame_27775_6.jpg\n",
      "{'species_id': 6, 'movie_id': 40, 'filename': '970708 TMBL-ROV 1997 Tape 2 S Kostergrund.mov', 'siteName': 'Kostergrund', 'created_on': '8/07/1997', 'Author': 'Tomas Lundälv', 'fps': 25.0, 'duration': 4028.4, 'survey_start': 0, 'survey_end': 4028.4}\n"
     ]
    },
    {
     "name": "stderr",
     "output_type": "stream",
     "text": [
      "\r",
      " 28%|██▊       | 22/80 [00:18<00:49,  1.18it/s]"
     ]
    },
    {
     "name": "stdout",
     "output_type": "stream",
     "text": [
      "subject saved\n",
      "/Users/jurie.germishuys/Workspace/odf/koster-uw/database/koster_lab_development/tutorials/temp_frames/970708 TMBL-ROV 1997 Tape 2 S Kostergrund_frame_27800_6.jpg\n",
      "{'species_id': 6, 'movie_id': 40, 'filename': '970708 TMBL-ROV 1997 Tape 2 S Kostergrund.mov', 'siteName': 'Kostergrund', 'created_on': '8/07/1997', 'Author': 'Tomas Lundälv', 'fps': 25.0, 'duration': 4028.4, 'survey_start': 0, 'survey_end': 4028.4}\n"
     ]
    },
    {
     "name": "stderr",
     "output_type": "stream",
     "text": [
      "\r",
      " 29%|██▉       | 23/80 [00:19<00:53,  1.07it/s]"
     ]
    },
    {
     "name": "stdout",
     "output_type": "stream",
     "text": [
      "subject saved\n",
      "/Users/jurie.germishuys/Workspace/odf/koster-uw/database/koster_lab_development/tutorials/temp_frames/970708 TMBL-ROV 1997 Tape 2 S Kostergrund_frame_27825_6.jpg\n",
      "{'species_id': 6, 'movie_id': 40, 'filename': '970708 TMBL-ROV 1997 Tape 2 S Kostergrund.mov', 'siteName': 'Kostergrund', 'created_on': '8/07/1997', 'Author': 'Tomas Lundälv', 'fps': 25.0, 'duration': 4028.4, 'survey_start': 0, 'survey_end': 4028.4}\n"
     ]
    },
    {
     "name": "stderr",
     "output_type": "stream",
     "text": [
      "\r",
      " 30%|███       | 24/80 [00:20<00:54,  1.03it/s]"
     ]
    },
    {
     "name": "stdout",
     "output_type": "stream",
     "text": [
      "subject saved\n",
      "/Users/jurie.germishuys/Workspace/odf/koster-uw/database/koster_lab_development/tutorials/temp_frames/970708 TMBL-ROV 1997 Tape 2 S Kostergrund_frame_27850_6.jpg\n",
      "{'species_id': 6, 'movie_id': 40, 'filename': '970708 TMBL-ROV 1997 Tape 2 S Kostergrund.mov', 'siteName': 'Kostergrund', 'created_on': '8/07/1997', 'Author': 'Tomas Lundälv', 'fps': 25.0, 'duration': 4028.4, 'survey_start': 0, 'survey_end': 4028.4}\n"
     ]
    },
    {
     "name": "stderr",
     "output_type": "stream",
     "text": [
      "\r",
      " 31%|███▏      | 25/80 [00:21<00:51,  1.07it/s]"
     ]
    },
    {
     "name": "stdout",
     "output_type": "stream",
     "text": [
      "subject saved\n",
      "/Users/jurie.germishuys/Workspace/odf/koster-uw/database/koster_lab_development/tutorials/temp_frames/970708 TMBL-ROV 1997 Tape 2 S Kostergrund_frame_27875_6.jpg\n",
      "{'species_id': 6, 'movie_id': 40, 'filename': '970708 TMBL-ROV 1997 Tape 2 S Kostergrund.mov', 'siteName': 'Kostergrund', 'created_on': '8/07/1997', 'Author': 'Tomas Lundälv', 'fps': 25.0, 'duration': 4028.4, 'survey_start': 0, 'survey_end': 4028.4}\n"
     ]
    },
    {
     "name": "stderr",
     "output_type": "stream",
     "text": [
      "\r",
      " 32%|███▎      | 26/80 [00:22<00:49,  1.10it/s]"
     ]
    },
    {
     "name": "stdout",
     "output_type": "stream",
     "text": [
      "subject saved\n",
      "/Users/jurie.germishuys/Workspace/odf/koster-uw/database/koster_lab_development/tutorials/temp_frames/970708 TMBL-ROV 1997 Tape 2 S Kostergrund_frame_27900_6.jpg\n",
      "{'species_id': 6, 'movie_id': 40, 'filename': '970708 TMBL-ROV 1997 Tape 2 S Kostergrund.mov', 'siteName': 'Kostergrund', 'created_on': '8/07/1997', 'Author': 'Tomas Lundälv', 'fps': 25.0, 'duration': 4028.4, 'survey_start': 0, 'survey_end': 4028.4}\n"
     ]
    },
    {
     "name": "stderr",
     "output_type": "stream",
     "text": [
      "\r",
      " 34%|███▍      | 27/80 [00:23<00:47,  1.13it/s]"
     ]
    },
    {
     "name": "stdout",
     "output_type": "stream",
     "text": [
      "subject saved\n",
      "/Users/jurie.germishuys/Workspace/odf/koster-uw/database/koster_lab_development/tutorials/temp_frames/970708 TMBL-ROV 1997 Tape 2 S Kostergrund_frame_27925_6.jpg\n",
      "{'species_id': 6, 'movie_id': 40, 'filename': '970708 TMBL-ROV 1997 Tape 2 S Kostergrund.mov', 'siteName': 'Kostergrund', 'created_on': '8/07/1997', 'Author': 'Tomas Lundälv', 'fps': 25.0, 'duration': 4028.4, 'survey_start': 0, 'survey_end': 4028.4}\n"
     ]
    },
    {
     "name": "stderr",
     "output_type": "stream",
     "text": [
      "\r",
      " 35%|███▌      | 28/80 [00:24<00:45,  1.14it/s]"
     ]
    },
    {
     "name": "stdout",
     "output_type": "stream",
     "text": [
      "subject saved\n",
      "/Users/jurie.germishuys/Workspace/odf/koster-uw/database/koster_lab_development/tutorials/temp_frames/970708 TMBL-ROV 1997 Tape 2 S Kostergrund_frame_27950_6.jpg\n",
      "{'species_id': 6, 'movie_id': 40, 'filename': '970708 TMBL-ROV 1997 Tape 2 S Kostergrund.mov', 'siteName': 'Kostergrund', 'created_on': '8/07/1997', 'Author': 'Tomas Lundälv', 'fps': 25.0, 'duration': 4028.4, 'survey_start': 0, 'survey_end': 4028.4}\n"
     ]
    },
    {
     "name": "stderr",
     "output_type": "stream",
     "text": [
      "\r",
      " 36%|███▋      | 29/80 [00:25<00:44,  1.16it/s]"
     ]
    },
    {
     "name": "stdout",
     "output_type": "stream",
     "text": [
      "subject saved\n",
      "/Users/jurie.germishuys/Workspace/odf/koster-uw/database/koster_lab_development/tutorials/temp_frames/970708 TMBL-ROV 1997 Tape 2 S Kostergrund_frame_27975_6.jpg\n",
      "{'species_id': 6, 'movie_id': 40, 'filename': '970708 TMBL-ROV 1997 Tape 2 S Kostergrund.mov', 'siteName': 'Kostergrund', 'created_on': '8/07/1997', 'Author': 'Tomas Lundälv', 'fps': 25.0, 'duration': 4028.4, 'survey_start': 0, 'survey_end': 4028.4}\n"
     ]
    },
    {
     "name": "stderr",
     "output_type": "stream",
     "text": [
      "\r",
      " 38%|███▊      | 30/80 [00:25<00:42,  1.17it/s]"
     ]
    },
    {
     "name": "stdout",
     "output_type": "stream",
     "text": [
      "subject saved\n",
      "/Users/jurie.germishuys/Workspace/odf/koster-uw/database/koster_lab_development/tutorials/temp_frames/990810 TMBL-ROV 1999 Väderöarna Tape 46_frame_18000_6.jpg\n",
      "{'species_id': 6, 'movie_id': 52, 'filename': '990810 TMBL-ROV 1999 Väderöarna Tape 46.mov', 'siteName': 'Vader islands', 'created_on': '10/08/1999', 'Author': 'Gothenburg University', 'fps': 50.0, 'duration': 301.44, 'survey_start': 0, 'survey_end': 301.44}\n"
     ]
    },
    {
     "name": "stderr",
     "output_type": "stream",
     "text": [
      "\r",
      " 39%|███▉      | 31/80 [00:26<00:42,  1.16it/s]"
     ]
    },
    {
     "name": "stdout",
     "output_type": "stream",
     "text": [
      "subject saved\n",
      "/Users/jurie.germishuys/Workspace/odf/koster-uw/database/koster_lab_development/tutorials/temp_frames/990810 TMBL-ROV 1999 Väderöarna Tape 46_frame_18050_6.jpg\n",
      "{'species_id': 6, 'movie_id': 52, 'filename': '990810 TMBL-ROV 1999 Väderöarna Tape 46.mov', 'siteName': 'Vader islands', 'created_on': '10/08/1999', 'Author': 'Gothenburg University', 'fps': 50.0, 'duration': 301.44, 'survey_start': 0, 'survey_end': 301.44}\n"
     ]
    },
    {
     "name": "stderr",
     "output_type": "stream",
     "text": [
      "\r",
      " 40%|████      | 32/80 [00:27<00:40,  1.17it/s]"
     ]
    },
    {
     "name": "stdout",
     "output_type": "stream",
     "text": [
      "subject saved\n",
      "/Users/jurie.germishuys/Workspace/odf/koster-uw/database/koster_lab_development/tutorials/temp_frames/990810 TMBL-ROV 1999 Väderöarna Tape 46_frame_18100_6.jpg\n",
      "{'species_id': 6, 'movie_id': 52, 'filename': '990810 TMBL-ROV 1999 Väderöarna Tape 46.mov', 'siteName': 'Vader islands', 'created_on': '10/08/1999', 'Author': 'Gothenburg University', 'fps': 50.0, 'duration': 301.44, 'survey_start': 0, 'survey_end': 301.44}\n"
     ]
    },
    {
     "name": "stderr",
     "output_type": "stream",
     "text": [
      "\r",
      " 41%|████▏     | 33/80 [00:28<00:40,  1.17it/s]"
     ]
    },
    {
     "name": "stdout",
     "output_type": "stream",
     "text": [
      "subject saved\n",
      "/Users/jurie.germishuys/Workspace/odf/koster-uw/database/koster_lab_development/tutorials/temp_frames/990810 TMBL-ROV 1999 Väderöarna Tape 46_frame_18150_6.jpg\n",
      "{'species_id': 6, 'movie_id': 52, 'filename': '990810 TMBL-ROV 1999 Väderöarna Tape 46.mov', 'siteName': 'Vader islands', 'created_on': '10/08/1999', 'Author': 'Gothenburg University', 'fps': 50.0, 'duration': 301.44, 'survey_start': 0, 'survey_end': 301.44}\n"
     ]
    },
    {
     "name": "stderr",
     "output_type": "stream",
     "text": [
      "\r",
      " 42%|████▎     | 34/80 [00:29<00:38,  1.18it/s]"
     ]
    },
    {
     "name": "stdout",
     "output_type": "stream",
     "text": [
      "subject saved\n",
      "/Users/jurie.germishuys/Workspace/odf/koster-uw/database/koster_lab_development/tutorials/temp_frames/990810 TMBL-ROV 1999 Väderöarna Tape 46_frame_18200_6.jpg\n",
      "{'species_id': 6, 'movie_id': 52, 'filename': '990810 TMBL-ROV 1999 Väderöarna Tape 46.mov', 'siteName': 'Vader islands', 'created_on': '10/08/1999', 'Author': 'Gothenburg University', 'fps': 50.0, 'duration': 301.44, 'survey_start': 0, 'survey_end': 301.44}\n"
     ]
    },
    {
     "name": "stderr",
     "output_type": "stream",
     "text": [
      "\r",
      " 44%|████▍     | 35/80 [00:30<00:37,  1.19it/s]"
     ]
    },
    {
     "name": "stdout",
     "output_type": "stream",
     "text": [
      "subject saved\n",
      "/Users/jurie.germishuys/Workspace/odf/koster-uw/database/koster_lab_development/tutorials/temp_frames/990810 TMBL-ROV 1999 Väderöarna Tape 46_frame_18250_6.jpg\n",
      "{'species_id': 6, 'movie_id': 52, 'filename': '990810 TMBL-ROV 1999 Väderöarna Tape 46.mov', 'siteName': 'Vader islands', 'created_on': '10/08/1999', 'Author': 'Gothenburg University', 'fps': 50.0, 'duration': 301.44, 'survey_start': 0, 'survey_end': 301.44}\n"
     ]
    },
    {
     "name": "stderr",
     "output_type": "stream",
     "text": [
      "\r",
      " 45%|████▌     | 36/80 [00:31<00:37,  1.16it/s]"
     ]
    },
    {
     "name": "stdout",
     "output_type": "stream",
     "text": [
      "subject saved\n",
      "/Users/jurie.germishuys/Workspace/odf/koster-uw/database/koster_lab_development/tutorials/temp_frames/990810 TMBL-ROV 1999 Väderöarna Tape 46_frame_18300_6.jpg\n",
      "{'species_id': 6, 'movie_id': 52, 'filename': '990810 TMBL-ROV 1999 Väderöarna Tape 46.mov', 'siteName': 'Vader islands', 'created_on': '10/08/1999', 'Author': 'Gothenburg University', 'fps': 50.0, 'duration': 301.44, 'survey_start': 0, 'survey_end': 301.44}\n"
     ]
    },
    {
     "name": "stderr",
     "output_type": "stream",
     "text": [
      "\r",
      " 46%|████▋     | 37/80 [00:31<00:37,  1.16it/s]"
     ]
    },
    {
     "name": "stdout",
     "output_type": "stream",
     "text": [
      "subject saved\n",
      "/Users/jurie.germishuys/Workspace/odf/koster-uw/database/koster_lab_development/tutorials/temp_frames/990810 TMBL-ROV 1999 Väderöarna Tape 46_frame_18350_6.jpg\n",
      "{'species_id': 6, 'movie_id': 52, 'filename': '990810 TMBL-ROV 1999 Väderöarna Tape 46.mov', 'siteName': 'Vader islands', 'created_on': '10/08/1999', 'Author': 'Gothenburg University', 'fps': 50.0, 'duration': 301.44, 'survey_start': 0, 'survey_end': 301.44}\n"
     ]
    },
    {
     "name": "stderr",
     "output_type": "stream",
     "text": [
      "\r",
      " 48%|████▊     | 38/80 [00:32<00:35,  1.17it/s]"
     ]
    },
    {
     "name": "stdout",
     "output_type": "stream",
     "text": [
      "subject saved\n",
      "/Users/jurie.germishuys/Workspace/odf/koster-uw/database/koster_lab_development/tutorials/temp_frames/990810 TMBL-ROV 1999 Väderöarna Tape 46_frame_18400_6.jpg\n",
      "{'species_id': 6, 'movie_id': 52, 'filename': '990810 TMBL-ROV 1999 Väderöarna Tape 46.mov', 'siteName': 'Vader islands', 'created_on': '10/08/1999', 'Author': 'Gothenburg University', 'fps': 50.0, 'duration': 301.44, 'survey_start': 0, 'survey_end': 301.44}\n"
     ]
    },
    {
     "name": "stderr",
     "output_type": "stream",
     "text": [
      "\r",
      " 49%|████▉     | 39/80 [00:33<00:34,  1.18it/s]"
     ]
    },
    {
     "name": "stdout",
     "output_type": "stream",
     "text": [
      "subject saved\n",
      "/Users/jurie.germishuys/Workspace/odf/koster-uw/database/koster_lab_development/tutorials/temp_frames/990810 TMBL-ROV 1999 Väderöarna Tape 46_frame_18450_6.jpg\n",
      "{'species_id': 6, 'movie_id': 52, 'filename': '990810 TMBL-ROV 1999 Väderöarna Tape 46.mov', 'siteName': 'Vader islands', 'created_on': '10/08/1999', 'Author': 'Gothenburg University', 'fps': 50.0, 'duration': 301.44, 'survey_start': 0, 'survey_end': 301.44}\n"
     ]
    },
    {
     "name": "stderr",
     "output_type": "stream",
     "text": [
      "\r",
      " 50%|█████     | 40/80 [00:34<00:33,  1.18it/s]"
     ]
    },
    {
     "name": "stdout",
     "output_type": "stream",
     "text": [
      "subject saved\n",
      "/Users/jurie.germishuys/Workspace/odf/koster-uw/database/koster_lab_development/tutorials/temp_frames/990810 TMBL-ROV 1999 Väderöarna Tape 46_frame_22500_6.jpg\n",
      "{'species_id': 6, 'movie_id': 52, 'filename': '990810 TMBL-ROV 1999 Väderöarna Tape 46.mov', 'siteName': 'Vader islands', 'created_on': '10/08/1999', 'Author': 'Gothenburg University', 'fps': 50.0, 'duration': 301.44, 'survey_start': 0, 'survey_end': 301.44}\n"
     ]
    },
    {
     "name": "stderr",
     "output_type": "stream",
     "text": [
      "\r",
      " 51%|█████▏    | 41/80 [00:35<00:32,  1.19it/s]"
     ]
    },
    {
     "name": "stdout",
     "output_type": "stream",
     "text": [
      "subject saved\n",
      "/Users/jurie.germishuys/Workspace/odf/koster-uw/database/koster_lab_development/tutorials/temp_frames/990810 TMBL-ROV 1999 Väderöarna Tape 46_frame_22550_6.jpg\n",
      "{'species_id': 6, 'movie_id': 52, 'filename': '990810 TMBL-ROV 1999 Väderöarna Tape 46.mov', 'siteName': 'Vader islands', 'created_on': '10/08/1999', 'Author': 'Gothenburg University', 'fps': 50.0, 'duration': 301.44, 'survey_start': 0, 'survey_end': 301.44}\n"
     ]
    },
    {
     "name": "stderr",
     "output_type": "stream",
     "text": [
      "\r",
      " 52%|█████▎    | 42/80 [00:36<00:31,  1.20it/s]"
     ]
    },
    {
     "name": "stdout",
     "output_type": "stream",
     "text": [
      "subject saved\n",
      "/Users/jurie.germishuys/Workspace/odf/koster-uw/database/koster_lab_development/tutorials/temp_frames/990810 TMBL-ROV 1999 Väderöarna Tape 46_frame_22600_6.jpg\n",
      "{'species_id': 6, 'movie_id': 52, 'filename': '990810 TMBL-ROV 1999 Väderöarna Tape 46.mov', 'siteName': 'Vader islands', 'created_on': '10/08/1999', 'Author': 'Gothenburg University', 'fps': 50.0, 'duration': 301.44, 'survey_start': 0, 'survey_end': 301.44}\n"
     ]
    },
    {
     "name": "stderr",
     "output_type": "stream",
     "text": [
      "\r",
      " 54%|█████▍    | 43/80 [00:36<00:30,  1.20it/s]"
     ]
    },
    {
     "name": "stdout",
     "output_type": "stream",
     "text": [
      "subject saved\n",
      "/Users/jurie.germishuys/Workspace/odf/koster-uw/database/koster_lab_development/tutorials/temp_frames/990810 TMBL-ROV 1999 Väderöarna Tape 46_frame_22650_6.jpg\n",
      "{'species_id': 6, 'movie_id': 52, 'filename': '990810 TMBL-ROV 1999 Väderöarna Tape 46.mov', 'siteName': 'Vader islands', 'created_on': '10/08/1999', 'Author': 'Gothenburg University', 'fps': 50.0, 'duration': 301.44, 'survey_start': 0, 'survey_end': 301.44}\n"
     ]
    },
    {
     "name": "stderr",
     "output_type": "stream",
     "text": [
      "\r",
      " 55%|█████▌    | 44/80 [00:37<00:30,  1.17it/s]"
     ]
    },
    {
     "name": "stdout",
     "output_type": "stream",
     "text": [
      "subject saved\n",
      "/Users/jurie.germishuys/Workspace/odf/koster-uw/database/koster_lab_development/tutorials/temp_frames/990810 TMBL-ROV 1999 Väderöarna Tape 46_frame_22700_6.jpg\n",
      "{'species_id': 6, 'movie_id': 52, 'filename': '990810 TMBL-ROV 1999 Väderöarna Tape 46.mov', 'siteName': 'Vader islands', 'created_on': '10/08/1999', 'Author': 'Gothenburg University', 'fps': 50.0, 'duration': 301.44, 'survey_start': 0, 'survey_end': 301.44}\n"
     ]
    },
    {
     "name": "stderr",
     "output_type": "stream",
     "text": [
      "\r",
      " 56%|█████▋    | 45/80 [00:38<00:29,  1.18it/s]"
     ]
    },
    {
     "name": "stdout",
     "output_type": "stream",
     "text": [
      "subject saved\n",
      "/Users/jurie.germishuys/Workspace/odf/koster-uw/database/koster_lab_development/tutorials/temp_frames/990810 TMBL-ROV 1999 Väderöarna Tape 46_frame_22750_6.jpg\n",
      "{'species_id': 6, 'movie_id': 52, 'filename': '990810 TMBL-ROV 1999 Väderöarna Tape 46.mov', 'siteName': 'Vader islands', 'created_on': '10/08/1999', 'Author': 'Gothenburg University', 'fps': 50.0, 'duration': 301.44, 'survey_start': 0, 'survey_end': 301.44}\n"
     ]
    },
    {
     "name": "stderr",
     "output_type": "stream",
     "text": [
      "\r",
      " 57%|█████▊    | 46/80 [00:39<00:28,  1.18it/s]"
     ]
    },
    {
     "name": "stdout",
     "output_type": "stream",
     "text": [
      "subject saved\n",
      "/Users/jurie.germishuys/Workspace/odf/koster-uw/database/koster_lab_development/tutorials/temp_frames/990810 TMBL-ROV 1999 Väderöarna Tape 46_frame_22800_6.jpg\n",
      "{'species_id': 6, 'movie_id': 52, 'filename': '990810 TMBL-ROV 1999 Väderöarna Tape 46.mov', 'siteName': 'Vader islands', 'created_on': '10/08/1999', 'Author': 'Gothenburg University', 'fps': 50.0, 'duration': 301.44, 'survey_start': 0, 'survey_end': 301.44}\n"
     ]
    },
    {
     "name": "stderr",
     "output_type": "stream",
     "text": [
      "\r",
      " 59%|█████▉    | 47/80 [00:40<00:27,  1.18it/s]"
     ]
    },
    {
     "name": "stdout",
     "output_type": "stream",
     "text": [
      "subject saved\n",
      "/Users/jurie.germishuys/Workspace/odf/koster-uw/database/koster_lab_development/tutorials/temp_frames/990810 TMBL-ROV 1999 Väderöarna Tape 46_frame_22850_6.jpg\n",
      "{'species_id': 6, 'movie_id': 52, 'filename': '990810 TMBL-ROV 1999 Väderöarna Tape 46.mov', 'siteName': 'Vader islands', 'created_on': '10/08/1999', 'Author': 'Gothenburg University', 'fps': 50.0, 'duration': 301.44, 'survey_start': 0, 'survey_end': 301.44}\n"
     ]
    },
    {
     "name": "stderr",
     "output_type": "stream",
     "text": [
      "\r",
      " 60%|██████    | 48/80 [00:41<00:27,  1.18it/s]"
     ]
    },
    {
     "name": "stdout",
     "output_type": "stream",
     "text": [
      "subject saved\n",
      "/Users/jurie.germishuys/Workspace/odf/koster-uw/database/koster_lab_development/tutorials/temp_frames/990810 TMBL-ROV 1999 Väderöarna Tape 46_frame_22900_6.jpg\n",
      "{'species_id': 6, 'movie_id': 52, 'filename': '990810 TMBL-ROV 1999 Väderöarna Tape 46.mov', 'siteName': 'Vader islands', 'created_on': '10/08/1999', 'Author': 'Gothenburg University', 'fps': 50.0, 'duration': 301.44, 'survey_start': 0, 'survey_end': 301.44}\n"
     ]
    },
    {
     "name": "stderr",
     "output_type": "stream",
     "text": [
      "\r",
      " 61%|██████▏   | 49/80 [00:41<00:26,  1.19it/s]"
     ]
    },
    {
     "name": "stdout",
     "output_type": "stream",
     "text": [
      "subject saved\n",
      "/Users/jurie.germishuys/Workspace/odf/koster-uw/database/koster_lab_development/tutorials/temp_frames/990810 TMBL-ROV 1999 Väderöarna Tape 46_frame_22950_6.jpg\n",
      "{'species_id': 6, 'movie_id': 52, 'filename': '990810 TMBL-ROV 1999 Väderöarna Tape 46.mov', 'siteName': 'Vader islands', 'created_on': '10/08/1999', 'Author': 'Gothenburg University', 'fps': 50.0, 'duration': 301.44, 'survey_start': 0, 'survey_end': 301.44}\n"
     ]
    },
    {
     "name": "stderr",
     "output_type": "stream",
     "text": [
      "\r",
      " 62%|██████▎   | 50/80 [00:42<00:25,  1.19it/s]"
     ]
    },
    {
     "name": "stdout",
     "output_type": "stream",
     "text": [
      "subject saved\n",
      "/Users/jurie.germishuys/Workspace/odf/koster-uw/database/koster_lab_development/tutorials/temp_frames/990810 TMBL-ROV 1999 Väderöarna Tape 46_frame_19500_6.jpg\n",
      "{'species_id': 6, 'movie_id': 52, 'filename': '990810 TMBL-ROV 1999 Väderöarna Tape 46.mov', 'siteName': 'Vader islands', 'created_on': '10/08/1999', 'Author': 'Gothenburg University', 'fps': 50.0, 'duration': 301.44, 'survey_start': 0, 'survey_end': 301.44}\n"
     ]
    },
    {
     "name": "stderr",
     "output_type": "stream",
     "text": [
      "\r",
      " 64%|██████▍   | 51/80 [00:43<00:24,  1.20it/s]"
     ]
    },
    {
     "name": "stdout",
     "output_type": "stream",
     "text": [
      "subject saved\n",
      "/Users/jurie.germishuys/Workspace/odf/koster-uw/database/koster_lab_development/tutorials/temp_frames/990810 TMBL-ROV 1999 Väderöarna Tape 46_frame_19550_6.jpg\n",
      "{'species_id': 6, 'movie_id': 52, 'filename': '990810 TMBL-ROV 1999 Väderöarna Tape 46.mov', 'siteName': 'Vader islands', 'created_on': '10/08/1999', 'Author': 'Gothenburg University', 'fps': 50.0, 'duration': 301.44, 'survey_start': 0, 'survey_end': 301.44}\n"
     ]
    },
    {
     "name": "stderr",
     "output_type": "stream",
     "text": [
      "\r",
      " 65%|██████▌   | 52/80 [00:44<00:23,  1.17it/s]"
     ]
    },
    {
     "name": "stdout",
     "output_type": "stream",
     "text": [
      "subject saved\n",
      "/Users/jurie.germishuys/Workspace/odf/koster-uw/database/koster_lab_development/tutorials/temp_frames/990810 TMBL-ROV 1999 Väderöarna Tape 46_frame_19600_6.jpg\n",
      "{'species_id': 6, 'movie_id': 52, 'filename': '990810 TMBL-ROV 1999 Väderöarna Tape 46.mov', 'siteName': 'Vader islands', 'created_on': '10/08/1999', 'Author': 'Gothenburg University', 'fps': 50.0, 'duration': 301.44, 'survey_start': 0, 'survey_end': 301.44}\n"
     ]
    },
    {
     "name": "stderr",
     "output_type": "stream",
     "text": [
      "\r",
      " 66%|██████▋   | 53/80 [00:45<00:23,  1.17it/s]"
     ]
    },
    {
     "name": "stdout",
     "output_type": "stream",
     "text": [
      "subject saved\n",
      "/Users/jurie.germishuys/Workspace/odf/koster-uw/database/koster_lab_development/tutorials/temp_frames/990810 TMBL-ROV 1999 Väderöarna Tape 46_frame_19650_6.jpg\n",
      "{'species_id': 6, 'movie_id': 52, 'filename': '990810 TMBL-ROV 1999 Väderöarna Tape 46.mov', 'siteName': 'Vader islands', 'created_on': '10/08/1999', 'Author': 'Gothenburg University', 'fps': 50.0, 'duration': 301.44, 'survey_start': 0, 'survey_end': 301.44}\n"
     ]
    },
    {
     "name": "stderr",
     "output_type": "stream",
     "text": [
      "\r",
      " 68%|██████▊   | 54/80 [00:46<00:22,  1.16it/s]"
     ]
    },
    {
     "name": "stdout",
     "output_type": "stream",
     "text": [
      "subject saved\n",
      "/Users/jurie.germishuys/Workspace/odf/koster-uw/database/koster_lab_development/tutorials/temp_frames/990810 TMBL-ROV 1999 Väderöarna Tape 46_frame_19700_6.jpg\n",
      "{'species_id': 6, 'movie_id': 52, 'filename': '990810 TMBL-ROV 1999 Väderöarna Tape 46.mov', 'siteName': 'Vader islands', 'created_on': '10/08/1999', 'Author': 'Gothenburg University', 'fps': 50.0, 'duration': 301.44, 'survey_start': 0, 'survey_end': 301.44}\n"
     ]
    },
    {
     "name": "stderr",
     "output_type": "stream",
     "text": [
      "\r",
      " 69%|██████▉   | 55/80 [00:47<00:21,  1.17it/s]"
     ]
    },
    {
     "name": "stdout",
     "output_type": "stream",
     "text": [
      "subject saved\n",
      "/Users/jurie.germishuys/Workspace/odf/koster-uw/database/koster_lab_development/tutorials/temp_frames/990810 TMBL-ROV 1999 Väderöarna Tape 46_frame_19750_6.jpg\n",
      "{'species_id': 6, 'movie_id': 52, 'filename': '990810 TMBL-ROV 1999 Väderöarna Tape 46.mov', 'siteName': 'Vader islands', 'created_on': '10/08/1999', 'Author': 'Gothenburg University', 'fps': 50.0, 'duration': 301.44, 'survey_start': 0, 'survey_end': 301.44}\n"
     ]
    },
    {
     "name": "stderr",
     "output_type": "stream",
     "text": [
      "\r",
      " 70%|███████   | 56/80 [00:47<00:20,  1.17it/s]"
     ]
    },
    {
     "name": "stdout",
     "output_type": "stream",
     "text": [
      "subject saved\n",
      "/Users/jurie.germishuys/Workspace/odf/koster-uw/database/koster_lab_development/tutorials/temp_frames/990810 TMBL-ROV 1999 Väderöarna Tape 46_frame_19800_6.jpg\n",
      "{'species_id': 6, 'movie_id': 52, 'filename': '990810 TMBL-ROV 1999 Väderöarna Tape 46.mov', 'siteName': 'Vader islands', 'created_on': '10/08/1999', 'Author': 'Gothenburg University', 'fps': 50.0, 'duration': 301.44, 'survey_start': 0, 'survey_end': 301.44}\n"
     ]
    },
    {
     "name": "stderr",
     "output_type": "stream",
     "text": [
      "\r",
      " 71%|███████▏  | 57/80 [00:48<00:19,  1.19it/s]"
     ]
    },
    {
     "name": "stdout",
     "output_type": "stream",
     "text": [
      "subject saved\n",
      "/Users/jurie.germishuys/Workspace/odf/koster-uw/database/koster_lab_development/tutorials/temp_frames/990810 TMBL-ROV 1999 Väderöarna Tape 46_frame_19850_6.jpg\n",
      "{'species_id': 6, 'movie_id': 52, 'filename': '990810 TMBL-ROV 1999 Väderöarna Tape 46.mov', 'siteName': 'Vader islands', 'created_on': '10/08/1999', 'Author': 'Gothenburg University', 'fps': 50.0, 'duration': 301.44, 'survey_start': 0, 'survey_end': 301.44}\n"
     ]
    },
    {
     "name": "stderr",
     "output_type": "stream",
     "text": [
      "\r",
      " 72%|███████▎  | 58/80 [00:49<00:19,  1.15it/s]"
     ]
    },
    {
     "name": "stdout",
     "output_type": "stream",
     "text": [
      "subject saved\n",
      "/Users/jurie.germishuys/Workspace/odf/koster-uw/database/koster_lab_development/tutorials/temp_frames/990810 TMBL-ROV 1999 Väderöarna Tape 46_frame_19900_6.jpg\n",
      "{'species_id': 6, 'movie_id': 52, 'filename': '990810 TMBL-ROV 1999 Väderöarna Tape 46.mov', 'siteName': 'Vader islands', 'created_on': '10/08/1999', 'Author': 'Gothenburg University', 'fps': 50.0, 'duration': 301.44, 'survey_start': 0, 'survey_end': 301.44}\n"
     ]
    },
    {
     "name": "stderr",
     "output_type": "stream",
     "text": [
      "\r",
      " 74%|███████▍  | 59/80 [00:50<00:17,  1.17it/s]"
     ]
    },
    {
     "name": "stdout",
     "output_type": "stream",
     "text": [
      "subject saved\n",
      "/Users/jurie.germishuys/Workspace/odf/koster-uw/database/koster_lab_development/tutorials/temp_frames/990810 TMBL-ROV 1999 Väderöarna Tape 46_frame_19950_6.jpg\n",
      "{'species_id': 6, 'movie_id': 52, 'filename': '990810 TMBL-ROV 1999 Väderöarna Tape 46.mov', 'siteName': 'Vader islands', 'created_on': '10/08/1999', 'Author': 'Gothenburg University', 'fps': 50.0, 'duration': 301.44, 'survey_start': 0, 'survey_end': 301.44}\n"
     ]
    },
    {
     "name": "stderr",
     "output_type": "stream",
     "text": [
      "\r",
      " 75%|███████▌  | 60/80 [00:51<00:16,  1.18it/s]"
     ]
    },
    {
     "name": "stdout",
     "output_type": "stream",
     "text": [
      "subject saved\n",
      "/Users/jurie.germishuys/Workspace/odf/koster-uw/database/koster_lab_development/tutorials/temp_frames/990810 TMBL-ROV 1999 Väderöarna Tape 46_frame_21000_6.jpg\n",
      "{'species_id': 6, 'movie_id': 52, 'filename': '990810 TMBL-ROV 1999 Väderöarna Tape 46.mov', 'siteName': 'Vader islands', 'created_on': '10/08/1999', 'Author': 'Gothenburg University', 'fps': 50.0, 'duration': 301.44, 'survey_start': 0, 'survey_end': 301.44}\n"
     ]
    },
    {
     "name": "stderr",
     "output_type": "stream",
     "text": [
      "\r",
      " 76%|███████▋  | 61/80 [00:52<00:16,  1.19it/s]"
     ]
    },
    {
     "name": "stdout",
     "output_type": "stream",
     "text": [
      "subject saved\n",
      "/Users/jurie.germishuys/Workspace/odf/koster-uw/database/koster_lab_development/tutorials/temp_frames/990810 TMBL-ROV 1999 Väderöarna Tape 46_frame_21050_6.jpg\n",
      "{'species_id': 6, 'movie_id': 52, 'filename': '990810 TMBL-ROV 1999 Väderöarna Tape 46.mov', 'siteName': 'Vader islands', 'created_on': '10/08/1999', 'Author': 'Gothenburg University', 'fps': 50.0, 'duration': 301.44, 'survey_start': 0, 'survey_end': 301.44}\n"
     ]
    },
    {
     "name": "stderr",
     "output_type": "stream",
     "text": [
      "\r",
      " 78%|███████▊  | 62/80 [00:53<00:15,  1.19it/s]"
     ]
    },
    {
     "name": "stdout",
     "output_type": "stream",
     "text": [
      "subject saved\n",
      "/Users/jurie.germishuys/Workspace/odf/koster-uw/database/koster_lab_development/tutorials/temp_frames/990810 TMBL-ROV 1999 Väderöarna Tape 46_frame_21100_6.jpg\n",
      "{'species_id': 6, 'movie_id': 52, 'filename': '990810 TMBL-ROV 1999 Väderöarna Tape 46.mov', 'siteName': 'Vader islands', 'created_on': '10/08/1999', 'Author': 'Gothenburg University', 'fps': 50.0, 'duration': 301.44, 'survey_start': 0, 'survey_end': 301.44}\n"
     ]
    },
    {
     "name": "stderr",
     "output_type": "stream",
     "text": [
      "\r",
      " 79%|███████▉  | 63/80 [00:53<00:14,  1.18it/s]"
     ]
    },
    {
     "name": "stdout",
     "output_type": "stream",
     "text": [
      "subject saved\n",
      "/Users/jurie.germishuys/Workspace/odf/koster-uw/database/koster_lab_development/tutorials/temp_frames/990810 TMBL-ROV 1999 Väderöarna Tape 46_frame_21150_6.jpg\n",
      "{'species_id': 6, 'movie_id': 52, 'filename': '990810 TMBL-ROV 1999 Väderöarna Tape 46.mov', 'siteName': 'Vader islands', 'created_on': '10/08/1999', 'Author': 'Gothenburg University', 'fps': 50.0, 'duration': 301.44, 'survey_start': 0, 'survey_end': 301.44}\n"
     ]
    },
    {
     "name": "stderr",
     "output_type": "stream",
     "text": [
      "\r",
      " 80%|████████  | 64/80 [00:54<00:13,  1.18it/s]"
     ]
    },
    {
     "name": "stdout",
     "output_type": "stream",
     "text": [
      "subject saved\n",
      "/Users/jurie.germishuys/Workspace/odf/koster-uw/database/koster_lab_development/tutorials/temp_frames/990810 TMBL-ROV 1999 Väderöarna Tape 46_frame_21200_6.jpg\n",
      "{'species_id': 6, 'movie_id': 52, 'filename': '990810 TMBL-ROV 1999 Väderöarna Tape 46.mov', 'siteName': 'Vader islands', 'created_on': '10/08/1999', 'Author': 'Gothenburg University', 'fps': 50.0, 'duration': 301.44, 'survey_start': 0, 'survey_end': 301.44}\n"
     ]
    },
    {
     "name": "stderr",
     "output_type": "stream",
     "text": [
      "\r",
      " 81%|████████▏ | 65/80 [00:55<00:12,  1.19it/s]"
     ]
    },
    {
     "name": "stdout",
     "output_type": "stream",
     "text": [
      "subject saved\n",
      "/Users/jurie.germishuys/Workspace/odf/koster-uw/database/koster_lab_development/tutorials/temp_frames/990810 TMBL-ROV 1999 Väderöarna Tape 46_frame_21250_6.jpg\n",
      "{'species_id': 6, 'movie_id': 52, 'filename': '990810 TMBL-ROV 1999 Väderöarna Tape 46.mov', 'siteName': 'Vader islands', 'created_on': '10/08/1999', 'Author': 'Gothenburg University', 'fps': 50.0, 'duration': 301.44, 'survey_start': 0, 'survey_end': 301.44}\n"
     ]
    },
    {
     "name": "stderr",
     "output_type": "stream",
     "text": [
      "\r",
      " 82%|████████▎ | 66/80 [00:56<00:11,  1.19it/s]"
     ]
    },
    {
     "name": "stdout",
     "output_type": "stream",
     "text": [
      "subject saved\n",
      "/Users/jurie.germishuys/Workspace/odf/koster-uw/database/koster_lab_development/tutorials/temp_frames/990810 TMBL-ROV 1999 Väderöarna Tape 46_frame_21300_6.jpg\n",
      "{'species_id': 6, 'movie_id': 52, 'filename': '990810 TMBL-ROV 1999 Väderöarna Tape 46.mov', 'siteName': 'Vader islands', 'created_on': '10/08/1999', 'Author': 'Gothenburg University', 'fps': 50.0, 'duration': 301.44, 'survey_start': 0, 'survey_end': 301.44}\n"
     ]
    },
    {
     "name": "stderr",
     "output_type": "stream",
     "text": [
      "\r",
      " 84%|████████▍ | 67/80 [00:57<00:10,  1.19it/s]"
     ]
    },
    {
     "name": "stdout",
     "output_type": "stream",
     "text": [
      "subject saved\n",
      "/Users/jurie.germishuys/Workspace/odf/koster-uw/database/koster_lab_development/tutorials/temp_frames/990810 TMBL-ROV 1999 Väderöarna Tape 46_frame_21350_6.jpg\n",
      "{'species_id': 6, 'movie_id': 52, 'filename': '990810 TMBL-ROV 1999 Väderöarna Tape 46.mov', 'siteName': 'Vader islands', 'created_on': '10/08/1999', 'Author': 'Gothenburg University', 'fps': 50.0, 'duration': 301.44, 'survey_start': 0, 'survey_end': 301.44}\n"
     ]
    },
    {
     "name": "stderr",
     "output_type": "stream",
     "text": [
      "\r",
      " 85%|████████▌ | 68/80 [00:58<00:10,  1.20it/s]"
     ]
    },
    {
     "name": "stdout",
     "output_type": "stream",
     "text": [
      "subject saved\n",
      "/Users/jurie.germishuys/Workspace/odf/koster-uw/database/koster_lab_development/tutorials/temp_frames/990810 TMBL-ROV 1999 Väderöarna Tape 46_frame_21400_6.jpg\n",
      "{'species_id': 6, 'movie_id': 52, 'filename': '990810 TMBL-ROV 1999 Väderöarna Tape 46.mov', 'siteName': 'Vader islands', 'created_on': '10/08/1999', 'Author': 'Gothenburg University', 'fps': 50.0, 'duration': 301.44, 'survey_start': 0, 'survey_end': 301.44}\n"
     ]
    },
    {
     "name": "stderr",
     "output_type": "stream",
     "text": [
      "\r",
      " 86%|████████▋ | 69/80 [00:58<00:09,  1.20it/s]"
     ]
    },
    {
     "name": "stdout",
     "output_type": "stream",
     "text": [
      "subject saved\n",
      "/Users/jurie.germishuys/Workspace/odf/koster-uw/database/koster_lab_development/tutorials/temp_frames/990810 TMBL-ROV 1999 Väderöarna Tape 46_frame_21450_6.jpg\n",
      "{'species_id': 6, 'movie_id': 52, 'filename': '990810 TMBL-ROV 1999 Väderöarna Tape 46.mov', 'siteName': 'Vader islands', 'created_on': '10/08/1999', 'Author': 'Gothenburg University', 'fps': 50.0, 'duration': 301.44, 'survey_start': 0, 'survey_end': 301.44}\n"
     ]
    },
    {
     "name": "stderr",
     "output_type": "stream",
     "text": [
      "\r",
      " 88%|████████▊ | 70/80 [00:59<00:08,  1.21it/s]"
     ]
    },
    {
     "name": "stdout",
     "output_type": "stream",
     "text": [
      "subject saved\n",
      "/Users/jurie.germishuys/Workspace/odf/koster-uw/database/koster_lab_development/tutorials/temp_frames/990810 TMBL-ROV 1999 Väderöarna Tape 46_frame_24000_6.jpg\n",
      "{'species_id': 6, 'movie_id': 52, 'filename': '990810 TMBL-ROV 1999 Väderöarna Tape 46.mov', 'siteName': 'Vader islands', 'created_on': '10/08/1999', 'Author': 'Gothenburg University', 'fps': 50.0, 'duration': 301.44, 'survey_start': 0, 'survey_end': 301.44}\n"
     ]
    },
    {
     "name": "stderr",
     "output_type": "stream",
     "text": [
      "\r",
      " 89%|████████▉ | 71/80 [01:00<00:07,  1.21it/s]"
     ]
    },
    {
     "name": "stdout",
     "output_type": "stream",
     "text": [
      "subject saved\n",
      "/Users/jurie.germishuys/Workspace/odf/koster-uw/database/koster_lab_development/tutorials/temp_frames/990810 TMBL-ROV 1999 Väderöarna Tape 46_frame_24050_6.jpg\n",
      "{'species_id': 6, 'movie_id': 52, 'filename': '990810 TMBL-ROV 1999 Väderöarna Tape 46.mov', 'siteName': 'Vader islands', 'created_on': '10/08/1999', 'Author': 'Gothenburg University', 'fps': 50.0, 'duration': 301.44, 'survey_start': 0, 'survey_end': 301.44}\n"
     ]
    },
    {
     "name": "stderr",
     "output_type": "stream",
     "text": [
      "\r",
      " 90%|█████████ | 72/80 [01:01<00:06,  1.20it/s]"
     ]
    },
    {
     "name": "stdout",
     "output_type": "stream",
     "text": [
      "subject saved\n",
      "/Users/jurie.germishuys/Workspace/odf/koster-uw/database/koster_lab_development/tutorials/temp_frames/990810 TMBL-ROV 1999 Väderöarna Tape 46_frame_24100_6.jpg\n",
      "{'species_id': 6, 'movie_id': 52, 'filename': '990810 TMBL-ROV 1999 Väderöarna Tape 46.mov', 'siteName': 'Vader islands', 'created_on': '10/08/1999', 'Author': 'Gothenburg University', 'fps': 50.0, 'duration': 301.44, 'survey_start': 0, 'survey_end': 301.44}\n"
     ]
    },
    {
     "name": "stderr",
     "output_type": "stream",
     "text": [
      "\r",
      " 91%|█████████▏| 73/80 [01:02<00:05,  1.20it/s]"
     ]
    },
    {
     "name": "stdout",
     "output_type": "stream",
     "text": [
      "subject saved\n",
      "/Users/jurie.germishuys/Workspace/odf/koster-uw/database/koster_lab_development/tutorials/temp_frames/990810 TMBL-ROV 1999 Väderöarna Tape 46_frame_24150_6.jpg\n",
      "{'species_id': 6, 'movie_id': 52, 'filename': '990810 TMBL-ROV 1999 Väderöarna Tape 46.mov', 'siteName': 'Vader islands', 'created_on': '10/08/1999', 'Author': 'Gothenburg University', 'fps': 50.0, 'duration': 301.44, 'survey_start': 0, 'survey_end': 301.44}\n"
     ]
    },
    {
     "name": "stderr",
     "output_type": "stream",
     "text": [
      "\r",
      " 92%|█████████▎| 74/80 [01:03<00:04,  1.20it/s]"
     ]
    },
    {
     "name": "stdout",
     "output_type": "stream",
     "text": [
      "subject saved\n",
      "/Users/jurie.germishuys/Workspace/odf/koster-uw/database/koster_lab_development/tutorials/temp_frames/990810 TMBL-ROV 1999 Väderöarna Tape 46_frame_24200_6.jpg\n",
      "{'species_id': 6, 'movie_id': 52, 'filename': '990810 TMBL-ROV 1999 Väderöarna Tape 46.mov', 'siteName': 'Vader islands', 'created_on': '10/08/1999', 'Author': 'Gothenburg University', 'fps': 50.0, 'duration': 301.44, 'survey_start': 0, 'survey_end': 301.44}\n"
     ]
    },
    {
     "name": "stderr",
     "output_type": "stream",
     "text": [
      "\r",
      " 94%|█████████▍| 75/80 [01:03<00:04,  1.20it/s]"
     ]
    },
    {
     "name": "stdout",
     "output_type": "stream",
     "text": [
      "subject saved\n",
      "/Users/jurie.germishuys/Workspace/odf/koster-uw/database/koster_lab_development/tutorials/temp_frames/990810 TMBL-ROV 1999 Väderöarna Tape 46_frame_24250_6.jpg\n",
      "{'species_id': 6, 'movie_id': 52, 'filename': '990810 TMBL-ROV 1999 Väderöarna Tape 46.mov', 'siteName': 'Vader islands', 'created_on': '10/08/1999', 'Author': 'Gothenburg University', 'fps': 50.0, 'duration': 301.44, 'survey_start': 0, 'survey_end': 301.44}\n"
     ]
    },
    {
     "name": "stderr",
     "output_type": "stream",
     "text": [
      "\r",
      " 95%|█████████▌| 76/80 [01:04<00:03,  1.20it/s]"
     ]
    },
    {
     "name": "stdout",
     "output_type": "stream",
     "text": [
      "subject saved\n",
      "/Users/jurie.germishuys/Workspace/odf/koster-uw/database/koster_lab_development/tutorials/temp_frames/990810 TMBL-ROV 1999 Väderöarna Tape 46_frame_24300_6.jpg\n",
      "{'species_id': 6, 'movie_id': 52, 'filename': '990810 TMBL-ROV 1999 Väderöarna Tape 46.mov', 'siteName': 'Vader islands', 'created_on': '10/08/1999', 'Author': 'Gothenburg University', 'fps': 50.0, 'duration': 301.44, 'survey_start': 0, 'survey_end': 301.44}\n"
     ]
    },
    {
     "name": "stderr",
     "output_type": "stream",
     "text": [
      "\r",
      " 96%|█████████▋| 77/80 [01:05<00:02,  1.20it/s]"
     ]
    },
    {
     "name": "stdout",
     "output_type": "stream",
     "text": [
      "subject saved\n",
      "/Users/jurie.germishuys/Workspace/odf/koster-uw/database/koster_lab_development/tutorials/temp_frames/990810 TMBL-ROV 1999 Väderöarna Tape 46_frame_24350_6.jpg\n",
      "{'species_id': 6, 'movie_id': 52, 'filename': '990810 TMBL-ROV 1999 Väderöarna Tape 46.mov', 'siteName': 'Vader islands', 'created_on': '10/08/1999', 'Author': 'Gothenburg University', 'fps': 50.0, 'duration': 301.44, 'survey_start': 0, 'survey_end': 301.44}\n"
     ]
    },
    {
     "name": "stderr",
     "output_type": "stream",
     "text": [
      "\r",
      " 98%|█████████▊| 78/80 [01:06<00:01,  1.20it/s]"
     ]
    },
    {
     "name": "stdout",
     "output_type": "stream",
     "text": [
      "subject saved\n",
      "/Users/jurie.germishuys/Workspace/odf/koster-uw/database/koster_lab_development/tutorials/temp_frames/990810 TMBL-ROV 1999 Väderöarna Tape 46_frame_24400_6.jpg\n",
      "{'species_id': 6, 'movie_id': 52, 'filename': '990810 TMBL-ROV 1999 Väderöarna Tape 46.mov', 'siteName': 'Vader islands', 'created_on': '10/08/1999', 'Author': 'Gothenburg University', 'fps': 50.0, 'duration': 301.44, 'survey_start': 0, 'survey_end': 301.44}\n"
     ]
    },
    {
     "name": "stderr",
     "output_type": "stream",
     "text": [
      "\r",
      " 99%|█████████▉| 79/80 [01:07<00:00,  1.20it/s]"
     ]
    },
    {
     "name": "stdout",
     "output_type": "stream",
     "text": [
      "subject saved\n",
      "/Users/jurie.germishuys/Workspace/odf/koster-uw/database/koster_lab_development/tutorials/temp_frames/990810 TMBL-ROV 1999 Väderöarna Tape 46_frame_24450_6.jpg\n",
      "{'species_id': 6, 'movie_id': 52, 'filename': '990810 TMBL-ROV 1999 Väderöarna Tape 46.mov', 'siteName': 'Vader islands', 'created_on': '10/08/1999', 'Author': 'Gothenburg University', 'fps': 50.0, 'duration': 301.44, 'survey_start': 0, 'survey_end': 301.44}\n"
     ]
    },
    {
     "name": "stderr",
     "output_type": "stream",
     "text": [
      "100%|██████████| 80/80 [01:08<00:00,  1.16it/s]"
     ]
    },
    {
     "name": "stdout",
     "output_type": "stream",
     "text": [
      "subject saved\n"
     ]
    },
    {
     "name": "stderr",
     "output_type": "stream",
     "text": [
      "\n"
     ]
    },
    {
     "name": "stdout",
     "output_type": "stream",
     "text": [
      "Subjects uploaded to Zooniverse\n"
     ]
    }
   ],
   "source": [
    "t5.upload_frames_to_zooniverse(upload_to_zoo = upload_to_zoo, \n",
    "                              sitename = sitename,\n",
    "                              species_list = species_i.value,\n",
    "                              created_on = created_on,\n",
    "                              project = str(zoo_info_dict[\"subjects\"][\"project_id\"].unique()[0]))\n",
    "\n",
    "#END"
   ]
  },
  {
   "cell_type": "code",
   "execution_count": null,
   "id": "permanent-terminology",
   "metadata": {},
   "outputs": [],
   "source": []
  }
 ],
 "metadata": {
  "kernelspec": {
   "display_name": "odf",
   "language": "python",
   "name": "odf"
  },
  "language_info": {
   "codemirror_mode": {
    "name": "ipython",
    "version": 3
   },
   "file_extension": ".py",
   "mimetype": "text/x-python",
   "name": "python",
   "nbconvert_exporter": "python",
   "pygments_lexer": "ipython3",
   "version": "3.8.8"
  }
 },
 "nbformat": 4,
 "nbformat_minor": 5
}
