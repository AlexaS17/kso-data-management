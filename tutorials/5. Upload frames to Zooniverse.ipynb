{
 "cells": [
  {
   "cell_type": "markdown",
   "id": "b169b8d0",
   "metadata": {},
   "source": [
    "<img align=\"left\" src=\"https://panoptes-uploads.zooniverse.org/project_avatar/86c23ca7-bbaa-4e84-8d8a-876819551431.png\" type=\"image/png\" height=100 width=100>\n",
    "</img>\n",
    "<h1 align=\"right\">KSO Tutorials #5: Add new frames to a Zooniverse workflow</h1>\n",
    "<h3 align=\"right\">Written by @jannesgg and @vykanton</h3>\n",
    "<h5 align=\"right\">Last updated: Nov 29th, 2021</h5>"
   ]
  },
  {
   "cell_type": "markdown",
   "id": "3ee20d67",
   "metadata": {},
   "source": [
    "# Set up and requirements"
   ]
  },
  {
   "cell_type": "markdown",
   "id": "896f0873",
   "metadata": {},
   "source": [
    "### Import Python packages"
   ]
  },
  {
   "cell_type": "code",
   "execution_count": 1,
   "id": "cheap-madness",
   "metadata": {},
   "outputs": [],
   "source": [
    "%load_ext autoreload\n",
    "%autoreload 2"
   ]
  },
  {
   "cell_type": "code",
   "execution_count": 4,
   "id": "5451cddf",
   "metadata": {},
   "outputs": [
    {
     "data": {
      "application/javascript": [
       "require.config({\n",
       "    paths: {\n",
       "        datatables: 'https://cdn.datatables.net/1.10.19/js/jquery.dataTables.min',\n",
       "    }\n",
       "});\n",
       "\n",
       "$('head').append('<link rel=\"stylesheet\" type=\"text/css\" \\\n",
       "                href = \"https://cdn.datatables.net/1.10.19/css/jquery.dataTables.min.css\" > ');\n",
       "\n",
       "$('head').append('<style> table td { text-overflow: ellipsis; overflow: hidden; } </style>');\n",
       "\n",
       "$('head').append(`<script>\n",
       "function eval_functions(map_or_text) {\n",
       "    if (typeof map_or_text === \"string\") {\n",
       "        if (map_or_text.startsWith(\"function\")) {\n",
       "            try {\n",
       "                // Note: parenthesis are required around the whole expression for eval to return a value!\n",
       "                // See https://stackoverflow.com/a/7399078/911298.\n",
       "                //\n",
       "                // eval(\"local_fun = \" + map_or_text) would fail because local_fun is not declared\n",
       "                // (using var, let or const would work, but it would only be declared in the local scope\n",
       "                // and therefore the value could not be retrieved).\n",
       "                const func = eval(\"(\" + map_or_text + \")\");\n",
       "                if (typeof func !== \"function\") {\n",
       "                    // Note: backquotes are super convenient!\n",
       "                    // https://developer.mozilla.org/en-US/docs/Web/JavaScript/Reference/Template_literals\n",
       "                    console.error(\"Evaluated expression \" + map_or_text + \" is not a function (type is \" + typeof func + \")\");\n",
       "                    return map_or_text;\n",
       "                }\n",
       "                // Return the function\n",
       "                return func;\n",
       "            } catch (e) {\n",
       "                // Make sure to print the error with a second argument to console.error().\n",
       "                console.error(\"itables was not able to parse \" + map_or_text, e);\n",
       "            }\n",
       "        }\n",
       "    } else if (typeof map_or_text === \"object\") {\n",
       "        if (map_or_text instanceof Array) {\n",
       "            // Note: \"var\" is now superseded by \"let\" and \"const\".\n",
       "            // https://medium.com/javascript-scene/javascript-es6-var-let-or-const-ba58b8dcde75\n",
       "            const result = [];\n",
       "            // Note: \"for of\" is the best way to iterate through an iterable.\n",
       "            // https://developer.mozilla.org/en-US/docs/Web/JavaScript/Reference/Statements/for...of\n",
       "            for (const item of map_or_text) {\n",
       "                result.push(eval_functions(item));\n",
       "            }\n",
       "            return result;\n",
       "\n",
       "            // Alternatively, more functional approach in one line:\n",
       "            // return map_or_text.map(eval_functions);\n",
       "        } else {\n",
       "            const result = {};\n",
       "            // Object.keys() is safer than \"for in\" because otherwise you might have keys\n",
       "            // that aren't defined in the object itself.\n",
       "            //\n",
       "            // See https://stackoverflow.com/a/684692/911298.\n",
       "            for (const item of Object.keys(map_or_text)) {\n",
       "                result[item] = eval_functions(map_or_text[item]);\n",
       "            }\n",
       "            return result;\n",
       "        }\n",
       "    }\n",
       "\n",
       "    return map_or_text;\n",
       "}\n",
       "\n",
       "</` + 'script>');"
      ],
      "text/plain": [
       "<IPython.core.display.Javascript object>"
      ]
     },
     "metadata": {},
     "output_type": "display_data"
    },
    {
     "name": "stdout",
     "output_type": "stream",
     "text": [
      "Packages loaded successfully\n"
     ]
    }
   ],
   "source": [
    "# Set the directory of the libraries\n",
    "import sys\n",
    "sys.path.append('..')\n",
    "\n",
    "# Set to display dataframes as interactive tables\n",
    "from itables import init_notebook_mode\n",
    "init_notebook_mode(all_interactive=True)\n",
    "\n",
    "# Import required modules\n",
    "import kso_utils.tutorials_utils as t_utils\n",
    "import kso_utils.t5_utils as t5\n",
    "import kso_utils.zooniverse_utils as zoo\n",
    "\n",
    "print(\"Packages loaded successfully\")"
   ]
  },
  {
   "cell_type": "markdown",
   "id": "ed55216d",
   "metadata": {},
   "source": [
    "### Choose your project"
   ]
  },
  {
   "cell_type": "code",
   "execution_count": 5,
   "id": "b1ae7b58",
   "metadata": {},
   "outputs": [
    {
     "data": {
      "application/vnd.jupyter.widget-view+json": {
       "model_id": "c30a369237fd4b9f9b7b9869ac16b650",
       "version_major": 2,
       "version_minor": 0
      },
      "text/plain": [
       "Dropdown(description='Project:', options=('Koster_Seafloor_Obs', 'Spyfish_Aotearoa', 'SGU'), value='Koster_Sea…"
      ]
     },
     "metadata": {},
     "output_type": "display_data"
    }
   ],
   "source": [
    "project = t_utils.choose_project()"
   ]
  },
  {
   "cell_type": "markdown",
   "id": "39f5065c",
   "metadata": {},
   "source": [
    "### Initiate sql and zoo project"
   ]
  },
  {
   "cell_type": "code",
   "execution_count": 20,
   "id": "8a7abc2f",
   "metadata": {
    "scrolled": true
   },
   "outputs": [
    {
     "name": "stdout",
     "output_type": "stream",
     "text": [
      "{'sites_csv': PosixPath('../db_starter/db_csv_info/koster_initial_information/sites_koster.csv'), 'movies_csv': PosixPath('../db_starter/db_csv_info/koster_initial_information/movies_koster.csv'), 'species_csv': PosixPath('../db_starter/db_csv_info/koster_initial_information/species_koster.csv')}\n",
      "Updated sites\n"
     ]
    },
    {
     "ename": "KeyError",
     "evalue": "\"['Fpath'] not in index\"",
     "output_type": "error",
     "traceback": [
      "\u001b[0;31m-----------------------------------------------\u001b[0m",
      "\u001b[0;31mKeyError\u001b[0m      Traceback (most recent call last)",
      "\u001b[0;32m<ipython-input-20-fd1859ec7b66>\u001b[0m in \u001b[0;36m<module>\u001b[0;34m\u001b[0m\n\u001b[1;32m      1\u001b[0m \u001b[0;31m# Initiate db\u001b[0m\u001b[0;34m\u001b[0m\u001b[0;34m\u001b[0m\u001b[0;34m\u001b[0m\u001b[0m\n\u001b[0;32m----> 2\u001b[0;31m \u001b[0mdb_info_dict\u001b[0m \u001b[0;34m=\u001b[0m \u001b[0mt_utils\u001b[0m\u001b[0;34m.\u001b[0m\u001b[0minitiate_db\u001b[0m\u001b[0;34m(\u001b[0m\u001b[0mproject\u001b[0m\u001b[0;34m.\u001b[0m\u001b[0mvalue\u001b[0m\u001b[0;34m)\u001b[0m\u001b[0;34m\u001b[0m\u001b[0;34m\u001b[0m\u001b[0m\n\u001b[0m",
      "\u001b[0;32m~/Workspace/odf/koster-uw/database/koster_lab_development/kso_utils/tutorials_utils.py\u001b[0m in \u001b[0;36minitiate_db\u001b[0;34m(project_name)\u001b[0m\n\u001b[1;32m     57\u001b[0m \u001b[0;34m\u001b[0m\u001b[0m\n\u001b[1;32m     58\u001b[0m     \u001b[0;31m# Populate the movies info\u001b[0m\u001b[0;34m\u001b[0m\u001b[0;34m\u001b[0m\u001b[0;34m\u001b[0m\u001b[0m\n\u001b[0;32m---> 59\u001b[0;31m     \u001b[0mdb_utils\u001b[0m\u001b[0;34m.\u001b[0m\u001b[0madd_movies\u001b[0m\u001b[0;34m(\u001b[0m\u001b[0mdb_initial_info\u001b[0m\u001b[0;34m[\u001b[0m\u001b[0;34m\"movies_csv\"\u001b[0m\u001b[0;34m]\u001b[0m\u001b[0;34m,\u001b[0m \u001b[0mproject_name\u001b[0m\u001b[0;34m,\u001b[0m \u001b[0mdb_path\u001b[0m\u001b[0;34m)\u001b[0m\u001b[0;34m\u001b[0m\u001b[0;34m\u001b[0m\u001b[0m\n\u001b[0m\u001b[1;32m     60\u001b[0m \u001b[0;34m\u001b[0m\u001b[0m\n\u001b[1;32m     61\u001b[0m     \u001b[0;31m# Populate the species info\u001b[0m\u001b[0;34m\u001b[0m\u001b[0;34m\u001b[0m\u001b[0;34m\u001b[0m\u001b[0m\n",
      "\u001b[0;32m~/Workspace/odf/koster-uw/database/koster_lab_development/kso_utils/db_utils.py\u001b[0m in \u001b[0;36madd_movies\u001b[0;34m(movies_csv, project_name, db_path)\u001b[0m\n\u001b[1;32m    232\u001b[0m \u001b[0;34m\u001b[0m\u001b[0m\n\u001b[1;32m    233\u001b[0m     \u001b[0;31m# Select only those fields of interest\u001b[0m\u001b[0;34m\u001b[0m\u001b[0;34m\u001b[0m\u001b[0;34m\u001b[0m\u001b[0m\n\u001b[0;32m--> 234\u001b[0;31m     movies_db = movies_df[\n\u001b[0m\u001b[1;32m    235\u001b[0m         \u001b[0;34m[\u001b[0m\u001b[0;34m\"movie_id\"\u001b[0m\u001b[0;34m,\u001b[0m \u001b[0;34m\"filename\"\u001b[0m\u001b[0;34m,\u001b[0m \u001b[0;34m\"created_on\"\u001b[0m\u001b[0;34m,\u001b[0m \u001b[0;34m\"fps\"\u001b[0m\u001b[0;34m,\u001b[0m \u001b[0;34m\"duration\"\u001b[0m\u001b[0;34m,\u001b[0m \u001b[0;34m\"survey_start\"\u001b[0m\u001b[0;34m,\u001b[0m \u001b[0;34m\"survey_end\"\u001b[0m\u001b[0;34m,\u001b[0m \u001b[0;34m\"Author\"\u001b[0m\u001b[0;34m,\u001b[0m \u001b[0;34m\"Site_id\"\u001b[0m\u001b[0;34m,\u001b[0m \u001b[0;34m\"Fpath\"\u001b[0m\u001b[0;34m]\u001b[0m\u001b[0;34m\u001b[0m\u001b[0;34m\u001b[0m\u001b[0m\n\u001b[1;32m    236\u001b[0m     ]\n",
      "\u001b[0;32m~/miniforge_x86_64/envs/odf/lib/python3.8/site-packages/pandas/core/frame.py\u001b[0m in \u001b[0;36m__getitem__\u001b[0;34m(self, key)\u001b[0m\n\u001b[1;32m   3459\u001b[0m             \u001b[0;32mif\u001b[0m \u001b[0mis_iterator\u001b[0m\u001b[0;34m(\u001b[0m\u001b[0mkey\u001b[0m\u001b[0;34m)\u001b[0m\u001b[0;34m:\u001b[0m\u001b[0;34m\u001b[0m\u001b[0;34m\u001b[0m\u001b[0m\n\u001b[1;32m   3460\u001b[0m                 \u001b[0mkey\u001b[0m \u001b[0;34m=\u001b[0m \u001b[0mlist\u001b[0m\u001b[0;34m(\u001b[0m\u001b[0mkey\u001b[0m\u001b[0;34m)\u001b[0m\u001b[0;34m\u001b[0m\u001b[0;34m\u001b[0m\u001b[0m\n\u001b[0;32m-> 3461\u001b[0;31m             \u001b[0mindexer\u001b[0m \u001b[0;34m=\u001b[0m \u001b[0mself\u001b[0m\u001b[0;34m.\u001b[0m\u001b[0mloc\u001b[0m\u001b[0;34m.\u001b[0m\u001b[0m_get_listlike_indexer\u001b[0m\u001b[0;34m(\u001b[0m\u001b[0mkey\u001b[0m\u001b[0;34m,\u001b[0m \u001b[0maxis\u001b[0m\u001b[0;34m=\u001b[0m\u001b[0;36m1\u001b[0m\u001b[0;34m)\u001b[0m\u001b[0;34m[\u001b[0m\u001b[0;36m1\u001b[0m\u001b[0;34m]\u001b[0m\u001b[0;34m\u001b[0m\u001b[0;34m\u001b[0m\u001b[0m\n\u001b[0m\u001b[1;32m   3462\u001b[0m \u001b[0;34m\u001b[0m\u001b[0m\n\u001b[1;32m   3463\u001b[0m         \u001b[0;31m# take() does not accept boolean indexers\u001b[0m\u001b[0;34m\u001b[0m\u001b[0;34m\u001b[0m\u001b[0;34m\u001b[0m\u001b[0m\n",
      "\u001b[0;32m~/miniforge_x86_64/envs/odf/lib/python3.8/site-packages/pandas/core/indexing.py\u001b[0m in \u001b[0;36m_get_listlike_indexer\u001b[0;34m(self, key, axis)\u001b[0m\n\u001b[1;32m   1312\u001b[0m             \u001b[0mkeyarr\u001b[0m\u001b[0;34m,\u001b[0m \u001b[0mindexer\u001b[0m\u001b[0;34m,\u001b[0m \u001b[0mnew_indexer\u001b[0m \u001b[0;34m=\u001b[0m \u001b[0max\u001b[0m\u001b[0;34m.\u001b[0m\u001b[0m_reindex_non_unique\u001b[0m\u001b[0;34m(\u001b[0m\u001b[0mkeyarr\u001b[0m\u001b[0;34m)\u001b[0m\u001b[0;34m\u001b[0m\u001b[0;34m\u001b[0m\u001b[0m\n\u001b[1;32m   1313\u001b[0m \u001b[0;34m\u001b[0m\u001b[0m\n\u001b[0;32m-> 1314\u001b[0;31m         \u001b[0mself\u001b[0m\u001b[0;34m.\u001b[0m\u001b[0m_validate_read_indexer\u001b[0m\u001b[0;34m(\u001b[0m\u001b[0mkeyarr\u001b[0m\u001b[0;34m,\u001b[0m \u001b[0mindexer\u001b[0m\u001b[0;34m,\u001b[0m \u001b[0maxis\u001b[0m\u001b[0;34m)\u001b[0m\u001b[0;34m\u001b[0m\u001b[0;34m\u001b[0m\u001b[0m\n\u001b[0m\u001b[1;32m   1315\u001b[0m \u001b[0;34m\u001b[0m\u001b[0m\n\u001b[1;32m   1316\u001b[0m         if needs_i8_conversion(ax.dtype) or isinstance(\n",
      "\u001b[0;32m~/miniforge_x86_64/envs/odf/lib/python3.8/site-packages/pandas/core/indexing.py\u001b[0m in \u001b[0;36m_validate_read_indexer\u001b[0;34m(self, key, indexer, axis)\u001b[0m\n\u001b[1;32m   1375\u001b[0m \u001b[0;34m\u001b[0m\u001b[0m\n\u001b[1;32m   1376\u001b[0m             \u001b[0mnot_found\u001b[0m \u001b[0;34m=\u001b[0m \u001b[0mlist\u001b[0m\u001b[0;34m(\u001b[0m\u001b[0mensure_index\u001b[0m\u001b[0;34m(\u001b[0m\u001b[0mkey\u001b[0m\u001b[0;34m)\u001b[0m\u001b[0;34m[\u001b[0m\u001b[0mmissing_mask\u001b[0m\u001b[0;34m.\u001b[0m\u001b[0mnonzero\u001b[0m\u001b[0;34m(\u001b[0m\u001b[0;34m)\u001b[0m\u001b[0;34m[\u001b[0m\u001b[0;36m0\u001b[0m\u001b[0;34m]\u001b[0m\u001b[0;34m]\u001b[0m\u001b[0;34m.\u001b[0m\u001b[0munique\u001b[0m\u001b[0;34m(\u001b[0m\u001b[0;34m)\u001b[0m\u001b[0;34m)\u001b[0m\u001b[0;34m\u001b[0m\u001b[0;34m\u001b[0m\u001b[0m\n\u001b[0;32m-> 1377\u001b[0;31m             \u001b[0;32mraise\u001b[0m \u001b[0mKeyError\u001b[0m\u001b[0;34m(\u001b[0m\u001b[0;34mf\"{not_found} not in index\"\u001b[0m\u001b[0;34m)\u001b[0m\u001b[0;34m\u001b[0m\u001b[0;34m\u001b[0m\u001b[0m\n\u001b[0m\u001b[1;32m   1378\u001b[0m \u001b[0;34m\u001b[0m\u001b[0m\n\u001b[1;32m   1379\u001b[0m \u001b[0;34m\u001b[0m\u001b[0m\n",
      "\u001b[0;31mKeyError\u001b[0m: \"['Fpath'] not in index\""
     ]
    }
   ],
   "source": [
    "# Initiate db\n",
    "db_info_dict = t_utils.initiate_db(project.value)"
   ]
  },
  {
   "cell_type": "code",
   "execution_count": 7,
   "id": "10b4aa16",
   "metadata": {
    "scrolled": true
   },
   "outputs": [
    {
     "name": "stdout",
     "output_type": "stream",
     "text": [
      "Enter your Zooniverse user········\n",
      "Enter your Zooniverse password········\n"
     ]
    }
   ],
   "source": [
    "# Connect to Zooniverse project\n",
    "zoo_project = t_utils.connect_zoo_project(project.value)"
   ]
  },
  {
   "cell_type": "markdown",
   "id": "50bac6cf",
   "metadata": {},
   "source": [
    "# Retrieve info about zooniverse clips"
   ]
  },
  {
   "cell_type": "code",
   "execution_count": 8,
   "id": "0c2d059b",
   "metadata": {},
   "outputs": [
    {
     "name": "stdout",
     "output_type": "stream",
     "text": [
      "Retrieving subjects from Zooniverse\n",
      "subjects were retrieved successfully\n",
      "Updated subjects\n",
      "The database has a total of 2342 frame subjects and 7362 clip subjects have been updated\n"
     ]
    }
   ],
   "source": [
    "zoo_info_dict = t_utils.retrieve__populate_zoo_info(project_name = project.value, \n",
    "                                                    db_info_dict = db_info_dict,\n",
    "                                                    zoo_project = zoo_project,\n",
    "                                                    zoo_info = [\"subjects\"])"
   ]
  },
  {
   "cell_type": "markdown",
   "id": "5f82c5ce",
   "metadata": {},
   "source": [
    "# Retrieve frames"
   ]
  },
  {
   "cell_type": "markdown",
   "id": "a749e31a",
   "metadata": {},
   "source": [
    "## Select the species of interest"
   ]
  },
  {
   "cell_type": "code",
   "execution_count": 9,
   "id": "56e27ea6",
   "metadata": {},
   "outputs": [
    {
     "data": {
      "application/vnd.jupyter.widget-view+json": {
       "model_id": "a5b004174d3b470eb619329001f11689",
       "version_major": 2,
       "version_minor": 0
      },
      "text/plain": [
       "SelectMultiple(description='Species', index=(0,), options=('Angular crab', 'Ascidians (any species)', 'Bivalve…"
      ]
     },
     "metadata": {},
     "output_type": "display_data"
    }
   ],
   "source": [
    "# Specify the species of interest\n",
    "species_i = t5.choose_species(db_info_dict[\"db_path\"])"
   ]
  },
  {
   "cell_type": "markdown",
   "id": "8812e34c",
   "metadata": {},
   "source": [
    "### Specify the way frames will be accessed"
   ]
  },
  {
   "cell_type": "code",
   "execution_count": 14,
   "id": "responsible-biodiversity",
   "metadata": {},
   "outputs": [
    {
     "data": {
      "application/vnd.jupyter.widget-view+json": {
       "model_id": "4daad1d2ff97482d9c0649fd2ba12d10",
       "version_major": 2,
       "version_minor": 0
      },
      "text/plain": [
       "Combobox(value='', description='Select frame method:', ensure_option=True, options=('Manual', 'Automatic (from…"
      ]
     },
     "metadata": {},
     "output_type": "display_data"
    }
   ],
   "source": [
    "frame_method = t5.select_frame_method()"
   ]
  },
  {
   "cell_type": "markdown",
   "id": "04e58c56",
   "metadata": {},
   "source": [
    "### Create the frames"
   ]
  },
  {
   "cell_type": "code",
   "execution_count": null,
   "id": "spread-tragedy",
   "metadata": {},
   "outputs": [],
   "source": [
    "frames_to_upload_df = t5.get_frames(species_ids = species_i, \n",
    "                                     db_path = db_info_dict[\"db_path\"],\n",
    "                                     db_info_dict = db_info_dict,\n",
    "                                     frame_method = frame_method.value)"
   ]
  },
  {
   "cell_type": "markdown",
   "id": "df57b117",
   "metadata": {},
   "source": [
    "## List available frames to upload to Zooniverse"
   ]
  },
  {
   "cell_type": "code",
   "execution_count": null,
   "id": "d07227fc",
   "metadata": {},
   "outputs": [],
   "source": [
    "# Specify the server to connect to\n",
    "server_i = t_utils.choose_server()"
   ]
  },
  {
   "cell_type": "code",
   "execution_count": null,
   "id": "151ea3db",
   "metadata": {},
   "outputs": [],
   "source": [
    "# Check availability of movies that correspond to the aggregated clips\n",
    "t_utils.connect_server(server_i.value)"
   ]
  },
  {
   "cell_type": "code",
   "execution_count": null,
   "id": "cba4329e",
   "metadata": {},
   "outputs": [],
   "source": [
    "#Specify how many frames per clip and how many clips of species i to upload\n"
   ]
  },
  {
   "cell_type": "code",
   "execution_count": null,
   "id": "575886c6",
   "metadata": {},
   "outputs": [],
   "source": [
    "# Set the subject_set to upload the frames to\n"
   ]
  },
  {
   "cell_type": "markdown",
   "id": "8e73da0c",
   "metadata": {},
   "source": [
    "### Preview the frames"
   ]
  },
  {
   "cell_type": "code",
   "execution_count": null,
   "id": "cce086d7",
   "metadata": {},
   "outputs": [],
   "source": []
  },
  {
   "cell_type": "code",
   "execution_count": null,
   "id": "8aca8b92",
   "metadata": {},
   "outputs": [],
   "source": [
    "# Upload the frames to the project\n"
   ]
  },
  {
   "cell_type": "markdown",
   "id": "moral-milwaukee",
   "metadata": {},
   "source": [
    "### Set Zooniverse metadata"
   ]
  },
  {
   "cell_type": "code",
   "execution_count": null,
   "id": "54338a73",
   "metadata": {},
   "outputs": [],
   "source": [
    "upload_to_zoo, sitename, created_on = t5.set_zoo_metadata(df = clips_ready_df,\n",
    "                                                          project_name = project.value)\n",
    "\n",
    "#upload_to_zoo = upload_to_zoo.fillna(\"unknown\")\n",
    "\n"
   ]
  },
  {
   "cell_type": "markdown",
   "id": "powerful-scout",
   "metadata": {},
   "source": [
    "### Upload frames to Zooniverse"
   ]
  },
  {
   "cell_type": "markdown",
   "id": "plain-senior",
   "metadata": {},
   "source": [
    "You may receive an error message related to file size if clips exceed the recommended limit for Zooniverse uploads. In this case, we recommend shortening the clip length to achieve a suitable filesize."
   ]
  },
  {
   "cell_type": "code",
   "execution_count": null,
   "id": "guilty-insider",
   "metadata": {},
   "outputs": [],
   "source": [
    "t5.upload_frames_to_zooniverse(upload_to_zoo = upload_to_zoo, \n",
    "                              sitename = sitename,\n",
    "                              created_on = created_on,\n",
    "                              project = zoo_clips_info_dict[\"project\"])\n",
    "\n",
    "#END"
   ]
  }
 ],
 "metadata": {
  "kernelspec": {
   "display_name": "odf",
   "language": "python",
   "name": "odf"
  },
  "language_info": {
   "codemirror_mode": {
    "name": "ipython",
    "version": 3
   },
   "file_extension": ".py",
   "mimetype": "text/x-python",
   "name": "python",
   "nbconvert_exporter": "python",
   "pygments_lexer": "ipython3",
   "version": "3.8.8"
  }
 },
 "nbformat": 4,
 "nbformat_minor": 5
}
