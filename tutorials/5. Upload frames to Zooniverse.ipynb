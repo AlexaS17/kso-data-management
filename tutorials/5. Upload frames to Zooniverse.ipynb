{
 "cells": [
  {
   "cell_type": "markdown",
   "id": "b169b8d0",
   "metadata": {},
   "source": [
    "<img align=\"left\" src=\"https://panoptes-uploads.zooniverse.org/project_avatar/86c23ca7-bbaa-4e84-8d8a-876819551431.png\" type=\"image/png\" height=100 width=100>\n",
    "</img>\n",
    "<h1 align=\"right\">KSO Tutorials #5: Add new frames to a Zooniverse workflow</h1>\n",
    "<h3 align=\"right\">Written by @jannesgg and @vykanton</h3>\n",
    "<h5 align=\"right\">Last updated: Nov 29th, 2021</h5>"
   ]
  },
  {
   "cell_type": "markdown",
   "id": "3ee20d67",
   "metadata": {},
   "source": [
    "# Set up and requirements"
   ]
  },
  {
   "cell_type": "markdown",
   "id": "896f0873",
   "metadata": {},
   "source": [
    "### Import Python packages"
   ]
  },
  {
   "cell_type": "code",
   "execution_count": null,
   "id": "5451cddf",
   "metadata": {},
   "outputs": [],
   "source": [
    "# Set the directory of the libraries\n",
    "import sys\n",
    "sys.path.append('..')\n",
    "\n",
    "# Set to display dataframes as interactive tables\n",
    "from itables import init_notebook_mode\n",
    "init_notebook_mode(all_interactive=True)\n",
    "\n",
    "# Import required modules\n",
    "import kso_utils.tutorials_utils as t_utils\n",
    "import kso_utils.t5_utils as t5\n",
    "import kso_utils.zooniverse_utils as zoo\n",
    "\n",
    "print(\"Packages loaded successfully\")"
   ]
  },
  {
   "cell_type": "markdown",
   "id": "ed55216d",
   "metadata": {},
   "source": [
    "### Choose your project"
   ]
  },
  {
   "cell_type": "code",
   "execution_count": null,
   "id": "b1ae7b58",
   "metadata": {},
   "outputs": [],
   "source": [
    "project = t_utils.choose_project()"
   ]
  },
  {
   "cell_type": "markdown",
   "id": "39f5065c",
   "metadata": {},
   "source": [
    "### Initiate sql and zoo project"
   ]
  },
  {
   "cell_type": "code",
   "execution_count": null,
   "id": "8a7abc2f",
   "metadata": {
    "scrolled": true
   },
   "outputs": [],
   "source": [
    "# Initiate db\n",
    "db_info_dict = t_utils.initiate_db(project.value)"
   ]
  },
  {
   "cell_type": "code",
   "execution_count": null,
   "id": "10b4aa16",
   "metadata": {
    "scrolled": true
   },
   "outputs": [],
   "source": [
    "# Connect to Zooniverse project\n",
    "zoo_project = t_utils.connect_zoo_project(project.value)"
   ]
  },
  {
   "cell_type": "markdown",
   "id": "50bac6cf",
   "metadata": {},
   "source": [
    "# Retrieve info about zooniverse clips"
   ]
  },
  {
   "cell_type": "code",
   "execution_count": null,
   "id": "0c2d059b",
   "metadata": {},
   "outputs": [],
   "source": [
    "zoo_info_dict = t_utils.retrieve__populate_zoo_info(project_name = project.value, \n",
    "                                                    db_info_dict = db_info_dict,\n",
    "                                                    zoo_project = zoo_project,\n",
    "                                                    zoo_info = [\"subjects\"])"
   ]
  },
  {
   "cell_type": "markdown",
   "id": "5f82c5ce",
   "metadata": {},
   "source": [
    "# Retrieve frames"
   ]
  },
  {
   "cell_type": "markdown",
   "id": "a749e31a",
   "metadata": {},
   "source": [
    "## Select the species of interest"
   ]
  },
  {
   "cell_type": "code",
   "execution_count": null,
   "id": "56e27ea6",
   "metadata": {},
   "outputs": [],
   "source": [
    "# Specify the species of interest\n",
    "species_i = t5.choose_species(db_info_dict[\"db_path\"])"
   ]
  },
  {
   "cell_type": "markdown",
   "id": "8812e34c",
   "metadata": {},
   "source": [
    "### Specify the way frames will be accessed"
   ]
  },
  {
   "cell_type": "code",
   "execution_count": null,
   "id": "unable-explosion",
   "metadata": {},
   "outputs": [],
   "source": [
    "frame_method = t5.select_frame_method()"
   ]
  },
  {
   "cell_type": "markdown",
   "id": "04e58c56",
   "metadata": {},
   "source": [
    "### Create the frames"
   ]
  },
  {
   "cell_type": "code",
   "execution_count": null,
   "id": "found-headline",
   "metadata": {},
   "outputs": [],
   "source": [
    "frames_to_upload_df = t5.get_frames(species_ids = species_i, \n",
    "                                     db_path = db_info_dict[\"db_path\"],\n",
    "                                     db_info_dict = db_info_dict,\n",
    "                                     frame_method = frame_method.value)"
   ]
  },
  {
   "cell_type": "markdown",
   "id": "df57b117",
   "metadata": {},
   "source": [
    "## List available frames to upload to Zooniverse"
   ]
  },
  {
   "cell_type": "code",
   "execution_count": null,
   "id": "d07227fc",
   "metadata": {},
   "outputs": [],
   "source": [
    "# Specify the server to connect to\n",
    "server_i = t_utils.choose_server()"
   ]
  },
  {
   "cell_type": "code",
   "execution_count": null,
   "id": "151ea3db",
   "metadata": {},
   "outputs": [],
   "source": [
    "# Check availability of movies that correspond to the aggregated clips\n",
    "t_utils.connect_server(server_i.value)"
   ]
  },
  {
   "cell_type": "code",
   "execution_count": null,
   "id": "cba4329e",
   "metadata": {},
   "outputs": [],
   "source": [
    "#Specify how many frames per clip and how many clips of species i to upload\n"
   ]
  },
  {
   "cell_type": "code",
   "execution_count": null,
   "id": "575886c6",
   "metadata": {},
   "outputs": [],
   "source": [
    "# Set the subject_set to upload the frames to\n"
   ]
  },
  {
   "cell_type": "markdown",
   "id": "8e73da0c",
   "metadata": {},
   "source": [
    "### Preview the frames"
   ]
  },
  {
   "cell_type": "code",
   "execution_count": null,
   "id": "cce086d7",
   "metadata": {},
   "outputs": [],
   "source": []
  },
  {
   "cell_type": "code",
   "execution_count": null,
   "id": "8aca8b92",
   "metadata": {},
   "outputs": [],
   "source": [
    "# Upload the frames to the project\n"
   ]
  },
  {
   "cell_type": "markdown",
   "id": "moral-milwaukee",
   "metadata": {},
   "source": [
    "### Set Zooniverse metadata"
   ]
  },
  {
   "cell_type": "code",
   "execution_count": null,
   "id": "54338a73",
   "metadata": {},
   "outputs": [],
   "source": [
    "upload_to_zoo, sitename, created_on = t5.set_zoo_metadata(df = clips_ready_df,\n",
    "                                                          project_name = project.value)\n",
    "\n",
    "#upload_to_zoo = upload_to_zoo.fillna(\"unknown\")\n",
    "\n"
   ]
  },
  {
   "cell_type": "markdown",
   "id": "powerful-scout",
   "metadata": {},
   "source": [
    "### Upload frames to Zooniverse"
   ]
  },
  {
   "cell_type": "markdown",
   "id": "plain-senior",
   "metadata": {},
   "source": [
    "You may receive an error message related to file size if clips exceed the recommended limit for Zooniverse uploads. In this case, we recommend shortening the clip length to achieve a suitable filesize."
   ]
  },
  {
   "cell_type": "code",
   "execution_count": null,
   "id": "guilty-insider",
   "metadata": {},
   "outputs": [],
   "source": [
    "t5.upload_frames_to_zooniverse(upload_to_zoo = upload_to_zoo, \n",
    "                              sitename = sitename,\n",
    "                              created_on = created_on,\n",
    "                              project = zoo_clips_info_dict[\"project\"])\n",
    "\n",
    "#END"
   ]
  }
 ],
 "metadata": {
  "kernelspec": {
   "display_name": "Python 3",
   "language": "python",
   "name": "python3"
  },
  "language_info": {
   "codemirror_mode": {
    "name": "ipython",
    "version": 3
   },
   "file_extension": ".py",
   "mimetype": "text/x-python",
   "name": "python",
   "nbconvert_exporter": "python",
   "pygments_lexer": "ipython3",
   "version": "3.8.8"
  }
 },
 "nbformat": 4,
 "nbformat_minor": 5
}
