{
 "cells": [
  {
   "cell_type": "markdown",
   "metadata": {},
   "source": [
    "# Upload clips to Zooniverse\n",
    "Script to generate short clips from underwater movies and upload them to Zooniverse."
   ]
  },
  {
   "cell_type": "markdown",
   "metadata": {},
   "source": [
    "## Initial requirements\n",
    "Import required packages, indicate how many clips to generate, the folder to store the new clips and generate the \"manuscript\" (a csv file needed to upload the clips to Zooniverse)."
   ]
  },
  {
   "cell_type": "code",
   "execution_count": null,
   "metadata": {},
   "outputs": [],
   "source": [
    "# Import required packages\n",
    "import os\n",
    "import subprocess\n",
    "import math\n",
    "import csv\n",
    "from datetime import date\n",
    "from panoptes_client import Panoptes, Project #needed to upload clips to Zooniverse\n",
    "\n",
    "# Specify how many clips to generate and its length (seconds)\n",
    "n_clips = 1000\n",
    "clip_length = 10\n",
    "\n",
    "# Specify the folder location to store new clips\n",
    "if not os.path.exists(\"clips\"):\n",
    "    os.makedirs(\"clips\")\n",
    "\n",
    "# Create an empty csvfile to store the metadata required to upload clips to Zooniverse\n",
    "manuscript_name = \"manuscript_\" + date.today().strftime(\"%d_%m_%Y\") + \".csv\"\n",
    "\n",
    "with open('clips/' + manuscript_name, 'wb') as subject_metadata:\n",
    "    filewriter = csv.writer(subject_metadata, delimiter=',',\n",
    "                            quotechar='|', quoting=csv.QUOTE_MINIMAL)\n",
    "    filewriter.writerow(['clip_id','filename', '#start_time', '#end_time'])"
   ]
  },
  {
   "cell_type": "markdown",
   "metadata": {},
   "source": [
    "## Create a list of the clips to generate"
   ]
  },
  {
   "cell_type": "code",
   "execution_count": null,
   "metadata": {},
   "outputs": [],
   "source": [
    "# Query the koster lab database to randomly select n clips from movie sections that haven't been clipped yet\n",
    "clip_list\n"
   ]
  },
  {
   "cell_type": "markdown",
   "metadata": {},
   "source": [
    "## Generate the clips"
   ]
  },
  {
   "cell_type": "code",
   "execution_count": null,
   "metadata": {},
   "outputs": [],
   "source": [
    "# Generate one clip at the time and update the koster lab database and manuscript\n",
    "for clip in clip_list:\n",
    "    # Generate and store the clip\n",
    "    fileoutput = \"clips/\" + str(clip_filename) + \"_\" + str(int(clip_start)) + \".mp4\"\n",
    "    subprocess.call([\"ffmpeg\", \"-ss\", str(clip_start), \"-t\", clip_duration, \"-i\", clip_movie, \"-c\", \"copy\", \"-force_key_frames\", \"1\", fileoutput])\n",
    "    \n",
    "     # Add clip information to the koster lab database\n",
    "    clip_id = \n",
    "    filename = clip_filename\n",
    "    start_time = clip_start\n",
    "    end_time = clip_start + clip_duration\n",
    "    clip_date = date.today().strftime(\"%d_%m_%Y\")\n",
    "    \n",
    "    # Add information to the manuscript to keep track of the clips generated\n",
    "    file_output = fileoutput.split(\"/\")[-1]\n",
    "    row = [clip_id, file_output, split_start, end_time]\n",
    "    with open('clips/' + manuscript_name,'a') as subject_metadata:\n",
    "        writer = csv.writer(subject_metadata)\n",
    "        writer.writerow(row)\n",
    "        subject_metadata.close()   "
   ]
  },
  {
   "cell_type": "markdown",
   "metadata": {},
   "source": [
    "## Upload clips to Zooniverse\n",
    "we will use the [Python SDK for Panoptes](https://github.com/zooniverse/panoptes-python-client) to upload the clips we have just generated. \n",
    "Note, only Zooniverse project admins can upload clips to the Koster lab Zooniverse project. "
   ]
  },
  {
   "cell_type": "code",
   "execution_count": null,
   "metadata": {},
   "outputs": [],
   "source": [
    "# Connect to Zooniverse with your username and password\n",
    "Panoptes.connect(username='', password='')\n",
    "\n",
    "# Specify the project number of the koster lab\n",
    "koster_project = Project(9747)\n",
    "\n",
    "# Create a subject set (the Zooniverse data set that will store the clips)\n",
    "subject_set = SubjectSet()\n",
    "\n",
    "subject_set.links.project = koster_project\n",
    "subject_set.display_name = 'clips_'+ date.today().strftime(\"%d_%m_%Y\")\n",
    "\n",
    "subject_set.save()\n",
    "\n",
    "# Upload the clips to the project\n",
    "new_subjects = []\n",
    "\n",
    "with open('clips/' + manuscript_name,'a') as subject_metadata:\n",
    "    reader = csv.reader(subject_metadata, skipinitialspace=True)\n",
    "    for filename, metadata in subject_metadata.items():\n",
    "        subject = Subject()\n",
    "\n",
    "        subject.links.project = koster_project\n",
    "        subject.add_location(filename)\n",
    "\n",
    "        subject.metadata.update(metadata)\n",
    "\n",
    "        subject.save()\n",
    "        new_subjects.append(subject)"
   ]
  }
 ],
 "metadata": {
  "kernelspec": {
   "display_name": "Python 3",
   "language": "python",
   "name": "python3"
  },
  "language_info": {
   "codemirror_mode": {
    "name": "ipython",
    "version": 3
   },
   "file_extension": ".py",
   "mimetype": "text/x-python",
   "name": "python",
   "nbconvert_exporter": "python",
   "pygments_lexer": "ipython3",
   "version": "3.7.4"
  }
 },
 "nbformat": 4,
 "nbformat_minor": 2
}
