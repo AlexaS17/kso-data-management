{
 "cells": [
  {
   "cell_type": "markdown",
   "metadata": {},
   "source": [
    "# Update database with manually uploaded clips\n",
    "Script to populate the koster lab database with information of clips that have been manually uploaded."
   ]
  },
  {
   "cell_type": "markdown",
   "metadata": {},
   "source": [
    "## Overview\n",
    "We first download information from all subjects uploaded to the Koster lab project (#9747) using the [Python SDK for Panoptes!](https://github.com/zooniverse/panoptes-python-client). Then, we select those subjects manually uploaded and update the kosted db with the filename of the original movie, when the clip starts and the subject id.\n",
    "Note, only Zooniverse project collaborators can retrieve subjects information from the Koster lab Zooniverse project."
   ]
  },
  {
   "cell_type": "markdown",
   "metadata": {},
   "source": [
    "### Import required packages"
   ]
  },
  {
   "cell_type": "code",
   "execution_count": null,
   "metadata": {},
   "outputs": [],
   "source": [
    "import os\n",
    "import requests\n",
    "import numpy\n",
    "import pandas as pd\n",
    "import io\n",
    "import json\n",
    "from panoptes_client import Project, Panoptes\n",
    "from datetime import datetime"
   ]
  },
  {
   "cell_type": "markdown",
   "metadata": {},
   "source": [
    "### Specify project-specific info"
   ]
  },
  {
   "cell_type": "code",
   "execution_count": null,
   "metadata": {},
   "outputs": [],
   "source": [
    "# Connect to Zooniverse with your username and password\n",
    "Panoptes.connect(username='', password='')\n",
    "\n",
    "# Specify the project number of the koster lab\n",
    "project = Project(9747)\n",
    "\n",
    "# Specify the last and first dates when subjects were manually uploaded\n",
    "last_date = '2020-02-03 20:30:00 UTC'\n",
    "first_date = '2019-11-17 00:00:00 UTC'\n"
   ]
  },
  {
   "cell_type": "markdown",
   "metadata": {},
   "source": [
    "### Download subject information from Zooniverse"
   ]
  },
  {
   "cell_type": "code",
   "execution_count": null,
   "metadata": {},
   "outputs": [],
   "source": [
    "#get the export subjects\n",
    "export = project.get_export('subjects')\n",
    "\n",
    "#save the response as pandas data frame\n",
    "rawdata = pd.read_csv(io.StringIO(export.content.decode('utf-8')),\n",
    "                      usecols = ['subject_id','metadata', 'created_at'])"
   ]
  },
  {
   "cell_type": "markdown",
   "metadata": {},
   "source": [
    "### Select manually uploaded clip subjects "
   ]
  },
  {
   "cell_type": "code",
   "execution_count": null,
   "metadata": {},
   "outputs": [],
   "source": [
    "#Filter manually uploaded subjects\n",
    "man_data = rawdata[(last_date >= rawdata.created_at)&\n",
    "                   (first_date <= rawdata.created_at)]\n",
    "\n",
    "#filter clip subjects\n",
    "man_data = man_data[man_data['metadata'].str.contains(\".mp4\")].reset_index()"
   ]
  },
  {
   "cell_type": "markdown",
   "metadata": {},
   "source": [
    "### Flatten the subjects metadata information"
   ]
  },
  {
   "cell_type": "code",
   "execution_count": null,
   "metadata": {},
   "outputs": [],
   "source": [
    "#flatten the metadata information\n",
    "flat_metadata = pd.json_normalize(man_data.metadata.apply(json.loads))\n",
    "\n",
    "#Select the filename of the clips\n",
    "clip_filenames = flat_metadata['filename']\n",
    "\n",
    "#Get the starting time of clips in relation to the original movie\n",
    "#split the filename, select the last section, and remove the extension type\n",
    "flat_metadata['start_time'] = clip_filenames.str.rsplit(\"_\", 1).str[-1].str.replace(\".mp4\", \"\")\n",
    "\n",
    "\n",
    "#Extract the filename of the original movie\n",
    "flat_metadata['movie_filename'] = flat_metadata.apply(lambda x: x['filename'].replace(\"_\"+x['start_time'],''),\n",
    "                                                       axis=1)\n",
    "\n",
    "#Get the end time of clips in relation to the original movie\n",
    "flat_metadata['start_time'] = pd.to_numeric(flat_metadata['start_time'], downcast='signed')\n",
    "flat_metadata['end_time'] = flat_metadata['start_time']+10\n",
    "\n",
    "#select only relevant columns\n",
    "flat_metadata = flat_metadata[['filename','movie_filename','start_time','end_time']]"
   ]
  },
  {
   "cell_type": "markdown",
   "metadata": {},
   "source": [
    "### Include movie_ids \n",
    "Retrieve \"id\" and \"filename\" from the \"movies\" table of the koster db to add movie \"flat_metadata\""
   ]
  },
  {
   "cell_type": "code",
   "execution_count": null,
   "metadata": {},
   "outputs": [],
   "source": [
    "#Retrieve the id and filename from the movies table \n",
    "movies \n",
    "\n",
    "#add movie_id to the flat metadata \n",
    "clip_metadata = pd.merge(flat_metadata, movies, how = 'left', \n",
    "                         left_on='movie_filename', right_on='filename')"
   ]
  },
  {
   "cell_type": "markdown",
   "metadata": {},
   "source": [
    "### Compile all the information and update the clips and subjects tables of koster db"
   ]
  },
  {
   "cell_type": "code",
   "execution_count": null,
   "metadata": {},
   "outputs": [],
   "source": [
    "#Drop metadata column and define clip creation date as time uploaded to Zooniverse \n",
    "man_data = man_data.drop(columns='metadata')\n",
    "\n",
    "#Combine the information \n",
    "comb_data = pd.concat(man_data, clip_metadata, axis = 1)\n",
    "\n",
    "#Select information to include in the clips table\n",
    "clips = comb_data.drop(columns='subject_id').rename(columns={'created_at':'clipped_date',\n",
    "                                                             'index':'id'})\n",
    "\n",
    "#Combine the info to include in the subjects table\n",
    "subjects = comb_data.rename(columns={'created_at':'zoo_upload_date',\n",
    "                                     'index':'clip_id',\n",
    "                                     'subject_id':'id'})\n",
    "\n",
    "\n",
    "#update the tables\n"
   ]
  }
 ],
 "metadata": {
  "kernelspec": {
   "display_name": "Python 3",
   "language": "python",
   "name": "python3"
  },
  "language_info": {
   "codemirror_mode": {
    "name": "ipython",
    "version": 3
   },
   "file_extension": ".py",
   "mimetype": "text/x-python",
   "name": "python",
   "nbconvert_exporter": "python",
   "pygments_lexer": "ipython3",
   "version": "3.7.4"
  }
 },
 "nbformat": 4,
 "nbformat_minor": 2
}
