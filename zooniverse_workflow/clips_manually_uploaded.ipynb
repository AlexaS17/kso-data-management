{
 "cells": [
  {
   "cell_type": "markdown",
   "metadata": {},
   "source": [
    "# Update database with manually uploaded clips\n",
    "Script to populate the koster lab database with information of those clips that have been manually uploaded."
   ]
  },
  {
   "cell_type": "markdown",
   "metadata": {},
   "source": [
    "## Download subjects information from Zooniverse\n",
    "We first download information from those subjects manually uploaded to the Koster lab project (#9747) using the [Python SDK for Panoptes!](https://github.com/zooniverse/panoptes-python-client).\n",
    "Note, only Zooniverse project collaborators can retrieve subjects information from the Koster lab Zooniverse project."
   ]
  },
  {
   "cell_type": "markdown",
   "metadata": {},
   "source": [
    "### Import required packages"
   ]
  },
  {
   "cell_type": "code",
   "execution_count": null,
   "metadata": {},
   "outputs": [],
   "source": [
    "import os\n",
    "import time\n",
    "from datetime import datetime\n",
    "from panoptes_client import Project, Panoptes"
   ]
  },
  {
   "cell_type": "markdown",
   "metadata": {},
   "source": [
    "### Specify project-specific info"
   ]
  },
  {
   "cell_type": "code",
   "execution_count": null,
   "metadata": {},
   "outputs": [],
   "source": [
    "# Connect to Zooniverse with your username and password\n",
    "Panoptes.connect(username='', password='')\n",
    "\n",
    "# Specify the project number of the koster lab\n",
    "project = Project(9747)\n",
    "\n",
    "# Specify the last date when subjects were manually uploaded\n",
    "last_date = '2020-01-10 00:00:00 UTC'\n",
    "\n",
    "# Specify the location to write the csv files                \n",
    "dstn_subj = '../all_subjects.csv'\n",
    "out_location_subj = '../manual_uploaded_subjects.csv'"
   ]
  },
  {
   "cell_type": "markdown",
   "metadata": {},
   "source": [
    "### Define the functions to download the subject information"
   ]
  },
  {
   "cell_type": "code",
   "execution_count": null,
   "metadata": {},
   "outputs": [],
   "source": [
    "def download_file(url, dstn):\n",
    "    request = requests.get(url, stream=True)\n",
    "    with open(dstn, 'wb') as dstn_f:\n",
    "        for chunk in request.iter_content(chunk_size=4096):\n",
    "            dstn_f.write(chunk)\n",
    "    return dstn\n",
    "\n",
    "\n",
    "def download_exports(projt, dstn_cl, dstn_sb):\n",
    "   \n",
    "    try:\n",
    "        meta_subj = projt.describe_export('subjects')\n",
    "        generated = meta_subj['media'][0]['updated_at'][0:19]\n",
    "        tdelta = (datetime.now() - datetime.strptime(generated, '%Y-%m-%dT%H:%M:%S')).total_seconds()\n",
    "        age = (300 + int(tdelta / 60))\n",
    "        print(str(datetime.now())[0:19] + '  Subject export', age, ' hours old')\n",
    "        url_subj = meta_subj['media'][0]['src']\n",
    "        file_subj = download_file(url_subj, dstn_sb)\n",
    "        print(str(datetime.now())[0:19] + '  ' + file_subj + ' downloaded')\n",
    "    except:\n",
    "        print(str(datetime.now())[0:19] + '  Subjects download did not complete')\n",
    "        return False\n",
    "    return True\n",
    "\n",
    "\n",
    "def include_subj(subj_record):\n",
    "    #  define a function that returns True or False based on whether the argument record is to be included or not in\n",
    "    #  the output file based on the conditional clauses.\n",
    "    if last_date >= subj_record['created_at'] >= '2000-00-10 00:00:00 UTC':\n",
    "        pass  # replace earliest and latest created_at date and times to select records commenced in a\n",
    "        #  specific time period\n",
    "    else:\n",
    "        return False\n",
    "    # otherwise :\n",
    "    return True\n",
    "\n",
    "\n",
    "def slice_exports(dstn_cl, out_location_cl, dstn_sb, out_location_sb):\n",
    "    k = 0\n",
    "    m = 0\n",
    "    with open(out_location_sb, 'w', newline='') as file:\n",
    "        fieldnames = ['subject_id',\n",
    "                      'project_id',\n",
    "                      'workflow_id',\n",
    "                      'subject_set_id',\n",
    "                      'metadata',\n",
    "                      'created_at']\n",
    "        writer = csv.DictWriter(file, fieldnames=fieldnames)\n",
    "        writer.writeheader()\n",
    "\n",
    "        #  open the zooniverse data file using dictreader\n",
    "        with open(dstn_sb) as f:\n",
    "            r = csv.DictReader(f)\n",
    "            for row in r:\n",
    "                k += 1\n",
    "                if include_subj(row):\n",
    "                    m += 1\n",
    "                    # This set up the writer to match the field names above and the variable names of their values:\n",
    "                    writer.writerow({'subject_id': row['subject_id'],\n",
    "                                     'project_id': row['project_id'],\n",
    "                                     'workflow_id': row['workflow_id'],\n",
    "                                     'subject_set_id': row['subject_set_id'],\n",
    "                                     'metadata': row['metadata'],\n",
    "                                     'created_at': row['created_at']})\n",
    "\n",
    "    print(str(datetime.now())[0:19] + '  Subjects file:' +\n",
    "          ' ' + str(k) + ' lines read and inspected' + ' ' + str(m) + ' records selected and copied')\n",
    "    return True\n"
   ]
  },
  {
   "cell_type": "markdown",
   "metadata": {},
   "source": [
    "### Download the subject information"
   ]
  },
  {
   "cell_type": "code",
   "execution_count": null,
   "metadata": {},
   "outputs": [],
   "source": [
    "if __name__ == '__main__':\n",
    "    print(download_exports(project, dstn_subj))\n",
    "    print(slice_exports(dstn_subj, out_location_subj))"
   ]
  },
  {
   "cell_type": "markdown",
   "metadata": {},
   "source": [
    "## Populate the koster lab database"
   ]
  },
  {
   "cell_type": "code",
   "execution_count": null,
   "metadata": {},
   "outputs": [],
   "source": []
  }
 ],
 "metadata": {
  "kernelspec": {
   "display_name": "Python 3",
   "language": "python",
   "name": "python3"
  },
  "language_info": {
   "codemirror_mode": {
    "name": "ipython",
    "version": 3
   },
   "file_extension": ".py",
   "mimetype": "text/x-python",
   "name": "python",
   "nbconvert_exporter": "python",
   "pygments_lexer": "ipython3",
   "version": "3.7.4"
  }
 },
 "nbformat": 4,
 "nbformat_minor": 2
}
