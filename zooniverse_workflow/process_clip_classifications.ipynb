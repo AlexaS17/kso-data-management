{
 "cells": [
  {
   "cell_type": "markdown",
   "metadata": {},
   "source": [
    "# Process Zooniverse classifications of clips\n",
    "Script to retrieve clip classification data from Zooniverse and update the Koster lab database."
   ]
  },
  {
   "cell_type": "markdown",
   "metadata": {},
   "source": [
    "## Download classifications from Zooniverse\n",
    "Download the most up-to-date classifications provided by Zooniverse users to the Koster lab project (#9747) using the [Python SDK for Panoptes!](https://github.com/zooniverse/panoptes-python-client).\n",
    "Note, only Zooniverse project collaborators can retrieve classifications from the Koster lab Zooniverse project."
   ]
  },
  {
   "cell_type": "markdown",
   "metadata": {},
   "source": [
    "### Import required packages"
   ]
  },
  {
   "cell_type": "code",
   "execution_count": 1,
   "metadata": {},
   "outputs": [],
   "source": [
    "import os\n",
    "import json\n",
    "import numpy\n",
    "import pandas as pd\n",
    "import io\n",
    "from panoptes_client import Project, Panoptes"
   ]
  },
  {
   "cell_type": "markdown",
   "metadata": {},
   "source": [
    "### Specify project-specific info"
   ]
  },
  {
   "cell_type": "code",
   "execution_count": 2,
   "metadata": {},
   "outputs": [],
   "source": [
    "# Connect to Zooniverse with your username and password\n",
    "Panoptes.connect(username='', password='')\n",
    "\n",
    "# Specify the project number of the koster lab\n",
    "project = Project(9747)\n",
    "\n",
    "# Specify the workflow of interest and its version\n",
    "workflow_1 = 11767\n",
    "workflow_1_version = 227"
   ]
  },
  {
   "cell_type": "markdown",
   "metadata": {},
   "source": [
    "### Download the Zooniverse classifications"
   ]
  },
  {
   "cell_type": "code",
   "execution_count": 3,
   "metadata": {},
   "outputs": [],
   "source": [
    "#get the export classifications\n",
    "export = project.get_export('classifications')\n",
    "\n",
    "#save the response as pandas data frame\n",
    "rawdata = pd.read_csv(io.StringIO(export.content.decode('utf-8')),\n",
    "                      usecols = ['subject_ids','classification_id', 'workflow_id',\n",
    "                                'workflow_version','annotations'])"
   ]
  },
  {
   "cell_type": "markdown",
   "metadata": {},
   "source": [
    "### Select workflow 1 classifications"
   ]
  },
  {
   "cell_type": "code",
   "execution_count": 4,
   "metadata": {},
   "outputs": [],
   "source": [
    "#Filter w1 classifications\n",
    "w1_data = rawdata[(rawdata.workflow_id >= workflow_1) &\n",
    "                  (rawdata.workflow_version >= workflow_1_version)].reset_index()\n",
    "\n",
    "#Drop worflow columns\n",
    "w1_data = w1_data.drop(columns=['workflow_id','workflow_version'])"
   ]
  },
  {
   "cell_type": "markdown",
   "metadata": {},
   "source": [
    "### Flatten the classifications"
   ]
  },
  {
   "cell_type": "code",
   "execution_count": 5,
   "metadata": {},
   "outputs": [],
   "source": [
    "#Create empty df\n",
    "flat_data = pd.DataFrame(columns=['classification_id', 'single_ann_clip_choice',\n",
    "                                  'single_ann_clip_first_time', 'single_ann_clip_how_many'])\n",
    "\n",
    "for index, row in w1_data.iterrows():\n",
    "    #load annotations as json format\n",
    "    annotations = json.loads(row['annotations'])\n",
    "    \n",
    "    #select the information from the species identification task\n",
    "    for task_i in annotations:\n",
    "        try:\n",
    "            if task_i['task'] == 'T4':\n",
    "                #select each species annotation and flatten the relevant answers\n",
    "                for species in task_i['value']:\n",
    "                    try:\n",
    "                        #loop through the answers and add them to the row\n",
    "                        answers = species['answers']\n",
    "                        if len(answers)==0:\n",
    "                            f_time = \"\"\n",
    "                            inds = \"\"\n",
    "                        else:\n",
    "                            for k in answers.keys():\n",
    "                                try:\n",
    "                                    if 'FIRSTTIME' in k:\n",
    "                                        f_time = answers[k].replace(\"S\",\"\")\n",
    "                                    if 'INDIVIDUAL' in k:\n",
    "                                        inds = answers[k]\n",
    "                                except KeyError:\n",
    "                                    continue\n",
    "                                        \n",
    "                        #include a new row with the species of choice, class and subject ids                \n",
    "                        flat_data = flat_data.append({'classification_id': row['classification_id'],\n",
    "                                                      'single_ann_clip_choice': species['choice'],\n",
    "                                                      'single_ann_clip_first_time': f_time,\n",
    "                                                      'single_ann_clip_how_many': inds},\n",
    "                                                     ignore_index=True)\n",
    "                    except KeyError:\n",
    "                        continue\n",
    "        except KeyError:\n",
    "            continue"
   ]
  },
  {
   "cell_type": "markdown",
   "metadata": {},
   "source": [
    "## Aggregrate Zooniverse classifications\n",
    "Combine the classifications of multiple users and aggregrate them to have one classification per clip. For example, clip_001 contains \"lobster\" and \"sponge\" at second 1 and 6, respectively)"
   ]
  },
  {
   "cell_type": "code",
   "execution_count": 7,
   "metadata": {},
   "outputs": [
    {
     "data": {
      "text/html": [
       "<div>\n",
       "<style scoped>\n",
       "    .dataframe tbody tr th:only-of-type {\n",
       "        vertical-align: middle;\n",
       "    }\n",
       "\n",
       "    .dataframe tbody tr th {\n",
       "        vertical-align: top;\n",
       "    }\n",
       "\n",
       "    .dataframe thead th {\n",
       "        text-align: right;\n",
       "    }\n",
       "</style>\n",
       "<table border=\"1\" class=\"dataframe\">\n",
       "  <thead>\n",
       "    <tr style=\"text-align: right;\">\n",
       "      <th></th>\n",
       "      <th>subject_ids</th>\n",
       "      <th>single_ann_clip_choice</th>\n",
       "      <th>single_ann_clip_how_many</th>\n",
       "      <th>single_ann_clip_first_time</th>\n",
       "    </tr>\n",
       "  </thead>\n",
       "  <tbody>\n",
       "    <tr>\n",
       "      <td>0</td>\n",
       "      <td>39384186</td>\n",
       "      <td>NOTHINGHERE</td>\n",
       "      <td>NaN</td>\n",
       "      <td>NaN</td>\n",
       "    </tr>\n",
       "    <tr>\n",
       "      <td>1</td>\n",
       "      <td>39384253</td>\n",
       "      <td>DEEPSEAKINGCRAB</td>\n",
       "      <td>1.0</td>\n",
       "      <td>0.0</td>\n",
       "    </tr>\n",
       "    <tr>\n",
       "      <td>2</td>\n",
       "      <td>39384267</td>\n",
       "      <td>FISHANYSPECIES</td>\n",
       "      <td>1.0</td>\n",
       "      <td>1.0</td>\n",
       "    </tr>\n",
       "    <tr>\n",
       "      <td>3</td>\n",
       "      <td>39384291</td>\n",
       "      <td>NOTHINGHERE</td>\n",
       "      <td>NaN</td>\n",
       "      <td>NaN</td>\n",
       "    </tr>\n",
       "    <tr>\n",
       "      <td>4</td>\n",
       "      <td>39384292</td>\n",
       "      <td>NORWAYLOBSTER</td>\n",
       "      <td>2.0</td>\n",
       "      <td>0.0</td>\n",
       "    </tr>\n",
       "  </tbody>\n",
       "</table>\n",
       "</div>"
      ],
      "text/plain": [
       "   subject_ids single_ann_clip_choice  single_ann_clip_how_many  \\\n",
       "0     39384186            NOTHINGHERE                       NaN   \n",
       "1     39384253        DEEPSEAKINGCRAB                       1.0   \n",
       "2     39384267         FISHANYSPECIES                       1.0   \n",
       "3     39384291            NOTHINGHERE                       NaN   \n",
       "4     39384292          NORWAYLOBSTER                       2.0   \n",
       "\n",
       "   single_ann_clip_first_time  \n",
       "0                         NaN  \n",
       "1                         0.0  \n",
       "2                         1.0  \n",
       "3                         NaN  \n",
       "4                         0.0  "
      ]
     },
     "execution_count": 7,
     "metadata": {},
     "output_type": "execute_result"
    }
   ],
   "source": [
    "#Specify the type of columns\n",
    "flat_data['single_ann_clip_how_many'] = pd.to_numeric(flat_data['single_ann_clip_how_many'])\n",
    "flat_data['single_ann_clip_first_time'] = pd.to_numeric(flat_data['single_ann_clip_first_time'])\n",
    "\n",
    "#Add the subject_ids to the dataframe\n",
    "class_data = pd.merge(flat_data, w1_data.drop(columns=['annotations']), how='left', on='classification_id')\n",
    "\n",
    "#Calculate the number of different classifications per subject \n",
    "class_data[\"class_subject\"] = class_data.groupby('subject_ids')['classification_id'].transform('nunique')\n",
    "\n",
    "#Select subjects with at least 4 different classifications\n",
    "class_data = class_data[class_data.class_subject > 3]\n",
    "\n",
    "#Calculate the proportion of users that agreed on their classifications\n",
    "class_data[\"class_n\"] = class_data.groupby(['subject_ids','single_ann_clip_choice'])['classification_id'].transform('count')\n",
    "class_data[\"class_prop\"] = class_data.class_n/class_data.class_subject\n",
    "\n",
    "#Select subjects where at least 80% of the users agree in their classification\n",
    "class_data = class_data[class_data.class_prop > .8]\n",
    "\n",
    "#extract the median of the second where the animal/object is and the number of animals\n",
    "class_data = class_data.groupby(['subject_ids','single_ann_clip_choice'], as_index=False)\n",
    "class_data = pd.DataFrame(class_data[['single_ann_clip_how_many', 'single_ann_clip_first_time']].median())\n",
    "\n",
    "#class_data.head()\n",
    "#save csv file of the classified subjects\n",
    "#class_data.to_csv(agg_w1_class, index = False, header=True)\n"
   ]
  },
  {
   "cell_type": "markdown",
   "metadata": {},
   "source": [
    "### Update the koster lab database with aggregated classifications"
   ]
  },
  {
   "cell_type": "code",
   "execution_count": null,
   "metadata": {},
   "outputs": [],
   "source": []
  }
 ],
 "metadata": {
  "kernelspec": {
   "display_name": "Python 3",
   "language": "python",
   "name": "python3"
  },
  "language_info": {
   "codemirror_mode": {
    "name": "ipython",
    "version": 3
   },
   "file_extension": ".py",
   "mimetype": "text/x-python",
   "name": "python",
   "nbconvert_exporter": "python",
   "pygments_lexer": "ipython3",
   "version": "3.7.4"
  }
 },
 "nbformat": 4,
 "nbformat_minor": 2
}
