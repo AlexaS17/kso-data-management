{
 "cells": [
  {
   "cell_type": "markdown",
   "metadata": {},
   "source": [
    "# Upload clips to Zooniverse\n",
    "Script to generate short clips from underwater movies and upload them to Zooniverse."
   ]
  },
  {
   "cell_type": "markdown",
   "metadata": {},
   "source": [
    "## Initial requirements\n",
    "Import required packages, indicate how many clips to generate, the folder to store the new clips, and relevant information to upload the clips to Zooniverse.\n",
    "Note, we use the [Python SDK for Panoptes](https://github.com/zooniverse/panoptes-python-client) to upload clips to Zooniverse. \n",
    "Only Zooniverse project admins can upload clips to the Koster lab Zooniverse project."
   ]
  },
  {
   "cell_type": "code",
   "execution_count": null,
   "metadata": {},
   "outputs": [],
   "source": [
    "# Import required packages\n",
    "import os\n",
    "import subprocess\n",
    "import math\n",
    "import csv\n",
    "from datetime import date\n",
    "from panoptes_client import SubjectSet, Subject, Project, Panoptes #needed to upload clips to Zooniverse\n",
    "\n",
    "# Specify how many clips to generate and its length (seconds)\n",
    "n_clips = 1000\n",
    "clip_length = 10\n",
    "\n",
    "# Specify the folder location to store the clips\n",
    "while True:\n",
    "    location = input('Enter the full path for the image directory, or enter \".\" '\n",
    "                     'to use the current directory' + '\\clips')\n",
    "    if location == '.':\n",
    "        location = os.getcwd()\n",
    "        break\n",
    "    else:\n",
    "        if os.path.exists(location):\n",
    "            break\n",
    "        else:\n",
    "            print('That entry is not a valid path for an existing directory')\n",
    "            retry = input('Enter \"y\" to try again, any other key to exit' + '\\n')\n",
    "            if retry.lower() != 'y':\n",
    "                quit()\n",
    "\n",
    "# Connect to Zooniverse with your username and password\n",
    "Panoptes.connect(username='', password='')\n",
    "\n",
    "# Specify the project number of the koster lab\n",
    "koster_project = Project(9747)"
   ]
  },
  {
   "cell_type": "markdown",
   "metadata": {},
   "source": [
    "## Create a list of clips to generate"
   ]
  },
  {
   "cell_type": "code",
   "execution_count": null,
   "metadata": {},
   "outputs": [],
   "source": [
    "# Query the koster lab database to randomly select n clips from movie sections that haven't been clipped yet\n",
    "clip_list\n"
   ]
  },
  {
   "cell_type": "markdown",
   "metadata": {},
   "source": [
    "## Generate the clips"
   ]
  },
  {
   "cell_type": "markdown",
   "metadata": {},
   "source": [
    "Use the list generated in the previous step to select movie files and split them into small sections of video (clips). Update the Koster lab database and subject_metadata when the clip has succesfully been generated."
   ]
  },
  {
   "cell_type": "code",
   "execution_count": null,
   "metadata": {},
   "outputs": [],
   "source": [
    "#Create empty subject metadata to keep track of the clips generated\n",
    "subject_metadata = {}\n",
    "\n",
    "# Generate one clip at the time, update the koster lab database and the subject_metadata\n",
    "for clip in clip_list:\n",
    "    # Generate and store the clip\n",
    "    subject_filename = str(video_filename) + \"_\" + str(int(clip_start)) + \".mp4\"\n",
    "    fileoutput = location + os.sep + subject_filename\n",
    "    subprocess.call([\"ffmpeg\", \"-ss\", str(clip_start), \"-t\", clip_duration, \"-i\", video_filename, \"-c\", \"copy\", \"-force_key_frames\", \"1\", fileoutput])\n",
    "    \n",
    "     # Add clip information to the koster lab database\n",
    "    clip_id = \n",
    "    filename = subject_filename\n",
    "    start_time = clip_start\n",
    "    end_time = clip_start + clip_duration\n",
    "    clip_date = date.today().strftime(\"%d_%m_%Y\")\n",
    "    \n",
    "    # Add clip information to the subject_metadata\n",
    "    subject_metadata[clip] = {'filename': subject_filename, '#start_time': start_time, '#end_time': end_time}\n",
    "\n",
    "print(len(clip_list), ' clips have been generated in ', location, '.')"
   ]
  },
  {
   "cell_type": "markdown",
   "metadata": {},
   "source": [
    "## Create Zooniverse dataset to upload the clips"
   ]
  },
  {
   "cell_type": "code",
   "execution_count": null,
   "metadata": {},
   "outputs": [],
   "source": [
    "# Create a new subject set (the Zooniverse dataset that will store the clips)\n",
    "set_name = input('clips_'+ date.today().strftime(\"%d_%m_%Y\"))\n",
    "previous_subjects = []\n",
    "\n",
    "try:\n",
    "    # check if the subject set already exits\n",
    "    subject_set = SubjectSet.where(project_id=koster_project.id, display_name=set_name).next()\n",
    "    print('You have chosen to upload ', len(subject_metadata), ' files to an existing subject set',  set_name)\n",
    "    retry = input('Enter \"n\" to cancel this upload, any other key to continue' + '\\n')\n",
    "    if retry.lower() == 'n':\n",
    "        quit()\n",
    "    for subject in subject_set.subjects:\n",
    "        previous_subjects.append(subject.metadata['filename'])\n",
    "except StopIteration:\n",
    "    print('You have chosen to upload ', len(subject_metadata), ' files to an new subject set ',  set_name)\n",
    "    retry = input('Enter \"n\" to cancel this upload, any other key to continue' + '\\n')\n",
    "    if retry.lower() == 'n':\n",
    "        quit()\n",
    "    # create a new subject set for the new data and link it to the project above\n",
    "    subject_set = SubjectSet()\n",
    "    subject_set.links.project = koster_project\n",
    "    subject_set.display_name = set_name\n",
    "    subject_set.save()"
   ]
  },
  {
   "cell_type": "markdown",
   "metadata": {},
   "source": [
    "## Upload clips to Zooniverse"
   ]
  },
  {
   "cell_type": "code",
   "execution_count": null,
   "metadata": {},
   "outputs": [],
   "source": [
    "# Upload the clips to the project\n",
    "print('Uploading subjects, this could take a while!')\n",
    "new_subjects = 0\n",
    "\n",
    "for filename, metadata in subject_metadata.items():\n",
    "    try:\n",
    "        if filename not in previous_subjects:\n",
    "            subject = Subject()\n",
    "            subject.links.project = koster_project\n",
    "            subject.add_location(location + os.sep + filename)\n",
    "            subject.metadata.update(metadata)\n",
    "            subject.save()\n",
    "            subject_set.add(subject.id)\n",
    "            print(filename)\n",
    "            new_subjects += 1\n",
    "    except panoptes_client.panoptes.PanoptesAPIException:\n",
    "        print('An error occurred during the upload of ', filename)\n",
    "print(new_subjects, 'new subjects created and uploaded')\n",
    "\n",
    "#Generate a csv file with all the uploaded clips\n",
    "uploaded = 0\n",
    "with open(location + os.sep + 'Uploaded subjects.csv', 'wt') as file:\n",
    "    subject_set = SubjectSet.where(project_id=koster_project.id, display_name=set_name).next()\n",
    "    for subject in subject_set.subjects:\n",
    "        uploaded += 1\n",
    "        file.write(subject.id + ',' + list(subject.metadata.values())[0] + '\\n')\n",
    "    print(uploaded, ' subjects found in the subject set, see the full list in Uploaded subjects.csv.')"
   ]
  }
 ],
 "metadata": {
  "kernelspec": {
   "display_name": "Python 3",
   "language": "python",
   "name": "python3"
  },
  "language_info": {
   "codemirror_mode": {
    "name": "ipython",
    "version": 3
   },
   "file_extension": ".py",
   "mimetype": "text/x-python",
   "name": "python",
   "nbconvert_exporter": "python",
   "pygments_lexer": "ipython3",
   "version": "3.7.4"
  }
 },
 "nbformat": 4,
 "nbformat_minor": 2
}
